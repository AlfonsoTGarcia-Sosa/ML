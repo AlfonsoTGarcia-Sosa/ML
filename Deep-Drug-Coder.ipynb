{
  "nbformat": 4,
  "nbformat_minor": 0,
  "metadata": {
    "colab": {
      "name": "Untitled0.ipynb",
      "provenance": [],
      "authorship_tag": "ABX9TyPgE40t6ITGU6T3QkboyfmR",
      "include_colab_link": true
    },
    "kernelspec": {
      "name": "python3",
      "display_name": "Python 3"
    },
    "accelerator": "GPU"
  },
  "cells": [
    {
      "cell_type": "markdown",
      "metadata": {
        "id": "view-in-github",
        "colab_type": "text"
      },
      "source": [
        "<a href=\"https://colab.research.google.com/github/AlfonsoTGarcia-Sosa/ML/blob/master/Deep-Drug-Coder.ipynb\" target=\"_parent\"><img src=\"https://colab.research.google.com/assets/colab-badge.svg\" alt=\"Open In Colab\"/></a>"
      ]
    },
    {
      "cell_type": "code",
      "metadata": {
        "colab": {
          "base_uri": "https://localhost:8080/"
        },
        "id": "Yz1ZhK1eYWF6",
        "outputId": "6f4098a2-88a6-4f5a-8844-1e841516a930"
      },
      "source": [
        "!wget -c https://repo.anaconda.com/miniconda/Miniconda3-latest-Linux-x86_64.sh\n",
        "!chmod +x Miniconda3-latest-Linux-x86_64.sh\n",
        "!bash ./Miniconda3-latest-Linux-x86_64.sh -b -f -p /usr/local"
      ],
      "execution_count": 1,
      "outputs": [
        {
          "output_type": "stream",
          "text": [
            "--2021-02-20 17:02:29--  https://repo.anaconda.com/miniconda/Miniconda3-latest-Linux-x86_64.sh\n",
            "Resolving repo.anaconda.com (repo.anaconda.com)... 104.16.130.3, 104.16.131.3, 2606:4700::6810:8303, ...\n",
            "Connecting to repo.anaconda.com (repo.anaconda.com)|104.16.130.3|:443... connected.\n",
            "HTTP request sent, awaiting response... 200 OK\n",
            "Length: 94235922 (90M) [application/x-sh]\n",
            "Saving to: ‘Miniconda3-latest-Linux-x86_64.sh’\n",
            "\n",
            "Miniconda3-latest-L 100%[===================>]  89.87M   198MB/s    in 0.5s    \n",
            "\n",
            "2021-02-20 17:02:30 (198 MB/s) - ‘Miniconda3-latest-Linux-x86_64.sh’ saved [94235922/94235922]\n",
            "\n",
            "PREFIX=/usr/local\n",
            "Unpacking payload ...\n",
            "Collecting package metadata (current_repodata.json): - \b\b\\ \b\b| \b\bdone\n",
            "Solving environment: - \b\b\\ \b\bdone\n",
            "\n",
            "## Package Plan ##\n",
            "\n",
            "  environment location: /usr/local\n",
            "\n",
            "  added / updated specs:\n",
            "    - _libgcc_mutex==0.1=main\n",
            "    - brotlipy==0.7.0=py38h27cfd23_1003\n",
            "    - ca-certificates==2020.10.14=0\n",
            "    - certifi==2020.6.20=pyhd3eb1b0_3\n",
            "    - cffi==1.14.3=py38h261ae71_2\n",
            "    - chardet==3.0.4=py38h06a4308_1003\n",
            "    - conda-package-handling==1.7.2=py38h03888b9_0\n",
            "    - conda==4.9.2=py38h06a4308_0\n",
            "    - cryptography==3.2.1=py38h3c74f83_1\n",
            "    - idna==2.10=py_0\n",
            "    - ld_impl_linux-64==2.33.1=h53a641e_7\n",
            "    - libedit==3.1.20191231=h14c3975_1\n",
            "    - libffi==3.3=he6710b0_2\n",
            "    - libgcc-ng==9.1.0=hdf63c60_0\n",
            "    - libstdcxx-ng==9.1.0=hdf63c60_0\n",
            "    - ncurses==6.2=he6710b0_1\n",
            "    - openssl==1.1.1h=h7b6447c_0\n",
            "    - pip==20.2.4=py38h06a4308_0\n",
            "    - pycosat==0.6.3=py38h7b6447c_1\n",
            "    - pycparser==2.20=py_2\n",
            "    - pyopenssl==19.1.0=pyhd3eb1b0_1\n",
            "    - pysocks==1.7.1=py38h06a4308_0\n",
            "    - python==3.8.5=h7579374_1\n",
            "    - readline==8.0=h7b6447c_0\n",
            "    - requests==2.24.0=py_0\n",
            "    - ruamel_yaml==0.15.87=py38h7b6447c_1\n",
            "    - setuptools==50.3.1=py38h06a4308_1\n",
            "    - six==1.15.0=py38h06a4308_0\n",
            "    - sqlite==3.33.0=h62c20be_0\n",
            "    - tk==8.6.10=hbc83047_0\n",
            "    - tqdm==4.51.0=pyhd3eb1b0_0\n",
            "    - urllib3==1.25.11=py_0\n",
            "    - wheel==0.35.1=pyhd3eb1b0_0\n",
            "    - xz==5.2.5=h7b6447c_0\n",
            "    - yaml==0.2.5=h7b6447c_0\n",
            "    - zlib==1.2.11=h7b6447c_3\n",
            "\n",
            "\n",
            "The following NEW packages will be INSTALLED:\n",
            "\n",
            "  _libgcc_mutex      pkgs/main/linux-64::_libgcc_mutex-0.1-main\n",
            "  brotlipy           pkgs/main/linux-64::brotlipy-0.7.0-py38h27cfd23_1003\n",
            "  ca-certificates    pkgs/main/linux-64::ca-certificates-2020.10.14-0\n",
            "  certifi            pkgs/main/noarch::certifi-2020.6.20-pyhd3eb1b0_3\n",
            "  cffi               pkgs/main/linux-64::cffi-1.14.3-py38h261ae71_2\n",
            "  chardet            pkgs/main/linux-64::chardet-3.0.4-py38h06a4308_1003\n",
            "  conda              pkgs/main/linux-64::conda-4.9.2-py38h06a4308_0\n",
            "  conda-package-han~ pkgs/main/linux-64::conda-package-handling-1.7.2-py38h03888b9_0\n",
            "  cryptography       pkgs/main/linux-64::cryptography-3.2.1-py38h3c74f83_1\n",
            "  idna               pkgs/main/noarch::idna-2.10-py_0\n",
            "  ld_impl_linux-64   pkgs/main/linux-64::ld_impl_linux-64-2.33.1-h53a641e_7\n",
            "  libedit            pkgs/main/linux-64::libedit-3.1.20191231-h14c3975_1\n",
            "  libffi             pkgs/main/linux-64::libffi-3.3-he6710b0_2\n",
            "  libgcc-ng          pkgs/main/linux-64::libgcc-ng-9.1.0-hdf63c60_0\n",
            "  libstdcxx-ng       pkgs/main/linux-64::libstdcxx-ng-9.1.0-hdf63c60_0\n",
            "  ncurses            pkgs/main/linux-64::ncurses-6.2-he6710b0_1\n",
            "  openssl            pkgs/main/linux-64::openssl-1.1.1h-h7b6447c_0\n",
            "  pip                pkgs/main/linux-64::pip-20.2.4-py38h06a4308_0\n",
            "  pycosat            pkgs/main/linux-64::pycosat-0.6.3-py38h7b6447c_1\n",
            "  pycparser          pkgs/main/noarch::pycparser-2.20-py_2\n",
            "  pyopenssl          pkgs/main/noarch::pyopenssl-19.1.0-pyhd3eb1b0_1\n",
            "  pysocks            pkgs/main/linux-64::pysocks-1.7.1-py38h06a4308_0\n",
            "  python             pkgs/main/linux-64::python-3.8.5-h7579374_1\n",
            "  readline           pkgs/main/linux-64::readline-8.0-h7b6447c_0\n",
            "  requests           pkgs/main/noarch::requests-2.24.0-py_0\n",
            "  ruamel_yaml        pkgs/main/linux-64::ruamel_yaml-0.15.87-py38h7b6447c_1\n",
            "  setuptools         pkgs/main/linux-64::setuptools-50.3.1-py38h06a4308_1\n",
            "  six                pkgs/main/linux-64::six-1.15.0-py38h06a4308_0\n",
            "  sqlite             pkgs/main/linux-64::sqlite-3.33.0-h62c20be_0\n",
            "  tk                 pkgs/main/linux-64::tk-8.6.10-hbc83047_0\n",
            "  tqdm               pkgs/main/noarch::tqdm-4.51.0-pyhd3eb1b0_0\n",
            "  urllib3            pkgs/main/noarch::urllib3-1.25.11-py_0\n",
            "  wheel              pkgs/main/noarch::wheel-0.35.1-pyhd3eb1b0_0\n",
            "  xz                 pkgs/main/linux-64::xz-5.2.5-h7b6447c_0\n",
            "  yaml               pkgs/main/linux-64::yaml-0.2.5-h7b6447c_0\n",
            "  zlib               pkgs/main/linux-64::zlib-1.2.11-h7b6447c_3\n",
            "\n",
            "\n",
            "Preparing transaction: / \b\b- \b\b\\ \b\bdone\n",
            "Executing transaction: / \b\b- \b\b\\ \b\b| \b\b/ \b\b- \b\b\\ \b\b| \b\b/ \b\b- \b\b\\ \b\b| \b\bdone\n",
            "installation finished.\n",
            "WARNING:\n",
            "    You currently have a PYTHONPATH environment variable set. This may cause\n",
            "    unexpected behavior when running the Python interpreter in Miniconda3.\n",
            "    For best results, please verify that your PYTHONPATH only points to\n",
            "    directories of packages that are compatible with the Python interpreter\n",
            "    in Miniconda3: /usr/local\n"
          ],
          "name": "stdout"
        }
      ]
    },
    {
      "cell_type": "code",
      "metadata": {
        "colab": {
          "base_uri": "https://localhost:8080/"
        },
        "id": "0qEifnbtZlKs",
        "outputId": "cfb88f40-36a8-4e19-dd7d-d11a521f55f8"
      },
      "source": [
        "!git clone https://github.com/EBjerrum/molvecgen"
      ],
      "execution_count": 2,
      "outputs": [
        {
          "output_type": "stream",
          "text": [
            "Cloning into 'molvecgen'...\n",
            "remote: Enumerating objects: 15, done.\u001b[K\n",
            "remote: Counting objects: 100% (15/15), done.\u001b[K\n",
            "remote: Compressing objects: 100% (14/14), done.\u001b[K\n",
            "remote: Total 57 (delta 4), reused 7 (delta 1), pack-reused 42\u001b[K\n",
            "Unpacking objects: 100% (57/57), done.\n"
          ],
          "name": "stdout"
        }
      ]
    },
    {
      "cell_type": "code",
      "metadata": {
        "colab": {
          "base_uri": "https://localhost:8080/"
        },
        "id": "tMfMc03QZ152",
        "outputId": "529321dc-e7bc-4ec9-c5e1-2f797da6e708"
      },
      "source": [
        "%ls"
      ],
      "execution_count": 3,
      "outputs": [
        {
          "output_type": "stream",
          "text": [
            "\u001b[0m\u001b[01;32mMiniconda3-latest-Linux-x86_64.sh\u001b[0m*  \u001b[01;34mmolvecgen\u001b[0m/  \u001b[01;34msample_data\u001b[0m/\n"
          ],
          "name": "stdout"
        }
      ]
    },
    {
      "cell_type": "code",
      "metadata": {
        "colab": {
          "base_uri": "https://localhost:8080/"
        },
        "id": "qBPlIGfpZ5Fr",
        "outputId": "c94d73de-e8a4-4fb8-ecb2-9fae7ddf7ce6"
      },
      "source": [
        "cd molvecgen/\n"
      ],
      "execution_count": 4,
      "outputs": [
        {
          "output_type": "stream",
          "text": [
            "/content/molvecgen\n"
          ],
          "name": "stdout"
        }
      ]
    },
    {
      "cell_type": "code",
      "metadata": {
        "colab": {
          "base_uri": "https://localhost:8080/"
        },
        "id": "WTkIlfL7aBE6",
        "outputId": "02ad6dbc-e0e2-49e1-ed21-0d84916de033"
      },
      "source": [
        "%ls\n"
      ],
      "execution_count": 7,
      "outputs": [
        {
          "output_type": "stream",
          "text": [
            "Examples.ipynb  LICENSE  \u001b[0m\u001b[01;34mmolvecgen\u001b[0m/  README.md  setup.py\n"
          ],
          "name": "stdout"
        }
      ]
    },
    {
      "cell_type": "code",
      "metadata": {
        "colab": {
          "base_uri": "https://localhost:8080/"
        },
        "id": "1ea2mWpiaL1i",
        "outputId": "1726b517-b8a7-4211-e55f-948739c3fe60"
      },
      "source": [
        "!python setup.py install"
      ],
      "execution_count": 8,
      "outputs": [
        {
          "output_type": "stream",
          "text": [
            "running install\n",
            "running bdist_egg\n",
            "running egg_info\n",
            "creating molvecgen.egg-info\n",
            "writing molvecgen.egg-info/PKG-INFO\n",
            "writing dependency_links to molvecgen.egg-info/dependency_links.txt\n",
            "writing requirements to molvecgen.egg-info/requires.txt\n",
            "writing top-level names to molvecgen.egg-info/top_level.txt\n",
            "writing manifest file 'molvecgen.egg-info/SOURCES.txt'\n",
            "reading manifest file 'molvecgen.egg-info/SOURCES.txt'\n",
            "writing manifest file 'molvecgen.egg-info/SOURCES.txt'\n",
            "installing library code to build/bdist.linux-x86_64/egg\n",
            "running install_lib\n",
            "running build_py\n",
            "creating build\n",
            "creating build/lib\n",
            "creating build/lib/molvecgen\n",
            "copying molvecgen/vectorizers.py -> build/lib/molvecgen\n",
            "copying molvecgen/generators.py -> build/lib/molvecgen\n",
            "copying molvecgen/__init__.py -> build/lib/molvecgen\n",
            "creating build/bdist.linux-x86_64\n",
            "creating build/bdist.linux-x86_64/egg\n",
            "creating build/bdist.linux-x86_64/egg/molvecgen\n",
            "copying build/lib/molvecgen/vectorizers.py -> build/bdist.linux-x86_64/egg/molvecgen\n",
            "copying build/lib/molvecgen/generators.py -> build/bdist.linux-x86_64/egg/molvecgen\n",
            "copying build/lib/molvecgen/__init__.py -> build/bdist.linux-x86_64/egg/molvecgen\n",
            "byte-compiling build/bdist.linux-x86_64/egg/molvecgen/vectorizers.py to vectorizers.cpython-38.pyc\n",
            "byte-compiling build/bdist.linux-x86_64/egg/molvecgen/generators.py to generators.cpython-38.pyc\n",
            "byte-compiling build/bdist.linux-x86_64/egg/molvecgen/__init__.py to __init__.cpython-38.pyc\n",
            "creating build/bdist.linux-x86_64/egg/EGG-INFO\n",
            "copying molvecgen.egg-info/PKG-INFO -> build/bdist.linux-x86_64/egg/EGG-INFO\n",
            "copying molvecgen.egg-info/SOURCES.txt -> build/bdist.linux-x86_64/egg/EGG-INFO\n",
            "copying molvecgen.egg-info/dependency_links.txt -> build/bdist.linux-x86_64/egg/EGG-INFO\n",
            "copying molvecgen.egg-info/not-zip-safe -> build/bdist.linux-x86_64/egg/EGG-INFO\n",
            "copying molvecgen.egg-info/requires.txt -> build/bdist.linux-x86_64/egg/EGG-INFO\n",
            "copying molvecgen.egg-info/top_level.txt -> build/bdist.linux-x86_64/egg/EGG-INFO\n",
            "creating dist\n",
            "creating 'dist/molvecgen-0.1-py3.8.egg' and adding 'build/bdist.linux-x86_64/egg' to it\n",
            "removing 'build/bdist.linux-x86_64/egg' (and everything under it)\n",
            "Processing molvecgen-0.1-py3.8.egg\n",
            "creating /usr/local/lib/python3.8/site-packages/molvecgen-0.1-py3.8.egg\n",
            "Extracting molvecgen-0.1-py3.8.egg to /usr/local/lib/python3.8/site-packages\n",
            "Adding molvecgen 0.1 to easy-install.pth file\n",
            "\n",
            "Installed /usr/local/lib/python3.8/site-packages/molvecgen-0.1-py3.8.egg\n",
            "Processing dependencies for molvecgen==0.1\n",
            "Searching for numpy\n",
            "Reading https://pypi.org/simple/numpy/\n",
            "Downloading https://files.pythonhosted.org/packages/c7/e6/dccac76b7e825915ffb906beeba5a953597b6cfe1fe686b5276e122cb07c/numpy-1.20.1-cp38-cp38-manylinux2010_x86_64.whl#sha256=7199109fa46277be503393be9250b983f325880766f847885607d9b13848f257\n",
            "Best match: numpy 1.20.1\n",
            "Processing numpy-1.20.1-cp38-cp38-manylinux2010_x86_64.whl\n",
            "Installing numpy-1.20.1-cp38-cp38-manylinux2010_x86_64.whl to /usr/local/lib/python3.8/site-packages\n",
            "Adding numpy 1.20.1 to easy-install.pth file\n",
            "Installing f2py script to /usr/local/bin\n",
            "Installing f2py3 script to /usr/local/bin\n",
            "Installing f2py3.8 script to /usr/local/bin\n",
            "\n",
            "Installed /usr/local/lib/python3.8/site-packages/numpy-1.20.1-py3.8-linux-x86_64.egg\n",
            "Finished processing dependencies for molvecgen==0.1\n"
          ],
          "name": "stdout"
        }
      ]
    },
    {
      "cell_type": "code",
      "metadata": {
        "colab": {
          "base_uri": "https://localhost:8080/"
        },
        "id": "Y7XtpWJtaS40",
        "outputId": "817f448f-654c-4bb1-8080-b8c2fddbecae"
      },
      "source": [
        "cd ../\n"
      ],
      "execution_count": 9,
      "outputs": [
        {
          "output_type": "stream",
          "text": [
            "/content\n"
          ],
          "name": "stdout"
        }
      ]
    },
    {
      "cell_type": "code",
      "metadata": {
        "colab": {
          "base_uri": "https://localhost:8080/"
        },
        "id": "kAW-Swh2a30R",
        "outputId": "8ec24748-3f25-44c0-bc46-498ca3289eab"
      },
      "source": [
        "%ls\n"
      ],
      "execution_count": 10,
      "outputs": [
        {
          "output_type": "stream",
          "text": [
            "\u001b[0m\u001b[01;32mMiniconda3-latest-Linux-x86_64.sh\u001b[0m*  \u001b[01;34mmolvecgen\u001b[0m/  \u001b[01;34msample_data\u001b[0m/\n"
          ],
          "name": "stdout"
        }
      ]
    },
    {
      "cell_type": "code",
      "metadata": {
        "colab": {
          "base_uri": "https://localhost:8080/"
        },
        "id": "T3pOatPMa7CH",
        "outputId": "c430c46e-8251-4488-d1c0-508ec8a4dba5"
      },
      "source": [
        "!curl -s https://packagecloud.io/install/repositories/github/git-lfs/script.deb.sh "
      ],
      "execution_count": 11,
      "outputs": [
        {
          "output_type": "stream",
          "text": [
            "#!/bin/bash\n",
            "\n",
            "unknown_os ()\n",
            "{\n",
            "  echo \"Unfortunately, your operating system distribution and version are not supported by this script.\"\n",
            "  echo\n",
            "  echo \"You can override the OS detection by setting os= and dist= prior to running this script.\"\n",
            "  echo \"You can find a list of supported OSes and distributions on our website: https://packagecloud.io/docs#os_distro_version\"\n",
            "  echo\n",
            "  echo \"For example, to force Ubuntu Trusty: os=ubuntu dist=trusty ./script.sh\"\n",
            "  echo\n",
            "  echo \"Please email support@packagecloud.io and let us know if you run into any issues.\"\n",
            "  exit 1\n",
            "}\n",
            "\n",
            "gpg_check ()\n",
            "{\n",
            "  echo \"Checking for gpg...\"\n",
            "  if command -v gpg > /dev/null; then\n",
            "    echo \"Detected gpg...\"\n",
            "  else\n",
            "    echo \"Installing gnupg for GPG verification...\"\n",
            "    apt-get install -y gnupg\n",
            "    if [ \"$?\" -ne \"0\" ]; then\n",
            "      echo \"Unable to install GPG! Your base system has a problem; please check your default OS's package repositories because GPG should work.\"\n",
            "      echo \"Repository installation aborted.\"\n",
            "      exit 1\n",
            "    fi\n",
            "  fi\n",
            "}\n",
            "\n",
            "curl_check ()\n",
            "{\n",
            "  echo \"Checking for curl...\"\n",
            "  if command -v curl > /dev/null; then\n",
            "    echo \"Detected curl...\"\n",
            "  else\n",
            "    echo \"Installing curl...\"\n",
            "    apt-get install -q -y curl\n",
            "    if [ \"$?\" -ne \"0\" ]; then\n",
            "      echo \"Unable to install curl! Your base system has a problem; please check your default OS's package repositories because curl should work.\"\n",
            "      echo \"Repository installation aborted.\"\n",
            "      exit 1\n",
            "    fi\n",
            "  fi\n",
            "}\n",
            "\n",
            "install_debian_keyring ()\n",
            "{\n",
            "  if [ \"${os}\" = \"debian\" ]; then\n",
            "    echo \"Installing debian-archive-keyring which is needed for installing \"\n",
            "    echo \"apt-transport-https on many Debian systems.\"\n",
            "    apt-get install -y debian-archive-keyring &> /dev/null\n",
            "  fi\n",
            "}\n",
            "\n",
            "\n",
            "detect_os ()\n",
            "{\n",
            "  if [[ ( -z \"${os}\" ) && ( -z \"${dist}\" ) ]]; then\n",
            "    # some systems dont have lsb-release yet have the lsb_release binary and\n",
            "    # vice-versa\n",
            "    if [ -e /etc/lsb-release ]; then\n",
            "      . /etc/lsb-release\n",
            "\n",
            "      if [ \"${ID}\" = \"raspbian\" ]; then\n",
            "        os=${ID}\n",
            "        dist=`cut --delimiter='.' -f1 /etc/debian_version`\n",
            "      else\n",
            "        os=${DISTRIB_ID}\n",
            "        dist=${DISTRIB_CODENAME}\n",
            "\n",
            "        if [ -z \"$dist\" ]; then\n",
            "          dist=${DISTRIB_RELEASE}\n",
            "        fi\n",
            "      fi\n",
            "\n",
            "    elif [ `which lsb_release 2>/dev/null` ]; then\n",
            "      dist=`lsb_release -c | cut -f2`\n",
            "      os=`lsb_release -i | cut -f2 | awk '{ print tolower($1) }'`\n",
            "\n",
            "    elif [ -e /etc/debian_version ]; then\n",
            "      # some Debians have jessie/sid in their /etc/debian_version\n",
            "      # while others have '6.0.7'\n",
            "      os=`cat /etc/issue | head -1 | awk '{ print tolower($1) }'`\n",
            "      if grep -q '/' /etc/debian_version; then\n",
            "        dist=`cut --delimiter='/' -f1 /etc/debian_version`\n",
            "      else\n",
            "        dist=`cut --delimiter='.' -f1 /etc/debian_version`\n",
            "      fi\n",
            "\n",
            "    else\n",
            "      unknown_os\n",
            "    fi\n",
            "  fi\n",
            "\n",
            "  if [ -z \"$dist\" ]; then\n",
            "    unknown_os\n",
            "  fi\n",
            "\n",
            "  # remove whitespace from OS and dist name\n",
            "  os=\"${os// /}\"\n",
            "  dist=\"${dist// /}\"\n",
            "\n",
            "  echo \"Detected operating system as $os/$dist.\"\n",
            "}\n",
            "\n",
            "main ()\n",
            "{\n",
            "  detect_os\n",
            "  curl_check\n",
            "  gpg_check\n",
            "\n",
            "  # Need to first run apt-get update so that apt-transport-https can be\n",
            "  # installed\n",
            "  echo -n \"Running apt-get update... \"\n",
            "  apt-get update &> /dev/null\n",
            "  echo \"done.\"\n",
            "\n",
            "  # Install the debian-archive-keyring package on debian systems so that\n",
            "  # apt-transport-https can be installed next\n",
            "  install_debian_keyring\n",
            "\n",
            "  echo -n \"Installing apt-transport-https... \"\n",
            "  apt-get install -y apt-transport-https &> /dev/null\n",
            "  echo \"done.\"\n",
            "\n",
            "\n",
            "  gpg_key_url=\"https://packagecloud.io/github/git-lfs/gpgkey\"\n",
            "  apt_config_url=\"https://packagecloud.io/install/repositories/github/git-lfs/config_file.list?os=${os}&dist=${dist}&source=script\"\n",
            "\n",
            "  apt_source_path=\"/etc/apt/sources.list.d/github_git-lfs.list\"\n",
            "\n",
            "  echo -n \"Installing $apt_source_path...\"\n",
            "\n",
            "  # create an apt config file for this repository\n",
            "  curl -sSf \"${apt_config_url}\" > $apt_source_path\n",
            "  curl_exit_code=$?\n",
            "\n",
            "  if [ \"$curl_exit_code\" = \"22\" ]; then\n",
            "    echo\n",
            "    echo\n",
            "    echo -n \"Unable to download repo config from: \"\n",
            "    echo \"${apt_config_url}\"\n",
            "    echo\n",
            "    echo \"This usually happens if your operating system is not supported by \"\n",
            "    echo \"packagecloud.io, or this script's OS detection failed.\"\n",
            "    echo\n",
            "    echo \"You can override the OS detection by setting os= and dist= prior to running this script.\"\n",
            "    echo \"You can find a list of supported OSes and distributions on our website: https://packagecloud.io/docs#os_distro_version\"\n",
            "    echo\n",
            "    echo \"For example, to force Ubuntu Trusty: os=ubuntu dist=trusty ./script.sh\"\n",
            "    echo\n",
            "    echo \"If you are running a supported OS, please email support@packagecloud.io and report this.\"\n",
            "    [ -e $apt_source_path ] && rm $apt_source_path\n",
            "    exit 1\n",
            "  elif [ \"$curl_exit_code\" = \"35\" -o \"$curl_exit_code\" = \"60\" ]; then\n",
            "    echo \"curl is unable to connect to packagecloud.io over TLS when running: \"\n",
            "    echo \"    curl ${apt_config_url}\"\n",
            "    echo \"This is usually due to one of two things:\"\n",
            "    echo\n",
            "    echo \" 1.) Missing CA root certificates (make sure the ca-certificates package is installed)\"\n",
            "    echo \" 2.) An old version of libssl. Try upgrading libssl on your system to a more recent version\"\n",
            "    echo\n",
            "    echo \"Contact support@packagecloud.io with information about your system for help.\"\n",
            "    [ -e $apt_source_path ] && rm $apt_source_path\n",
            "    exit 1\n",
            "  elif [ \"$curl_exit_code\" -gt \"0\" ]; then\n",
            "    echo\n",
            "    echo \"Unable to run: \"\n",
            "    echo \"    curl ${apt_config_url}\"\n",
            "    echo\n",
            "    echo \"Double check your curl installation and try again.\"\n",
            "    [ -e $apt_source_path ] && rm $apt_source_path\n",
            "    exit 1\n",
            "  else\n",
            "    echo \"done.\"\n",
            "  fi\n",
            "\n",
            "  echo -n \"Importing packagecloud gpg key... \"\n",
            "  # import the gpg key\n",
            "  curl -L \"${gpg_key_url}\" 2> /dev/null | apt-key add - &>/dev/null\n",
            "  echo \"done.\"\n",
            "\n",
            "  echo -n \"Running apt-get update... \"\n",
            "  # update apt on this system\n",
            "  apt-get update &> /dev/null\n",
            "  echo \"done.\"\n",
            "\n",
            "  echo\n",
            "  echo \"The repository is setup! You can now install packages.\"\n",
            "}\n",
            "\n",
            "main\n",
            "\n"
          ],
          "name": "stdout"
        }
      ]
    },
    {
      "cell_type": "code",
      "metadata": {
        "colab": {
          "base_uri": "https://localhost:8080/"
        },
        "id": "FSjIUXWQbINW",
        "outputId": "1c684718-188c-4889-ebd9-f47ef2b539ee"
      },
      "source": [
        "!apt-get install git-lfs\n"
      ],
      "execution_count": 13,
      "outputs": [
        {
          "output_type": "stream",
          "text": [
            "Reading package lists... Done\n",
            "Building dependency tree       \n",
            "Reading state information... Done\n",
            "The following NEW packages will be installed:\n",
            "  git-lfs\n",
            "0 upgraded, 1 newly installed, 0 to remove and 10 not upgraded.\n",
            "Need to get 2,129 kB of archives.\n",
            "After this operation, 7,662 kB of additional disk space will be used.\n",
            "Get:1 http://archive.ubuntu.com/ubuntu bionic/universe amd64 git-lfs amd64 2.3.4-1 [2,129 kB]\n",
            "Fetched 2,129 kB in 1s (1,639 kB/s)\n",
            "Selecting previously unselected package git-lfs.\n",
            "(Reading database ... 146442 files and directories currently installed.)\n",
            "Preparing to unpack .../git-lfs_2.3.4-1_amd64.deb ...\n",
            "Unpacking git-lfs (2.3.4-1) ...\n",
            "Setting up git-lfs (2.3.4-1) ...\n",
            "Processing triggers for man-db (2.8.3-2ubuntu0.1) ...\n"
          ],
          "name": "stdout"
        }
      ]
    },
    {
      "cell_type": "code",
      "metadata": {
        "colab": {
          "base_uri": "https://localhost:8080/"
        },
        "id": "HYta2h9mbP2s",
        "outputId": "abddb600-b30f-41b4-ba65-b4c21f58b331"
      },
      "source": [
        "!git lfs install"
      ],
      "execution_count": 15,
      "outputs": [
        {
          "output_type": "stream",
          "text": [
            "Error: Failed to call git rev-parse --git-dir --show-toplevel: \"fatal: not a git repository (or any of the parent directories): .git\\n\"\n",
            "Git LFS initialized.\n"
          ],
          "name": "stdout"
        }
      ]
    },
    {
      "cell_type": "code",
      "metadata": {
        "colab": {
          "base_uri": "https://localhost:8080/"
        },
        "id": "JiztZWX4beZ6",
        "outputId": "9a539d4c-2609-41f8-bbb3-6edfc84f24bc"
      },
      "source": [
        "!git clone https://github.com/pcko1/Deep-Drug-Coder"
      ],
      "execution_count": 16,
      "outputs": [
        {
          "output_type": "stream",
          "text": [
            "Cloning into 'Deep-Drug-Coder'...\n",
            "remote: Enumerating objects: 59, done.\u001b[K\n",
            "remote: Counting objects: 100% (59/59), done.\u001b[K\n",
            "remote: Compressing objects: 100% (24/24), done.\u001b[K\n",
            "remote: Total 396 (delta 47), reused 35 (delta 35), pack-reused 337\u001b[K\n",
            "Receiving objects: 100% (396/396), 118.38 MiB | 34.29 MiB/s, done.\n",
            "Resolving deltas: 100% (176/176), done.\n",
            "tcmalloc: large alloc 1471086592 bytes == 0x559ab05ee000 @  0x7f3c442942a4 0x559a735d2a0f 0x559a735afc8b 0x559a73564e33 0x559a7350913a 0x559a735095f6 0x559a73526361 0x559a735268f9 0x559a73526e23 0x559a735cb702 0x559a7346d112 0x559a73453a15 0x559a734546d5 0x559a734536da 0x7f3c435dabf7 0x559a7345372a\n",
            "tcmalloc: large alloc 2206621696 bytes == 0x559b080de000 @  0x7f3c442942a4 0x559a735d2a0f 0x559a735afc8b 0x559a73564e33 0x559a7350913a 0x559a735095f6 0x559a73526361 0x559a735268f9 0x559a73526e23 0x559a735cb702 0x559a7346d112 0x559a73453a15 0x559a734546d5 0x559a734536da 0x7f3c435dabf7 0x559a7345372a\n",
            "Filtering content: 100% (5/5), 1.74 GiB | 27.15 MiB/s, done.\n"
          ],
          "name": "stdout"
        }
      ]
    },
    {
      "cell_type": "code",
      "metadata": {
        "colab": {
          "base_uri": "https://localhost:8080/"
        },
        "id": "kjncO4Ufb_kf",
        "outputId": "29312314-d836-4803-bfa5-ae8c2491056e"
      },
      "source": [
        "%ls"
      ],
      "execution_count": 17,
      "outputs": [
        {
          "output_type": "stream",
          "text": [
            "\u001b[0m\u001b[01;34mDeep-Drug-Coder\u001b[0m/  \u001b[01;32mMiniconda3-latest-Linux-x86_64.sh\u001b[0m*  \u001b[01;34mmolvecgen\u001b[0m/  \u001b[01;34msample_data\u001b[0m/\n"
          ],
          "name": "stdout"
        }
      ]
    },
    {
      "cell_type": "code",
      "metadata": {
        "colab": {
          "base_uri": "https://localhost:8080/"
        },
        "id": "V9tJWHbQcDqw",
        "outputId": "dd4ea825-70f8-4ce2-cdb4-3be66fba9e9f"
      },
      "source": [
        "cd Deep-Drug-Coder/"
      ],
      "execution_count": 18,
      "outputs": [
        {
          "output_type": "stream",
          "text": [
            "/content/Deep-Drug-Coder\n"
          ],
          "name": "stdout"
        }
      ]
    },
    {
      "cell_type": "code",
      "metadata": {
        "colab": {
          "base_uri": "https://localhost:8080/"
        },
        "id": "jhhCaq0ZcG1y",
        "outputId": "cf9465fa-f99e-4eb1-aead-5ad874018320"
      },
      "source": [
        "%ls\n"
      ],
      "execution_count": 19,
      "outputs": [
        {
          "output_type": "stream",
          "text": [
            "\u001b[0m\u001b[01;34mdatasets\u001b[0m/  demo_cRNN.ipynb           \u001b[01;34menv\u001b[0m/      LICENSE  README.md\n",
            "\u001b[01;34mddc_pub\u001b[0m/   demo_heteroencoder.ipynb  \u001b[01;34mfigures\u001b[0m/  \u001b[01;34mmodels\u001b[0m/  setup.py\n"
          ],
          "name": "stdout"
        }
      ]
    },
    {
      "cell_type": "code",
      "metadata": {
        "colab": {
          "base_uri": "https://localhost:8080/"
        },
        "id": "zZDUFUNVb896",
        "outputId": "228582dc-022d-4010-dd29-367d8d0a8ea1"
      },
      "source": [
        "!conda env create -f env/ddc_env.yml"
      ],
      "execution_count": 20,
      "outputs": [
        {
          "output_type": "stream",
          "text": [
            "Collecting package metadata (repodata.json): - \b\b\\ \b\b| \b\b/ \b\b- \b\b\\ \b\b| \b\b/ \b\b- \b\b\\ \b\b| \b\b/ \b\b- \b\b\\ \b\b| \b\b/ \b\b- \b\b\\ \b\b| \b\b/ \b\b- \b\b\\ \b\b| \b\b/ \b\b- \b\b\\ \b\b| \b\b/ \b\b- \b\b\\ \b\b| \b\b/ \b\b- \b\b\\ \b\b| \b\b/ \b\b- \b\b\\ \b\b| \b\b/ \b\b- \b\b\\ \b\b| \b\b/ \b\b- \b\b\\ \b\b| \b\b/ \b\b- \b\b\\ \b\b| \b\b/ \b\b- \b\b\\ \b\b| \b\b/ \b\b- \b\b\\ \b\b| \b\b/ \b\b- \b\b\\ \b\b| \b\b/ \b\b- \b\b\\ \b\b| \b\b/ \b\b- \b\b\\ \b\b| \b\b/ \b\b- \b\b\\ \b\b| \b\b/ \b\b- \b\b\\ \b\b| \b\b/ \b\b- \b\b\\ \b\b| \b\b/ \b\b- \b\b\\ \b\b| \b\b/ \b\b- \b\b\\ \b\b| \b\b/ \b\b- \b\b\\ \b\b| \b\b/ \b\b- \b\b\\ \b\b| \b\b/ \b\b- \b\b\\ \b\b| \b\b/ \b\b- \b\b\\ \b\b| \b\b/ \b\b- \b\b\\ \b\b| \b\b/ \b\b- \b\b\\ \b\b| \b\b/ \b\b- \b\b\\ \b\b| \b\b/ \b\b- \b\b\\ \b\b| \b\b/ \b\b- \b\b\\ \b\b| \b\b/ \b\b- \b\b\\ \b\b| \b\b/ \b\b- \b\b\\ \b\b| \b\b/ \b\b- \b\b\\ \b\b| \b\b/ \b\b- \b\b\\ \b\b| \b\b/ \b\b- \b\b\\ \b\b| \b\b/ \b\b- \b\b\\ \b\b| \b\b/ \b\b- \b\b\\ \b\b| \b\b/ \b\b- \b\b\\ \b\b| \b\b/ \b\b- \b\b\\ \b\b| \b\b/ \b\b- \b\b\\ \b\b| \b\b/ \b\b- \b\b\\ \b\b| \b\b/ \b\b- \b\b\\ \b\b| \b\b/ \b\b- \b\b\\ \b\b| \b\b/ \b\b- \b\b\\ \b\b| \b\b/ \b\b- \b\b\\ \b\b| \b\b/ \b\b- \b\b\\ \b\b| \b\b/ \b\b- \b\b\\ \b\b| \b\b/ \b\b- \b\b\\ \b\b| \b\b/ \b\b- \b\b\\ \b\b| \b\b/ \b\b- \b\b\\ \b\b| \b\b/ \b\b- \b\b\\ \b\b| \b\b/ \b\b- \b\b\\ \b\b| \b\b/ \b\b- \b\b\\ \b\b| \b\b/ \b\b- \b\bdone\n",
            "Solving environment: | \b\b/ \b\b- \b\b\\ \b\b| \b\b/ \b\b- \b\b\\ \b\b| \b\b/ \b\b- \b\b\\ \b\b| \b\b/ \b\b- \b\b\\ \b\b| \b\b/ \b\b- \b\b\\ \b\b| \b\b/ \b\b- \b\b\\ \b\b| \b\b/ \b\b- \b\b\\ \b\b| \b\b/ \b\b- \b\b\\ \b\b| \b\b/ \b\b- \b\b\\ \b\b| \b\b/ \b\b- \b\b\\ \b\b| \b\b/ \b\b- \b\b\\ \b\b| \b\b/ \b\b- \b\b\\ \b\b| \b\b/ \b\b- \b\b\\ \b\b| \b\b/ \b\b- \b\b\\ \b\b| \b\b/ \b\b- \b\b\\ \b\b| \b\b/ \b\b- \b\b\\ \b\b| \b\b/ \b\b- \b\b\\ \b\b| \b\b/ \b\b- \b\b\\ \b\b| \b\b/ \b\b- \b\b\\ \b\b| \b\b/ \b\b- \b\b\\ \b\b| \b\b/ \b\b- \b\b\\ \b\b| \b\b/ \b\b- \b\b\\ \b\b| \b\b/ \b\b- \b\b\\ \b\b| \b\b/ \b\b- \b\b\\ \b\b| \b\b/ \b\b- \b\b\\ \b\b| \b\b/ \b\b- \b\b\\ \b\b| \b\b/ \b\b- \b\b\\ \b\b| \b\b/ \b\b- \b\b\\ \b\b| \b\b/ \b\b- \b\b\\ \b\b| \b\b/ \b\b- \b\b\\ \b\b| \b\b/ \b\b- \b\b\\ \b\b| \b\b/ \b\b- \b\b\\ \b\b| \b\b/ \b\b- \b\b\\ \b\b| \b\b/ \b\b- \b\b\\ \b\b| \b\b/ \b\b- \b\b\\ \b\b| \b\b/ \b\b- \b\b\\ \b\b| \b\b/ \b\b- \b\b\\ \b\b| \b\b/ \b\b- \b\b\\ \b\b| \b\b/ \b\b- \b\b\\ \b\b| \b\bdone\n",
            "\n",
            "Downloading and Extracting Packages\n",
            "libedit-3.1.20191231 | 121 KB    | : 100% 1.0/1 [00:00<00:00,  4.22it/s]                \n",
            "certifi-2020.6.20    | 160 KB    | : 100% 1.0/1 [00:00<00:00, 13.26it/s]\n",
            "defusedxml-0.6.0     | 23 KB     | : 100% 1.0/1 [00:00<00:00, 19.19it/s]\n",
            "dbus-1.13.18         | 586 KB    | : 100% 1.0/1 [00:00<00:00,  7.44it/s]\n",
            "tk-8.6.10            | 3.2 MB    | : 100% 1.0/1 [00:00<00:00,  1.75it/s]\n",
            "numpy-1.19.1         | 20 KB     | : 100% 1.0/1 [00:00<00:00, 29.68it/s]\n",
            "libxml2-2.9.10       | 1.3 MB    | : 100% 1.0/1 [00:00<00:00,  2.84it/s]\n",
            "setuptools-50.3.0    | 891 KB    | : 100% 1.0/1 [00:00<00:00,  4.20it/s]\n",
            "mistune-0.8.4        | 54 KB     | : 100% 1.0/1 [00:00<00:00, 15.29it/s]\n",
            "mkl-service-2.3.0    | 208 KB    | : 100% 1.0/1 [00:00<00:00, 12.42it/s]\n",
            "libxcb-1.14          | 610 KB    | : 100% 1.0/1 [00:00<00:00,  4.79it/s]\n",
            "libboost-1.65.1      | 19.2 MB   | : 100% 1.0/1 [00:06<00:00,  6.28s/it]               \n",
            "cairo-1.14.12        | 1.3 MB    | : 100% 1.0/1 [00:00<00:00,  3.17it/s]\n",
            "statsmodels-0.12.0   | 11.1 MB   | : 100% 1.0/1 [00:02<00:00,  2.54s/it]\n",
            "pixman-0.40.0        | 628 KB    | : 100% 1.0/1 [00:00<00:00,  7.41it/s]\n",
            "cycler-0.10.0        | 13 KB     | : 100% 1.0/1 [00:00<00:00, 17.28it/s]\n",
            "zlib-1.2.11          | 120 KB    | : 100% 1.0/1 [00:00<00:00, 10.70it/s]\n",
            "ncurses-6.2          | 1.1 MB    | : 100% 1.0/1 [00:00<00:00,  2.25it/s]\n",
            "tornado-6.0.4        | 650 KB    | : 100% 1.0/1 [00:00<00:00,  5.92it/s]\n",
            "pcre-8.44            | 269 KB    | : 100% 1.0/1 [00:00<00:00, 13.00it/s]\n",
            "libpng-1.6.37        | 364 KB    | : 100% 1.0/1 [00:00<00:00, 11.84it/s]\n",
            "kiwisolver-1.2.0     | 91 KB     | : 100% 1.0/1 [00:00<00:00, 22.35it/s]\n",
            "ca-certificates-2020 | 128 KB    | : 100% 1.0/1 [00:00<00:00, 11.98it/s]\n",
            "pytz-2020.1          | 239 KB    | : 100% 1.0/1 [00:00<00:00,  8.42it/s]\n",
            "xz-5.2.5             | 438 KB    | : 100% 1.0/1 [00:00<00:00,  6.77it/s]\n",
            "webencodings-0.5.1   | 19 KB     | : 100% 1.0/1 [00:00<00:00, 20.97it/s]\n",
            "lz4-c-1.9.2          | 203 KB    | : 100% 1.0/1 [00:00<00:00, 12.93it/s]\n",
            "pip-20.2.4           | 2.0 MB    | : 100% 1.0/1 [00:00<00:00,  2.08it/s]\n",
            "jsonschema-3.2.0     | 45 KB     | : 100% 1.0/1 [00:00<00:00, 23.09it/s]\n",
            "libuuid-1.0.3        | 16 KB     | : 100% 1.0/1 [00:00<00:00, 19.68it/s]\n",
            "zstd-1.4.4           | 1006 KB   | : 100% 1.0/1 [00:00<00:00,  4.65it/s]\n",
            "ipython_genutils-0.2 | 39 KB     | : 100% 1.0/1 [00:00<00:00, 17.72it/s]\n",
            "icu-58.2             | 22.7 MB   | : 100% 1.0/1 [00:03<00:00,  3.36s/it]\n",
            "libffi-3.2.1         | 52 KB     | : 100% 1.0/1 [00:00<00:00, 18.08it/s]\n",
            "decorator-4.4.2      | 14 KB     | : 100% 1.0/1 [00:00<00:00, 32.28it/s]\n",
            "six-1.15.0           | 13 KB     | : 100% 1.0/1 [00:00<00:00, 16.05it/s]\n",
            "pygments-2.7.1       | 704 KB    | : 100% 1.0/1 [00:00<00:00,  5.60it/s]\n",
            "pandocfilters-1.4.2  | 13 KB     | : 100% 1.0/1 [00:00<00:00, 28.43it/s]\n",
            "lcms2-2.11           | 419 KB    | : 100% 1.0/1 [00:00<00:00,  8.59it/s]\n",
            "pandas-1.1.3         | 10.5 MB   | : 100% 1.0/1 [00:02<00:00,  2.16s/it]\n",
            "mkl_random-1.1.0     | 369 KB    | : 100% 1.0/1 [00:00<00:00, 10.68it/s]\n",
            "seaborn-0.9.0        | 164 KB    | : 100% 1.0/1 [00:00<00:00, 14.24it/s]\n",
            "nbformat-5.0.8       | 101 KB    | : 100% 1.0/1 [00:00<00:00, 14.57it/s]\n",
            "libgfortran-ng-7.3.0 | 1.3 MB    | : 100% 1.0/1 [00:00<00:00,  3.58it/s]\n",
            "qt-5.9.7             | 85.9 MB   | : 100% 1.0/1 [00:14<00:00, 14.05s/it]               \n",
            "sip-4.19.24          | 297 KB    | : 100% 1.0/1 [00:00<00:00,  9.32it/s]\n",
            "pandoc-2.11          | 12.5 MB   | : 100% 1.0/1 [00:02<00:00,  2.79s/it]\n",
            "attrs-20.2.0         | 41 KB     | : 100% 1.0/1 [00:00<00:00, 20.40it/s]\n",
            "rdkit-2018.09.1.0    | 20.2 MB   | : 100% 1.0/1 [00:05<00:00,  5.06s/it]\n",
            "gstreamer-1.14.0     | 3.8 MB    | : 100% 1.0/1 [00:00<00:00,  1.18it/s]\n",
            "openssl-1.1.1h       | 3.8 MB    | : 100% 1.0/1 [00:00<00:00,  1.53it/s]\n",
            "importlib_metadata-2 | 11 KB     | : 100% 1.0/1 [00:00<00:00, 23.21it/s]\n",
            "libtiff-4.1.0        | 607 KB    | : 100% 1.0/1 [00:00<00:00,  7.35it/s]\n",
            "matplotlib-base-3.3. | 6.7 MB    | : 100% 1.0/1 [00:01<00:00,  1.18s/it]\n",
            "zipp-3.3.1           | 11 KB     | : 100% 1.0/1 [00:00<00:00, 28.45it/s]\n",
            "sqlite-3.33.0        | 2.0 MB    | : 100% 1.0/1 [00:00<00:00,  2.91it/s]\n",
            "jupyter_core-4.6.3   | 75 KB     | : 100% 1.0/1 [00:00<00:00,  5.00it/s]                \n",
            "numpy-base-1.19.1    | 5.2 MB    | : 100% 1.0/1 [00:01<00:00,  1.01s/it]\n",
            "mkl_fft-1.2.0        | 164 KB    | : 100% 1.0/1 [00:00<00:00, 14.58it/s]\n",
            "markupsafe-1.1.1     | 29 KB     | : 100% 1.0/1 [00:00<00:00, 19.78it/s]\n",
            "fontconfig-2.13.0    | 291 KB    | : 100% 1.0/1 [00:00<00:00, 10.86it/s]\n",
            "pyrsistent-0.17.3    | 89 KB     | : 100% 1.0/1 [00:00<00:00, 19.95it/s]\n",
            "scipy-1.5.2          | 18.5 MB   | : 100% 1.0/1 [00:02<00:00,  2.94s/it]               \n",
            "importlib-metadata-2 | 35 KB     | : 100% 1.0/1 [00:00<00:00, 21.29it/s]\n",
            "bleach-3.2.1         | 111 KB    | : 100% 1.0/1 [00:00<00:00, 13.25it/s]\n",
            "jpeg-9b              | 247 KB    | : 100% 1.0/1 [00:00<00:00, 12.59it/s]\n",
            "pillow-8.0.0         | 675 KB    | : 100% 1.0/1 [00:00<00:00,  5.54it/s]\n",
            "gst-plugins-base-1.1 | 6.3 MB    | : 100% 1.0/1 [00:00<00:00,  1.04it/s]\n",
            "bzip2-1.0.8          | 105 KB    | : 100% 1.0/1 [00:00<00:00, 17.22it/s]\n",
            "libgcc-ng-9.1.0      | 8.1 MB    | : 100% 1.0/1 [00:01<00:00,  1.17s/it]\n",
            "cudnn-7.6.4          | 226.6 MB  | : 100% 1.0/1 [00:35<00:00, 35.77s/it] \n",
            "pyqt-5.9.2           | 5.6 MB    | : 100% 1.0/1 [00:01<00:00,  1.10s/it]\n",
            "libstdcxx-ng-9.1.0   | 4.0 MB    | : 100% 1.0/1 [00:00<00:00,  1.36it/s]\n",
            "packaging-20.4       | 35 KB     | : 100% 1.0/1 [00:00<00:00, 17.04it/s]\n",
            "cudatoolkit-10.0.130 | 380.0 MB  | : 100% 1.0/1 [00:47<00:00, 47.82s/it]               \n",
            "blas-1.0             | 6 KB      | : 100% 1.0/1 [00:00<00:00, 20.09it/s]\n",
            "freetype-2.10.4      | 901 KB    | : 100% 1.0/1 [00:00<00:00,  5.31it/s]\n",
            "python-3.6.7         | 30.1 MB   | : 100% 1.0/1 [00:02<00:00,  2.01s/it]              \n",
            "matplotlib-3.3.1     | 24 KB     | : 100% 1.0/1 [00:00<00:00, 20.21it/s]\n",
            "testpath-0.4.4       | 88 KB     | : 100% 1.0/1 [00:00<00:00, 16.54it/s]\n",
            "python-dateutil-2.8. | 224 KB    | : 100% 1.0/1 [00:00<00:00, 14.66it/s]\n",
            "intel-openmp-2020.2  | 947 KB    | : 100% 1.0/1 [00:00<00:00,  5.12it/s]\n",
            "py-boost-1.65.1      | 297 KB    | : 100% 1.0/1 [00:00<00:00,  3.58it/s]                 \n",
            "traitlets-4.3.3      | 137 KB    | : 100% 1.0/1 [00:00<00:00, 14.55it/s]\n",
            "pyparsing-2.4.7      | 64 KB     | : 100% 1.0/1 [00:00<00:00, 17.82it/s]\n",
            "nbconvert-5.6.1      | 493 KB    | : 100% 1.0/1 [00:00<00:00,  2.85it/s]\n",
            "mkl-2019.4           | 204.1 MB  | : 100% 1.0/1 [00:34<00:00, 34.86s/it]               \n",
            "wheel-0.35.1         | 36 KB     | : 100% 1.0/1 [00:00<00:00, 22.00it/s]\n",
            "patsy-0.5.1          | 380 KB    | : 100% 1.0/1 [00:00<00:00,  9.36it/s]\n",
            "olefile-0.46         | 48 KB     | : 100% 1.0/1 [00:00<00:00, 18.96it/s]\n",
            "entrypoints-0.3      | 12 KB     | : 100% 1.0/1 [00:00<00:00, 21.92it/s]\n",
            "glib-2.56.2          | 5.0 MB    | : 100% 1.0/1 [00:01<00:00,  1.36s/it]\n",
            "readline-7.0         | 392 KB    | : 100% 1.0/1 [00:00<00:00,  8.30it/s]\n",
            "expat-2.2.10         | 192 KB    | : 100% 1.0/1 [00:00<00:00, 14.12it/s]\n",
            "jinja2-2.11.2        | 97 KB     | : 100% 1.0/1 [00:00<00:00, 19.32it/s]\n",
            "Preparing transaction: - \b\b\\ \b\b| \b\b/ \b\b- \b\b\\ \b\b| \b\b/ \b\b- \b\b\\ \b\b| \b\b/ \b\b- \b\bdone\n",
            "Verifying transaction: | \b\b/ \b\b- \b\b\\ \b\b| \b\b/ \b\b- \b\b\\ \b\b| \b\b/ \b\b- \b\b\\ \b\b| \b\b/ \b\b- \b\b\\ \b\b| \b\b/ \b\b- \b\b\\ \b\b| \b\b/ \b\b- \b\b\\ \b\b| \b\b/ \b\b- \b\b\\ \b\b| \b\b/ \b\b- \b\b\\ \b\b| \b\b/ \b\b- \b\b\\ \b\b| \b\b/ \b\b- \b\b\\ \b\b| \b\b/ \b\b- \b\b\\ \b\b| \b\bdone\n",
            "Executing transaction: - \b\b\\ \b\b| \b\b/ \b\b- \b\b\\ \b\b| \b\b/ \b\b- \b\b\\ \b\b| \b\b/ \b\b- \b\b\\ \b\b| \b\b/ \b\b- \b\b\\ \b\b| \b\b/ \b\b- \b\b\\ \b\b| \b\b/ \b\b- \b\b\\ \b\b| \b\b/ \b\b- \b\b\\ \b\b| \b\b/ \b\b- \b\b\\ \b\b| \b\b/ \b\b- \b\b\\ \b\b| \b\b/ \b\b- \b\b\\ \b\b| \b\bdone\n",
            "#\n",
            "# To activate this environment, use\n",
            "#\n",
            "#     $ conda activate ddc_env\n",
            "#\n",
            "# To deactivate an active environment, use\n",
            "#\n",
            "#     $ conda deactivate\n",
            "\n"
          ],
          "name": "stdout"
        }
      ]
    },
    {
      "cell_type": "code",
      "metadata": {
        "colab": {
          "base_uri": "https://localhost:8080/"
        },
        "id": "NTFHVUw7dG8z",
        "outputId": "16f62903-701b-4c79-d800-fed99168a016"
      },
      "source": [
        "!pip install ."
      ],
      "execution_count": 21,
      "outputs": [
        {
          "output_type": "stream",
          "text": [
            "Processing /content/Deep-Drug-Coder\n",
            "Collecting numpy==1.16.5\n",
            "  Downloading numpy-1.16.5.zip (5.1 MB)\n",
            "\u001b[K     |████████████████████████████████| 5.1 MB 8.2 MB/s \n",
            "\u001b[?25hCollecting h5py==2.9.0\n",
            "  Downloading h5py-2.9.0-cp38-cp38-manylinux1_x86_64.whl (2.8 MB)\n",
            "\u001b[K     |████████████████████████████████| 2.8 MB 52.8 MB/s \n",
            "\u001b[31mERROR: Could not find a version that satisfies the requirement tensorflow-gpu==2.0.0 (from ddc-pub==0.3) (from versions: 2.2.0rc1, 2.2.0rc2, 2.2.0rc3, 2.2.0rc4, 2.2.0, 2.2.1, 2.2.2, 2.3.0rc0, 2.3.0rc1, 2.3.0rc2, 2.3.0, 2.3.1, 2.3.2, 2.4.0rc0, 2.4.0rc1, 2.4.0rc2, 2.4.0rc3, 2.4.0rc4, 2.4.0, 2.4.1)\u001b[0m\n",
            "\u001b[31mERROR: No matching distribution found for tensorflow-gpu==2.0.0 (from ddc-pub==0.3)\u001b[0m\n",
            "\u001b[?25h"
          ],
          "name": "stdout"
        }
      ]
    },
    {
      "cell_type": "code",
      "metadata": {
        "colab": {
          "base_uri": "https://localhost:8080/"
        },
        "id": "jrsMy1Tydvvo",
        "outputId": "219ba7aa-e443-4873-db13-d6177518cdf8"
      },
      "source": [
        "!python install --user --name ddc_env --display-name \"ddc_env (python_3.6.7)\""
      ],
      "execution_count": 23,
      "outputs": [
        {
          "output_type": "stream",
          "text": [
            "python: can't open file 'install': [Errno 2] No such file or directory\n"
          ],
          "name": "stdout"
        }
      ]
    },
    {
      "cell_type": "code",
      "metadata": {
        "colab": {
          "base_uri": "https://localhost:8080/"
        },
        "id": "qRmqQI6-d5Hh",
        "outputId": "758c7449-136d-4717-8fb8-2124ccc3eeb2"
      },
      "source": [
        "!conda init bash"
      ],
      "execution_count": 25,
      "outputs": [
        {
          "output_type": "stream",
          "text": [
            "no change     /usr/local/condabin/conda\n",
            "no change     /usr/local/bin/conda\n",
            "no change     /usr/local/bin/conda-env\n",
            "no change     /usr/local/bin/activate\n",
            "no change     /usr/local/bin/deactivate\n",
            "no change     /usr/local/etc/profile.d/conda.sh\n",
            "no change     /usr/local/etc/fish/conf.d/conda.fish\n",
            "no change     /usr/local/shell/condabin/Conda.psm1\n",
            "no change     /usr/local/shell/condabin/conda-hook.ps1\n",
            "no change     /usr/local/lib/python3.8/site-packages/xontrib/conda.xsh\n",
            "no change     /usr/local/etc/profile.d/conda.csh\n",
            "modified      /root/.bashrc\n",
            "\n",
            "==> For changes to take effect, close and re-open your current shell. <==\n",
            "\n"
          ],
          "name": "stdout"
        }
      ]
    },
    {
      "cell_type": "code",
      "metadata": {
        "colab": {
          "base_uri": "https://localhost:8080/"
        },
        "id": "s9S9Hoq4eCoC",
        "outputId": "9a230174-3f4f-43c8-b4b9-86a0171e3e07"
      },
      "source": [
        "!conda activate ddc_env"
      ],
      "execution_count": 26,
      "outputs": [
        {
          "output_type": "stream",
          "text": [
            "\n",
            "CommandNotFoundError: Your shell has not been properly configured to use 'conda activate'.\n",
            "To initialize your shell, run\n",
            "\n",
            "    $ conda init <SHELL_NAME>\n",
            "\n",
            "Currently supported shells are:\n",
            "  - bash\n",
            "  - fish\n",
            "  - tcsh\n",
            "  - xonsh\n",
            "  - zsh\n",
            "  - powershell\n",
            "\n",
            "See 'conda init --help' for more information and options.\n",
            "\n",
            "IMPORTANT: You may need to close and restart your shell after running 'conda init'.\n",
            "\n",
            "\n"
          ],
          "name": "stdout"
        }
      ]
    }
  ]
}