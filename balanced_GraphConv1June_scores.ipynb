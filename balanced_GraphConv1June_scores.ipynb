{
  "nbformat": 4,
  "nbformat_minor": 0,
  "metadata": {
    "kernelspec": {
      "display_name": "Python 3",
      "language": "python",
      "name": "python3"
    },
    "language_info": {
      "codemirror_mode": {
        "name": "ipython",
        "version": 3
      },
      "file_extension": ".py",
      "mimetype": "text/x-python",
      "name": "python",
      "nbconvert_exporter": "python",
      "pygments_lexer": "ipython3",
      "version": "3.6.10"
    },
    "colab": {
      "name": "balanced_myfeats.ipynb",
      "provenance": [],
      "include_colab_link": true
    }
  },
  "cells": [
    {
      "cell_type": "markdown",
      "metadata": {
        "id": "view-in-github",
        "colab_type": "text"
      },
      "source": [
        "<a href=\"https://colab.research.google.com/github/AlfonsoTGarcia-Sosa/ML/blob/master/balanced_GraphConv1June_scores.ipynb\" target=\"_parent\"><img src=\"https://colab.research.google.com/assets/colab-badge.svg\" alt=\"Open In Colab\"/></a>"
      ]
    },
    {
      "cell_type": "code",
      "metadata": {
        "id": "kShIhlOeFAWL",
        "colab_type": "code",
        "outputId": "ee884f59-4fa6-42cb-ef91-230a4669edb1",
        "colab": {
          "base_uri": "https://localhost:8080/",
          "height": 1000
        }
      },
      "source": [
        "!wget -c https://repo.anaconda.com/miniconda/Miniconda3-latest-Linux-x86_64.sh\n",
        "!chmod +x Miniconda3-latest-Linux-x86_64.sh\n",
        "!bash ./Miniconda3-latest-Linux-x86_64.sh -b -f -p /usr/local\n",
        "!conda install -y -c deepchem -c rdkit -c conda-forge -c omnia deepchem-gpu=2.3.0\n",
        "import sys\n",
        "sys.path.append('/usr/local/lib/python3.7/site-packages/')"
      ],
      "execution_count": 1,
      "outputs": [
        {
          "output_type": "stream",
          "text": [
            "--2020-06-07 12:39:18--  https://repo.anaconda.com/miniconda/Miniconda3-latest-Linux-x86_64.sh\n",
            "Resolving repo.anaconda.com (repo.anaconda.com)... 104.16.131.3, 104.16.130.3, 2606:4700::6810:8303, ...\n",
            "Connecting to repo.anaconda.com (repo.anaconda.com)|104.16.131.3|:443... connected.\n",
            "HTTP request sent, awaiting response... 200 OK\n",
            "Length: 85055499 (81M) [application/x-sh]\n",
            "Saving to: ‘Miniconda3-latest-Linux-x86_64.sh’\n",
            "\n",
            "\r          Miniconda   0%[                    ]       0  --.-KB/s               \r         Miniconda3  40%[=======>            ]  33.24M   166MB/s               \r        Miniconda3-  78%[==============>     ]  63.54M   159MB/s               \rMiniconda3-latest-L 100%[===================>]  81.12M   157MB/s    in 0.5s    \n",
            "\n",
            "2020-06-07 12:39:18 (157 MB/s) - ‘Miniconda3-latest-Linux-x86_64.sh’ saved [85055499/85055499]\n",
            "\n",
            "PREFIX=/usr/local\n",
            "Unpacking payload ...\n",
            "Collecting package metadata (current_repodata.json): - \b\b\\ \b\b| \b\bdone\n",
            "Solving environment: - \b\b\\ \b\bdone\n",
            "\n",
            "## Package Plan ##\n",
            "\n",
            "  environment location: /usr/local\n",
            "\n",
            "  added / updated specs:\n",
            "    - _libgcc_mutex==0.1=main\n",
            "    - asn1crypto==1.3.0=py37_0\n",
            "    - ca-certificates==2020.1.1=0\n",
            "    - certifi==2019.11.28=py37_0\n",
            "    - cffi==1.14.0=py37h2e261b9_0\n",
            "    - chardet==3.0.4=py37_1003\n",
            "    - conda-package-handling==1.6.0=py37h7b6447c_0\n",
            "    - conda==4.8.2=py37_0\n",
            "    - cryptography==2.8=py37h1ba5d50_0\n",
            "    - idna==2.8=py37_0\n",
            "    - ld_impl_linux-64==2.33.1=h53a641e_7\n",
            "    - libedit==3.1.20181209=hc058e9b_0\n",
            "    - libffi==3.2.1=hd88cf55_4\n",
            "    - libgcc-ng==9.1.0=hdf63c60_0\n",
            "    - libstdcxx-ng==9.1.0=hdf63c60_0\n",
            "    - ncurses==6.2=he6710b0_0\n",
            "    - openssl==1.1.1d=h7b6447c_4\n",
            "    - pip==20.0.2=py37_1\n",
            "    - pycosat==0.6.3=py37h7b6447c_0\n",
            "    - pycparser==2.19=py37_0\n",
            "    - pyopenssl==19.1.0=py37_0\n",
            "    - pysocks==1.7.1=py37_0\n",
            "    - python==3.7.6=h0371630_2\n",
            "    - readline==7.0=h7b6447c_5\n",
            "    - requests==2.22.0=py37_1\n",
            "    - ruamel_yaml==0.15.87=py37h7b6447c_0\n",
            "    - setuptools==45.2.0=py37_0\n",
            "    - six==1.14.0=py37_0\n",
            "    - sqlite==3.31.1=h7b6447c_0\n",
            "    - tk==8.6.8=hbc83047_0\n",
            "    - tqdm==4.42.1=py_0\n",
            "    - urllib3==1.25.8=py37_0\n",
            "    - wheel==0.34.2=py37_0\n",
            "    - xz==5.2.4=h14c3975_4\n",
            "    - yaml==0.1.7=had09818_2\n",
            "    - zlib==1.2.11=h7b6447c_3\n",
            "\n",
            "\n",
            "The following NEW packages will be INSTALLED:\n",
            "\n",
            "  _libgcc_mutex      pkgs/main/linux-64::_libgcc_mutex-0.1-main\n",
            "  asn1crypto         pkgs/main/linux-64::asn1crypto-1.3.0-py37_0\n",
            "  ca-certificates    pkgs/main/linux-64::ca-certificates-2020.1.1-0\n",
            "  certifi            pkgs/main/linux-64::certifi-2019.11.28-py37_0\n",
            "  cffi               pkgs/main/linux-64::cffi-1.14.0-py37h2e261b9_0\n",
            "  chardet            pkgs/main/linux-64::chardet-3.0.4-py37_1003\n",
            "  conda              pkgs/main/linux-64::conda-4.8.2-py37_0\n",
            "  conda-package-han~ pkgs/main/linux-64::conda-package-handling-1.6.0-py37h7b6447c_0\n",
            "  cryptography       pkgs/main/linux-64::cryptography-2.8-py37h1ba5d50_0\n",
            "  idna               pkgs/main/linux-64::idna-2.8-py37_0\n",
            "  ld_impl_linux-64   pkgs/main/linux-64::ld_impl_linux-64-2.33.1-h53a641e_7\n",
            "  libedit            pkgs/main/linux-64::libedit-3.1.20181209-hc058e9b_0\n",
            "  libffi             pkgs/main/linux-64::libffi-3.2.1-hd88cf55_4\n",
            "  libgcc-ng          pkgs/main/linux-64::libgcc-ng-9.1.0-hdf63c60_0\n",
            "  libstdcxx-ng       pkgs/main/linux-64::libstdcxx-ng-9.1.0-hdf63c60_0\n",
            "  ncurses            pkgs/main/linux-64::ncurses-6.2-he6710b0_0\n",
            "  openssl            pkgs/main/linux-64::openssl-1.1.1d-h7b6447c_4\n",
            "  pip                pkgs/main/linux-64::pip-20.0.2-py37_1\n",
            "  pycosat            pkgs/main/linux-64::pycosat-0.6.3-py37h7b6447c_0\n",
            "  pycparser          pkgs/main/linux-64::pycparser-2.19-py37_0\n",
            "  pyopenssl          pkgs/main/linux-64::pyopenssl-19.1.0-py37_0\n",
            "  pysocks            pkgs/main/linux-64::pysocks-1.7.1-py37_0\n",
            "  python             pkgs/main/linux-64::python-3.7.6-h0371630_2\n",
            "  readline           pkgs/main/linux-64::readline-7.0-h7b6447c_5\n",
            "  requests           pkgs/main/linux-64::requests-2.22.0-py37_1\n",
            "  ruamel_yaml        pkgs/main/linux-64::ruamel_yaml-0.15.87-py37h7b6447c_0\n",
            "  setuptools         pkgs/main/linux-64::setuptools-45.2.0-py37_0\n",
            "  six                pkgs/main/linux-64::six-1.14.0-py37_0\n",
            "  sqlite             pkgs/main/linux-64::sqlite-3.31.1-h7b6447c_0\n",
            "  tk                 pkgs/main/linux-64::tk-8.6.8-hbc83047_0\n",
            "  tqdm               pkgs/main/noarch::tqdm-4.42.1-py_0\n",
            "  urllib3            pkgs/main/linux-64::urllib3-1.25.8-py37_0\n",
            "  wheel              pkgs/main/linux-64::wheel-0.34.2-py37_0\n",
            "  xz                 pkgs/main/linux-64::xz-5.2.4-h14c3975_4\n",
            "  yaml               pkgs/main/linux-64::yaml-0.1.7-had09818_2\n",
            "  zlib               pkgs/main/linux-64::zlib-1.2.11-h7b6447c_3\n",
            "\n",
            "\n",
            "Preparing transaction: / \b\b- \b\b\\ \b\b| \b\bdone\n",
            "Executing transaction: - \b\b\\ \b\b| \b\b/ \b\b- \b\b\\ \b\b| \b\b/ \b\b- \b\b\\ \b\b| \b\b/ \b\b- \b\b\\ \b\b| \b\bdone\n",
            "installation finished.\n",
            "WARNING:\n",
            "    You currently have a PYTHONPATH environment variable set. This may cause\n",
            "    unexpected behavior when running the Python interpreter in Miniconda3.\n",
            "    For best results, please verify that your PYTHONPATH only points to\n",
            "    directories of packages that are compatible with the Python interpreter\n",
            "    in Miniconda3: /usr/local\n",
            "Collecting package metadata (current_repodata.json): - \b\b\\ \b\b| \b\b/ \b\b- \b\b\\ \b\b| \b\b/ \b\b- \b\b\\ \b\b| \b\b/ \b\b- \b\b\\ \b\b| \b\b/ \b\b- \b\b\\ \b\b| \b\b/ \b\b- \b\b\\ \b\b| \b\b/ \b\b- \b\b\\ \b\b| \b\b/ \b\b- \b\b\\ \b\b| \b\b/ \b\b- \b\b\\ \b\b| \b\b/ \b\b- \b\b\\ \b\b| \b\b/ \b\b- \b\b\\ \b\b| \b\b/ \b\b- \b\b\\ \b\b| \b\b/ \b\b- \b\b\\ \b\b| \b\b/ \b\b- \b\b\\ \b\b| \b\b/ \b\b- \b\b\\ \b\b| \b\b/ \b\b- \b\b\\ \b\b| \b\b/ \b\b- \b\b\\ \b\b| \b\b/ \b\b- \b\b\\ \b\b| \b\b/ \b\bdone\n",
            "Solving environment: \\ \b\b| \b\b/ \b\b- \b\b\\ \b\b| \b\b/ \b\b- \b\b\\ \b\b| \b\b/ \b\b- \b\b\\ \b\b| \b\b/ \b\b- \b\b\\ \b\b| \b\b/ \b\b- \b\b\\ \b\b| \b\b/ \b\b- \b\b\\ \b\b| \b\b/ \b\b- \b\b\\ \b\b| \b\b/ \b\b- \b\b\\ \b\b| \b\b/ \b\b- \b\b\\ \b\b| \b\b/ \b\b- \b\b\\ \b\b| \b\b/ \b\b- \b\b\\ \b\b| \b\b/ \b\b- \b\b\\ \b\b| \b\b/ \b\b- \b\b\\ \b\b| \b\b/ \b\b- \b\b\\ \b\b| \b\b/ \b\b- \b\b\\ \b\b| \b\b/ \b\b- \b\b\\ \b\b| \b\b/ \b\b- \b\b\\ \b\b| \b\b/ \b\b- \b\b\\ \b\b| \b\b/ \b\bfailed with initial frozen solve. Retrying with flexible solve.\n",
            "Solving environment: \\ \b\b| \b\b/ \b\b- \b\b\\ \b\b| \b\b/ \b\b- \b\b\\ \b\b| \b\b/ \b\b- \b\b\\ \b\b| \b\b/ \b\b- \b\b\\ \b\b| \b\b/ \b\b- \b\b\\ \b\b| \b\b/ \b\b- \b\b\\ \b\b| \b\b/ \b\b- \b\b\\ \b\b| \b\b/ \b\b- \b\b\\ \b\b| \b\b/ \b\b- \b\b\\ \b\b| \b\b/ \b\b- \b\b\\ \b\b| \b\b/ \b\b- \b\b\\ \b\b| \b\b/ \b\b- \b\b\\ \b\b| \b\b/ \b\b- \b\b\\ \b\b| \b\b/ \b\b- \b\b\\ \b\b| \b\b/ \b\b- \b\b\\ \b\b| \b\b/ \b\b- \b\b\\ \b\b| \b\b/ \b\b- \b\b\\ \b\b| \b\b/ \b\b- \b\b\\ \b\b| \b\b/ \b\b- \b\b\\ \b\b| \b\b/ \b\b- \b\b\\ \b\b| \b\b/ \b\b- \b\b\\ \b\b| \b\b/ \b\b- \b\b\\ \b\b| \b\b/ \b\b- \b\b\\ \b\b| \b\bfailed with repodata from current_repodata.json, will retry with next repodata source.\n",
            "Collecting package metadata (repodata.json): - \b\b\\ \b\b| \b\b/ \b\b- \b\b\\ \b\b| \b\b/ \b\b- \b\b\\ \b\b| \b\b/ \b\b- \b\b\\ \b\b| \b\b/ \b\b- \b\b\\ \b\b| \b\b/ \b\b- \b\b\\ \b\b| \b\b/ \b\b- \b\b\\ \b\b| \b\b/ \b\b- \b\b\\ \b\b| \b\b/ \b\b- \b\b\\ \b\b| \b\b/ \b\b- \b\b\\ \b\b| \b\b/ \b\b- \b\b\\ \b\b| \b\b/ \b\b- \b\b\\ \b\b| \b\b/ \b\b- \b\b\\ \b\b| \b\b/ \b\b- \b\b\\ \b\b| \b\b/ \b\b- \b\b\\ \b\b| \b\b/ \b\b- \b\b\\ \b\b| \b\b/ \b\b- \b\b\\ \b\b| \b\b/ \b\b- \b\b\\ \b\b| \b\b/ \b\b- \b\b\\ \b\b| \b\b/ \b\b- \b\b\\ \b\b| \b\b/ \b\b- \b\b\\ \b\b| \b\b/ \b\b- \b\b\\ \b\b| \b\b/ \b\b- \b\b\\ \b\b| \b\b/ \b\b- \b\b\\ \b\b| \b\b/ \b\b- \b\b\\ \b\b| \b\b/ \b\b- \b\b\\ \b\b| \b\b/ \b\b- \b\b\\ \b\b| \b\b/ \b\b- \b\b\\ \b\b| \b\b/ \b\b- \b\b\\ \b\b| \b\b/ \b\b- \b\b\\ \b\b| \b\b/ \b\b- \b\b\\ \b\b| \b\b/ \b\b- \b\b\\ \b\b| \b\b/ \b\b- \b\b\\ \b\b| \b\b/ \b\b- \b\b\\ \b\b| \b\b/ \b\b- \b\b\\ \b\b| \b\b/ \b\b- \b\b\\ \b\b| \b\b/ \b\b- \b\b\\ \b\b| \b\b/ \b\b- \b\b\\ \b\b| \b\b/ \b\b- \b\b\\ \b\b| \b\b/ \b\b- \b\b\\ \b\b| \b\b/ \b\b- \b\b\\ \b\b| \b\b/ \b\b- \b\b\\ \b\b| \b\b/ \b\b- \b\b\\ \b\b| \b\b/ \b\b- \b\b\\ \b\b| \b\b/ \b\b- \b\b\\ \b\b| \b\b/ \b\b- \b\b\\ \b\b| \b\b/ \b\b- \b\b\\ \b\bdone\n",
            "Solving environment: / \b\b- \b\b\\ \b\b| \b\b/ \b\b- \b\b\\ \b\b| \b\b/ \b\b- \b\b\\ \b\b| \b\b/ \b\b- \b\b\\ \b\b| \b\b/ \b\b- \b\b\\ \b\b| \b\b/ \b\b- \b\b\\ \b\b| \b\b/ \b\b- \b\b\\ \b\b| \b\b/ \b\b- \b\b\\ \b\b| \b\b/ \b\b- \b\b\\ \b\b| \b\b/ \b\b- \b\b\\ \b\b| \b\b/ \b\b- \b\b\\ \b\b| \b\b/ \b\b- \b\b\\ \b\b| \b\b/ \b\b- \b\b\\ \b\b| \b\b/ \b\b- \b\b\\ \b\b| \b\b/ \b\b- \b\b\\ \b\b| \b\b/ \b\b- \b\b\\ \b\b| \b\b/ \b\b- \b\b\\ \b\b| \b\b/ \b\b- \b\b\\ \b\b| \b\b/ \b\b- \b\b\\ \b\b| \b\b/ \b\b- \b\b\\ \b\b| \b\b/ \b\b- \b\b\\ \b\b| \b\b/ \b\b- \b\b\\ \b\b| \b\b/ \b\b- \b\b\\ \b\b| \b\b/ \b\b- \b\b\\ \b\b| \b\b/ \b\b- \b\b\\ \b\b| \b\b/ \b\b- \b\b\\ \b\b| \b\b/ \b\b- \b\b\\ \b\b| \b\b/ \b\b- \b\b\\ \b\b| \b\b/ \b\b- \b\b\\ \b\b| \b\b/ \b\b- \b\b\\ \b\b| \b\b/ \b\b- \b\b\\ \b\b| \b\b/ \b\b- \b\b\\ \b\b| \b\b/ \b\b- \b\b\\ \b\b| \b\b/ \b\b- \b\b\\ \b\b| \b\b/ \b\b- \b\b\\ \b\b| \b\b/ \b\b- \b\b\\ \b\b| \b\b/ \b\b- \b\b\\ \b\b| \b\b/ \b\b- \b\b\\ \b\b| \b\b/ \b\b- \b\b\\ \b\b| \b\b/ \b\b- \b\b\\ \b\b| \b\b/ \b\b- \b\b\\ \b\b| \b\b/ \b\b- \b\b\\ \b\b| \b\b/ \b\b- \b\b\\ \b\b| \b\b/ \b\b- \b\b\\ \b\b| \b\b/ \b\b- \b\b\\ \b\b| \b\b/ \b\b- \b\b\\ \b\b| \b\b/ \b\b- \b\b\\ \b\b| \b\b/ \b\b- \b\b\\ \b\b| \b\b/ \b\b- \b\b\\ \b\b| \b\b/ \b\b- \b\b\\ \b\b| \b\b/ \b\b- \b\b\\ \b\b| \b\b/ \b\b- \b\b\\ \b\b| \b\b/ \b\b- \b\b\\ \b\b| \b\b/ \b\b- \b\b\\ \b\b| \b\b/ \b\b- \b\b\\ \b\b| \b\b/ \b\b- \b\b\\ \b\b| \b\b/ \b\b- \b\b\\ \b\b| \b\b/ \b\b- \b\b\\ \b\b| \b\b/ \b\b- \b\b\\ \b\b| \b\b/ \b\b- \b\b\\ \b\b| \b\b/ \b\b- \b\b\\ \b\b| \b\b/ \b\b- \b\b\\ \b\b| \b\b/ \b\b- \b\b\\ \b\b| \b\b/ \b\b- \b\b\\ \b\b| \b\b/ \b\b- \b\b\\ \b\b| \b\b/ \b\b- \b\b\\ \b\b| \b\b/ \b\b- \b\b\\ \b\b| \b\b/ \b\b- \b\b\\ \b\b| \b\b/ \b\b- \b\b\\ \b\b| \b\b/ \b\b- \b\b\\ \b\b| \b\b/ \b\b- \b\b\\ \b\b| \b\b/ \b\b- \b\b\\ \b\b| \b\b/ \b\b- \b\b\\ \b\b| \b\b/ \b\b- \b\b\\ \b\b| \b\b/ \b\b- \b\b\\ \b\b| \b\b/ \b\b- \b\b\\ \b\b| \b\b/ \b\b- \b\b\\ \b\b| \b\b/ \b\b- \b\b\\ \b\b| \b\b/ \b\b- \b\b\\ \b\b| \b\b/ \b\b- \b\b\\ \b\b| \b\b/ \b\b- \b\b\\ \b\b| \b\b/ \b\b- \b\b\\ \b\b| \b\b/ \b\b- \b\b\\ \b\b| \b\b/ \b\b- \b\b\\ \b\b| \b\b/ \b\b- \b\b\\ \b\b| \b\b/ \b\b- \b\b\\ \b\b| \b\b/ \b\b- \b\b\\ \b\b| \b\b/ \b\b- \b\b\\ \b\b| \b\b/ \b\b- \b\b\\ \b\b| \b\b/ \b\bdone\n",
            "\n",
            "\n",
            "==> WARNING: A newer version of conda exists. <==\n",
            "  current version: 4.8.2\n",
            "  latest version: 4.8.3\n",
            "\n",
            "Please update conda by running\n",
            "\n",
            "    $ conda update -n base -c defaults conda\n",
            "\n",
            "\n",
            "\n",
            "## Package Plan ##\n",
            "\n",
            "  environment location: /usr/local\n",
            "\n",
            "  added / updated specs:\n",
            "    - deepchem-gpu=2.3.0\n",
            "\n",
            "\n",
            "The following packages will be downloaded:\n",
            "\n",
            "    package                    |            build\n",
            "    ---------------------------|-----------------\n",
            "    _py-xgboost-mutex-2.0      |            cpu_0           8 KB  conda-forge\n",
            "    _tflow_select-2.1.0        |              gpu           2 KB\n",
            "    absl-py-0.9.0              |   py37hc8dfbb8_1         162 KB  conda-forge\n",
            "    astor-0.7.1                |             py_0          22 KB  conda-forge\n",
            "    attrs-19.3.0               |             py_0          35 KB  conda-forge\n",
            "    backcall-0.1.0             |             py_0          13 KB  conda-forge\n",
            "    bleach-3.1.5               |     pyh9f0ad1d_0         112 KB  conda-forge\n",
            "    blosc-1.19.0               |       he1b5a44_0         887 KB  conda-forge\n",
            "    bzip2-1.0.8                |       h516909a_2         396 KB  conda-forge\n",
            "    c-ares-1.15.0              |    h516909a_1001         100 KB  conda-forge\n",
            "    ca-certificates-2020.4.5.1 |       hecc5488_0         146 KB  conda-forge\n",
            "    cairo-1.16.0               |    h18b612c_1001         1.5 MB  conda-forge\n",
            "    certifi-2020.4.5.1         |   py37hc8dfbb8_0         151 KB  conda-forge\n",
            "    conda-4.8.3                |   py37hc8dfbb8_1         3.0 MB  conda-forge\n",
            "    cudatoolkit-10.1.243       |       h6bb024c_0       347.4 MB\n",
            "    cudnn-7.6.5                |       cuda10.1_0       179.9 MB\n",
            "    cupti-10.1.168             |                0         1.4 MB\n",
            "    cycler-0.10.0              |             py_2           9 KB  conda-forge\n",
            "    cython-0.29.19             |   py37h3340039_0         2.1 MB  conda-forge\n",
            "    dbus-1.13.6                |       he372182_0         602 KB  conda-forge\n",
            "    decorator-4.4.2            |             py_0          11 KB  conda-forge\n",
            "    deepchem-gpu-2.3.0         |           py37_0         2.1 MB  deepchem\n",
            "    defusedxml-0.6.0           |             py_0          22 KB  conda-forge\n",
            "    entrypoints-0.3            |py37hc8dfbb8_1001          12 KB  conda-forge\n",
            "    expat-2.2.9                |       he1b5a44_2         191 KB  conda-forge\n",
            "    fftw3f-3.3.4               |                2         1.2 MB  omnia\n",
            "    fontconfig-2.13.1          |    he4413a7_1000         327 KB  conda-forge\n",
            "    freetype-2.10.2            |       he06d7ca_0         905 KB  conda-forge\n",
            "    gast-0.3.3                 |             py_0          12 KB  conda-forge\n",
            "    gettext-0.19.8.1           |    hc5be6a0_1002         3.6 MB  conda-forge\n",
            "    glib-2.64.3                |       h6f030ca_0         3.4 MB  conda-forge\n",
            "    google-pasta-0.2.0         |     pyh8c360ce_0          42 KB  conda-forge\n",
            "    grpcio-1.23.0              |   py37hb0870dc_1         1.1 MB  conda-forge\n",
            "    gst-plugins-base-1.14.5    |       h0935bb2_2         6.8 MB  conda-forge\n",
            "    gstreamer-1.14.5           |       h36ae1b5_2         4.5 MB  conda-forge\n",
            "    h5py-2.10.0                |nompi_py37h513d04c_102         1.2 MB  conda-forge\n",
            "    hdf5-1.10.5                |nompi_h3c11f04_1104         3.1 MB  conda-forge\n",
            "    icu-58.2                   |    hf484d3e_1000        22.6 MB  conda-forge\n",
            "    importlib-metadata-1.6.1   |   py37hc8dfbb8_0          44 KB  conda-forge\n",
            "    importlib_metadata-1.6.1   |                0           3 KB  conda-forge\n",
            "    ipykernel-5.3.0            |   py37h43977f1_0         164 KB  conda-forge\n",
            "    ipython-7.15.0             |   py37hc8dfbb8_0         1.1 MB  conda-forge\n",
            "    ipython_genutils-0.2.0     |             py_1          21 KB  conda-forge\n",
            "    ipywidgets-7.5.1           |             py_0         101 KB  conda-forge\n",
            "    jedi-0.17.0                |   py37hc8dfbb8_0         807 KB  conda-forge\n",
            "    jinja2-2.11.2              |     pyh9f0ad1d_0          93 KB  conda-forge\n",
            "    joblib-0.15.1              |             py_0         202 KB  conda-forge\n",
            "    jpeg-9d                    |       h516909a_0         266 KB  conda-forge\n",
            "    jsonschema-3.2.0           |   py37hc8dfbb8_1          89 KB  conda-forge\n",
            "    jupyter-1.0.0              |             py_2           4 KB  conda-forge\n",
            "    jupyter_client-6.1.3       |             py_0          74 KB  conda-forge\n",
            "    jupyter_console-6.1.0      |             py_1          21 KB  conda-forge\n",
            "    jupyter_core-4.6.3         |   py37hc8dfbb8_1          71 KB  conda-forge\n",
            "    keras-applications-1.0.8   |             py_1          30 KB  conda-forge\n",
            "    keras-preprocessing-1.1.0  |             py_0          33 KB  conda-forge\n",
            "    kiwisolver-1.2.0           |   py37h99015e2_0          87 KB  conda-forge\n",
            "    libblas-3.8.0              |      14_openblas          10 KB  conda-forge\n",
            "    libboost-1.67.0            |       h46d08c1_4        13.0 MB\n",
            "    libcblas-3.8.0             |      14_openblas          10 KB  conda-forge\n",
            "    libgfortran-ng-7.5.0       |       hdf63c60_6         1.7 MB  conda-forge\n",
            "    libiconv-1.15              |    h516909a_1006         2.0 MB  conda-forge\n",
            "    liblapack-3.8.0            |      14_openblas          10 KB  conda-forge\n",
            "    libopenblas-0.3.7          |       h5ec1e0e_6         7.6 MB  conda-forge\n",
            "    libpng-1.6.37              |       hed695b0_1         308 KB  conda-forge\n",
            "    libprotobuf-3.12.3         |       h8b12597_0         4.9 MB  conda-forge\n",
            "    libsodium-1.0.17           |       h516909a_0         330 KB  conda-forge\n",
            "    libtiff-4.1.0              |       hc7e4089_6         668 KB  conda-forge\n",
            "    libuuid-2.32.1             |    h14c3975_1000          26 KB  conda-forge\n",
            "    libwebp-base-1.1.0         |       h516909a_3         845 KB  conda-forge\n",
            "    libxcb-1.13                |    h14c3975_1002         396 KB  conda-forge\n",
            "    libxgboost-1.0.2           |       he1b5a44_1         2.8 MB  conda-forge\n",
            "    libxml2-2.9.9              |       h13577e0_2         1.3 MB  conda-forge\n",
            "    lz4-c-1.8.3                |    he1b5a44_1001         187 KB  conda-forge\n",
            "    lzo-2.10                   |    h14c3975_1000         319 KB  conda-forge\n",
            "    markdown-3.2.2             |             py_0          61 KB  conda-forge\n",
            "    markupsafe-1.1.1           |   py37h8f50634_1          26 KB  conda-forge\n",
            "    matplotlib-3.1.2           |   py37h4fdacc2_0         5.0 MB\n",
            "    mdtraj-1.9.4               |   py37h4112681_0         1.8 MB  conda-forge\n",
            "    mistune-0.8.4              |py37h8f50634_1001          53 KB  conda-forge\n",
            "    mock-4.0.2                 |   py37hc8dfbb8_0          51 KB  conda-forge\n",
            "    nbconvert-5.6.1            |   py37hc8dfbb8_1         487 KB  conda-forge\n",
            "    nbformat-5.0.6             |             py_0          99 KB  conda-forge\n",
            "    networkx-2.4               |             py_1         1.2 MB  conda-forge\n",
            "    notebook-6.0.3             |   py37hc8dfbb8_0         6.3 MB  conda-forge\n",
            "    numexpr-2.7.1              |   py37h0da4684_1         197 KB  conda-forge\n",
            "    numpy-1.18.5               |   py37h8960a57_0         5.1 MB  conda-forge\n",
            "    olefile-0.46               |             py_0          31 KB  conda-forge\n",
            "    openmm-7.4.2               |py37_cuda101_rc_1        11.9 MB  omnia\n",
            "    openssl-1.1.1g             |       h516909a_0         2.1 MB  conda-forge\n",
            "    packaging-20.4             |     pyh9f0ad1d_0          32 KB  conda-forge\n",
            "    pandas-1.0.4               |   py37h0da4684_0        10.1 MB  conda-forge\n",
            "    pandoc-2.9.2.1             |                0        18.7 MB  conda-forge\n",
            "    pandocfilters-1.4.2        |             py_1           9 KB  conda-forge\n",
            "    parso-0.7.0                |     pyh9f0ad1d_0          67 KB  conda-forge\n",
            "    pcre-8.44                  |       he1b5a44_0         261 KB  conda-forge\n",
            "    pdbfixer-1.6               |           py37_0         190 KB  omnia\n",
            "    pexpect-4.8.0              |   py37hc8dfbb8_1          79 KB  conda-forge\n",
            "    pickleshare-0.7.5          |py37hc8dfbb8_1001          13 KB  conda-forge\n",
            "    pillow-5.3.0               |py37h00a061d_1000         595 KB  conda-forge\n",
            "    pixman-0.38.0              |    h516909a_1003         594 KB  conda-forge\n",
            "    prometheus_client-0.8.0    |     pyh9f0ad1d_0          44 KB  conda-forge\n",
            "    prompt-toolkit-3.0.5       |             py_0         232 KB  conda-forge\n",
            "    prompt_toolkit-3.0.5       |                0           4 KB  conda-forge\n",
            "    protobuf-3.12.3            |   py37h3340039_0         702 KB  conda-forge\n",
            "    pthread-stubs-0.4          |    h14c3975_1001           5 KB  conda-forge\n",
            "    ptyprocess-0.6.0           |          py_1001          15 KB  conda-forge\n",
            "    py-boost-1.67.0            |   py37h04863e7_4         278 KB\n",
            "    py-xgboost-1.0.2           |   py37hc8dfbb8_1         2.2 MB  conda-forge\n",
            "    pygments-2.6.1             |             py_0         683 KB  conda-forge\n",
            "    pyparsing-2.4.7            |     pyh9f0ad1d_0          60 KB  conda-forge\n",
            "    pyqt-5.9.2                 |   py37hcca6a23_4         5.7 MB  conda-forge\n",
            "    pyrsistent-0.16.0          |   py37h8f50634_0          89 KB  conda-forge\n",
            "    pytables-3.6.1             |   py37h9f153d1_1         1.5 MB  conda-forge\n",
            "    python-dateutil-2.8.1      |             py_0         220 KB  conda-forge\n",
            "    python_abi-3.7             |          1_cp37m           4 KB  conda-forge\n",
            "    pytz-2020.1                |     pyh9f0ad1d_0         227 KB  conda-forge\n",
            "    pyzmq-19.0.1               |   py37hac76be4_0         519 KB  conda-forge\n",
            "    qt-5.9.7                   |       h52cfd70_2        85.9 MB  conda-forge\n",
            "    qtconsole-4.7.4            |     pyh9f0ad1d_0          88 KB  conda-forge\n",
            "    qtpy-1.9.0                 |             py_0          34 KB  conda-forge\n",
            "    rdkit-2020.03.2.0          |   py37hc20afe1_1        24.8 MB  rdkit\n",
            "    scikit-learn-0.23.1        |   py37h8a51577_0         6.8 MB  conda-forge\n",
            "    scipy-1.4.1                |   py37ha3d9a3c_3        18.8 MB  conda-forge\n",
            "    send2trash-1.5.0           |             py_0          12 KB  conda-forge\n",
            "    simdna-0.4.2               |             py_0         627 KB  deepchem\n",
            "    sip-4.19.8                 |py37hf484d3e_1000         290 KB  conda-forge\n",
            "    snappy-1.1.8               |       he1b5a44_1          39 KB  conda-forge\n",
            "    tensorboard-1.14.0         |           py37_0         3.2 MB  conda-forge\n",
            "    tensorflow-1.14.0          |gpu_py37h74c33d7_0           4 KB\n",
            "    tensorflow-base-1.14.0     |gpu_py37he45bfe2_0       146.3 MB\n",
            "    tensorflow-estimator-1.14.0|   py37h5ca1d4c_0         645 KB  conda-forge\n",
            "    tensorflow-gpu-1.14.0      |       h0d30ee6_0           3 KB\n",
            "    termcolor-1.1.0            |             py_2           6 KB  conda-forge\n",
            "    terminado-0.8.3            |   py37hc8dfbb8_1          23 KB  conda-forge\n",
            "    testpath-0.4.4             |             py_0          85 KB  conda-forge\n",
            "    threadpoolctl-2.1.0        |     pyh5ca1d4c_0          15 KB  conda-forge\n",
            "    tornado-6.0.4              |   py37h8f50634_1         639 KB  conda-forge\n",
            "    traitlets-4.3.3            |   py37hc8dfbb8_1         133 KB  conda-forge\n",
            "    wcwidth-0.2.3              |     pyh9f0ad1d_0          33 KB  conda-forge\n",
            "    webencodings-0.5.1         |             py_1          12 KB  conda-forge\n",
            "    werkzeug-1.0.1             |     pyh9f0ad1d_0         239 KB  conda-forge\n",
            "    widgetsnbextension-3.5.1   |           py37_0         1.8 MB  conda-forge\n",
            "    wrapt-1.12.1               |   py37h8f50634_1          46 KB  conda-forge\n",
            "    xgboost-1.0.2              |   py37h3340039_1          11 KB  conda-forge\n",
            "    xorg-kbproto-1.0.7         |    h14c3975_1002          26 KB  conda-forge\n",
            "    xorg-libice-1.0.10         |       h516909a_0          57 KB  conda-forge\n",
            "    xorg-libsm-1.2.3           |    h84519dc_1000          25 KB  conda-forge\n",
            "    xorg-libx11-1.6.9          |       h516909a_0         918 KB  conda-forge\n",
            "    xorg-libxau-1.0.9          |       h14c3975_0          13 KB  conda-forge\n",
            "    xorg-libxdmcp-1.1.3        |       h516909a_0          18 KB  conda-forge\n",
            "    xorg-libxext-1.3.4         |       h516909a_0          51 KB  conda-forge\n",
            "    xorg-libxrender-0.9.10     |    h516909a_1002          31 KB  conda-forge\n",
            "    xorg-renderproto-0.11.1    |    h14c3975_1002           8 KB  conda-forge\n",
            "    xorg-xextproto-7.3.0       |    h14c3975_1002          27 KB  conda-forge\n",
            "    xorg-xproto-7.0.31         |    h14c3975_1007          72 KB  conda-forge\n",
            "    zeromq-4.3.2               |       he1b5a44_2         668 KB  conda-forge\n",
            "    zipp-3.1.0                 |             py_0          10 KB  conda-forge\n",
            "    zstd-1.4.4                 |       h3b9ef0a_2         982 KB  conda-forge\n",
            "    ------------------------------------------------------------\n",
            "                                           Total:       999.1 MB\n",
            "\n",
            "The following NEW packages will be INSTALLED:\n",
            "\n",
            "  _py-xgboost-mutex  conda-forge/linux-64::_py-xgboost-mutex-2.0-cpu_0\n",
            "  _tflow_select      pkgs/main/linux-64::_tflow_select-2.1.0-gpu\n",
            "  absl-py            conda-forge/linux-64::absl-py-0.9.0-py37hc8dfbb8_1\n",
            "  astor              conda-forge/noarch::astor-0.7.1-py_0\n",
            "  attrs              conda-forge/noarch::attrs-19.3.0-py_0\n",
            "  backcall           conda-forge/noarch::backcall-0.1.0-py_0\n",
            "  bleach             conda-forge/noarch::bleach-3.1.5-pyh9f0ad1d_0\n",
            "  blosc              conda-forge/linux-64::blosc-1.19.0-he1b5a44_0\n",
            "  bzip2              conda-forge/linux-64::bzip2-1.0.8-h516909a_2\n",
            "  c-ares             conda-forge/linux-64::c-ares-1.15.0-h516909a_1001\n",
            "  cairo              conda-forge/linux-64::cairo-1.16.0-h18b612c_1001\n",
            "  cudatoolkit        pkgs/main/linux-64::cudatoolkit-10.1.243-h6bb024c_0\n",
            "  cudnn              pkgs/main/linux-64::cudnn-7.6.5-cuda10.1_0\n",
            "  cupti              pkgs/main/linux-64::cupti-10.1.168-0\n",
            "  cycler             conda-forge/noarch::cycler-0.10.0-py_2\n",
            "  cython             conda-forge/linux-64::cython-0.29.19-py37h3340039_0\n",
            "  dbus               conda-forge/linux-64::dbus-1.13.6-he372182_0\n",
            "  decorator          conda-forge/noarch::decorator-4.4.2-py_0\n",
            "  deepchem-gpu       deepchem/linux-64::deepchem-gpu-2.3.0-py37_0\n",
            "  defusedxml         conda-forge/noarch::defusedxml-0.6.0-py_0\n",
            "  entrypoints        conda-forge/linux-64::entrypoints-0.3-py37hc8dfbb8_1001\n",
            "  expat              conda-forge/linux-64::expat-2.2.9-he1b5a44_2\n",
            "  fftw3f             omnia/linux-64::fftw3f-3.3.4-2\n",
            "  fontconfig         conda-forge/linux-64::fontconfig-2.13.1-he4413a7_1000\n",
            "  freetype           conda-forge/linux-64::freetype-2.10.2-he06d7ca_0\n",
            "  gast               conda-forge/noarch::gast-0.3.3-py_0\n",
            "  gettext            conda-forge/linux-64::gettext-0.19.8.1-hc5be6a0_1002\n",
            "  glib               conda-forge/linux-64::glib-2.64.3-h6f030ca_0\n",
            "  google-pasta       conda-forge/noarch::google-pasta-0.2.0-pyh8c360ce_0\n",
            "  grpcio             conda-forge/linux-64::grpcio-1.23.0-py37hb0870dc_1\n",
            "  gst-plugins-base   conda-forge/linux-64::gst-plugins-base-1.14.5-h0935bb2_2\n",
            "  gstreamer          conda-forge/linux-64::gstreamer-1.14.5-h36ae1b5_2\n",
            "  h5py               conda-forge/linux-64::h5py-2.10.0-nompi_py37h513d04c_102\n",
            "  hdf5               conda-forge/linux-64::hdf5-1.10.5-nompi_h3c11f04_1104\n",
            "  icu                conda-forge/linux-64::icu-58.2-hf484d3e_1000\n",
            "  importlib-metadata conda-forge/linux-64::importlib-metadata-1.6.1-py37hc8dfbb8_0\n",
            "  importlib_metadata conda-forge/noarch::importlib_metadata-1.6.1-0\n",
            "  ipykernel          conda-forge/linux-64::ipykernel-5.3.0-py37h43977f1_0\n",
            "  ipython            conda-forge/linux-64::ipython-7.15.0-py37hc8dfbb8_0\n",
            "  ipython_genutils   conda-forge/noarch::ipython_genutils-0.2.0-py_1\n",
            "  ipywidgets         conda-forge/noarch::ipywidgets-7.5.1-py_0\n",
            "  jedi               conda-forge/linux-64::jedi-0.17.0-py37hc8dfbb8_0\n",
            "  jinja2             conda-forge/noarch::jinja2-2.11.2-pyh9f0ad1d_0\n",
            "  joblib             conda-forge/noarch::joblib-0.15.1-py_0\n",
            "  jpeg               conda-forge/linux-64::jpeg-9d-h516909a_0\n",
            "  jsonschema         conda-forge/linux-64::jsonschema-3.2.0-py37hc8dfbb8_1\n",
            "  jupyter            conda-forge/noarch::jupyter-1.0.0-py_2\n",
            "  jupyter_client     conda-forge/noarch::jupyter_client-6.1.3-py_0\n",
            "  jupyter_console    conda-forge/noarch::jupyter_console-6.1.0-py_1\n",
            "  jupyter_core       conda-forge/linux-64::jupyter_core-4.6.3-py37hc8dfbb8_1\n",
            "  keras-applications conda-forge/noarch::keras-applications-1.0.8-py_1\n",
            "  keras-preprocessi~ conda-forge/noarch::keras-preprocessing-1.1.0-py_0\n",
            "  kiwisolver         conda-forge/linux-64::kiwisolver-1.2.0-py37h99015e2_0\n",
            "  libblas            conda-forge/linux-64::libblas-3.8.0-14_openblas\n",
            "  libboost           pkgs/main/linux-64::libboost-1.67.0-h46d08c1_4\n",
            "  libcblas           conda-forge/linux-64::libcblas-3.8.0-14_openblas\n",
            "  libgfortran-ng     conda-forge/linux-64::libgfortran-ng-7.5.0-hdf63c60_6\n",
            "  libiconv           conda-forge/linux-64::libiconv-1.15-h516909a_1006\n",
            "  liblapack          conda-forge/linux-64::liblapack-3.8.0-14_openblas\n",
            "  libopenblas        conda-forge/linux-64::libopenblas-0.3.7-h5ec1e0e_6\n",
            "  libpng             conda-forge/linux-64::libpng-1.6.37-hed695b0_1\n",
            "  libprotobuf        conda-forge/linux-64::libprotobuf-3.12.3-h8b12597_0\n",
            "  libsodium          conda-forge/linux-64::libsodium-1.0.17-h516909a_0\n",
            "  libtiff            conda-forge/linux-64::libtiff-4.1.0-hc7e4089_6\n",
            "  libuuid            conda-forge/linux-64::libuuid-2.32.1-h14c3975_1000\n",
            "  libwebp-base       conda-forge/linux-64::libwebp-base-1.1.0-h516909a_3\n",
            "  libxcb             conda-forge/linux-64::libxcb-1.13-h14c3975_1002\n",
            "  libxgboost         conda-forge/linux-64::libxgboost-1.0.2-he1b5a44_1\n",
            "  libxml2            conda-forge/linux-64::libxml2-2.9.9-h13577e0_2\n",
            "  lz4-c              conda-forge/linux-64::lz4-c-1.8.3-he1b5a44_1001\n",
            "  lzo                conda-forge/linux-64::lzo-2.10-h14c3975_1000\n",
            "  markdown           conda-forge/noarch::markdown-3.2.2-py_0\n",
            "  markupsafe         conda-forge/linux-64::markupsafe-1.1.1-py37h8f50634_1\n",
            "  matplotlib         pkgs/main/linux-64::matplotlib-3.1.2-py37h4fdacc2_0\n",
            "  mdtraj             conda-forge/linux-64::mdtraj-1.9.4-py37h4112681_0\n",
            "  mistune            conda-forge/linux-64::mistune-0.8.4-py37h8f50634_1001\n",
            "  mock               conda-forge/linux-64::mock-4.0.2-py37hc8dfbb8_0\n",
            "  nbconvert          conda-forge/linux-64::nbconvert-5.6.1-py37hc8dfbb8_1\n",
            "  nbformat           conda-forge/noarch::nbformat-5.0.6-py_0\n",
            "  networkx           conda-forge/noarch::networkx-2.4-py_1\n",
            "  notebook           conda-forge/linux-64::notebook-6.0.3-py37hc8dfbb8_0\n",
            "  numexpr            conda-forge/linux-64::numexpr-2.7.1-py37h0da4684_1\n",
            "  numpy              conda-forge/linux-64::numpy-1.18.5-py37h8960a57_0\n",
            "  olefile            conda-forge/noarch::olefile-0.46-py_0\n",
            "  openmm             omnia/linux-64::openmm-7.4.2-py37_cuda101_rc_1\n",
            "  packaging          conda-forge/noarch::packaging-20.4-pyh9f0ad1d_0\n",
            "  pandas             conda-forge/linux-64::pandas-1.0.4-py37h0da4684_0\n",
            "  pandoc             conda-forge/linux-64::pandoc-2.9.2.1-0\n",
            "  pandocfilters      conda-forge/noarch::pandocfilters-1.4.2-py_1\n",
            "  parso              conda-forge/noarch::parso-0.7.0-pyh9f0ad1d_0\n",
            "  pcre               conda-forge/linux-64::pcre-8.44-he1b5a44_0\n",
            "  pdbfixer           omnia/linux-64::pdbfixer-1.6-py37_0\n",
            "  pexpect            conda-forge/linux-64::pexpect-4.8.0-py37hc8dfbb8_1\n",
            "  pickleshare        conda-forge/linux-64::pickleshare-0.7.5-py37hc8dfbb8_1001\n",
            "  pillow             conda-forge/linux-64::pillow-5.3.0-py37h00a061d_1000\n",
            "  pixman             conda-forge/linux-64::pixman-0.38.0-h516909a_1003\n",
            "  prometheus_client  conda-forge/noarch::prometheus_client-0.8.0-pyh9f0ad1d_0\n",
            "  prompt-toolkit     conda-forge/noarch::prompt-toolkit-3.0.5-py_0\n",
            "  prompt_toolkit     conda-forge/noarch::prompt_toolkit-3.0.5-0\n",
            "  protobuf           conda-forge/linux-64::protobuf-3.12.3-py37h3340039_0\n",
            "  pthread-stubs      conda-forge/linux-64::pthread-stubs-0.4-h14c3975_1001\n",
            "  ptyprocess         conda-forge/noarch::ptyprocess-0.6.0-py_1001\n",
            "  py-boost           pkgs/main/linux-64::py-boost-1.67.0-py37h04863e7_4\n",
            "  py-xgboost         conda-forge/linux-64::py-xgboost-1.0.2-py37hc8dfbb8_1\n",
            "  pygments           conda-forge/noarch::pygments-2.6.1-py_0\n",
            "  pyparsing          conda-forge/noarch::pyparsing-2.4.7-pyh9f0ad1d_0\n",
            "  pyqt               conda-forge/linux-64::pyqt-5.9.2-py37hcca6a23_4\n",
            "  pyrsistent         conda-forge/linux-64::pyrsistent-0.16.0-py37h8f50634_0\n",
            "  pytables           conda-forge/linux-64::pytables-3.6.1-py37h9f153d1_1\n",
            "  python-dateutil    conda-forge/noarch::python-dateutil-2.8.1-py_0\n",
            "  python_abi         conda-forge/linux-64::python_abi-3.7-1_cp37m\n",
            "  pytz               conda-forge/noarch::pytz-2020.1-pyh9f0ad1d_0\n",
            "  pyzmq              conda-forge/linux-64::pyzmq-19.0.1-py37hac76be4_0\n",
            "  qt                 conda-forge/linux-64::qt-5.9.7-h52cfd70_2\n",
            "  qtconsole          conda-forge/noarch::qtconsole-4.7.4-pyh9f0ad1d_0\n",
            "  qtpy               conda-forge/noarch::qtpy-1.9.0-py_0\n",
            "  rdkit              rdkit/linux-64::rdkit-2020.03.2.0-py37hc20afe1_1\n",
            "  scikit-learn       conda-forge/linux-64::scikit-learn-0.23.1-py37h8a51577_0\n",
            "  scipy              conda-forge/linux-64::scipy-1.4.1-py37ha3d9a3c_3\n",
            "  send2trash         conda-forge/noarch::send2trash-1.5.0-py_0\n",
            "  simdna             deepchem/noarch::simdna-0.4.2-py_0\n",
            "  sip                conda-forge/linux-64::sip-4.19.8-py37hf484d3e_1000\n",
            "  snappy             conda-forge/linux-64::snappy-1.1.8-he1b5a44_1\n",
            "  tensorboard        conda-forge/linux-64::tensorboard-1.14.0-py37_0\n",
            "  tensorflow         pkgs/main/linux-64::tensorflow-1.14.0-gpu_py37h74c33d7_0\n",
            "  tensorflow-base    pkgs/main/linux-64::tensorflow-base-1.14.0-gpu_py37he45bfe2_0\n",
            "  tensorflow-estima~ conda-forge/linux-64::tensorflow-estimator-1.14.0-py37h5ca1d4c_0\n",
            "  tensorflow-gpu     pkgs/main/linux-64::tensorflow-gpu-1.14.0-h0d30ee6_0\n",
            "  termcolor          conda-forge/noarch::termcolor-1.1.0-py_2\n",
            "  terminado          conda-forge/linux-64::terminado-0.8.3-py37hc8dfbb8_1\n",
            "  testpath           conda-forge/noarch::testpath-0.4.4-py_0\n",
            "  threadpoolctl      conda-forge/noarch::threadpoolctl-2.1.0-pyh5ca1d4c_0\n",
            "  tornado            conda-forge/linux-64::tornado-6.0.4-py37h8f50634_1\n",
            "  traitlets          conda-forge/linux-64::traitlets-4.3.3-py37hc8dfbb8_1\n",
            "  wcwidth            conda-forge/noarch::wcwidth-0.2.3-pyh9f0ad1d_0\n",
            "  webencodings       conda-forge/noarch::webencodings-0.5.1-py_1\n",
            "  werkzeug           conda-forge/noarch::werkzeug-1.0.1-pyh9f0ad1d_0\n",
            "  widgetsnbextension conda-forge/linux-64::widgetsnbextension-3.5.1-py37_0\n",
            "  wrapt              conda-forge/linux-64::wrapt-1.12.1-py37h8f50634_1\n",
            "  xgboost            conda-forge/linux-64::xgboost-1.0.2-py37h3340039_1\n",
            "  xorg-kbproto       conda-forge/linux-64::xorg-kbproto-1.0.7-h14c3975_1002\n",
            "  xorg-libice        conda-forge/linux-64::xorg-libice-1.0.10-h516909a_0\n",
            "  xorg-libsm         conda-forge/linux-64::xorg-libsm-1.2.3-h84519dc_1000\n",
            "  xorg-libx11        conda-forge/linux-64::xorg-libx11-1.6.9-h516909a_0\n",
            "  xorg-libxau        conda-forge/linux-64::xorg-libxau-1.0.9-h14c3975_0\n",
            "  xorg-libxdmcp      conda-forge/linux-64::xorg-libxdmcp-1.1.3-h516909a_0\n",
            "  xorg-libxext       conda-forge/linux-64::xorg-libxext-1.3.4-h516909a_0\n",
            "  xorg-libxrender    conda-forge/linux-64::xorg-libxrender-0.9.10-h516909a_1002\n",
            "  xorg-renderproto   conda-forge/linux-64::xorg-renderproto-0.11.1-h14c3975_1002\n",
            "  xorg-xextproto     conda-forge/linux-64::xorg-xextproto-7.3.0-h14c3975_1002\n",
            "  xorg-xproto        conda-forge/linux-64::xorg-xproto-7.0.31-h14c3975_1007\n",
            "  zeromq             conda-forge/linux-64::zeromq-4.3.2-he1b5a44_2\n",
            "  zipp               conda-forge/noarch::zipp-3.1.0-py_0\n",
            "  zstd               conda-forge/linux-64::zstd-1.4.4-h3b9ef0a_2\n",
            "\n",
            "The following packages will be UPDATED:\n",
            "\n",
            "  ca-certificates     pkgs/main::ca-certificates-2020.1.1-0 --> conda-forge::ca-certificates-2020.4.5.1-hecc5488_0\n",
            "  certifi              pkgs/main::certifi-2019.11.28-py37_0 --> conda-forge::certifi-2020.4.5.1-py37hc8dfbb8_0\n",
            "  conda                       pkgs/main::conda-4.8.2-py37_0 --> conda-forge::conda-4.8.3-py37hc8dfbb8_1\n",
            "  openssl              pkgs/main::openssl-1.1.1d-h7b6447c_4 --> conda-forge::openssl-1.1.1g-h516909a_0\n",
            "\n",
            "\n",
            "\n",
            "Downloading and Extracting Packages\n",
            "openssl-1.1.1g       | 2.1 MB    | : 100% 1.0/1 [00:00<00:00,  1.52it/s]                \n",
            "decorator-4.4.2      | 11 KB     | : 100% 1.0/1 [00:00<00:00, 30.58it/s]\n",
            "freetype-2.10.2      | 905 KB    | : 100% 1.0/1 [00:00<00:00,  4.99it/s]\n",
            "pcre-8.44            | 261 KB    | : 100% 1.0/1 [00:00<00:00, 10.26it/s]\n",
            "networkx-2.4         | 1.2 MB    | : 100% 1.0/1 [00:00<00:00,  2.90it/s]\n",
            "jupyter-1.0.0        | 4 KB      | : 100% 1.0/1 [00:00<00:00, 31.75it/s]\n",
            "pyzmq-19.0.1         | 519 KB    | : 100% 1.0/1 [00:00<00:00,  6.04it/s]\n",
            "libprotobuf-3.12.3   | 4.9 MB    | : 100% 1.0/1 [00:01<00:00,  1.18s/it]\n",
            "xorg-libxau-1.0.9    | 13 KB     | : 100% 1.0/1 [00:00<00:00, 21.45it/s]\n",
            "lz4-c-1.8.3          | 187 KB    | : 100% 1.0/1 [00:00<00:00, 11.10it/s]\n",
            "keras-preprocessing- | 33 KB     | : 100% 1.0/1 [00:00<00:00, 29.08it/s]\n",
            "snappy-1.1.8         | 39 KB     | : 100% 1.0/1 [00:00<00:00, 27.56it/s]\n",
            "gettext-0.19.8.1     | 3.6 MB    | : 100% 1.0/1 [00:00<00:00,  1.07it/s]\n",
            "pandocfilters-1.4.2  | 9 KB      | : 100% 1.0/1 [00:00<00:00, 28.72it/s]\n",
            "importlib-metadata-1 | 44 KB     | : 100% 1.0/1 [00:00<00:00, 24.21it/s]\n",
            "ptyprocess-0.6.0     | 15 KB     | : 100% 1.0/1 [00:00<00:00, 36.33it/s]\n",
            "deepchem-gpu-2.3.0   | 2.1 MB    | : 100% 1.0/1 [00:02<00:00, 40.83s/it]               \n",
            "tensorflow-base-1.14 | 146.3 MB  | : 100% 1.0/1 [00:12<00:00, 12.98s/it]               \n",
            "xorg-libxext-1.3.4   | 51 KB     | : 100% 1.0/1 [00:00<00:00, 22.68it/s]\n",
            "sip-4.19.8           | 290 KB    | : 100% 1.0/1 [00:00<00:00, 13.17it/s]\n",
            "libxcb-1.13          | 396 KB    | : 100% 1.0/1 [00:00<00:00,  6.40it/s]\n",
            "tensorflow-1.14.0    | 4 KB      | : 100% 1.0/1 [00:00<00:00, 12.52it/s]\n",
            "pyparsing-2.4.7      | 60 KB     | : 100% 1.0/1 [00:00<00:00, 26.94it/s]\n",
            "icu-58.2             | 22.6 MB   | : 100% 1.0/1 [00:04<00:00,  4.97s/it]              \n",
            "dbus-1.13.6          | 602 KB    | : 100% 1.0/1 [00:00<00:00,  6.67it/s]\n",
            "parso-0.7.0          | 67 KB     | : 100% 1.0/1 [00:00<00:00, 21.27it/s]\n",
            "tensorboard-1.14.0   | 3.2 MB    | : 100% 1.0/1 [00:00<00:00,  1.63it/s]\n",
            "qt-5.9.7             | 85.9 MB   | : 100% 1.0/1 [00:17<00:00, 17.38s/it]               \n",
            "py-boost-1.67.0      | 278 KB    | : 100% 1.0/1 [00:00<00:00,  8.46it/s]\n",
            "prompt-toolkit-3.0.5 | 232 KB    | : 100% 1.0/1 [00:00<00:00,  9.03it/s]\n",
            "traitlets-4.3.3      | 133 KB    | : 100% 1.0/1 [00:00<00:00, 12.57it/s]\n",
            "jedi-0.17.0          | 807 KB    | : 100% 1.0/1 [00:00<00:00,  2.47it/s]\n",
            "pandas-1.0.4         | 10.1 MB   | : 100% 1.0/1 [00:02<00:00,  1.39s/it]              \n",
            "zeromq-4.3.2         | 668 KB    | : 100% 1.0/1 [00:00<00:00,  4.84it/s]\n",
            "olefile-0.46         | 31 KB     | : 100% 1.0/1 [00:00<00:00, 32.80it/s]\n",
            "jsonschema-3.2.0     | 89 KB     | : 100% 1.0/1 [00:00<00:00, 17.38it/s]\n",
            "scipy-1.4.1          | 18.8 MB   | : 100% 1.0/1 [00:03<00:00,  2.14s/it]                \n",
            "pixman-0.38.0        | 594 KB    | : 100% 1.0/1 [00:00<00:00,  7.30it/s]\n",
            "pillow-5.3.0         | 595 KB    | : 100% 1.0/1 [00:00<00:00,  5.59it/s]\n",
            "absl-py-0.9.0        | 162 KB    | : 100% 1.0/1 [00:00<00:00, 13.71it/s]\n",
            "jupyter_core-4.6.3   | 71 KB     | : 100% 1.0/1 [00:00<00:00, 17.50it/s]\n",
            "mdtraj-1.9.4         | 1.8 MB    | : 100% 1.0/1 [00:00<00:00,  2.58it/s]\n",
            "pygments-2.6.1       | 683 KB    | : 100% 1.0/1 [00:00<00:00,  4.77it/s]\n",
            "py-xgboost-1.0.2     | 2.2 MB    | : 100% 1.0/1 [00:00<00:00,  1.82it/s]\n",
            "kiwisolver-1.2.0     | 87 KB     | : 100% 1.0/1 [00:00<00:00, 26.77it/s]\n",
            "webencodings-0.5.1   | 12 KB     | : 100% 1.0/1 [00:00<00:00, 36.28it/s]\n",
            "google-pasta-0.2.0   | 42 KB     | : 100% 1.0/1 [00:00<00:00, 25.86it/s]\n",
            "fftw3f-3.3.4         | 1.2 MB    | : 100% 1.0/1 [00:01<00:00, 20.61s/it]                \n",
            "openmm-7.4.2         | 11.9 MB   | : 100% 1.0/1 [00:04<00:00,  4.05s/it]                \n",
            "ipython-7.15.0       | 1.1 MB    | : 100% 1.0/1 [00:00<00:00,  2.82it/s]\n",
            "ca-certificates-2020 | 146 KB    | : 100% 1.0/1 [00:00<00:00, 18.85it/s]\n",
            "xorg-libxdmcp-1.1.3  | 18 KB     | : 100% 1.0/1 [00:00<00:00, 36.96it/s]\n",
            "grpcio-1.23.0        | 1.1 MB    | : 100% 1.0/1 [00:00<00:00,  4.40it/s]\n",
            "jinja2-2.11.2        | 93 KB     | : 100% 1.0/1 [00:00<00:00, 19.39it/s]\n",
            "c-ares-1.15.0        | 100 KB    | : 100% 1.0/1 [00:00<00:00, 19.07it/s]\n",
            "cudatoolkit-10.1.243 | 347.4 MB  | : 100% 1.0/1 [00:09<00:00,  9.17s/it]               \n",
            "importlib_metadata-1 | 3 KB      | : 100% 1.0/1 [00:00<00:00, 28.34it/s]\n",
            "bzip2-1.0.8          | 396 KB    | : 100% 1.0/1 [00:00<00:00,  9.02it/s]\n",
            "libboost-1.67.0      | 13.0 MB   | : 100% 1.0/1 [00:02<00:00,  1.68s/it]               \n",
            "h5py-2.10.0          | 1.2 MB    | : 100% 1.0/1 [00:00<00:00,  3.32it/s]\n",
            "cycler-0.10.0        | 9 KB      | : 100% 1.0/1 [00:00<00:00, 39.28it/s]\n",
            "markdown-3.2.2       | 61 KB     | : 100% 1.0/1 [00:00<00:00,  9.62it/s]\n",
            "gstreamer-1.14.5     | 4.5 MB    | : 100% 1.0/1 [00:00<00:00,  1.03it/s]\n",
            "pdbfixer-1.6         | 190 KB    | : 100% 1.0/1 [00:01<00:00,  7.12s/it]              \n",
            "fontconfig-2.13.1    | 327 KB    | : 100% 1.0/1 [00:02<00:00,  2.31s/it]\n",
            "werkzeug-1.0.1       | 239 KB    | : 100% 1.0/1 [00:00<00:00, 11.38it/s]\n",
            "xorg-kbproto-1.0.7   | 26 KB     | : 100% 1.0/1 [00:00<00:00, 34.60it/s]\n",
            "liblapack-3.8.0      | 10 KB     | : 100% 1.0/1 [00:00<00:00, 36.40it/s]\n",
            "zipp-3.1.0           | 10 KB     | : 100% 1.0/1 [00:00<00:00, 37.75it/s]\n",
            "zstd-1.4.4           | 982 KB    | : 100% 1.0/1 [00:00<00:00,  4.91it/s]\n",
            "tensorflow-gpu-1.14. | 3 KB      | : 100% 1.0/1 [00:00<00:00, 14.17it/s]\n",
            "defusedxml-0.6.0     | 22 KB     | : 100% 1.0/1 [00:00<00:00, 25.20it/s]\n",
            "hdf5-1.10.5          | 3.1 MB    | : 100% 1.0/1 [00:00<00:00,  1.75it/s]\n",
            "numpy-1.18.5         | 5.1 MB    | : 100% 1.0/1 [00:01<00:00,  1.20s/it]\n",
            "nbconvert-5.6.1      | 487 KB    | : 100% 1.0/1 [00:00<00:00,  6.33it/s]\n",
            "bleach-3.1.5         | 112 KB    | : 100% 1.0/1 [00:00<00:00, 19.34it/s]\n",
            "protobuf-3.12.3      | 702 KB    | : 100% 1.0/1 [00:00<00:00,  4.21it/s]\n",
            "libuuid-2.32.1       | 26 KB     | : 100% 1.0/1 [00:00<00:00, 27.40it/s]\n",
            "pexpect-4.8.0        | 79 KB     | : 100% 1.0/1 [00:00<00:00, 20.83it/s]\n",
            "cudnn-7.6.5          | 179.9 MB  | : 100% 1.0/1 [00:09<00:00,  9.36s/it]               \n",
            "pyqt-5.9.2           | 5.7 MB    | : 100% 1.0/1 [00:01<00:00,  1.44s/it]\n",
            "libsodium-1.0.17     | 330 KB    | : 100% 1.0/1 [00:00<00:00, 10.13it/s]\n",
            "libtiff-4.1.0        | 668 KB    | : 100% 1.0/1 [00:00<00:00,  6.70it/s]\n",
            "terminado-0.8.3      | 23 KB     | : 100% 1.0/1 [00:00<00:00, 34.76it/s]\n",
            "python_abi-3.7       | 4 KB      | : 100% 1.0/1 [00:00<00:00, 37.37it/s]\n",
            "ipykernel-5.3.0      | 164 KB    | : 100% 1.0/1 [00:00<00:00, 14.27it/s]\n",
            "lzo-2.10             | 319 KB    | : 100% 1.0/1 [00:00<00:00,  9.57it/s]\n",
            "libwebp-base-1.1.0   | 845 KB    | : 100% 1.0/1 [00:00<00:00,  5.03it/s]\n",
            "qtpy-1.9.0           | 34 KB     | : 100% 1.0/1 [00:00<00:00, 26.62it/s]\n",
            "nbformat-5.0.6       | 99 KB     | : 100% 1.0/1 [00:00<00:00, 15.75it/s]\n",
            "pyrsistent-0.16.0    | 89 KB     | : 100% 1.0/1 [00:00<00:00, 22.34it/s]\n",
            "libgfortran-ng-7.5.0 | 1.7 MB    | : 100% 1.0/1 [00:00<00:00,  3.11it/s]\n",
            "certifi-2020.4.5.1   | 151 KB    | : 100% 1.0/1 [00:00<00:00, 22.40it/s]\n",
            "attrs-19.3.0         | 35 KB     | : 100% 1.0/1 [00:00<00:00, 32.70it/s]\n",
            "notebook-6.0.3       | 6.3 MB    | : 100% 1.0/1 [00:01<00:00,  1.57s/it]\n",
            "simdna-0.4.2         | 627 KB    | : 100% 1.0/1 [00:01<00:00,  9.64s/it]                \n",
            "wcwidth-0.2.3        | 33 KB     | : 100% 1.0/1 [00:00<00:00, 14.43it/s]\n",
            "gst-plugins-base-1.1 | 6.8 MB    | : 100% 1.0/1 [00:01<00:00,  1.34s/it]               \n",
            "termcolor-1.1.0      | 6 KB      | : 100% 1.0/1 [00:00<00:00, 36.29it/s]\n",
            "libblas-3.8.0        | 10 KB     | : 100% 1.0/1 [00:00<00:00, 41.14it/s]\n",
            "prometheus_client-0. | 44 KB     | : 100% 1.0/1 [00:00<00:00, 29.19it/s]\n",
            "threadpoolctl-2.1.0  | 15 KB     | : 100% 1.0/1 [00:00<00:00, 21.26it/s]\n",
            "send2trash-1.5.0     | 12 KB     | : 100% 1.0/1 [00:00<00:00, 36.29it/s]\n",
            "jupyter_client-6.1.3 | 74 KB     | : 100% 1.0/1 [00:00<00:00, 22.36it/s]\n",
            "libopenblas-0.3.7    | 7.6 MB    | : 100% 1.0/1 [00:01<00:00,  1.33s/it]               \n",
            "rdkit-2020.03.2.0    | 24.8 MB   | : 100% 1.0/1 [00:06<00:00,  6.07s/it]               \n",
            "pthread-stubs-0.4    | 5 KB      | : 100% 1.0/1 [00:00<00:00, 39.61it/s]\n",
            "libxml2-2.9.9        | 1.3 MB    | : 100% 1.0/1 [00:00<00:00,  2.30it/s]\n",
            "pandoc-2.9.2.1       | 18.7 MB   | : 100% 1.0/1 [00:05<00:00,  2.55s/it]                \n",
            "mistune-0.8.4        | 53 KB     | : 100% 1.0/1 [00:00<00:00, 20.66it/s]\n",
            "glib-2.64.3          | 3.4 MB    | : 100% 1.0/1 [00:01<00:00,  1.02s/it]\n",
            "xgboost-1.0.2        | 11 KB     | : 100% 1.0/1 [00:00<00:00, 31.37it/s]\n",
            "expat-2.2.9          | 191 KB    | : 100% 1.0/1 [00:00<00:00, 13.77it/s]\n",
            "xorg-libx11-1.6.9    | 918 KB    | : 100% 1.0/1 [00:00<00:00,  4.28it/s]\n",
            "cython-0.29.19       | 2.1 MB    | : 100% 1.0/1 [00:00<00:00,  1.83it/s]\n",
            "wrapt-1.12.1         | 46 KB     | : 100% 1.0/1 [00:00<00:00, 26.88it/s]\n",
            "jupyter_console-6.1. | 21 KB     | : 100% 1.0/1 [00:00<00:00, 33.85it/s]\n",
            "packaging-20.4       | 32 KB     | : 100% 1.0/1 [00:00<00:00, 23.88it/s]\n",
            "conda-4.8.3          | 3.0 MB    | : 100% 1.0/1 [00:00<00:00,  1.37it/s]\n",
            "backcall-0.1.0       | 13 KB     | : 100% 1.0/1 [00:00<00:00, 33.75it/s]\n",
            "xorg-libsm-1.2.3     | 25 KB     | : 100% 1.0/1 [00:00<00:00, 33.95it/s]\n",
            "gast-0.3.3           | 12 KB     | : 100% 1.0/1 [00:00<00:00, 38.44it/s]\n",
            "entrypoints-0.3      | 12 KB     | : 100% 1.0/1 [00:00<00:00, 31.28it/s]\n",
            "joblib-0.15.1        | 202 KB    | : 100% 1.0/1 [00:00<00:00, 11.04it/s]\n",
            "libpng-1.6.37        | 308 KB    | : 100% 1.0/1 [00:00<00:00, 10.15it/s]\n",
            "libxgboost-1.0.2     | 2.8 MB    | : 100% 1.0/1 [00:00<00:00,  1.67it/s]\n",
            "xorg-xproto-7.0.31   | 72 KB     | : 100% 1.0/1 [00:00<00:00, 23.29it/s]\n",
            "cairo-1.16.0         | 1.5 MB    | : 100% 1.0/1 [00:00<00:00,  2.42it/s]\n",
            "tornado-6.0.4        | 639 KB    | : 100% 1.0/1 [00:00<00:00,  3.45it/s]\n",
            "pytables-3.6.1       | 1.5 MB    | : 100% 1.0/1 [00:00<00:00,  2.32it/s]\n",
            "widgetsnbextension-3 | 1.8 MB    | : 100% 1.0/1 [00:00<00:00,  2.05it/s]\n",
            "_py-xgboost-mutex-2. | 8 KB      | : 100% 1.0/1 [00:00<00:00, 26.97it/s]\n",
            "cupti-10.1.168       | 1.4 MB    | : 100% 1.0/1 [00:00<00:00,  8.09it/s]\n",
            "numexpr-2.7.1        | 197 KB    | : 100% 1.0/1 [00:00<00:00, 14.14it/s]\n",
            "prompt_toolkit-3.0.5 | 4 KB      | : 100% 1.0/1 [00:00<00:00, 22.28it/s]\n",
            "testpath-0.4.4       | 85 KB     | : 100% 1.0/1 [00:00<00:00, 23.02it/s]\n",
            "scikit-learn-0.23.1  | 6.8 MB    | : 100% 1.0/1 [00:01<00:00,  1.73s/it]\n",
            "qtconsole-4.7.4      | 88 KB     | : 100% 1.0/1 [00:00<00:00, 21.07it/s]\n",
            "xorg-libice-1.0.10   | 57 KB     | : 100% 1.0/1 [00:00<00:00, 30.62it/s]\n",
            "libcblas-3.8.0       | 10 KB     | : 100% 1.0/1 [00:00<00:00, 27.52it/s]\n",
            "markupsafe-1.1.1     | 26 KB     | : 100% 1.0/1 [00:00<00:00, 30.51it/s]\n",
            "blosc-1.19.0         | 887 KB    | : 100% 1.0/1 [00:00<00:00,  5.24it/s]\n",
            "mock-4.0.2           | 51 KB     | : 100% 1.0/1 [00:00<00:00, 29.35it/s]\n",
            "pytz-2020.1          | 227 KB    | : 100% 1.0/1 [00:00<00:00,  7.74it/s]\n",
            "tensorflow-estimator | 645 KB    | : 100% 1.0/1 [00:00<00:00,  3.87it/s]\n",
            "python-dateutil-2.8. | 220 KB    | : 100% 1.0/1 [00:00<00:00, 17.75it/s]\n",
            "ipython_genutils-0.2 | 21 KB     | : 100% 1.0/1 [00:00<00:00, 33.72it/s]\n",
            "libiconv-1.15        | 2.0 MB    | : 100% 1.0/1 [00:00<00:00,  3.31it/s]\n",
            "xorg-renderproto-0.1 | 8 KB      | : 100% 1.0/1 [00:00<00:00, 42.27it/s]\n",
            "xorg-libxrender-0.9. | 31 KB     | : 100% 1.0/1 [00:00<00:00, 36.44it/s]\n",
            "ipywidgets-7.5.1     | 101 KB    | : 100% 1.0/1 [00:00<00:00, 22.21it/s]\n",
            "jpeg-9d              | 266 KB    | : 100% 1.0/1 [00:00<00:00, 10.63it/s]\n",
            "astor-0.7.1          | 22 KB     | : 100% 1.0/1 [00:00<00:00, 33.33it/s]\n",
            "keras-applications-1 | 30 KB     | : 100% 1.0/1 [00:00<00:00, 31.01it/s]\n",
            "_tflow_select-2.1.0  | 2 KB      | : 100% 1.0/1 [00:00<00:00, 14.02it/s]\n",
            "matplotlib-3.1.2     | 5.0 MB    | : 100% 1.0/1 [00:00<00:00,  4.06it/s]\n",
            "xorg-xextproto-7.3.0 | 27 KB     | : 100% 1.0/1 [00:00<00:00, 26.53it/s]\n",
            "pickleshare-0.7.5    | 13 KB     | : 100% 1.0/1 [00:00<00:00, 33.61it/s]\n",
            "Preparing transaction: \\ \b\b| \b\b/ \b\b- \b\b\\ \b\b| \b\b/ \b\b- \b\b\\ \b\b| \b\b/ \b\b- \b\b\\ \b\b| \b\b/ \b\b- \b\b\\ \b\b| \b\b/ \b\b- \b\b\\ \b\b| \b\b/ \b\b- \b\bdone\n",
            "Verifying transaction: | \b\b/ \b\b- \b\b\\ \b\b| \b\b/ \b\b- \b\b\\ \b\b| \b\b/ \b\b- \b\b\\ \b\b| \b\b/ \b\b- \b\b\\ \b\b| \b\b/ \b\b- \b\b\\ \b\b| \b\b/ \b\b- \b\b\\ \b\b| \b\b/ \b\b- \b\b\\ \b\b| \b\b/ \b\b- \b\b\\ \b\b| \b\b/ \b\b- \b\b\\ \b\b| \b\b/ \b\b- \b\b\\ \b\b| \b\b/ \b\b- \b\b\\ \b\b| \b\b/ \b\b- \b\b\\ \b\b| \b\b/ \b\b- \b\b\\ \b\b| \b\b/ \b\b- \b\b\\ \b\b| \b\b/ \b\b- \b\b\\ \b\b| \b\b/ \b\b- \b\b\\ \b\b| \b\bdone\n",
            "Executing transaction: - \b\b\\ \b\b| \b\b/ \b\b- \b\b\\ \b\b| \b\b/ \b\b- \b\b\\ \b\b| \b\b/ \b\b- \b\b\\ \b\b| \b\b/ \b\b- \b\b\\ \b\b| \b\b/ \b\b- \b\b\\ \b\b| \b\b/ \b\b- \b\b\\ \b\b| \b\b/ \b\b- \b\b\\ \b\b| \b\b/ \b\b- \b\b\\ \b\b| \b\b/ \b\b- \b\b\\ \b\b| \b\b/ \b\b- \b\b\\ \b\b| \b\b/ \b\b- \b\b\\ \b\b| b'Enabling notebook extension jupyter-js-widgets/extension...\\nPaths used for configuration of notebook: \\n    \\t/usr/local/etc/jupyter/nbconfig/notebook.d/plotlywidget.json\\n    \\t/usr/local/etc/jupyter/nbconfig/notebook.d/widgetsnbextension.json\\n    \\t/usr/local/etc/jupyter/nbconfig/notebook.json\\nPaths used for configuration of notebook: \\n    \\t/usr/local/etc/jupyter/nbconfig/notebook.d/plotlywidget.json\\n    \\t/usr/local/etc/jupyter/nbconfig/notebook.d/widgetsnbextension.json\\n      - Validating: \\x1b[32mOK\\x1b[0m\\nPaths used for configuration of notebook: \\n    \\t/usr/local/etc/jupyter/nbconfig/notebook.d/plotlywidget.json\\n    \\t/usr/local/etc/jupyter/nbconfig/notebook.d/widgetsnbextension.json\\n    \\t/usr/local/etc/jupyter/nbconfig/notebook.json\\n'\n",
            "\b\b/ \b\b- \b\b\\ \b\b| \b\b/ \b\b- \b\b\\ \b\b| \b\b/ \b\b- \b\b\\ \b\b| \b\b/ \b\b- \b\b\\ \b\b| \b\b/ \b\b- \b\b\\ \b\b| \b\b/ \b\b- \b\b\\ \b\b| \b\b/ \b\b- \b\b\\ \b\b| \b\b/ \b\b- \b\b\\ \b\b| \b\b/ \b\b- \b\b\\ \b\b| \b\b/ \b\b- \b\b\\ \b\b| \b\b/ \b\b- \b\b\\ \b\b| \b\b/ \b\b- \b\b\\ \b\b| \b\b/ \b\b- \b\b\\ \b\b| \b\b/ \b\b- \b\b\\ \b\b| \b\b/ \b\b- \b\b\\ \b\b| \b\bdone\n"
          ],
          "name": "stdout"
        }
      ]
    },
    {
      "cell_type": "code",
      "metadata": {
        "id": "vjmWGAsPIX0k",
        "colab_type": "code",
        "outputId": "853794c4-14e6-4f1c-a5e7-f6bd2411b6fd",
        "colab": {
          "base_uri": "https://localhost:8080/",
          "height": 232
        }
      },
      "source": [
        "import tensorflow as tf\n",
        "print(\"tf.__version__: %s\" % str(tf.__version__))\n",
        "device_name = tf.test.gpu_device_name()\n",
        "if not device_name:\n",
        "  raise SystemError('GPU device not found')\n",
        "print('Found GPU at: {}'.format(device_name))"
      ],
      "execution_count": 2,
      "outputs": [
        {
          "output_type": "stream",
          "text": [
            "tf.__version__: 2.2.0\n"
          ],
          "name": "stdout"
        },
        {
          "output_type": "error",
          "ename": "SystemError",
          "evalue": "ignored",
          "traceback": [
            "\u001b[0;31m---------------------------------------------------------------------------\u001b[0m",
            "\u001b[0;31mSystemError\u001b[0m                               Traceback (most recent call last)",
            "\u001b[0;32m<ipython-input-2-7c1227d29e25>\u001b[0m in \u001b[0;36m<module>\u001b[0;34m()\u001b[0m\n\u001b[1;32m      3\u001b[0m \u001b[0mdevice_name\u001b[0m \u001b[0;34m=\u001b[0m \u001b[0mtf\u001b[0m\u001b[0;34m.\u001b[0m\u001b[0mtest\u001b[0m\u001b[0;34m.\u001b[0m\u001b[0mgpu_device_name\u001b[0m\u001b[0;34m(\u001b[0m\u001b[0;34m)\u001b[0m\u001b[0;34m\u001b[0m\u001b[0;34m\u001b[0m\u001b[0m\n\u001b[1;32m      4\u001b[0m \u001b[0;32mif\u001b[0m \u001b[0;32mnot\u001b[0m \u001b[0mdevice_name\u001b[0m\u001b[0;34m:\u001b[0m\u001b[0;34m\u001b[0m\u001b[0;34m\u001b[0m\u001b[0m\n\u001b[0;32m----> 5\u001b[0;31m   \u001b[0;32mraise\u001b[0m \u001b[0mSystemError\u001b[0m\u001b[0;34m(\u001b[0m\u001b[0;34m'GPU device not found'\u001b[0m\u001b[0;34m)\u001b[0m\u001b[0;34m\u001b[0m\u001b[0;34m\u001b[0m\u001b[0m\n\u001b[0m\u001b[1;32m      6\u001b[0m \u001b[0mprint\u001b[0m\u001b[0;34m(\u001b[0m\u001b[0;34m'Found GPU at: {}'\u001b[0m\u001b[0;34m.\u001b[0m\u001b[0mformat\u001b[0m\u001b[0;34m(\u001b[0m\u001b[0mdevice_name\u001b[0m\u001b[0;34m)\u001b[0m\u001b[0;34m)\u001b[0m\u001b[0;34m\u001b[0m\u001b[0;34m\u001b[0m\u001b[0m\n",
            "\u001b[0;31mSystemError\u001b[0m: GPU device not found"
          ]
        }
      ]
    },
    {
      "cell_type": "code",
      "metadata": {
        "id": "S49EDLC9IeR9",
        "colab_type": "code",
        "outputId": "c4afe4f6-fcc6-4916-bc2c-54e0fa73350c",
        "colab": {
          "base_uri": "https://localhost:8080/",
          "height": 136
        }
      },
      "source": [
        "!git clone https://github.com/deepchem/deepchem.git"
      ],
      "execution_count": 3,
      "outputs": [
        {
          "output_type": "stream",
          "text": [
            "Cloning into 'deepchem'...\n",
            "remote: Enumerating objects: 17, done.\u001b[K\n",
            "remote: Counting objects: 100% (17/17), done.\u001b[K\n",
            "remote: Compressing objects: 100% (17/17), done.\u001b[K\n",
            "remote: Total 31782 (delta 0), reused 5 (delta 0), pack-reused 31765\u001b[K\n",
            "Receiving objects: 100% (31782/31782), 439.01 MiB | 32.88 MiB/s, done.\n",
            "Resolving deltas: 100% (23408/23408), done.\n"
          ],
          "name": "stdout"
        }
      ]
    },
    {
      "cell_type": "code",
      "metadata": {
        "id": "eVANNwVGIsCD",
        "colab_type": "code",
        "outputId": "324ea057-ea1b-4d7e-d278-1214e429c784",
        "colab": {
          "base_uri": "https://localhost:8080/",
          "height": 34
        }
      },
      "source": [
        "%cd deepchem/"
      ],
      "execution_count": 4,
      "outputs": [
        {
          "output_type": "stream",
          "text": [
            "/content/deepchem\n"
          ],
          "name": "stdout"
        }
      ]
    },
    {
      "cell_type": "code",
      "metadata": {
        "id": "r1W63OsPIwQQ",
        "colab_type": "code",
        "outputId": "df9ed6c3-2e48-4920-f355-9dac5a883690",
        "colab": {
          "base_uri": "https://localhost:8080/",
          "height": 1000
        }
      },
      "source": [
        "!python setup.py install"
      ],
      "execution_count": 5,
      "outputs": [
        {
          "output_type": "stream",
          "text": [
            "\u001b[?25l\r\u001b[K     |███                             | 10 kB 22.4 MB/s eta 0:00:01\r\u001b[K     |██████                          | 20 kB 6.3 MB/s eta 0:00:01\r\u001b[K     |█████████                       | 30 kB 7.5 MB/s eta 0:00:01\r\u001b[K     |████████████                    | 40 kB 7.6 MB/s eta 0:00:01\r\u001b[K     |██████████████▉                 | 51 kB 6.4 MB/s eta 0:00:01\r\u001b[K     |█████████████████▉              | 61 kB 7.0 MB/s eta 0:00:01\r\u001b[K     |████████████████████▉           | 71 kB 7.8 MB/s eta 0:00:01\r\u001b[K     |███████████████████████▉        | 81 kB 7.7 MB/s eta 0:00:01\r\u001b[K     |██████████████████████████▊     | 92 kB 8.4 MB/s eta 0:00:01\r\u001b[K     |█████████████████████████████▊  | 102 kB 8.9 MB/s eta 0:00:01\r\u001b[K     |████████████████████████████████| 110 kB 8.9 MB/s \n",
            "\u001b[?25hrunning install\n",
            "[pbr] Writing ChangeLog\n",
            "[pbr] Generating ChangeLog\n",
            "[pbr] ChangeLog complete (0.1s)\n",
            "[pbr] Generating AUTHORS\n",
            "[pbr] AUTHORS complete (0.2s)\n",
            "running build\n",
            "running build_py\n",
            "creating build\n",
            "creating build/lib\n",
            "creating build/lib/deepchem\n",
            "creating build/lib/deepchem/metalearning\n",
            "copying deepchem/metalearning/maml.py -> build/lib/deepchem/metalearning\n",
            "copying deepchem/metalearning/__init__.py -> build/lib/deepchem/metalearning\n",
            "creating build/lib/deepchem/feat\n",
            "copying deepchem/feat/atomic_coordinates.py -> build/lib/deepchem/feat\n",
            "copying deepchem/feat/mol_graphs.py -> build/lib/deepchem/feat\n",
            "copying deepchem/feat/coulomb_matrices.py -> build/lib/deepchem/feat\n",
            "copying deepchem/feat/fingerprints.py -> build/lib/deepchem/feat\n",
            "copying deepchem/feat/graph_features.py -> build/lib/deepchem/feat\n",
            "copying deepchem/feat/raw_featurizer.py -> build/lib/deepchem/feat\n",
            "copying deepchem/feat/__init__.py -> build/lib/deepchem/feat\n",
            "copying deepchem/feat/base_classes.py -> build/lib/deepchem/feat\n",
            "copying deepchem/feat/smiles_featurizers.py -> build/lib/deepchem/feat\n",
            "copying deepchem/feat/basic.py -> build/lib/deepchem/feat\n",
            "copying deepchem/feat/binding_pocket_features.py -> build/lib/deepchem/feat\n",
            "copying deepchem/feat/one_hot.py -> build/lib/deepchem/feat\n",
            "copying deepchem/feat/adjacency_fingerprints.py -> build/lib/deepchem/feat\n",
            "copying deepchem/feat/rdkit_grid_featurizer.py -> build/lib/deepchem/feat\n",
            "creating build/lib/deepchem/data\n",
            "copying deepchem/data/__init__.py -> build/lib/deepchem/data\n",
            "copying deepchem/data/supports.py -> build/lib/deepchem/data\n",
            "copying deepchem/data/datasets.py -> build/lib/deepchem/data\n",
            "copying deepchem/data/data_loader.py -> build/lib/deepchem/data\n",
            "creating build/lib/deepchem/rl\n",
            "creating build/lib/deepchem/rl/envs\n",
            "copying deepchem/rl/envs/__init__.py -> build/lib/deepchem/rl/envs\n",
            "copying deepchem/rl/envs/test_tictactoe.py -> build/lib/deepchem/rl/envs\n",
            "copying deepchem/rl/envs/tictactoe.py -> build/lib/deepchem/rl/envs\n",
            "creating build/lib/deepchem/models\n",
            "creating build/lib/deepchem/models/xgboost_models\n",
            "copying deepchem/models/xgboost_models/__init__.py -> build/lib/deepchem/models/xgboost_models\n",
            "creating build/lib/deepchem/molnet\n",
            "copying deepchem/molnet/__init__.py -> build/lib/deepchem/molnet\n",
            "copying deepchem/molnet/run_benchmark.py -> build/lib/deepchem/molnet\n",
            "copying deepchem/molnet/check_availability.py -> build/lib/deepchem/molnet\n",
            "copying deepchem/molnet/dnasim.py -> build/lib/deepchem/molnet\n",
            "copying deepchem/molnet/run_benchmark_low_data.py -> build/lib/deepchem/molnet\n",
            "copying deepchem/molnet/run_benchmark_models.py -> build/lib/deepchem/molnet\n",
            "copying deepchem/molnet/preset_hyper_parameters.py -> build/lib/deepchem/molnet\n",
            "creating build/lib/deepchem/splits\n",
            "copying deepchem/splits/test_scaffold_splitter.py -> build/lib/deepchem/splits\n",
            "copying deepchem/splits/splitters.py -> build/lib/deepchem/splits\n",
            "copying deepchem/splits/__init__.py -> build/lib/deepchem/splits\n",
            "copying deepchem/splits/test_specified_index_splitter.py -> build/lib/deepchem/splits\n",
            "copying deepchem/splits/task_splitter.py -> build/lib/deepchem/splits\n",
            "creating build/lib/deepchem/models/tests\n",
            "copying deepchem/models/tests/test_textcnnmodel.py -> build/lib/deepchem/models/tests\n",
            "copying deepchem/models/tests/test_kerasmodel.py -> build/lib/deepchem/models/tests\n",
            "copying deepchem/models/tests/test_layers.py -> build/lib/deepchem/models/tests\n",
            "copying deepchem/models/tests/test_cnn.py -> build/lib/deepchem/models/tests\n",
            "copying deepchem/models/tests/test_generalize.py -> build/lib/deepchem/models/tests\n",
            "copying deepchem/models/tests/test_graph_models.py -> build/lib/deepchem/models/tests\n",
            "copying deepchem/models/tests/test_chemnet_models.py -> build/lib/deepchem/models/tests\n",
            "copying deepchem/models/tests/__init__.py -> build/lib/deepchem/models/tests\n",
            "copying deepchem/models/tests/test_multitask.py -> build/lib/deepchem/models/tests\n",
            "copying deepchem/models/tests/test_layers_from_config.py -> build/lib/deepchem/models/tests\n",
            "copying deepchem/models/tests/test_gan.py -> build/lib/deepchem/models/tests\n",
            "copying deepchem/models/tests/test_predict.py -> build/lib/deepchem/models/tests\n",
            "copying deepchem/models/tests/test_atomic_conv.py -> build/lib/deepchem/models/tests\n",
            "copying deepchem/models/tests/test_overfit.py -> build/lib/deepchem/models/tests\n",
            "copying deepchem/models/tests/test_singletask_to_multitask.py -> build/lib/deepchem/models/tests\n",
            "copying deepchem/models/tests/test_pretrained.py -> build/lib/deepchem/models/tests\n",
            "copying deepchem/models/tests/test_reload.py -> build/lib/deepchem/models/tests\n",
            "copying deepchem/models/tests/test_scscore.py -> build/lib/deepchem/models/tests\n",
            "copying deepchem/models/tests/test_optimizers.py -> build/lib/deepchem/models/tests\n",
            "copying deepchem/models/tests/test_api.py -> build/lib/deepchem/models/tests\n",
            "copying deepchem/models/tests/test_callbacks.py -> build/lib/deepchem/models/tests\n",
            "copying deepchem/models/tests/test_seqtoseq.py -> build/lib/deepchem/models/tests\n",
            "creating build/lib/deepchem/utils\n",
            "creating build/lib/deepchem/utils/test\n",
            "copying deepchem/utils/test/test_rdkit_util.py -> build/lib/deepchem/utils/test\n",
            "copying deepchem/utils/test/test_generator_evaluator.py -> build/lib/deepchem/utils/test\n",
            "copying deepchem/utils/test/__init__.py -> build/lib/deepchem/utils/test\n",
            "copying deepchem/utils/test/test_voxel_utils.py -> build/lib/deepchem/utils/test\n",
            "copying deepchem/utils/test/test_hash_utils.py -> build/lib/deepchem/utils/test\n",
            "copying deepchem/utils/test/test_seq.py -> build/lib/deepchem/utils/test\n",
            "copying deepchem/utils/test/test_coordinate_box_utils.py -> build/lib/deepchem/utils/test\n",
            "copying deepchem/utils/test/test_geometry_utils.py -> build/lib/deepchem/utils/test\n",
            "creating build/lib/deepchem/dock\n",
            "creating build/lib/deepchem/dock/tests\n",
            "copying deepchem/dock/tests/test_binding_pocket.py -> build/lib/deepchem/dock/tests\n",
            "copying deepchem/dock/tests/__init__.py -> build/lib/deepchem/dock/tests\n",
            "copying deepchem/dock/tests/test_pose_scoring.py -> build/lib/deepchem/dock/tests\n",
            "copying deepchem/dock/tests/test_docking.py -> build/lib/deepchem/dock/tests\n",
            "copying deepchem/dock/tests/test_pose_generation.py -> build/lib/deepchem/dock/tests\n",
            "creating build/lib/deepchem/models/sklearn_models\n",
            "copying deepchem/models/sklearn_models/__init__.py -> build/lib/deepchem/models/sklearn_models\n",
            "creating build/lib/deepchem/molnet/load_function\n",
            "copying deepchem/molnet/load_function/clintox_datasets.py -> build/lib/deepchem/molnet/load_function\n",
            "copying deepchem/molnet/load_function/chembl_datasets.py -> build/lib/deepchem/molnet/load_function\n",
            "copying deepchem/molnet/load_function/bbbp_datasets.py -> build/lib/deepchem/molnet/load_function\n",
            "copying deepchem/molnet/load_function/uv_datasets.py -> build/lib/deepchem/molnet/load_function\n",
            "copying deepchem/molnet/load_function/muv_datasets.py -> build/lib/deepchem/molnet/load_function\n",
            "copying deepchem/molnet/load_function/toxcast_datasets.py -> build/lib/deepchem/molnet/load_function\n",
            "copying deepchem/molnet/load_function/chembl_tasks.py -> build/lib/deepchem/molnet/load_function\n",
            "copying deepchem/molnet/load_function/ppb_datasets.py -> build/lib/deepchem/molnet/load_function\n",
            "copying deepchem/molnet/load_function/nci_datasets.py -> build/lib/deepchem/molnet/load_function\n",
            "copying deepchem/molnet/load_function/thermosol_datasets.py -> build/lib/deepchem/molnet/load_function\n",
            "copying deepchem/molnet/load_function/kinase_datasets.py -> build/lib/deepchem/molnet/load_function\n",
            "copying deepchem/molnet/load_function/cell_counting_datasets.py -> build/lib/deepchem/molnet/load_function\n",
            "copying deepchem/molnet/load_function/qm7_datasets.py -> build/lib/deepchem/molnet/load_function\n",
            "copying deepchem/molnet/load_function/sider_datasets.py -> build/lib/deepchem/molnet/load_function\n",
            "copying deepchem/molnet/load_function/qm8_datasets.py -> build/lib/deepchem/molnet/load_function\n",
            "copying deepchem/molnet/load_function/uv_tasks.py -> build/lib/deepchem/molnet/load_function\n",
            "copying deepchem/molnet/load_function/__init__.py -> build/lib/deepchem/molnet/load_function\n",
            "copying deepchem/molnet/load_function/factors_datasets.py -> build/lib/deepchem/molnet/load_function\n",
            "copying deepchem/molnet/load_function/delaney_datasets.py -> build/lib/deepchem/molnet/load_function\n",
            "copying deepchem/molnet/load_function/hopv_datasets.py -> build/lib/deepchem/molnet/load_function\n",
            "copying deepchem/molnet/load_function/hiv_datasets.py -> build/lib/deepchem/molnet/load_function\n",
            "copying deepchem/molnet/load_function/kaggle_features.py -> build/lib/deepchem/molnet/load_function\n",
            "copying deepchem/molnet/load_function/bace_datasets.py -> build/lib/deepchem/molnet/load_function\n",
            "copying deepchem/molnet/load_function/qm9_datasets.py -> build/lib/deepchem/molnet/load_function\n",
            "copying deepchem/molnet/load_function/clearance_datasets.py -> build/lib/deepchem/molnet/load_function\n",
            "copying deepchem/molnet/load_function/sampl_datasets.py -> build/lib/deepchem/molnet/load_function\n",
            "copying deepchem/molnet/load_function/tox21_datasets.py -> build/lib/deepchem/molnet/load_function\n",
            "copying deepchem/molnet/load_function/bbbc_datasets.py -> build/lib/deepchem/molnet/load_function\n",
            "copying deepchem/molnet/load_function/pcba_datasets.py -> build/lib/deepchem/molnet/load_function\n",
            "copying deepchem/molnet/load_function/pdbbind_datasets.py -> build/lib/deepchem/molnet/load_function\n",
            "copying deepchem/molnet/load_function/sweetlead_datasets.py -> build/lib/deepchem/molnet/load_function\n",
            "copying deepchem/molnet/load_function/kaggle_datasets.py -> build/lib/deepchem/molnet/load_function\n",
            "copying deepchem/molnet/load_function/hppb_datasets.py -> build/lib/deepchem/molnet/load_function\n",
            "copying deepchem/molnet/load_function/bace_features.py -> build/lib/deepchem/molnet/load_function\n",
            "copying deepchem/molnet/load_function/lipo_datasets.py -> build/lib/deepchem/molnet/load_function\n",
            "copying deepchem/molnet/load_function/uspto_datasets.py -> build/lib/deepchem/molnet/load_function\n",
            "copying deepchem/molnet/load_function/chembl25_datasets.py -> build/lib/deepchem/molnet/load_function\n",
            "creating build/lib/deepchem/trans\n",
            "copying deepchem/trans/__init__.py -> build/lib/deepchem/trans\n",
            "copying deepchem/trans/transformers.py -> build/lib/deepchem/trans\n",
            "creating build/lib/deepchem/data/tests\n",
            "copying deepchem/data/tests/test_drop.py -> build/lib/deepchem/data/tests\n",
            "copying deepchem/data/tests/test_image_loader.py -> build/lib/deepchem/data/tests\n",
            "copying deepchem/data/tests/test_support_generator.py -> build/lib/deepchem/data/tests\n",
            "copying deepchem/data/tests/test_load.py -> build/lib/deepchem/data/tests\n",
            "copying deepchem/data/tests/__init__.py -> build/lib/deepchem/data/tests\n",
            "copying deepchem/data/tests/test_csv_loader.py -> build/lib/deepchem/data/tests\n",
            "copying deepchem/data/tests/test_fasta_loader.py -> build/lib/deepchem/data/tests\n",
            "copying deepchem/data/tests/test_merge.py -> build/lib/deepchem/data/tests\n",
            "copying deepchem/data/tests/test_data_loader.py -> build/lib/deepchem/data/tests\n",
            "copying deepchem/data/tests/test_datasets.py -> build/lib/deepchem/data/tests\n",
            "copying deepchem/data/tests/test_reload.py -> build/lib/deepchem/data/tests\n",
            "copying deepchem/data/tests/test_shuffle.py -> build/lib/deepchem/data/tests\n",
            "copying deepchem/data/tests/test_image_dataset.py -> build/lib/deepchem/data/tests\n",
            "copying deepchem/__init__.py -> build/lib/deepchem\n",
            "copying deepchem/rl/ppo.py -> build/lib/deepchem/rl\n",
            "copying deepchem/rl/a2c.py -> build/lib/deepchem/rl\n",
            "copying deepchem/rl/__init__.py -> build/lib/deepchem/rl\n",
            "creating build/lib/deepchem/feat/tests\n",
            "copying deepchem/feat/tests/test_sdf_reader.py -> build/lib/deepchem/feat/tests\n",
            "copying deepchem/feat/tests/test_convmol.py -> build/lib/deepchem/feat/tests\n",
            "copying deepchem/feat/tests/test_features.py -> build/lib/deepchem/feat/tests\n",
            "copying deepchem/feat/tests/test_coulomb_matrices.py -> build/lib/deepchem/feat/tests\n",
            "copying deepchem/feat/tests/test_fingerprints.py -> build/lib/deepchem/feat/tests\n",
            "copying deepchem/feat/tests/test_atomic_coordinates.py -> build/lib/deepchem/feat/tests\n",
            "copying deepchem/feat/tests/__init__.py -> build/lib/deepchem/feat/tests\n",
            "copying deepchem/feat/tests/test_binding_pocket_features.py -> build/lib/deepchem/feat/tests\n",
            "copying deepchem/feat/tests/test_smiles_featurizers.py -> build/lib/deepchem/feat/tests\n",
            "copying deepchem/feat/tests/test_one_hot.py -> build/lib/deepchem/feat/tests\n",
            "copying deepchem/feat/tests/test_graph_features.py -> build/lib/deepchem/feat/tests\n",
            "copying deepchem/feat/tests/test_mol_graphs.py -> build/lib/deepchem/feat/tests\n",
            "copying deepchem/feat/tests/test_rdkit_grid_features.py -> build/lib/deepchem/feat/tests\n",
            "copying deepchem/feat/tests/test_basic.py -> build/lib/deepchem/feat/tests\n",
            "creating build/lib/deepchem/hyper\n",
            "creating build/lib/deepchem/hyper/tests\n",
            "copying deepchem/hyper/tests/__init__.py -> build/lib/deepchem/hyper/tests\n",
            "copying deepchem/hyper/tests/test_hyperparam_opt.py -> build/lib/deepchem/hyper/tests\n",
            "copying deepchem/utils/save.py -> build/lib/deepchem/utils\n",
            "copying deepchem/utils/geometry_utils.py -> build/lib/deepchem/utils\n",
            "copying deepchem/utils/conformers.py -> build/lib/deepchem/utils\n",
            "copying deepchem/utils/__init__.py -> build/lib/deepchem/utils\n",
            "copying deepchem/utils/mol_xyz_util.py -> build/lib/deepchem/utils\n",
            "copying deepchem/utils/coordinate_box_utils.py -> build/lib/deepchem/utils\n",
            "copying deepchem/utils/evaluate.py -> build/lib/deepchem/utils\n",
            "copying deepchem/utils/voxel_utils.py -> build/lib/deepchem/utils\n",
            "copying deepchem/utils/rdkit_util.py -> build/lib/deepchem/utils\n",
            "copying deepchem/utils/hash_utils.py -> build/lib/deepchem/utils\n",
            "copying deepchem/utils/genomics.py -> build/lib/deepchem/utils\n",
            "copying deepchem/dock/pose_generation.py -> build/lib/deepchem/dock\n",
            "copying deepchem/dock/__init__.py -> build/lib/deepchem/dock\n",
            "copying deepchem/dock/docking.py -> build/lib/deepchem/dock\n",
            "copying deepchem/dock/pose_scoring.py -> build/lib/deepchem/dock\n",
            "copying deepchem/dock/binding_pocket.py -> build/lib/deepchem/dock\n",
            "creating build/lib/deepchem/metrics\n",
            "copying deepchem/metrics/genomic_metrics.py -> build/lib/deepchem/metrics\n",
            "copying deepchem/metrics/__init__.py -> build/lib/deepchem/metrics\n",
            "creating build/lib/deepchem/molnet/tests\n",
            "copying deepchem/molnet/tests/test_molnet.py -> build/lib/deepchem/molnet/tests\n",
            "copying deepchem/molnet/tests/__init__.py -> build/lib/deepchem/molnet/tests\n",
            "copying deepchem/molnet/tests/test_dnasim.py -> build/lib/deepchem/molnet/tests\n",
            "creating build/lib/deepchem/splits/tests\n",
            "copying deepchem/splits/tests/__init__.py -> build/lib/deepchem/splits/tests\n",
            "copying deepchem/splits/tests/test_splitter.py -> build/lib/deepchem/splits/tests\n",
            "copying deepchem/splits/tests/test_task_splitter.py -> build/lib/deepchem/splits/tests\n",
            "copying deepchem/models/keras_model.py -> build/lib/deepchem/models\n",
            "copying deepchem/models/seqtoseq.py -> build/lib/deepchem/models\n",
            "copying deepchem/models/IRV.py -> build/lib/deepchem/models\n",
            "copying deepchem/models/text_cnn.py -> build/lib/deepchem/models\n",
            "copying deepchem/models/chemnet_models.py -> build/lib/deepchem/models\n",
            "copying deepchem/models/atomic_conv.py -> build/lib/deepchem/models\n",
            "copying deepchem/models/__init__.py -> build/lib/deepchem/models\n",
            "copying deepchem/models/layers.py -> build/lib/deepchem/models\n",
            "copying deepchem/models/cnn.py -> build/lib/deepchem/models\n",
            "copying deepchem/models/scscore.py -> build/lib/deepchem/models\n",
            "copying deepchem/models/callbacks.py -> build/lib/deepchem/models\n",
            "copying deepchem/models/chemnet_layers.py -> build/lib/deepchem/models\n",
            "copying deepchem/models/gan.py -> build/lib/deepchem/models\n",
            "copying deepchem/models/graph_models.py -> build/lib/deepchem/models\n",
            "copying deepchem/models/robust_multitask.py -> build/lib/deepchem/models\n",
            "copying deepchem/models/multitask.py -> build/lib/deepchem/models\n",
            "copying deepchem/models/losses.py -> build/lib/deepchem/models\n",
            "copying deepchem/models/progressive_multitask.py -> build/lib/deepchem/models\n",
            "copying deepchem/models/fcnet.py -> build/lib/deepchem/models\n",
            "copying deepchem/models/optimizers.py -> build/lib/deepchem/models\n",
            "copying deepchem/models/models.py -> build/lib/deepchem/models\n",
            "copying deepchem/hyper/gaussian_process.py -> build/lib/deepchem/hyper\n",
            "copying deepchem/hyper/__init__.py -> build/lib/deepchem/hyper\n",
            "copying deepchem/hyper/grid_search.py -> build/lib/deepchem/hyper\n",
            "creating build/lib/deepchem/metrics/tests\n",
            "copying deepchem/metrics/tests/metrics_test.py -> build/lib/deepchem/metrics/tests\n",
            "copying deepchem/metrics/tests/__init__.py -> build/lib/deepchem/metrics/tests\n",
            "copying deepchem/metrics/tests/test_genomics.py -> build/lib/deepchem/metrics/tests\n",
            "creating build/lib/deepchem/trans/tests\n",
            "copying deepchem/trans/tests/__init__.py -> build/lib/deepchem/trans/tests\n",
            "copying deepchem/trans/tests/test_transformers.py -> build/lib/deepchem/trans/tests\n",
            "running egg_info\n",
            "creating deepchem.egg-info\n",
            "writing pbr to deepchem.egg-info/pbr.json\n",
            "writing deepchem.egg-info/PKG-INFO\n",
            "writing dependency_links to deepchem.egg-info/dependency_links.txt\n",
            "writing top-level names to deepchem.egg-info/top_level.txt\n",
            "[pbr] Processing SOURCES.txt\n",
            "writing manifest file 'deepchem.egg-info/SOURCES.txt'\n",
            "[pbr] In git context, generating filelist from git\n",
            "warning: no previously-included files found matching '.gitreview'\n",
            "warning: no previously-included files matching '*.pyc' found anywhere in distribution\n",
            "reading manifest template 'MANIFEST.in'\n",
            "writing manifest file 'deepchem.egg-info/SOURCES.txt'\n",
            "creating build/lib/deepchem/metalearning/tests\n",
            "copying deepchem/metalearning/tests/test_maml.py -> build/lib/deepchem/metalearning/tests\n",
            "copying deepchem/models/tests/butina_example.csv -> build/lib/deepchem/models/tests\n",
            "copying deepchem/models/tests/chembl_25_small.csv -> build/lib/deepchem/models/tests\n",
            "copying deepchem/models/tests/example.csv -> build/lib/deepchem/models/tests\n",
            "copying deepchem/models/tests/example_DTNN.mat -> build/lib/deepchem/models/tests\n",
            "copying deepchem/models/tests/example_classification.csv -> build/lib/deepchem/models/tests\n",
            "copying deepchem/models/tests/example_regression.csv -> build/lib/deepchem/models/tests\n",
            "copying deepchem/models/tests/feat_multitask_example.csv -> build/lib/deepchem/models/tests\n",
            "copying deepchem/models/tests/gaussian_cdf_example.csv -> build/lib/deepchem/models/tests\n",
            "copying deepchem/models/tests/gbd3k.pkl.gz -> build/lib/deepchem/models/tests\n",
            "copying deepchem/models/tests/multitask_example.csv -> build/lib/deepchem/models/tests\n",
            "copying deepchem/models/tests/nnscore_example.pkl.gz -> build/lib/deepchem/models/tests\n",
            "copying deepchem/models/tests/sparse_multitask_example.csv -> build/lib/deepchem/models/tests\n",
            "copying deepchem/models/tests/user_specified_example.csv -> build/lib/deepchem/models/tests\n",
            "creating build/lib/deepchem/utils/test/data\n",
            "copying deepchem/utils/test/data/example.fasta -> build/lib/deepchem/utils/test/data\n",
            "copying deepchem/utils/test/data/example.fastq -> build/lib/deepchem/utils/test/data\n",
            "copying deepchem/dock/tests/1jld_ligand.sdf -> build/lib/deepchem/dock/tests\n",
            "copying deepchem/dock/tests/1jld_protein.pdb -> build/lib/deepchem/dock/tests\n",
            "copying deepchem/data/tests/a_image.tif -> build/lib/deepchem/data/tests\n",
            "copying deepchem/data/tests/example.fasta -> build/lib/deepchem/data/tests\n",
            "copying deepchem/data/tests/mini_emols.csv -> build/lib/deepchem/data/tests\n",
            "copying deepchem/data/tests/no_labels.csv -> build/lib/deepchem/data/tests\n",
            "creating build/lib/deepchem/data/tests/images\n",
            "copying deepchem/data/tests/images/000003-num0.png -> build/lib/deepchem/data/tests/images\n",
            "copying deepchem/data/tests/images/000004-num4.png -> build/lib/deepchem/data/tests/images\n",
            "copying deepchem/data/tests/images/000005-num1.png -> build/lib/deepchem/data/tests/images\n",
            "copying deepchem/data/tests/images/000006-num4.png -> build/lib/deepchem/data/tests/images\n",
            "copying deepchem/data/tests/images/000007-num9.png -> build/lib/deepchem/data/tests/images\n",
            "copying deepchem/data/tests/images/000008-num5.png -> build/lib/deepchem/data/tests/images\n",
            "copying deepchem/data/tests/images/000009-num9.png -> build/lib/deepchem/data/tests/images\n",
            "copying deepchem/data/tests/images/000010-num0.png -> build/lib/deepchem/data/tests/images\n",
            "copying deepchem/data/tests/images/000011-num6.png -> build/lib/deepchem/data/tests/images\n",
            "copying deepchem/data/tests/images/000012-num9.png -> build/lib/deepchem/data/tests/images\n",
            "copying deepchem/.gitignore -> build/lib/deepchem\n",
            "creating build/lib/deepchem/tests\n",
            "copying deepchem/tests/test_init.py -> build/lib/deepchem/tests\n",
            "creating build/lib/deepchem/rl/tests\n",
            "copying deepchem/rl/tests/test_a2c.py -> build/lib/deepchem/rl/tests\n",
            "copying deepchem/rl/tests/test_ppo.py -> build/lib/deepchem/rl/tests\n",
            "copying deepchem/feat/tests/3ws9_ligand.sdf -> build/lib/deepchem/feat/tests\n",
            "copying deepchem/feat/tests/3ws9_protein_fixer_rdkit.pdb -> build/lib/deepchem/feat/tests\n",
            "creating build/lib/deepchem/feat/tests/data\n",
            "copying deepchem/feat/tests/data/3bwf_ligand_hyd.pdb -> build/lib/deepchem/feat/tests/data\n",
            "copying deepchem/feat/tests/data/3bwf_ligand_hyd.pdbqt -> build/lib/deepchem/feat/tests/data\n",
            "copying deepchem/feat/tests/data/3bwf_protein_hyd.pdb -> build/lib/deepchem/feat/tests/data\n",
            "copying deepchem/feat/tests/data/3bwf_protein_hyd.pdbqt -> build/lib/deepchem/feat/tests/data\n",
            "copying deepchem/feat/tests/data/3zp9_ligand_hyd.pdb -> build/lib/deepchem/feat/tests/data\n",
            "copying deepchem/feat/tests/data/3zp9_ligand_hyd.pdbqt -> build/lib/deepchem/feat/tests/data\n",
            "copying deepchem/feat/tests/data/3zp9_protein_hyd.pdb -> build/lib/deepchem/feat/tests/data\n",
            "copying deepchem/feat/tests/data/3zp9_protein_hyd.pdbqt -> build/lib/deepchem/feat/tests/data\n",
            "copying deepchem/feat/tests/data/3zso_ligand_hyd.pdb -> build/lib/deepchem/feat/tests/data\n",
            "copying deepchem/feat/tests/data/3zso_protein.pdb -> build/lib/deepchem/feat/tests/data\n",
            "copying deepchem/feat/tests/data/chembl_25_small.csv -> build/lib/deepchem/feat/tests/data\n",
            "copying deepchem/feat/tests/data/water.sdf -> build/lib/deepchem/feat/tests/data\n",
            "copying deepchem/feat/tests/data/water.sdf.csv -> build/lib/deepchem/feat/tests/data\n",
            "running install_lib\n",
            "copying build/lib/deepchem/models/keras_model.py -> /usr/local/lib/python3.7/site-packages/deepchem/models\n",
            "copying build/lib/deepchem/models/seqtoseq.py -> /usr/local/lib/python3.7/site-packages/deepchem/models\n",
            "copying build/lib/deepchem/models/IRV.py -> /usr/local/lib/python3.7/site-packages/deepchem/models\n",
            "copying build/lib/deepchem/models/text_cnn.py -> /usr/local/lib/python3.7/site-packages/deepchem/models\n",
            "copying build/lib/deepchem/models/chemnet_models.py -> /usr/local/lib/python3.7/site-packages/deepchem/models\n",
            "copying build/lib/deepchem/models/atomic_conv.py -> /usr/local/lib/python3.7/site-packages/deepchem/models\n",
            "copying build/lib/deepchem/models/__init__.py -> /usr/local/lib/python3.7/site-packages/deepchem/models\n",
            "copying build/lib/deepchem/models/layers.py -> /usr/local/lib/python3.7/site-packages/deepchem/models\n",
            "copying build/lib/deepchem/models/cnn.py -> /usr/local/lib/python3.7/site-packages/deepchem/models\n",
            "copying build/lib/deepchem/models/scscore.py -> /usr/local/lib/python3.7/site-packages/deepchem/models\n",
            "copying build/lib/deepchem/models/callbacks.py -> /usr/local/lib/python3.7/site-packages/deepchem/models\n",
            "copying build/lib/deepchem/models/chemnet_layers.py -> /usr/local/lib/python3.7/site-packages/deepchem/models\n",
            "copying build/lib/deepchem/models/gan.py -> /usr/local/lib/python3.7/site-packages/deepchem/models\n",
            "copying build/lib/deepchem/models/graph_models.py -> /usr/local/lib/python3.7/site-packages/deepchem/models\n",
            "copying build/lib/deepchem/models/robust_multitask.py -> /usr/local/lib/python3.7/site-packages/deepchem/models\n",
            "copying build/lib/deepchem/models/multitask.py -> /usr/local/lib/python3.7/site-packages/deepchem/models\n",
            "copying build/lib/deepchem/models/losses.py -> /usr/local/lib/python3.7/site-packages/deepchem/models\n",
            "copying build/lib/deepchem/models/progressive_multitask.py -> /usr/local/lib/python3.7/site-packages/deepchem/models\n",
            "copying build/lib/deepchem/models/fcnet.py -> /usr/local/lib/python3.7/site-packages/deepchem/models\n",
            "copying build/lib/deepchem/models/sklearn_models/__init__.py -> /usr/local/lib/python3.7/site-packages/deepchem/models/sklearn_models\n",
            "copying build/lib/deepchem/models/tests/example_classification.csv -> /usr/local/lib/python3.7/site-packages/deepchem/models/tests\n",
            "copying build/lib/deepchem/models/tests/test_textcnnmodel.py -> /usr/local/lib/python3.7/site-packages/deepchem/models/tests\n",
            "copying build/lib/deepchem/models/tests/example_regression.csv -> /usr/local/lib/python3.7/site-packages/deepchem/models/tests\n",
            "copying build/lib/deepchem/models/tests/test_kerasmodel.py -> /usr/local/lib/python3.7/site-packages/deepchem/models/tests\n",
            "copying build/lib/deepchem/models/tests/test_layers.py -> /usr/local/lib/python3.7/site-packages/deepchem/models/tests\n",
            "copying build/lib/deepchem/models/tests/test_cnn.py -> /usr/local/lib/python3.7/site-packages/deepchem/models/tests\n",
            "copying build/lib/deepchem/models/tests/butina_example.csv -> /usr/local/lib/python3.7/site-packages/deepchem/models/tests\n",
            "copying build/lib/deepchem/models/tests/test_generalize.py -> /usr/local/lib/python3.7/site-packages/deepchem/models/tests\n",
            "copying build/lib/deepchem/models/tests/gbd3k.pkl.gz -> /usr/local/lib/python3.7/site-packages/deepchem/models/tests\n",
            "copying build/lib/deepchem/models/tests/test_graph_models.py -> /usr/local/lib/python3.7/site-packages/deepchem/models/tests\n",
            "copying build/lib/deepchem/models/tests/feat_multitask_example.csv -> /usr/local/lib/python3.7/site-packages/deepchem/models/tests\n",
            "copying build/lib/deepchem/models/tests/test_chemnet_models.py -> /usr/local/lib/python3.7/site-packages/deepchem/models/tests\n",
            "copying build/lib/deepchem/models/tests/sparse_multitask_example.csv -> /usr/local/lib/python3.7/site-packages/deepchem/models/tests\n",
            "copying build/lib/deepchem/models/tests/gaussian_cdf_example.csv -> /usr/local/lib/python3.7/site-packages/deepchem/models/tests\n",
            "copying build/lib/deepchem/models/tests/__init__.py -> /usr/local/lib/python3.7/site-packages/deepchem/models/tests\n",
            "copying build/lib/deepchem/models/tests/test_multitask.py -> /usr/local/lib/python3.7/site-packages/deepchem/models/tests\n",
            "copying build/lib/deepchem/models/tests/chembl_25_small.csv -> /usr/local/lib/python3.7/site-packages/deepchem/models/tests\n",
            "copying build/lib/deepchem/models/tests/user_specified_example.csv -> /usr/local/lib/python3.7/site-packages/deepchem/models/tests\n",
            "copying build/lib/deepchem/models/tests/test_layers_from_config.py -> /usr/local/lib/python3.7/site-packages/deepchem/models/tests\n",
            "copying build/lib/deepchem/models/tests/test_gan.py -> /usr/local/lib/python3.7/site-packages/deepchem/models/tests\n",
            "copying build/lib/deepchem/models/tests/test_predict.py -> /usr/local/lib/python3.7/site-packages/deepchem/models/tests\n",
            "copying build/lib/deepchem/models/tests/test_atomic_conv.py -> /usr/local/lib/python3.7/site-packages/deepchem/models/tests\n",
            "copying build/lib/deepchem/models/tests/nnscore_example.pkl.gz -> /usr/local/lib/python3.7/site-packages/deepchem/models/tests\n",
            "copying build/lib/deepchem/models/tests/test_overfit.py -> /usr/local/lib/python3.7/site-packages/deepchem/models/tests\n",
            "copying build/lib/deepchem/models/tests/example.csv -> /usr/local/lib/python3.7/site-packages/deepchem/models/tests\n",
            "copying build/lib/deepchem/models/tests/test_singletask_to_multitask.py -> /usr/local/lib/python3.7/site-packages/deepchem/models/tests\n",
            "copying build/lib/deepchem/models/tests/test_pretrained.py -> /usr/local/lib/python3.7/site-packages/deepchem/models/tests\n",
            "copying build/lib/deepchem/models/tests/test_reload.py -> /usr/local/lib/python3.7/site-packages/deepchem/models/tests\n",
            "copying build/lib/deepchem/models/tests/test_scscore.py -> /usr/local/lib/python3.7/site-packages/deepchem/models/tests\n",
            "copying build/lib/deepchem/models/tests/example_DTNN.mat -> /usr/local/lib/python3.7/site-packages/deepchem/models/tests\n",
            "copying build/lib/deepchem/models/tests/multitask_example.csv -> /usr/local/lib/python3.7/site-packages/deepchem/models/tests\n",
            "copying build/lib/deepchem/models/tests/test_optimizers.py -> /usr/local/lib/python3.7/site-packages/deepchem/models/tests\n",
            "copying build/lib/deepchem/models/tests/test_api.py -> /usr/local/lib/python3.7/site-packages/deepchem/models/tests\n",
            "copying build/lib/deepchem/models/tests/test_callbacks.py -> /usr/local/lib/python3.7/site-packages/deepchem/models/tests\n",
            "copying build/lib/deepchem/models/tests/test_seqtoseq.py -> /usr/local/lib/python3.7/site-packages/deepchem/models/tests\n",
            "copying build/lib/deepchem/models/optimizers.py -> /usr/local/lib/python3.7/site-packages/deepchem/models\n",
            "copying build/lib/deepchem/models/xgboost_models/__init__.py -> /usr/local/lib/python3.7/site-packages/deepchem/models/xgboost_models\n",
            "copying build/lib/deepchem/models/models.py -> /usr/local/lib/python3.7/site-packages/deepchem/models\n",
            "copying build/lib/deepchem/feat/atomic_coordinates.py -> /usr/local/lib/python3.7/site-packages/deepchem/feat\n",
            "copying build/lib/deepchem/feat/mol_graphs.py -> /usr/local/lib/python3.7/site-packages/deepchem/feat\n",
            "copying build/lib/deepchem/feat/coulomb_matrices.py -> /usr/local/lib/python3.7/site-packages/deepchem/feat\n",
            "copying build/lib/deepchem/feat/fingerprints.py -> /usr/local/lib/python3.7/site-packages/deepchem/feat\n",
            "copying build/lib/deepchem/feat/graph_features.py -> /usr/local/lib/python3.7/site-packages/deepchem/feat\n",
            "copying build/lib/deepchem/feat/raw_featurizer.py -> /usr/local/lib/python3.7/site-packages/deepchem/feat\n",
            "copying build/lib/deepchem/feat/__init__.py -> /usr/local/lib/python3.7/site-packages/deepchem/feat\n",
            "copying build/lib/deepchem/feat/base_classes.py -> /usr/local/lib/python3.7/site-packages/deepchem/feat\n",
            "copying build/lib/deepchem/feat/smiles_featurizers.py -> /usr/local/lib/python3.7/site-packages/deepchem/feat\n",
            "copying build/lib/deepchem/feat/basic.py -> /usr/local/lib/python3.7/site-packages/deepchem/feat\n",
            "copying build/lib/deepchem/feat/binding_pocket_features.py -> /usr/local/lib/python3.7/site-packages/deepchem/feat\n",
            "copying build/lib/deepchem/feat/one_hot.py -> /usr/local/lib/python3.7/site-packages/deepchem/feat\n",
            "copying build/lib/deepchem/feat/tests/test_sdf_reader.py -> /usr/local/lib/python3.7/site-packages/deepchem/feat/tests\n",
            "copying build/lib/deepchem/feat/tests/test_convmol.py -> /usr/local/lib/python3.7/site-packages/deepchem/feat/tests\n",
            "copying build/lib/deepchem/feat/tests/test_features.py -> /usr/local/lib/python3.7/site-packages/deepchem/feat/tests\n",
            "copying build/lib/deepchem/feat/tests/3ws9_protein_fixer_rdkit.pdb -> /usr/local/lib/python3.7/site-packages/deepchem/feat/tests\n",
            "copying build/lib/deepchem/feat/tests/test_coulomb_matrices.py -> /usr/local/lib/python3.7/site-packages/deepchem/feat/tests\n",
            "copying build/lib/deepchem/feat/tests/test_fingerprints.py -> /usr/local/lib/python3.7/site-packages/deepchem/feat/tests\n",
            "copying build/lib/deepchem/feat/tests/test_atomic_coordinates.py -> /usr/local/lib/python3.7/site-packages/deepchem/feat/tests\n",
            "copying build/lib/deepchem/feat/tests/__init__.py -> /usr/local/lib/python3.7/site-packages/deepchem/feat/tests\n",
            "copying build/lib/deepchem/feat/tests/3ws9_ligand.sdf -> /usr/local/lib/python3.7/site-packages/deepchem/feat/tests\n",
            "copying build/lib/deepchem/feat/tests/test_binding_pocket_features.py -> /usr/local/lib/python3.7/site-packages/deepchem/feat/tests\n",
            "copying build/lib/deepchem/feat/tests/data/3zso_protein.pdb -> /usr/local/lib/python3.7/site-packages/deepchem/feat/tests/data\n",
            "copying build/lib/deepchem/feat/tests/data/3zp9_ligand_hyd.pdb -> /usr/local/lib/python3.7/site-packages/deepchem/feat/tests/data\n",
            "copying build/lib/deepchem/feat/tests/data/3zp9_ligand_hyd.pdbqt -> /usr/local/lib/python3.7/site-packages/deepchem/feat/tests/data\n",
            "copying build/lib/deepchem/feat/tests/data/3bwf_ligand_hyd.pdb -> /usr/local/lib/python3.7/site-packages/deepchem/feat/tests/data\n",
            "copying build/lib/deepchem/feat/tests/data/chembl_25_small.csv -> /usr/local/lib/python3.7/site-packages/deepchem/feat/tests/data\n",
            "copying build/lib/deepchem/feat/tests/data/3zp9_protein_hyd.pdb -> /usr/local/lib/python3.7/site-packages/deepchem/feat/tests/data\n",
            "copying build/lib/deepchem/feat/tests/data/3zp9_protein_hyd.pdbqt -> /usr/local/lib/python3.7/site-packages/deepchem/feat/tests/data\n",
            "copying build/lib/deepchem/feat/tests/data/water.sdf.csv -> /usr/local/lib/python3.7/site-packages/deepchem/feat/tests/data\n",
            "copying build/lib/deepchem/feat/tests/data/3bwf_ligand_hyd.pdbqt -> /usr/local/lib/python3.7/site-packages/deepchem/feat/tests/data\n",
            "copying build/lib/deepchem/feat/tests/data/3bwf_protein_hyd.pdb -> /usr/local/lib/python3.7/site-packages/deepchem/feat/tests/data\n",
            "copying build/lib/deepchem/feat/tests/data/3zso_ligand_hyd.pdb -> /usr/local/lib/python3.7/site-packages/deepchem/feat/tests/data\n",
            "copying build/lib/deepchem/feat/tests/data/3bwf_protein_hyd.pdbqt -> /usr/local/lib/python3.7/site-packages/deepchem/feat/tests/data\n",
            "copying build/lib/deepchem/feat/tests/data/water.sdf -> /usr/local/lib/python3.7/site-packages/deepchem/feat/tests/data\n",
            "copying build/lib/deepchem/feat/tests/test_smiles_featurizers.py -> /usr/local/lib/python3.7/site-packages/deepchem/feat/tests\n",
            "copying build/lib/deepchem/feat/tests/test_one_hot.py -> /usr/local/lib/python3.7/site-packages/deepchem/feat/tests\n",
            "copying build/lib/deepchem/feat/tests/test_graph_features.py -> /usr/local/lib/python3.7/site-packages/deepchem/feat/tests\n",
            "copying build/lib/deepchem/feat/tests/test_mol_graphs.py -> /usr/local/lib/python3.7/site-packages/deepchem/feat/tests\n",
            "copying build/lib/deepchem/feat/tests/test_rdkit_grid_features.py -> /usr/local/lib/python3.7/site-packages/deepchem/feat/tests\n",
            "copying build/lib/deepchem/feat/tests/test_basic.py -> /usr/local/lib/python3.7/site-packages/deepchem/feat/tests\n",
            "copying build/lib/deepchem/feat/adjacency_fingerprints.py -> /usr/local/lib/python3.7/site-packages/deepchem/feat\n",
            "copying build/lib/deepchem/feat/rdkit_grid_featurizer.py -> /usr/local/lib/python3.7/site-packages/deepchem/feat\n",
            "copying build/lib/deepchem/rl/envs/__init__.py -> /usr/local/lib/python3.7/site-packages/deepchem/rl/envs\n",
            "copying build/lib/deepchem/rl/envs/test_tictactoe.py -> /usr/local/lib/python3.7/site-packages/deepchem/rl/envs\n",
            "copying build/lib/deepchem/rl/envs/tictactoe.py -> /usr/local/lib/python3.7/site-packages/deepchem/rl/envs\n",
            "copying build/lib/deepchem/rl/ppo.py -> /usr/local/lib/python3.7/site-packages/deepchem/rl\n",
            "copying build/lib/deepchem/rl/a2c.py -> /usr/local/lib/python3.7/site-packages/deepchem/rl\n",
            "copying build/lib/deepchem/rl/__init__.py -> /usr/local/lib/python3.7/site-packages/deepchem/rl\n",
            "copying build/lib/deepchem/rl/tests/test_a2c.py -> /usr/local/lib/python3.7/site-packages/deepchem/rl/tests\n",
            "copying build/lib/deepchem/rl/tests/test_ppo.py -> /usr/local/lib/python3.7/site-packages/deepchem/rl/tests\n",
            "copying build/lib/deepchem/metrics/genomic_metrics.py -> /usr/local/lib/python3.7/site-packages/deepchem/metrics\n",
            "copying build/lib/deepchem/metrics/__init__.py -> /usr/local/lib/python3.7/site-packages/deepchem/metrics\n",
            "copying build/lib/deepchem/metrics/tests/metrics_test.py -> /usr/local/lib/python3.7/site-packages/deepchem/metrics/tests\n",
            "copying build/lib/deepchem/metrics/tests/__init__.py -> /usr/local/lib/python3.7/site-packages/deepchem/metrics/tests\n",
            "copying build/lib/deepchem/metrics/tests/test_genomics.py -> /usr/local/lib/python3.7/site-packages/deepchem/metrics/tests\n",
            "copying build/lib/deepchem/__init__.py -> /usr/local/lib/python3.7/site-packages/deepchem\n",
            "copying build/lib/deepchem/trans/__init__.py -> /usr/local/lib/python3.7/site-packages/deepchem/trans\n",
            "copying build/lib/deepchem/trans/transformers.py -> /usr/local/lib/python3.7/site-packages/deepchem/trans\n",
            "copying build/lib/deepchem/trans/tests/__init__.py -> /usr/local/lib/python3.7/site-packages/deepchem/trans/tests\n",
            "copying build/lib/deepchem/trans/tests/test_transformers.py -> /usr/local/lib/python3.7/site-packages/deepchem/trans/tests\n",
            "copying build/lib/deepchem/data/__init__.py -> /usr/local/lib/python3.7/site-packages/deepchem/data\n",
            "copying build/lib/deepchem/data/supports.py -> /usr/local/lib/python3.7/site-packages/deepchem/data\n",
            "copying build/lib/deepchem/data/tests/test_drop.py -> /usr/local/lib/python3.7/site-packages/deepchem/data/tests\n",
            "copying build/lib/deepchem/data/tests/test_image_loader.py -> /usr/local/lib/python3.7/site-packages/deepchem/data/tests\n",
            "copying build/lib/deepchem/data/tests/test_support_generator.py -> /usr/local/lib/python3.7/site-packages/deepchem/data/tests\n",
            "copying build/lib/deepchem/data/tests/test_load.py -> /usr/local/lib/python3.7/site-packages/deepchem/data/tests\n",
            "copying build/lib/deepchem/data/tests/__init__.py -> /usr/local/lib/python3.7/site-packages/deepchem/data/tests\n",
            "copying build/lib/deepchem/data/tests/test_csv_loader.py -> /usr/local/lib/python3.7/site-packages/deepchem/data/tests\n",
            "copying build/lib/deepchem/data/tests/no_labels.csv -> /usr/local/lib/python3.7/site-packages/deepchem/data/tests\n",
            "copying build/lib/deepchem/data/tests/test_fasta_loader.py -> /usr/local/lib/python3.7/site-packages/deepchem/data/tests\n",
            "copying build/lib/deepchem/data/tests/test_merge.py -> /usr/local/lib/python3.7/site-packages/deepchem/data/tests\n",
            "copying build/lib/deepchem/data/tests/mini_emols.csv -> /usr/local/lib/python3.7/site-packages/deepchem/data/tests\n",
            "copying build/lib/deepchem/data/tests/a_image.tif -> /usr/local/lib/python3.7/site-packages/deepchem/data/tests\n",
            "copying build/lib/deepchem/data/tests/example.fasta -> /usr/local/lib/python3.7/site-packages/deepchem/data/tests\n",
            "copying build/lib/deepchem/data/tests/test_data_loader.py -> /usr/local/lib/python3.7/site-packages/deepchem/data/tests\n",
            "copying build/lib/deepchem/data/tests/test_datasets.py -> /usr/local/lib/python3.7/site-packages/deepchem/data/tests\n",
            "copying build/lib/deepchem/data/tests/test_reload.py -> /usr/local/lib/python3.7/site-packages/deepchem/data/tests\n",
            "copying build/lib/deepchem/data/tests/test_shuffle.py -> /usr/local/lib/python3.7/site-packages/deepchem/data/tests\n",
            "copying build/lib/deepchem/data/tests/test_image_dataset.py -> /usr/local/lib/python3.7/site-packages/deepchem/data/tests\n",
            "copying build/lib/deepchem/data/tests/images/000010-num0.png -> /usr/local/lib/python3.7/site-packages/deepchem/data/tests/images\n",
            "copying build/lib/deepchem/data/tests/images/000012-num9.png -> /usr/local/lib/python3.7/site-packages/deepchem/data/tests/images\n",
            "copying build/lib/deepchem/data/tests/images/000003-num0.png -> /usr/local/lib/python3.7/site-packages/deepchem/data/tests/images\n",
            "copying build/lib/deepchem/data/tests/images/000006-num4.png -> /usr/local/lib/python3.7/site-packages/deepchem/data/tests/images\n",
            "copying build/lib/deepchem/data/tests/images/000005-num1.png -> /usr/local/lib/python3.7/site-packages/deepchem/data/tests/images\n",
            "copying build/lib/deepchem/data/tests/images/000007-num9.png -> /usr/local/lib/python3.7/site-packages/deepchem/data/tests/images\n",
            "copying build/lib/deepchem/data/tests/images/000004-num4.png -> /usr/local/lib/python3.7/site-packages/deepchem/data/tests/images\n",
            "copying build/lib/deepchem/data/tests/images/000009-num9.png -> /usr/local/lib/python3.7/site-packages/deepchem/data/tests/images\n",
            "copying build/lib/deepchem/data/tests/images/000011-num6.png -> /usr/local/lib/python3.7/site-packages/deepchem/data/tests/images\n",
            "copying build/lib/deepchem/data/tests/images/000008-num5.png -> /usr/local/lib/python3.7/site-packages/deepchem/data/tests/images\n",
            "copying build/lib/deepchem/data/datasets.py -> /usr/local/lib/python3.7/site-packages/deepchem/data\n",
            "copying build/lib/deepchem/data/data_loader.py -> /usr/local/lib/python3.7/site-packages/deepchem/data\n",
            "copying build/lib/deepchem/.gitignore -> /usr/local/lib/python3.7/site-packages/deepchem\n",
            "copying build/lib/deepchem/hyper/gaussian_process.py -> /usr/local/lib/python3.7/site-packages/deepchem/hyper\n",
            "copying build/lib/deepchem/hyper/__init__.py -> /usr/local/lib/python3.7/site-packages/deepchem/hyper\n",
            "copying build/lib/deepchem/hyper/grid_search.py -> /usr/local/lib/python3.7/site-packages/deepchem/hyper\n",
            "copying build/lib/deepchem/hyper/tests/__init__.py -> /usr/local/lib/python3.7/site-packages/deepchem/hyper/tests\n",
            "copying build/lib/deepchem/hyper/tests/test_hyperparam_opt.py -> /usr/local/lib/python3.7/site-packages/deepchem/hyper/tests\n",
            "copying build/lib/deepchem/splits/test_scaffold_splitter.py -> /usr/local/lib/python3.7/site-packages/deepchem/splits\n",
            "copying build/lib/deepchem/splits/splitters.py -> /usr/local/lib/python3.7/site-packages/deepchem/splits\n",
            "copying build/lib/deepchem/splits/__init__.py -> /usr/local/lib/python3.7/site-packages/deepchem/splits\n",
            "copying build/lib/deepchem/splits/test_specified_index_splitter.py -> /usr/local/lib/python3.7/site-packages/deepchem/splits\n",
            "copying build/lib/deepchem/splits/task_splitter.py -> /usr/local/lib/python3.7/site-packages/deepchem/splits\n",
            "copying build/lib/deepchem/splits/tests/__init__.py -> /usr/local/lib/python3.7/site-packages/deepchem/splits/tests\n",
            "copying build/lib/deepchem/splits/tests/test_splitter.py -> /usr/local/lib/python3.7/site-packages/deepchem/splits/tests\n",
            "copying build/lib/deepchem/splits/tests/test_task_splitter.py -> /usr/local/lib/python3.7/site-packages/deepchem/splits/tests\n",
            "copying build/lib/deepchem/dock/pose_generation.py -> /usr/local/lib/python3.7/site-packages/deepchem/dock\n",
            "copying build/lib/deepchem/dock/__init__.py -> /usr/local/lib/python3.7/site-packages/deepchem/dock\n",
            "copying build/lib/deepchem/dock/docking.py -> /usr/local/lib/python3.7/site-packages/deepchem/dock\n",
            "copying build/lib/deepchem/dock/pose_scoring.py -> /usr/local/lib/python3.7/site-packages/deepchem/dock\n",
            "copying build/lib/deepchem/dock/binding_pocket.py -> /usr/local/lib/python3.7/site-packages/deepchem/dock\n",
            "copying build/lib/deepchem/dock/tests/1jld_protein.pdb -> /usr/local/lib/python3.7/site-packages/deepchem/dock/tests\n",
            "copying build/lib/deepchem/dock/tests/test_binding_pocket.py -> /usr/local/lib/python3.7/site-packages/deepchem/dock/tests\n",
            "copying build/lib/deepchem/dock/tests/__init__.py -> /usr/local/lib/python3.7/site-packages/deepchem/dock/tests\n",
            "copying build/lib/deepchem/dock/tests/test_pose_scoring.py -> /usr/local/lib/python3.7/site-packages/deepchem/dock/tests\n",
            "copying build/lib/deepchem/dock/tests/test_docking.py -> /usr/local/lib/python3.7/site-packages/deepchem/dock/tests\n",
            "copying build/lib/deepchem/dock/tests/1jld_ligand.sdf -> /usr/local/lib/python3.7/site-packages/deepchem/dock/tests\n",
            "copying build/lib/deepchem/dock/tests/test_pose_generation.py -> /usr/local/lib/python3.7/site-packages/deepchem/dock/tests\n",
            "copying build/lib/deepchem/tests/test_init.py -> /usr/local/lib/python3.7/site-packages/deepchem/tests\n",
            "copying build/lib/deepchem/utils/test/test_rdkit_util.py -> /usr/local/lib/python3.7/site-packages/deepchem/utils/test\n",
            "copying build/lib/deepchem/utils/test/test_generator_evaluator.py -> /usr/local/lib/python3.7/site-packages/deepchem/utils/test\n",
            "copying build/lib/deepchem/utils/test/__init__.py -> /usr/local/lib/python3.7/site-packages/deepchem/utils/test\n",
            "copying build/lib/deepchem/utils/test/test_voxel_utils.py -> /usr/local/lib/python3.7/site-packages/deepchem/utils/test\n",
            "copying build/lib/deepchem/utils/test/test_hash_utils.py -> /usr/local/lib/python3.7/site-packages/deepchem/utils/test\n",
            "copying build/lib/deepchem/utils/test/data/example.fasta -> /usr/local/lib/python3.7/site-packages/deepchem/utils/test/data\n",
            "copying build/lib/deepchem/utils/test/data/example.fastq -> /usr/local/lib/python3.7/site-packages/deepchem/utils/test/data\n",
            "copying build/lib/deepchem/utils/test/test_seq.py -> /usr/local/lib/python3.7/site-packages/deepchem/utils/test\n",
            "copying build/lib/deepchem/utils/test/test_coordinate_box_utils.py -> /usr/local/lib/python3.7/site-packages/deepchem/utils/test\n",
            "copying build/lib/deepchem/utils/test/test_geometry_utils.py -> /usr/local/lib/python3.7/site-packages/deepchem/utils/test\n",
            "copying build/lib/deepchem/utils/save.py -> /usr/local/lib/python3.7/site-packages/deepchem/utils\n",
            "copying build/lib/deepchem/utils/geometry_utils.py -> /usr/local/lib/python3.7/site-packages/deepchem/utils\n",
            "copying build/lib/deepchem/utils/conformers.py -> /usr/local/lib/python3.7/site-packages/deepchem/utils\n",
            "copying build/lib/deepchem/utils/__init__.py -> /usr/local/lib/python3.7/site-packages/deepchem/utils\n",
            "copying build/lib/deepchem/utils/mol_xyz_util.py -> /usr/local/lib/python3.7/site-packages/deepchem/utils\n",
            "copying build/lib/deepchem/utils/coordinate_box_utils.py -> /usr/local/lib/python3.7/site-packages/deepchem/utils\n",
            "copying build/lib/deepchem/utils/evaluate.py -> /usr/local/lib/python3.7/site-packages/deepchem/utils\n",
            "copying build/lib/deepchem/utils/voxel_utils.py -> /usr/local/lib/python3.7/site-packages/deepchem/utils\n",
            "copying build/lib/deepchem/utils/rdkit_util.py -> /usr/local/lib/python3.7/site-packages/deepchem/utils\n",
            "copying build/lib/deepchem/utils/hash_utils.py -> /usr/local/lib/python3.7/site-packages/deepchem/utils\n",
            "copying build/lib/deepchem/utils/genomics.py -> /usr/local/lib/python3.7/site-packages/deepchem/utils\n",
            "copying build/lib/deepchem/metalearning/maml.py -> /usr/local/lib/python3.7/site-packages/deepchem/metalearning\n",
            "copying build/lib/deepchem/metalearning/__init__.py -> /usr/local/lib/python3.7/site-packages/deepchem/metalearning\n",
            "copying build/lib/deepchem/metalearning/tests/test_maml.py -> /usr/local/lib/python3.7/site-packages/deepchem/metalearning/tests\n",
            "copying build/lib/deepchem/molnet/__init__.py -> /usr/local/lib/python3.7/site-packages/deepchem/molnet\n",
            "copying build/lib/deepchem/molnet/run_benchmark.py -> /usr/local/lib/python3.7/site-packages/deepchem/molnet\n",
            "copying build/lib/deepchem/molnet/check_availability.py -> /usr/local/lib/python3.7/site-packages/deepchem/molnet\n",
            "copying build/lib/deepchem/molnet/dnasim.py -> /usr/local/lib/python3.7/site-packages/deepchem/molnet\n",
            "copying build/lib/deepchem/molnet/run_benchmark_low_data.py -> /usr/local/lib/python3.7/site-packages/deepchem/molnet\n",
            "copying build/lib/deepchem/molnet/run_benchmark_models.py -> /usr/local/lib/python3.7/site-packages/deepchem/molnet\n",
            "copying build/lib/deepchem/molnet/tests/test_molnet.py -> /usr/local/lib/python3.7/site-packages/deepchem/molnet/tests\n",
            "copying build/lib/deepchem/molnet/tests/__init__.py -> /usr/local/lib/python3.7/site-packages/deepchem/molnet/tests\n",
            "copying build/lib/deepchem/molnet/tests/test_dnasim.py -> /usr/local/lib/python3.7/site-packages/deepchem/molnet/tests\n",
            "copying build/lib/deepchem/molnet/preset_hyper_parameters.py -> /usr/local/lib/python3.7/site-packages/deepchem/molnet\n",
            "copying build/lib/deepchem/molnet/load_function/clintox_datasets.py -> /usr/local/lib/python3.7/site-packages/deepchem/molnet/load_function\n",
            "copying build/lib/deepchem/molnet/load_function/chembl_datasets.py -> /usr/local/lib/python3.7/site-packages/deepchem/molnet/load_function\n",
            "copying build/lib/deepchem/molnet/load_function/bbbp_datasets.py -> /usr/local/lib/python3.7/site-packages/deepchem/molnet/load_function\n",
            "copying build/lib/deepchem/molnet/load_function/uv_datasets.py -> /usr/local/lib/python3.7/site-packages/deepchem/molnet/load_function\n",
            "copying build/lib/deepchem/molnet/load_function/muv_datasets.py -> /usr/local/lib/python3.7/site-packages/deepchem/molnet/load_function\n",
            "copying build/lib/deepchem/molnet/load_function/toxcast_datasets.py -> /usr/local/lib/python3.7/site-packages/deepchem/molnet/load_function\n",
            "copying build/lib/deepchem/molnet/load_function/chembl_tasks.py -> /usr/local/lib/python3.7/site-packages/deepchem/molnet/load_function\n",
            "copying build/lib/deepchem/molnet/load_function/ppb_datasets.py -> /usr/local/lib/python3.7/site-packages/deepchem/molnet/load_function\n",
            "copying build/lib/deepchem/molnet/load_function/nci_datasets.py -> /usr/local/lib/python3.7/site-packages/deepchem/molnet/load_function\n",
            "copying build/lib/deepchem/molnet/load_function/thermosol_datasets.py -> /usr/local/lib/python3.7/site-packages/deepchem/molnet/load_function\n",
            "copying build/lib/deepchem/molnet/load_function/kinase_datasets.py -> /usr/local/lib/python3.7/site-packages/deepchem/molnet/load_function\n",
            "copying build/lib/deepchem/molnet/load_function/cell_counting_datasets.py -> /usr/local/lib/python3.7/site-packages/deepchem/molnet/load_function\n",
            "copying build/lib/deepchem/molnet/load_function/qm7_datasets.py -> /usr/local/lib/python3.7/site-packages/deepchem/molnet/load_function\n",
            "copying build/lib/deepchem/molnet/load_function/sider_datasets.py -> /usr/local/lib/python3.7/site-packages/deepchem/molnet/load_function\n",
            "copying build/lib/deepchem/molnet/load_function/qm8_datasets.py -> /usr/local/lib/python3.7/site-packages/deepchem/molnet/load_function\n",
            "copying build/lib/deepchem/molnet/load_function/uv_tasks.py -> /usr/local/lib/python3.7/site-packages/deepchem/molnet/load_function\n",
            "copying build/lib/deepchem/molnet/load_function/__init__.py -> /usr/local/lib/python3.7/site-packages/deepchem/molnet/load_function\n",
            "copying build/lib/deepchem/molnet/load_function/factors_datasets.py -> /usr/local/lib/python3.7/site-packages/deepchem/molnet/load_function\n",
            "copying build/lib/deepchem/molnet/load_function/delaney_datasets.py -> /usr/local/lib/python3.7/site-packages/deepchem/molnet/load_function\n",
            "copying build/lib/deepchem/molnet/load_function/hopv_datasets.py -> /usr/local/lib/python3.7/site-packages/deepchem/molnet/load_function\n",
            "copying build/lib/deepchem/molnet/load_function/hiv_datasets.py -> /usr/local/lib/python3.7/site-packages/deepchem/molnet/load_function\n",
            "copying build/lib/deepchem/molnet/load_function/kaggle_features.py -> /usr/local/lib/python3.7/site-packages/deepchem/molnet/load_function\n",
            "copying build/lib/deepchem/molnet/load_function/bace_datasets.py -> /usr/local/lib/python3.7/site-packages/deepchem/molnet/load_function\n",
            "copying build/lib/deepchem/molnet/load_function/qm9_datasets.py -> /usr/local/lib/python3.7/site-packages/deepchem/molnet/load_function\n",
            "copying build/lib/deepchem/molnet/load_function/clearance_datasets.py -> /usr/local/lib/python3.7/site-packages/deepchem/molnet/load_function\n",
            "copying build/lib/deepchem/molnet/load_function/sampl_datasets.py -> /usr/local/lib/python3.7/site-packages/deepchem/molnet/load_function\n",
            "copying build/lib/deepchem/molnet/load_function/tox21_datasets.py -> /usr/local/lib/python3.7/site-packages/deepchem/molnet/load_function\n",
            "copying build/lib/deepchem/molnet/load_function/bbbc_datasets.py -> /usr/local/lib/python3.7/site-packages/deepchem/molnet/load_function\n",
            "copying build/lib/deepchem/molnet/load_function/pcba_datasets.py -> /usr/local/lib/python3.7/site-packages/deepchem/molnet/load_function\n",
            "copying build/lib/deepchem/molnet/load_function/pdbbind_datasets.py -> /usr/local/lib/python3.7/site-packages/deepchem/molnet/load_function\n",
            "copying build/lib/deepchem/molnet/load_function/sweetlead_datasets.py -> /usr/local/lib/python3.7/site-packages/deepchem/molnet/load_function\n",
            "copying build/lib/deepchem/molnet/load_function/kaggle_datasets.py -> /usr/local/lib/python3.7/site-packages/deepchem/molnet/load_function\n",
            "copying build/lib/deepchem/molnet/load_function/hppb_datasets.py -> /usr/local/lib/python3.7/site-packages/deepchem/molnet/load_function\n",
            "copying build/lib/deepchem/molnet/load_function/bace_features.py -> /usr/local/lib/python3.7/site-packages/deepchem/molnet/load_function\n",
            "copying build/lib/deepchem/molnet/load_function/lipo_datasets.py -> /usr/local/lib/python3.7/site-packages/deepchem/molnet/load_function\n",
            "copying build/lib/deepchem/molnet/load_function/uspto_datasets.py -> /usr/local/lib/python3.7/site-packages/deepchem/molnet/load_function\n",
            "copying build/lib/deepchem/molnet/load_function/chembl25_datasets.py -> /usr/local/lib/python3.7/site-packages/deepchem/molnet/load_function\n",
            "byte-compiling /usr/local/lib/python3.7/site-packages/deepchem/models/keras_model.py to keras_model.cpython-37.pyc\n",
            "byte-compiling /usr/local/lib/python3.7/site-packages/deepchem/models/seqtoseq.py to seqtoseq.cpython-37.pyc\n",
            "byte-compiling /usr/local/lib/python3.7/site-packages/deepchem/models/IRV.py to IRV.cpython-37.pyc\n",
            "byte-compiling /usr/local/lib/python3.7/site-packages/deepchem/models/text_cnn.py to text_cnn.cpython-37.pyc\n",
            "byte-compiling /usr/local/lib/python3.7/site-packages/deepchem/models/chemnet_models.py to chemnet_models.cpython-37.pyc\n",
            "byte-compiling /usr/local/lib/python3.7/site-packages/deepchem/models/atomic_conv.py to atomic_conv.cpython-37.pyc\n",
            "byte-compiling /usr/local/lib/python3.7/site-packages/deepchem/models/__init__.py to __init__.cpython-37.pyc\n",
            "byte-compiling /usr/local/lib/python3.7/site-packages/deepchem/models/layers.py to layers.cpython-37.pyc\n",
            "byte-compiling /usr/local/lib/python3.7/site-packages/deepchem/models/cnn.py to cnn.cpython-37.pyc\n",
            "byte-compiling /usr/local/lib/python3.7/site-packages/deepchem/models/scscore.py to scscore.cpython-37.pyc\n",
            "byte-compiling /usr/local/lib/python3.7/site-packages/deepchem/models/callbacks.py to callbacks.cpython-37.pyc\n",
            "byte-compiling /usr/local/lib/python3.7/site-packages/deepchem/models/chemnet_layers.py to chemnet_layers.cpython-37.pyc\n",
            "byte-compiling /usr/local/lib/python3.7/site-packages/deepchem/models/gan.py to gan.cpython-37.pyc\n",
            "byte-compiling /usr/local/lib/python3.7/site-packages/deepchem/models/graph_models.py to graph_models.cpython-37.pyc\n",
            "byte-compiling /usr/local/lib/python3.7/site-packages/deepchem/models/robust_multitask.py to robust_multitask.cpython-37.pyc\n",
            "byte-compiling /usr/local/lib/python3.7/site-packages/deepchem/models/multitask.py to multitask.cpython-37.pyc\n",
            "byte-compiling /usr/local/lib/python3.7/site-packages/deepchem/models/losses.py to losses.cpython-37.pyc\n",
            "byte-compiling /usr/local/lib/python3.7/site-packages/deepchem/models/progressive_multitask.py to progressive_multitask.cpython-37.pyc\n",
            "byte-compiling /usr/local/lib/python3.7/site-packages/deepchem/models/fcnet.py to fcnet.cpython-37.pyc\n",
            "byte-compiling /usr/local/lib/python3.7/site-packages/deepchem/models/sklearn_models/__init__.py to __init__.cpython-37.pyc\n",
            "byte-compiling /usr/local/lib/python3.7/site-packages/deepchem/models/tests/test_textcnnmodel.py to test_textcnnmodel.cpython-37.pyc\n",
            "byte-compiling /usr/local/lib/python3.7/site-packages/deepchem/models/tests/test_kerasmodel.py to test_kerasmodel.cpython-37.pyc\n",
            "byte-compiling /usr/local/lib/python3.7/site-packages/deepchem/models/tests/test_layers.py to test_layers.cpython-37.pyc\n",
            "byte-compiling /usr/local/lib/python3.7/site-packages/deepchem/models/tests/test_cnn.py to test_cnn.cpython-37.pyc\n",
            "byte-compiling /usr/local/lib/python3.7/site-packages/deepchem/models/tests/test_generalize.py to test_generalize.cpython-37.pyc\n",
            "byte-compiling /usr/local/lib/python3.7/site-packages/deepchem/models/tests/test_graph_models.py to test_graph_models.cpython-37.pyc\n",
            "byte-compiling /usr/local/lib/python3.7/site-packages/deepchem/models/tests/test_chemnet_models.py to test_chemnet_models.cpython-37.pyc\n",
            "byte-compiling /usr/local/lib/python3.7/site-packages/deepchem/models/tests/__init__.py to __init__.cpython-37.pyc\n",
            "byte-compiling /usr/local/lib/python3.7/site-packages/deepchem/models/tests/test_multitask.py to test_multitask.cpython-37.pyc\n",
            "byte-compiling /usr/local/lib/python3.7/site-packages/deepchem/models/tests/test_layers_from_config.py to test_layers_from_config.cpython-37.pyc\n",
            "byte-compiling /usr/local/lib/python3.7/site-packages/deepchem/models/tests/test_gan.py to test_gan.cpython-37.pyc\n",
            "byte-compiling /usr/local/lib/python3.7/site-packages/deepchem/models/tests/test_predict.py to test_predict.cpython-37.pyc\n",
            "byte-compiling /usr/local/lib/python3.7/site-packages/deepchem/models/tests/test_atomic_conv.py to test_atomic_conv.cpython-37.pyc\n",
            "byte-compiling /usr/local/lib/python3.7/site-packages/deepchem/models/tests/test_overfit.py to test_overfit.cpython-37.pyc\n",
            "byte-compiling /usr/local/lib/python3.7/site-packages/deepchem/models/tests/test_singletask_to_multitask.py to test_singletask_to_multitask.cpython-37.pyc\n",
            "byte-compiling /usr/local/lib/python3.7/site-packages/deepchem/models/tests/test_pretrained.py to test_pretrained.cpython-37.pyc\n",
            "byte-compiling /usr/local/lib/python3.7/site-packages/deepchem/models/tests/test_reload.py to test_reload.cpython-37.pyc\n",
            "byte-compiling /usr/local/lib/python3.7/site-packages/deepchem/models/tests/test_scscore.py to test_scscore.cpython-37.pyc\n",
            "byte-compiling /usr/local/lib/python3.7/site-packages/deepchem/models/tests/test_optimizers.py to test_optimizers.cpython-37.pyc\n",
            "byte-compiling /usr/local/lib/python3.7/site-packages/deepchem/models/tests/test_api.py to test_api.cpython-37.pyc\n",
            "byte-compiling /usr/local/lib/python3.7/site-packages/deepchem/models/tests/test_callbacks.py to test_callbacks.cpython-37.pyc\n",
            "byte-compiling /usr/local/lib/python3.7/site-packages/deepchem/models/tests/test_seqtoseq.py to test_seqtoseq.cpython-37.pyc\n",
            "byte-compiling /usr/local/lib/python3.7/site-packages/deepchem/models/optimizers.py to optimizers.cpython-37.pyc\n",
            "byte-compiling /usr/local/lib/python3.7/site-packages/deepchem/models/xgboost_models/__init__.py to __init__.cpython-37.pyc\n",
            "byte-compiling /usr/local/lib/python3.7/site-packages/deepchem/models/models.py to models.cpython-37.pyc\n",
            "byte-compiling /usr/local/lib/python3.7/site-packages/deepchem/feat/atomic_coordinates.py to atomic_coordinates.cpython-37.pyc\n",
            "byte-compiling /usr/local/lib/python3.7/site-packages/deepchem/feat/mol_graphs.py to mol_graphs.cpython-37.pyc\n",
            "byte-compiling /usr/local/lib/python3.7/site-packages/deepchem/feat/coulomb_matrices.py to coulomb_matrices.cpython-37.pyc\n",
            "byte-compiling /usr/local/lib/python3.7/site-packages/deepchem/feat/fingerprints.py to fingerprints.cpython-37.pyc\n",
            "byte-compiling /usr/local/lib/python3.7/site-packages/deepchem/feat/graph_features.py to graph_features.cpython-37.pyc\n",
            "byte-compiling /usr/local/lib/python3.7/site-packages/deepchem/feat/raw_featurizer.py to raw_featurizer.cpython-37.pyc\n",
            "byte-compiling /usr/local/lib/python3.7/site-packages/deepchem/feat/__init__.py to __init__.cpython-37.pyc\n",
            "byte-compiling /usr/local/lib/python3.7/site-packages/deepchem/feat/base_classes.py to base_classes.cpython-37.pyc\n",
            "byte-compiling /usr/local/lib/python3.7/site-packages/deepchem/feat/smiles_featurizers.py to smiles_featurizers.cpython-37.pyc\n",
            "byte-compiling /usr/local/lib/python3.7/site-packages/deepchem/feat/basic.py to basic.cpython-37.pyc\n",
            "byte-compiling /usr/local/lib/python3.7/site-packages/deepchem/feat/binding_pocket_features.py to binding_pocket_features.cpython-37.pyc\n",
            "byte-compiling /usr/local/lib/python3.7/site-packages/deepchem/feat/one_hot.py to one_hot.cpython-37.pyc\n",
            "byte-compiling /usr/local/lib/python3.7/site-packages/deepchem/feat/tests/test_sdf_reader.py to test_sdf_reader.cpython-37.pyc\n",
            "byte-compiling /usr/local/lib/python3.7/site-packages/deepchem/feat/tests/test_convmol.py to test_convmol.cpython-37.pyc\n",
            "byte-compiling /usr/local/lib/python3.7/site-packages/deepchem/feat/tests/test_features.py to test_features.cpython-37.pyc\n",
            "byte-compiling /usr/local/lib/python3.7/site-packages/deepchem/feat/tests/test_coulomb_matrices.py to test_coulomb_matrices.cpython-37.pyc\n",
            "byte-compiling /usr/local/lib/python3.7/site-packages/deepchem/feat/tests/test_fingerprints.py to test_fingerprints.cpython-37.pyc\n",
            "byte-compiling /usr/local/lib/python3.7/site-packages/deepchem/feat/tests/test_atomic_coordinates.py to test_atomic_coordinates.cpython-37.pyc\n",
            "byte-compiling /usr/local/lib/python3.7/site-packages/deepchem/feat/tests/__init__.py to __init__.cpython-37.pyc\n",
            "byte-compiling /usr/local/lib/python3.7/site-packages/deepchem/feat/tests/test_binding_pocket_features.py to test_binding_pocket_features.cpython-37.pyc\n",
            "byte-compiling /usr/local/lib/python3.7/site-packages/deepchem/feat/tests/test_smiles_featurizers.py to test_smiles_featurizers.cpython-37.pyc\n",
            "byte-compiling /usr/local/lib/python3.7/site-packages/deepchem/feat/tests/test_one_hot.py to test_one_hot.cpython-37.pyc\n",
            "byte-compiling /usr/local/lib/python3.7/site-packages/deepchem/feat/tests/test_graph_features.py to test_graph_features.cpython-37.pyc\n",
            "byte-compiling /usr/local/lib/python3.7/site-packages/deepchem/feat/tests/test_mol_graphs.py to test_mol_graphs.cpython-37.pyc\n",
            "byte-compiling /usr/local/lib/python3.7/site-packages/deepchem/feat/tests/test_rdkit_grid_features.py to test_rdkit_grid_features.cpython-37.pyc\n",
            "byte-compiling /usr/local/lib/python3.7/site-packages/deepchem/feat/tests/test_basic.py to test_basic.cpython-37.pyc\n",
            "byte-compiling /usr/local/lib/python3.7/site-packages/deepchem/feat/adjacency_fingerprints.py to adjacency_fingerprints.cpython-37.pyc\n",
            "byte-compiling /usr/local/lib/python3.7/site-packages/deepchem/feat/rdkit_grid_featurizer.py to rdkit_grid_featurizer.cpython-37.pyc\n",
            "byte-compiling /usr/local/lib/python3.7/site-packages/deepchem/rl/envs/__init__.py to __init__.cpython-37.pyc\n",
            "byte-compiling /usr/local/lib/python3.7/site-packages/deepchem/rl/envs/test_tictactoe.py to test_tictactoe.cpython-37.pyc\n",
            "byte-compiling /usr/local/lib/python3.7/site-packages/deepchem/rl/envs/tictactoe.py to tictactoe.cpython-37.pyc\n",
            "byte-compiling /usr/local/lib/python3.7/site-packages/deepchem/rl/ppo.py to ppo.cpython-37.pyc\n",
            "byte-compiling /usr/local/lib/python3.7/site-packages/deepchem/rl/a2c.py to a2c.cpython-37.pyc\n",
            "byte-compiling /usr/local/lib/python3.7/site-packages/deepchem/rl/__init__.py to __init__.cpython-37.pyc\n",
            "byte-compiling /usr/local/lib/python3.7/site-packages/deepchem/rl/tests/test_a2c.py to test_a2c.cpython-37.pyc\n",
            "byte-compiling /usr/local/lib/python3.7/site-packages/deepchem/rl/tests/test_ppo.py to test_ppo.cpython-37.pyc\n",
            "byte-compiling /usr/local/lib/python3.7/site-packages/deepchem/metrics/genomic_metrics.py to genomic_metrics.cpython-37.pyc\n",
            "byte-compiling /usr/local/lib/python3.7/site-packages/deepchem/metrics/__init__.py to __init__.cpython-37.pyc\n",
            "byte-compiling /usr/local/lib/python3.7/site-packages/deepchem/metrics/tests/metrics_test.py to metrics_test.cpython-37.pyc\n",
            "byte-compiling /usr/local/lib/python3.7/site-packages/deepchem/metrics/tests/__init__.py to __init__.cpython-37.pyc\n",
            "byte-compiling /usr/local/lib/python3.7/site-packages/deepchem/metrics/tests/test_genomics.py to test_genomics.cpython-37.pyc\n",
            "byte-compiling /usr/local/lib/python3.7/site-packages/deepchem/__init__.py to __init__.cpython-37.pyc\n",
            "byte-compiling /usr/local/lib/python3.7/site-packages/deepchem/trans/__init__.py to __init__.cpython-37.pyc\n",
            "byte-compiling /usr/local/lib/python3.7/site-packages/deepchem/trans/transformers.py to transformers.cpython-37.pyc\n",
            "byte-compiling /usr/local/lib/python3.7/site-packages/deepchem/trans/tests/__init__.py to __init__.cpython-37.pyc\n",
            "byte-compiling /usr/local/lib/python3.7/site-packages/deepchem/trans/tests/test_transformers.py to test_transformers.cpython-37.pyc\n",
            "byte-compiling /usr/local/lib/python3.7/site-packages/deepchem/data/__init__.py to __init__.cpython-37.pyc\n",
            "byte-compiling /usr/local/lib/python3.7/site-packages/deepchem/data/supports.py to supports.cpython-37.pyc\n",
            "byte-compiling /usr/local/lib/python3.7/site-packages/deepchem/data/tests/test_drop.py to test_drop.cpython-37.pyc\n",
            "byte-compiling /usr/local/lib/python3.7/site-packages/deepchem/data/tests/test_image_loader.py to test_image_loader.cpython-37.pyc\n",
            "byte-compiling /usr/local/lib/python3.7/site-packages/deepchem/data/tests/test_support_generator.py to test_support_generator.cpython-37.pyc\n",
            "byte-compiling /usr/local/lib/python3.7/site-packages/deepchem/data/tests/test_load.py to test_load.cpython-37.pyc\n",
            "byte-compiling /usr/local/lib/python3.7/site-packages/deepchem/data/tests/__init__.py to __init__.cpython-37.pyc\n",
            "byte-compiling /usr/local/lib/python3.7/site-packages/deepchem/data/tests/test_csv_loader.py to test_csv_loader.cpython-37.pyc\n",
            "byte-compiling /usr/local/lib/python3.7/site-packages/deepchem/data/tests/test_fasta_loader.py to test_fasta_loader.cpython-37.pyc\n",
            "byte-compiling /usr/local/lib/python3.7/site-packages/deepchem/data/tests/test_merge.py to test_merge.cpython-37.pyc\n",
            "byte-compiling /usr/local/lib/python3.7/site-packages/deepchem/data/tests/test_data_loader.py to test_data_loader.cpython-37.pyc\n",
            "byte-compiling /usr/local/lib/python3.7/site-packages/deepchem/data/tests/test_datasets.py to test_datasets.cpython-37.pyc\n",
            "byte-compiling /usr/local/lib/python3.7/site-packages/deepchem/data/tests/test_reload.py to test_reload.cpython-37.pyc\n",
            "byte-compiling /usr/local/lib/python3.7/site-packages/deepchem/data/tests/test_shuffle.py to test_shuffle.cpython-37.pyc\n",
            "byte-compiling /usr/local/lib/python3.7/site-packages/deepchem/data/tests/test_image_dataset.py to test_image_dataset.cpython-37.pyc\n",
            "byte-compiling /usr/local/lib/python3.7/site-packages/deepchem/data/datasets.py to datasets.cpython-37.pyc\n",
            "byte-compiling /usr/local/lib/python3.7/site-packages/deepchem/data/data_loader.py to data_loader.cpython-37.pyc\n",
            "byte-compiling /usr/local/lib/python3.7/site-packages/deepchem/hyper/gaussian_process.py to gaussian_process.cpython-37.pyc\n",
            "byte-compiling /usr/local/lib/python3.7/site-packages/deepchem/hyper/__init__.py to __init__.cpython-37.pyc\n",
            "byte-compiling /usr/local/lib/python3.7/site-packages/deepchem/hyper/grid_search.py to grid_search.cpython-37.pyc\n",
            "byte-compiling /usr/local/lib/python3.7/site-packages/deepchem/hyper/tests/__init__.py to __init__.cpython-37.pyc\n",
            "byte-compiling /usr/local/lib/python3.7/site-packages/deepchem/hyper/tests/test_hyperparam_opt.py to test_hyperparam_opt.cpython-37.pyc\n",
            "byte-compiling /usr/local/lib/python3.7/site-packages/deepchem/splits/test_scaffold_splitter.py to test_scaffold_splitter.cpython-37.pyc\n",
            "byte-compiling /usr/local/lib/python3.7/site-packages/deepchem/splits/splitters.py to splitters.cpython-37.pyc\n",
            "byte-compiling /usr/local/lib/python3.7/site-packages/deepchem/splits/__init__.py to __init__.cpython-37.pyc\n",
            "byte-compiling /usr/local/lib/python3.7/site-packages/deepchem/splits/test_specified_index_splitter.py to test_specified_index_splitter.cpython-37.pyc\n",
            "byte-compiling /usr/local/lib/python3.7/site-packages/deepchem/splits/task_splitter.py to task_splitter.cpython-37.pyc\n",
            "byte-compiling /usr/local/lib/python3.7/site-packages/deepchem/splits/tests/__init__.py to __init__.cpython-37.pyc\n",
            "byte-compiling /usr/local/lib/python3.7/site-packages/deepchem/splits/tests/test_splitter.py to test_splitter.cpython-37.pyc\n",
            "byte-compiling /usr/local/lib/python3.7/site-packages/deepchem/splits/tests/test_task_splitter.py to test_task_splitter.cpython-37.pyc\n",
            "byte-compiling /usr/local/lib/python3.7/site-packages/deepchem/dock/pose_generation.py to pose_generation.cpython-37.pyc\n",
            "byte-compiling /usr/local/lib/python3.7/site-packages/deepchem/dock/__init__.py to __init__.cpython-37.pyc\n",
            "byte-compiling /usr/local/lib/python3.7/site-packages/deepchem/dock/docking.py to docking.cpython-37.pyc\n",
            "byte-compiling /usr/local/lib/python3.7/site-packages/deepchem/dock/pose_scoring.py to pose_scoring.cpython-37.pyc\n",
            "byte-compiling /usr/local/lib/python3.7/site-packages/deepchem/dock/binding_pocket.py to binding_pocket.cpython-37.pyc\n",
            "byte-compiling /usr/local/lib/python3.7/site-packages/deepchem/dock/tests/test_binding_pocket.py to test_binding_pocket.cpython-37.pyc\n",
            "byte-compiling /usr/local/lib/python3.7/site-packages/deepchem/dock/tests/__init__.py to __init__.cpython-37.pyc\n",
            "byte-compiling /usr/local/lib/python3.7/site-packages/deepchem/dock/tests/test_pose_scoring.py to test_pose_scoring.cpython-37.pyc\n",
            "byte-compiling /usr/local/lib/python3.7/site-packages/deepchem/dock/tests/test_docking.py to test_docking.cpython-37.pyc\n",
            "byte-compiling /usr/local/lib/python3.7/site-packages/deepchem/dock/tests/test_pose_generation.py to test_pose_generation.cpython-37.pyc\n",
            "byte-compiling /usr/local/lib/python3.7/site-packages/deepchem/tests/test_init.py to test_init.cpython-37.pyc\n",
            "byte-compiling /usr/local/lib/python3.7/site-packages/deepchem/utils/test/test_rdkit_util.py to test_rdkit_util.cpython-37.pyc\n",
            "byte-compiling /usr/local/lib/python3.7/site-packages/deepchem/utils/test/test_generator_evaluator.py to test_generator_evaluator.cpython-37.pyc\n",
            "byte-compiling /usr/local/lib/python3.7/site-packages/deepchem/utils/test/__init__.py to __init__.cpython-37.pyc\n",
            "byte-compiling /usr/local/lib/python3.7/site-packages/deepchem/utils/test/test_voxel_utils.py to test_voxel_utils.cpython-37.pyc\n",
            "byte-compiling /usr/local/lib/python3.7/site-packages/deepchem/utils/test/test_hash_utils.py to test_hash_utils.cpython-37.pyc\n",
            "byte-compiling /usr/local/lib/python3.7/site-packages/deepchem/utils/test/test_seq.py to test_seq.cpython-37.pyc\n",
            "byte-compiling /usr/local/lib/python3.7/site-packages/deepchem/utils/test/test_coordinate_box_utils.py to test_coordinate_box_utils.cpython-37.pyc\n",
            "byte-compiling /usr/local/lib/python3.7/site-packages/deepchem/utils/test/test_geometry_utils.py to test_geometry_utils.cpython-37.pyc\n",
            "byte-compiling /usr/local/lib/python3.7/site-packages/deepchem/utils/save.py to save.cpython-37.pyc\n",
            "byte-compiling /usr/local/lib/python3.7/site-packages/deepchem/utils/geometry_utils.py to geometry_utils.cpython-37.pyc\n",
            "byte-compiling /usr/local/lib/python3.7/site-packages/deepchem/utils/conformers.py to conformers.cpython-37.pyc\n",
            "byte-compiling /usr/local/lib/python3.7/site-packages/deepchem/utils/__init__.py to __init__.cpython-37.pyc\n",
            "byte-compiling /usr/local/lib/python3.7/site-packages/deepchem/utils/mol_xyz_util.py to mol_xyz_util.cpython-37.pyc\n",
            "byte-compiling /usr/local/lib/python3.7/site-packages/deepchem/utils/coordinate_box_utils.py to coordinate_box_utils.cpython-37.pyc\n",
            "byte-compiling /usr/local/lib/python3.7/site-packages/deepchem/utils/evaluate.py to evaluate.cpython-37.pyc\n",
            "byte-compiling /usr/local/lib/python3.7/site-packages/deepchem/utils/voxel_utils.py to voxel_utils.cpython-37.pyc\n",
            "byte-compiling /usr/local/lib/python3.7/site-packages/deepchem/utils/rdkit_util.py to rdkit_util.cpython-37.pyc\n",
            "byte-compiling /usr/local/lib/python3.7/site-packages/deepchem/utils/hash_utils.py to hash_utils.cpython-37.pyc\n",
            "byte-compiling /usr/local/lib/python3.7/site-packages/deepchem/utils/genomics.py to genomics.cpython-37.pyc\n",
            "byte-compiling /usr/local/lib/python3.7/site-packages/deepchem/metalearning/maml.py to maml.cpython-37.pyc\n",
            "byte-compiling /usr/local/lib/python3.7/site-packages/deepchem/metalearning/__init__.py to __init__.cpython-37.pyc\n",
            "byte-compiling /usr/local/lib/python3.7/site-packages/deepchem/metalearning/tests/test_maml.py to test_maml.cpython-37.pyc\n",
            "byte-compiling /usr/local/lib/python3.7/site-packages/deepchem/molnet/__init__.py to __init__.cpython-37.pyc\n",
            "byte-compiling /usr/local/lib/python3.7/site-packages/deepchem/molnet/run_benchmark.py to run_benchmark.cpython-37.pyc\n",
            "byte-compiling /usr/local/lib/python3.7/site-packages/deepchem/molnet/check_availability.py to check_availability.cpython-37.pyc\n",
            "byte-compiling /usr/local/lib/python3.7/site-packages/deepchem/molnet/dnasim.py to dnasim.cpython-37.pyc\n",
            "byte-compiling /usr/local/lib/python3.7/site-packages/deepchem/molnet/run_benchmark_low_data.py to run_benchmark_low_data.cpython-37.pyc\n",
            "byte-compiling /usr/local/lib/python3.7/site-packages/deepchem/molnet/run_benchmark_models.py to run_benchmark_models.cpython-37.pyc\n",
            "byte-compiling /usr/local/lib/python3.7/site-packages/deepchem/molnet/tests/test_molnet.py to test_molnet.cpython-37.pyc\n",
            "byte-compiling /usr/local/lib/python3.7/site-packages/deepchem/molnet/tests/__init__.py to __init__.cpython-37.pyc\n",
            "byte-compiling /usr/local/lib/python3.7/site-packages/deepchem/molnet/tests/test_dnasim.py to test_dnasim.cpython-37.pyc\n",
            "byte-compiling /usr/local/lib/python3.7/site-packages/deepchem/molnet/preset_hyper_parameters.py to preset_hyper_parameters.cpython-37.pyc\n",
            "byte-compiling /usr/local/lib/python3.7/site-packages/deepchem/molnet/load_function/clintox_datasets.py to clintox_datasets.cpython-37.pyc\n",
            "byte-compiling /usr/local/lib/python3.7/site-packages/deepchem/molnet/load_function/chembl_datasets.py to chembl_datasets.cpython-37.pyc\n",
            "byte-compiling /usr/local/lib/python3.7/site-packages/deepchem/molnet/load_function/bbbp_datasets.py to bbbp_datasets.cpython-37.pyc\n",
            "byte-compiling /usr/local/lib/python3.7/site-packages/deepchem/molnet/load_function/uv_datasets.py to uv_datasets.cpython-37.pyc\n",
            "byte-compiling /usr/local/lib/python3.7/site-packages/deepchem/molnet/load_function/muv_datasets.py to muv_datasets.cpython-37.pyc\n",
            "byte-compiling /usr/local/lib/python3.7/site-packages/deepchem/molnet/load_function/toxcast_datasets.py to toxcast_datasets.cpython-37.pyc\n",
            "byte-compiling /usr/local/lib/python3.7/site-packages/deepchem/molnet/load_function/chembl_tasks.py to chembl_tasks.cpython-37.pyc\n",
            "byte-compiling /usr/local/lib/python3.7/site-packages/deepchem/molnet/load_function/ppb_datasets.py to ppb_datasets.cpython-37.pyc\n",
            "byte-compiling /usr/local/lib/python3.7/site-packages/deepchem/molnet/load_function/nci_datasets.py to nci_datasets.cpython-37.pyc\n",
            "byte-compiling /usr/local/lib/python3.7/site-packages/deepchem/molnet/load_function/thermosol_datasets.py to thermosol_datasets.cpython-37.pyc\n",
            "byte-compiling /usr/local/lib/python3.7/site-packages/deepchem/molnet/load_function/kinase_datasets.py to kinase_datasets.cpython-37.pyc\n",
            "byte-compiling /usr/local/lib/python3.7/site-packages/deepchem/molnet/load_function/cell_counting_datasets.py to cell_counting_datasets.cpython-37.pyc\n",
            "byte-compiling /usr/local/lib/python3.7/site-packages/deepchem/molnet/load_function/qm7_datasets.py to qm7_datasets.cpython-37.pyc\n",
            "byte-compiling /usr/local/lib/python3.7/site-packages/deepchem/molnet/load_function/sider_datasets.py to sider_datasets.cpython-37.pyc\n",
            "byte-compiling /usr/local/lib/python3.7/site-packages/deepchem/molnet/load_function/qm8_datasets.py to qm8_datasets.cpython-37.pyc\n",
            "byte-compiling /usr/local/lib/python3.7/site-packages/deepchem/molnet/load_function/uv_tasks.py to uv_tasks.cpython-37.pyc\n",
            "byte-compiling /usr/local/lib/python3.7/site-packages/deepchem/molnet/load_function/__init__.py to __init__.cpython-37.pyc\n",
            "byte-compiling /usr/local/lib/python3.7/site-packages/deepchem/molnet/load_function/factors_datasets.py to factors_datasets.cpython-37.pyc\n",
            "byte-compiling /usr/local/lib/python3.7/site-packages/deepchem/molnet/load_function/delaney_datasets.py to delaney_datasets.cpython-37.pyc\n",
            "byte-compiling /usr/local/lib/python3.7/site-packages/deepchem/molnet/load_function/hopv_datasets.py to hopv_datasets.cpython-37.pyc\n",
            "byte-compiling /usr/local/lib/python3.7/site-packages/deepchem/molnet/load_function/hiv_datasets.py to hiv_datasets.cpython-37.pyc\n",
            "byte-compiling /usr/local/lib/python3.7/site-packages/deepchem/molnet/load_function/kaggle_features.py to kaggle_features.cpython-37.pyc\n",
            "byte-compiling /usr/local/lib/python3.7/site-packages/deepchem/molnet/load_function/bace_datasets.py to bace_datasets.cpython-37.pyc\n",
            "byte-compiling /usr/local/lib/python3.7/site-packages/deepchem/molnet/load_function/qm9_datasets.py to qm9_datasets.cpython-37.pyc\n",
            "byte-compiling /usr/local/lib/python3.7/site-packages/deepchem/molnet/load_function/clearance_datasets.py to clearance_datasets.cpython-37.pyc\n",
            "byte-compiling /usr/local/lib/python3.7/site-packages/deepchem/molnet/load_function/sampl_datasets.py to sampl_datasets.cpython-37.pyc\n",
            "byte-compiling /usr/local/lib/python3.7/site-packages/deepchem/molnet/load_function/tox21_datasets.py to tox21_datasets.cpython-37.pyc\n",
            "byte-compiling /usr/local/lib/python3.7/site-packages/deepchem/molnet/load_function/bbbc_datasets.py to bbbc_datasets.cpython-37.pyc\n",
            "byte-compiling /usr/local/lib/python3.7/site-packages/deepchem/molnet/load_function/pcba_datasets.py to pcba_datasets.cpython-37.pyc\n",
            "byte-compiling /usr/local/lib/python3.7/site-packages/deepchem/molnet/load_function/pdbbind_datasets.py to pdbbind_datasets.cpython-37.pyc\n",
            "byte-compiling /usr/local/lib/python3.7/site-packages/deepchem/molnet/load_function/sweetlead_datasets.py to sweetlead_datasets.cpython-37.pyc\n",
            "byte-compiling /usr/local/lib/python3.7/site-packages/deepchem/molnet/load_function/kaggle_datasets.py to kaggle_datasets.cpython-37.pyc\n",
            "byte-compiling /usr/local/lib/python3.7/site-packages/deepchem/molnet/load_function/hppb_datasets.py to hppb_datasets.cpython-37.pyc\n",
            "byte-compiling /usr/local/lib/python3.7/site-packages/deepchem/molnet/load_function/bace_features.py to bace_features.cpython-37.pyc\n",
            "byte-compiling /usr/local/lib/python3.7/site-packages/deepchem/molnet/load_function/lipo_datasets.py to lipo_datasets.cpython-37.pyc\n",
            "byte-compiling /usr/local/lib/python3.7/site-packages/deepchem/molnet/load_function/uspto_datasets.py to uspto_datasets.cpython-37.pyc\n",
            "byte-compiling /usr/local/lib/python3.7/site-packages/deepchem/molnet/load_function/chembl25_datasets.py to chembl25_datasets.cpython-37.pyc\n",
            "running install_egg_info\n",
            "Copying deepchem.egg-info to /usr/local/lib/python3.7/site-packages/deepchem-2.3.1.dev290-py3.7.egg-info\n",
            "running install_scripts\n",
            "/content/deepchem/.eggs/pbr-5.4.5-py3.7.egg/pbr/packaging.py:436: EasyInstallDeprecationWarning: Use get_header\n",
            "  header = easy_install.get_script_header(\"\", executable, is_wininst)\n"
          ],
          "name": "stdout"
        }
      ]
    },
    {
      "cell_type": "code",
      "metadata": {
        "id": "1mPxN3yLFAWR",
        "colab_type": "code",
        "colab": {}
      },
      "source": [
        "import os\n",
        "import sys\n",
        "import deepchem as dc\n",
        "from deepchem.utils.save import load_from_disk\n",
        "from deepchem.models import GraphConvModel "
      ],
      "execution_count": 0,
      "outputs": []
    },
    {
      "cell_type": "code",
      "metadata": {
        "id": "dz2X8DfvFAWZ",
        "colab_type": "code",
        "colab": {}
      },
      "source": [
        "import pandas as pd"
      ],
      "execution_count": 0,
      "outputs": []
    },
    {
      "cell_type": "code",
      "metadata": {
        "id": "uq407EOaFAWc",
        "colab_type": "code",
        "outputId": "4f20b0ea-fdf0-4bab-b1e4-17bcafb2419d",
        "colab": {
          "base_uri": "https://localhost:8080/",
          "height": 34
        }
      },
      "source": [
        "print(pd)"
      ],
      "execution_count": 8,
      "outputs": [
        {
          "output_type": "stream",
          "text": [
            "<module 'pandas' from '/usr/local/lib/python3.6/dist-packages/pandas/__init__.py'>\n"
          ],
          "name": "stdout"
        }
      ]
    },
    {
      "cell_type": "code",
      "metadata": {
        "id": "dqn0ewhoFAWg",
        "colab_type": "code",
        "colab": {}
      },
      "source": [
        "from rdkit import Chem"
      ],
      "execution_count": 0,
      "outputs": []
    },
    {
      "cell_type": "code",
      "metadata": {
        "id": "pAXFZITNFAWi",
        "colab_type": "code",
        "colab": {}
      },
      "source": [
        "from rdkit.Chem import Draw"
      ],
      "execution_count": 0,
      "outputs": []
    },
    {
      "cell_type": "code",
      "metadata": {
        "id": "jHQqCl4yFAWl",
        "colab_type": "code",
        "colab": {}
      },
      "source": [
        "from rdkit.Chem import PandasTools"
      ],
      "execution_count": 0,
      "outputs": []
    },
    {
      "cell_type": "code",
      "metadata": {
        "id": "J6R04W28FAWq",
        "colab_type": "code",
        "colab": {}
      },
      "source": [
        "from rdkit.Chem import Descriptors"
      ],
      "execution_count": 0,
      "outputs": []
    },
    {
      "cell_type": "code",
      "metadata": {
        "id": "LZdELNhjFAWs",
        "colab_type": "code",
        "colab": {}
      },
      "source": [
        "from rdkit.Chem import rdmolops"
      ],
      "execution_count": 0,
      "outputs": []
    },
    {
      "cell_type": "code",
      "metadata": {
        "id": "dcfJWUizFAWv",
        "colab_type": "code",
        "outputId": "469f94b2-f343-417c-ffdc-dd0a7967b918",
        "colab": {
          "base_uri": "https://localhost:8080/",
          "height": 71
        }
      },
      "source": [
        "import seaborn as sns"
      ],
      "execution_count": 14,
      "outputs": [
        {
          "output_type": "stream",
          "text": [
            "/usr/local/lib/python3.6/dist-packages/statsmodels/tools/_testing.py:19: FutureWarning: pandas.util.testing is deprecated. Use the functions in the public API at pandas.testing instead.\n",
            "  import pandas.util.testing as tm\n"
          ],
          "name": "stderr"
        }
      ]
    },
    {
      "cell_type": "code",
      "metadata": {
        "id": "Drx3uzGAFAW0",
        "colab_type": "code",
        "colab": {}
      },
      "source": [
        "data = pd.DataFrame()"
      ],
      "execution_count": 0,
      "outputs": []
    },
    {
      "cell_type": "code",
      "metadata": {
        "id": "w9zsZ_Y1FAW2",
        "colab_type": "code",
        "outputId": "771563af-bfec-469d-b1c3-193d1083bde1",
        "colab": {
          "base_uri": "https://localhost:8080/",
          "height": 34
        }
      },
      "source": [
        "pd.__version__"
      ],
      "execution_count": 16,
      "outputs": [
        {
          "output_type": "execute_result",
          "data": {
            "text/plain": [
              "'1.0.4'"
            ]
          },
          "metadata": {
            "tags": []
          },
          "execution_count": 16
        }
      ]
    },
    {
      "cell_type": "code",
      "metadata": {
        "id": "tjpaVXBSFAW5",
        "colab_type": "code",
        "colab": {}
      },
      "source": [
        "current_dir = os.path.dirname(os.path.realpath(\"__file__\"))\n",
        "dc.utils.download_url(\"https://hermes.chem.ut.ee/~alfx/ML/train_smi.csv\",\n",
        "                      current_dir)"
      ],
      "execution_count": 0,
      "outputs": []
    },
    {
      "cell_type": "code",
      "metadata": {
        "id": "VyRzKK2oFAW7",
        "colab_type": "code",
        "colab": {}
      },
      "source": [
        "df = pd.read_csv(\"train_smi.csv\",sep=\" \")"
      ],
      "execution_count": 0,
      "outputs": []
    },
    {
      "cell_type": "code",
      "metadata": {
        "id": "mX0cVjrsFAW-",
        "colab_type": "code",
        "colab": {}
      },
      "source": [
        ""
      ],
      "execution_count": 0,
      "outputs": []
    },
    {
      "cell_type": "code",
      "metadata": {
        "id": "uzTyszhLFAXA",
        "colab_type": "code",
        "colab": {}
      },
      "source": [
        "df_rows, df_cols = df.shape"
      ],
      "execution_count": 0,
      "outputs": []
    },
    {
      "cell_type": "code",
      "metadata": {
        "id": "2EpFHu-tFAXC",
        "colab_type": "code",
        "outputId": "9d4f46ec-a8bc-4751-98ca-03f7f4c5d5ba",
        "colab": {
          "base_uri": "https://localhost:8080/",
          "height": 419
        }
      },
      "source": [
        "df"
      ],
      "execution_count": 20,
      "outputs": [
        {
          "output_type": "execute_result",
          "data": {
            "text/html": [
              "<div>\n",
              "<style scoped>\n",
              "    .dataframe tbody tr th:only-of-type {\n",
              "        vertical-align: middle;\n",
              "    }\n",
              "\n",
              "    .dataframe tbody tr th {\n",
              "        vertical-align: top;\n",
              "    }\n",
              "\n",
              "    .dataframe thead th {\n",
              "        text-align: right;\n",
              "    }\n",
              "</style>\n",
              "<table border=\"1\" class=\"dataframe\">\n",
              "  <thead>\n",
              "    <tr style=\"text-align: right;\">\n",
              "      <th></th>\n",
              "      <th>bindingClass</th>\n",
              "      <th>casrn</th>\n",
              "      <th>SMILES</th>\n",
              "      <th>Unnamed: 3</th>\n",
              "    </tr>\n",
              "  </thead>\n",
              "  <tbody>\n",
              "    <tr>\n",
              "      <th>0</th>\n",
              "      <td>0</td>\n",
              "      <td>1918-02-1</td>\n",
              "      <td>Nc1c(Cl)c([n]c(Cl)c1Cl)C(O)=O</td>\n",
              "      <td>NaN</td>\n",
              "    </tr>\n",
              "    <tr>\n",
              "      <th>1</th>\n",
              "      <td>1</td>\n",
              "      <td>50-27-1</td>\n",
              "      <td>C[C@]12CC[C@H]3[C@@H](CCc4cc(O)ccc43)[C@@H]1C[...</td>\n",
              "      <td>NaN</td>\n",
              "    </tr>\n",
              "    <tr>\n",
              "      <th>2</th>\n",
              "      <td>1</td>\n",
              "      <td>500-38-9</td>\n",
              "      <td>CC(Cc1cc(O)c(O)cc1)C(C)Cc1cc(O)c(O)cc1</td>\n",
              "      <td>NaN</td>\n",
              "    </tr>\n",
              "    <tr>\n",
              "      <th>3</th>\n",
              "      <td>1</td>\n",
              "      <td>521-18-6</td>\n",
              "      <td>C[C@]12CC[C@H]3[C@@H](CC[C@H]4CC(=O)CC[C@@]43C...</td>\n",
              "      <td>NaN</td>\n",
              "    </tr>\n",
              "    <tr>\n",
              "      <th>4</th>\n",
              "      <td>1</td>\n",
              "      <td>DB06710</td>\n",
              "      <td>CC12CCC3C(CCC4=CC(=O)CCC43C)C1CCC2(C)O</td>\n",
              "      <td>NaN</td>\n",
              "    </tr>\n",
              "    <tr>\n",
              "      <th>...</th>\n",
              "      <td>...</td>\n",
              "      <td>...</td>\n",
              "      <td>...</td>\n",
              "      <td>...</td>\n",
              "    </tr>\n",
              "    <tr>\n",
              "      <th>1666</th>\n",
              "      <td>0</td>\n",
              "      <td>NOCAS_48509</td>\n",
              "      <td>CCCN(C1CCN(CC1)C(=O)C1CCNCC1)[C@H]1Cc2cc(ccc2C...</td>\n",
              "      <td>NaN</td>\n",
              "    </tr>\n",
              "    <tr>\n",
              "      <th>1667</th>\n",
              "      <td>0</td>\n",
              "      <td>NOCAS_48514</td>\n",
              "      <td>Cc1ccc(c(Cl)c1)C(=O)NS(=O)(=O)/C=C/c1ccc(cc1)OC</td>\n",
              "      <td>NaN</td>\n",
              "    </tr>\n",
              "    <tr>\n",
              "      <th>1668</th>\n",
              "      <td>0</td>\n",
              "      <td>NOCAS_48516</td>\n",
              "      <td>O=C(NS(=O)(=O)/C=C/c1ccccc1)c1ccc(F)cc1Cl</td>\n",
              "      <td>NaN</td>\n",
              "    </tr>\n",
              "    <tr>\n",
              "      <th>1669</th>\n",
              "      <td>0</td>\n",
              "      <td>NOCAS_48518</td>\n",
              "      <td>O=C(NS(=O)(=O)/C=C/c1ccc[s]1)c1ccc(F)cc1Br</td>\n",
              "      <td>NaN</td>\n",
              "    </tr>\n",
              "    <tr>\n",
              "      <th>1670</th>\n",
              "      <td>0</td>\n",
              "      <td>102-71-6</td>\n",
              "      <td>OCCN(CCO)CCO</td>\n",
              "      <td>NaN</td>\n",
              "    </tr>\n",
              "  </tbody>\n",
              "</table>\n",
              "<p>1671 rows × 4 columns</p>\n",
              "</div>"
            ],
            "text/plain": [
              "      bindingClass  ... Unnamed: 3\n",
              "0                0  ...        NaN\n",
              "1                1  ...        NaN\n",
              "2                1  ...        NaN\n",
              "3                1  ...        NaN\n",
              "4                1  ...        NaN\n",
              "...            ...  ...        ...\n",
              "1666             0  ...        NaN\n",
              "1667             0  ...        NaN\n",
              "1668             0  ...        NaN\n",
              "1669             0  ...        NaN\n",
              "1670             0  ...        NaN\n",
              "\n",
              "[1671 rows x 4 columns]"
            ]
          },
          "metadata": {
            "tags": []
          },
          "execution_count": 20
        }
      ]
    },
    {
      "cell_type": "code",
      "metadata": {
        "id": "1aI9KOAlFAXE",
        "colab_type": "code",
        "colab": {}
      },
      "source": [
        "PandasTools.AddMoleculeColumnToFrame(df, \"SMILES\",\"Mol\")"
      ],
      "execution_count": 0,
      "outputs": []
    },
    {
      "cell_type": "code",
      "metadata": {
        "id": "uWO6lvGoJj6a",
        "colab_type": "code",
        "colab": {}
      },
      "source": [
        "current_dir = os.path.dirname(os.path.realpath(\"__file__\"))\n",
        "dc.utils.download_url(\"https://hermes.chem.ut.ee/~alfx/ML/binders_smi.csv\",  current_dir)"
      ],
      "execution_count": 0,
      "outputs": []
    },
    {
      "cell_type": "code",
      "metadata": {
        "id": "Vgs83tUjFAXG",
        "colab_type": "code",
        "colab": {}
      },
      "source": [
        "active_df = pd.read_csv(\"binders_smi.csv\",sep=\" \")"
      ],
      "execution_count": 0,
      "outputs": []
    },
    {
      "cell_type": "code",
      "metadata": {
        "id": "4qxo-E_1FAXI",
        "colab_type": "code",
        "colab": {}
      },
      "source": [
        ""
      ],
      "execution_count": 0,
      "outputs": []
    },
    {
      "cell_type": "code",
      "metadata": {
        "id": "KKivx9KTFAXK",
        "colab_type": "code",
        "colab": {}
      },
      "source": [
        "active_df_rows, active_df_cols = active_df.shape"
      ],
      "execution_count": 0,
      "outputs": []
    },
    {
      "cell_type": "code",
      "metadata": {
        "id": "0l-46hWUFAXO",
        "colab_type": "code",
        "outputId": "7f1278e1-e72a-4eac-a334-fe9c064873b8",
        "colab": {
          "base_uri": "https://localhost:8080/",
          "height": 419
        }
      },
      "source": [
        "active_df"
      ],
      "execution_count": 25,
      "outputs": [
        {
          "output_type": "execute_result",
          "data": {
            "text/html": [
              "<div>\n",
              "<style scoped>\n",
              "    .dataframe tbody tr th:only-of-type {\n",
              "        vertical-align: middle;\n",
              "    }\n",
              "\n",
              "    .dataframe tbody tr th {\n",
              "        vertical-align: top;\n",
              "    }\n",
              "\n",
              "    .dataframe thead th {\n",
              "        text-align: right;\n",
              "    }\n",
              "</style>\n",
              "<table border=\"1\" class=\"dataframe\">\n",
              "  <thead>\n",
              "    <tr style=\"text-align: right;\">\n",
              "      <th></th>\n",
              "      <th>bindingClass</th>\n",
              "      <th>casrn</th>\n",
              "      <th>SMILES</th>\n",
              "    </tr>\n",
              "  </thead>\n",
              "  <tbody>\n",
              "    <tr>\n",
              "      <th>0</th>\n",
              "      <td>1</td>\n",
              "      <td>50-27-1</td>\n",
              "      <td>C[C@]12CC[C@H]3[C@@H](CCc4cc(O)ccc43)[C@@H]1C[...</td>\n",
              "    </tr>\n",
              "    <tr>\n",
              "      <th>1</th>\n",
              "      <td>1</td>\n",
              "      <td>500-38-9</td>\n",
              "      <td>CC(Cc1cc(O)c(O)cc1)C(C)Cc1cc(O)c(O)cc1</td>\n",
              "    </tr>\n",
              "    <tr>\n",
              "      <th>2</th>\n",
              "      <td>1</td>\n",
              "      <td>521-18-6</td>\n",
              "      <td>C[C@]12CC[C@H]3[C@@H](CC[C@H]4CC(=O)CC[C@@]43C...</td>\n",
              "    </tr>\n",
              "    <tr>\n",
              "      <th>3</th>\n",
              "      <td>1</td>\n",
              "      <td>DB06710</td>\n",
              "      <td>CC12CCC3C(CCC4=CC(=O)CCC43C)C1CCC2(C)O</td>\n",
              "    </tr>\n",
              "    <tr>\n",
              "      <th>4</th>\n",
              "      <td>1</td>\n",
              "      <td>50-28-2</td>\n",
              "      <td>C[C@]12CC[C@H]3[C@@H](CCc4cc(O)ccc43)[C@@H]1CC...</td>\n",
              "    </tr>\n",
              "    <tr>\n",
              "      <th>...</th>\n",
              "      <td>...</td>\n",
              "      <td>...</td>\n",
              "      <td>...</td>\n",
              "    </tr>\n",
              "    <tr>\n",
              "      <th>200</th>\n",
              "      <td>1</td>\n",
              "      <td>NOCAS_47353</td>\n",
              "      <td>CN(C)C(=O)C1(CCN(CCC2(CN(CCO2)C(=O)c2ccccc2)c2...</td>\n",
              "    </tr>\n",
              "    <tr>\n",
              "      <th>201</th>\n",
              "      <td>1</td>\n",
              "      <td>NOCAS_47377</td>\n",
              "      <td>CC(C)N1CCC(CC1)NC(=O)c1cc2cc(ccc2[n]1Cc1cc(o[n...</td>\n",
              "    </tr>\n",
              "    <tr>\n",
              "      <th>202</th>\n",
              "      <td>1</td>\n",
              "      <td>NOCAS_47379</td>\n",
              "      <td>CCN(Cc1c[n]ccc1)C(=O)c1cccc(Cl)c1[C@]1(C)C(=O)...</td>\n",
              "    </tr>\n",
              "    <tr>\n",
              "      <th>203</th>\n",
              "      <td>1</td>\n",
              "      <td>NOCAS_47389</td>\n",
              "      <td>CCOC(=O)c1ccc(cc1)[C@@H]1CC[C@H](CC1)NC[C@H](O...</td>\n",
              "    </tr>\n",
              "    <tr>\n",
              "      <th>204</th>\n",
              "      <td>1</td>\n",
              "      <td>NOCAS_48505</td>\n",
              "      <td>Cc1[nH][n]c2Nc3ccc(cc3C(=Nc21)c1ccccc1Cl)[N+](...</td>\n",
              "    </tr>\n",
              "  </tbody>\n",
              "</table>\n",
              "<p>205 rows × 3 columns</p>\n",
              "</div>"
            ],
            "text/plain": [
              "     bindingClass  ...                                             SMILES\n",
              "0               1  ...  C[C@]12CC[C@H]3[C@@H](CCc4cc(O)ccc43)[C@@H]1C[...\n",
              "1               1  ...             CC(Cc1cc(O)c(O)cc1)C(C)Cc1cc(O)c(O)cc1\n",
              "2               1  ...  C[C@]12CC[C@H]3[C@@H](CC[C@H]4CC(=O)CC[C@@]43C...\n",
              "3               1  ...             CC12CCC3C(CCC4=CC(=O)CCC43C)C1CCC2(C)O\n",
              "4               1  ...  C[C@]12CC[C@H]3[C@@H](CCc4cc(O)ccc43)[C@@H]1CC...\n",
              "..            ...  ...                                                ...\n",
              "200             1  ...  CN(C)C(=O)C1(CCN(CCC2(CN(CCO2)C(=O)c2ccccc2)c2...\n",
              "201             1  ...  CC(C)N1CCC(CC1)NC(=O)c1cc2cc(ccc2[n]1Cc1cc(o[n...\n",
              "202             1  ...  CCN(Cc1c[n]ccc1)C(=O)c1cccc(Cl)c1[C@]1(C)C(=O)...\n",
              "203             1  ...  CCOC(=O)c1ccc(cc1)[C@@H]1CC[C@H](CC1)NC[C@H](O...\n",
              "204             1  ...  Cc1[nH][n]c2Nc3ccc(cc3C(=Nc21)c1ccccc1Cl)[N+](...\n",
              "\n",
              "[205 rows x 3 columns]"
            ]
          },
          "metadata": {
            "tags": []
          },
          "execution_count": 25
        }
      ]
    },
    {
      "cell_type": "code",
      "metadata": {
        "id": "9p3toUgfFAXQ",
        "colab_type": "code",
        "colab": {}
      },
      "source": [
        ""
      ],
      "execution_count": 0,
      "outputs": []
    },
    {
      "cell_type": "code",
      "metadata": {
        "id": "3kL8GZzJFAXU",
        "colab_type": "code",
        "colab": {}
      },
      "source": [
        "PandasTools.AddMoleculeColumnToFrame(active_df,\"SMILES\",\"Mol\")"
      ],
      "execution_count": 0,
      "outputs": []
    },
    {
      "cell_type": "code",
      "metadata": {
        "id": "IQHSCbKiFAXW",
        "colab_type": "code",
        "colab": {}
      },
      "source": [
        ""
      ],
      "execution_count": 0,
      "outputs": []
    },
    {
      "cell_type": "code",
      "metadata": {
        "id": "DIageR1qFAXY",
        "colab_type": "code",
        "colab": {}
      },
      "source": [
        "#df.columns = [\"SMILES\",\"s_m_title\",\"bindingClass\",\"Mol\"]"
      ],
      "execution_count": 0,
      "outputs": []
    },
    {
      "cell_type": "code",
      "metadata": {
        "id": "UidV8Q1dFAXa",
        "colab_type": "code",
        "outputId": "324d3b85-3fe9-4039-bb21-a12dc4230d8c",
        "colab": {
          "base_uri": "https://localhost:8080/",
          "height": 34
        }
      },
      "source": [
        "print([str(x) for x in active_df.columns])"
      ],
      "execution_count": 28,
      "outputs": [
        {
          "output_type": "stream",
          "text": [
            "['bindingClass', 'casrn', 'SMILES', 'Mol']\n"
          ],
          "name": "stdout"
        }
      ]
    },
    {
      "cell_type": "code",
      "metadata": {
        "id": "Rr-H-e6yJ1kZ",
        "colab_type": "code",
        "colab": {}
      },
      "source": [
        "current_dir = os.path.dirname(os.path.realpath(\"__file__\"))\n",
        "dc.utils.download_url(\"https://hermes.chem.ut.ee/~alfx/ML/nonbinders_smi.csv\",  current_dir)"
      ],
      "execution_count": 0,
      "outputs": []
    },
    {
      "cell_type": "code",
      "metadata": {
        "id": "u1gaZY_dFAXc",
        "colab_type": "code",
        "colab": {}
      },
      "source": [
        "inactive_df = pd.read_csv(\"nonbinders_smi.csv\",sep=\" \")"
      ],
      "execution_count": 0,
      "outputs": []
    },
    {
      "cell_type": "code",
      "metadata": {
        "id": "GCvZyUkHJ0rw",
        "colab_type": "code",
        "colab": {}
      },
      "source": [
        ""
      ],
      "execution_count": 0,
      "outputs": []
    },
    {
      "cell_type": "code",
      "metadata": {
        "id": "qjWUNMeTFAXe",
        "colab_type": "code",
        "colab": {}
      },
      "source": [
        "tmp_df = active_df.append(inactive_df)"
      ],
      "execution_count": 0,
      "outputs": []
    },
    {
      "cell_type": "code",
      "metadata": {
        "id": "S8ZB50XdFAXg",
        "colab_type": "code",
        "colab": {}
      },
      "source": [
        "active_df[\"label\"] = [\"Binders\"]*active_df_rows"
      ],
      "execution_count": 0,
      "outputs": []
    },
    {
      "cell_type": "code",
      "metadata": {
        "id": "4LVaI2BVFAXi",
        "colab_type": "code",
        "colab": {}
      },
      "source": [
        "PandasTools.AddMoleculeColumnToFrame(inactive_df,\"SMILES\",\"Mol\")"
      ],
      "execution_count": 0,
      "outputs": []
    },
    {
      "cell_type": "code",
      "metadata": {
        "id": "LG8Zt8DJFAXk",
        "colab_type": "code",
        "colab": {}
      },
      "source": [
        ""
      ],
      "execution_count": 0,
      "outputs": []
    },
    {
      "cell_type": "code",
      "metadata": {
        "id": "HarJ_yE1FAXm",
        "colab_type": "code",
        "colab": {}
      },
      "source": [
        "inactive_df_rows, inactive_df_cols = inactive_df.shape"
      ],
      "execution_count": 0,
      "outputs": []
    },
    {
      "cell_type": "code",
      "metadata": {
        "id": "27h5h-srFAXo",
        "colab_type": "code",
        "colab": {}
      },
      "source": [
        ""
      ],
      "execution_count": 0,
      "outputs": []
    },
    {
      "cell_type": "code",
      "metadata": {
        "id": "MzJX9AW9FAXq",
        "colab_type": "code",
        "colab": {}
      },
      "source": [
        "inactive_df[\"label\"] = [\"Nonbinders\"]*inactive_df_rows"
      ],
      "execution_count": 0,
      "outputs": []
    },
    {
      "cell_type": "code",
      "metadata": {
        "id": "AVyKgJfYFAXu",
        "colab_type": "code",
        "colab": {}
      },
      "source": [
        "tmp_df = active_df.append(inactive_df)"
      ],
      "execution_count": 0,
      "outputs": []
    },
    {
      "cell_type": "code",
      "metadata": {
        "id": "J-MQ45BzFAXw",
        "colab_type": "code",
        "colab": {}
      },
      "source": [
        ""
      ],
      "execution_count": 0,
      "outputs": []
    },
    {
      "cell_type": "code",
      "metadata": {
        "id": "Pf5LJtqAFAXz",
        "colab_type": "code",
        "colab": {}
      },
      "source": [
        "###fig = sns.violinplot(tmp_df[\"label\"], tmp_df[\"ChimpDockScore\"])"
      ],
      "execution_count": 0,
      "outputs": []
    },
    {
      "cell_type": "code",
      "metadata": {
        "id": "3uA4vxz1FAX3",
        "colab_type": "code",
        "colab": {}
      },
      "source": [
        "###fig_chimpdockscore = fig.get_figure()"
      ],
      "execution_count": 0,
      "outputs": []
    },
    {
      "cell_type": "code",
      "metadata": {
        "id": "dVEh4PPLFAX5",
        "colab_type": "code",
        "colab": {}
      },
      "source": [
        "###fig_chimpdockscore.savefig('fig_chimpdockscore.png',dpi=600)"
      ],
      "execution_count": 0,
      "outputs": []
    },
    {
      "cell_type": "code",
      "metadata": {
        "id": "fmMI0CwXFAX8",
        "colab_type": "code",
        "colab": {}
      },
      "source": [
        "###fig2 = sns.violinplot(tmp_df[\"label\"], tmp_df[\"avgD_Act\"])"
      ],
      "execution_count": 0,
      "outputs": []
    },
    {
      "cell_type": "code",
      "metadata": {
        "id": "SehHkG3hFAX_",
        "colab_type": "code",
        "colab": {}
      },
      "source": [
        "###fig_avgD_Act = fig2.get_figure()"
      ],
      "execution_count": 0,
      "outputs": []
    },
    {
      "cell_type": "code",
      "metadata": {
        "id": "Nvw5FTApFAYB",
        "colab_type": "code",
        "colab": {}
      },
      "source": [
        "###fig_avgD_Act.savefig('fig_avgD_Act.png',dpi=600)"
      ],
      "execution_count": 0,
      "outputs": []
    },
    {
      "cell_type": "code",
      "metadata": {
        "id": "Stxw--ZkFAYD",
        "colab_type": "code",
        "colab": {}
      },
      "source": [
        ""
      ],
      "execution_count": 0,
      "outputs": []
    },
    {
      "cell_type": "code",
      "metadata": {
        "id": "BgjfDulAFAYE",
        "colab_type": "code",
        "colab": {}
      },
      "source": [
        "###fig3 = sns.violinplot(tmp_df[\"label\"], tmp_df[\"avgD_Inact\"])"
      ],
      "execution_count": 0,
      "outputs": []
    },
    {
      "cell_type": "code",
      "metadata": {
        "id": "x2et5QcrFAYG",
        "colab_type": "code",
        "colab": {}
      },
      "source": [
        "###fig_avgD_Inact = fig3.get_figure()"
      ],
      "execution_count": 0,
      "outputs": []
    },
    {
      "cell_type": "code",
      "metadata": {
        "id": "i-raJK76FAYI",
        "colab_type": "code",
        "colab": {}
      },
      "source": [
        "###fig_avgD_Inact.savefig('fig_avgD_Inact.png',dpi=600)"
      ],
      "execution_count": 0,
      "outputs": []
    },
    {
      "cell_type": "code",
      "metadata": {
        "id": "W70JGlFgFAYL",
        "colab_type": "code",
        "colab": {}
      },
      "source": [
        ""
      ],
      "execution_count": 0,
      "outputs": []
    },
    {
      "cell_type": "code",
      "metadata": {
        "id": "8oc1WWe8FAYO",
        "colab_type": "code",
        "colab": {}
      },
      "source": [
        "###fig4 = sns.violinplot(tmp_df[\"label\"], tmp_df[\"P_Act_dockChimp\"])"
      ],
      "execution_count": 0,
      "outputs": []
    },
    {
      "cell_type": "code",
      "metadata": {
        "id": "w3FR9EY7FAYT",
        "colab_type": "code",
        "colab": {}
      },
      "source": [
        "###fig_P_Act_dockChimp = fig4.get_figure()"
      ],
      "execution_count": 0,
      "outputs": []
    },
    {
      "cell_type": "code",
      "metadata": {
        "id": "xr643W9pFAYU",
        "colab_type": "code",
        "colab": {}
      },
      "source": [
        "###fig_P_Act_dockChimp.savefig('fig_P_Act_dockChimp.png',dpi=600)"
      ],
      "execution_count": 0,
      "outputs": []
    },
    {
      "cell_type": "code",
      "metadata": {
        "id": "hsQzg3qiFAYX",
        "colab_type": "code",
        "colab": {}
      },
      "source": [
        ""
      ],
      "execution_count": 0,
      "outputs": []
    },
    {
      "cell_type": "code",
      "metadata": {
        "id": "sNtaJmMJFAYZ",
        "colab_type": "code",
        "colab": {}
      },
      "source": [
        "###fig5 = sns.violinplot(tmp_df[\"label\"], tmp_df[\"P_Inact\"])"
      ],
      "execution_count": 0,
      "outputs": []
    },
    {
      "cell_type": "code",
      "metadata": {
        "id": "4gOLAguVFAYb",
        "colab_type": "code",
        "colab": {}
      },
      "source": [
        "###fig_P_Inact = fig5.get_figure()"
      ],
      "execution_count": 0,
      "outputs": []
    },
    {
      "cell_type": "code",
      "metadata": {
        "id": "hEFOp3aVFAYd",
        "colab_type": "code",
        "colab": {}
      },
      "source": [
        "###fig_P_Inact.savefig('fig_P_Inact.png',dpi=600)"
      ],
      "execution_count": 0,
      "outputs": []
    },
    {
      "cell_type": "code",
      "metadata": {
        "id": "OIlpWLMrFAYf",
        "colab_type": "code",
        "colab": {}
      },
      "source": [
        ""
      ],
      "execution_count": 0,
      "outputs": []
    },
    {
      "cell_type": "code",
      "metadata": {
        "id": "es8wYl4uFAYh",
        "colab_type": "code",
        "colab": {}
      },
      "source": [
        "bal_df = tmp_df"
      ],
      "execution_count": 0,
      "outputs": []
    },
    {
      "cell_type": "code",
      "metadata": {
        "id": "HEsUD3UtFAYi",
        "colab_type": "code",
        "colab": {}
      },
      "source": [
        "g = bal_df.groupby('bindingClass')\n",
        "g = pd.DataFrame(g.apply(lambda x: x.sample(g.size().min()).reset_index(drop=True)))"
      ],
      "execution_count": 0,
      "outputs": []
    },
    {
      "cell_type": "code",
      "metadata": {
        "id": "2e4aeKHZFAYk",
        "colab_type": "code",
        "outputId": "5def954e-29e6-4d06-e877-6e59f2bf17be",
        "colab": {
          "base_uri": "https://localhost:8080/",
          "height": 1000
        }
      },
      "source": [
        "g"
      ],
      "execution_count": 55,
      "outputs": [
        {
          "output_type": "execute_result",
          "data": {
            "text/html": [
              "<div>\n",
              "<style scoped>\n",
              "    .dataframe tbody tr th:only-of-type {\n",
              "        vertical-align: middle;\n",
              "    }\n",
              "\n",
              "    .dataframe tbody tr th {\n",
              "        vertical-align: top;\n",
              "    }\n",
              "\n",
              "    .dataframe thead th {\n",
              "        text-align: right;\n",
              "    }\n",
              "</style>\n",
              "<table border=\"1\" class=\"dataframe\">\n",
              "  <thead>\n",
              "    <tr style=\"text-align: right;\">\n",
              "      <th></th>\n",
              "      <th></th>\n",
              "      <th>bindingClass</th>\n",
              "      <th>casrn</th>\n",
              "      <th>SMILES</th>\n",
              "      <th>Mol</th>\n",
              "      <th>label</th>\n",
              "    </tr>\n",
              "    <tr>\n",
              "      <th>bindingClass</th>\n",
              "      <th></th>\n",
              "      <th></th>\n",
              "      <th></th>\n",
              "      <th></th>\n",
              "      <th></th>\n",
              "      <th></th>\n",
              "    </tr>\n",
              "  </thead>\n",
              "  <tbody>\n",
              "    <tr>\n",
              "      <th rowspan=\"5\" valign=\"top\">0</th>\n",
              "      <th>0</th>\n",
              "      <td>0</td>\n",
              "      <td>124-04-9</td>\n",
              "      <td>OC(=O)CCCCC(O)=O</td>\n",
              "      <td><img data-content=\"rdkit/molecule\" src=\"data:image/png;base64,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\" alt=\"Mol\"/></td>\n",
              "      <td>Nonbinders</td>\n",
              "    </tr>\n",
              "    <tr>\n",
              "      <th>1</th>\n",
              "      <td>0</td>\n",
              "      <td>128-39-2</td>\n",
              "      <td>CC(C)(C)c1cccc(c1O)C(C)(C)C</td>\n",
              "      <td><img data-content=\"rdkit/molecule\" src=\"data:image/png;base64,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\" alt=\"Mol\"/></td>\n",
              "      <td>Nonbinders</td>\n",
              "    </tr>\n",
              "    <tr>\n",
              "      <th>2</th>\n",
              "      <td>0</td>\n",
              "      <td>88-58-4</td>\n",
              "      <td>CC(C)(C)c1cc(O)c(cc1O)C(C)(C)C</td>\n",
              "      <td><img data-content=\"rdkit/molecule\" src=\"data:image/png;base64,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\" alt=\"Mol\"/></td>\n",
              "      <td>Nonbinders</td>\n",
              "    </tr>\n",
              "    <tr>\n",
              "      <th>3</th>\n",
              "      <td>0</td>\n",
              "      <td>151-05-3</td>\n",
              "      <td>CC(=O)OC(C)(C)Cc1ccccc1</td>\n",
              "      <td><img data-content=\"rdkit/molecule\" src=\"data:image/png;base64,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\" alt=\"Mol\"/></td>\n",
              "      <td>Nonbinders</td>\n",
              "    </tr>\n",
              "    <tr>\n",
              "      <th>4</th>\n",
              "      <td>0</td>\n",
              "      <td>550-44-7</td>\n",
              "      <td>CN1C(=O)c2ccccc2C1=O</td>\n",
              "      <td><img data-content=\"rdkit/molecule\" src=\"data:image/png;base64,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\" alt=\"Mol\"/></td>\n",
              "      <td>Nonbinders</td>\n",
              "    </tr>\n",
              "    <tr>\n",
              "      <th>...</th>\n",
              "      <th>...</th>\n",
              "      <td>...</td>\n",
              "      <td>...</td>\n",
              "      <td>...</td>\n",
              "      <td>...</td>\n",
              "      <td>...</td>\n",
              "    </tr>\n",
              "    <tr>\n",
              "      <th rowspan=\"5\" valign=\"top\">1</th>\n",
              "      <th>200</th>\n",
              "      <td>1</td>\n",
              "      <td>DB00367</td>\n",
              "      <td>CCC12CCC3C4CCC(=O)C=C4CCC3C1CCC2(O)C#C</td>\n",
              "      <td><img data-content=\"rdkit/molecule\" src=\"data:image/png;base64,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\" alt=\"Mol\"/></td>\n",
              "      <td>Binders</td>\n",
              "    </tr>\n",
              "    <tr>\n",
              "      <th>201</th>\n",
              "      <td>1</td>\n",
              "      <td>97-77-8</td>\n",
              "      <td>CCN(CC)C(=S)SSC(=S)N(CC)CC</td>\n",
              "      <td><img data-content=\"rdkit/molecule\" src=\"data:image/png;base64,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\" alt=\"Mol\"/></td>\n",
              "      <td>Binders</td>\n",
              "    </tr>\n",
              "    <tr>\n",
              "      <th>202</th>\n",
              "      <td>1</td>\n",
              "      <td>DB08804</td>\n",
              "      <td>CCCCCCCCCC(=O)OC1CCC2C3CCC4=CC(=O)CCC4C3CCC21C</td>\n",
              "      <td><img data-content=\"rdkit/molecule\" src=\"data:image/png;base64,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\" alt=\"Mol\"/></td>\n",
              "      <td>Binders</td>\n",
              "    </tr>\n",
              "    <tr>\n",
              "      <th>203</th>\n",
              "      <td>1</td>\n",
              "      <td>NOCAS_47328</td>\n",
              "      <td>NC(=O)c1[nH]c([n][n]1)-c1cc(ccc1)-c1cc(F)ccc1O...</td>\n",
              "      <td><img data-content=\"rdkit/molecule\" src=\"data:image/png;base64,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\" alt=\"Mol\"/></td>\n",
              "      <td>Binders</td>\n",
              "    </tr>\n",
              "    <tr>\n",
              "      <th>204</th>\n",
              "      <td>1</td>\n",
              "      <td>444610-91-7</td>\n",
              "      <td>COc1ccc(cc1)N1CCN(Cc2[n]c([s]c2CSc2cc(CC)c(cc2...</td>\n",
              "      <td><img data-content=\"rdkit/molecule\" src=\"data:image/png;base64,iVBORw0KGgoAAAANSUhEUgAAAMgAAADICAIAAAAiOjnJAAAABmJLR0QA/wD/AP+gvaeTAAAbr0lEQVR4nO2deVyTx9bHz5MACasgi8giiAuK4i6IuIBiRUWFqrXUgrSfat2KWm3VitLrrUpviyJakVflFoHivqC25UqtAorUICiKRREEBWUTECQsyTPvH9OmcQGSJwyb8/30D0xne8iPeWbOOXOGQQgBhdLa8Np7AJSuCRUWhQhUWBQiUGFRiECFRSECFRaFCFRYFCJQYVGIQIVFIQIVFoUIVFgUIlBhUYhAhUUhAhUWhQhUWBQiUGFRiECFRSECFRaFCFRYFCJQYVGIQIVFIQIVFoUIVFgUIlBhUYhAhUUhAhUWhQhUWBQiUGFRiECFRSECFRaFCFRYFCJQYVGIQIVFIQIVFoUIVFgUIlBhUYhAhUUhAhUWhQhUWBQiUGFRiECFRSECFRaFCFRYFCJQYVGIQIVFIQIVFoUIVFgUIlBhUYhAhUUhAhUWhQhq7T2A9kEsFj969Ihl2QEDBrT3WLomXVlYDQ0NZWVlT548yc3NLSoqwj/gn4uLi1mWHTduXJ8+fcLDwwUCQXsPtqvRNYVVVFQ0adKk7OzspgoIBAILC4usrKzk5GR9ff2QkJC2HN7bANP1brHPy8vr37+/lpZWXV2doaGhmZmZjY1Nz5495X+wtrbm8XgikcjZ2bmxsfHUqVOzZ89u74F3LVCHQSqVtko7q1evBgBvb2+WZVss/P333wOAgYHBw4cPW6V3CqYdZqyKigr5RY/sBz6fv2bNGj8/P1VWPNXV1ZaWllVVVdevXx81alSL5RFCM2fOPH/+vJeXz7Fjh/h8zj1TXqYNxMuy7IYNG8aMGWNmZsZv+qtTU1MDAH9/f1X6wquliRMnKl6ltLR0+vTPdHSeb9qkSs+UlyA+YyGExowZ8+zZs5ycHPyJgYHB64seGxubsrKy8ePHNzY2njx50tPTk0NfLItsbfvn5OScOHHi3XffVbxiYiJMmgQIQXw8uLlx6JnyGqSVe/78eQAwMTG5dOnSo0ePGhsbmyoZGxsbFBQEKqx4zpxB/ftnzJr1uUQiUbZuYCACQD16oCdPOPRMeZXmhHX37t26ujoVO3jnnXcAYOvWrSUlJc0U27RpEwAsXLgQ784cHR0bGhqU7cvVFQGgHTu4jFMqRZMmIQDk7o6aWvSzLFtUVJSamnrixInDhw8rsjl4a2lSWEeOHNHS0vrss89Uaf3OnTsMw2hpae3cuVMoFAYFBTVVMjs7W1dXFwDCwsJ69eoFAAEBAUr1lZmJGAbp6qLKSo6jffwYGRkhb28kFqOSEnTyJNq1C61di7y90bhxaMqU99XV1WUzfc+ePYcOHXr37l2OnXV1mhSWSCTCu7NTp05xbn3x4sUAsGzZsiFDhgBAdHR0M4UPHjwIANra2tHR0Xw+n8fj/e9//1O8r48+QgBo5UrOg0UIoYICFBCA4uJQWBgCeOk/Z2dfADA1NR01atTs2bPt7OwAYNiwYWKxWKUuuyjNvQp37tyJVzx5eXkcmi4vL9fW1mYY5sCBAwBgZmZWX1/ffJUPP/wQAOzt7Tdu3AgAPXr0eKLYkqekBAmFiMdDOTkcRvoPVVXowAH07bfo7Fk0axb67DMUFISiolBiIsrNrZBfGFRXV9va2gLAihUrVOqyi9KcsFiWVWXFs3XrVgCYPn36jBkzAOCbb75psYr8tzV58mQAmDp1aouG0/p6VF6ONm5EH3+s7BhfZfNm1L07anZi/YebN28KhUIAOHnypKoddzla2BWWlZVZWFj8OH58Y2CgUu02NDRYWFgAQEREBI/HEwgExcXFilSUvYIjIiJMTU0B4Ntvv8UjycjIOHv27P/9X/TGjcjXF7m6ov79kaYm2rTpr/fX9etKjfFV6upQjx4IACUmKloFm8309fW5TepdmJbNDc+SkxGfj3g8lJCgeLs//fQTANja2i5fvhwAFi1apHhd/G0NGTLk3LlzDMMIBAI8MWDU1IR8/kurn6VLUVQUCgpCGzciVRY8Bw8iADR8uBJVZJO6g4MDh0m9C6OYHetf/1LWyOPo6AgAO3bs0NHRAYCbN28qPiaWZbdt21ZWVoYQ6tWrl6GhIV7qDR48eMaMGYsXL962rf7HH9GFCygrC7148VetpUsRAFq2TPF+XmXoUASAIiOVq/Xs2TMrKysA+Oqrr7j33eVQTFhSKXJzQwBo6lSkgKv46tWrWArBwcEAMHnyZG6DS0xMBAAjI6PS0tIWC9+6hTQ1EQDituC5eJEFQKamiIPlLjExUU1NTdltbNdGYct7YSEyNkYA6Ny5fz6srkZ37qD4+NuxsV9//fUnn3zi7u4+aNAgoVDI4/EWLVrU2Nh45MiRpKQkboObM2cOAGxS2Ie3axcCQPr6iMOC591333d2DvvuuzKlayKEENqyZQt2MBQVFXFroYuhjK8wPh7KymDBAgAABwe4dw+qqvD/OeLk9H5KinxZPp9va2ublpYmvzxSivz8/L59+zIMk5eXZ25urkgVhMDLC86cAWdndOkSq6amaKxCTk6Ora2turp6fn5+jx49OIyWZdmpU6cmJCQ4Ojpu2bKFx/vnMIFY7FZX90/JPn1gxAgOPXQ2lNPhrl1o/3506xbq3x8BIC0tNGAAmjw5e/XqTZs2hYeHnzt3LjMz8/HjxziWfJkKS541a9YAgI+Pj1K1nj1Dw4aVjh49Y8OGDYrX8vf3B4CPVTNXFBUVdevWzczMTP7XyzC8VwytS5e2zh62g6NkdENoKPD5MHEiaGmBvj50795UwczMTEdHR7FYHBsb+/777ysr95qaGktLy8rKyj/++GP06NFK1U1OvuLq6sKy7K+//jplypQWy1dXV1tYWDx//jwjI2Po0KHKDlUGQsjS0rKwsNDBwUFPT0/2uabmBflZ280NtLTg1i2wtwcfH869dXjIaTY0NBQA9PX1c3NzudUdP348t67//e9/Q0srntra2uzs7IsXL3p7ewPApEmTuPUl4/r16wBgbm7eonP67FkEgLg+XOeAbNiMl5cXADg4OLTozJGHZVlsfz9+/Di3fqVSKZ6rJk6cWFBQIBKJjh49GhISsm7dunnz5jk7O9vY2Mgvg1xcXOLi4rj1JeOrr74CgBUrVowbN+7TTz+tbNoZXl2NNDURj4cKC1Xss+NCVlgVFRXW1tYAsH79+jcWaGxsLCgoSE5OPnz4cHBwcFVVFUIoLi4OAKysrJoJ3mqRoqIiExMTbW3tpqZqgUDQp0+fCRMm+Pj4/Pnnn5w7kjFw4EAAwI5RExOTN8aE5eejOXPQtGnI0xMBoN27Ve+2g0I80C81NVVdXZ1hmLNnz+JP9u7dO3fu3DdGKqenpyOEsJfw+++/V7Hrq1ev7t27t3fv3uPHj1+wYMG6detCQ0PPnDkjEomePn2q6oO9DD5qZmhouHnzZmja0/D8+V/O8j17EACaMKF1R9GBaIuYd+yNNjExKSwsRAj5yC1Z+Xy+ubm5k5PT3LlzV61adf/+/fj4eIZhdHR0Kioq2mBsrcW2bdsAwM/PDy//f/7556ZKzpqFAFBw8F8K66pmr7Y4pcOyrLu7+4ULF1xcXBISElJSUu7fv48QYhimvr7+4cOHsoM6+fn5UqnU3Nzcy8tr9+7dpAfWijg4OFy/fn3//v2LFi3S1dUtKSlpyoAXHQ0+PuDp+bRXr9SEhK3Lli3E7lRuHDx4UCKRxMTEeHp6enl59e7dm3NTrUzb6PfJkyfY8GhoaNj8QR0LC4vY2Niampq2GVir8PjxYzzLbt++HQC8vb2bKVxVxQ4bNo7P5+/duxeUPFD0Cnjzq6WlJfsFDh8+fMuWLZmZmZzbbC3a6Ii9qalpVFRUYmLiN998A00f1OnVqxc+BNa5wPFY7u7u586dAwC8F24KPT3G0tIgI0NaV1enqamZlJRUVFT0ilm1RRBCX3zxRXBwMJ/PDwoKsra2PnbsWFxcXHp6enp6+ubNm62trWfNmjVv3ryxY8fK73/bjrZUsVgsLigoUGWv1zFxdXUFgL179/L5fIFA8Pz58+bLHzp0CABcXV1xyM0PP/ygVHf19fXY5iwQCI4ePYoQunz5sp2dXUBAwL59+z755BNjY2PZ92tmZrZs2bLffvuN++NxogMdse+klJWVqampqaurJycnOzs7z5o1q8UqlZWVmpqarq6ukZGRAODk5KR4eoGamhp3d3cA0NHRkQVTYPcXZvDgwQEBAREREevWrevXrx/+0NHR8dq1a9wfUnmosLhz+/btwMBAKysrY2NjIyMjvOdVcD7G5tN9+/ZpaGgYGBgYGRn5+PjExcU1b0kuLy93cnICgB49eqSlpck+f/HixcmTJ318fAwMDGQKs7a2Xr169fnz5/38/ADA3t5etcdVDiospfnjjz+++OIL+f2Xvr4+ABgbG8tsdS1SXV3t6+uLq3eXc7kaGBj4+vqeOnXqhSyC8W/y8/Oxa9/a2vrevXtvbFYikSQlJfn7+8viQXJzc+vq6gQCAY/Hw/bntoEKS1Hw/CR7uQCAbJopLCycPn06/tDHx+d1Tbze1KBBgwBAU1MzJCRE1vjIkSNljWtqanp4eISHh+OzAllZWZaWlvhN9/jx4xZHK5VKU1JSgoOD8T9xQG+CMsHlKkKF1QJpaWlr167FjimMubm5v79/UlKS/MKIZdng4GB8DCQycm5tbZMb/uLi3Xv3TgKAIUOGvH7eNTs7OygoyNHRkWEY3J26urqTkxMOl5g4cWIzLshmWLlyJSh2UEqesMLCb/PzC5Xx88qgwmqOrKys+fPn4y/YwsLC39//woULzSSGuHHjxoYNc0UiuHFDWFwcitBLYQ4SybOcHC+RCNLSBDt2rGv+pGtJSUlkZKSHhwc+fm1oaOjq6lpbW8vtQfDZlpkzZypeRYrQ8WazIjQPFVZzYO/TpEmTkpOTFdy4SaW1BQX+IhGIRHDv3pSGhr9cNjU1qZmZNiIRpKfrlZfHKj6GsrKyCRMmAMCuXbtqa2sTExM5nL3Ozc3F727F801kVFe7pKfvUuC1+0aosJoDR+/I778UpKLiZEaGoUgE9+69gxCSSqvxP+/eHVNfn6dsa2FhYQDw4Ycf4lRyiYqfe5QDH9LEzjRF2PHo0UiRKOTRIw59IYQ6Yp73zMzM06dPFxQUtO8wqqqq7t+/LxAIBg8erGxdfX0vO7ub3brN0NZ2KiuLQIjt1esHU9MvbW0TNTSslW1tzJgxAHDt2jUcTHvt2jVlW5BvRMHylyorAcBVX59DX9ChLhC4c+fO119/bWdnN2TIkIULFw4aNGjlypUsy7bXeNLS0liWHTp0qIaGBofq6urmffue09NzY9kX9fUPDAzmm5t/yzDqLdd8DXt7ex0dnZycHBzyxU1YeGOYmpqqSOF7YnFhfX13dfXBOjoc+oKOkI775s2bx44dO378uCx7trGxsb29fVJSUmhoaGVl5YEDB+TzB7UZIpEIAJSNuH8FHZ1xOjrjVBwJn88fNWrUpUuXsMRTXj4QpSBKzViXKioAwEVfn/vEw+0NqjrYciN/MUT37t2xWQifVU9ISMB77MmTJ7elZU/GjRsrjh51+f33n9q+69dZv349AGzcuNHIyAgA8vPzFa+Lt7E1NTXY9dSimQ0h9Om+fd5Xr6aoEBLXDsK6evWqvJnRxMRkyZIlv/322+vb+Fu3bmELsr29/SNlVpFSqVR1V/etW9YiEdTW3laxnVbh9OnT+G8MW2KPHDmiYMXbt28PHDgQ7z/69u0LAEuWLMnOzm6mCt5CduvWTamTCq/QDsJ68uQJn883NDSUn5+aIi8vT+bHaDF9nlQqxQ4NMzOzjRs3fv7555xzxzc2lopEcOOGDssqnc6UBMXFxQCgq6sbGBgIAJ9//rkitS5fvozdTd7e3rt37+bxeCYmJvjv2cbGBpt5XzdAfPfddwCwYMECVQbcPq9CkUikeP7Z8vLycePGAYCBgcEbd9oSieTSpUvLly/v2bOnbCLEAZzz5s3jlnGvsvJnkQj+/LMDBaVj7+S+ffsAYOzYsS2Wj4uL09TUBABPT08cBscwjLe3t6+vr7x30srKatWqVZcvX5Z9I2PHjgUVjkhhOocdq66ubt68eQAgEAhkbwHZ/CSvJysrK/yHeOXKFZymxsnJSZGcIq9QVLRFJIJHjxSaGNoGfP4xJCTEx8dn//79zReOjIzEIZNLliz59NNPAYDP58tqve6rBgD8Djl06BCPxxMKhS1GlTVP5xAWQkgikSxbtgz/glatWrV06VL5JAt9+/Zdv369vCUzOjr68OHDOE+unZ2dUqtdhFBu7gKRCMrLY1r7ObiD04YpkgcgJCQEuxrXrl373nvv4T/IEydOvF4S+6q//PJLvPzCMAxjbm5+5MiR6upqzqPtNMLCbN26lWEYvDPCC683LhRSUlLU1NS0tbUPHTo0bNgwAOjZsyc+W9YiUqm4uHh3aenB2trbEkk77EabIjU1VU1NTUdHx8fH5+jRo00dC8BBfzweb8eOHTgXur6+viLG+szMzC1btujp6cmMO0Kh0MPD4+DBgxXKr+I7mbAQQjjgZP78+c0IRSKRyOb/nTt34t+vjo7Or7/+2lQVlq2rrIzLy/NJT+/2+PH64uLQFy9ukHkCjkgkkl9++UU2r+jp6c2fP//IkSOvvLPCwsIEAkF4ePiIESMAwNTUNCMjQ8EuKioqNDQ01NTUtm7d6ubmhl+mg6ZMGZ2W9vGff/745EmBwtnDOpmwpFIpTgff/HUEGHzPBX4jfPDBBwCgoaERE/PS200sFp8/fyY3d0F6uh72HItEUFCgUnZ7ojx48CAkJMTZ2VkWVyMQCNzc3EJCQmQZppOSkvr374+3foo7BxFCUVFRIJco7+nTp+Hh4RvPnBmTljZSJBopEo0SiXyysnIV2A91MmFlZmYCQO/evVevXj169Oj4+Pjmy//3v//FE7ufnx++/IJhmMDAQLFYHBcX5+Pjg22wJ04MEIng9m27wsJAsbg5G0/HIS8vb8eOHePHj5cdwuHz+S4uLuvXr8e7mZEjRyqYUFgGvoBoz549r3wulkovV1ZuysubkJ7ulJYW+vhxi3FanUxYERER2Ijg4OAAABcvXmyxSnx8PJ7kpkyZsn37dvw14H04ZtSoUfHxe+vqHrTB+ElQVlaGI7dwmCHDMOrq6m5ubspu62pra3Fe/oKCgqbK1Eult2pqTimwy+5kwsIbw+3btwuFQoZhFDyGf+3aNWNjY21t7fT09F27dunp6WloaNjZ2QUGBjZvg+5cVFZWxsTEBAQEXL58mcMlSJeePv0wLs5XyZtmmqL9ndBKgXNQGRgY1NXV2dra6isW1OHo6HjlypWHDx8OGzbszp07z58/nzZt2s8//0x4sG1Nt27d8FKSG7+JxXfNzD5T4by/PJ1JWA0NDbdu3WIYpra2FpSMO+jXrx92UOKYBWxcpsiQIJRcVQUALlwDsF6hA8VjtUhmZmZ9fb2tre2dO3cAQJGbeV+nVYJhuh5p1dXPJRIbTU0rrsmIX6EzCQu/B0ePHs1ZHFKpND09nWEYbqLswvyuWrzo63Q+YQ0dOjQrK4vP53NIRJuVlfXixYvevXtjNyJFRkljI9N670HoXGssPFFZWlpaWVlpaWk1kwayKbA06XT1CvuKikzV1Q8OGDBALiOSinQOYdXU1Jw4ceL27dt8Pt/Dw+O9996rr6/n0A5dYL0RUw2NJUrmUWqRDv0qFIvFZ8+e9fX17dmzp5+fn6amJsuyy5cvb2xsxMZAZaEz1hvx/Nup34q0RapIpamuhrNn4dixQ1VVC3//HQB4PJ6zs/OAAQNiYmJqa2vfeeed48ePY3u6IrAsy+PxGhoa9PT0GhsbKyoq5BP8U4jQKmbWViMmBs2ejYRCfD3IsxEjJkyYEBoaWvh3QvTU1FQcXDt69OgWHWGlpaXY1+Hn54f+TvA/cOBA4k9B6SguHdkVPY6OCADxeMjZGYWEvDHB/oMHD7Cp08bG5o0OmcLCwtDQ0AkTJsi8szjrOg52UPZyHgo3Oszivb4eGAbWroXiYnj3XZCLNn4FGxublJSUmTNnpqSkjB07Ni4uTmZGDwsLi42NvXLlCj7mKhQK3d3dp02bBgCenp6//PLLiBEjcFpHCnHaW9kIIYRiYtCaNUgkUrxGTU0NvsNcW1tblu4MB/ThuMfQ0NDg4GAXFxdZkmaBQKD6pQQUBekYwvLyQgAoKkqpShKJZPHixQDA5/P37duHEEpISAgPDw8PD/fw8JBlXxYIBB4eHpGRkdwyS1G40TGEZWGBAJDyF9qwLCsL3/Pw8JBfVwmFwtmzZ0dFRbXLKWpKBxDW06cIAHXrpsht028kIiJCTU3NxsZG9h6k81O70wEW79evAwCMHAlc89x/9NFHw4cPLy0tLS0tnTlzpuL2LQo52l9YLzIytAFALq8rB/AZL0rHQTWXTmgoHDgAmZkAAM+fc2vjvZSUniYmSTTyrmuhsq8Q259ycmDAAPjhBw4NiESipyUllnTK6WK0wjqtpATt2oUYBgGgDRuQwulTEUIPHz4EACMjo1YYBqUjofKMVV0N7u7w00+wZw+oq8P27eDrCw0NCtaWBYWqOgxKB0NlYRUXQ3k5pKbCnj0QEQG6uhAdLfL3r66uVqT2xYsXgcaxdElaYdYrKkLDhyMAZGqKYmKyp03jMczw4cOLmr6VNj8/X3ZO3MHBoZmUCpROSisZSKuq0OTJCKDE2Tk6OrqpHHx5eXn/+c9/HBwcZHkHdHR0YmOVyKZP6Sy0nuW9vr5ixQpzXV0NDY2wsDD5HHzy8xPWE76BKDIyUpUMTJSOTGu6dFiWxRkyGYYJCAiYM2cOn8/HaU8wurq63t7eJ0+e5HwnDKWz0Pq+wtDQUOwJdnNzw0n3tLS08PzUua4Qp6gCkZj306dPf/DBBxKJRCKRREVFzZkzR9hK52spnQVShynOnDnj6enZr1+/e/fukWif0sEhdfwL5yWnls+3FlLCokdD33JICYseDX3LIROPVVd3taEhf+JEGrPw1kJmxkpP18zKGvDsmTbX2+4onR0ywhKJAADoAusthoywcBg7XWC9xZAUFp2x3mIICKuxEdTVQVMT7O1bv3FKJ4GA5T00FLS0YNgwiI8HAwNwcKDvxLcQMq/C+noQCsHQEOjZm7eVDpl4jdL56dCpIimdFyosChGosChEoMKiEIEKi0IEKiwKEaiwKESgwqIQgQqLQgQqLAoRqLAoRKDCohCBCotCBCosChGosChEoMKiEIEKi0IEKiwKEaiwKESgwqIQgQqLQgQqLAoRqLAoRKDCohCBCotCBCosChGosChEoMKiEIEKi0IEKiwKEaiwKESgwqIQgQqLQgQqLAoRqLAoRKDCohCBCotCBCosChGosChEoMKiEIEKi0IEKiwKEaiwKESgwqIQgQqLQgQqLAoRqLAoRKDCohCBCotCBCosChGosChEoMKiEIEKi0KE/weGvckz5bvfkAAAAABJRU5ErkJggg==\" alt=\"Mol\"/></td>\n",
              "      <td>Binders</td>\n",
              "    </tr>\n",
              "  </tbody>\n",
              "</table>\n",
              "<p>410 rows × 5 columns</p>\n",
              "</div>"
            ],
            "text/plain": [
              "                  bindingClass  ...       label\n",
              "bindingClass                    ...            \n",
              "0            0               0  ...  Nonbinders\n",
              "             1               0  ...  Nonbinders\n",
              "             2               0  ...  Nonbinders\n",
              "             3               0  ...  Nonbinders\n",
              "             4               0  ...  Nonbinders\n",
              "...                        ...  ...         ...\n",
              "1            200             1  ...     Binders\n",
              "             201             1  ...     Binders\n",
              "             202             1  ...     Binders\n",
              "             203             1  ...     Binders\n",
              "             204             1  ...     Binders\n",
              "\n",
              "[410 rows x 5 columns]"
            ]
          },
          "metadata": {
            "tags": []
          },
          "execution_count": 55
        }
      ]
    },
    {
      "cell_type": "code",
      "metadata": {
        "id": "88kTaqYGFAYm",
        "colab_type": "code",
        "outputId": "258935f7-4e30-47ae-97ce-2c90d215498f",
        "colab": {
          "base_uri": "https://localhost:8080/",
          "height": 1000
        }
      },
      "source": [
        "g.head()"
      ],
      "execution_count": 56,
      "outputs": [
        {
          "output_type": "execute_result",
          "data": {
            "text/html": [
              "<div>\n",
              "<style scoped>\n",
              "    .dataframe tbody tr th:only-of-type {\n",
              "        vertical-align: middle;\n",
              "    }\n",
              "\n",
              "    .dataframe tbody tr th {\n",
              "        vertical-align: top;\n",
              "    }\n",
              "\n",
              "    .dataframe thead th {\n",
              "        text-align: right;\n",
              "    }\n",
              "</style>\n",
              "<table border=\"1\" class=\"dataframe\">\n",
              "  <thead>\n",
              "    <tr style=\"text-align: right;\">\n",
              "      <th></th>\n",
              "      <th></th>\n",
              "      <th>bindingClass</th>\n",
              "      <th>casrn</th>\n",
              "      <th>SMILES</th>\n",
              "      <th>Mol</th>\n",
              "      <th>label</th>\n",
              "    </tr>\n",
              "    <tr>\n",
              "      <th>bindingClass</th>\n",
              "      <th></th>\n",
              "      <th></th>\n",
              "      <th></th>\n",
              "      <th></th>\n",
              "      <th></th>\n",
              "      <th></th>\n",
              "    </tr>\n",
              "  </thead>\n",
              "  <tbody>\n",
              "    <tr>\n",
              "      <th rowspan=\"5\" valign=\"top\">0</th>\n",
              "      <th>0</th>\n",
              "      <td>0</td>\n",
              "      <td>124-04-9</td>\n",
              "      <td>OC(=O)CCCCC(O)=O</td>\n",
              "      <td><img data-content=\"rdkit/molecule\" src=\"data:image/png;base64,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\" alt=\"Mol\"/></td>\n",
              "      <td>Nonbinders</td>\n",
              "    </tr>\n",
              "    <tr>\n",
              "      <th>1</th>\n",
              "      <td>0</td>\n",
              "      <td>128-39-2</td>\n",
              "      <td>CC(C)(C)c1cccc(c1O)C(C)(C)C</td>\n",
              "      <td><img data-content=\"rdkit/molecule\" src=\"data:image/png;base64,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\" alt=\"Mol\"/></td>\n",
              "      <td>Nonbinders</td>\n",
              "    </tr>\n",
              "    <tr>\n",
              "      <th>2</th>\n",
              "      <td>0</td>\n",
              "      <td>88-58-4</td>\n",
              "      <td>CC(C)(C)c1cc(O)c(cc1O)C(C)(C)C</td>\n",
              "      <td><img data-content=\"rdkit/molecule\" src=\"data:image/png;base64,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\" alt=\"Mol\"/></td>\n",
              "      <td>Nonbinders</td>\n",
              "    </tr>\n",
              "    <tr>\n",
              "      <th>3</th>\n",
              "      <td>0</td>\n",
              "      <td>151-05-3</td>\n",
              "      <td>CC(=O)OC(C)(C)Cc1ccccc1</td>\n",
              "      <td><img data-content=\"rdkit/molecule\" src=\"data:image/png;base64,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\" alt=\"Mol\"/></td>\n",
              "      <td>Nonbinders</td>\n",
              "    </tr>\n",
              "    <tr>\n",
              "      <th>4</th>\n",
              "      <td>0</td>\n",
              "      <td>550-44-7</td>\n",
              "      <td>CN1C(=O)c2ccccc2C1=O</td>\n",
              "      <td><img data-content=\"rdkit/molecule\" src=\"data:image/png;base64,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\" alt=\"Mol\"/></td>\n",
              "      <td>Nonbinders</td>\n",
              "    </tr>\n",
              "  </tbody>\n",
              "</table>\n",
              "</div>"
            ],
            "text/plain": [
              "                bindingClass  ...       label\n",
              "bindingClass                  ...            \n",
              "0            0             0  ...  Nonbinders\n",
              "             1             0  ...  Nonbinders\n",
              "             2             0  ...  Nonbinders\n",
              "             3             0  ...  Nonbinders\n",
              "             4             0  ...  Nonbinders\n",
              "\n",
              "[5 rows x 5 columns]"
            ]
          },
          "metadata": {
            "tags": []
          },
          "execution_count": 56
        }
      ]
    },
    {
      "cell_type": "code",
      "metadata": {
        "id": "4AXTCzO4FAYn",
        "colab_type": "code",
        "outputId": "c82eefab-1c41-4d87-a98a-175998445ea2",
        "colab": {
          "base_uri": "https://localhost:8080/",
          "height": 34
        }
      },
      "source": [
        "g.shape"
      ],
      "execution_count": 57,
      "outputs": [
        {
          "output_type": "execute_result",
          "data": {
            "text/plain": [
              "(410, 5)"
            ]
          },
          "metadata": {
            "tags": []
          },
          "execution_count": 57
        }
      ]
    },
    {
      "cell_type": "code",
      "metadata": {
        "id": "ACy6ZmhNFAYp",
        "colab_type": "code",
        "colab": {}
      },
      "source": [
        "#user_specified_features = ['HumDockScore','RatDockScore','ChimpDockScore','AVG','P_Act_dockChimp','P_Inact','PredBayes','ratio','avgD_Act','avgD_Inact','PredBindingClass','predMLogR']"
      ],
      "execution_count": 0,
      "outputs": []
    },
    {
      "cell_type": "code",
      "metadata": {
        "id": "3xC-iNWgFAYq",
        "colab_type": "code",
        "colab": {}
      },
      "source": [
        ""
      ],
      "execution_count": 0,
      "outputs": []
    },
    {
      "cell_type": "code",
      "metadata": {
        "id": "6jXbiWibFAYr",
        "colab_type": "code",
        "colab": {}
      },
      "source": [
        "from itertools import islice\n",
        "from IPython.display import Image, display, HTML"
      ],
      "execution_count": 0,
      "outputs": []
    },
    {
      "cell_type": "code",
      "metadata": {
        "id": "vas_XKCaFAYt",
        "colab_type": "code",
        "colab": {}
      },
      "source": [
        "import tempfile, shutil"
      ],
      "execution_count": 0,
      "outputs": []
    },
    {
      "cell_type": "code",
      "metadata": {
        "id": "6j4bod52FAYv",
        "colab_type": "code",
        "colab": {}
      },
      "source": [
        "featurizer = dc.feat.ConvMolFeaturizer()\n",
        "loader = dc.data.CSVLoader(tasks=[\"bindingClass\"],\n",
        "    smiles_field=\"SMILES\",\n",
        "    featurizer=featurizer)"
      ],
      "execution_count": 0,
      "outputs": []
    },
    {
      "cell_type": "code",
      "metadata": {
        "id": "GxgSvQhuFAYy",
        "colab_type": "code",
        "colab": {}
      },
      "source": [
        "###featurizer = dc.feat.UserDefinedFeaturizer(user_specified_features)"
      ],
      "execution_count": 0,
      "outputs": []
    },
    {
      "cell_type": "code",
      "metadata": {
        "id": "W42lDTS8FAY0",
        "colab_type": "code",
        "colab": {}
      },
      "source": [
        "#featurizer = dc.feat.base_classes.UserDefinedFeaturizer(user_specified_features)"
      ],
      "execution_count": 0,
      "outputs": []
    },
    {
      "cell_type": "code",
      "metadata": {
        "id": "YIqkgVK5FAY2",
        "colab_type": "code",
        "colab": {}
      },
      "source": [
        "#loader = dc.data.data_loader.CSVLoader(\n",
        "###oader = dc.data.UserCSVLoader(\n",
        "      ###tasks=[\"bindingClass\"], smiles_field=['SMILES'], id_field=[\"casrn\"],\n",
        "     ### tasks=[\"bindingClass\"], id_field=\"casrn\",\n",
        "    ###  featurizer=featurizer)"
      ],
      "execution_count": 0,
      "outputs": []
    },
    {
      "cell_type": "code",
      "metadata": {
        "id": "KN0fdWC8FAY3",
        "colab_type": "code",
        "colab": {}
      },
      "source": [
        "g.to_csv('balanced.csv',index=False)"
      ],
      "execution_count": 0,
      "outputs": []
    },
    {
      "cell_type": "code",
      "metadata": {
        "id": "RczXfzQNFAY4",
        "colab_type": "code",
        "outputId": "29765d7e-aaae-426f-cc3c-2c36a3bc368b",
        "colab": {
          "base_uri": "https://localhost:8080/",
          "height": 34
        }
      },
      "source": [
        "g.columns"
      ],
      "execution_count": 66,
      "outputs": [
        {
          "output_type": "execute_result",
          "data": {
            "text/plain": [
              "Index(['bindingClass', 'casrn', 'SMILES', 'Mol', 'label'], dtype='object')"
            ]
          },
          "metadata": {
            "tags": []
          },
          "execution_count": 66
        }
      ]
    },
    {
      "cell_type": "code",
      "metadata": {
        "id": "7f1kst87FAY6",
        "colab_type": "code",
        "colab": {}
      },
      "source": [
        "###g.drop(columns=['s_sd_Canonical\\_QSARr','s_m_title','cas','cid', 'gsid',\n",
        "###       'dsstox_substance_id', 'preferred_name','InChI_Code_QSARr',\n",
        "###       'InChI Key_QSARr', 'BindingClass'])"
      ],
      "execution_count": 0,
      "outputs": []
    },
    {
      "cell_type": "code",
      "metadata": {
        "id": "KR4M2exNFAY7",
        "colab_type": "code",
        "colab": {}
      },
      "source": [
        "g.to_csv('balanced_droppedcols.csv',index=False)"
      ],
      "execution_count": 0,
      "outputs": []
    },
    {
      "cell_type": "code",
      "metadata": {
        "id": "JY__2nOBFAY-",
        "colab_type": "code",
        "colab": {}
      },
      "source": [
        "#dataset_file = \"test.csv\""
      ],
      "execution_count": 0,
      "outputs": []
    },
    {
      "cell_type": "code",
      "metadata": {
        "id": "A55-A1h7FAZA",
        "colab_type": "code",
        "colab": {}
      },
      "source": [
        "#dataset = pd.read_csv(\"balanced_droppedcols.csv\")"
      ],
      "execution_count": 0,
      "outputs": []
    },
    {
      "cell_type": "code",
      "metadata": {
        "id": "RUQFA1PFFAZB",
        "colab_type": "code",
        "colab": {}
      },
      "source": [
        "#user_specified_features = ['MW','AlogP','HBA','HBD','RB','HeavyAtomCount','ChiralCenterCount','ChiralCenterCountAllPossible','RingCount','PSA','Estate','MR','Polar','sLi_Key','ssBe_Key','ssssBem_Key','sBH2_Key','ssBH_Key','sssB_Key','ssssBm_Key','sCH3_Key','dCH2_Key','ssCH2_Key','tCH_Key','dsCH_Key','aaCH_Key','sssCH_Key','ddC_Key','tsC_Key','dssC_Key','aasC_Key','aaaC_Key','ssssC_Key','sNH3_Key','sNH2_Key','ssNH2_Key','dNH_Key','ssNH_Key','aaNH_Key','tN_Key','sssNH_Key','dsN_Key','aaN_Key','sssN_Key','ddsN_Key','aasN_Key','ssssN_Key','daaN_Key','sOH_Key','dO_Key','ssO_Key','aaO_Key','aOm_Key','sOm_Key','sF_Key','sSiH3_Key','ssSiH2_Key','sssSiH_Key','ssssSi_Key','sPH2_Key','ssPH_Key','sssP_Key','dsssP_Key','ddsP_Key','sssssP_Key','sSH_Key','dS_Key','ssS_Key','aaS_Key','dssS_Key','ddssS_Key','ssssssS_Key','Sm_Key','sCl_Key','sGeH3_Key','ssGeH2_Key','sssGeH_Key','ssssGe_Key','sAsH2_Key','ssAsH_Key','sssAs_Key','dsssAs_Key','ddsAs_Key','sssssAs_Key','sSeH_Key','dSe_Key','ssSe_Key','aaSe_Key','dssSe_Key','ssssssSe_Key','ddssSe_Key','sBr_Key','sSnH3_Key','ssSnH2_Key','sssSnH_Key','ssssSn_Key','sI_Key','sPbH3_Key','ssPbH2_Key','sssPbH_Key','ssssPb_Key','sLi_Cnt','ssBe_Cnt','ssssBem_Cnt','sBH2_Cnt','ssBH_Cnt','sssB_Cnt','ssssBm_Cnt','sCH3_Cnt','dCH2_Cnt','ssCH2_Cnt','tCH_Cnt','dsCH_Cnt','aaCH_Cnt','sssCH_Cnt','ddC_Cnt','tsC_Cnt','dssC_Cnt','aasC_Cnt','aaaC_Cnt','ssssC_Cnt','sNH3_Cnt','sNH2_Cnt','ssNH2_Cnt','dNH_Cnt','ssNH_Cnt','aaNH_Cnt','tN_Cnt','sssNH_Cnt','dsN_Cnt','aaN_Cnt','sssN_Cnt','ddsN_Cnt','aasN_Cnt','ssssN_Cnt','daaN_Cnt','sOH_Cnt','dO_Cnt','ssO_Cnt','aaO_Cnt','aOm_Cnt','sOm_Cnt','sF_Cnt','sSiH3_Cnt','ssSiH2_Cnt','sssSiH_Cnt','ssssSi_Cnt','sPH2_Cnt','ssPH_Cnt','sssP_Cnt','dsssP_Cnt','ddsP_Cnt','sssssP_Cnt','sSH_Cnt','dS_Cnt','ssS_Cnt','aaS_Cnt','dssS_Cnt','ddssS_Cnt','ssssssS_Cnt','Sm_Cnt','sCl_Cnt','sGeH3_Cnt','ssGeH2_Cnt','sssGeH_Cnt','ssssGe_Cnt','sAsH2_Cnt','ssAsH_Cnt','sssAs_Cnt','dsssAs_Cnt','ddsAs_Cnt','sssssAs_Cnt','sSeH_Cnt','dSe_Cnt','ssSe_Cnt','aaSe_Cnt','dssSe_Cnt','ssssssSe_Cnt','ddssSe_Cnt','sBr_Cnt','sSnH3_Cnt','ssSnH2_Cnt','sssSnH_Cnt','ssssSn_Cnt','sI_Cnt','sPbH3_Cnt','ssPbH2_Cnt','sssPbH_Cnt','ssssPb_Cnt','sLi_Sum','ssBe_Sum','ssssBem_Sum','sBH2_Sum','ssBH_Sum','sssB_Sum','ssssBm_Sum','sCH3_Sum','dCH2_Sum','ssCH2_Sum','tCH_Sum','dsCH_Sum','aaCH_Sum','sssCH_Sum','ddC_Sum','tsC_Sum','dssC_Sum','aasC_Sum','aaaC_Sum','ssssC_Sum','sNH3_Sum','sNH2_Sum','ssNH2_Sum','dNH_Sum','ssNH_Sum','aaNH_Sum','tN_Sum','sssNH_Sum','dsN_Sum','aaN_Sum','sssN_Sum','ddsN_Sum','aasN_Sum','ssssN_Sum','daaN_Sum','sOH_Sum','dO_Sum','ssO_Sum','aaO_Sum','aOm_Sum','sOm_Sum','sF_Sum','sSiH3_Sum','ssSiH2_Sum','sssSiH_Sum','ssssSi_Sum','sPH2_Sum','ssPH_Sum','sssP_Sum','dsssP_Sum','ddsP_Sum','sssssP_Sum','sSH_Sum','dS_Sum','ssS_Sum','aaS_Sum','dssS_Sum','ddssS_Sum','ssssssS_Sum','Sm_Sum','sCl_Sum','sGeH3_Sum','ssGeH2_Sum','sssGeH_Sum','ssssGe_Sum','sAsH2_Sum','ssAsH_Sum','sssAs_Sum','dsssAs_Sum','ddsAs_Sum','sssssAs_Sum','sSeH_Sum','dSe_Sum','ssSe_Sum','aaSe_Sum','dssSe_Sum','ssssssSe_Sum','ddssSe_Sum','sBr_Sum','sSnH3_Sum','ssSnH2_Sum','sssSnH_Sum','ssssSn_Sum','sI_Sum','sPbH3_Sum','ssPbH2_Sum','sssPbH_Sum','ssssPb_Sum','sLi_Avg','ssBe_Avg','ssssBem_Avg','sBH2_Avg','ssBH_Avg','sssB_Avg','ssssBm_Avg','sCH3_Avg','dCH2_Avg','ssCH2_Avg','tCH_Avg','dsCH_Avg','aaCH_Avg','sssCH_Avg','ddC_Avg','tsC_Avg','dssC_Avg','aasC_Avg','aaaC_Avg','ssssC_Avg','sNH3_Avg','sNH2_Avg','ssNH2_Avg','dNH_Avg','ssNH_Avg','aaNH_Avg','tN_Avg','sssNH_Avg','dsN_Avg','aaN_Avg','sssN_Avg','ddsN_Avg','aasN_Avg','ssssN_Avg','daaN_Avg','sOH_Avg','dO_Avg','ssO_Avg','aaO_Avg','aOm_Avg','sOm_Avg','sF_Avg','sSiH3_Avg','ssSiH2_Avg','sssSiH_Avg','ssssSi_Avg','sPH2_Avg','ssPH_Avg','sssP_Avg','dsssP_Avg','ddsP_Avg','sssssP_Avg','sSH_Avg','dS_Avg','ssS_Avg','aaS_Avg','dssS_Avg','ddssS_Avg','ssssssS_Avg','Sm_Avg','sCl_Avg','sGeH3_Avg','ssGeH2_Avg','sssGeH_Avg','ssssGe_Avg','sAsH2_Avg','ssAsH_Avg','sssAs_Avg','dsssAs_Avg','ddsAs_Avg','sssssAs_Avg','sSeH_Avg','dSe_Avg','ssSe_Avg','aaSe_Avg','dssSe_Avg','ssssssSe_Avg','ddssSe_Avg','sBr_Avg','sSnH3_Avg','ssSnH2_Avg','sssSnH_Avg','ssssSn_Avg','sI_Avg','sPbH3_Avg','ssPbH2_Avg','sssPbH_Avg','ssssPb_Avg','First Zagreb (ZM1)','First Zagreb index by valence vertex degrees (ZM1V)','Second Zagreb (ZM2)','Second Zagreb index by valence vertex degrees (ZM2V)','Polarity (Pol)','Narumi Simple Topological (NST)','Narumi Harmonic Topological (NHT)','Narumi Geometric Topological (NGT)','Total structure connectivity (TSC)','Wiener (W)','Mean Wiener (MW)','Xu (Xu)','Quadratic (QIndex)','Radial centric (RC)','Mean Square Distance Balaban (MSDB)','Superpendentic (SP)','Harary (Har)','Log of product of row sums (LPRS)','Pogliani (Pog)','Schultz Molecular Topological (SMT)','Schultz Molecular Topological by valence vertex degrees (SMTV)','Mean Distance Degree Deviation (MDDD)','Ramification (Ram)','Gutman Molecular Topological (GMT)','Gutman MTI by valence vertex degrees (GMTV)','Average vertex distance degree (AVDD)','Unipolarity (UP)','Centralization (CENT)','Variation (VAR)','Molecular electrotopological variation (MEV)','Maximal electrotopological positive variation (MEPV)','Maximal electrotopological negative variation (MENV)','Eccentric connectivity (ECCc)','Eccentricity (ECC)','Average eccentricity (AECC)','Eccentric (DECC)','Valence connectivity index chi-0 (vX0)','Valence connectivity index chi-1 (vX1)','Valence connectivity index chi-2 (vX2)','Valence connectivity index chi-3 (vX3)','Valence connectivity index chi-4 (vX4)','Valence connectivity index chi-5 (vX5)','Average valence connectivity index chi-0 (AvX0)','Average valence connectivity index chi-1 (AvX1)','Average valence connectivity index chi-2 (AvX2)','Average valence connectivity index chi-3 (AvX3)','Average valence connectivity index chi-4 (AvX4)','Average valence connectivity index chi-5 (AvX5)','Quasi Wiener (QW)','First Mohar (FM)','Second Mohar (SM)','Spanning tree number (STN)','Kier benzene-likeliness index (KBLI)','Topological charge index of order 1 (TCI1)','Topological charge index of order 2 (TCI2)','Topological charge index of order 3 (TCI3)','Topological charge index of order 4 (TCI4)','Topological charge index of order 5 (TCI5)','Topological charge index of order 6 (TCI6)','Topological charge index of order 7 (TCI7)','Topological charge index of order 8 (TCI8)','Topological charge index of order 9 (TCI9)','Topological charge index of order 10 (TCI10)','Mean topological charge index of order 1 (MTCI1)','Mean topological charge index of order 2 (MTCI2)','Mean topological charge index of order 3 (MTCI3)','Mean topological charge index of order 4 (MTCI4)','Mean topological charge index of order 5 (MTCI5)','Mean topological charge index of order 6 (MTCI6)','Mean topological charge index of order 7 (MTCI7)','Mean topological charge index of order 8 (MTCI8)','Mean topological charge index of order 9 (MTCI9)','Mean topological charge index of order 10 (MTCI10)','Global topological charge (GTC)','Hyper-distance-path index (HDPI)','Reciprocal hyper-distance-path index (RHDPI)','Square reciprocal distance sum (SRDS)','Modified Randic connectivity (MRC)','Balaban centric (BC)','Lopping centric (LC)','Kier Hall electronegativity (KHE)','Sum of topological distances between N..N (STD(N N))','Sum of topological distances between N..O (STD(N O))','Sum of topological distances between N..S (STD(N S))','Sum of topological distances between N..P (STD(N P))','Sum of topological distances between N..F (STD(N F))','Sum of topological distances between N..Cl (STD(N Cl))','Sum of topological distances between N..Br (STD(N Br))','Sum of topological distances between N..I (STD(N I))','Sum of topological distances between O..O (STD(O O))','Sum of topological distances between O..S (STD(O S))','Sum of topological distances between O..P (STD(O P))','Sum of topological distances between O..F (STD(O F))','Sum of topological distances between O..Cl (STD(O Cl))','Sum of topological distances between O..Br (STD(O Br))','Sum of topological distances between O..I (STD(O I))','Sum of topological distances between S..S (STD(S S))','Sum of topological distances between S..P (STD(S P))','Sum of topological distances between S..F (STD(S F))','Sum of topological distances between S..Cl (STD(S Cl))','Sum of topological distances between S..Br (STD(S Br))','Sum of topological distances between S..I (STD(S I))','Sum of topological distances between P..P (STD(P P))','Sum of topological distances between P..F (STD(P F))','Sum of topological distances between P..Cl (STD(P Cl))','Sum of topological distances between P..Br (STD(P Br))','Sum of topological distances between P..I (STD(P I))','Sum of topological distances between F..F (STD(F F))','Sum of topological distances between F..Cl (STD(F Cl))','Sum of topological distances between F..Br (STD(F Br))','Sum of topological distances between F..I (STD(F I))','Sum of topological distances between Cl..Cl (STD(Cl Cl))','Sum of topological distances between Cl..Br (STD(Cl Br))','Sum of topological distances between Cl..I (STD(Cl I))','Sum of topological distances between Br..Br (STD(Br Br))','Sum of topological distances between Br..I (STD(Br I))','Sum of topological distances between I..I (STD(I I))','Wiener-type index from Z weighted distance matrix - Barysz matrix (WhetZ)','Wiener-type index from electronegativity weighted distance matrix (Whete)','Wiener-type index from mass weighted distance matrix (Whetm)','Wiener-type index from van der waals weighted distance matrix (Whetv)','Wiener-type index from polarizability weighted distance matrix (Whetp)','Balaban-type index from Z weighted distance matrix - Barysz matrix (JhetZ)','Balaban-type index from electronegativity weighted distance matrix (Jhete)','Balaban-type index from mass weighted distance matrix (Jhetm)','Balaban-type index from van der waals weighted distance matrix (Jhetv)','Balaban-type index from polarizability weighted distance matrix (Jhetp)','Topological diameter (TD)','Topological radius (TR)','Petitjean 2D shape (PJ2DS)','Balaban distance connectivity index (J)','Solvation connectivity index chi-0 (SCIX0)','Solvation connectivity index chi-1 (SCIX1)','Solvation connectivity index chi-2 (SCIX2)','Solvation connectivity index chi-3 (SCIX3)','Solvation connectivity index chi-4 (SCIX4)','Solvation connectivity index chi-5 (SCIX5)','Connectivity index chi-0 (CIX0)','Connectivity chi-1 [Randic connectivity] (CIX1)','Connectivity index chi-2 (CIX2)','Connectivity index chi-3 (CIX3)','Connectivity index chi-4 (CIX4)','Connectivity index chi-5 (CIX5)','Average connectivity index chi-0 (ACIX0)','Average connectivity index chi-1 (ACIX1)','Average connectivity index chi-2 (ACIX2)','Average connectivity index chi-3 (ACIX3)','Average connectivity index chi-4 (ACIX4)','Average connectivity index chi-5 (ACIX5)','reciprocal distance Randic-type index (RDR)','reciprocal distance square Randic-type index (RDSR)','1-path Kier alpha-modified shape index (KAMS1)','2-path Kier alpha-modified shape index (KAMS2)','3-path Kier alpha-modified shape index (KAMS3)','Kier flexibility (KF)','path/walk 2 - Randic shape index (RSIpw2)','path/walk 3 - Randic shape index (RSIpw3)','path/walk 4 - Randic shape index (RSIpw4)','path/walk 5 - Randic shape index (RSIpw5)','E-state topological parameter (ETP)','Ring Count 3 (RNGCNT3)','Ring Count 4 (RNGCNT4)','Ring Count 5 (RNGCNT5)','Ring Count 6 (RNGCNT6)','Ring Count 7 (RNGCNT7)','Ring Count 8 (RNGCNT8)','Ring Count 9 (RNGCNT9)','Ring Count 10 (RNGCNT10)','Ring Count 11 (RNGCNT11)','Ring Count 12 (RNGCNT12)','Ring Count 13 (RNGCNT13)','Ring Count 14 (RNGCNT14)','Ring Count 15 (RNGCNT15)','Ring Count 16 (RNGCNT16)','Ring Count 17 (RNGCNT17)','Ring Count 18 (RNGCNT18)','Ring Count 19 (RNGCNT19)','Ring Count 20 (RNGCNT20)','Atom Count (ATMCNT)','Bond Count (BNDCNT)','Atoms in Ring System (ATMRNGCNT)','Bonds in Ring System (BNDRNGCNT)','Cyclomatic number (CYCLONUM)','Number of ring systems (NRS)','Normalized number of ring systems (NNRS)','Ring Fusion degree (RFD)','Ring perimeter (RNGPERM)','Ring bridge count (RNGBDGE)','Molecule cyclized degree (MCD)','Ring Fusion density (RFDELTA)','Ring complexity index (RCI)','Van der Waals surface area (VSA)','MR1 (MR1)','MR2 (MR2)','MR3 (MR3)','MR4 (MR4)','MR5 (MR5)','MR6 (MR6)','MR7 (MR7)','MR8 (MR8)','ALOGP1 (ALOGP1)','ALOGP2 (ALOGP2)','ALOGP3 (ALOGP3)','ALOGP4 (ALOGP4)','ALOGP5 (ALOGP5)','ALOGP6 (ALOGP6)','ALOGP7 (ALOGP7)','ALOGP8 (ALOGP8)','ALOGP9 (ALOGP9)','ALOGP10 (ALOGP10)','PEOE1 (PEOE1)','PEOE2 (PEOE2)','PEOE3 (PEOE3)','PEOE4 (PEOE4)','PEOE5 (PEOE5)','PEOE6 (PEOE6)','PEOE7 (PEOE7)','PEOE8 (PEOE8)','PEOE9 (PEOE9)','PEOE10 (PEOE10)','PEOE11 (PEOE11)','PEOE12 (PEOE12)','PEOE13 (PEOE13)','PEOE14 (PEOE14)']"
      ],
      "execution_count": 0,
      "outputs": []
    },
    {
      "cell_type": "code",
      "metadata": {
        "id": "yKKWkGmHFAZD",
        "colab_type": "code",
        "colab": {}
      },
      "source": [
        "#current_dir = os.path.dirname(os.path.realpath(\"__file__\"))\n",
        "#dc.utils.download_url(\"https://s3-us-west-1.amazonaws.com/deepchem.io/datasets/desc_canvas_aug30.csv\",\n",
        "#                      current_dir)\n",
        "#dataset_file = \"desc_canvas_aug30.csv\""
      ],
      "execution_count": 0,
      "outputs": []
    },
    {
      "cell_type": "code",
      "metadata": {
        "id": "4Jg-f4-xM4_f",
        "colab_type": "code",
        "colab": {}
      },
      "source": [
        "current_dir = os.path.dirname(os.path.realpath(\"__file__\"))\n",
        "dc.utils.download_url(\"https://hermes.chem.ut.ee/~alfx/ML/balanced_droppedcols1.csv\",  current_dir)"
      ],
      "execution_count": 0,
      "outputs": []
    },
    {
      "cell_type": "code",
      "metadata": {
        "id": "fnlIR1raFAZF",
        "colab_type": "code",
        "colab": {}
      },
      "source": [
        "dataset_file = \"balanced_droppedcols.csv\""
      ],
      "execution_count": 0,
      "outputs": []
    },
    {
      "cell_type": "code",
      "metadata": {
        "id": "C9Vz0J0zFAZH",
        "colab_type": "code",
        "outputId": "7672b929-056c-47ce-e709-c1893a4b2f59",
        "colab": {
          "base_uri": "https://localhost:8080/",
          "height": 105
        }
      },
      "source": [
        "dataset = loader.featurize(dataset_file)"
      ],
      "execution_count": 75,
      "outputs": [
        {
          "output_type": "stream",
          "text": [
            "/content/deepchem/deepchem/data/data_loader.py:268: FutureWarning: featurize() is deprecated and has been renamed to create_dataset(). featurize() will be removed in DeepChem 3.0\n",
            "  FutureWarning)\n"
          ],
          "name": "stderr"
        },
        {
          "output_type": "stream",
          "text": [
            "About to start loading CSV from balanced_droppedcols.csv\n",
            "Loading shard 1 of size 8192.\n"
          ],
          "name": "stdout"
        }
      ]
    },
    {
      "cell_type": "code",
      "metadata": {
        "id": "EGInx5CTFAZJ",
        "colab_type": "code",
        "colab": {}
      },
      "source": [
        "#dataset = loader.featurize(f)"
      ],
      "execution_count": 0,
      "outputs": []
    },
    {
      "cell_type": "code",
      "metadata": {
        "id": "TfqQP10KFAZL",
        "colab_type": "code",
        "outputId": "8a5e064d-00d5-484b-ec65-8d5914323e15",
        "colab": {
          "base_uri": "https://localhost:8080/",
          "height": 102
        }
      },
      "source": [
        "dataset"
      ],
      "execution_count": 77,
      "outputs": [
        {
          "output_type": "execute_result",
          "data": {
            "text/plain": [
              "<DiskDataset X.shape: (410,), y.shape: (410, 1), w.shape: (410, 1), ids: ['OC(=O)CCCCC(O)=O' 'CC(C)(C)c1cccc(c1O)C(C)(C)C'\n",
              " 'CC(C)(C)c1cc(O)c(cc1O)C(C)(C)C' ...\n",
              " 'CCCCCCCCCC(=O)OC1CCC2C3CCC4=CC(=O)CCC4C3CCC21C'\n",
              " 'NC(=O)c1[nH]c([n][n]1)-c1cc(ccc1)-c1cc(F)ccc1OCC(F)(F)C(F)(F)F'\n",
              " 'COc1ccc(cc1)N1CCN(Cc2[n]c([s]c2CSc2cc(CC)c(cc2)OCC(O)=O)-c2ccc(cc2)C(F)(F)F)CC1'], task_names: ['bindingClass']>"
            ]
          },
          "metadata": {
            "tags": []
          },
          "execution_count": 77
        }
      ]
    },
    {
      "cell_type": "code",
      "metadata": {
        "id": "Y22vBs8HFAZM",
        "colab_type": "code",
        "colab": {}
      },
      "source": [
        ""
      ],
      "execution_count": 0,
      "outputs": []
    },
    {
      "cell_type": "code",
      "metadata": {
        "id": "HEg67vPZdcVi",
        "colab_type": "code",
        "colab": {}
      },
      "source": [
        "current_dir = os.path.dirname(os.path.realpath(\"__file__\"))\n",
        "dc.utils.download_url(\"https://hermes.chem.ut.ee/~alfx/ML/Eval_set_smi.csv\",  current_dir)"
      ],
      "execution_count": 0,
      "outputs": []
    },
    {
      "cell_type": "code",
      "metadata": {
        "id": "Y1N9LgXtdmFb",
        "colab_type": "code",
        "colab": {}
      },
      "source": [
        "eval_df = pd.read_csv(\"Eval_set_smi.csv\",sep=\" \")"
      ],
      "execution_count": 0,
      "outputs": []
    },
    {
      "cell_type": "code",
      "metadata": {
        "id": "kuh-gyjEec45",
        "colab_type": "code",
        "outputId": "5fc46094-dcbf-40a5-a4b0-440ea92426f3",
        "colab": {
          "base_uri": "https://localhost:8080/",
          "height": 419
        }
      },
      "source": [
        "eval_df"
      ],
      "execution_count": 80,
      "outputs": [
        {
          "output_type": "execute_result",
          "data": {
            "text/html": [
              "<div>\n",
              "<style scoped>\n",
              "    .dataframe tbody tr th:only-of-type {\n",
              "        vertical-align: middle;\n",
              "    }\n",
              "\n",
              "    .dataframe tbody tr th {\n",
              "        vertical-align: top;\n",
              "    }\n",
              "\n",
              "    .dataframe thead th {\n",
              "        text-align: right;\n",
              "    }\n",
              "</style>\n",
              "<table border=\"1\" class=\"dataframe\">\n",
              "  <thead>\n",
              "    <tr style=\"text-align: right;\">\n",
              "      <th></th>\n",
              "      <th>bindingClass</th>\n",
              "      <th>casrn</th>\n",
              "      <th>SMILES</th>\n",
              "    </tr>\n",
              "  </thead>\n",
              "  <tbody>\n",
              "    <tr>\n",
              "      <th>0</th>\n",
              "      <td>1</td>\n",
              "      <td>123-30-8</td>\n",
              "      <td>NC1=CC=C(O)C=C1</td>\n",
              "    </tr>\n",
              "    <tr>\n",
              "      <th>1</th>\n",
              "      <td>1</td>\n",
              "      <td>153-78-6</td>\n",
              "      <td>NC1C=C2CC3=CC=CC=C3C2=CC=1</td>\n",
              "    </tr>\n",
              "    <tr>\n",
              "      <th>2</th>\n",
              "      <td>1</td>\n",
              "      <td>80809-81-0</td>\n",
              "      <td>CC1C(=O)C(CCCCC#CCCCC#CCO)=C(C)C(=O)C=1C</td>\n",
              "    </tr>\n",
              "    <tr>\n",
              "      <th>3</th>\n",
              "      <td>1</td>\n",
              "      <td>54965-21-8</td>\n",
              "      <td>CCCSC1C=C2N=C(NC(=O)OC)NC2=CC=1</td>\n",
              "    </tr>\n",
              "    <tr>\n",
              "      <th>4</th>\n",
              "      <td>1</td>\n",
              "      <td>28981-97-7</td>\n",
              "      <td>CC1=NN=C2CN=C(C3=CC(Cl)=CC=C3N21)C1C=CC=CC=1</td>\n",
              "    </tr>\n",
              "    <tr>\n",
              "      <th>...</th>\n",
              "      <td>...</td>\n",
              "      <td>...</td>\n",
              "      <td>...</td>\n",
              "    </tr>\n",
              "    <tr>\n",
              "      <th>3877</th>\n",
              "      <td>0</td>\n",
              "      <td>173159-57-4</td>\n",
              "      <td>CN(C)C(=O)C1C=CC(=CC=1S(=O)(=O)NC(=O)NC1N=C(C=...</td>\n",
              "    </tr>\n",
              "    <tr>\n",
              "      <th>3878</th>\n",
              "      <td>0</td>\n",
              "      <td>144651-06-9</td>\n",
              "      <td>CC1=CC(C)=NC(NC(=O)NS(=O)(=O)C2C=CC=CC=2C(=O)O...</td>\n",
              "    </tr>\n",
              "    <tr>\n",
              "      <th>3879</th>\n",
              "      <td>0</td>\n",
              "      <td>41318-75-6</td>\n",
              "      <td>BrC1=CC(Br)=C(C=C1)OC1C=CC(Br)=CC=1</td>\n",
              "    </tr>\n",
              "    <tr>\n",
              "      <th>3880</th>\n",
              "      <td>0</td>\n",
              "      <td>84852-53-9</td>\n",
              "      <td>BrC1C(CCC2=C(Br)C(Br)=C(Br)C(Br)=C2Br)=C(Br)C(...</td>\n",
              "    </tr>\n",
              "    <tr>\n",
              "      <th>3881</th>\n",
              "      <td>0</td>\n",
              "      <td>207122-16-5</td>\n",
              "      <td>BrC1C=C(Br)C(Br)=C(Br)C=1OC1C=C(Br)C(Br)=CC=1Br</td>\n",
              "    </tr>\n",
              "  </tbody>\n",
              "</table>\n",
              "<p>3882 rows × 3 columns</p>\n",
              "</div>"
            ],
            "text/plain": [
              "      bindingClass  ...                                             SMILES\n",
              "0                1  ...                                    NC1=CC=C(O)C=C1\n",
              "1                1  ...                         NC1C=C2CC3=CC=CC=C3C2=CC=1\n",
              "2                1  ...           CC1C(=O)C(CCCCC#CCCCC#CCO)=C(C)C(=O)C=1C\n",
              "3                1  ...                    CCCSC1C=C2N=C(NC(=O)OC)NC2=CC=1\n",
              "4                1  ...       CC1=NN=C2CN=C(C3=CC(Cl)=CC=C3N21)C1C=CC=CC=1\n",
              "...            ...  ...                                                ...\n",
              "3877             0  ...  CN(C)C(=O)C1C=CC(=CC=1S(=O)(=O)NC(=O)NC1N=C(C=...\n",
              "3878             0  ...  CC1=CC(C)=NC(NC(=O)NS(=O)(=O)C2C=CC=CC=2C(=O)O...\n",
              "3879             0  ...                BrC1=CC(Br)=C(C=C1)OC1C=CC(Br)=CC=1\n",
              "3880             0  ...  BrC1C(CCC2=C(Br)C(Br)=C(Br)C(Br)=C2Br)=C(Br)C(...\n",
              "3881             0  ...    BrC1C=C(Br)C(Br)=C(Br)C=1OC1C=C(Br)C(Br)=CC=1Br\n",
              "\n",
              "[3882 rows x 3 columns]"
            ]
          },
          "metadata": {
            "tags": []
          },
          "execution_count": 80
        }
      ]
    },
    {
      "cell_type": "code",
      "metadata": {
        "id": "TgVIsudAgz9N",
        "colab_type": "code",
        "colab": {}
      },
      "source": [
        "bal_eval = eval_df\n",
        "eval_df.to_csv('Eval_set_smi2.csv',index=False)"
      ],
      "execution_count": 0,
      "outputs": []
    },
    {
      "cell_type": "code",
      "metadata": {
        "id": "4Qkl7mvphXAQ",
        "colab_type": "code",
        "colab": {}
      },
      "source": [
        "eval_dataset_file = \"Eval_set_smi2.csv\""
      ],
      "execution_count": 0,
      "outputs": []
    },
    {
      "cell_type": "code",
      "metadata": {
        "id": "vMb6O98IhApC",
        "colab_type": "code",
        "outputId": "e7a31a5f-4e3d-4d64-c098-7c6ad886a1af",
        "colab": {
          "base_uri": "https://localhost:8080/",
          "height": 105
        }
      },
      "source": [
        "eval_dataset = loader.featurize(eval_dataset_file)"
      ],
      "execution_count": 83,
      "outputs": [
        {
          "output_type": "stream",
          "text": [
            "/content/deepchem/deepchem/data/data_loader.py:268: FutureWarning: featurize() is deprecated and has been renamed to create_dataset(). featurize() will be removed in DeepChem 3.0\n",
            "  FutureWarning)\n"
          ],
          "name": "stderr"
        },
        {
          "output_type": "stream",
          "text": [
            "About to start loading CSV from Eval_set_smi2.csv\n",
            "Loading shard 1 of size 8192.\n"
          ],
          "name": "stdout"
        }
      ]
    },
    {
      "cell_type": "code",
      "metadata": {
        "id": "FtdkrfcVd5g6",
        "colab_type": "code",
        "colab": {}
      },
      "source": [
        "#bal_eval = eval_df.groupby('bindingClass')\n",
        "#bal_eval = pd.DataFrame(eval_df.apply(lambda x: x.sample(eval_df.size().min()).reset_index(drop=True)))"
      ],
      "execution_count": 0,
      "outputs": []
    },
    {
      "cell_type": "code",
      "metadata": {
        "id": "QgPogQbX9I0u",
        "colab_type": "code",
        "colab": {}
      },
      "source": [
        "valid_dataset = eval_dataset"
      ],
      "execution_count": 0,
      "outputs": []
    },
    {
      "cell_type": "code",
      "metadata": {
        "id": "aY3oIMwkhDoZ",
        "colab_type": "code",
        "colab": {}
      },
      "source": [
        "current_dir = os.path.dirname(os.path.realpath(\"__file__\"))\n",
        "dc.utils.download_url(\"https://hermes.chem.ut.ee/~alfx/ML/to_score4.csv\",  current_dir)"
      ],
      "execution_count": 0,
      "outputs": []
    },
    {
      "cell_type": "code",
      "metadata": {
        "id": "moihVuLuhD71",
        "colab_type": "code",
        "colab": {}
      },
      "source": [
        "toscore_df = pd.read_csv(\"to_score4.csv\",sep=\" \")"
      ],
      "execution_count": 0,
      "outputs": []
    },
    {
      "cell_type": "code",
      "metadata": {
        "id": "IE2jUMmShEQE",
        "colab_type": "code",
        "colab": {}
      },
      "source": [
        "toscore_df.to_csv('to_score4B.csv',index=False)"
      ],
      "execution_count": 0,
      "outputs": []
    },
    {
      "cell_type": "code",
      "metadata": {
        "id": "IZiaD7ubhEhd",
        "colab_type": "code",
        "colab": {}
      },
      "source": [
        "toscore_dataset_file = \"to_score4B.csv\""
      ],
      "execution_count": 0,
      "outputs": []
    },
    {
      "cell_type": "code",
      "metadata": {
        "id": "VUiHDWYnhEzE",
        "colab_type": "code",
        "colab": {}
      },
      "source": [
        "toscore_dataset = loader.featurize(toscore_dataset_file)"
      ],
      "execution_count": 0,
      "outputs": []
    },
    {
      "cell_type": "code",
      "metadata": {
        "id": "PXynmhAQhFEw",
        "colab_type": "code",
        "colab": {}
      },
      "source": [
        ""
      ],
      "execution_count": 0,
      "outputs": []
    },
    {
      "cell_type": "code",
      "metadata": {
        "id": "6-IR8yX1hFaQ",
        "colab_type": "code",
        "colab": {}
      },
      "source": [
        ""
      ],
      "execution_count": 0,
      "outputs": []
    },
    {
      "cell_type": "code",
      "metadata": {
        "id": "5Pj5wLqviVks",
        "colab_type": "code",
        "colab": {}
      },
      "source": [
        "tmp_df"
      ],
      "execution_count": 0,
      "outputs": []
    },
    {
      "cell_type": "code",
      "metadata": {
        "id": "S8MVdlIkdxSN",
        "colab_type": "code",
        "colab": {}
      },
      "source": [
        "tmp_df.to_csv('tmp_df.csv', index=False)\n"
      ],
      "execution_count": 0,
      "outputs": []
    },
    {
      "cell_type": "code",
      "metadata": {
        "id": "69uy8VUWeHyK",
        "colab_type": "code",
        "colab": {}
      },
      "source": [
        "tmp_dataset_file = \"tmp_df.csv\""
      ],
      "execution_count": 0,
      "outputs": []
    },
    {
      "cell_type": "code",
      "metadata": {
        "id": "aSHVPm4xeRbs",
        "colab_type": "code",
        "colab": {}
      },
      "source": [
        "tmp_dataset = loader.featurize(tmp_dataset_file)"
      ],
      "execution_count": 0,
      "outputs": []
    },
    {
      "cell_type": "code",
      "metadata": {
        "id": "eIafkCRTLSsE",
        "colab_type": "code",
        "colab": {}
      },
      "source": [
        "def generate_graph_conv_model():\n",
        " batch_size = 128\n",
        " model = GraphConvModel(1, batch_size=batch_size,\n",
        " mode='classification',\n",
        " model_dir=\"MyGraphConv/model_dir\")\n",
        " return model"
      ],
      "execution_count": 0,
      "outputs": []
    },
    {
      "cell_type": "code",
      "metadata": {
        "id": "hcA-fKaNLTUn",
        "colab_type": "code",
        "colab": {}
      },
      "source": [
        "dataset_file = tmp_dataset\n",
        "tasks = [\"bindingClass\"]\n",
        "featurizer = dc.feat.ConvMolFeaturizer()\n",
        "loader = dc.data.CSVLoader(tasks=tasks,\n",
        "smiles_field=\"SMILES\",\n",
        "featurizer=featurizer)\n"
      ],
      "execution_count": 0,
      "outputs": []
    },
    {
      "cell_type": "code",
      "metadata": {
        "id": "6iBbTWhcNRbJ",
        "colab_type": "code",
        "colab": {}
      },
      "source": [
        "splitter = dc.splits.RandomSplitter()"
      ],
      "execution_count": 0,
      "outputs": []
    },
    {
      "cell_type": "code",
      "metadata": {
        "id": "MVLm_H4YNxrw",
        "colab_type": "code",
        "colab": {}
      },
      "source": [
        "import numpy as np"
      ],
      "execution_count": 0,
      "outputs": []
    },
    {
      "cell_type": "code",
      "metadata": {
        "id": "vRn77DFINR9m",
        "colab_type": "code",
        "colab": {}
      },
      "source": [
        "metrics = [\n",
        "dc.metrics.Metric(dc.metrics.matthews_corrcoef, np.mean,\n",
        "mode=\"classification\")]"
      ],
      "execution_count": 0,
      "outputs": []
    },
    {
      "cell_type": "code",
      "metadata": {
        "id": "Wj1pFBFDNWzp",
        "colab_type": "code",
        "colab": {}
      },
      "source": [
        "training_score_list = []\n",
        "validation_score_list = []\n",
        "transformers = []\n",
        "cv_folds = 10\n",
        "for i in range(0, cv_folds):\n",
        "  model = generate_graph_conv_model()\n",
        "  res = splitter.train_valid_test_split(dataset)\n",
        "  train_dataset, valid_dataset, test_dataset = res\n",
        "  model.fit(train_dataset)\n",
        "  train_scores = model.evaluate(train_dataset, metrics,\n",
        "  transformers)\n",
        "  training_score_list.append(\n",
        "  train_scores[\"mean-matthews_corrcoef\"])\n",
        "  validation_scores = model.evaluate(valid_dataset,\n",
        "  metrics,\n",
        "  transformers)\n",
        "  validation_score_list.append(\n",
        "  validation_scores[\"mean-matthews_corrcoef\"])\n",
        "  print(training_score_list)\n",
        "  print(validation_score_list)"
      ],
      "execution_count": 0,
      "outputs": []
    },
    {
      "cell_type": "code",
      "metadata": {
        "id": "zjXBeFG4N2je",
        "colab_type": "code",
        "colab": {}
      },
      "source": [
        "fig_scores_GCNN = sns.boxplot(\n",
        "[\"training\"] * cv_folds + [\"validation\"] * cv_folds,\n",
        "training_score_list + validation_score_list)"
      ],
      "execution_count": 0,
      "outputs": []
    },
    {
      "cell_type": "code",
      "metadata": {
        "id": "8K2i7y9Vyyzk",
        "colab_type": "code",
        "colab": {}
      },
      "source": [
        "Fig_scores_GCNN = fig_scores_GCNN.get_figure()"
      ],
      "execution_count": 0,
      "outputs": []
    },
    {
      "cell_type": "code",
      "metadata": {
        "id": "g34T8JThyxJg",
        "colab_type": "code",
        "colab": {}
      },
      "source": [
        "Fig_scores_GCNN.savefig('Fig_scores_GCNN.png',dpi=600)"
      ],
      "execution_count": 0,
      "outputs": []
    },
    {
      "cell_type": "code",
      "metadata": {
        "id": "2SwWmV_RNXT0",
        "colab_type": "code",
        "colab": {}
      },
      "source": [
        "pred = [x.flatten() for x in model.predict(valid_dataset)]"
      ],
      "execution_count": 0,
      "outputs": []
    },
    {
      "cell_type": "code",
      "metadata": {
        "id": "sSI-RGUvNXxi",
        "colab_type": "code",
        "colab": {}
      },
      "source": [
        "pred_df = pd.DataFrame(pred,columns=[\"neg\",\"pos\"])"
      ],
      "execution_count": 0,
      "outputs": []
    },
    {
      "cell_type": "code",
      "metadata": {
        "id": "JgWP0wgmQLsB",
        "colab_type": "code",
        "colab": {}
      },
      "source": [
        "pred_df[\"Active\"] = [int(x) for x in valid_dataset.y]\n",
        "pred_df[\"SMILES\"] = valid_dataset.ids"
      ],
      "execution_count": 0,
      "outputs": []
    },
    {
      "cell_type": "code",
      "metadata": {
        "id": "N3PIcmIhQMYr",
        "colab_type": "code",
        "colab": {}
      },
      "source": [
        "pred_df.head()"
      ],
      "execution_count": 0,
      "outputs": []
    },
    {
      "cell_type": "code",
      "metadata": {
        "id": "oFJYjUo4QXAu",
        "colab_type": "code",
        "colab": {}
      },
      "source": [
        "fig_preds_GCNN = sns.boxplot(pred_df.Active,pred_df.pos)"
      ],
      "execution_count": 0,
      "outputs": []
    },
    {
      "cell_type": "code",
      "metadata": {
        "id": "iwGZtCKszNk-",
        "colab_type": "code",
        "colab": {}
      },
      "source": [
        "Fig_preds_GCNN = fig_preds_GCNN.get_figure()"
      ],
      "execution_count": 0,
      "outputs": []
    },
    {
      "cell_type": "code",
      "metadata": {
        "id": "pTfqmEPyzUCf",
        "colab_type": "code",
        "colab": {}
      },
      "source": [
        "Fig_preds_GCNN.savefig('Fig_preds_GCNN.png',dpi=600)"
      ],
      "execution_count": 0,
      "outputs": []
    },
    {
      "cell_type": "code",
      "metadata": {
        "id": "C4FpEdrbQV4X",
        "colab_type": "code",
        "colab": {}
      },
      "source": [
        "model.fit(dataset)"
      ],
      "execution_count": 0,
      "outputs": []
    },
    {
      "cell_type": "code",
      "metadata": {
        "id": "ebBDbP8oQwYt",
        "colab_type": "code",
        "colab": {}
      },
      "source": [
        "#model.save()"
      ],
      "execution_count": 0,
      "outputs": []
    },
    {
      "cell_type": "code",
      "metadata": {
        "id": "Cl_ulhBlQ-Mb",
        "colab_type": "code",
        "colab": {}
      },
      "source": [
        ""
      ],
      "execution_count": 0,
      "outputs": []
    },
    {
      "cell_type": "code",
      "metadata": {
        "id": "x84cS7VrFAZO",
        "colab_type": "code",
        "colab": {}
      },
      "source": [
        "###transformers = [\n",
        "###    dc.trans.NormalizationTransformer(transform_X=True, dataset=dataset),\n",
        "###    dc.trans.ClippingTransformer(transform_X=True, dataset=dataset)]\n",
        "#datasets = [dataset]\n",
        "#datasets = [dataset,eval_df]\n",
        "###datasets = [dataset, valid_dataset, tmp_dataset]\n",
        "###for i, dataset in enumerate(datasets):\n",
        "###  for transformer in transformers:\n",
        "###      datasets[i] = transformer.transform(dataset)\n",
        "#train_dataset = datasets\n",
        "#train_dataset, eval_dataset = datasets\n",
        "###train_dataset, valid_dataset, tmp_dataset = datasets"
      ],
      "execution_count": 0,
      "outputs": []
    },
    {
      "cell_type": "code",
      "metadata": {
        "id": "KlK26-VnQw3l",
        "colab_type": "code",
        "colab": {}
      },
      "source": [
        "####END> THE REST IS FROM THE RF AND DNN MODELS IN ANOTHER IPYNB"
      ],
      "execution_count": 0,
      "outputs": []
    },
    {
      "cell_type": "code",
      "metadata": {
        "id": "hQpHLGqdSjOI",
        "colab_type": "code",
        "colab": {}
      },
      "source": [
        ""
      ],
      "execution_count": 0,
      "outputs": []
    },
    {
      "cell_type": "code",
      "metadata": {
        "id": "_B-sGwO281gf",
        "colab_type": "code",
        "colab": {}
      },
      "source": [
        ""
      ],
      "execution_count": 0,
      "outputs": []
    },
    {
      "cell_type": "code",
      "metadata": {
        "id": "d4DDnZMDT28f",
        "colab_type": "code",
        "colab": {}
      },
      "source": [
        "from sklearn.ensemble import RandomForestClassifier\n",
        "\n",
        "def rf_model_builder(model_params, model_dir):\n",
        "  sklearn_model = RandomForestClassifier(**model_params)\n",
        "  return dc.models.SklearnModel(sklearn_model, model_dir='models')\n",
        "params_dict = {\n",
        "    \"n_estimators\": [10, 50, 100, 250, 500],\n",
        "    \"max_features\": [\"auto\", \"sqrt\", \"log2\", None],\n",
        "}\n",
        "\n",
        "metric = dc.metrics.Metric(dc.metrics.roc_auc_score)\n",
        "optimizer = dc.hyper.HyperparamOpt(rf_model_builder)\n",
        "best_rf, best_rf_hyperparams, all_rf_results = optimizer.hyperparam_search(\n",
        "    params_dict, train_dataset, valid_dataset, transformers,\n",
        "    metric=metric)\n",
        "\n"
      ],
      "execution_count": 0,
      "outputs": []
    },
    {
      "cell_type": "code",
      "metadata": {
        "id": "0e0cCr32kdom",
        "colab_type": "code",
        "colab": {}
      },
      "source": [
        "best_rf.save()"
      ],
      "execution_count": 0,
      "outputs": []
    },
    {
      "cell_type": "code",
      "metadata": {
        "id": "RL-39qQWe7zy",
        "colab_type": "code",
        "colab": {}
      },
      "source": [
        "pred = best_rf.predict(tmp_dataset)"
      ],
      "execution_count": 0,
      "outputs": []
    },
    {
      "cell_type": "code",
      "metadata": {
        "id": "9p220aJjgllr",
        "colab_type": "code",
        "colab": {}
      },
      "source": [
        "pred.shape"
      ],
      "execution_count": 0,
      "outputs": []
    },
    {
      "cell_type": "code",
      "metadata": {
        "id": "YhpV_w04g6bl",
        "colab_type": "code",
        "colab": {}
      },
      "source": [
        "pred_df = pd.DataFrame(pred)"
      ],
      "execution_count": 0,
      "outputs": []
    },
    {
      "cell_type": "code",
      "metadata": {
        "id": "EgmQ7JrlgprO",
        "colab_type": "code",
        "colab": {}
      },
      "source": [
        "pred_df.head"
      ],
      "execution_count": 0,
      "outputs": []
    },
    {
      "cell_type": "code",
      "metadata": {
        "id": "9ZWk4mQI9yys",
        "colab_type": "code",
        "colab": {}
      },
      "source": [
        "import numpy as np\n",
        "#import np.random\n",
        "\n",
        "params_dict = {\"learning_rate\": np.power(10., np.random.uniform(-5, -3, size=1)),\n",
        "               \"weight_decay_penalty\": np.power(10, np.random.uniform(-6, -4, size=1)),\n",
        "               \"nb_epoch\": [40] }\n",
        "n_features = train_dataset.get_data_shape()[0]\n",
        "def model_builder(model_params, model_dir):\n",
        "  model = dc.models.MultitaskClassifier(\n",
        "    1, n_features, layer_sizes=[1000], dropouts=.25,\n",
        "    batch_size=50, **model_params)\n",
        "  return model\n",
        "\n",
        "#train_dataset = dc.data.NumpyDataset(train_dataset.X, train_dataset.y, train_dataset.w, train_dataset.ids)\n",
        "\n",
        "optimizer = dc.hyper.HyperparamOpt(model_builder)\n",
        "best_dnn, best_dnn_hyperparams, all_dnn_results = optimizer.hyperparam_search(\n",
        "    params_dict, train_dataset, valid_dataset, transformers,\n",
        "    metric=metric)"
      ],
      "execution_count": 0,
      "outputs": []
    },
    {
      "cell_type": "code",
      "metadata": {
        "id": "Tx9iGLauWKvk",
        "colab_type": "code",
        "colab": {}
      },
      "source": [
        "from deepchem.utils.evaluate import Evaluator\n",
        "\n",
        "rf_train_csv_out = \"rf_train_classifier.csv\"\n",
        "rf_train_stats_out = \"rf_train_stats_classifier.txt\"\n",
        "rf_train_evaluator = Evaluator(best_rf, train_dataset, transformers)\n",
        "rf_train_score = rf_train_evaluator.compute_model_performance(\n",
        "    [metric], rf_train_csv_out, rf_train_stats_out)\n",
        "print(\"RF Train set AUC %f\" % (rf_train_score[\"roc_auc_score\"]))\n",
        "\n",
        "rf_valid_csv_out = \"rf_valid_classifier.csv\"\n",
        "rf_valid_stats_out = \"rf_valid_stats_classifier.txt\"\n",
        "rf_valid_evaluator = Evaluator(best_rf, valid_dataset, transformers)\n",
        "rf_valid_score = rf_valid_evaluator.compute_model_performance(\n",
        "    [metric], rf_valid_csv_out, rf_valid_stats_out)\n",
        "print(\"RF Valid set AUC %f\" % (rf_valid_score[\"roc_auc_score\"]))\n",
        "\n",
        "rf_tmp_csv_out = \"rf_tmp_classifier.csv\"\n",
        "rf_tmp_stats_out = \"rf_tmp_stats_classifier.txt\"\n",
        "rf_tmp_evaluator = Evaluator(best_rf, tmp_dataset, transformers)\n",
        "rf_tmp_score = rf_tmp_evaluator.compute_model_performance(\n",
        "    [metric], rf_tmp_csv_out, rf_tmp_stats_out)\n",
        "print(\"RF Tmp set AUC %f\" % (rf_tmp_score[\"roc_auc_score\"]))\n",
        "\n",
        "#rf_test_csv_out = \"rf_test_regressor.csv\"\n",
        "#rf_test_stats_out = \"rf_test_stats_regressor.txt\"\n",
        "#rf_test_evaluator = Evaluator(best_rf, test_dataset, transformers)\n",
        "\n",
        "#rf_test_score = rf_test_evaluator.compute_model_performance(\n",
        " #   [metric], rf_test_csv_out, rf_test_stats_out)\n",
        "#print(\"RF Test set AUC %f\" % (rf_test_score[\"roc_auc_score\"]))\n",
        "\n",
        "#rf_crystal_csv_out = \"rf_crystal_regressor.csv\"\n",
        "#rf_crystal_stats_out = \"rf_crystal_stats_regressor.txt\"\n",
        "#rf_crystal_evaluator = Evaluator(best_rf, crystal_dataset, transformers)\n",
        "#rf_crystal_score = rf_crystal_evaluator.compute_model_performance(\n",
        "#    [metric], rf_crystal_csv_out, rf_crystal_stats_out)\n",
        "#print(\"RF Crystal set R^2 %f\" % (rf_crystal_score[\"roc_auc_score\"]))"
      ],
      "execution_count": 0,
      "outputs": []
    },
    {
      "cell_type": "code",
      "metadata": {
        "id": "grYdHVPxYRB5",
        "colab_type": "code",
        "colab": {}
      },
      "source": [
        "dnn_train_csv_out = \"dnn_train_classifier.csv\"\n",
        "dnn_train_stats_out = \"dnn_train_classifier_stats.txt\"\n",
        "dnn_train_evaluator = Evaluator(best_dnn, train_dataset, transformers)\n",
        "dnn_train_score = dnn_train_evaluator.compute_model_performance(\n",
        "    [metric], dnn_train_csv_out, dnn_train_stats_out)\n",
        "print(\"DNN Train set AUC %f\" % (dnn_train_score[\"roc_auc_score\"]))\n",
        "\n",
        "dnn_valid_csv_out = \"dnn_valid_classifier.csv\"\n",
        "dnn_valid_stats_out = \"dnn_valid_classifier_stats.txt\"\n",
        "dnn_valid_evaluator = Evaluator(best_dnn, valid_dataset, transformers)\n",
        "dnn_valid_score = dnn_valid_evaluator.compute_model_performance(\n",
        "    [metric], dnn_valid_csv_out, dnn_valid_stats_out)\n",
        "print(\"DNN Valid set AUC %f\" % (dnn_valid_score[\"roc_auc_score\"]))\n",
        "\n",
        "dnn_tmp_csv_out = \"dnn_tmp_classifier.csv\"\n",
        "dnn_tmp_stats_out = \"dnn_tmp_classifier_stats.txt\"\n",
        "dnn_tmp_evaluator = Evaluator(best_dnn, tmp_dataset, transformers)\n",
        "dnn_tmp_score = dnn_tmp_evaluator.compute_model_performance(\n",
        "    [metric], dnn_tmp_csv_out, dnn_tmp_stats_out)\n",
        "print(\"DNN Tmp set AUC %f\" % (dnn_tmp_score[\"roc_auc_score\"]))\n",
        "\n",
        "#dnn_test_csv_out = \"dnn_test_classifier.csv\"\n",
        "#dnn_test_stats_out = \"dnn_test_classifier_stats.txt\"\n",
        "#dnn_test_evaluator = Evaluator(best_dnn, test_dataset, transformers)\n",
        "#dnn_test_score = dnn_test_evaluator.compute_model_performance(\n",
        "#    [metric], dnn_test_csv_out, dnn_test_stats_out)\n",
        "#print(\"DNN Test set AUC %f\" % (dnn_test_score[\"roc_auc_score\"]))\n",
        "\n",
        "#dnn_crystal_csv_out = \"dnn_crystal_classifier.csv\"\n",
        "#dnn_crystal_stats_out = \"dnn_crystal_stats_classifier.txt\"\n",
        "#dnn_crystal_evaluator = Evaluator(best_dnn, crystal_dataset, transformers)\n",
        "#dnn_crystal_score = dnn_crystal_evaluator.compute_model_performance(\n",
        "#    [metric], dnn_crystal_csv_out, dnn_crystal_stats_out)\n",
        "#print(\"DNN Crystal set AUC %f\" % (dnn_crystal_score[\"roc_auc_score\"]))"
      ],
      "execution_count": 0,
      "outputs": []
    },
    {
      "cell_type": "code",
      "metadata": {
        "id": "EMbMcI_vYsbq",
        "colab_type": "code",
        "colab": {}
      },
      "source": [
        "#Now regression models\n",
        "#Make directories to store the raw and featurized datasets.\n",
        "#featurizer = dc.feat.UserDefinedFeaturizer(user_specified_features)\n",
        "featurizer = dc.feat.ConvMolFeaturizer()\n",
        "loader = dc.data.CSVLoader(tasks=[\"bindingClass\"],\n",
        "    smiles_field=\"SMILES\",\n",
        "    featurizer=featurizer)\n",
        "\n",
        "#loader = dc.data.UserCSVLoader(\n",
        "#    tasks=[\"bindingClass\"],  id_field=\"casrn\",\n",
        "#    featurizer=featurizer)\n",
        "train_dataset = loader.featurize(dataset_file)\n",
        "valid_dataset = loader.featurize(eval_dataset_file)\n",
        "#crystal_dataset = loader.featurize(crystal_dataset_file)"
      ],
      "execution_count": 0,
      "outputs": []
    },
    {
      "cell_type": "code",
      "metadata": {
        "id": "R9re5w_cZwWa",
        "colab_type": "code",
        "colab": {}
      },
      "source": [
        "print(\"Number of compounds in train set\")\n",
        "print(len(train_dataset))\n",
        "print(\"Number of compounds in validation set\")\n",
        "print(len(valid_dataset))"
      ],
      "execution_count": 0,
      "outputs": []
    },
    {
      "cell_type": "code",
      "metadata": {
        "id": "-CGHqQlQaJvk",
        "colab_type": "code",
        "colab": {}
      },
      "source": [
        "transformers = [\n",
        "    dc.trans.NormalizationTransformer(transform_X=True, dataset=train_dataset),\n",
        "    dc.trans.ClippingTransformer(transform_X=True, dataset=train_dataset)]\n",
        "\n",
        "datasets = [train_dataset, valid_dataset]\n",
        "for i, dataset in enumerate(datasets):\n",
        "  for transformer in transformers:\n",
        "      datasets[i] = transformer.transform(dataset)\n",
        "train_dataset, valid_dataset = datasets"
      ],
      "execution_count": 0,
      "outputs": []
    },
    {
      "cell_type": "code",
      "metadata": {
        "id": "VYaQa2EOaVgO",
        "colab_type": "code",
        "colab": {}
      },
      "source": [
        "from sklearn.ensemble import RandomForestRegressor\n",
        "\n",
        "def rf_model_builder(model_params, model_dir):\n",
        "  sklearn_model = RandomForestRegressor(**model_params)\n",
        "  return dc.models.SklearnModel(sklearn_model, model_dir)\n",
        "params_dict = {\n",
        "    \"n_estimators\": [10, 100],\n",
        "    \"max_features\": [\"auto\", \"sqrt\", \"log2\", None],\n",
        "}\n",
        "\n",
        "metric = dc.metrics.Metric(dc.metrics.r2_score)\n",
        "optimizer = dc.hyper.HyperparamOpt(rf_model_builder)\n",
        "best_rf, best_rf_hyperparams, all_rf_results = optimizer.hyperparam_search(\n",
        "    params_dict, train_dataset, valid_dataset, transformers,\n",
        "    metric=metric)"
      ],
      "execution_count": 0,
      "outputs": []
    },
    {
      "cell_type": "code",
      "metadata": {
        "id": "aTZdDPykaprV",
        "colab_type": "code",
        "colab": {}
      },
      "source": [
        "import numpy.random\n",
        "\n",
        "params_dict = {\"learning_rate\": np.power(10., np.random.uniform(-5, -3, size=2)),\n",
        "               \"weight_decay_penalty\": np.power(10, np.random.uniform(-6, -4, size=2)),\n",
        "               \"nb_epoch\": [20] }\n",
        "n_features = train_dataset.get_data_shape()[0]\n",
        "def model_builder(model_params, model_dir):\n",
        "  model = dc.models.MultitaskRegressor(\n",
        "    1, n_features, layer_sizes=[1000], dropouts=[.25],\n",
        "    batch_size=50, **model_params)\n",
        "  return model\n",
        "\n",
        "optimizer = dc.hyper.HyperparamOpt(model_builder)\n",
        "best_dnn, best_dnn_hyperparams, all_dnn_results = optimizer.hyperparam_search(\n",
        "    params_dict, train_dataset, valid_dataset, transformers,\n",
        "    metric=metric)"
      ],
      "execution_count": 0,
      "outputs": []
    },
    {
      "cell_type": "code",
      "metadata": {
        "id": "NFsmRqDrbJtK",
        "colab_type": "code",
        "colab": {}
      },
      "source": [
        "from deepchem.utils.evaluate import Evaluator\n",
        "\n",
        "rf_train_csv_out = \"rf_train_regressor.csv\"\n",
        "rf_train_stats_out = \"rf_train_stats_regressor.txt\"\n",
        "rf_train_evaluator = Evaluator(best_rf, train_dataset, transformers)\n",
        "rf_train_score = rf_train_evaluator.compute_model_performance(\n",
        "    [metric], rf_train_csv_out, rf_train_stats_out)\n",
        "print(\"RF Train set R^2 %f\" % (rf_train_score[\"r2_score\"]))\n",
        "\n",
        "rf_valid_csv_out = \"rf_valid_regressor.csv\"\n",
        "rf_valid_stats_out = \"rf_valid_stats_regressor.txt\"\n",
        "rf_valid_evaluator = Evaluator(best_rf, valid_dataset, transformers)\n",
        "rf_valid_score = rf_valid_evaluator.compute_model_performance(\n",
        "    [metric], rf_valid_csv_out, rf_valid_stats_out)\n",
        "print(\"RF Valid set R^2 %f\" % (rf_valid_score[\"r2_score\"]))"
      ],
      "execution_count": 0,
      "outputs": []
    },
    {
      "cell_type": "code",
      "metadata": {
        "id": "I-xzwOSkbTpa",
        "colab_type": "code",
        "colab": {}
      },
      "source": [
        "dnn_train_csv_out = \"dnn_train_regressor.csv\"\n",
        "dnn_train_stats_out = \"dnn_train_regressor_stats.txt\"\n",
        "dnn_train_evaluator = Evaluator(best_dnn, train_dataset, transformers)\n",
        "dnn_train_score = dnn_train_evaluator.compute_model_performance(\n",
        "    [metric], dnn_train_csv_out, dnn_train_stats_out)\n",
        "print(\"DNN Train set R^2 %f\" % (dnn_train_score[\"r2_score\"]))\n",
        "\n",
        "dnn_valid_csv_out = \"dnn_valid_regressor.csv\"\n",
        "dnn_valid_stats_out = \"dnn_valid_regressor_stats.txt\"\n",
        "dnn_valid_evaluator = Evaluator(best_dnn, valid_dataset, transformers)\n",
        "dnn_valid_score = dnn_valid_evaluator.compute_model_performance(\n",
        "    [metric], dnn_valid_csv_out, dnn_valid_stats_out)\n",
        "print(\"DNN Valid set R^2 %f\" % (dnn_valid_score[\"r2_score\"]))"
      ],
      "execution_count": 0,
      "outputs": []
    },
    {
      "cell_type": "code",
      "metadata": {
        "id": "jIn_EcNybekR",
        "colab_type": "code",
        "colab": {}
      },
      "source": [
        "#%matplotlib inline\n",
        "#from matplotlib import pyplot as plt\n",
        "\n",
        "#task = \"bindingClass\"\n",
        "#rf_predicted_test = best_rf.predict(valid_dataset)\n",
        "#rf_true_test = valid_dataset.y\n",
        "#plt.scatter(rf_predicted_test, rf_true_test)\n",
        "#plt.xlabel('Predicted bindingClass')\n",
        "#plt.ylabel('Secondary Assay')\n",
        "#plt.title(r'RF predicted bindingClass vs. Secondary Assay')\n",
        "#plt.xlim([2, 11])\n",
        "#plt.ylim([2, 11])\n",
        "#plt.plot([2, 11], [2, 11], color='k')\n",
        "#plt.show()"
      ],
      "execution_count": 0,
      "outputs": []
    },
    {
      "cell_type": "code",
      "metadata": {
        "id": "PCDtfrFpcakP",
        "colab_type": "code",
        "colab": {}
      },
      "source": [
        "#task = \"bindingClass\"\n",
        "#dnn_predicted_test = best_dnn.predict(valid_dataset, transformers)\n",
        "#dnn_true_test = valid_dataset.y\n",
        "#plt.scatter(dnn_predicted_test, dnn_true_test)\n",
        "#plt.xlabel('Predicted bindingClass')\n",
        "#plt.ylabel('Secondary Assay')\n",
        "#plt.title(r'DNN predicted bindingClass vs. Secondary Assay')\n",
        "#plt.xlim([2, 11])\n",
        "#plt.ylim([2, 11])\n",
        "#plt.plot([2, 11], [2, 11], color='k')\n",
        "#plt.show()"
      ],
      "execution_count": 0,
      "outputs": []
    }
  ]
}