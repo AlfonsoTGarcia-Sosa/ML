{
  "nbformat": 4,
  "nbformat_minor": 0,
  "metadata": {
    "kernelspec": {
      "display_name": "Python 3",
      "language": "python",
      "name": "python3"
    },
    "language_info": {
      "codemirror_mode": {
        "name": "ipython",
        "version": 3
      },
      "file_extension": ".py",
      "mimetype": "text/x-python",
      "name": "python",
      "nbconvert_exporter": "python",
      "pygments_lexer": "ipython3",
      "version": "3.6.10"
    },
    "colab": {
      "name": "balanced_myfeats.ipynb",
      "provenance": [],
      "include_colab_link": true
    }
  },
  "cells": [
    {
      "cell_type": "markdown",
      "metadata": {
        "id": "view-in-github",
        "colab_type": "text"
      },
      "source": [
        "<a href=\"https://colab.research.google.com/github/AlfonsoTGarcia-Sosa/ML/blob/master/balanced_GraphConv1June_scores.ipynb\" target=\"_parent\"><img src=\"https://colab.research.google.com/assets/colab-badge.svg\" alt=\"Open In Colab\"/></a>"
      ]
    },
    {
      "cell_type": "code",
      "metadata": {
        "id": "kShIhlOeFAWL",
        "colab_type": "code",
        "outputId": "afdabfc7-29d0-4839-e741-a952d72469a0",
        "colab": {
          "base_uri": "https://localhost:8080/",
          "height": 1000
        }
      },
      "source": [
        "!wget -c https://repo.anaconda.com/miniconda/Miniconda3-latest-Linux-x86_64.sh\n",
        "!chmod +x Miniconda3-latest-Linux-x86_64.sh\n",
        "!bash ./Miniconda3-latest-Linux-x86_64.sh -b -f -p /usr/local\n",
        "!conda install -y -c deepchem -c rdkit -c conda-forge -c omnia deepchem-gpu=2.3.0\n",
        "import sys\n",
        "sys.path.append('/usr/local/lib/python3.7/site-packages/')"
      ],
      "execution_count": 1,
      "outputs": [
        {
          "output_type": "stream",
          "text": [
            "--2020-06-08 19:38:19--  https://repo.anaconda.com/miniconda/Miniconda3-latest-Linux-x86_64.sh\n",
            "Resolving repo.anaconda.com (repo.anaconda.com)... 104.16.131.3, 104.16.130.3, 2606:4700::6810:8303, ...\n",
            "Connecting to repo.anaconda.com (repo.anaconda.com)|104.16.131.3|:443... connected.\n",
            "HTTP request sent, awaiting response... 200 OK\n",
            "Length: 85055499 (81M) [application/x-sh]\n",
            "Saving to: ‘Miniconda3-latest-Linux-x86_64.sh’\n",
            "\n",
            "\r          Miniconda   0%[                    ]       0  --.-KB/s               \r         Miniconda3  34%[=====>              ]  28.26M   141MB/s               \r        Miniconda3-  99%[==================> ]  81.02M   202MB/s               \rMiniconda3-latest-L 100%[===================>]  81.12M   202MB/s    in 0.4s    \n",
            "\n",
            "2020-06-08 19:38:19 (202 MB/s) - ‘Miniconda3-latest-Linux-x86_64.sh’ saved [85055499/85055499]\n",
            "\n",
            "PREFIX=/usr/local\n",
            "Unpacking payload ...\n",
            "Collecting package metadata (current_repodata.json): - \b\b\\ \b\b| \b\bdone\n",
            "Solving environment: - \b\b\\ \b\bdone\n",
            "\n",
            "## Package Plan ##\n",
            "\n",
            "  environment location: /usr/local\n",
            "\n",
            "  added / updated specs:\n",
            "    - _libgcc_mutex==0.1=main\n",
            "    - asn1crypto==1.3.0=py37_0\n",
            "    - ca-certificates==2020.1.1=0\n",
            "    - certifi==2019.11.28=py37_0\n",
            "    - cffi==1.14.0=py37h2e261b9_0\n",
            "    - chardet==3.0.4=py37_1003\n",
            "    - conda-package-handling==1.6.0=py37h7b6447c_0\n",
            "    - conda==4.8.2=py37_0\n",
            "    - cryptography==2.8=py37h1ba5d50_0\n",
            "    - idna==2.8=py37_0\n",
            "    - ld_impl_linux-64==2.33.1=h53a641e_7\n",
            "    - libedit==3.1.20181209=hc058e9b_0\n",
            "    - libffi==3.2.1=hd88cf55_4\n",
            "    - libgcc-ng==9.1.0=hdf63c60_0\n",
            "    - libstdcxx-ng==9.1.0=hdf63c60_0\n",
            "    - ncurses==6.2=he6710b0_0\n",
            "    - openssl==1.1.1d=h7b6447c_4\n",
            "    - pip==20.0.2=py37_1\n",
            "    - pycosat==0.6.3=py37h7b6447c_0\n",
            "    - pycparser==2.19=py37_0\n",
            "    - pyopenssl==19.1.0=py37_0\n",
            "    - pysocks==1.7.1=py37_0\n",
            "    - python==3.7.6=h0371630_2\n",
            "    - readline==7.0=h7b6447c_5\n",
            "    - requests==2.22.0=py37_1\n",
            "    - ruamel_yaml==0.15.87=py37h7b6447c_0\n",
            "    - setuptools==45.2.0=py37_0\n",
            "    - six==1.14.0=py37_0\n",
            "    - sqlite==3.31.1=h7b6447c_0\n",
            "    - tk==8.6.8=hbc83047_0\n",
            "    - tqdm==4.42.1=py_0\n",
            "    - urllib3==1.25.8=py37_0\n",
            "    - wheel==0.34.2=py37_0\n",
            "    - xz==5.2.4=h14c3975_4\n",
            "    - yaml==0.1.7=had09818_2\n",
            "    - zlib==1.2.11=h7b6447c_3\n",
            "\n",
            "\n",
            "The following NEW packages will be INSTALLED:\n",
            "\n",
            "  _libgcc_mutex      pkgs/main/linux-64::_libgcc_mutex-0.1-main\n",
            "  asn1crypto         pkgs/main/linux-64::asn1crypto-1.3.0-py37_0\n",
            "  ca-certificates    pkgs/main/linux-64::ca-certificates-2020.1.1-0\n",
            "  certifi            pkgs/main/linux-64::certifi-2019.11.28-py37_0\n",
            "  cffi               pkgs/main/linux-64::cffi-1.14.0-py37h2e261b9_0\n",
            "  chardet            pkgs/main/linux-64::chardet-3.0.4-py37_1003\n",
            "  conda              pkgs/main/linux-64::conda-4.8.2-py37_0\n",
            "  conda-package-han~ pkgs/main/linux-64::conda-package-handling-1.6.0-py37h7b6447c_0\n",
            "  cryptography       pkgs/main/linux-64::cryptography-2.8-py37h1ba5d50_0\n",
            "  idna               pkgs/main/linux-64::idna-2.8-py37_0\n",
            "  ld_impl_linux-64   pkgs/main/linux-64::ld_impl_linux-64-2.33.1-h53a641e_7\n",
            "  libedit            pkgs/main/linux-64::libedit-3.1.20181209-hc058e9b_0\n",
            "  libffi             pkgs/main/linux-64::libffi-3.2.1-hd88cf55_4\n",
            "  libgcc-ng          pkgs/main/linux-64::libgcc-ng-9.1.0-hdf63c60_0\n",
            "  libstdcxx-ng       pkgs/main/linux-64::libstdcxx-ng-9.1.0-hdf63c60_0\n",
            "  ncurses            pkgs/main/linux-64::ncurses-6.2-he6710b0_0\n",
            "  openssl            pkgs/main/linux-64::openssl-1.1.1d-h7b6447c_4\n",
            "  pip                pkgs/main/linux-64::pip-20.0.2-py37_1\n",
            "  pycosat            pkgs/main/linux-64::pycosat-0.6.3-py37h7b6447c_0\n",
            "  pycparser          pkgs/main/linux-64::pycparser-2.19-py37_0\n",
            "  pyopenssl          pkgs/main/linux-64::pyopenssl-19.1.0-py37_0\n",
            "  pysocks            pkgs/main/linux-64::pysocks-1.7.1-py37_0\n",
            "  python             pkgs/main/linux-64::python-3.7.6-h0371630_2\n",
            "  readline           pkgs/main/linux-64::readline-7.0-h7b6447c_5\n",
            "  requests           pkgs/main/linux-64::requests-2.22.0-py37_1\n",
            "  ruamel_yaml        pkgs/main/linux-64::ruamel_yaml-0.15.87-py37h7b6447c_0\n",
            "  setuptools         pkgs/main/linux-64::setuptools-45.2.0-py37_0\n",
            "  six                pkgs/main/linux-64::six-1.14.0-py37_0\n",
            "  sqlite             pkgs/main/linux-64::sqlite-3.31.1-h7b6447c_0\n",
            "  tk                 pkgs/main/linux-64::tk-8.6.8-hbc83047_0\n",
            "  tqdm               pkgs/main/noarch::tqdm-4.42.1-py_0\n",
            "  urllib3            pkgs/main/linux-64::urllib3-1.25.8-py37_0\n",
            "  wheel              pkgs/main/linux-64::wheel-0.34.2-py37_0\n",
            "  xz                 pkgs/main/linux-64::xz-5.2.4-h14c3975_4\n",
            "  yaml               pkgs/main/linux-64::yaml-0.1.7-had09818_2\n",
            "  zlib               pkgs/main/linux-64::zlib-1.2.11-h7b6447c_3\n",
            "\n",
            "\n",
            "Preparing transaction: / \b\b- \b\b\\ \b\b| \b\bdone\n",
            "Executing transaction: - \b\b\\ \b\b| \b\b/ \b\b- \b\b\\ \b\b| \b\b/ \b\b- \b\b\\ \b\b| \b\b/ \b\b- \b\b\\ \b\b| \b\bdone\n",
            "installation finished.\n",
            "WARNING:\n",
            "    You currently have a PYTHONPATH environment variable set. This may cause\n",
            "    unexpected behavior when running the Python interpreter in Miniconda3.\n",
            "    For best results, please verify that your PYTHONPATH only points to\n",
            "    directories of packages that are compatible with the Python interpreter\n",
            "    in Miniconda3: /usr/local\n",
            "Collecting package metadata (current_repodata.json): - \b\b\\ \b\b| \b\b/ \b\b- \b\b\\ \b\b| \b\b/ \b\b- \b\b\\ \b\b| \b\b/ \b\b- \b\b\\ \b\b| \b\b/ \b\b- \b\b\\ \b\b| \b\b/ \b\b- \b\b\\ \b\b| \b\b/ \b\b- \b\b\\ \b\b| \b\b/ \b\b- \b\b\\ \b\b| \b\b/ \b\b- \b\b\\ \b\b| \b\b/ \b\b- \b\b\\ \b\b| \b\b/ \b\b- \b\b\\ \b\b| \b\b/ \b\b- \b\b\\ \b\b| \b\b/ \b\b- \b\b\\ \b\b| \b\b/ \b\b- \b\b\\ \b\b| \b\b/ \b\b- \b\b\\ \b\b| \b\b/ \b\b- \b\b\\ \b\b| \b\b/ \b\b- \b\b\\ \b\b| \b\b/ \b\b- \b\b\\ \b\b| \b\b/ \b\b- \b\b\\ \b\b| \b\b/ \b\b- \b\bdone\n",
            "Solving environment: | \b\b/ \b\b- \b\b\\ \b\b| \b\b/ \b\b- \b\b\\ \b\b| \b\b/ \b\b- \b\b\\ \b\b| \b\b/ \b\b- \b\b\\ \b\b| \b\b/ \b\b- \b\b\\ \b\b| \b\b/ \b\b- \b\b\\ \b\b| \b\b/ \b\b- \b\b\\ \b\b| \b\b/ \b\b- \b\b\\ \b\b| \b\b/ \b\b- \b\b\\ \b\b| \b\b/ \b\b- \b\b\\ \b\b| \b\b/ \b\b- \b\b\\ \b\b| \b\b/ \b\b- \b\b\\ \b\b| \b\b/ \b\b- \b\b\\ \b\b| \b\b/ \b\b- \b\b\\ \b\b| \b\b/ \b\b- \b\b\\ \b\b| \b\b/ \b\b- \b\b\\ \b\b| \b\b/ \b\b- \b\b\\ \b\b| \b\b/ \b\b- \b\b\\ \b\bfailed with initial frozen solve. Retrying with flexible solve.\n",
            "Solving environment: / \b\b- \b\b\\ \b\b| \b\b/ \b\b- \b\b\\ \b\b| \b\b/ \b\b- \b\b\\ \b\b| \b\b/ \b\b- \b\b\\ \b\b| \b\b/ \b\b- \b\b\\ \b\b| \b\b/ \b\b- \b\b\\ \b\b| \b\b/ \b\b- \b\b\\ \b\b| \b\b/ \b\b- \b\b\\ \b\b| \b\b/ \b\b- \b\b\\ \b\b| \b\b/ \b\b- \b\b\\ \b\b| \b\b/ \b\b- \b\b\\ \b\b| \b\b/ \b\b- \b\b\\ \b\b| \b\b/ \b\b- \b\b\\ \b\b| \b\b/ \b\b- \b\b\\ \b\b| \b\b/ \b\b- \b\b\\ \b\b| \b\b/ \b\b- \b\b\\ \b\b| \b\b/ \b\b- \b\b\\ \b\b| \b\b/ \b\b- \b\b\\ \b\b| \b\b/ \b\b- \b\b\\ \b\b| \b\b/ \b\b- \b\b\\ \b\b| \b\b/ \b\b- \b\b\\ \b\b| \b\b/ \b\b- \b\b\\ \b\b| \b\b/ \b\bfailed with repodata from current_repodata.json, will retry with next repodata source.\n",
            "Collecting package metadata (repodata.json): \\ \b\b| \b\b/ \b\b- \b\b\\ \b\b| \b\b/ \b\b- \b\b\\ \b\b| \b\b/ \b\b- \b\b\\ \b\b| \b\b/ \b\b- \b\b\\ \b\b| \b\b/ \b\b- \b\b\\ \b\b| \b\b/ \b\b- \b\b\\ \b\b| \b\b/ \b\b- \b\b\\ \b\b| \b\b/ \b\b- \b\b\\ \b\b| \b\b/ \b\b- \b\b\\ \b\b| \b\b/ \b\b- \b\b\\ \b\b| \b\b/ \b\b- \b\b\\ \b\b| \b\b/ \b\b- \b\b\\ \b\b| \b\b/ \b\b- \b\b\\ \b\b| \b\b/ \b\b- \b\b\\ \b\b| \b\b/ \b\b- \b\b\\ \b\b| \b\b/ \b\b- \b\b\\ \b\b| \b\b/ \b\b- \b\b\\ \b\b| \b\b/ \b\b- \b\b\\ \b\b| \b\b/ \b\b- \b\b\\ \b\b| \b\b/ \b\b- \b\b\\ \b\b| \b\b/ \b\b- \b\b\\ \b\b| \b\b/ \b\b- \b\b\\ \b\b| \b\b/ \b\b- \b\b\\ \b\b| \b\b/ \b\b- \b\b\\ \b\b| \b\b/ \b\b- \b\b\\ \b\b| \b\b/ \b\b- \b\b\\ \b\b| \b\b/ \b\b- \b\b\\ \b\b| \b\b/ \b\b- \b\b\\ \b\b| \b\b/ \b\b- \b\b\\ \b\b| \b\b/ \b\b- \b\b\\ \b\b| \b\b/ \b\b- \b\b\\ \b\b| \b\b/ \b\b- \b\b\\ \b\b| \b\b/ \b\b- \b\b\\ \b\b| \b\b/ \b\b- \b\b\\ \b\b| \b\b/ \b\b- \b\b\\ \b\b| \b\b/ \b\b- \b\b\\ \b\b| \b\b/ \b\b- \b\b\\ \b\b| \b\b/ \b\b- \b\b\\ \b\b| \b\b/ \b\b- \b\b\\ \b\b| \b\b/ \b\b- \b\b\\ \b\b| \b\b/ \b\b- \b\b\\ \b\b| \b\b/ \b\b- \b\b\\ \b\b| \b\b/ \b\b- \b\b\\ \b\b| \b\b/ \b\b- \b\b\\ \b\b| \b\b/ \b\b- \b\b\\ \b\b| \b\b/ \b\b- \b\b\\ \b\b| \b\b/ \b\b- \b\b\\ \b\b| \b\b/ \b\b- \b\b\\ \b\b| \b\b/ \b\b- \b\b\\ \b\b| \b\b/ \b\b- \b\b\\ \b\b| \b\b/ \b\b- \b\b\\ \b\b| \b\b/ \b\b- \b\b\\ \b\b| \b\b/ \b\b- \b\b\\ \b\b| \b\b/ \b\b- \b\b\\ \b\b| \b\b/ \b\b- \b\b\\ \b\b| \b\bdone\n",
            "Solving environment: - \b\b\\ \b\b| \b\b/ \b\b- \b\b\\ \b\b| \b\b/ \b\b- \b\b\\ \b\b| \b\b/ \b\b- \b\b\\ \b\b| \b\b/ \b\b- \b\b\\ \b\b| \b\b/ \b\b- \b\b\\ \b\b| \b\b/ \b\b- \b\b\\ \b\b| \b\b/ \b\b- \b\b\\ \b\b| \b\b/ \b\b- \b\b\\ \b\b| \b\b/ \b\b- \b\b\\ \b\b| \b\b/ \b\b- \b\b\\ \b\b| \b\b/ \b\b- \b\b\\ \b\b| \b\b/ \b\b- \b\b\\ \b\b| \b\b/ \b\b- \b\b\\ \b\b| \b\b/ \b\b- \b\b\\ \b\b| \b\b/ \b\b- \b\b\\ \b\b| \b\b/ \b\b- \b\b\\ \b\b| \b\b/ \b\b- \b\b\\ \b\b| \b\b/ \b\b- \b\b\\ \b\b| \b\b/ \b\b- \b\b\\ \b\b| \b\b/ \b\b- \b\b\\ \b\b| \b\b/ \b\b- \b\b\\ \b\b| \b\b/ \b\b- \b\b\\ \b\b| \b\b/ \b\b- \b\b\\ \b\b| \b\b/ \b\b- \b\b\\ \b\b| \b\b/ \b\b- \b\b\\ \b\b| \b\b/ \b\b- \b\b\\ \b\b| \b\b/ \b\b- \b\b\\ \b\b| \b\b/ \b\b- \b\b\\ \b\b| \b\b/ \b\b- \b\b\\ \b\b| \b\b/ \b\b- \b\b\\ \b\b| \b\b/ \b\b- \b\b\\ \b\b| \b\b/ \b\b- \b\b\\ \b\b| \b\b/ \b\b- \b\b\\ \b\b| \b\b/ \b\b- \b\b\\ \b\b| \b\b/ \b\b- \b\b\\ \b\b| \b\b/ \b\b- \b\b\\ \b\b| \b\b/ \b\b- \b\b\\ \b\b| \b\b/ \b\b- \b\b\\ \b\b| \b\b/ \b\b- \b\b\\ \b\b| \b\b/ \b\b- \b\b\\ \b\b| \b\b/ \b\b- \b\b\\ \b\b| \b\b/ \b\b- \b\b\\ \b\b| \b\b/ \b\b- \b\b\\ \b\b| \b\b/ \b\b- \b\b\\ \b\b| \b\b/ \b\b- \b\b\\ \b\b| \b\b/ \b\b- \b\b\\ \b\b| \b\b/ \b\b- \b\b\\ \b\b| \b\b/ \b\b- \b\b\\ \b\b| \b\b/ \b\b- \b\b\\ \b\b| \b\b/ \b\b- \b\b\\ \b\b| \b\b/ \b\b- \b\b\\ \b\b| \b\b/ \b\b- \b\b\\ \b\b| \b\b/ \b\b- \b\b\\ \b\b| \b\b/ \b\b- \b\b\\ \b\b| \b\b/ \b\b- \b\b\\ \b\b| \b\b/ \b\b- \b\b\\ \b\b| \b\b/ \b\b- \b\b\\ \b\b| \b\b/ \b\b- \b\b\\ \b\b| \b\b/ \b\b- \b\b\\ \b\b| \b\b/ \b\b- \b\b\\ \b\b| \b\b/ \b\b- \b\b\\ \b\b| \b\b/ \b\b- \b\b\\ \b\b| \b\b/ \b\b- \b\b\\ \b\b| \b\b/ \b\b- \b\b\\ \b\b| \b\b/ \b\b- \b\b\\ \b\b| \b\b/ \b\b- \b\b\\ \b\b| \b\b/ \b\b- \b\b\\ \b\b| \b\b/ \b\b- \b\b\\ \b\b| \b\b/ \b\b- \b\b\\ \b\b| \b\b/ \b\b- \b\b\\ \b\b| \b\b/ \b\b- \b\b\\ \b\b| \b\b/ \b\b- \b\b\\ \b\b| \b\b/ \b\b- \b\b\\ \b\b| \b\b/ \b\b- \b\b\\ \b\b| \b\b/ \b\b- \b\b\\ \b\b| \b\b/ \b\b- \b\b\\ \b\b| \b\b/ \b\b- \b\b\\ \b\b| \b\b/ \b\b- \b\b\\ \b\b| \b\b/ \b\b- \b\b\\ \b\b| \b\b/ \b\b- \b\b\\ \b\b| \b\b/ \b\b- \b\b\\ \b\b| \b\b/ \b\b- \b\b\\ \b\b| \b\b/ \b\b- \b\b\\ \b\b| \b\b/ \b\b- \b\b\\ \b\b| \b\b/ \b\b- \b\b\\ \b\b| \b\b/ \b\b- \b\b\\ \b\b| \b\b/ \b\b- \b\b\\ \b\b| \b\b/ \b\b- \b\b\\ \b\b| \b\b/ \b\b- \b\b\\ \b\bdone\n",
            "\n",
            "\n",
            "==> WARNING: A newer version of conda exists. <==\n",
            "  current version: 4.8.2\n",
            "  latest version: 4.8.3\n",
            "\n",
            "Please update conda by running\n",
            "\n",
            "    $ conda update -n base -c defaults conda\n",
            "\n",
            "\n",
            "\n",
            "## Package Plan ##\n",
            "\n",
            "  environment location: /usr/local\n",
            "\n",
            "  added / updated specs:\n",
            "    - deepchem-gpu=2.3.0\n",
            "\n",
            "\n",
            "The following packages will be downloaded:\n",
            "\n",
            "    package                    |            build\n",
            "    ---------------------------|-----------------\n",
            "    _py-xgboost-mutex-2.0      |            cpu_0           8 KB  conda-forge\n",
            "    _tflow_select-2.1.0        |              gpu           2 KB\n",
            "    absl-py-0.9.0              |   py37hc8dfbb8_1         162 KB  conda-forge\n",
            "    astor-0.7.1                |             py_0          22 KB  conda-forge\n",
            "    attrs-19.3.0               |             py_0          35 KB  conda-forge\n",
            "    backcall-0.1.0             |             py_0          13 KB  conda-forge\n",
            "    bleach-3.1.5               |     pyh9f0ad1d_0         112 KB  conda-forge\n",
            "    blosc-1.19.0               |       he1b5a44_0         887 KB  conda-forge\n",
            "    bzip2-1.0.8                |       h516909a_2         396 KB  conda-forge\n",
            "    c-ares-1.15.0              |    h516909a_1001         100 KB  conda-forge\n",
            "    ca-certificates-2020.4.5.2 |       hecda079_0         147 KB  conda-forge\n",
            "    cairo-1.16.0               |    h18b612c_1001         1.5 MB  conda-forge\n",
            "    certifi-2020.4.5.2         |   py37hc8dfbb8_0         152 KB  conda-forge\n",
            "    conda-4.8.3                |   py37hc8dfbb8_1         3.0 MB  conda-forge\n",
            "    cudatoolkit-10.1.243       |       h6bb024c_0       347.4 MB\n",
            "    cudnn-7.6.5                |       cuda10.1_0       179.9 MB\n",
            "    cupti-10.1.168             |                0         1.4 MB\n",
            "    cycler-0.10.0              |             py_2           9 KB  conda-forge\n",
            "    cython-0.29.19             |   py37h3340039_0         2.1 MB  conda-forge\n",
            "    dbus-1.13.6                |       he372182_0         602 KB  conda-forge\n",
            "    decorator-4.4.2            |             py_0          11 KB  conda-forge\n",
            "    deepchem-gpu-2.3.0         |           py37_0         2.1 MB  deepchem\n",
            "    defusedxml-0.6.0           |             py_0          22 KB  conda-forge\n",
            "    entrypoints-0.3            |py37hc8dfbb8_1001          12 KB  conda-forge\n",
            "    expat-2.2.9                |       he1b5a44_2         191 KB  conda-forge\n",
            "    fftw3f-3.3.4               |                2         1.2 MB  omnia\n",
            "    fontconfig-2.13.1          |    he4413a7_1000         327 KB  conda-forge\n",
            "    freetype-2.10.2            |       he06d7ca_0         905 KB  conda-forge\n",
            "    gast-0.3.3                 |             py_0          12 KB  conda-forge\n",
            "    gettext-0.19.8.1           |    hc5be6a0_1002         3.6 MB  conda-forge\n",
            "    glib-2.64.3                |       h6f030ca_0         3.4 MB  conda-forge\n",
            "    google-pasta-0.2.0         |     pyh8c360ce_0          42 KB  conda-forge\n",
            "    grpcio-1.23.0              |   py37hb0870dc_1         1.1 MB  conda-forge\n",
            "    gst-plugins-base-1.14.5    |       h0935bb2_2         6.8 MB  conda-forge\n",
            "    gstreamer-1.14.5           |       h36ae1b5_2         4.5 MB  conda-forge\n",
            "    h5py-2.10.0                |nompi_py37h513d04c_102         1.2 MB  conda-forge\n",
            "    hdf5-1.10.5                |nompi_h3c11f04_1104         3.1 MB  conda-forge\n",
            "    icu-58.2                   |    hf484d3e_1000        22.6 MB  conda-forge\n",
            "    importlib-metadata-1.6.1   |   py37hc8dfbb8_0          44 KB  conda-forge\n",
            "    importlib_metadata-1.6.1   |                0           3 KB  conda-forge\n",
            "    ipykernel-5.3.0            |   py37h43977f1_0         164 KB  conda-forge\n",
            "    ipython-7.15.0             |   py37hc8dfbb8_0         1.1 MB  conda-forge\n",
            "    ipython_genutils-0.2.0     |             py_1          21 KB  conda-forge\n",
            "    ipywidgets-7.5.1           |             py_0         101 KB  conda-forge\n",
            "    jedi-0.17.0                |   py37hc8dfbb8_0         807 KB  conda-forge\n",
            "    jinja2-2.11.2              |     pyh9f0ad1d_0          93 KB  conda-forge\n",
            "    joblib-0.15.1              |             py_0         202 KB  conda-forge\n",
            "    jpeg-9d                    |       h516909a_0         266 KB  conda-forge\n",
            "    jsonschema-3.2.0           |   py37hc8dfbb8_1          89 KB  conda-forge\n",
            "    jupyter-1.0.0              |             py_2           4 KB  conda-forge\n",
            "    jupyter_client-6.1.3       |             py_0          74 KB  conda-forge\n",
            "    jupyter_console-6.1.0      |             py_1          21 KB  conda-forge\n",
            "    jupyter_core-4.6.3         |   py37hc8dfbb8_1          71 KB  conda-forge\n",
            "    keras-applications-1.0.8   |             py_1          30 KB  conda-forge\n",
            "    keras-preprocessing-1.1.0  |             py_0          33 KB  conda-forge\n",
            "    kiwisolver-1.2.0           |   py37h99015e2_0          87 KB  conda-forge\n",
            "    libblas-3.8.0              |      14_openblas          10 KB  conda-forge\n",
            "    libboost-1.67.0            |       h46d08c1_4        13.0 MB\n",
            "    libcblas-3.8.0             |      14_openblas          10 KB  conda-forge\n",
            "    libgfortran-ng-7.5.0       |       hdf63c60_6         1.7 MB  conda-forge\n",
            "    libiconv-1.15              |    h516909a_1006         2.0 MB  conda-forge\n",
            "    liblapack-3.8.0            |      14_openblas          10 KB  conda-forge\n",
            "    libopenblas-0.3.7          |       h5ec1e0e_6         7.6 MB  conda-forge\n",
            "    libpng-1.6.37              |       hed695b0_1         308 KB  conda-forge\n",
            "    libprotobuf-3.12.3         |       h8b12597_0         4.9 MB  conda-forge\n",
            "    libsodium-1.0.17           |       h516909a_0         330 KB  conda-forge\n",
            "    libtiff-4.1.0              |       hc7e4089_6         668 KB  conda-forge\n",
            "    libuuid-2.32.1             |    h14c3975_1000          26 KB  conda-forge\n",
            "    libwebp-base-1.1.0         |       h516909a_3         845 KB  conda-forge\n",
            "    libxcb-1.13                |    h14c3975_1002         396 KB  conda-forge\n",
            "    libxgboost-1.0.2           |       he1b5a44_1         2.8 MB  conda-forge\n",
            "    libxml2-2.9.9              |       h13577e0_2         1.3 MB  conda-forge\n",
            "    lz4-c-1.8.3                |    he1b5a44_1001         187 KB  conda-forge\n",
            "    lzo-2.10                   |    h14c3975_1000         319 KB  conda-forge\n",
            "    markdown-3.2.2             |             py_0          61 KB  conda-forge\n",
            "    markupsafe-1.1.1           |   py37h8f50634_1          26 KB  conda-forge\n",
            "    matplotlib-3.1.2           |   py37h4fdacc2_0         5.0 MB\n",
            "    mdtraj-1.9.4               |   py37h4112681_0         1.8 MB  conda-forge\n",
            "    mistune-0.8.4              |py37h8f50634_1001          53 KB  conda-forge\n",
            "    mock-4.0.2                 |   py37hc8dfbb8_0          51 KB  conda-forge\n",
            "    nbconvert-5.6.1            |   py37hc8dfbb8_1         487 KB  conda-forge\n",
            "    nbformat-5.0.6             |             py_0          99 KB  conda-forge\n",
            "    networkx-2.4               |             py_1         1.2 MB  conda-forge\n",
            "    notebook-6.0.3             |   py37hc8dfbb8_0         6.3 MB  conda-forge\n",
            "    numexpr-2.7.1              |   py37h0da4684_1         197 KB  conda-forge\n",
            "    numpy-1.18.5               |   py37h8960a57_0         5.1 MB  conda-forge\n",
            "    olefile-0.46               |             py_0          31 KB  conda-forge\n",
            "    openmm-7.4.2               |py37_cuda101_rc_1        11.9 MB  omnia\n",
            "    openssl-1.1.1g             |       h516909a_0         2.1 MB  conda-forge\n",
            "    packaging-20.4             |     pyh9f0ad1d_0          32 KB  conda-forge\n",
            "    pandas-1.0.4               |   py37h0da4684_0        10.1 MB  conda-forge\n",
            "    pandoc-2.9.2.1             |                0        18.7 MB  conda-forge\n",
            "    pandocfilters-1.4.2        |             py_1           9 KB  conda-forge\n",
            "    parso-0.7.0                |     pyh9f0ad1d_0          67 KB  conda-forge\n",
            "    pcre-8.44                  |       he1b5a44_0         261 KB  conda-forge\n",
            "    pdbfixer-1.6               |           py37_0         190 KB  omnia\n",
            "    pexpect-4.8.0              |   py37hc8dfbb8_1          79 KB  conda-forge\n",
            "    pickleshare-0.7.5          |py37hc8dfbb8_1001          13 KB  conda-forge\n",
            "    pillow-5.3.0               |py37h00a061d_1000         595 KB  conda-forge\n",
            "    pixman-0.38.0              |    h516909a_1003         594 KB  conda-forge\n",
            "    prometheus_client-0.8.0    |     pyh9f0ad1d_0          44 KB  conda-forge\n",
            "    prompt-toolkit-3.0.5       |             py_0         232 KB  conda-forge\n",
            "    prompt_toolkit-3.0.5       |                0           4 KB  conda-forge\n",
            "    protobuf-3.12.3            |   py37h3340039_0         702 KB  conda-forge\n",
            "    pthread-stubs-0.4          |    h14c3975_1001           5 KB  conda-forge\n",
            "    ptyprocess-0.6.0           |          py_1001          15 KB  conda-forge\n",
            "    py-boost-1.67.0            |   py37h04863e7_4         278 KB\n",
            "    py-xgboost-1.0.2           |   py37hc8dfbb8_1         2.2 MB  conda-forge\n",
            "    pygments-2.6.1             |             py_0         683 KB  conda-forge\n",
            "    pyparsing-2.4.7            |     pyh9f0ad1d_0          60 KB  conda-forge\n",
            "    pyqt-5.9.2                 |   py37hcca6a23_4         5.7 MB  conda-forge\n",
            "    pyrsistent-0.16.0          |   py37h8f50634_0          89 KB  conda-forge\n",
            "    pytables-3.6.1             |   py37h9f153d1_1         1.5 MB  conda-forge\n",
            "    python-dateutil-2.8.1      |             py_0         220 KB  conda-forge\n",
            "    python_abi-3.7             |          1_cp37m           4 KB  conda-forge\n",
            "    pytz-2020.1                |     pyh9f0ad1d_0         227 KB  conda-forge\n",
            "    pyzmq-19.0.1               |   py37hac76be4_0         519 KB  conda-forge\n",
            "    qt-5.9.7                   |       h52cfd70_2        85.9 MB  conda-forge\n",
            "    qtconsole-4.7.4            |     pyh9f0ad1d_0          88 KB  conda-forge\n",
            "    qtpy-1.9.0                 |             py_0          34 KB  conda-forge\n",
            "    rdkit-2020.03.2.0          |   py37hc20afe1_1        24.8 MB  rdkit\n",
            "    scikit-learn-0.23.1        |   py37h8a51577_0         6.8 MB  conda-forge\n",
            "    scipy-1.4.1                |   py37ha3d9a3c_3        18.8 MB  conda-forge\n",
            "    send2trash-1.5.0           |             py_0          12 KB  conda-forge\n",
            "    simdna-0.4.2               |             py_0         627 KB  deepchem\n",
            "    sip-4.19.8                 |py37hf484d3e_1000         290 KB  conda-forge\n",
            "    snappy-1.1.8               |       he1b5a44_1          39 KB  conda-forge\n",
            "    tensorboard-1.14.0         |           py37_0         3.2 MB  conda-forge\n",
            "    tensorflow-1.14.0          |gpu_py37h74c33d7_0           4 KB\n",
            "    tensorflow-base-1.14.0     |gpu_py37he45bfe2_0       146.3 MB\n",
            "    tensorflow-estimator-1.14.0|   py37h5ca1d4c_0         645 KB  conda-forge\n",
            "    tensorflow-gpu-1.14.0      |       h0d30ee6_0           3 KB\n",
            "    termcolor-1.1.0            |             py_2           6 KB  conda-forge\n",
            "    terminado-0.8.3            |   py37hc8dfbb8_1          23 KB  conda-forge\n",
            "    testpath-0.4.4             |             py_0          85 KB  conda-forge\n",
            "    threadpoolctl-2.1.0        |     pyh5ca1d4c_0          15 KB  conda-forge\n",
            "    tornado-6.0.4              |   py37h8f50634_1         639 KB  conda-forge\n",
            "    traitlets-4.3.3            |   py37hc8dfbb8_1         133 KB  conda-forge\n",
            "    wcwidth-0.2.4              |     pyh9f0ad1d_0          33 KB  conda-forge\n",
            "    webencodings-0.5.1         |             py_1          12 KB  conda-forge\n",
            "    werkzeug-1.0.1             |     pyh9f0ad1d_0         239 KB  conda-forge\n",
            "    widgetsnbextension-3.5.1   |           py37_0         1.8 MB  conda-forge\n",
            "    wrapt-1.12.1               |   py37h8f50634_1          46 KB  conda-forge\n",
            "    xgboost-1.0.2              |   py37h3340039_1          11 KB  conda-forge\n",
            "    xorg-kbproto-1.0.7         |    h14c3975_1002          26 KB  conda-forge\n",
            "    xorg-libice-1.0.10         |       h516909a_0          57 KB  conda-forge\n",
            "    xorg-libsm-1.2.3           |    h84519dc_1000          25 KB  conda-forge\n",
            "    xorg-libx11-1.6.9          |       h516909a_0         918 KB  conda-forge\n",
            "    xorg-libxau-1.0.9          |       h14c3975_0          13 KB  conda-forge\n",
            "    xorg-libxdmcp-1.1.3        |       h516909a_0          18 KB  conda-forge\n",
            "    xorg-libxext-1.3.4         |       h516909a_0          51 KB  conda-forge\n",
            "    xorg-libxrender-0.9.10     |    h516909a_1002          31 KB  conda-forge\n",
            "    xorg-renderproto-0.11.1    |    h14c3975_1002           8 KB  conda-forge\n",
            "    xorg-xextproto-7.3.0       |    h14c3975_1002          27 KB  conda-forge\n",
            "    xorg-xproto-7.0.31         |    h14c3975_1007          72 KB  conda-forge\n",
            "    zeromq-4.3.2               |       he1b5a44_2         668 KB  conda-forge\n",
            "    zipp-3.1.0                 |             py_0          10 KB  conda-forge\n",
            "    zstd-1.4.4                 |       h3b9ef0a_2         982 KB  conda-forge\n",
            "    ------------------------------------------------------------\n",
            "                                           Total:       999.1 MB\n",
            "\n",
            "The following NEW packages will be INSTALLED:\n",
            "\n",
            "  _py-xgboost-mutex  conda-forge/linux-64::_py-xgboost-mutex-2.0-cpu_0\n",
            "  _tflow_select      pkgs/main/linux-64::_tflow_select-2.1.0-gpu\n",
            "  absl-py            conda-forge/linux-64::absl-py-0.9.0-py37hc8dfbb8_1\n",
            "  astor              conda-forge/noarch::astor-0.7.1-py_0\n",
            "  attrs              conda-forge/noarch::attrs-19.3.0-py_0\n",
            "  backcall           conda-forge/noarch::backcall-0.1.0-py_0\n",
            "  bleach             conda-forge/noarch::bleach-3.1.5-pyh9f0ad1d_0\n",
            "  blosc              conda-forge/linux-64::blosc-1.19.0-he1b5a44_0\n",
            "  bzip2              conda-forge/linux-64::bzip2-1.0.8-h516909a_2\n",
            "  c-ares             conda-forge/linux-64::c-ares-1.15.0-h516909a_1001\n",
            "  cairo              conda-forge/linux-64::cairo-1.16.0-h18b612c_1001\n",
            "  cudatoolkit        pkgs/main/linux-64::cudatoolkit-10.1.243-h6bb024c_0\n",
            "  cudnn              pkgs/main/linux-64::cudnn-7.6.5-cuda10.1_0\n",
            "  cupti              pkgs/main/linux-64::cupti-10.1.168-0\n",
            "  cycler             conda-forge/noarch::cycler-0.10.0-py_2\n",
            "  cython             conda-forge/linux-64::cython-0.29.19-py37h3340039_0\n",
            "  dbus               conda-forge/linux-64::dbus-1.13.6-he372182_0\n",
            "  decorator          conda-forge/noarch::decorator-4.4.2-py_0\n",
            "  deepchem-gpu       deepchem/linux-64::deepchem-gpu-2.3.0-py37_0\n",
            "  defusedxml         conda-forge/noarch::defusedxml-0.6.0-py_0\n",
            "  entrypoints        conda-forge/linux-64::entrypoints-0.3-py37hc8dfbb8_1001\n",
            "  expat              conda-forge/linux-64::expat-2.2.9-he1b5a44_2\n",
            "  fftw3f             omnia/linux-64::fftw3f-3.3.4-2\n",
            "  fontconfig         conda-forge/linux-64::fontconfig-2.13.1-he4413a7_1000\n",
            "  freetype           conda-forge/linux-64::freetype-2.10.2-he06d7ca_0\n",
            "  gast               conda-forge/noarch::gast-0.3.3-py_0\n",
            "  gettext            conda-forge/linux-64::gettext-0.19.8.1-hc5be6a0_1002\n",
            "  glib               conda-forge/linux-64::glib-2.64.3-h6f030ca_0\n",
            "  google-pasta       conda-forge/noarch::google-pasta-0.2.0-pyh8c360ce_0\n",
            "  grpcio             conda-forge/linux-64::grpcio-1.23.0-py37hb0870dc_1\n",
            "  gst-plugins-base   conda-forge/linux-64::gst-plugins-base-1.14.5-h0935bb2_2\n",
            "  gstreamer          conda-forge/linux-64::gstreamer-1.14.5-h36ae1b5_2\n",
            "  h5py               conda-forge/linux-64::h5py-2.10.0-nompi_py37h513d04c_102\n",
            "  hdf5               conda-forge/linux-64::hdf5-1.10.5-nompi_h3c11f04_1104\n",
            "  icu                conda-forge/linux-64::icu-58.2-hf484d3e_1000\n",
            "  importlib-metadata conda-forge/linux-64::importlib-metadata-1.6.1-py37hc8dfbb8_0\n",
            "  importlib_metadata conda-forge/noarch::importlib_metadata-1.6.1-0\n",
            "  ipykernel          conda-forge/linux-64::ipykernel-5.3.0-py37h43977f1_0\n",
            "  ipython            conda-forge/linux-64::ipython-7.15.0-py37hc8dfbb8_0\n",
            "  ipython_genutils   conda-forge/noarch::ipython_genutils-0.2.0-py_1\n",
            "  ipywidgets         conda-forge/noarch::ipywidgets-7.5.1-py_0\n",
            "  jedi               conda-forge/linux-64::jedi-0.17.0-py37hc8dfbb8_0\n",
            "  jinja2             conda-forge/noarch::jinja2-2.11.2-pyh9f0ad1d_0\n",
            "  joblib             conda-forge/noarch::joblib-0.15.1-py_0\n",
            "  jpeg               conda-forge/linux-64::jpeg-9d-h516909a_0\n",
            "  jsonschema         conda-forge/linux-64::jsonschema-3.2.0-py37hc8dfbb8_1\n",
            "  jupyter            conda-forge/noarch::jupyter-1.0.0-py_2\n",
            "  jupyter_client     conda-forge/noarch::jupyter_client-6.1.3-py_0\n",
            "  jupyter_console    conda-forge/noarch::jupyter_console-6.1.0-py_1\n",
            "  jupyter_core       conda-forge/linux-64::jupyter_core-4.6.3-py37hc8dfbb8_1\n",
            "  keras-applications conda-forge/noarch::keras-applications-1.0.8-py_1\n",
            "  keras-preprocessi~ conda-forge/noarch::keras-preprocessing-1.1.0-py_0\n",
            "  kiwisolver         conda-forge/linux-64::kiwisolver-1.2.0-py37h99015e2_0\n",
            "  libblas            conda-forge/linux-64::libblas-3.8.0-14_openblas\n",
            "  libboost           pkgs/main/linux-64::libboost-1.67.0-h46d08c1_4\n",
            "  libcblas           conda-forge/linux-64::libcblas-3.8.0-14_openblas\n",
            "  libgfortran-ng     conda-forge/linux-64::libgfortran-ng-7.5.0-hdf63c60_6\n",
            "  libiconv           conda-forge/linux-64::libiconv-1.15-h516909a_1006\n",
            "  liblapack          conda-forge/linux-64::liblapack-3.8.0-14_openblas\n",
            "  libopenblas        conda-forge/linux-64::libopenblas-0.3.7-h5ec1e0e_6\n",
            "  libpng             conda-forge/linux-64::libpng-1.6.37-hed695b0_1\n",
            "  libprotobuf        conda-forge/linux-64::libprotobuf-3.12.3-h8b12597_0\n",
            "  libsodium          conda-forge/linux-64::libsodium-1.0.17-h516909a_0\n",
            "  libtiff            conda-forge/linux-64::libtiff-4.1.0-hc7e4089_6\n",
            "  libuuid            conda-forge/linux-64::libuuid-2.32.1-h14c3975_1000\n",
            "  libwebp-base       conda-forge/linux-64::libwebp-base-1.1.0-h516909a_3\n",
            "  libxcb             conda-forge/linux-64::libxcb-1.13-h14c3975_1002\n",
            "  libxgboost         conda-forge/linux-64::libxgboost-1.0.2-he1b5a44_1\n",
            "  libxml2            conda-forge/linux-64::libxml2-2.9.9-h13577e0_2\n",
            "  lz4-c              conda-forge/linux-64::lz4-c-1.8.3-he1b5a44_1001\n",
            "  lzo                conda-forge/linux-64::lzo-2.10-h14c3975_1000\n",
            "  markdown           conda-forge/noarch::markdown-3.2.2-py_0\n",
            "  markupsafe         conda-forge/linux-64::markupsafe-1.1.1-py37h8f50634_1\n",
            "  matplotlib         pkgs/main/linux-64::matplotlib-3.1.2-py37h4fdacc2_0\n",
            "  mdtraj             conda-forge/linux-64::mdtraj-1.9.4-py37h4112681_0\n",
            "  mistune            conda-forge/linux-64::mistune-0.8.4-py37h8f50634_1001\n",
            "  mock               conda-forge/linux-64::mock-4.0.2-py37hc8dfbb8_0\n",
            "  nbconvert          conda-forge/linux-64::nbconvert-5.6.1-py37hc8dfbb8_1\n",
            "  nbformat           conda-forge/noarch::nbformat-5.0.6-py_0\n",
            "  networkx           conda-forge/noarch::networkx-2.4-py_1\n",
            "  notebook           conda-forge/linux-64::notebook-6.0.3-py37hc8dfbb8_0\n",
            "  numexpr            conda-forge/linux-64::numexpr-2.7.1-py37h0da4684_1\n",
            "  numpy              conda-forge/linux-64::numpy-1.18.5-py37h8960a57_0\n",
            "  olefile            conda-forge/noarch::olefile-0.46-py_0\n",
            "  openmm             omnia/linux-64::openmm-7.4.2-py37_cuda101_rc_1\n",
            "  packaging          conda-forge/noarch::packaging-20.4-pyh9f0ad1d_0\n",
            "  pandas             conda-forge/linux-64::pandas-1.0.4-py37h0da4684_0\n",
            "  pandoc             conda-forge/linux-64::pandoc-2.9.2.1-0\n",
            "  pandocfilters      conda-forge/noarch::pandocfilters-1.4.2-py_1\n",
            "  parso              conda-forge/noarch::parso-0.7.0-pyh9f0ad1d_0\n",
            "  pcre               conda-forge/linux-64::pcre-8.44-he1b5a44_0\n",
            "  pdbfixer           omnia/linux-64::pdbfixer-1.6-py37_0\n",
            "  pexpect            conda-forge/linux-64::pexpect-4.8.0-py37hc8dfbb8_1\n",
            "  pickleshare        conda-forge/linux-64::pickleshare-0.7.5-py37hc8dfbb8_1001\n",
            "  pillow             conda-forge/linux-64::pillow-5.3.0-py37h00a061d_1000\n",
            "  pixman             conda-forge/linux-64::pixman-0.38.0-h516909a_1003\n",
            "  prometheus_client  conda-forge/noarch::prometheus_client-0.8.0-pyh9f0ad1d_0\n",
            "  prompt-toolkit     conda-forge/noarch::prompt-toolkit-3.0.5-py_0\n",
            "  prompt_toolkit     conda-forge/noarch::prompt_toolkit-3.0.5-0\n",
            "  protobuf           conda-forge/linux-64::protobuf-3.12.3-py37h3340039_0\n",
            "  pthread-stubs      conda-forge/linux-64::pthread-stubs-0.4-h14c3975_1001\n",
            "  ptyprocess         conda-forge/noarch::ptyprocess-0.6.0-py_1001\n",
            "  py-boost           pkgs/main/linux-64::py-boost-1.67.0-py37h04863e7_4\n",
            "  py-xgboost         conda-forge/linux-64::py-xgboost-1.0.2-py37hc8dfbb8_1\n",
            "  pygments           conda-forge/noarch::pygments-2.6.1-py_0\n",
            "  pyparsing          conda-forge/noarch::pyparsing-2.4.7-pyh9f0ad1d_0\n",
            "  pyqt               conda-forge/linux-64::pyqt-5.9.2-py37hcca6a23_4\n",
            "  pyrsistent         conda-forge/linux-64::pyrsistent-0.16.0-py37h8f50634_0\n",
            "  pytables           conda-forge/linux-64::pytables-3.6.1-py37h9f153d1_1\n",
            "  python-dateutil    conda-forge/noarch::python-dateutil-2.8.1-py_0\n",
            "  python_abi         conda-forge/linux-64::python_abi-3.7-1_cp37m\n",
            "  pytz               conda-forge/noarch::pytz-2020.1-pyh9f0ad1d_0\n",
            "  pyzmq              conda-forge/linux-64::pyzmq-19.0.1-py37hac76be4_0\n",
            "  qt                 conda-forge/linux-64::qt-5.9.7-h52cfd70_2\n",
            "  qtconsole          conda-forge/noarch::qtconsole-4.7.4-pyh9f0ad1d_0\n",
            "  qtpy               conda-forge/noarch::qtpy-1.9.0-py_0\n",
            "  rdkit              rdkit/linux-64::rdkit-2020.03.2.0-py37hc20afe1_1\n",
            "  scikit-learn       conda-forge/linux-64::scikit-learn-0.23.1-py37h8a51577_0\n",
            "  scipy              conda-forge/linux-64::scipy-1.4.1-py37ha3d9a3c_3\n",
            "  send2trash         conda-forge/noarch::send2trash-1.5.0-py_0\n",
            "  simdna             deepchem/noarch::simdna-0.4.2-py_0\n",
            "  sip                conda-forge/linux-64::sip-4.19.8-py37hf484d3e_1000\n",
            "  snappy             conda-forge/linux-64::snappy-1.1.8-he1b5a44_1\n",
            "  tensorboard        conda-forge/linux-64::tensorboard-1.14.0-py37_0\n",
            "  tensorflow         pkgs/main/linux-64::tensorflow-1.14.0-gpu_py37h74c33d7_0\n",
            "  tensorflow-base    pkgs/main/linux-64::tensorflow-base-1.14.0-gpu_py37he45bfe2_0\n",
            "  tensorflow-estima~ conda-forge/linux-64::tensorflow-estimator-1.14.0-py37h5ca1d4c_0\n",
            "  tensorflow-gpu     pkgs/main/linux-64::tensorflow-gpu-1.14.0-h0d30ee6_0\n",
            "  termcolor          conda-forge/noarch::termcolor-1.1.0-py_2\n",
            "  terminado          conda-forge/linux-64::terminado-0.8.3-py37hc8dfbb8_1\n",
            "  testpath           conda-forge/noarch::testpath-0.4.4-py_0\n",
            "  threadpoolctl      conda-forge/noarch::threadpoolctl-2.1.0-pyh5ca1d4c_0\n",
            "  tornado            conda-forge/linux-64::tornado-6.0.4-py37h8f50634_1\n",
            "  traitlets          conda-forge/linux-64::traitlets-4.3.3-py37hc8dfbb8_1\n",
            "  wcwidth            conda-forge/noarch::wcwidth-0.2.4-pyh9f0ad1d_0\n",
            "  webencodings       conda-forge/noarch::webencodings-0.5.1-py_1\n",
            "  werkzeug           conda-forge/noarch::werkzeug-1.0.1-pyh9f0ad1d_0\n",
            "  widgetsnbextension conda-forge/linux-64::widgetsnbextension-3.5.1-py37_0\n",
            "  wrapt              conda-forge/linux-64::wrapt-1.12.1-py37h8f50634_1\n",
            "  xgboost            conda-forge/linux-64::xgboost-1.0.2-py37h3340039_1\n",
            "  xorg-kbproto       conda-forge/linux-64::xorg-kbproto-1.0.7-h14c3975_1002\n",
            "  xorg-libice        conda-forge/linux-64::xorg-libice-1.0.10-h516909a_0\n",
            "  xorg-libsm         conda-forge/linux-64::xorg-libsm-1.2.3-h84519dc_1000\n",
            "  xorg-libx11        conda-forge/linux-64::xorg-libx11-1.6.9-h516909a_0\n",
            "  xorg-libxau        conda-forge/linux-64::xorg-libxau-1.0.9-h14c3975_0\n",
            "  xorg-libxdmcp      conda-forge/linux-64::xorg-libxdmcp-1.1.3-h516909a_0\n",
            "  xorg-libxext       conda-forge/linux-64::xorg-libxext-1.3.4-h516909a_0\n",
            "  xorg-libxrender    conda-forge/linux-64::xorg-libxrender-0.9.10-h516909a_1002\n",
            "  xorg-renderproto   conda-forge/linux-64::xorg-renderproto-0.11.1-h14c3975_1002\n",
            "  xorg-xextproto     conda-forge/linux-64::xorg-xextproto-7.3.0-h14c3975_1002\n",
            "  xorg-xproto        conda-forge/linux-64::xorg-xproto-7.0.31-h14c3975_1007\n",
            "  zeromq             conda-forge/linux-64::zeromq-4.3.2-he1b5a44_2\n",
            "  zipp               conda-forge/noarch::zipp-3.1.0-py_0\n",
            "  zstd               conda-forge/linux-64::zstd-1.4.4-h3b9ef0a_2\n",
            "\n",
            "The following packages will be UPDATED:\n",
            "\n",
            "  ca-certificates     pkgs/main::ca-certificates-2020.1.1-0 --> conda-forge::ca-certificates-2020.4.5.2-hecda079_0\n",
            "  certifi              pkgs/main::certifi-2019.11.28-py37_0 --> conda-forge::certifi-2020.4.5.2-py37hc8dfbb8_0\n",
            "  conda                       pkgs/main::conda-4.8.2-py37_0 --> conda-forge::conda-4.8.3-py37hc8dfbb8_1\n",
            "  openssl              pkgs/main::openssl-1.1.1d-h7b6447c_4 --> conda-forge::openssl-1.1.1g-h516909a_0\n",
            "\n",
            "\n",
            "\n",
            "Downloading and Extracting Packages\n",
            "jedi-0.17.0          | 807 KB    | : 100% 1.0/1 [00:00<00:00,  3.76s/it]                 \n",
            "libxml2-2.9.9        | 1.3 MB    | : 100% 1.0/1 [00:00<00:00,  2.18it/s]\n",
            "zeromq-4.3.2         | 668 KB    | : 100% 1.0/1 [00:00<00:00,  5.11it/s]\n",
            "simdna-0.4.2         | 627 KB    | : 100% 1.0/1 [00:01<00:00,  8.97s/it]                \n",
            "xorg-libxau-1.0.9    | 13 KB     | : 100% 1.0/1 [00:00<00:00, 22.93it/s]\n",
            "jpeg-9d              | 266 KB    | : 100% 1.0/1 [00:00<00:00,  9.29it/s]\n",
            "deepchem-gpu-2.3.0   | 2.1 MB    | : 100% 1.0/1 [00:01<00:00, 34.17s/it]               \n",
            "ca-certificates-2020 | 147 KB    | : 100% 1.0/1 [00:00<00:00, 19.72it/s]\n",
            "astor-0.7.1          | 22 KB     | : 100% 1.0/1 [00:00<00:00, 29.14it/s]\n",
            "dbus-1.13.6          | 602 KB    | : 100% 1.0/1 [00:00<00:00,  5.65it/s]\n",
            "importlib_metadata-1 | 3 KB      | : 100% 1.0/1 [00:00<00:00, 25.26it/s]\n",
            "threadpoolctl-2.1.0  | 15 KB     | : 100% 1.0/1 [00:00<00:00, 24.70it/s]\n",
            "keras-preprocessing- | 33 KB     | : 100% 1.0/1 [00:00<00:00, 23.44it/s]\n",
            "xorg-renderproto-0.1 | 8 KB      | : 100% 1.0/1 [00:00<00:00, 25.35it/s]\n",
            "pyparsing-2.4.7      | 60 KB     | : 100% 1.0/1 [00:00<00:00, 19.15it/s]\n",
            "jupyter-1.0.0        | 4 KB      | : 100% 1.0/1 [00:00<00:00, 28.21it/s]\n",
            "joblib-0.15.1        | 202 KB    | : 100% 1.0/1 [00:00<00:00,  9.82it/s]\n",
            "pygments-2.6.1       | 683 KB    | : 100% 1.0/1 [00:00<00:00,  4.17it/s]\n",
            "pthread-stubs-0.4    | 5 KB      | : 100% 1.0/1 [00:00<00:00, 34.71it/s]\n",
            "lzo-2.10             | 319 KB    | : 100% 1.0/1 [00:00<00:00,  8.95it/s]\n",
            "scikit-learn-0.23.1  | 6.8 MB    | : 100% 1.0/1 [00:01<00:00,  1.85s/it]\n",
            "markdown-3.2.2       | 61 KB     | : 100% 1.0/1 [00:00<00:00, 18.52it/s]\n",
            "tensorboard-1.14.0   | 3.2 MB    | : 100% 1.0/1 [00:00<00:00,  1.64it/s]\n",
            "notebook-6.0.3       | 6.3 MB    | : 100% 1.0/1 [00:01<00:00,  1.73s/it]\n",
            "sip-4.19.8           | 290 KB    | : 100% 1.0/1 [00:00<00:00, 12.33it/s]\n",
            "libblas-3.8.0        | 10 KB     | : 100% 1.0/1 [00:00<00:00, 31.59it/s]\n",
            "libtiff-4.1.0        | 668 KB    | : 100% 1.0/1 [00:00<00:00,  5.57it/s]\n",
            "pdbfixer-1.6         | 190 KB    | : 100% 1.0/1 [00:00<00:00,  3.61s/it]              \n",
            "zipp-3.1.0           | 10 KB     | : 100% 1.0/1 [00:00<00:00, 28.14it/s]\n",
            "markupsafe-1.1.1     | 26 KB     | : 100% 1.0/1 [00:00<00:00, 22.27it/s]\n",
            "jupyter_console-6.1. | 21 KB     | : 100% 1.0/1 [00:00<00:00, 24.50it/s]\n",
            "jsonschema-3.2.0     | 89 KB     | : 100% 1.0/1 [00:00<00:00, 15.51it/s]\n",
            "c-ares-1.15.0        | 100 KB    | : 100% 1.0/1 [00:00<00:00, 19.00it/s]\n",
            "cairo-1.16.0         | 1.5 MB    | : 100% 1.0/1 [00:00<00:00,  2.34it/s]\n",
            "widgetsnbextension-3 | 1.8 MB    | : 100% 1.0/1 [00:00<00:00,  1.97it/s]\n",
            "xorg-xproto-7.0.31   | 72 KB     | : 100% 1.0/1 [00:00<00:00, 20.67it/s]\n",
            "ptyprocess-0.6.0     | 15 KB     | : 100% 1.0/1 [00:00<00:00, 29.50it/s]\n",
            "scipy-1.4.1          | 18.8 MB   | : 100% 1.0/1 [00:04<00:00,  4.20s/it]               \n",
            "tensorflow-estimator | 645 KB    | : 100% 1.0/1 [00:00<00:00,  3.36it/s]\n",
            "glib-2.64.3          | 3.4 MB    | : 100% 1.0/1 [00:01<00:00,  1.04s/it]\n",
            "libboost-1.67.0      | 13.0 MB   | : 100% 1.0/1 [00:02<00:00,  2.03s/it]               \n",
            "pytables-3.6.1       | 1.5 MB    | : 100% 1.0/1 [00:00<00:00,  2.26it/s]\n",
            "openssl-1.1.1g       | 2.1 MB    | : 100% 1.0/1 [00:00<00:00,  2.45it/s]\n",
            "gettext-0.19.8.1     | 3.6 MB    | : 100% 1.0/1 [00:01<00:00,  1.04s/it]\n",
            "cycler-0.10.0        | 9 KB      | : 100% 1.0/1 [00:00<00:00, 27.94it/s]\n",
            "pixman-0.38.0        | 594 KB    | : 100% 1.0/1 [00:00<00:00,  6.84it/s]\n",
            "decorator-4.4.2      | 11 KB     | : 100% 1.0/1 [00:00<00:00, 26.99it/s]\n",
            "termcolor-1.1.0      | 6 KB      | : 100% 1.0/1 [00:00<00:00, 20.94it/s]\n",
            "bleach-3.1.5         | 112 KB    | : 100% 1.0/1 [00:00<00:00, 13.02it/s]\n",
            "matplotlib-3.1.2     | 5.0 MB    | : 100% 1.0/1 [00:00<00:00,  3.81it/s]\n",
            "libsodium-1.0.17     | 330 KB    | : 100% 1.0/1 [00:00<00:00,  9.34it/s]\n",
            "gstreamer-1.14.5     | 4.5 MB    | : 100% 1.0/1 [00:00<00:00,  1.02it/s]\n",
            "libopenblas-0.3.7    | 7.6 MB    | : 100% 1.0/1 [00:01<00:00,  1.46s/it]               \n",
            "zstd-1.4.4           | 982 KB    | : 100% 1.0/1 [00:00<00:00,  4.04it/s]\n",
            "pytz-2020.1          | 227 KB    | : 100% 1.0/1 [00:00<00:00,  6.76it/s]\n",
            "prompt-toolkit-3.0.5 | 232 KB    | : 100% 1.0/1 [00:00<00:00,  7.62it/s]\n",
            "ipykernel-5.3.0      | 164 KB    | : 100% 1.0/1 [00:00<00:00, 11.50it/s]\n",
            "grpcio-1.23.0        | 1.1 MB    | : 100% 1.0/1 [00:00<00:00,  4.04it/s]\n",
            "wcwidth-0.2.4        | 33 KB     | : 100% 1.0/1 [00:00<00:00, 18.31it/s]\n",
            "send2trash-1.5.0     | 12 KB     | : 100% 1.0/1 [00:00<00:00, 20.60it/s]\n",
            "pexpect-4.8.0        | 79 KB     | : 100% 1.0/1 [00:00<00:00, 18.94it/s]\n",
            "cupti-10.1.168       | 1.4 MB    | : 100% 1.0/1 [00:00<00:00,  8.33it/s]\n",
            "numexpr-2.7.1        | 197 KB    | : 100% 1.0/1 [00:00<00:00, 12.73it/s]\n",
            "tensorflow-gpu-1.14. | 3 KB      | : 100% 1.0/1 [00:00<00:00, 11.85it/s]\n",
            "tensorflow-1.14.0    | 4 KB      | : 100% 1.0/1 [00:00<00:00, 11.90it/s]\n",
            "libwebp-base-1.1.0   | 845 KB    | : 100% 1.0/1 [00:00<00:00,  4.98it/s]\n",
            "tornado-6.0.4        | 639 KB    | : 100% 1.0/1 [00:00<00:00,  4.62it/s]\n",
            "backcall-0.1.0       | 13 KB     | : 100% 1.0/1 [00:00<00:00, 29.01it/s]\n",
            "python-dateutil-2.8. | 220 KB    | : 100% 1.0/1 [00:00<00:00, 15.80it/s]\n",
            "olefile-0.46         | 31 KB     | : 100% 1.0/1 [00:00<00:00, 26.54it/s]\n",
            "_py-xgboost-mutex-2. | 8 KB      | : 100% 1.0/1 [00:00<00:00, 28.97it/s]\n",
            "conda-4.8.3          | 3.0 MB    | : 100% 1.0/1 [00:00<00:00,  1.27it/s]\n",
            "fontconfig-2.13.1    | 327 KB    | : 100% 1.0/1 [00:00<00:00,  9.43it/s]\n",
            "qtpy-1.9.0           | 34 KB     | : 100% 1.0/1 [00:00<00:00, 19.15it/s]\n",
            "xorg-xextproto-7.3.0 | 27 KB     | : 100% 1.0/1 [00:00<00:00, 25.70it/s]\n",
            "py-xgboost-1.0.2     | 2.2 MB    | : 100% 1.0/1 [00:00<00:00,  1.62it/s]\n",
            "ipython_genutils-0.2 | 21 KB     | : 100% 1.0/1 [00:00<00:00, 25.90it/s]\n",
            "expat-2.2.9          | 191 KB    | : 100% 1.0/1 [00:00<00:00, 13.47it/s]\n",
            "libuuid-2.32.1       | 26 KB     | : 100% 1.0/1 [00:00<00:00, 30.02it/s]\n",
            "libxcb-1.13          | 396 KB    | : 100% 1.0/1 [00:00<00:00,  5.87it/s]\n",
            "webencodings-0.5.1   | 12 KB     | : 100% 1.0/1 [00:00<00:00, 30.85it/s]\n",
            "kiwisolver-1.2.0     | 87 KB     | : 100% 1.0/1 [00:00<00:00, 20.91it/s]\n",
            "pyqt-5.9.2           | 5.7 MB    | : 100% 1.0/1 [00:01<00:00,  1.49s/it]\n",
            "libiconv-1.15        | 2.0 MB    | : 100% 1.0/1 [00:00<00:00,  3.23it/s]\n",
            "absl-py-0.9.0        | 162 KB    | : 100% 1.0/1 [00:00<00:00,  8.43it/s]\n",
            "prometheus_client-0. | 44 KB     | : 100% 1.0/1 [00:00<00:00, 18.71it/s]\n",
            "keras-applications-1 | 30 KB     | : 100% 1.0/1 [00:00<00:00,  3.97it/s]\n",
            "importlib-metadata-1 | 44 KB     | : 100% 1.0/1 [00:00<00:00, 22.94it/s]\n",
            "traitlets-4.3.3      | 133 KB    | : 100% 1.0/1 [00:00<00:00, 14.00it/s]\n",
            "blosc-1.19.0         | 887 KB    | : 100% 1.0/1 [00:00<00:00,  4.88it/s]\n",
            "libprotobuf-3.12.3   | 4.9 MB    | : 100% 1.0/1 [00:01<00:00,  1.18s/it]\n",
            "xorg-libxdmcp-1.1.3  | 18 KB     | : 100% 1.0/1 [00:00<00:00, 32.53it/s]\n",
            "pandocfilters-1.4.2  | 9 KB      | : 100% 1.0/1 [00:00<00:00, 29.30it/s]\n",
            "protobuf-3.12.3      | 702 KB    | : 100% 1.0/1 [00:00<00:00,  3.77it/s]\n",
            "nbformat-5.0.6       | 99 KB     | : 100% 1.0/1 [00:00<00:00, 16.58it/s]\n",
            "hdf5-1.10.5          | 3.1 MB    | : 100% 1.0/1 [00:00<00:00,  1.71it/s]\n",
            "terminado-0.8.3      | 23 KB     | : 100% 1.0/1 [00:00<00:00, 23.21it/s]\n",
            "openmm-7.4.2         | 11.9 MB   | : 100% 1.0/1 [00:04<00:00, 85.69s/it]               \n",
            "xorg-libx11-1.6.9    | 918 KB    | : 100% 1.0/1 [00:00<00:00,  4.62it/s]\n",
            "ipython-7.15.0       | 1.1 MB    | : 100% 1.0/1 [00:00<00:00,  2.57it/s]\n",
            "xorg-libxext-1.3.4   | 51 KB     | : 100% 1.0/1 [00:00<00:00, 21.56it/s]\n",
            "tensorflow-base-1.14 | 146.3 MB  | : 100% 1.0/1 [00:09<00:00,  9.96s/it]               \n",
            "py-boost-1.67.0      | 278 KB    | : 100% 1.0/1 [00:00<00:00,  8.50it/s]\n",
            "xorg-libsm-1.2.3     | 25 KB     | : 100% 1.0/1 [00:00<00:00, 15.35it/s]\n",
            "prompt_toolkit-3.0.5 | 4 KB      | : 100% 1.0/1 [00:00<00:00,  6.10it/s]\n",
            "certifi-2020.4.5.2   | 152 KB    | : 100% 1.0/1 [00:00<00:00, 16.22it/s]\n",
            "qtconsole-4.7.4      | 88 KB     | : 100% 1.0/1 [00:00<00:00, 14.59it/s]\n",
            "xgboost-1.0.2        | 11 KB     | : 100% 1.0/1 [00:00<00:00, 21.34it/s]\n",
            "fftw3f-3.3.4         | 1.2 MB    | : 100% 1.0/1 [00:01<00:00, 14.58s/it]               \n",
            "ipywidgets-7.5.1     | 101 KB    | : 100% 1.0/1 [00:00<00:00, 16.13it/s]\n",
            "gast-0.3.3           | 12 KB     | : 100% 1.0/1 [00:00<00:00, 25.02it/s]\n",
            "jupyter_core-4.6.3   | 71 KB     | : 100% 1.0/1 [00:00<00:00, 18.97it/s]\n",
            "networkx-2.4         | 1.2 MB    | : 100% 1.0/1 [00:00<00:00,  2.63it/s]\n",
            "gst-plugins-base-1.1 | 6.8 MB    | : 100% 1.0/1 [00:01<00:00,  1.35s/it]\n",
            "lz4-c-1.8.3          | 187 KB    | : 100% 1.0/1 [00:00<00:00,  9.98it/s]\n",
            "pandoc-2.9.2.1       | 18.7 MB   | : 100% 1.0/1 [00:05<00:00,  2.95s/it]               \n",
            "xorg-kbproto-1.0.7   | 26 KB     | : 100% 1.0/1 [00:00<00:00, 26.23it/s]\n",
            "attrs-19.3.0         | 35 KB     | : 100% 1.0/1 [00:00<00:00, 10.55it/s]\n",
            "python_abi-3.7       | 4 KB      | : 100% 1.0/1 [00:00<00:00, 32.31it/s]\n",
            "defusedxml-0.6.0     | 22 KB     | : 100% 1.0/1 [00:00<00:00, 28.73it/s]\n",
            "libxgboost-1.0.2     | 2.8 MB    | : 100% 1.0/1 [00:00<00:00,  1.71it/s]\n",
            "xorg-libxrender-0.9. | 31 KB     | : 100% 1.0/1 [00:00<00:00, 21.67it/s]\n",
            "qt-5.9.7             | 85.9 MB   | : 100% 1.0/1 [00:17<00:00, 17.89s/it]               \n",
            "cython-0.29.19       | 2.1 MB    | : 100% 1.0/1 [00:00<00:00,  1.84it/s]\n",
            "liblapack-3.8.0      | 10 KB     | : 100% 1.0/1 [00:00<00:00, 25.24it/s]\n",
            "google-pasta-0.2.0   | 42 KB     | : 100% 1.0/1 [00:00<00:00, 16.58it/s]\n",
            "mock-4.0.2           | 51 KB     | : 100% 1.0/1 [00:00<00:00, 22.05it/s]\n",
            "entrypoints-0.3      | 12 KB     | : 100% 1.0/1 [00:00<00:00, 27.21it/s]\n",
            "pyrsistent-0.16.0    | 89 KB     | : 100% 1.0/1 [00:00<00:00, 18.44it/s]\n",
            "h5py-2.10.0          | 1.2 MB    | : 100% 1.0/1 [00:00<00:00,  3.30it/s]\n",
            "freetype-2.10.2      | 905 KB    | : 100% 1.0/1 [00:00<00:00,  5.09it/s]\n",
            "icu-58.2             | 22.6 MB   | : 100% 1.0/1 [00:04<00:00,  4.15s/it]               \n",
            "libcblas-3.8.0       | 10 KB     | : 100% 1.0/1 [00:00<00:00, 33.37it/s]\n",
            "pillow-5.3.0         | 595 KB    | : 100% 1.0/1 [00:00<00:00,  5.35it/s]\n",
            "jinja2-2.11.2        | 93 KB     | : 100% 1.0/1 [00:00<00:00, 17.92it/s]\n",
            "cudatoolkit-10.1.243 | 347.4 MB  | : 100% 1.0/1 [00:08<00:00,  8.49s/it]               \n",
            "snappy-1.1.8         | 39 KB     | : 100% 1.0/1 [00:00<00:00, 21.46it/s]\n",
            "pandas-1.0.4         | 10.1 MB   | : 100% 1.0/1 [00:03<00:00,  2.28s/it]              \n",
            "libpng-1.6.37        | 308 KB    | : 100% 1.0/1 [00:00<00:00,  8.09it/s]\n",
            "libgfortran-ng-7.5.0 | 1.7 MB    | : 100% 1.0/1 [00:00<00:00,  2.75it/s]\n",
            "jupyter_client-6.1.3 | 74 KB     | : 100% 1.0/1 [00:00<00:00, 16.83it/s]\n",
            "parso-0.7.0          | 67 KB     | : 100% 1.0/1 [00:00<00:00, 20.69it/s]\n",
            "packaging-20.4       | 32 KB     | : 100% 1.0/1 [00:00<00:00, 20.74it/s]\n",
            "bzip2-1.0.8          | 396 KB    | : 100% 1.0/1 [00:00<00:00,  7.91it/s]\n",
            "_tflow_select-2.1.0  | 2 KB      | : 100% 1.0/1 [00:00<00:00, 12.36it/s]\n",
            "mistune-0.8.4        | 53 KB     | : 100% 1.0/1 [00:00<00:00, 19.51it/s]\n",
            "wrapt-1.12.1         | 46 KB     | : 100% 1.0/1 [00:00<00:00, 25.40it/s]\n",
            "testpath-0.4.4       | 85 KB     | : 100% 1.0/1 [00:00<00:00, 19.88it/s]\n",
            "pyzmq-19.0.1         | 519 KB    | : 100% 1.0/1 [00:00<00:00,  5.40it/s]\n",
            "cudnn-7.6.5          | 179.9 MB  | : 100% 1.0/1 [00:10<00:00, 10.70s/it]               \n",
            "nbconvert-5.6.1      | 487 KB    | : 100% 1.0/1 [00:00<00:00,  6.27it/s]\n",
            "pcre-8.44            | 261 KB    | : 100% 1.0/1 [00:00<00:00, 11.09it/s]\n",
            "pickleshare-0.7.5    | 13 KB     | : 100% 1.0/1 [00:00<00:00, 26.17it/s]\n",
            "rdkit-2020.03.2.0    | 24.8 MB   | : 100% 1.0/1 [00:06<00:00,  6.18s/it]               \n",
            "xorg-libice-1.0.10   | 57 KB     | : 100% 1.0/1 [00:00<00:00, 21.15it/s]\n",
            "numpy-1.18.5         | 5.1 MB    | : 100% 1.0/1 [00:01<00:00,  1.26s/it]\n",
            "werkzeug-1.0.1       | 239 KB    | : 100% 1.0/1 [00:00<00:00,  9.92it/s]\n",
            "mdtraj-1.9.4         | 1.8 MB    | : 100% 1.0/1 [00:00<00:00,  2.39it/s]\n",
            "Preparing transaction: / \b\b- \b\b\\ \b\b| \b\b/ \b\b- \b\b\\ \b\b| \b\b/ \b\b- \b\b\\ \b\b| \b\b/ \b\b- \b\b\\ \b\b| \b\b/ \b\b- \b\b\\ \b\b| \b\b/ \b\b- \b\b\\ \b\b| \b\bdone\n",
            "Verifying transaction: - \b\b\\ \b\b| \b\b/ \b\b- \b\b\\ \b\b| \b\b/ \b\b- \b\b\\ \b\b| \b\b/ \b\b- \b\b\\ \b\b| \b\b/ \b\b- \b\b\\ \b\b| \b\b/ \b\b- \b\b\\ \b\b| \b\b/ \b\b- \b\b\\ \b\b| \b\b/ \b\b- \b\b\\ \b\b| \b\b/ \b\b- \b\b\\ \b\b| \b\b/ \b\b- \b\b\\ \b\b| \b\b/ \b\b- \b\b\\ \b\b| \b\b/ \b\b- \b\b\\ \b\b| \b\b/ \b\b- \b\b\\ \b\b| \b\b/ \b\b- \b\b\\ \b\b| \b\b/ \b\b- \b\b\\ \b\b| \b\b/ \b\b- \b\b\\ \b\b| \b\b/ \b\b- \b\b\\ \b\b| \b\b/ \b\bdone\n",
            "Executing transaction: \\ \b\b| \b\b/ \b\b- \b\b\\ \b\b| \b\b/ \b\b- \b\b\\ \b\b| \b\b/ \b\b- \b\b\\ \b\b| \b\b/ \b\b- \b\b\\ \b\b| \b\b/ \b\b- \b\b\\ \b\b| \b\b/ \b\b- \b\b\\ \b\b| \b\b/ \b\b- \b\b\\ \b\b| \b\b/ \b\b- \b\b\\ \b\b| \b\b/ \b\b- \b\b\\ \b\b| \b\b/ \b\b- \b\b\\ \b\b| \b\b/ \b\b- b'Enabling notebook extension jupyter-js-widgets/extension...\\nPaths used for configuration of notebook: \\n    \\t/usr/local/etc/jupyter/nbconfig/notebook.d/plotlywidget.json\\n    \\t/usr/local/etc/jupyter/nbconfig/notebook.d/widgetsnbextension.json\\n    \\t/usr/local/etc/jupyter/nbconfig/notebook.json\\nPaths used for configuration of notebook: \\n    \\t/usr/local/etc/jupyter/nbconfig/notebook.d/plotlywidget.json\\n    \\t/usr/local/etc/jupyter/nbconfig/notebook.d/widgetsnbextension.json\\n      - Validating: \\x1b[32mOK\\x1b[0m\\nPaths used for configuration of notebook: \\n    \\t/usr/local/etc/jupyter/nbconfig/notebook.d/plotlywidget.json\\n    \\t/usr/local/etc/jupyter/nbconfig/notebook.d/widgetsnbextension.json\\n    \\t/usr/local/etc/jupyter/nbconfig/notebook.json\\n'\n",
            "\b\b\\ \b\b| \b\b/ \b\b- \b\b\\ \b\b| \b\b/ \b\b- \b\b\\ \b\b| \b\b/ \b\b- \b\b\\ \b\b| \b\b/ \b\b- \b\b\\ \b\b| \b\b/ \b\b- \b\b\\ \b\b| \b\b/ \b\b- \b\b\\ \b\b| \b\b/ \b\b- \b\b\\ \b\b| \b\b/ \b\b- \b\b\\ \b\b| \b\b/ \b\b- \b\b\\ \b\b| \b\b/ \b\b- \b\b\\ \b\b| \b\b/ \b\b- \b\b\\ \b\b| \b\b/ \b\b- \b\b\\ \b\b| \b\b/ \b\b- \b\b\\ \b\b| \b\b/ \b\b- \b\b\\ \b\b| \b\b/ \b\b- \b\bdone\n"
          ],
          "name": "stdout"
        }
      ]
    },
    {
      "cell_type": "code",
      "metadata": {
        "id": "vjmWGAsPIX0k",
        "colab_type": "code",
        "outputId": "53d7510e-69ec-4980-b39b-30153e5ba013",
        "colab": {
          "base_uri": "https://localhost:8080/",
          "height": 232
        }
      },
      "source": [
        "import tensorflow as tf\n",
        "print(\"tf.__version__: %s\" % str(tf.__version__))\n",
        "device_name = tf.test.gpu_device_name()\n",
        "if not device_name:\n",
        "  raise SystemError('GPU device not found')\n",
        "print('Found GPU at: {}'.format(device_name))"
      ],
      "execution_count": 2,
      "outputs": [
        {
          "output_type": "stream",
          "text": [
            "tf.__version__: 2.2.0\n"
          ],
          "name": "stdout"
        },
        {
          "output_type": "error",
          "ename": "SystemError",
          "evalue": "ignored",
          "traceback": [
            "\u001b[0;31m---------------------------------------------------------------------------\u001b[0m",
            "\u001b[0;31mSystemError\u001b[0m                               Traceback (most recent call last)",
            "\u001b[0;32m<ipython-input-2-7c1227d29e25>\u001b[0m in \u001b[0;36m<module>\u001b[0;34m()\u001b[0m\n\u001b[1;32m      3\u001b[0m \u001b[0mdevice_name\u001b[0m \u001b[0;34m=\u001b[0m \u001b[0mtf\u001b[0m\u001b[0;34m.\u001b[0m\u001b[0mtest\u001b[0m\u001b[0;34m.\u001b[0m\u001b[0mgpu_device_name\u001b[0m\u001b[0;34m(\u001b[0m\u001b[0;34m)\u001b[0m\u001b[0;34m\u001b[0m\u001b[0;34m\u001b[0m\u001b[0m\n\u001b[1;32m      4\u001b[0m \u001b[0;32mif\u001b[0m \u001b[0;32mnot\u001b[0m \u001b[0mdevice_name\u001b[0m\u001b[0;34m:\u001b[0m\u001b[0;34m\u001b[0m\u001b[0;34m\u001b[0m\u001b[0m\n\u001b[0;32m----> 5\u001b[0;31m   \u001b[0;32mraise\u001b[0m \u001b[0mSystemError\u001b[0m\u001b[0;34m(\u001b[0m\u001b[0;34m'GPU device not found'\u001b[0m\u001b[0;34m)\u001b[0m\u001b[0;34m\u001b[0m\u001b[0;34m\u001b[0m\u001b[0m\n\u001b[0m\u001b[1;32m      6\u001b[0m \u001b[0mprint\u001b[0m\u001b[0;34m(\u001b[0m\u001b[0;34m'Found GPU at: {}'\u001b[0m\u001b[0;34m.\u001b[0m\u001b[0mformat\u001b[0m\u001b[0;34m(\u001b[0m\u001b[0mdevice_name\u001b[0m\u001b[0;34m)\u001b[0m\u001b[0;34m)\u001b[0m\u001b[0;34m\u001b[0m\u001b[0;34m\u001b[0m\u001b[0m\n",
            "\u001b[0;31mSystemError\u001b[0m: GPU device not found"
          ]
        }
      ]
    },
    {
      "cell_type": "code",
      "metadata": {
        "id": "S49EDLC9IeR9",
        "colab_type": "code",
        "outputId": "de61daf1-46e5-466b-e22a-9fb7e5484fea",
        "colab": {
          "base_uri": "https://localhost:8080/",
          "height": 136
        }
      },
      "source": [
        "!git clone https://github.com/deepchem/deepchem.git"
      ],
      "execution_count": 4,
      "outputs": [
        {
          "output_type": "stream",
          "text": [
            "Cloning into 'deepchem'...\n",
            "remote: Enumerating objects: 44, done.\u001b[K\n",
            "remote: Counting objects:   2% (1/44)\u001b[K\rremote: Counting objects:   4% (2/44)\u001b[K\rremote: Counting objects:   6% (3/44)\u001b[K\rremote: Counting objects:   9% (4/44)\u001b[K\rremote: Counting objects:  11% (5/44)\u001b[K\rremote: Counting objects:  13% (6/44)\u001b[K\rremote: Counting objects:  15% (7/44)\u001b[K\rremote: Counting objects:  18% (8/44)\u001b[K\rremote: Counting objects:  20% (9/44)\u001b[K\rremote: Counting objects:  22% (10/44)\u001b[K\rremote: Counting objects:  25% (11/44)\u001b[K\rremote: Counting objects:  27% (12/44)\u001b[K\rremote: Counting objects:  29% (13/44)\u001b[K\rremote: Counting objects:  31% (14/44)\u001b[K\rremote: Counting objects:  34% (15/44)\u001b[K\rremote: Counting objects:  36% (16/44)\u001b[K\rremote: Counting objects:  38% (17/44)\u001b[K\rremote: Counting objects:  40% (18/44)\u001b[K\rremote: Counting objects:  43% (19/44)\u001b[K\rremote: Counting objects:  45% (20/44)\u001b[K\rremote: Counting objects:  47% (21/44)\u001b[K\rremote: Counting objects:  50% (22/44)\u001b[K\rremote: Counting objects:  52% (23/44)\u001b[K\rremote: Counting objects:  54% (24/44)\u001b[K\rremote: Counting objects:  56% (25/44)\u001b[K\rremote: Counting objects:  59% (26/44)\u001b[K\rremote: Counting objects:  61% (27/44)\u001b[K\rremote: Counting objects:  63% (28/44)\u001b[K\rremote: Counting objects:  65% (29/44)\u001b[K\rremote: Counting objects:  68% (30/44)\u001b[K\rremote: Counting objects:  70% (31/44)\u001b[K\rremote: Counting objects:  72% (32/44)\u001b[K\rremote: Counting objects:  75% (33/44)\u001b[K\rremote: Counting objects:  77% (34/44)\u001b[K\rremote: Counting objects:  79% (35/44)\u001b[K\rremote: Counting objects:  81% (36/44)\u001b[K\rremote: Counting objects:  84% (37/44)\u001b[K\rremote: Counting objects:  86% (38/44)\u001b[K\rremote: Counting objects:  88% (39/44)\u001b[K\rremote: Counting objects:  90% (40/44)\u001b[K\rremote: Counting objects:  93% (41/44)\u001b[K\rremote: Counting objects:  95% (42/44)\u001b[K\rremote: Counting objects:  97% (43/44)\u001b[K\rremote: Counting objects: 100% (44/44)\u001b[K\rremote: Counting objects: 100% (44/44), done.\u001b[K\n",
            "remote: Compressing objects: 100% (35/35), done.\u001b[K\n",
            "remote: Total 31864 (delta 11), reused 20 (delta 8), pack-reused 31820\u001b[K\n",
            "Receiving objects: 100% (31864/31864), 439.00 MiB | 37.36 MiB/s, done.\n",
            "Resolving deltas: 100% (23471/23471), done.\n"
          ],
          "name": "stdout"
        }
      ]
    },
    {
      "cell_type": "code",
      "metadata": {
        "id": "eVANNwVGIsCD",
        "colab_type": "code",
        "outputId": "92bfcb17-e19c-40de-ab73-8cffdd8c1fbc",
        "colab": {
          "base_uri": "https://localhost:8080/",
          "height": 34
        }
      },
      "source": [
        "%cd deepchem/"
      ],
      "execution_count": 5,
      "outputs": [
        {
          "output_type": "stream",
          "text": [
            "/content/deepchem\n"
          ],
          "name": "stdout"
        }
      ]
    },
    {
      "cell_type": "code",
      "metadata": {
        "id": "r1W63OsPIwQQ",
        "colab_type": "code",
        "outputId": "6608addb-0778-4288-966e-da2bda578188",
        "colab": {
          "base_uri": "https://localhost:8080/",
          "height": 1000
        }
      },
      "source": [
        "!python setup.py install"
      ],
      "execution_count": 6,
      "outputs": [
        {
          "output_type": "stream",
          "text": [
            "\u001b[?25l\r\u001b[K     |███                             | 10 kB 19.8 MB/s eta 0:00:01\r\u001b[K     |██████                          | 20 kB 3.1 MB/s eta 0:00:01\r\u001b[K     |█████████                       | 30 kB 4.1 MB/s eta 0:00:01\r\u001b[K     |████████████                    | 40 kB 4.4 MB/s eta 0:00:01\r\u001b[K     |██████████████▉                 | 51 kB 3.5 MB/s eta 0:00:01\r\u001b[K     |█████████████████▉              | 61 kB 3.9 MB/s eta 0:00:01\r\u001b[K     |████████████████████▉           | 71 kB 4.2 MB/s eta 0:00:01\r\u001b[K     |███████████████████████▉        | 81 kB 4.4 MB/s eta 0:00:01\r\u001b[K     |██████████████████████████▊     | 92 kB 4.9 MB/s eta 0:00:01\r\u001b[K     |█████████████████████████████▊  | 102 kB 4.7 MB/s eta 0:00:01\r\u001b[K     |████████████████████████████████| 110 kB 4.7 MB/s \n",
            "\u001b[?25hrunning install\n",
            "[pbr] Writing ChangeLog\n",
            "[pbr] Generating ChangeLog\n",
            "[pbr] ChangeLog complete (0.1s)\n",
            "[pbr] Generating AUTHORS\n",
            "[pbr] AUTHORS complete (0.2s)\n",
            "running build\n",
            "running build_py\n",
            "creating build\n",
            "creating build/lib\n",
            "creating build/lib/deepchem\n",
            "creating build/lib/deepchem/trans\n",
            "creating build/lib/deepchem/trans/tests\n",
            "copying deepchem/trans/tests/__init__.py -> build/lib/deepchem/trans/tests\n",
            "copying deepchem/trans/tests/test_transformers.py -> build/lib/deepchem/trans/tests\n",
            "creating build/lib/deepchem/metrics\n",
            "copying deepchem/metrics/genomic_metrics.py -> build/lib/deepchem/metrics\n",
            "copying deepchem/metrics/__init__.py -> build/lib/deepchem/metrics\n",
            "creating build/lib/deepchem/dock\n",
            "copying deepchem/dock/pose_scoring.py -> build/lib/deepchem/dock\n",
            "copying deepchem/dock/docking.py -> build/lib/deepchem/dock\n",
            "copying deepchem/dock/pose_generation.py -> build/lib/deepchem/dock\n",
            "copying deepchem/dock/binding_pocket.py -> build/lib/deepchem/dock\n",
            "copying deepchem/dock/__init__.py -> build/lib/deepchem/dock\n",
            "creating build/lib/deepchem/models\n",
            "creating build/lib/deepchem/models/xgboost_models\n",
            "copying deepchem/models/xgboost_models/__init__.py -> build/lib/deepchem/models/xgboost_models\n",
            "creating build/lib/deepchem/hyper\n",
            "creating build/lib/deepchem/hyper/tests\n",
            "copying deepchem/hyper/tests/test_hyperparam_opt.py -> build/lib/deepchem/hyper/tests\n",
            "copying deepchem/hyper/tests/__init__.py -> build/lib/deepchem/hyper/tests\n",
            "creating build/lib/deepchem/feat\n",
            "copying deepchem/feat/smiles_featurizers.py -> build/lib/deepchem/feat\n",
            "copying deepchem/feat/adjacency_fingerprints.py -> build/lib/deepchem/feat\n",
            "copying deepchem/feat/binding_pocket_features.py -> build/lib/deepchem/feat\n",
            "copying deepchem/feat/base_classes.py -> build/lib/deepchem/feat\n",
            "copying deepchem/feat/coulomb_matrices.py -> build/lib/deepchem/feat\n",
            "copying deepchem/feat/mol_graphs.py -> build/lib/deepchem/feat\n",
            "copying deepchem/feat/__init__.py -> build/lib/deepchem/feat\n",
            "copying deepchem/feat/fingerprints.py -> build/lib/deepchem/feat\n",
            "copying deepchem/feat/one_hot.py -> build/lib/deepchem/feat\n",
            "copying deepchem/feat/raw_featurizer.py -> build/lib/deepchem/feat\n",
            "copying deepchem/feat/graph_features.py -> build/lib/deepchem/feat\n",
            "copying deepchem/feat/basic.py -> build/lib/deepchem/feat\n",
            "copying deepchem/feat/atomic_coordinates.py -> build/lib/deepchem/feat\n",
            "copying deepchem/feat/rdkit_grid_featurizer.py -> build/lib/deepchem/feat\n",
            "copying deepchem/trans/__init__.py -> build/lib/deepchem/trans\n",
            "copying deepchem/trans/transformers.py -> build/lib/deepchem/trans\n",
            "creating build/lib/deepchem/splits\n",
            "copying deepchem/splits/test_specified_index_splitter.py -> build/lib/deepchem/splits\n",
            "copying deepchem/splits/__init__.py -> build/lib/deepchem/splits\n",
            "copying deepchem/splits/test_scaffold_splitter.py -> build/lib/deepchem/splits\n",
            "copying deepchem/splits/splitters.py -> build/lib/deepchem/splits\n",
            "copying deepchem/splits/task_splitter.py -> build/lib/deepchem/splits\n",
            "creating build/lib/deepchem/rl\n",
            "creating build/lib/deepchem/rl/envs\n",
            "copying deepchem/rl/envs/test_tictactoe.py -> build/lib/deepchem/rl/envs\n",
            "copying deepchem/rl/envs/__init__.py -> build/lib/deepchem/rl/envs\n",
            "copying deepchem/rl/envs/tictactoe.py -> build/lib/deepchem/rl/envs\n",
            "creating build/lib/deepchem/splits/tests\n",
            "copying deepchem/splits/tests/test_splitter.py -> build/lib/deepchem/splits/tests\n",
            "copying deepchem/splits/tests/__init__.py -> build/lib/deepchem/splits/tests\n",
            "copying deepchem/splits/tests/test_task_splitter.py -> build/lib/deepchem/splits/tests\n",
            "creating build/lib/deepchem/models/sklearn_models\n",
            "copying deepchem/models/sklearn_models/__init__.py -> build/lib/deepchem/models/sklearn_models\n",
            "creating build/lib/deepchem/metrics/tests\n",
            "copying deepchem/metrics/tests/test_genomics.py -> build/lib/deepchem/metrics/tests\n",
            "copying deepchem/metrics/tests/__init__.py -> build/lib/deepchem/metrics/tests\n",
            "copying deepchem/metrics/tests/metrics_test.py -> build/lib/deepchem/metrics/tests\n",
            "copying deepchem/models/chemnet_layers.py -> build/lib/deepchem/models\n",
            "copying deepchem/models/models.py -> build/lib/deepchem/models\n",
            "copying deepchem/models/layers.py -> build/lib/deepchem/models\n",
            "copying deepchem/models/graph_models.py -> build/lib/deepchem/models\n",
            "copying deepchem/models/robust_multitask.py -> build/lib/deepchem/models\n",
            "copying deepchem/models/text_cnn.py -> build/lib/deepchem/models\n",
            "copying deepchem/models/optimizers.py -> build/lib/deepchem/models\n",
            "copying deepchem/models/atomic_conv.py -> build/lib/deepchem/models\n",
            "copying deepchem/models/cnn.py -> build/lib/deepchem/models\n",
            "copying deepchem/models/gan.py -> build/lib/deepchem/models\n",
            "copying deepchem/models/__init__.py -> build/lib/deepchem/models\n",
            "copying deepchem/models/keras_model.py -> build/lib/deepchem/models\n",
            "copying deepchem/models/losses.py -> build/lib/deepchem/models\n",
            "copying deepchem/models/multitask.py -> build/lib/deepchem/models\n",
            "copying deepchem/models/scscore.py -> build/lib/deepchem/models\n",
            "copying deepchem/models/chemnet_models.py -> build/lib/deepchem/models\n",
            "copying deepchem/models/fcnet.py -> build/lib/deepchem/models\n",
            "copying deepchem/models/progressive_multitask.py -> build/lib/deepchem/models\n",
            "copying deepchem/models/IRV.py -> build/lib/deepchem/models\n",
            "copying deepchem/models/callbacks.py -> build/lib/deepchem/models\n",
            "copying deepchem/models/seqtoseq.py -> build/lib/deepchem/models\n",
            "copying deepchem/__init__.py -> build/lib/deepchem\n",
            "copying deepchem/rl/ppo.py -> build/lib/deepchem/rl\n",
            "copying deepchem/rl/__init__.py -> build/lib/deepchem/rl\n",
            "copying deepchem/rl/a2c.py -> build/lib/deepchem/rl\n",
            "creating build/lib/deepchem/feat/tests\n",
            "copying deepchem/feat/tests/test_rdkit_grid_features.py -> build/lib/deepchem/feat/tests\n",
            "copying deepchem/feat/tests/test_one_hot.py -> build/lib/deepchem/feat/tests\n",
            "copying deepchem/feat/tests/test_mol_graphs.py -> build/lib/deepchem/feat/tests\n",
            "copying deepchem/feat/tests/test_smiles_featurizers.py -> build/lib/deepchem/feat/tests\n",
            "copying deepchem/feat/tests/test_basic.py -> build/lib/deepchem/feat/tests\n",
            "copying deepchem/feat/tests/__init__.py -> build/lib/deepchem/feat/tests\n",
            "copying deepchem/feat/tests/test_atomic_coordinates.py -> build/lib/deepchem/feat/tests\n",
            "copying deepchem/feat/tests/test_binding_pocket_features.py -> build/lib/deepchem/feat/tests\n",
            "copying deepchem/feat/tests/test_convmol.py -> build/lib/deepchem/feat/tests\n",
            "copying deepchem/feat/tests/test_fingerprints.py -> build/lib/deepchem/feat/tests\n",
            "copying deepchem/feat/tests/test_sdf_reader.py -> build/lib/deepchem/feat/tests\n",
            "copying deepchem/feat/tests/test_features.py -> build/lib/deepchem/feat/tests\n",
            "copying deepchem/feat/tests/test_graph_features.py -> build/lib/deepchem/feat/tests\n",
            "copying deepchem/feat/tests/test_coulomb_matrices.py -> build/lib/deepchem/feat/tests\n",
            "creating build/lib/deepchem/data\n",
            "creating build/lib/deepchem/data/tests\n",
            "copying deepchem/data/tests/test_image_dataset.py -> build/lib/deepchem/data/tests\n",
            "copying deepchem/data/tests/test_load.py -> build/lib/deepchem/data/tests\n",
            "copying deepchem/data/tests/test_drop.py -> build/lib/deepchem/data/tests\n",
            "copying deepchem/data/tests/test_reload.py -> build/lib/deepchem/data/tests\n",
            "copying deepchem/data/tests/__init__.py -> build/lib/deepchem/data/tests\n",
            "copying deepchem/data/tests/test_merge.py -> build/lib/deepchem/data/tests\n",
            "copying deepchem/data/tests/test_fasta_loader.py -> build/lib/deepchem/data/tests\n",
            "copying deepchem/data/tests/test_csv_loader.py -> build/lib/deepchem/data/tests\n",
            "copying deepchem/data/tests/test_support_generator.py -> build/lib/deepchem/data/tests\n",
            "copying deepchem/data/tests/test_datasets.py -> build/lib/deepchem/data/tests\n",
            "copying deepchem/data/tests/test_shuffle.py -> build/lib/deepchem/data/tests\n",
            "copying deepchem/data/tests/test_data_loader.py -> build/lib/deepchem/data/tests\n",
            "copying deepchem/data/tests/test_image_loader.py -> build/lib/deepchem/data/tests\n",
            "copying deepchem/hyper/grid_search.py -> build/lib/deepchem/hyper\n",
            "copying deepchem/hyper/gaussian_process.py -> build/lib/deepchem/hyper\n",
            "copying deepchem/hyper/__init__.py -> build/lib/deepchem/hyper\n",
            "creating build/lib/deepchem/molnet\n",
            "creating build/lib/deepchem/molnet/load_function\n",
            "copying deepchem/molnet/load_function/muv_datasets.py -> build/lib/deepchem/molnet/load_function\n",
            "copying deepchem/molnet/load_function/clearance_datasets.py -> build/lib/deepchem/molnet/load_function\n",
            "copying deepchem/molnet/load_function/chembl25_datasets.py -> build/lib/deepchem/molnet/load_function\n",
            "copying deepchem/molnet/load_function/factors_datasets.py -> build/lib/deepchem/molnet/load_function\n",
            "copying deepchem/molnet/load_function/bbbc_datasets.py -> build/lib/deepchem/molnet/load_function\n",
            "copying deepchem/molnet/load_function/delaney_datasets.py -> build/lib/deepchem/molnet/load_function\n",
            "copying deepchem/molnet/load_function/sweetlead_datasets.py -> build/lib/deepchem/molnet/load_function\n",
            "copying deepchem/molnet/load_function/hppb_datasets.py -> build/lib/deepchem/molnet/load_function\n",
            "copying deepchem/molnet/load_function/cell_counting_datasets.py -> build/lib/deepchem/molnet/load_function\n",
            "copying deepchem/molnet/load_function/pcba_datasets.py -> build/lib/deepchem/molnet/load_function\n",
            "copying deepchem/molnet/load_function/qm7_datasets.py -> build/lib/deepchem/molnet/load_function\n",
            "copying deepchem/molnet/load_function/pdbbind_datasets.py -> build/lib/deepchem/molnet/load_function\n",
            "copying deepchem/molnet/load_function/chembl_datasets.py -> build/lib/deepchem/molnet/load_function\n",
            "copying deepchem/molnet/load_function/ppb_datasets.py -> build/lib/deepchem/molnet/load_function\n",
            "copying deepchem/molnet/load_function/uspto_datasets.py -> build/lib/deepchem/molnet/load_function\n",
            "copying deepchem/molnet/load_function/kaggle_features.py -> build/lib/deepchem/molnet/load_function\n",
            "copying deepchem/molnet/load_function/bace_datasets.py -> build/lib/deepchem/molnet/load_function\n",
            "copying deepchem/molnet/load_function/hopv_datasets.py -> build/lib/deepchem/molnet/load_function\n",
            "copying deepchem/molnet/load_function/nci_datasets.py -> build/lib/deepchem/molnet/load_function\n",
            "copying deepchem/molnet/load_function/lipo_datasets.py -> build/lib/deepchem/molnet/load_function\n",
            "copying deepchem/molnet/load_function/bbbp_datasets.py -> build/lib/deepchem/molnet/load_function\n",
            "copying deepchem/molnet/load_function/__init__.py -> build/lib/deepchem/molnet/load_function\n",
            "copying deepchem/molnet/load_function/bace_features.py -> build/lib/deepchem/molnet/load_function\n",
            "copying deepchem/molnet/load_function/chembl_tasks.py -> build/lib/deepchem/molnet/load_function\n",
            "copying deepchem/molnet/load_function/qm9_datasets.py -> build/lib/deepchem/molnet/load_function\n",
            "copying deepchem/molnet/load_function/kinase_datasets.py -> build/lib/deepchem/molnet/load_function\n",
            "copying deepchem/molnet/load_function/sampl_datasets.py -> build/lib/deepchem/molnet/load_function\n",
            "copying deepchem/molnet/load_function/qm8_datasets.py -> build/lib/deepchem/molnet/load_function\n",
            "copying deepchem/molnet/load_function/sider_datasets.py -> build/lib/deepchem/molnet/load_function\n",
            "copying deepchem/molnet/load_function/uv_datasets.py -> build/lib/deepchem/molnet/load_function\n",
            "copying deepchem/molnet/load_function/uv_tasks.py -> build/lib/deepchem/molnet/load_function\n",
            "copying deepchem/molnet/load_function/clintox_datasets.py -> build/lib/deepchem/molnet/load_function\n",
            "copying deepchem/molnet/load_function/hiv_datasets.py -> build/lib/deepchem/molnet/load_function\n",
            "copying deepchem/molnet/load_function/toxcast_datasets.py -> build/lib/deepchem/molnet/load_function\n",
            "copying deepchem/molnet/load_function/kaggle_datasets.py -> build/lib/deepchem/molnet/load_function\n",
            "copying deepchem/molnet/load_function/thermosol_datasets.py -> build/lib/deepchem/molnet/load_function\n",
            "copying deepchem/molnet/load_function/tox21_datasets.py -> build/lib/deepchem/molnet/load_function\n",
            "creating build/lib/deepchem/models/tests\n",
            "copying deepchem/models/tests/test_generalize.py -> build/lib/deepchem/models/tests\n",
            "copying deepchem/models/tests/test_layers.py -> build/lib/deepchem/models/tests\n",
            "copying deepchem/models/tests/test_scscore.py -> build/lib/deepchem/models/tests\n",
            "copying deepchem/models/tests/test_predict.py -> build/lib/deepchem/models/tests\n",
            "copying deepchem/models/tests/test_multitask.py -> build/lib/deepchem/models/tests\n",
            "copying deepchem/models/tests/test_api.py -> build/lib/deepchem/models/tests\n",
            "copying deepchem/models/tests/test_singletask_to_multitask.py -> build/lib/deepchem/models/tests\n",
            "copying deepchem/models/tests/test_chemnet_models.py -> build/lib/deepchem/models/tests\n",
            "copying deepchem/models/tests/test_graph_models.py -> build/lib/deepchem/models/tests\n",
            "copying deepchem/models/tests/test_cnn.py -> build/lib/deepchem/models/tests\n",
            "copying deepchem/models/tests/test_overfit.py -> build/lib/deepchem/models/tests\n",
            "copying deepchem/models/tests/test_reload.py -> build/lib/deepchem/models/tests\n",
            "copying deepchem/models/tests/test_kerasmodel.py -> build/lib/deepchem/models/tests\n",
            "copying deepchem/models/tests/__init__.py -> build/lib/deepchem/models/tests\n",
            "copying deepchem/models/tests/test_callbacks.py -> build/lib/deepchem/models/tests\n",
            "copying deepchem/models/tests/test_pretrained.py -> build/lib/deepchem/models/tests\n",
            "copying deepchem/models/tests/test_textcnnmodel.py -> build/lib/deepchem/models/tests\n",
            "copying deepchem/models/tests/test_atomic_conv.py -> build/lib/deepchem/models/tests\n",
            "copying deepchem/models/tests/test_seqtoseq.py -> build/lib/deepchem/models/tests\n",
            "copying deepchem/models/tests/test_layers_from_config.py -> build/lib/deepchem/models/tests\n",
            "copying deepchem/models/tests/test_optimizers.py -> build/lib/deepchem/models/tests\n",
            "copying deepchem/models/tests/test_gan.py -> build/lib/deepchem/models/tests\n",
            "creating build/lib/deepchem/metalearning\n",
            "copying deepchem/metalearning/__init__.py -> build/lib/deepchem/metalearning\n",
            "copying deepchem/metalearning/maml.py -> build/lib/deepchem/metalearning\n",
            "copying deepchem/data/supports.py -> build/lib/deepchem/data\n",
            "copying deepchem/data/__init__.py -> build/lib/deepchem/data\n",
            "copying deepchem/data/datasets.py -> build/lib/deepchem/data\n",
            "copying deepchem/data/data_loader.py -> build/lib/deepchem/data\n",
            "creating build/lib/deepchem/utils\n",
            "creating build/lib/deepchem/utils/test\n",
            "copying deepchem/utils/test/test_hash_utils.py -> build/lib/deepchem/utils/test\n",
            "copying deepchem/utils/test/test_generator_evaluator.py -> build/lib/deepchem/utils/test\n",
            "copying deepchem/utils/test/test_rdkit_util.py -> build/lib/deepchem/utils/test\n",
            "copying deepchem/utils/test/test_coordinate_box_utils.py -> build/lib/deepchem/utils/test\n",
            "copying deepchem/utils/test/test_geometry_utils.py -> build/lib/deepchem/utils/test\n",
            "copying deepchem/utils/test/__init__.py -> build/lib/deepchem/utils/test\n",
            "copying deepchem/utils/test/test_seq.py -> build/lib/deepchem/utils/test\n",
            "copying deepchem/utils/test/test_voxel_utils.py -> build/lib/deepchem/utils/test\n",
            "creating build/lib/deepchem/molnet/tests\n",
            "copying deepchem/molnet/tests/test_molnet.py -> build/lib/deepchem/molnet/tests\n",
            "copying deepchem/molnet/tests/test_dnasim.py -> build/lib/deepchem/molnet/tests\n",
            "copying deepchem/molnet/tests/__init__.py -> build/lib/deepchem/molnet/tests\n",
            "copying deepchem/molnet/check_availability.py -> build/lib/deepchem/molnet\n",
            "copying deepchem/molnet/run_benchmark.py -> build/lib/deepchem/molnet\n",
            "copying deepchem/molnet/run_benchmark_models.py -> build/lib/deepchem/molnet\n",
            "copying deepchem/molnet/__init__.py -> build/lib/deepchem/molnet\n",
            "copying deepchem/molnet/run_benchmark_low_data.py -> build/lib/deepchem/molnet\n",
            "copying deepchem/molnet/dnasim.py -> build/lib/deepchem/molnet\n",
            "copying deepchem/molnet/preset_hyper_parameters.py -> build/lib/deepchem/molnet\n",
            "creating build/lib/deepchem/dock/tests\n",
            "copying deepchem/dock/tests/test_pose_generation.py -> build/lib/deepchem/dock/tests\n",
            "copying deepchem/dock/tests/test_pose_scoring.py -> build/lib/deepchem/dock/tests\n",
            "copying deepchem/dock/tests/__init__.py -> build/lib/deepchem/dock/tests\n",
            "copying deepchem/dock/tests/test_binding_pocket.py -> build/lib/deepchem/dock/tests\n",
            "copying deepchem/dock/tests/test_docking.py -> build/lib/deepchem/dock/tests\n",
            "copying deepchem/utils/mol_xyz_util.py -> build/lib/deepchem/utils\n",
            "copying deepchem/utils/genomics.py -> build/lib/deepchem/utils\n",
            "copying deepchem/utils/geometry_utils.py -> build/lib/deepchem/utils\n",
            "copying deepchem/utils/voxel_utils.py -> build/lib/deepchem/utils\n",
            "copying deepchem/utils/evaluate.py -> build/lib/deepchem/utils\n",
            "copying deepchem/utils/hash_utils.py -> build/lib/deepchem/utils\n",
            "copying deepchem/utils/coordinate_box_utils.py -> build/lib/deepchem/utils\n",
            "copying deepchem/utils/rdkit_util.py -> build/lib/deepchem/utils\n",
            "copying deepchem/utils/__init__.py -> build/lib/deepchem/utils\n",
            "copying deepchem/utils/conformers.py -> build/lib/deepchem/utils\n",
            "copying deepchem/utils/save.py -> build/lib/deepchem/utils\n",
            "running egg_info\n",
            "creating deepchem.egg-info\n",
            "writing pbr to deepchem.egg-info/pbr.json\n",
            "writing deepchem.egg-info/PKG-INFO\n",
            "writing dependency_links to deepchem.egg-info/dependency_links.txt\n",
            "writing top-level names to deepchem.egg-info/top_level.txt\n",
            "[pbr] Processing SOURCES.txt\n",
            "writing manifest file 'deepchem.egg-info/SOURCES.txt'\n",
            "[pbr] In git context, generating filelist from git\n",
            "warning: no previously-included files found matching '.gitreview'\n",
            "warning: no previously-included files matching '*.pyc' found anywhere in distribution\n",
            "reading manifest template 'MANIFEST.in'\n",
            "writing manifest file 'deepchem.egg-info/SOURCES.txt'\n",
            "copying deepchem/.gitignore -> build/lib/deepchem\n",
            "creating build/lib/deepchem/tests\n",
            "copying deepchem/tests/test_init.py -> build/lib/deepchem/tests\n",
            "creating build/lib/deepchem/rl/tests\n",
            "copying deepchem/rl/tests/test_a2c.py -> build/lib/deepchem/rl/tests\n",
            "copying deepchem/rl/tests/test_ppo.py -> build/lib/deepchem/rl/tests\n",
            "copying deepchem/feat/tests/3ws9_ligand.sdf -> build/lib/deepchem/feat/tests\n",
            "copying deepchem/feat/tests/3ws9_protein_fixer_rdkit.pdb -> build/lib/deepchem/feat/tests\n",
            "creating build/lib/deepchem/feat/tests/data\n",
            "copying deepchem/feat/tests/data/3bwf_ligand_hyd.pdb -> build/lib/deepchem/feat/tests/data\n",
            "copying deepchem/feat/tests/data/3bwf_ligand_hyd.pdbqt -> build/lib/deepchem/feat/tests/data\n",
            "copying deepchem/feat/tests/data/3bwf_protein_hyd.pdb -> build/lib/deepchem/feat/tests/data\n",
            "copying deepchem/feat/tests/data/3bwf_protein_hyd.pdbqt -> build/lib/deepchem/feat/tests/data\n",
            "copying deepchem/feat/tests/data/3zp9_ligand_hyd.pdb -> build/lib/deepchem/feat/tests/data\n",
            "copying deepchem/feat/tests/data/3zp9_ligand_hyd.pdbqt -> build/lib/deepchem/feat/tests/data\n",
            "copying deepchem/feat/tests/data/3zp9_protein_hyd.pdb -> build/lib/deepchem/feat/tests/data\n",
            "copying deepchem/feat/tests/data/3zp9_protein_hyd.pdbqt -> build/lib/deepchem/feat/tests/data\n",
            "copying deepchem/feat/tests/data/3zso_ligand_hyd.pdb -> build/lib/deepchem/feat/tests/data\n",
            "copying deepchem/feat/tests/data/3zso_protein.pdb -> build/lib/deepchem/feat/tests/data\n",
            "copying deepchem/feat/tests/data/chembl_25_small.csv -> build/lib/deepchem/feat/tests/data\n",
            "copying deepchem/feat/tests/data/water.sdf -> build/lib/deepchem/feat/tests/data\n",
            "copying deepchem/feat/tests/data/water.sdf.csv -> build/lib/deepchem/feat/tests/data\n",
            "copying deepchem/data/tests/a_image.tif -> build/lib/deepchem/data/tests\n",
            "copying deepchem/data/tests/example.fasta -> build/lib/deepchem/data/tests\n",
            "copying deepchem/data/tests/mini_emols.csv -> build/lib/deepchem/data/tests\n",
            "copying deepchem/data/tests/no_labels.csv -> build/lib/deepchem/data/tests\n",
            "creating build/lib/deepchem/data/tests/images\n",
            "copying deepchem/data/tests/images/000003-num0.png -> build/lib/deepchem/data/tests/images\n",
            "copying deepchem/data/tests/images/000004-num4.png -> build/lib/deepchem/data/tests/images\n",
            "copying deepchem/data/tests/images/000005-num1.png -> build/lib/deepchem/data/tests/images\n",
            "copying deepchem/data/tests/images/000006-num4.png -> build/lib/deepchem/data/tests/images\n",
            "copying deepchem/data/tests/images/000007-num9.png -> build/lib/deepchem/data/tests/images\n",
            "copying deepchem/data/tests/images/000008-num5.png -> build/lib/deepchem/data/tests/images\n",
            "copying deepchem/data/tests/images/000009-num9.png -> build/lib/deepchem/data/tests/images\n",
            "copying deepchem/data/tests/images/000010-num0.png -> build/lib/deepchem/data/tests/images\n",
            "copying deepchem/data/tests/images/000011-num6.png -> build/lib/deepchem/data/tests/images\n",
            "copying deepchem/data/tests/images/000012-num9.png -> build/lib/deepchem/data/tests/images\n",
            "copying deepchem/models/tests/butina_example.csv -> build/lib/deepchem/models/tests\n",
            "copying deepchem/models/tests/chembl_25_small.csv -> build/lib/deepchem/models/tests\n",
            "copying deepchem/models/tests/example.csv -> build/lib/deepchem/models/tests\n",
            "copying deepchem/models/tests/example_DTNN.mat -> build/lib/deepchem/models/tests\n",
            "copying deepchem/models/tests/example_classification.csv -> build/lib/deepchem/models/tests\n",
            "copying deepchem/models/tests/example_regression.csv -> build/lib/deepchem/models/tests\n",
            "copying deepchem/models/tests/feat_multitask_example.csv -> build/lib/deepchem/models/tests\n",
            "copying deepchem/models/tests/gaussian_cdf_example.csv -> build/lib/deepchem/models/tests\n",
            "copying deepchem/models/tests/gbd3k.pkl.gz -> build/lib/deepchem/models/tests\n",
            "copying deepchem/models/tests/multitask_example.csv -> build/lib/deepchem/models/tests\n",
            "copying deepchem/models/tests/nnscore_example.pkl.gz -> build/lib/deepchem/models/tests\n",
            "copying deepchem/models/tests/sparse_multitask_example.csv -> build/lib/deepchem/models/tests\n",
            "copying deepchem/models/tests/user_specified_example.csv -> build/lib/deepchem/models/tests\n",
            "creating build/lib/deepchem/metalearning/tests\n",
            "copying deepchem/metalearning/tests/test_maml.py -> build/lib/deepchem/metalearning/tests\n",
            "creating build/lib/deepchem/utils/test/data\n",
            "copying deepchem/utils/test/data/example.fasta -> build/lib/deepchem/utils/test/data\n",
            "copying deepchem/utils/test/data/example.fastq -> build/lib/deepchem/utils/test/data\n",
            "copying deepchem/dock/tests/1jld_ligand.sdf -> build/lib/deepchem/dock/tests\n",
            "copying deepchem/dock/tests/1jld_protein.pdb -> build/lib/deepchem/dock/tests\n",
            "running install_lib\n",
            "copying build/lib/deepchem/hyper/tests/test_hyperparam_opt.py -> /usr/local/lib/python3.7/site-packages/deepchem/hyper/tests\n",
            "copying build/lib/deepchem/hyper/tests/__init__.py -> /usr/local/lib/python3.7/site-packages/deepchem/hyper/tests\n",
            "copying build/lib/deepchem/hyper/grid_search.py -> /usr/local/lib/python3.7/site-packages/deepchem/hyper\n",
            "copying build/lib/deepchem/hyper/gaussian_process.py -> /usr/local/lib/python3.7/site-packages/deepchem/hyper\n",
            "copying build/lib/deepchem/hyper/__init__.py -> /usr/local/lib/python3.7/site-packages/deepchem/hyper\n",
            "copying build/lib/deepchem/tests/test_init.py -> /usr/local/lib/python3.7/site-packages/deepchem/tests\n",
            "copying build/lib/deepchem/feat/smiles_featurizers.py -> /usr/local/lib/python3.7/site-packages/deepchem/feat\n",
            "copying build/lib/deepchem/feat/adjacency_fingerprints.py -> /usr/local/lib/python3.7/site-packages/deepchem/feat\n",
            "copying build/lib/deepchem/feat/tests/test_rdkit_grid_features.py -> /usr/local/lib/python3.7/site-packages/deepchem/feat/tests\n",
            "copying build/lib/deepchem/feat/tests/test_one_hot.py -> /usr/local/lib/python3.7/site-packages/deepchem/feat/tests\n",
            "copying build/lib/deepchem/feat/tests/test_mol_graphs.py -> /usr/local/lib/python3.7/site-packages/deepchem/feat/tests\n",
            "copying build/lib/deepchem/feat/tests/test_smiles_featurizers.py -> /usr/local/lib/python3.7/site-packages/deepchem/feat/tests\n",
            "copying build/lib/deepchem/feat/tests/test_basic.py -> /usr/local/lib/python3.7/site-packages/deepchem/feat/tests\n",
            "copying build/lib/deepchem/feat/tests/__init__.py -> /usr/local/lib/python3.7/site-packages/deepchem/feat/tests\n",
            "copying build/lib/deepchem/feat/tests/test_atomic_coordinates.py -> /usr/local/lib/python3.7/site-packages/deepchem/feat/tests\n",
            "copying build/lib/deepchem/feat/tests/test_binding_pocket_features.py -> /usr/local/lib/python3.7/site-packages/deepchem/feat/tests\n",
            "copying build/lib/deepchem/feat/tests/3ws9_ligand.sdf -> /usr/local/lib/python3.7/site-packages/deepchem/feat/tests\n",
            "copying build/lib/deepchem/feat/tests/test_convmol.py -> /usr/local/lib/python3.7/site-packages/deepchem/feat/tests\n",
            "copying build/lib/deepchem/feat/tests/data/3zso_ligand_hyd.pdb -> /usr/local/lib/python3.7/site-packages/deepchem/feat/tests/data\n",
            "copying build/lib/deepchem/feat/tests/data/3bwf_ligand_hyd.pdb -> /usr/local/lib/python3.7/site-packages/deepchem/feat/tests/data\n",
            "copying build/lib/deepchem/feat/tests/data/3bwf_protein_hyd.pdb -> /usr/local/lib/python3.7/site-packages/deepchem/feat/tests/data\n",
            "copying build/lib/deepchem/feat/tests/data/3zp9_protein_hyd.pdb -> /usr/local/lib/python3.7/site-packages/deepchem/feat/tests/data\n",
            "copying build/lib/deepchem/feat/tests/data/3bwf_protein_hyd.pdbqt -> /usr/local/lib/python3.7/site-packages/deepchem/feat/tests/data\n",
            "copying build/lib/deepchem/feat/tests/data/3zso_protein.pdb -> /usr/local/lib/python3.7/site-packages/deepchem/feat/tests/data\n",
            "copying build/lib/deepchem/feat/tests/data/3bwf_ligand_hyd.pdbqt -> /usr/local/lib/python3.7/site-packages/deepchem/feat/tests/data\n",
            "copying build/lib/deepchem/feat/tests/data/chembl_25_small.csv -> /usr/local/lib/python3.7/site-packages/deepchem/feat/tests/data\n",
            "copying build/lib/deepchem/feat/tests/data/3zp9_protein_hyd.pdbqt -> /usr/local/lib/python3.7/site-packages/deepchem/feat/tests/data\n",
            "copying build/lib/deepchem/feat/tests/data/3zp9_ligand_hyd.pdb -> /usr/local/lib/python3.7/site-packages/deepchem/feat/tests/data\n",
            "copying build/lib/deepchem/feat/tests/data/3zp9_ligand_hyd.pdbqt -> /usr/local/lib/python3.7/site-packages/deepchem/feat/tests/data\n",
            "copying build/lib/deepchem/feat/tests/data/water.sdf -> /usr/local/lib/python3.7/site-packages/deepchem/feat/tests/data\n",
            "copying build/lib/deepchem/feat/tests/data/water.sdf.csv -> /usr/local/lib/python3.7/site-packages/deepchem/feat/tests/data\n",
            "copying build/lib/deepchem/feat/tests/test_fingerprints.py -> /usr/local/lib/python3.7/site-packages/deepchem/feat/tests\n",
            "copying build/lib/deepchem/feat/tests/3ws9_protein_fixer_rdkit.pdb -> /usr/local/lib/python3.7/site-packages/deepchem/feat/tests\n",
            "copying build/lib/deepchem/feat/tests/test_sdf_reader.py -> /usr/local/lib/python3.7/site-packages/deepchem/feat/tests\n",
            "copying build/lib/deepchem/feat/tests/test_features.py -> /usr/local/lib/python3.7/site-packages/deepchem/feat/tests\n",
            "copying build/lib/deepchem/feat/tests/test_graph_features.py -> /usr/local/lib/python3.7/site-packages/deepchem/feat/tests\n",
            "copying build/lib/deepchem/feat/tests/test_coulomb_matrices.py -> /usr/local/lib/python3.7/site-packages/deepchem/feat/tests\n",
            "copying build/lib/deepchem/feat/binding_pocket_features.py -> /usr/local/lib/python3.7/site-packages/deepchem/feat\n",
            "copying build/lib/deepchem/feat/base_classes.py -> /usr/local/lib/python3.7/site-packages/deepchem/feat\n",
            "copying build/lib/deepchem/feat/coulomb_matrices.py -> /usr/local/lib/python3.7/site-packages/deepchem/feat\n",
            "copying build/lib/deepchem/feat/mol_graphs.py -> /usr/local/lib/python3.7/site-packages/deepchem/feat\n",
            "copying build/lib/deepchem/feat/__init__.py -> /usr/local/lib/python3.7/site-packages/deepchem/feat\n",
            "copying build/lib/deepchem/feat/fingerprints.py -> /usr/local/lib/python3.7/site-packages/deepchem/feat\n",
            "copying build/lib/deepchem/feat/one_hot.py -> /usr/local/lib/python3.7/site-packages/deepchem/feat\n",
            "copying build/lib/deepchem/feat/raw_featurizer.py -> /usr/local/lib/python3.7/site-packages/deepchem/feat\n",
            "copying build/lib/deepchem/feat/graph_features.py -> /usr/local/lib/python3.7/site-packages/deepchem/feat\n",
            "copying build/lib/deepchem/feat/basic.py -> /usr/local/lib/python3.7/site-packages/deepchem/feat\n",
            "copying build/lib/deepchem/feat/atomic_coordinates.py -> /usr/local/lib/python3.7/site-packages/deepchem/feat\n",
            "copying build/lib/deepchem/feat/rdkit_grid_featurizer.py -> /usr/local/lib/python3.7/site-packages/deepchem/feat\n",
            "copying build/lib/deepchem/metrics/tests/test_genomics.py -> /usr/local/lib/python3.7/site-packages/deepchem/metrics/tests\n",
            "copying build/lib/deepchem/metrics/tests/__init__.py -> /usr/local/lib/python3.7/site-packages/deepchem/metrics/tests\n",
            "copying build/lib/deepchem/metrics/tests/metrics_test.py -> /usr/local/lib/python3.7/site-packages/deepchem/metrics/tests\n",
            "copying build/lib/deepchem/metrics/genomic_metrics.py -> /usr/local/lib/python3.7/site-packages/deepchem/metrics\n",
            "copying build/lib/deepchem/metrics/__init__.py -> /usr/local/lib/python3.7/site-packages/deepchem/metrics\n",
            "copying build/lib/deepchem/trans/tests/__init__.py -> /usr/local/lib/python3.7/site-packages/deepchem/trans/tests\n",
            "copying build/lib/deepchem/trans/tests/test_transformers.py -> /usr/local/lib/python3.7/site-packages/deepchem/trans/tests\n",
            "copying build/lib/deepchem/trans/__init__.py -> /usr/local/lib/python3.7/site-packages/deepchem/trans\n",
            "copying build/lib/deepchem/trans/transformers.py -> /usr/local/lib/python3.7/site-packages/deepchem/trans\n",
            "copying build/lib/deepchem/dock/pose_scoring.py -> /usr/local/lib/python3.7/site-packages/deepchem/dock\n",
            "copying build/lib/deepchem/dock/tests/test_pose_generation.py -> /usr/local/lib/python3.7/site-packages/deepchem/dock/tests\n",
            "copying build/lib/deepchem/dock/tests/test_pose_scoring.py -> /usr/local/lib/python3.7/site-packages/deepchem/dock/tests\n",
            "copying build/lib/deepchem/dock/tests/__init__.py -> /usr/local/lib/python3.7/site-packages/deepchem/dock/tests\n",
            "copying build/lib/deepchem/dock/tests/test_binding_pocket.py -> /usr/local/lib/python3.7/site-packages/deepchem/dock/tests\n",
            "copying build/lib/deepchem/dock/tests/1jld_ligand.sdf -> /usr/local/lib/python3.7/site-packages/deepchem/dock/tests\n",
            "copying build/lib/deepchem/dock/tests/test_docking.py -> /usr/local/lib/python3.7/site-packages/deepchem/dock/tests\n",
            "copying build/lib/deepchem/dock/tests/1jld_protein.pdb -> /usr/local/lib/python3.7/site-packages/deepchem/dock/tests\n",
            "copying build/lib/deepchem/dock/docking.py -> /usr/local/lib/python3.7/site-packages/deepchem/dock\n",
            "copying build/lib/deepchem/dock/pose_generation.py -> /usr/local/lib/python3.7/site-packages/deepchem/dock\n",
            "copying build/lib/deepchem/dock/binding_pocket.py -> /usr/local/lib/python3.7/site-packages/deepchem/dock\n",
            "copying build/lib/deepchem/dock/__init__.py -> /usr/local/lib/python3.7/site-packages/deepchem/dock\n",
            "copying build/lib/deepchem/molnet/tests/test_molnet.py -> /usr/local/lib/python3.7/site-packages/deepchem/molnet/tests\n",
            "copying build/lib/deepchem/molnet/tests/test_dnasim.py -> /usr/local/lib/python3.7/site-packages/deepchem/molnet/tests\n",
            "copying build/lib/deepchem/molnet/tests/__init__.py -> /usr/local/lib/python3.7/site-packages/deepchem/molnet/tests\n",
            "copying build/lib/deepchem/molnet/check_availability.py -> /usr/local/lib/python3.7/site-packages/deepchem/molnet\n",
            "copying build/lib/deepchem/molnet/run_benchmark.py -> /usr/local/lib/python3.7/site-packages/deepchem/molnet\n",
            "copying build/lib/deepchem/molnet/run_benchmark_models.py -> /usr/local/lib/python3.7/site-packages/deepchem/molnet\n",
            "copying build/lib/deepchem/molnet/load_function/muv_datasets.py -> /usr/local/lib/python3.7/site-packages/deepchem/molnet/load_function\n",
            "copying build/lib/deepchem/molnet/load_function/clearance_datasets.py -> /usr/local/lib/python3.7/site-packages/deepchem/molnet/load_function\n",
            "copying build/lib/deepchem/molnet/load_function/chembl25_datasets.py -> /usr/local/lib/python3.7/site-packages/deepchem/molnet/load_function\n",
            "copying build/lib/deepchem/molnet/load_function/factors_datasets.py -> /usr/local/lib/python3.7/site-packages/deepchem/molnet/load_function\n",
            "copying build/lib/deepchem/molnet/load_function/bbbc_datasets.py -> /usr/local/lib/python3.7/site-packages/deepchem/molnet/load_function\n",
            "copying build/lib/deepchem/molnet/load_function/delaney_datasets.py -> /usr/local/lib/python3.7/site-packages/deepchem/molnet/load_function\n",
            "copying build/lib/deepchem/molnet/load_function/sweetlead_datasets.py -> /usr/local/lib/python3.7/site-packages/deepchem/molnet/load_function\n",
            "copying build/lib/deepchem/molnet/load_function/hppb_datasets.py -> /usr/local/lib/python3.7/site-packages/deepchem/molnet/load_function\n",
            "copying build/lib/deepchem/molnet/load_function/cell_counting_datasets.py -> /usr/local/lib/python3.7/site-packages/deepchem/molnet/load_function\n",
            "copying build/lib/deepchem/molnet/load_function/pcba_datasets.py -> /usr/local/lib/python3.7/site-packages/deepchem/molnet/load_function\n",
            "copying build/lib/deepchem/molnet/load_function/qm7_datasets.py -> /usr/local/lib/python3.7/site-packages/deepchem/molnet/load_function\n",
            "copying build/lib/deepchem/molnet/load_function/pdbbind_datasets.py -> /usr/local/lib/python3.7/site-packages/deepchem/molnet/load_function\n",
            "copying build/lib/deepchem/molnet/load_function/chembl_datasets.py -> /usr/local/lib/python3.7/site-packages/deepchem/molnet/load_function\n",
            "copying build/lib/deepchem/molnet/load_function/ppb_datasets.py -> /usr/local/lib/python3.7/site-packages/deepchem/molnet/load_function\n",
            "copying build/lib/deepchem/molnet/load_function/uspto_datasets.py -> /usr/local/lib/python3.7/site-packages/deepchem/molnet/load_function\n",
            "copying build/lib/deepchem/molnet/load_function/kaggle_features.py -> /usr/local/lib/python3.7/site-packages/deepchem/molnet/load_function\n",
            "copying build/lib/deepchem/molnet/load_function/bace_datasets.py -> /usr/local/lib/python3.7/site-packages/deepchem/molnet/load_function\n",
            "copying build/lib/deepchem/molnet/load_function/hopv_datasets.py -> /usr/local/lib/python3.7/site-packages/deepchem/molnet/load_function\n",
            "copying build/lib/deepchem/molnet/load_function/nci_datasets.py -> /usr/local/lib/python3.7/site-packages/deepchem/molnet/load_function\n",
            "copying build/lib/deepchem/molnet/load_function/lipo_datasets.py -> /usr/local/lib/python3.7/site-packages/deepchem/molnet/load_function\n",
            "copying build/lib/deepchem/molnet/load_function/bbbp_datasets.py -> /usr/local/lib/python3.7/site-packages/deepchem/molnet/load_function\n",
            "copying build/lib/deepchem/molnet/load_function/__init__.py -> /usr/local/lib/python3.7/site-packages/deepchem/molnet/load_function\n",
            "copying build/lib/deepchem/molnet/load_function/bace_features.py -> /usr/local/lib/python3.7/site-packages/deepchem/molnet/load_function\n",
            "copying build/lib/deepchem/molnet/load_function/chembl_tasks.py -> /usr/local/lib/python3.7/site-packages/deepchem/molnet/load_function\n",
            "copying build/lib/deepchem/molnet/load_function/qm9_datasets.py -> /usr/local/lib/python3.7/site-packages/deepchem/molnet/load_function\n",
            "copying build/lib/deepchem/molnet/load_function/kinase_datasets.py -> /usr/local/lib/python3.7/site-packages/deepchem/molnet/load_function\n",
            "copying build/lib/deepchem/molnet/load_function/sampl_datasets.py -> /usr/local/lib/python3.7/site-packages/deepchem/molnet/load_function\n",
            "copying build/lib/deepchem/molnet/load_function/qm8_datasets.py -> /usr/local/lib/python3.7/site-packages/deepchem/molnet/load_function\n",
            "copying build/lib/deepchem/molnet/load_function/sider_datasets.py -> /usr/local/lib/python3.7/site-packages/deepchem/molnet/load_function\n",
            "copying build/lib/deepchem/molnet/load_function/uv_datasets.py -> /usr/local/lib/python3.7/site-packages/deepchem/molnet/load_function\n",
            "copying build/lib/deepchem/molnet/load_function/uv_tasks.py -> /usr/local/lib/python3.7/site-packages/deepchem/molnet/load_function\n",
            "copying build/lib/deepchem/molnet/load_function/clintox_datasets.py -> /usr/local/lib/python3.7/site-packages/deepchem/molnet/load_function\n",
            "copying build/lib/deepchem/molnet/load_function/hiv_datasets.py -> /usr/local/lib/python3.7/site-packages/deepchem/molnet/load_function\n",
            "copying build/lib/deepchem/molnet/load_function/toxcast_datasets.py -> /usr/local/lib/python3.7/site-packages/deepchem/molnet/load_function\n",
            "copying build/lib/deepchem/molnet/load_function/kaggle_datasets.py -> /usr/local/lib/python3.7/site-packages/deepchem/molnet/load_function\n",
            "copying build/lib/deepchem/molnet/load_function/thermosol_datasets.py -> /usr/local/lib/python3.7/site-packages/deepchem/molnet/load_function\n",
            "copying build/lib/deepchem/molnet/load_function/tox21_datasets.py -> /usr/local/lib/python3.7/site-packages/deepchem/molnet/load_function\n",
            "copying build/lib/deepchem/molnet/__init__.py -> /usr/local/lib/python3.7/site-packages/deepchem/molnet\n",
            "copying build/lib/deepchem/molnet/run_benchmark_low_data.py -> /usr/local/lib/python3.7/site-packages/deepchem/molnet\n",
            "copying build/lib/deepchem/molnet/dnasim.py -> /usr/local/lib/python3.7/site-packages/deepchem/molnet\n",
            "copying build/lib/deepchem/molnet/preset_hyper_parameters.py -> /usr/local/lib/python3.7/site-packages/deepchem/molnet\n",
            "copying build/lib/deepchem/.gitignore -> /usr/local/lib/python3.7/site-packages/deepchem\n",
            "copying build/lib/deepchem/utils/mol_xyz_util.py -> /usr/local/lib/python3.7/site-packages/deepchem/utils\n",
            "copying build/lib/deepchem/utils/test/test_hash_utils.py -> /usr/local/lib/python3.7/site-packages/deepchem/utils/test\n",
            "copying build/lib/deepchem/utils/test/test_generator_evaluator.py -> /usr/local/lib/python3.7/site-packages/deepchem/utils/test\n",
            "copying build/lib/deepchem/utils/test/test_rdkit_util.py -> /usr/local/lib/python3.7/site-packages/deepchem/utils/test\n",
            "copying build/lib/deepchem/utils/test/test_coordinate_box_utils.py -> /usr/local/lib/python3.7/site-packages/deepchem/utils/test\n",
            "copying build/lib/deepchem/utils/test/test_geometry_utils.py -> /usr/local/lib/python3.7/site-packages/deepchem/utils/test\n",
            "copying build/lib/deepchem/utils/test/__init__.py -> /usr/local/lib/python3.7/site-packages/deepchem/utils/test\n",
            "copying build/lib/deepchem/utils/test/test_seq.py -> /usr/local/lib/python3.7/site-packages/deepchem/utils/test\n",
            "copying build/lib/deepchem/utils/test/data/example.fastq -> /usr/local/lib/python3.7/site-packages/deepchem/utils/test/data\n",
            "copying build/lib/deepchem/utils/test/data/example.fasta -> /usr/local/lib/python3.7/site-packages/deepchem/utils/test/data\n",
            "copying build/lib/deepchem/utils/test/test_voxel_utils.py -> /usr/local/lib/python3.7/site-packages/deepchem/utils/test\n",
            "copying build/lib/deepchem/utils/genomics.py -> /usr/local/lib/python3.7/site-packages/deepchem/utils\n",
            "copying build/lib/deepchem/utils/geometry_utils.py -> /usr/local/lib/python3.7/site-packages/deepchem/utils\n",
            "copying build/lib/deepchem/utils/voxel_utils.py -> /usr/local/lib/python3.7/site-packages/deepchem/utils\n",
            "copying build/lib/deepchem/utils/evaluate.py -> /usr/local/lib/python3.7/site-packages/deepchem/utils\n",
            "copying build/lib/deepchem/utils/hash_utils.py -> /usr/local/lib/python3.7/site-packages/deepchem/utils\n",
            "copying build/lib/deepchem/utils/coordinate_box_utils.py -> /usr/local/lib/python3.7/site-packages/deepchem/utils\n",
            "copying build/lib/deepchem/utils/rdkit_util.py -> /usr/local/lib/python3.7/site-packages/deepchem/utils\n",
            "copying build/lib/deepchem/utils/__init__.py -> /usr/local/lib/python3.7/site-packages/deepchem/utils\n",
            "copying build/lib/deepchem/utils/conformers.py -> /usr/local/lib/python3.7/site-packages/deepchem/utils\n",
            "copying build/lib/deepchem/utils/save.py -> /usr/local/lib/python3.7/site-packages/deepchem/utils\n",
            "copying build/lib/deepchem/splits/tests/test_splitter.py -> /usr/local/lib/python3.7/site-packages/deepchem/splits/tests\n",
            "copying build/lib/deepchem/splits/tests/__init__.py -> /usr/local/lib/python3.7/site-packages/deepchem/splits/tests\n",
            "copying build/lib/deepchem/splits/tests/test_task_splitter.py -> /usr/local/lib/python3.7/site-packages/deepchem/splits/tests\n",
            "copying build/lib/deepchem/splits/test_specified_index_splitter.py -> /usr/local/lib/python3.7/site-packages/deepchem/splits\n",
            "copying build/lib/deepchem/splits/__init__.py -> /usr/local/lib/python3.7/site-packages/deepchem/splits\n",
            "copying build/lib/deepchem/splits/test_scaffold_splitter.py -> /usr/local/lib/python3.7/site-packages/deepchem/splits\n",
            "copying build/lib/deepchem/splits/splitters.py -> /usr/local/lib/python3.7/site-packages/deepchem/splits\n",
            "copying build/lib/deepchem/splits/task_splitter.py -> /usr/local/lib/python3.7/site-packages/deepchem/splits\n",
            "copying build/lib/deepchem/__init__.py -> /usr/local/lib/python3.7/site-packages/deepchem\n",
            "copying build/lib/deepchem/models/chemnet_layers.py -> /usr/local/lib/python3.7/site-packages/deepchem/models\n",
            "copying build/lib/deepchem/models/models.py -> /usr/local/lib/python3.7/site-packages/deepchem/models\n",
            "copying build/lib/deepchem/models/layers.py -> /usr/local/lib/python3.7/site-packages/deepchem/models\n",
            "copying build/lib/deepchem/models/tests/test_generalize.py -> /usr/local/lib/python3.7/site-packages/deepchem/models/tests\n",
            "copying build/lib/deepchem/models/tests/example_DTNN.mat -> /usr/local/lib/python3.7/site-packages/deepchem/models/tests\n",
            "copying build/lib/deepchem/models/tests/butina_example.csv -> /usr/local/lib/python3.7/site-packages/deepchem/models/tests\n",
            "copying build/lib/deepchem/models/tests/test_layers.py -> /usr/local/lib/python3.7/site-packages/deepchem/models/tests\n",
            "copying build/lib/deepchem/models/tests/test_scscore.py -> /usr/local/lib/python3.7/site-packages/deepchem/models/tests\n",
            "copying build/lib/deepchem/models/tests/test_predict.py -> /usr/local/lib/python3.7/site-packages/deepchem/models/tests\n",
            "copying build/lib/deepchem/models/tests/test_multitask.py -> /usr/local/lib/python3.7/site-packages/deepchem/models/tests\n",
            "copying build/lib/deepchem/models/tests/test_api.py -> /usr/local/lib/python3.7/site-packages/deepchem/models/tests\n",
            "copying build/lib/deepchem/models/tests/test_singletask_to_multitask.py -> /usr/local/lib/python3.7/site-packages/deepchem/models/tests\n",
            "copying build/lib/deepchem/models/tests/feat_multitask_example.csv -> /usr/local/lib/python3.7/site-packages/deepchem/models/tests\n",
            "copying build/lib/deepchem/models/tests/test_chemnet_models.py -> /usr/local/lib/python3.7/site-packages/deepchem/models/tests\n",
            "copying build/lib/deepchem/models/tests/test_graph_models.py -> /usr/local/lib/python3.7/site-packages/deepchem/models/tests\n",
            "copying build/lib/deepchem/models/tests/gaussian_cdf_example.csv -> /usr/local/lib/python3.7/site-packages/deepchem/models/tests\n",
            "copying build/lib/deepchem/models/tests/gbd3k.pkl.gz -> /usr/local/lib/python3.7/site-packages/deepchem/models/tests\n",
            "copying build/lib/deepchem/models/tests/test_cnn.py -> /usr/local/lib/python3.7/site-packages/deepchem/models/tests\n",
            "copying build/lib/deepchem/models/tests/nnscore_example.pkl.gz -> /usr/local/lib/python3.7/site-packages/deepchem/models/tests\n",
            "copying build/lib/deepchem/models/tests/example_regression.csv -> /usr/local/lib/python3.7/site-packages/deepchem/models/tests\n",
            "copying build/lib/deepchem/models/tests/test_overfit.py -> /usr/local/lib/python3.7/site-packages/deepchem/models/tests\n",
            "copying build/lib/deepchem/models/tests/user_specified_example.csv -> /usr/local/lib/python3.7/site-packages/deepchem/models/tests\n",
            "copying build/lib/deepchem/models/tests/test_reload.py -> /usr/local/lib/python3.7/site-packages/deepchem/models/tests\n",
            "copying build/lib/deepchem/models/tests/test_kerasmodel.py -> /usr/local/lib/python3.7/site-packages/deepchem/models/tests\n",
            "copying build/lib/deepchem/models/tests/__init__.py -> /usr/local/lib/python3.7/site-packages/deepchem/models/tests\n",
            "copying build/lib/deepchem/models/tests/chembl_25_small.csv -> /usr/local/lib/python3.7/site-packages/deepchem/models/tests\n",
            "copying build/lib/deepchem/models/tests/sparse_multitask_example.csv -> /usr/local/lib/python3.7/site-packages/deepchem/models/tests\n",
            "copying build/lib/deepchem/models/tests/test_callbacks.py -> /usr/local/lib/python3.7/site-packages/deepchem/models/tests\n",
            "copying build/lib/deepchem/models/tests/test_pretrained.py -> /usr/local/lib/python3.7/site-packages/deepchem/models/tests\n",
            "copying build/lib/deepchem/models/tests/multitask_example.csv -> /usr/local/lib/python3.7/site-packages/deepchem/models/tests\n",
            "copying build/lib/deepchem/models/tests/test_textcnnmodel.py -> /usr/local/lib/python3.7/site-packages/deepchem/models/tests\n",
            "copying build/lib/deepchem/models/tests/test_atomic_conv.py -> /usr/local/lib/python3.7/site-packages/deepchem/models/tests\n",
            "copying build/lib/deepchem/models/tests/test_seqtoseq.py -> /usr/local/lib/python3.7/site-packages/deepchem/models/tests\n",
            "copying build/lib/deepchem/models/tests/example.csv -> /usr/local/lib/python3.7/site-packages/deepchem/models/tests\n",
            "copying build/lib/deepchem/models/tests/test_layers_from_config.py -> /usr/local/lib/python3.7/site-packages/deepchem/models/tests\n",
            "copying build/lib/deepchem/models/tests/test_optimizers.py -> /usr/local/lib/python3.7/site-packages/deepchem/models/tests\n",
            "copying build/lib/deepchem/models/tests/test_gan.py -> /usr/local/lib/python3.7/site-packages/deepchem/models/tests\n",
            "copying build/lib/deepchem/models/tests/example_classification.csv -> /usr/local/lib/python3.7/site-packages/deepchem/models/tests\n",
            "copying build/lib/deepchem/models/graph_models.py -> /usr/local/lib/python3.7/site-packages/deepchem/models\n",
            "copying build/lib/deepchem/models/robust_multitask.py -> /usr/local/lib/python3.7/site-packages/deepchem/models\n",
            "copying build/lib/deepchem/models/text_cnn.py -> /usr/local/lib/python3.7/site-packages/deepchem/models\n",
            "copying build/lib/deepchem/models/optimizers.py -> /usr/local/lib/python3.7/site-packages/deepchem/models\n",
            "copying build/lib/deepchem/models/sklearn_models/__init__.py -> /usr/local/lib/python3.7/site-packages/deepchem/models/sklearn_models\n",
            "copying build/lib/deepchem/models/xgboost_models/__init__.py -> /usr/local/lib/python3.7/site-packages/deepchem/models/xgboost_models\n",
            "copying build/lib/deepchem/models/atomic_conv.py -> /usr/local/lib/python3.7/site-packages/deepchem/models\n",
            "copying build/lib/deepchem/models/cnn.py -> /usr/local/lib/python3.7/site-packages/deepchem/models\n",
            "copying build/lib/deepchem/models/gan.py -> /usr/local/lib/python3.7/site-packages/deepchem/models\n",
            "copying build/lib/deepchem/models/__init__.py -> /usr/local/lib/python3.7/site-packages/deepchem/models\n",
            "copying build/lib/deepchem/models/keras_model.py -> /usr/local/lib/python3.7/site-packages/deepchem/models\n",
            "copying build/lib/deepchem/models/losses.py -> /usr/local/lib/python3.7/site-packages/deepchem/models\n",
            "copying build/lib/deepchem/models/multitask.py -> /usr/local/lib/python3.7/site-packages/deepchem/models\n",
            "copying build/lib/deepchem/models/scscore.py -> /usr/local/lib/python3.7/site-packages/deepchem/models\n",
            "copying build/lib/deepchem/models/chemnet_models.py -> /usr/local/lib/python3.7/site-packages/deepchem/models\n",
            "copying build/lib/deepchem/models/fcnet.py -> /usr/local/lib/python3.7/site-packages/deepchem/models\n",
            "copying build/lib/deepchem/models/progressive_multitask.py -> /usr/local/lib/python3.7/site-packages/deepchem/models\n",
            "copying build/lib/deepchem/models/IRV.py -> /usr/local/lib/python3.7/site-packages/deepchem/models\n",
            "copying build/lib/deepchem/models/callbacks.py -> /usr/local/lib/python3.7/site-packages/deepchem/models\n",
            "copying build/lib/deepchem/models/seqtoseq.py -> /usr/local/lib/python3.7/site-packages/deepchem/models\n",
            "copying build/lib/deepchem/data/tests/test_image_dataset.py -> /usr/local/lib/python3.7/site-packages/deepchem/data/tests\n",
            "copying build/lib/deepchem/data/tests/test_load.py -> /usr/local/lib/python3.7/site-packages/deepchem/data/tests\n",
            "copying build/lib/deepchem/data/tests/mini_emols.csv -> /usr/local/lib/python3.7/site-packages/deepchem/data/tests\n",
            "copying build/lib/deepchem/data/tests/a_image.tif -> /usr/local/lib/python3.7/site-packages/deepchem/data/tests\n",
            "copying build/lib/deepchem/data/tests/images/000005-num1.png -> /usr/local/lib/python3.7/site-packages/deepchem/data/tests/images\n",
            "copying build/lib/deepchem/data/tests/images/000011-num6.png -> /usr/local/lib/python3.7/site-packages/deepchem/data/tests/images\n",
            "copying build/lib/deepchem/data/tests/images/000010-num0.png -> /usr/local/lib/python3.7/site-packages/deepchem/data/tests/images\n",
            "copying build/lib/deepchem/data/tests/images/000006-num4.png -> /usr/local/lib/python3.7/site-packages/deepchem/data/tests/images\n",
            "copying build/lib/deepchem/data/tests/images/000012-num9.png -> /usr/local/lib/python3.7/site-packages/deepchem/data/tests/images\n",
            "copying build/lib/deepchem/data/tests/images/000008-num5.png -> /usr/local/lib/python3.7/site-packages/deepchem/data/tests/images\n",
            "copying build/lib/deepchem/data/tests/images/000007-num9.png -> /usr/local/lib/python3.7/site-packages/deepchem/data/tests/images\n",
            "copying build/lib/deepchem/data/tests/images/000004-num4.png -> /usr/local/lib/python3.7/site-packages/deepchem/data/tests/images\n",
            "copying build/lib/deepchem/data/tests/images/000009-num9.png -> /usr/local/lib/python3.7/site-packages/deepchem/data/tests/images\n",
            "copying build/lib/deepchem/data/tests/images/000003-num0.png -> /usr/local/lib/python3.7/site-packages/deepchem/data/tests/images\n",
            "copying build/lib/deepchem/data/tests/test_drop.py -> /usr/local/lib/python3.7/site-packages/deepchem/data/tests\n",
            "copying build/lib/deepchem/data/tests/test_reload.py -> /usr/local/lib/python3.7/site-packages/deepchem/data/tests\n",
            "copying build/lib/deepchem/data/tests/__init__.py -> /usr/local/lib/python3.7/site-packages/deepchem/data/tests\n",
            "copying build/lib/deepchem/data/tests/test_merge.py -> /usr/local/lib/python3.7/site-packages/deepchem/data/tests\n",
            "copying build/lib/deepchem/data/tests/test_fasta_loader.py -> /usr/local/lib/python3.7/site-packages/deepchem/data/tests\n",
            "copying build/lib/deepchem/data/tests/example.fasta -> /usr/local/lib/python3.7/site-packages/deepchem/data/tests\n",
            "copying build/lib/deepchem/data/tests/test_csv_loader.py -> /usr/local/lib/python3.7/site-packages/deepchem/data/tests\n",
            "copying build/lib/deepchem/data/tests/test_support_generator.py -> /usr/local/lib/python3.7/site-packages/deepchem/data/tests\n",
            "copying build/lib/deepchem/data/tests/no_labels.csv -> /usr/local/lib/python3.7/site-packages/deepchem/data/tests\n",
            "copying build/lib/deepchem/data/tests/test_datasets.py -> /usr/local/lib/python3.7/site-packages/deepchem/data/tests\n",
            "copying build/lib/deepchem/data/tests/test_shuffle.py -> /usr/local/lib/python3.7/site-packages/deepchem/data/tests\n",
            "copying build/lib/deepchem/data/tests/test_data_loader.py -> /usr/local/lib/python3.7/site-packages/deepchem/data/tests\n",
            "copying build/lib/deepchem/data/tests/test_image_loader.py -> /usr/local/lib/python3.7/site-packages/deepchem/data/tests\n",
            "copying build/lib/deepchem/data/supports.py -> /usr/local/lib/python3.7/site-packages/deepchem/data\n",
            "copying build/lib/deepchem/data/__init__.py -> /usr/local/lib/python3.7/site-packages/deepchem/data\n",
            "copying build/lib/deepchem/data/datasets.py -> /usr/local/lib/python3.7/site-packages/deepchem/data\n",
            "copying build/lib/deepchem/data/data_loader.py -> /usr/local/lib/python3.7/site-packages/deepchem/data\n",
            "copying build/lib/deepchem/metalearning/tests/test_maml.py -> /usr/local/lib/python3.7/site-packages/deepchem/metalearning/tests\n",
            "copying build/lib/deepchem/metalearning/__init__.py -> /usr/local/lib/python3.7/site-packages/deepchem/metalearning\n",
            "copying build/lib/deepchem/metalearning/maml.py -> /usr/local/lib/python3.7/site-packages/deepchem/metalearning\n",
            "copying build/lib/deepchem/rl/tests/test_ppo.py -> /usr/local/lib/python3.7/site-packages/deepchem/rl/tests\n",
            "copying build/lib/deepchem/rl/tests/test_a2c.py -> /usr/local/lib/python3.7/site-packages/deepchem/rl/tests\n",
            "copying build/lib/deepchem/rl/ppo.py -> /usr/local/lib/python3.7/site-packages/deepchem/rl\n",
            "copying build/lib/deepchem/rl/__init__.py -> /usr/local/lib/python3.7/site-packages/deepchem/rl\n",
            "copying build/lib/deepchem/rl/envs/test_tictactoe.py -> /usr/local/lib/python3.7/site-packages/deepchem/rl/envs\n",
            "copying build/lib/deepchem/rl/envs/__init__.py -> /usr/local/lib/python3.7/site-packages/deepchem/rl/envs\n",
            "copying build/lib/deepchem/rl/envs/tictactoe.py -> /usr/local/lib/python3.7/site-packages/deepchem/rl/envs\n",
            "copying build/lib/deepchem/rl/a2c.py -> /usr/local/lib/python3.7/site-packages/deepchem/rl\n",
            "byte-compiling /usr/local/lib/python3.7/site-packages/deepchem/hyper/tests/test_hyperparam_opt.py to test_hyperparam_opt.cpython-37.pyc\n",
            "byte-compiling /usr/local/lib/python3.7/site-packages/deepchem/hyper/tests/__init__.py to __init__.cpython-37.pyc\n",
            "byte-compiling /usr/local/lib/python3.7/site-packages/deepchem/hyper/grid_search.py to grid_search.cpython-37.pyc\n",
            "byte-compiling /usr/local/lib/python3.7/site-packages/deepchem/hyper/gaussian_process.py to gaussian_process.cpython-37.pyc\n",
            "byte-compiling /usr/local/lib/python3.7/site-packages/deepchem/hyper/__init__.py to __init__.cpython-37.pyc\n",
            "byte-compiling /usr/local/lib/python3.7/site-packages/deepchem/tests/test_init.py to test_init.cpython-37.pyc\n",
            "byte-compiling /usr/local/lib/python3.7/site-packages/deepchem/feat/smiles_featurizers.py to smiles_featurizers.cpython-37.pyc\n",
            "byte-compiling /usr/local/lib/python3.7/site-packages/deepchem/feat/adjacency_fingerprints.py to adjacency_fingerprints.cpython-37.pyc\n",
            "byte-compiling /usr/local/lib/python3.7/site-packages/deepchem/feat/tests/test_rdkit_grid_features.py to test_rdkit_grid_features.cpython-37.pyc\n",
            "byte-compiling /usr/local/lib/python3.7/site-packages/deepchem/feat/tests/test_one_hot.py to test_one_hot.cpython-37.pyc\n",
            "byte-compiling /usr/local/lib/python3.7/site-packages/deepchem/feat/tests/test_mol_graphs.py to test_mol_graphs.cpython-37.pyc\n",
            "byte-compiling /usr/local/lib/python3.7/site-packages/deepchem/feat/tests/test_smiles_featurizers.py to test_smiles_featurizers.cpython-37.pyc\n",
            "byte-compiling /usr/local/lib/python3.7/site-packages/deepchem/feat/tests/test_basic.py to test_basic.cpython-37.pyc\n",
            "byte-compiling /usr/local/lib/python3.7/site-packages/deepchem/feat/tests/__init__.py to __init__.cpython-37.pyc\n",
            "byte-compiling /usr/local/lib/python3.7/site-packages/deepchem/feat/tests/test_atomic_coordinates.py to test_atomic_coordinates.cpython-37.pyc\n",
            "byte-compiling /usr/local/lib/python3.7/site-packages/deepchem/feat/tests/test_binding_pocket_features.py to test_binding_pocket_features.cpython-37.pyc\n",
            "byte-compiling /usr/local/lib/python3.7/site-packages/deepchem/feat/tests/test_convmol.py to test_convmol.cpython-37.pyc\n",
            "byte-compiling /usr/local/lib/python3.7/site-packages/deepchem/feat/tests/test_fingerprints.py to test_fingerprints.cpython-37.pyc\n",
            "byte-compiling /usr/local/lib/python3.7/site-packages/deepchem/feat/tests/test_sdf_reader.py to test_sdf_reader.cpython-37.pyc\n",
            "byte-compiling /usr/local/lib/python3.7/site-packages/deepchem/feat/tests/test_features.py to test_features.cpython-37.pyc\n",
            "byte-compiling /usr/local/lib/python3.7/site-packages/deepchem/feat/tests/test_graph_features.py to test_graph_features.cpython-37.pyc\n",
            "byte-compiling /usr/local/lib/python3.7/site-packages/deepchem/feat/tests/test_coulomb_matrices.py to test_coulomb_matrices.cpython-37.pyc\n",
            "byte-compiling /usr/local/lib/python3.7/site-packages/deepchem/feat/binding_pocket_features.py to binding_pocket_features.cpython-37.pyc\n",
            "byte-compiling /usr/local/lib/python3.7/site-packages/deepchem/feat/base_classes.py to base_classes.cpython-37.pyc\n",
            "byte-compiling /usr/local/lib/python3.7/site-packages/deepchem/feat/coulomb_matrices.py to coulomb_matrices.cpython-37.pyc\n",
            "byte-compiling /usr/local/lib/python3.7/site-packages/deepchem/feat/mol_graphs.py to mol_graphs.cpython-37.pyc\n",
            "byte-compiling /usr/local/lib/python3.7/site-packages/deepchem/feat/__init__.py to __init__.cpython-37.pyc\n",
            "byte-compiling /usr/local/lib/python3.7/site-packages/deepchem/feat/fingerprints.py to fingerprints.cpython-37.pyc\n",
            "byte-compiling /usr/local/lib/python3.7/site-packages/deepchem/feat/one_hot.py to one_hot.cpython-37.pyc\n",
            "byte-compiling /usr/local/lib/python3.7/site-packages/deepchem/feat/raw_featurizer.py to raw_featurizer.cpython-37.pyc\n",
            "byte-compiling /usr/local/lib/python3.7/site-packages/deepchem/feat/graph_features.py to graph_features.cpython-37.pyc\n",
            "byte-compiling /usr/local/lib/python3.7/site-packages/deepchem/feat/basic.py to basic.cpython-37.pyc\n",
            "byte-compiling /usr/local/lib/python3.7/site-packages/deepchem/feat/atomic_coordinates.py to atomic_coordinates.cpython-37.pyc\n",
            "byte-compiling /usr/local/lib/python3.7/site-packages/deepchem/feat/rdkit_grid_featurizer.py to rdkit_grid_featurizer.cpython-37.pyc\n",
            "byte-compiling /usr/local/lib/python3.7/site-packages/deepchem/metrics/tests/test_genomics.py to test_genomics.cpython-37.pyc\n",
            "byte-compiling /usr/local/lib/python3.7/site-packages/deepchem/metrics/tests/__init__.py to __init__.cpython-37.pyc\n",
            "byte-compiling /usr/local/lib/python3.7/site-packages/deepchem/metrics/tests/metrics_test.py to metrics_test.cpython-37.pyc\n",
            "byte-compiling /usr/local/lib/python3.7/site-packages/deepchem/metrics/genomic_metrics.py to genomic_metrics.cpython-37.pyc\n",
            "byte-compiling /usr/local/lib/python3.7/site-packages/deepchem/metrics/__init__.py to __init__.cpython-37.pyc\n",
            "byte-compiling /usr/local/lib/python3.7/site-packages/deepchem/trans/tests/__init__.py to __init__.cpython-37.pyc\n",
            "byte-compiling /usr/local/lib/python3.7/site-packages/deepchem/trans/tests/test_transformers.py to test_transformers.cpython-37.pyc\n",
            "byte-compiling /usr/local/lib/python3.7/site-packages/deepchem/trans/__init__.py to __init__.cpython-37.pyc\n",
            "byte-compiling /usr/local/lib/python3.7/site-packages/deepchem/trans/transformers.py to transformers.cpython-37.pyc\n",
            "byte-compiling /usr/local/lib/python3.7/site-packages/deepchem/dock/pose_scoring.py to pose_scoring.cpython-37.pyc\n",
            "byte-compiling /usr/local/lib/python3.7/site-packages/deepchem/dock/tests/test_pose_generation.py to test_pose_generation.cpython-37.pyc\n",
            "byte-compiling /usr/local/lib/python3.7/site-packages/deepchem/dock/tests/test_pose_scoring.py to test_pose_scoring.cpython-37.pyc\n",
            "byte-compiling /usr/local/lib/python3.7/site-packages/deepchem/dock/tests/__init__.py to __init__.cpython-37.pyc\n",
            "byte-compiling /usr/local/lib/python3.7/site-packages/deepchem/dock/tests/test_binding_pocket.py to test_binding_pocket.cpython-37.pyc\n",
            "byte-compiling /usr/local/lib/python3.7/site-packages/deepchem/dock/tests/test_docking.py to test_docking.cpython-37.pyc\n",
            "byte-compiling /usr/local/lib/python3.7/site-packages/deepchem/dock/docking.py to docking.cpython-37.pyc\n",
            "byte-compiling /usr/local/lib/python3.7/site-packages/deepchem/dock/pose_generation.py to pose_generation.cpython-37.pyc\n",
            "byte-compiling /usr/local/lib/python3.7/site-packages/deepchem/dock/binding_pocket.py to binding_pocket.cpython-37.pyc\n",
            "byte-compiling /usr/local/lib/python3.7/site-packages/deepchem/dock/__init__.py to __init__.cpython-37.pyc\n",
            "byte-compiling /usr/local/lib/python3.7/site-packages/deepchem/molnet/tests/test_molnet.py to test_molnet.cpython-37.pyc\n",
            "byte-compiling /usr/local/lib/python3.7/site-packages/deepchem/molnet/tests/test_dnasim.py to test_dnasim.cpython-37.pyc\n",
            "byte-compiling /usr/local/lib/python3.7/site-packages/deepchem/molnet/tests/__init__.py to __init__.cpython-37.pyc\n",
            "byte-compiling /usr/local/lib/python3.7/site-packages/deepchem/molnet/check_availability.py to check_availability.cpython-37.pyc\n",
            "byte-compiling /usr/local/lib/python3.7/site-packages/deepchem/molnet/run_benchmark.py to run_benchmark.cpython-37.pyc\n",
            "byte-compiling /usr/local/lib/python3.7/site-packages/deepchem/molnet/run_benchmark_models.py to run_benchmark_models.cpython-37.pyc\n",
            "byte-compiling /usr/local/lib/python3.7/site-packages/deepchem/molnet/load_function/muv_datasets.py to muv_datasets.cpython-37.pyc\n",
            "byte-compiling /usr/local/lib/python3.7/site-packages/deepchem/molnet/load_function/clearance_datasets.py to clearance_datasets.cpython-37.pyc\n",
            "byte-compiling /usr/local/lib/python3.7/site-packages/deepchem/molnet/load_function/chembl25_datasets.py to chembl25_datasets.cpython-37.pyc\n",
            "byte-compiling /usr/local/lib/python3.7/site-packages/deepchem/molnet/load_function/factors_datasets.py to factors_datasets.cpython-37.pyc\n",
            "byte-compiling /usr/local/lib/python3.7/site-packages/deepchem/molnet/load_function/bbbc_datasets.py to bbbc_datasets.cpython-37.pyc\n",
            "byte-compiling /usr/local/lib/python3.7/site-packages/deepchem/molnet/load_function/delaney_datasets.py to delaney_datasets.cpython-37.pyc\n",
            "byte-compiling /usr/local/lib/python3.7/site-packages/deepchem/molnet/load_function/sweetlead_datasets.py to sweetlead_datasets.cpython-37.pyc\n",
            "byte-compiling /usr/local/lib/python3.7/site-packages/deepchem/molnet/load_function/hppb_datasets.py to hppb_datasets.cpython-37.pyc\n",
            "byte-compiling /usr/local/lib/python3.7/site-packages/deepchem/molnet/load_function/cell_counting_datasets.py to cell_counting_datasets.cpython-37.pyc\n",
            "byte-compiling /usr/local/lib/python3.7/site-packages/deepchem/molnet/load_function/pcba_datasets.py to pcba_datasets.cpython-37.pyc\n",
            "byte-compiling /usr/local/lib/python3.7/site-packages/deepchem/molnet/load_function/qm7_datasets.py to qm7_datasets.cpython-37.pyc\n",
            "byte-compiling /usr/local/lib/python3.7/site-packages/deepchem/molnet/load_function/pdbbind_datasets.py to pdbbind_datasets.cpython-37.pyc\n",
            "byte-compiling /usr/local/lib/python3.7/site-packages/deepchem/molnet/load_function/chembl_datasets.py to chembl_datasets.cpython-37.pyc\n",
            "byte-compiling /usr/local/lib/python3.7/site-packages/deepchem/molnet/load_function/ppb_datasets.py to ppb_datasets.cpython-37.pyc\n",
            "byte-compiling /usr/local/lib/python3.7/site-packages/deepchem/molnet/load_function/uspto_datasets.py to uspto_datasets.cpython-37.pyc\n",
            "byte-compiling /usr/local/lib/python3.7/site-packages/deepchem/molnet/load_function/kaggle_features.py to kaggle_features.cpython-37.pyc\n",
            "byte-compiling /usr/local/lib/python3.7/site-packages/deepchem/molnet/load_function/bace_datasets.py to bace_datasets.cpython-37.pyc\n",
            "byte-compiling /usr/local/lib/python3.7/site-packages/deepchem/molnet/load_function/hopv_datasets.py to hopv_datasets.cpython-37.pyc\n",
            "byte-compiling /usr/local/lib/python3.7/site-packages/deepchem/molnet/load_function/nci_datasets.py to nci_datasets.cpython-37.pyc\n",
            "byte-compiling /usr/local/lib/python3.7/site-packages/deepchem/molnet/load_function/lipo_datasets.py to lipo_datasets.cpython-37.pyc\n",
            "byte-compiling /usr/local/lib/python3.7/site-packages/deepchem/molnet/load_function/bbbp_datasets.py to bbbp_datasets.cpython-37.pyc\n",
            "byte-compiling /usr/local/lib/python3.7/site-packages/deepchem/molnet/load_function/__init__.py to __init__.cpython-37.pyc\n",
            "byte-compiling /usr/local/lib/python3.7/site-packages/deepchem/molnet/load_function/bace_features.py to bace_features.cpython-37.pyc\n",
            "byte-compiling /usr/local/lib/python3.7/site-packages/deepchem/molnet/load_function/chembl_tasks.py to chembl_tasks.cpython-37.pyc\n",
            "byte-compiling /usr/local/lib/python3.7/site-packages/deepchem/molnet/load_function/qm9_datasets.py to qm9_datasets.cpython-37.pyc\n",
            "byte-compiling /usr/local/lib/python3.7/site-packages/deepchem/molnet/load_function/kinase_datasets.py to kinase_datasets.cpython-37.pyc\n",
            "byte-compiling /usr/local/lib/python3.7/site-packages/deepchem/molnet/load_function/sampl_datasets.py to sampl_datasets.cpython-37.pyc\n",
            "byte-compiling /usr/local/lib/python3.7/site-packages/deepchem/molnet/load_function/qm8_datasets.py to qm8_datasets.cpython-37.pyc\n",
            "byte-compiling /usr/local/lib/python3.7/site-packages/deepchem/molnet/load_function/sider_datasets.py to sider_datasets.cpython-37.pyc\n",
            "byte-compiling /usr/local/lib/python3.7/site-packages/deepchem/molnet/load_function/uv_datasets.py to uv_datasets.cpython-37.pyc\n",
            "byte-compiling /usr/local/lib/python3.7/site-packages/deepchem/molnet/load_function/uv_tasks.py to uv_tasks.cpython-37.pyc\n",
            "byte-compiling /usr/local/lib/python3.7/site-packages/deepchem/molnet/load_function/clintox_datasets.py to clintox_datasets.cpython-37.pyc\n",
            "byte-compiling /usr/local/lib/python3.7/site-packages/deepchem/molnet/load_function/hiv_datasets.py to hiv_datasets.cpython-37.pyc\n",
            "byte-compiling /usr/local/lib/python3.7/site-packages/deepchem/molnet/load_function/toxcast_datasets.py to toxcast_datasets.cpython-37.pyc\n",
            "byte-compiling /usr/local/lib/python3.7/site-packages/deepchem/molnet/load_function/kaggle_datasets.py to kaggle_datasets.cpython-37.pyc\n",
            "byte-compiling /usr/local/lib/python3.7/site-packages/deepchem/molnet/load_function/thermosol_datasets.py to thermosol_datasets.cpython-37.pyc\n",
            "byte-compiling /usr/local/lib/python3.7/site-packages/deepchem/molnet/load_function/tox21_datasets.py to tox21_datasets.cpython-37.pyc\n",
            "byte-compiling /usr/local/lib/python3.7/site-packages/deepchem/molnet/__init__.py to __init__.cpython-37.pyc\n",
            "byte-compiling /usr/local/lib/python3.7/site-packages/deepchem/molnet/run_benchmark_low_data.py to run_benchmark_low_data.cpython-37.pyc\n",
            "byte-compiling /usr/local/lib/python3.7/site-packages/deepchem/molnet/dnasim.py to dnasim.cpython-37.pyc\n",
            "byte-compiling /usr/local/lib/python3.7/site-packages/deepchem/molnet/preset_hyper_parameters.py to preset_hyper_parameters.cpython-37.pyc\n",
            "byte-compiling /usr/local/lib/python3.7/site-packages/deepchem/utils/mol_xyz_util.py to mol_xyz_util.cpython-37.pyc\n",
            "byte-compiling /usr/local/lib/python3.7/site-packages/deepchem/utils/test/test_hash_utils.py to test_hash_utils.cpython-37.pyc\n",
            "byte-compiling /usr/local/lib/python3.7/site-packages/deepchem/utils/test/test_generator_evaluator.py to test_generator_evaluator.cpython-37.pyc\n",
            "byte-compiling /usr/local/lib/python3.7/site-packages/deepchem/utils/test/test_rdkit_util.py to test_rdkit_util.cpython-37.pyc\n",
            "byte-compiling /usr/local/lib/python3.7/site-packages/deepchem/utils/test/test_coordinate_box_utils.py to test_coordinate_box_utils.cpython-37.pyc\n",
            "byte-compiling /usr/local/lib/python3.7/site-packages/deepchem/utils/test/test_geometry_utils.py to test_geometry_utils.cpython-37.pyc\n",
            "byte-compiling /usr/local/lib/python3.7/site-packages/deepchem/utils/test/__init__.py to __init__.cpython-37.pyc\n",
            "byte-compiling /usr/local/lib/python3.7/site-packages/deepchem/utils/test/test_seq.py to test_seq.cpython-37.pyc\n",
            "byte-compiling /usr/local/lib/python3.7/site-packages/deepchem/utils/test/test_voxel_utils.py to test_voxel_utils.cpython-37.pyc\n",
            "byte-compiling /usr/local/lib/python3.7/site-packages/deepchem/utils/genomics.py to genomics.cpython-37.pyc\n",
            "byte-compiling /usr/local/lib/python3.7/site-packages/deepchem/utils/geometry_utils.py to geometry_utils.cpython-37.pyc\n",
            "byte-compiling /usr/local/lib/python3.7/site-packages/deepchem/utils/voxel_utils.py to voxel_utils.cpython-37.pyc\n",
            "byte-compiling /usr/local/lib/python3.7/site-packages/deepchem/utils/evaluate.py to evaluate.cpython-37.pyc\n",
            "byte-compiling /usr/local/lib/python3.7/site-packages/deepchem/utils/hash_utils.py to hash_utils.cpython-37.pyc\n",
            "byte-compiling /usr/local/lib/python3.7/site-packages/deepchem/utils/coordinate_box_utils.py to coordinate_box_utils.cpython-37.pyc\n",
            "byte-compiling /usr/local/lib/python3.7/site-packages/deepchem/utils/rdkit_util.py to rdkit_util.cpython-37.pyc\n",
            "byte-compiling /usr/local/lib/python3.7/site-packages/deepchem/utils/__init__.py to __init__.cpython-37.pyc\n",
            "byte-compiling /usr/local/lib/python3.7/site-packages/deepchem/utils/conformers.py to conformers.cpython-37.pyc\n",
            "byte-compiling /usr/local/lib/python3.7/site-packages/deepchem/utils/save.py to save.cpython-37.pyc\n",
            "byte-compiling /usr/local/lib/python3.7/site-packages/deepchem/splits/tests/test_splitter.py to test_splitter.cpython-37.pyc\n",
            "byte-compiling /usr/local/lib/python3.7/site-packages/deepchem/splits/tests/__init__.py to __init__.cpython-37.pyc\n",
            "byte-compiling /usr/local/lib/python3.7/site-packages/deepchem/splits/tests/test_task_splitter.py to test_task_splitter.cpython-37.pyc\n",
            "byte-compiling /usr/local/lib/python3.7/site-packages/deepchem/splits/test_specified_index_splitter.py to test_specified_index_splitter.cpython-37.pyc\n",
            "byte-compiling /usr/local/lib/python3.7/site-packages/deepchem/splits/__init__.py to __init__.cpython-37.pyc\n",
            "byte-compiling /usr/local/lib/python3.7/site-packages/deepchem/splits/test_scaffold_splitter.py to test_scaffold_splitter.cpython-37.pyc\n",
            "byte-compiling /usr/local/lib/python3.7/site-packages/deepchem/splits/splitters.py to splitters.cpython-37.pyc\n",
            "byte-compiling /usr/local/lib/python3.7/site-packages/deepchem/splits/task_splitter.py to task_splitter.cpython-37.pyc\n",
            "byte-compiling /usr/local/lib/python3.7/site-packages/deepchem/__init__.py to __init__.cpython-37.pyc\n",
            "byte-compiling /usr/local/lib/python3.7/site-packages/deepchem/models/chemnet_layers.py to chemnet_layers.cpython-37.pyc\n",
            "byte-compiling /usr/local/lib/python3.7/site-packages/deepchem/models/models.py to models.cpython-37.pyc\n",
            "byte-compiling /usr/local/lib/python3.7/site-packages/deepchem/models/layers.py to layers.cpython-37.pyc\n",
            "byte-compiling /usr/local/lib/python3.7/site-packages/deepchem/models/tests/test_generalize.py to test_generalize.cpython-37.pyc\n",
            "byte-compiling /usr/local/lib/python3.7/site-packages/deepchem/models/tests/test_layers.py to test_layers.cpython-37.pyc\n",
            "byte-compiling /usr/local/lib/python3.7/site-packages/deepchem/models/tests/test_scscore.py to test_scscore.cpython-37.pyc\n",
            "byte-compiling /usr/local/lib/python3.7/site-packages/deepchem/models/tests/test_predict.py to test_predict.cpython-37.pyc\n",
            "byte-compiling /usr/local/lib/python3.7/site-packages/deepchem/models/tests/test_multitask.py to test_multitask.cpython-37.pyc\n",
            "byte-compiling /usr/local/lib/python3.7/site-packages/deepchem/models/tests/test_api.py to test_api.cpython-37.pyc\n",
            "byte-compiling /usr/local/lib/python3.7/site-packages/deepchem/models/tests/test_singletask_to_multitask.py to test_singletask_to_multitask.cpython-37.pyc\n",
            "byte-compiling /usr/local/lib/python3.7/site-packages/deepchem/models/tests/test_chemnet_models.py to test_chemnet_models.cpython-37.pyc\n",
            "byte-compiling /usr/local/lib/python3.7/site-packages/deepchem/models/tests/test_graph_models.py to test_graph_models.cpython-37.pyc\n",
            "byte-compiling /usr/local/lib/python3.7/site-packages/deepchem/models/tests/test_cnn.py to test_cnn.cpython-37.pyc\n",
            "byte-compiling /usr/local/lib/python3.7/site-packages/deepchem/models/tests/test_overfit.py to test_overfit.cpython-37.pyc\n",
            "byte-compiling /usr/local/lib/python3.7/site-packages/deepchem/models/tests/test_reload.py to test_reload.cpython-37.pyc\n",
            "byte-compiling /usr/local/lib/python3.7/site-packages/deepchem/models/tests/test_kerasmodel.py to test_kerasmodel.cpython-37.pyc\n",
            "byte-compiling /usr/local/lib/python3.7/site-packages/deepchem/models/tests/__init__.py to __init__.cpython-37.pyc\n",
            "byte-compiling /usr/local/lib/python3.7/site-packages/deepchem/models/tests/test_callbacks.py to test_callbacks.cpython-37.pyc\n",
            "byte-compiling /usr/local/lib/python3.7/site-packages/deepchem/models/tests/test_pretrained.py to test_pretrained.cpython-37.pyc\n",
            "byte-compiling /usr/local/lib/python3.7/site-packages/deepchem/models/tests/test_textcnnmodel.py to test_textcnnmodel.cpython-37.pyc\n",
            "byte-compiling /usr/local/lib/python3.7/site-packages/deepchem/models/tests/test_atomic_conv.py to test_atomic_conv.cpython-37.pyc\n",
            "byte-compiling /usr/local/lib/python3.7/site-packages/deepchem/models/tests/test_seqtoseq.py to test_seqtoseq.cpython-37.pyc\n",
            "byte-compiling /usr/local/lib/python3.7/site-packages/deepchem/models/tests/test_layers_from_config.py to test_layers_from_config.cpython-37.pyc\n",
            "byte-compiling /usr/local/lib/python3.7/site-packages/deepchem/models/tests/test_optimizers.py to test_optimizers.cpython-37.pyc\n",
            "byte-compiling /usr/local/lib/python3.7/site-packages/deepchem/models/tests/test_gan.py to test_gan.cpython-37.pyc\n",
            "byte-compiling /usr/local/lib/python3.7/site-packages/deepchem/models/graph_models.py to graph_models.cpython-37.pyc\n",
            "byte-compiling /usr/local/lib/python3.7/site-packages/deepchem/models/robust_multitask.py to robust_multitask.cpython-37.pyc\n",
            "byte-compiling /usr/local/lib/python3.7/site-packages/deepchem/models/text_cnn.py to text_cnn.cpython-37.pyc\n",
            "byte-compiling /usr/local/lib/python3.7/site-packages/deepchem/models/optimizers.py to optimizers.cpython-37.pyc\n",
            "byte-compiling /usr/local/lib/python3.7/site-packages/deepchem/models/sklearn_models/__init__.py to __init__.cpython-37.pyc\n",
            "byte-compiling /usr/local/lib/python3.7/site-packages/deepchem/models/xgboost_models/__init__.py to __init__.cpython-37.pyc\n",
            "byte-compiling /usr/local/lib/python3.7/site-packages/deepchem/models/atomic_conv.py to atomic_conv.cpython-37.pyc\n",
            "byte-compiling /usr/local/lib/python3.7/site-packages/deepchem/models/cnn.py to cnn.cpython-37.pyc\n",
            "byte-compiling /usr/local/lib/python3.7/site-packages/deepchem/models/gan.py to gan.cpython-37.pyc\n",
            "byte-compiling /usr/local/lib/python3.7/site-packages/deepchem/models/__init__.py to __init__.cpython-37.pyc\n",
            "byte-compiling /usr/local/lib/python3.7/site-packages/deepchem/models/keras_model.py to keras_model.cpython-37.pyc\n",
            "byte-compiling /usr/local/lib/python3.7/site-packages/deepchem/models/losses.py to losses.cpython-37.pyc\n",
            "byte-compiling /usr/local/lib/python3.7/site-packages/deepchem/models/multitask.py to multitask.cpython-37.pyc\n",
            "byte-compiling /usr/local/lib/python3.7/site-packages/deepchem/models/scscore.py to scscore.cpython-37.pyc\n",
            "byte-compiling /usr/local/lib/python3.7/site-packages/deepchem/models/chemnet_models.py to chemnet_models.cpython-37.pyc\n",
            "byte-compiling /usr/local/lib/python3.7/site-packages/deepchem/models/fcnet.py to fcnet.cpython-37.pyc\n",
            "byte-compiling /usr/local/lib/python3.7/site-packages/deepchem/models/progressive_multitask.py to progressive_multitask.cpython-37.pyc\n",
            "byte-compiling /usr/local/lib/python3.7/site-packages/deepchem/models/IRV.py to IRV.cpython-37.pyc\n",
            "byte-compiling /usr/local/lib/python3.7/site-packages/deepchem/models/callbacks.py to callbacks.cpython-37.pyc\n",
            "byte-compiling /usr/local/lib/python3.7/site-packages/deepchem/models/seqtoseq.py to seqtoseq.cpython-37.pyc\n",
            "byte-compiling /usr/local/lib/python3.7/site-packages/deepchem/data/tests/test_image_dataset.py to test_image_dataset.cpython-37.pyc\n",
            "byte-compiling /usr/local/lib/python3.7/site-packages/deepchem/data/tests/test_load.py to test_load.cpython-37.pyc\n",
            "byte-compiling /usr/local/lib/python3.7/site-packages/deepchem/data/tests/test_drop.py to test_drop.cpython-37.pyc\n",
            "byte-compiling /usr/local/lib/python3.7/site-packages/deepchem/data/tests/test_reload.py to test_reload.cpython-37.pyc\n",
            "byte-compiling /usr/local/lib/python3.7/site-packages/deepchem/data/tests/__init__.py to __init__.cpython-37.pyc\n",
            "byte-compiling /usr/local/lib/python3.7/site-packages/deepchem/data/tests/test_merge.py to test_merge.cpython-37.pyc\n",
            "byte-compiling /usr/local/lib/python3.7/site-packages/deepchem/data/tests/test_fasta_loader.py to test_fasta_loader.cpython-37.pyc\n",
            "byte-compiling /usr/local/lib/python3.7/site-packages/deepchem/data/tests/test_csv_loader.py to test_csv_loader.cpython-37.pyc\n",
            "byte-compiling /usr/local/lib/python3.7/site-packages/deepchem/data/tests/test_support_generator.py to test_support_generator.cpython-37.pyc\n",
            "byte-compiling /usr/local/lib/python3.7/site-packages/deepchem/data/tests/test_datasets.py to test_datasets.cpython-37.pyc\n",
            "byte-compiling /usr/local/lib/python3.7/site-packages/deepchem/data/tests/test_shuffle.py to test_shuffle.cpython-37.pyc\n",
            "byte-compiling /usr/local/lib/python3.7/site-packages/deepchem/data/tests/test_data_loader.py to test_data_loader.cpython-37.pyc\n",
            "byte-compiling /usr/local/lib/python3.7/site-packages/deepchem/data/tests/test_image_loader.py to test_image_loader.cpython-37.pyc\n",
            "byte-compiling /usr/local/lib/python3.7/site-packages/deepchem/data/supports.py to supports.cpython-37.pyc\n",
            "byte-compiling /usr/local/lib/python3.7/site-packages/deepchem/data/__init__.py to __init__.cpython-37.pyc\n",
            "byte-compiling /usr/local/lib/python3.7/site-packages/deepchem/data/datasets.py to datasets.cpython-37.pyc\n",
            "byte-compiling /usr/local/lib/python3.7/site-packages/deepchem/data/data_loader.py to data_loader.cpython-37.pyc\n",
            "byte-compiling /usr/local/lib/python3.7/site-packages/deepchem/metalearning/tests/test_maml.py to test_maml.cpython-37.pyc\n",
            "byte-compiling /usr/local/lib/python3.7/site-packages/deepchem/metalearning/__init__.py to __init__.cpython-37.pyc\n",
            "byte-compiling /usr/local/lib/python3.7/site-packages/deepchem/metalearning/maml.py to maml.cpython-37.pyc\n",
            "byte-compiling /usr/local/lib/python3.7/site-packages/deepchem/rl/tests/test_ppo.py to test_ppo.cpython-37.pyc\n",
            "byte-compiling /usr/local/lib/python3.7/site-packages/deepchem/rl/tests/test_a2c.py to test_a2c.cpython-37.pyc\n",
            "byte-compiling /usr/local/lib/python3.7/site-packages/deepchem/rl/ppo.py to ppo.cpython-37.pyc\n",
            "byte-compiling /usr/local/lib/python3.7/site-packages/deepchem/rl/__init__.py to __init__.cpython-37.pyc\n",
            "byte-compiling /usr/local/lib/python3.7/site-packages/deepchem/rl/envs/test_tictactoe.py to test_tictactoe.cpython-37.pyc\n",
            "byte-compiling /usr/local/lib/python3.7/site-packages/deepchem/rl/envs/__init__.py to __init__.cpython-37.pyc\n",
            "byte-compiling /usr/local/lib/python3.7/site-packages/deepchem/rl/envs/tictactoe.py to tictactoe.cpython-37.pyc\n",
            "byte-compiling /usr/local/lib/python3.7/site-packages/deepchem/rl/a2c.py to a2c.cpython-37.pyc\n",
            "running install_egg_info\n",
            "Copying deepchem.egg-info to /usr/local/lib/python3.7/site-packages/deepchem-2.3.1.dev298-py3.7.egg-info\n",
            "running install_scripts\n",
            "/content/deepchem/.eggs/pbr-5.4.5-py3.7.egg/pbr/packaging.py:436: EasyInstallDeprecationWarning: Use get_header\n",
            "  header = easy_install.get_script_header(\"\", executable, is_wininst)\n"
          ],
          "name": "stdout"
        }
      ]
    },
    {
      "cell_type": "code",
      "metadata": {
        "id": "1mPxN3yLFAWR",
        "colab_type": "code",
        "colab": {}
      },
      "source": [
        "import os\n",
        "import sys\n",
        "import deepchem as dc\n",
        "from deepchem.utils.save import load_from_disk\n",
        "from deepchem.models import GraphConvModel "
      ],
      "execution_count": 0,
      "outputs": []
    },
    {
      "cell_type": "code",
      "metadata": {
        "id": "dz2X8DfvFAWZ",
        "colab_type": "code",
        "colab": {}
      },
      "source": [
        "import pandas as pd"
      ],
      "execution_count": 0,
      "outputs": []
    },
    {
      "cell_type": "code",
      "metadata": {
        "id": "uq407EOaFAWc",
        "colab_type": "code",
        "outputId": "5b19d04c-9dd3-4f2d-ea10-998e219fd38a",
        "colab": {
          "base_uri": "https://localhost:8080/",
          "height": 34
        }
      },
      "source": [
        "print(pd)"
      ],
      "execution_count": 9,
      "outputs": [
        {
          "output_type": "stream",
          "text": [
            "<module 'pandas' from '/usr/local/lib/python3.6/dist-packages/pandas/__init__.py'>\n"
          ],
          "name": "stdout"
        }
      ]
    },
    {
      "cell_type": "code",
      "metadata": {
        "id": "dqn0ewhoFAWg",
        "colab_type": "code",
        "colab": {}
      },
      "source": [
        "from rdkit import Chem"
      ],
      "execution_count": 0,
      "outputs": []
    },
    {
      "cell_type": "code",
      "metadata": {
        "id": "pAXFZITNFAWi",
        "colab_type": "code",
        "colab": {}
      },
      "source": [
        "from rdkit.Chem import Draw"
      ],
      "execution_count": 0,
      "outputs": []
    },
    {
      "cell_type": "code",
      "metadata": {
        "id": "jHQqCl4yFAWl",
        "colab_type": "code",
        "colab": {}
      },
      "source": [
        "from rdkit.Chem import PandasTools"
      ],
      "execution_count": 0,
      "outputs": []
    },
    {
      "cell_type": "code",
      "metadata": {
        "id": "J6R04W28FAWq",
        "colab_type": "code",
        "colab": {}
      },
      "source": [
        "from rdkit.Chem import Descriptors"
      ],
      "execution_count": 0,
      "outputs": []
    },
    {
      "cell_type": "code",
      "metadata": {
        "id": "LZdELNhjFAWs",
        "colab_type": "code",
        "colab": {}
      },
      "source": [
        "from rdkit.Chem import rdmolops"
      ],
      "execution_count": 0,
      "outputs": []
    },
    {
      "cell_type": "code",
      "metadata": {
        "id": "dcfJWUizFAWv",
        "colab_type": "code",
        "outputId": "7107b088-5b70-4004-95c3-c7bbdf8ae93f",
        "colab": {
          "base_uri": "https://localhost:8080/",
          "height": 71
        }
      },
      "source": [
        "import seaborn as sns"
      ],
      "execution_count": 15,
      "outputs": [
        {
          "output_type": "stream",
          "text": [
            "/usr/local/lib/python3.6/dist-packages/statsmodels/tools/_testing.py:19: FutureWarning: pandas.util.testing is deprecated. Use the functions in the public API at pandas.testing instead.\n",
            "  import pandas.util.testing as tm\n"
          ],
          "name": "stderr"
        }
      ]
    },
    {
      "cell_type": "code",
      "metadata": {
        "id": "Drx3uzGAFAW0",
        "colab_type": "code",
        "colab": {}
      },
      "source": [
        "data = pd.DataFrame()"
      ],
      "execution_count": 0,
      "outputs": []
    },
    {
      "cell_type": "code",
      "metadata": {
        "id": "w9zsZ_Y1FAW2",
        "colab_type": "code",
        "outputId": "c2be5188-d541-4a7f-f10e-36107ca9c438",
        "colab": {
          "base_uri": "https://localhost:8080/",
          "height": 34
        }
      },
      "source": [
        "pd.__version__"
      ],
      "execution_count": 17,
      "outputs": [
        {
          "output_type": "execute_result",
          "data": {
            "text/plain": [
              "'1.0.4'"
            ]
          },
          "metadata": {
            "tags": []
          },
          "execution_count": 17
        }
      ]
    },
    {
      "cell_type": "code",
      "metadata": {
        "id": "tjpaVXBSFAW5",
        "colab_type": "code",
        "colab": {}
      },
      "source": [
        "current_dir = os.path.dirname(os.path.realpath(\"__file__\"))\n",
        "dc.utils.download_url(\"https://hermes.chem.ut.ee/~alfx/ML/train_smi.csv\",\n",
        "                      current_dir)"
      ],
      "execution_count": 0,
      "outputs": []
    },
    {
      "cell_type": "code",
      "metadata": {
        "id": "VyRzKK2oFAW7",
        "colab_type": "code",
        "colab": {}
      },
      "source": [
        "df = pd.read_csv(\"train_smi.csv\",sep=\" \")"
      ],
      "execution_count": 0,
      "outputs": []
    },
    {
      "cell_type": "code",
      "metadata": {
        "id": "mX0cVjrsFAW-",
        "colab_type": "code",
        "colab": {}
      },
      "source": [
        ""
      ],
      "execution_count": 0,
      "outputs": []
    },
    {
      "cell_type": "code",
      "metadata": {
        "id": "uzTyszhLFAXA",
        "colab_type": "code",
        "colab": {}
      },
      "source": [
        "df_rows, df_cols = df.shape"
      ],
      "execution_count": 0,
      "outputs": []
    },
    {
      "cell_type": "code",
      "metadata": {
        "id": "2EpFHu-tFAXC",
        "colab_type": "code",
        "outputId": "29314be7-8edd-4ee7-91cc-9127596ec08d",
        "colab": {
          "base_uri": "https://localhost:8080/",
          "height": 419
        }
      },
      "source": [
        "df"
      ],
      "execution_count": 21,
      "outputs": [
        {
          "output_type": "execute_result",
          "data": {
            "text/html": [
              "<div>\n",
              "<style scoped>\n",
              "    .dataframe tbody tr th:only-of-type {\n",
              "        vertical-align: middle;\n",
              "    }\n",
              "\n",
              "    .dataframe tbody tr th {\n",
              "        vertical-align: top;\n",
              "    }\n",
              "\n",
              "    .dataframe thead th {\n",
              "        text-align: right;\n",
              "    }\n",
              "</style>\n",
              "<table border=\"1\" class=\"dataframe\">\n",
              "  <thead>\n",
              "    <tr style=\"text-align: right;\">\n",
              "      <th></th>\n",
              "      <th>bindingClass</th>\n",
              "      <th>casrn</th>\n",
              "      <th>SMILES</th>\n",
              "      <th>Unnamed: 3</th>\n",
              "    </tr>\n",
              "  </thead>\n",
              "  <tbody>\n",
              "    <tr>\n",
              "      <th>0</th>\n",
              "      <td>0</td>\n",
              "      <td>1918-02-1</td>\n",
              "      <td>Nc1c(Cl)c([n]c(Cl)c1Cl)C(O)=O</td>\n",
              "      <td>NaN</td>\n",
              "    </tr>\n",
              "    <tr>\n",
              "      <th>1</th>\n",
              "      <td>1</td>\n",
              "      <td>50-27-1</td>\n",
              "      <td>C[C@]12CC[C@H]3[C@@H](CCc4cc(O)ccc43)[C@@H]1C[...</td>\n",
              "      <td>NaN</td>\n",
              "    </tr>\n",
              "    <tr>\n",
              "      <th>2</th>\n",
              "      <td>1</td>\n",
              "      <td>500-38-9</td>\n",
              "      <td>CC(Cc1cc(O)c(O)cc1)C(C)Cc1cc(O)c(O)cc1</td>\n",
              "      <td>NaN</td>\n",
              "    </tr>\n",
              "    <tr>\n",
              "      <th>3</th>\n",
              "      <td>1</td>\n",
              "      <td>521-18-6</td>\n",
              "      <td>C[C@]12CC[C@H]3[C@@H](CC[C@H]4CC(=O)CC[C@@]43C...</td>\n",
              "      <td>NaN</td>\n",
              "    </tr>\n",
              "    <tr>\n",
              "      <th>4</th>\n",
              "      <td>1</td>\n",
              "      <td>DB06710</td>\n",
              "      <td>CC12CCC3C(CCC4=CC(=O)CCC43C)C1CCC2(C)O</td>\n",
              "      <td>NaN</td>\n",
              "    </tr>\n",
              "    <tr>\n",
              "      <th>...</th>\n",
              "      <td>...</td>\n",
              "      <td>...</td>\n",
              "      <td>...</td>\n",
              "      <td>...</td>\n",
              "    </tr>\n",
              "    <tr>\n",
              "      <th>1666</th>\n",
              "      <td>0</td>\n",
              "      <td>NOCAS_48509</td>\n",
              "      <td>CCCN(C1CCN(CC1)C(=O)C1CCNCC1)[C@H]1Cc2cc(ccc2C...</td>\n",
              "      <td>NaN</td>\n",
              "    </tr>\n",
              "    <tr>\n",
              "      <th>1667</th>\n",
              "      <td>0</td>\n",
              "      <td>NOCAS_48514</td>\n",
              "      <td>Cc1ccc(c(Cl)c1)C(=O)NS(=O)(=O)/C=C/c1ccc(cc1)OC</td>\n",
              "      <td>NaN</td>\n",
              "    </tr>\n",
              "    <tr>\n",
              "      <th>1668</th>\n",
              "      <td>0</td>\n",
              "      <td>NOCAS_48516</td>\n",
              "      <td>O=C(NS(=O)(=O)/C=C/c1ccccc1)c1ccc(F)cc1Cl</td>\n",
              "      <td>NaN</td>\n",
              "    </tr>\n",
              "    <tr>\n",
              "      <th>1669</th>\n",
              "      <td>0</td>\n",
              "      <td>NOCAS_48518</td>\n",
              "      <td>O=C(NS(=O)(=O)/C=C/c1ccc[s]1)c1ccc(F)cc1Br</td>\n",
              "      <td>NaN</td>\n",
              "    </tr>\n",
              "    <tr>\n",
              "      <th>1670</th>\n",
              "      <td>0</td>\n",
              "      <td>102-71-6</td>\n",
              "      <td>OCCN(CCO)CCO</td>\n",
              "      <td>NaN</td>\n",
              "    </tr>\n",
              "  </tbody>\n",
              "</table>\n",
              "<p>1671 rows × 4 columns</p>\n",
              "</div>"
            ],
            "text/plain": [
              "      bindingClass  ... Unnamed: 3\n",
              "0                0  ...        NaN\n",
              "1                1  ...        NaN\n",
              "2                1  ...        NaN\n",
              "3                1  ...        NaN\n",
              "4                1  ...        NaN\n",
              "...            ...  ...        ...\n",
              "1666             0  ...        NaN\n",
              "1667             0  ...        NaN\n",
              "1668             0  ...        NaN\n",
              "1669             0  ...        NaN\n",
              "1670             0  ...        NaN\n",
              "\n",
              "[1671 rows x 4 columns]"
            ]
          },
          "metadata": {
            "tags": []
          },
          "execution_count": 21
        }
      ]
    },
    {
      "cell_type": "code",
      "metadata": {
        "id": "1aI9KOAlFAXE",
        "colab_type": "code",
        "colab": {}
      },
      "source": [
        "PandasTools.AddMoleculeColumnToFrame(df, \"SMILES\",\"Mol\")"
      ],
      "execution_count": 0,
      "outputs": []
    },
    {
      "cell_type": "code",
      "metadata": {
        "id": "uWO6lvGoJj6a",
        "colab_type": "code",
        "colab": {}
      },
      "source": [
        "current_dir = os.path.dirname(os.path.realpath(\"__file__\"))\n",
        "dc.utils.download_url(\"https://hermes.chem.ut.ee/~alfx/ML/binders_smi.csv\",  current_dir)"
      ],
      "execution_count": 0,
      "outputs": []
    },
    {
      "cell_type": "code",
      "metadata": {
        "id": "Vgs83tUjFAXG",
        "colab_type": "code",
        "colab": {}
      },
      "source": [
        "active_df = pd.read_csv(\"binders_smi.csv\",sep=\" \")"
      ],
      "execution_count": 0,
      "outputs": []
    },
    {
      "cell_type": "code",
      "metadata": {
        "id": "4qxo-E_1FAXI",
        "colab_type": "code",
        "colab": {}
      },
      "source": [
        ""
      ],
      "execution_count": 0,
      "outputs": []
    },
    {
      "cell_type": "code",
      "metadata": {
        "id": "KKivx9KTFAXK",
        "colab_type": "code",
        "colab": {}
      },
      "source": [
        "active_df_rows, active_df_cols = active_df.shape"
      ],
      "execution_count": 0,
      "outputs": []
    },
    {
      "cell_type": "code",
      "metadata": {
        "id": "0l-46hWUFAXO",
        "colab_type": "code",
        "outputId": "87343489-3153-4508-c554-9fa429780a20",
        "colab": {
          "base_uri": "https://localhost:8080/",
          "height": 419
        }
      },
      "source": [
        "active_df"
      ],
      "execution_count": 26,
      "outputs": [
        {
          "output_type": "execute_result",
          "data": {
            "text/html": [
              "<div>\n",
              "<style scoped>\n",
              "    .dataframe tbody tr th:only-of-type {\n",
              "        vertical-align: middle;\n",
              "    }\n",
              "\n",
              "    .dataframe tbody tr th {\n",
              "        vertical-align: top;\n",
              "    }\n",
              "\n",
              "    .dataframe thead th {\n",
              "        text-align: right;\n",
              "    }\n",
              "</style>\n",
              "<table border=\"1\" class=\"dataframe\">\n",
              "  <thead>\n",
              "    <tr style=\"text-align: right;\">\n",
              "      <th></th>\n",
              "      <th>bindingClass</th>\n",
              "      <th>casrn</th>\n",
              "      <th>SMILES</th>\n",
              "    </tr>\n",
              "  </thead>\n",
              "  <tbody>\n",
              "    <tr>\n",
              "      <th>0</th>\n",
              "      <td>1</td>\n",
              "      <td>50-27-1</td>\n",
              "      <td>C[C@]12CC[C@H]3[C@@H](CCc4cc(O)ccc43)[C@@H]1C[...</td>\n",
              "    </tr>\n",
              "    <tr>\n",
              "      <th>1</th>\n",
              "      <td>1</td>\n",
              "      <td>500-38-9</td>\n",
              "      <td>CC(Cc1cc(O)c(O)cc1)C(C)Cc1cc(O)c(O)cc1</td>\n",
              "    </tr>\n",
              "    <tr>\n",
              "      <th>2</th>\n",
              "      <td>1</td>\n",
              "      <td>521-18-6</td>\n",
              "      <td>C[C@]12CC[C@H]3[C@@H](CC[C@H]4CC(=O)CC[C@@]43C...</td>\n",
              "    </tr>\n",
              "    <tr>\n",
              "      <th>3</th>\n",
              "      <td>1</td>\n",
              "      <td>DB06710</td>\n",
              "      <td>CC12CCC3C(CCC4=CC(=O)CCC43C)C1CCC2(C)O</td>\n",
              "    </tr>\n",
              "    <tr>\n",
              "      <th>4</th>\n",
              "      <td>1</td>\n",
              "      <td>50-28-2</td>\n",
              "      <td>C[C@]12CC[C@H]3[C@@H](CCc4cc(O)ccc43)[C@@H]1CC...</td>\n",
              "    </tr>\n",
              "    <tr>\n",
              "      <th>...</th>\n",
              "      <td>...</td>\n",
              "      <td>...</td>\n",
              "      <td>...</td>\n",
              "    </tr>\n",
              "    <tr>\n",
              "      <th>200</th>\n",
              "      <td>1</td>\n",
              "      <td>NOCAS_47353</td>\n",
              "      <td>CN(C)C(=O)C1(CCN(CCC2(CN(CCO2)C(=O)c2ccccc2)c2...</td>\n",
              "    </tr>\n",
              "    <tr>\n",
              "      <th>201</th>\n",
              "      <td>1</td>\n",
              "      <td>NOCAS_47377</td>\n",
              "      <td>CC(C)N1CCC(CC1)NC(=O)c1cc2cc(ccc2[n]1Cc1cc(o[n...</td>\n",
              "    </tr>\n",
              "    <tr>\n",
              "      <th>202</th>\n",
              "      <td>1</td>\n",
              "      <td>NOCAS_47379</td>\n",
              "      <td>CCN(Cc1c[n]ccc1)C(=O)c1cccc(Cl)c1[C@]1(C)C(=O)...</td>\n",
              "    </tr>\n",
              "    <tr>\n",
              "      <th>203</th>\n",
              "      <td>1</td>\n",
              "      <td>NOCAS_47389</td>\n",
              "      <td>CCOC(=O)c1ccc(cc1)[C@@H]1CC[C@H](CC1)NC[C@H](O...</td>\n",
              "    </tr>\n",
              "    <tr>\n",
              "      <th>204</th>\n",
              "      <td>1</td>\n",
              "      <td>NOCAS_48505</td>\n",
              "      <td>Cc1[nH][n]c2Nc3ccc(cc3C(=Nc21)c1ccccc1Cl)[N+](...</td>\n",
              "    </tr>\n",
              "  </tbody>\n",
              "</table>\n",
              "<p>205 rows × 3 columns</p>\n",
              "</div>"
            ],
            "text/plain": [
              "     bindingClass  ...                                             SMILES\n",
              "0               1  ...  C[C@]12CC[C@H]3[C@@H](CCc4cc(O)ccc43)[C@@H]1C[...\n",
              "1               1  ...             CC(Cc1cc(O)c(O)cc1)C(C)Cc1cc(O)c(O)cc1\n",
              "2               1  ...  C[C@]12CC[C@H]3[C@@H](CC[C@H]4CC(=O)CC[C@@]43C...\n",
              "3               1  ...             CC12CCC3C(CCC4=CC(=O)CCC43C)C1CCC2(C)O\n",
              "4               1  ...  C[C@]12CC[C@H]3[C@@H](CCc4cc(O)ccc43)[C@@H]1CC...\n",
              "..            ...  ...                                                ...\n",
              "200             1  ...  CN(C)C(=O)C1(CCN(CCC2(CN(CCO2)C(=O)c2ccccc2)c2...\n",
              "201             1  ...  CC(C)N1CCC(CC1)NC(=O)c1cc2cc(ccc2[n]1Cc1cc(o[n...\n",
              "202             1  ...  CCN(Cc1c[n]ccc1)C(=O)c1cccc(Cl)c1[C@]1(C)C(=O)...\n",
              "203             1  ...  CCOC(=O)c1ccc(cc1)[C@@H]1CC[C@H](CC1)NC[C@H](O...\n",
              "204             1  ...  Cc1[nH][n]c2Nc3ccc(cc3C(=Nc21)c1ccccc1Cl)[N+](...\n",
              "\n",
              "[205 rows x 3 columns]"
            ]
          },
          "metadata": {
            "tags": []
          },
          "execution_count": 26
        }
      ]
    },
    {
      "cell_type": "code",
      "metadata": {
        "id": "9p3toUgfFAXQ",
        "colab_type": "code",
        "colab": {}
      },
      "source": [
        ""
      ],
      "execution_count": 0,
      "outputs": []
    },
    {
      "cell_type": "code",
      "metadata": {
        "id": "3kL8GZzJFAXU",
        "colab_type": "code",
        "colab": {}
      },
      "source": [
        "PandasTools.AddMoleculeColumnToFrame(active_df,\"SMILES\",\"Mol\")"
      ],
      "execution_count": 0,
      "outputs": []
    },
    {
      "cell_type": "code",
      "metadata": {
        "id": "IQHSCbKiFAXW",
        "colab_type": "code",
        "colab": {}
      },
      "source": [
        ""
      ],
      "execution_count": 0,
      "outputs": []
    },
    {
      "cell_type": "code",
      "metadata": {
        "id": "DIageR1qFAXY",
        "colab_type": "code",
        "colab": {}
      },
      "source": [
        "#df.columns = [\"SMILES\",\"s_m_title\",\"bindingClass\",\"Mol\"]"
      ],
      "execution_count": 0,
      "outputs": []
    },
    {
      "cell_type": "code",
      "metadata": {
        "id": "UidV8Q1dFAXa",
        "colab_type": "code",
        "outputId": "80df4a38-7868-48fa-bc83-97f77feab015",
        "colab": {
          "base_uri": "https://localhost:8080/",
          "height": 34
        }
      },
      "source": [
        "print([str(x) for x in active_df.columns])"
      ],
      "execution_count": 29,
      "outputs": [
        {
          "output_type": "stream",
          "text": [
            "['bindingClass', 'casrn', 'SMILES', 'Mol']\n"
          ],
          "name": "stdout"
        }
      ]
    },
    {
      "cell_type": "code",
      "metadata": {
        "id": "Rr-H-e6yJ1kZ",
        "colab_type": "code",
        "colab": {}
      },
      "source": [
        "current_dir = os.path.dirname(os.path.realpath(\"__file__\"))\n",
        "dc.utils.download_url(\"https://hermes.chem.ut.ee/~alfx/ML/nonbinders_smi.csv\",  current_dir)"
      ],
      "execution_count": 0,
      "outputs": []
    },
    {
      "cell_type": "code",
      "metadata": {
        "id": "u1gaZY_dFAXc",
        "colab_type": "code",
        "colab": {}
      },
      "source": [
        "inactive_df = pd.read_csv(\"nonbinders_smi.csv\",sep=\" \")"
      ],
      "execution_count": 0,
      "outputs": []
    },
    {
      "cell_type": "code",
      "metadata": {
        "id": "GCvZyUkHJ0rw",
        "colab_type": "code",
        "colab": {}
      },
      "source": [
        ""
      ],
      "execution_count": 0,
      "outputs": []
    },
    {
      "cell_type": "code",
      "metadata": {
        "id": "qjWUNMeTFAXe",
        "colab_type": "code",
        "colab": {}
      },
      "source": [
        "tmp_df = active_df.append(inactive_df)"
      ],
      "execution_count": 0,
      "outputs": []
    },
    {
      "cell_type": "code",
      "metadata": {
        "id": "S8ZB50XdFAXg",
        "colab_type": "code",
        "colab": {}
      },
      "source": [
        "active_df[\"label\"] = [\"Binders\"]*active_df_rows"
      ],
      "execution_count": 0,
      "outputs": []
    },
    {
      "cell_type": "code",
      "metadata": {
        "id": "4LVaI2BVFAXi",
        "colab_type": "code",
        "colab": {}
      },
      "source": [
        "PandasTools.AddMoleculeColumnToFrame(inactive_df,\"SMILES\",\"Mol\")"
      ],
      "execution_count": 0,
      "outputs": []
    },
    {
      "cell_type": "code",
      "metadata": {
        "id": "LG8Zt8DJFAXk",
        "colab_type": "code",
        "colab": {}
      },
      "source": [
        ""
      ],
      "execution_count": 0,
      "outputs": []
    },
    {
      "cell_type": "code",
      "metadata": {
        "id": "HarJ_yE1FAXm",
        "colab_type": "code",
        "colab": {}
      },
      "source": [
        "inactive_df_rows, inactive_df_cols = inactive_df.shape"
      ],
      "execution_count": 0,
      "outputs": []
    },
    {
      "cell_type": "code",
      "metadata": {
        "id": "27h5h-srFAXo",
        "colab_type": "code",
        "colab": {}
      },
      "source": [
        ""
      ],
      "execution_count": 0,
      "outputs": []
    },
    {
      "cell_type": "code",
      "metadata": {
        "id": "MzJX9AW9FAXq",
        "colab_type": "code",
        "colab": {}
      },
      "source": [
        "inactive_df[\"label\"] = [\"Nonbinders\"]*inactive_df_rows"
      ],
      "execution_count": 0,
      "outputs": []
    },
    {
      "cell_type": "code",
      "metadata": {
        "id": "AVyKgJfYFAXu",
        "colab_type": "code",
        "colab": {}
      },
      "source": [
        "tmp_df = active_df.append(inactive_df)"
      ],
      "execution_count": 0,
      "outputs": []
    },
    {
      "cell_type": "code",
      "metadata": {
        "id": "J-MQ45BzFAXw",
        "colab_type": "code",
        "colab": {}
      },
      "source": [
        ""
      ],
      "execution_count": 0,
      "outputs": []
    },
    {
      "cell_type": "code",
      "metadata": {
        "id": "Pf5LJtqAFAXz",
        "colab_type": "code",
        "colab": {}
      },
      "source": [
        "###fig = sns.violinplot(tmp_df[\"label\"], tmp_df[\"ChimpDockScore\"])"
      ],
      "execution_count": 0,
      "outputs": []
    },
    {
      "cell_type": "code",
      "metadata": {
        "id": "3uA4vxz1FAX3",
        "colab_type": "code",
        "colab": {}
      },
      "source": [
        "###fig_chimpdockscore = fig.get_figure()"
      ],
      "execution_count": 0,
      "outputs": []
    },
    {
      "cell_type": "code",
      "metadata": {
        "id": "dVEh4PPLFAX5",
        "colab_type": "code",
        "colab": {}
      },
      "source": [
        "###fig_chimpdockscore.savefig('fig_chimpdockscore.png',dpi=600)"
      ],
      "execution_count": 0,
      "outputs": []
    },
    {
      "cell_type": "code",
      "metadata": {
        "id": "fmMI0CwXFAX8",
        "colab_type": "code",
        "colab": {}
      },
      "source": [
        "###fig2 = sns.violinplot(tmp_df[\"label\"], tmp_df[\"avgD_Act\"])"
      ],
      "execution_count": 0,
      "outputs": []
    },
    {
      "cell_type": "code",
      "metadata": {
        "id": "SehHkG3hFAX_",
        "colab_type": "code",
        "colab": {}
      },
      "source": [
        "###fig_avgD_Act = fig2.get_figure()"
      ],
      "execution_count": 0,
      "outputs": []
    },
    {
      "cell_type": "code",
      "metadata": {
        "id": "Nvw5FTApFAYB",
        "colab_type": "code",
        "colab": {}
      },
      "source": [
        "###fig_avgD_Act.savefig('fig_avgD_Act.png',dpi=600)"
      ],
      "execution_count": 0,
      "outputs": []
    },
    {
      "cell_type": "code",
      "metadata": {
        "id": "Stxw--ZkFAYD",
        "colab_type": "code",
        "colab": {}
      },
      "source": [
        ""
      ],
      "execution_count": 0,
      "outputs": []
    },
    {
      "cell_type": "code",
      "metadata": {
        "id": "BgjfDulAFAYE",
        "colab_type": "code",
        "colab": {}
      },
      "source": [
        "###fig3 = sns.violinplot(tmp_df[\"label\"], tmp_df[\"avgD_Inact\"])"
      ],
      "execution_count": 0,
      "outputs": []
    },
    {
      "cell_type": "code",
      "metadata": {
        "id": "x2et5QcrFAYG",
        "colab_type": "code",
        "colab": {}
      },
      "source": [
        "###fig_avgD_Inact = fig3.get_figure()"
      ],
      "execution_count": 0,
      "outputs": []
    },
    {
      "cell_type": "code",
      "metadata": {
        "id": "i-raJK76FAYI",
        "colab_type": "code",
        "colab": {}
      },
      "source": [
        "###fig_avgD_Inact.savefig('fig_avgD_Inact.png',dpi=600)"
      ],
      "execution_count": 0,
      "outputs": []
    },
    {
      "cell_type": "code",
      "metadata": {
        "id": "W70JGlFgFAYL",
        "colab_type": "code",
        "colab": {}
      },
      "source": [
        ""
      ],
      "execution_count": 0,
      "outputs": []
    },
    {
      "cell_type": "code",
      "metadata": {
        "id": "8oc1WWe8FAYO",
        "colab_type": "code",
        "colab": {}
      },
      "source": [
        "###fig4 = sns.violinplot(tmp_df[\"label\"], tmp_df[\"P_Act_dockChimp\"])"
      ],
      "execution_count": 0,
      "outputs": []
    },
    {
      "cell_type": "code",
      "metadata": {
        "id": "w3FR9EY7FAYT",
        "colab_type": "code",
        "colab": {}
      },
      "source": [
        "###fig_P_Act_dockChimp = fig4.get_figure()"
      ],
      "execution_count": 0,
      "outputs": []
    },
    {
      "cell_type": "code",
      "metadata": {
        "id": "xr643W9pFAYU",
        "colab_type": "code",
        "colab": {}
      },
      "source": [
        "###fig_P_Act_dockChimp.savefig('fig_P_Act_dockChimp.png',dpi=600)"
      ],
      "execution_count": 0,
      "outputs": []
    },
    {
      "cell_type": "code",
      "metadata": {
        "id": "hsQzg3qiFAYX",
        "colab_type": "code",
        "colab": {}
      },
      "source": [
        ""
      ],
      "execution_count": 0,
      "outputs": []
    },
    {
      "cell_type": "code",
      "metadata": {
        "id": "sNtaJmMJFAYZ",
        "colab_type": "code",
        "colab": {}
      },
      "source": [
        "###fig5 = sns.violinplot(tmp_df[\"label\"], tmp_df[\"P_Inact\"])"
      ],
      "execution_count": 0,
      "outputs": []
    },
    {
      "cell_type": "code",
      "metadata": {
        "id": "4gOLAguVFAYb",
        "colab_type": "code",
        "colab": {}
      },
      "source": [
        "###fig_P_Inact = fig5.get_figure()"
      ],
      "execution_count": 0,
      "outputs": []
    },
    {
      "cell_type": "code",
      "metadata": {
        "id": "hEFOp3aVFAYd",
        "colab_type": "code",
        "colab": {}
      },
      "source": [
        "###fig_P_Inact.savefig('fig_P_Inact.png',dpi=600)"
      ],
      "execution_count": 0,
      "outputs": []
    },
    {
      "cell_type": "code",
      "metadata": {
        "id": "OIlpWLMrFAYf",
        "colab_type": "code",
        "colab": {}
      },
      "source": [
        ""
      ],
      "execution_count": 0,
      "outputs": []
    },
    {
      "cell_type": "code",
      "metadata": {
        "id": "es8wYl4uFAYh",
        "colab_type": "code",
        "colab": {}
      },
      "source": [
        "bal_df = tmp_df"
      ],
      "execution_count": 0,
      "outputs": []
    },
    {
      "cell_type": "code",
      "metadata": {
        "id": "HEsUD3UtFAYi",
        "colab_type": "code",
        "colab": {}
      },
      "source": [
        "g = bal_df.groupby('bindingClass')\n",
        "g = pd.DataFrame(g.apply(lambda x: x.sample(g.size().min()).reset_index(drop=True)))"
      ],
      "execution_count": 0,
      "outputs": []
    },
    {
      "cell_type": "code",
      "metadata": {
        "id": "2e4aeKHZFAYk",
        "colab_type": "code",
        "outputId": "da854327-3670-4730-fef3-5a40a20e0288",
        "colab": {
          "base_uri": "https://localhost:8080/",
          "height": 1000
        }
      },
      "source": [
        "g"
      ],
      "execution_count": 55,
      "outputs": [
        {
          "output_type": "execute_result",
          "data": {
            "text/html": [
              "<div>\n",
              "<style scoped>\n",
              "    .dataframe tbody tr th:only-of-type {\n",
              "        vertical-align: middle;\n",
              "    }\n",
              "\n",
              "    .dataframe tbody tr th {\n",
              "        vertical-align: top;\n",
              "    }\n",
              "\n",
              "    .dataframe thead th {\n",
              "        text-align: right;\n",
              "    }\n",
              "</style>\n",
              "<table border=\"1\" class=\"dataframe\">\n",
              "  <thead>\n",
              "    <tr style=\"text-align: right;\">\n",
              "      <th></th>\n",
              "      <th></th>\n",
              "      <th>bindingClass</th>\n",
              "      <th>casrn</th>\n",
              "      <th>SMILES</th>\n",
              "      <th>Mol</th>\n",
              "      <th>label</th>\n",
              "    </tr>\n",
              "    <tr>\n",
              "      <th>bindingClass</th>\n",
              "      <th></th>\n",
              "      <th></th>\n",
              "      <th></th>\n",
              "      <th></th>\n",
              "      <th></th>\n",
              "      <th></th>\n",
              "    </tr>\n",
              "  </thead>\n",
              "  <tbody>\n",
              "    <tr>\n",
              "      <th rowspan=\"5\" valign=\"top\">0</th>\n",
              "      <th>0</th>\n",
              "      <td>0</td>\n",
              "      <td>100-01-6</td>\n",
              "      <td>Nc1ccc(cc1)[N+]([O-])=O</td>\n",
              "      <td><img data-content=\"rdkit/molecule\" src=\"data:image/png;base64,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\" alt=\"Mol\"/></td>\n",
              "      <td>Nonbinders</td>\n",
              "    </tr>\n",
              "    <tr>\n",
              "      <th>1</th>\n",
              "      <td>0</td>\n",
              "      <td>140-38-5</td>\n",
              "      <td>NC(=O)Nc1ccc(Cl)cc1</td>\n",
              "      <td><img data-content=\"rdkit/molecule\" src=\"data:image/png;base64,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\" alt=\"Mol\"/></td>\n",
              "      <td>Nonbinders</td>\n",
              "    </tr>\n",
              "    <tr>\n",
              "      <th>2</th>\n",
              "      <td>0</td>\n",
              "      <td>3033-77-0</td>\n",
              "      <td>C[N+](C)(C)CC1CO1</td>\n",
              "      <td><img data-content=\"rdkit/molecule\" src=\"data:image/png;base64,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\" alt=\"Mol\"/></td>\n",
              "      <td>Nonbinders</td>\n",
              "    </tr>\n",
              "    <tr>\n",
              "      <th>3</th>\n",
              "      <td>0</td>\n",
              "      <td>111-70-6</td>\n",
              "      <td>CCCCCCCO</td>\n",
              "      <td><img data-content=\"rdkit/molecule\" src=\"data:image/png;base64,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\" alt=\"Mol\"/></td>\n",
              "      <td>Nonbinders</td>\n",
              "    </tr>\n",
              "    <tr>\n",
              "      <th>4</th>\n",
              "      <td>0</td>\n",
              "      <td>78-82-0</td>\n",
              "      <td>CC(C)C#N</td>\n",
              "      <td><img data-content=\"rdkit/molecule\" src=\"data:image/png;base64,iVBORw0KGgoAAAANSUhEUgAAAMgAAADICAIAAAAiOjnJAAAABmJLR0QA/wD/AP+gvaeTAAAMGElEQVR4nO3da0yTZxsH8KscxjRIRkfixLiECS1YZpd1DIeyzTl2wOkSQL4oZHNODQqWypgaVIYLy04e0yxkS1x0yQ66LcvYybiZGBdxvjJdEFoKc9HIagaVdJzKoc/74dnr3ux9oQfu62mf9v8L32jv+8L+vZ6mfe771kiSRACixYS6AIhMCBawQLCABYIFLBAsYIFgAQsEC1ggWMACwQIWCBawQLCABYIFLBAsYIFgAQsEC1ggWMACwQIWCBawQLCABYIFLBAsYIFgAQsEC1ggWMACwQIWCBawQLCABYIFLBAsYIFgAQsEC1ggWMACwQIWCBawQLCABYIFLBAsYDFVsLChMgRt0mC1tLTk5uZ+++23SlYDEWPSYJ05c+b8+fPV1dVjY2NKFgSRYdJgVVVV6fV6m81mtVqVLAgig2aKN1LNzc0rVqy44447HA5HSkqKkmWB2k315v2ZZ5556qmn+vv7d+3apVhBEBmm6lhE1NHRYTQavV7vhQsXjEajYmWB2vn4HCsrK6uiomJiYqK6ulqZgiAy+OhYRHTz5k2dTtfb23v8+PHi4mJlygK18/3Je3JyckNDAxG99NJLIyMj/CVBJPDrK53169cvXLjwypUre/fu5S4IIoPvS6Hs1KlTjz32WGJiot1uT01N5S4L1M7fL6GXLl1aVFQ0MDCwfft21oIgMvjbsYjoypUrCxYs8Hg8p0+fXrJkCWtZoHYB3DaTlpZmsVgkSTKbzV6vl68miAABdCwiGhgY0Ov1PT09R44cKSsr4ysL1C6wG/0SExMbGxuJqLa21u1285QEkSDgO0jLy8tzc3OdTucbb7zBURBEhsAuhbKWlpa8vLzbbrutra0tPT2doyxQu2DueV+0aNGaNWs8Hs+2bduEFwSRIZiORUTXr1/PzMwcGBg4ceJEQUGB8LJA7YJcpTN37tyXX36ZiKqrq8fHx4WWBJEg+OVfNTU1aWlply9ffu+99wQWBJEhyEuh7Pjx46tWrdJqtZ2dnXfeeafAskDtprVgtaSkpKCgwOVyvfrqq6IKgsgwrY5FRJcvX77vvvuI6OLFiwaDQVBVoHrTXWJvMBheeOGF8fFxs9kspCCIDNPtWETkcrkyMjJcLldzc/Py5cuFlAVqJ2BTEK1WW1dXR0Rms9nj8Ux/QIgAYnabqaysNBgMXV1dWDYNMgGXQtnJkycLCgqSkpLsdvtdd90lZExQL2H7Yz3++OOFhYVut3v37t2ixgT1EtaxiKirqys7O3tsbOzcuXMPPPCAqGFBjUTu6Jeenr5p0yav12s2m7FpW5QT2bGIyO126/V6p9P5ySefrFq1SuDIoC6C9yBNSkp65ZVXiGjr1q1DQ0NiBwcVEb+57bp160wm07Vr195++23hg4NaCL4Uyn788cf8/Pzbb7/dZrPdfffdwseH8MeyHffixYtLSkqGh4d37NjBMT6EP5aORUTXrl3LzMwcHh7GsunoxHWAwLx58+Rl01u2bMGy6SjE1bGIaGhoKCsr6+rVq4cPH37uueeYZoHwxBgsIvrggw/Kyspmz57d2dmZlJTENxGEG96zdFavXr1kyZIbN2689tprrBNBuOHtWETU2tqak5MTFxfX1taWkZHBOheED/bTv+6///6ysrLR0VF5HSJECfaORUQ3btzQ6XRut/u777574oknuKeDcKDEeYWzZ8+Wd3nAsmkiMpvNcUJlZo7ExZGonzlzxPyZCh2EuXXr1oyMjPb29qamJmVmDFsT4mkmJkjUj6j/+EpcCmWff/55UVFRcnKyw+GI5mXTXq9X7CfGGk2cwNdQo6HYWBHjKHlH3pNPPnnixImqqqoDBw4oNimEhKLBam9vl096am1tvffeexWbF5Sn6GHjCxYsWL9+/fj4OI58iniKdiwicrlcOp2ur6/viy++WLlypZJTg5IU7VhEpNVq5WM1LRYLlk1HMKWDRUQVFRXZ2dnd3d0HDx5UfnZQRgiCFRcXt3//fiLas2fP77//rnwB4JPNRhoNaTS0ceM/f5WdTRoNdXX5GCEEwSKiZcuWrVix4s8//9y5c2dICgA/HTlCfX3BPDE0wSKiffv2JSQkHD58+Pz586GqAaaWkEDDw/TOO8E8N2TBmj9/flVVldfr3bJlC5ZNh6f8fJo1i6xWGh0N+LkhCxYR7dy5c86cOWfPnv34449DWAZMxuultWvJ6aQPPwz8yVJIvfvuu0QUHx8v/B8lhGKFfNk2uUce+ReRxPSTkiJJktTRIRFJDz0kdXdLMTGS0fj3S2YwSESSw+HjlQ1lx4Iw5/XSPffQs8/SpUv0/fcBPpmxHfnidrvlLdo++uijEJYB/0vuWLm5kiRJp09LRFJh4V+/UkHHamhocDqdeXl5paWlISwDppafTyYTffMN2e0BPCtkweru7j506FBMTMz+/fs1Gk2oygB/VFeTJNG+fQE8JWTBkrdYXrt2bU5OTqhqAD+VllJq6l8flsb4F5nQBOvkyZPNzc2zZs1qaGgISQEQkPh42rz5rw9LZ8zw6ykhCNat+7F27do1R9S9+8BswwaaOZOsVkpM9OvxIQiW1Wpta2ubP39+ZWWl8rNDcLRaKi8np5POnfPr8UoHy+Vy7dmzh/7zXaHCs8N0mM2k0dDgoF8PVjpYdXV1fX198t0NCk8N06TX09NP+/tgRW9NvnUG3c8//5ydna3YvKA8RTuWvBJ606ZNSFXEU65jffbZZ8XFxTjnN0oWrCr0XaHH45H3MLJarcrMGLY2b94s4nX7W3r6iPC7G6YvTuwfOZm33nrL4XDI6wqVmTFsxcbGir2vJjZWEjhenKBEYBsjYKHEm/fa2lq3211UVIRURQ/2jnXhwoUHH3wQW0VGG96OJUmS2Wz2er3y/lisc0FY4e1YR48eLS8vx3bcUYixYw0NDcmn27/++utIVbRhDFZjY+PVq1dNJlNZWRnfLBCecEgTsODqWBaLZWhoSD6ZgmkKCGcsHevMmTMPP/zwjBkzOjo6cBBmdBLfsW6dYr99+3akKmqJ71hNTU0bN26cN2+ezWabOXOm2MFBLQQHy+126/V6p9N57NixkpISgSODugi+FNbX1zudzsWLFxcXF4sdGdRFZMfq6uoyGAzj4+M//fSTyWQSNSyokciOVVVVNTo6+uKLLyJVIKxjff3118uXL09KSrLb7fIeMhDNxHSssbExi8VCRPX19UgVkKhgHTp0yG63p6enV1RUCBkQ1E7ApfCPP/7Q6XT9/f1fffVVYWGhkLJA7QR0rLq6uv7+/oKCAqQKbplux7p06ZLJZNJoNBcvXjQYDKLKArWbbscym80TExOVlZVIFfy3aXWsY8eOlZaWarVah8Oh1WoFlgVqF3zHGhkZqa2tJaLGxkakCv4h+GC9+eabv/32m9FoXLduncCCIDIEeSm8fv26Xq8fHBw8derUo48+KroqUL0gO9a2bdsGBwdLSkqQKvi/gulYLS0teXl5CQkJ7e3taWlpHGWB2gXcsSRJkg+Cq6mpQapgMgF3rPfff//555+fO3euzWZL9HNrZog+gQVrYGBAr9f39PQcPXp0zZo1fGWB2gV2KWxsbOzp6Vm0aNHq1auZCoLIEEDH+vXXXw0Gg8fjOXv2bG5uLmtZoHYBdKyampqRkZHy8nKkCnzyt2P98MMPy5YtS0xMtNvtqamp3GWB2vnVsSYmJuRjlXbs2IFUgT/8ClZTU9Mvv/ySlpYmxwvAJ9+Xwps3b+p0ut7e3k8//bSoqEiZskDtfHes+vr63t7epUuXIlXgPx8dq6Ojw2g0er3e1tbWhQsXKlYWqJ2PjmWxWMbGxjZs2IBUQUCm6lhffvnlypUrk5OTOzs7U1JSlCwL1G7SjjU6OlpTU0NEu3fvRqogUJMG68CBA52dnVlZWVjcDEGYNFj5+fk5OTl79+6Nj49XsiCIDFO9x5IkSaPRKFkNRAxFz4SG6KH0KfYQJRAsYIFgAQsEC1ggWMACwQIWCBawQLCABYIFLBAsYIFgAQsEC1ggWMACwQIWCBawQLCABYIFLBAsYIFgAQsEC1ggWMACwQIWCBawQLCABYIFLBAsYIFgAQsEC1ggWMACwQIWCBawQLCABYIFLBAsYIFgAQsEC1ggWMDi38mWbWKD9XkLAAAAAElFTkSuQmCC\" alt=\"Mol\"/></td>\n",
              "      <td>Nonbinders</td>\n",
              "    </tr>\n",
              "    <tr>\n",
              "      <th>...</th>\n",
              "      <th>...</th>\n",
              "      <td>...</td>\n",
              "      <td>...</td>\n",
              "      <td>...</td>\n",
              "      <td>...</td>\n",
              "      <td>...</td>\n",
              "    </tr>\n",
              "    <tr>\n",
              "      <th rowspan=\"5\" valign=\"top\">1</th>\n",
              "      <th>200</th>\n",
              "      <td>1</td>\n",
              "      <td>604-75-1</td>\n",
              "      <td>OC1N=C(c2cc(Cl)ccc2NC1=O)c1ccccc1</td>\n",
              "      <td><img data-content=\"rdkit/molecule\" src=\"data:image/png;base64,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\" alt=\"Mol\"/></td>\n",
              "      <td>Binders</td>\n",
              "    </tr>\n",
              "    <tr>\n",
              "      <th>201</th>\n",
              "      <td>1</td>\n",
              "      <td>85509-19-9</td>\n",
              "      <td>C[Si](C[n]1c[n]c[n]1)(c1ccc(F)cc1)c1ccc(F)cc1</td>\n",
              "      <td><img data-content=\"rdkit/molecule\" src=\"data:image/png;base64,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\" alt=\"Mol\"/></td>\n",
              "      <td>Binders</td>\n",
              "    </tr>\n",
              "    <tr>\n",
              "      <th>202</th>\n",
              "      <td>1</td>\n",
              "      <td>63612-50-0</td>\n",
              "      <td>CC1(C)NC(=O)N(C1=O)c1cc(c(cc1)[N+]([O-])=O)C(F...</td>\n",
              "      <td><img data-content=\"rdkit/molecule\" src=\"data:image/png;base64,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\" alt=\"Mol\"/></td>\n",
              "      <td>Binders</td>\n",
              "    </tr>\n",
              "    <tr>\n",
              "      <th>203</th>\n",
              "      <td>1</td>\n",
              "      <td>2465-27-2</td>\n",
              "      <td>CN(C)c1ccc(cc1)C(=N)c1ccc(cc1)N(C)C</td>\n",
              "      <td><img data-content=\"rdkit/molecule\" src=\"data:image/png;base64,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\" alt=\"Mol\"/></td>\n",
              "      <td>Binders</td>\n",
              "    </tr>\n",
              "    <tr>\n",
              "      <th>204</th>\n",
              "      <td>1</td>\n",
              "      <td>206-44-0</td>\n",
              "      <td>c1ccc2c3c(cccc31)-c1ccccc1-2</td>\n",
              "      <td><img data-content=\"rdkit/molecule\" src=\"data:image/png;base64,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\" alt=\"Mol\"/></td>\n",
              "      <td>Binders</td>\n",
              "    </tr>\n",
              "  </tbody>\n",
              "</table>\n",
              "<p>410 rows × 5 columns</p>\n",
              "</div>"
            ],
            "text/plain": [
              "                  bindingClass  ...       label\n",
              "bindingClass                    ...            \n",
              "0            0               0  ...  Nonbinders\n",
              "             1               0  ...  Nonbinders\n",
              "             2               0  ...  Nonbinders\n",
              "             3               0  ...  Nonbinders\n",
              "             4               0  ...  Nonbinders\n",
              "...                        ...  ...         ...\n",
              "1            200             1  ...     Binders\n",
              "             201             1  ...     Binders\n",
              "             202             1  ...     Binders\n",
              "             203             1  ...     Binders\n",
              "             204             1  ...     Binders\n",
              "\n",
              "[410 rows x 5 columns]"
            ]
          },
          "metadata": {
            "tags": []
          },
          "execution_count": 55
        }
      ]
    },
    {
      "cell_type": "code",
      "metadata": {
        "id": "88kTaqYGFAYm",
        "colab_type": "code",
        "outputId": "63d730a0-604f-48c1-8d82-f74eb9f5dd33",
        "colab": {
          "base_uri": "https://localhost:8080/",
          "height": 1000
        }
      },
      "source": [
        "g.head()"
      ],
      "execution_count": 56,
      "outputs": [
        {
          "output_type": "execute_result",
          "data": {
            "text/html": [
              "<div>\n",
              "<style scoped>\n",
              "    .dataframe tbody tr th:only-of-type {\n",
              "        vertical-align: middle;\n",
              "    }\n",
              "\n",
              "    .dataframe tbody tr th {\n",
              "        vertical-align: top;\n",
              "    }\n",
              "\n",
              "    .dataframe thead th {\n",
              "        text-align: right;\n",
              "    }\n",
              "</style>\n",
              "<table border=\"1\" class=\"dataframe\">\n",
              "  <thead>\n",
              "    <tr style=\"text-align: right;\">\n",
              "      <th></th>\n",
              "      <th></th>\n",
              "      <th>bindingClass</th>\n",
              "      <th>casrn</th>\n",
              "      <th>SMILES</th>\n",
              "      <th>Mol</th>\n",
              "      <th>label</th>\n",
              "    </tr>\n",
              "    <tr>\n",
              "      <th>bindingClass</th>\n",
              "      <th></th>\n",
              "      <th></th>\n",
              "      <th></th>\n",
              "      <th></th>\n",
              "      <th></th>\n",
              "      <th></th>\n",
              "    </tr>\n",
              "  </thead>\n",
              "  <tbody>\n",
              "    <tr>\n",
              "      <th rowspan=\"5\" valign=\"top\">0</th>\n",
              "      <th>0</th>\n",
              "      <td>0</td>\n",
              "      <td>100-01-6</td>\n",
              "      <td>Nc1ccc(cc1)[N+]([O-])=O</td>\n",
              "      <td><img data-content=\"rdkit/molecule\" src=\"data:image/png;base64,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\" alt=\"Mol\"/></td>\n",
              "      <td>Nonbinders</td>\n",
              "    </tr>\n",
              "    <tr>\n",
              "      <th>1</th>\n",
              "      <td>0</td>\n",
              "      <td>140-38-5</td>\n",
              "      <td>NC(=O)Nc1ccc(Cl)cc1</td>\n",
              "      <td><img data-content=\"rdkit/molecule\" src=\"data:image/png;base64,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\" alt=\"Mol\"/></td>\n",
              "      <td>Nonbinders</td>\n",
              "    </tr>\n",
              "    <tr>\n",
              "      <th>2</th>\n",
              "      <td>0</td>\n",
              "      <td>3033-77-0</td>\n",
              "      <td>C[N+](C)(C)CC1CO1</td>\n",
              "      <td><img data-content=\"rdkit/molecule\" src=\"data:image/png;base64,iVBORw0KGgoAAAANSUhEUgAAAMgAAADICAIAAAAiOjnJAAAABmJLR0QA/wD/AP+gvaeTAAARnklEQVR4nO3de1BTVx4H8F/CG1F5VURaIjAiVbdWAetOR8UObVF8VNZBmCqIHaKIw9itSrfVau24ILWWuoqggqJ1VNSuSrG4MKxlVQaLD5y6gogCvqDKo8JCEJLf/nEztCrQPM7JTcLv85eG3HN+LV/PPbkn91wJIgIhrEnFLoCYJwoW4YKCRbigYBEuKFiECwoW4YKCRbigYBEuKFiECwoW4YKCRbigYBEuKFiECwoW4YKCRbigYBEuKFiECwoW4YKCRbigYBEuKFiECwoW4YKCRbigYBEuKFiECwoW4YKCRbigYBEuKFiECwoW4YKCRbigYBEuKFiECwoW4YKCRbigYBEuKFiECwoW4YKCRbigYBEuKFiECwoW4YKCRbigYBEuKFiECwoW4YKCRbigYBEuKFiECwoW4YKCRbigYBEuKFiECwoW4YKCRbigYBEuKFiEiwEXrLNnzyYlJSGi2IWYOUuxCzCo+vr6yMjI+vp6Dw+PqKgoscsxZwNoxFIqlYsWLaqvr58+ffr7778vdjlmbgAFa+3atYWFhcOHDz948KCFhYXY5Zg5yQCZbeTl5c2ePdvCwqKoqGjKlClil2P+BsSIVVdXFx0djYhJSUmUKsMw/xGrq6tr2rRpJSUls2bNOnXqlEQiEbuiAcH8R6yVK1eWlJTIZLLs7GxKlcGYebCOHDmSlpZmY2Nz/PhxZ2dnscsxJv/9L7z3Hjg5gZ0dTJgA+/Yxbh/79ssvv/TzU+NXWVk5ZMgQAMjIyBC7FiNTXY2OjjhyJO7ahceO4Zw5CIBbtzLsoc9gtba2+vn5zZ07t7m5mWF/BtPW1jZ27FgAiIyMFLsW47NwIVpY4I0b6r8qlfjnP6O9Pf76K6se+gzWhQsXhg4dCgC+vr7l5eWs+jOY6OhoABg9evSTJ0/ErsX4ODrim28+80pGBgLgiROseujvVFhTUzNp0iQAsLW1Na2zSXp6OgA4ODhcv35d7FqMT0MDAuAHHzzzYnExAmBKCqtO+pu8y2Sy4uLihIQEhUKxdOnSqKio9vZ2xlM8DsrLyz/88EMASEtLGzNmjNjlGB/hl2hv/8yLdna//YgJTdJ34MCBQYMGAcCrr75q5GNAc3Ozt7c3AMTHx4tdi7F69AgBMCbmmRfz8xEAv/qKVScaBQsRb9y4IcyFBw8efOTIEVbds6VSqcLCwgAgMDBQoVCIXY4Rc3bGN9545pVt2xAAT59m1YOmwULE1tbWiIgIYZyTy+WdnZ2simAlLe0oADg7O9+5c0fsWoxbTAxKpfjzz+q/qlT4xhvo6Ijt7ax60CJYgoyMDGtrawAICAgwqt/ff/6D1taqoKCk3NxcsWsxenfuoLMzenpiZiaePInh4QiAe/Yw7EHrYCFiWVmZl5cXALi6uv7www8Mq9FZQwN6eCAA/u1vYpdizGpq8O9/R6USEbGyEsPC0NERbWxw4kTMysIzZxh2pUuwELGlpWXevHkAIJFIEhMTu7u7GdakLaUS33kHAXDaNOzqErEQ46ZQ4KRJCIAbNz7/o8ZGdHBAe3tsamLVm47BQkSVSpWammplZQUAQUFBDx8+ZFWTttauRQB0c8P798UqwRTExyMAymT4+HEvP50xQ5xPhX05e/asu7s7AHh4eJw7d45JTVopLEQLC7SwwIICw3duOo4cQQC0scGyst7fkJuLAOjjoz5R6k3fYCHigwcPpk6dCgBTpiz66itUqfRvUlN1dejqigCYlGS4Tk1PZSUOGYIAmJ7e53uUSvTyQgBkNGlmECxE7Orq2rDhSweHVgCcNw9bWpi0+geePsU330QADA1l9c/MHLW34/jxCIB/uBifnIwAOHs2k27ZBEuQm4vOzurzeGkpw4Z7l5CAAOjp2fucgahFRyMAjh6Nf7gY/+gR2tqiVIq3b+vfLctgIWJtLU6erD6bp6aybfsZJ06gRIJWVnjhAsdeTJ7wnQUHB9RwIS4qCgHw44/175lxsBBRoVCPJQC4cCG2tTHvAauqcOhQBMAdO9g3bj7Ky9HODgFw/35NDyktRQB0dcWODj07Zx8swfHj6t+9n99vKwdMdHTghAkIgAsWsGzW3DQ3o48PAqC2i/EBAdplsQ+8goWIFRX4pz+pR+JDh5g1GxODAOjry/DbjmZHpcKwMATAwEDUdjE+KwsBnl+i1h7HYCFiezt+8IH6tCiXa/3f+KI9exAABw1iPAqamy+/RAB0ctJlGt7eji4uCIA//aRPCXyDJcjOVp/rJ07E6mrd27l2De3tEQD37WNXnPkpKUFra5RI8J//1LGFVasQAJcs0acKQwQLES9fVp/xhw7F48d1aeHJE/TzQwBcupR1ceaEyWr8rVsolaKdnT4XcgwULET89VecPx8BUCLBhAR8+lSLY1Uq9bHjxzP8ypDZYbgaLywdbtmicwOGCxYiqlSYmopWVgiAU6figweaHqhQYEQEOjrqdSY1f+vWMVuN13vp0KDBEhQX44gR6ovmWg0/LC4Imy9hNV4qZbMar/fSoQi32E+ZAlevwjvvwF//qr43RENeXtxqMnH3795VLl8OSiV88QUEBzNoUSqFZcsAAHbs0K0B0XabUalAIgENN+n46ScYNgxkMs41mSZhO53umprvZ8wYtns3SBkNFo2N8PLL8PQp3Lqlw79p0TYFkUo1TRUAZGdDSQnPakzZ6tWrS0pKGqyspJs3M0sVALi4wIIFoFJBRoYOR5v5bjNm7+TJk9u2bbOysjp8+LCrqyvj1pcvBwDIzASFQutjGUz09CN8reOLL357RbhujIjFxejmhm5uaG+PQ4eq/0z3C/aoqqoS9tfYvn07py7aZs7MnTbtu2+/1fZAowiWVIouLr99D6InWD3i41muNpqHjo6OCRMmAEB4eDi/XrKysgBg0qRJ2h5oFKfCwEBQKnU7lQ9cy5cvv3Lliq+v7+7du/n1EhER4eLicvHixbKyMq0ONIpgIcKKFbBlC3R2il2KicjKytq7d6+dnV1OTo6wuRwndnZ2MTExAJCWlqbdkTzGT61ER6O/Pz5+jIMG4c6diL2dCsnvXbt2zd7eHgD2GWQ1vrq6WiqV2tnZPdZm6dAoRiwAcHGB2FhISYHubrFLMW5tbW3h4eHt7e1yuVzYXI43b2/vd999t6OjY+/evZofZSzBAoBVq+D+fTh0SOw6jFtMTExFRcVrr72WmppqsE7j4+MBYOfOnSqVSsNDjChYHh4QFQVJSVpcOB1oUlNTjx075ujo+N1339lptRymnxkzZnh7e9++ffvMmTMaHmJEwQKAxES4eRP+/e/+3qNUGqoaI1NaWpqYmCiRSDIzM318fAzZtVQqXbp0KQDs0HzpkN+kT0PC5L1HRARaWPQ5ee/qwqlTMTFxwN2h2tjYOHLkSABYtWqVKAU8fvzY1tZWKpVWa/bVJfGD9Ze/PBOs8nKUSPoM1r/+hVIpAuCMGQPoPlWlUhkSEgIAkydPFnG/O+Gzwpo1azR5s8jB2r4d7ewwO1uLQ4qKcPhwBMCXX8bz57lVZkw+//xzABg2bNi9e/dELKO0tBQAXFxcOjS461DMYF28iDY2CIBHj2p34L176l0bLC0xOdmg25AYXlFRkYWFhVQqPcN0YzTdBAYGgmbXz0QLVlOT+iuKK1fqcnhXFyYmqk+a772Hpvn0jD/2448/Ojk5AUBsbGxDQ4PY5aBwKWvixIl/+E5xgqVS4dy56vsi9ZkznDyJTk4IgKNGoQk+PaNPSqWyoKBg1qxZEonE09Oz55OWjY2Nt7d3cHCwXC5PTk7OyckpKytrMczmPoiIqFAoXnrpJQC4ePFi/+8UJ1ibNiEAOjuj/rvj1tSoN0C0tcVduxjUJq6HDx9u3LjRw8NDSJKDg8P8+fPDwsL8/f37eXqZq6trYGBgeHj4mjVr0tPT8/PzKysrOU3zV69eDQCLFy/u/20ifDX57Fl4+21QqSAvD0JCGDSoUEBiImzbBgCwaBGkpz//1AWTcOnSpV27du3fv1+hUACAr6/vkiVLYmNjf58nhULx4MGD28+6efNma2trr206OTl5v0Amk+nzSOza2lofHx9LS8u7d+8Ko1evDB2shgaYMAEePoT162HDBpYtf/stLFsG//sfjBkDR4+CqTzrRKFQ5OTkbN26tby8HACkUulbb72VkJAgnAc1bKS5ufn2C+rq6rp7W3m1srJ65ZVXhJC5u7uPGDFC+LOXl5eGPYaGhp4+fTolJUUYvXpl0GAplRASAoWFMH06FBQA8yfJV1TA/Plw/ToMHgx79kB4OOP22aqqqsrMzNy9e3dTUxMAuLm5LV68OC4uTsbuppFeA1dTU9Prkp+trW1PyHqMGjXqxa/lnD59OjQ0VCaTVVdX9zX4GTRYH38MmzfD8OFw5QoMH86li7Y2iI2Fw4cBAORy+Mc/wNqaS0c6U6lURUVF33zzTV5envA/39/fXy6XR0VF2draGqCAzs7O+/fvP5e26urqlpaWXt//3PnU3d3d3d09MjLy1q1beXl5M2fO7L0bHvO7Xn3/PUokaGmJxcXc+8rIQGtrBMCAAAafD1ipr69PTk7uGZBsbW0XLVp09epVsetSa2xsLCsrO3r0aEpKSlxcXEhIyOjRo21sbHqNjVQqhX4fMmqgYNXWqvfG0WM3AO2UlqJMJtzLX5yfn2+gXvtQVlYml8t7BqRRo0YlJyc3NjaKW5WGmpqaysrKcnJykpOT5XJ5cHCwt7e3paXlsGHD+vngaYhgKRTqbeJmzzboVfLGRlyw4JGbm7tUKv3ss88M//iMjo6O7Ozs8ePH9/wrDw4OPnXqlMr01wqePn36oN+9NwwRrLg49QYThr8+LtbjM27evJmYmNhzpcDNzS0xMbGmpsYwvRsD7sE6fFh99fLSJd5d9clgj8/4/RVzIVL+/v4ZGRmarNqaGb7B6nkkgujXxBsaGoKDgwHA0tJy/fr1zE9GRj4xNzyOwWprwzFjNHokgmF0d3evX79e+DgzZ86cJkZPujLpiTk/HIO1bNmGceOejB3LZat3neXm5gpTH5lMVqrH8zOEifnrr79ufhNzJngFKz09HQCcnd0qKlo5daGz2trayZMnCyesVO2fn0ETc01wCdbVq1eFe0gOHDjAo339KRSKhIQEIRkLFy5s02BQpYm5VtgHq7m52dvbGwBWrFjBvHG2Dh486ODgAAB+fn4/971zfENDw4sT8ytXrhiyVJPDOFgqlUp4pG9gYKDCFDYcqqioGDduHAA4ODgcemFHG2Fi3nMHH03MNcc4WJs3bxaWLW+bzk607e3tS5YsEaIjl8s7OztpYq4/lsG6cOGClZWVRCI5ceIEw2YNY+fOncKCq6enp7CbmTAx//TTT+vq6sSuzvQwC1ZDQ4PwhdpPPvmEVZsGdvnyZR8fn6CgoJ6JeTs9rUBXbL6PpVKpQkJCCgoKgoKCCgoKLC0t9W9TFC0tLUql8t69ez0rx0Q3bIK1du3aTZs2ubm5Xb58ecSIEfo3SEwdg2AVFhYKN4Dn5+cHM9m9npg+fc9Zd+/ejYyMVCqVycnJlCrSQ68Rq6ura/r06efPnw8NDc3NzdX8rhJi9vTaH+ujjz46f/68p6dndnY2pYr8nu4jVk5OzoIFC2xsbM6dOxcQEMC2LGLqdByxqqqqYmNjAeDrr7+mVJEX6RishISEJ0+eREZGxsXFsS2ImAcdT4WPHj1at27dli1bhG8HEPIc0Z5XSMybce2aTMwGBYtwQcEiXFCwCBcULMIFBYtwQcEiXFCwCBcULMIFBYtwQcEiXFCwCBcULMIFBYtwQcEiXFCwCBcULMIFBYtwQcEiXFCwCBcULMIFBYtwQcEiXFCwCBcULMIFBYtwQcEiXFCwCBcULMIFBYtwQcEiXFCwCBcULMIFBYtwQcEiXFCwCBcULMIFBYtwQcEiXFCwCBcULMIFBYtwQcEiXFCwCBcULMIFBYtwQcEiXFCwCBcULMIFBYtwQcEiXFCwCBcULMIFBYtwQcEiXFCwCBcULMLF/wFcka8plyDSLQAAAABJRU5ErkJggg==\" alt=\"Mol\"/></td>\n",
              "      <td>Nonbinders</td>\n",
              "    </tr>\n",
              "    <tr>\n",
              "      <th>3</th>\n",
              "      <td>0</td>\n",
              "      <td>111-70-6</td>\n",
              "      <td>CCCCCCCO</td>\n",
              "      <td><img data-content=\"rdkit/molecule\" src=\"data:image/png;base64,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\" alt=\"Mol\"/></td>\n",
              "      <td>Nonbinders</td>\n",
              "    </tr>\n",
              "    <tr>\n",
              "      <th>4</th>\n",
              "      <td>0</td>\n",
              "      <td>78-82-0</td>\n",
              "      <td>CC(C)C#N</td>\n",
              "      <td><img data-content=\"rdkit/molecule\" src=\"data:image/png;base64,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\" alt=\"Mol\"/></td>\n",
              "      <td>Nonbinders</td>\n",
              "    </tr>\n",
              "  </tbody>\n",
              "</table>\n",
              "</div>"
            ],
            "text/plain": [
              "                bindingClass  ...       label\n",
              "bindingClass                  ...            \n",
              "0            0             0  ...  Nonbinders\n",
              "             1             0  ...  Nonbinders\n",
              "             2             0  ...  Nonbinders\n",
              "             3             0  ...  Nonbinders\n",
              "             4             0  ...  Nonbinders\n",
              "\n",
              "[5 rows x 5 columns]"
            ]
          },
          "metadata": {
            "tags": []
          },
          "execution_count": 56
        }
      ]
    },
    {
      "cell_type": "code",
      "metadata": {
        "id": "4AXTCzO4FAYn",
        "colab_type": "code",
        "outputId": "ed8c26ac-df51-4eeb-e029-7e35331ee632",
        "colab": {
          "base_uri": "https://localhost:8080/",
          "height": 34
        }
      },
      "source": [
        "g.shape"
      ],
      "execution_count": 57,
      "outputs": [
        {
          "output_type": "execute_result",
          "data": {
            "text/plain": [
              "(410, 5)"
            ]
          },
          "metadata": {
            "tags": []
          },
          "execution_count": 57
        }
      ]
    },
    {
      "cell_type": "code",
      "metadata": {
        "id": "ACy6ZmhNFAYp",
        "colab_type": "code",
        "colab": {}
      },
      "source": [
        "#user_specified_features = ['HumDockScore','RatDockScore','ChimpDockScore','AVG','P_Act_dockChimp','P_Inact','PredBayes','ratio','avgD_Act','avgD_Inact','PredBindingClass','predMLogR']"
      ],
      "execution_count": 0,
      "outputs": []
    },
    {
      "cell_type": "code",
      "metadata": {
        "id": "3xC-iNWgFAYq",
        "colab_type": "code",
        "colab": {}
      },
      "source": [
        ""
      ],
      "execution_count": 0,
      "outputs": []
    },
    {
      "cell_type": "code",
      "metadata": {
        "id": "6jXbiWibFAYr",
        "colab_type": "code",
        "colab": {}
      },
      "source": [
        "from itertools import islice\n",
        "from IPython.display import Image, display, HTML"
      ],
      "execution_count": 0,
      "outputs": []
    },
    {
      "cell_type": "code",
      "metadata": {
        "id": "vas_XKCaFAYt",
        "colab_type": "code",
        "colab": {}
      },
      "source": [
        "import tempfile, shutil"
      ],
      "execution_count": 0,
      "outputs": []
    },
    {
      "cell_type": "code",
      "metadata": {
        "id": "6j4bod52FAYv",
        "colab_type": "code",
        "colab": {}
      },
      "source": [
        "featurizer = dc.feat.ConvMolFeaturizer()\n",
        "loader = dc.data.CSVLoader(tasks=[\"bindingClass\"],\n",
        "    smiles_field=\"SMILES\",\n",
        "    featurizer=featurizer)"
      ],
      "execution_count": 0,
      "outputs": []
    },
    {
      "cell_type": "code",
      "metadata": {
        "id": "GxgSvQhuFAYy",
        "colab_type": "code",
        "colab": {}
      },
      "source": [
        "###featurizer = dc.feat.UserDefinedFeaturizer(user_specified_features)"
      ],
      "execution_count": 0,
      "outputs": []
    },
    {
      "cell_type": "code",
      "metadata": {
        "id": "W42lDTS8FAY0",
        "colab_type": "code",
        "colab": {}
      },
      "source": [
        "#featurizer = dc.feat.base_classes.UserDefinedFeaturizer(user_specified_features)"
      ],
      "execution_count": 0,
      "outputs": []
    },
    {
      "cell_type": "code",
      "metadata": {
        "id": "YIqkgVK5FAY2",
        "colab_type": "code",
        "colab": {}
      },
      "source": [
        "#loader = dc.data.data_loader.CSVLoader(\n",
        "###oader = dc.data.UserCSVLoader(\n",
        "      ###tasks=[\"bindingClass\"], smiles_field=['SMILES'], id_field=[\"casrn\"],\n",
        "     ### tasks=[\"bindingClass\"], id_field=\"casrn\",\n",
        "    ###  featurizer=featurizer)"
      ],
      "execution_count": 0,
      "outputs": []
    },
    {
      "cell_type": "code",
      "metadata": {
        "id": "KN0fdWC8FAY3",
        "colab_type": "code",
        "colab": {}
      },
      "source": [
        "g.to_csv('balanced.csv',index=False)"
      ],
      "execution_count": 0,
      "outputs": []
    },
    {
      "cell_type": "code",
      "metadata": {
        "id": "RczXfzQNFAY4",
        "colab_type": "code",
        "outputId": "5181ac4d-fd22-42f7-a18c-555b793452da",
        "colab": {
          "base_uri": "https://localhost:8080/",
          "height": 34
        }
      },
      "source": [
        "g.columns"
      ],
      "execution_count": 66,
      "outputs": [
        {
          "output_type": "execute_result",
          "data": {
            "text/plain": [
              "Index(['bindingClass', 'casrn', 'SMILES', 'Mol', 'label'], dtype='object')"
            ]
          },
          "metadata": {
            "tags": []
          },
          "execution_count": 66
        }
      ]
    },
    {
      "cell_type": "code",
      "metadata": {
        "id": "7f1kst87FAY6",
        "colab_type": "code",
        "colab": {}
      },
      "source": [
        "###g.drop(columns=['s_sd_Canonical\\_QSARr','s_m_title','cas','cid', 'gsid',\n",
        "###       'dsstox_substance_id', 'preferred_name','InChI_Code_QSARr',\n",
        "###       'InChI Key_QSARr', 'BindingClass'])"
      ],
      "execution_count": 0,
      "outputs": []
    },
    {
      "cell_type": "code",
      "metadata": {
        "id": "KR4M2exNFAY7",
        "colab_type": "code",
        "colab": {}
      },
      "source": [
        "g.to_csv('balanced_droppedcols.csv',index=False)"
      ],
      "execution_count": 0,
      "outputs": []
    },
    {
      "cell_type": "code",
      "metadata": {
        "id": "JY__2nOBFAY-",
        "colab_type": "code",
        "colab": {}
      },
      "source": [
        "#dataset_file = \"test.csv\""
      ],
      "execution_count": 0,
      "outputs": []
    },
    {
      "cell_type": "code",
      "metadata": {
        "id": "A55-A1h7FAZA",
        "colab_type": "code",
        "colab": {}
      },
      "source": [
        "#dataset = pd.read_csv(\"balanced_droppedcols.csv\")"
      ],
      "execution_count": 0,
      "outputs": []
    },
    {
      "cell_type": "code",
      "metadata": {
        "id": "RUQFA1PFFAZB",
        "colab_type": "code",
        "colab": {}
      },
      "source": [
        "#user_specified_features = ['MW','AlogP','HBA','HBD','RB','HeavyAtomCount','ChiralCenterCount','ChiralCenterCountAllPossible','RingCount','PSA','Estate','MR','Polar','sLi_Key','ssBe_Key','ssssBem_Key','sBH2_Key','ssBH_Key','sssB_Key','ssssBm_Key','sCH3_Key','dCH2_Key','ssCH2_Key','tCH_Key','dsCH_Key','aaCH_Key','sssCH_Key','ddC_Key','tsC_Key','dssC_Key','aasC_Key','aaaC_Key','ssssC_Key','sNH3_Key','sNH2_Key','ssNH2_Key','dNH_Key','ssNH_Key','aaNH_Key','tN_Key','sssNH_Key','dsN_Key','aaN_Key','sssN_Key','ddsN_Key','aasN_Key','ssssN_Key','daaN_Key','sOH_Key','dO_Key','ssO_Key','aaO_Key','aOm_Key','sOm_Key','sF_Key','sSiH3_Key','ssSiH2_Key','sssSiH_Key','ssssSi_Key','sPH2_Key','ssPH_Key','sssP_Key','dsssP_Key','ddsP_Key','sssssP_Key','sSH_Key','dS_Key','ssS_Key','aaS_Key','dssS_Key','ddssS_Key','ssssssS_Key','Sm_Key','sCl_Key','sGeH3_Key','ssGeH2_Key','sssGeH_Key','ssssGe_Key','sAsH2_Key','ssAsH_Key','sssAs_Key','dsssAs_Key','ddsAs_Key','sssssAs_Key','sSeH_Key','dSe_Key','ssSe_Key','aaSe_Key','dssSe_Key','ssssssSe_Key','ddssSe_Key','sBr_Key','sSnH3_Key','ssSnH2_Key','sssSnH_Key','ssssSn_Key','sI_Key','sPbH3_Key','ssPbH2_Key','sssPbH_Key','ssssPb_Key','sLi_Cnt','ssBe_Cnt','ssssBem_Cnt','sBH2_Cnt','ssBH_Cnt','sssB_Cnt','ssssBm_Cnt','sCH3_Cnt','dCH2_Cnt','ssCH2_Cnt','tCH_Cnt','dsCH_Cnt','aaCH_Cnt','sssCH_Cnt','ddC_Cnt','tsC_Cnt','dssC_Cnt','aasC_Cnt','aaaC_Cnt','ssssC_Cnt','sNH3_Cnt','sNH2_Cnt','ssNH2_Cnt','dNH_Cnt','ssNH_Cnt','aaNH_Cnt','tN_Cnt','sssNH_Cnt','dsN_Cnt','aaN_Cnt','sssN_Cnt','ddsN_Cnt','aasN_Cnt','ssssN_Cnt','daaN_Cnt','sOH_Cnt','dO_Cnt','ssO_Cnt','aaO_Cnt','aOm_Cnt','sOm_Cnt','sF_Cnt','sSiH3_Cnt','ssSiH2_Cnt','sssSiH_Cnt','ssssSi_Cnt','sPH2_Cnt','ssPH_Cnt','sssP_Cnt','dsssP_Cnt','ddsP_Cnt','sssssP_Cnt','sSH_Cnt','dS_Cnt','ssS_Cnt','aaS_Cnt','dssS_Cnt','ddssS_Cnt','ssssssS_Cnt','Sm_Cnt','sCl_Cnt','sGeH3_Cnt','ssGeH2_Cnt','sssGeH_Cnt','ssssGe_Cnt','sAsH2_Cnt','ssAsH_Cnt','sssAs_Cnt','dsssAs_Cnt','ddsAs_Cnt','sssssAs_Cnt','sSeH_Cnt','dSe_Cnt','ssSe_Cnt','aaSe_Cnt','dssSe_Cnt','ssssssSe_Cnt','ddssSe_Cnt','sBr_Cnt','sSnH3_Cnt','ssSnH2_Cnt','sssSnH_Cnt','ssssSn_Cnt','sI_Cnt','sPbH3_Cnt','ssPbH2_Cnt','sssPbH_Cnt','ssssPb_Cnt','sLi_Sum','ssBe_Sum','ssssBem_Sum','sBH2_Sum','ssBH_Sum','sssB_Sum','ssssBm_Sum','sCH3_Sum','dCH2_Sum','ssCH2_Sum','tCH_Sum','dsCH_Sum','aaCH_Sum','sssCH_Sum','ddC_Sum','tsC_Sum','dssC_Sum','aasC_Sum','aaaC_Sum','ssssC_Sum','sNH3_Sum','sNH2_Sum','ssNH2_Sum','dNH_Sum','ssNH_Sum','aaNH_Sum','tN_Sum','sssNH_Sum','dsN_Sum','aaN_Sum','sssN_Sum','ddsN_Sum','aasN_Sum','ssssN_Sum','daaN_Sum','sOH_Sum','dO_Sum','ssO_Sum','aaO_Sum','aOm_Sum','sOm_Sum','sF_Sum','sSiH3_Sum','ssSiH2_Sum','sssSiH_Sum','ssssSi_Sum','sPH2_Sum','ssPH_Sum','sssP_Sum','dsssP_Sum','ddsP_Sum','sssssP_Sum','sSH_Sum','dS_Sum','ssS_Sum','aaS_Sum','dssS_Sum','ddssS_Sum','ssssssS_Sum','Sm_Sum','sCl_Sum','sGeH3_Sum','ssGeH2_Sum','sssGeH_Sum','ssssGe_Sum','sAsH2_Sum','ssAsH_Sum','sssAs_Sum','dsssAs_Sum','ddsAs_Sum','sssssAs_Sum','sSeH_Sum','dSe_Sum','ssSe_Sum','aaSe_Sum','dssSe_Sum','ssssssSe_Sum','ddssSe_Sum','sBr_Sum','sSnH3_Sum','ssSnH2_Sum','sssSnH_Sum','ssssSn_Sum','sI_Sum','sPbH3_Sum','ssPbH2_Sum','sssPbH_Sum','ssssPb_Sum','sLi_Avg','ssBe_Avg','ssssBem_Avg','sBH2_Avg','ssBH_Avg','sssB_Avg','ssssBm_Avg','sCH3_Avg','dCH2_Avg','ssCH2_Avg','tCH_Avg','dsCH_Avg','aaCH_Avg','sssCH_Avg','ddC_Avg','tsC_Avg','dssC_Avg','aasC_Avg','aaaC_Avg','ssssC_Avg','sNH3_Avg','sNH2_Avg','ssNH2_Avg','dNH_Avg','ssNH_Avg','aaNH_Avg','tN_Avg','sssNH_Avg','dsN_Avg','aaN_Avg','sssN_Avg','ddsN_Avg','aasN_Avg','ssssN_Avg','daaN_Avg','sOH_Avg','dO_Avg','ssO_Avg','aaO_Avg','aOm_Avg','sOm_Avg','sF_Avg','sSiH3_Avg','ssSiH2_Avg','sssSiH_Avg','ssssSi_Avg','sPH2_Avg','ssPH_Avg','sssP_Avg','dsssP_Avg','ddsP_Avg','sssssP_Avg','sSH_Avg','dS_Avg','ssS_Avg','aaS_Avg','dssS_Avg','ddssS_Avg','ssssssS_Avg','Sm_Avg','sCl_Avg','sGeH3_Avg','ssGeH2_Avg','sssGeH_Avg','ssssGe_Avg','sAsH2_Avg','ssAsH_Avg','sssAs_Avg','dsssAs_Avg','ddsAs_Avg','sssssAs_Avg','sSeH_Avg','dSe_Avg','ssSe_Avg','aaSe_Avg','dssSe_Avg','ssssssSe_Avg','ddssSe_Avg','sBr_Avg','sSnH3_Avg','ssSnH2_Avg','sssSnH_Avg','ssssSn_Avg','sI_Avg','sPbH3_Avg','ssPbH2_Avg','sssPbH_Avg','ssssPb_Avg','First Zagreb (ZM1)','First Zagreb index by valence vertex degrees (ZM1V)','Second Zagreb (ZM2)','Second Zagreb index by valence vertex degrees (ZM2V)','Polarity (Pol)','Narumi Simple Topological (NST)','Narumi Harmonic Topological (NHT)','Narumi Geometric Topological (NGT)','Total structure connectivity (TSC)','Wiener (W)','Mean Wiener (MW)','Xu (Xu)','Quadratic (QIndex)','Radial centric (RC)','Mean Square Distance Balaban (MSDB)','Superpendentic (SP)','Harary (Har)','Log of product of row sums (LPRS)','Pogliani (Pog)','Schultz Molecular Topological (SMT)','Schultz Molecular Topological by valence vertex degrees (SMTV)','Mean Distance Degree Deviation (MDDD)','Ramification (Ram)','Gutman Molecular Topological (GMT)','Gutman MTI by valence vertex degrees (GMTV)','Average vertex distance degree (AVDD)','Unipolarity (UP)','Centralization (CENT)','Variation (VAR)','Molecular electrotopological variation (MEV)','Maximal electrotopological positive variation (MEPV)','Maximal electrotopological negative variation (MENV)','Eccentric connectivity (ECCc)','Eccentricity (ECC)','Average eccentricity (AECC)','Eccentric (DECC)','Valence connectivity index chi-0 (vX0)','Valence connectivity index chi-1 (vX1)','Valence connectivity index chi-2 (vX2)','Valence connectivity index chi-3 (vX3)','Valence connectivity index chi-4 (vX4)','Valence connectivity index chi-5 (vX5)','Average valence connectivity index chi-0 (AvX0)','Average valence connectivity index chi-1 (AvX1)','Average valence connectivity index chi-2 (AvX2)','Average valence connectivity index chi-3 (AvX3)','Average valence connectivity index chi-4 (AvX4)','Average valence connectivity index chi-5 (AvX5)','Quasi Wiener (QW)','First Mohar (FM)','Second Mohar (SM)','Spanning tree number (STN)','Kier benzene-likeliness index (KBLI)','Topological charge index of order 1 (TCI1)','Topological charge index of order 2 (TCI2)','Topological charge index of order 3 (TCI3)','Topological charge index of order 4 (TCI4)','Topological charge index of order 5 (TCI5)','Topological charge index of order 6 (TCI6)','Topological charge index of order 7 (TCI7)','Topological charge index of order 8 (TCI8)','Topological charge index of order 9 (TCI9)','Topological charge index of order 10 (TCI10)','Mean topological charge index of order 1 (MTCI1)','Mean topological charge index of order 2 (MTCI2)','Mean topological charge index of order 3 (MTCI3)','Mean topological charge index of order 4 (MTCI4)','Mean topological charge index of order 5 (MTCI5)','Mean topological charge index of order 6 (MTCI6)','Mean topological charge index of order 7 (MTCI7)','Mean topological charge index of order 8 (MTCI8)','Mean topological charge index of order 9 (MTCI9)','Mean topological charge index of order 10 (MTCI10)','Global topological charge (GTC)','Hyper-distance-path index (HDPI)','Reciprocal hyper-distance-path index (RHDPI)','Square reciprocal distance sum (SRDS)','Modified Randic connectivity (MRC)','Balaban centric (BC)','Lopping centric (LC)','Kier Hall electronegativity (KHE)','Sum of topological distances between N..N (STD(N N))','Sum of topological distances between N..O (STD(N O))','Sum of topological distances between N..S (STD(N S))','Sum of topological distances between N..P (STD(N P))','Sum of topological distances between N..F (STD(N F))','Sum of topological distances between N..Cl (STD(N Cl))','Sum of topological distances between N..Br (STD(N Br))','Sum of topological distances between N..I (STD(N I))','Sum of topological distances between O..O (STD(O O))','Sum of topological distances between O..S (STD(O S))','Sum of topological distances between O..P (STD(O P))','Sum of topological distances between O..F (STD(O F))','Sum of topological distances between O..Cl (STD(O Cl))','Sum of topological distances between O..Br (STD(O Br))','Sum of topological distances between O..I (STD(O I))','Sum of topological distances between S..S (STD(S S))','Sum of topological distances between S..P (STD(S P))','Sum of topological distances between S..F (STD(S F))','Sum of topological distances between S..Cl (STD(S Cl))','Sum of topological distances between S..Br (STD(S Br))','Sum of topological distances between S..I (STD(S I))','Sum of topological distances between P..P (STD(P P))','Sum of topological distances between P..F (STD(P F))','Sum of topological distances between P..Cl (STD(P Cl))','Sum of topological distances between P..Br (STD(P Br))','Sum of topological distances between P..I (STD(P I))','Sum of topological distances between F..F (STD(F F))','Sum of topological distances between F..Cl (STD(F Cl))','Sum of topological distances between F..Br (STD(F Br))','Sum of topological distances between F..I (STD(F I))','Sum of topological distances between Cl..Cl (STD(Cl Cl))','Sum of topological distances between Cl..Br (STD(Cl Br))','Sum of topological distances between Cl..I (STD(Cl I))','Sum of topological distances between Br..Br (STD(Br Br))','Sum of topological distances between Br..I (STD(Br I))','Sum of topological distances between I..I (STD(I I))','Wiener-type index from Z weighted distance matrix - Barysz matrix (WhetZ)','Wiener-type index from electronegativity weighted distance matrix (Whete)','Wiener-type index from mass weighted distance matrix (Whetm)','Wiener-type index from van der waals weighted distance matrix (Whetv)','Wiener-type index from polarizability weighted distance matrix (Whetp)','Balaban-type index from Z weighted distance matrix - Barysz matrix (JhetZ)','Balaban-type index from electronegativity weighted distance matrix (Jhete)','Balaban-type index from mass weighted distance matrix (Jhetm)','Balaban-type index from van der waals weighted distance matrix (Jhetv)','Balaban-type index from polarizability weighted distance matrix (Jhetp)','Topological diameter (TD)','Topological radius (TR)','Petitjean 2D shape (PJ2DS)','Balaban distance connectivity index (J)','Solvation connectivity index chi-0 (SCIX0)','Solvation connectivity index chi-1 (SCIX1)','Solvation connectivity index chi-2 (SCIX2)','Solvation connectivity index chi-3 (SCIX3)','Solvation connectivity index chi-4 (SCIX4)','Solvation connectivity index chi-5 (SCIX5)','Connectivity index chi-0 (CIX0)','Connectivity chi-1 [Randic connectivity] (CIX1)','Connectivity index chi-2 (CIX2)','Connectivity index chi-3 (CIX3)','Connectivity index chi-4 (CIX4)','Connectivity index chi-5 (CIX5)','Average connectivity index chi-0 (ACIX0)','Average connectivity index chi-1 (ACIX1)','Average connectivity index chi-2 (ACIX2)','Average connectivity index chi-3 (ACIX3)','Average connectivity index chi-4 (ACIX4)','Average connectivity index chi-5 (ACIX5)','reciprocal distance Randic-type index (RDR)','reciprocal distance square Randic-type index (RDSR)','1-path Kier alpha-modified shape index (KAMS1)','2-path Kier alpha-modified shape index (KAMS2)','3-path Kier alpha-modified shape index (KAMS3)','Kier flexibility (KF)','path/walk 2 - Randic shape index (RSIpw2)','path/walk 3 - Randic shape index (RSIpw3)','path/walk 4 - Randic shape index (RSIpw4)','path/walk 5 - Randic shape index (RSIpw5)','E-state topological parameter (ETP)','Ring Count 3 (RNGCNT3)','Ring Count 4 (RNGCNT4)','Ring Count 5 (RNGCNT5)','Ring Count 6 (RNGCNT6)','Ring Count 7 (RNGCNT7)','Ring Count 8 (RNGCNT8)','Ring Count 9 (RNGCNT9)','Ring Count 10 (RNGCNT10)','Ring Count 11 (RNGCNT11)','Ring Count 12 (RNGCNT12)','Ring Count 13 (RNGCNT13)','Ring Count 14 (RNGCNT14)','Ring Count 15 (RNGCNT15)','Ring Count 16 (RNGCNT16)','Ring Count 17 (RNGCNT17)','Ring Count 18 (RNGCNT18)','Ring Count 19 (RNGCNT19)','Ring Count 20 (RNGCNT20)','Atom Count (ATMCNT)','Bond Count (BNDCNT)','Atoms in Ring System (ATMRNGCNT)','Bonds in Ring System (BNDRNGCNT)','Cyclomatic number (CYCLONUM)','Number of ring systems (NRS)','Normalized number of ring systems (NNRS)','Ring Fusion degree (RFD)','Ring perimeter (RNGPERM)','Ring bridge count (RNGBDGE)','Molecule cyclized degree (MCD)','Ring Fusion density (RFDELTA)','Ring complexity index (RCI)','Van der Waals surface area (VSA)','MR1 (MR1)','MR2 (MR2)','MR3 (MR3)','MR4 (MR4)','MR5 (MR5)','MR6 (MR6)','MR7 (MR7)','MR8 (MR8)','ALOGP1 (ALOGP1)','ALOGP2 (ALOGP2)','ALOGP3 (ALOGP3)','ALOGP4 (ALOGP4)','ALOGP5 (ALOGP5)','ALOGP6 (ALOGP6)','ALOGP7 (ALOGP7)','ALOGP8 (ALOGP8)','ALOGP9 (ALOGP9)','ALOGP10 (ALOGP10)','PEOE1 (PEOE1)','PEOE2 (PEOE2)','PEOE3 (PEOE3)','PEOE4 (PEOE4)','PEOE5 (PEOE5)','PEOE6 (PEOE6)','PEOE7 (PEOE7)','PEOE8 (PEOE8)','PEOE9 (PEOE9)','PEOE10 (PEOE10)','PEOE11 (PEOE11)','PEOE12 (PEOE12)','PEOE13 (PEOE13)','PEOE14 (PEOE14)']"
      ],
      "execution_count": 0,
      "outputs": []
    },
    {
      "cell_type": "code",
      "metadata": {
        "id": "yKKWkGmHFAZD",
        "colab_type": "code",
        "colab": {}
      },
      "source": [
        "#current_dir = os.path.dirname(os.path.realpath(\"__file__\"))\n",
        "#dc.utils.download_url(\"https://s3-us-west-1.amazonaws.com/deepchem.io/datasets/desc_canvas_aug30.csv\",\n",
        "#                      current_dir)\n",
        "#dataset_file = \"desc_canvas_aug30.csv\""
      ],
      "execution_count": 0,
      "outputs": []
    },
    {
      "cell_type": "code",
      "metadata": {
        "id": "4Jg-f4-xM4_f",
        "colab_type": "code",
        "colab": {}
      },
      "source": [
        "current_dir = os.path.dirname(os.path.realpath(\"__file__\"))\n",
        "dc.utils.download_url(\"https://hermes.chem.ut.ee/~alfx/ML/balanced_droppedcols1.csv\",  current_dir)"
      ],
      "execution_count": 0,
      "outputs": []
    },
    {
      "cell_type": "code",
      "metadata": {
        "id": "fnlIR1raFAZF",
        "colab_type": "code",
        "colab": {}
      },
      "source": [
        "dataset_file = \"balanced_droppedcols.csv\""
      ],
      "execution_count": 0,
      "outputs": []
    },
    {
      "cell_type": "code",
      "metadata": {
        "id": "C9Vz0J0zFAZH",
        "colab_type": "code",
        "outputId": "64a250bc-5de0-4187-e734-8596aa348491",
        "colab": {
          "base_uri": "https://localhost:8080/",
          "height": 105
        }
      },
      "source": [
        "dataset = loader.featurize(dataset_file)"
      ],
      "execution_count": 75,
      "outputs": [
        {
          "output_type": "stream",
          "text": [
            "/content/deepchem/deepchem/data/data_loader.py:268: FutureWarning: featurize() is deprecated and has been renamed to create_dataset(). featurize() will be removed in DeepChem 3.0\n",
            "  FutureWarning)\n"
          ],
          "name": "stderr"
        },
        {
          "output_type": "stream",
          "text": [
            "About to start loading CSV from balanced_droppedcols.csv\n",
            "Loading shard 1 of size 8192.\n"
          ],
          "name": "stdout"
        }
      ]
    },
    {
      "cell_type": "code",
      "metadata": {
        "id": "EGInx5CTFAZJ",
        "colab_type": "code",
        "colab": {}
      },
      "source": [
        "#dataset = loader.featurize(f)"
      ],
      "execution_count": 0,
      "outputs": []
    },
    {
      "cell_type": "code",
      "metadata": {
        "id": "TfqQP10KFAZL",
        "colab_type": "code",
        "outputId": "176811ae-5e31-4934-cc94-e6174d0e3c5b",
        "colab": {
          "base_uri": "https://localhost:8080/",
          "height": 88
        }
      },
      "source": [
        "dataset"
      ],
      "execution_count": 77,
      "outputs": [
        {
          "output_type": "execute_result",
          "data": {
            "text/plain": [
              "<DiskDataset X.shape: (410,), y.shape: (410, 1), w.shape: (410, 1), ids: ['Nc1ccc(cc1)[N+]([O-])=O' 'NC(=O)Nc1ccc(Cl)cc1' 'C[N+](C)(C)CC1CO1' ...\n",
              " 'CC1(C)NC(=O)N(C1=O)c1cc(c(cc1)[N+]([O-])=O)C(F)(F)F'\n",
              " 'CN(C)c1ccc(cc1)C(=N)c1ccc(cc1)N(C)C' 'c1ccc2c3c(cccc31)-c1ccccc1-2'], task_names: ['bindingClass']>"
            ]
          },
          "metadata": {
            "tags": []
          },
          "execution_count": 77
        }
      ]
    },
    {
      "cell_type": "code",
      "metadata": {
        "id": "Y22vBs8HFAZM",
        "colab_type": "code",
        "colab": {}
      },
      "source": [
        ""
      ],
      "execution_count": 0,
      "outputs": []
    },
    {
      "cell_type": "code",
      "metadata": {
        "id": "HEg67vPZdcVi",
        "colab_type": "code",
        "colab": {}
      },
      "source": [
        "current_dir = os.path.dirname(os.path.realpath(\"__file__\"))\n",
        "dc.utils.download_url(\"https://hermes.chem.ut.ee/~alfx/ML/Eval_set_smi.csv\",  current_dir)"
      ],
      "execution_count": 0,
      "outputs": []
    },
    {
      "cell_type": "code",
      "metadata": {
        "id": "Y1N9LgXtdmFb",
        "colab_type": "code",
        "colab": {}
      },
      "source": [
        "eval_df = pd.read_csv(\"Eval_set_smi.csv\",sep=\" \")"
      ],
      "execution_count": 0,
      "outputs": []
    },
    {
      "cell_type": "code",
      "metadata": {
        "id": "kuh-gyjEec45",
        "colab_type": "code",
        "outputId": "5aedc502-7866-4c2e-ece0-bf516fbc38c4",
        "colab": {
          "base_uri": "https://localhost:8080/",
          "height": 419
        }
      },
      "source": [
        "eval_df"
      ],
      "execution_count": 80,
      "outputs": [
        {
          "output_type": "execute_result",
          "data": {
            "text/html": [
              "<div>\n",
              "<style scoped>\n",
              "    .dataframe tbody tr th:only-of-type {\n",
              "        vertical-align: middle;\n",
              "    }\n",
              "\n",
              "    .dataframe tbody tr th {\n",
              "        vertical-align: top;\n",
              "    }\n",
              "\n",
              "    .dataframe thead th {\n",
              "        text-align: right;\n",
              "    }\n",
              "</style>\n",
              "<table border=\"1\" class=\"dataframe\">\n",
              "  <thead>\n",
              "    <tr style=\"text-align: right;\">\n",
              "      <th></th>\n",
              "      <th>bindingClass</th>\n",
              "      <th>casrn</th>\n",
              "      <th>SMILES</th>\n",
              "    </tr>\n",
              "  </thead>\n",
              "  <tbody>\n",
              "    <tr>\n",
              "      <th>0</th>\n",
              "      <td>1</td>\n",
              "      <td>123-30-8</td>\n",
              "      <td>NC1=CC=C(O)C=C1</td>\n",
              "    </tr>\n",
              "    <tr>\n",
              "      <th>1</th>\n",
              "      <td>1</td>\n",
              "      <td>153-78-6</td>\n",
              "      <td>NC1C=C2CC3=CC=CC=C3C2=CC=1</td>\n",
              "    </tr>\n",
              "    <tr>\n",
              "      <th>2</th>\n",
              "      <td>1</td>\n",
              "      <td>80809-81-0</td>\n",
              "      <td>CC1C(=O)C(CCCCC#CCCCC#CCO)=C(C)C(=O)C=1C</td>\n",
              "    </tr>\n",
              "    <tr>\n",
              "      <th>3</th>\n",
              "      <td>1</td>\n",
              "      <td>54965-21-8</td>\n",
              "      <td>CCCSC1C=C2N=C(NC(=O)OC)NC2=CC=1</td>\n",
              "    </tr>\n",
              "    <tr>\n",
              "      <th>4</th>\n",
              "      <td>1</td>\n",
              "      <td>28981-97-7</td>\n",
              "      <td>CC1=NN=C2CN=C(C3=CC(Cl)=CC=C3N21)C1C=CC=CC=1</td>\n",
              "    </tr>\n",
              "    <tr>\n",
              "      <th>...</th>\n",
              "      <td>...</td>\n",
              "      <td>...</td>\n",
              "      <td>...</td>\n",
              "    </tr>\n",
              "    <tr>\n",
              "      <th>3877</th>\n",
              "      <td>0</td>\n",
              "      <td>173159-57-4</td>\n",
              "      <td>CN(C)C(=O)C1C=CC(=CC=1S(=O)(=O)NC(=O)NC1N=C(C=...</td>\n",
              "    </tr>\n",
              "    <tr>\n",
              "      <th>3878</th>\n",
              "      <td>0</td>\n",
              "      <td>144651-06-9</td>\n",
              "      <td>CC1=CC(C)=NC(NC(=O)NS(=O)(=O)C2C=CC=CC=2C(=O)O...</td>\n",
              "    </tr>\n",
              "    <tr>\n",
              "      <th>3879</th>\n",
              "      <td>0</td>\n",
              "      <td>41318-75-6</td>\n",
              "      <td>BrC1=CC(Br)=C(C=C1)OC1C=CC(Br)=CC=1</td>\n",
              "    </tr>\n",
              "    <tr>\n",
              "      <th>3880</th>\n",
              "      <td>0</td>\n",
              "      <td>84852-53-9</td>\n",
              "      <td>BrC1C(CCC2=C(Br)C(Br)=C(Br)C(Br)=C2Br)=C(Br)C(...</td>\n",
              "    </tr>\n",
              "    <tr>\n",
              "      <th>3881</th>\n",
              "      <td>0</td>\n",
              "      <td>207122-16-5</td>\n",
              "      <td>BrC1C=C(Br)C(Br)=C(Br)C=1OC1C=C(Br)C(Br)=CC=1Br</td>\n",
              "    </tr>\n",
              "  </tbody>\n",
              "</table>\n",
              "<p>3882 rows × 3 columns</p>\n",
              "</div>"
            ],
            "text/plain": [
              "      bindingClass  ...                                             SMILES\n",
              "0                1  ...                                    NC1=CC=C(O)C=C1\n",
              "1                1  ...                         NC1C=C2CC3=CC=CC=C3C2=CC=1\n",
              "2                1  ...           CC1C(=O)C(CCCCC#CCCCC#CCO)=C(C)C(=O)C=1C\n",
              "3                1  ...                    CCCSC1C=C2N=C(NC(=O)OC)NC2=CC=1\n",
              "4                1  ...       CC1=NN=C2CN=C(C3=CC(Cl)=CC=C3N21)C1C=CC=CC=1\n",
              "...            ...  ...                                                ...\n",
              "3877             0  ...  CN(C)C(=O)C1C=CC(=CC=1S(=O)(=O)NC(=O)NC1N=C(C=...\n",
              "3878             0  ...  CC1=CC(C)=NC(NC(=O)NS(=O)(=O)C2C=CC=CC=2C(=O)O...\n",
              "3879             0  ...                BrC1=CC(Br)=C(C=C1)OC1C=CC(Br)=CC=1\n",
              "3880             0  ...  BrC1C(CCC2=C(Br)C(Br)=C(Br)C(Br)=C2Br)=C(Br)C(...\n",
              "3881             0  ...    BrC1C=C(Br)C(Br)=C(Br)C=1OC1C=C(Br)C(Br)=CC=1Br\n",
              "\n",
              "[3882 rows x 3 columns]"
            ]
          },
          "metadata": {
            "tags": []
          },
          "execution_count": 80
        }
      ]
    },
    {
      "cell_type": "code",
      "metadata": {
        "id": "TgVIsudAgz9N",
        "colab_type": "code",
        "colab": {}
      },
      "source": [
        "bal_eval = eval_df\n",
        "eval_df.to_csv('Eval_set_smi2.csv',index=False)"
      ],
      "execution_count": 0,
      "outputs": []
    },
    {
      "cell_type": "code",
      "metadata": {
        "id": "4Qkl7mvphXAQ",
        "colab_type": "code",
        "colab": {}
      },
      "source": [
        "eval_dataset_file = \"Eval_set_smi2.csv\""
      ],
      "execution_count": 0,
      "outputs": []
    },
    {
      "cell_type": "code",
      "metadata": {
        "id": "vMb6O98IhApC",
        "colab_type": "code",
        "outputId": "99f056cd-bd16-4c22-a937-50d22ab75893",
        "colab": {
          "base_uri": "https://localhost:8080/",
          "height": 105
        }
      },
      "source": [
        "eval_dataset = loader.featurize(eval_dataset_file)"
      ],
      "execution_count": 83,
      "outputs": [
        {
          "output_type": "stream",
          "text": [
            "/content/deepchem/deepchem/data/data_loader.py:268: FutureWarning: featurize() is deprecated and has been renamed to create_dataset(). featurize() will be removed in DeepChem 3.0\n",
            "  FutureWarning)\n"
          ],
          "name": "stderr"
        },
        {
          "output_type": "stream",
          "text": [
            "About to start loading CSV from Eval_set_smi2.csv\n",
            "Loading shard 1 of size 8192.\n"
          ],
          "name": "stdout"
        }
      ]
    },
    {
      "cell_type": "code",
      "metadata": {
        "id": "FtdkrfcVd5g6",
        "colab_type": "code",
        "colab": {}
      },
      "source": [
        "#bal_eval = eval_df.groupby('bindingClass')\n",
        "#bal_eval = pd.DataFrame(eval_df.apply(lambda x: x.sample(eval_df.size().min()).reset_index(drop=True)))"
      ],
      "execution_count": 0,
      "outputs": []
    },
    {
      "cell_type": "code",
      "metadata": {
        "id": "QgPogQbX9I0u",
        "colab_type": "code",
        "colab": {}
      },
      "source": [
        "valid_dataset = eval_dataset"
      ],
      "execution_count": 0,
      "outputs": []
    },
    {
      "cell_type": "code",
      "metadata": {
        "id": "aY3oIMwkhDoZ",
        "colab_type": "code",
        "colab": {}
      },
      "source": [
        "current_dir = os.path.dirname(os.path.realpath(\"__file__\"))\n",
        "dc.utils.download_url(\"https://hermes.chem.ut.ee/~alfx/ML/to_score4.csv\",  current_dir)"
      ],
      "execution_count": 0,
      "outputs": []
    },
    {
      "cell_type": "code",
      "metadata": {
        "id": "moihVuLuhD71",
        "colab_type": "code",
        "colab": {}
      },
      "source": [
        "toscore_df = pd.read_csv(\"to_score4.csv\",sep=\" \")"
      ],
      "execution_count": 0,
      "outputs": []
    },
    {
      "cell_type": "code",
      "metadata": {
        "id": "QLkmnbG8dcU1",
        "colab_type": "code",
        "colab": {}
      },
      "source": [
        ""
      ],
      "execution_count": 0,
      "outputs": []
    },
    {
      "cell_type": "code",
      "metadata": {
        "id": "xxGX2rLtdR_b",
        "colab_type": "code",
        "outputId": "cd345a6b-0db6-4bfb-b63e-daa2f2801444",
        "colab": {
          "base_uri": "https://localhost:8080/",
          "height": 419
        }
      },
      "source": [
        "toscore_df"
      ],
      "execution_count": 88,
      "outputs": [
        {
          "output_type": "execute_result",
          "data": {
            "text/html": [
              "<div>\n",
              "<style scoped>\n",
              "    .dataframe tbody tr th:only-of-type {\n",
              "        vertical-align: middle;\n",
              "    }\n",
              "\n",
              "    .dataframe tbody tr th {\n",
              "        vertical-align: top;\n",
              "    }\n",
              "\n",
              "    .dataframe thead th {\n",
              "        text-align: right;\n",
              "    }\n",
              "</style>\n",
              "<table border=\"1\" class=\"dataframe\">\n",
              "  <thead>\n",
              "    <tr style=\"text-align: right;\">\n",
              "      <th></th>\n",
              "      <th>ID</th>\n",
              "      <th>casrn</th>\n",
              "      <th>SMILES</th>\n",
              "    </tr>\n",
              "  </thead>\n",
              "  <tbody>\n",
              "    <tr>\n",
              "      <th>0</th>\n",
              "      <td>viira18b</td>\n",
              "      <td>94709-48-5</td>\n",
              "      <td>CC1=CC=C(C=C1)NC1=NC(NC(=N1)NC1=CC=C(C=C1)C)=O</td>\n",
              "    </tr>\n",
              "    <tr>\n",
              "      <th>1</th>\n",
              "      <td>stev4</td>\n",
              "      <td>2084805-91-2</td>\n",
              "      <td>S1C(=NC2=C1C=CC=C2)C=NNC(=O)C=2SC=CC2</td>\n",
              "    </tr>\n",
              "    <tr>\n",
              "      <th>2</th>\n",
              "      <td>stev1</td>\n",
              "      <td>315214-08-5</td>\n",
              "      <td>BrC1=CC=C(S1)C=NNC(=O)C=1OC=CC1</td>\n",
              "    </tr>\n",
              "    <tr>\n",
              "      <th>3</th>\n",
              "      <td>stev2</td>\n",
              "      <td>315206-42-9</td>\n",
              "      <td>BrC1=CC=C(S1)C=NNC(=O)C=1SC=CC1</td>\n",
              "    </tr>\n",
              "    <tr>\n",
              "      <th>4</th>\n",
              "      <td>DeRoy</td>\n",
              "      <td>1-1-1</td>\n",
              "      <td>CC(C)C1=C(O)C(=O)C2=C(CC=C3C(C)(C)CCC[C@]23C)C1=O</td>\n",
              "    </tr>\n",
              "    <tr>\n",
              "      <th>...</th>\n",
              "      <td>...</td>\n",
              "      <td>...</td>\n",
              "      <td>...</td>\n",
              "    </tr>\n",
              "    <tr>\n",
              "      <th>107</th>\n",
              "      <td>parp_x33</td>\n",
              "      <td>853754-69-5</td>\n",
              "      <td>O=C1C=CC(=NN1)C(=O)C1=CC(=NN1)NS(=O)(=O)C1=COC=C1</td>\n",
              "    </tr>\n",
              "    <tr>\n",
              "      <th>108</th>\n",
              "      <td>parp_x34</td>\n",
              "      <td>1198-33-0</td>\n",
              "      <td>CN1C=2NC(NC(C2N=C1)=O)=O</td>\n",
              "    </tr>\n",
              "    <tr>\n",
              "      <th>109</th>\n",
              "      <td>cdk2_4a</td>\n",
              "      <td>5461-03-0</td>\n",
              "      <td>NC=1NC=2NC(NC(C2N1)=O)=O</td>\n",
              "    </tr>\n",
              "    <tr>\n",
              "      <th>110</th>\n",
              "      <td>cdk2_4b</td>\n",
              "      <td>769-97-1</td>\n",
              "      <td>O=C1NC(C=C(N1)C(=O)N)=O</td>\n",
              "    </tr>\n",
              "    <tr>\n",
              "      <th>111</th>\n",
              "      <td>cdk2_4c</td>\n",
              "      <td>914810-46-1</td>\n",
              "      <td>N1C=NC=C1CC(=O)C=1NC2N=C(NC(C2N1)=O)CC(=O)O</td>\n",
              "    </tr>\n",
              "  </tbody>\n",
              "</table>\n",
              "<p>112 rows × 3 columns</p>\n",
              "</div>"
            ],
            "text/plain": [
              "           ID         casrn                                             SMILES\n",
              "0    viira18b    94709-48-5     CC1=CC=C(C=C1)NC1=NC(NC(=N1)NC1=CC=C(C=C1)C)=O\n",
              "1       stev4  2084805-91-2              S1C(=NC2=C1C=CC=C2)C=NNC(=O)C=2SC=CC2\n",
              "2       stev1   315214-08-5                    BrC1=CC=C(S1)C=NNC(=O)C=1OC=CC1\n",
              "3       stev2   315206-42-9                    BrC1=CC=C(S1)C=NNC(=O)C=1SC=CC1\n",
              "4       DeRoy         1-1-1  CC(C)C1=C(O)C(=O)C2=C(CC=C3C(C)(C)CCC[C@]23C)C1=O\n",
              "..        ...           ...                                                ...\n",
              "107  parp_x33   853754-69-5  O=C1C=CC(=NN1)C(=O)C1=CC(=NN1)NS(=O)(=O)C1=COC=C1\n",
              "108  parp_x34     1198-33-0                           CN1C=2NC(NC(C2N=C1)=O)=O\n",
              "109   cdk2_4a     5461-03-0                           NC=1NC=2NC(NC(C2N1)=O)=O\n",
              "110   cdk2_4b      769-97-1                            O=C1NC(C=C(N1)C(=O)N)=O\n",
              "111   cdk2_4c   914810-46-1        N1C=NC=C1CC(=O)C=1NC2N=C(NC(C2N1)=O)CC(=O)O\n",
              "\n",
              "[112 rows x 3 columns]"
            ]
          },
          "metadata": {
            "tags": []
          },
          "execution_count": 88
        }
      ]
    },
    {
      "cell_type": "code",
      "metadata": {
        "id": "C3IUGhcamD0t",
        "colab_type": "code",
        "colab": {}
      },
      "source": [
        "rows,cols=toscore_df.shape"
      ],
      "execution_count": 0,
      "outputs": []
    },
    {
      "cell_type": "code",
      "metadata": {
        "id": "-r27H6k8mTym",
        "colab_type": "code",
        "colab": {}
      },
      "source": [
        "# Just add add a dummy column to keep the featurizer happy\n",
        "toscore_df[\"bindingClass\"] = [0] * rows "
      ],
      "execution_count": 0,
      "outputs": []
    },
    {
      "cell_type": "code",
      "metadata": {
        "id": "_FewDQoAmE7h",
        "colab_type": "code",
        "colab": {}
      },
      "source": [
        ""
      ],
      "execution_count": 0,
      "outputs": []
    },
    {
      "cell_type": "code",
      "metadata": {
        "id": "rETZVewvmFtD",
        "colab_type": "code",
        "colab": {}
      },
      "source": [
        ""
      ],
      "execution_count": 0,
      "outputs": []
    },
    {
      "cell_type": "code",
      "metadata": {
        "id": "IE2jUMmShEQE",
        "colab_type": "code",
        "colab": {}
      },
      "source": [
        "toscore_df.to_csv('to_score4B.csv',index=False)"
      ],
      "execution_count": 0,
      "outputs": []
    },
    {
      "cell_type": "code",
      "metadata": {
        "id": "IZiaD7ubhEhd",
        "colab_type": "code",
        "colab": {}
      },
      "source": [
        "toscore_dataset_file = \"to_score4B.csv\""
      ],
      "execution_count": 0,
      "outputs": []
    },
    {
      "cell_type": "code",
      "metadata": {
        "id": "VUiHDWYnhEzE",
        "colab_type": "code",
        "outputId": "c178d7d1-8abe-4906-ca4b-7e1ebd45fae0",
        "colab": {
          "base_uri": "https://localhost:8080/",
          "height": 105
        }
      },
      "source": [
        "toscore_dataset = loader.featurize(toscore_dataset_file)"
      ],
      "execution_count": 93,
      "outputs": [
        {
          "output_type": "stream",
          "text": [
            "/content/deepchem/deepchem/data/data_loader.py:268: FutureWarning: featurize() is deprecated and has been renamed to create_dataset(). featurize() will be removed in DeepChem 3.0\n",
            "  FutureWarning)\n"
          ],
          "name": "stderr"
        },
        {
          "output_type": "stream",
          "text": [
            "About to start loading CSV from to_score4B.csv\n",
            "Loading shard 1 of size 8192.\n"
          ],
          "name": "stdout"
        }
      ]
    },
    {
      "cell_type": "code",
      "metadata": {
        "id": "PXynmhAQhFEw",
        "colab_type": "code",
        "colab": {}
      },
      "source": [
        ""
      ],
      "execution_count": 0,
      "outputs": []
    },
    {
      "cell_type": "code",
      "metadata": {
        "id": "6-IR8yX1hFaQ",
        "colab_type": "code",
        "colab": {}
      },
      "source": [
        ""
      ],
      "execution_count": 0,
      "outputs": []
    },
    {
      "cell_type": "code",
      "metadata": {
        "id": "5Pj5wLqviVks",
        "colab_type": "code",
        "colab": {
          "base_uri": "https://localhost:8080/",
          "height": 1000
        },
        "outputId": "6e159d69-4a50-46d5-e502-31d8ee65f07c"
      },
      "source": [
        "tmp_df"
      ],
      "execution_count": 94,
      "outputs": [
        {
          "output_type": "execute_result",
          "data": {
            "text/html": [
              "<div>\n",
              "<style scoped>\n",
              "    .dataframe tbody tr th:only-of-type {\n",
              "        vertical-align: middle;\n",
              "    }\n",
              "\n",
              "    .dataframe tbody tr th {\n",
              "        vertical-align: top;\n",
              "    }\n",
              "\n",
              "    .dataframe thead th {\n",
              "        text-align: right;\n",
              "    }\n",
              "</style>\n",
              "<table border=\"1\" class=\"dataframe\">\n",
              "  <thead>\n",
              "    <tr style=\"text-align: right;\">\n",
              "      <th></th>\n",
              "      <th>bindingClass</th>\n",
              "      <th>casrn</th>\n",
              "      <th>SMILES</th>\n",
              "      <th>Mol</th>\n",
              "      <th>label</th>\n",
              "    </tr>\n",
              "  </thead>\n",
              "  <tbody>\n",
              "    <tr>\n",
              "      <th>0</th>\n",
              "      <td>1</td>\n",
              "      <td>50-27-1</td>\n",
              "      <td>C[C@]12CC[C@H]3[C@@H](CCc4cc(O)ccc43)[C@@H]1C[...</td>\n",
              "      <td><img data-content=\"rdkit/molecule\" src=\"data:image/png;base64,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\" alt=\"Mol\"/></td>\n",
              "      <td>Binders</td>\n",
              "    </tr>\n",
              "    <tr>\n",
              "      <th>1</th>\n",
              "      <td>1</td>\n",
              "      <td>500-38-9</td>\n",
              "      <td>CC(Cc1cc(O)c(O)cc1)C(C)Cc1cc(O)c(O)cc1</td>\n",
              "      <td><img data-content=\"rdkit/molecule\" src=\"data:image/png;base64,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\" alt=\"Mol\"/></td>\n",
              "      <td>Binders</td>\n",
              "    </tr>\n",
              "    <tr>\n",
              "      <th>2</th>\n",
              "      <td>1</td>\n",
              "      <td>521-18-6</td>\n",
              "      <td>C[C@]12CC[C@H]3[C@@H](CC[C@H]4CC(=O)CC[C@@]43C...</td>\n",
              "      <td><img data-content=\"rdkit/molecule\" src=\"data:image/png;base64,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\" alt=\"Mol\"/></td>\n",
              "      <td>Binders</td>\n",
              "    </tr>\n",
              "    <tr>\n",
              "      <th>3</th>\n",
              "      <td>1</td>\n",
              "      <td>DB06710</td>\n",
              "      <td>CC12CCC3C(CCC4=CC(=O)CCC43C)C1CCC2(C)O</td>\n",
              "      <td><img data-content=\"rdkit/molecule\" src=\"data:image/png;base64,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\" alt=\"Mol\"/></td>\n",
              "      <td>Binders</td>\n",
              "    </tr>\n",
              "    <tr>\n",
              "      <th>4</th>\n",
              "      <td>1</td>\n",
              "      <td>50-28-2</td>\n",
              "      <td>C[C@]12CC[C@H]3[C@@H](CCc4cc(O)ccc43)[C@@H]1CC...</td>\n",
              "      <td><img data-content=\"rdkit/molecule\" src=\"data:image/png;base64,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\" alt=\"Mol\"/></td>\n",
              "      <td>Binders</td>\n",
              "    </tr>\n",
              "    <tr>\n",
              "      <th>...</th>\n",
              "      <td>...</td>\n",
              "      <td>...</td>\n",
              "      <td>...</td>\n",
              "      <td>...</td>\n",
              "      <td>...</td>\n",
              "    </tr>\n",
              "    <tr>\n",
              "      <th>1461</th>\n",
              "      <td>0</td>\n",
              "      <td>NOCAS_48509</td>\n",
              "      <td>CCCN(C1CCN(CC1)C(=O)C1CCNCC1)[C@H]1Cc2cc(ccc2C...</td>\n",
              "      <td><img data-content=\"rdkit/molecule\" src=\"data:image/png;base64,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\" alt=\"Mol\"/></td>\n",
              "      <td>Nonbinders</td>\n",
              "    </tr>\n",
              "    <tr>\n",
              "      <th>1462</th>\n",
              "      <td>0</td>\n",
              "      <td>NOCAS_48514</td>\n",
              "      <td>Cc1ccc(c(Cl)c1)C(=O)NS(=O)(=O)/C=C/c1ccc(cc1)OC</td>\n",
              "      <td><img data-content=\"rdkit/molecule\" src=\"data:image/png;base64,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\" alt=\"Mol\"/></td>\n",
              "      <td>Nonbinders</td>\n",
              "    </tr>\n",
              "    <tr>\n",
              "      <th>1463</th>\n",
              "      <td>0</td>\n",
              "      <td>NOCAS_48516</td>\n",
              "      <td>O=C(NS(=O)(=O)/C=C/c1ccccc1)c1ccc(F)cc1Cl</td>\n",
              "      <td><img data-content=\"rdkit/molecule\" src=\"data:image/png;base64,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\" alt=\"Mol\"/></td>\n",
              "      <td>Nonbinders</td>\n",
              "    </tr>\n",
              "    <tr>\n",
              "      <th>1464</th>\n",
              "      <td>0</td>\n",
              "      <td>NOCAS_48518</td>\n",
              "      <td>O=C(NS(=O)(=O)/C=C/c1ccc[s]1)c1ccc(F)cc1Br</td>\n",
              "      <td><img data-content=\"rdkit/molecule\" src=\"data:image/png;base64,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\" alt=\"Mol\"/></td>\n",
              "      <td>Nonbinders</td>\n",
              "    </tr>\n",
              "    <tr>\n",
              "      <th>1465</th>\n",
              "      <td>0</td>\n",
              "      <td>102-71-6</td>\n",
              "      <td>OCCN(CCO)CCO</td>\n",
              "      <td><img data-content=\"rdkit/molecule\" src=\"data:image/png;base64,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\" alt=\"Mol\"/></td>\n",
              "      <td>Nonbinders</td>\n",
              "    </tr>\n",
              "  </tbody>\n",
              "</table>\n",
              "<p>1671 rows × 5 columns</p>\n",
              "</div>"
            ],
            "text/plain": [
              "      bindingClass  ...       label\n",
              "0                1  ...     Binders\n",
              "1                1  ...     Binders\n",
              "2                1  ...     Binders\n",
              "3                1  ...     Binders\n",
              "4                1  ...     Binders\n",
              "...            ...  ...         ...\n",
              "1461             0  ...  Nonbinders\n",
              "1462             0  ...  Nonbinders\n",
              "1463             0  ...  Nonbinders\n",
              "1464             0  ...  Nonbinders\n",
              "1465             0  ...  Nonbinders\n",
              "\n",
              "[1671 rows x 5 columns]"
            ]
          },
          "metadata": {
            "tags": []
          },
          "execution_count": 94
        }
      ]
    },
    {
      "cell_type": "code",
      "metadata": {
        "id": "S8MVdlIkdxSN",
        "colab_type": "code",
        "colab": {}
      },
      "source": [
        "tmp_df.to_csv('tmp_df.csv', index=False)\n"
      ],
      "execution_count": 0,
      "outputs": []
    },
    {
      "cell_type": "code",
      "metadata": {
        "id": "69uy8VUWeHyK",
        "colab_type": "code",
        "colab": {}
      },
      "source": [
        "tmp_dataset_file = \"tmp_df.csv\""
      ],
      "execution_count": 0,
      "outputs": []
    },
    {
      "cell_type": "code",
      "metadata": {
        "id": "aSHVPm4xeRbs",
        "colab_type": "code",
        "colab": {
          "base_uri": "https://localhost:8080/",
          "height": 105
        },
        "outputId": "afa31afd-d9d0-4d19-b406-10d9e863c2d8"
      },
      "source": [
        "tmp_dataset = loader.featurize(tmp_dataset_file)"
      ],
      "execution_count": 97,
      "outputs": [
        {
          "output_type": "stream",
          "text": [
            "/content/deepchem/deepchem/data/data_loader.py:268: FutureWarning: featurize() is deprecated and has been renamed to create_dataset(). featurize() will be removed in DeepChem 3.0\n",
            "  FutureWarning)\n"
          ],
          "name": "stderr"
        },
        {
          "output_type": "stream",
          "text": [
            "About to start loading CSV from tmp_df.csv\n",
            "Loading shard 1 of size 8192.\n"
          ],
          "name": "stdout"
        }
      ]
    },
    {
      "cell_type": "code",
      "metadata": {
        "id": "eIafkCRTLSsE",
        "colab_type": "code",
        "colab": {}
      },
      "source": [
        "def generate_graph_conv_model():\n",
        " batch_size = 128\n",
        " model = GraphConvModel(1, batch_size=batch_size,\n",
        " mode='classification',\n",
        " model_dir=\"MyGraphConv/model_dir\")\n",
        " return model"
      ],
      "execution_count": 0,
      "outputs": []
    },
    {
      "cell_type": "code",
      "metadata": {
        "id": "hcA-fKaNLTUn",
        "colab_type": "code",
        "colab": {}
      },
      "source": [
        "dataset_file = tmp_dataset\n",
        "tasks = [\"bindingClass\"]\n",
        "featurizer = dc.feat.ConvMolFeaturizer()\n",
        "loader = dc.data.CSVLoader(tasks=tasks,\n",
        "smiles_field=\"SMILES\",\n",
        "featurizer=featurizer)\n"
      ],
      "execution_count": 0,
      "outputs": []
    },
    {
      "cell_type": "code",
      "metadata": {
        "id": "6iBbTWhcNRbJ",
        "colab_type": "code",
        "colab": {}
      },
      "source": [
        "splitter = dc.splits.RandomSplitter()"
      ],
      "execution_count": 0,
      "outputs": []
    },
    {
      "cell_type": "code",
      "metadata": {
        "id": "MVLm_H4YNxrw",
        "colab_type": "code",
        "colab": {}
      },
      "source": [
        "import numpy as np"
      ],
      "execution_count": 0,
      "outputs": []
    },
    {
      "cell_type": "code",
      "metadata": {
        "id": "vRn77DFINR9m",
        "colab_type": "code",
        "colab": {}
      },
      "source": [
        "metrics = [\n",
        "dc.metrics.Metric(dc.metrics.matthews_corrcoef, np.mean,\n",
        "mode=\"classification\")]"
      ],
      "execution_count": 0,
      "outputs": []
    },
    {
      "cell_type": "code",
      "metadata": {
        "id": "Wj1pFBFDNWzp",
        "colab_type": "code",
        "colab": {
          "base_uri": "https://localhost:8080/",
          "height": 445
        },
        "outputId": "f0b88952-7970-4d0b-9b78-bdea5fa4824b"
      },
      "source": [
        "training_score_list = []\n",
        "validation_score_list = []\n",
        "transformers = []\n",
        "cv_folds = 10\n",
        "for i in range(0, cv_folds):\n",
        "  model = generate_graph_conv_model()\n",
        "  res = splitter.train_valid_test_split(dataset)\n",
        "  train_dataset, valid_dataset, test_dataset = res\n",
        "  model.fit(train_dataset)\n",
        "  train_scores = model.evaluate(train_dataset, metrics,\n",
        "  transformers)\n",
        "  training_score_list.append(\n",
        "  train_scores[\"mean-matthews_corrcoef\"])\n",
        "  validation_scores = model.evaluate(valid_dataset,\n",
        "  metrics,\n",
        "  transformers)\n",
        "  validation_score_list.append(\n",
        "  validation_scores[\"mean-matthews_corrcoef\"])\n",
        "  print(training_score_list)\n",
        "  print(validation_score_list)"
      ],
      "execution_count": 103,
      "outputs": [
        {
          "output_type": "stream",
          "text": [
            "/usr/local/lib/python3.6/dist-packages/tensorflow/python/framework/indexed_slices.py:434: UserWarning: Converting sparse IndexedSlices to a dense Tensor of unknown shape. This may consume a large amount of memory.\n",
            "  \"Converting sparse IndexedSlices to a dense Tensor of unknown shape. \"\n"
          ],
          "name": "stderr"
        },
        {
          "output_type": "stream",
          "text": [
            "[0.1731379216560896]\n",
            "[0.26111648393354675]\n",
            "[0.1731379216560896, 0.12290999591925163]\n",
            "[0.26111648393354675, 0.29814239699997197]\n"
          ],
          "name": "stdout"
        },
        {
          "output_type": "stream",
          "text": [
            "/usr/local/lib/python3.6/dist-packages/sklearn/metrics/_classification.py:900: RuntimeWarning: invalid value encountered in double_scalars\n",
            "  mcc = cov_ytyp / np.sqrt(cov_ytyt * cov_ypyp)\n"
          ],
          "name": "stderr"
        },
        {
          "output_type": "stream",
          "text": [
            "[0.1731379216560896, 0.12290999591925163, 0.09785076930220796]\n",
            "[0.26111648393354675, 0.29814239699997197, 0.0]\n",
            "[0.1731379216560896, 0.12290999591925163, 0.09785076930220796, 0.5948425349517653]\n",
            "[0.26111648393354675, 0.29814239699997197, 0.0, 0.42516542614512887]\n",
            "[0.1731379216560896, 0.12290999591925163, 0.09785076930220796, 0.5948425349517653, 0.3865198668517226]\n",
            "[0.26111648393354675, 0.29814239699997197, 0.0, 0.42516542614512887, 0.4242640687119285]\n",
            "[0.1731379216560896, 0.12290999591925163, 0.09785076930220796, 0.5948425349517653, 0.3865198668517226, 0.35764819294962175]\n",
            "[0.26111648393354675, 0.29814239699997197, 0.0, 0.42516542614512887, 0.4242640687119285, 0.2516740524668708]\n",
            "[0.1731379216560896, 0.12290999591925163, 0.09785076930220796, 0.5948425349517653, 0.3865198668517226, 0.35764819294962175, 0.26372920673601896]\n",
            "[0.26111648393354675, 0.29814239699997197, 0.0, 0.42516542614512887, 0.4242640687119285, 0.2516740524668708, 0.2742042485535409]\n",
            "[0.1731379216560896, 0.12290999591925163, 0.09785076930220796, 0.5948425349517653, 0.3865198668517226, 0.35764819294962175, 0.26372920673601896, 0.13403011548263108]\n",
            "[0.26111648393354675, 0.29814239699997197, 0.0, 0.42516542614512887, 0.4242640687119285, 0.2516740524668708, 0.2742042485535409, 0.0]\n",
            "[0.1731379216560896, 0.12290999591925163, 0.09785076930220796, 0.5948425349517653, 0.3865198668517226, 0.35764819294962175, 0.26372920673601896, 0.13403011548263108, 0.28138999248170227]\n",
            "[0.26111648393354675, 0.29814239699997197, 0.0, 0.42516542614512887, 0.4242640687119285, 0.2516740524668708, 0.2742042485535409, 0.0, -0.0915713294940528]\n",
            "[0.1731379216560896, 0.12290999591925163, 0.09785076930220796, 0.5948425349517653, 0.3865198668517226, 0.35764819294962175, 0.26372920673601896, 0.13403011548263108, 0.28138999248170227, 0.44950519519433657]\n",
            "[0.26111648393354675, 0.29814239699997197, 0.0, 0.42516542614512887, 0.4242640687119285, 0.2516740524668708, 0.2742042485535409, 0.0, -0.0915713294940528, 0.3343286575352694]\n"
          ],
          "name": "stdout"
        }
      ]
    },
    {
      "cell_type": "code",
      "metadata": {
        "id": "zjXBeFG4N2je",
        "colab_type": "code",
        "colab": {
          "base_uri": "https://localhost:8080/",
          "height": 265
        },
        "outputId": "fe715890-868a-4f9b-a88d-306e130d2e8e"
      },
      "source": [
        "fig_scores_GCNN = sns.boxplot(\n",
        "[\"training\"] * cv_folds + [\"validation\"] * cv_folds,\n",
        "training_score_list + validation_score_list)"
      ],
      "execution_count": 104,
      "outputs": [
        {
          "output_type": "display_data",
          "data": {
            "image/png": "[encoded data removed]",
            "text/plain": [
              "<Figure size 432x288 with 1 Axes>"
            ]
          },
          "metadata": {
            "tags": [],
            "needs_background": "light"
          }
        }
      ]
    },
    {
      "cell_type": "code",
      "metadata": {
        "id": "8K2i7y9Vyyzk",
        "colab_type": "code",
        "colab": {}
      },
      "source": [
        "Fig_scores_GCNN = fig_scores_GCNN.get_figure()"
      ],
      "execution_count": 0,
      "outputs": []
    },
    {
      "cell_type": "code",
      "metadata": {
        "id": "g34T8JThyxJg",
        "colab_type": "code",
        "colab": {}
      },
      "source": [
        "Fig_scores_GCNN.savefig('Fig_scores_GCNN.png',dpi=600)"
      ],
      "execution_count": 0,
      "outputs": []
    },
    {
      "cell_type": "code",
      "metadata": {
        "id": "2SwWmV_RNXT0",
        "colab_type": "code",
        "colab": {}
      },
      "source": [
        "pred = [x.flatten() for x in model.predict(valid_dataset)]"
      ],
      "execution_count": 0,
      "outputs": []
    },
    {
      "cell_type": "code",
      "metadata": {
        "id": "sSI-RGUvNXxi",
        "colab_type": "code",
        "colab": {}
      },
      "source": [
        "pred_df = pd.DataFrame(pred,columns=[\"neg\",\"pos\"])"
      ],
      "execution_count": 0,
      "outputs": []
    },
    {
      "cell_type": "code",
      "metadata": {
        "id": "JgWP0wgmQLsB",
        "colab_type": "code",
        "colab": {}
      },
      "source": [
        "pred_df[\"Active\"] = [int(x) for x in valid_dataset.y]\n",
        "pred_df[\"SMILES\"] = valid_dataset.ids"
      ],
      "execution_count": 0,
      "outputs": []
    },
    {
      "cell_type": "code",
      "metadata": {
        "id": "N3PIcmIhQMYr",
        "colab_type": "code",
        "colab": {
          "base_uri": "https://localhost:8080/",
          "height": 204
        },
        "outputId": "d1ee995a-77ce-4dd9-885f-9040cc214a57"
      },
      "source": [
        "pred_df.head()"
      ],
      "execution_count": 110,
      "outputs": [
        {
          "output_type": "execute_result",
          "data": {
            "text/html": [
              "<div>\n",
              "<style scoped>\n",
              "    .dataframe tbody tr th:only-of-type {\n",
              "        vertical-align: middle;\n",
              "    }\n",
              "\n",
              "    .dataframe tbody tr th {\n",
              "        vertical-align: top;\n",
              "    }\n",
              "\n",
              "    .dataframe thead th {\n",
              "        text-align: right;\n",
              "    }\n",
              "</style>\n",
              "<table border=\"1\" class=\"dataframe\">\n",
              "  <thead>\n",
              "    <tr style=\"text-align: right;\">\n",
              "      <th></th>\n",
              "      <th>neg</th>\n",
              "      <th>pos</th>\n",
              "      <th>Active</th>\n",
              "      <th>SMILES</th>\n",
              "    </tr>\n",
              "  </thead>\n",
              "  <tbody>\n",
              "    <tr>\n",
              "      <th>0</th>\n",
              "      <td>0.442669</td>\n",
              "      <td>0.557331</td>\n",
              "      <td>0</td>\n",
              "      <td>CCCCOCCOC(C)=O</td>\n",
              "    </tr>\n",
              "    <tr>\n",
              "      <th>1</th>\n",
              "      <td>0.429488</td>\n",
              "      <td>0.570512</td>\n",
              "      <td>0</td>\n",
              "      <td>CCN(CC)c1ccc(cc1)C(c1ccc(cc1S(O)(=O)=O)S(O)(=O...</td>\n",
              "    </tr>\n",
              "    <tr>\n",
              "      <th>2</th>\n",
              "      <td>0.550606</td>\n",
              "      <td>0.449394</td>\n",
              "      <td>0</td>\n",
              "      <td>O=C(CCCCCCCCc1ccc[n]c1)N1CCC(CC1)C=C(c1ccccc1)...</td>\n",
              "    </tr>\n",
              "    <tr>\n",
              "      <th>3</th>\n",
              "      <td>0.478345</td>\n",
              "      <td>0.521655</td>\n",
              "      <td>0</td>\n",
              "      <td>CC(C)(O)c1coc(c1)S(=O)(=O)NC(=O)Nc1c2CCCc2cc2C...</td>\n",
              "    </tr>\n",
              "    <tr>\n",
              "      <th>4</th>\n",
              "      <td>0.633839</td>\n",
              "      <td>0.366161</td>\n",
              "      <td>0</td>\n",
              "      <td>CN(C)C(=O)Nc1ccccc1</td>\n",
              "    </tr>\n",
              "  </tbody>\n",
              "</table>\n",
              "</div>"
            ],
            "text/plain": [
              "        neg  ...                                             SMILES\n",
              "0  0.442669  ...                                     CCCCOCCOC(C)=O\n",
              "1  0.429488  ...  CCN(CC)c1ccc(cc1)C(c1ccc(cc1S(O)(=O)=O)S(O)(=O...\n",
              "2  0.550606  ...  O=C(CCCCCCCCc1ccc[n]c1)N1CCC(CC1)C=C(c1ccccc1)...\n",
              "3  0.478345  ...  CC(C)(O)c1coc(c1)S(=O)(=O)NC(=O)Nc1c2CCCc2cc2C...\n",
              "4  0.633839  ...                                CN(C)C(=O)Nc1ccccc1\n",
              "\n",
              "[5 rows x 4 columns]"
            ]
          },
          "metadata": {
            "tags": []
          },
          "execution_count": 110
        }
      ]
    },
    {
      "cell_type": "code",
      "metadata": {
        "id": "oFJYjUo4QXAu",
        "colab_type": "code",
        "colab": {
          "base_uri": "https://localhost:8080/",
          "height": 282
        },
        "outputId": "397ba926-e9c1-4cca-ef96-34b8659c3d2e"
      },
      "source": [
        "fig_preds_GCNN = sns.boxplot(pred_df.Active,pred_df.pos)"
      ],
      "execution_count": 111,
      "outputs": [
        {
          "output_type": "display_data",
          "data": {
            "image/png": "[encoded data removed]",
            "text/plain": [
              "<Figure size 432x288 with 1 Axes>"
            ]
          },
          "metadata": {
            "tags": [],
            "needs_background": "light"
          }
        }
      ]
    },
    {
      "cell_type": "code",
      "metadata": {
        "id": "iwGZtCKszNk-",
        "colab_type": "code",
        "colab": {}
      },
      "source": [
        "Fig_preds_GCNN = fig_preds_GCNN.get_figure()"
      ],
      "execution_count": 0,
      "outputs": []
    },
    {
      "cell_type": "code",
      "metadata": {
        "id": "pTfqmEPyzUCf",
        "colab_type": "code",
        "colab": {}
      },
      "source": [
        "Fig_preds_GCNN.savefig('Fig_preds_GCNN.png',dpi=600)"
      ],
      "execution_count": 0,
      "outputs": []
    },
    {
      "cell_type": "code",
      "metadata": {
        "id": "C4FpEdrbQV4X",
        "colab_type": "code",
        "colab": {}
      },
      "source": [
        "model.fit(dataset)"
      ],
      "execution_count": 0,
      "outputs": []
    },
    {
      "cell_type": "code",
      "metadata": {
        "id": "ebBDbP8oQwYt",
        "colab_type": "code",
        "colab": {}
      },
      "source": [
        "#model.save()"
      ],
      "execution_count": 0,
      "outputs": []
    },
    {
      "cell_type": "code",
      "metadata": {
        "id": "Cl_ulhBlQ-Mb",
        "colab_type": "code",
        "colab": {}
      },
      "source": [
        "pred_scores = model.predict(toscore_dataset)"
      ],
      "execution_count": 0,
      "outputs": []
    },
    {
      "cell_type": "code",
      "metadata": {
        "id": "_cFrs7iVq4Zp",
        "colab_type": "code",
        "colab": {}
      },
      "source": [
        "pred_scores_df = pd.DataFrame([x.flatten() for x in pred_scores], columns=[\"Neg\",\"Pos\"])"
      ],
      "execution_count": 0,
      "outputs": []
    },
    {
      "cell_type": "code",
      "metadata": {
        "id": "6RqTaRmWq5ON",
        "colab_type": "code",
        "colab": {}
      },
      "source": [
        ""
      ],
      "execution_count": 0,
      "outputs": []
    },
    {
      "cell_type": "code",
      "metadata": {
        "id": "fXuN5Uwfq52b",
        "colab_type": "code",
        "colab": {}
      },
      "source": [
        ""
      ],
      "execution_count": 0,
      "outputs": []
    },
    {
      "cell_type": "code",
      "metadata": {
        "id": "yz6rna5uq6eY",
        "colab_type": "code",
        "colab": {}
      },
      "source": [
        ""
      ],
      "execution_count": 0,
      "outputs": []
    },
    {
      "cell_type": "code",
      "metadata": {
        "id": "x84cS7VrFAZO",
        "colab_type": "code",
        "colab": {}
      },
      "source": [
        "###transformers = [\n",
        "###    dc.trans.NormalizationTransformer(transform_X=True, dataset=dataset),\n",
        "###    dc.trans.ClippingTransformer(transform_X=True, dataset=dataset)]\n",
        "#datasets = [dataset]\n",
        "#datasets = [dataset,eval_df]\n",
        "###datasets = [dataset, valid_dataset, tmp_dataset]\n",
        "###for i, dataset in enumerate(datasets):\n",
        "###  for transformer in transformers:\n",
        "###      datasets[i] = transformer.transform(dataset)\n",
        "#train_dataset = datasets\n",
        "#train_dataset, eval_dataset = datasets\n",
        "###train_dataset, valid_dataset, tmp_dataset = datasets"
      ],
      "execution_count": 0,
      "outputs": []
    },
    {
      "cell_type": "code",
      "metadata": {
        "id": "KlK26-VnQw3l",
        "colab_type": "code",
        "colab": {}
      },
      "source": [
        "####END> THE REST IS FROM THE RF AND DNN MODELS IN ANOTHER IPYNB"
      ],
      "execution_count": 0,
      "outputs": []
    },
    {
      "cell_type": "code",
      "metadata": {
        "id": "hQpHLGqdSjOI",
        "colab_type": "code",
        "colab": {}
      },
      "source": [
        ""
      ],
      "execution_count": 0,
      "outputs": []
    },
    {
      "cell_type": "code",
      "metadata": {
        "id": "_B-sGwO281gf",
        "colab_type": "code",
        "colab": {}
      },
      "source": [
        ""
      ],
      "execution_count": 0,
      "outputs": []
    },
    {
      "cell_type": "code",
      "metadata": {
        "id": "d4DDnZMDT28f",
        "colab_type": "code",
        "colab": {
          "base_uri": "https://localhost:8080/",
          "height": 392
        },
        "outputId": "52cb080f-b455-4764-d087-2d087ee9717a"
      },
      "source": [
        "from sklearn.ensemble import RandomForestClassifier\n",
        "\n",
        "def rf_model_builder(model_params, model_dir):\n",
        "  sklearn_model = RandomForestClassifier(**model_params)\n",
        "  return dc.models.SklearnModel(sklearn_model, model_dir='models')\n",
        "params_dict = {\n",
        "    \"n_estimators\": [10, 50, 100, 250, 500],\n",
        "    \"max_features\": [\"auto\", \"sqrt\", \"log2\", None],\n",
        "}\n",
        "\n",
        "metric = dc.metrics.Metric(dc.metrics.roc_auc_score)\n",
        "optimizer = dc.hyper.HyperparamOpt(rf_model_builder)\n",
        "best_rf, best_rf_hyperparams, all_rf_results = optimizer.hyperparam_search(\n",
        "    params_dict, train_dataset, valid_dataset, transformers,\n",
        "    metric=metric)\n",
        "\n"
      ],
      "execution_count": 118,
      "outputs": [
        {
          "output_type": "stream",
          "text": [
            "Fitting model 1/20\n",
            "hyperparameters: {'n_estimators': 10, 'max_features': 'auto'}\n"
          ],
          "name": "stdout"
        },
        {
          "output_type": "error",
          "ename": "TypeError",
          "evalue": "ignored",
          "traceback": [
            "\u001b[0;31m---------------------------------------------------------------------------\u001b[0m",
            "\u001b[0;31mTypeError\u001b[0m                                 Traceback (most recent call last)",
            "\u001b[0;32m<ipython-input-118-aeef8da4b4f1>\u001b[0m in \u001b[0;36m<module>\u001b[0;34m()\u001b[0m\n\u001b[1;32m     13\u001b[0m best_rf, best_rf_hyperparams, all_rf_results = optimizer.hyperparam_search(\n\u001b[1;32m     14\u001b[0m     \u001b[0mparams_dict\u001b[0m\u001b[0;34m,\u001b[0m \u001b[0mtrain_dataset\u001b[0m\u001b[0;34m,\u001b[0m \u001b[0mvalid_dataset\u001b[0m\u001b[0;34m,\u001b[0m \u001b[0mtransformers\u001b[0m\u001b[0;34m,\u001b[0m\u001b[0;34m\u001b[0m\u001b[0;34m\u001b[0m\u001b[0m\n\u001b[0;32m---> 15\u001b[0;31m     metric=metric)\n\u001b[0m\u001b[1;32m     16\u001b[0m \u001b[0;34m\u001b[0m\u001b[0m\n",
            "\u001b[0;32m/content/deepchem/deepchem/hyper/grid_search.py\u001b[0m in \u001b[0;36mhyperparam_search\u001b[0;34m(self, params_dict, train_dataset, valid_dataset, output_transformers, metric, use_max, logdir)\u001b[0m\n\u001b[1;32m     78\u001b[0m \u001b[0;34m\u001b[0m\u001b[0m\n\u001b[1;32m     79\u001b[0m       \u001b[0mmodel\u001b[0m \u001b[0;34m=\u001b[0m \u001b[0mself\u001b[0m\u001b[0;34m.\u001b[0m\u001b[0mmodel_class\u001b[0m\u001b[0;34m(\u001b[0m\u001b[0mmodel_params\u001b[0m\u001b[0;34m,\u001b[0m \u001b[0mmodel_dir\u001b[0m\u001b[0;34m)\u001b[0m\u001b[0;34m\u001b[0m\u001b[0;34m\u001b[0m\u001b[0m\n\u001b[0;32m---> 80\u001b[0;31m       \u001b[0mmodel\u001b[0m\u001b[0;34m.\u001b[0m\u001b[0mfit\u001b[0m\u001b[0;34m(\u001b[0m\u001b[0mtrain_dataset\u001b[0m\u001b[0;34m)\u001b[0m\u001b[0;34m\u001b[0m\u001b[0;34m\u001b[0m\u001b[0m\n\u001b[0m\u001b[1;32m     81\u001b[0m \u001b[0;34m\u001b[0m\u001b[0m\n\u001b[1;32m     82\u001b[0m       \u001b[0mevaluator\u001b[0m \u001b[0;34m=\u001b[0m \u001b[0mEvaluator\u001b[0m\u001b[0;34m(\u001b[0m\u001b[0mmodel\u001b[0m\u001b[0;34m,\u001b[0m \u001b[0mvalid_dataset\u001b[0m\u001b[0;34m,\u001b[0m \u001b[0moutput_transformers\u001b[0m\u001b[0;34m)\u001b[0m\u001b[0;34m\u001b[0m\u001b[0;34m\u001b[0m\u001b[0m\n",
            "\u001b[0;32m/content/deepchem/deepchem/models/sklearn_models/__init__.py\u001b[0m in \u001b[0;36mfit\u001b[0;34m(self, dataset, **kwargs)\u001b[0m\n\u001b[1;32m     62\u001b[0m     \u001b[0;31m# Logistic regression doesn't support weights\u001b[0m\u001b[0;34m\u001b[0m\u001b[0;34m\u001b[0m\u001b[0;34m\u001b[0m\u001b[0m\n\u001b[1;32m     63\u001b[0m     \u001b[0;32mif\u001b[0m \u001b[0mself\u001b[0m\u001b[0;34m.\u001b[0m\u001b[0muse_weights\u001b[0m\u001b[0;34m:\u001b[0m\u001b[0;34m\u001b[0m\u001b[0;34m\u001b[0m\u001b[0m\n\u001b[0;32m---> 64\u001b[0;31m       \u001b[0mself\u001b[0m\u001b[0;34m.\u001b[0m\u001b[0mmodel_instance\u001b[0m\u001b[0;34m.\u001b[0m\u001b[0mfit\u001b[0m\u001b[0;34m(\u001b[0m\u001b[0mX\u001b[0m\u001b[0;34m,\u001b[0m \u001b[0my\u001b[0m\u001b[0;34m,\u001b[0m \u001b[0mw\u001b[0m\u001b[0;34m)\u001b[0m\u001b[0;34m\u001b[0m\u001b[0;34m\u001b[0m\u001b[0m\n\u001b[0m\u001b[1;32m     65\u001b[0m       \u001b[0;32mreturn\u001b[0m\u001b[0;34m\u001b[0m\u001b[0;34m\u001b[0m\u001b[0m\n\u001b[1;32m     66\u001b[0m     \u001b[0mself\u001b[0m\u001b[0;34m.\u001b[0m\u001b[0mmodel_instance\u001b[0m\u001b[0;34m.\u001b[0m\u001b[0mfit\u001b[0m\u001b[0;34m(\u001b[0m\u001b[0mX\u001b[0m\u001b[0;34m,\u001b[0m \u001b[0my\u001b[0m\u001b[0;34m)\u001b[0m\u001b[0;34m\u001b[0m\u001b[0;34m\u001b[0m\u001b[0m\n",
            "\u001b[0;32m/usr/local/lib/python3.6/dist-packages/sklearn/ensemble/_forest.py\u001b[0m in \u001b[0;36mfit\u001b[0;34m(self, X, y, sample_weight)\u001b[0m\n\u001b[1;32m    293\u001b[0m         \"\"\"\n\u001b[1;32m    294\u001b[0m         \u001b[0;31m# Validate or convert input data\u001b[0m\u001b[0;34m\u001b[0m\u001b[0;34m\u001b[0m\u001b[0;34m\u001b[0m\u001b[0m\n\u001b[0;32m--> 295\u001b[0;31m         \u001b[0mX\u001b[0m \u001b[0;34m=\u001b[0m \u001b[0mcheck_array\u001b[0m\u001b[0;34m(\u001b[0m\u001b[0mX\u001b[0m\u001b[0;34m,\u001b[0m \u001b[0maccept_sparse\u001b[0m\u001b[0;34m=\u001b[0m\u001b[0;34m\"csc\"\u001b[0m\u001b[0;34m,\u001b[0m \u001b[0mdtype\u001b[0m\u001b[0;34m=\u001b[0m\u001b[0mDTYPE\u001b[0m\u001b[0;34m)\u001b[0m\u001b[0;34m\u001b[0m\u001b[0;34m\u001b[0m\u001b[0m\n\u001b[0m\u001b[1;32m    296\u001b[0m         \u001b[0my\u001b[0m \u001b[0;34m=\u001b[0m \u001b[0mcheck_array\u001b[0m\u001b[0;34m(\u001b[0m\u001b[0my\u001b[0m\u001b[0;34m,\u001b[0m \u001b[0maccept_sparse\u001b[0m\u001b[0;34m=\u001b[0m\u001b[0;34m'csc'\u001b[0m\u001b[0;34m,\u001b[0m \u001b[0mensure_2d\u001b[0m\u001b[0;34m=\u001b[0m\u001b[0;32mFalse\u001b[0m\u001b[0;34m,\u001b[0m \u001b[0mdtype\u001b[0m\u001b[0;34m=\u001b[0m\u001b[0;32mNone\u001b[0m\u001b[0;34m)\u001b[0m\u001b[0;34m\u001b[0m\u001b[0;34m\u001b[0m\u001b[0m\n\u001b[1;32m    297\u001b[0m         \u001b[0;32mif\u001b[0m \u001b[0msample_weight\u001b[0m \u001b[0;32mis\u001b[0m \u001b[0;32mnot\u001b[0m \u001b[0;32mNone\u001b[0m\u001b[0;34m:\u001b[0m\u001b[0;34m\u001b[0m\u001b[0;34m\u001b[0m\u001b[0m\n",
            "\u001b[0;32m/usr/local/lib/python3.6/dist-packages/sklearn/utils/validation.py\u001b[0m in \u001b[0;36mcheck_array\u001b[0;34m(array, accept_sparse, accept_large_sparse, dtype, order, copy, force_all_finite, ensure_2d, allow_nd, ensure_min_samples, ensure_min_features, warn_on_dtype, estimator)\u001b[0m\n\u001b[1;32m    529\u001b[0m                     \u001b[0marray\u001b[0m \u001b[0;34m=\u001b[0m \u001b[0marray\u001b[0m\u001b[0;34m.\u001b[0m\u001b[0mastype\u001b[0m\u001b[0;34m(\u001b[0m\u001b[0mdtype\u001b[0m\u001b[0;34m,\u001b[0m \u001b[0mcasting\u001b[0m\u001b[0;34m=\u001b[0m\u001b[0;34m\"unsafe\"\u001b[0m\u001b[0;34m,\u001b[0m \u001b[0mcopy\u001b[0m\u001b[0;34m=\u001b[0m\u001b[0;32mFalse\u001b[0m\u001b[0;34m)\u001b[0m\u001b[0;34m\u001b[0m\u001b[0;34m\u001b[0m\u001b[0m\n\u001b[1;32m    530\u001b[0m                 \u001b[0;32melse\u001b[0m\u001b[0;34m:\u001b[0m\u001b[0;34m\u001b[0m\u001b[0;34m\u001b[0m\u001b[0m\n\u001b[0;32m--> 531\u001b[0;31m                     \u001b[0marray\u001b[0m \u001b[0;34m=\u001b[0m \u001b[0mnp\u001b[0m\u001b[0;34m.\u001b[0m\u001b[0masarray\u001b[0m\u001b[0;34m(\u001b[0m\u001b[0marray\u001b[0m\u001b[0;34m,\u001b[0m \u001b[0morder\u001b[0m\u001b[0;34m=\u001b[0m\u001b[0morder\u001b[0m\u001b[0;34m,\u001b[0m \u001b[0mdtype\u001b[0m\u001b[0;34m=\u001b[0m\u001b[0mdtype\u001b[0m\u001b[0;34m)\u001b[0m\u001b[0;34m\u001b[0m\u001b[0;34m\u001b[0m\u001b[0m\n\u001b[0m\u001b[1;32m    532\u001b[0m             \u001b[0;32mexcept\u001b[0m \u001b[0mComplexWarning\u001b[0m\u001b[0;34m:\u001b[0m\u001b[0;34m\u001b[0m\u001b[0;34m\u001b[0m\u001b[0m\n\u001b[1;32m    533\u001b[0m                 raise ValueError(\"Complex data not supported\\n\"\n",
            "\u001b[0;32m/usr/local/lib/python3.6/dist-packages/numpy/core/_asarray.py\u001b[0m in \u001b[0;36masarray\u001b[0;34m(a, dtype, order)\u001b[0m\n\u001b[1;32m     83\u001b[0m \u001b[0;34m\u001b[0m\u001b[0m\n\u001b[1;32m     84\u001b[0m     \"\"\"\n\u001b[0;32m---> 85\u001b[0;31m     \u001b[0;32mreturn\u001b[0m \u001b[0marray\u001b[0m\u001b[0;34m(\u001b[0m\u001b[0ma\u001b[0m\u001b[0;34m,\u001b[0m \u001b[0mdtype\u001b[0m\u001b[0;34m,\u001b[0m \u001b[0mcopy\u001b[0m\u001b[0;34m=\u001b[0m\u001b[0;32mFalse\u001b[0m\u001b[0;34m,\u001b[0m \u001b[0morder\u001b[0m\u001b[0;34m=\u001b[0m\u001b[0morder\u001b[0m\u001b[0;34m)\u001b[0m\u001b[0;34m\u001b[0m\u001b[0;34m\u001b[0m\u001b[0m\n\u001b[0m\u001b[1;32m     86\u001b[0m \u001b[0;34m\u001b[0m\u001b[0m\n\u001b[1;32m     87\u001b[0m \u001b[0;34m\u001b[0m\u001b[0m\n",
            "\u001b[0;31mTypeError\u001b[0m: float() argument must be a string or a number, not 'ConvMol'"
          ]
        }
      ]
    },
    {
      "cell_type": "code",
      "metadata": {
        "id": "0e0cCr32kdom",
        "colab_type": "code",
        "colab": {}
      },
      "source": [
        "best_rf.save()"
      ],
      "execution_count": 0,
      "outputs": []
    },
    {
      "cell_type": "code",
      "metadata": {
        "id": "RL-39qQWe7zy",
        "colab_type": "code",
        "colab": {}
      },
      "source": [
        "pred = best_rf.predict(tmp_dataset)"
      ],
      "execution_count": 0,
      "outputs": []
    },
    {
      "cell_type": "code",
      "metadata": {
        "id": "9p220aJjgllr",
        "colab_type": "code",
        "colab": {}
      },
      "source": [
        "pred.shape"
      ],
      "execution_count": 0,
      "outputs": []
    },
    {
      "cell_type": "code",
      "metadata": {
        "id": "YhpV_w04g6bl",
        "colab_type": "code",
        "colab": {}
      },
      "source": [
        "pred_df = pd.DataFrame(pred)"
      ],
      "execution_count": 0,
      "outputs": []
    },
    {
      "cell_type": "code",
      "metadata": {
        "id": "EgmQ7JrlgprO",
        "colab_type": "code",
        "colab": {}
      },
      "source": [
        "pred_df.head"
      ],
      "execution_count": 0,
      "outputs": []
    },
    {
      "cell_type": "code",
      "metadata": {
        "id": "9ZWk4mQI9yys",
        "colab_type": "code",
        "colab": {}
      },
      "source": [
        "import numpy as np\n",
        "#import np.random\n",
        "\n",
        "params_dict = {\"learning_rate\": np.power(10., np.random.uniform(-5, -3, size=1)),\n",
        "               \"weight_decay_penalty\": np.power(10, np.random.uniform(-6, -4, size=1)),\n",
        "               \"nb_epoch\": [40] }\n",
        "n_features = train_dataset.get_data_shape()[0]\n",
        "def model_builder(model_params, model_dir):\n",
        "  model = dc.models.MultitaskClassifier(\n",
        "    1, n_features, layer_sizes=[1000], dropouts=.25,\n",
        "    batch_size=50, **model_params)\n",
        "  return model\n",
        "\n",
        "#train_dataset = dc.data.NumpyDataset(train_dataset.X, train_dataset.y, train_dataset.w, train_dataset.ids)\n",
        "\n",
        "optimizer = dc.hyper.HyperparamOpt(model_builder)\n",
        "best_dnn, best_dnn_hyperparams, all_dnn_results = optimizer.hyperparam_search(\n",
        "    params_dict, train_dataset, valid_dataset, transformers,\n",
        "    metric=metric)"
      ],
      "execution_count": 0,
      "outputs": []
    },
    {
      "cell_type": "code",
      "metadata": {
        "id": "Tx9iGLauWKvk",
        "colab_type": "code",
        "colab": {}
      },
      "source": [
        "from deepchem.utils.evaluate import Evaluator\n",
        "\n",
        "rf_train_csv_out = \"rf_train_classifier.csv\"\n",
        "rf_train_stats_out = \"rf_train_stats_classifier.txt\"\n",
        "rf_train_evaluator = Evaluator(best_rf, train_dataset, transformers)\n",
        "rf_train_score = rf_train_evaluator.compute_model_performance(\n",
        "    [metric], rf_train_csv_out, rf_train_stats_out)\n",
        "print(\"RF Train set AUC %f\" % (rf_train_score[\"roc_auc_score\"]))\n",
        "\n",
        "rf_valid_csv_out = \"rf_valid_classifier.csv\"\n",
        "rf_valid_stats_out = \"rf_valid_stats_classifier.txt\"\n",
        "rf_valid_evaluator = Evaluator(best_rf, valid_dataset, transformers)\n",
        "rf_valid_score = rf_valid_evaluator.compute_model_performance(\n",
        "    [metric], rf_valid_csv_out, rf_valid_stats_out)\n",
        "print(\"RF Valid set AUC %f\" % (rf_valid_score[\"roc_auc_score\"]))\n",
        "\n",
        "rf_tmp_csv_out = \"rf_tmp_classifier.csv\"\n",
        "rf_tmp_stats_out = \"rf_tmp_stats_classifier.txt\"\n",
        "rf_tmp_evaluator = Evaluator(best_rf, tmp_dataset, transformers)\n",
        "rf_tmp_score = rf_tmp_evaluator.compute_model_performance(\n",
        "    [metric], rf_tmp_csv_out, rf_tmp_stats_out)\n",
        "print(\"RF Tmp set AUC %f\" % (rf_tmp_score[\"roc_auc_score\"]))\n",
        "\n",
        "#rf_test_csv_out = \"rf_test_regressor.csv\"\n",
        "#rf_test_stats_out = \"rf_test_stats_regressor.txt\"\n",
        "#rf_test_evaluator = Evaluator(best_rf, test_dataset, transformers)\n",
        "\n",
        "#rf_test_score = rf_test_evaluator.compute_model_performance(\n",
        " #   [metric], rf_test_csv_out, rf_test_stats_out)\n",
        "#print(\"RF Test set AUC %f\" % (rf_test_score[\"roc_auc_score\"]))\n",
        "\n",
        "#rf_crystal_csv_out = \"rf_crystal_regressor.csv\"\n",
        "#rf_crystal_stats_out = \"rf_crystal_stats_regressor.txt\"\n",
        "#rf_crystal_evaluator = Evaluator(best_rf, crystal_dataset, transformers)\n",
        "#rf_crystal_score = rf_crystal_evaluator.compute_model_performance(\n",
        "#    [metric], rf_crystal_csv_out, rf_crystal_stats_out)\n",
        "#print(\"RF Crystal set R^2 %f\" % (rf_crystal_score[\"roc_auc_score\"]))"
      ],
      "execution_count": 0,
      "outputs": []
    },
    {
      "cell_type": "code",
      "metadata": {
        "id": "grYdHVPxYRB5",
        "colab_type": "code",
        "colab": {}
      },
      "source": [
        "dnn_train_csv_out = \"dnn_train_classifier.csv\"\n",
        "dnn_train_stats_out = \"dnn_train_classifier_stats.txt\"\n",
        "dnn_train_evaluator = Evaluator(best_dnn, train_dataset, transformers)\n",
        "dnn_train_score = dnn_train_evaluator.compute_model_performance(\n",
        "    [metric], dnn_train_csv_out, dnn_train_stats_out)\n",
        "print(\"DNN Train set AUC %f\" % (dnn_train_score[\"roc_auc_score\"]))\n",
        "\n",
        "dnn_valid_csv_out = \"dnn_valid_classifier.csv\"\n",
        "dnn_valid_stats_out = \"dnn_valid_classifier_stats.txt\"\n",
        "dnn_valid_evaluator = Evaluator(best_dnn, valid_dataset, transformers)\n",
        "dnn_valid_score = dnn_valid_evaluator.compute_model_performance(\n",
        "    [metric], dnn_valid_csv_out, dnn_valid_stats_out)\n",
        "print(\"DNN Valid set AUC %f\" % (dnn_valid_score[\"roc_auc_score\"]))\n",
        "\n",
        "dnn_tmp_csv_out = \"dnn_tmp_classifier.csv\"\n",
        "dnn_tmp_stats_out = \"dnn_tmp_classifier_stats.txt\"\n",
        "dnn_tmp_evaluator = Evaluator(best_dnn, tmp_dataset, transformers)\n",
        "dnn_tmp_score = dnn_tmp_evaluator.compute_model_performance(\n",
        "    [metric], dnn_tmp_csv_out, dnn_tmp_stats_out)\n",
        "print(\"DNN Tmp set AUC %f\" % (dnn_tmp_score[\"roc_auc_score\"]))\n",
        "\n",
        "#dnn_test_csv_out = \"dnn_test_classifier.csv\"\n",
        "#dnn_test_stats_out = \"dnn_test_classifier_stats.txt\"\n",
        "#dnn_test_evaluator = Evaluator(best_dnn, test_dataset, transformers)\n",
        "#dnn_test_score = dnn_test_evaluator.compute_model_performance(\n",
        "#    [metric], dnn_test_csv_out, dnn_test_stats_out)\n",
        "#print(\"DNN Test set AUC %f\" % (dnn_test_score[\"roc_auc_score\"]))\n",
        "\n",
        "#dnn_crystal_csv_out = \"dnn_crystal_classifier.csv\"\n",
        "#dnn_crystal_stats_out = \"dnn_crystal_stats_classifier.txt\"\n",
        "#dnn_crystal_evaluator = Evaluator(best_dnn, crystal_dataset, transformers)\n",
        "#dnn_crystal_score = dnn_crystal_evaluator.compute_model_performance(\n",
        "#    [metric], dnn_crystal_csv_out, dnn_crystal_stats_out)\n",
        "#print(\"DNN Crystal set AUC %f\" % (dnn_crystal_score[\"roc_auc_score\"]))"
      ],
      "execution_count": 0,
      "outputs": []
    },
    {
      "cell_type": "code",
      "metadata": {
        "id": "EMbMcI_vYsbq",
        "colab_type": "code",
        "colab": {}
      },
      "source": [
        "#Now regression models\n",
        "#Make directories to store the raw and featurized datasets.\n",
        "#featurizer = dc.feat.UserDefinedFeaturizer(user_specified_features)\n",
        "featurizer = dc.feat.ConvMolFeaturizer()\n",
        "loader = dc.data.CSVLoader(tasks=[\"bindingClass\"],\n",
        "    smiles_field=\"SMILES\",\n",
        "    featurizer=featurizer)\n",
        "\n",
        "#loader = dc.data.UserCSVLoader(\n",
        "#    tasks=[\"bindingClass\"],  id_field=\"casrn\",\n",
        "#    featurizer=featurizer)\n",
        "train_dataset = loader.featurize(dataset_file)\n",
        "valid_dataset = loader.featurize(eval_dataset_file)\n",
        "#crystal_dataset = loader.featurize(crystal_dataset_file)"
      ],
      "execution_count": 0,
      "outputs": []
    },
    {
      "cell_type": "code",
      "metadata": {
        "id": "R9re5w_cZwWa",
        "colab_type": "code",
        "colab": {}
      },
      "source": [
        "print(\"Number of compounds in train set\")\n",
        "print(len(train_dataset))\n",
        "print(\"Number of compounds in validation set\")\n",
        "print(len(valid_dataset))"
      ],
      "execution_count": 0,
      "outputs": []
    },
    {
      "cell_type": "code",
      "metadata": {
        "id": "-CGHqQlQaJvk",
        "colab_type": "code",
        "colab": {}
      },
      "source": [
        "transformers = [\n",
        "    dc.trans.NormalizationTransformer(transform_X=True, dataset=train_dataset),\n",
        "    dc.trans.ClippingTransformer(transform_X=True, dataset=train_dataset)]\n",
        "\n",
        "datasets = [train_dataset, valid_dataset]\n",
        "for i, dataset in enumerate(datasets):\n",
        "  for transformer in transformers:\n",
        "      datasets[i] = transformer.transform(dataset)\n",
        "train_dataset, valid_dataset = datasets"
      ],
      "execution_count": 0,
      "outputs": []
    },
    {
      "cell_type": "code",
      "metadata": {
        "id": "VYaQa2EOaVgO",
        "colab_type": "code",
        "colab": {}
      },
      "source": [
        "from sklearn.ensemble import RandomForestRegressor\n",
        "\n",
        "def rf_model_builder(model_params, model_dir):\n",
        "  sklearn_model = RandomForestRegressor(**model_params)\n",
        "  return dc.models.SklearnModel(sklearn_model, model_dir)\n",
        "params_dict = {\n",
        "    \"n_estimators\": [10, 100],\n",
        "    \"max_features\": [\"auto\", \"sqrt\", \"log2\", None],\n",
        "}\n",
        "\n",
        "metric = dc.metrics.Metric(dc.metrics.r2_score)\n",
        "optimizer = dc.hyper.HyperparamOpt(rf_model_builder)\n",
        "best_rf, best_rf_hyperparams, all_rf_results = optimizer.hyperparam_search(\n",
        "    params_dict, train_dataset, valid_dataset, transformers,\n",
        "    metric=metric)"
      ],
      "execution_count": 0,
      "outputs": []
    },
    {
      "cell_type": "code",
      "metadata": {
        "id": "aTZdDPykaprV",
        "colab_type": "code",
        "colab": {}
      },
      "source": [
        "import numpy.random\n",
        "\n",
        "params_dict = {\"learning_rate\": np.power(10., np.random.uniform(-5, -3, size=2)),\n",
        "               \"weight_decay_penalty\": np.power(10, np.random.uniform(-6, -4, size=2)),\n",
        "               \"nb_epoch\": [20] }\n",
        "n_features = train_dataset.get_data_shape()[0]\n",
        "def model_builder(model_params, model_dir):\n",
        "  model = dc.models.MultitaskRegressor(\n",
        "    1, n_features, layer_sizes=[1000], dropouts=[.25],\n",
        "    batch_size=50, **model_params)\n",
        "  return model\n",
        "\n",
        "optimizer = dc.hyper.HyperparamOpt(model_builder)\n",
        "best_dnn, best_dnn_hyperparams, all_dnn_results = optimizer.hyperparam_search(\n",
        "    params_dict, train_dataset, valid_dataset, transformers,\n",
        "    metric=metric)"
      ],
      "execution_count": 0,
      "outputs": []
    },
    {
      "cell_type": "code",
      "metadata": {
        "id": "NFsmRqDrbJtK",
        "colab_type": "code",
        "colab": {}
      },
      "source": [
        "from deepchem.utils.evaluate import Evaluator\n",
        "\n",
        "rf_train_csv_out = \"rf_train_regressor.csv\"\n",
        "rf_train_stats_out = \"rf_train_stats_regressor.txt\"\n",
        "rf_train_evaluator = Evaluator(best_rf, train_dataset, transformers)\n",
        "rf_train_score = rf_train_evaluator.compute_model_performance(\n",
        "    [metric], rf_train_csv_out, rf_train_stats_out)\n",
        "print(\"RF Train set R^2 %f\" % (rf_train_score[\"r2_score\"]))\n",
        "\n",
        "rf_valid_csv_out = \"rf_valid_regressor.csv\"\n",
        "rf_valid_stats_out = \"rf_valid_stats_regressor.txt\"\n",
        "rf_valid_evaluator = Evaluator(best_rf, valid_dataset, transformers)\n",
        "rf_valid_score = rf_valid_evaluator.compute_model_performance(\n",
        "    [metric], rf_valid_csv_out, rf_valid_stats_out)\n",
        "print(\"RF Valid set R^2 %f\" % (rf_valid_score[\"r2_score\"]))"
      ],
      "execution_count": 0,
      "outputs": []
    },
    {
      "cell_type": "code",
      "metadata": {
        "id": "I-xzwOSkbTpa",
        "colab_type": "code",
        "colab": {}
      },
      "source": [
        "dnn_train_csv_out = \"dnn_train_regressor.csv\"\n",
        "dnn_train_stats_out = \"dnn_train_regressor_stats.txt\"\n",
        "dnn_train_evaluator = Evaluator(best_dnn, train_dataset, transformers)\n",
        "dnn_train_score = dnn_train_evaluator.compute_model_performance(\n",
        "    [metric], dnn_train_csv_out, dnn_train_stats_out)\n",
        "print(\"DNN Train set R^2 %f\" % (dnn_train_score[\"r2_score\"]))\n",
        "\n",
        "dnn_valid_csv_out = \"dnn_valid_regressor.csv\"\n",
        "dnn_valid_stats_out = \"dnn_valid_regressor_stats.txt\"\n",
        "dnn_valid_evaluator = Evaluator(best_dnn, valid_dataset, transformers)\n",
        "dnn_valid_score = dnn_valid_evaluator.compute_model_performance(\n",
        "    [metric], dnn_valid_csv_out, dnn_valid_stats_out)\n",
        "print(\"DNN Valid set R^2 %f\" % (dnn_valid_score[\"r2_score\"]))"
      ],
      "execution_count": 0,
      "outputs": []
    },
    {
      "cell_type": "code",
      "metadata": {
        "id": "jIn_EcNybekR",
        "colab_type": "code",
        "colab": {}
      },
      "source": [
        "#%matplotlib inline\n",
        "#from matplotlib import pyplot as plt\n",
        "\n",
        "#task = \"bindingClass\"\n",
        "#rf_predicted_test = best_rf.predict(valid_dataset)\n",
        "#rf_true_test = valid_dataset.y\n",
        "#plt.scatter(rf_predicted_test, rf_true_test)\n",
        "#plt.xlabel('Predicted bindingClass')\n",
        "#plt.ylabel('Secondary Assay')\n",
        "#plt.title(r'RF predicted bindingClass vs. Secondary Assay')\n",
        "#plt.xlim([2, 11])\n",
        "#plt.ylim([2, 11])\n",
        "#plt.plot([2, 11], [2, 11], color='k')\n",
        "#plt.show()"
      ],
      "execution_count": 0,
      "outputs": []
    },
    {
      "cell_type": "code",
      "metadata": {
        "id": "PCDtfrFpcakP",
        "colab_type": "code",
        "colab": {}
      },
      "source": [
        "#task = \"bindingClass\"\n",
        "#dnn_predicted_test = best_dnn.predict(valid_dataset, transformers)\n",
        "#dnn_true_test = valid_dataset.y\n",
        "#plt.scatter(dnn_predicted_test, dnn_true_test)\n",
        "#plt.xlabel('Predicted bindingClass')\n",
        "#plt.ylabel('Secondary Assay')\n",
        "#plt.title(r'DNN predicted bindingClass vs. Secondary Assay')\n",
        "#plt.xlim([2, 11])\n",
        "#plt.ylim([2, 11])\n",
        "#plt.plot([2, 11], [2, 11], color='k')\n",
        "#plt.show()"
      ],
      "execution_count": 0,
      "outputs": []
    }
  ]
}