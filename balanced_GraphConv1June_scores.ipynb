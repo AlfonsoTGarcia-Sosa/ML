{
  "nbformat": 4,
  "nbformat_minor": 0,
  "metadata": {
    "kernelspec": {
      "display_name": "Python 3",
      "language": "python",
      "name": "python3"
    },
    "language_info": {
      "codemirror_mode": {
        "name": "ipython",
        "version": 3
      },
      "file_extension": ".py",
      "mimetype": "text/x-python",
      "name": "python",
      "nbconvert_exporter": "python",
      "pygments_lexer": "ipython3",
      "version": "3.6.10"
    },
    "colab": {
      "name": "balanced_myfeats.ipynb",
      "provenance": [],
      "include_colab_link": true
    }
  },
  "cells": [
    {
      "cell_type": "markdown",
      "metadata": {
        "id": "view-in-github",
        "colab_type": "text"
      },
      "source": [
        "<a href=\"https://colab.research.google.com/github/AlfonsoTGarcia-Sosa/ML/blob/master/balanced_GraphConv1June_scores.ipynb\" target=\"_parent\"><img src=\"https://colab.research.google.com/assets/colab-badge.svg\" alt=\"Open In Colab\"/></a>"
      ]
    },
    {
      "cell_type": "code",
      "metadata": {
        "id": "kShIhlOeFAWL",
        "colab_type": "code",
        "outputId": "2ecf7aeb-1542-46d5-ed72-11ca30422c00",
        "colab": {
          "base_uri": "https://localhost:8080/",
          "height": 1000
        }
      },
      "source": [
        "!wget -c https://repo.anaconda.com/miniconda/Miniconda3-latest-Linux-x86_64.sh\n",
        "!chmod +x Miniconda3-latest-Linux-x86_64.sh\n",
        "!bash ./Miniconda3-latest-Linux-x86_64.sh -b -f -p /usr/local\n",
        "!conda install -y -c deepchem -c rdkit -c conda-forge -c omnia deepchem-gpu=2.3.0\n",
        "import sys\n",
        "sys.path.append('/usr/local/lib/python3.7/site-packages/')"
      ],
      "execution_count": 1,
      "outputs": [
        {
          "output_type": "stream",
          "text": [
            "--2020-06-08 15:09:43--  https://repo.anaconda.com/miniconda/Miniconda3-latest-Linux-x86_64.sh\n",
            "Resolving repo.anaconda.com (repo.anaconda.com)... 104.16.131.3, 104.16.130.3, 2606:4700::6810:8203, ...\n",
            "Connecting to repo.anaconda.com (repo.anaconda.com)|104.16.131.3|:443... connected.\n",
            "HTTP request sent, awaiting response... 416 Requested Range Not Satisfiable\n",
            "\n",
            "    The file is already fully retrieved; nothing to do.\n",
            "\n",
            "PREFIX=/usr/local\n",
            "Unpacking payload ...\n",
            "Collecting package metadata (current_repodata.json): - \b\b\\ \b\b| \b\b/ \b\bdone\n",
            "Solving environment: \\ \b\b| \b\b/ \b\b- \b\b\\ \b\b| \b\b/ \b\b- \b\b\\ \b\b| \b\b/ \b\b- \b\b\\ \b\b| \b\b/ \b\b- \b\b\\ \b\b| \b\b/ \b\b- \b\b\\ \b\b| \b\b/ \b\b- \b\b\\ \b\b| \b\b/ \b\b- \b\b\\ \b\bdone\n",
            "\n",
            "## Package Plan ##\n",
            "\n",
            "  environment location: /usr/local\n",
            "\n",
            "  added / updated specs:\n",
            "    - _libgcc_mutex==0.1=main\n",
            "    - asn1crypto==1.3.0=py37_0\n",
            "    - ca-certificates==2020.1.1=0\n",
            "    - certifi==2019.11.28=py37_0\n",
            "    - cffi==1.14.0=py37h2e261b9_0\n",
            "    - chardet==3.0.4=py37_1003\n",
            "    - conda-package-handling==1.6.0=py37h7b6447c_0\n",
            "    - conda==4.8.2=py37_0\n",
            "    - cryptography==2.8=py37h1ba5d50_0\n",
            "    - idna==2.8=py37_0\n",
            "    - ld_impl_linux-64==2.33.1=h53a641e_7\n",
            "    - libedit==3.1.20181209=hc058e9b_0\n",
            "    - libffi==3.2.1=hd88cf55_4\n",
            "    - libgcc-ng==9.1.0=hdf63c60_0\n",
            "    - libstdcxx-ng==9.1.0=hdf63c60_0\n",
            "    - ncurses==6.2=he6710b0_0\n",
            "    - openssl==1.1.1d=h7b6447c_4\n",
            "    - pip==20.0.2=py37_1\n",
            "    - pycosat==0.6.3=py37h7b6447c_0\n",
            "    - pycparser==2.19=py37_0\n",
            "    - pyopenssl==19.1.0=py37_0\n",
            "    - pysocks==1.7.1=py37_0\n",
            "    - python==3.7.6=h0371630_2\n",
            "    - readline==7.0=h7b6447c_5\n",
            "    - requests==2.22.0=py37_1\n",
            "    - ruamel_yaml==0.15.87=py37h7b6447c_0\n",
            "    - setuptools==45.2.0=py37_0\n",
            "    - six==1.14.0=py37_0\n",
            "    - sqlite==3.31.1=h7b6447c_0\n",
            "    - tk==8.6.8=hbc83047_0\n",
            "    - tqdm==4.42.1=py_0\n",
            "    - urllib3==1.25.8=py37_0\n",
            "    - wheel==0.34.2=py37_0\n",
            "    - xz==5.2.4=h14c3975_4\n",
            "    - yaml==0.1.7=had09818_2\n",
            "    - zlib==1.2.11=h7b6447c_3\n",
            "\n",
            "\n",
            "The following packages will be SUPERSEDED by a higher-priority channel:\n",
            "\n",
            "  ca-certificates    conda-forge::ca-certificates-2020.4.5~ --> pkgs/main::ca-certificates-2020.1.1-0\n",
            "  certifi            conda-forge::certifi-2020.4.5.2-py37h~ --> pkgs/main::certifi-2019.11.28-py37_0\n",
            "  conda              conda-forge::conda-4.8.3-py37hc8dfbb8~ --> pkgs/main::conda-4.8.2-py37_0\n",
            "  openssl            conda-forge::openssl-1.1.1g-h516909a_0 --> pkgs/main::openssl-1.1.1d-h7b6447c_4\n",
            "\n",
            "\n",
            "Preparing transaction: / \b\bdone\n",
            "Executing transaction: \\ \b\b| \b\bdone\n",
            "installation finished.\n",
            "WARNING:\n",
            "    You currently have a PYTHONPATH environment variable set. This may cause\n",
            "    unexpected behavior when running the Python interpreter in Miniconda3.\n",
            "    For best results, please verify that your PYTHONPATH only points to\n",
            "    directories of packages that are compatible with the Python interpreter\n",
            "    in Miniconda3: /usr/local\n",
            "Collecting package metadata (current_repodata.json): - \b\b\\ \b\b| \b\b/ \b\b- \b\b\\ \b\b| \b\b/ \b\b- \b\b\\ \b\b| \b\b/ \b\b- \b\b\\ \b\b| \b\b/ \b\b- \b\b\\ \b\b| \b\b/ \b\b- \b\b\\ \b\b| \b\b/ \b\b- \b\b\\ \b\b| \b\b/ \b\b- \b\b\\ \b\bdone\n",
            "Solving environment: / \b\b- \b\b\\ \b\b| \b\b/ \b\b- \b\b\\ \b\b| \b\b/ \b\b- \b\b\\ \b\b| \b\b/ \b\b- \b\b\\ \b\b| \b\b/ \b\b- \b\b\\ \b\b| \b\b/ \b\b- \b\b\\ \b\b| \b\b/ \b\b- \b\b\\ \b\b| \b\b/ \b\b- \b\b\\ \b\b| \b\b/ \b\b- \b\b\\ \b\b| \b\b/ \b\b- \b\b\\ \b\b| \b\b/ \b\b- \b\b\\ \b\b| \b\b/ \b\b- \b\b\\ \b\b| \b\b/ \b\b- \b\b\\ \b\b| \b\b/ \b\b- \b\b\\ \b\b| \b\b/ \b\bdone\n",
            "\n",
            "\n",
            "==> WARNING: A newer version of conda exists. <==\n",
            "  current version: 4.8.2\n",
            "  latest version: 4.8.3\n",
            "\n",
            "Please update conda by running\n",
            "\n",
            "    $ conda update -n base -c defaults conda\n",
            "\n",
            "\n",
            "\n",
            "## Package Plan ##\n",
            "\n",
            "  environment location: /usr/local\n",
            "\n",
            "  added / updated specs:\n",
            "    - deepchem-gpu=2.3.0\n",
            "\n",
            "\n",
            "The following packages will be UPDATED:\n",
            "\n",
            "  ca-certificates     pkgs/main::ca-certificates-2020.1.1-0 --> conda-forge::ca-certificates-2020.4.5.2-hecda079_0\n",
            "  certifi              pkgs/main::certifi-2019.11.28-py37_0 --> conda-forge::certifi-2020.4.5.2-py37hc8dfbb8_0\n",
            "  conda                       pkgs/main::conda-4.8.2-py37_0 --> conda-forge::conda-4.8.3-py37hc8dfbb8_1\n",
            "  openssl              pkgs/main::openssl-1.1.1d-h7b6447c_4 --> conda-forge::openssl-1.1.1g-h516909a_0\n",
            "\n",
            "\n",
            "Preparing transaction: \\ \b\bdone\n",
            "Verifying transaction: / \b\bdone\n",
            "Executing transaction: \\ \b\bdone\n"
          ],
          "name": "stdout"
        }
      ]
    },
    {
      "cell_type": "code",
      "metadata": {
        "id": "vjmWGAsPIX0k",
        "colab_type": "code",
        "outputId": "43eb059f-a2a8-4f09-802c-cb8bdb9f4eae",
        "colab": {
          "base_uri": "https://localhost:8080/",
          "height": 231
        }
      },
      "source": [
        "import tensorflow as tf\n",
        "print(\"tf.__version__: %s\" % str(tf.__version__))\n",
        "device_name = tf.test.gpu_device_name()\n",
        "if not device_name:\n",
        "  raise SystemError('GPU device not found')\n",
        "print('Found GPU at: {}'.format(device_name))"
      ],
      "execution_count": 3,
      "outputs": [
        {
          "output_type": "stream",
          "text": [
            "tf.__version__: 2.2.0\n"
          ],
          "name": "stdout"
        },
        {
          "output_type": "error",
          "ename": "SystemError",
          "evalue": "ignored",
          "traceback": [
            "\u001b[0;31m---------------------------------------------------------------------------\u001b[0m",
            "\u001b[0;31mSystemError\u001b[0m                               Traceback (most recent call last)",
            "\u001b[0;32m<ipython-input-3-7c1227d29e25>\u001b[0m in \u001b[0;36m<module>\u001b[0;34m()\u001b[0m\n\u001b[1;32m      3\u001b[0m \u001b[0mdevice_name\u001b[0m \u001b[0;34m=\u001b[0m \u001b[0mtf\u001b[0m\u001b[0;34m.\u001b[0m\u001b[0mtest\u001b[0m\u001b[0;34m.\u001b[0m\u001b[0mgpu_device_name\u001b[0m\u001b[0;34m(\u001b[0m\u001b[0;34m)\u001b[0m\u001b[0;34m\u001b[0m\u001b[0;34m\u001b[0m\u001b[0m\n\u001b[1;32m      4\u001b[0m \u001b[0;32mif\u001b[0m \u001b[0;32mnot\u001b[0m \u001b[0mdevice_name\u001b[0m\u001b[0;34m:\u001b[0m\u001b[0;34m\u001b[0m\u001b[0;34m\u001b[0m\u001b[0m\n\u001b[0;32m----> 5\u001b[0;31m   \u001b[0;32mraise\u001b[0m \u001b[0mSystemError\u001b[0m\u001b[0;34m(\u001b[0m\u001b[0;34m'GPU device not found'\u001b[0m\u001b[0;34m)\u001b[0m\u001b[0;34m\u001b[0m\u001b[0;34m\u001b[0m\u001b[0m\n\u001b[0m\u001b[1;32m      6\u001b[0m \u001b[0mprint\u001b[0m\u001b[0;34m(\u001b[0m\u001b[0;34m'Found GPU at: {}'\u001b[0m\u001b[0;34m.\u001b[0m\u001b[0mformat\u001b[0m\u001b[0;34m(\u001b[0m\u001b[0mdevice_name\u001b[0m\u001b[0;34m)\u001b[0m\u001b[0;34m)\u001b[0m\u001b[0;34m\u001b[0m\u001b[0;34m\u001b[0m\u001b[0m\n",
            "\u001b[0;31mSystemError\u001b[0m: GPU device not found"
          ]
        }
      ]
    },
    {
      "cell_type": "code",
      "metadata": {
        "id": "S49EDLC9IeR9",
        "colab_type": "code",
        "outputId": "77f6eb65-8701-450b-847a-2aeed10bd938",
        "colab": {
          "base_uri": "https://localhost:8080/",
          "height": 34
        }
      },
      "source": [
        "!git clone https://github.com/deepchem/deepchem.git"
      ],
      "execution_count": 4,
      "outputs": [
        {
          "output_type": "stream",
          "text": [
            "fatal: destination path 'deepchem' already exists and is not an empty directory.\n"
          ],
          "name": "stdout"
        }
      ]
    },
    {
      "cell_type": "code",
      "metadata": {
        "id": "eVANNwVGIsCD",
        "colab_type": "code",
        "outputId": "12f69c4c-37b0-496d-a145-4471235b79ed",
        "colab": {
          "base_uri": "https://localhost:8080/",
          "height": 34
        }
      },
      "source": [
        "%cd deepchem/"
      ],
      "execution_count": 5,
      "outputs": [
        {
          "output_type": "stream",
          "text": [
            "/content/deepchem\n"
          ],
          "name": "stdout"
        }
      ]
    },
    {
      "cell_type": "code",
      "metadata": {
        "id": "r1W63OsPIwQQ",
        "colab_type": "code",
        "outputId": "983719eb-ad1e-46ee-fa8d-6f7aeb9aac27",
        "colab": {
          "base_uri": "https://localhost:8080/",
          "height": 459
        }
      },
      "source": [
        "!python setup.py install"
      ],
      "execution_count": 6,
      "outputs": [
        {
          "output_type": "stream",
          "text": [
            "running install\n",
            "[pbr] Writing ChangeLog\n",
            "[pbr] Generating ChangeLog\n",
            "[pbr] ChangeLog complete (0.1s)\n",
            "[pbr] Generating AUTHORS\n",
            "[pbr] AUTHORS complete (0.2s)\n",
            "running build\n",
            "running build_py\n",
            "running egg_info\n",
            "writing pbr to deepchem.egg-info/pbr.json\n",
            "writing deepchem.egg-info/PKG-INFO\n",
            "writing dependency_links to deepchem.egg-info/dependency_links.txt\n",
            "writing top-level names to deepchem.egg-info/top_level.txt\n",
            "[pbr] Processing SOURCES.txt\n",
            "[pbr] In git context, generating filelist from git\n",
            "warning: no previously-included files found matching '.gitreview'\n",
            "warning: no previously-included files matching '*.pyc' found anywhere in distribution\n",
            "reading manifest template 'MANIFEST.in'\n",
            "writing manifest file 'deepchem.egg-info/SOURCES.txt'\n",
            "running install_lib\n",
            "running install_egg_info\n",
            "removing '/usr/local/lib/python3.7/site-packages/deepchem-2.3.1.dev298-py3.7.egg-info' (and everything under it)\n",
            "Copying deepchem.egg-info to /usr/local/lib/python3.7/site-packages/deepchem-2.3.1.dev298-py3.7.egg-info\n",
            "running install_scripts\n",
            "/content/deepchem/.eggs/pbr-5.4.5-py3.7.egg/pbr/packaging.py:436: EasyInstallDeprecationWarning: Use get_header\n",
            "  header = easy_install.get_script_header(\"\", executable, is_wininst)\n"
          ],
          "name": "stdout"
        }
      ]
    },
    {
      "cell_type": "code",
      "metadata": {
        "id": "1mPxN3yLFAWR",
        "colab_type": "code",
        "colab": {}
      },
      "source": [
        "import os\n",
        "import sys\n",
        "import deepchem as dc\n",
        "from deepchem.utils.save import load_from_disk\n",
        "from deepchem.models import GraphConvModel "
      ],
      "execution_count": 0,
      "outputs": []
    },
    {
      "cell_type": "code",
      "metadata": {
        "id": "dz2X8DfvFAWZ",
        "colab_type": "code",
        "colab": {}
      },
      "source": [
        "import pandas as pd"
      ],
      "execution_count": 0,
      "outputs": []
    },
    {
      "cell_type": "code",
      "metadata": {
        "id": "uq407EOaFAWc",
        "colab_type": "code",
        "outputId": "6806e14f-9d0c-4d70-aca8-bf6ff01cb77a",
        "colab": {
          "base_uri": "https://localhost:8080/",
          "height": 34
        }
      },
      "source": [
        "print(pd)"
      ],
      "execution_count": 9,
      "outputs": [
        {
          "output_type": "stream",
          "text": [
            "<module 'pandas' from '/usr/local/lib/python3.6/dist-packages/pandas/__init__.py'>\n"
          ],
          "name": "stdout"
        }
      ]
    },
    {
      "cell_type": "code",
      "metadata": {
        "id": "dqn0ewhoFAWg",
        "colab_type": "code",
        "colab": {}
      },
      "source": [
        "from rdkit import Chem"
      ],
      "execution_count": 0,
      "outputs": []
    },
    {
      "cell_type": "code",
      "metadata": {
        "id": "pAXFZITNFAWi",
        "colab_type": "code",
        "colab": {}
      },
      "source": [
        "from rdkit.Chem import Draw"
      ],
      "execution_count": 0,
      "outputs": []
    },
    {
      "cell_type": "code",
      "metadata": {
        "id": "jHQqCl4yFAWl",
        "colab_type": "code",
        "colab": {}
      },
      "source": [
        "from rdkit.Chem import PandasTools"
      ],
      "execution_count": 0,
      "outputs": []
    },
    {
      "cell_type": "code",
      "metadata": {
        "id": "J6R04W28FAWq",
        "colab_type": "code",
        "colab": {}
      },
      "source": [
        "from rdkit.Chem import Descriptors"
      ],
      "execution_count": 0,
      "outputs": []
    },
    {
      "cell_type": "code",
      "metadata": {
        "id": "LZdELNhjFAWs",
        "colab_type": "code",
        "colab": {}
      },
      "source": [
        "from rdkit.Chem import rdmolops"
      ],
      "execution_count": 0,
      "outputs": []
    },
    {
      "cell_type": "code",
      "metadata": {
        "id": "dcfJWUizFAWv",
        "colab_type": "code",
        "outputId": "c36e903d-6729-4d06-db8d-45d848f2527c",
        "colab": {
          "base_uri": "https://localhost:8080/",
          "height": 71
        }
      },
      "source": [
        "import seaborn as sns"
      ],
      "execution_count": 15,
      "outputs": [
        {
          "output_type": "stream",
          "text": [
            "/usr/local/lib/python3.6/dist-packages/statsmodels/tools/_testing.py:19: FutureWarning: pandas.util.testing is deprecated. Use the functions in the public API at pandas.testing instead.\n",
            "  import pandas.util.testing as tm\n"
          ],
          "name": "stderr"
        }
      ]
    },
    {
      "cell_type": "code",
      "metadata": {
        "id": "Drx3uzGAFAW0",
        "colab_type": "code",
        "colab": {}
      },
      "source": [
        "data = pd.DataFrame()"
      ],
      "execution_count": 0,
      "outputs": []
    },
    {
      "cell_type": "code",
      "metadata": {
        "id": "w9zsZ_Y1FAW2",
        "colab_type": "code",
        "outputId": "4ef1ce5d-2d12-4527-c463-d0c5b51962f1",
        "colab": {
          "base_uri": "https://localhost:8080/",
          "height": 34
        }
      },
      "source": [
        "pd.__version__"
      ],
      "execution_count": 17,
      "outputs": [
        {
          "output_type": "execute_result",
          "data": {
            "text/plain": [
              "'1.0.4'"
            ]
          },
          "metadata": {
            "tags": []
          },
          "execution_count": 17
        }
      ]
    },
    {
      "cell_type": "code",
      "metadata": {
        "id": "tjpaVXBSFAW5",
        "colab_type": "code",
        "colab": {}
      },
      "source": [
        "current_dir = os.path.dirname(os.path.realpath(\"__file__\"))\n",
        "dc.utils.download_url(\"https://hermes.chem.ut.ee/~alfx/ML/train_smi.csv\",\n",
        "                      current_dir)"
      ],
      "execution_count": 0,
      "outputs": []
    },
    {
      "cell_type": "code",
      "metadata": {
        "id": "VyRzKK2oFAW7",
        "colab_type": "code",
        "colab": {}
      },
      "source": [
        "df = pd.read_csv(\"train_smi.csv\",sep=\" \")"
      ],
      "execution_count": 0,
      "outputs": []
    },
    {
      "cell_type": "code",
      "metadata": {
        "id": "mX0cVjrsFAW-",
        "colab_type": "code",
        "colab": {}
      },
      "source": [
        ""
      ],
      "execution_count": 0,
      "outputs": []
    },
    {
      "cell_type": "code",
      "metadata": {
        "id": "uzTyszhLFAXA",
        "colab_type": "code",
        "colab": {}
      },
      "source": [
        "df_rows, df_cols = df.shape"
      ],
      "execution_count": 0,
      "outputs": []
    },
    {
      "cell_type": "code",
      "metadata": {
        "id": "2EpFHu-tFAXC",
        "colab_type": "code",
        "outputId": "ae698d0d-cbeb-49dc-ae7d-f33122479f0d",
        "colab": {
          "base_uri": "https://localhost:8080/",
          "height": 419
        }
      },
      "source": [
        "df"
      ],
      "execution_count": 21,
      "outputs": [
        {
          "output_type": "execute_result",
          "data": {
            "text/html": [
              "<div>\n",
              "<style scoped>\n",
              "    .dataframe tbody tr th:only-of-type {\n",
              "        vertical-align: middle;\n",
              "    }\n",
              "\n",
              "    .dataframe tbody tr th {\n",
              "        vertical-align: top;\n",
              "    }\n",
              "\n",
              "    .dataframe thead th {\n",
              "        text-align: right;\n",
              "    }\n",
              "</style>\n",
              "<table border=\"1\" class=\"dataframe\">\n",
              "  <thead>\n",
              "    <tr style=\"text-align: right;\">\n",
              "      <th></th>\n",
              "      <th>bindingClass</th>\n",
              "      <th>casrn</th>\n",
              "      <th>SMILES</th>\n",
              "      <th>Unnamed: 3</th>\n",
              "    </tr>\n",
              "  </thead>\n",
              "  <tbody>\n",
              "    <tr>\n",
              "      <th>0</th>\n",
              "      <td>0</td>\n",
              "      <td>1918-02-1</td>\n",
              "      <td>Nc1c(Cl)c([n]c(Cl)c1Cl)C(O)=O</td>\n",
              "      <td>NaN</td>\n",
              "    </tr>\n",
              "    <tr>\n",
              "      <th>1</th>\n",
              "      <td>1</td>\n",
              "      <td>50-27-1</td>\n",
              "      <td>C[C@]12CC[C@H]3[C@@H](CCc4cc(O)ccc43)[C@@H]1C[...</td>\n",
              "      <td>NaN</td>\n",
              "    </tr>\n",
              "    <tr>\n",
              "      <th>2</th>\n",
              "      <td>1</td>\n",
              "      <td>500-38-9</td>\n",
              "      <td>CC(Cc1cc(O)c(O)cc1)C(C)Cc1cc(O)c(O)cc1</td>\n",
              "      <td>NaN</td>\n",
              "    </tr>\n",
              "    <tr>\n",
              "      <th>3</th>\n",
              "      <td>1</td>\n",
              "      <td>521-18-6</td>\n",
              "      <td>C[C@]12CC[C@H]3[C@@H](CC[C@H]4CC(=O)CC[C@@]43C...</td>\n",
              "      <td>NaN</td>\n",
              "    </tr>\n",
              "    <tr>\n",
              "      <th>4</th>\n",
              "      <td>1</td>\n",
              "      <td>DB06710</td>\n",
              "      <td>CC12CCC3C(CCC4=CC(=O)CCC43C)C1CCC2(C)O</td>\n",
              "      <td>NaN</td>\n",
              "    </tr>\n",
              "    <tr>\n",
              "      <th>...</th>\n",
              "      <td>...</td>\n",
              "      <td>...</td>\n",
              "      <td>...</td>\n",
              "      <td>...</td>\n",
              "    </tr>\n",
              "    <tr>\n",
              "      <th>1666</th>\n",
              "      <td>0</td>\n",
              "      <td>NOCAS_48509</td>\n",
              "      <td>CCCN(C1CCN(CC1)C(=O)C1CCNCC1)[C@H]1Cc2cc(ccc2C...</td>\n",
              "      <td>NaN</td>\n",
              "    </tr>\n",
              "    <tr>\n",
              "      <th>1667</th>\n",
              "      <td>0</td>\n",
              "      <td>NOCAS_48514</td>\n",
              "      <td>Cc1ccc(c(Cl)c1)C(=O)NS(=O)(=O)/C=C/c1ccc(cc1)OC</td>\n",
              "      <td>NaN</td>\n",
              "    </tr>\n",
              "    <tr>\n",
              "      <th>1668</th>\n",
              "      <td>0</td>\n",
              "      <td>NOCAS_48516</td>\n",
              "      <td>O=C(NS(=O)(=O)/C=C/c1ccccc1)c1ccc(F)cc1Cl</td>\n",
              "      <td>NaN</td>\n",
              "    </tr>\n",
              "    <tr>\n",
              "      <th>1669</th>\n",
              "      <td>0</td>\n",
              "      <td>NOCAS_48518</td>\n",
              "      <td>O=C(NS(=O)(=O)/C=C/c1ccc[s]1)c1ccc(F)cc1Br</td>\n",
              "      <td>NaN</td>\n",
              "    </tr>\n",
              "    <tr>\n",
              "      <th>1670</th>\n",
              "      <td>0</td>\n",
              "      <td>102-71-6</td>\n",
              "      <td>OCCN(CCO)CCO</td>\n",
              "      <td>NaN</td>\n",
              "    </tr>\n",
              "  </tbody>\n",
              "</table>\n",
              "<p>1671 rows × 4 columns</p>\n",
              "</div>"
            ],
            "text/plain": [
              "      bindingClass  ... Unnamed: 3\n",
              "0                0  ...        NaN\n",
              "1                1  ...        NaN\n",
              "2                1  ...        NaN\n",
              "3                1  ...        NaN\n",
              "4                1  ...        NaN\n",
              "...            ...  ...        ...\n",
              "1666             0  ...        NaN\n",
              "1667             0  ...        NaN\n",
              "1668             0  ...        NaN\n",
              "1669             0  ...        NaN\n",
              "1670             0  ...        NaN\n",
              "\n",
              "[1671 rows x 4 columns]"
            ]
          },
          "metadata": {
            "tags": []
          },
          "execution_count": 21
        }
      ]
    },
    {
      "cell_type": "code",
      "metadata": {
        "id": "1aI9KOAlFAXE",
        "colab_type": "code",
        "colab": {}
      },
      "source": [
        "PandasTools.AddMoleculeColumnToFrame(df, \"SMILES\",\"Mol\")"
      ],
      "execution_count": 0,
      "outputs": []
    },
    {
      "cell_type": "code",
      "metadata": {
        "id": "uWO6lvGoJj6a",
        "colab_type": "code",
        "colab": {}
      },
      "source": [
        "current_dir = os.path.dirname(os.path.realpath(\"__file__\"))\n",
        "dc.utils.download_url(\"https://hermes.chem.ut.ee/~alfx/ML/binders_smi.csv\",  current_dir)"
      ],
      "execution_count": 0,
      "outputs": []
    },
    {
      "cell_type": "code",
      "metadata": {
        "id": "Vgs83tUjFAXG",
        "colab_type": "code",
        "colab": {}
      },
      "source": [
        "active_df = pd.read_csv(\"binders_smi.csv\",sep=\" \")"
      ],
      "execution_count": 0,
      "outputs": []
    },
    {
      "cell_type": "code",
      "metadata": {
        "id": "4qxo-E_1FAXI",
        "colab_type": "code",
        "colab": {}
      },
      "source": [
        ""
      ],
      "execution_count": 0,
      "outputs": []
    },
    {
      "cell_type": "code",
      "metadata": {
        "id": "KKivx9KTFAXK",
        "colab_type": "code",
        "colab": {}
      },
      "source": [
        "active_df_rows, active_df_cols = active_df.shape"
      ],
      "execution_count": 0,
      "outputs": []
    },
    {
      "cell_type": "code",
      "metadata": {
        "id": "0l-46hWUFAXO",
        "colab_type": "code",
        "outputId": "3a04aa6e-05a9-4832-b012-d090420a1547",
        "colab": {
          "base_uri": "https://localhost:8080/",
          "height": 419
        }
      },
      "source": [
        "active_df"
      ],
      "execution_count": 26,
      "outputs": [
        {
          "output_type": "execute_result",
          "data": {
            "text/html": [
              "<div>\n",
              "<style scoped>\n",
              "    .dataframe tbody tr th:only-of-type {\n",
              "        vertical-align: middle;\n",
              "    }\n",
              "\n",
              "    .dataframe tbody tr th {\n",
              "        vertical-align: top;\n",
              "    }\n",
              "\n",
              "    .dataframe thead th {\n",
              "        text-align: right;\n",
              "    }\n",
              "</style>\n",
              "<table border=\"1\" class=\"dataframe\">\n",
              "  <thead>\n",
              "    <tr style=\"text-align: right;\">\n",
              "      <th></th>\n",
              "      <th>bindingClass</th>\n",
              "      <th>casrn</th>\n",
              "      <th>SMILES</th>\n",
              "    </tr>\n",
              "  </thead>\n",
              "  <tbody>\n",
              "    <tr>\n",
              "      <th>0</th>\n",
              "      <td>1</td>\n",
              "      <td>50-27-1</td>\n",
              "      <td>C[C@]12CC[C@H]3[C@@H](CCc4cc(O)ccc43)[C@@H]1C[...</td>\n",
              "    </tr>\n",
              "    <tr>\n",
              "      <th>1</th>\n",
              "      <td>1</td>\n",
              "      <td>500-38-9</td>\n",
              "      <td>CC(Cc1cc(O)c(O)cc1)C(C)Cc1cc(O)c(O)cc1</td>\n",
              "    </tr>\n",
              "    <tr>\n",
              "      <th>2</th>\n",
              "      <td>1</td>\n",
              "      <td>521-18-6</td>\n",
              "      <td>C[C@]12CC[C@H]3[C@@H](CC[C@H]4CC(=O)CC[C@@]43C...</td>\n",
              "    </tr>\n",
              "    <tr>\n",
              "      <th>3</th>\n",
              "      <td>1</td>\n",
              "      <td>DB06710</td>\n",
              "      <td>CC12CCC3C(CCC4=CC(=O)CCC43C)C1CCC2(C)O</td>\n",
              "    </tr>\n",
              "    <tr>\n",
              "      <th>4</th>\n",
              "      <td>1</td>\n",
              "      <td>50-28-2</td>\n",
              "      <td>C[C@]12CC[C@H]3[C@@H](CCc4cc(O)ccc43)[C@@H]1CC...</td>\n",
              "    </tr>\n",
              "    <tr>\n",
              "      <th>...</th>\n",
              "      <td>...</td>\n",
              "      <td>...</td>\n",
              "      <td>...</td>\n",
              "    </tr>\n",
              "    <tr>\n",
              "      <th>200</th>\n",
              "      <td>1</td>\n",
              "      <td>NOCAS_47353</td>\n",
              "      <td>CN(C)C(=O)C1(CCN(CCC2(CN(CCO2)C(=O)c2ccccc2)c2...</td>\n",
              "    </tr>\n",
              "    <tr>\n",
              "      <th>201</th>\n",
              "      <td>1</td>\n",
              "      <td>NOCAS_47377</td>\n",
              "      <td>CC(C)N1CCC(CC1)NC(=O)c1cc2cc(ccc2[n]1Cc1cc(o[n...</td>\n",
              "    </tr>\n",
              "    <tr>\n",
              "      <th>202</th>\n",
              "      <td>1</td>\n",
              "      <td>NOCAS_47379</td>\n",
              "      <td>CCN(Cc1c[n]ccc1)C(=O)c1cccc(Cl)c1[C@]1(C)C(=O)...</td>\n",
              "    </tr>\n",
              "    <tr>\n",
              "      <th>203</th>\n",
              "      <td>1</td>\n",
              "      <td>NOCAS_47389</td>\n",
              "      <td>CCOC(=O)c1ccc(cc1)[C@@H]1CC[C@H](CC1)NC[C@H](O...</td>\n",
              "    </tr>\n",
              "    <tr>\n",
              "      <th>204</th>\n",
              "      <td>1</td>\n",
              "      <td>NOCAS_48505</td>\n",
              "      <td>Cc1[nH][n]c2Nc3ccc(cc3C(=Nc21)c1ccccc1Cl)[N+](...</td>\n",
              "    </tr>\n",
              "  </tbody>\n",
              "</table>\n",
              "<p>205 rows × 3 columns</p>\n",
              "</div>"
            ],
            "text/plain": [
              "     bindingClass  ...                                             SMILES\n",
              "0               1  ...  C[C@]12CC[C@H]3[C@@H](CCc4cc(O)ccc43)[C@@H]1C[...\n",
              "1               1  ...             CC(Cc1cc(O)c(O)cc1)C(C)Cc1cc(O)c(O)cc1\n",
              "2               1  ...  C[C@]12CC[C@H]3[C@@H](CC[C@H]4CC(=O)CC[C@@]43C...\n",
              "3               1  ...             CC12CCC3C(CCC4=CC(=O)CCC43C)C1CCC2(C)O\n",
              "4               1  ...  C[C@]12CC[C@H]3[C@@H](CCc4cc(O)ccc43)[C@@H]1CC...\n",
              "..            ...  ...                                                ...\n",
              "200             1  ...  CN(C)C(=O)C1(CCN(CCC2(CN(CCO2)C(=O)c2ccccc2)c2...\n",
              "201             1  ...  CC(C)N1CCC(CC1)NC(=O)c1cc2cc(ccc2[n]1Cc1cc(o[n...\n",
              "202             1  ...  CCN(Cc1c[n]ccc1)C(=O)c1cccc(Cl)c1[C@]1(C)C(=O)...\n",
              "203             1  ...  CCOC(=O)c1ccc(cc1)[C@@H]1CC[C@H](CC1)NC[C@H](O...\n",
              "204             1  ...  Cc1[nH][n]c2Nc3ccc(cc3C(=Nc21)c1ccccc1Cl)[N+](...\n",
              "\n",
              "[205 rows x 3 columns]"
            ]
          },
          "metadata": {
            "tags": []
          },
          "execution_count": 26
        }
      ]
    },
    {
      "cell_type": "code",
      "metadata": {
        "id": "9p3toUgfFAXQ",
        "colab_type": "code",
        "colab": {}
      },
      "source": [
        ""
      ],
      "execution_count": 0,
      "outputs": []
    },
    {
      "cell_type": "code",
      "metadata": {
        "id": "3kL8GZzJFAXU",
        "colab_type": "code",
        "colab": {}
      },
      "source": [
        "PandasTools.AddMoleculeColumnToFrame(active_df,\"SMILES\",\"Mol\")"
      ],
      "execution_count": 0,
      "outputs": []
    },
    {
      "cell_type": "code",
      "metadata": {
        "id": "IQHSCbKiFAXW",
        "colab_type": "code",
        "colab": {}
      },
      "source": [
        ""
      ],
      "execution_count": 0,
      "outputs": []
    },
    {
      "cell_type": "code",
      "metadata": {
        "id": "DIageR1qFAXY",
        "colab_type": "code",
        "colab": {}
      },
      "source": [
        "#df.columns = [\"SMILES\",\"s_m_title\",\"bindingClass\",\"Mol\"]"
      ],
      "execution_count": 0,
      "outputs": []
    },
    {
      "cell_type": "code",
      "metadata": {
        "id": "UidV8Q1dFAXa",
        "colab_type": "code",
        "outputId": "48542505-42be-4165-9bd6-e2cb532dbbb8",
        "colab": {
          "base_uri": "https://localhost:8080/",
          "height": 34
        }
      },
      "source": [
        "print([str(x) for x in active_df.columns])"
      ],
      "execution_count": 29,
      "outputs": [
        {
          "output_type": "stream",
          "text": [
            "['bindingClass', 'casrn', 'SMILES', 'Mol']\n"
          ],
          "name": "stdout"
        }
      ]
    },
    {
      "cell_type": "code",
      "metadata": {
        "id": "Rr-H-e6yJ1kZ",
        "colab_type": "code",
        "colab": {}
      },
      "source": [
        "current_dir = os.path.dirname(os.path.realpath(\"__file__\"))\n",
        "dc.utils.download_url(\"https://hermes.chem.ut.ee/~alfx/ML/nonbinders_smi.csv\",  current_dir)"
      ],
      "execution_count": 0,
      "outputs": []
    },
    {
      "cell_type": "code",
      "metadata": {
        "id": "u1gaZY_dFAXc",
        "colab_type": "code",
        "colab": {}
      },
      "source": [
        "inactive_df = pd.read_csv(\"nonbinders_smi.csv\",sep=\" \")"
      ],
      "execution_count": 0,
      "outputs": []
    },
    {
      "cell_type": "code",
      "metadata": {
        "id": "GCvZyUkHJ0rw",
        "colab_type": "code",
        "colab": {}
      },
      "source": [
        ""
      ],
      "execution_count": 0,
      "outputs": []
    },
    {
      "cell_type": "code",
      "metadata": {
        "id": "qjWUNMeTFAXe",
        "colab_type": "code",
        "colab": {}
      },
      "source": [
        "tmp_df = active_df.append(inactive_df)"
      ],
      "execution_count": 0,
      "outputs": []
    },
    {
      "cell_type": "code",
      "metadata": {
        "id": "S8ZB50XdFAXg",
        "colab_type": "code",
        "colab": {}
      },
      "source": [
        "active_df[\"label\"] = [\"Binders\"]*active_df_rows"
      ],
      "execution_count": 0,
      "outputs": []
    },
    {
      "cell_type": "code",
      "metadata": {
        "id": "4LVaI2BVFAXi",
        "colab_type": "code",
        "colab": {}
      },
      "source": [
        "PandasTools.AddMoleculeColumnToFrame(inactive_df,\"SMILES\",\"Mol\")"
      ],
      "execution_count": 0,
      "outputs": []
    },
    {
      "cell_type": "code",
      "metadata": {
        "id": "LG8Zt8DJFAXk",
        "colab_type": "code",
        "colab": {}
      },
      "source": [
        ""
      ],
      "execution_count": 0,
      "outputs": []
    },
    {
      "cell_type": "code",
      "metadata": {
        "id": "HarJ_yE1FAXm",
        "colab_type": "code",
        "colab": {}
      },
      "source": [
        "inactive_df_rows, inactive_df_cols = inactive_df.shape"
      ],
      "execution_count": 0,
      "outputs": []
    },
    {
      "cell_type": "code",
      "metadata": {
        "id": "27h5h-srFAXo",
        "colab_type": "code",
        "colab": {}
      },
      "source": [
        ""
      ],
      "execution_count": 0,
      "outputs": []
    },
    {
      "cell_type": "code",
      "metadata": {
        "id": "MzJX9AW9FAXq",
        "colab_type": "code",
        "colab": {}
      },
      "source": [
        "inactive_df[\"label\"] = [\"Nonbinders\"]*inactive_df_rows"
      ],
      "execution_count": 0,
      "outputs": []
    },
    {
      "cell_type": "code",
      "metadata": {
        "id": "AVyKgJfYFAXu",
        "colab_type": "code",
        "colab": {}
      },
      "source": [
        "tmp_df = active_df.append(inactive_df)"
      ],
      "execution_count": 0,
      "outputs": []
    },
    {
      "cell_type": "code",
      "metadata": {
        "id": "J-MQ45BzFAXw",
        "colab_type": "code",
        "colab": {}
      },
      "source": [
        ""
      ],
      "execution_count": 0,
      "outputs": []
    },
    {
      "cell_type": "code",
      "metadata": {
        "id": "Pf5LJtqAFAXz",
        "colab_type": "code",
        "colab": {}
      },
      "source": [
        "###fig = sns.violinplot(tmp_df[\"label\"], tmp_df[\"ChimpDockScore\"])"
      ],
      "execution_count": 0,
      "outputs": []
    },
    {
      "cell_type": "code",
      "metadata": {
        "id": "3uA4vxz1FAX3",
        "colab_type": "code",
        "colab": {}
      },
      "source": [
        "###fig_chimpdockscore = fig.get_figure()"
      ],
      "execution_count": 0,
      "outputs": []
    },
    {
      "cell_type": "code",
      "metadata": {
        "id": "dVEh4PPLFAX5",
        "colab_type": "code",
        "colab": {}
      },
      "source": [
        "###fig_chimpdockscore.savefig('fig_chimpdockscore.png',dpi=600)"
      ],
      "execution_count": 0,
      "outputs": []
    },
    {
      "cell_type": "code",
      "metadata": {
        "id": "fmMI0CwXFAX8",
        "colab_type": "code",
        "colab": {}
      },
      "source": [
        "###fig2 = sns.violinplot(tmp_df[\"label\"], tmp_df[\"avgD_Act\"])"
      ],
      "execution_count": 0,
      "outputs": []
    },
    {
      "cell_type": "code",
      "metadata": {
        "id": "SehHkG3hFAX_",
        "colab_type": "code",
        "colab": {}
      },
      "source": [
        "###fig_avgD_Act = fig2.get_figure()"
      ],
      "execution_count": 0,
      "outputs": []
    },
    {
      "cell_type": "code",
      "metadata": {
        "id": "Nvw5FTApFAYB",
        "colab_type": "code",
        "colab": {}
      },
      "source": [
        "###fig_avgD_Act.savefig('fig_avgD_Act.png',dpi=600)"
      ],
      "execution_count": 0,
      "outputs": []
    },
    {
      "cell_type": "code",
      "metadata": {
        "id": "Stxw--ZkFAYD",
        "colab_type": "code",
        "colab": {}
      },
      "source": [
        ""
      ],
      "execution_count": 0,
      "outputs": []
    },
    {
      "cell_type": "code",
      "metadata": {
        "id": "BgjfDulAFAYE",
        "colab_type": "code",
        "colab": {}
      },
      "source": [
        "###fig3 = sns.violinplot(tmp_df[\"label\"], tmp_df[\"avgD_Inact\"])"
      ],
      "execution_count": 0,
      "outputs": []
    },
    {
      "cell_type": "code",
      "metadata": {
        "id": "x2et5QcrFAYG",
        "colab_type": "code",
        "colab": {}
      },
      "source": [
        "###fig_avgD_Inact = fig3.get_figure()"
      ],
      "execution_count": 0,
      "outputs": []
    },
    {
      "cell_type": "code",
      "metadata": {
        "id": "i-raJK76FAYI",
        "colab_type": "code",
        "colab": {}
      },
      "source": [
        "###fig_avgD_Inact.savefig('fig_avgD_Inact.png',dpi=600)"
      ],
      "execution_count": 0,
      "outputs": []
    },
    {
      "cell_type": "code",
      "metadata": {
        "id": "W70JGlFgFAYL",
        "colab_type": "code",
        "colab": {}
      },
      "source": [
        ""
      ],
      "execution_count": 0,
      "outputs": []
    },
    {
      "cell_type": "code",
      "metadata": {
        "id": "8oc1WWe8FAYO",
        "colab_type": "code",
        "colab": {}
      },
      "source": [
        "###fig4 = sns.violinplot(tmp_df[\"label\"], tmp_df[\"P_Act_dockChimp\"])"
      ],
      "execution_count": 0,
      "outputs": []
    },
    {
      "cell_type": "code",
      "metadata": {
        "id": "w3FR9EY7FAYT",
        "colab_type": "code",
        "colab": {}
      },
      "source": [
        "###fig_P_Act_dockChimp = fig4.get_figure()"
      ],
      "execution_count": 0,
      "outputs": []
    },
    {
      "cell_type": "code",
      "metadata": {
        "id": "xr643W9pFAYU",
        "colab_type": "code",
        "colab": {}
      },
      "source": [
        "###fig_P_Act_dockChimp.savefig('fig_P_Act_dockChimp.png',dpi=600)"
      ],
      "execution_count": 0,
      "outputs": []
    },
    {
      "cell_type": "code",
      "metadata": {
        "id": "hsQzg3qiFAYX",
        "colab_type": "code",
        "colab": {}
      },
      "source": [
        ""
      ],
      "execution_count": 0,
      "outputs": []
    },
    {
      "cell_type": "code",
      "metadata": {
        "id": "sNtaJmMJFAYZ",
        "colab_type": "code",
        "colab": {}
      },
      "source": [
        "###fig5 = sns.violinplot(tmp_df[\"label\"], tmp_df[\"P_Inact\"])"
      ],
      "execution_count": 0,
      "outputs": []
    },
    {
      "cell_type": "code",
      "metadata": {
        "id": "4gOLAguVFAYb",
        "colab_type": "code",
        "colab": {}
      },
      "source": [
        "###fig_P_Inact = fig5.get_figure()"
      ],
      "execution_count": 0,
      "outputs": []
    },
    {
      "cell_type": "code",
      "metadata": {
        "id": "hEFOp3aVFAYd",
        "colab_type": "code",
        "colab": {}
      },
      "source": [
        "###fig_P_Inact.savefig('fig_P_Inact.png',dpi=600)"
      ],
      "execution_count": 0,
      "outputs": []
    },
    {
      "cell_type": "code",
      "metadata": {
        "id": "OIlpWLMrFAYf",
        "colab_type": "code",
        "colab": {}
      },
      "source": [
        ""
      ],
      "execution_count": 0,
      "outputs": []
    },
    {
      "cell_type": "code",
      "metadata": {
        "id": "es8wYl4uFAYh",
        "colab_type": "code",
        "colab": {}
      },
      "source": [
        "bal_df = tmp_df"
      ],
      "execution_count": 0,
      "outputs": []
    },
    {
      "cell_type": "code",
      "metadata": {
        "id": "HEsUD3UtFAYi",
        "colab_type": "code",
        "colab": {}
      },
      "source": [
        "g = bal_df.groupby('bindingClass')\n",
        "g = pd.DataFrame(g.apply(lambda x: x.sample(g.size().min()).reset_index(drop=True)))"
      ],
      "execution_count": 0,
      "outputs": []
    },
    {
      "cell_type": "code",
      "metadata": {
        "id": "2e4aeKHZFAYk",
        "colab_type": "code",
        "outputId": "38397c28-f7b7-4219-e564-ead41ffb515e",
        "colab": {
          "base_uri": "https://localhost:8080/",
          "height": 1000
        }
      },
      "source": [
        "g"
      ],
      "execution_count": 55,
      "outputs": [
        {
          "output_type": "execute_result",
          "data": {
            "text/html": [
              "<div>\n",
              "<style scoped>\n",
              "    .dataframe tbody tr th:only-of-type {\n",
              "        vertical-align: middle;\n",
              "    }\n",
              "\n",
              "    .dataframe tbody tr th {\n",
              "        vertical-align: top;\n",
              "    }\n",
              "\n",
              "    .dataframe thead th {\n",
              "        text-align: right;\n",
              "    }\n",
              "</style>\n",
              "<table border=\"1\" class=\"dataframe\">\n",
              "  <thead>\n",
              "    <tr style=\"text-align: right;\">\n",
              "      <th></th>\n",
              "      <th></th>\n",
              "      <th>bindingClass</th>\n",
              "      <th>casrn</th>\n",
              "      <th>SMILES</th>\n",
              "      <th>Mol</th>\n",
              "      <th>label</th>\n",
              "    </tr>\n",
              "    <tr>\n",
              "      <th>bindingClass</th>\n",
              "      <th></th>\n",
              "      <th></th>\n",
              "      <th></th>\n",
              "      <th></th>\n",
              "      <th></th>\n",
              "      <th></th>\n",
              "    </tr>\n",
              "  </thead>\n",
              "  <tbody>\n",
              "    <tr>\n",
              "      <th rowspan=\"5\" valign=\"top\">0</th>\n",
              "      <th>0</th>\n",
              "      <td>0</td>\n",
              "      <td>1072-15-7</td>\n",
              "      <td>CCCCCCCCCOS(O)(=O)=O</td>\n",
              "      <td><img data-content=\"rdkit/molecule\" src=\"data:image/png;base64,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\" alt=\"Mol\"/></td>\n",
              "      <td>Nonbinders</td>\n",
              "    </tr>\n",
              "    <tr>\n",
              "      <th>1</th>\n",
              "      <td>0</td>\n",
              "      <td>134605-64-4</td>\n",
              "      <td>CC(C)(OC(=O)c1cc(ccc1Cl)N1C(=O)N(C)C(=CC1=O)C(...</td>\n",
              "      <td><img data-content=\"rdkit/molecule\" src=\"data:image/png;base64,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\" alt=\"Mol\"/></td>\n",
              "      <td>Nonbinders</td>\n",
              "    </tr>\n",
              "    <tr>\n",
              "      <th>2</th>\n",
              "      <td>0</td>\n",
              "      <td>112-72-1</td>\n",
              "      <td>CCCCCCCCCCCCCCO</td>\n",
              "      <td><img data-content=\"rdkit/molecule\" src=\"data:image/png;base64,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\" alt=\"Mol\"/></td>\n",
              "      <td>Nonbinders</td>\n",
              "    </tr>\n",
              "    <tr>\n",
              "      <th>3</th>\n",
              "      <td>0</td>\n",
              "      <td>115-96-8</td>\n",
              "      <td>O=P(OCCCl)(OCCCl)OCCCl</td>\n",
              "      <td><img data-content=\"rdkit/molecule\" src=\"data:image/png;base64,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\" alt=\"Mol\"/></td>\n",
              "      <td>Nonbinders</td>\n",
              "    </tr>\n",
              "    <tr>\n",
              "      <th>4</th>\n",
              "      <td>0</td>\n",
              "      <td>65-45-2</td>\n",
              "      <td>NC(=O)c1ccccc1O</td>\n",
              "      <td><img data-content=\"rdkit/molecule\" src=\"data:image/png;base64,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\" alt=\"Mol\"/></td>\n",
              "      <td>Nonbinders</td>\n",
              "    </tr>\n",
              "    <tr>\n",
              "      <th>...</th>\n",
              "      <th>...</th>\n",
              "      <td>...</td>\n",
              "      <td>...</td>\n",
              "      <td>...</td>\n",
              "      <td>...</td>\n",
              "      <td>...</td>\n",
              "    </tr>\n",
              "    <tr>\n",
              "      <th rowspan=\"5\" valign=\"top\">1</th>\n",
              "      <th>200</th>\n",
              "      <td>1</td>\n",
              "      <td>27955-94-8</td>\n",
              "      <td>CC(c1ccc(O)cc1)(c1ccc(O)cc1)c1ccc(O)cc1</td>\n",
              "      <td><img data-content=\"rdkit/molecule\" src=\"data:image/png;base64,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\" alt=\"Mol\"/></td>\n",
              "      <td>Binders</td>\n",
              "    </tr>\n",
              "    <tr>\n",
              "      <th>201</th>\n",
              "      <td>1</td>\n",
              "      <td>1062243-51-9</td>\n",
              "      <td>CN1CCC(CC1)NC(=O)c1ccc(Nc2[n]c3c(c[n]2)N(C)C(=...</td>\n",
              "      <td><img data-content=\"rdkit/molecule\" src=\"data:image/png;base64,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\" alt=\"Mol\"/></td>\n",
              "      <td>Binders</td>\n",
              "    </tr>\n",
              "    <tr>\n",
              "      <th>202</th>\n",
              "      <td>1</td>\n",
              "      <td>5116-94-9</td>\n",
              "      <td>CCCCCCCCCCCCCOP(O)(O)=O</td>\n",
              "      <td><img data-content=\"rdkit/molecule\" src=\"data:image/png;base64,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\" alt=\"Mol\"/></td>\n",
              "      <td>Binders</td>\n",
              "    </tr>\n",
              "    <tr>\n",
              "      <th>203</th>\n",
              "      <td>1</td>\n",
              "      <td>DB00687</td>\n",
              "      <td>CC12CCC(=O)C=C1CCC1C3CCC(O)(C(=O)CO)C3(C)CC(O)...</td>\n",
              "      <td><img data-content=\"rdkit/molecule\" src=\"data:image/png;base64,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\" alt=\"Mol\"/></td>\n",
              "      <td>Binders</td>\n",
              "    </tr>\n",
              "    <tr>\n",
              "      <th>204</th>\n",
              "      <td>1</td>\n",
              "      <td>97-56-3</td>\n",
              "      <td>Cc1ccccc1N=Nc1cc(C)c(N)cc1</td>\n",
              "      <td><img data-content=\"rdkit/molecule\" src=\"data:image/png;base64,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\" alt=\"Mol\"/></td>\n",
              "      <td>Binders</td>\n",
              "    </tr>\n",
              "  </tbody>\n",
              "</table>\n",
              "<p>410 rows × 5 columns</p>\n",
              "</div>"
            ],
            "text/plain": [
              "                  bindingClass  ...       label\n",
              "bindingClass                    ...            \n",
              "0            0               0  ...  Nonbinders\n",
              "             1               0  ...  Nonbinders\n",
              "             2               0  ...  Nonbinders\n",
              "             3               0  ...  Nonbinders\n",
              "             4               0  ...  Nonbinders\n",
              "...                        ...  ...         ...\n",
              "1            200             1  ...     Binders\n",
              "             201             1  ...     Binders\n",
              "             202             1  ...     Binders\n",
              "             203             1  ...     Binders\n",
              "             204             1  ...     Binders\n",
              "\n",
              "[410 rows x 5 columns]"
            ]
          },
          "metadata": {
            "tags": []
          },
          "execution_count": 55
        }
      ]
    },
    {
      "cell_type": "code",
      "metadata": {
        "id": "88kTaqYGFAYm",
        "colab_type": "code",
        "outputId": "4c5d9303-7f15-4109-a0fb-53f6b84e543a",
        "colab": {
          "base_uri": "https://localhost:8080/",
          "height": 1000
        }
      },
      "source": [
        "g.head()"
      ],
      "execution_count": 56,
      "outputs": [
        {
          "output_type": "execute_result",
          "data": {
            "text/html": [
              "<div>\n",
              "<style scoped>\n",
              "    .dataframe tbody tr th:only-of-type {\n",
              "        vertical-align: middle;\n",
              "    }\n",
              "\n",
              "    .dataframe tbody tr th {\n",
              "        vertical-align: top;\n",
              "    }\n",
              "\n",
              "    .dataframe thead th {\n",
              "        text-align: right;\n",
              "    }\n",
              "</style>\n",
              "<table border=\"1\" class=\"dataframe\">\n",
              "  <thead>\n",
              "    <tr style=\"text-align: right;\">\n",
              "      <th></th>\n",
              "      <th></th>\n",
              "      <th>bindingClass</th>\n",
              "      <th>casrn</th>\n",
              "      <th>SMILES</th>\n",
              "      <th>Mol</th>\n",
              "      <th>label</th>\n",
              "    </tr>\n",
              "    <tr>\n",
              "      <th>bindingClass</th>\n",
              "      <th></th>\n",
              "      <th></th>\n",
              "      <th></th>\n",
              "      <th></th>\n",
              "      <th></th>\n",
              "      <th></th>\n",
              "    </tr>\n",
              "  </thead>\n",
              "  <tbody>\n",
              "    <tr>\n",
              "      <th rowspan=\"5\" valign=\"top\">0</th>\n",
              "      <th>0</th>\n",
              "      <td>0</td>\n",
              "      <td>1072-15-7</td>\n",
              "      <td>CCCCCCCCCOS(O)(=O)=O</td>\n",
              "      <td><img data-content=\"rdkit/molecule\" src=\"data:image/png;base64,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\" alt=\"Mol\"/></td>\n",
              "      <td>Nonbinders</td>\n",
              "    </tr>\n",
              "    <tr>\n",
              "      <th>1</th>\n",
              "      <td>0</td>\n",
              "      <td>134605-64-4</td>\n",
              "      <td>CC(C)(OC(=O)c1cc(ccc1Cl)N1C(=O)N(C)C(=CC1=O)C(...</td>\n",
              "      <td><img data-content=\"rdkit/molecule\" src=\"data:image/png;base64,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\" alt=\"Mol\"/></td>\n",
              "      <td>Nonbinders</td>\n",
              "    </tr>\n",
              "    <tr>\n",
              "      <th>2</th>\n",
              "      <td>0</td>\n",
              "      <td>112-72-1</td>\n",
              "      <td>CCCCCCCCCCCCCCO</td>\n",
              "      <td><img data-content=\"rdkit/molecule\" src=\"data:image/png;base64,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\" alt=\"Mol\"/></td>\n",
              "      <td>Nonbinders</td>\n",
              "    </tr>\n",
              "    <tr>\n",
              "      <th>3</th>\n",
              "      <td>0</td>\n",
              "      <td>115-96-8</td>\n",
              "      <td>O=P(OCCCl)(OCCCl)OCCCl</td>\n",
              "      <td><img data-content=\"rdkit/molecule\" src=\"data:image/png;base64,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\" alt=\"Mol\"/></td>\n",
              "      <td>Nonbinders</td>\n",
              "    </tr>\n",
              "    <tr>\n",
              "      <th>4</th>\n",
              "      <td>0</td>\n",
              "      <td>65-45-2</td>\n",
              "      <td>NC(=O)c1ccccc1O</td>\n",
              "      <td><img data-content=\"rdkit/molecule\" src=\"data:image/png;base64,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\" alt=\"Mol\"/></td>\n",
              "      <td>Nonbinders</td>\n",
              "    </tr>\n",
              "  </tbody>\n",
              "</table>\n",
              "</div>"
            ],
            "text/plain": [
              "                bindingClass  ...       label\n",
              "bindingClass                  ...            \n",
              "0            0             0  ...  Nonbinders\n",
              "             1             0  ...  Nonbinders\n",
              "             2             0  ...  Nonbinders\n",
              "             3             0  ...  Nonbinders\n",
              "             4             0  ...  Nonbinders\n",
              "\n",
              "[5 rows x 5 columns]"
            ]
          },
          "metadata": {
            "tags": []
          },
          "execution_count": 56
        }
      ]
    },
    {
      "cell_type": "code",
      "metadata": {
        "id": "4AXTCzO4FAYn",
        "colab_type": "code",
        "outputId": "27618d24-5a9b-46dc-d0d2-23a3051bbaee",
        "colab": {
          "base_uri": "https://localhost:8080/",
          "height": 34
        }
      },
      "source": [
        "g.shape"
      ],
      "execution_count": 57,
      "outputs": [
        {
          "output_type": "execute_result",
          "data": {
            "text/plain": [
              "(410, 5)"
            ]
          },
          "metadata": {
            "tags": []
          },
          "execution_count": 57
        }
      ]
    },
    {
      "cell_type": "code",
      "metadata": {
        "id": "ACy6ZmhNFAYp",
        "colab_type": "code",
        "colab": {}
      },
      "source": [
        "#user_specified_features = ['HumDockScore','RatDockScore','ChimpDockScore','AVG','P_Act_dockChimp','P_Inact','PredBayes','ratio','avgD_Act','avgD_Inact','PredBindingClass','predMLogR']"
      ],
      "execution_count": 0,
      "outputs": []
    },
    {
      "cell_type": "code",
      "metadata": {
        "id": "3xC-iNWgFAYq",
        "colab_type": "code",
        "colab": {}
      },
      "source": [
        ""
      ],
      "execution_count": 0,
      "outputs": []
    },
    {
      "cell_type": "code",
      "metadata": {
        "id": "6jXbiWibFAYr",
        "colab_type": "code",
        "colab": {}
      },
      "source": [
        "from itertools import islice\n",
        "from IPython.display import Image, display, HTML"
      ],
      "execution_count": 0,
      "outputs": []
    },
    {
      "cell_type": "code",
      "metadata": {
        "id": "vas_XKCaFAYt",
        "colab_type": "code",
        "colab": {}
      },
      "source": [
        "import tempfile, shutil"
      ],
      "execution_count": 0,
      "outputs": []
    },
    {
      "cell_type": "code",
      "metadata": {
        "id": "6j4bod52FAYv",
        "colab_type": "code",
        "colab": {}
      },
      "source": [
        "featurizer = dc.feat.ConvMolFeaturizer()\n",
        "loader = dc.data.CSVLoader(tasks=[\"bindingClass\"],\n",
        "    smiles_field=\"SMILES\",\n",
        "    featurizer=featurizer)"
      ],
      "execution_count": 0,
      "outputs": []
    },
    {
      "cell_type": "code",
      "metadata": {
        "id": "GxgSvQhuFAYy",
        "colab_type": "code",
        "colab": {}
      },
      "source": [
        "###featurizer = dc.feat.UserDefinedFeaturizer(user_specified_features)"
      ],
      "execution_count": 0,
      "outputs": []
    },
    {
      "cell_type": "code",
      "metadata": {
        "id": "W42lDTS8FAY0",
        "colab_type": "code",
        "colab": {}
      },
      "source": [
        "#featurizer = dc.feat.base_classes.UserDefinedFeaturizer(user_specified_features)"
      ],
      "execution_count": 0,
      "outputs": []
    },
    {
      "cell_type": "code",
      "metadata": {
        "id": "YIqkgVK5FAY2",
        "colab_type": "code",
        "colab": {}
      },
      "source": [
        "#loader = dc.data.data_loader.CSVLoader(\n",
        "###oader = dc.data.UserCSVLoader(\n",
        "      ###tasks=[\"bindingClass\"], smiles_field=['SMILES'], id_field=[\"casrn\"],\n",
        "     ### tasks=[\"bindingClass\"], id_field=\"casrn\",\n",
        "    ###  featurizer=featurizer)"
      ],
      "execution_count": 0,
      "outputs": []
    },
    {
      "cell_type": "code",
      "metadata": {
        "id": "KN0fdWC8FAY3",
        "colab_type": "code",
        "colab": {}
      },
      "source": [
        "g.to_csv('balanced.csv',index=False)"
      ],
      "execution_count": 0,
      "outputs": []
    },
    {
      "cell_type": "code",
      "metadata": {
        "id": "RczXfzQNFAY4",
        "colab_type": "code",
        "outputId": "b5006fef-f95e-464f-97bc-b5041970d6c8",
        "colab": {
          "base_uri": "https://localhost:8080/",
          "height": 34
        }
      },
      "source": [
        "g.columns"
      ],
      "execution_count": 66,
      "outputs": [
        {
          "output_type": "execute_result",
          "data": {
            "text/plain": [
              "Index(['bindingClass', 'casrn', 'SMILES', 'Mol', 'label'], dtype='object')"
            ]
          },
          "metadata": {
            "tags": []
          },
          "execution_count": 66
        }
      ]
    },
    {
      "cell_type": "code",
      "metadata": {
        "id": "7f1kst87FAY6",
        "colab_type": "code",
        "colab": {}
      },
      "source": [
        "###g.drop(columns=['s_sd_Canonical\\_QSARr','s_m_title','cas','cid', 'gsid',\n",
        "###       'dsstox_substance_id', 'preferred_name','InChI_Code_QSARr',\n",
        "###       'InChI Key_QSARr', 'BindingClass'])"
      ],
      "execution_count": 0,
      "outputs": []
    },
    {
      "cell_type": "code",
      "metadata": {
        "id": "KR4M2exNFAY7",
        "colab_type": "code",
        "colab": {}
      },
      "source": [
        "g.to_csv('balanced_droppedcols.csv',index=False)"
      ],
      "execution_count": 0,
      "outputs": []
    },
    {
      "cell_type": "code",
      "metadata": {
        "id": "JY__2nOBFAY-",
        "colab_type": "code",
        "colab": {}
      },
      "source": [
        "#dataset_file = \"test.csv\""
      ],
      "execution_count": 0,
      "outputs": []
    },
    {
      "cell_type": "code",
      "metadata": {
        "id": "A55-A1h7FAZA",
        "colab_type": "code",
        "colab": {}
      },
      "source": [
        "#dataset = pd.read_csv(\"balanced_droppedcols.csv\")"
      ],
      "execution_count": 0,
      "outputs": []
    },
    {
      "cell_type": "code",
      "metadata": {
        "id": "RUQFA1PFFAZB",
        "colab_type": "code",
        "colab": {}
      },
      "source": [
        "#user_specified_features = ['MW','AlogP','HBA','HBD','RB','HeavyAtomCount','ChiralCenterCount','ChiralCenterCountAllPossible','RingCount','PSA','Estate','MR','Polar','sLi_Key','ssBe_Key','ssssBem_Key','sBH2_Key','ssBH_Key','sssB_Key','ssssBm_Key','sCH3_Key','dCH2_Key','ssCH2_Key','tCH_Key','dsCH_Key','aaCH_Key','sssCH_Key','ddC_Key','tsC_Key','dssC_Key','aasC_Key','aaaC_Key','ssssC_Key','sNH3_Key','sNH2_Key','ssNH2_Key','dNH_Key','ssNH_Key','aaNH_Key','tN_Key','sssNH_Key','dsN_Key','aaN_Key','sssN_Key','ddsN_Key','aasN_Key','ssssN_Key','daaN_Key','sOH_Key','dO_Key','ssO_Key','aaO_Key','aOm_Key','sOm_Key','sF_Key','sSiH3_Key','ssSiH2_Key','sssSiH_Key','ssssSi_Key','sPH2_Key','ssPH_Key','sssP_Key','dsssP_Key','ddsP_Key','sssssP_Key','sSH_Key','dS_Key','ssS_Key','aaS_Key','dssS_Key','ddssS_Key','ssssssS_Key','Sm_Key','sCl_Key','sGeH3_Key','ssGeH2_Key','sssGeH_Key','ssssGe_Key','sAsH2_Key','ssAsH_Key','sssAs_Key','dsssAs_Key','ddsAs_Key','sssssAs_Key','sSeH_Key','dSe_Key','ssSe_Key','aaSe_Key','dssSe_Key','ssssssSe_Key','ddssSe_Key','sBr_Key','sSnH3_Key','ssSnH2_Key','sssSnH_Key','ssssSn_Key','sI_Key','sPbH3_Key','ssPbH2_Key','sssPbH_Key','ssssPb_Key','sLi_Cnt','ssBe_Cnt','ssssBem_Cnt','sBH2_Cnt','ssBH_Cnt','sssB_Cnt','ssssBm_Cnt','sCH3_Cnt','dCH2_Cnt','ssCH2_Cnt','tCH_Cnt','dsCH_Cnt','aaCH_Cnt','sssCH_Cnt','ddC_Cnt','tsC_Cnt','dssC_Cnt','aasC_Cnt','aaaC_Cnt','ssssC_Cnt','sNH3_Cnt','sNH2_Cnt','ssNH2_Cnt','dNH_Cnt','ssNH_Cnt','aaNH_Cnt','tN_Cnt','sssNH_Cnt','dsN_Cnt','aaN_Cnt','sssN_Cnt','ddsN_Cnt','aasN_Cnt','ssssN_Cnt','daaN_Cnt','sOH_Cnt','dO_Cnt','ssO_Cnt','aaO_Cnt','aOm_Cnt','sOm_Cnt','sF_Cnt','sSiH3_Cnt','ssSiH2_Cnt','sssSiH_Cnt','ssssSi_Cnt','sPH2_Cnt','ssPH_Cnt','sssP_Cnt','dsssP_Cnt','ddsP_Cnt','sssssP_Cnt','sSH_Cnt','dS_Cnt','ssS_Cnt','aaS_Cnt','dssS_Cnt','ddssS_Cnt','ssssssS_Cnt','Sm_Cnt','sCl_Cnt','sGeH3_Cnt','ssGeH2_Cnt','sssGeH_Cnt','ssssGe_Cnt','sAsH2_Cnt','ssAsH_Cnt','sssAs_Cnt','dsssAs_Cnt','ddsAs_Cnt','sssssAs_Cnt','sSeH_Cnt','dSe_Cnt','ssSe_Cnt','aaSe_Cnt','dssSe_Cnt','ssssssSe_Cnt','ddssSe_Cnt','sBr_Cnt','sSnH3_Cnt','ssSnH2_Cnt','sssSnH_Cnt','ssssSn_Cnt','sI_Cnt','sPbH3_Cnt','ssPbH2_Cnt','sssPbH_Cnt','ssssPb_Cnt','sLi_Sum','ssBe_Sum','ssssBem_Sum','sBH2_Sum','ssBH_Sum','sssB_Sum','ssssBm_Sum','sCH3_Sum','dCH2_Sum','ssCH2_Sum','tCH_Sum','dsCH_Sum','aaCH_Sum','sssCH_Sum','ddC_Sum','tsC_Sum','dssC_Sum','aasC_Sum','aaaC_Sum','ssssC_Sum','sNH3_Sum','sNH2_Sum','ssNH2_Sum','dNH_Sum','ssNH_Sum','aaNH_Sum','tN_Sum','sssNH_Sum','dsN_Sum','aaN_Sum','sssN_Sum','ddsN_Sum','aasN_Sum','ssssN_Sum','daaN_Sum','sOH_Sum','dO_Sum','ssO_Sum','aaO_Sum','aOm_Sum','sOm_Sum','sF_Sum','sSiH3_Sum','ssSiH2_Sum','sssSiH_Sum','ssssSi_Sum','sPH2_Sum','ssPH_Sum','sssP_Sum','dsssP_Sum','ddsP_Sum','sssssP_Sum','sSH_Sum','dS_Sum','ssS_Sum','aaS_Sum','dssS_Sum','ddssS_Sum','ssssssS_Sum','Sm_Sum','sCl_Sum','sGeH3_Sum','ssGeH2_Sum','sssGeH_Sum','ssssGe_Sum','sAsH2_Sum','ssAsH_Sum','sssAs_Sum','dsssAs_Sum','ddsAs_Sum','sssssAs_Sum','sSeH_Sum','dSe_Sum','ssSe_Sum','aaSe_Sum','dssSe_Sum','ssssssSe_Sum','ddssSe_Sum','sBr_Sum','sSnH3_Sum','ssSnH2_Sum','sssSnH_Sum','ssssSn_Sum','sI_Sum','sPbH3_Sum','ssPbH2_Sum','sssPbH_Sum','ssssPb_Sum','sLi_Avg','ssBe_Avg','ssssBem_Avg','sBH2_Avg','ssBH_Avg','sssB_Avg','ssssBm_Avg','sCH3_Avg','dCH2_Avg','ssCH2_Avg','tCH_Avg','dsCH_Avg','aaCH_Avg','sssCH_Avg','ddC_Avg','tsC_Avg','dssC_Avg','aasC_Avg','aaaC_Avg','ssssC_Avg','sNH3_Avg','sNH2_Avg','ssNH2_Avg','dNH_Avg','ssNH_Avg','aaNH_Avg','tN_Avg','sssNH_Avg','dsN_Avg','aaN_Avg','sssN_Avg','ddsN_Avg','aasN_Avg','ssssN_Avg','daaN_Avg','sOH_Avg','dO_Avg','ssO_Avg','aaO_Avg','aOm_Avg','sOm_Avg','sF_Avg','sSiH3_Avg','ssSiH2_Avg','sssSiH_Avg','ssssSi_Avg','sPH2_Avg','ssPH_Avg','sssP_Avg','dsssP_Avg','ddsP_Avg','sssssP_Avg','sSH_Avg','dS_Avg','ssS_Avg','aaS_Avg','dssS_Avg','ddssS_Avg','ssssssS_Avg','Sm_Avg','sCl_Avg','sGeH3_Avg','ssGeH2_Avg','sssGeH_Avg','ssssGe_Avg','sAsH2_Avg','ssAsH_Avg','sssAs_Avg','dsssAs_Avg','ddsAs_Avg','sssssAs_Avg','sSeH_Avg','dSe_Avg','ssSe_Avg','aaSe_Avg','dssSe_Avg','ssssssSe_Avg','ddssSe_Avg','sBr_Avg','sSnH3_Avg','ssSnH2_Avg','sssSnH_Avg','ssssSn_Avg','sI_Avg','sPbH3_Avg','ssPbH2_Avg','sssPbH_Avg','ssssPb_Avg','First Zagreb (ZM1)','First Zagreb index by valence vertex degrees (ZM1V)','Second Zagreb (ZM2)','Second Zagreb index by valence vertex degrees (ZM2V)','Polarity (Pol)','Narumi Simple Topological (NST)','Narumi Harmonic Topological (NHT)','Narumi Geometric Topological (NGT)','Total structure connectivity (TSC)','Wiener (W)','Mean Wiener (MW)','Xu (Xu)','Quadratic (QIndex)','Radial centric (RC)','Mean Square Distance Balaban (MSDB)','Superpendentic (SP)','Harary (Har)','Log of product of row sums (LPRS)','Pogliani (Pog)','Schultz Molecular Topological (SMT)','Schultz Molecular Topological by valence vertex degrees (SMTV)','Mean Distance Degree Deviation (MDDD)','Ramification (Ram)','Gutman Molecular Topological (GMT)','Gutman MTI by valence vertex degrees (GMTV)','Average vertex distance degree (AVDD)','Unipolarity (UP)','Centralization (CENT)','Variation (VAR)','Molecular electrotopological variation (MEV)','Maximal electrotopological positive variation (MEPV)','Maximal electrotopological negative variation (MENV)','Eccentric connectivity (ECCc)','Eccentricity (ECC)','Average eccentricity (AECC)','Eccentric (DECC)','Valence connectivity index chi-0 (vX0)','Valence connectivity index chi-1 (vX1)','Valence connectivity index chi-2 (vX2)','Valence connectivity index chi-3 (vX3)','Valence connectivity index chi-4 (vX4)','Valence connectivity index chi-5 (vX5)','Average valence connectivity index chi-0 (AvX0)','Average valence connectivity index chi-1 (AvX1)','Average valence connectivity index chi-2 (AvX2)','Average valence connectivity index chi-3 (AvX3)','Average valence connectivity index chi-4 (AvX4)','Average valence connectivity index chi-5 (AvX5)','Quasi Wiener (QW)','First Mohar (FM)','Second Mohar (SM)','Spanning tree number (STN)','Kier benzene-likeliness index (KBLI)','Topological charge index of order 1 (TCI1)','Topological charge index of order 2 (TCI2)','Topological charge index of order 3 (TCI3)','Topological charge index of order 4 (TCI4)','Topological charge index of order 5 (TCI5)','Topological charge index of order 6 (TCI6)','Topological charge index of order 7 (TCI7)','Topological charge index of order 8 (TCI8)','Topological charge index of order 9 (TCI9)','Topological charge index of order 10 (TCI10)','Mean topological charge index of order 1 (MTCI1)','Mean topological charge index of order 2 (MTCI2)','Mean topological charge index of order 3 (MTCI3)','Mean topological charge index of order 4 (MTCI4)','Mean topological charge index of order 5 (MTCI5)','Mean topological charge index of order 6 (MTCI6)','Mean topological charge index of order 7 (MTCI7)','Mean topological charge index of order 8 (MTCI8)','Mean topological charge index of order 9 (MTCI9)','Mean topological charge index of order 10 (MTCI10)','Global topological charge (GTC)','Hyper-distance-path index (HDPI)','Reciprocal hyper-distance-path index (RHDPI)','Square reciprocal distance sum (SRDS)','Modified Randic connectivity (MRC)','Balaban centric (BC)','Lopping centric (LC)','Kier Hall electronegativity (KHE)','Sum of topological distances between N..N (STD(N N))','Sum of topological distances between N..O (STD(N O))','Sum of topological distances between N..S (STD(N S))','Sum of topological distances between N..P (STD(N P))','Sum of topological distances between N..F (STD(N F))','Sum of topological distances between N..Cl (STD(N Cl))','Sum of topological distances between N..Br (STD(N Br))','Sum of topological distances between N..I (STD(N I))','Sum of topological distances between O..O (STD(O O))','Sum of topological distances between O..S (STD(O S))','Sum of topological distances between O..P (STD(O P))','Sum of topological distances between O..F (STD(O F))','Sum of topological distances between O..Cl (STD(O Cl))','Sum of topological distances between O..Br (STD(O Br))','Sum of topological distances between O..I (STD(O I))','Sum of topological distances between S..S (STD(S S))','Sum of topological distances between S..P (STD(S P))','Sum of topological distances between S..F (STD(S F))','Sum of topological distances between S..Cl (STD(S Cl))','Sum of topological distances between S..Br (STD(S Br))','Sum of topological distances between S..I (STD(S I))','Sum of topological distances between P..P (STD(P P))','Sum of topological distances between P..F (STD(P F))','Sum of topological distances between P..Cl (STD(P Cl))','Sum of topological distances between P..Br (STD(P Br))','Sum of topological distances between P..I (STD(P I))','Sum of topological distances between F..F (STD(F F))','Sum of topological distances between F..Cl (STD(F Cl))','Sum of topological distances between F..Br (STD(F Br))','Sum of topological distances between F..I (STD(F I))','Sum of topological distances between Cl..Cl (STD(Cl Cl))','Sum of topological distances between Cl..Br (STD(Cl Br))','Sum of topological distances between Cl..I (STD(Cl I))','Sum of topological distances between Br..Br (STD(Br Br))','Sum of topological distances between Br..I (STD(Br I))','Sum of topological distances between I..I (STD(I I))','Wiener-type index from Z weighted distance matrix - Barysz matrix (WhetZ)','Wiener-type index from electronegativity weighted distance matrix (Whete)','Wiener-type index from mass weighted distance matrix (Whetm)','Wiener-type index from van der waals weighted distance matrix (Whetv)','Wiener-type index from polarizability weighted distance matrix (Whetp)','Balaban-type index from Z weighted distance matrix - Barysz matrix (JhetZ)','Balaban-type index from electronegativity weighted distance matrix (Jhete)','Balaban-type index from mass weighted distance matrix (Jhetm)','Balaban-type index from van der waals weighted distance matrix (Jhetv)','Balaban-type index from polarizability weighted distance matrix (Jhetp)','Topological diameter (TD)','Topological radius (TR)','Petitjean 2D shape (PJ2DS)','Balaban distance connectivity index (J)','Solvation connectivity index chi-0 (SCIX0)','Solvation connectivity index chi-1 (SCIX1)','Solvation connectivity index chi-2 (SCIX2)','Solvation connectivity index chi-3 (SCIX3)','Solvation connectivity index chi-4 (SCIX4)','Solvation connectivity index chi-5 (SCIX5)','Connectivity index chi-0 (CIX0)','Connectivity chi-1 [Randic connectivity] (CIX1)','Connectivity index chi-2 (CIX2)','Connectivity index chi-3 (CIX3)','Connectivity index chi-4 (CIX4)','Connectivity index chi-5 (CIX5)','Average connectivity index chi-0 (ACIX0)','Average connectivity index chi-1 (ACIX1)','Average connectivity index chi-2 (ACIX2)','Average connectivity index chi-3 (ACIX3)','Average connectivity index chi-4 (ACIX4)','Average connectivity index chi-5 (ACIX5)','reciprocal distance Randic-type index (RDR)','reciprocal distance square Randic-type index (RDSR)','1-path Kier alpha-modified shape index (KAMS1)','2-path Kier alpha-modified shape index (KAMS2)','3-path Kier alpha-modified shape index (KAMS3)','Kier flexibility (KF)','path/walk 2 - Randic shape index (RSIpw2)','path/walk 3 - Randic shape index (RSIpw3)','path/walk 4 - Randic shape index (RSIpw4)','path/walk 5 - Randic shape index (RSIpw5)','E-state topological parameter (ETP)','Ring Count 3 (RNGCNT3)','Ring Count 4 (RNGCNT4)','Ring Count 5 (RNGCNT5)','Ring Count 6 (RNGCNT6)','Ring Count 7 (RNGCNT7)','Ring Count 8 (RNGCNT8)','Ring Count 9 (RNGCNT9)','Ring Count 10 (RNGCNT10)','Ring Count 11 (RNGCNT11)','Ring Count 12 (RNGCNT12)','Ring Count 13 (RNGCNT13)','Ring Count 14 (RNGCNT14)','Ring Count 15 (RNGCNT15)','Ring Count 16 (RNGCNT16)','Ring Count 17 (RNGCNT17)','Ring Count 18 (RNGCNT18)','Ring Count 19 (RNGCNT19)','Ring Count 20 (RNGCNT20)','Atom Count (ATMCNT)','Bond Count (BNDCNT)','Atoms in Ring System (ATMRNGCNT)','Bonds in Ring System (BNDRNGCNT)','Cyclomatic number (CYCLONUM)','Number of ring systems (NRS)','Normalized number of ring systems (NNRS)','Ring Fusion degree (RFD)','Ring perimeter (RNGPERM)','Ring bridge count (RNGBDGE)','Molecule cyclized degree (MCD)','Ring Fusion density (RFDELTA)','Ring complexity index (RCI)','Van der Waals surface area (VSA)','MR1 (MR1)','MR2 (MR2)','MR3 (MR3)','MR4 (MR4)','MR5 (MR5)','MR6 (MR6)','MR7 (MR7)','MR8 (MR8)','ALOGP1 (ALOGP1)','ALOGP2 (ALOGP2)','ALOGP3 (ALOGP3)','ALOGP4 (ALOGP4)','ALOGP5 (ALOGP5)','ALOGP6 (ALOGP6)','ALOGP7 (ALOGP7)','ALOGP8 (ALOGP8)','ALOGP9 (ALOGP9)','ALOGP10 (ALOGP10)','PEOE1 (PEOE1)','PEOE2 (PEOE2)','PEOE3 (PEOE3)','PEOE4 (PEOE4)','PEOE5 (PEOE5)','PEOE6 (PEOE6)','PEOE7 (PEOE7)','PEOE8 (PEOE8)','PEOE9 (PEOE9)','PEOE10 (PEOE10)','PEOE11 (PEOE11)','PEOE12 (PEOE12)','PEOE13 (PEOE13)','PEOE14 (PEOE14)']"
      ],
      "execution_count": 0,
      "outputs": []
    },
    {
      "cell_type": "code",
      "metadata": {
        "id": "yKKWkGmHFAZD",
        "colab_type": "code",
        "colab": {}
      },
      "source": [
        "#current_dir = os.path.dirname(os.path.realpath(\"__file__\"))\n",
        "#dc.utils.download_url(\"https://s3-us-west-1.amazonaws.com/deepchem.io/datasets/desc_canvas_aug30.csv\",\n",
        "#                      current_dir)\n",
        "#dataset_file = \"desc_canvas_aug30.csv\""
      ],
      "execution_count": 0,
      "outputs": []
    },
    {
      "cell_type": "code",
      "metadata": {
        "id": "4Jg-f4-xM4_f",
        "colab_type": "code",
        "colab": {}
      },
      "source": [
        "current_dir = os.path.dirname(os.path.realpath(\"__file__\"))\n",
        "dc.utils.download_url(\"https://hermes.chem.ut.ee/~alfx/ML/balanced_droppedcols1.csv\",  current_dir)"
      ],
      "execution_count": 0,
      "outputs": []
    },
    {
      "cell_type": "code",
      "metadata": {
        "id": "fnlIR1raFAZF",
        "colab_type": "code",
        "colab": {}
      },
      "source": [
        "dataset_file = \"balanced_droppedcols.csv\""
      ],
      "execution_count": 0,
      "outputs": []
    },
    {
      "cell_type": "code",
      "metadata": {
        "id": "C9Vz0J0zFAZH",
        "colab_type": "code",
        "outputId": "a15f697d-1f1e-403f-f021-76110497538c",
        "colab": {
          "base_uri": "https://localhost:8080/",
          "height": 105
        }
      },
      "source": [
        "dataset = loader.featurize(dataset_file)"
      ],
      "execution_count": 75,
      "outputs": [
        {
          "output_type": "stream",
          "text": [
            "/content/deepchem/deepchem/data/data_loader.py:268: FutureWarning: featurize() is deprecated and has been renamed to create_dataset(). featurize() will be removed in DeepChem 3.0\n",
            "  FutureWarning)\n"
          ],
          "name": "stderr"
        },
        {
          "output_type": "stream",
          "text": [
            "About to start loading CSV from balanced_droppedcols.csv\n",
            "Loading shard 1 of size 8192.\n"
          ],
          "name": "stdout"
        }
      ]
    },
    {
      "cell_type": "code",
      "metadata": {
        "id": "EGInx5CTFAZJ",
        "colab_type": "code",
        "colab": {}
      },
      "source": [
        "#dataset = loader.featurize(f)"
      ],
      "execution_count": 0,
      "outputs": []
    },
    {
      "cell_type": "code",
      "metadata": {
        "id": "TfqQP10KFAZL",
        "colab_type": "code",
        "outputId": "bdf61b25-74c9-4d89-c51b-37523ba36f36",
        "colab": {
          "base_uri": "https://localhost:8080/",
          "height": 102
        }
      },
      "source": [
        "dataset"
      ],
      "execution_count": 77,
      "outputs": [
        {
          "output_type": "execute_result",
          "data": {
            "text/plain": [
              "<DiskDataset X.shape: (410,), y.shape: (410, 1), w.shape: (410, 1), ids: ['CCCCCCCCCOS(O)(=O)=O'\n",
              " 'CC(C)(OC(=O)c1cc(ccc1Cl)N1C(=O)N(C)C(=CC1=O)C(F)(F)F)C(=O)OCC=C'\n",
              " 'CCCCCCCCCCCCCCO' ... 'CCCCCCCCCCCCCOP(O)(O)=O'\n",
              " 'CC12CCC(=O)C=C1CCC1C3CCC(O)(C(=O)CO)C3(C)CC(O)C21F'\n",
              " 'Cc1ccccc1N=Nc1cc(C)c(N)cc1'], task_names: ['bindingClass']>"
            ]
          },
          "metadata": {
            "tags": []
          },
          "execution_count": 77
        }
      ]
    },
    {
      "cell_type": "code",
      "metadata": {
        "id": "Y22vBs8HFAZM",
        "colab_type": "code",
        "colab": {}
      },
      "source": [
        ""
      ],
      "execution_count": 0,
      "outputs": []
    },
    {
      "cell_type": "code",
      "metadata": {
        "id": "HEg67vPZdcVi",
        "colab_type": "code",
        "colab": {}
      },
      "source": [
        "current_dir = os.path.dirname(os.path.realpath(\"__file__\"))\n",
        "dc.utils.download_url(\"https://hermes.chem.ut.ee/~alfx/ML/Eval_set_smi.csv\",  current_dir)"
      ],
      "execution_count": 0,
      "outputs": []
    },
    {
      "cell_type": "code",
      "metadata": {
        "id": "Y1N9LgXtdmFb",
        "colab_type": "code",
        "colab": {}
      },
      "source": [
        "eval_df = pd.read_csv(\"Eval_set_smi.csv\",sep=\" \")"
      ],
      "execution_count": 0,
      "outputs": []
    },
    {
      "cell_type": "code",
      "metadata": {
        "id": "kuh-gyjEec45",
        "colab_type": "code",
        "outputId": "42eae2fb-eae9-4165-8057-3f9b4ae93385",
        "colab": {
          "base_uri": "https://localhost:8080/",
          "height": 419
        }
      },
      "source": [
        "eval_df"
      ],
      "execution_count": 80,
      "outputs": [
        {
          "output_type": "execute_result",
          "data": {
            "text/html": [
              "<div>\n",
              "<style scoped>\n",
              "    .dataframe tbody tr th:only-of-type {\n",
              "        vertical-align: middle;\n",
              "    }\n",
              "\n",
              "    .dataframe tbody tr th {\n",
              "        vertical-align: top;\n",
              "    }\n",
              "\n",
              "    .dataframe thead th {\n",
              "        text-align: right;\n",
              "    }\n",
              "</style>\n",
              "<table border=\"1\" class=\"dataframe\">\n",
              "  <thead>\n",
              "    <tr style=\"text-align: right;\">\n",
              "      <th></th>\n",
              "      <th>bindingClass</th>\n",
              "      <th>casrn</th>\n",
              "      <th>SMILES</th>\n",
              "    </tr>\n",
              "  </thead>\n",
              "  <tbody>\n",
              "    <tr>\n",
              "      <th>0</th>\n",
              "      <td>1</td>\n",
              "      <td>123-30-8</td>\n",
              "      <td>NC1=CC=C(O)C=C1</td>\n",
              "    </tr>\n",
              "    <tr>\n",
              "      <th>1</th>\n",
              "      <td>1</td>\n",
              "      <td>153-78-6</td>\n",
              "      <td>NC1C=C2CC3=CC=CC=C3C2=CC=1</td>\n",
              "    </tr>\n",
              "    <tr>\n",
              "      <th>2</th>\n",
              "      <td>1</td>\n",
              "      <td>80809-81-0</td>\n",
              "      <td>CC1C(=O)C(CCCCC#CCCCC#CCO)=C(C)C(=O)C=1C</td>\n",
              "    </tr>\n",
              "    <tr>\n",
              "      <th>3</th>\n",
              "      <td>1</td>\n",
              "      <td>54965-21-8</td>\n",
              "      <td>CCCSC1C=C2N=C(NC(=O)OC)NC2=CC=1</td>\n",
              "    </tr>\n",
              "    <tr>\n",
              "      <th>4</th>\n",
              "      <td>1</td>\n",
              "      <td>28981-97-7</td>\n",
              "      <td>CC1=NN=C2CN=C(C3=CC(Cl)=CC=C3N21)C1C=CC=CC=1</td>\n",
              "    </tr>\n",
              "    <tr>\n",
              "      <th>...</th>\n",
              "      <td>...</td>\n",
              "      <td>...</td>\n",
              "      <td>...</td>\n",
              "    </tr>\n",
              "    <tr>\n",
              "      <th>3877</th>\n",
              "      <td>0</td>\n",
              "      <td>173159-57-4</td>\n",
              "      <td>CN(C)C(=O)C1C=CC(=CC=1S(=O)(=O)NC(=O)NC1N=C(C=...</td>\n",
              "    </tr>\n",
              "    <tr>\n",
              "      <th>3878</th>\n",
              "      <td>0</td>\n",
              "      <td>144651-06-9</td>\n",
              "      <td>CC1=CC(C)=NC(NC(=O)NS(=O)(=O)C2C=CC=CC=2C(=O)O...</td>\n",
              "    </tr>\n",
              "    <tr>\n",
              "      <th>3879</th>\n",
              "      <td>0</td>\n",
              "      <td>41318-75-6</td>\n",
              "      <td>BrC1=CC(Br)=C(C=C1)OC1C=CC(Br)=CC=1</td>\n",
              "    </tr>\n",
              "    <tr>\n",
              "      <th>3880</th>\n",
              "      <td>0</td>\n",
              "      <td>84852-53-9</td>\n",
              "      <td>BrC1C(CCC2=C(Br)C(Br)=C(Br)C(Br)=C2Br)=C(Br)C(...</td>\n",
              "    </tr>\n",
              "    <tr>\n",
              "      <th>3881</th>\n",
              "      <td>0</td>\n",
              "      <td>207122-16-5</td>\n",
              "      <td>BrC1C=C(Br)C(Br)=C(Br)C=1OC1C=C(Br)C(Br)=CC=1Br</td>\n",
              "    </tr>\n",
              "  </tbody>\n",
              "</table>\n",
              "<p>3882 rows × 3 columns</p>\n",
              "</div>"
            ],
            "text/plain": [
              "      bindingClass  ...                                             SMILES\n",
              "0                1  ...                                    NC1=CC=C(O)C=C1\n",
              "1                1  ...                         NC1C=C2CC3=CC=CC=C3C2=CC=1\n",
              "2                1  ...           CC1C(=O)C(CCCCC#CCCCC#CCO)=C(C)C(=O)C=1C\n",
              "3                1  ...                    CCCSC1C=C2N=C(NC(=O)OC)NC2=CC=1\n",
              "4                1  ...       CC1=NN=C2CN=C(C3=CC(Cl)=CC=C3N21)C1C=CC=CC=1\n",
              "...            ...  ...                                                ...\n",
              "3877             0  ...  CN(C)C(=O)C1C=CC(=CC=1S(=O)(=O)NC(=O)NC1N=C(C=...\n",
              "3878             0  ...  CC1=CC(C)=NC(NC(=O)NS(=O)(=O)C2C=CC=CC=2C(=O)O...\n",
              "3879             0  ...                BrC1=CC(Br)=C(C=C1)OC1C=CC(Br)=CC=1\n",
              "3880             0  ...  BrC1C(CCC2=C(Br)C(Br)=C(Br)C(Br)=C2Br)=C(Br)C(...\n",
              "3881             0  ...    BrC1C=C(Br)C(Br)=C(Br)C=1OC1C=C(Br)C(Br)=CC=1Br\n",
              "\n",
              "[3882 rows x 3 columns]"
            ]
          },
          "metadata": {
            "tags": []
          },
          "execution_count": 80
        }
      ]
    },
    {
      "cell_type": "code",
      "metadata": {
        "id": "TgVIsudAgz9N",
        "colab_type": "code",
        "colab": {}
      },
      "source": [
        "bal_eval = eval_df\n",
        "eval_df.to_csv('Eval_set_smi2.csv',index=False)"
      ],
      "execution_count": 0,
      "outputs": []
    },
    {
      "cell_type": "code",
      "metadata": {
        "id": "4Qkl7mvphXAQ",
        "colab_type": "code",
        "colab": {}
      },
      "source": [
        "eval_dataset_file = \"Eval_set_smi2.csv\""
      ],
      "execution_count": 0,
      "outputs": []
    },
    {
      "cell_type": "code",
      "metadata": {
        "id": "vMb6O98IhApC",
        "colab_type": "code",
        "outputId": "f01445a0-7d26-4dbd-810a-2e77eaf565a1",
        "colab": {
          "base_uri": "https://localhost:8080/",
          "height": 105
        }
      },
      "source": [
        "eval_dataset = loader.featurize(eval_dataset_file)"
      ],
      "execution_count": 83,
      "outputs": [
        {
          "output_type": "stream",
          "text": [
            "/content/deepchem/deepchem/data/data_loader.py:268: FutureWarning: featurize() is deprecated and has been renamed to create_dataset(). featurize() will be removed in DeepChem 3.0\n",
            "  FutureWarning)\n"
          ],
          "name": "stderr"
        },
        {
          "output_type": "stream",
          "text": [
            "About to start loading CSV from Eval_set_smi2.csv\n",
            "Loading shard 1 of size 8192.\n"
          ],
          "name": "stdout"
        }
      ]
    },
    {
      "cell_type": "code",
      "metadata": {
        "id": "FtdkrfcVd5g6",
        "colab_type": "code",
        "colab": {}
      },
      "source": [
        "#bal_eval = eval_df.groupby('bindingClass')\n",
        "#bal_eval = pd.DataFrame(eval_df.apply(lambda x: x.sample(eval_df.size().min()).reset_index(drop=True)))"
      ],
      "execution_count": 0,
      "outputs": []
    },
    {
      "cell_type": "code",
      "metadata": {
        "id": "QgPogQbX9I0u",
        "colab_type": "code",
        "colab": {}
      },
      "source": [
        "valid_dataset = eval_dataset"
      ],
      "execution_count": 0,
      "outputs": []
    },
    {
      "cell_type": "code",
      "metadata": {
        "id": "aY3oIMwkhDoZ",
        "colab_type": "code",
        "colab": {}
      },
      "source": [
        "current_dir = os.path.dirname(os.path.realpath(\"__file__\"))\n",
        "dc.utils.download_url(\"https://hermes.chem.ut.ee/~alfx/ML/to_score4.csv\",  current_dir)"
      ],
      "execution_count": 0,
      "outputs": []
    },
    {
      "cell_type": "code",
      "metadata": {
        "id": "moihVuLuhD71",
        "colab_type": "code",
        "colab": {}
      },
      "source": [
        "toscore_df = pd.read_csv(\"to_score4.csv\",sep=\" \")"
      ],
      "execution_count": 0,
      "outputs": []
    },
    {
      "cell_type": "code",
      "metadata": {
        "id": "QLkmnbG8dcU1",
        "colab_type": "code",
        "colab": {}
      },
      "source": [
        ""
      ],
      "execution_count": 0,
      "outputs": []
    },
    {
      "cell_type": "code",
      "metadata": {
        "id": "xxGX2rLtdR_b",
        "colab_type": "code",
        "colab": {
          "base_uri": "https://localhost:8080/",
          "height": 419
        },
        "outputId": "23334a0f-839b-422b-d813-8805718b9128"
      },
      "source": [
        "toscore_df"
      ],
      "execution_count": 90,
      "outputs": [
        {
          "output_type": "execute_result",
          "data": {
            "text/html": [
              "<div>\n",
              "<style scoped>\n",
              "    .dataframe tbody tr th:only-of-type {\n",
              "        vertical-align: middle;\n",
              "    }\n",
              "\n",
              "    .dataframe tbody tr th {\n",
              "        vertical-align: top;\n",
              "    }\n",
              "\n",
              "    .dataframe thead th {\n",
              "        text-align: right;\n",
              "    }\n",
              "</style>\n",
              "<table border=\"1\" class=\"dataframe\">\n",
              "  <thead>\n",
              "    <tr style=\"text-align: right;\">\n",
              "      <th></th>\n",
              "      <th>ID</th>\n",
              "      <th>casrn</th>\n",
              "      <th>SMILES</th>\n",
              "    </tr>\n",
              "  </thead>\n",
              "  <tbody>\n",
              "    <tr>\n",
              "      <th>0</th>\n",
              "      <td>viira18b</td>\n",
              "      <td>94709-48-5</td>\n",
              "      <td>CC1=CC=C(C=C1)NC1=NC(NC(=N1)NC1=CC=C(C=C1)C)=O</td>\n",
              "    </tr>\n",
              "    <tr>\n",
              "      <th>1</th>\n",
              "      <td>stev4</td>\n",
              "      <td>2084805-91-2</td>\n",
              "      <td>S1C(=NC2=C1C=CC=C2)C=NNC(=O)C=2SC=CC2</td>\n",
              "    </tr>\n",
              "    <tr>\n",
              "      <th>2</th>\n",
              "      <td>stev1</td>\n",
              "      <td>315214-08-5</td>\n",
              "      <td>BrC1=CC=C(S1)C=NNC(=O)C=1OC=CC1</td>\n",
              "    </tr>\n",
              "    <tr>\n",
              "      <th>3</th>\n",
              "      <td>stev2</td>\n",
              "      <td>315206-42-9</td>\n",
              "      <td>BrC1=CC=C(S1)C=NNC(=O)C=1SC=CC1</td>\n",
              "    </tr>\n",
              "    <tr>\n",
              "      <th>4</th>\n",
              "      <td>DeRoy</td>\n",
              "      <td>1-1-1</td>\n",
              "      <td>CC(C)C1=C(O)C(=O)C2=C(CC=C3C(C)(C)CCC[C@]23C)C1=O</td>\n",
              "    </tr>\n",
              "    <tr>\n",
              "      <th>...</th>\n",
              "      <td>...</td>\n",
              "      <td>...</td>\n",
              "      <td>...</td>\n",
              "    </tr>\n",
              "    <tr>\n",
              "      <th>107</th>\n",
              "      <td>parp_x33</td>\n",
              "      <td>853754-69-5</td>\n",
              "      <td>O=C1C=CC(=NN1)C(=O)C1=CC(=NN1)NS(=O)(=O)C1=COC=C1</td>\n",
              "    </tr>\n",
              "    <tr>\n",
              "      <th>108</th>\n",
              "      <td>parp_x34</td>\n",
              "      <td>1198-33-0</td>\n",
              "      <td>CN1C=2NC(NC(C2N=C1)=O)=O</td>\n",
              "    </tr>\n",
              "    <tr>\n",
              "      <th>109</th>\n",
              "      <td>cdk2_4a</td>\n",
              "      <td>5461-03-0</td>\n",
              "      <td>NC=1NC=2NC(NC(C2N1)=O)=O</td>\n",
              "    </tr>\n",
              "    <tr>\n",
              "      <th>110</th>\n",
              "      <td>cdk2_4b</td>\n",
              "      <td>769-97-1</td>\n",
              "      <td>O=C1NC(C=C(N1)C(=O)N)=O</td>\n",
              "    </tr>\n",
              "    <tr>\n",
              "      <th>111</th>\n",
              "      <td>cdk2_4c</td>\n",
              "      <td>914810-46-1</td>\n",
              "      <td>N1C=NC=C1CC(=O)C=1NC2N=C(NC(C2N1)=O)CC(=O)O</td>\n",
              "    </tr>\n",
              "  </tbody>\n",
              "</table>\n",
              "<p>112 rows × 3 columns</p>\n",
              "</div>"
            ],
            "text/plain": [
              "           ID         casrn                                             SMILES\n",
              "0    viira18b    94709-48-5     CC1=CC=C(C=C1)NC1=NC(NC(=N1)NC1=CC=C(C=C1)C)=O\n",
              "1       stev4  2084805-91-2              S1C(=NC2=C1C=CC=C2)C=NNC(=O)C=2SC=CC2\n",
              "2       stev1   315214-08-5                    BrC1=CC=C(S1)C=NNC(=O)C=1OC=CC1\n",
              "3       stev2   315206-42-9                    BrC1=CC=C(S1)C=NNC(=O)C=1SC=CC1\n",
              "4       DeRoy         1-1-1  CC(C)C1=C(O)C(=O)C2=C(CC=C3C(C)(C)CCC[C@]23C)C1=O\n",
              "..        ...           ...                                                ...\n",
              "107  parp_x33   853754-69-5  O=C1C=CC(=NN1)C(=O)C1=CC(=NN1)NS(=O)(=O)C1=COC=C1\n",
              "108  parp_x34     1198-33-0                           CN1C=2NC(NC(C2N=C1)=O)=O\n",
              "109   cdk2_4a     5461-03-0                           NC=1NC=2NC(NC(C2N1)=O)=O\n",
              "110   cdk2_4b      769-97-1                            O=C1NC(C=C(N1)C(=O)N)=O\n",
              "111   cdk2_4c   914810-46-1        N1C=NC=C1CC(=O)C=1NC2N=C(NC(C2N1)=O)CC(=O)O\n",
              "\n",
              "[112 rows x 3 columns]"
            ]
          },
          "metadata": {
            "tags": []
          },
          "execution_count": 90
        }
      ]
    },
    {
      "cell_type": "code",
      "metadata": {
        "id": "IE2jUMmShEQE",
        "colab_type": "code",
        "colab": {}
      },
      "source": [
        "toscore_df.to_csv('to_score4B.csv',index=False)"
      ],
      "execution_count": 0,
      "outputs": []
    },
    {
      "cell_type": "code",
      "metadata": {
        "id": "IZiaD7ubhEhd",
        "colab_type": "code",
        "colab": {}
      },
      "source": [
        "toscore_dataset_file = \"to_score4B.csv\""
      ],
      "execution_count": 0,
      "outputs": []
    },
    {
      "cell_type": "code",
      "metadata": {
        "id": "VUiHDWYnhEzE",
        "colab_type": "code",
        "colab": {
          "base_uri": "https://localhost:8080/",
          "height": 785
        },
        "outputId": "fa529810-01c7-4b75-a5ba-9e73e66ade56"
      },
      "source": [
        "toscore_dataset = loader.featurize(toscore_dataset_file)"
      ],
      "execution_count": 93,
      "outputs": [
        {
          "output_type": "stream",
          "text": [
            "/content/deepchem/deepchem/data/data_loader.py:268: FutureWarning: featurize() is deprecated and has been renamed to create_dataset(). featurize() will be removed in DeepChem 3.0\n",
            "  FutureWarning)\n"
          ],
          "name": "stderr"
        },
        {
          "output_type": "stream",
          "text": [
            "About to start loading CSV from to_score4B.csv\n",
            "Loading shard 1 of size 8192.\n"
          ],
          "name": "stdout"
        },
        {
          "output_type": "error",
          "ename": "KeyError",
          "evalue": "ignored",
          "traceback": [
            "\u001b[0;31m---------------------------------------------------------------------------\u001b[0m",
            "\u001b[0;31mKeyError\u001b[0m                                  Traceback (most recent call last)",
            "\u001b[0;32m/usr/local/lib/python3.6/dist-packages/pandas/core/indexes/base.py\u001b[0m in \u001b[0;36mget_loc\u001b[0;34m(self, key, method, tolerance)\u001b[0m\n\u001b[1;32m   2645\u001b[0m             \u001b[0;32mtry\u001b[0m\u001b[0;34m:\u001b[0m\u001b[0;34m\u001b[0m\u001b[0;34m\u001b[0m\u001b[0m\n\u001b[0;32m-> 2646\u001b[0;31m                 \u001b[0;32mreturn\u001b[0m \u001b[0mself\u001b[0m\u001b[0;34m.\u001b[0m\u001b[0m_engine\u001b[0m\u001b[0;34m.\u001b[0m\u001b[0mget_loc\u001b[0m\u001b[0;34m(\u001b[0m\u001b[0mkey\u001b[0m\u001b[0;34m)\u001b[0m\u001b[0;34m\u001b[0m\u001b[0;34m\u001b[0m\u001b[0m\n\u001b[0m\u001b[1;32m   2647\u001b[0m             \u001b[0;32mexcept\u001b[0m \u001b[0mKeyError\u001b[0m\u001b[0;34m:\u001b[0m\u001b[0;34m\u001b[0m\u001b[0;34m\u001b[0m\u001b[0m\n",
            "\u001b[0;32mpandas/_libs/index.pyx\u001b[0m in \u001b[0;36mpandas._libs.index.IndexEngine.get_loc\u001b[0;34m()\u001b[0m\n",
            "\u001b[0;32mpandas/_libs/index.pyx\u001b[0m in \u001b[0;36mpandas._libs.index.IndexEngine.get_loc\u001b[0;34m()\u001b[0m\n",
            "\u001b[0;32mpandas/_libs/hashtable_class_helper.pxi\u001b[0m in \u001b[0;36mpandas._libs.hashtable.PyObjectHashTable.get_item\u001b[0;34m()\u001b[0m\n",
            "\u001b[0;32mpandas/_libs/hashtable_class_helper.pxi\u001b[0m in \u001b[0;36mpandas._libs.hashtable.PyObjectHashTable.get_item\u001b[0;34m()\u001b[0m\n",
            "\u001b[0;31mKeyError\u001b[0m: 'bindingClass'",
            "\nDuring handling of the above exception, another exception occurred:\n",
            "\u001b[0;31mKeyError\u001b[0m                                  Traceback (most recent call last)",
            "\u001b[0;32m<ipython-input-93-d2c5696c0c02>\u001b[0m in \u001b[0;36m<module>\u001b[0;34m()\u001b[0m\n\u001b[0;32m----> 1\u001b[0;31m \u001b[0mtoscore_dataset\u001b[0m \u001b[0;34m=\u001b[0m \u001b[0mloader\u001b[0m\u001b[0;34m.\u001b[0m\u001b[0mfeaturize\u001b[0m\u001b[0;34m(\u001b[0m\u001b[0mtoscore_dataset_file\u001b[0m\u001b[0;34m)\u001b[0m\u001b[0;34m\u001b[0m\u001b[0;34m\u001b[0m\u001b[0m\n\u001b[0m",
            "\u001b[0;32m/content/deepchem/deepchem/data/data_loader.py\u001b[0m in \u001b[0;36mfeaturize\u001b[0;34m(self, input_files, data_dir, shard_size)\u001b[0m\n\u001b[1;32m    267\u001b[0m         \u001b[0;34m\"featurize() is deprecated and has been renamed to create_dataset(). featurize() will be removed in DeepChem 3.0\"\u001b[0m\u001b[0;34m,\u001b[0m\u001b[0;34m\u001b[0m\u001b[0;34m\u001b[0m\u001b[0m\n\u001b[1;32m    268\u001b[0m         FutureWarning)\n\u001b[0;32m--> 269\u001b[0;31m     \u001b[0;32mreturn\u001b[0m \u001b[0mself\u001b[0m\u001b[0;34m.\u001b[0m\u001b[0mcreate_dataset\u001b[0m\u001b[0;34m(\u001b[0m\u001b[0minput_files\u001b[0m\u001b[0;34m,\u001b[0m \u001b[0mdata_dir\u001b[0m\u001b[0;34m,\u001b[0m \u001b[0mshard_size\u001b[0m\u001b[0;34m)\u001b[0m\u001b[0;34m\u001b[0m\u001b[0;34m\u001b[0m\u001b[0m\n\u001b[0m\u001b[1;32m    270\u001b[0m \u001b[0;34m\u001b[0m\u001b[0m\n\u001b[1;32m    271\u001b[0m   \u001b[0;32mdef\u001b[0m \u001b[0mcreate_dataset\u001b[0m\u001b[0;34m(\u001b[0m\u001b[0mself\u001b[0m\u001b[0;34m,\u001b[0m \u001b[0minput_files\u001b[0m\u001b[0;34m,\u001b[0m \u001b[0mdata_dir\u001b[0m\u001b[0;34m=\u001b[0m\u001b[0;32mNone\u001b[0m\u001b[0;34m,\u001b[0m \u001b[0mshard_size\u001b[0m\u001b[0;34m=\u001b[0m\u001b[0;36m8192\u001b[0m\u001b[0;34m)\u001b[0m\u001b[0;34m:\u001b[0m\u001b[0;34m\u001b[0m\u001b[0;34m\u001b[0m\u001b[0m\n",
            "\u001b[0;32m/content/deepchem/deepchem/data/data_loader.py\u001b[0m in \u001b[0;36mcreate_dataset\u001b[0;34m(self, input_files, data_dir, shard_size)\u001b[0m\n\u001b[1;32m    326\u001b[0m         \u001b[0;32myield\u001b[0m \u001b[0mX\u001b[0m\u001b[0;34m,\u001b[0m \u001b[0my\u001b[0m\u001b[0;34m,\u001b[0m \u001b[0mw\u001b[0m\u001b[0;34m,\u001b[0m \u001b[0mids\u001b[0m\u001b[0;34m\u001b[0m\u001b[0;34m\u001b[0m\u001b[0m\n\u001b[1;32m    327\u001b[0m \u001b[0;34m\u001b[0m\u001b[0m\n\u001b[0;32m--> 328\u001b[0;31m     \u001b[0;32mreturn\u001b[0m \u001b[0mDiskDataset\u001b[0m\u001b[0;34m.\u001b[0m\u001b[0mcreate_dataset\u001b[0m\u001b[0;34m(\u001b[0m\u001b[0mshard_generator\u001b[0m\u001b[0;34m(\u001b[0m\u001b[0;34m)\u001b[0m\u001b[0;34m,\u001b[0m \u001b[0mdata_dir\u001b[0m\u001b[0;34m,\u001b[0m \u001b[0mself\u001b[0m\u001b[0;34m.\u001b[0m\u001b[0mtasks\u001b[0m\u001b[0;34m)\u001b[0m\u001b[0;34m\u001b[0m\u001b[0;34m\u001b[0m\u001b[0m\n\u001b[0m\u001b[1;32m    329\u001b[0m \u001b[0;34m\u001b[0m\u001b[0m\n\u001b[1;32m    330\u001b[0m   \u001b[0;32mdef\u001b[0m \u001b[0m_get_shards\u001b[0m\u001b[0;34m(\u001b[0m\u001b[0mself\u001b[0m\u001b[0;34m,\u001b[0m \u001b[0minput_files\u001b[0m\u001b[0;34m,\u001b[0m \u001b[0mshard_size\u001b[0m\u001b[0;34m)\u001b[0m\u001b[0;34m:\u001b[0m\u001b[0;34m\u001b[0m\u001b[0;34m\u001b[0m\u001b[0m\n",
            "\u001b[0;32m/content/deepchem/deepchem/data/datasets.py\u001b[0m in \u001b[0;36mcreate_dataset\u001b[0;34m(shard_generator, data_dir, tasks)\u001b[0m\n\u001b[1;32m    973\u001b[0m     \u001b[0mmetadata_rows\u001b[0m \u001b[0;34m=\u001b[0m \u001b[0;34m[\u001b[0m\u001b[0;34m]\u001b[0m\u001b[0;34m\u001b[0m\u001b[0;34m\u001b[0m\u001b[0m\n\u001b[1;32m    974\u001b[0m     \u001b[0mtime1\u001b[0m \u001b[0;34m=\u001b[0m \u001b[0mtime\u001b[0m\u001b[0;34m.\u001b[0m\u001b[0mtime\u001b[0m\u001b[0;34m(\u001b[0m\u001b[0;34m)\u001b[0m\u001b[0;34m\u001b[0m\u001b[0;34m\u001b[0m\u001b[0m\n\u001b[0;32m--> 975\u001b[0;31m     \u001b[0;32mfor\u001b[0m \u001b[0mshard_num\u001b[0m\u001b[0;34m,\u001b[0m \u001b[0;34m(\u001b[0m\u001b[0mX\u001b[0m\u001b[0;34m,\u001b[0m \u001b[0my\u001b[0m\u001b[0;34m,\u001b[0m \u001b[0mw\u001b[0m\u001b[0;34m,\u001b[0m \u001b[0mids\u001b[0m\u001b[0;34m)\u001b[0m \u001b[0;32min\u001b[0m \u001b[0menumerate\u001b[0m\u001b[0;34m(\u001b[0m\u001b[0mshard_generator\u001b[0m\u001b[0;34m)\u001b[0m\u001b[0;34m:\u001b[0m\u001b[0;34m\u001b[0m\u001b[0;34m\u001b[0m\u001b[0m\n\u001b[0m\u001b[1;32m    976\u001b[0m       \u001b[0mbasename\u001b[0m \u001b[0;34m=\u001b[0m \u001b[0;34m\"shard-%d\"\u001b[0m \u001b[0;34m%\u001b[0m \u001b[0mshard_num\u001b[0m\u001b[0;34m\u001b[0m\u001b[0;34m\u001b[0m\u001b[0m\n\u001b[1;32m    977\u001b[0m       metadata_rows.append(\n",
            "\u001b[0;32m/content/deepchem/deepchem/data/data_loader.py\u001b[0m in \u001b[0;36mshard_generator\u001b[0;34m()\u001b[0m\n\u001b[1;32m    311\u001b[0m         \u001b[0;32mif\u001b[0m \u001b[0mlen\u001b[0m\u001b[0;34m(\u001b[0m\u001b[0mself\u001b[0m\u001b[0;34m.\u001b[0m\u001b[0mtasks\u001b[0m\u001b[0;34m)\u001b[0m \u001b[0;34m>\u001b[0m \u001b[0;36m0\u001b[0m\u001b[0;34m:\u001b[0m\u001b[0;34m\u001b[0m\u001b[0;34m\u001b[0m\u001b[0m\n\u001b[1;32m    312\u001b[0m           \u001b[0;31m# Featurize task results iff they exist.\u001b[0m\u001b[0;34m\u001b[0m\u001b[0;34m\u001b[0m\u001b[0;34m\u001b[0m\u001b[0m\n\u001b[0;32m--> 313\u001b[0;31m           \u001b[0my\u001b[0m\u001b[0;34m,\u001b[0m \u001b[0mw\u001b[0m \u001b[0;34m=\u001b[0m \u001b[0m_convert_df_to_numpy\u001b[0m\u001b[0;34m(\u001b[0m\u001b[0mshard\u001b[0m\u001b[0;34m,\u001b[0m \u001b[0mself\u001b[0m\u001b[0;34m.\u001b[0m\u001b[0mtasks\u001b[0m\u001b[0;34m)\u001b[0m\u001b[0;34m\u001b[0m\u001b[0;34m\u001b[0m\u001b[0m\n\u001b[0m\u001b[1;32m    314\u001b[0m           \u001b[0;31m# Filter out examples where featurization failed.\u001b[0m\u001b[0;34m\u001b[0m\u001b[0;34m\u001b[0m\u001b[0;34m\u001b[0m\u001b[0m\n\u001b[1;32m    315\u001b[0m           \u001b[0my\u001b[0m\u001b[0;34m,\u001b[0m \u001b[0mw\u001b[0m \u001b[0;34m=\u001b[0m \u001b[0;34m(\u001b[0m\u001b[0my\u001b[0m\u001b[0;34m[\u001b[0m\u001b[0mvalid_inds\u001b[0m\u001b[0;34m]\u001b[0m\u001b[0;34m,\u001b[0m \u001b[0mw\u001b[0m\u001b[0;34m[\u001b[0m\u001b[0mvalid_inds\u001b[0m\u001b[0;34m]\u001b[0m\u001b[0;34m)\u001b[0m\u001b[0;34m\u001b[0m\u001b[0;34m\u001b[0m\u001b[0m\n",
            "\u001b[0;32m/content/deepchem/deepchem/data/data_loader.py\u001b[0m in \u001b[0;36m_convert_df_to_numpy\u001b[0;34m(df, tasks)\u001b[0m\n\u001b[1;32m     44\u001b[0m   \u001b[0mtime1\u001b[0m \u001b[0;34m=\u001b[0m \u001b[0mtime\u001b[0m\u001b[0;34m.\u001b[0m\u001b[0mtime\u001b[0m\u001b[0;34m(\u001b[0m\u001b[0;34m)\u001b[0m\u001b[0;34m\u001b[0m\u001b[0;34m\u001b[0m\u001b[0m\n\u001b[1;32m     45\u001b[0m   y = np.hstack(\n\u001b[0;32m---> 46\u001b[0;31m       [np.reshape(np.array(df[task].values), (n_samples, 1)) for task in tasks])\n\u001b[0m\u001b[1;32m     47\u001b[0m   \u001b[0mtime2\u001b[0m \u001b[0;34m=\u001b[0m \u001b[0mtime\u001b[0m\u001b[0;34m.\u001b[0m\u001b[0mtime\u001b[0m\u001b[0;34m(\u001b[0m\u001b[0;34m)\u001b[0m\u001b[0;34m\u001b[0m\u001b[0;34m\u001b[0m\u001b[0m\n\u001b[1;32m     48\u001b[0m \u001b[0;34m\u001b[0m\u001b[0m\n",
            "\u001b[0;32m/content/deepchem/deepchem/data/data_loader.py\u001b[0m in \u001b[0;36m<listcomp>\u001b[0;34m(.0)\u001b[0m\n\u001b[1;32m     44\u001b[0m   \u001b[0mtime1\u001b[0m \u001b[0;34m=\u001b[0m \u001b[0mtime\u001b[0m\u001b[0;34m.\u001b[0m\u001b[0mtime\u001b[0m\u001b[0;34m(\u001b[0m\u001b[0;34m)\u001b[0m\u001b[0;34m\u001b[0m\u001b[0;34m\u001b[0m\u001b[0m\n\u001b[1;32m     45\u001b[0m   y = np.hstack(\n\u001b[0;32m---> 46\u001b[0;31m       [np.reshape(np.array(df[task].values), (n_samples, 1)) for task in tasks])\n\u001b[0m\u001b[1;32m     47\u001b[0m   \u001b[0mtime2\u001b[0m \u001b[0;34m=\u001b[0m \u001b[0mtime\u001b[0m\u001b[0;34m.\u001b[0m\u001b[0mtime\u001b[0m\u001b[0;34m(\u001b[0m\u001b[0;34m)\u001b[0m\u001b[0;34m\u001b[0m\u001b[0;34m\u001b[0m\u001b[0m\n\u001b[1;32m     48\u001b[0m \u001b[0;34m\u001b[0m\u001b[0m\n",
            "\u001b[0;32m/usr/local/lib/python3.6/dist-packages/pandas/core/frame.py\u001b[0m in \u001b[0;36m__getitem__\u001b[0;34m(self, key)\u001b[0m\n\u001b[1;32m   2798\u001b[0m             \u001b[0;32mif\u001b[0m \u001b[0mself\u001b[0m\u001b[0;34m.\u001b[0m\u001b[0mcolumns\u001b[0m\u001b[0;34m.\u001b[0m\u001b[0mnlevels\u001b[0m \u001b[0;34m>\u001b[0m \u001b[0;36m1\u001b[0m\u001b[0;34m:\u001b[0m\u001b[0;34m\u001b[0m\u001b[0;34m\u001b[0m\u001b[0m\n\u001b[1;32m   2799\u001b[0m                 \u001b[0;32mreturn\u001b[0m \u001b[0mself\u001b[0m\u001b[0;34m.\u001b[0m\u001b[0m_getitem_multilevel\u001b[0m\u001b[0;34m(\u001b[0m\u001b[0mkey\u001b[0m\u001b[0;34m)\u001b[0m\u001b[0;34m\u001b[0m\u001b[0;34m\u001b[0m\u001b[0m\n\u001b[0;32m-> 2800\u001b[0;31m             \u001b[0mindexer\u001b[0m \u001b[0;34m=\u001b[0m \u001b[0mself\u001b[0m\u001b[0;34m.\u001b[0m\u001b[0mcolumns\u001b[0m\u001b[0;34m.\u001b[0m\u001b[0mget_loc\u001b[0m\u001b[0;34m(\u001b[0m\u001b[0mkey\u001b[0m\u001b[0;34m)\u001b[0m\u001b[0;34m\u001b[0m\u001b[0;34m\u001b[0m\u001b[0m\n\u001b[0m\u001b[1;32m   2801\u001b[0m             \u001b[0;32mif\u001b[0m \u001b[0mis_integer\u001b[0m\u001b[0;34m(\u001b[0m\u001b[0mindexer\u001b[0m\u001b[0;34m)\u001b[0m\u001b[0;34m:\u001b[0m\u001b[0;34m\u001b[0m\u001b[0;34m\u001b[0m\u001b[0m\n\u001b[1;32m   2802\u001b[0m                 \u001b[0mindexer\u001b[0m \u001b[0;34m=\u001b[0m \u001b[0;34m[\u001b[0m\u001b[0mindexer\u001b[0m\u001b[0;34m]\u001b[0m\u001b[0;34m\u001b[0m\u001b[0;34m\u001b[0m\u001b[0m\n",
            "\u001b[0;32m/usr/local/lib/python3.6/dist-packages/pandas/core/indexes/base.py\u001b[0m in \u001b[0;36mget_loc\u001b[0;34m(self, key, method, tolerance)\u001b[0m\n\u001b[1;32m   2646\u001b[0m                 \u001b[0;32mreturn\u001b[0m \u001b[0mself\u001b[0m\u001b[0;34m.\u001b[0m\u001b[0m_engine\u001b[0m\u001b[0;34m.\u001b[0m\u001b[0mget_loc\u001b[0m\u001b[0;34m(\u001b[0m\u001b[0mkey\u001b[0m\u001b[0;34m)\u001b[0m\u001b[0;34m\u001b[0m\u001b[0;34m\u001b[0m\u001b[0m\n\u001b[1;32m   2647\u001b[0m             \u001b[0;32mexcept\u001b[0m \u001b[0mKeyError\u001b[0m\u001b[0;34m:\u001b[0m\u001b[0;34m\u001b[0m\u001b[0;34m\u001b[0m\u001b[0m\n\u001b[0;32m-> 2648\u001b[0;31m                 \u001b[0;32mreturn\u001b[0m \u001b[0mself\u001b[0m\u001b[0;34m.\u001b[0m\u001b[0m_engine\u001b[0m\u001b[0;34m.\u001b[0m\u001b[0mget_loc\u001b[0m\u001b[0;34m(\u001b[0m\u001b[0mself\u001b[0m\u001b[0;34m.\u001b[0m\u001b[0m_maybe_cast_indexer\u001b[0m\u001b[0;34m(\u001b[0m\u001b[0mkey\u001b[0m\u001b[0;34m)\u001b[0m\u001b[0;34m)\u001b[0m\u001b[0;34m\u001b[0m\u001b[0;34m\u001b[0m\u001b[0m\n\u001b[0m\u001b[1;32m   2649\u001b[0m         \u001b[0mindexer\u001b[0m \u001b[0;34m=\u001b[0m \u001b[0mself\u001b[0m\u001b[0;34m.\u001b[0m\u001b[0mget_indexer\u001b[0m\u001b[0;34m(\u001b[0m\u001b[0;34m[\u001b[0m\u001b[0mkey\u001b[0m\u001b[0;34m]\u001b[0m\u001b[0;34m,\u001b[0m \u001b[0mmethod\u001b[0m\u001b[0;34m=\u001b[0m\u001b[0mmethod\u001b[0m\u001b[0;34m,\u001b[0m \u001b[0mtolerance\u001b[0m\u001b[0;34m=\u001b[0m\u001b[0mtolerance\u001b[0m\u001b[0;34m)\u001b[0m\u001b[0;34m\u001b[0m\u001b[0;34m\u001b[0m\u001b[0m\n\u001b[1;32m   2650\u001b[0m         \u001b[0;32mif\u001b[0m \u001b[0mindexer\u001b[0m\u001b[0;34m.\u001b[0m\u001b[0mndim\u001b[0m \u001b[0;34m>\u001b[0m \u001b[0;36m1\u001b[0m \u001b[0;32mor\u001b[0m \u001b[0mindexer\u001b[0m\u001b[0;34m.\u001b[0m\u001b[0msize\u001b[0m \u001b[0;34m>\u001b[0m \u001b[0;36m1\u001b[0m\u001b[0;34m:\u001b[0m\u001b[0;34m\u001b[0m\u001b[0;34m\u001b[0m\u001b[0m\n",
            "\u001b[0;32mpandas/_libs/index.pyx\u001b[0m in \u001b[0;36mpandas._libs.index.IndexEngine.get_loc\u001b[0;34m()\u001b[0m\n",
            "\u001b[0;32mpandas/_libs/index.pyx\u001b[0m in \u001b[0;36mpandas._libs.index.IndexEngine.get_loc\u001b[0;34m()\u001b[0m\n",
            "\u001b[0;32mpandas/_libs/hashtable_class_helper.pxi\u001b[0m in \u001b[0;36mpandas._libs.hashtable.PyObjectHashTable.get_item\u001b[0;34m()\u001b[0m\n",
            "\u001b[0;32mpandas/_libs/hashtable_class_helper.pxi\u001b[0m in \u001b[0;36mpandas._libs.hashtable.PyObjectHashTable.get_item\u001b[0;34m()\u001b[0m\n",
            "\u001b[0;31mKeyError\u001b[0m: 'bindingClass'"
          ]
        }
      ]
    },
    {
      "cell_type": "code",
      "metadata": {
        "id": "PXynmhAQhFEw",
        "colab_type": "code",
        "colab": {}
      },
      "source": [
        ""
      ],
      "execution_count": 0,
      "outputs": []
    },
    {
      "cell_type": "code",
      "metadata": {
        "id": "6-IR8yX1hFaQ",
        "colab_type": "code",
        "colab": {}
      },
      "source": [
        ""
      ],
      "execution_count": 0,
      "outputs": []
    },
    {
      "cell_type": "code",
      "metadata": {
        "id": "5Pj5wLqviVks",
        "colab_type": "code",
        "colab": {}
      },
      "source": [
        "tmp_df"
      ],
      "execution_count": 0,
      "outputs": []
    },
    {
      "cell_type": "code",
      "metadata": {
        "id": "S8MVdlIkdxSN",
        "colab_type": "code",
        "colab": {}
      },
      "source": [
        "tmp_df.to_csv('tmp_df.csv', index=False)\n"
      ],
      "execution_count": 0,
      "outputs": []
    },
    {
      "cell_type": "code",
      "metadata": {
        "id": "69uy8VUWeHyK",
        "colab_type": "code",
        "colab": {}
      },
      "source": [
        "tmp_dataset_file = \"tmp_df.csv\""
      ],
      "execution_count": 0,
      "outputs": []
    },
    {
      "cell_type": "code",
      "metadata": {
        "id": "aSHVPm4xeRbs",
        "colab_type": "code",
        "colab": {}
      },
      "source": [
        "tmp_dataset = loader.featurize(tmp_dataset_file)"
      ],
      "execution_count": 0,
      "outputs": []
    },
    {
      "cell_type": "code",
      "metadata": {
        "id": "eIafkCRTLSsE",
        "colab_type": "code",
        "colab": {}
      },
      "source": [
        "def generate_graph_conv_model():\n",
        " batch_size = 128\n",
        " model = GraphConvModel(1, batch_size=batch_size,\n",
        " mode='classification',\n",
        " model_dir=\"MyGraphConv/model_dir\")\n",
        " return model"
      ],
      "execution_count": 0,
      "outputs": []
    },
    {
      "cell_type": "code",
      "metadata": {
        "id": "hcA-fKaNLTUn",
        "colab_type": "code",
        "colab": {}
      },
      "source": [
        "dataset_file = tmp_dataset\n",
        "tasks = [\"bindingClass\"]\n",
        "featurizer = dc.feat.ConvMolFeaturizer()\n",
        "loader = dc.data.CSVLoader(tasks=tasks,\n",
        "smiles_field=\"SMILES\",\n",
        "featurizer=featurizer)\n"
      ],
      "execution_count": 0,
      "outputs": []
    },
    {
      "cell_type": "code",
      "metadata": {
        "id": "6iBbTWhcNRbJ",
        "colab_type": "code",
        "colab": {}
      },
      "source": [
        "splitter = dc.splits.RandomSplitter()"
      ],
      "execution_count": 0,
      "outputs": []
    },
    {
      "cell_type": "code",
      "metadata": {
        "id": "MVLm_H4YNxrw",
        "colab_type": "code",
        "colab": {}
      },
      "source": [
        "import numpy as np"
      ],
      "execution_count": 0,
      "outputs": []
    },
    {
      "cell_type": "code",
      "metadata": {
        "id": "vRn77DFINR9m",
        "colab_type": "code",
        "colab": {}
      },
      "source": [
        "metrics = [\n",
        "dc.metrics.Metric(dc.metrics.matthews_corrcoef, np.mean,\n",
        "mode=\"classification\")]"
      ],
      "execution_count": 0,
      "outputs": []
    },
    {
      "cell_type": "code",
      "metadata": {
        "id": "Wj1pFBFDNWzp",
        "colab_type": "code",
        "colab": {}
      },
      "source": [
        "training_score_list = []\n",
        "validation_score_list = []\n",
        "transformers = []\n",
        "cv_folds = 10\n",
        "for i in range(0, cv_folds):\n",
        "  model = generate_graph_conv_model()\n",
        "  res = splitter.train_valid_test_split(dataset)\n",
        "  train_dataset, valid_dataset, test_dataset = res\n",
        "  model.fit(train_dataset)\n",
        "  train_scores = model.evaluate(train_dataset, metrics,\n",
        "  transformers)\n",
        "  training_score_list.append(\n",
        "  train_scores[\"mean-matthews_corrcoef\"])\n",
        "  validation_scores = model.evaluate(valid_dataset,\n",
        "  metrics,\n",
        "  transformers)\n",
        "  validation_score_list.append(\n",
        "  validation_scores[\"mean-matthews_corrcoef\"])\n",
        "  print(training_score_list)\n",
        "  print(validation_score_list)"
      ],
      "execution_count": 0,
      "outputs": []
    },
    {
      "cell_type": "code",
      "metadata": {
        "id": "zjXBeFG4N2je",
        "colab_type": "code",
        "colab": {}
      },
      "source": [
        "fig_scores_GCNN = sns.boxplot(\n",
        "[\"training\"] * cv_folds + [\"validation\"] * cv_folds,\n",
        "training_score_list + validation_score_list)"
      ],
      "execution_count": 0,
      "outputs": []
    },
    {
      "cell_type": "code",
      "metadata": {
        "id": "8K2i7y9Vyyzk",
        "colab_type": "code",
        "colab": {}
      },
      "source": [
        "Fig_scores_GCNN = fig_scores_GCNN.get_figure()"
      ],
      "execution_count": 0,
      "outputs": []
    },
    {
      "cell_type": "code",
      "metadata": {
        "id": "g34T8JThyxJg",
        "colab_type": "code",
        "colab": {}
      },
      "source": [
        "Fig_scores_GCNN.savefig('Fig_scores_GCNN.png',dpi=600)"
      ],
      "execution_count": 0,
      "outputs": []
    },
    {
      "cell_type": "code",
      "metadata": {
        "id": "2SwWmV_RNXT0",
        "colab_type": "code",
        "colab": {}
      },
      "source": [
        "pred = [x.flatten() for x in model.predict(valid_dataset)]"
      ],
      "execution_count": 0,
      "outputs": []
    },
    {
      "cell_type": "code",
      "metadata": {
        "id": "sSI-RGUvNXxi",
        "colab_type": "code",
        "colab": {}
      },
      "source": [
        "pred_df = pd.DataFrame(pred,columns=[\"neg\",\"pos\"])"
      ],
      "execution_count": 0,
      "outputs": []
    },
    {
      "cell_type": "code",
      "metadata": {
        "id": "JgWP0wgmQLsB",
        "colab_type": "code",
        "colab": {}
      },
      "source": [
        "pred_df[\"Active\"] = [int(x) for x in valid_dataset.y]\n",
        "pred_df[\"SMILES\"] = valid_dataset.ids"
      ],
      "execution_count": 0,
      "outputs": []
    },
    {
      "cell_type": "code",
      "metadata": {
        "id": "N3PIcmIhQMYr",
        "colab_type": "code",
        "colab": {}
      },
      "source": [
        "pred_df.head()"
      ],
      "execution_count": 0,
      "outputs": []
    },
    {
      "cell_type": "code",
      "metadata": {
        "id": "oFJYjUo4QXAu",
        "colab_type": "code",
        "colab": {}
      },
      "source": [
        "fig_preds_GCNN = sns.boxplot(pred_df.Active,pred_df.pos)"
      ],
      "execution_count": 0,
      "outputs": []
    },
    {
      "cell_type": "code",
      "metadata": {
        "id": "iwGZtCKszNk-",
        "colab_type": "code",
        "colab": {}
      },
      "source": [
        "Fig_preds_GCNN = fig_preds_GCNN.get_figure()"
      ],
      "execution_count": 0,
      "outputs": []
    },
    {
      "cell_type": "code",
      "metadata": {
        "id": "pTfqmEPyzUCf",
        "colab_type": "code",
        "colab": {}
      },
      "source": [
        "Fig_preds_GCNN.savefig('Fig_preds_GCNN.png',dpi=600)"
      ],
      "execution_count": 0,
      "outputs": []
    },
    {
      "cell_type": "code",
      "metadata": {
        "id": "C4FpEdrbQV4X",
        "colab_type": "code",
        "colab": {}
      },
      "source": [
        "model.fit(dataset)"
      ],
      "execution_count": 0,
      "outputs": []
    },
    {
      "cell_type": "code",
      "metadata": {
        "id": "ebBDbP8oQwYt",
        "colab_type": "code",
        "colab": {}
      },
      "source": [
        "#model.save()"
      ],
      "execution_count": 0,
      "outputs": []
    },
    {
      "cell_type": "code",
      "metadata": {
        "id": "Cl_ulhBlQ-Mb",
        "colab_type": "code",
        "colab": {}
      },
      "source": [
        ""
      ],
      "execution_count": 0,
      "outputs": []
    },
    {
      "cell_type": "code",
      "metadata": {
        "id": "x84cS7VrFAZO",
        "colab_type": "code",
        "colab": {}
      },
      "source": [
        "###transformers = [\n",
        "###    dc.trans.NormalizationTransformer(transform_X=True, dataset=dataset),\n",
        "###    dc.trans.ClippingTransformer(transform_X=True, dataset=dataset)]\n",
        "#datasets = [dataset]\n",
        "#datasets = [dataset,eval_df]\n",
        "###datasets = [dataset, valid_dataset, tmp_dataset]\n",
        "###for i, dataset in enumerate(datasets):\n",
        "###  for transformer in transformers:\n",
        "###      datasets[i] = transformer.transform(dataset)\n",
        "#train_dataset = datasets\n",
        "#train_dataset, eval_dataset = datasets\n",
        "###train_dataset, valid_dataset, tmp_dataset = datasets"
      ],
      "execution_count": 0,
      "outputs": []
    },
    {
      "cell_type": "code",
      "metadata": {
        "id": "KlK26-VnQw3l",
        "colab_type": "code",
        "colab": {}
      },
      "source": [
        "####END> THE REST IS FROM THE RF AND DNN MODELS IN ANOTHER IPYNB"
      ],
      "execution_count": 0,
      "outputs": []
    },
    {
      "cell_type": "code",
      "metadata": {
        "id": "hQpHLGqdSjOI",
        "colab_type": "code",
        "colab": {}
      },
      "source": [
        ""
      ],
      "execution_count": 0,
      "outputs": []
    },
    {
      "cell_type": "code",
      "metadata": {
        "id": "_B-sGwO281gf",
        "colab_type": "code",
        "colab": {}
      },
      "source": [
        ""
      ],
      "execution_count": 0,
      "outputs": []
    },
    {
      "cell_type": "code",
      "metadata": {
        "id": "d4DDnZMDT28f",
        "colab_type": "code",
        "colab": {}
      },
      "source": [
        "from sklearn.ensemble import RandomForestClassifier\n",
        "\n",
        "def rf_model_builder(model_params, model_dir):\n",
        "  sklearn_model = RandomForestClassifier(**model_params)\n",
        "  return dc.models.SklearnModel(sklearn_model, model_dir='models')\n",
        "params_dict = {\n",
        "    \"n_estimators\": [10, 50, 100, 250, 500],\n",
        "    \"max_features\": [\"auto\", \"sqrt\", \"log2\", None],\n",
        "}\n",
        "\n",
        "metric = dc.metrics.Metric(dc.metrics.roc_auc_score)\n",
        "optimizer = dc.hyper.HyperparamOpt(rf_model_builder)\n",
        "best_rf, best_rf_hyperparams, all_rf_results = optimizer.hyperparam_search(\n",
        "    params_dict, train_dataset, valid_dataset, transformers,\n",
        "    metric=metric)\n",
        "\n"
      ],
      "execution_count": 0,
      "outputs": []
    },
    {
      "cell_type": "code",
      "metadata": {
        "id": "0e0cCr32kdom",
        "colab_type": "code",
        "colab": {}
      },
      "source": [
        "best_rf.save()"
      ],
      "execution_count": 0,
      "outputs": []
    },
    {
      "cell_type": "code",
      "metadata": {
        "id": "RL-39qQWe7zy",
        "colab_type": "code",
        "colab": {}
      },
      "source": [
        "pred = best_rf.predict(tmp_dataset)"
      ],
      "execution_count": 0,
      "outputs": []
    },
    {
      "cell_type": "code",
      "metadata": {
        "id": "9p220aJjgllr",
        "colab_type": "code",
        "colab": {}
      },
      "source": [
        "pred.shape"
      ],
      "execution_count": 0,
      "outputs": []
    },
    {
      "cell_type": "code",
      "metadata": {
        "id": "YhpV_w04g6bl",
        "colab_type": "code",
        "colab": {}
      },
      "source": [
        "pred_df = pd.DataFrame(pred)"
      ],
      "execution_count": 0,
      "outputs": []
    },
    {
      "cell_type": "code",
      "metadata": {
        "id": "EgmQ7JrlgprO",
        "colab_type": "code",
        "colab": {}
      },
      "source": [
        "pred_df.head"
      ],
      "execution_count": 0,
      "outputs": []
    },
    {
      "cell_type": "code",
      "metadata": {
        "id": "9ZWk4mQI9yys",
        "colab_type": "code",
        "colab": {}
      },
      "source": [
        "import numpy as np\n",
        "#import np.random\n",
        "\n",
        "params_dict = {\"learning_rate\": np.power(10., np.random.uniform(-5, -3, size=1)),\n",
        "               \"weight_decay_penalty\": np.power(10, np.random.uniform(-6, -4, size=1)),\n",
        "               \"nb_epoch\": [40] }\n",
        "n_features = train_dataset.get_data_shape()[0]\n",
        "def model_builder(model_params, model_dir):\n",
        "  model = dc.models.MultitaskClassifier(\n",
        "    1, n_features, layer_sizes=[1000], dropouts=.25,\n",
        "    batch_size=50, **model_params)\n",
        "  return model\n",
        "\n",
        "#train_dataset = dc.data.NumpyDataset(train_dataset.X, train_dataset.y, train_dataset.w, train_dataset.ids)\n",
        "\n",
        "optimizer = dc.hyper.HyperparamOpt(model_builder)\n",
        "best_dnn, best_dnn_hyperparams, all_dnn_results = optimizer.hyperparam_search(\n",
        "    params_dict, train_dataset, valid_dataset, transformers,\n",
        "    metric=metric)"
      ],
      "execution_count": 0,
      "outputs": []
    },
    {
      "cell_type": "code",
      "metadata": {
        "id": "Tx9iGLauWKvk",
        "colab_type": "code",
        "colab": {}
      },
      "source": [
        "from deepchem.utils.evaluate import Evaluator\n",
        "\n",
        "rf_train_csv_out = \"rf_train_classifier.csv\"\n",
        "rf_train_stats_out = \"rf_train_stats_classifier.txt\"\n",
        "rf_train_evaluator = Evaluator(best_rf, train_dataset, transformers)\n",
        "rf_train_score = rf_train_evaluator.compute_model_performance(\n",
        "    [metric], rf_train_csv_out, rf_train_stats_out)\n",
        "print(\"RF Train set AUC %f\" % (rf_train_score[\"roc_auc_score\"]))\n",
        "\n",
        "rf_valid_csv_out = \"rf_valid_classifier.csv\"\n",
        "rf_valid_stats_out = \"rf_valid_stats_classifier.txt\"\n",
        "rf_valid_evaluator = Evaluator(best_rf, valid_dataset, transformers)\n",
        "rf_valid_score = rf_valid_evaluator.compute_model_performance(\n",
        "    [metric], rf_valid_csv_out, rf_valid_stats_out)\n",
        "print(\"RF Valid set AUC %f\" % (rf_valid_score[\"roc_auc_score\"]))\n",
        "\n",
        "rf_tmp_csv_out = \"rf_tmp_classifier.csv\"\n",
        "rf_tmp_stats_out = \"rf_tmp_stats_classifier.txt\"\n",
        "rf_tmp_evaluator = Evaluator(best_rf, tmp_dataset, transformers)\n",
        "rf_tmp_score = rf_tmp_evaluator.compute_model_performance(\n",
        "    [metric], rf_tmp_csv_out, rf_tmp_stats_out)\n",
        "print(\"RF Tmp set AUC %f\" % (rf_tmp_score[\"roc_auc_score\"]))\n",
        "\n",
        "#rf_test_csv_out = \"rf_test_regressor.csv\"\n",
        "#rf_test_stats_out = \"rf_test_stats_regressor.txt\"\n",
        "#rf_test_evaluator = Evaluator(best_rf, test_dataset, transformers)\n",
        "\n",
        "#rf_test_score = rf_test_evaluator.compute_model_performance(\n",
        " #   [metric], rf_test_csv_out, rf_test_stats_out)\n",
        "#print(\"RF Test set AUC %f\" % (rf_test_score[\"roc_auc_score\"]))\n",
        "\n",
        "#rf_crystal_csv_out = \"rf_crystal_regressor.csv\"\n",
        "#rf_crystal_stats_out = \"rf_crystal_stats_regressor.txt\"\n",
        "#rf_crystal_evaluator = Evaluator(best_rf, crystal_dataset, transformers)\n",
        "#rf_crystal_score = rf_crystal_evaluator.compute_model_performance(\n",
        "#    [metric], rf_crystal_csv_out, rf_crystal_stats_out)\n",
        "#print(\"RF Crystal set R^2 %f\" % (rf_crystal_score[\"roc_auc_score\"]))"
      ],
      "execution_count": 0,
      "outputs": []
    },
    {
      "cell_type": "code",
      "metadata": {
        "id": "grYdHVPxYRB5",
        "colab_type": "code",
        "colab": {}
      },
      "source": [
        "dnn_train_csv_out = \"dnn_train_classifier.csv\"\n",
        "dnn_train_stats_out = \"dnn_train_classifier_stats.txt\"\n",
        "dnn_train_evaluator = Evaluator(best_dnn, train_dataset, transformers)\n",
        "dnn_train_score = dnn_train_evaluator.compute_model_performance(\n",
        "    [metric], dnn_train_csv_out, dnn_train_stats_out)\n",
        "print(\"DNN Train set AUC %f\" % (dnn_train_score[\"roc_auc_score\"]))\n",
        "\n",
        "dnn_valid_csv_out = \"dnn_valid_classifier.csv\"\n",
        "dnn_valid_stats_out = \"dnn_valid_classifier_stats.txt\"\n",
        "dnn_valid_evaluator = Evaluator(best_dnn, valid_dataset, transformers)\n",
        "dnn_valid_score = dnn_valid_evaluator.compute_model_performance(\n",
        "    [metric], dnn_valid_csv_out, dnn_valid_stats_out)\n",
        "print(\"DNN Valid set AUC %f\" % (dnn_valid_score[\"roc_auc_score\"]))\n",
        "\n",
        "dnn_tmp_csv_out = \"dnn_tmp_classifier.csv\"\n",
        "dnn_tmp_stats_out = \"dnn_tmp_classifier_stats.txt\"\n",
        "dnn_tmp_evaluator = Evaluator(best_dnn, tmp_dataset, transformers)\n",
        "dnn_tmp_score = dnn_tmp_evaluator.compute_model_performance(\n",
        "    [metric], dnn_tmp_csv_out, dnn_tmp_stats_out)\n",
        "print(\"DNN Tmp set AUC %f\" % (dnn_tmp_score[\"roc_auc_score\"]))\n",
        "\n",
        "#dnn_test_csv_out = \"dnn_test_classifier.csv\"\n",
        "#dnn_test_stats_out = \"dnn_test_classifier_stats.txt\"\n",
        "#dnn_test_evaluator = Evaluator(best_dnn, test_dataset, transformers)\n",
        "#dnn_test_score = dnn_test_evaluator.compute_model_performance(\n",
        "#    [metric], dnn_test_csv_out, dnn_test_stats_out)\n",
        "#print(\"DNN Test set AUC %f\" % (dnn_test_score[\"roc_auc_score\"]))\n",
        "\n",
        "#dnn_crystal_csv_out = \"dnn_crystal_classifier.csv\"\n",
        "#dnn_crystal_stats_out = \"dnn_crystal_stats_classifier.txt\"\n",
        "#dnn_crystal_evaluator = Evaluator(best_dnn, crystal_dataset, transformers)\n",
        "#dnn_crystal_score = dnn_crystal_evaluator.compute_model_performance(\n",
        "#    [metric], dnn_crystal_csv_out, dnn_crystal_stats_out)\n",
        "#print(\"DNN Crystal set AUC %f\" % (dnn_crystal_score[\"roc_auc_score\"]))"
      ],
      "execution_count": 0,
      "outputs": []
    },
    {
      "cell_type": "code",
      "metadata": {
        "id": "EMbMcI_vYsbq",
        "colab_type": "code",
        "colab": {}
      },
      "source": [
        "#Now regression models\n",
        "#Make directories to store the raw and featurized datasets.\n",
        "#featurizer = dc.feat.UserDefinedFeaturizer(user_specified_features)\n",
        "featurizer = dc.feat.ConvMolFeaturizer()\n",
        "loader = dc.data.CSVLoader(tasks=[\"bindingClass\"],\n",
        "    smiles_field=\"SMILES\",\n",
        "    featurizer=featurizer)\n",
        "\n",
        "#loader = dc.data.UserCSVLoader(\n",
        "#    tasks=[\"bindingClass\"],  id_field=\"casrn\",\n",
        "#    featurizer=featurizer)\n",
        "train_dataset = loader.featurize(dataset_file)\n",
        "valid_dataset = loader.featurize(eval_dataset_file)\n",
        "#crystal_dataset = loader.featurize(crystal_dataset_file)"
      ],
      "execution_count": 0,
      "outputs": []
    },
    {
      "cell_type": "code",
      "metadata": {
        "id": "R9re5w_cZwWa",
        "colab_type": "code",
        "colab": {}
      },
      "source": [
        "print(\"Number of compounds in train set\")\n",
        "print(len(train_dataset))\n",
        "print(\"Number of compounds in validation set\")\n",
        "print(len(valid_dataset))"
      ],
      "execution_count": 0,
      "outputs": []
    },
    {
      "cell_type": "code",
      "metadata": {
        "id": "-CGHqQlQaJvk",
        "colab_type": "code",
        "colab": {}
      },
      "source": [
        "transformers = [\n",
        "    dc.trans.NormalizationTransformer(transform_X=True, dataset=train_dataset),\n",
        "    dc.trans.ClippingTransformer(transform_X=True, dataset=train_dataset)]\n",
        "\n",
        "datasets = [train_dataset, valid_dataset]\n",
        "for i, dataset in enumerate(datasets):\n",
        "  for transformer in transformers:\n",
        "      datasets[i] = transformer.transform(dataset)\n",
        "train_dataset, valid_dataset = datasets"
      ],
      "execution_count": 0,
      "outputs": []
    },
    {
      "cell_type": "code",
      "metadata": {
        "id": "VYaQa2EOaVgO",
        "colab_type": "code",
        "colab": {}
      },
      "source": [
        "from sklearn.ensemble import RandomForestRegressor\n",
        "\n",
        "def rf_model_builder(model_params, model_dir):\n",
        "  sklearn_model = RandomForestRegressor(**model_params)\n",
        "  return dc.models.SklearnModel(sklearn_model, model_dir)\n",
        "params_dict = {\n",
        "    \"n_estimators\": [10, 100],\n",
        "    \"max_features\": [\"auto\", \"sqrt\", \"log2\", None],\n",
        "}\n",
        "\n",
        "metric = dc.metrics.Metric(dc.metrics.r2_score)\n",
        "optimizer = dc.hyper.HyperparamOpt(rf_model_builder)\n",
        "best_rf, best_rf_hyperparams, all_rf_results = optimizer.hyperparam_search(\n",
        "    params_dict, train_dataset, valid_dataset, transformers,\n",
        "    metric=metric)"
      ],
      "execution_count": 0,
      "outputs": []
    },
    {
      "cell_type": "code",
      "metadata": {
        "id": "aTZdDPykaprV",
        "colab_type": "code",
        "colab": {}
      },
      "source": [
        "import numpy.random\n",
        "\n",
        "params_dict = {\"learning_rate\": np.power(10., np.random.uniform(-5, -3, size=2)),\n",
        "               \"weight_decay_penalty\": np.power(10, np.random.uniform(-6, -4, size=2)),\n",
        "               \"nb_epoch\": [20] }\n",
        "n_features = train_dataset.get_data_shape()[0]\n",
        "def model_builder(model_params, model_dir):\n",
        "  model = dc.models.MultitaskRegressor(\n",
        "    1, n_features, layer_sizes=[1000], dropouts=[.25],\n",
        "    batch_size=50, **model_params)\n",
        "  return model\n",
        "\n",
        "optimizer = dc.hyper.HyperparamOpt(model_builder)\n",
        "best_dnn, best_dnn_hyperparams, all_dnn_results = optimizer.hyperparam_search(\n",
        "    params_dict, train_dataset, valid_dataset, transformers,\n",
        "    metric=metric)"
      ],
      "execution_count": 0,
      "outputs": []
    },
    {
      "cell_type": "code",
      "metadata": {
        "id": "NFsmRqDrbJtK",
        "colab_type": "code",
        "colab": {}
      },
      "source": [
        "from deepchem.utils.evaluate import Evaluator\n",
        "\n",
        "rf_train_csv_out = \"rf_train_regressor.csv\"\n",
        "rf_train_stats_out = \"rf_train_stats_regressor.txt\"\n",
        "rf_train_evaluator = Evaluator(best_rf, train_dataset, transformers)\n",
        "rf_train_score = rf_train_evaluator.compute_model_performance(\n",
        "    [metric], rf_train_csv_out, rf_train_stats_out)\n",
        "print(\"RF Train set R^2 %f\" % (rf_train_score[\"r2_score\"]))\n",
        "\n",
        "rf_valid_csv_out = \"rf_valid_regressor.csv\"\n",
        "rf_valid_stats_out = \"rf_valid_stats_regressor.txt\"\n",
        "rf_valid_evaluator = Evaluator(best_rf, valid_dataset, transformers)\n",
        "rf_valid_score = rf_valid_evaluator.compute_model_performance(\n",
        "    [metric], rf_valid_csv_out, rf_valid_stats_out)\n",
        "print(\"RF Valid set R^2 %f\" % (rf_valid_score[\"r2_score\"]))"
      ],
      "execution_count": 0,
      "outputs": []
    },
    {
      "cell_type": "code",
      "metadata": {
        "id": "I-xzwOSkbTpa",
        "colab_type": "code",
        "colab": {}
      },
      "source": [
        "dnn_train_csv_out = \"dnn_train_regressor.csv\"\n",
        "dnn_train_stats_out = \"dnn_train_regressor_stats.txt\"\n",
        "dnn_train_evaluator = Evaluator(best_dnn, train_dataset, transformers)\n",
        "dnn_train_score = dnn_train_evaluator.compute_model_performance(\n",
        "    [metric], dnn_train_csv_out, dnn_train_stats_out)\n",
        "print(\"DNN Train set R^2 %f\" % (dnn_train_score[\"r2_score\"]))\n",
        "\n",
        "dnn_valid_csv_out = \"dnn_valid_regressor.csv\"\n",
        "dnn_valid_stats_out = \"dnn_valid_regressor_stats.txt\"\n",
        "dnn_valid_evaluator = Evaluator(best_dnn, valid_dataset, transformers)\n",
        "dnn_valid_score = dnn_valid_evaluator.compute_model_performance(\n",
        "    [metric], dnn_valid_csv_out, dnn_valid_stats_out)\n",
        "print(\"DNN Valid set R^2 %f\" % (dnn_valid_score[\"r2_score\"]))"
      ],
      "execution_count": 0,
      "outputs": []
    },
    {
      "cell_type": "code",
      "metadata": {
        "id": "jIn_EcNybekR",
        "colab_type": "code",
        "colab": {}
      },
      "source": [
        "#%matplotlib inline\n",
        "#from matplotlib import pyplot as plt\n",
        "\n",
        "#task = \"bindingClass\"\n",
        "#rf_predicted_test = best_rf.predict(valid_dataset)\n",
        "#rf_true_test = valid_dataset.y\n",
        "#plt.scatter(rf_predicted_test, rf_true_test)\n",
        "#plt.xlabel('Predicted bindingClass')\n",
        "#plt.ylabel('Secondary Assay')\n",
        "#plt.title(r'RF predicted bindingClass vs. Secondary Assay')\n",
        "#plt.xlim([2, 11])\n",
        "#plt.ylim([2, 11])\n",
        "#plt.plot([2, 11], [2, 11], color='k')\n",
        "#plt.show()"
      ],
      "execution_count": 0,
      "outputs": []
    },
    {
      "cell_type": "code",
      "metadata": {
        "id": "PCDtfrFpcakP",
        "colab_type": "code",
        "colab": {}
      },
      "source": [
        "#task = \"bindingClass\"\n",
        "#dnn_predicted_test = best_dnn.predict(valid_dataset, transformers)\n",
        "#dnn_true_test = valid_dataset.y\n",
        "#plt.scatter(dnn_predicted_test, dnn_true_test)\n",
        "#plt.xlabel('Predicted bindingClass')\n",
        "#plt.ylabel('Secondary Assay')\n",
        "#plt.title(r'DNN predicted bindingClass vs. Secondary Assay')\n",
        "#plt.xlim([2, 11])\n",
        "#plt.ylim([2, 11])\n",
        "#plt.plot([2, 11], [2, 11], color='k')\n",
        "#plt.show()"
      ],
      "execution_count": 0,
      "outputs": []
    }
  ]
}