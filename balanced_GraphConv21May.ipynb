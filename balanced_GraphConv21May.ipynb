{
  "nbformat": 4,
  "nbformat_minor": 0,
  "metadata": {
    "kernelspec": {
      "display_name": "Python 3",
      "language": "python",
      "name": "python3"
    },
    "language_info": {
      "codemirror_mode": {
        "name": "ipython",
        "version": 3
      },
      "file_extension": ".py",
      "mimetype": "text/x-python",
      "name": "python",
      "nbconvert_exporter": "python",
      "pygments_lexer": "ipython3",
      "version": "3.6.10"
    },
    "colab": {
      "name": "balanced_myfeats.ipynb",
      "provenance": [],
      "include_colab_link": true
    }
  },
  "cells": [
    {
      "cell_type": "markdown",
      "metadata": {
        "id": "view-in-github",
        "colab_type": "text"
      },
      "source": [
        "<a href=\"https://colab.research.google.com/github/AlfonsoTGarcia-Sosa/ML/blob/master/balanced_GraphConv21May.ipynb\" target=\"_parent\"><img src=\"https://colab.research.google.com/assets/colab-badge.svg\" alt=\"Open In Colab\"/></a>"
      ]
    },
    {
      "cell_type": "code",
      "metadata": {
        "id": "kShIhlOeFAWL",
        "colab_type": "code",
        "outputId": "c629afd3-0037-40fb-ae73-21c4dbbafb38",
        "colab": {
          "base_uri": "https://localhost:8080/",
          "height": 1000
        }
      },
      "source": [
        "!wget -c https://repo.anaconda.com/miniconda/Miniconda3-latest-Linux-x86_64.sh\n",
        "!chmod +x Miniconda3-latest-Linux-x86_64.sh\n",
        "!bash ./Miniconda3-latest-Linux-x86_64.sh -b -f -p /usr/local\n",
        "!conda install -y -c deepchem -c rdkit -c conda-forge -c omnia deepchem-gpu=2.3.0\n",
        "import sys\n",
        "sys.path.append('/usr/local/lib/python3.7/site-packages/')"
      ],
      "execution_count": 1,
      "outputs": [
        {
          "output_type": "stream",
          "text": [
            "--2020-05-21 14:18:51--  https://repo.anaconda.com/miniconda/Miniconda3-latest-Linux-x86_64.sh\n",
            "Resolving repo.anaconda.com (repo.anaconda.com)... 104.16.131.3, 104.16.130.3, 2606:4700::6810:8203, ...\n",
            "Connecting to repo.anaconda.com (repo.anaconda.com)|104.16.131.3|:443... connected.\n",
            "HTTP request sent, awaiting response... 200 OK\n",
            "Length: 85055499 (81M) [application/x-sh]\n",
            "Saving to: ‘Miniconda3-latest-Linux-x86_64.sh’\n",
            "\n",
            "\r          Miniconda   0%[                    ]       0  --.-KB/s               \r         Miniconda3  37%[======>             ]  30.16M   150MB/s               \r        Miniconda3-  94%[=================>  ]  76.91M   192MB/s               \rMiniconda3-latest-L 100%[===================>]  81.12M   194MB/s    in 0.4s    \n",
            "\n",
            "2020-05-21 14:18:51 (194 MB/s) - ‘Miniconda3-latest-Linux-x86_64.sh’ saved [85055499/85055499]\n",
            "\n",
            "PREFIX=/usr/local\n",
            "Unpacking payload ...\n",
            "Collecting package metadata (current_repodata.json): - \b\b\\ \b\b| \b\bdone\n",
            "Solving environment: - \b\bdone\n",
            "\n",
            "## Package Plan ##\n",
            "\n",
            "  environment location: /usr/local\n",
            "\n",
            "  added / updated specs:\n",
            "    - _libgcc_mutex==0.1=main\n",
            "    - asn1crypto==1.3.0=py37_0\n",
            "    - ca-certificates==2020.1.1=0\n",
            "    - certifi==2019.11.28=py37_0\n",
            "    - cffi==1.14.0=py37h2e261b9_0\n",
            "    - chardet==3.0.4=py37_1003\n",
            "    - conda-package-handling==1.6.0=py37h7b6447c_0\n",
            "    - conda==4.8.2=py37_0\n",
            "    - cryptography==2.8=py37h1ba5d50_0\n",
            "    - idna==2.8=py37_0\n",
            "    - ld_impl_linux-64==2.33.1=h53a641e_7\n",
            "    - libedit==3.1.20181209=hc058e9b_0\n",
            "    - libffi==3.2.1=hd88cf55_4\n",
            "    - libgcc-ng==9.1.0=hdf63c60_0\n",
            "    - libstdcxx-ng==9.1.0=hdf63c60_0\n",
            "    - ncurses==6.2=he6710b0_0\n",
            "    - openssl==1.1.1d=h7b6447c_4\n",
            "    - pip==20.0.2=py37_1\n",
            "    - pycosat==0.6.3=py37h7b6447c_0\n",
            "    - pycparser==2.19=py37_0\n",
            "    - pyopenssl==19.1.0=py37_0\n",
            "    - pysocks==1.7.1=py37_0\n",
            "    - python==3.7.6=h0371630_2\n",
            "    - readline==7.0=h7b6447c_5\n",
            "    - requests==2.22.0=py37_1\n",
            "    - ruamel_yaml==0.15.87=py37h7b6447c_0\n",
            "    - setuptools==45.2.0=py37_0\n",
            "    - six==1.14.0=py37_0\n",
            "    - sqlite==3.31.1=h7b6447c_0\n",
            "    - tk==8.6.8=hbc83047_0\n",
            "    - tqdm==4.42.1=py_0\n",
            "    - urllib3==1.25.8=py37_0\n",
            "    - wheel==0.34.2=py37_0\n",
            "    - xz==5.2.4=h14c3975_4\n",
            "    - yaml==0.1.7=had09818_2\n",
            "    - zlib==1.2.11=h7b6447c_3\n",
            "\n",
            "\n",
            "The following NEW packages will be INSTALLED:\n",
            "\n",
            "  _libgcc_mutex      pkgs/main/linux-64::_libgcc_mutex-0.1-main\n",
            "  asn1crypto         pkgs/main/linux-64::asn1crypto-1.3.0-py37_0\n",
            "  ca-certificates    pkgs/main/linux-64::ca-certificates-2020.1.1-0\n",
            "  certifi            pkgs/main/linux-64::certifi-2019.11.28-py37_0\n",
            "  cffi               pkgs/main/linux-64::cffi-1.14.0-py37h2e261b9_0\n",
            "  chardet            pkgs/main/linux-64::chardet-3.0.4-py37_1003\n",
            "  conda              pkgs/main/linux-64::conda-4.8.2-py37_0\n",
            "  conda-package-han~ pkgs/main/linux-64::conda-package-handling-1.6.0-py37h7b6447c_0\n",
            "  cryptography       pkgs/main/linux-64::cryptography-2.8-py37h1ba5d50_0\n",
            "  idna               pkgs/main/linux-64::idna-2.8-py37_0\n",
            "  ld_impl_linux-64   pkgs/main/linux-64::ld_impl_linux-64-2.33.1-h53a641e_7\n",
            "  libedit            pkgs/main/linux-64::libedit-3.1.20181209-hc058e9b_0\n",
            "  libffi             pkgs/main/linux-64::libffi-3.2.1-hd88cf55_4\n",
            "  libgcc-ng          pkgs/main/linux-64::libgcc-ng-9.1.0-hdf63c60_0\n",
            "  libstdcxx-ng       pkgs/main/linux-64::libstdcxx-ng-9.1.0-hdf63c60_0\n",
            "  ncurses            pkgs/main/linux-64::ncurses-6.2-he6710b0_0\n",
            "  openssl            pkgs/main/linux-64::openssl-1.1.1d-h7b6447c_4\n",
            "  pip                pkgs/main/linux-64::pip-20.0.2-py37_1\n",
            "  pycosat            pkgs/main/linux-64::pycosat-0.6.3-py37h7b6447c_0\n",
            "  pycparser          pkgs/main/linux-64::pycparser-2.19-py37_0\n",
            "  pyopenssl          pkgs/main/linux-64::pyopenssl-19.1.0-py37_0\n",
            "  pysocks            pkgs/main/linux-64::pysocks-1.7.1-py37_0\n",
            "  python             pkgs/main/linux-64::python-3.7.6-h0371630_2\n",
            "  readline           pkgs/main/linux-64::readline-7.0-h7b6447c_5\n",
            "  requests           pkgs/main/linux-64::requests-2.22.0-py37_1\n",
            "  ruamel_yaml        pkgs/main/linux-64::ruamel_yaml-0.15.87-py37h7b6447c_0\n",
            "  setuptools         pkgs/main/linux-64::setuptools-45.2.0-py37_0\n",
            "  six                pkgs/main/linux-64::six-1.14.0-py37_0\n",
            "  sqlite             pkgs/main/linux-64::sqlite-3.31.1-h7b6447c_0\n",
            "  tk                 pkgs/main/linux-64::tk-8.6.8-hbc83047_0\n",
            "  tqdm               pkgs/main/noarch::tqdm-4.42.1-py_0\n",
            "  urllib3            pkgs/main/linux-64::urllib3-1.25.8-py37_0\n",
            "  wheel              pkgs/main/linux-64::wheel-0.34.2-py37_0\n",
            "  xz                 pkgs/main/linux-64::xz-5.2.4-h14c3975_4\n",
            "  yaml               pkgs/main/linux-64::yaml-0.1.7-had09818_2\n",
            "  zlib               pkgs/main/linux-64::zlib-1.2.11-h7b6447c_3\n",
            "\n",
            "\n",
            "Preparing transaction: | \b\b/ \b\b- \b\b\\ \b\bdone\n",
            "Executing transaction: / \b\b- \b\b\\ \b\b| \b\b/ \b\b- \b\b\\ \b\b| \b\b/ \b\b- \b\b\\ \b\b| \b\b/ \b\b- \b\b\\ \b\bdone\n",
            "installation finished.\n",
            "WARNING:\n",
            "    You currently have a PYTHONPATH environment variable set. This may cause\n",
            "    unexpected behavior when running the Python interpreter in Miniconda3.\n",
            "    For best results, please verify that your PYTHONPATH only points to\n",
            "    directories of packages that are compatible with the Python interpreter\n",
            "    in Miniconda3: /usr/local\n",
            "Collecting package metadata (current_repodata.json): - \b\b\\ \b\b| \b\b/ \b\b- \b\b\\ \b\b| \b\b/ \b\b- \b\b\\ \b\b| \b\b/ \b\b- \b\b\\ \b\b| \b\b/ \b\b- \b\b\\ \b\b| \b\b/ \b\b- \b\b\\ \b\b| \b\b/ \b\b- \b\b\\ \b\b| \b\b/ \b\b- \b\b\\ \b\b| \b\b/ \b\b- \b\b\\ \b\b| \b\b/ \b\b- \b\b\\ \b\b| \b\b/ \b\b- \b\b\\ \b\b| \b\b/ \b\b- \b\b\\ \b\b| \b\b/ \b\b- \b\b\\ \b\b| \b\b/ \b\b- \b\b\\ \b\b| \b\b/ \b\b- \b\b\\ \b\b| \b\b/ \b\b- \b\b\\ \b\b| \b\b/ \b\b- \b\b\\ \b\b| \b\b/ \b\b- \b\b\\ \b\b| \b\b/ \b\b- \b\b\\ \b\bdone\n",
            "Solving environment: / \b\b- \b\b\\ \b\b| \b\b/ \b\b- \b\b\\ \b\b| \b\b/ \b\b- \b\b\\ \b\b| \b\b/ \b\b- \b\b\\ \b\b| \b\b/ \b\b- \b\b\\ \b\b| \b\b/ \b\b- \b\b\\ \b\b| \b\b/ \b\b- \b\b\\ \b\b| \b\b/ \b\b- \b\b\\ \b\b| \b\b/ \b\b- \b\b\\ \b\b| \b\b/ \b\b- \b\b\\ \b\b| \b\b/ \b\b- \b\b\\ \b\b| \b\b/ \b\b- \b\b\\ \b\b| \b\b/ \b\b- \b\b\\ \b\b| \b\b/ \b\b- \b\b\\ \b\b| \b\b/ \b\b- \b\b\\ \b\b| \b\b/ \b\b- \b\b\\ \b\b| \b\b/ \b\b- \b\b\\ \b\b| \b\b/ \b\b- \b\b\\ \b\bfailed with initial frozen solve. Retrying with flexible solve.\n",
            "Solving environment: / \b\b- \b\b\\ \b\b| \b\b/ \b\b- \b\b\\ \b\b| \b\b/ \b\b- \b\b\\ \b\b| \b\b/ \b\b- \b\b\\ \b\b| \b\b/ \b\b- \b\b\\ \b\b| \b\b/ \b\b- \b\b\\ \b\b| \b\b/ \b\b- \b\b\\ \b\b| \b\b/ \b\b- \b\b\\ \b\b| \b\b/ \b\b- \b\b\\ \b\b| \b\b/ \b\b- \b\b\\ \b\b| \b\b/ \b\b- \b\b\\ \b\b| \b\b/ \b\b- \b\b\\ \b\b| \b\b/ \b\b- \b\b\\ \b\b| \b\b/ \b\b- \b\b\\ \b\b| \b\b/ \b\b- \b\b\\ \b\b| \b\b/ \b\b- \b\b\\ \b\b| \b\b/ \b\b- \b\b\\ \b\b| \b\b/ \b\b- \b\b\\ \b\b| \b\b/ \b\b- \b\b\\ \b\b| \b\b/ \b\b- \b\b\\ \b\b| \b\b/ \b\b- \b\b\\ \b\b| \b\b/ \b\b- \b\b\\ \b\b| \b\b/ \b\bfailed with repodata from current_repodata.json, will retry with next repodata source.\n",
            "Collecting package metadata (repodata.json): \\ \b\b| \b\b/ \b\b- \b\b\\ \b\b| \b\b/ \b\b- \b\b\\ \b\b| \b\b/ \b\b- \b\b\\ \b\b| \b\b/ \b\b- \b\b\\ \b\b| \b\b/ \b\b- \b\b\\ \b\b| \b\b/ \b\b- \b\b\\ \b\b| \b\b/ \b\b- \b\b\\ \b\b| \b\b/ \b\b- \b\b\\ \b\b| \b\b/ \b\b- \b\b\\ \b\b| \b\b/ \b\b- \b\b\\ \b\b| \b\b/ \b\b- \b\b\\ \b\b| \b\b/ \b\b- \b\b\\ \b\b| \b\b/ \b\b- \b\b\\ \b\b| \b\b/ \b\b- \b\b\\ \b\b| \b\b/ \b\b- \b\b\\ \b\b| \b\b/ \b\b- \b\b\\ \b\b| \b\b/ \b\b- \b\b\\ \b\b| \b\b/ \b\b- \b\b\\ \b\b| \b\b/ \b\b- \b\b\\ \b\b| \b\b/ \b\b- \b\b\\ \b\b| \b\b/ \b\b- \b\b\\ \b\b| \b\b/ \b\b- \b\b\\ \b\b| \b\b/ \b\b- \b\b\\ \b\b| \b\b/ \b\b- \b\b\\ \b\b| \b\b/ \b\b- \b\b\\ \b\b| \b\b/ \b\b- \b\b\\ \b\b| \b\b/ \b\b- \b\b\\ \b\b| \b\b/ \b\b- \b\b\\ \b\b| \b\b/ \b\b- \b\b\\ \b\b| \b\b/ \b\b- \b\b\\ \b\b| \b\b/ \b\b- \b\b\\ \b\b| \b\b/ \b\b- \b\b\\ \b\b| \b\b/ \b\b- \b\b\\ \b\b| \b\b/ \b\b- \b\b\\ \b\b| \b\b/ \b\b- \b\b\\ \b\b| \b\b/ \b\b- \b\b\\ \b\b| \b\b/ \b\b- \b\b\\ \b\b| \b\b/ \b\b- \b\b\\ \b\b| \b\b/ \b\b- \b\b\\ \b\b| \b\b/ \b\b- \b\b\\ \b\b| \b\b/ \b\b- \b\b\\ \b\b| \b\b/ \b\b- \b\b\\ \b\b| \b\b/ \b\b- \b\b\\ \b\b| \b\b/ \b\b- \b\b\\ \b\b| \b\b/ \b\b- \b\b\\ \b\b| \b\bdone\n",
            "Solving environment: - \b\b\\ \b\b| \b\b/ \b\b- \b\b\\ \b\b| \b\b/ \b\b- \b\b\\ \b\b| \b\b/ \b\b- \b\b\\ \b\b| \b\b/ \b\b- \b\b\\ \b\b| \b\b/ \b\b- \b\b\\ \b\b| \b\b/ \b\b- \b\b\\ \b\b| \b\b/ \b\b- \b\b\\ \b\b| \b\b/ \b\b- \b\b\\ \b\b| \b\b/ \b\b- \b\b\\ \b\b| \b\b/ \b\b- \b\b\\ \b\b| \b\b/ \b\b- \b\b\\ \b\b| \b\b/ \b\b- \b\b\\ \b\b| \b\b/ \b\b- \b\b\\ \b\b| \b\b/ \b\b- \b\b\\ \b\b| \b\b/ \b\b- \b\b\\ \b\b| \b\b/ \b\b- \b\b\\ \b\b| \b\b/ \b\b- \b\b\\ \b\b| \b\b/ \b\b- \b\b\\ \b\b| \b\b/ \b\b- \b\b\\ \b\b| \b\b/ \b\b- \b\b\\ \b\b| \b\b/ \b\b- \b\b\\ \b\b| \b\b/ \b\b- \b\b\\ \b\b| \b\b/ \b\b- \b\b\\ \b\b| \b\b/ \b\b- \b\b\\ \b\b| \b\b/ \b\b- \b\b\\ \b\b| \b\b/ \b\b- \b\b\\ \b\b| \b\b/ \b\b- \b\b\\ \b\b| \b\b/ \b\b- \b\b\\ \b\b| \b\b/ \b\b- \b\b\\ \b\b| \b\b/ \b\b- \b\b\\ \b\b| \b\b/ \b\b- \b\b\\ \b\b| \b\b/ \b\b- \b\b\\ \b\b| \b\b/ \b\b- \b\b\\ \b\b| \b\b/ \b\b- \b\b\\ \b\b| \b\b/ \b\b- \b\b\\ \b\b| \b\b/ \b\b- \b\b\\ \b\b| \b\b/ \b\b- \b\b\\ \b\b| \b\b/ \b\b- \b\b\\ \b\b| \b\b/ \b\b- \b\b\\ \b\b| \b\b/ \b\b- \b\b\\ \b\b| \b\b/ \b\b- \b\b\\ \b\b| \b\b/ \b\b- \b\b\\ \b\b| \b\b/ \b\b- \b\b\\ \b\b| \b\b/ \b\b- \b\b\\ \b\b| \b\b/ \b\b- \b\b\\ \b\b| \b\b/ \b\b- \b\b\\ \b\b| \b\b/ \b\b- \b\b\\ \b\b| \b\b/ \b\b- \b\b\\ \b\b| \b\b/ \b\b- \b\b\\ \b\b| \b\b/ \b\b- \b\b\\ \b\b| \b\b/ \b\b- \b\b\\ \b\b| \b\b/ \b\b- \b\b\\ \b\b| \b\b/ \b\b- \b\b\\ \b\b| \b\b/ \b\b- \b\b\\ \b\b| \b\b/ \b\b- \b\b\\ \b\b| \b\b/ \b\b- \b\b\\ \b\b| \b\b/ \b\b- \b\b\\ \b\b| \b\b/ \b\b- \b\b\\ \b\b| \b\b/ \b\b- \b\b\\ \b\b| \b\b/ \b\b- \b\b\\ \b\b| \b\b/ \b\b- \b\b\\ \b\b| \b\b/ \b\b- \b\b\\ \b\b| \b\b/ \b\b- \b\b\\ \b\b| \b\b/ \b\b- \b\b\\ \b\b| \b\b/ \b\b- \b\b\\ \b\b| \b\b/ \b\b- \b\b\\ \b\b| \b\b/ \b\b- \b\b\\ \b\b| \b\b/ \b\b- \b\b\\ \b\b| \b\b/ \b\b- \b\b\\ \b\b| \b\b/ \b\b- \b\b\\ \b\b| \b\b/ \b\b- \b\b\\ \b\b| \b\b/ \b\b- \b\b\\ \b\b| \b\b/ \b\b- \b\b\\ \b\b| \b\b/ \b\b- \b\b\\ \b\b| \b\b/ \b\b- \b\b\\ \b\b| \b\b/ \b\b- \b\b\\ \b\b| \b\b/ \b\b- \b\b\\ \b\b| \b\b/ \b\b- \b\b\\ \b\b| \b\b/ \b\b- \b\b\\ \b\b| \b\b/ \b\b- \b\b\\ \b\b| \b\b/ \b\b- \b\b\\ \b\b| \b\b/ \b\b- \b\b\\ \b\b| \b\b/ \b\b- \b\b\\ \b\b| \b\b/ \b\b- \b\b\\ \b\b| \b\b/ \b\b- \b\b\\ \b\b| \b\b/ \b\b- \b\b\\ \b\b| \b\b/ \b\b- \b\b\\ \b\b| \b\b/ \b\b- \b\bdone\n",
            "\n",
            "\n",
            "==> WARNING: A newer version of conda exists. <==\n",
            "  current version: 4.8.2\n",
            "  latest version: 4.8.3\n",
            "\n",
            "Please update conda by running\n",
            "\n",
            "    $ conda update -n base -c defaults conda\n",
            "\n",
            "\n",
            "\n",
            "## Package Plan ##\n",
            "\n",
            "  environment location: /usr/local\n",
            "\n",
            "  added / updated specs:\n",
            "    - deepchem-gpu=2.3.0\n",
            "\n",
            "\n",
            "The following packages will be downloaded:\n",
            "\n",
            "    package                    |            build\n",
            "    ---------------------------|-----------------\n",
            "    _py-xgboost-mutex-2.0      |            cpu_0           8 KB  conda-forge\n",
            "    _tflow_select-2.1.0        |              gpu           2 KB\n",
            "    absl-py-0.9.0              |   py37hc8dfbb8_1         162 KB  conda-forge\n",
            "    astor-0.7.1                |             py_0          22 KB  conda-forge\n",
            "    attrs-19.3.0               |             py_0          35 KB  conda-forge\n",
            "    backcall-0.1.0             |             py_0          13 KB  conda-forge\n",
            "    bleach-3.1.5               |     pyh9f0ad1d_0         112 KB  conda-forge\n",
            "    blosc-1.18.1               |       he1b5a44_0         893 KB  conda-forge\n",
            "    bzip2-1.0.8                |       h516909a_2         396 KB  conda-forge\n",
            "    c-ares-1.15.0              |    h516909a_1001         100 KB  conda-forge\n",
            "    ca-certificates-2020.4.5.1 |       hecc5488_0         146 KB  conda-forge\n",
            "    cairo-1.16.0               |    h18b612c_1001         1.5 MB  conda-forge\n",
            "    certifi-2020.4.5.1         |   py37hc8dfbb8_0         151 KB  conda-forge\n",
            "    conda-4.8.3                |   py37hc8dfbb8_1         3.0 MB  conda-forge\n",
            "    cudatoolkit-10.1.243       |       h6bb024c_0       347.4 MB\n",
            "    cudnn-7.6.5                |       cuda10.1_0       179.9 MB\n",
            "    cupti-10.1.168             |                0         1.4 MB\n",
            "    cycler-0.10.0              |             py_2           9 KB  conda-forge\n",
            "    cython-0.29.19             |   py37h3340039_0         2.1 MB  conda-forge\n",
            "    dbus-1.13.6                |       he372182_0         602 KB  conda-forge\n",
            "    decorator-4.4.2            |             py_0          11 KB  conda-forge\n",
            "    deepchem-gpu-2.3.0         |           py37_0         2.1 MB  deepchem\n",
            "    defusedxml-0.6.0           |             py_0          22 KB  conda-forge\n",
            "    entrypoints-0.3            |py37hc8dfbb8_1001          12 KB  conda-forge\n",
            "    expat-2.2.9                |       he1b5a44_2         191 KB  conda-forge\n",
            "    fftw3f-3.3.4               |                2         1.2 MB  omnia\n",
            "    fontconfig-2.13.1          |    he4413a7_1000         327 KB  conda-forge\n",
            "    freetype-2.10.2            |       he06d7ca_0         905 KB  conda-forge\n",
            "    gast-0.3.3                 |             py_0          12 KB  conda-forge\n",
            "    gettext-0.19.8.1           |    hc5be6a0_1002         3.6 MB  conda-forge\n",
            "    glib-2.64.2                |       h6f030ca_1         3.4 MB  conda-forge\n",
            "    google-pasta-0.2.0         |     pyh8c360ce_0          42 KB  conda-forge\n",
            "    grpcio-1.23.0              |   py37hb0870dc_1         1.1 MB  conda-forge\n",
            "    gst-plugins-base-1.14.5    |       h0935bb2_2         6.8 MB  conda-forge\n",
            "    gstreamer-1.14.5           |       h36ae1b5_2         4.5 MB  conda-forge\n",
            "    h5py-2.10.0                |nompi_py37h513d04c_102         1.2 MB  conda-forge\n",
            "    hdf5-1.10.5                |nompi_h3c11f04_1104         3.1 MB  conda-forge\n",
            "    icu-58.2                   |    hf484d3e_1000        22.6 MB  conda-forge\n",
            "    importlib-metadata-1.6.0   |   py37hc8dfbb8_0          43 KB  conda-forge\n",
            "    importlib_metadata-1.6.0   |                0           3 KB  conda-forge\n",
            "    ipykernel-5.3.0            |   py37h43977f1_0         164 KB  conda-forge\n",
            "    ipython-7.14.0             |   py37hc8dfbb8_0         1.1 MB  conda-forge\n",
            "    ipython_genutils-0.2.0     |             py_1          21 KB  conda-forge\n",
            "    ipywidgets-7.5.1           |             py_0         101 KB  conda-forge\n",
            "    jedi-0.17.0                |   py37hc8dfbb8_0         807 KB  conda-forge\n",
            "    jinja2-2.11.2              |     pyh9f0ad1d_0          93 KB  conda-forge\n",
            "    joblib-0.15.1              |             py_0         202 KB  conda-forge\n",
            "    jpeg-9c                    |    h14c3975_1001         251 KB  conda-forge\n",
            "    jsonschema-3.2.0           |   py37hc8dfbb8_1          89 KB  conda-forge\n",
            "    jupyter-1.0.0              |             py_2           4 KB  conda-forge\n",
            "    jupyter_client-6.1.3       |             py_0          74 KB  conda-forge\n",
            "    jupyter_console-6.1.0      |             py_1          21 KB  conda-forge\n",
            "    jupyter_core-4.6.3         |   py37hc8dfbb8_1          71 KB  conda-forge\n",
            "    keras-applications-1.0.8   |             py_1          30 KB  conda-forge\n",
            "    keras-preprocessing-1.1.0  |             py_0          33 KB  conda-forge\n",
            "    kiwisolver-1.2.0           |   py37h99015e2_0          87 KB  conda-forge\n",
            "    libblas-3.8.0              |      14_openblas          10 KB  conda-forge\n",
            "    libboost-1.67.0            |       h46d08c1_4        13.0 MB\n",
            "    libcblas-3.8.0             |      14_openblas          10 KB  conda-forge\n",
            "    libgfortran-ng-7.5.0       |       hdf63c60_6         1.7 MB  conda-forge\n",
            "    libiconv-1.15              |    h516909a_1006         2.0 MB  conda-forge\n",
            "    liblapack-3.8.0            |      14_openblas          10 KB  conda-forge\n",
            "    libopenblas-0.3.7          |       h5ec1e0e_6         7.6 MB  conda-forge\n",
            "    libpng-1.6.37              |       hed695b0_1         308 KB  conda-forge\n",
            "    libprotobuf-3.11.4         |       h8b12597_0         4.8 MB  conda-forge\n",
            "    libsodium-1.0.17           |       h516909a_0         330 KB  conda-forge\n",
            "    libtiff-4.1.0              |       hc7e4089_6         668 KB  conda-forge\n",
            "    libuuid-2.32.1             |    h14c3975_1000          26 KB  conda-forge\n",
            "    libwebp-base-1.1.0         |       h516909a_3         845 KB  conda-forge\n",
            "    libxcb-1.13                |    h14c3975_1002         396 KB  conda-forge\n",
            "    libxgboost-1.0.2           |       he1b5a44_1         2.8 MB  conda-forge\n",
            "    libxml2-2.9.9              |       h13577e0_2         1.3 MB  conda-forge\n",
            "    lz4-c-1.8.3                |    he1b5a44_1001         187 KB  conda-forge\n",
            "    lzo-2.10                   |    h14c3975_1000         319 KB  conda-forge\n",
            "    markdown-3.2.2             |             py_0          61 KB  conda-forge\n",
            "    markupsafe-1.1.1           |   py37h8f50634_1          26 KB  conda-forge\n",
            "    matplotlib-3.1.2           |   py37h4fdacc2_0         5.0 MB\n",
            "    mdtraj-1.9.4               |   py37h4112681_0         1.8 MB  conda-forge\n",
            "    mistune-0.8.4              |py37h8f50634_1001          53 KB  conda-forge\n",
            "    mock-4.0.2                 |   py37hc8dfbb8_0          51 KB  conda-forge\n",
            "    nbconvert-5.6.1            |   py37hc8dfbb8_1         487 KB  conda-forge\n",
            "    nbformat-5.0.6             |             py_0          99 KB  conda-forge\n",
            "    networkx-2.4               |             py_1         1.2 MB  conda-forge\n",
            "    notebook-6.0.3             |   py37hc8dfbb8_0         6.3 MB  conda-forge\n",
            "    numexpr-2.7.1              |   py37h0da4684_1         197 KB  conda-forge\n",
            "    numpy-1.18.4               |   py37h8960a57_0         5.2 MB  conda-forge\n",
            "    olefile-0.46               |             py_0          31 KB  conda-forge\n",
            "    openmm-7.4.1               |py37_cuda101_rc_1        11.9 MB  omnia\n",
            "    openssl-1.1.1g             |       h516909a_0         2.1 MB  conda-forge\n",
            "    packaging-20.4             |     pyh9f0ad1d_0          32 KB  conda-forge\n",
            "    pandas-1.0.3               |   py37h0da4684_1        11.1 MB  conda-forge\n",
            "    pandoc-2.9.2.1             |                0        18.7 MB  conda-forge\n",
            "    pandocfilters-1.4.2        |             py_1           9 KB  conda-forge\n",
            "    parso-0.7.0                |     pyh9f0ad1d_0          67 KB  conda-forge\n",
            "    pcre-8.44                  |       he1b5a44_0         261 KB  conda-forge\n",
            "    pdbfixer-1.6               |           py37_0         190 KB  omnia\n",
            "    pexpect-4.8.0              |   py37hc8dfbb8_1          79 KB  conda-forge\n",
            "    pickleshare-0.7.5          |py37hc8dfbb8_1001          13 KB  conda-forge\n",
            "    pillow-5.3.0               |py37h00a061d_1000         595 KB  conda-forge\n",
            "    pixman-0.38.0              |    h516909a_1003         594 KB  conda-forge\n",
            "    prometheus_client-0.7.1    |             py_0          38 KB  conda-forge\n",
            "    prompt-toolkit-3.0.5       |             py_0         232 KB  conda-forge\n",
            "    prompt_toolkit-3.0.5       |                0           4 KB  conda-forge\n",
            "    protobuf-3.11.4            |   py37h3340039_1         695 KB  conda-forge\n",
            "    pthread-stubs-0.4          |    h14c3975_1001           5 KB  conda-forge\n",
            "    ptyprocess-0.6.0           |          py_1001          15 KB  conda-forge\n",
            "    py-boost-1.67.0            |   py37h04863e7_4         278 KB\n",
            "    py-xgboost-1.0.2           |   py37hc8dfbb8_1         2.2 MB  conda-forge\n",
            "    pygments-2.6.1             |             py_0         683 KB  conda-forge\n",
            "    pyparsing-2.4.7            |     pyh9f0ad1d_0          60 KB  conda-forge\n",
            "    pyqt-5.9.2                 |   py37hcca6a23_4         5.7 MB  conda-forge\n",
            "    pyrsistent-0.16.0          |   py37h8f50634_0          89 KB  conda-forge\n",
            "    pytables-3.6.1             |   py37h9f153d1_1         1.5 MB  conda-forge\n",
            "    python-dateutil-2.8.1      |             py_0         220 KB  conda-forge\n",
            "    python_abi-3.7             |          1_cp37m           4 KB  conda-forge\n",
            "    pytz-2020.1                |     pyh9f0ad1d_0         227 KB  conda-forge\n",
            "    pyzmq-19.0.1               |   py37hac76be4_0         519 KB  conda-forge\n",
            "    qt-5.9.7                   |       h52cfd70_2        85.9 MB  conda-forge\n",
            "    qtconsole-4.7.4            |     pyh9f0ad1d_0          88 KB  conda-forge\n",
            "    qtpy-1.9.0                 |             py_0          34 KB  conda-forge\n",
            "    rdkit-2020.03.2.0          |   py37hc20afe1_1        24.8 MB  rdkit\n",
            "    scikit-learn-0.23.1        |   py37h8a51577_0         6.8 MB  conda-forge\n",
            "    scipy-1.4.1                |   py37ha3d9a3c_3        18.8 MB  conda-forge\n",
            "    send2trash-1.5.0           |             py_0          12 KB  conda-forge\n",
            "    simdna-0.4.2               |             py_0         627 KB  deepchem\n",
            "    sip-4.19.8                 |py37hf484d3e_1000         290 KB  conda-forge\n",
            "    snappy-1.1.8               |       he1b5a44_1          39 KB  conda-forge\n",
            "    tensorboard-1.14.0         |           py37_0         3.2 MB  conda-forge\n",
            "    tensorflow-1.14.0          |gpu_py37h74c33d7_0           4 KB\n",
            "    tensorflow-base-1.14.0     |gpu_py37he45bfe2_0       146.3 MB\n",
            "    tensorflow-estimator-1.14.0|   py37h5ca1d4c_0         645 KB  conda-forge\n",
            "    tensorflow-gpu-1.14.0      |       h0d30ee6_0           3 KB\n",
            "    termcolor-1.1.0            |             py_2           6 KB  conda-forge\n",
            "    terminado-0.8.3            |   py37hc8dfbb8_1          23 KB  conda-forge\n",
            "    testpath-0.4.4             |             py_0          85 KB  conda-forge\n",
            "    threadpoolctl-2.0.0        |     pyh5ca1d4c_0          14 KB  conda-forge\n",
            "    tornado-6.0.4              |   py37h8f50634_1         639 KB  conda-forge\n",
            "    traitlets-4.3.3            |   py37hc8dfbb8_1         133 KB  conda-forge\n",
            "    wcwidth-0.1.9              |     pyh9f0ad1d_0          20 KB  conda-forge\n",
            "    webencodings-0.5.1         |             py_1          12 KB  conda-forge\n",
            "    werkzeug-1.0.1             |     pyh9f0ad1d_0         239 KB  conda-forge\n",
            "    widgetsnbextension-3.5.1   |           py37_0         1.8 MB  conda-forge\n",
            "    wrapt-1.12.1               |   py37h8f50634_1          46 KB  conda-forge\n",
            "    xgboost-1.0.2              |   py37h3340039_1          11 KB  conda-forge\n",
            "    xorg-kbproto-1.0.7         |    h14c3975_1002          26 KB  conda-forge\n",
            "    xorg-libice-1.0.10         |       h516909a_0          57 KB  conda-forge\n",
            "    xorg-libsm-1.2.3           |    h84519dc_1000          25 KB  conda-forge\n",
            "    xorg-libx11-1.6.9          |       h516909a_0         918 KB  conda-forge\n",
            "    xorg-libxau-1.0.9          |       h14c3975_0          13 KB  conda-forge\n",
            "    xorg-libxdmcp-1.1.3        |       h516909a_0          18 KB  conda-forge\n",
            "    xorg-libxext-1.3.4         |       h516909a_0          51 KB  conda-forge\n",
            "    xorg-libxrender-0.9.10     |    h516909a_1002          31 KB  conda-forge\n",
            "    xorg-renderproto-0.11.1    |    h14c3975_1002           8 KB  conda-forge\n",
            "    xorg-xextproto-7.3.0       |    h14c3975_1002          27 KB  conda-forge\n",
            "    xorg-xproto-7.0.31         |    h14c3975_1007          72 KB  conda-forge\n",
            "    zeromq-4.3.2               |       he1b5a44_2         668 KB  conda-forge\n",
            "    zipp-3.1.0                 |             py_0          10 KB  conda-forge\n",
            "    zstd-1.4.4                 |       h3b9ef0a_2         982 KB  conda-forge\n",
            "    ------------------------------------------------------------\n",
            "                                           Total:      1000.1 MB\n",
            "\n",
            "The following NEW packages will be INSTALLED:\n",
            "\n",
            "  _py-xgboost-mutex  conda-forge/linux-64::_py-xgboost-mutex-2.0-cpu_0\n",
            "  _tflow_select      pkgs/main/linux-64::_tflow_select-2.1.0-gpu\n",
            "  absl-py            conda-forge/linux-64::absl-py-0.9.0-py37hc8dfbb8_1\n",
            "  astor              conda-forge/noarch::astor-0.7.1-py_0\n",
            "  attrs              conda-forge/noarch::attrs-19.3.0-py_0\n",
            "  backcall           conda-forge/noarch::backcall-0.1.0-py_0\n",
            "  bleach             conda-forge/noarch::bleach-3.1.5-pyh9f0ad1d_0\n",
            "  blosc              conda-forge/linux-64::blosc-1.18.1-he1b5a44_0\n",
            "  bzip2              conda-forge/linux-64::bzip2-1.0.8-h516909a_2\n",
            "  c-ares             conda-forge/linux-64::c-ares-1.15.0-h516909a_1001\n",
            "  cairo              conda-forge/linux-64::cairo-1.16.0-h18b612c_1001\n",
            "  cudatoolkit        pkgs/main/linux-64::cudatoolkit-10.1.243-h6bb024c_0\n",
            "  cudnn              pkgs/main/linux-64::cudnn-7.6.5-cuda10.1_0\n",
            "  cupti              pkgs/main/linux-64::cupti-10.1.168-0\n",
            "  cycler             conda-forge/noarch::cycler-0.10.0-py_2\n",
            "  cython             conda-forge/linux-64::cython-0.29.19-py37h3340039_0\n",
            "  dbus               conda-forge/linux-64::dbus-1.13.6-he372182_0\n",
            "  decorator          conda-forge/noarch::decorator-4.4.2-py_0\n",
            "  deepchem-gpu       deepchem/linux-64::deepchem-gpu-2.3.0-py37_0\n",
            "  defusedxml         conda-forge/noarch::defusedxml-0.6.0-py_0\n",
            "  entrypoints        conda-forge/linux-64::entrypoints-0.3-py37hc8dfbb8_1001\n",
            "  expat              conda-forge/linux-64::expat-2.2.9-he1b5a44_2\n",
            "  fftw3f             omnia/linux-64::fftw3f-3.3.4-2\n",
            "  fontconfig         conda-forge/linux-64::fontconfig-2.13.1-he4413a7_1000\n",
            "  freetype           conda-forge/linux-64::freetype-2.10.2-he06d7ca_0\n",
            "  gast               conda-forge/noarch::gast-0.3.3-py_0\n",
            "  gettext            conda-forge/linux-64::gettext-0.19.8.1-hc5be6a0_1002\n",
            "  glib               conda-forge/linux-64::glib-2.64.2-h6f030ca_1\n",
            "  google-pasta       conda-forge/noarch::google-pasta-0.2.0-pyh8c360ce_0\n",
            "  grpcio             conda-forge/linux-64::grpcio-1.23.0-py37hb0870dc_1\n",
            "  gst-plugins-base   conda-forge/linux-64::gst-plugins-base-1.14.5-h0935bb2_2\n",
            "  gstreamer          conda-forge/linux-64::gstreamer-1.14.5-h36ae1b5_2\n",
            "  h5py               conda-forge/linux-64::h5py-2.10.0-nompi_py37h513d04c_102\n",
            "  hdf5               conda-forge/linux-64::hdf5-1.10.5-nompi_h3c11f04_1104\n",
            "  icu                conda-forge/linux-64::icu-58.2-hf484d3e_1000\n",
            "  importlib-metadata conda-forge/linux-64::importlib-metadata-1.6.0-py37hc8dfbb8_0\n",
            "  importlib_metadata conda-forge/noarch::importlib_metadata-1.6.0-0\n",
            "  ipykernel          conda-forge/linux-64::ipykernel-5.3.0-py37h43977f1_0\n",
            "  ipython            conda-forge/linux-64::ipython-7.14.0-py37hc8dfbb8_0\n",
            "  ipython_genutils   conda-forge/noarch::ipython_genutils-0.2.0-py_1\n",
            "  ipywidgets         conda-forge/noarch::ipywidgets-7.5.1-py_0\n",
            "  jedi               conda-forge/linux-64::jedi-0.17.0-py37hc8dfbb8_0\n",
            "  jinja2             conda-forge/noarch::jinja2-2.11.2-pyh9f0ad1d_0\n",
            "  joblib             conda-forge/noarch::joblib-0.15.1-py_0\n",
            "  jpeg               conda-forge/linux-64::jpeg-9c-h14c3975_1001\n",
            "  jsonschema         conda-forge/linux-64::jsonschema-3.2.0-py37hc8dfbb8_1\n",
            "  jupyter            conda-forge/noarch::jupyter-1.0.0-py_2\n",
            "  jupyter_client     conda-forge/noarch::jupyter_client-6.1.3-py_0\n",
            "  jupyter_console    conda-forge/noarch::jupyter_console-6.1.0-py_1\n",
            "  jupyter_core       conda-forge/linux-64::jupyter_core-4.6.3-py37hc8dfbb8_1\n",
            "  keras-applications conda-forge/noarch::keras-applications-1.0.8-py_1\n",
            "  keras-preprocessi~ conda-forge/noarch::keras-preprocessing-1.1.0-py_0\n",
            "  kiwisolver         conda-forge/linux-64::kiwisolver-1.2.0-py37h99015e2_0\n",
            "  libblas            conda-forge/linux-64::libblas-3.8.0-14_openblas\n",
            "  libboost           pkgs/main/linux-64::libboost-1.67.0-h46d08c1_4\n",
            "  libcblas           conda-forge/linux-64::libcblas-3.8.0-14_openblas\n",
            "  libgfortran-ng     conda-forge/linux-64::libgfortran-ng-7.5.0-hdf63c60_6\n",
            "  libiconv           conda-forge/linux-64::libiconv-1.15-h516909a_1006\n",
            "  liblapack          conda-forge/linux-64::liblapack-3.8.0-14_openblas\n",
            "  libopenblas        conda-forge/linux-64::libopenblas-0.3.7-h5ec1e0e_6\n",
            "  libpng             conda-forge/linux-64::libpng-1.6.37-hed695b0_1\n",
            "  libprotobuf        conda-forge/linux-64::libprotobuf-3.11.4-h8b12597_0\n",
            "  libsodium          conda-forge/linux-64::libsodium-1.0.17-h516909a_0\n",
            "  libtiff            conda-forge/linux-64::libtiff-4.1.0-hc7e4089_6\n",
            "  libuuid            conda-forge/linux-64::libuuid-2.32.1-h14c3975_1000\n",
            "  libwebp-base       conda-forge/linux-64::libwebp-base-1.1.0-h516909a_3\n",
            "  libxcb             conda-forge/linux-64::libxcb-1.13-h14c3975_1002\n",
            "  libxgboost         conda-forge/linux-64::libxgboost-1.0.2-he1b5a44_1\n",
            "  libxml2            conda-forge/linux-64::libxml2-2.9.9-h13577e0_2\n",
            "  lz4-c              conda-forge/linux-64::lz4-c-1.8.3-he1b5a44_1001\n",
            "  lzo                conda-forge/linux-64::lzo-2.10-h14c3975_1000\n",
            "  markdown           conda-forge/noarch::markdown-3.2.2-py_0\n",
            "  markupsafe         conda-forge/linux-64::markupsafe-1.1.1-py37h8f50634_1\n",
            "  matplotlib         pkgs/main/linux-64::matplotlib-3.1.2-py37h4fdacc2_0\n",
            "  mdtraj             conda-forge/linux-64::mdtraj-1.9.4-py37h4112681_0\n",
            "  mistune            conda-forge/linux-64::mistune-0.8.4-py37h8f50634_1001\n",
            "  mock               conda-forge/linux-64::mock-4.0.2-py37hc8dfbb8_0\n",
            "  nbconvert          conda-forge/linux-64::nbconvert-5.6.1-py37hc8dfbb8_1\n",
            "  nbformat           conda-forge/noarch::nbformat-5.0.6-py_0\n",
            "  networkx           conda-forge/noarch::networkx-2.4-py_1\n",
            "  notebook           conda-forge/linux-64::notebook-6.0.3-py37hc8dfbb8_0\n",
            "  numexpr            conda-forge/linux-64::numexpr-2.7.1-py37h0da4684_1\n",
            "  numpy              conda-forge/linux-64::numpy-1.18.4-py37h8960a57_0\n",
            "  olefile            conda-forge/noarch::olefile-0.46-py_0\n",
            "  openmm             omnia/linux-64::openmm-7.4.1-py37_cuda101_rc_1\n",
            "  packaging          conda-forge/noarch::packaging-20.4-pyh9f0ad1d_0\n",
            "  pandas             conda-forge/linux-64::pandas-1.0.3-py37h0da4684_1\n",
            "  pandoc             conda-forge/linux-64::pandoc-2.9.2.1-0\n",
            "  pandocfilters      conda-forge/noarch::pandocfilters-1.4.2-py_1\n",
            "  parso              conda-forge/noarch::parso-0.7.0-pyh9f0ad1d_0\n",
            "  pcre               conda-forge/linux-64::pcre-8.44-he1b5a44_0\n",
            "  pdbfixer           omnia/linux-64::pdbfixer-1.6-py37_0\n",
            "  pexpect            conda-forge/linux-64::pexpect-4.8.0-py37hc8dfbb8_1\n",
            "  pickleshare        conda-forge/linux-64::pickleshare-0.7.5-py37hc8dfbb8_1001\n",
            "  pillow             conda-forge/linux-64::pillow-5.3.0-py37h00a061d_1000\n",
            "  pixman             conda-forge/linux-64::pixman-0.38.0-h516909a_1003\n",
            "  prometheus_client  conda-forge/noarch::prometheus_client-0.7.1-py_0\n",
            "  prompt-toolkit     conda-forge/noarch::prompt-toolkit-3.0.5-py_0\n",
            "  prompt_toolkit     conda-forge/noarch::prompt_toolkit-3.0.5-0\n",
            "  protobuf           conda-forge/linux-64::protobuf-3.11.4-py37h3340039_1\n",
            "  pthread-stubs      conda-forge/linux-64::pthread-stubs-0.4-h14c3975_1001\n",
            "  ptyprocess         conda-forge/noarch::ptyprocess-0.6.0-py_1001\n",
            "  py-boost           pkgs/main/linux-64::py-boost-1.67.0-py37h04863e7_4\n",
            "  py-xgboost         conda-forge/linux-64::py-xgboost-1.0.2-py37hc8dfbb8_1\n",
            "  pygments           conda-forge/noarch::pygments-2.6.1-py_0\n",
            "  pyparsing          conda-forge/noarch::pyparsing-2.4.7-pyh9f0ad1d_0\n",
            "  pyqt               conda-forge/linux-64::pyqt-5.9.2-py37hcca6a23_4\n",
            "  pyrsistent         conda-forge/linux-64::pyrsistent-0.16.0-py37h8f50634_0\n",
            "  pytables           conda-forge/linux-64::pytables-3.6.1-py37h9f153d1_1\n",
            "  python-dateutil    conda-forge/noarch::python-dateutil-2.8.1-py_0\n",
            "  python_abi         conda-forge/linux-64::python_abi-3.7-1_cp37m\n",
            "  pytz               conda-forge/noarch::pytz-2020.1-pyh9f0ad1d_0\n",
            "  pyzmq              conda-forge/linux-64::pyzmq-19.0.1-py37hac76be4_0\n",
            "  qt                 conda-forge/linux-64::qt-5.9.7-h52cfd70_2\n",
            "  qtconsole          conda-forge/noarch::qtconsole-4.7.4-pyh9f0ad1d_0\n",
            "  qtpy               conda-forge/noarch::qtpy-1.9.0-py_0\n",
            "  rdkit              rdkit/linux-64::rdkit-2020.03.2.0-py37hc20afe1_1\n",
            "  scikit-learn       conda-forge/linux-64::scikit-learn-0.23.1-py37h8a51577_0\n",
            "  scipy              conda-forge/linux-64::scipy-1.4.1-py37ha3d9a3c_3\n",
            "  send2trash         conda-forge/noarch::send2trash-1.5.0-py_0\n",
            "  simdna             deepchem/noarch::simdna-0.4.2-py_0\n",
            "  sip                conda-forge/linux-64::sip-4.19.8-py37hf484d3e_1000\n",
            "  snappy             conda-forge/linux-64::snappy-1.1.8-he1b5a44_1\n",
            "  tensorboard        conda-forge/linux-64::tensorboard-1.14.0-py37_0\n",
            "  tensorflow         pkgs/main/linux-64::tensorflow-1.14.0-gpu_py37h74c33d7_0\n",
            "  tensorflow-base    pkgs/main/linux-64::tensorflow-base-1.14.0-gpu_py37he45bfe2_0\n",
            "  tensorflow-estima~ conda-forge/linux-64::tensorflow-estimator-1.14.0-py37h5ca1d4c_0\n",
            "  tensorflow-gpu     pkgs/main/linux-64::tensorflow-gpu-1.14.0-h0d30ee6_0\n",
            "  termcolor          conda-forge/noarch::termcolor-1.1.0-py_2\n",
            "  terminado          conda-forge/linux-64::terminado-0.8.3-py37hc8dfbb8_1\n",
            "  testpath           conda-forge/noarch::testpath-0.4.4-py_0\n",
            "  threadpoolctl      conda-forge/noarch::threadpoolctl-2.0.0-pyh5ca1d4c_0\n",
            "  tornado            conda-forge/linux-64::tornado-6.0.4-py37h8f50634_1\n",
            "  traitlets          conda-forge/linux-64::traitlets-4.3.3-py37hc8dfbb8_1\n",
            "  wcwidth            conda-forge/noarch::wcwidth-0.1.9-pyh9f0ad1d_0\n",
            "  webencodings       conda-forge/noarch::webencodings-0.5.1-py_1\n",
            "  werkzeug           conda-forge/noarch::werkzeug-1.0.1-pyh9f0ad1d_0\n",
            "  widgetsnbextension conda-forge/linux-64::widgetsnbextension-3.5.1-py37_0\n",
            "  wrapt              conda-forge/linux-64::wrapt-1.12.1-py37h8f50634_1\n",
            "  xgboost            conda-forge/linux-64::xgboost-1.0.2-py37h3340039_1\n",
            "  xorg-kbproto       conda-forge/linux-64::xorg-kbproto-1.0.7-h14c3975_1002\n",
            "  xorg-libice        conda-forge/linux-64::xorg-libice-1.0.10-h516909a_0\n",
            "  xorg-libsm         conda-forge/linux-64::xorg-libsm-1.2.3-h84519dc_1000\n",
            "  xorg-libx11        conda-forge/linux-64::xorg-libx11-1.6.9-h516909a_0\n",
            "  xorg-libxau        conda-forge/linux-64::xorg-libxau-1.0.9-h14c3975_0\n",
            "  xorg-libxdmcp      conda-forge/linux-64::xorg-libxdmcp-1.1.3-h516909a_0\n",
            "  xorg-libxext       conda-forge/linux-64::xorg-libxext-1.3.4-h516909a_0\n",
            "  xorg-libxrender    conda-forge/linux-64::xorg-libxrender-0.9.10-h516909a_1002\n",
            "  xorg-renderproto   conda-forge/linux-64::xorg-renderproto-0.11.1-h14c3975_1002\n",
            "  xorg-xextproto     conda-forge/linux-64::xorg-xextproto-7.3.0-h14c3975_1002\n",
            "  xorg-xproto        conda-forge/linux-64::xorg-xproto-7.0.31-h14c3975_1007\n",
            "  zeromq             conda-forge/linux-64::zeromq-4.3.2-he1b5a44_2\n",
            "  zipp               conda-forge/noarch::zipp-3.1.0-py_0\n",
            "  zstd               conda-forge/linux-64::zstd-1.4.4-h3b9ef0a_2\n",
            "\n",
            "The following packages will be UPDATED:\n",
            "\n",
            "  ca-certificates     pkgs/main::ca-certificates-2020.1.1-0 --> conda-forge::ca-certificates-2020.4.5.1-hecc5488_0\n",
            "  certifi              pkgs/main::certifi-2019.11.28-py37_0 --> conda-forge::certifi-2020.4.5.1-py37hc8dfbb8_0\n",
            "  conda                       pkgs/main::conda-4.8.2-py37_0 --> conda-forge::conda-4.8.3-py37hc8dfbb8_1\n",
            "  openssl              pkgs/main::openssl-1.1.1d-h7b6447c_4 --> conda-forge::openssl-1.1.1g-h516909a_0\n",
            "\n",
            "\n",
            "\n",
            "Downloading and Extracting Packages\n",
            "cairo-1.16.0         | 1.5 MB    | : 100% 1.0/1 [00:00<00:00,  8.92s/it]                 \n",
            "zipp-3.1.0           | 10 KB     | : 100% 1.0/1 [00:00<00:00, 27.16it/s]\n",
            "importlib-metadata-1 | 43 KB     | : 100% 1.0/1 [00:00<00:00, 21.03it/s]\n",
            "pyrsistent-0.16.0    | 89 KB     | : 100% 1.0/1 [00:00<00:00, 18.07it/s]\n",
            "libtiff-4.1.0        | 668 KB    | : 100% 1.0/1 [00:00<00:00,  5.94it/s]\n",
            "markdown-3.2.2       | 61 KB     | : 100% 1.0/1 [00:00<00:00, 13.21it/s]\n",
            "_py-xgboost-mutex-2. | 8 KB      | : 100% 1.0/1 [00:00<00:00, 23.70it/s]\n",
            "icu-58.2             | 22.6 MB   | : 100% 1.0/1 [00:03<00:00,  3.98s/it]               \n",
            "pthread-stubs-0.4    | 5 KB      | : 100% 1.0/1 [00:00<00:00, 25.11it/s]\n",
            "threadpoolctl-2.0.0  | 14 KB     | : 100% 1.0/1 [00:00<00:00, 23.50it/s]\n",
            "keras-applications-1 | 30 KB     | : 100% 1.0/1 [00:00<00:00, 13.28it/s]\n",
            "prompt-toolkit-3.0.5 | 232 KB    | : 100% 1.0/1 [00:00<00:00,  6.30it/s]\n",
            "conda-4.8.3          | 3.0 MB    | : 100% 1.0/1 [00:00<00:00,  1.32it/s]\n",
            "pcre-8.44            | 261 KB    | : 100% 1.0/1 [00:00<00:00,  9.88it/s]\n",
            "jpeg-9c              | 251 KB    | : 100% 1.0/1 [00:00<00:00,  9.86it/s]\n",
            "xgboost-1.0.2        | 11 KB     | : 100% 1.0/1 [00:00<00:00, 25.56it/s]\n",
            "expat-2.2.9          | 191 KB    | : 100% 1.0/1 [00:00<00:00, 13.85it/s]\n",
            "prometheus_client-0. | 38 KB     | : 100% 1.0/1 [00:00<00:00, 24.40it/s]\n",
            "xorg-libxau-1.0.9    | 13 KB     | : 100% 1.0/1 [00:00<00:00, 29.40it/s]\n",
            "libpng-1.6.37        | 308 KB    | : 100% 1.0/1 [00:00<00:00,  9.84it/s]\n",
            "matplotlib-3.1.2     | 5.0 MB    | : 100% 1.0/1 [00:00<00:00,  3.19s/it]                 \n",
            "numpy-1.18.4         | 5.2 MB    | : 100% 1.0/1 [00:01<00:00,  1.18s/it]\n",
            "pexpect-4.8.0        | 79 KB     | : 100% 1.0/1 [00:00<00:00, 17.16it/s]\n",
            "sip-4.19.8           | 290 KB    | : 100% 1.0/1 [00:00<00:00, 11.99it/s]\n",
            "termcolor-1.1.0      | 6 KB      | : 100% 1.0/1 [00:00<00:00, 28.95it/s]\n",
            "networkx-2.4         | 1.2 MB    | : 100% 1.0/1 [00:00<00:00,  2.49it/s]\n",
            "wrapt-1.12.1         | 46 KB     | : 100% 1.0/1 [00:00<00:00, 23.42it/s]\n",
            "zstd-1.4.4           | 982 KB    | : 100% 1.0/1 [00:00<00:00,  4.46it/s]\n",
            "xorg-xextproto-7.3.0 | 27 KB     | : 100% 1.0/1 [00:00<00:00, 22.63it/s]\n",
            "numexpr-2.7.1        | 197 KB    | : 100% 1.0/1 [00:00<00:00, 12.18it/s]\n",
            "notebook-6.0.3       | 6.3 MB    | : 100% 1.0/1 [00:01<00:00,  1.65s/it]\n",
            "pandoc-2.9.2.1       | 18.7 MB   | : 100% 1.0/1 [00:04<00:00,  5.21s/it]               \n",
            "backcall-0.1.0       | 13 KB     | : 100% 1.0/1 [00:00<00:00, 17.03it/s]\n",
            "defusedxml-0.6.0     | 22 KB     | : 100% 1.0/1 [00:00<00:00, 21.29it/s]\n",
            "packaging-20.4       | 32 KB     | : 100% 1.0/1 [00:00<00:00, 20.48it/s]\n",
            "openmm-7.4.1         | 11.9 MB   | : 100% 1.0/1 [00:03<00:00,  3.93s/it]                \n",
            "werkzeug-1.0.1       | 239 KB    | : 100% 1.0/1 [00:00<00:00, 10.40it/s]\n",
            "libprotobuf-3.11.4   | 4.8 MB    | : 100% 1.0/1 [00:01<00:00,  1.22s/it]\n",
            "jsonschema-3.2.0     | 89 KB     | : 100% 1.0/1 [00:00<00:00, 12.47it/s]\n",
            "ipykernel-5.3.0      | 164 KB    | : 100% 1.0/1 [00:00<00:00, 11.38it/s]\n",
            "ptyprocess-0.6.0     | 15 KB     | : 100% 1.0/1 [00:00<00:00, 28.94it/s]\n",
            "pickleshare-0.7.5    | 13 KB     | : 100% 1.0/1 [00:00<00:00, 22.03it/s]\n",
            "zeromq-4.3.2         | 668 KB    | : 100% 1.0/1 [00:00<00:00,  5.16it/s]\n",
            "hdf5-1.10.5          | 3.1 MB    | : 100% 1.0/1 [00:00<00:00,  1.73it/s]\n",
            "xorg-libxdmcp-1.1.3  | 18 KB     | : 100% 1.0/1 [00:00<00:00, 26.81it/s]\n",
            "libwebp-base-1.1.0   | 845 KB    | : 100% 1.0/1 [00:00<00:00,  4.78it/s]\n",
            "jupyter_core-4.6.3   | 71 KB     | : 100% 1.0/1 [00:00<00:00, 19.08it/s]\n",
            "libopenblas-0.3.7    | 7.6 MB    | : 100% 1.0/1 [00:01<00:00,  1.53s/it]\n",
            "libiconv-1.15        | 2.0 MB    | : 100% 1.0/1 [00:00<00:00,  3.18it/s]\n",
            "ipython_genutils-0.2 | 21 KB     | : 100% 1.0/1 [00:00<00:00, 19.97it/s]\n",
            "libcblas-3.8.0       | 10 KB     | : 100% 1.0/1 [00:00<00:00, 23.93it/s]\n",
            "xorg-xproto-7.0.31   | 72 KB     | : 100% 1.0/1 [00:00<00:00, 17.95it/s]\n",
            "jupyter_client-6.1.3 | 74 KB     | : 100% 1.0/1 [00:00<00:00, 16.89it/s]\n",
            "qt-5.9.7             | 85.9 MB   | : 100% 1.0/1 [00:17<00:00, 17.38s/it]               \n",
            "mdtraj-1.9.4         | 1.8 MB    | : 100% 1.0/1 [00:00<00:00,  2.63it/s]\n",
            "ipywidgets-7.5.1     | 101 KB    | : 100% 1.0/1 [00:00<00:00, 16.96it/s]\n",
            "gettext-0.19.8.1     | 3.6 MB    | : 100% 1.0/1 [00:00<00:00,  1.01it/s]\n",
            "xorg-renderproto-0.1 | 8 KB      | : 100% 1.0/1 [00:00<00:00, 21.11it/s]\n",
            "libxml2-2.9.9        | 1.3 MB    | : 100% 1.0/1 [00:00<00:00,  2.54it/s]              \n",
            "keras-preprocessing- | 33 KB     | : 100% 1.0/1 [00:00<00:00, 23.73it/s]\n",
            "glib-2.64.2          | 3.4 MB    | : 100% 1.0/1 [00:00<00:00,  1.17it/s]\n",
            "xorg-libice-1.0.10   | 57 KB     | : 100% 1.0/1 [00:00<00:00, 22.34it/s]\n",
            "fontconfig-2.13.1    | 327 KB    | : 100% 1.0/1 [00:00<00:00,  9.11it/s]\n",
            "send2trash-1.5.0     | 12 KB     | : 100% 1.0/1 [00:00<00:00, 25.29it/s]\n",
            "cudnn-7.6.5          | 179.9 MB  | : 100% 1.0/1 [00:04<00:00,  4.69s/it]               \n",
            "scikit-learn-0.23.1  | 6.8 MB    | : 100% 1.0/1 [00:01<00:00,  1.71s/it]\n",
            "openssl-1.1.1g       | 2.1 MB    | : 100% 1.0/1 [00:00<00:00,  2.54it/s]\n",
            "webencodings-0.5.1   | 12 KB     | : 100% 1.0/1 [00:00<00:00, 24.80it/s]\n",
            "xorg-kbproto-1.0.7   | 26 KB     | : 100% 1.0/1 [00:00<00:00, 20.51it/s]\n",
            "py-xgboost-1.0.2     | 2.2 MB    | : 100% 1.0/1 [00:00<00:00,  1.87it/s]\n",
            "ca-certificates-2020 | 146 KB    | : 100% 1.0/1 [00:00<00:00, 19.18it/s]\n",
            "qtpy-1.9.0           | 34 KB     | : 100% 1.0/1 [00:00<00:00, 23.13it/s]\n",
            "kiwisolver-1.2.0     | 87 KB     | : 100% 1.0/1 [00:00<00:00, 16.87it/s]\n",
            "cupti-10.1.168       | 1.4 MB    | : 100% 1.0/1 [00:00<00:00,  7.74it/s]\n",
            "jedi-0.17.0          | 807 KB    | : 100% 1.0/1 [00:00<00:00,  2.54it/s]\n",
            "pixman-0.38.0        | 594 KB    | : 100% 1.0/1 [00:00<00:00,  6.65it/s]\n",
            "xorg-libx11-1.6.9    | 918 KB    | : 100% 1.0/1 [00:00<00:00,  4.79it/s]\n",
            "simdna-0.4.2         | 627 KB    | : 100% 1.0/1 [00:00<00:00,  1.28it/s]               \n",
            "parso-0.7.0          | 67 KB     | : 100% 1.0/1 [00:00<00:00, 20.78it/s]\n",
            "traitlets-4.3.3      | 133 KB    | : 100% 1.0/1 [00:00<00:00, 14.90it/s]\n",
            "libuuid-2.32.1       | 26 KB     | : 100% 1.0/1 [00:00<00:00, 27.61it/s]\n",
            "astor-0.7.1          | 22 KB     | : 100% 1.0/1 [00:00<00:00, 26.84it/s]\n",
            "importlib_metadata-1 | 3 KB      | : 100% 1.0/1 [00:00<00:00, 26.06it/s]\n",
            "widgetsnbextension-3 | 1.8 MB    | : 100% 1.0/1 [00:00<00:00,  2.04it/s]\n",
            "libgfortran-ng-7.5.0 | 1.7 MB    | : 100% 1.0/1 [00:00<00:00,  2.54it/s]\n",
            "python_abi-3.7       | 4 KB      | : 100% 1.0/1 [00:00<00:00, 31.43it/s]\n",
            "rdkit-2020.03.2.0    | 24.8 MB   | : 100% 1.0/1 [00:05<00:00,  5.35s/it]                \n",
            "gst-plugins-base-1.1 | 6.8 MB    | : 100% 1.0/1 [00:01<00:00,  1.32s/it]\n",
            "snappy-1.1.8         | 39 KB     | : 100% 1.0/1 [00:00<00:00, 25.40it/s]\n",
            "tensorflow-gpu-1.14. | 3 KB      | : 100% 1.0/1 [00:00<00:00, 10.06it/s]\n",
            "libxcb-1.13          | 396 KB    | : 100% 1.0/1 [00:00<00:00,  5.75it/s]\n",
            "pyzmq-19.0.1         | 519 KB    | : 100% 1.0/1 [00:00<00:00,  5.79it/s]\n",
            "libxgboost-1.0.2     | 2.8 MB    | : 100% 1.0/1 [00:00<00:00,  1.85it/s]\n",
            "xorg-libsm-1.2.3     | 25 KB     | : 100% 1.0/1 [00:00<00:00, 22.49it/s]\n",
            "nbformat-5.0.6       | 99 KB     | : 100% 1.0/1 [00:00<00:00, 15.20it/s]\n",
            "lzo-2.10             | 319 KB    | : 100% 1.0/1 [00:00<00:00,  9.35it/s]\n",
            "protobuf-3.11.4      | 695 KB    | : 100% 1.0/1 [00:00<00:00,  3.66it/s]\n",
            "bzip2-1.0.8          | 396 KB    | : 100% 1.0/1 [00:00<00:00,  8.34it/s]\n",
            "libsodium-1.0.17     | 330 KB    | : 100% 1.0/1 [00:00<00:00,  9.71it/s]\n",
            "pygments-2.6.1       | 683 KB    | : 100% 1.0/1 [00:00<00:00,  4.46it/s]\n",
            "blosc-1.18.1         | 893 KB    | : 100% 1.0/1 [00:00<00:00,  5.35it/s]\n",
            "pytables-3.6.1       | 1.5 MB    | : 100% 1.0/1 [00:00<00:00,  2.47it/s]\n",
            "olefile-0.46         | 31 KB     | : 100% 1.0/1 [00:00<00:00, 26.66it/s]\n",
            "pillow-5.3.0         | 595 KB    | : 100% 1.0/1 [00:00<00:00,  5.96it/s]\n",
            "google-pasta-0.2.0   | 42 KB     | : 100% 1.0/1 [00:00<00:00, 10.56it/s]\n",
            "gstreamer-1.14.5     | 4.5 MB    | : 100% 1.0/1 [00:01<00:00,  1.05s/it]\n",
            "absl-py-0.9.0        | 162 KB    | : 100% 1.0/1 [00:00<00:00, 11.45it/s]\n",
            "tornado-6.0.4        | 639 KB    | : 100% 1.0/1 [00:00<00:00,  4.46it/s]\n",
            "pdbfixer-1.6         | 190 KB    | : 100% 1.0/1 [00:00<00:00,  1.44it/s]              \n",
            "py-boost-1.67.0      | 278 KB    | : 100% 1.0/1 [00:00<00:00,  8.48it/s]\n",
            "terminado-0.8.3      | 23 KB     | : 100% 1.0/1 [00:00<00:00, 27.13it/s]\n",
            "jupyter_console-6.1. | 21 KB     | : 100% 1.0/1 [00:00<00:00, 17.45it/s]\n",
            "lz4-c-1.8.3          | 187 KB    | : 100% 1.0/1 [00:00<00:00, 11.10it/s]\n",
            "tensorboard-1.14.0   | 3.2 MB    | : 100% 1.0/1 [00:00<00:00,  1.80it/s]\n",
            "cython-0.29.19       | 2.1 MB    | : 100% 1.0/1 [00:00<00:00,  1.72it/s]\n",
            "cudatoolkit-10.1.243 | 347.4 MB  | : 100% 1.0/1 [00:09<00:00,  9.05s/it]               \n",
            "bleach-3.1.5         | 112 KB    | : 100% 1.0/1 [00:00<00:00, 12.58it/s]\n",
            "decorator-4.4.2      | 11 KB     | : 100% 1.0/1 [00:00<00:00, 22.49it/s]\n",
            "tensorflow-estimator | 645 KB    | : 100% 1.0/1 [00:00<00:00,  3.60it/s]\n",
            "certifi-2020.4.5.1   | 151 KB    | : 100% 1.0/1 [00:00<00:00, 17.31it/s]\n",
            "xorg-libxrender-0.9. | 31 KB     | : 100% 1.0/1 [00:00<00:00, 22.25it/s]\n",
            "mistune-0.8.4        | 53 KB     | : 100% 1.0/1 [00:00<00:00, 17.04it/s]\n",
            "qtconsole-4.7.4      | 88 KB     | : 100% 1.0/1 [00:00<00:00, 14.94it/s]\n",
            "pyparsing-2.4.7      | 60 KB     | : 100% 1.0/1 [00:00<00:00, 21.18it/s]\n",
            "attrs-19.3.0         | 35 KB     | : 100% 1.0/1 [00:00<00:00, 22.48it/s]\n",
            "prompt_toolkit-3.0.5 | 4 KB      | : 100% 1.0/1 [00:00<00:00, 27.68it/s]\n",
            "libboost-1.67.0      | 13.0 MB   | : 100% 1.0/1 [00:02<00:00,  3.21s/it]               \n",
            "pandas-1.0.3         | 11.1 MB   | : 100% 1.0/1 [00:04<00:00,  4.03s/it]              \n",
            "liblapack-3.8.0      | 10 KB     | : 100% 1.0/1 [00:00<00:00, 17.39it/s]\n",
            "jupyter-1.0.0        | 4 KB      | : 100% 1.0/1 [00:00<00:00, 30.84it/s]\n",
            "c-ares-1.15.0        | 100 KB    | : 100% 1.0/1 [00:00<00:00, 17.87it/s]\n",
            "gast-0.3.3           | 12 KB     | : 100% 1.0/1 [00:00<00:00, 21.65it/s]\n",
            "fftw3f-3.3.4         | 1.2 MB    | : 100% 1.0/1 [00:00<00:00, 18.55s/it]                \n",
            "grpcio-1.23.0        | 1.1 MB    | : 100% 1.0/1 [00:00<00:00,  3.71it/s]\n",
            "h5py-2.10.0          | 1.2 MB    | : 100% 1.0/1 [00:00<00:00,  2.82it/s]\n",
            "markupsafe-1.1.1     | 26 KB     | : 100% 1.0/1 [00:00<00:00, 20.41it/s]\n",
            "_tflow_select-2.1.0  | 2 KB      | : 100% 1.0/1 [00:00<00:00, 11.14it/s]\n",
            "dbus-1.13.6          | 602 KB    | : 100% 1.0/1 [00:00<00:00,  5.22it/s]\n",
            "python-dateutil-2.8. | 220 KB    | : 100% 1.0/1 [00:00<00:00, 15.58it/s]\n",
            "ipython-7.14.0       | 1.1 MB    | : 100% 1.0/1 [00:00<00:00,  2.71it/s]\n",
            "joblib-0.15.1        | 202 KB    | : 100% 1.0/1 [00:00<00:00,  9.13it/s]\n",
            "nbconvert-5.6.1      | 487 KB    | : 100% 1.0/1 [00:00<00:00,  5.54it/s]\n",
            "mock-4.0.2           | 51 KB     | : 100% 1.0/1 [00:00<00:00, 22.95it/s]\n",
            "deepchem-gpu-2.3.0   | 2.1 MB    | : 100% 1.0/1 [00:01<00:00, 23.08s/it]                \n",
            "xorg-libxext-1.3.4   | 51 KB     | : 100% 1.0/1 [00:00<00:00, 19.72it/s]\n",
            "pyqt-5.9.2           | 5.7 MB    | : 100% 1.0/1 [00:01<00:00,  1.65s/it]\n",
            "tensorflow-base-1.14 | 146.3 MB  | : 100% 1.0/1 [00:22<00:00, 22.62s/it]               \n",
            "libblas-3.8.0        | 10 KB     | : 100% 1.0/1 [00:00<00:00,  1.21it/s]\n",
            "pytz-2020.1          | 227 KB    | : 100% 1.0/1 [00:00<00:00,  5.83it/s]\n",
            "wcwidth-0.1.9        | 20 KB     | : 100% 1.0/1 [00:00<00:00, 26.75it/s]\n",
            "pandocfilters-1.4.2  | 9 KB      | : 100% 1.0/1 [00:00<00:00, 28.53it/s]\n",
            "cycler-0.10.0        | 9 KB      | : 100% 1.0/1 [00:00<00:00, 28.78it/s]\n",
            "scipy-1.4.1          | 18.8 MB   | : 100% 1.0/1 [00:03<00:00,  3.86s/it]               \n",
            "tensorflow-1.14.0    | 4 KB      | : 100% 1.0/1 [00:00<00:00,  9.99it/s]\n",
            "freetype-2.10.2      | 905 KB    | : 100% 1.0/1 [00:00<00:00,  5.01it/s]\n",
            "testpath-0.4.4       | 85 KB     | : 100% 1.0/1 [00:00<00:00, 23.81it/s]\n",
            "entrypoints-0.3      | 12 KB     | : 100% 1.0/1 [00:00<00:00, 25.16it/s]\n",
            "jinja2-2.11.2        | 93 KB     | : 100% 1.0/1 [00:00<00:00, 17.99it/s]\n",
            "Preparing transaction: | \b\b/ \b\b- \b\b\\ \b\b| \b\b/ \b\b- \b\b\\ \b\b| \b\b/ \b\b- \b\b\\ \b\b| \b\b/ \b\b- \b\b\\ \b\b| \b\b/ \b\b- \b\b\\ \b\b| \b\b/ \b\b- \b\b\\ \b\b| \b\bdone\n",
            "Verifying transaction: - \b\b\\ \b\b| \b\b/ \b\b- \b\b\\ \b\b| \b\b/ \b\b- \b\b\\ \b\b| \b\b/ \b\b- \b\b\\ \b\b| \b\b/ \b\b- \b\b\\ \b\b| \b\b/ \b\b- \b\b\\ \b\b| \b\b/ \b\b- \b\b\\ \b\b| \b\b/ \b\b- \b\b\\ \b\b| \b\b/ \b\b- \b\b\\ \b\b| \b\b/ \b\b- \b\b\\ \b\b| \b\b/ \b\b- \b\b\\ \b\b| \b\b/ \b\b- \b\b\\ \b\b| \b\b/ \b\b- \b\b\\ \b\b| \b\b/ \b\b- \b\b\\ \b\b| \b\b/ \b\b- \b\b\\ \b\b| \b\b/ \b\b- \b\b\\ \b\b| \b\b/ \b\b- \b\b\\ \b\b| \b\b/ \b\b- \b\bdone\n",
            "Executing transaction: | \b\b/ \b\b- \b\b\\ \b\b| \b\b/ \b\b- \b\b\\ \b\b| \b\b/ \b\b- \b\b\\ \b\b| \b\b/ \b\b- \b\b\\ \b\b| \b\b/ \b\b- \b\b\\ \b\b| \b\b/ \b\b- \b\b\\ \b\b| \b\b/ \b\b- \b\b\\ \b\b| \b\b/ \b\b- \b\b\\ \b\b| \b\b/ \b\b- \b\b\\ \b\b| \b\b/ \b\b- \b\b\\ \b\b| \b\b/ \b\b- \b\b\\ \b\b| b'Enabling notebook extension jupyter-js-widgets/extension...\\nPaths used for configuration of notebook: \\n    \\t/usr/local/etc/jupyter/nbconfig/notebook.d/plotlywidget.json\\n    \\t/usr/local/etc/jupyter/nbconfig/notebook.d/widgetsnbextension.json\\n    \\t/usr/local/etc/jupyter/nbconfig/notebook.json\\nPaths used for configuration of notebook: \\n    \\t/usr/local/etc/jupyter/nbconfig/notebook.d/plotlywidget.json\\n    \\t/usr/local/etc/jupyter/nbconfig/notebook.d/widgetsnbextension.json\\n      - Validating: \\x1b[32mOK\\x1b[0m\\nPaths used for configuration of notebook: \\n    \\t/usr/local/etc/jupyter/nbconfig/notebook.d/plotlywidget.json\\n    \\t/usr/local/etc/jupyter/nbconfig/notebook.d/widgetsnbextension.json\\n    \\t/usr/local/etc/jupyter/nbconfig/notebook.json\\n'\n",
            "\b\b/ \b\b- \b\b\\ \b\b| \b\b/ \b\b- \b\b\\ \b\b| \b\b/ \b\b- \b\b\\ \b\b| \b\b/ \b\b- \b\b\\ \b\b| \b\b/ \b\b- \b\b\\ \b\b| \b\b/ \b\b- \b\b\\ \b\b| \b\b/ \b\b- \b\b\\ \b\b| \b\b/ \b\b- \b\b\\ \b\b| \b\b/ \b\b- \b\b\\ \b\b| \b\b/ \b\b- \b\b\\ \b\b| \b\b/ \b\b- \b\b\\ \b\b| \b\b/ \b\b- \b\b\\ \b\b| \b\b/ \b\b- \b\b\\ \b\b| \b\b/ \b\b- \b\b\\ \b\b| \b\b/ \b\b- \b\b\\ \b\b| \b\b/ \b\b- \b\bdone\n"
          ],
          "name": "stdout"
        }
      ]
    },
    {
      "cell_type": "code",
      "metadata": {
        "id": "vjmWGAsPIX0k",
        "colab_type": "code",
        "outputId": "94a6f7ba-263d-4a23-ae17-9704634db86b",
        "colab": {
          "base_uri": "https://localhost:8080/",
          "height": 231
        }
      },
      "source": [
        "import tensorflow as tf\n",
        "print(\"tf.__version__: %s\" % str(tf.__version__))\n",
        "device_name = tf.test.gpu_device_name()\n",
        "if not device_name:\n",
        "  raise SystemError('GPU device not found')\n",
        "print('Found GPU at: {}'.format(device_name))"
      ],
      "execution_count": 2,
      "outputs": [
        {
          "output_type": "stream",
          "text": [
            "tf.__version__: 2.2.0\n"
          ],
          "name": "stdout"
        },
        {
          "output_type": "error",
          "ename": "SystemError",
          "evalue": "ignored",
          "traceback": [
            "\u001b[0;31m---------------------------------------------------------------------------\u001b[0m",
            "\u001b[0;31mSystemError\u001b[0m                               Traceback (most recent call last)",
            "\u001b[0;32m<ipython-input-2-7c1227d29e25>\u001b[0m in \u001b[0;36m<module>\u001b[0;34m()\u001b[0m\n\u001b[1;32m      3\u001b[0m \u001b[0mdevice_name\u001b[0m \u001b[0;34m=\u001b[0m \u001b[0mtf\u001b[0m\u001b[0;34m.\u001b[0m\u001b[0mtest\u001b[0m\u001b[0;34m.\u001b[0m\u001b[0mgpu_device_name\u001b[0m\u001b[0;34m(\u001b[0m\u001b[0;34m)\u001b[0m\u001b[0;34m\u001b[0m\u001b[0;34m\u001b[0m\u001b[0m\n\u001b[1;32m      4\u001b[0m \u001b[0;32mif\u001b[0m \u001b[0;32mnot\u001b[0m \u001b[0mdevice_name\u001b[0m\u001b[0;34m:\u001b[0m\u001b[0;34m\u001b[0m\u001b[0;34m\u001b[0m\u001b[0m\n\u001b[0;32m----> 5\u001b[0;31m   \u001b[0;32mraise\u001b[0m \u001b[0mSystemError\u001b[0m\u001b[0;34m(\u001b[0m\u001b[0;34m'GPU device not found'\u001b[0m\u001b[0;34m)\u001b[0m\u001b[0;34m\u001b[0m\u001b[0;34m\u001b[0m\u001b[0m\n\u001b[0m\u001b[1;32m      6\u001b[0m \u001b[0mprint\u001b[0m\u001b[0;34m(\u001b[0m\u001b[0;34m'Found GPU at: {}'\u001b[0m\u001b[0;34m.\u001b[0m\u001b[0mformat\u001b[0m\u001b[0;34m(\u001b[0m\u001b[0mdevice_name\u001b[0m\u001b[0;34m)\u001b[0m\u001b[0;34m)\u001b[0m\u001b[0;34m\u001b[0m\u001b[0;34m\u001b[0m\u001b[0m\n",
            "\u001b[0;31mSystemError\u001b[0m: GPU device not found"
          ]
        }
      ]
    },
    {
      "cell_type": "code",
      "metadata": {
        "id": "S49EDLC9IeR9",
        "colab_type": "code",
        "outputId": "5a348464-2775-4150-d372-79f18a70a81a",
        "colab": {
          "base_uri": "https://localhost:8080/",
          "height": 136
        }
      },
      "source": [
        "!git clone https://github.com/deepchem/deepchem.git"
      ],
      "execution_count": 3,
      "outputs": [
        {
          "output_type": "stream",
          "text": [
            "Cloning into 'deepchem'...\n",
            "remote: Enumerating objects: 21, done.\u001b[K\n",
            "remote: Counting objects:   4% (1/21)\u001b[K\rremote: Counting objects:   9% (2/21)\u001b[K\rremote: Counting objects:  14% (3/21)\u001b[K\rremote: Counting objects:  19% (4/21)\u001b[K\rremote: Counting objects:  23% (5/21)\u001b[K\rremote: Counting objects:  28% (6/21)\u001b[K\rremote: Counting objects:  33% (7/21)\u001b[K\rremote: Counting objects:  38% (8/21)\u001b[K\rremote: Counting objects:  42% (9/21)\u001b[K\rremote: Counting objects:  47% (10/21)\u001b[K\rremote: Counting objects:  52% (11/21)\u001b[K\rremote: Counting objects:  57% (12/21)\u001b[K\rremote: Counting objects:  61% (13/21)\u001b[K\rremote: Counting objects:  66% (14/21)\u001b[K\rremote: Counting objects:  71% (15/21)\u001b[K\rremote: Counting objects:  76% (16/21)\u001b[K\rremote: Counting objects:  80% (17/21)\u001b[K\rremote: Counting objects:  85% (18/21)\u001b[K\rremote: Counting objects:  90% (19/21)\u001b[K\rremote: Counting objects:  95% (20/21)\u001b[K\rremote: Counting objects: 100% (21/21)\u001b[K\rremote: Counting objects: 100% (21/21), done.\u001b[K\n",
            "remote: Compressing objects: 100% (21/21), done.\u001b[K\n",
            "remote: Total 31353 (delta 2), reused 4 (delta 0), pack-reused 31332\u001b[K\n",
            "Receiving objects: 100% (31353/31353), 438.00 MiB | 35.98 MiB/s, done.\n",
            "Resolving deltas: 100% (23127/23127), done.\n"
          ],
          "name": "stdout"
        }
      ]
    },
    {
      "cell_type": "code",
      "metadata": {
        "id": "eVANNwVGIsCD",
        "colab_type": "code",
        "outputId": "721eb97e-2bfe-4d1f-fefd-c91dc6d06036",
        "colab": {
          "base_uri": "https://localhost:8080/",
          "height": 34
        }
      },
      "source": [
        "%cd deepchem/"
      ],
      "execution_count": 4,
      "outputs": [
        {
          "output_type": "stream",
          "text": [
            "/content/deepchem\n"
          ],
          "name": "stdout"
        }
      ]
    },
    {
      "cell_type": "code",
      "metadata": {
        "id": "r1W63OsPIwQQ",
        "colab_type": "code",
        "outputId": "6edc1da1-e799-474a-c9d9-2cca31379d6e",
        "colab": {
          "base_uri": "https://localhost:8080/",
          "height": 1000
        }
      },
      "source": [
        "!python setup.py install"
      ],
      "execution_count": 5,
      "outputs": [
        {
          "output_type": "stream",
          "text": [
            "\u001b[?25l\r\u001b[K     |███                             | 10 kB 21.1 MB/s eta 0:00:01\r\u001b[K     |██████                          | 20 kB 2.2 MB/s eta 0:00:01\r\u001b[K     |█████████                       | 30 kB 2.9 MB/s eta 0:00:01\r\u001b[K     |████████████                    | 40 kB 3.2 MB/s eta 0:00:01\r\u001b[K     |██████████████▉                 | 51 kB 2.6 MB/s eta 0:00:01\r\u001b[K     |█████████████████▉              | 61 kB 2.9 MB/s eta 0:00:01\r\u001b[K     |████████████████████▉           | 71 kB 3.1 MB/s eta 0:00:01\r\u001b[K     |███████████████████████▉        | 81 kB 3.5 MB/s eta 0:00:01\r\u001b[K     |██████████████████████████▊     | 92 kB 3.6 MB/s eta 0:00:01\r\u001b[K     |█████████████████████████████▊  | 102 kB 3.5 MB/s eta 0:00:01\r\u001b[K     |████████████████████████████████| 110 kB 3.5 MB/s \n",
            "\u001b[?25hrunning install\n",
            "[pbr] Writing ChangeLog\n",
            "[pbr] Generating ChangeLog\n",
            "[pbr] ChangeLog complete (0.1s)\n",
            "[pbr] Generating AUTHORS\n",
            "[pbr] AUTHORS complete (0.2s)\n",
            "running build\n",
            "running build_py\n",
            "creating build\n",
            "creating build/lib\n",
            "creating build/lib/deepchem\n",
            "creating build/lib/deepchem/molnet\n",
            "creating build/lib/deepchem/molnet/tests\n",
            "copying deepchem/molnet/tests/test_dnasim.py -> build/lib/deepchem/molnet/tests\n",
            "copying deepchem/molnet/tests/__init__.py -> build/lib/deepchem/molnet/tests\n",
            "copying deepchem/molnet/tests/test_molnet.py -> build/lib/deepchem/molnet/tests\n",
            "creating build/lib/deepchem/dock\n",
            "creating build/lib/deepchem/dock/tests\n",
            "copying deepchem/dock/tests/test_binding_pocket.py -> build/lib/deepchem/dock/tests\n",
            "copying deepchem/dock/tests/test_pose_scoring.py -> build/lib/deepchem/dock/tests\n",
            "copying deepchem/dock/tests/__init__.py -> build/lib/deepchem/dock/tests\n",
            "copying deepchem/dock/tests/test_docking.py -> build/lib/deepchem/dock/tests\n",
            "copying deepchem/dock/tests/test_pose_generation.py -> build/lib/deepchem/dock/tests\n",
            "creating build/lib/deepchem/models\n",
            "creating build/lib/deepchem/models/tests\n",
            "copying deepchem/models/tests/test_multitask.py -> build/lib/deepchem/models/tests\n",
            "copying deepchem/models/tests/test_predict.py -> build/lib/deepchem/models/tests\n",
            "copying deepchem/models/tests/test_kerasmodel.py -> build/lib/deepchem/models/tests\n",
            "copying deepchem/models/tests/test_generalize.py -> build/lib/deepchem/models/tests\n",
            "copying deepchem/models/tests/test_singletask_to_multitask.py -> build/lib/deepchem/models/tests\n",
            "copying deepchem/models/tests/test_gan.py -> build/lib/deepchem/models/tests\n",
            "copying deepchem/models/tests/test_overfit.py -> build/lib/deepchem/models/tests\n",
            "copying deepchem/models/tests/__init__.py -> build/lib/deepchem/models/tests\n",
            "copying deepchem/models/tests/test_api.py -> build/lib/deepchem/models/tests\n",
            "copying deepchem/models/tests/test_textcnnmodel.py -> build/lib/deepchem/models/tests\n",
            "copying deepchem/models/tests/test_callbacks.py -> build/lib/deepchem/models/tests\n",
            "copying deepchem/models/tests/test_chemnet_models.py -> build/lib/deepchem/models/tests\n",
            "copying deepchem/models/tests/test_optimizers.py -> build/lib/deepchem/models/tests\n",
            "copying deepchem/models/tests/test_reload.py -> build/lib/deepchem/models/tests\n",
            "copying deepchem/models/tests/test_graph_models.py -> build/lib/deepchem/models/tests\n",
            "copying deepchem/models/tests/test_scscore.py -> build/lib/deepchem/models/tests\n",
            "copying deepchem/models/tests/test_layers_from_config.py -> build/lib/deepchem/models/tests\n",
            "copying deepchem/models/tests/test_seqtoseq.py -> build/lib/deepchem/models/tests\n",
            "copying deepchem/models/tests/test_atomic_conv.py -> build/lib/deepchem/models/tests\n",
            "copying deepchem/models/tests/test_pretrained.py -> build/lib/deepchem/models/tests\n",
            "copying deepchem/models/tests/test_layers.py -> build/lib/deepchem/models/tests\n",
            "copying deepchem/models/tests/test_cnn.py -> build/lib/deepchem/models/tests\n",
            "creating build/lib/deepchem/metrics\n",
            "creating build/lib/deepchem/metrics/tests\n",
            "copying deepchem/metrics/tests/test_genomics.py -> build/lib/deepchem/metrics/tests\n",
            "copying deepchem/metrics/tests/__init__.py -> build/lib/deepchem/metrics/tests\n",
            "copying deepchem/metrics/tests/metrics_test.py -> build/lib/deepchem/metrics/tests\n",
            "creating build/lib/deepchem/models/sklearn_models\n",
            "copying deepchem/models/sklearn_models/__init__.py -> build/lib/deepchem/models/sklearn_models\n",
            "creating build/lib/deepchem/molnet/load_function\n",
            "copying deepchem/molnet/load_function/tox21_datasets.py -> build/lib/deepchem/molnet/load_function\n",
            "copying deepchem/molnet/load_function/qm7_datasets.py -> build/lib/deepchem/molnet/load_function\n",
            "copying deepchem/molnet/load_function/bbbc_datasets.py -> build/lib/deepchem/molnet/load_function\n",
            "copying deepchem/molnet/load_function/kaggle_datasets.py -> build/lib/deepchem/molnet/load_function\n",
            "copying deepchem/molnet/load_function/hiv_datasets.py -> build/lib/deepchem/molnet/load_function\n",
            "copying deepchem/molnet/load_function/pcba_datasets.py -> build/lib/deepchem/molnet/load_function\n",
            "copying deepchem/molnet/load_function/lipo_datasets.py -> build/lib/deepchem/molnet/load_function\n",
            "copying deepchem/molnet/load_function/bbbp_datasets.py -> build/lib/deepchem/molnet/load_function\n",
            "copying deepchem/molnet/load_function/sampl_datasets.py -> build/lib/deepchem/molnet/load_function\n",
            "copying deepchem/molnet/load_function/toxcast_datasets.py -> build/lib/deepchem/molnet/load_function\n",
            "copying deepchem/molnet/load_function/uspto_datasets.py -> build/lib/deepchem/molnet/load_function\n",
            "copying deepchem/molnet/load_function/clintox_datasets.py -> build/lib/deepchem/molnet/load_function\n",
            "copying deepchem/molnet/load_function/chembl_datasets.py -> build/lib/deepchem/molnet/load_function\n",
            "copying deepchem/molnet/load_function/clearance_datasets.py -> build/lib/deepchem/molnet/load_function\n",
            "copying deepchem/molnet/load_function/bace_datasets.py -> build/lib/deepchem/molnet/load_function\n",
            "copying deepchem/molnet/load_function/__init__.py -> build/lib/deepchem/molnet/load_function\n",
            "copying deepchem/molnet/load_function/chembl25_datasets.py -> build/lib/deepchem/molnet/load_function\n",
            "copying deepchem/molnet/load_function/kinase_datasets.py -> build/lib/deepchem/molnet/load_function\n",
            "copying deepchem/molnet/load_function/uv_tasks.py -> build/lib/deepchem/molnet/load_function\n",
            "copying deepchem/molnet/load_function/muv_datasets.py -> build/lib/deepchem/molnet/load_function\n",
            "copying deepchem/molnet/load_function/delaney_datasets.py -> build/lib/deepchem/molnet/load_function\n",
            "copying deepchem/molnet/load_function/kaggle_features.py -> build/lib/deepchem/molnet/load_function\n",
            "copying deepchem/molnet/load_function/hppb_datasets.py -> build/lib/deepchem/molnet/load_function\n",
            "copying deepchem/molnet/load_function/pdbbind_datasets.py -> build/lib/deepchem/molnet/load_function\n",
            "copying deepchem/molnet/load_function/factors_datasets.py -> build/lib/deepchem/molnet/load_function\n",
            "copying deepchem/molnet/load_function/cell_counting_datasets.py -> build/lib/deepchem/molnet/load_function\n",
            "copying deepchem/molnet/load_function/qm9_datasets.py -> build/lib/deepchem/molnet/load_function\n",
            "copying deepchem/molnet/load_function/thermosol_datasets.py -> build/lib/deepchem/molnet/load_function\n",
            "copying deepchem/molnet/load_function/qm8_datasets.py -> build/lib/deepchem/molnet/load_function\n",
            "copying deepchem/molnet/load_function/sweetlead_datasets.py -> build/lib/deepchem/molnet/load_function\n",
            "copying deepchem/molnet/load_function/hopv_datasets.py -> build/lib/deepchem/molnet/load_function\n",
            "copying deepchem/molnet/load_function/uv_datasets.py -> build/lib/deepchem/molnet/load_function\n",
            "copying deepchem/molnet/load_function/sider_datasets.py -> build/lib/deepchem/molnet/load_function\n",
            "copying deepchem/molnet/load_function/bace_features.py -> build/lib/deepchem/molnet/load_function\n",
            "copying deepchem/molnet/load_function/nci_datasets.py -> build/lib/deepchem/molnet/load_function\n",
            "copying deepchem/molnet/load_function/chembl_tasks.py -> build/lib/deepchem/molnet/load_function\n",
            "copying deepchem/molnet/load_function/ppb_datasets.py -> build/lib/deepchem/molnet/load_function\n",
            "creating build/lib/deepchem/splits\n",
            "creating build/lib/deepchem/splits/tests\n",
            "copying deepchem/splits/tests/__init__.py -> build/lib/deepchem/splits/tests\n",
            "copying deepchem/splits/tests/test_splitter.py -> build/lib/deepchem/splits/tests\n",
            "copying deepchem/splits/tests/test_task_splitter.py -> build/lib/deepchem/splits/tests\n",
            "copying deepchem/splits/test_specified_index_splitter.py -> build/lib/deepchem/splits\n",
            "copying deepchem/splits/__init__.py -> build/lib/deepchem/splits\n",
            "copying deepchem/splits/test_scaffold_splitter.py -> build/lib/deepchem/splits\n",
            "copying deepchem/splits/splitters.py -> build/lib/deepchem/splits\n",
            "copying deepchem/splits/task_splitter.py -> build/lib/deepchem/splits\n",
            "creating build/lib/deepchem/data\n",
            "creating build/lib/deepchem/data/tests\n",
            "copying deepchem/data/tests/test_load.py -> build/lib/deepchem/data/tests\n",
            "copying deepchem/data/tests/__init__.py -> build/lib/deepchem/data/tests\n",
            "copying deepchem/data/tests/test_shuffle.py -> build/lib/deepchem/data/tests\n",
            "copying deepchem/data/tests/test_merge.py -> build/lib/deepchem/data/tests\n",
            "copying deepchem/data/tests/test_reload.py -> build/lib/deepchem/data/tests\n",
            "copying deepchem/data/tests/test_data_loader.py -> build/lib/deepchem/data/tests\n",
            "copying deepchem/data/tests/test_drop.py -> build/lib/deepchem/data/tests\n",
            "copying deepchem/data/tests/test_support_generator.py -> build/lib/deepchem/data/tests\n",
            "copying deepchem/data/tests/test_datasets.py -> build/lib/deepchem/data/tests\n",
            "copying deepchem/data/tests/test_csv_loader.py -> build/lib/deepchem/data/tests\n",
            "copying deepchem/data/tests/test_image_loader.py -> build/lib/deepchem/data/tests\n",
            "copying deepchem/data/tests/test_fasta_loader.py -> build/lib/deepchem/data/tests\n",
            "copying deepchem/data/tests/test_image_dataset.py -> build/lib/deepchem/data/tests\n",
            "creating build/lib/deepchem/hyper\n",
            "creating build/lib/deepchem/hyper/tests\n",
            "copying deepchem/hyper/tests/__init__.py -> build/lib/deepchem/hyper/tests\n",
            "copying deepchem/hyper/tests/test_hyperparam_opt.py -> build/lib/deepchem/hyper/tests\n",
            "creating build/lib/deepchem/feat\n",
            "creating build/lib/deepchem/feat/tests\n",
            "copying deepchem/feat/tests/test_fingerprints.py -> build/lib/deepchem/feat/tests\n",
            "copying deepchem/feat/tests/test_smiles_featurizers.py -> build/lib/deepchem/feat/tests\n",
            "copying deepchem/feat/tests/__init__.py -> build/lib/deepchem/feat/tests\n",
            "copying deepchem/feat/tests/test_one_hot.py -> build/lib/deepchem/feat/tests\n",
            "copying deepchem/feat/tests/test_coulomb_matrices.py -> build/lib/deepchem/feat/tests\n",
            "copying deepchem/feat/tests/test_features.py -> build/lib/deepchem/feat/tests\n",
            "copying deepchem/feat/tests/test_basic.py -> build/lib/deepchem/feat/tests\n",
            "copying deepchem/feat/tests/test_sdf_reader.py -> build/lib/deepchem/feat/tests\n",
            "copying deepchem/feat/tests/test_atomic_coordinates.py -> build/lib/deepchem/feat/tests\n",
            "copying deepchem/feat/tests/test_binding_pocket_features.py -> build/lib/deepchem/feat/tests\n",
            "copying deepchem/feat/tests/test_convmol.py -> build/lib/deepchem/feat/tests\n",
            "copying deepchem/feat/tests/test_mol_graphs.py -> build/lib/deepchem/feat/tests\n",
            "copying deepchem/feat/tests/test_graph_features.py -> build/lib/deepchem/feat/tests\n",
            "copying deepchem/feat/tests/test_rdkit_grid_features.py -> build/lib/deepchem/feat/tests\n",
            "copying deepchem/dock/pose_generation.py -> build/lib/deepchem/dock\n",
            "copying deepchem/dock/pose_scoring.py -> build/lib/deepchem/dock\n",
            "copying deepchem/dock/__init__.py -> build/lib/deepchem/dock\n",
            "copying deepchem/dock/docking.py -> build/lib/deepchem/dock\n",
            "copying deepchem/dock/binding_pocket.py -> build/lib/deepchem/dock\n",
            "copying deepchem/__init__.py -> build/lib/deepchem\n",
            "creating build/lib/deepchem/rl\n",
            "copying deepchem/rl/ppo.py -> build/lib/deepchem/rl\n",
            "copying deepchem/rl/__init__.py -> build/lib/deepchem/rl\n",
            "copying deepchem/rl/a2c.py -> build/lib/deepchem/rl\n",
            "creating build/lib/deepchem/utils\n",
            "creating build/lib/deepchem/utils/test\n",
            "copying deepchem/utils/test/test_rdkit_util.py -> build/lib/deepchem/utils/test\n",
            "copying deepchem/utils/test/__init__.py -> build/lib/deepchem/utils/test\n",
            "copying deepchem/utils/test/test_seq.py -> build/lib/deepchem/utils/test\n",
            "copying deepchem/utils/test/test_geometry_utils.py -> build/lib/deepchem/utils/test\n",
            "copying deepchem/utils/test/test_voxel_utils.py -> build/lib/deepchem/utils/test\n",
            "copying deepchem/utils/test/test_generator_evaluator.py -> build/lib/deepchem/utils/test\n",
            "copying deepchem/utils/test/test_coordinate_box_utils.py -> build/lib/deepchem/utils/test\n",
            "copying deepchem/utils/test/test_hash_utils.py -> build/lib/deepchem/utils/test\n",
            "copying deepchem/metrics/genomic_metrics.py -> build/lib/deepchem/metrics\n",
            "copying deepchem/metrics/__init__.py -> build/lib/deepchem/metrics\n",
            "copying deepchem/feat/adjacency_fingerprints.py -> build/lib/deepchem/feat\n",
            "copying deepchem/feat/fingerprints.py -> build/lib/deepchem/feat\n",
            "copying deepchem/feat/__init__.py -> build/lib/deepchem/feat\n",
            "copying deepchem/feat/basic.py -> build/lib/deepchem/feat\n",
            "copying deepchem/feat/graph_features.py -> build/lib/deepchem/feat\n",
            "copying deepchem/feat/coulomb_matrices.py -> build/lib/deepchem/feat\n",
            "copying deepchem/feat/binding_pocket_features.py -> build/lib/deepchem/feat\n",
            "copying deepchem/feat/atomic_coordinates.py -> build/lib/deepchem/feat\n",
            "copying deepchem/feat/one_hot.py -> build/lib/deepchem/feat\n",
            "copying deepchem/feat/base_classes.py -> build/lib/deepchem/feat\n",
            "copying deepchem/feat/rdkit_grid_featurizer.py -> build/lib/deepchem/feat\n",
            "copying deepchem/feat/smiles_featurizers.py -> build/lib/deepchem/feat\n",
            "copying deepchem/feat/raw_featurizer.py -> build/lib/deepchem/feat\n",
            "copying deepchem/feat/mol_graphs.py -> build/lib/deepchem/feat\n",
            "creating build/lib/deepchem/rl/envs\n",
            "copying deepchem/rl/envs/tictactoe.py -> build/lib/deepchem/rl/envs\n",
            "copying deepchem/rl/envs/__init__.py -> build/lib/deepchem/rl/envs\n",
            "copying deepchem/rl/envs/test_tictactoe.py -> build/lib/deepchem/rl/envs\n",
            "creating build/lib/deepchem/trans\n",
            "copying deepchem/trans/__init__.py -> build/lib/deepchem/trans\n",
            "copying deepchem/trans/transformers.py -> build/lib/deepchem/trans\n",
            "copying deepchem/utils/geometry_utils.py -> build/lib/deepchem/utils\n",
            "copying deepchem/utils/hash_utils.py -> build/lib/deepchem/utils\n",
            "copying deepchem/utils/rdkit_util.py -> build/lib/deepchem/utils\n",
            "copying deepchem/utils/save.py -> build/lib/deepchem/utils\n",
            "copying deepchem/utils/coordinate_box_utils.py -> build/lib/deepchem/utils\n",
            "copying deepchem/utils/__init__.py -> build/lib/deepchem/utils\n",
            "copying deepchem/utils/genomics.py -> build/lib/deepchem/utils\n",
            "copying deepchem/utils/conformers.py -> build/lib/deepchem/utils\n",
            "copying deepchem/utils/evaluate.py -> build/lib/deepchem/utils\n",
            "copying deepchem/utils/mol_xyz_util.py -> build/lib/deepchem/utils\n",
            "copying deepchem/utils/voxel_utils.py -> build/lib/deepchem/utils\n",
            "copying deepchem/hyper/gaussian_process.py -> build/lib/deepchem/hyper\n",
            "copying deepchem/hyper/grid_search.py -> build/lib/deepchem/hyper\n",
            "copying deepchem/hyper/__init__.py -> build/lib/deepchem/hyper\n",
            "creating build/lib/deepchem/metalearning\n",
            "copying deepchem/metalearning/__init__.py -> build/lib/deepchem/metalearning\n",
            "copying deepchem/metalearning/maml.py -> build/lib/deepchem/metalearning\n",
            "copying deepchem/molnet/run_benchmark.py -> build/lib/deepchem/molnet\n",
            "copying deepchem/molnet/run_benchmark_low_data.py -> build/lib/deepchem/molnet\n",
            "copying deepchem/molnet/__init__.py -> build/lib/deepchem/molnet\n",
            "copying deepchem/molnet/dnasim.py -> build/lib/deepchem/molnet\n",
            "copying deepchem/molnet/preset_hyper_parameters.py -> build/lib/deepchem/molnet\n",
            "copying deepchem/molnet/check_availability.py -> build/lib/deepchem/molnet\n",
            "copying deepchem/molnet/run_benchmark_models.py -> build/lib/deepchem/molnet\n",
            "copying deepchem/models/IRV.py -> build/lib/deepchem/models\n",
            "copying deepchem/models/progressive_multitask.py -> build/lib/deepchem/models\n",
            "copying deepchem/models/chemnet_models.py -> build/lib/deepchem/models\n",
            "copying deepchem/models/multitask.py -> build/lib/deepchem/models\n",
            "copying deepchem/models/gan.py -> build/lib/deepchem/models\n",
            "copying deepchem/models/scscore.py -> build/lib/deepchem/models\n",
            "copying deepchem/models/__init__.py -> build/lib/deepchem/models\n",
            "copying deepchem/models/robust_multitask.py -> build/lib/deepchem/models\n",
            "copying deepchem/models/seqtoseq.py -> build/lib/deepchem/models\n",
            "copying deepchem/models/fcnet.py -> build/lib/deepchem/models\n",
            "copying deepchem/models/chemnet_layers.py -> build/lib/deepchem/models\n",
            "copying deepchem/models/optimizers.py -> build/lib/deepchem/models\n",
            "copying deepchem/models/cnn.py -> build/lib/deepchem/models\n",
            "copying deepchem/models/models.py -> build/lib/deepchem/models\n",
            "copying deepchem/models/losses.py -> build/lib/deepchem/models\n",
            "copying deepchem/models/keras_model.py -> build/lib/deepchem/models\n",
            "copying deepchem/models/callbacks.py -> build/lib/deepchem/models\n",
            "copying deepchem/models/layers.py -> build/lib/deepchem/models\n",
            "copying deepchem/models/text_cnn.py -> build/lib/deepchem/models\n",
            "copying deepchem/models/atomic_conv.py -> build/lib/deepchem/models\n",
            "copying deepchem/models/graph_models.py -> build/lib/deepchem/models\n",
            "creating build/lib/deepchem/trans/tests\n",
            "copying deepchem/trans/tests/__init__.py -> build/lib/deepchem/trans/tests\n",
            "copying deepchem/trans/tests/test_transformers.py -> build/lib/deepchem/trans/tests\n",
            "creating build/lib/deepchem/models/xgboost_models\n",
            "copying deepchem/models/xgboost_models/__init__.py -> build/lib/deepchem/models/xgboost_models\n",
            "copying deepchem/data/data_loader.py -> build/lib/deepchem/data\n",
            "copying deepchem/data/__init__.py -> build/lib/deepchem/data\n",
            "copying deepchem/data/supports.py -> build/lib/deepchem/data\n",
            "copying deepchem/data/datasets.py -> build/lib/deepchem/data\n",
            "running egg_info\n",
            "creating deepchem.egg-info\n",
            "writing pbr to deepchem.egg-info/pbr.json\n",
            "writing deepchem.egg-info/PKG-INFO\n",
            "writing dependency_links to deepchem.egg-info/dependency_links.txt\n",
            "writing top-level names to deepchem.egg-info/top_level.txt\n",
            "[pbr] Processing SOURCES.txt\n",
            "writing manifest file 'deepchem.egg-info/SOURCES.txt'\n",
            "[pbr] In git context, generating filelist from git\n",
            "warning: no previously-included files found matching '.gitreview'\n",
            "warning: no previously-included files matching '*.pyc' found anywhere in distribution\n",
            "reading manifest template 'MANIFEST.in'\n",
            "writing manifest file 'deepchem.egg-info/SOURCES.txt'\n",
            "copying deepchem/dock/tests/1jld_ligand.sdf -> build/lib/deepchem/dock/tests\n",
            "copying deepchem/dock/tests/1jld_protein.pdb -> build/lib/deepchem/dock/tests\n",
            "copying deepchem/models/tests/butina_example.csv -> build/lib/deepchem/models/tests\n",
            "copying deepchem/models/tests/chembl_25_small.csv -> build/lib/deepchem/models/tests\n",
            "copying deepchem/models/tests/example.csv -> build/lib/deepchem/models/tests\n",
            "copying deepchem/models/tests/example_DTNN.mat -> build/lib/deepchem/models/tests\n",
            "copying deepchem/models/tests/example_classification.csv -> build/lib/deepchem/models/tests\n",
            "copying deepchem/models/tests/example_regression.csv -> build/lib/deepchem/models/tests\n",
            "copying deepchem/models/tests/feat_multitask_example.csv -> build/lib/deepchem/models/tests\n",
            "copying deepchem/models/tests/gaussian_cdf_example.csv -> build/lib/deepchem/models/tests\n",
            "copying deepchem/models/tests/gbd3k.pkl.gz -> build/lib/deepchem/models/tests\n",
            "copying deepchem/models/tests/multitask_example.csv -> build/lib/deepchem/models/tests\n",
            "copying deepchem/models/tests/nnscore_example.pkl.gz -> build/lib/deepchem/models/tests\n",
            "copying deepchem/models/tests/sparse_multitask_example.csv -> build/lib/deepchem/models/tests\n",
            "copying deepchem/models/tests/user_specified_example.csv -> build/lib/deepchem/models/tests\n",
            "copying deepchem/data/tests/a_image.tif -> build/lib/deepchem/data/tests\n",
            "copying deepchem/data/tests/example.fasta -> build/lib/deepchem/data/tests\n",
            "copying deepchem/data/tests/mini_emols.csv -> build/lib/deepchem/data/tests\n",
            "copying deepchem/data/tests/no_labels.csv -> build/lib/deepchem/data/tests\n",
            "creating build/lib/deepchem/data/tests/images\n",
            "copying deepchem/data/tests/images/000003-num0.png -> build/lib/deepchem/data/tests/images\n",
            "copying deepchem/data/tests/images/000004-num4.png -> build/lib/deepchem/data/tests/images\n",
            "copying deepchem/data/tests/images/000005-num1.png -> build/lib/deepchem/data/tests/images\n",
            "copying deepchem/data/tests/images/000006-num4.png -> build/lib/deepchem/data/tests/images\n",
            "copying deepchem/data/tests/images/000007-num9.png -> build/lib/deepchem/data/tests/images\n",
            "copying deepchem/data/tests/images/000008-num5.png -> build/lib/deepchem/data/tests/images\n",
            "copying deepchem/data/tests/images/000009-num9.png -> build/lib/deepchem/data/tests/images\n",
            "copying deepchem/data/tests/images/000010-num0.png -> build/lib/deepchem/data/tests/images\n",
            "copying deepchem/data/tests/images/000011-num6.png -> build/lib/deepchem/data/tests/images\n",
            "copying deepchem/data/tests/images/000012-num9.png -> build/lib/deepchem/data/tests/images\n",
            "copying deepchem/feat/tests/3ws9_ligand.sdf -> build/lib/deepchem/feat/tests\n",
            "copying deepchem/feat/tests/3ws9_protein_fixer_rdkit.pdb -> build/lib/deepchem/feat/tests\n",
            "creating build/lib/deepchem/feat/tests/data\n",
            "copying deepchem/feat/tests/data/3bwf_ligand_hyd.pdb -> build/lib/deepchem/feat/tests/data\n",
            "copying deepchem/feat/tests/data/3bwf_ligand_hyd.pdbqt -> build/lib/deepchem/feat/tests/data\n",
            "copying deepchem/feat/tests/data/3bwf_protein_hyd.pdb -> build/lib/deepchem/feat/tests/data\n",
            "copying deepchem/feat/tests/data/3bwf_protein_hyd.pdbqt -> build/lib/deepchem/feat/tests/data\n",
            "copying deepchem/feat/tests/data/3zp9_ligand_hyd.pdb -> build/lib/deepchem/feat/tests/data\n",
            "copying deepchem/feat/tests/data/3zp9_ligand_hyd.pdbqt -> build/lib/deepchem/feat/tests/data\n",
            "copying deepchem/feat/tests/data/3zp9_protein_hyd.pdb -> build/lib/deepchem/feat/tests/data\n",
            "copying deepchem/feat/tests/data/3zp9_protein_hyd.pdbqt -> build/lib/deepchem/feat/tests/data\n",
            "copying deepchem/feat/tests/data/3zso_ligand_hyd.pdb -> build/lib/deepchem/feat/tests/data\n",
            "copying deepchem/feat/tests/data/3zso_protein.pdb -> build/lib/deepchem/feat/tests/data\n",
            "copying deepchem/feat/tests/data/chembl_25_small.csv -> build/lib/deepchem/feat/tests/data\n",
            "copying deepchem/feat/tests/data/water.sdf -> build/lib/deepchem/feat/tests/data\n",
            "copying deepchem/feat/tests/data/water.sdf.csv -> build/lib/deepchem/feat/tests/data\n",
            "copying deepchem/.gitignore -> build/lib/deepchem\n",
            "creating build/lib/deepchem/tests\n",
            "copying deepchem/tests/test_init.py -> build/lib/deepchem/tests\n",
            "creating build/lib/deepchem/rl/tests\n",
            "copying deepchem/rl/tests/test_a2c.py -> build/lib/deepchem/rl/tests\n",
            "copying deepchem/rl/tests/test_ppo.py -> build/lib/deepchem/rl/tests\n",
            "creating build/lib/deepchem/utils/test/data\n",
            "copying deepchem/utils/test/data/example.fasta -> build/lib/deepchem/utils/test/data\n",
            "copying deepchem/utils/test/data/example.fastq -> build/lib/deepchem/utils/test/data\n",
            "creating build/lib/deepchem/metalearning/tests\n",
            "copying deepchem/metalearning/tests/test_maml.py -> build/lib/deepchem/metalearning/tests\n",
            "running install_lib\n",
            "copying build/lib/deepchem/metalearning/__init__.py -> /usr/local/lib/python3.7/site-packages/deepchem/metalearning\n",
            "copying build/lib/deepchem/metalearning/maml.py -> /usr/local/lib/python3.7/site-packages/deepchem/metalearning\n",
            "copying build/lib/deepchem/metalearning/tests/test_maml.py -> /usr/local/lib/python3.7/site-packages/deepchem/metalearning/tests\n",
            "copying build/lib/deepchem/molnet/run_benchmark.py -> /usr/local/lib/python3.7/site-packages/deepchem/molnet\n",
            "copying build/lib/deepchem/molnet/run_benchmark_low_data.py -> /usr/local/lib/python3.7/site-packages/deepchem/molnet\n",
            "copying build/lib/deepchem/molnet/__init__.py -> /usr/local/lib/python3.7/site-packages/deepchem/molnet\n",
            "copying build/lib/deepchem/molnet/dnasim.py -> /usr/local/lib/python3.7/site-packages/deepchem/molnet\n",
            "copying build/lib/deepchem/molnet/preset_hyper_parameters.py -> /usr/local/lib/python3.7/site-packages/deepchem/molnet\n",
            "copying build/lib/deepchem/molnet/check_availability.py -> /usr/local/lib/python3.7/site-packages/deepchem/molnet\n",
            "copying build/lib/deepchem/molnet/load_function/tox21_datasets.py -> /usr/local/lib/python3.7/site-packages/deepchem/molnet/load_function\n",
            "copying build/lib/deepchem/molnet/load_function/qm7_datasets.py -> /usr/local/lib/python3.7/site-packages/deepchem/molnet/load_function\n",
            "copying build/lib/deepchem/molnet/load_function/bbbc_datasets.py -> /usr/local/lib/python3.7/site-packages/deepchem/molnet/load_function\n",
            "copying build/lib/deepchem/molnet/load_function/kaggle_datasets.py -> /usr/local/lib/python3.7/site-packages/deepchem/molnet/load_function\n",
            "copying build/lib/deepchem/molnet/load_function/hiv_datasets.py -> /usr/local/lib/python3.7/site-packages/deepchem/molnet/load_function\n",
            "copying build/lib/deepchem/molnet/load_function/pcba_datasets.py -> /usr/local/lib/python3.7/site-packages/deepchem/molnet/load_function\n",
            "copying build/lib/deepchem/molnet/load_function/lipo_datasets.py -> /usr/local/lib/python3.7/site-packages/deepchem/molnet/load_function\n",
            "copying build/lib/deepchem/molnet/load_function/bbbp_datasets.py -> /usr/local/lib/python3.7/site-packages/deepchem/molnet/load_function\n",
            "copying build/lib/deepchem/molnet/load_function/sampl_datasets.py -> /usr/local/lib/python3.7/site-packages/deepchem/molnet/load_function\n",
            "copying build/lib/deepchem/molnet/load_function/toxcast_datasets.py -> /usr/local/lib/python3.7/site-packages/deepchem/molnet/load_function\n",
            "copying build/lib/deepchem/molnet/load_function/uspto_datasets.py -> /usr/local/lib/python3.7/site-packages/deepchem/molnet/load_function\n",
            "copying build/lib/deepchem/molnet/load_function/clintox_datasets.py -> /usr/local/lib/python3.7/site-packages/deepchem/molnet/load_function\n",
            "copying build/lib/deepchem/molnet/load_function/chembl_datasets.py -> /usr/local/lib/python3.7/site-packages/deepchem/molnet/load_function\n",
            "copying build/lib/deepchem/molnet/load_function/clearance_datasets.py -> /usr/local/lib/python3.7/site-packages/deepchem/molnet/load_function\n",
            "copying build/lib/deepchem/molnet/load_function/bace_datasets.py -> /usr/local/lib/python3.7/site-packages/deepchem/molnet/load_function\n",
            "copying build/lib/deepchem/molnet/load_function/__init__.py -> /usr/local/lib/python3.7/site-packages/deepchem/molnet/load_function\n",
            "copying build/lib/deepchem/molnet/load_function/chembl25_datasets.py -> /usr/local/lib/python3.7/site-packages/deepchem/molnet/load_function\n",
            "copying build/lib/deepchem/molnet/load_function/kinase_datasets.py -> /usr/local/lib/python3.7/site-packages/deepchem/molnet/load_function\n",
            "copying build/lib/deepchem/molnet/load_function/uv_tasks.py -> /usr/local/lib/python3.7/site-packages/deepchem/molnet/load_function\n",
            "copying build/lib/deepchem/molnet/load_function/muv_datasets.py -> /usr/local/lib/python3.7/site-packages/deepchem/molnet/load_function\n",
            "copying build/lib/deepchem/molnet/load_function/delaney_datasets.py -> /usr/local/lib/python3.7/site-packages/deepchem/molnet/load_function\n",
            "copying build/lib/deepchem/molnet/load_function/kaggle_features.py -> /usr/local/lib/python3.7/site-packages/deepchem/molnet/load_function\n",
            "copying build/lib/deepchem/molnet/load_function/hppb_datasets.py -> /usr/local/lib/python3.7/site-packages/deepchem/molnet/load_function\n",
            "copying build/lib/deepchem/molnet/load_function/pdbbind_datasets.py -> /usr/local/lib/python3.7/site-packages/deepchem/molnet/load_function\n",
            "copying build/lib/deepchem/molnet/load_function/factors_datasets.py -> /usr/local/lib/python3.7/site-packages/deepchem/molnet/load_function\n",
            "copying build/lib/deepchem/molnet/load_function/cell_counting_datasets.py -> /usr/local/lib/python3.7/site-packages/deepchem/molnet/load_function\n",
            "copying build/lib/deepchem/molnet/load_function/qm9_datasets.py -> /usr/local/lib/python3.7/site-packages/deepchem/molnet/load_function\n",
            "copying build/lib/deepchem/molnet/load_function/thermosol_datasets.py -> /usr/local/lib/python3.7/site-packages/deepchem/molnet/load_function\n",
            "copying build/lib/deepchem/molnet/load_function/qm8_datasets.py -> /usr/local/lib/python3.7/site-packages/deepchem/molnet/load_function\n",
            "copying build/lib/deepchem/molnet/load_function/sweetlead_datasets.py -> /usr/local/lib/python3.7/site-packages/deepchem/molnet/load_function\n",
            "copying build/lib/deepchem/molnet/load_function/hopv_datasets.py -> /usr/local/lib/python3.7/site-packages/deepchem/molnet/load_function\n",
            "copying build/lib/deepchem/molnet/load_function/uv_datasets.py -> /usr/local/lib/python3.7/site-packages/deepchem/molnet/load_function\n",
            "copying build/lib/deepchem/molnet/load_function/sider_datasets.py -> /usr/local/lib/python3.7/site-packages/deepchem/molnet/load_function\n",
            "copying build/lib/deepchem/molnet/load_function/bace_features.py -> /usr/local/lib/python3.7/site-packages/deepchem/molnet/load_function\n",
            "copying build/lib/deepchem/molnet/load_function/nci_datasets.py -> /usr/local/lib/python3.7/site-packages/deepchem/molnet/load_function\n",
            "copying build/lib/deepchem/molnet/load_function/chembl_tasks.py -> /usr/local/lib/python3.7/site-packages/deepchem/molnet/load_function\n",
            "copying build/lib/deepchem/molnet/load_function/ppb_datasets.py -> /usr/local/lib/python3.7/site-packages/deepchem/molnet/load_function\n",
            "copying build/lib/deepchem/molnet/run_benchmark_models.py -> /usr/local/lib/python3.7/site-packages/deepchem/molnet\n",
            "copying build/lib/deepchem/molnet/tests/test_dnasim.py -> /usr/local/lib/python3.7/site-packages/deepchem/molnet/tests\n",
            "copying build/lib/deepchem/molnet/tests/__init__.py -> /usr/local/lib/python3.7/site-packages/deepchem/molnet/tests\n",
            "copying build/lib/deepchem/molnet/tests/test_molnet.py -> /usr/local/lib/python3.7/site-packages/deepchem/molnet/tests\n",
            "copying build/lib/deepchem/trans/__init__.py -> /usr/local/lib/python3.7/site-packages/deepchem/trans\n",
            "copying build/lib/deepchem/trans/transformers.py -> /usr/local/lib/python3.7/site-packages/deepchem/trans\n",
            "copying build/lib/deepchem/trans/tests/__init__.py -> /usr/local/lib/python3.7/site-packages/deepchem/trans/tests\n",
            "copying build/lib/deepchem/trans/tests/test_transformers.py -> /usr/local/lib/python3.7/site-packages/deepchem/trans/tests\n",
            "copying build/lib/deepchem/utils/geometry_utils.py -> /usr/local/lib/python3.7/site-packages/deepchem/utils\n",
            "copying build/lib/deepchem/utils/hash_utils.py -> /usr/local/lib/python3.7/site-packages/deepchem/utils\n",
            "copying build/lib/deepchem/utils/rdkit_util.py -> /usr/local/lib/python3.7/site-packages/deepchem/utils\n",
            "copying build/lib/deepchem/utils/save.py -> /usr/local/lib/python3.7/site-packages/deepchem/utils\n",
            "copying build/lib/deepchem/utils/coordinate_box_utils.py -> /usr/local/lib/python3.7/site-packages/deepchem/utils\n",
            "copying build/lib/deepchem/utils/__init__.py -> /usr/local/lib/python3.7/site-packages/deepchem/utils\n",
            "copying build/lib/deepchem/utils/genomics.py -> /usr/local/lib/python3.7/site-packages/deepchem/utils\n",
            "copying build/lib/deepchem/utils/conformers.py -> /usr/local/lib/python3.7/site-packages/deepchem/utils\n",
            "copying build/lib/deepchem/utils/evaluate.py -> /usr/local/lib/python3.7/site-packages/deepchem/utils\n",
            "copying build/lib/deepchem/utils/mol_xyz_util.py -> /usr/local/lib/python3.7/site-packages/deepchem/utils\n",
            "copying build/lib/deepchem/utils/test/test_rdkit_util.py -> /usr/local/lib/python3.7/site-packages/deepchem/utils/test\n",
            "copying build/lib/deepchem/utils/test/data/example.fastq -> /usr/local/lib/python3.7/site-packages/deepchem/utils/test/data\n",
            "copying build/lib/deepchem/utils/test/data/example.fasta -> /usr/local/lib/python3.7/site-packages/deepchem/utils/test/data\n",
            "copying build/lib/deepchem/utils/test/__init__.py -> /usr/local/lib/python3.7/site-packages/deepchem/utils/test\n",
            "copying build/lib/deepchem/utils/test/test_seq.py -> /usr/local/lib/python3.7/site-packages/deepchem/utils/test\n",
            "copying build/lib/deepchem/utils/test/test_geometry_utils.py -> /usr/local/lib/python3.7/site-packages/deepchem/utils/test\n",
            "copying build/lib/deepchem/utils/test/test_voxel_utils.py -> /usr/local/lib/python3.7/site-packages/deepchem/utils/test\n",
            "copying build/lib/deepchem/utils/test/test_generator_evaluator.py -> /usr/local/lib/python3.7/site-packages/deepchem/utils/test\n",
            "copying build/lib/deepchem/utils/test/test_coordinate_box_utils.py -> /usr/local/lib/python3.7/site-packages/deepchem/utils/test\n",
            "copying build/lib/deepchem/utils/test/test_hash_utils.py -> /usr/local/lib/python3.7/site-packages/deepchem/utils/test\n",
            "copying build/lib/deepchem/utils/voxel_utils.py -> /usr/local/lib/python3.7/site-packages/deepchem/utils\n",
            "copying build/lib/deepchem/data/data_loader.py -> /usr/local/lib/python3.7/site-packages/deepchem/data\n",
            "copying build/lib/deepchem/data/__init__.py -> /usr/local/lib/python3.7/site-packages/deepchem/data\n",
            "copying build/lib/deepchem/data/supports.py -> /usr/local/lib/python3.7/site-packages/deepchem/data\n",
            "copying build/lib/deepchem/data/tests/mini_emols.csv -> /usr/local/lib/python3.7/site-packages/deepchem/data/tests\n",
            "copying build/lib/deepchem/data/tests/test_load.py -> /usr/local/lib/python3.7/site-packages/deepchem/data/tests\n",
            "copying build/lib/deepchem/data/tests/__init__.py -> /usr/local/lib/python3.7/site-packages/deepchem/data/tests\n",
            "copying build/lib/deepchem/data/tests/test_shuffle.py -> /usr/local/lib/python3.7/site-packages/deepchem/data/tests\n",
            "copying build/lib/deepchem/data/tests/no_labels.csv -> /usr/local/lib/python3.7/site-packages/deepchem/data/tests\n",
            "copying build/lib/deepchem/data/tests/test_merge.py -> /usr/local/lib/python3.7/site-packages/deepchem/data/tests\n",
            "copying build/lib/deepchem/data/tests/test_reload.py -> /usr/local/lib/python3.7/site-packages/deepchem/data/tests\n",
            "copying build/lib/deepchem/data/tests/test_data_loader.py -> /usr/local/lib/python3.7/site-packages/deepchem/data/tests\n",
            "copying build/lib/deepchem/data/tests/test_drop.py -> /usr/local/lib/python3.7/site-packages/deepchem/data/tests\n",
            "copying build/lib/deepchem/data/tests/test_support_generator.py -> /usr/local/lib/python3.7/site-packages/deepchem/data/tests\n",
            "copying build/lib/deepchem/data/tests/test_datasets.py -> /usr/local/lib/python3.7/site-packages/deepchem/data/tests\n",
            "copying build/lib/deepchem/data/tests/test_csv_loader.py -> /usr/local/lib/python3.7/site-packages/deepchem/data/tests\n",
            "copying build/lib/deepchem/data/tests/test_image_loader.py -> /usr/local/lib/python3.7/site-packages/deepchem/data/tests\n",
            "copying build/lib/deepchem/data/tests/test_fasta_loader.py -> /usr/local/lib/python3.7/site-packages/deepchem/data/tests\n",
            "copying build/lib/deepchem/data/tests/a_image.tif -> /usr/local/lib/python3.7/site-packages/deepchem/data/tests\n",
            "copying build/lib/deepchem/data/tests/images/000008-num5.png -> /usr/local/lib/python3.7/site-packages/deepchem/data/tests/images\n",
            "copying build/lib/deepchem/data/tests/images/000010-num0.png -> /usr/local/lib/python3.7/site-packages/deepchem/data/tests/images\n",
            "copying build/lib/deepchem/data/tests/images/000006-num4.png -> /usr/local/lib/python3.7/site-packages/deepchem/data/tests/images\n",
            "copying build/lib/deepchem/data/tests/images/000003-num0.png -> /usr/local/lib/python3.7/site-packages/deepchem/data/tests/images\n",
            "copying build/lib/deepchem/data/tests/images/000012-num9.png -> /usr/local/lib/python3.7/site-packages/deepchem/data/tests/images\n",
            "copying build/lib/deepchem/data/tests/images/000009-num9.png -> /usr/local/lib/python3.7/site-packages/deepchem/data/tests/images\n",
            "copying build/lib/deepchem/data/tests/images/000007-num9.png -> /usr/local/lib/python3.7/site-packages/deepchem/data/tests/images\n",
            "copying build/lib/deepchem/data/tests/images/000005-num1.png -> /usr/local/lib/python3.7/site-packages/deepchem/data/tests/images\n",
            "copying build/lib/deepchem/data/tests/images/000011-num6.png -> /usr/local/lib/python3.7/site-packages/deepchem/data/tests/images\n",
            "copying build/lib/deepchem/data/tests/images/000004-num4.png -> /usr/local/lib/python3.7/site-packages/deepchem/data/tests/images\n",
            "copying build/lib/deepchem/data/tests/test_image_dataset.py -> /usr/local/lib/python3.7/site-packages/deepchem/data/tests\n",
            "copying build/lib/deepchem/data/tests/example.fasta -> /usr/local/lib/python3.7/site-packages/deepchem/data/tests\n",
            "copying build/lib/deepchem/data/datasets.py -> /usr/local/lib/python3.7/site-packages/deepchem/data\n",
            "copying build/lib/deepchem/splits/test_specified_index_splitter.py -> /usr/local/lib/python3.7/site-packages/deepchem/splits\n",
            "copying build/lib/deepchem/splits/__init__.py -> /usr/local/lib/python3.7/site-packages/deepchem/splits\n",
            "copying build/lib/deepchem/splits/test_scaffold_splitter.py -> /usr/local/lib/python3.7/site-packages/deepchem/splits\n",
            "copying build/lib/deepchem/splits/splitters.py -> /usr/local/lib/python3.7/site-packages/deepchem/splits\n",
            "copying build/lib/deepchem/splits/tests/__init__.py -> /usr/local/lib/python3.7/site-packages/deepchem/splits/tests\n",
            "copying build/lib/deepchem/splits/tests/test_splitter.py -> /usr/local/lib/python3.7/site-packages/deepchem/splits/tests\n",
            "copying build/lib/deepchem/splits/tests/test_task_splitter.py -> /usr/local/lib/python3.7/site-packages/deepchem/splits/tests\n",
            "copying build/lib/deepchem/splits/task_splitter.py -> /usr/local/lib/python3.7/site-packages/deepchem/splits\n",
            "copying build/lib/deepchem/dock/pose_generation.py -> /usr/local/lib/python3.7/site-packages/deepchem/dock\n",
            "copying build/lib/deepchem/dock/pose_scoring.py -> /usr/local/lib/python3.7/site-packages/deepchem/dock\n",
            "copying build/lib/deepchem/dock/__init__.py -> /usr/local/lib/python3.7/site-packages/deepchem/dock\n",
            "copying build/lib/deepchem/dock/docking.py -> /usr/local/lib/python3.7/site-packages/deepchem/dock\n",
            "copying build/lib/deepchem/dock/binding_pocket.py -> /usr/local/lib/python3.7/site-packages/deepchem/dock\n",
            "copying build/lib/deepchem/dock/tests/1jld_protein.pdb -> /usr/local/lib/python3.7/site-packages/deepchem/dock/tests\n",
            "copying build/lib/deepchem/dock/tests/test_binding_pocket.py -> /usr/local/lib/python3.7/site-packages/deepchem/dock/tests\n",
            "copying build/lib/deepchem/dock/tests/1jld_ligand.sdf -> /usr/local/lib/python3.7/site-packages/deepchem/dock/tests\n",
            "copying build/lib/deepchem/dock/tests/test_pose_scoring.py -> /usr/local/lib/python3.7/site-packages/deepchem/dock/tests\n",
            "copying build/lib/deepchem/dock/tests/__init__.py -> /usr/local/lib/python3.7/site-packages/deepchem/dock/tests\n",
            "copying build/lib/deepchem/dock/tests/test_docking.py -> /usr/local/lib/python3.7/site-packages/deepchem/dock/tests\n",
            "copying build/lib/deepchem/dock/tests/test_pose_generation.py -> /usr/local/lib/python3.7/site-packages/deepchem/dock/tests\n",
            "copying build/lib/deepchem/__init__.py -> /usr/local/lib/python3.7/site-packages/deepchem\n",
            "copying build/lib/deepchem/.gitignore -> /usr/local/lib/python3.7/site-packages/deepchem\n",
            "copying build/lib/deepchem/models/IRV.py -> /usr/local/lib/python3.7/site-packages/deepchem/models\n",
            "copying build/lib/deepchem/models/progressive_multitask.py -> /usr/local/lib/python3.7/site-packages/deepchem/models\n",
            "copying build/lib/deepchem/models/chemnet_models.py -> /usr/local/lib/python3.7/site-packages/deepchem/models\n",
            "copying build/lib/deepchem/models/multitask.py -> /usr/local/lib/python3.7/site-packages/deepchem/models\n",
            "copying build/lib/deepchem/models/gan.py -> /usr/local/lib/python3.7/site-packages/deepchem/models\n",
            "copying build/lib/deepchem/models/scscore.py -> /usr/local/lib/python3.7/site-packages/deepchem/models\n",
            "copying build/lib/deepchem/models/__init__.py -> /usr/local/lib/python3.7/site-packages/deepchem/models\n",
            "copying build/lib/deepchem/models/robust_multitask.py -> /usr/local/lib/python3.7/site-packages/deepchem/models\n",
            "copying build/lib/deepchem/models/xgboost_models/__init__.py -> /usr/local/lib/python3.7/site-packages/deepchem/models/xgboost_models\n",
            "copying build/lib/deepchem/models/seqtoseq.py -> /usr/local/lib/python3.7/site-packages/deepchem/models\n",
            "copying build/lib/deepchem/models/fcnet.py -> /usr/local/lib/python3.7/site-packages/deepchem/models\n",
            "copying build/lib/deepchem/models/chemnet_layers.py -> /usr/local/lib/python3.7/site-packages/deepchem/models\n",
            "copying build/lib/deepchem/models/optimizers.py -> /usr/local/lib/python3.7/site-packages/deepchem/models\n",
            "copying build/lib/deepchem/models/cnn.py -> /usr/local/lib/python3.7/site-packages/deepchem/models\n",
            "copying build/lib/deepchem/models/sklearn_models/__init__.py -> /usr/local/lib/python3.7/site-packages/deepchem/models/sklearn_models\n",
            "copying build/lib/deepchem/models/models.py -> /usr/local/lib/python3.7/site-packages/deepchem/models\n",
            "copying build/lib/deepchem/models/losses.py -> /usr/local/lib/python3.7/site-packages/deepchem/models\n",
            "copying build/lib/deepchem/models/keras_model.py -> /usr/local/lib/python3.7/site-packages/deepchem/models\n",
            "copying build/lib/deepchem/models/callbacks.py -> /usr/local/lib/python3.7/site-packages/deepchem/models\n",
            "copying build/lib/deepchem/models/layers.py -> /usr/local/lib/python3.7/site-packages/deepchem/models\n",
            "copying build/lib/deepchem/models/text_cnn.py -> /usr/local/lib/python3.7/site-packages/deepchem/models\n",
            "copying build/lib/deepchem/models/tests/test_multitask.py -> /usr/local/lib/python3.7/site-packages/deepchem/models/tests\n",
            "copying build/lib/deepchem/models/tests/sparse_multitask_example.csv -> /usr/local/lib/python3.7/site-packages/deepchem/models/tests\n",
            "copying build/lib/deepchem/models/tests/test_predict.py -> /usr/local/lib/python3.7/site-packages/deepchem/models/tests\n",
            "copying build/lib/deepchem/models/tests/nnscore_example.pkl.gz -> /usr/local/lib/python3.7/site-packages/deepchem/models/tests\n",
            "copying build/lib/deepchem/models/tests/example_DTNN.mat -> /usr/local/lib/python3.7/site-packages/deepchem/models/tests\n",
            "copying build/lib/deepchem/models/tests/test_kerasmodel.py -> /usr/local/lib/python3.7/site-packages/deepchem/models/tests\n",
            "copying build/lib/deepchem/models/tests/test_generalize.py -> /usr/local/lib/python3.7/site-packages/deepchem/models/tests\n",
            "copying build/lib/deepchem/models/tests/butina_example.csv -> /usr/local/lib/python3.7/site-packages/deepchem/models/tests\n",
            "copying build/lib/deepchem/models/tests/test_singletask_to_multitask.py -> /usr/local/lib/python3.7/site-packages/deepchem/models/tests\n",
            "copying build/lib/deepchem/models/tests/test_gan.py -> /usr/local/lib/python3.7/site-packages/deepchem/models/tests\n",
            "copying build/lib/deepchem/models/tests/test_overfit.py -> /usr/local/lib/python3.7/site-packages/deepchem/models/tests\n",
            "copying build/lib/deepchem/models/tests/gaussian_cdf_example.csv -> /usr/local/lib/python3.7/site-packages/deepchem/models/tests\n",
            "copying build/lib/deepchem/models/tests/gbd3k.pkl.gz -> /usr/local/lib/python3.7/site-packages/deepchem/models/tests\n",
            "copying build/lib/deepchem/models/tests/feat_multitask_example.csv -> /usr/local/lib/python3.7/site-packages/deepchem/models/tests\n",
            "copying build/lib/deepchem/models/tests/__init__.py -> /usr/local/lib/python3.7/site-packages/deepchem/models/tests\n",
            "copying build/lib/deepchem/models/tests/user_specified_example.csv -> /usr/local/lib/python3.7/site-packages/deepchem/models/tests\n",
            "copying build/lib/deepchem/models/tests/test_api.py -> /usr/local/lib/python3.7/site-packages/deepchem/models/tests\n",
            "copying build/lib/deepchem/models/tests/test_textcnnmodel.py -> /usr/local/lib/python3.7/site-packages/deepchem/models/tests\n",
            "copying build/lib/deepchem/models/tests/test_callbacks.py -> /usr/local/lib/python3.7/site-packages/deepchem/models/tests\n",
            "copying build/lib/deepchem/models/tests/test_chemnet_models.py -> /usr/local/lib/python3.7/site-packages/deepchem/models/tests\n",
            "copying build/lib/deepchem/models/tests/test_optimizers.py -> /usr/local/lib/python3.7/site-packages/deepchem/models/tests\n",
            "copying build/lib/deepchem/models/tests/test_reload.py -> /usr/local/lib/python3.7/site-packages/deepchem/models/tests\n",
            "copying build/lib/deepchem/models/tests/chembl_25_small.csv -> /usr/local/lib/python3.7/site-packages/deepchem/models/tests\n",
            "copying build/lib/deepchem/models/tests/multitask_example.csv -> /usr/local/lib/python3.7/site-packages/deepchem/models/tests\n",
            "copying build/lib/deepchem/models/tests/test_graph_models.py -> /usr/local/lib/python3.7/site-packages/deepchem/models/tests\n",
            "copying build/lib/deepchem/models/tests/test_scscore.py -> /usr/local/lib/python3.7/site-packages/deepchem/models/tests\n",
            "copying build/lib/deepchem/models/tests/example.csv -> /usr/local/lib/python3.7/site-packages/deepchem/models/tests\n",
            "copying build/lib/deepchem/models/tests/test_layers_from_config.py -> /usr/local/lib/python3.7/site-packages/deepchem/models/tests\n",
            "copying build/lib/deepchem/models/tests/test_seqtoseq.py -> /usr/local/lib/python3.7/site-packages/deepchem/models/tests\n",
            "copying build/lib/deepchem/models/tests/example_regression.csv -> /usr/local/lib/python3.7/site-packages/deepchem/models/tests\n",
            "copying build/lib/deepchem/models/tests/test_atomic_conv.py -> /usr/local/lib/python3.7/site-packages/deepchem/models/tests\n",
            "copying build/lib/deepchem/models/tests/test_pretrained.py -> /usr/local/lib/python3.7/site-packages/deepchem/models/tests\n",
            "copying build/lib/deepchem/models/tests/test_layers.py -> /usr/local/lib/python3.7/site-packages/deepchem/models/tests\n",
            "copying build/lib/deepchem/models/tests/test_cnn.py -> /usr/local/lib/python3.7/site-packages/deepchem/models/tests\n",
            "copying build/lib/deepchem/models/tests/example_classification.csv -> /usr/local/lib/python3.7/site-packages/deepchem/models/tests\n",
            "copying build/lib/deepchem/models/atomic_conv.py -> /usr/local/lib/python3.7/site-packages/deepchem/models\n",
            "copying build/lib/deepchem/models/graph_models.py -> /usr/local/lib/python3.7/site-packages/deepchem/models\n",
            "copying build/lib/deepchem/feat/adjacency_fingerprints.py -> /usr/local/lib/python3.7/site-packages/deepchem/feat\n",
            "copying build/lib/deepchem/feat/fingerprints.py -> /usr/local/lib/python3.7/site-packages/deepchem/feat\n",
            "copying build/lib/deepchem/feat/__init__.py -> /usr/local/lib/python3.7/site-packages/deepchem/feat\n",
            "copying build/lib/deepchem/feat/basic.py -> /usr/local/lib/python3.7/site-packages/deepchem/feat\n",
            "copying build/lib/deepchem/feat/graph_features.py -> /usr/local/lib/python3.7/site-packages/deepchem/feat\n",
            "copying build/lib/deepchem/feat/coulomb_matrices.py -> /usr/local/lib/python3.7/site-packages/deepchem/feat\n",
            "copying build/lib/deepchem/feat/binding_pocket_features.py -> /usr/local/lib/python3.7/site-packages/deepchem/feat\n",
            "copying build/lib/deepchem/feat/atomic_coordinates.py -> /usr/local/lib/python3.7/site-packages/deepchem/feat\n",
            "copying build/lib/deepchem/feat/one_hot.py -> /usr/local/lib/python3.7/site-packages/deepchem/feat\n",
            "copying build/lib/deepchem/feat/base_classes.py -> /usr/local/lib/python3.7/site-packages/deepchem/feat\n",
            "copying build/lib/deepchem/feat/rdkit_grid_featurizer.py -> /usr/local/lib/python3.7/site-packages/deepchem/feat\n",
            "copying build/lib/deepchem/feat/smiles_featurizers.py -> /usr/local/lib/python3.7/site-packages/deepchem/feat\n",
            "copying build/lib/deepchem/feat/raw_featurizer.py -> /usr/local/lib/python3.7/site-packages/deepchem/feat\n",
            "copying build/lib/deepchem/feat/tests/test_fingerprints.py -> /usr/local/lib/python3.7/site-packages/deepchem/feat/tests\n",
            "copying build/lib/deepchem/feat/tests/test_smiles_featurizers.py -> /usr/local/lib/python3.7/site-packages/deepchem/feat/tests\n",
            "copying build/lib/deepchem/feat/tests/3ws9_ligand.sdf -> /usr/local/lib/python3.7/site-packages/deepchem/feat/tests\n",
            "copying build/lib/deepchem/feat/tests/data/3zp9_ligand_hyd.pdb -> /usr/local/lib/python3.7/site-packages/deepchem/feat/tests/data\n",
            "copying build/lib/deepchem/feat/tests/data/3bwf_ligand_hyd.pdbqt -> /usr/local/lib/python3.7/site-packages/deepchem/feat/tests/data\n",
            "copying build/lib/deepchem/feat/tests/data/3zp9_ligand_hyd.pdbqt -> /usr/local/lib/python3.7/site-packages/deepchem/feat/tests/data\n",
            "copying build/lib/deepchem/feat/tests/data/3bwf_protein_hyd.pdb -> /usr/local/lib/python3.7/site-packages/deepchem/feat/tests/data\n",
            "copying build/lib/deepchem/feat/tests/data/3bwf_ligand_hyd.pdb -> /usr/local/lib/python3.7/site-packages/deepchem/feat/tests/data\n",
            "copying build/lib/deepchem/feat/tests/data/3bwf_protein_hyd.pdbqt -> /usr/local/lib/python3.7/site-packages/deepchem/feat/tests/data\n",
            "copying build/lib/deepchem/feat/tests/data/3zso_ligand_hyd.pdb -> /usr/local/lib/python3.7/site-packages/deepchem/feat/tests/data\n",
            "copying build/lib/deepchem/feat/tests/data/water.sdf.csv -> /usr/local/lib/python3.7/site-packages/deepchem/feat/tests/data\n",
            "copying build/lib/deepchem/feat/tests/data/chembl_25_small.csv -> /usr/local/lib/python3.7/site-packages/deepchem/feat/tests/data\n",
            "copying build/lib/deepchem/feat/tests/data/3zso_protein.pdb -> /usr/local/lib/python3.7/site-packages/deepchem/feat/tests/data\n",
            "copying build/lib/deepchem/feat/tests/data/3zp9_protein_hyd.pdb -> /usr/local/lib/python3.7/site-packages/deepchem/feat/tests/data\n",
            "copying build/lib/deepchem/feat/tests/data/3zp9_protein_hyd.pdbqt -> /usr/local/lib/python3.7/site-packages/deepchem/feat/tests/data\n",
            "copying build/lib/deepchem/feat/tests/data/water.sdf -> /usr/local/lib/python3.7/site-packages/deepchem/feat/tests/data\n",
            "copying build/lib/deepchem/feat/tests/__init__.py -> /usr/local/lib/python3.7/site-packages/deepchem/feat/tests\n",
            "copying build/lib/deepchem/feat/tests/test_one_hot.py -> /usr/local/lib/python3.7/site-packages/deepchem/feat/tests\n",
            "copying build/lib/deepchem/feat/tests/test_coulomb_matrices.py -> /usr/local/lib/python3.7/site-packages/deepchem/feat/tests\n",
            "copying build/lib/deepchem/feat/tests/test_features.py -> /usr/local/lib/python3.7/site-packages/deepchem/feat/tests\n",
            "copying build/lib/deepchem/feat/tests/test_basic.py -> /usr/local/lib/python3.7/site-packages/deepchem/feat/tests\n",
            "copying build/lib/deepchem/feat/tests/test_sdf_reader.py -> /usr/local/lib/python3.7/site-packages/deepchem/feat/tests\n",
            "copying build/lib/deepchem/feat/tests/test_atomic_coordinates.py -> /usr/local/lib/python3.7/site-packages/deepchem/feat/tests\n",
            "copying build/lib/deepchem/feat/tests/3ws9_protein_fixer_rdkit.pdb -> /usr/local/lib/python3.7/site-packages/deepchem/feat/tests\n",
            "copying build/lib/deepchem/feat/tests/test_binding_pocket_features.py -> /usr/local/lib/python3.7/site-packages/deepchem/feat/tests\n",
            "copying build/lib/deepchem/feat/tests/test_convmol.py -> /usr/local/lib/python3.7/site-packages/deepchem/feat/tests\n",
            "copying build/lib/deepchem/feat/tests/test_mol_graphs.py -> /usr/local/lib/python3.7/site-packages/deepchem/feat/tests\n",
            "copying build/lib/deepchem/feat/tests/test_graph_features.py -> /usr/local/lib/python3.7/site-packages/deepchem/feat/tests\n",
            "copying build/lib/deepchem/feat/tests/test_rdkit_grid_features.py -> /usr/local/lib/python3.7/site-packages/deepchem/feat/tests\n",
            "copying build/lib/deepchem/feat/mol_graphs.py -> /usr/local/lib/python3.7/site-packages/deepchem/feat\n",
            "copying build/lib/deepchem/rl/ppo.py -> /usr/local/lib/python3.7/site-packages/deepchem/rl\n",
            "copying build/lib/deepchem/rl/envs/tictactoe.py -> /usr/local/lib/python3.7/site-packages/deepchem/rl/envs\n",
            "copying build/lib/deepchem/rl/envs/__init__.py -> /usr/local/lib/python3.7/site-packages/deepchem/rl/envs\n",
            "copying build/lib/deepchem/rl/envs/test_tictactoe.py -> /usr/local/lib/python3.7/site-packages/deepchem/rl/envs\n",
            "copying build/lib/deepchem/rl/__init__.py -> /usr/local/lib/python3.7/site-packages/deepchem/rl\n",
            "copying build/lib/deepchem/rl/a2c.py -> /usr/local/lib/python3.7/site-packages/deepchem/rl\n",
            "copying build/lib/deepchem/rl/tests/test_a2c.py -> /usr/local/lib/python3.7/site-packages/deepchem/rl/tests\n",
            "copying build/lib/deepchem/rl/tests/test_ppo.py -> /usr/local/lib/python3.7/site-packages/deepchem/rl/tests\n",
            "copying build/lib/deepchem/metrics/genomic_metrics.py -> /usr/local/lib/python3.7/site-packages/deepchem/metrics\n",
            "copying build/lib/deepchem/metrics/__init__.py -> /usr/local/lib/python3.7/site-packages/deepchem/metrics\n",
            "copying build/lib/deepchem/metrics/tests/test_genomics.py -> /usr/local/lib/python3.7/site-packages/deepchem/metrics/tests\n",
            "copying build/lib/deepchem/metrics/tests/__init__.py -> /usr/local/lib/python3.7/site-packages/deepchem/metrics/tests\n",
            "copying build/lib/deepchem/metrics/tests/metrics_test.py -> /usr/local/lib/python3.7/site-packages/deepchem/metrics/tests\n",
            "copying build/lib/deepchem/hyper/gaussian_process.py -> /usr/local/lib/python3.7/site-packages/deepchem/hyper\n",
            "copying build/lib/deepchem/hyper/grid_search.py -> /usr/local/lib/python3.7/site-packages/deepchem/hyper\n",
            "copying build/lib/deepchem/hyper/__init__.py -> /usr/local/lib/python3.7/site-packages/deepchem/hyper\n",
            "copying build/lib/deepchem/hyper/tests/__init__.py -> /usr/local/lib/python3.7/site-packages/deepchem/hyper/tests\n",
            "copying build/lib/deepchem/hyper/tests/test_hyperparam_opt.py -> /usr/local/lib/python3.7/site-packages/deepchem/hyper/tests\n",
            "copying build/lib/deepchem/tests/test_init.py -> /usr/local/lib/python3.7/site-packages/deepchem/tests\n",
            "byte-compiling /usr/local/lib/python3.7/site-packages/deepchem/metalearning/__init__.py to __init__.cpython-37.pyc\n",
            "byte-compiling /usr/local/lib/python3.7/site-packages/deepchem/metalearning/maml.py to maml.cpython-37.pyc\n",
            "byte-compiling /usr/local/lib/python3.7/site-packages/deepchem/metalearning/tests/test_maml.py to test_maml.cpython-37.pyc\n",
            "byte-compiling /usr/local/lib/python3.7/site-packages/deepchem/molnet/run_benchmark.py to run_benchmark.cpython-37.pyc\n",
            "byte-compiling /usr/local/lib/python3.7/site-packages/deepchem/molnet/run_benchmark_low_data.py to run_benchmark_low_data.cpython-37.pyc\n",
            "byte-compiling /usr/local/lib/python3.7/site-packages/deepchem/molnet/__init__.py to __init__.cpython-37.pyc\n",
            "byte-compiling /usr/local/lib/python3.7/site-packages/deepchem/molnet/dnasim.py to dnasim.cpython-37.pyc\n",
            "byte-compiling /usr/local/lib/python3.7/site-packages/deepchem/molnet/preset_hyper_parameters.py to preset_hyper_parameters.cpython-37.pyc\n",
            "byte-compiling /usr/local/lib/python3.7/site-packages/deepchem/molnet/check_availability.py to check_availability.cpython-37.pyc\n",
            "byte-compiling /usr/local/lib/python3.7/site-packages/deepchem/molnet/load_function/tox21_datasets.py to tox21_datasets.cpython-37.pyc\n",
            "byte-compiling /usr/local/lib/python3.7/site-packages/deepchem/molnet/load_function/qm7_datasets.py to qm7_datasets.cpython-37.pyc\n",
            "byte-compiling /usr/local/lib/python3.7/site-packages/deepchem/molnet/load_function/bbbc_datasets.py to bbbc_datasets.cpython-37.pyc\n",
            "byte-compiling /usr/local/lib/python3.7/site-packages/deepchem/molnet/load_function/kaggle_datasets.py to kaggle_datasets.cpython-37.pyc\n",
            "byte-compiling /usr/local/lib/python3.7/site-packages/deepchem/molnet/load_function/hiv_datasets.py to hiv_datasets.cpython-37.pyc\n",
            "byte-compiling /usr/local/lib/python3.7/site-packages/deepchem/molnet/load_function/pcba_datasets.py to pcba_datasets.cpython-37.pyc\n",
            "byte-compiling /usr/local/lib/python3.7/site-packages/deepchem/molnet/load_function/lipo_datasets.py to lipo_datasets.cpython-37.pyc\n",
            "byte-compiling /usr/local/lib/python3.7/site-packages/deepchem/molnet/load_function/bbbp_datasets.py to bbbp_datasets.cpython-37.pyc\n",
            "byte-compiling /usr/local/lib/python3.7/site-packages/deepchem/molnet/load_function/sampl_datasets.py to sampl_datasets.cpython-37.pyc\n",
            "byte-compiling /usr/local/lib/python3.7/site-packages/deepchem/molnet/load_function/toxcast_datasets.py to toxcast_datasets.cpython-37.pyc\n",
            "byte-compiling /usr/local/lib/python3.7/site-packages/deepchem/molnet/load_function/uspto_datasets.py to uspto_datasets.cpython-37.pyc\n",
            "byte-compiling /usr/local/lib/python3.7/site-packages/deepchem/molnet/load_function/clintox_datasets.py to clintox_datasets.cpython-37.pyc\n",
            "byte-compiling /usr/local/lib/python3.7/site-packages/deepchem/molnet/load_function/chembl_datasets.py to chembl_datasets.cpython-37.pyc\n",
            "byte-compiling /usr/local/lib/python3.7/site-packages/deepchem/molnet/load_function/clearance_datasets.py to clearance_datasets.cpython-37.pyc\n",
            "byte-compiling /usr/local/lib/python3.7/site-packages/deepchem/molnet/load_function/bace_datasets.py to bace_datasets.cpython-37.pyc\n",
            "byte-compiling /usr/local/lib/python3.7/site-packages/deepchem/molnet/load_function/__init__.py to __init__.cpython-37.pyc\n",
            "byte-compiling /usr/local/lib/python3.7/site-packages/deepchem/molnet/load_function/chembl25_datasets.py to chembl25_datasets.cpython-37.pyc\n",
            "byte-compiling /usr/local/lib/python3.7/site-packages/deepchem/molnet/load_function/kinase_datasets.py to kinase_datasets.cpython-37.pyc\n",
            "byte-compiling /usr/local/lib/python3.7/site-packages/deepchem/molnet/load_function/uv_tasks.py to uv_tasks.cpython-37.pyc\n",
            "byte-compiling /usr/local/lib/python3.7/site-packages/deepchem/molnet/load_function/muv_datasets.py to muv_datasets.cpython-37.pyc\n",
            "byte-compiling /usr/local/lib/python3.7/site-packages/deepchem/molnet/load_function/delaney_datasets.py to delaney_datasets.cpython-37.pyc\n",
            "byte-compiling /usr/local/lib/python3.7/site-packages/deepchem/molnet/load_function/kaggle_features.py to kaggle_features.cpython-37.pyc\n",
            "byte-compiling /usr/local/lib/python3.7/site-packages/deepchem/molnet/load_function/hppb_datasets.py to hppb_datasets.cpython-37.pyc\n",
            "byte-compiling /usr/local/lib/python3.7/site-packages/deepchem/molnet/load_function/pdbbind_datasets.py to pdbbind_datasets.cpython-37.pyc\n",
            "byte-compiling /usr/local/lib/python3.7/site-packages/deepchem/molnet/load_function/factors_datasets.py to factors_datasets.cpython-37.pyc\n",
            "byte-compiling /usr/local/lib/python3.7/site-packages/deepchem/molnet/load_function/cell_counting_datasets.py to cell_counting_datasets.cpython-37.pyc\n",
            "byte-compiling /usr/local/lib/python3.7/site-packages/deepchem/molnet/load_function/qm9_datasets.py to qm9_datasets.cpython-37.pyc\n",
            "byte-compiling /usr/local/lib/python3.7/site-packages/deepchem/molnet/load_function/thermosol_datasets.py to thermosol_datasets.cpython-37.pyc\n",
            "byte-compiling /usr/local/lib/python3.7/site-packages/deepchem/molnet/load_function/qm8_datasets.py to qm8_datasets.cpython-37.pyc\n",
            "byte-compiling /usr/local/lib/python3.7/site-packages/deepchem/molnet/load_function/sweetlead_datasets.py to sweetlead_datasets.cpython-37.pyc\n",
            "byte-compiling /usr/local/lib/python3.7/site-packages/deepchem/molnet/load_function/hopv_datasets.py to hopv_datasets.cpython-37.pyc\n",
            "byte-compiling /usr/local/lib/python3.7/site-packages/deepchem/molnet/load_function/uv_datasets.py to uv_datasets.cpython-37.pyc\n",
            "byte-compiling /usr/local/lib/python3.7/site-packages/deepchem/molnet/load_function/sider_datasets.py to sider_datasets.cpython-37.pyc\n",
            "byte-compiling /usr/local/lib/python3.7/site-packages/deepchem/molnet/load_function/bace_features.py to bace_features.cpython-37.pyc\n",
            "byte-compiling /usr/local/lib/python3.7/site-packages/deepchem/molnet/load_function/nci_datasets.py to nci_datasets.cpython-37.pyc\n",
            "byte-compiling /usr/local/lib/python3.7/site-packages/deepchem/molnet/load_function/chembl_tasks.py to chembl_tasks.cpython-37.pyc\n",
            "byte-compiling /usr/local/lib/python3.7/site-packages/deepchem/molnet/load_function/ppb_datasets.py to ppb_datasets.cpython-37.pyc\n",
            "byte-compiling /usr/local/lib/python3.7/site-packages/deepchem/molnet/run_benchmark_models.py to run_benchmark_models.cpython-37.pyc\n",
            "byte-compiling /usr/local/lib/python3.7/site-packages/deepchem/molnet/tests/test_dnasim.py to test_dnasim.cpython-37.pyc\n",
            "byte-compiling /usr/local/lib/python3.7/site-packages/deepchem/molnet/tests/__init__.py to __init__.cpython-37.pyc\n",
            "byte-compiling /usr/local/lib/python3.7/site-packages/deepchem/molnet/tests/test_molnet.py to test_molnet.cpython-37.pyc\n",
            "byte-compiling /usr/local/lib/python3.7/site-packages/deepchem/trans/__init__.py to __init__.cpython-37.pyc\n",
            "byte-compiling /usr/local/lib/python3.7/site-packages/deepchem/trans/transformers.py to transformers.cpython-37.pyc\n",
            "byte-compiling /usr/local/lib/python3.7/site-packages/deepchem/trans/tests/__init__.py to __init__.cpython-37.pyc\n",
            "byte-compiling /usr/local/lib/python3.7/site-packages/deepchem/trans/tests/test_transformers.py to test_transformers.cpython-37.pyc\n",
            "byte-compiling /usr/local/lib/python3.7/site-packages/deepchem/utils/geometry_utils.py to geometry_utils.cpython-37.pyc\n",
            "byte-compiling /usr/local/lib/python3.7/site-packages/deepchem/utils/hash_utils.py to hash_utils.cpython-37.pyc\n",
            "byte-compiling /usr/local/lib/python3.7/site-packages/deepchem/utils/rdkit_util.py to rdkit_util.cpython-37.pyc\n",
            "byte-compiling /usr/local/lib/python3.7/site-packages/deepchem/utils/save.py to save.cpython-37.pyc\n",
            "byte-compiling /usr/local/lib/python3.7/site-packages/deepchem/utils/coordinate_box_utils.py to coordinate_box_utils.cpython-37.pyc\n",
            "byte-compiling /usr/local/lib/python3.7/site-packages/deepchem/utils/__init__.py to __init__.cpython-37.pyc\n",
            "byte-compiling /usr/local/lib/python3.7/site-packages/deepchem/utils/genomics.py to genomics.cpython-37.pyc\n",
            "byte-compiling /usr/local/lib/python3.7/site-packages/deepchem/utils/conformers.py to conformers.cpython-37.pyc\n",
            "byte-compiling /usr/local/lib/python3.7/site-packages/deepchem/utils/evaluate.py to evaluate.cpython-37.pyc\n",
            "byte-compiling /usr/local/lib/python3.7/site-packages/deepchem/utils/mol_xyz_util.py to mol_xyz_util.cpython-37.pyc\n",
            "byte-compiling /usr/local/lib/python3.7/site-packages/deepchem/utils/test/test_rdkit_util.py to test_rdkit_util.cpython-37.pyc\n",
            "byte-compiling /usr/local/lib/python3.7/site-packages/deepchem/utils/test/__init__.py to __init__.cpython-37.pyc\n",
            "byte-compiling /usr/local/lib/python3.7/site-packages/deepchem/utils/test/test_seq.py to test_seq.cpython-37.pyc\n",
            "byte-compiling /usr/local/lib/python3.7/site-packages/deepchem/utils/test/test_geometry_utils.py to test_geometry_utils.cpython-37.pyc\n",
            "byte-compiling /usr/local/lib/python3.7/site-packages/deepchem/utils/test/test_voxel_utils.py to test_voxel_utils.cpython-37.pyc\n",
            "byte-compiling /usr/local/lib/python3.7/site-packages/deepchem/utils/test/test_generator_evaluator.py to test_generator_evaluator.cpython-37.pyc\n",
            "byte-compiling /usr/local/lib/python3.7/site-packages/deepchem/utils/test/test_coordinate_box_utils.py to test_coordinate_box_utils.cpython-37.pyc\n",
            "byte-compiling /usr/local/lib/python3.7/site-packages/deepchem/utils/test/test_hash_utils.py to test_hash_utils.cpython-37.pyc\n",
            "byte-compiling /usr/local/lib/python3.7/site-packages/deepchem/utils/voxel_utils.py to voxel_utils.cpython-37.pyc\n",
            "byte-compiling /usr/local/lib/python3.7/site-packages/deepchem/data/data_loader.py to data_loader.cpython-37.pyc\n",
            "byte-compiling /usr/local/lib/python3.7/site-packages/deepchem/data/__init__.py to __init__.cpython-37.pyc\n",
            "byte-compiling /usr/local/lib/python3.7/site-packages/deepchem/data/supports.py to supports.cpython-37.pyc\n",
            "byte-compiling /usr/local/lib/python3.7/site-packages/deepchem/data/tests/test_load.py to test_load.cpython-37.pyc\n",
            "byte-compiling /usr/local/lib/python3.7/site-packages/deepchem/data/tests/__init__.py to __init__.cpython-37.pyc\n",
            "byte-compiling /usr/local/lib/python3.7/site-packages/deepchem/data/tests/test_shuffle.py to test_shuffle.cpython-37.pyc\n",
            "byte-compiling /usr/local/lib/python3.7/site-packages/deepchem/data/tests/test_merge.py to test_merge.cpython-37.pyc\n",
            "byte-compiling /usr/local/lib/python3.7/site-packages/deepchem/data/tests/test_reload.py to test_reload.cpython-37.pyc\n",
            "byte-compiling /usr/local/lib/python3.7/site-packages/deepchem/data/tests/test_data_loader.py to test_data_loader.cpython-37.pyc\n",
            "byte-compiling /usr/local/lib/python3.7/site-packages/deepchem/data/tests/test_drop.py to test_drop.cpython-37.pyc\n",
            "byte-compiling /usr/local/lib/python3.7/site-packages/deepchem/data/tests/test_support_generator.py to test_support_generator.cpython-37.pyc\n",
            "byte-compiling /usr/local/lib/python3.7/site-packages/deepchem/data/tests/test_datasets.py to test_datasets.cpython-37.pyc\n",
            "byte-compiling /usr/local/lib/python3.7/site-packages/deepchem/data/tests/test_csv_loader.py to test_csv_loader.cpython-37.pyc\n",
            "byte-compiling /usr/local/lib/python3.7/site-packages/deepchem/data/tests/test_image_loader.py to test_image_loader.cpython-37.pyc\n",
            "byte-compiling /usr/local/lib/python3.7/site-packages/deepchem/data/tests/test_fasta_loader.py to test_fasta_loader.cpython-37.pyc\n",
            "byte-compiling /usr/local/lib/python3.7/site-packages/deepchem/data/tests/test_image_dataset.py to test_image_dataset.cpython-37.pyc\n",
            "byte-compiling /usr/local/lib/python3.7/site-packages/deepchem/data/datasets.py to datasets.cpython-37.pyc\n",
            "byte-compiling /usr/local/lib/python3.7/site-packages/deepchem/splits/test_specified_index_splitter.py to test_specified_index_splitter.cpython-37.pyc\n",
            "byte-compiling /usr/local/lib/python3.7/site-packages/deepchem/splits/__init__.py to __init__.cpython-37.pyc\n",
            "byte-compiling /usr/local/lib/python3.7/site-packages/deepchem/splits/test_scaffold_splitter.py to test_scaffold_splitter.cpython-37.pyc\n",
            "byte-compiling /usr/local/lib/python3.7/site-packages/deepchem/splits/splitters.py to splitters.cpython-37.pyc\n",
            "byte-compiling /usr/local/lib/python3.7/site-packages/deepchem/splits/tests/__init__.py to __init__.cpython-37.pyc\n",
            "byte-compiling /usr/local/lib/python3.7/site-packages/deepchem/splits/tests/test_splitter.py to test_splitter.cpython-37.pyc\n",
            "byte-compiling /usr/local/lib/python3.7/site-packages/deepchem/splits/tests/test_task_splitter.py to test_task_splitter.cpython-37.pyc\n",
            "byte-compiling /usr/local/lib/python3.7/site-packages/deepchem/splits/task_splitter.py to task_splitter.cpython-37.pyc\n",
            "byte-compiling /usr/local/lib/python3.7/site-packages/deepchem/dock/pose_generation.py to pose_generation.cpython-37.pyc\n",
            "byte-compiling /usr/local/lib/python3.7/site-packages/deepchem/dock/pose_scoring.py to pose_scoring.cpython-37.pyc\n",
            "byte-compiling /usr/local/lib/python3.7/site-packages/deepchem/dock/__init__.py to __init__.cpython-37.pyc\n",
            "byte-compiling /usr/local/lib/python3.7/site-packages/deepchem/dock/docking.py to docking.cpython-37.pyc\n",
            "byte-compiling /usr/local/lib/python3.7/site-packages/deepchem/dock/binding_pocket.py to binding_pocket.cpython-37.pyc\n",
            "byte-compiling /usr/local/lib/python3.7/site-packages/deepchem/dock/tests/test_binding_pocket.py to test_binding_pocket.cpython-37.pyc\n",
            "byte-compiling /usr/local/lib/python3.7/site-packages/deepchem/dock/tests/test_pose_scoring.py to test_pose_scoring.cpython-37.pyc\n",
            "byte-compiling /usr/local/lib/python3.7/site-packages/deepchem/dock/tests/__init__.py to __init__.cpython-37.pyc\n",
            "byte-compiling /usr/local/lib/python3.7/site-packages/deepchem/dock/tests/test_docking.py to test_docking.cpython-37.pyc\n",
            "byte-compiling /usr/local/lib/python3.7/site-packages/deepchem/dock/tests/test_pose_generation.py to test_pose_generation.cpython-37.pyc\n",
            "byte-compiling /usr/local/lib/python3.7/site-packages/deepchem/__init__.py to __init__.cpython-37.pyc\n",
            "byte-compiling /usr/local/lib/python3.7/site-packages/deepchem/models/IRV.py to IRV.cpython-37.pyc\n",
            "byte-compiling /usr/local/lib/python3.7/site-packages/deepchem/models/progressive_multitask.py to progressive_multitask.cpython-37.pyc\n",
            "byte-compiling /usr/local/lib/python3.7/site-packages/deepchem/models/chemnet_models.py to chemnet_models.cpython-37.pyc\n",
            "byte-compiling /usr/local/lib/python3.7/site-packages/deepchem/models/multitask.py to multitask.cpython-37.pyc\n",
            "byte-compiling /usr/local/lib/python3.7/site-packages/deepchem/models/gan.py to gan.cpython-37.pyc\n",
            "byte-compiling /usr/local/lib/python3.7/site-packages/deepchem/models/scscore.py to scscore.cpython-37.pyc\n",
            "byte-compiling /usr/local/lib/python3.7/site-packages/deepchem/models/__init__.py to __init__.cpython-37.pyc\n",
            "byte-compiling /usr/local/lib/python3.7/site-packages/deepchem/models/robust_multitask.py to robust_multitask.cpython-37.pyc\n",
            "byte-compiling /usr/local/lib/python3.7/site-packages/deepchem/models/xgboost_models/__init__.py to __init__.cpython-37.pyc\n",
            "byte-compiling /usr/local/lib/python3.7/site-packages/deepchem/models/seqtoseq.py to seqtoseq.cpython-37.pyc\n",
            "byte-compiling /usr/local/lib/python3.7/site-packages/deepchem/models/fcnet.py to fcnet.cpython-37.pyc\n",
            "byte-compiling /usr/local/lib/python3.7/site-packages/deepchem/models/chemnet_layers.py to chemnet_layers.cpython-37.pyc\n",
            "byte-compiling /usr/local/lib/python3.7/site-packages/deepchem/models/optimizers.py to optimizers.cpython-37.pyc\n",
            "byte-compiling /usr/local/lib/python3.7/site-packages/deepchem/models/cnn.py to cnn.cpython-37.pyc\n",
            "byte-compiling /usr/local/lib/python3.7/site-packages/deepchem/models/sklearn_models/__init__.py to __init__.cpython-37.pyc\n",
            "byte-compiling /usr/local/lib/python3.7/site-packages/deepchem/models/models.py to models.cpython-37.pyc\n",
            "byte-compiling /usr/local/lib/python3.7/site-packages/deepchem/models/losses.py to losses.cpython-37.pyc\n",
            "byte-compiling /usr/local/lib/python3.7/site-packages/deepchem/models/keras_model.py to keras_model.cpython-37.pyc\n",
            "byte-compiling /usr/local/lib/python3.7/site-packages/deepchem/models/callbacks.py to callbacks.cpython-37.pyc\n",
            "byte-compiling /usr/local/lib/python3.7/site-packages/deepchem/models/layers.py to layers.cpython-37.pyc\n",
            "byte-compiling /usr/local/lib/python3.7/site-packages/deepchem/models/text_cnn.py to text_cnn.cpython-37.pyc\n",
            "byte-compiling /usr/local/lib/python3.7/site-packages/deepchem/models/tests/test_multitask.py to test_multitask.cpython-37.pyc\n",
            "byte-compiling /usr/local/lib/python3.7/site-packages/deepchem/models/tests/test_predict.py to test_predict.cpython-37.pyc\n",
            "byte-compiling /usr/local/lib/python3.7/site-packages/deepchem/models/tests/test_kerasmodel.py to test_kerasmodel.cpython-37.pyc\n",
            "byte-compiling /usr/local/lib/python3.7/site-packages/deepchem/models/tests/test_generalize.py to test_generalize.cpython-37.pyc\n",
            "byte-compiling /usr/local/lib/python3.7/site-packages/deepchem/models/tests/test_singletask_to_multitask.py to test_singletask_to_multitask.cpython-37.pyc\n",
            "byte-compiling /usr/local/lib/python3.7/site-packages/deepchem/models/tests/test_gan.py to test_gan.cpython-37.pyc\n",
            "byte-compiling /usr/local/lib/python3.7/site-packages/deepchem/models/tests/test_overfit.py to test_overfit.cpython-37.pyc\n",
            "byte-compiling /usr/local/lib/python3.7/site-packages/deepchem/models/tests/__init__.py to __init__.cpython-37.pyc\n",
            "byte-compiling /usr/local/lib/python3.7/site-packages/deepchem/models/tests/test_api.py to test_api.cpython-37.pyc\n",
            "byte-compiling /usr/local/lib/python3.7/site-packages/deepchem/models/tests/test_textcnnmodel.py to test_textcnnmodel.cpython-37.pyc\n",
            "byte-compiling /usr/local/lib/python3.7/site-packages/deepchem/models/tests/test_callbacks.py to test_callbacks.cpython-37.pyc\n",
            "byte-compiling /usr/local/lib/python3.7/site-packages/deepchem/models/tests/test_chemnet_models.py to test_chemnet_models.cpython-37.pyc\n",
            "byte-compiling /usr/local/lib/python3.7/site-packages/deepchem/models/tests/test_optimizers.py to test_optimizers.cpython-37.pyc\n",
            "byte-compiling /usr/local/lib/python3.7/site-packages/deepchem/models/tests/test_reload.py to test_reload.cpython-37.pyc\n",
            "byte-compiling /usr/local/lib/python3.7/site-packages/deepchem/models/tests/test_graph_models.py to test_graph_models.cpython-37.pyc\n",
            "byte-compiling /usr/local/lib/python3.7/site-packages/deepchem/models/tests/test_scscore.py to test_scscore.cpython-37.pyc\n",
            "byte-compiling /usr/local/lib/python3.7/site-packages/deepchem/models/tests/test_layers_from_config.py to test_layers_from_config.cpython-37.pyc\n",
            "byte-compiling /usr/local/lib/python3.7/site-packages/deepchem/models/tests/test_seqtoseq.py to test_seqtoseq.cpython-37.pyc\n",
            "byte-compiling /usr/local/lib/python3.7/site-packages/deepchem/models/tests/test_atomic_conv.py to test_atomic_conv.cpython-37.pyc\n",
            "byte-compiling /usr/local/lib/python3.7/site-packages/deepchem/models/tests/test_pretrained.py to test_pretrained.cpython-37.pyc\n",
            "byte-compiling /usr/local/lib/python3.7/site-packages/deepchem/models/tests/test_layers.py to test_layers.cpython-37.pyc\n",
            "byte-compiling /usr/local/lib/python3.7/site-packages/deepchem/models/tests/test_cnn.py to test_cnn.cpython-37.pyc\n",
            "byte-compiling /usr/local/lib/python3.7/site-packages/deepchem/models/atomic_conv.py to atomic_conv.cpython-37.pyc\n",
            "byte-compiling /usr/local/lib/python3.7/site-packages/deepchem/models/graph_models.py to graph_models.cpython-37.pyc\n",
            "byte-compiling /usr/local/lib/python3.7/site-packages/deepchem/feat/adjacency_fingerprints.py to adjacency_fingerprints.cpython-37.pyc\n",
            "byte-compiling /usr/local/lib/python3.7/site-packages/deepchem/feat/fingerprints.py to fingerprints.cpython-37.pyc\n",
            "byte-compiling /usr/local/lib/python3.7/site-packages/deepchem/feat/__init__.py to __init__.cpython-37.pyc\n",
            "byte-compiling /usr/local/lib/python3.7/site-packages/deepchem/feat/basic.py to basic.cpython-37.pyc\n",
            "byte-compiling /usr/local/lib/python3.7/site-packages/deepchem/feat/graph_features.py to graph_features.cpython-37.pyc\n",
            "byte-compiling /usr/local/lib/python3.7/site-packages/deepchem/feat/coulomb_matrices.py to coulomb_matrices.cpython-37.pyc\n",
            "byte-compiling /usr/local/lib/python3.7/site-packages/deepchem/feat/binding_pocket_features.py to binding_pocket_features.cpython-37.pyc\n",
            "byte-compiling /usr/local/lib/python3.7/site-packages/deepchem/feat/atomic_coordinates.py to atomic_coordinates.cpython-37.pyc\n",
            "byte-compiling /usr/local/lib/python3.7/site-packages/deepchem/feat/one_hot.py to one_hot.cpython-37.pyc\n",
            "byte-compiling /usr/local/lib/python3.7/site-packages/deepchem/feat/base_classes.py to base_classes.cpython-37.pyc\n",
            "byte-compiling /usr/local/lib/python3.7/site-packages/deepchem/feat/rdkit_grid_featurizer.py to rdkit_grid_featurizer.cpython-37.pyc\n",
            "byte-compiling /usr/local/lib/python3.7/site-packages/deepchem/feat/smiles_featurizers.py to smiles_featurizers.cpython-37.pyc\n",
            "byte-compiling /usr/local/lib/python3.7/site-packages/deepchem/feat/raw_featurizer.py to raw_featurizer.cpython-37.pyc\n",
            "byte-compiling /usr/local/lib/python3.7/site-packages/deepchem/feat/tests/test_fingerprints.py to test_fingerprints.cpython-37.pyc\n",
            "byte-compiling /usr/local/lib/python3.7/site-packages/deepchem/feat/tests/test_smiles_featurizers.py to test_smiles_featurizers.cpython-37.pyc\n",
            "byte-compiling /usr/local/lib/python3.7/site-packages/deepchem/feat/tests/__init__.py to __init__.cpython-37.pyc\n",
            "byte-compiling /usr/local/lib/python3.7/site-packages/deepchem/feat/tests/test_one_hot.py to test_one_hot.cpython-37.pyc\n",
            "byte-compiling /usr/local/lib/python3.7/site-packages/deepchem/feat/tests/test_coulomb_matrices.py to test_coulomb_matrices.cpython-37.pyc\n",
            "byte-compiling /usr/local/lib/python3.7/site-packages/deepchem/feat/tests/test_features.py to test_features.cpython-37.pyc\n",
            "byte-compiling /usr/local/lib/python3.7/site-packages/deepchem/feat/tests/test_basic.py to test_basic.cpython-37.pyc\n",
            "byte-compiling /usr/local/lib/python3.7/site-packages/deepchem/feat/tests/test_sdf_reader.py to test_sdf_reader.cpython-37.pyc\n",
            "byte-compiling /usr/local/lib/python3.7/site-packages/deepchem/feat/tests/test_atomic_coordinates.py to test_atomic_coordinates.cpython-37.pyc\n",
            "byte-compiling /usr/local/lib/python3.7/site-packages/deepchem/feat/tests/test_binding_pocket_features.py to test_binding_pocket_features.cpython-37.pyc\n",
            "byte-compiling /usr/local/lib/python3.7/site-packages/deepchem/feat/tests/test_convmol.py to test_convmol.cpython-37.pyc\n",
            "byte-compiling /usr/local/lib/python3.7/site-packages/deepchem/feat/tests/test_mol_graphs.py to test_mol_graphs.cpython-37.pyc\n",
            "byte-compiling /usr/local/lib/python3.7/site-packages/deepchem/feat/tests/test_graph_features.py to test_graph_features.cpython-37.pyc\n",
            "byte-compiling /usr/local/lib/python3.7/site-packages/deepchem/feat/tests/test_rdkit_grid_features.py to test_rdkit_grid_features.cpython-37.pyc\n",
            "byte-compiling /usr/local/lib/python3.7/site-packages/deepchem/feat/mol_graphs.py to mol_graphs.cpython-37.pyc\n",
            "byte-compiling /usr/local/lib/python3.7/site-packages/deepchem/rl/ppo.py to ppo.cpython-37.pyc\n",
            "byte-compiling /usr/local/lib/python3.7/site-packages/deepchem/rl/envs/tictactoe.py to tictactoe.cpython-37.pyc\n",
            "byte-compiling /usr/local/lib/python3.7/site-packages/deepchem/rl/envs/__init__.py to __init__.cpython-37.pyc\n",
            "byte-compiling /usr/local/lib/python3.7/site-packages/deepchem/rl/envs/test_tictactoe.py to test_tictactoe.cpython-37.pyc\n",
            "byte-compiling /usr/local/lib/python3.7/site-packages/deepchem/rl/__init__.py to __init__.cpython-37.pyc\n",
            "byte-compiling /usr/local/lib/python3.7/site-packages/deepchem/rl/a2c.py to a2c.cpython-37.pyc\n",
            "byte-compiling /usr/local/lib/python3.7/site-packages/deepchem/rl/tests/test_a2c.py to test_a2c.cpython-37.pyc\n",
            "byte-compiling /usr/local/lib/python3.7/site-packages/deepchem/rl/tests/test_ppo.py to test_ppo.cpython-37.pyc\n",
            "byte-compiling /usr/local/lib/python3.7/site-packages/deepchem/metrics/genomic_metrics.py to genomic_metrics.cpython-37.pyc\n",
            "byte-compiling /usr/local/lib/python3.7/site-packages/deepchem/metrics/__init__.py to __init__.cpython-37.pyc\n",
            "byte-compiling /usr/local/lib/python3.7/site-packages/deepchem/metrics/tests/test_genomics.py to test_genomics.cpython-37.pyc\n",
            "byte-compiling /usr/local/lib/python3.7/site-packages/deepchem/metrics/tests/__init__.py to __init__.cpython-37.pyc\n",
            "byte-compiling /usr/local/lib/python3.7/site-packages/deepchem/metrics/tests/metrics_test.py to metrics_test.cpython-37.pyc\n",
            "byte-compiling /usr/local/lib/python3.7/site-packages/deepchem/hyper/gaussian_process.py to gaussian_process.cpython-37.pyc\n",
            "byte-compiling /usr/local/lib/python3.7/site-packages/deepchem/hyper/grid_search.py to grid_search.cpython-37.pyc\n",
            "byte-compiling /usr/local/lib/python3.7/site-packages/deepchem/hyper/__init__.py to __init__.cpython-37.pyc\n",
            "byte-compiling /usr/local/lib/python3.7/site-packages/deepchem/hyper/tests/__init__.py to __init__.cpython-37.pyc\n",
            "byte-compiling /usr/local/lib/python3.7/site-packages/deepchem/hyper/tests/test_hyperparam_opt.py to test_hyperparam_opt.cpython-37.pyc\n",
            "byte-compiling /usr/local/lib/python3.7/site-packages/deepchem/tests/test_init.py to test_init.cpython-37.pyc\n",
            "running install_egg_info\n",
            "Copying deepchem.egg-info to /usr/local/lib/python3.7/site-packages/deepchem-2.3.1.dev224-py3.7.egg-info\n",
            "running install_scripts\n",
            "/content/deepchem/.eggs/pbr-5.4.5-py3.7.egg/pbr/packaging.py:436: EasyInstallDeprecationWarning: Use get_header\n",
            "  header = easy_install.get_script_header(\"\", executable, is_wininst)\n"
          ],
          "name": "stdout"
        }
      ]
    },
    {
      "cell_type": "code",
      "metadata": {
        "id": "1mPxN3yLFAWR",
        "colab_type": "code",
        "colab": {}
      },
      "source": [
        "import os\n",
        "import sys\n",
        "import deepchem as dc\n",
        "from deepchem.utils.save import load_from_disk\n",
        "from deepchem.models import GraphConvModel "
      ],
      "execution_count": 0,
      "outputs": []
    },
    {
      "cell_type": "code",
      "metadata": {
        "id": "dz2X8DfvFAWZ",
        "colab_type": "code",
        "colab": {}
      },
      "source": [
        "import pandas as pd"
      ],
      "execution_count": 0,
      "outputs": []
    },
    {
      "cell_type": "code",
      "metadata": {
        "id": "uq407EOaFAWc",
        "colab_type": "code",
        "outputId": "f3c07f64-620e-445b-a3ba-ab99b060a6d7",
        "colab": {
          "base_uri": "https://localhost:8080/",
          "height": 34
        }
      },
      "source": [
        "print(pd)"
      ],
      "execution_count": 8,
      "outputs": [
        {
          "output_type": "stream",
          "text": [
            "<module 'pandas' from '/usr/local/lib/python3.6/dist-packages/pandas/__init__.py'>\n"
          ],
          "name": "stdout"
        }
      ]
    },
    {
      "cell_type": "code",
      "metadata": {
        "id": "dqn0ewhoFAWg",
        "colab_type": "code",
        "colab": {}
      },
      "source": [
        "from rdkit import Chem"
      ],
      "execution_count": 0,
      "outputs": []
    },
    {
      "cell_type": "code",
      "metadata": {
        "id": "pAXFZITNFAWi",
        "colab_type": "code",
        "colab": {}
      },
      "source": [
        "from rdkit.Chem import Draw"
      ],
      "execution_count": 0,
      "outputs": []
    },
    {
      "cell_type": "code",
      "metadata": {
        "id": "jHQqCl4yFAWl",
        "colab_type": "code",
        "colab": {}
      },
      "source": [
        "from rdkit.Chem import PandasTools"
      ],
      "execution_count": 0,
      "outputs": []
    },
    {
      "cell_type": "code",
      "metadata": {
        "id": "J6R04W28FAWq",
        "colab_type": "code",
        "colab": {}
      },
      "source": [
        "from rdkit.Chem import Descriptors"
      ],
      "execution_count": 0,
      "outputs": []
    },
    {
      "cell_type": "code",
      "metadata": {
        "id": "LZdELNhjFAWs",
        "colab_type": "code",
        "colab": {}
      },
      "source": [
        "from rdkit.Chem import rdmolops"
      ],
      "execution_count": 0,
      "outputs": []
    },
    {
      "cell_type": "code",
      "metadata": {
        "id": "dcfJWUizFAWv",
        "colab_type": "code",
        "outputId": "6aa411df-8262-4199-d12e-e5d0b441380c",
        "colab": {
          "base_uri": "https://localhost:8080/",
          "height": 71
        }
      },
      "source": [
        "import seaborn as sns"
      ],
      "execution_count": 14,
      "outputs": [
        {
          "output_type": "stream",
          "text": [
            "/usr/local/lib/python3.6/dist-packages/statsmodels/tools/_testing.py:19: FutureWarning: pandas.util.testing is deprecated. Use the functions in the public API at pandas.testing instead.\n",
            "  import pandas.util.testing as tm\n"
          ],
          "name": "stderr"
        }
      ]
    },
    {
      "cell_type": "code",
      "metadata": {
        "id": "Drx3uzGAFAW0",
        "colab_type": "code",
        "colab": {}
      },
      "source": [
        "data = pd.DataFrame()"
      ],
      "execution_count": 0,
      "outputs": []
    },
    {
      "cell_type": "code",
      "metadata": {
        "id": "w9zsZ_Y1FAW2",
        "colab_type": "code",
        "outputId": "ef901f4a-6587-43a9-de9a-01a58c3fbc7a",
        "colab": {
          "base_uri": "https://localhost:8080/",
          "height": 34
        }
      },
      "source": [
        "pd.__version__"
      ],
      "execution_count": 16,
      "outputs": [
        {
          "output_type": "execute_result",
          "data": {
            "text/plain": [
              "'1.0.3'"
            ]
          },
          "metadata": {
            "tags": []
          },
          "execution_count": 16
        }
      ]
    },
    {
      "cell_type": "code",
      "metadata": {
        "id": "tjpaVXBSFAW5",
        "colab_type": "code",
        "colab": {}
      },
      "source": [
        "current_dir = os.path.dirname(os.path.realpath(\"__file__\"))\n",
        "dc.utils.download_url(\"https://hermes.chem.ut.ee/~alfx/ML/train_smi.csv\",\n",
        "                      current_dir)"
      ],
      "execution_count": 0,
      "outputs": []
    },
    {
      "cell_type": "code",
      "metadata": {
        "id": "VyRzKK2oFAW7",
        "colab_type": "code",
        "colab": {}
      },
      "source": [
        "df = pd.read_csv(\"train_smi.csv\",sep=\" \")"
      ],
      "execution_count": 0,
      "outputs": []
    },
    {
      "cell_type": "code",
      "metadata": {
        "id": "mX0cVjrsFAW-",
        "colab_type": "code",
        "colab": {}
      },
      "source": [
        ""
      ],
      "execution_count": 0,
      "outputs": []
    },
    {
      "cell_type": "code",
      "metadata": {
        "id": "uzTyszhLFAXA",
        "colab_type": "code",
        "colab": {}
      },
      "source": [
        "df_rows, df_cols = df.shape"
      ],
      "execution_count": 0,
      "outputs": []
    },
    {
      "cell_type": "code",
      "metadata": {
        "id": "2EpFHu-tFAXC",
        "colab_type": "code",
        "outputId": "71208ec4-2908-4209-f2a2-47c1432f6f61",
        "colab": {
          "base_uri": "https://localhost:8080/",
          "height": 419
        }
      },
      "source": [
        "df"
      ],
      "execution_count": 20,
      "outputs": [
        {
          "output_type": "execute_result",
          "data": {
            "text/html": [
              "<div>\n",
              "<style scoped>\n",
              "    .dataframe tbody tr th:only-of-type {\n",
              "        vertical-align: middle;\n",
              "    }\n",
              "\n",
              "    .dataframe tbody tr th {\n",
              "        vertical-align: top;\n",
              "    }\n",
              "\n",
              "    .dataframe thead th {\n",
              "        text-align: right;\n",
              "    }\n",
              "</style>\n",
              "<table border=\"1\" class=\"dataframe\">\n",
              "  <thead>\n",
              "    <tr style=\"text-align: right;\">\n",
              "      <th></th>\n",
              "      <th>bindingClass</th>\n",
              "      <th>casrn</th>\n",
              "      <th>SMILES</th>\n",
              "      <th>Unnamed: 3</th>\n",
              "    </tr>\n",
              "  </thead>\n",
              "  <tbody>\n",
              "    <tr>\n",
              "      <th>0</th>\n",
              "      <td>0</td>\n",
              "      <td>1918-02-1</td>\n",
              "      <td>Nc1c(Cl)c([n]c(Cl)c1Cl)C(O)=O</td>\n",
              "      <td>NaN</td>\n",
              "    </tr>\n",
              "    <tr>\n",
              "      <th>1</th>\n",
              "      <td>1</td>\n",
              "      <td>50-27-1</td>\n",
              "      <td>C[C@]12CC[C@H]3[C@@H](CCc4cc(O)ccc43)[C@@H]1C[...</td>\n",
              "      <td>NaN</td>\n",
              "    </tr>\n",
              "    <tr>\n",
              "      <th>2</th>\n",
              "      <td>1</td>\n",
              "      <td>500-38-9</td>\n",
              "      <td>CC(Cc1cc(O)c(O)cc1)C(C)Cc1cc(O)c(O)cc1</td>\n",
              "      <td>NaN</td>\n",
              "    </tr>\n",
              "    <tr>\n",
              "      <th>3</th>\n",
              "      <td>1</td>\n",
              "      <td>521-18-6</td>\n",
              "      <td>C[C@]12CC[C@H]3[C@@H](CC[C@H]4CC(=O)CC[C@@]43C...</td>\n",
              "      <td>NaN</td>\n",
              "    </tr>\n",
              "    <tr>\n",
              "      <th>4</th>\n",
              "      <td>1</td>\n",
              "      <td>DB06710</td>\n",
              "      <td>CC12CCC3C(CCC4=CC(=O)CCC43C)C1CCC2(C)O</td>\n",
              "      <td>NaN</td>\n",
              "    </tr>\n",
              "    <tr>\n",
              "      <th>...</th>\n",
              "      <td>...</td>\n",
              "      <td>...</td>\n",
              "      <td>...</td>\n",
              "      <td>...</td>\n",
              "    </tr>\n",
              "    <tr>\n",
              "      <th>1666</th>\n",
              "      <td>0</td>\n",
              "      <td>NOCAS_48509</td>\n",
              "      <td>CCCN(C1CCN(CC1)C(=O)C1CCNCC1)[C@H]1Cc2cc(ccc2C...</td>\n",
              "      <td>NaN</td>\n",
              "    </tr>\n",
              "    <tr>\n",
              "      <th>1667</th>\n",
              "      <td>0</td>\n",
              "      <td>NOCAS_48514</td>\n",
              "      <td>Cc1ccc(c(Cl)c1)C(=O)NS(=O)(=O)/C=C/c1ccc(cc1)OC</td>\n",
              "      <td>NaN</td>\n",
              "    </tr>\n",
              "    <tr>\n",
              "      <th>1668</th>\n",
              "      <td>0</td>\n",
              "      <td>NOCAS_48516</td>\n",
              "      <td>O=C(NS(=O)(=O)/C=C/c1ccccc1)c1ccc(F)cc1Cl</td>\n",
              "      <td>NaN</td>\n",
              "    </tr>\n",
              "    <tr>\n",
              "      <th>1669</th>\n",
              "      <td>0</td>\n",
              "      <td>NOCAS_48518</td>\n",
              "      <td>O=C(NS(=O)(=O)/C=C/c1ccc[s]1)c1ccc(F)cc1Br</td>\n",
              "      <td>NaN</td>\n",
              "    </tr>\n",
              "    <tr>\n",
              "      <th>1670</th>\n",
              "      <td>0</td>\n",
              "      <td>102-71-6</td>\n",
              "      <td>OCCN(CCO)CCO</td>\n",
              "      <td>NaN</td>\n",
              "    </tr>\n",
              "  </tbody>\n",
              "</table>\n",
              "<p>1671 rows × 4 columns</p>\n",
              "</div>"
            ],
            "text/plain": [
              "      bindingClass  ... Unnamed: 3\n",
              "0                0  ...        NaN\n",
              "1                1  ...        NaN\n",
              "2                1  ...        NaN\n",
              "3                1  ...        NaN\n",
              "4                1  ...        NaN\n",
              "...            ...  ...        ...\n",
              "1666             0  ...        NaN\n",
              "1667             0  ...        NaN\n",
              "1668             0  ...        NaN\n",
              "1669             0  ...        NaN\n",
              "1670             0  ...        NaN\n",
              "\n",
              "[1671 rows x 4 columns]"
            ]
          },
          "metadata": {
            "tags": []
          },
          "execution_count": 20
        }
      ]
    },
    {
      "cell_type": "code",
      "metadata": {
        "id": "1aI9KOAlFAXE",
        "colab_type": "code",
        "colab": {}
      },
      "source": [
        "PandasTools.AddMoleculeColumnToFrame(df, \"SMILES\",\"Mol\")"
      ],
      "execution_count": 0,
      "outputs": []
    },
    {
      "cell_type": "code",
      "metadata": {
        "id": "uWO6lvGoJj6a",
        "colab_type": "code",
        "colab": {}
      },
      "source": [
        "current_dir = os.path.dirname(os.path.realpath(\"__file__\"))\n",
        "dc.utils.download_url(\"https://hermes.chem.ut.ee/~alfx/ML/binders_smi.csv\",  current_dir)"
      ],
      "execution_count": 0,
      "outputs": []
    },
    {
      "cell_type": "code",
      "metadata": {
        "id": "Vgs83tUjFAXG",
        "colab_type": "code",
        "colab": {}
      },
      "source": [
        "active_df = pd.read_csv(\"binders_smi.csv\",sep=\" \")"
      ],
      "execution_count": 0,
      "outputs": []
    },
    {
      "cell_type": "code",
      "metadata": {
        "id": "4qxo-E_1FAXI",
        "colab_type": "code",
        "colab": {}
      },
      "source": [
        ""
      ],
      "execution_count": 0,
      "outputs": []
    },
    {
      "cell_type": "code",
      "metadata": {
        "id": "KKivx9KTFAXK",
        "colab_type": "code",
        "colab": {}
      },
      "source": [
        "active_df_rows, active_df_cols = active_df.shape"
      ],
      "execution_count": 0,
      "outputs": []
    },
    {
      "cell_type": "code",
      "metadata": {
        "id": "0l-46hWUFAXO",
        "colab_type": "code",
        "outputId": "86ae7b67-b0e0-4770-b253-ddd6c2826927",
        "colab": {
          "base_uri": "https://localhost:8080/",
          "height": 419
        }
      },
      "source": [
        "active_df"
      ],
      "execution_count": 25,
      "outputs": [
        {
          "output_type": "execute_result",
          "data": {
            "text/html": [
              "<div>\n",
              "<style scoped>\n",
              "    .dataframe tbody tr th:only-of-type {\n",
              "        vertical-align: middle;\n",
              "    }\n",
              "\n",
              "    .dataframe tbody tr th {\n",
              "        vertical-align: top;\n",
              "    }\n",
              "\n",
              "    .dataframe thead th {\n",
              "        text-align: right;\n",
              "    }\n",
              "</style>\n",
              "<table border=\"1\" class=\"dataframe\">\n",
              "  <thead>\n",
              "    <tr style=\"text-align: right;\">\n",
              "      <th></th>\n",
              "      <th>bindingClass</th>\n",
              "      <th>casrn</th>\n",
              "      <th>SMILES</th>\n",
              "    </tr>\n",
              "  </thead>\n",
              "  <tbody>\n",
              "    <tr>\n",
              "      <th>0</th>\n",
              "      <td>1</td>\n",
              "      <td>50-27-1</td>\n",
              "      <td>C[C@]12CC[C@H]3[C@@H](CCc4cc(O)ccc43)[C@@H]1C[...</td>\n",
              "    </tr>\n",
              "    <tr>\n",
              "      <th>1</th>\n",
              "      <td>1</td>\n",
              "      <td>500-38-9</td>\n",
              "      <td>CC(Cc1cc(O)c(O)cc1)C(C)Cc1cc(O)c(O)cc1</td>\n",
              "    </tr>\n",
              "    <tr>\n",
              "      <th>2</th>\n",
              "      <td>1</td>\n",
              "      <td>521-18-6</td>\n",
              "      <td>C[C@]12CC[C@H]3[C@@H](CC[C@H]4CC(=O)CC[C@@]43C...</td>\n",
              "    </tr>\n",
              "    <tr>\n",
              "      <th>3</th>\n",
              "      <td>1</td>\n",
              "      <td>DB06710</td>\n",
              "      <td>CC12CCC3C(CCC4=CC(=O)CCC43C)C1CCC2(C)O</td>\n",
              "    </tr>\n",
              "    <tr>\n",
              "      <th>4</th>\n",
              "      <td>1</td>\n",
              "      <td>50-28-2</td>\n",
              "      <td>C[C@]12CC[C@H]3[C@@H](CCc4cc(O)ccc43)[C@@H]1CC...</td>\n",
              "    </tr>\n",
              "    <tr>\n",
              "      <th>...</th>\n",
              "      <td>...</td>\n",
              "      <td>...</td>\n",
              "      <td>...</td>\n",
              "    </tr>\n",
              "    <tr>\n",
              "      <th>200</th>\n",
              "      <td>1</td>\n",
              "      <td>NOCAS_47353</td>\n",
              "      <td>CN(C)C(=O)C1(CCN(CCC2(CN(CCO2)C(=O)c2ccccc2)c2...</td>\n",
              "    </tr>\n",
              "    <tr>\n",
              "      <th>201</th>\n",
              "      <td>1</td>\n",
              "      <td>NOCAS_47377</td>\n",
              "      <td>CC(C)N1CCC(CC1)NC(=O)c1cc2cc(ccc2[n]1Cc1cc(o[n...</td>\n",
              "    </tr>\n",
              "    <tr>\n",
              "      <th>202</th>\n",
              "      <td>1</td>\n",
              "      <td>NOCAS_47379</td>\n",
              "      <td>CCN(Cc1c[n]ccc1)C(=O)c1cccc(Cl)c1[C@]1(C)C(=O)...</td>\n",
              "    </tr>\n",
              "    <tr>\n",
              "      <th>203</th>\n",
              "      <td>1</td>\n",
              "      <td>NOCAS_47389</td>\n",
              "      <td>CCOC(=O)c1ccc(cc1)[C@@H]1CC[C@H](CC1)NC[C@H](O...</td>\n",
              "    </tr>\n",
              "    <tr>\n",
              "      <th>204</th>\n",
              "      <td>1</td>\n",
              "      <td>NOCAS_48505</td>\n",
              "      <td>Cc1[nH][n]c2Nc3ccc(cc3C(=Nc21)c1ccccc1Cl)[N+](...</td>\n",
              "    </tr>\n",
              "  </tbody>\n",
              "</table>\n",
              "<p>205 rows × 3 columns</p>\n",
              "</div>"
            ],
            "text/plain": [
              "     bindingClass  ...                                             SMILES\n",
              "0               1  ...  C[C@]12CC[C@H]3[C@@H](CCc4cc(O)ccc43)[C@@H]1C[...\n",
              "1               1  ...             CC(Cc1cc(O)c(O)cc1)C(C)Cc1cc(O)c(O)cc1\n",
              "2               1  ...  C[C@]12CC[C@H]3[C@@H](CC[C@H]4CC(=O)CC[C@@]43C...\n",
              "3               1  ...             CC12CCC3C(CCC4=CC(=O)CCC43C)C1CCC2(C)O\n",
              "4               1  ...  C[C@]12CC[C@H]3[C@@H](CCc4cc(O)ccc43)[C@@H]1CC...\n",
              "..            ...  ...                                                ...\n",
              "200             1  ...  CN(C)C(=O)C1(CCN(CCC2(CN(CCO2)C(=O)c2ccccc2)c2...\n",
              "201             1  ...  CC(C)N1CCC(CC1)NC(=O)c1cc2cc(ccc2[n]1Cc1cc(o[n...\n",
              "202             1  ...  CCN(Cc1c[n]ccc1)C(=O)c1cccc(Cl)c1[C@]1(C)C(=O)...\n",
              "203             1  ...  CCOC(=O)c1ccc(cc1)[C@@H]1CC[C@H](CC1)NC[C@H](O...\n",
              "204             1  ...  Cc1[nH][n]c2Nc3ccc(cc3C(=Nc21)c1ccccc1Cl)[N+](...\n",
              "\n",
              "[205 rows x 3 columns]"
            ]
          },
          "metadata": {
            "tags": []
          },
          "execution_count": 25
        }
      ]
    },
    {
      "cell_type": "code",
      "metadata": {
        "id": "9p3toUgfFAXQ",
        "colab_type": "code",
        "colab": {}
      },
      "source": [
        ""
      ],
      "execution_count": 0,
      "outputs": []
    },
    {
      "cell_type": "code",
      "metadata": {
        "id": "3kL8GZzJFAXU",
        "colab_type": "code",
        "colab": {}
      },
      "source": [
        "PandasTools.AddMoleculeColumnToFrame(active_df,\"SMILES\",\"Mol\")"
      ],
      "execution_count": 0,
      "outputs": []
    },
    {
      "cell_type": "code",
      "metadata": {
        "id": "IQHSCbKiFAXW",
        "colab_type": "code",
        "colab": {}
      },
      "source": [
        ""
      ],
      "execution_count": 0,
      "outputs": []
    },
    {
      "cell_type": "code",
      "metadata": {
        "id": "DIageR1qFAXY",
        "colab_type": "code",
        "colab": {}
      },
      "source": [
        "#df.columns = [\"SMILES\",\"s_m_title\",\"bindingClass\",\"Mol\"]"
      ],
      "execution_count": 0,
      "outputs": []
    },
    {
      "cell_type": "code",
      "metadata": {
        "id": "UidV8Q1dFAXa",
        "colab_type": "code",
        "outputId": "249a2447-0797-4020-f2b4-31f37fa16d4f",
        "colab": {
          "base_uri": "https://localhost:8080/",
          "height": 34
        }
      },
      "source": [
        "print([str(x) for x in active_df.columns])"
      ],
      "execution_count": 27,
      "outputs": [
        {
          "output_type": "stream",
          "text": [
            "['bindingClass', 'casrn', 'SMILES', 'Mol']\n"
          ],
          "name": "stdout"
        }
      ]
    },
    {
      "cell_type": "code",
      "metadata": {
        "id": "Rr-H-e6yJ1kZ",
        "colab_type": "code",
        "colab": {}
      },
      "source": [
        "current_dir = os.path.dirname(os.path.realpath(\"__file__\"))\n",
        "dc.utils.download_url(\"https://hermes.chem.ut.ee/~alfx/ML/nonbinders_smi.csv\",  current_dir)"
      ],
      "execution_count": 0,
      "outputs": []
    },
    {
      "cell_type": "code",
      "metadata": {
        "id": "u1gaZY_dFAXc",
        "colab_type": "code",
        "colab": {}
      },
      "source": [
        "inactive_df = pd.read_csv(\"nonbinders_smi.csv\",sep=\" \")"
      ],
      "execution_count": 0,
      "outputs": []
    },
    {
      "cell_type": "code",
      "metadata": {
        "id": "GCvZyUkHJ0rw",
        "colab_type": "code",
        "colab": {}
      },
      "source": [
        ""
      ],
      "execution_count": 0,
      "outputs": []
    },
    {
      "cell_type": "code",
      "metadata": {
        "id": "qjWUNMeTFAXe",
        "colab_type": "code",
        "colab": {}
      },
      "source": [
        "tmp_df = active_df.append(inactive_df)"
      ],
      "execution_count": 0,
      "outputs": []
    },
    {
      "cell_type": "code",
      "metadata": {
        "id": "S8ZB50XdFAXg",
        "colab_type": "code",
        "colab": {}
      },
      "source": [
        "active_df[\"label\"] = [\"Binders\"]*active_df_rows"
      ],
      "execution_count": 0,
      "outputs": []
    },
    {
      "cell_type": "code",
      "metadata": {
        "id": "4LVaI2BVFAXi",
        "colab_type": "code",
        "colab": {}
      },
      "source": [
        "PandasTools.AddMoleculeColumnToFrame(inactive_df,\"SMILES\",\"Mol\")"
      ],
      "execution_count": 0,
      "outputs": []
    },
    {
      "cell_type": "code",
      "metadata": {
        "id": "LG8Zt8DJFAXk",
        "colab_type": "code",
        "colab": {}
      },
      "source": [
        ""
      ],
      "execution_count": 0,
      "outputs": []
    },
    {
      "cell_type": "code",
      "metadata": {
        "id": "HarJ_yE1FAXm",
        "colab_type": "code",
        "colab": {}
      },
      "source": [
        "inactive_df_rows, inactive_df_cols = inactive_df.shape"
      ],
      "execution_count": 0,
      "outputs": []
    },
    {
      "cell_type": "code",
      "metadata": {
        "id": "27h5h-srFAXo",
        "colab_type": "code",
        "colab": {}
      },
      "source": [
        ""
      ],
      "execution_count": 0,
      "outputs": []
    },
    {
      "cell_type": "code",
      "metadata": {
        "id": "MzJX9AW9FAXq",
        "colab_type": "code",
        "colab": {}
      },
      "source": [
        "inactive_df[\"label\"] = [\"Nonbinders\"]*inactive_df_rows"
      ],
      "execution_count": 0,
      "outputs": []
    },
    {
      "cell_type": "code",
      "metadata": {
        "id": "AVyKgJfYFAXu",
        "colab_type": "code",
        "colab": {}
      },
      "source": [
        "tmp_df = active_df.append(inactive_df)"
      ],
      "execution_count": 0,
      "outputs": []
    },
    {
      "cell_type": "code",
      "metadata": {
        "id": "J-MQ45BzFAXw",
        "colab_type": "code",
        "colab": {}
      },
      "source": [
        ""
      ],
      "execution_count": 0,
      "outputs": []
    },
    {
      "cell_type": "code",
      "metadata": {
        "id": "Pf5LJtqAFAXz",
        "colab_type": "code",
        "outputId": "5e6d546c-6391-40b2-bdda-3452afa39b54",
        "colab": {
          "base_uri": "https://localhost:8080/",
          "height": 279
        }
      },
      "source": [
        "fig = sns.violinplot(tmp_df[\"label\"], tmp_df[\"ChimpDockScore\"])"
      ],
      "execution_count": 0,
      "outputs": [
        {
          "output_type": "display_data",
          "data": {
            "image/png": "[encoded data removed]",
            "text/plain": [
              "<Figure size 432x288 with 1 Axes>"
            ]
          },
          "metadata": {
            "tags": [],
            "needs_background": "light"
          }
        }
      ]
    },
    {
      "cell_type": "code",
      "metadata": {
        "id": "3uA4vxz1FAX3",
        "colab_type": "code",
        "colab": {}
      },
      "source": [
        "fig_chimpdockscore = fig.get_figure()"
      ],
      "execution_count": 0,
      "outputs": []
    },
    {
      "cell_type": "code",
      "metadata": {
        "id": "dVEh4PPLFAX5",
        "colab_type": "code",
        "colab": {}
      },
      "source": [
        "fig_chimpdockscore.savefig('fig_chimpdockscore.png',dpi=600)"
      ],
      "execution_count": 0,
      "outputs": []
    },
    {
      "cell_type": "code",
      "metadata": {
        "id": "fmMI0CwXFAX8",
        "colab_type": "code",
        "outputId": "83e2f5c4-a40f-4685-c9ec-1636744b1b40",
        "colab": {
          "base_uri": "https://localhost:8080/",
          "height": 279
        }
      },
      "source": [
        "fig2 = sns.violinplot(tmp_df[\"label\"], tmp_df[\"avgD_Act\"])"
      ],
      "execution_count": 0,
      "outputs": [
        {
          "output_type": "display_data",
          "data": {
            "image/png": "[encoded data removed]",
            "text/plain": [
              "<Figure size 432x288 with 1 Axes>"
            ]
          },
          "metadata": {
            "tags": [],
            "needs_background": "light"
          }
        }
      ]
    },
    {
      "cell_type": "code",
      "metadata": {
        "id": "SehHkG3hFAX_",
        "colab_type": "code",
        "colab": {}
      },
      "source": [
        "fig_avgD_Act = fig2.get_figure()"
      ],
      "execution_count": 0,
      "outputs": []
    },
    {
      "cell_type": "code",
      "metadata": {
        "id": "Nvw5FTApFAYB",
        "colab_type": "code",
        "colab": {}
      },
      "source": [
        "fig_avgD_Act.savefig('fig_avgD_Act.png',dpi=600)"
      ],
      "execution_count": 0,
      "outputs": []
    },
    {
      "cell_type": "code",
      "metadata": {
        "id": "Stxw--ZkFAYD",
        "colab_type": "code",
        "colab": {}
      },
      "source": [
        ""
      ],
      "execution_count": 0,
      "outputs": []
    },
    {
      "cell_type": "code",
      "metadata": {
        "id": "BgjfDulAFAYE",
        "colab_type": "code",
        "outputId": "52599524-afa3-4839-fc1b-e720c1a7ce19",
        "colab": {
          "base_uri": "https://localhost:8080/",
          "height": 279
        }
      },
      "source": [
        "fig3 = sns.violinplot(tmp_df[\"label\"], tmp_df[\"avgD_Inact\"])"
      ],
      "execution_count": 0,
      "outputs": [
        {
          "output_type": "display_data",
          "data": {
            "image/png": "[encoded data removed]",
            "text/plain": [
              "<Figure size 432x288 with 1 Axes>"
            ]
          },
          "metadata": {
            "tags": [],
            "needs_background": "light"
          }
        }
      ]
    },
    {
      "cell_type": "code",
      "metadata": {
        "id": "x2et5QcrFAYG",
        "colab_type": "code",
        "colab": {}
      },
      "source": [
        "fig_avgD_Inact = fig3.get_figure()"
      ],
      "execution_count": 0,
      "outputs": []
    },
    {
      "cell_type": "code",
      "metadata": {
        "id": "i-raJK76FAYI",
        "colab_type": "code",
        "colab": {}
      },
      "source": [
        "fig_avgD_Inact.savefig('fig_avgD_Inact.png',dpi=600)"
      ],
      "execution_count": 0,
      "outputs": []
    },
    {
      "cell_type": "code",
      "metadata": {
        "id": "W70JGlFgFAYL",
        "colab_type": "code",
        "colab": {}
      },
      "source": [
        ""
      ],
      "execution_count": 0,
      "outputs": []
    },
    {
      "cell_type": "code",
      "metadata": {
        "id": "8oc1WWe8FAYO",
        "colab_type": "code",
        "outputId": "45991e0e-ce83-4f54-e2a6-5c4d9ba39509",
        "colab": {
          "base_uri": "https://localhost:8080/",
          "height": 279
        }
      },
      "source": [
        "fig4 = sns.violinplot(tmp_df[\"label\"], tmp_df[\"P_Act_dockChimp\"])"
      ],
      "execution_count": 0,
      "outputs": [
        {
          "output_type": "display_data",
          "data": {
            "image/png": "[encoded data removed]",
            "text/plain": [
              "<Figure size 432x288 with 1 Axes>"
            ]
          },
          "metadata": {
            "tags": [],
            "needs_background": "light"
          }
        }
      ]
    },
    {
      "cell_type": "code",
      "metadata": {
        "id": "w3FR9EY7FAYT",
        "colab_type": "code",
        "colab": {}
      },
      "source": [
        "fig_P_Act_dockChimp = fig4.get_figure()"
      ],
      "execution_count": 0,
      "outputs": []
    },
    {
      "cell_type": "code",
      "metadata": {
        "id": "xr643W9pFAYU",
        "colab_type": "code",
        "colab": {}
      },
      "source": [
        "fig_P_Act_dockChimp.savefig('fig_P_Act_dockChimp.png',dpi=600)"
      ],
      "execution_count": 0,
      "outputs": []
    },
    {
      "cell_type": "code",
      "metadata": {
        "id": "hsQzg3qiFAYX",
        "colab_type": "code",
        "colab": {}
      },
      "source": [
        ""
      ],
      "execution_count": 0,
      "outputs": []
    },
    {
      "cell_type": "code",
      "metadata": {
        "id": "sNtaJmMJFAYZ",
        "colab_type": "code",
        "outputId": "3706c96d-d894-436a-f5ef-2f6600119c9a",
        "colab": {
          "base_uri": "https://localhost:8080/",
          "height": 281
        }
      },
      "source": [
        "fig5 = sns.violinplot(tmp_df[\"label\"], tmp_df[\"P_Inact\"])"
      ],
      "execution_count": 0,
      "outputs": [
        {
          "output_type": "display_data",
          "data": {
            "image/png": "[encoded data removed]",
            "text/plain": [
              "<Figure size 432x288 with 1 Axes>"
            ]
          },
          "metadata": {
            "tags": [],
            "needs_background": "light"
          }
        }
      ]
    },
    {
      "cell_type": "code",
      "metadata": {
        "id": "4gOLAguVFAYb",
        "colab_type": "code",
        "colab": {}
      },
      "source": [
        "fig_P_Inact = fig5.get_figure()"
      ],
      "execution_count": 0,
      "outputs": []
    },
    {
      "cell_type": "code",
      "metadata": {
        "id": "hEFOp3aVFAYd",
        "colab_type": "code",
        "colab": {}
      },
      "source": [
        "fig_P_Inact.savefig('fig_P_Inact.png',dpi=600)"
      ],
      "execution_count": 0,
      "outputs": []
    },
    {
      "cell_type": "code",
      "metadata": {
        "id": "OIlpWLMrFAYf",
        "colab_type": "code",
        "colab": {}
      },
      "source": [
        ""
      ],
      "execution_count": 0,
      "outputs": []
    },
    {
      "cell_type": "code",
      "metadata": {
        "id": "es8wYl4uFAYh",
        "colab_type": "code",
        "colab": {}
      },
      "source": [
        "bal_df = tmp_df"
      ],
      "execution_count": 0,
      "outputs": []
    },
    {
      "cell_type": "code",
      "metadata": {
        "id": "HEsUD3UtFAYi",
        "colab_type": "code",
        "colab": {}
      },
      "source": [
        "g = bal_df.groupby('bindingClass')\n",
        "g = pd.DataFrame(g.apply(lambda x: x.sample(g.size().min()).reset_index(drop=True)))"
      ],
      "execution_count": 0,
      "outputs": []
    },
    {
      "cell_type": "code",
      "metadata": {
        "id": "2e4aeKHZFAYk",
        "colab_type": "code",
        "outputId": "ad246b8e-4264-4267-d412-681142ca04c3",
        "colab": {
          "base_uri": "https://localhost:8080/",
          "height": 1000
        }
      },
      "source": [
        "g"
      ],
      "execution_count": 38,
      "outputs": [
        {
          "output_type": "execute_result",
          "data": {
            "text/html": [
              "<div>\n",
              "<style scoped>\n",
              "    .dataframe tbody tr th:only-of-type {\n",
              "        vertical-align: middle;\n",
              "    }\n",
              "\n",
              "    .dataframe tbody tr th {\n",
              "        vertical-align: top;\n",
              "    }\n",
              "\n",
              "    .dataframe thead th {\n",
              "        text-align: right;\n",
              "    }\n",
              "</style>\n",
              "<table border=\"1\" class=\"dataframe\">\n",
              "  <thead>\n",
              "    <tr style=\"text-align: right;\">\n",
              "      <th></th>\n",
              "      <th></th>\n",
              "      <th>bindingClass</th>\n",
              "      <th>casrn</th>\n",
              "      <th>SMILES</th>\n",
              "      <th>Mol</th>\n",
              "      <th>label</th>\n",
              "    </tr>\n",
              "    <tr>\n",
              "      <th>bindingClass</th>\n",
              "      <th></th>\n",
              "      <th></th>\n",
              "      <th></th>\n",
              "      <th></th>\n",
              "      <th></th>\n",
              "      <th></th>\n",
              "    </tr>\n",
              "  </thead>\n",
              "  <tbody>\n",
              "    <tr>\n",
              "      <th rowspan=\"5\" valign=\"top\">0</th>\n",
              "      <th>0</th>\n",
              "      <td>0</td>\n",
              "      <td>110-16-7</td>\n",
              "      <td>OC(=O)/C=C\\C(O)=O</td>\n",
              "      <td><img data-content=\"rdkit/molecule\" src=\"data:image/png;base64,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\" alt=\"Mol\"/></td>\n",
              "      <td>Nonbinders</td>\n",
              "    </tr>\n",
              "    <tr>\n",
              "      <th>1</th>\n",
              "      <td>0</td>\n",
              "      <td>121-75-5</td>\n",
              "      <td>CCOC(=O)C(CC(=O)OCC)SP(=S)(OC)OC</td>\n",
              "      <td><img data-content=\"rdkit/molecule\" src=\"data:image/png;base64,iVBORw0KGgoAAAANSUhEUgAAAMgAAADICAIAAAAiOjnJAAAABmJLR0QA/wD/AP+gvaeTAAAUz0lEQVR4nO3da1RTV9oH8H9CCAEBgYCKWhG1xSsi3qUjHcXXpcW2y4pv7YCKzmSsLl2z2tr0Ym9vZ1pW18yUdtVlsYpVR5kyVWewrR2xasfLdBzqpeINBMQgVAxQIkIISZ73w0GKFBEhOycJz2/5JSTZ+6H8u885+5yzj4KIwJijKeUugHkmDhYTgoPFhOBgMSE4WEwIDhYTgoPFhOBgMSE4WEwIDhYTgoPFhOBgMSE4WEwIDhYTgoPFhOBgMSE4WEwIDhYTgoPFhOBgMSE4WEwIDhYTgoPFhOBgMSE4WEwIDhYTgoPFhOBgMSE4WEwIDhYTgoPFhOBgMSE4WEwIDhYTgoPFhOBgMSE4WEwIDhYTgoPFhOBgMSE4WEwIDhYTgoPFhOBgMSFUchcgjNGIVasQHIzAQLz7rtzV9DieO2Jt2oTkZHz0ESorUVQkdzU9jucGy2DA4MEAEBGBsjKZi+l5PDdYgwahpAQASkubE8acyBP3sQwG7N2LcePwySfYvx8DByIiQu6aehxPHLGOH8eqVdiwATt34sMPERCA5ctx6pTcZfUsnhisCxcAYMSI5peff47MTFRXy1hRD+SJwbp4EQCGD7/jZUvOmFN4YrBaj1g3bsBoRGAgwsPlLaqn8bhg2e0oLIRCgagooFXIFAp56+ppPC5YV66goQEDBiAwEODtoGw8LljSENWyg9XmJXMWDw1WyxDV5iVzFo8LFh8SugZPC9ZJm61q/HjzyJEAUF8PgwFqNSIj5a6rx/G0Uzr/s3dvVVVVxfDh/YBLBQWHpk6NGThwisrTfk3X51Ej1vXr16uqqoKCgvr16wcg79y5Z44d+5PNJnddPZHAYNXU1BCRuPZ/7sKFCwBG3N6junjxYuuXzJkcH6za2tqNGzc+/PDDkydPnjZt2t///neHd3E3bZIk5Ww4zzXIwWE7H3a7/euvv96yZcuePXvMZjMAPz+/wsLCJ5988q233nrppZcU4ue+2ySpzQDGnIq6zWAwpKWlDRkyRGpQqVQmJCRs3bq1rq4uLS3Ny8sLQFJSUl1dXff76tisWbMA7N27l4iampp8fHyUSqUT+mU/1/Vgmc3m7OzsxMREKToABg4cqNfri4uLW39s3759QUFBAKKjo9u85XADBw4EcPnyZSKSNouDBw8W2iO7m64EKz8/X6/Xa7VaKU8ajSYpKSk3N9dut7f7+YKCgpEjRwLQarUHDhzoXsF3dfPmTYVCodForFYrEe3ZswfAnDlzBHXHOnYfwaqurs7IyBg3blzLZnT8+PHp6elGo/Ge3zWZTI8//jgAlUqVlpbWjYLv6r///a80Lkov33nnHQDPPvusiL7YPd07WDabLTc3NyUlxdfXV8pTcHCwTqc7derUffVks9lefPFFhULh5+1duXYtmc1drbl9eXl5CQkJ8fHxzz333Pr165966ikAGzdudGwvrJM6ClZBQcHrr78ecftOBGmvPDs7u7Gxscv9ZWVlnZ05kwCaNo3Ky7vcTmttoq9UKqUdvpUrV54/f94hXbD7dddgGQwG6S8EICoqKi0trdxBOaDTp2nwYAKof3/69tvutHT16tW0tLTBt+/ukqL/3nvvxcbGAggICNizZ49jamb3qaMRKzExMTU19ciRI47v1mikGTMIIB8fysy8329b6+q2bt0aHx/fMjf20EMPvf3229euXZM+0NDQsHjxYgAKhUKv19tsNkf/AuweHDCP1UVNTaTXE0AA6XRksXTqW3l5tGYNabXDhwy55wFpenq6M2fRWGvyBUuycSOp1QTQ9OlUWXnXj1VU0Lvv0ogRzUEE/rJ06ebNm00mU8fNO3MWjbUmd7CI6OhR6tuXABo2jG7evOMtq5Vycykpiby9myPVrx+tWUNnznS+eefMol2/fv3w4cMt22LmAsEiorIymjSJXn6ZbtyghQvpt7+ltWtp/Xrq1685T97e9MQTlJNDTU1daF7cLJp0QJqUlKRWq7Vabe/evXU6XVOXivQwrhEsIqqvJ5uN3nmHcnKIiJYsoTffJICGD6e0NPrhh242b7fb09LSpJ39X/3qV/X19d1s8OLFiy+88EL47dsVVSpVbGyst7c3gNmzZ1dXV3ezfXfnMsGSrFxJ339PRPTaa/TFF/Tvfzu2+U8//bRXr14Apk6d2rXZk/r6+uzs7ISEhJYD0qioqNdff720tJSIjh49Kl1jOGzYsPz8fMcW715cLFhpafSPfxARLVlCV66I6OHMmTORkZEA+vfv/+39zKLl5eXpdDp/f38pTwEBASkpKT8/IC0rK5s4cSIAf3//3bt3O7p8t+FiwTIaadEiWrWKXnlFZCfGGTNmAPDx8cm81yxaeXl5enr6mDFjWp8hzcjIuNnmOKMVnkUjlwuWszQ1Nen1eikoOp3O8rNZNKvVKu2VS7tNAMLDw/V6fUFBQSe7aJlFS0xMrK2tdfRvQER0x7GOi+mhwZJs375do9EAmD59+vXr16Ufnj9/Xq/X9+nTR8qTWq1OTEzMzs7uwrHeV199FRwcDGDMmDFFRUUOrt5ioT/84adjncuXHdx+9/ToYBHRsWPHpCO7yMjIV199ddKkSS2bvOjo6PT09Bs3bnSn/cLCQmkWLSQkJDc31zFFX7hAej317Utz5/50rHP4sGMad5CeHiwiMhgMEyZMUCgUKpUKgDQX5cAzpCaT6YknngDg5eXVrVm0H3+kjAyaMqXl9APFxd1xrJOTQ88/T1aroyrvDg4WEZHRaFQoFF5eXtu2bWtoaHB4+9IsmnS1SFdm0fLySKcjf//mPPXuTTodHTlyx7HOzZsUGkoAzZ5NLjCLxsEiIsrLywMwevRoob1kZ2dLs2ixsbHSvFfHrl69WvL++zRkSHOelEqaOZP+8he6Wy6PHm0+VzF0KJ096+Dq7xMHi4ho+/bt0kUQojtqmUULDw//912mf81mc05OTlJSkkql+l1MDAE0YADp9Z3aPS8ro4kTCSB/f5J1Fo2DRUT0yiuvAHjttdec0JfRaJw5c6Y0i7Z58+bWb506dWr16tUhISEtd6k8vWiRNTeX7msmrKGBliwhgBQK0uvv77udI92g9cc//rGDzwgPVklJSfdPzIk2f/58ADt37nROd21m0SorKzMyMuLi4loOSEeOHJmWltatA9KMDFKpCKDERHLcLNq5c+da5mJ8fX2lVRTaJTxY0n3J4eHhCQkJOp0uPT09NzfXYVc5O4h0t/T93h7SHZWVlS+//LKPj490AlvKk1arXbNmzenTpx3Tx5dfUlAQAd8lJnbzWrTq6uoPP/xw/PjxLdGPiYn54IMPOrh8Umyw7Hb72LFjWyavWwsLC4uPj//bq6/Se+/RP/9JV67QXW5LFM1isajVaqVSeevWLad1umPHDgCPPPLIvHnzYmNjR40alZKS0vlp/c66dKkiLm5geHjXZtFsNtuRI0d0Op2fn5/0VwsKCurkXIwz9rGampqKiopyc3PT09N1Ol1cXFygtPIs8PEvfvHTrIxaTSNHUlIS6fW0dSvl5VF9vRPOWkhLPERGRgpqv13r1q0DsG7dOiJqbGycMmUKgMMCJjm7Nov282UT4uLiMjIyOv//nmw771evXt2/f3/Zxx/TihX0y182X0Ta5t/kyXdcoSXmrMXu3bsBzJ07V0Tjd7NgwQIAO3bskF5KZ35aTis5VutZtKeffrqDXd5OLpvQGa50VFhdTceP06ZN9Pzz9OijNHQoLV16xxVaYs5a7Nr1weTJD6xd+5yIxu9m1KhRAE6ePElE5eXlAIKDg4X2mJOTI20o2p1Fk5ZNCA0NbTkg7XjZhHtypWC1S/wVWiUlKXl5uHHjYxGNt0taCUehUEjX3hw8eBBAXFyc6H5/PotWU1PT5WUTOubyi3P++tdYvVro0+EaGi4A0Gict4xWcXFxY2NjRESEdNmg0xaIi46OPnHixMKFCw8dOhQfHx8bG3vy5EmLxQIgLCwsOTl52bJlo0ePdkhfLr8GqVaLnTuxYgXKy7Fhg4AOqLGxAIBG47yF/9qsCOfMBeJCQ0P379+v1+vVavWlS5esVqu0bEJZWdmf//xnR6UKbrNqclERtmzBiRN45hnHNmyxXLPZTCpVH5VK69iWOyBjsHD7VqWVK1dKN8b1799fSC8iGnW8Rx9FeDjOncOJE2h1yVT3mc3SdtCp65S2WStVlkV4Bw0aNGjQIHHtu/ymUKJSITkZALZscWzDUrB8fZ36Rx1WV/dgSIi0U2UymcrLyzUajdA/s/O5SbAALF8OhQJZWaivd2CrZvNFOHfPHcC6AwcKqqt/MWIEAFth4e7p09+aM6dl6sgzuE+woqIwZQpqa7F7twNblWFTeO0aamuh1SI0FEBwfv4T33zzvI+P8wpwCvcJFoDUVMDBW8PbwXLiiCU9kEx62g889jFSbhWsRYvg749Dh1BU5JD27PYGpTLQy6u3Wv2AQxrslDZJ8tAnKrrJUaHE3x/6Z/Djv3BlG4a+2f32lErf0aMLiKyAEx/s2+6jOnnEklnyXAT8B99ngrr76CWzuaCkJLms7IXS0t8AdodU1ymtRyyLBcXF8PLCgw86rwCncKsRC0BEPEKGofoyig9g6OxuNGSvqzvi7z8tLGyl2XyJyKpQqB1WZMdaj1iXL8NqxbBh0Gic1LuzuNuIpVBg7BIAONW1XXi7yXTgypXFhYVztdoUu72xtFRXXb3def8dfvwRFRXw84M0a+WhO1hwvxELwLhUHH4DF/eg3gi/0E5+qbGxuKpqS1XVVovFAECh8Kqt/TwsbIVS6Vtevu7WreP+/tNFFn2btB2MioK0IrWH7mDBLYMVMABDZ+HyV8jPwqTVHX/WbjfX1u41GjeaTF8DBECtfiAk5OmwsBWNjaWlpb/x9g63Wiv9/GKdUjpQU4Pw8J7wyGo3DBaAmFRc/gonN3UUrGv/wanMCm3+D+rjAJTKXsHBT2q1ywICpkvHgGr14ICAeKeV3GzOHJSXw2ptfjlpEmprERPj7DLEU5BzH4LqGLZG/GkAGqqw4gz6Rt/xlrkG5/6GvA344TQAS1RccYw9NDQ1OPh/vbwC5am2DaMRq1YhOBiBgXj3XbmrEcU9RywvH8z5AIED0ef2emhkR8lBfLcRl/4BmwUAfEMwcoF64srhfcfKWGk7Nm1CcjLmzcPSpSgqwtChchckhFsFy9qA87twdgcW/BVN9TiaBu1u1BsR/wo+mYm6CgBQqhD1GMYtw4NzoWzntjP5GQx49FEAiIhAWRkHS1YV3+HMNny/Aw1VAJD/KRRKjF2M0U9h/3NorIe6F7RRGP0Uxi1Db9e+/mTQIJSUYMwYlJbi9lOAPI9r72PducMEAOHjMTYF0cm4sAcFexE6HH5hmPY86irgHy5rrZ1WVYXVqxESgqAg/P73clcjiisGi8hmMn1lK80NydnQvMPUqw+iUzAuFWGjmj90chPU/hj9lIx1sg641qbQbC6ort5ZVfWJxVLqreoXDCiGJGC8DlGPw6vVKZfaUtw4hwGTm1+SHQp3O4Xg6VxixLLb62pq/mY0ZtbVHZOmMTWaKK12WZ/AxUq/fj99ztaISzk4sw2F++AbjGfL0NSAfatRcRLP5EPhxCsU2L3IP2IZDL8zGjfb7XUAvLwCgoMXarWp/v5xd3yo4jucysTZLJhrAEDli6Gz0WiCbygMx1FTjCuHEDlDjvJZ++QPlt1eb7fX+fmNDwvThYQ8rVT6t7xltVYpvv/U60QGrn/f/KP+EzEuFaMXQRPU/JPoFHzzJk5v4WC5FPk3hY2NJYDVx6f1BUl2k+lgdfW2mprPBpgm9jn8L2iCMSoJE1ag37i23//xCj4YCi8fPFf+U9qY3OQZsczmgoqK//P27m+13hg8eHPLVSuNjZeNxi3V1dssljIACoWXZcBQLFyDh+bdsfPeWtBgDP4lSr5G/l8xYYXTfgXWMXmC1eYiOyJbTU220ZhZV3fk9s77Q1ptqla72Nu7E/fpjktFydc4vYWD5Trk2RQSWSor15vNF7y9+4SHv2G1Vp09+wBRk1Kp6d17XmioLjBw5n1ch24140/9Ya5p55w0k4k80z+3bv0nLGxFRMRGALduHff27tuv3wsREZvHjr0xZEh2YGDC/d3doNI0z5Se3CGmXnbf5Bmxbt78xmj8WLrIbtCg9a2PBLuo9CSWrsBFA0pLoXbW1evs7uQ/KnSYmBicOYNduzB/vtylMLe7maIDS5YAjl81hHWNB41YVVUYMAA2G0pLIWbNJ9Z5HjRiabVITITVim3b5C6FeVKw0GrVEI8Zht2WB20KAdhsiIyEwYAjR/Dww3JX06N51ojl5dW88N8XX8hdSk/nWSMWgLIyGAyYOlXuOno6jwtWz7hrz/V51qYQt+/a++gjVFY6an021gUeFyyDofmeKumuPSYTjwuWdNce4Nl37bk+z9rH+vZbhIfjpZc8/q491+dBwbpwAVOm4IEH8M030Drv+SWsXZ6yKTSZ8OSTMJkwfDhuPwWeycgjRiy7HfPm4csvERODo0fRq5fcBTHPGLFefBFffgmtFrt3c6pchPuPWDt2IDkZ3t7Yvx+PPCJ3NayZm49Yp09DpwOA99/nVLkUdx6xrl/HxIkwGLB0KV846mrcNVgWiyVlwYJni4snBwXh4EG+gcLVuOumcM2aNdl79yabzdZduzhVLsgtg7Vhw4aMjAyNRrMzK0vVt6/c5bB2uN+m8NixYzNmzLBYLJmZmanStcjM9bjZiHX16tX58+dbLJa1a9dyqlyZO41YDQ0N06dPz8vLmzVr1r59+zzsIcoexm1GLCJavnx5Xl5eZGRkVlYWp8rFuU2wPvvss6ysrMDAwM8//1zLFy+4PLfZFNrt9jfeeGPChAmPPfaY3LWwe3ObYDH34jabQuZeOFhMCA4WE4KDxYTgYDEhOFhMCA4WE4KDxYTgYDEhOFhMCA4WE4KDxYTgYDEhOFhMCA4WE4KDxYTgYDEhOFhMCA4WE4KDxYTgYDEhOFhMCA4WE4KDxYTgYDEhOFhMCA4WE4KDxYTgYDEhOFhMCA4WE4KDxYTgYDEhOFhMCA4WE4KDxYTgYDEhOFhMCA4WE4KDxYTgYDEhOFhMiP8Hg+EtR8NMdAAAAAAASUVORK5CYII=\" alt=\"Mol\"/></td>\n",
              "      <td>Nonbinders</td>\n",
              "    </tr>\n",
              "    <tr>\n",
              "      <th>2</th>\n",
              "      <td>0</td>\n",
              "      <td>64-67-5</td>\n",
              "      <td>CCOS(=O)(=O)OCC</td>\n",
              "      <td><img data-content=\"rdkit/molecule\" src=\"data:image/png;base64,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\" alt=\"Mol\"/></td>\n",
              "      <td>Nonbinders</td>\n",
              "    </tr>\n",
              "    <tr>\n",
              "      <th>3</th>\n",
              "      <td>0</td>\n",
              "      <td>6789-88-4</td>\n",
              "      <td>CCCCCCOC(=O)c1ccccc1</td>\n",
              "      <td><img data-content=\"rdkit/molecule\" src=\"data:image/png;base64,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\" alt=\"Mol\"/></td>\n",
              "      <td>Nonbinders</td>\n",
              "    </tr>\n",
              "    <tr>\n",
              "      <th>4</th>\n",
              "      <td>0</td>\n",
              "      <td>2528-16-7</td>\n",
              "      <td>OC(=O)c1ccccc1C(=O)OCc1ccccc1</td>\n",
              "      <td><img data-content=\"rdkit/molecule\" src=\"data:image/png;base64,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\" alt=\"Mol\"/></td>\n",
              "      <td>Nonbinders</td>\n",
              "    </tr>\n",
              "    <tr>\n",
              "      <th>...</th>\n",
              "      <th>...</th>\n",
              "      <td>...</td>\n",
              "      <td>...</td>\n",
              "      <td>...</td>\n",
              "      <td>...</td>\n",
              "      <td>...</td>\n",
              "    </tr>\n",
              "    <tr>\n",
              "      <th rowspan=\"5\" valign=\"top\">1</th>\n",
              "      <th>200</th>\n",
              "      <td>1</td>\n",
              "      <td>84-16-2</td>\n",
              "      <td>CC[C@H]([C@H](CC)c1ccc(O)cc1)c1ccc(O)cc1</td>\n",
              "      <td><img data-content=\"rdkit/molecule\" src=\"data:image/png;base64,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\" alt=\"Mol\"/></td>\n",
              "      <td>Binders</td>\n",
              "    </tr>\n",
              "    <tr>\n",
              "      <th>201</th>\n",
              "      <td>1</td>\n",
              "      <td>35691-65-7</td>\n",
              "      <td>N#CCCC(Br)(CBr)C#N</td>\n",
              "      <td><img data-content=\"rdkit/molecule\" src=\"data:image/png;base64,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\" alt=\"Mol\"/></td>\n",
              "      <td>Binders</td>\n",
              "    </tr>\n",
              "    <tr>\n",
              "      <th>202</th>\n",
              "      <td>1</td>\n",
              "      <td>143-50-0</td>\n",
              "      <td>O=C1C2(Cl)C3(Cl)C4(Cl)C2(Cl)C2(Cl)C(Cl)(C3(Cl)...</td>\n",
              "      <td><img data-content=\"rdkit/molecule\" src=\"data:image/png;base64,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\" alt=\"Mol\"/></td>\n",
              "      <td>Binders</td>\n",
              "    </tr>\n",
              "    <tr>\n",
              "      <th>203</th>\n",
              "      <td>1</td>\n",
              "      <td>DB01395</td>\n",
              "      <td>CC12CCC3C(C1C1CC1C12CCC(=O)O1)C1CC1C1=CC(=O)CC...</td>\n",
              "      <td><img data-content=\"rdkit/molecule\" src=\"data:image/png;base64,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\" alt=\"Mol\"/></td>\n",
              "      <td>Binders</td>\n",
              "    </tr>\n",
              "    <tr>\n",
              "      <th>204</th>\n",
              "      <td>1</td>\n",
              "      <td>125225-28-7</td>\n",
              "      <td>CC(C)C1CCC(Cc2ccc(Cl)cc2)C1(O)C[n]1c[n]c[n]1</td>\n",
              "      <td><img data-content=\"rdkit/molecule\" src=\"data:image/png;base64,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\" alt=\"Mol\"/></td>\n",
              "      <td>Binders</td>\n",
              "    </tr>\n",
              "  </tbody>\n",
              "</table>\n",
              "<p>410 rows × 5 columns</p>\n",
              "</div>"
            ],
            "text/plain": [
              "                  bindingClass  ...       label\n",
              "bindingClass                    ...            \n",
              "0            0               0  ...  Nonbinders\n",
              "             1               0  ...  Nonbinders\n",
              "             2               0  ...  Nonbinders\n",
              "             3               0  ...  Nonbinders\n",
              "             4               0  ...  Nonbinders\n",
              "...                        ...  ...         ...\n",
              "1            200             1  ...     Binders\n",
              "             201             1  ...     Binders\n",
              "             202             1  ...     Binders\n",
              "             203             1  ...     Binders\n",
              "             204             1  ...     Binders\n",
              "\n",
              "[410 rows x 5 columns]"
            ]
          },
          "metadata": {
            "tags": []
          },
          "execution_count": 38
        }
      ]
    },
    {
      "cell_type": "code",
      "metadata": {
        "id": "88kTaqYGFAYm",
        "colab_type": "code",
        "outputId": "b0572246-be98-4ba3-f439-f799dd4a91e5",
        "colab": {
          "base_uri": "https://localhost:8080/",
          "height": 1000
        }
      },
      "source": [
        "g.head()"
      ],
      "execution_count": 39,
      "outputs": [
        {
          "output_type": "execute_result",
          "data": {
            "text/html": [
              "<div>\n",
              "<style scoped>\n",
              "    .dataframe tbody tr th:only-of-type {\n",
              "        vertical-align: middle;\n",
              "    }\n",
              "\n",
              "    .dataframe tbody tr th {\n",
              "        vertical-align: top;\n",
              "    }\n",
              "\n",
              "    .dataframe thead th {\n",
              "        text-align: right;\n",
              "    }\n",
              "</style>\n",
              "<table border=\"1\" class=\"dataframe\">\n",
              "  <thead>\n",
              "    <tr style=\"text-align: right;\">\n",
              "      <th></th>\n",
              "      <th></th>\n",
              "      <th>bindingClass</th>\n",
              "      <th>casrn</th>\n",
              "      <th>SMILES</th>\n",
              "      <th>Mol</th>\n",
              "      <th>label</th>\n",
              "    </tr>\n",
              "    <tr>\n",
              "      <th>bindingClass</th>\n",
              "      <th></th>\n",
              "      <th></th>\n",
              "      <th></th>\n",
              "      <th></th>\n",
              "      <th></th>\n",
              "      <th></th>\n",
              "    </tr>\n",
              "  </thead>\n",
              "  <tbody>\n",
              "    <tr>\n",
              "      <th rowspan=\"5\" valign=\"top\">0</th>\n",
              "      <th>0</th>\n",
              "      <td>0</td>\n",
              "      <td>110-16-7</td>\n",
              "      <td>OC(=O)/C=C\\C(O)=O</td>\n",
              "      <td><img data-content=\"rdkit/molecule\" src=\"data:image/png;base64,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\" alt=\"Mol\"/></td>\n",
              "      <td>Nonbinders</td>\n",
              "    </tr>\n",
              "    <tr>\n",
              "      <th>1</th>\n",
              "      <td>0</td>\n",
              "      <td>121-75-5</td>\n",
              "      <td>CCOC(=O)C(CC(=O)OCC)SP(=S)(OC)OC</td>\n",
              "      <td><img data-content=\"rdkit/molecule\" src=\"data:image/png;base64,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\" alt=\"Mol\"/></td>\n",
              "      <td>Nonbinders</td>\n",
              "    </tr>\n",
              "    <tr>\n",
              "      <th>2</th>\n",
              "      <td>0</td>\n",
              "      <td>64-67-5</td>\n",
              "      <td>CCOS(=O)(=O)OCC</td>\n",
              "      <td><img data-content=\"rdkit/molecule\" src=\"data:image/png;base64,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\" alt=\"Mol\"/></td>\n",
              "      <td>Nonbinders</td>\n",
              "    </tr>\n",
              "    <tr>\n",
              "      <th>3</th>\n",
              "      <td>0</td>\n",
              "      <td>6789-88-4</td>\n",
              "      <td>CCCCCCOC(=O)c1ccccc1</td>\n",
              "      <td><img data-content=\"rdkit/molecule\" src=\"data:image/png;base64,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\" alt=\"Mol\"/></td>\n",
              "      <td>Nonbinders</td>\n",
              "    </tr>\n",
              "    <tr>\n",
              "      <th>4</th>\n",
              "      <td>0</td>\n",
              "      <td>2528-16-7</td>\n",
              "      <td>OC(=O)c1ccccc1C(=O)OCc1ccccc1</td>\n",
              "      <td><img data-content=\"rdkit/molecule\" src=\"data:image/png;base64,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\" alt=\"Mol\"/></td>\n",
              "      <td>Nonbinders</td>\n",
              "    </tr>\n",
              "  </tbody>\n",
              "</table>\n",
              "</div>"
            ],
            "text/plain": [
              "                bindingClass  ...       label\n",
              "bindingClass                  ...            \n",
              "0            0             0  ...  Nonbinders\n",
              "             1             0  ...  Nonbinders\n",
              "             2             0  ...  Nonbinders\n",
              "             3             0  ...  Nonbinders\n",
              "             4             0  ...  Nonbinders\n",
              "\n",
              "[5 rows x 5 columns]"
            ]
          },
          "metadata": {
            "tags": []
          },
          "execution_count": 39
        }
      ]
    },
    {
      "cell_type": "code",
      "metadata": {
        "id": "4AXTCzO4FAYn",
        "colab_type": "code",
        "outputId": "a670f3bd-c3bc-4332-e6e5-4f790b6dbcd1",
        "colab": {
          "base_uri": "https://localhost:8080/",
          "height": 34
        }
      },
      "source": [
        "g.shape"
      ],
      "execution_count": 40,
      "outputs": [
        {
          "output_type": "execute_result",
          "data": {
            "text/plain": [
              "(410, 5)"
            ]
          },
          "metadata": {
            "tags": []
          },
          "execution_count": 40
        }
      ]
    },
    {
      "cell_type": "code",
      "metadata": {
        "id": "ACy6ZmhNFAYp",
        "colab_type": "code",
        "colab": {}
      },
      "source": [
        "#user_specified_features = ['HumDockScore','RatDockScore','ChimpDockScore','AVG','P_Act_dockChimp','P_Inact','PredBayes','ratio','avgD_Act','avgD_Inact','PredBindingClass','predMLogR']"
      ],
      "execution_count": 0,
      "outputs": []
    },
    {
      "cell_type": "code",
      "metadata": {
        "id": "3xC-iNWgFAYq",
        "colab_type": "code",
        "colab": {}
      },
      "source": [
        ""
      ],
      "execution_count": 0,
      "outputs": []
    },
    {
      "cell_type": "code",
      "metadata": {
        "id": "6jXbiWibFAYr",
        "colab_type": "code",
        "colab": {}
      },
      "source": [
        "from itertools import islice\n",
        "from IPython.display import Image, display, HTML"
      ],
      "execution_count": 0,
      "outputs": []
    },
    {
      "cell_type": "code",
      "metadata": {
        "id": "vas_XKCaFAYt",
        "colab_type": "code",
        "colab": {}
      },
      "source": [
        "import tempfile, shutil"
      ],
      "execution_count": 0,
      "outputs": []
    },
    {
      "cell_type": "code",
      "metadata": {
        "id": "6j4bod52FAYv",
        "colab_type": "code",
        "colab": {}
      },
      "source": [
        "featurizer = dc.feat.ConvMolFeaturizer()\n",
        "loader = dc.data.CSVLoader(tasks=[\"bindingClass\"],\n",
        "    smiles_field=\"SMILES\",\n",
        "    featurizer=featurizer)"
      ],
      "execution_count": 0,
      "outputs": []
    },
    {
      "cell_type": "code",
      "metadata": {
        "id": "GxgSvQhuFAYy",
        "colab_type": "code",
        "colab": {}
      },
      "source": [
        "###featurizer = dc.feat.UserDefinedFeaturizer(user_specified_features)"
      ],
      "execution_count": 0,
      "outputs": []
    },
    {
      "cell_type": "code",
      "metadata": {
        "id": "W42lDTS8FAY0",
        "colab_type": "code",
        "colab": {}
      },
      "source": [
        "#featurizer = dc.feat.base_classes.UserDefinedFeaturizer(user_specified_features)"
      ],
      "execution_count": 0,
      "outputs": []
    },
    {
      "cell_type": "code",
      "metadata": {
        "id": "YIqkgVK5FAY2",
        "colab_type": "code",
        "colab": {}
      },
      "source": [
        "#loader = dc.data.data_loader.CSVLoader(\n",
        "###oader = dc.data.UserCSVLoader(\n",
        "      ###tasks=[\"bindingClass\"], smiles_field=['SMILES'], id_field=[\"casrn\"],\n",
        "     ### tasks=[\"bindingClass\"], id_field=\"casrn\",\n",
        "    ###  featurizer=featurizer)"
      ],
      "execution_count": 0,
      "outputs": []
    },
    {
      "cell_type": "code",
      "metadata": {
        "id": "KN0fdWC8FAY3",
        "colab_type": "code",
        "colab": {}
      },
      "source": [
        "g.to_csv('balanced.csv',index=False)"
      ],
      "execution_count": 0,
      "outputs": []
    },
    {
      "cell_type": "code",
      "metadata": {
        "id": "RczXfzQNFAY4",
        "colab_type": "code",
        "outputId": "88141b5c-6023-4a69-cf10-677993ac0842",
        "colab": {
          "base_uri": "https://localhost:8080/",
          "height": 34
        }
      },
      "source": [
        "g.columns"
      ],
      "execution_count": 45,
      "outputs": [
        {
          "output_type": "execute_result",
          "data": {
            "text/plain": [
              "Index(['bindingClass', 'casrn', 'SMILES', 'Mol', 'label'], dtype='object')"
            ]
          },
          "metadata": {
            "tags": []
          },
          "execution_count": 45
        }
      ]
    },
    {
      "cell_type": "code",
      "metadata": {
        "id": "7f1kst87FAY6",
        "colab_type": "code",
        "colab": {}
      },
      "source": [
        "###g.drop(columns=['s_sd_Canonical\\_QSARr','s_m_title','cas','cid', 'gsid',\n",
        "###       'dsstox_substance_id', 'preferred_name','InChI_Code_QSARr',\n",
        "###       'InChI Key_QSARr', 'BindingClass'])"
      ],
      "execution_count": 0,
      "outputs": []
    },
    {
      "cell_type": "code",
      "metadata": {
        "id": "KR4M2exNFAY7",
        "colab_type": "code",
        "colab": {}
      },
      "source": [
        "g.to_csv('balanced_droppedcols.csv',index=False)"
      ],
      "execution_count": 0,
      "outputs": []
    },
    {
      "cell_type": "code",
      "metadata": {
        "id": "JY__2nOBFAY-",
        "colab_type": "code",
        "colab": {}
      },
      "source": [
        "#dataset_file = \"test.csv\""
      ],
      "execution_count": 0,
      "outputs": []
    },
    {
      "cell_type": "code",
      "metadata": {
        "id": "A55-A1h7FAZA",
        "colab_type": "code",
        "colab": {}
      },
      "source": [
        "#dataset = pd.read_csv(\"balanced_droppedcols.csv\")"
      ],
      "execution_count": 0,
      "outputs": []
    },
    {
      "cell_type": "code",
      "metadata": {
        "id": "RUQFA1PFFAZB",
        "colab_type": "code",
        "colab": {}
      },
      "source": [
        "#user_specified_features = ['MW','AlogP','HBA','HBD','RB','HeavyAtomCount','ChiralCenterCount','ChiralCenterCountAllPossible','RingCount','PSA','Estate','MR','Polar','sLi_Key','ssBe_Key','ssssBem_Key','sBH2_Key','ssBH_Key','sssB_Key','ssssBm_Key','sCH3_Key','dCH2_Key','ssCH2_Key','tCH_Key','dsCH_Key','aaCH_Key','sssCH_Key','ddC_Key','tsC_Key','dssC_Key','aasC_Key','aaaC_Key','ssssC_Key','sNH3_Key','sNH2_Key','ssNH2_Key','dNH_Key','ssNH_Key','aaNH_Key','tN_Key','sssNH_Key','dsN_Key','aaN_Key','sssN_Key','ddsN_Key','aasN_Key','ssssN_Key','daaN_Key','sOH_Key','dO_Key','ssO_Key','aaO_Key','aOm_Key','sOm_Key','sF_Key','sSiH3_Key','ssSiH2_Key','sssSiH_Key','ssssSi_Key','sPH2_Key','ssPH_Key','sssP_Key','dsssP_Key','ddsP_Key','sssssP_Key','sSH_Key','dS_Key','ssS_Key','aaS_Key','dssS_Key','ddssS_Key','ssssssS_Key','Sm_Key','sCl_Key','sGeH3_Key','ssGeH2_Key','sssGeH_Key','ssssGe_Key','sAsH2_Key','ssAsH_Key','sssAs_Key','dsssAs_Key','ddsAs_Key','sssssAs_Key','sSeH_Key','dSe_Key','ssSe_Key','aaSe_Key','dssSe_Key','ssssssSe_Key','ddssSe_Key','sBr_Key','sSnH3_Key','ssSnH2_Key','sssSnH_Key','ssssSn_Key','sI_Key','sPbH3_Key','ssPbH2_Key','sssPbH_Key','ssssPb_Key','sLi_Cnt','ssBe_Cnt','ssssBem_Cnt','sBH2_Cnt','ssBH_Cnt','sssB_Cnt','ssssBm_Cnt','sCH3_Cnt','dCH2_Cnt','ssCH2_Cnt','tCH_Cnt','dsCH_Cnt','aaCH_Cnt','sssCH_Cnt','ddC_Cnt','tsC_Cnt','dssC_Cnt','aasC_Cnt','aaaC_Cnt','ssssC_Cnt','sNH3_Cnt','sNH2_Cnt','ssNH2_Cnt','dNH_Cnt','ssNH_Cnt','aaNH_Cnt','tN_Cnt','sssNH_Cnt','dsN_Cnt','aaN_Cnt','sssN_Cnt','ddsN_Cnt','aasN_Cnt','ssssN_Cnt','daaN_Cnt','sOH_Cnt','dO_Cnt','ssO_Cnt','aaO_Cnt','aOm_Cnt','sOm_Cnt','sF_Cnt','sSiH3_Cnt','ssSiH2_Cnt','sssSiH_Cnt','ssssSi_Cnt','sPH2_Cnt','ssPH_Cnt','sssP_Cnt','dsssP_Cnt','ddsP_Cnt','sssssP_Cnt','sSH_Cnt','dS_Cnt','ssS_Cnt','aaS_Cnt','dssS_Cnt','ddssS_Cnt','ssssssS_Cnt','Sm_Cnt','sCl_Cnt','sGeH3_Cnt','ssGeH2_Cnt','sssGeH_Cnt','ssssGe_Cnt','sAsH2_Cnt','ssAsH_Cnt','sssAs_Cnt','dsssAs_Cnt','ddsAs_Cnt','sssssAs_Cnt','sSeH_Cnt','dSe_Cnt','ssSe_Cnt','aaSe_Cnt','dssSe_Cnt','ssssssSe_Cnt','ddssSe_Cnt','sBr_Cnt','sSnH3_Cnt','ssSnH2_Cnt','sssSnH_Cnt','ssssSn_Cnt','sI_Cnt','sPbH3_Cnt','ssPbH2_Cnt','sssPbH_Cnt','ssssPb_Cnt','sLi_Sum','ssBe_Sum','ssssBem_Sum','sBH2_Sum','ssBH_Sum','sssB_Sum','ssssBm_Sum','sCH3_Sum','dCH2_Sum','ssCH2_Sum','tCH_Sum','dsCH_Sum','aaCH_Sum','sssCH_Sum','ddC_Sum','tsC_Sum','dssC_Sum','aasC_Sum','aaaC_Sum','ssssC_Sum','sNH3_Sum','sNH2_Sum','ssNH2_Sum','dNH_Sum','ssNH_Sum','aaNH_Sum','tN_Sum','sssNH_Sum','dsN_Sum','aaN_Sum','sssN_Sum','ddsN_Sum','aasN_Sum','ssssN_Sum','daaN_Sum','sOH_Sum','dO_Sum','ssO_Sum','aaO_Sum','aOm_Sum','sOm_Sum','sF_Sum','sSiH3_Sum','ssSiH2_Sum','sssSiH_Sum','ssssSi_Sum','sPH2_Sum','ssPH_Sum','sssP_Sum','dsssP_Sum','ddsP_Sum','sssssP_Sum','sSH_Sum','dS_Sum','ssS_Sum','aaS_Sum','dssS_Sum','ddssS_Sum','ssssssS_Sum','Sm_Sum','sCl_Sum','sGeH3_Sum','ssGeH2_Sum','sssGeH_Sum','ssssGe_Sum','sAsH2_Sum','ssAsH_Sum','sssAs_Sum','dsssAs_Sum','ddsAs_Sum','sssssAs_Sum','sSeH_Sum','dSe_Sum','ssSe_Sum','aaSe_Sum','dssSe_Sum','ssssssSe_Sum','ddssSe_Sum','sBr_Sum','sSnH3_Sum','ssSnH2_Sum','sssSnH_Sum','ssssSn_Sum','sI_Sum','sPbH3_Sum','ssPbH2_Sum','sssPbH_Sum','ssssPb_Sum','sLi_Avg','ssBe_Avg','ssssBem_Avg','sBH2_Avg','ssBH_Avg','sssB_Avg','ssssBm_Avg','sCH3_Avg','dCH2_Avg','ssCH2_Avg','tCH_Avg','dsCH_Avg','aaCH_Avg','sssCH_Avg','ddC_Avg','tsC_Avg','dssC_Avg','aasC_Avg','aaaC_Avg','ssssC_Avg','sNH3_Avg','sNH2_Avg','ssNH2_Avg','dNH_Avg','ssNH_Avg','aaNH_Avg','tN_Avg','sssNH_Avg','dsN_Avg','aaN_Avg','sssN_Avg','ddsN_Avg','aasN_Avg','ssssN_Avg','daaN_Avg','sOH_Avg','dO_Avg','ssO_Avg','aaO_Avg','aOm_Avg','sOm_Avg','sF_Avg','sSiH3_Avg','ssSiH2_Avg','sssSiH_Avg','ssssSi_Avg','sPH2_Avg','ssPH_Avg','sssP_Avg','dsssP_Avg','ddsP_Avg','sssssP_Avg','sSH_Avg','dS_Avg','ssS_Avg','aaS_Avg','dssS_Avg','ddssS_Avg','ssssssS_Avg','Sm_Avg','sCl_Avg','sGeH3_Avg','ssGeH2_Avg','sssGeH_Avg','ssssGe_Avg','sAsH2_Avg','ssAsH_Avg','sssAs_Avg','dsssAs_Avg','ddsAs_Avg','sssssAs_Avg','sSeH_Avg','dSe_Avg','ssSe_Avg','aaSe_Avg','dssSe_Avg','ssssssSe_Avg','ddssSe_Avg','sBr_Avg','sSnH3_Avg','ssSnH2_Avg','sssSnH_Avg','ssssSn_Avg','sI_Avg','sPbH3_Avg','ssPbH2_Avg','sssPbH_Avg','ssssPb_Avg','First Zagreb (ZM1)','First Zagreb index by valence vertex degrees (ZM1V)','Second Zagreb (ZM2)','Second Zagreb index by valence vertex degrees (ZM2V)','Polarity (Pol)','Narumi Simple Topological (NST)','Narumi Harmonic Topological (NHT)','Narumi Geometric Topological (NGT)','Total structure connectivity (TSC)','Wiener (W)','Mean Wiener (MW)','Xu (Xu)','Quadratic (QIndex)','Radial centric (RC)','Mean Square Distance Balaban (MSDB)','Superpendentic (SP)','Harary (Har)','Log of product of row sums (LPRS)','Pogliani (Pog)','Schultz Molecular Topological (SMT)','Schultz Molecular Topological by valence vertex degrees (SMTV)','Mean Distance Degree Deviation (MDDD)','Ramification (Ram)','Gutman Molecular Topological (GMT)','Gutman MTI by valence vertex degrees (GMTV)','Average vertex distance degree (AVDD)','Unipolarity (UP)','Centralization (CENT)','Variation (VAR)','Molecular electrotopological variation (MEV)','Maximal electrotopological positive variation (MEPV)','Maximal electrotopological negative variation (MENV)','Eccentric connectivity (ECCc)','Eccentricity (ECC)','Average eccentricity (AECC)','Eccentric (DECC)','Valence connectivity index chi-0 (vX0)','Valence connectivity index chi-1 (vX1)','Valence connectivity index chi-2 (vX2)','Valence connectivity index chi-3 (vX3)','Valence connectivity index chi-4 (vX4)','Valence connectivity index chi-5 (vX5)','Average valence connectivity index chi-0 (AvX0)','Average valence connectivity index chi-1 (AvX1)','Average valence connectivity index chi-2 (AvX2)','Average valence connectivity index chi-3 (AvX3)','Average valence connectivity index chi-4 (AvX4)','Average valence connectivity index chi-5 (AvX5)','Quasi Wiener (QW)','First Mohar (FM)','Second Mohar (SM)','Spanning tree number (STN)','Kier benzene-likeliness index (KBLI)','Topological charge index of order 1 (TCI1)','Topological charge index of order 2 (TCI2)','Topological charge index of order 3 (TCI3)','Topological charge index of order 4 (TCI4)','Topological charge index of order 5 (TCI5)','Topological charge index of order 6 (TCI6)','Topological charge index of order 7 (TCI7)','Topological charge index of order 8 (TCI8)','Topological charge index of order 9 (TCI9)','Topological charge index of order 10 (TCI10)','Mean topological charge index of order 1 (MTCI1)','Mean topological charge index of order 2 (MTCI2)','Mean topological charge index of order 3 (MTCI3)','Mean topological charge index of order 4 (MTCI4)','Mean topological charge index of order 5 (MTCI5)','Mean topological charge index of order 6 (MTCI6)','Mean topological charge index of order 7 (MTCI7)','Mean topological charge index of order 8 (MTCI8)','Mean topological charge index of order 9 (MTCI9)','Mean topological charge index of order 10 (MTCI10)','Global topological charge (GTC)','Hyper-distance-path index (HDPI)','Reciprocal hyper-distance-path index (RHDPI)','Square reciprocal distance sum (SRDS)','Modified Randic connectivity (MRC)','Balaban centric (BC)','Lopping centric (LC)','Kier Hall electronegativity (KHE)','Sum of topological distances between N..N (STD(N N))','Sum of topological distances between N..O (STD(N O))','Sum of topological distances between N..S (STD(N S))','Sum of topological distances between N..P (STD(N P))','Sum of topological distances between N..F (STD(N F))','Sum of topological distances between N..Cl (STD(N Cl))','Sum of topological distances between N..Br (STD(N Br))','Sum of topological distances between N..I (STD(N I))','Sum of topological distances between O..O (STD(O O))','Sum of topological distances between O..S (STD(O S))','Sum of topological distances between O..P (STD(O P))','Sum of topological distances between O..F (STD(O F))','Sum of topological distances between O..Cl (STD(O Cl))','Sum of topological distances between O..Br (STD(O Br))','Sum of topological distances between O..I (STD(O I))','Sum of topological distances between S..S (STD(S S))','Sum of topological distances between S..P (STD(S P))','Sum of topological distances between S..F (STD(S F))','Sum of topological distances between S..Cl (STD(S Cl))','Sum of topological distances between S..Br (STD(S Br))','Sum of topological distances between S..I (STD(S I))','Sum of topological distances between P..P (STD(P P))','Sum of topological distances between P..F (STD(P F))','Sum of topological distances between P..Cl (STD(P Cl))','Sum of topological distances between P..Br (STD(P Br))','Sum of topological distances between P..I (STD(P I))','Sum of topological distances between F..F (STD(F F))','Sum of topological distances between F..Cl (STD(F Cl))','Sum of topological distances between F..Br (STD(F Br))','Sum of topological distances between F..I (STD(F I))','Sum of topological distances between Cl..Cl (STD(Cl Cl))','Sum of topological distances between Cl..Br (STD(Cl Br))','Sum of topological distances between Cl..I (STD(Cl I))','Sum of topological distances between Br..Br (STD(Br Br))','Sum of topological distances between Br..I (STD(Br I))','Sum of topological distances between I..I (STD(I I))','Wiener-type index from Z weighted distance matrix - Barysz matrix (WhetZ)','Wiener-type index from electronegativity weighted distance matrix (Whete)','Wiener-type index from mass weighted distance matrix (Whetm)','Wiener-type index from van der waals weighted distance matrix (Whetv)','Wiener-type index from polarizability weighted distance matrix (Whetp)','Balaban-type index from Z weighted distance matrix - Barysz matrix (JhetZ)','Balaban-type index from electronegativity weighted distance matrix (Jhete)','Balaban-type index from mass weighted distance matrix (Jhetm)','Balaban-type index from van der waals weighted distance matrix (Jhetv)','Balaban-type index from polarizability weighted distance matrix (Jhetp)','Topological diameter (TD)','Topological radius (TR)','Petitjean 2D shape (PJ2DS)','Balaban distance connectivity index (J)','Solvation connectivity index chi-0 (SCIX0)','Solvation connectivity index chi-1 (SCIX1)','Solvation connectivity index chi-2 (SCIX2)','Solvation connectivity index chi-3 (SCIX3)','Solvation connectivity index chi-4 (SCIX4)','Solvation connectivity index chi-5 (SCIX5)','Connectivity index chi-0 (CIX0)','Connectivity chi-1 [Randic connectivity] (CIX1)','Connectivity index chi-2 (CIX2)','Connectivity index chi-3 (CIX3)','Connectivity index chi-4 (CIX4)','Connectivity index chi-5 (CIX5)','Average connectivity index chi-0 (ACIX0)','Average connectivity index chi-1 (ACIX1)','Average connectivity index chi-2 (ACIX2)','Average connectivity index chi-3 (ACIX3)','Average connectivity index chi-4 (ACIX4)','Average connectivity index chi-5 (ACIX5)','reciprocal distance Randic-type index (RDR)','reciprocal distance square Randic-type index (RDSR)','1-path Kier alpha-modified shape index (KAMS1)','2-path Kier alpha-modified shape index (KAMS2)','3-path Kier alpha-modified shape index (KAMS3)','Kier flexibility (KF)','path/walk 2 - Randic shape index (RSIpw2)','path/walk 3 - Randic shape index (RSIpw3)','path/walk 4 - Randic shape index (RSIpw4)','path/walk 5 - Randic shape index (RSIpw5)','E-state topological parameter (ETP)','Ring Count 3 (RNGCNT3)','Ring Count 4 (RNGCNT4)','Ring Count 5 (RNGCNT5)','Ring Count 6 (RNGCNT6)','Ring Count 7 (RNGCNT7)','Ring Count 8 (RNGCNT8)','Ring Count 9 (RNGCNT9)','Ring Count 10 (RNGCNT10)','Ring Count 11 (RNGCNT11)','Ring Count 12 (RNGCNT12)','Ring Count 13 (RNGCNT13)','Ring Count 14 (RNGCNT14)','Ring Count 15 (RNGCNT15)','Ring Count 16 (RNGCNT16)','Ring Count 17 (RNGCNT17)','Ring Count 18 (RNGCNT18)','Ring Count 19 (RNGCNT19)','Ring Count 20 (RNGCNT20)','Atom Count (ATMCNT)','Bond Count (BNDCNT)','Atoms in Ring System (ATMRNGCNT)','Bonds in Ring System (BNDRNGCNT)','Cyclomatic number (CYCLONUM)','Number of ring systems (NRS)','Normalized number of ring systems (NNRS)','Ring Fusion degree (RFD)','Ring perimeter (RNGPERM)','Ring bridge count (RNGBDGE)','Molecule cyclized degree (MCD)','Ring Fusion density (RFDELTA)','Ring complexity index (RCI)','Van der Waals surface area (VSA)','MR1 (MR1)','MR2 (MR2)','MR3 (MR3)','MR4 (MR4)','MR5 (MR5)','MR6 (MR6)','MR7 (MR7)','MR8 (MR8)','ALOGP1 (ALOGP1)','ALOGP2 (ALOGP2)','ALOGP3 (ALOGP3)','ALOGP4 (ALOGP4)','ALOGP5 (ALOGP5)','ALOGP6 (ALOGP6)','ALOGP7 (ALOGP7)','ALOGP8 (ALOGP8)','ALOGP9 (ALOGP9)','ALOGP10 (ALOGP10)','PEOE1 (PEOE1)','PEOE2 (PEOE2)','PEOE3 (PEOE3)','PEOE4 (PEOE4)','PEOE5 (PEOE5)','PEOE6 (PEOE6)','PEOE7 (PEOE7)','PEOE8 (PEOE8)','PEOE9 (PEOE9)','PEOE10 (PEOE10)','PEOE11 (PEOE11)','PEOE12 (PEOE12)','PEOE13 (PEOE13)','PEOE14 (PEOE14)']"
      ],
      "execution_count": 0,
      "outputs": []
    },
    {
      "cell_type": "code",
      "metadata": {
        "id": "yKKWkGmHFAZD",
        "colab_type": "code",
        "colab": {}
      },
      "source": [
        "#current_dir = os.path.dirname(os.path.realpath(\"__file__\"))\n",
        "#dc.utils.download_url(\"https://s3-us-west-1.amazonaws.com/deepchem.io/datasets/desc_canvas_aug30.csv\",\n",
        "#                      current_dir)\n",
        "#dataset_file = \"desc_canvas_aug30.csv\""
      ],
      "execution_count": 0,
      "outputs": []
    },
    {
      "cell_type": "code",
      "metadata": {
        "id": "4Jg-f4-xM4_f",
        "colab_type": "code",
        "colab": {}
      },
      "source": [
        "current_dir = os.path.dirname(os.path.realpath(\"__file__\"))\n",
        "dc.utils.download_url(\"https://hermes.chem.ut.ee/~alfx/ML/balanced_droppedcols1.csv\",  current_dir)"
      ],
      "execution_count": 0,
      "outputs": []
    },
    {
      "cell_type": "code",
      "metadata": {
        "id": "fnlIR1raFAZF",
        "colab_type": "code",
        "colab": {}
      },
      "source": [
        "dataset_file = \"balanced_droppedcols.csv\""
      ],
      "execution_count": 0,
      "outputs": []
    },
    {
      "cell_type": "code",
      "metadata": {
        "id": "C9Vz0J0zFAZH",
        "colab_type": "code",
        "outputId": "33621a51-13ae-4d45-fdda-6636eeb51810",
        "colab": {
          "base_uri": "https://localhost:8080/",
          "height": 105
        }
      },
      "source": [
        "dataset = loader.featurize(dataset_file)"
      ],
      "execution_count": 53,
      "outputs": [
        {
          "output_type": "stream",
          "text": [
            "/content/deepchem/deepchem/data/data_loader.py:269: FutureWarning: featurize() is deprecated and has been renamed to create_dataset(). featurize() will be removed in DeepChem 3.0\n",
            "  FutureWarning)\n"
          ],
          "name": "stderr"
        },
        {
          "output_type": "stream",
          "text": [
            "About to start loading CSV from balanced_droppedcols.csv\n",
            "Loading shard 1 of size 8192.\n"
          ],
          "name": "stdout"
        }
      ]
    },
    {
      "cell_type": "code",
      "metadata": {
        "id": "EGInx5CTFAZJ",
        "colab_type": "code",
        "colab": {}
      },
      "source": [
        "#dataset = loader.featurize(f)"
      ],
      "execution_count": 0,
      "outputs": []
    },
    {
      "cell_type": "code",
      "metadata": {
        "id": "TfqQP10KFAZL",
        "colab_type": "code",
        "outputId": "0a34a0b6-7ad5-4ae2-e894-4f5d4d5e4c8d",
        "colab": {
          "base_uri": "https://localhost:8080/",
          "height": 85
        }
      },
      "source": [
        "dataset"
      ],
      "execution_count": 54,
      "outputs": [
        {
          "output_type": "execute_result",
          "data": {
            "text/plain": [
              "<DiskDataset X.shape: (410,), y.shape: (410, 1), w.shape: (410, 1), ids: ['OC(=O)/C=C\\\\C(O)=O' 'CCOC(=O)C(CC(=O)OCC)SP(=S)(OC)OC' 'CCOS(=O)(=O)OCC'\n",
              " ... 'O=C1C2(Cl)C3(Cl)C4(Cl)C2(Cl)C2(Cl)C(Cl)(C3(Cl)C21Cl)C4(Cl)Cl'\n",
              " 'CC12CCC3C(C1C1CC1C12CCC(=O)O1)C1CC1C1=CC(=O)CCC13C'\n",
              " 'CC(C)C1CCC(Cc2ccc(Cl)cc2)C1(O)C[n]1c[n]c[n]1'], task_names: ['bindingClass']>"
            ]
          },
          "metadata": {
            "tags": []
          },
          "execution_count": 54
        }
      ]
    },
    {
      "cell_type": "code",
      "metadata": {
        "id": "Y22vBs8HFAZM",
        "colab_type": "code",
        "colab": {}
      },
      "source": [
        ""
      ],
      "execution_count": 0,
      "outputs": []
    },
    {
      "cell_type": "code",
      "metadata": {
        "id": "HEg67vPZdcVi",
        "colab_type": "code",
        "colab": {}
      },
      "source": [
        "current_dir = os.path.dirname(os.path.realpath(\"__file__\"))\n",
        "dc.utils.download_url(\"https://hermes.chem.ut.ee/~alfx/ML/Eval_set_smi.csv\",  current_dir)"
      ],
      "execution_count": 0,
      "outputs": []
    },
    {
      "cell_type": "code",
      "metadata": {
        "id": "Y1N9LgXtdmFb",
        "colab_type": "code",
        "colab": {}
      },
      "source": [
        "eval_df = pd.read_csv(\"Eval_set_smi.csv\",sep=\" \")"
      ],
      "execution_count": 0,
      "outputs": []
    },
    {
      "cell_type": "code",
      "metadata": {
        "id": "kuh-gyjEec45",
        "colab_type": "code",
        "outputId": "3d9c6b98-dcf6-4a6f-b888-4c6db67a30b2",
        "colab": {
          "base_uri": "https://localhost:8080/",
          "height": 419
        }
      },
      "source": [
        "eval_df"
      ],
      "execution_count": 58,
      "outputs": [
        {
          "output_type": "execute_result",
          "data": {
            "text/html": [
              "<div>\n",
              "<style scoped>\n",
              "    .dataframe tbody tr th:only-of-type {\n",
              "        vertical-align: middle;\n",
              "    }\n",
              "\n",
              "    .dataframe tbody tr th {\n",
              "        vertical-align: top;\n",
              "    }\n",
              "\n",
              "    .dataframe thead th {\n",
              "        text-align: right;\n",
              "    }\n",
              "</style>\n",
              "<table border=\"1\" class=\"dataframe\">\n",
              "  <thead>\n",
              "    <tr style=\"text-align: right;\">\n",
              "      <th></th>\n",
              "      <th>bindingClass</th>\n",
              "      <th>casrn</th>\n",
              "      <th>SMILES</th>\n",
              "    </tr>\n",
              "  </thead>\n",
              "  <tbody>\n",
              "    <tr>\n",
              "      <th>0</th>\n",
              "      <td>1</td>\n",
              "      <td>123-30-8</td>\n",
              "      <td>NC1=CC=C(O)C=C1</td>\n",
              "    </tr>\n",
              "    <tr>\n",
              "      <th>1</th>\n",
              "      <td>1</td>\n",
              "      <td>153-78-6</td>\n",
              "      <td>NC1C=C2CC3=CC=CC=C3C2=CC=1</td>\n",
              "    </tr>\n",
              "    <tr>\n",
              "      <th>2</th>\n",
              "      <td>1</td>\n",
              "      <td>80809-81-0</td>\n",
              "      <td>CC1C(=O)C(CCCCC#CCCCC#CCO)=C(C)C(=O)C=1C</td>\n",
              "    </tr>\n",
              "    <tr>\n",
              "      <th>3</th>\n",
              "      <td>1</td>\n",
              "      <td>54965-21-8</td>\n",
              "      <td>CCCSC1C=C2N=C(NC(=O)OC)NC2=CC=1</td>\n",
              "    </tr>\n",
              "    <tr>\n",
              "      <th>4</th>\n",
              "      <td>1</td>\n",
              "      <td>28981-97-7</td>\n",
              "      <td>CC1=NN=C2CN=C(C3=CC(Cl)=CC=C3N21)C1C=CC=CC=1</td>\n",
              "    </tr>\n",
              "    <tr>\n",
              "      <th>...</th>\n",
              "      <td>...</td>\n",
              "      <td>...</td>\n",
              "      <td>...</td>\n",
              "    </tr>\n",
              "    <tr>\n",
              "      <th>3877</th>\n",
              "      <td>0</td>\n",
              "      <td>173159-57-4</td>\n",
              "      <td>CN(C)C(=O)C1C=CC(=CC=1S(=O)(=O)NC(=O)NC1N=C(C=...</td>\n",
              "    </tr>\n",
              "    <tr>\n",
              "      <th>3878</th>\n",
              "      <td>0</td>\n",
              "      <td>144651-06-9</td>\n",
              "      <td>CC1=CC(C)=NC(NC(=O)NS(=O)(=O)C2C=CC=CC=2C(=O)O...</td>\n",
              "    </tr>\n",
              "    <tr>\n",
              "      <th>3879</th>\n",
              "      <td>0</td>\n",
              "      <td>41318-75-6</td>\n",
              "      <td>BrC1=CC(Br)=C(C=C1)OC1C=CC(Br)=CC=1</td>\n",
              "    </tr>\n",
              "    <tr>\n",
              "      <th>3880</th>\n",
              "      <td>0</td>\n",
              "      <td>84852-53-9</td>\n",
              "      <td>BrC1C(CCC2=C(Br)C(Br)=C(Br)C(Br)=C2Br)=C(Br)C(...</td>\n",
              "    </tr>\n",
              "    <tr>\n",
              "      <th>3881</th>\n",
              "      <td>0</td>\n",
              "      <td>207122-16-5</td>\n",
              "      <td>BrC1C=C(Br)C(Br)=C(Br)C=1OC1C=C(Br)C(Br)=CC=1Br</td>\n",
              "    </tr>\n",
              "  </tbody>\n",
              "</table>\n",
              "<p>3882 rows × 3 columns</p>\n",
              "</div>"
            ],
            "text/plain": [
              "      bindingClass  ...                                             SMILES\n",
              "0                1  ...                                    NC1=CC=C(O)C=C1\n",
              "1                1  ...                         NC1C=C2CC3=CC=CC=C3C2=CC=1\n",
              "2                1  ...           CC1C(=O)C(CCCCC#CCCCC#CCO)=C(C)C(=O)C=1C\n",
              "3                1  ...                    CCCSC1C=C2N=C(NC(=O)OC)NC2=CC=1\n",
              "4                1  ...       CC1=NN=C2CN=C(C3=CC(Cl)=CC=C3N21)C1C=CC=CC=1\n",
              "...            ...  ...                                                ...\n",
              "3877             0  ...  CN(C)C(=O)C1C=CC(=CC=1S(=O)(=O)NC(=O)NC1N=C(C=...\n",
              "3878             0  ...  CC1=CC(C)=NC(NC(=O)NS(=O)(=O)C2C=CC=CC=2C(=O)O...\n",
              "3879             0  ...                BrC1=CC(Br)=C(C=C1)OC1C=CC(Br)=CC=1\n",
              "3880             0  ...  BrC1C(CCC2=C(Br)C(Br)=C(Br)C(Br)=C2Br)=C(Br)C(...\n",
              "3881             0  ...    BrC1C=C(Br)C(Br)=C(Br)C=1OC1C=C(Br)C(Br)=CC=1Br\n",
              "\n",
              "[3882 rows x 3 columns]"
            ]
          },
          "metadata": {
            "tags": []
          },
          "execution_count": 58
        }
      ]
    },
    {
      "cell_type": "code",
      "metadata": {
        "id": "TgVIsudAgz9N",
        "colab_type": "code",
        "colab": {}
      },
      "source": [
        "bal_eval = eval_df\n",
        "eval_df.to_csv('Eval_set_smi2.csv',index=False)"
      ],
      "execution_count": 0,
      "outputs": []
    },
    {
      "cell_type": "code",
      "metadata": {
        "id": "4Qkl7mvphXAQ",
        "colab_type": "code",
        "colab": {}
      },
      "source": [
        "eval_dataset_file = \"Eval_set_smi2.csv\""
      ],
      "execution_count": 0,
      "outputs": []
    },
    {
      "cell_type": "code",
      "metadata": {
        "id": "vMb6O98IhApC",
        "colab_type": "code",
        "outputId": "b1eaef31-1e95-4f22-fe76-5a224f4e344d",
        "colab": {
          "base_uri": "https://localhost:8080/",
          "height": 105
        }
      },
      "source": [
        "eval_dataset = loader.featurize(eval_dataset_file)"
      ],
      "execution_count": 61,
      "outputs": [
        {
          "output_type": "stream",
          "text": [
            "/content/deepchem/deepchem/data/data_loader.py:269: FutureWarning: featurize() is deprecated and has been renamed to create_dataset(). featurize() will be removed in DeepChem 3.0\n",
            "  FutureWarning)\n"
          ],
          "name": "stderr"
        },
        {
          "output_type": "stream",
          "text": [
            "About to start loading CSV from Eval_set_smi2.csv\n",
            "Loading shard 1 of size 8192.\n"
          ],
          "name": "stdout"
        }
      ]
    },
    {
      "cell_type": "code",
      "metadata": {
        "id": "FtdkrfcVd5g6",
        "colab_type": "code",
        "colab": {}
      },
      "source": [
        "#bal_eval = eval_df.groupby('bindingClass')\n",
        "#bal_eval = pd.DataFrame(eval_df.apply(lambda x: x.sample(eval_df.size().min()).reset_index(drop=True)))"
      ],
      "execution_count": 0,
      "outputs": []
    },
    {
      "cell_type": "code",
      "metadata": {
        "id": "QgPogQbX9I0u",
        "colab_type": "code",
        "colab": {}
      },
      "source": [
        "valid_dataset = eval_dataset"
      ],
      "execution_count": 0,
      "outputs": []
    },
    {
      "cell_type": "code",
      "metadata": {
        "id": "5Pj5wLqviVks",
        "colab_type": "code",
        "outputId": "987fab6b-192a-42b8-cfd9-a4a22587673e",
        "colab": {
          "base_uri": "https://localhost:8080/",
          "height": 1000
        }
      },
      "source": [
        "tmp_df"
      ],
      "execution_count": 63,
      "outputs": [
        {
          "output_type": "execute_result",
          "data": {
            "text/html": [
              "<div>\n",
              "<style scoped>\n",
              "    .dataframe tbody tr th:only-of-type {\n",
              "        vertical-align: middle;\n",
              "    }\n",
              "\n",
              "    .dataframe tbody tr th {\n",
              "        vertical-align: top;\n",
              "    }\n",
              "\n",
              "    .dataframe thead th {\n",
              "        text-align: right;\n",
              "    }\n",
              "</style>\n",
              "<table border=\"1\" class=\"dataframe\">\n",
              "  <thead>\n",
              "    <tr style=\"text-align: right;\">\n",
              "      <th></th>\n",
              "      <th>bindingClass</th>\n",
              "      <th>casrn</th>\n",
              "      <th>SMILES</th>\n",
              "      <th>Mol</th>\n",
              "      <th>label</th>\n",
              "    </tr>\n",
              "  </thead>\n",
              "  <tbody>\n",
              "    <tr>\n",
              "      <th>0</th>\n",
              "      <td>1</td>\n",
              "      <td>50-27-1</td>\n",
              "      <td>C[C@]12CC[C@H]3[C@@H](CCc4cc(O)ccc43)[C@@H]1C[...</td>\n",
              "      <td><img data-content=\"rdkit/molecule\" src=\"data:image/png;base64,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\" alt=\"Mol\"/></td>\n",
              "      <td>Binders</td>\n",
              "    </tr>\n",
              "    <tr>\n",
              "      <th>1</th>\n",
              "      <td>1</td>\n",
              "      <td>500-38-9</td>\n",
              "      <td>CC(Cc1cc(O)c(O)cc1)C(C)Cc1cc(O)c(O)cc1</td>\n",
              "      <td><img data-content=\"rdkit/molecule\" src=\"data:image/png;base64,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\" alt=\"Mol\"/></td>\n",
              "      <td>Binders</td>\n",
              "    </tr>\n",
              "    <tr>\n",
              "      <th>2</th>\n",
              "      <td>1</td>\n",
              "      <td>521-18-6</td>\n",
              "      <td>C[C@]12CC[C@H]3[C@@H](CC[C@H]4CC(=O)CC[C@@]43C...</td>\n",
              "      <td><img data-content=\"rdkit/molecule\" src=\"data:image/png;base64,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\" alt=\"Mol\"/></td>\n",
              "      <td>Binders</td>\n",
              "    </tr>\n",
              "    <tr>\n",
              "      <th>3</th>\n",
              "      <td>1</td>\n",
              "      <td>DB06710</td>\n",
              "      <td>CC12CCC3C(CCC4=CC(=O)CCC43C)C1CCC2(C)O</td>\n",
              "      <td><img data-content=\"rdkit/molecule\" src=\"data:image/png;base64,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\" alt=\"Mol\"/></td>\n",
              "      <td>Binders</td>\n",
              "    </tr>\n",
              "    <tr>\n",
              "      <th>4</th>\n",
              "      <td>1</td>\n",
              "      <td>50-28-2</td>\n",
              "      <td>C[C@]12CC[C@H]3[C@@H](CCc4cc(O)ccc43)[C@@H]1CC...</td>\n",
              "      <td><img data-content=\"rdkit/molecule\" src=\"data:image/png;base64,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\" alt=\"Mol\"/></td>\n",
              "      <td>Binders</td>\n",
              "    </tr>\n",
              "    <tr>\n",
              "      <th>...</th>\n",
              "      <td>...</td>\n",
              "      <td>...</td>\n",
              "      <td>...</td>\n",
              "      <td>...</td>\n",
              "      <td>...</td>\n",
              "    </tr>\n",
              "    <tr>\n",
              "      <th>1461</th>\n",
              "      <td>0</td>\n",
              "      <td>NOCAS_48509</td>\n",
              "      <td>CCCN(C1CCN(CC1)C(=O)C1CCNCC1)[C@H]1Cc2cc(ccc2C...</td>\n",
              "      <td><img data-content=\"rdkit/molecule\" src=\"data:image/png;base64,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\" alt=\"Mol\"/></td>\n",
              "      <td>Nonbinders</td>\n",
              "    </tr>\n",
              "    <tr>\n",
              "      <th>1462</th>\n",
              "      <td>0</td>\n",
              "      <td>NOCAS_48514</td>\n",
              "      <td>Cc1ccc(c(Cl)c1)C(=O)NS(=O)(=O)/C=C/c1ccc(cc1)OC</td>\n",
              "      <td><img data-content=\"rdkit/molecule\" src=\"data:image/png;base64,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\" alt=\"Mol\"/></td>\n",
              "      <td>Nonbinders</td>\n",
              "    </tr>\n",
              "    <tr>\n",
              "      <th>1463</th>\n",
              "      <td>0</td>\n",
              "      <td>NOCAS_48516</td>\n",
              "      <td>O=C(NS(=O)(=O)/C=C/c1ccccc1)c1ccc(F)cc1Cl</td>\n",
              "      <td><img data-content=\"rdkit/molecule\" src=\"data:image/png;base64,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\" alt=\"Mol\"/></td>\n",
              "      <td>Nonbinders</td>\n",
              "    </tr>\n",
              "    <tr>\n",
              "      <th>1464</th>\n",
              "      <td>0</td>\n",
              "      <td>NOCAS_48518</td>\n",
              "      <td>O=C(NS(=O)(=O)/C=C/c1ccc[s]1)c1ccc(F)cc1Br</td>\n",
              "      <td><img data-content=\"rdkit/molecule\" src=\"data:image/png;base64,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\" alt=\"Mol\"/></td>\n",
              "      <td>Nonbinders</td>\n",
              "    </tr>\n",
              "    <tr>\n",
              "      <th>1465</th>\n",
              "      <td>0</td>\n",
              "      <td>102-71-6</td>\n",
              "      <td>OCCN(CCO)CCO</td>\n",
              "      <td><img data-content=\"rdkit/molecule\" src=\"data:image/png;base64,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\" alt=\"Mol\"/></td>\n",
              "      <td>Nonbinders</td>\n",
              "    </tr>\n",
              "  </tbody>\n",
              "</table>\n",
              "<p>1671 rows × 5 columns</p>\n",
              "</div>"
            ],
            "text/plain": [
              "      bindingClass  ...       label\n",
              "0                1  ...     Binders\n",
              "1                1  ...     Binders\n",
              "2                1  ...     Binders\n",
              "3                1  ...     Binders\n",
              "4                1  ...     Binders\n",
              "...            ...  ...         ...\n",
              "1461             0  ...  Nonbinders\n",
              "1462             0  ...  Nonbinders\n",
              "1463             0  ...  Nonbinders\n",
              "1464             0  ...  Nonbinders\n",
              "1465             0  ...  Nonbinders\n",
              "\n",
              "[1671 rows x 5 columns]"
            ]
          },
          "metadata": {
            "tags": []
          },
          "execution_count": 63
        }
      ]
    },
    {
      "cell_type": "code",
      "metadata": {
        "id": "S8MVdlIkdxSN",
        "colab_type": "code",
        "colab": {}
      },
      "source": [
        "tmp_df.to_csv('tmp_df.csv', index=False)\n"
      ],
      "execution_count": 0,
      "outputs": []
    },
    {
      "cell_type": "code",
      "metadata": {
        "id": "69uy8VUWeHyK",
        "colab_type": "code",
        "colab": {}
      },
      "source": [
        "tmp_dataset_file = \"tmp_df.csv\""
      ],
      "execution_count": 0,
      "outputs": []
    },
    {
      "cell_type": "code",
      "metadata": {
        "id": "aSHVPm4xeRbs",
        "colab_type": "code",
        "outputId": "0945e066-0031-444a-ca0f-3473e3b54c26",
        "colab": {
          "base_uri": "https://localhost:8080/",
          "height": 105
        }
      },
      "source": [
        "tmp_dataset = loader.featurize(tmp_dataset_file)"
      ],
      "execution_count": 66,
      "outputs": [
        {
          "output_type": "stream",
          "text": [
            "/content/deepchem/deepchem/data/data_loader.py:269: FutureWarning: featurize() is deprecated and has been renamed to create_dataset(). featurize() will be removed in DeepChem 3.0\n",
            "  FutureWarning)\n"
          ],
          "name": "stderr"
        },
        {
          "output_type": "stream",
          "text": [
            "About to start loading CSV from tmp_df.csv\n",
            "Loading shard 1 of size 8192.\n"
          ],
          "name": "stdout"
        }
      ]
    },
    {
      "cell_type": "code",
      "metadata": {
        "id": "eIafkCRTLSsE",
        "colab_type": "code",
        "colab": {}
      },
      "source": [
        "def generate_graph_conv_model():\n",
        " batch_size = 128\n",
        " model = GraphConvModel(1, batch_size=batch_size,\n",
        " mode='classification',\n",
        " model_dir=\"MyGraphConv/model_dir\")\n",
        " return model"
      ],
      "execution_count": 0,
      "outputs": []
    },
    {
      "cell_type": "code",
      "metadata": {
        "id": "hcA-fKaNLTUn",
        "colab_type": "code",
        "colab": {}
      },
      "source": [
        "dataset_file = tmp_dataset\n",
        "tasks = [\"bindingClass\"]\n",
        "featurizer = dc.feat.ConvMolFeaturizer()\n",
        "loader = dc.data.CSVLoader(tasks=tasks,\n",
        "smiles_field=\"SMILES\",\n",
        "featurizer=featurizer)\n"
      ],
      "execution_count": 0,
      "outputs": []
    },
    {
      "cell_type": "code",
      "metadata": {
        "id": "6iBbTWhcNRbJ",
        "colab_type": "code",
        "colab": {}
      },
      "source": [
        "splitter = dc.splits.RandomSplitter()"
      ],
      "execution_count": 0,
      "outputs": []
    },
    {
      "cell_type": "code",
      "metadata": {
        "id": "MVLm_H4YNxrw",
        "colab_type": "code",
        "colab": {}
      },
      "source": [
        "import numpy as np"
      ],
      "execution_count": 0,
      "outputs": []
    },
    {
      "cell_type": "code",
      "metadata": {
        "id": "vRn77DFINR9m",
        "colab_type": "code",
        "colab": {}
      },
      "source": [
        "metrics = [\n",
        "dc.metrics.Metric(dc.metrics.matthews_corrcoef, np.mean,\n",
        "mode=\"classification\")]"
      ],
      "execution_count": 0,
      "outputs": []
    },
    {
      "cell_type": "code",
      "metadata": {
        "id": "Wj1pFBFDNWzp",
        "colab_type": "code",
        "outputId": "71ec1c4e-9683-4866-ce24-10dcfc01aa2c",
        "colab": {
          "base_uri": "https://localhost:8080/",
          "height": 751
        }
      },
      "source": [
        "training_score_list = []\n",
        "validation_score_list = []\n",
        "transformers = []\n",
        "cv_folds = 10\n",
        "for i in range(0, cv_folds):\n",
        "  model = generate_graph_conv_model()\n",
        "  res = splitter.train_valid_test_split(dataset)\n",
        "  train_dataset, valid_dataset, test_dataset = res\n",
        "  model.fit(train_dataset)\n",
        "  train_scores = model.evaluate(train_dataset, metrics,\n",
        "  transformers)\n",
        "  training_score_list.append(\n",
        "  train_scores[\"mean-matthews_corrcoef\"])\n",
        "  validation_scores = model.evaluate(valid_dataset,\n",
        "  metrics,\n",
        "  transformers)\n",
        "  validation_score_list.append(\n",
        "  validation_scores[\"mean-matthews_corrcoef\"])\n",
        "  print(training_score_list)\n",
        "  print(validation_score_list)"
      ],
      "execution_count": 72,
      "outputs": [
        {
          "output_type": "stream",
          "text": [
            "/usr/local/lib/python3.6/dist-packages/tensorflow/python/framework/indexed_slices.py:434: UserWarning: Converting sparse IndexedSlices to a dense Tensor of unknown shape. This may consume a large amount of memory.\n",
            "  \"Converting sparse IndexedSlices to a dense Tensor of unknown shape. \"\n"
          ],
          "name": "stderr"
        },
        {
          "output_type": "stream",
          "text": [
            "computed_metrics: [0.427711963429829]\n",
            "computed_metrics: [0.20839634901307524]\n",
            "[0.427711963429829]\n",
            "[0.20839634901307524]\n",
            "computed_metrics: [0.2778030391362528]\n",
            "computed_metrics: [0.25598254926276814]\n",
            "[0.427711963429829, 0.2778030391362528]\n",
            "[0.20839634901307524, 0.25598254926276814]\n",
            "computed_metrics: [0.48221747820786715]\n",
            "computed_metrics: [0.12986260094871305]\n",
            "[0.427711963429829, 0.2778030391362528, 0.48221747820786715]\n",
            "[0.20839634901307524, 0.25598254926276814, 0.12986260094871305]\n",
            "computed_metrics: [0.28268115065555605]\n",
            "computed_metrics: [0.27078853746435466]\n",
            "[0.427711963429829, 0.2778030391362528, 0.48221747820786715, 0.28268115065555605]\n",
            "[0.20839634901307524, 0.25598254926276814, 0.12986260094871305, 0.27078853746435466]\n",
            "computed_metrics: [0.23586410440785024]\n",
            "computed_metrics: [0.3136552719621171]\n",
            "[0.427711963429829, 0.2778030391362528, 0.48221747820786715, 0.28268115065555605, 0.23586410440785024]\n",
            "[0.20839634901307524, 0.25598254926276814, 0.12986260094871305, 0.27078853746435466, 0.3136552719621171]\n",
            "computed_metrics: [0.3235236825463798]\n",
            "computed_metrics: [0.03961058964021958]\n",
            "[0.427711963429829, 0.2778030391362528, 0.48221747820786715, 0.28268115065555605, 0.23586410440785024, 0.3235236825463798]\n",
            "[0.20839634901307524, 0.25598254926276814, 0.12986260094871305, 0.27078853746435466, 0.3136552719621171, 0.03961058964021958]\n",
            "computed_metrics: [0.45083657199536026]\n",
            "computed_metrics: [0.11873620498134879]\n",
            "[0.427711963429829, 0.2778030391362528, 0.48221747820786715, 0.28268115065555605, 0.23586410440785024, 0.3235236825463798, 0.45083657199536026]\n",
            "[0.20839634901307524, 0.25598254926276814, 0.12986260094871305, 0.27078853746435466, 0.3136552719621171, 0.03961058964021958, 0.11873620498134879]\n",
            "computed_metrics: [0.43771115542141037]\n",
            "computed_metrics: [0.4552444556393538]\n",
            "[0.427711963429829, 0.2778030391362528, 0.48221747820786715, 0.28268115065555605, 0.23586410440785024, 0.3235236825463798, 0.45083657199536026, 0.43771115542141037]\n",
            "[0.20839634901307524, 0.25598254926276814, 0.12986260094871305, 0.27078853746435466, 0.3136552719621171, 0.03961058964021958, 0.11873620498134879, 0.4552444556393538]\n",
            "computed_metrics: [0.24716948314961074]\n",
            "computed_metrics: [0.17246975748176038]\n",
            "[0.427711963429829, 0.2778030391362528, 0.48221747820786715, 0.28268115065555605, 0.23586410440785024, 0.3235236825463798, 0.45083657199536026, 0.43771115542141037, 0.24716948314961074]\n",
            "[0.20839634901307524, 0.25598254926276814, 0.12986260094871305, 0.27078853746435466, 0.3136552719621171, 0.03961058964021958, 0.11873620498134879, 0.4552444556393538, 0.17246975748176038]\n",
            "computed_metrics: [0.3287406048285316]\n",
            "computed_metrics: [0.33384893044479436]\n",
            "[0.427711963429829, 0.2778030391362528, 0.48221747820786715, 0.28268115065555605, 0.23586410440785024, 0.3235236825463798, 0.45083657199536026, 0.43771115542141037, 0.24716948314961074, 0.3287406048285316]\n",
            "[0.20839634901307524, 0.25598254926276814, 0.12986260094871305, 0.27078853746435466, 0.3136552719621171, 0.03961058964021958, 0.11873620498134879, 0.4552444556393538, 0.17246975748176038, 0.33384893044479436]\n"
          ],
          "name": "stdout"
        }
      ]
    },
    {
      "cell_type": "code",
      "metadata": {
        "id": "zjXBeFG4N2je",
        "colab_type": "code",
        "outputId": "36617f06-55b7-42ad-b216-a887faf6fe4e",
        "colab": {
          "base_uri": "https://localhost:8080/",
          "height": 267
        }
      },
      "source": [
        "fig_scores_GCNN = sns.boxplot(\n",
        "[\"training\"] * cv_folds + [\"validation\"] * cv_folds,\n",
        "training_score_list + validation_score_list)"
      ],
      "execution_count": 74,
      "outputs": [
        {
          "output_type": "display_data",
          "data": {
            "image/png": "[encoded data removed]",
            "text/plain": [
              "<Figure size 432x288 with 1 Axes>"
            ]
          },
          "metadata": {
            "tags": [],
            "needs_background": "light"
          }
        }
      ]
    },
    {
      "cell_type": "code",
      "metadata": {
        "id": "8K2i7y9Vyyzk",
        "colab_type": "code",
        "colab": {}
      },
      "source": [
        "Fig_scores_GCNN = fig_scores_GCNN.get_figure()"
      ],
      "execution_count": 0,
      "outputs": []
    },
    {
      "cell_type": "code",
      "metadata": {
        "id": "g34T8JThyxJg",
        "colab_type": "code",
        "colab": {}
      },
      "source": [
        "Fig_scores_GCNN.savefig('Fig_scores_GCNN.png',dpi=600)"
      ],
      "execution_count": 0,
      "outputs": []
    },
    {
      "cell_type": "code",
      "metadata": {
        "id": "2SwWmV_RNXT0",
        "colab_type": "code",
        "colab": {}
      },
      "source": [
        "pred = [x.flatten() for x in model.predict(valid_dataset)]"
      ],
      "execution_count": 0,
      "outputs": []
    },
    {
      "cell_type": "code",
      "metadata": {
        "id": "sSI-RGUvNXxi",
        "colab_type": "code",
        "colab": {}
      },
      "source": [
        "pred_df = pd.DataFrame(pred,columns=[\"neg\",\"pos\"])"
      ],
      "execution_count": 0,
      "outputs": []
    },
    {
      "cell_type": "code",
      "metadata": {
        "id": "JgWP0wgmQLsB",
        "colab_type": "code",
        "colab": {}
      },
      "source": [
        "pred_df[\"Active\"] = [int(x) for x in valid_dataset.y]\n",
        "pred_df[\"SMILES\"] = valid_dataset.ids"
      ],
      "execution_count": 0,
      "outputs": []
    },
    {
      "cell_type": "code",
      "metadata": {
        "id": "N3PIcmIhQMYr",
        "colab_type": "code",
        "outputId": "c63d4936-3f8c-4dc9-a294-f6caefc8784e",
        "colab": {
          "base_uri": "https://localhost:8080/",
          "height": 204
        }
      },
      "source": [
        "pred_df.head()"
      ],
      "execution_count": 80,
      "outputs": [
        {
          "output_type": "execute_result",
          "data": {
            "text/html": [
              "<div>\n",
              "<style scoped>\n",
              "    .dataframe tbody tr th:only-of-type {\n",
              "        vertical-align: middle;\n",
              "    }\n",
              "\n",
              "    .dataframe tbody tr th {\n",
              "        vertical-align: top;\n",
              "    }\n",
              "\n",
              "    .dataframe thead th {\n",
              "        text-align: right;\n",
              "    }\n",
              "</style>\n",
              "<table border=\"1\" class=\"dataframe\">\n",
              "  <thead>\n",
              "    <tr style=\"text-align: right;\">\n",
              "      <th></th>\n",
              "      <th>neg</th>\n",
              "      <th>pos</th>\n",
              "      <th>Active</th>\n",
              "      <th>SMILES</th>\n",
              "    </tr>\n",
              "  </thead>\n",
              "  <tbody>\n",
              "    <tr>\n",
              "      <th>0</th>\n",
              "      <td>0.526130</td>\n",
              "      <td>0.473870</td>\n",
              "      <td>0</td>\n",
              "      <td>OC(=O)/C=C\\C(O)=O</td>\n",
              "    </tr>\n",
              "    <tr>\n",
              "      <th>1</th>\n",
              "      <td>0.223955</td>\n",
              "      <td>0.776046</td>\n",
              "      <td>0</td>\n",
              "      <td>CCCCCCOC(=O)c1ccccc1</td>\n",
              "    </tr>\n",
              "    <tr>\n",
              "      <th>2</th>\n",
              "      <td>0.062088</td>\n",
              "      <td>0.937912</td>\n",
              "      <td>0</td>\n",
              "      <td>CCCCC(COC(=O)c1c(c(Br)c(Br)c(Br)c1Br)C(=O)OCC(...</td>\n",
              "    </tr>\n",
              "    <tr>\n",
              "      <th>3</th>\n",
              "      <td>0.477578</td>\n",
              "      <td>0.522422</td>\n",
              "      <td>0</td>\n",
              "      <td>O=C1NC2NC(=O)NC2N1</td>\n",
              "    </tr>\n",
              "    <tr>\n",
              "      <th>4</th>\n",
              "      <td>0.229182</td>\n",
              "      <td>0.770818</td>\n",
              "      <td>0</td>\n",
              "      <td>OC(=O)c1ccc(cc1)C(O)=O</td>\n",
              "    </tr>\n",
              "  </tbody>\n",
              "</table>\n",
              "</div>"
            ],
            "text/plain": [
              "        neg  ...                                             SMILES\n",
              "0  0.526130  ...                                  OC(=O)/C=C\\C(O)=O\n",
              "1  0.223955  ...                               CCCCCCOC(=O)c1ccccc1\n",
              "2  0.062088  ...  CCCCC(COC(=O)c1c(c(Br)c(Br)c(Br)c1Br)C(=O)OCC(...\n",
              "3  0.477578  ...                                 O=C1NC2NC(=O)NC2N1\n",
              "4  0.229182  ...                             OC(=O)c1ccc(cc1)C(O)=O\n",
              "\n",
              "[5 rows x 4 columns]"
            ]
          },
          "metadata": {
            "tags": []
          },
          "execution_count": 80
        }
      ]
    },
    {
      "cell_type": "code",
      "metadata": {
        "id": "oFJYjUo4QXAu",
        "colab_type": "code",
        "outputId": "1fa084fd-59a9-4751-f0d2-8a71d71234c9",
        "colab": {
          "base_uri": "https://localhost:8080/",
          "height": 279
        }
      },
      "source": [
        "fig_preds_GCNN = sns.boxplot(pred_df.Active,pred_df.pos)"
      ],
      "execution_count": 81,
      "outputs": [
        {
          "output_type": "display_data",
          "data": {
            "image/png": "[encoded data removed]",
            "text/plain": [
              "<Figure size 432x288 with 1 Axes>"
            ]
          },
          "metadata": {
            "tags": [],
            "needs_background": "light"
          }
        }
      ]
    },
    {
      "cell_type": "code",
      "metadata": {
        "id": "iwGZtCKszNk-",
        "colab_type": "code",
        "colab": {}
      },
      "source": [
        "Fig_preds_GCNN = fig_preds_GCNN.get_figure()"
      ],
      "execution_count": 0,
      "outputs": []
    },
    {
      "cell_type": "code",
      "metadata": {
        "id": "pTfqmEPyzUCf",
        "colab_type": "code",
        "colab": {}
      },
      "source": [
        "Fig_preds_GCNN.savefig('Fig_preds_GCNN.png',dpi=600)"
      ],
      "execution_count": 0,
      "outputs": []
    },
    {
      "cell_type": "code",
      "metadata": {
        "id": "C4FpEdrbQV4X",
        "colab_type": "code",
        "colab": {}
      },
      "source": [
        "model.fit(dataset)"
      ],
      "execution_count": 0,
      "outputs": []
    },
    {
      "cell_type": "code",
      "metadata": {
        "id": "ebBDbP8oQwYt",
        "colab_type": "code",
        "colab": {}
      },
      "source": [
        "#model.save()"
      ],
      "execution_count": 0,
      "outputs": []
    },
    {
      "cell_type": "code",
      "metadata": {
        "id": "Cl_ulhBlQ-Mb",
        "colab_type": "code",
        "colab": {}
      },
      "source": [
        ""
      ],
      "execution_count": 0,
      "outputs": []
    },
    {
      "cell_type": "code",
      "metadata": {
        "id": "x84cS7VrFAZO",
        "colab_type": "code",
        "colab": {}
      },
      "source": [
        "###transformers = [\n",
        "###    dc.trans.NormalizationTransformer(transform_X=True, dataset=dataset),\n",
        "###    dc.trans.ClippingTransformer(transform_X=True, dataset=dataset)]\n",
        "#datasets = [dataset]\n",
        "#datasets = [dataset,eval_df]\n",
        "###datasets = [dataset, valid_dataset, tmp_dataset]\n",
        "###for i, dataset in enumerate(datasets):\n",
        "###  for transformer in transformers:\n",
        "###      datasets[i] = transformer.transform(dataset)\n",
        "#train_dataset = datasets\n",
        "#train_dataset, eval_dataset = datasets\n",
        "###train_dataset, valid_dataset, tmp_dataset = datasets"
      ],
      "execution_count": 0,
      "outputs": []
    },
    {
      "cell_type": "code",
      "metadata": {
        "id": "KlK26-VnQw3l",
        "colab_type": "code",
        "colab": {}
      },
      "source": [
        "####END> THE REST IS FROM THE RF AND DNN MODELS IN ANOTHER IPYNB"
      ],
      "execution_count": 0,
      "outputs": []
    },
    {
      "cell_type": "code",
      "metadata": {
        "id": "hQpHLGqdSjOI",
        "colab_type": "code",
        "colab": {}
      },
      "source": [
        ""
      ],
      "execution_count": 0,
      "outputs": []
    },
    {
      "cell_type": "code",
      "metadata": {
        "id": "_B-sGwO281gf",
        "colab_type": "code",
        "colab": {}
      },
      "source": [
        ""
      ],
      "execution_count": 0,
      "outputs": []
    },
    {
      "cell_type": "code",
      "metadata": {
        "id": "d4DDnZMDT28f",
        "colab_type": "code",
        "outputId": "71d4af6c-a358-45f3-a737-9cdeba366506",
        "colab": {
          "base_uri": "https://localhost:8080/",
          "height": 1000
        }
      },
      "source": [
        "from sklearn.ensemble import RandomForestClassifier\n",
        "\n",
        "def rf_model_builder(model_params, model_dir):\n",
        "  sklearn_model = RandomForestClassifier(**model_params)\n",
        "  return dc.models.SklearnModel(sklearn_model, model_dir='models')\n",
        "params_dict = {\n",
        "    \"n_estimators\": [10, 50, 100, 250, 500],\n",
        "    \"max_features\": [\"auto\", \"sqrt\", \"log2\", None],\n",
        "}\n",
        "\n",
        "metric = dc.metrics.Metric(dc.metrics.roc_auc_score)\n",
        "optimizer = dc.hyper.HyperparamOpt(rf_model_builder)\n",
        "best_rf, best_rf_hyperparams, all_rf_results = optimizer.hyperparam_search(\n",
        "    params_dict, train_dataset, valid_dataset, transformers,\n",
        "    metric=metric)\n",
        "\n"
      ],
      "execution_count": 0,
      "outputs": [
        {
          "output_type": "stream",
          "text": [
            "Fitting model 1/20\n",
            "hyperparameters: {'n_estimators': 10, 'max_features': 'auto'}\n",
            "computed_metrics: [0.6714598956955251]\n",
            "Model 1/20, Metric roc_auc_score, Validation set 0: 0.671460\n",
            "\tbest_validation_score so far: 0.671460\n",
            "Fitting model 2/20\n",
            "hyperparameters: {'n_estimators': 10, 'max_features': 'sqrt'}\n",
            "computed_metrics: [0.6380804680503973]\n",
            "Model 2/20, Metric roc_auc_score, Validation set 1: 0.638080\n",
            "\tbest_validation_score so far: 0.671460\n",
            "Fitting model 3/20\n",
            "hyperparameters: {'n_estimators': 10, 'max_features': 'log2'}\n",
            "computed_metrics: [0.7242571959594086]\n",
            "Model 3/20, Metric roc_auc_score, Validation set 2: 0.724257\n",
            "\tbest_validation_score so far: 0.724257\n",
            "Fitting model 4/20\n",
            "hyperparameters: {'n_estimators': 10, 'max_features': None}\n",
            "computed_metrics: [0.5550283035812577]\n",
            "Model 4/20, Metric roc_auc_score, Validation set 3: 0.555028\n",
            "\tbest_validation_score so far: 0.724257\n",
            "Fitting model 5/20\n",
            "hyperparameters: {'n_estimators': 50, 'max_features': 'auto'}\n",
            "computed_metrics: [0.6983381584292399]\n",
            "Model 5/20, Metric roc_auc_score, Validation set 4: 0.698338\n",
            "\tbest_validation_score so far: 0.724257\n",
            "Fitting model 6/20\n",
            "hyperparameters: {'n_estimators': 50, 'max_features': 'sqrt'}\n",
            "computed_metrics: [0.7263588004405998]\n",
            "Model 6/20, Metric roc_auc_score, Validation set 5: 0.726359\n",
            "\tbest_validation_score so far: 0.726359\n",
            "Fitting model 7/20\n",
            "hyperparameters: {'n_estimators': 50, 'max_features': 'log2'}\n",
            "computed_metrics: [0.6752520541260525]\n",
            "Model 7/20, Metric roc_auc_score, Validation set 6: 0.675252\n",
            "\tbest_validation_score so far: 0.726359\n",
            "Fitting model 8/20\n",
            "hyperparameters: {'n_estimators': 50, 'max_features': None}\n",
            "computed_metrics: [0.54766190466074]\n",
            "Model 8/20, Metric roc_auc_score, Validation set 7: 0.547662\n",
            "\tbest_validation_score so far: 0.726359\n",
            "Fitting model 9/20\n",
            "hyperparameters: {'n_estimators': 100, 'max_features': 'auto'}\n",
            "computed_metrics: [0.7099573370105778]\n",
            "Model 9/20, Metric roc_auc_score, Validation set 8: 0.709957\n",
            "\tbest_validation_score so far: 0.726359\n",
            "Fitting model 10/20\n",
            "hyperparameters: {'n_estimators': 100, 'max_features': 'sqrt'}\n",
            "computed_metrics: [0.6893082441221705]\n",
            "Model 10/20, Metric roc_auc_score, Validation set 9: 0.689308\n",
            "\tbest_validation_score so far: 0.726359\n",
            "Fitting model 11/20\n",
            "hyperparameters: {'n_estimators': 100, 'max_features': 'log2'}\n",
            "computed_metrics: [0.6688126916438608]\n",
            "Model 11/20, Metric roc_auc_score, Validation set 10: 0.668813\n",
            "\tbest_validation_score so far: 0.726359\n",
            "Fitting model 12/20\n",
            "hyperparameters: {'n_estimators': 100, 'max_features': None}\n",
            "computed_metrics: [0.5767154841479988]\n",
            "Model 12/20, Metric roc_auc_score, Validation set 11: 0.576715\n",
            "\tbest_validation_score so far: 0.726359\n",
            "Fitting model 13/20\n",
            "hyperparameters: {'n_estimators': 250, 'max_features': 'auto'}\n",
            "computed_metrics: [0.6862081441438657]\n",
            "Model 13/20, Metric roc_auc_score, Validation set 12: 0.686208\n",
            "\tbest_validation_score so far: 0.726359\n",
            "Fitting model 14/20\n",
            "hyperparameters: {'n_estimators': 250, 'max_features': 'sqrt'}\n",
            "computed_metrics: [0.6950307628029204]\n",
            "Model 14/20, Metric roc_auc_score, Validation set 13: 0.695031\n",
            "\tbest_validation_score so far: 0.726359\n",
            "Fitting model 15/20\n",
            "hyperparameters: {'n_estimators': 250, 'max_features': 'log2'}\n",
            "computed_metrics: [0.6846991348303684]\n",
            "Model 15/20, Metric roc_auc_score, Validation set 14: 0.684699\n",
            "\tbest_validation_score so far: 0.726359\n",
            "Fitting model 16/20\n",
            "hyperparameters: {'n_estimators': 250, 'max_features': None}\n",
            "computed_metrics: [0.5695055226264487]\n",
            "Model 16/20, Metric roc_auc_score, Validation set 15: 0.569506\n",
            "\tbest_validation_score so far: 0.726359\n",
            "Fitting model 17/20\n",
            "hyperparameters: {'n_estimators': 500, 'max_features': 'auto'}\n",
            "computed_metrics: [0.7030270958587865]\n",
            "Model 17/20, Metric roc_auc_score, Validation set 16: 0.703027\n",
            "\tbest_validation_score so far: 0.726359\n",
            "Fitting model 18/20\n",
            "hyperparameters: {'n_estimators': 500, 'max_features': 'sqrt'}\n",
            "computed_metrics: [0.6839201667120529]\n",
            "Model 18/20, Metric roc_auc_score, Validation set 17: 0.683920\n",
            "\tbest_validation_score so far: 0.726359\n",
            "Fitting model 19/20\n",
            "hyperparameters: {'n_estimators': 500, 'max_features': 'log2'}\n",
            "computed_metrics: [0.6972463155129891]\n",
            "Model 19/20, Metric roc_auc_score, Validation set 18: 0.697246\n",
            "\tbest_validation_score so far: 0.726359\n",
            "Fitting model 20/20\n",
            "hyperparameters: {'n_estimators': 500, 'max_features': None}\n",
            "computed_metrics: [0.5515821743768416]\n",
            "Model 20/20, Metric roc_auc_score, Validation set 19: 0.551582\n",
            "\tbest_validation_score so far: 0.726359\n",
            "computed_metrics: [1.0]\n",
            "Best hyperparameters: (50, 'sqrt')\n",
            "train_score: 1.000000\n",
            "validation_score: 0.726359\n"
          ],
          "name": "stdout"
        }
      ]
    },
    {
      "cell_type": "code",
      "metadata": {
        "id": "0e0cCr32kdom",
        "colab_type": "code",
        "colab": {}
      },
      "source": [
        "best_rf.save()"
      ],
      "execution_count": 0,
      "outputs": []
    },
    {
      "cell_type": "code",
      "metadata": {
        "id": "RL-39qQWe7zy",
        "colab_type": "code",
        "colab": {}
      },
      "source": [
        "pred = best_rf.predict(tmp_dataset)"
      ],
      "execution_count": 0,
      "outputs": []
    },
    {
      "cell_type": "code",
      "metadata": {
        "id": "9p220aJjgllr",
        "colab_type": "code",
        "outputId": "b0a45025-d14f-4ff8-fa24-3153ff189a61",
        "colab": {
          "base_uri": "https://localhost:8080/",
          "height": 34
        }
      },
      "source": [
        "pred.shape"
      ],
      "execution_count": 0,
      "outputs": [
        {
          "output_type": "execute_result",
          "data": {
            "text/plain": [
              "(1671, 2)"
            ]
          },
          "metadata": {
            "tags": []
          },
          "execution_count": 70
        }
      ]
    },
    {
      "cell_type": "code",
      "metadata": {
        "id": "YhpV_w04g6bl",
        "colab_type": "code",
        "colab": {}
      },
      "source": [
        "pred_df = pd.DataFrame(pred)"
      ],
      "execution_count": 0,
      "outputs": []
    },
    {
      "cell_type": "code",
      "metadata": {
        "id": "EgmQ7JrlgprO",
        "colab_type": "code",
        "outputId": "83f27d4f-c13c-4e92-ef8c-7c371565ac5a",
        "colab": {
          "base_uri": "https://localhost:8080/",
          "height": 255
        }
      },
      "source": [
        "pred_df.head"
      ],
      "execution_count": 0,
      "outputs": [
        {
          "output_type": "execute_result",
          "data": {
            "text/plain": [
              "<bound method NDFrame.head of          0     1\n",
              "0     0.00  1.00\n",
              "1     0.12  0.88\n",
              "2     0.02  0.98\n",
              "3     0.00  1.00\n",
              "4     0.00  1.00\n",
              "...    ...   ...\n",
              "1666  0.36  0.64\n",
              "1667  0.44  0.56\n",
              "1668  0.64  0.36\n",
              "1669  0.56  0.44\n",
              "1670  0.80  0.20\n",
              "\n",
              "[1671 rows x 2 columns]>"
            ]
          },
          "metadata": {
            "tags": []
          },
          "execution_count": 76
        }
      ]
    },
    {
      "cell_type": "code",
      "metadata": {
        "id": "9ZWk4mQI9yys",
        "colab_type": "code",
        "outputId": "35ff49bc-1429-41c1-bc79-e574047f2168",
        "colab": {
          "base_uri": "https://localhost:8080/",
          "height": 170
        }
      },
      "source": [
        "import numpy as np\n",
        "#import np.random\n",
        "\n",
        "params_dict = {\"learning_rate\": np.power(10., np.random.uniform(-5, -3, size=1)),\n",
        "               \"weight_decay_penalty\": np.power(10, np.random.uniform(-6, -4, size=1)),\n",
        "               \"nb_epoch\": [40] }\n",
        "n_features = train_dataset.get_data_shape()[0]\n",
        "def model_builder(model_params, model_dir):\n",
        "  model = dc.models.MultitaskClassifier(\n",
        "    1, n_features, layer_sizes=[1000], dropouts=.25,\n",
        "    batch_size=50, **model_params)\n",
        "  return model\n",
        "\n",
        "#train_dataset = dc.data.NumpyDataset(train_dataset.X, train_dataset.y, train_dataset.w, train_dataset.ids)\n",
        "\n",
        "optimizer = dc.hyper.HyperparamOpt(model_builder)\n",
        "best_dnn, best_dnn_hyperparams, all_dnn_results = optimizer.hyperparam_search(\n",
        "    params_dict, train_dataset, valid_dataset, transformers,\n",
        "    metric=metric)"
      ],
      "execution_count": 0,
      "outputs": [
        {
          "output_type": "stream",
          "text": [
            "Fitting model 1/1\n",
            "hyperparameters: {'learning_rate': 2.90930523935799e-05, 'weight_decay_penalty': 2.777770617265684e-06, 'nb_epoch': 40}\n",
            "computed_metrics: [0.7418240536342082]\n",
            "Model 1/1, Metric roc_auc_score, Validation set 0: 0.741824\n",
            "\tbest_validation_score so far: 0.741824\n",
            "computed_metrics: [0.7380130874479477]\n",
            "Best hyperparameters: (2.90930523935799e-05, 2.777770617265684e-06, 40)\n",
            "train_score: 0.738013\n",
            "validation_score: 0.741824\n"
          ],
          "name": "stdout"
        }
      ]
    },
    {
      "cell_type": "code",
      "metadata": {
        "id": "Tx9iGLauWKvk",
        "colab_type": "code",
        "outputId": "adeea843-3b6c-4c5a-8f66-ccb51c4c7b4b",
        "colab": {
          "base_uri": "https://localhost:8080/",
          "height": 119
        }
      },
      "source": [
        "from deepchem.utils.evaluate import Evaluator\n",
        "\n",
        "rf_train_csv_out = \"rf_train_classifier.csv\"\n",
        "rf_train_stats_out = \"rf_train_stats_classifier.txt\"\n",
        "rf_train_evaluator = Evaluator(best_rf, train_dataset, transformers)\n",
        "rf_train_score = rf_train_evaluator.compute_model_performance(\n",
        "    [metric], rf_train_csv_out, rf_train_stats_out)\n",
        "print(\"RF Train set AUC %f\" % (rf_train_score[\"roc_auc_score\"]))\n",
        "\n",
        "rf_valid_csv_out = \"rf_valid_classifier.csv\"\n",
        "rf_valid_stats_out = \"rf_valid_stats_classifier.txt\"\n",
        "rf_valid_evaluator = Evaluator(best_rf, valid_dataset, transformers)\n",
        "rf_valid_score = rf_valid_evaluator.compute_model_performance(\n",
        "    [metric], rf_valid_csv_out, rf_valid_stats_out)\n",
        "print(\"RF Valid set AUC %f\" % (rf_valid_score[\"roc_auc_score\"]))\n",
        "\n",
        "rf_tmp_csv_out = \"rf_tmp_classifier.csv\"\n",
        "rf_tmp_stats_out = \"rf_tmp_stats_classifier.txt\"\n",
        "rf_tmp_evaluator = Evaluator(best_rf, tmp_dataset, transformers)\n",
        "rf_tmp_score = rf_tmp_evaluator.compute_model_performance(\n",
        "    [metric], rf_tmp_csv_out, rf_tmp_stats_out)\n",
        "print(\"RF Tmp set AUC %f\" % (rf_tmp_score[\"roc_auc_score\"]))\n",
        "\n",
        "#rf_test_csv_out = \"rf_test_regressor.csv\"\n",
        "#rf_test_stats_out = \"rf_test_stats_regressor.txt\"\n",
        "#rf_test_evaluator = Evaluator(best_rf, test_dataset, transformers)\n",
        "\n",
        "#rf_test_score = rf_test_evaluator.compute_model_performance(\n",
        " #   [metric], rf_test_csv_out, rf_test_stats_out)\n",
        "#print(\"RF Test set AUC %f\" % (rf_test_score[\"roc_auc_score\"]))\n",
        "\n",
        "#rf_crystal_csv_out = \"rf_crystal_regressor.csv\"\n",
        "#rf_crystal_stats_out = \"rf_crystal_stats_regressor.txt\"\n",
        "#rf_crystal_evaluator = Evaluator(best_rf, crystal_dataset, transformers)\n",
        "#rf_crystal_score = rf_crystal_evaluator.compute_model_performance(\n",
        "#    [metric], rf_crystal_csv_out, rf_crystal_stats_out)\n",
        "#print(\"RF Crystal set R^2 %f\" % (rf_crystal_score[\"roc_auc_score\"]))"
      ],
      "execution_count": 0,
      "outputs": [
        {
          "output_type": "stream",
          "text": [
            "computed_metrics: [1.0]\n",
            "RF Train set AUC 1.000000\n",
            "computed_metrics: [0.7263588004405998]\n",
            "RF Valid set AUC 0.726359\n",
            "computed_metrics: [0.976711143646225]\n",
            "RF Tmp set AUC 0.976711\n"
          ],
          "name": "stdout"
        }
      ]
    },
    {
      "cell_type": "code",
      "metadata": {
        "id": "grYdHVPxYRB5",
        "colab_type": "code",
        "outputId": "b2924485-c2be-4001-aaf1-8c6e74752c5f",
        "colab": {
          "base_uri": "https://localhost:8080/",
          "height": 119
        }
      },
      "source": [
        "dnn_train_csv_out = \"dnn_train_classifier.csv\"\n",
        "dnn_train_stats_out = \"dnn_train_classifier_stats.txt\"\n",
        "dnn_train_evaluator = Evaluator(best_dnn, train_dataset, transformers)\n",
        "dnn_train_score = dnn_train_evaluator.compute_model_performance(\n",
        "    [metric], dnn_train_csv_out, dnn_train_stats_out)\n",
        "print(\"DNN Train set AUC %f\" % (dnn_train_score[\"roc_auc_score\"]))\n",
        "\n",
        "dnn_valid_csv_out = \"dnn_valid_classifier.csv\"\n",
        "dnn_valid_stats_out = \"dnn_valid_classifier_stats.txt\"\n",
        "dnn_valid_evaluator = Evaluator(best_dnn, valid_dataset, transformers)\n",
        "dnn_valid_score = dnn_valid_evaluator.compute_model_performance(\n",
        "    [metric], dnn_valid_csv_out, dnn_valid_stats_out)\n",
        "print(\"DNN Valid set AUC %f\" % (dnn_valid_score[\"roc_auc_score\"]))\n",
        "\n",
        "dnn_tmp_csv_out = \"dnn_tmp_classifier.csv\"\n",
        "dnn_tmp_stats_out = \"dnn_tmp_classifier_stats.txt\"\n",
        "dnn_tmp_evaluator = Evaluator(best_dnn, tmp_dataset, transformers)\n",
        "dnn_tmp_score = dnn_tmp_evaluator.compute_model_performance(\n",
        "    [metric], dnn_tmp_csv_out, dnn_tmp_stats_out)\n",
        "print(\"DNN Tmp set AUC %f\" % (dnn_tmp_score[\"roc_auc_score\"]))\n",
        "\n",
        "#dnn_test_csv_out = \"dnn_test_classifier.csv\"\n",
        "#dnn_test_stats_out = \"dnn_test_classifier_stats.txt\"\n",
        "#dnn_test_evaluator = Evaluator(best_dnn, test_dataset, transformers)\n",
        "#dnn_test_score = dnn_test_evaluator.compute_model_performance(\n",
        "#    [metric], dnn_test_csv_out, dnn_test_stats_out)\n",
        "#print(\"DNN Test set AUC %f\" % (dnn_test_score[\"roc_auc_score\"]))\n",
        "\n",
        "#dnn_crystal_csv_out = \"dnn_crystal_classifier.csv\"\n",
        "#dnn_crystal_stats_out = \"dnn_crystal_stats_classifier.txt\"\n",
        "#dnn_crystal_evaluator = Evaluator(best_dnn, crystal_dataset, transformers)\n",
        "#dnn_crystal_score = dnn_crystal_evaluator.compute_model_performance(\n",
        "#    [metric], dnn_crystal_csv_out, dnn_crystal_stats_out)\n",
        "#print(\"DNN Crystal set AUC %f\" % (dnn_crystal_score[\"roc_auc_score\"]))"
      ],
      "execution_count": 0,
      "outputs": [
        {
          "output_type": "stream",
          "text": [
            "computed_metrics: [0.7380130874479477]\n",
            "DNN Train set AUC 0.738013\n",
            "computed_metrics: [0.7418240536342082]\n",
            "DNN Valid set AUC 0.741824\n",
            "computed_metrics: [0.7404285761820784]\n",
            "DNN Tmp set AUC 0.740429\n"
          ],
          "name": "stdout"
        }
      ]
    },
    {
      "cell_type": "code",
      "metadata": {
        "id": "EMbMcI_vYsbq",
        "colab_type": "code",
        "outputId": "3d1ffe50-8c3c-400b-9e53-d181ab9fd31d",
        "colab": {
          "base_uri": "https://localhost:8080/",
          "height": 139
        }
      },
      "source": [
        "#Now regression models\n",
        "#Make directories to store the raw and featurized datasets.\n",
        "#featurizer = dc.feat.UserDefinedFeaturizer(user_specified_features)\n",
        "featurizer = dc.feat.ConvMolFeaturizer()\n",
        "loader = dc.data.CSVLoader(tasks=[\"bindingClass\"],\n",
        "    smiles_field=\"SMILES\",\n",
        "    featurizer=featurizer)\n",
        "\n",
        "#loader = dc.data.UserCSVLoader(\n",
        "#    tasks=[\"bindingClass\"],  id_field=\"casrn\",\n",
        "#    featurizer=featurizer)\n",
        "train_dataset = loader.featurize(dataset_file)\n",
        "valid_dataset = loader.featurize(eval_dataset_file)\n",
        "#crystal_dataset = loader.featurize(crystal_dataset_file)"
      ],
      "execution_count": 0,
      "outputs": [
        {
          "output_type": "stream",
          "text": [
            "About to start loading CSV from balanced_droppedcols1.csv\n",
            "Loading shard 1 of size 8192.\n",
            "About to start loading CSV from Eval_4.csv\n",
            "Loading shard 1 of size 8192.\n"
          ],
          "name": "stdout"
        },
        {
          "output_type": "stream",
          "text": [
            "/content/deepchem/deepchem/data/data_loader.py:269: FutureWarning: featurize() is deprecated and has been renamed to create_dataset(). featurize() will be removed in DeepChem 3.0\n",
            "  FutureWarning)\n"
          ],
          "name": "stderr"
        }
      ]
    },
    {
      "cell_type": "code",
      "metadata": {
        "id": "R9re5w_cZwWa",
        "colab_type": "code",
        "outputId": "691203b9-bd14-413a-cd4b-bcb910ee3b78",
        "colab": {
          "base_uri": "https://localhost:8080/",
          "height": 85
        }
      },
      "source": [
        "print(\"Number of compounds in train set\")\n",
        "print(len(train_dataset))\n",
        "print(\"Number of compounds in validation set\")\n",
        "print(len(valid_dataset))"
      ],
      "execution_count": 0,
      "outputs": [
        {
          "output_type": "stream",
          "text": [
            "Number of compounds in train set\n",
            "410\n",
            "Number of compounds in validation set\n",
            "3882\n"
          ],
          "name": "stdout"
        }
      ]
    },
    {
      "cell_type": "code",
      "metadata": {
        "id": "-CGHqQlQaJvk",
        "colab_type": "code",
        "colab": {}
      },
      "source": [
        "transformers = [\n",
        "    dc.trans.NormalizationTransformer(transform_X=True, dataset=train_dataset),\n",
        "    dc.trans.ClippingTransformer(transform_X=True, dataset=train_dataset)]\n",
        "\n",
        "datasets = [train_dataset, valid_dataset]\n",
        "for i, dataset in enumerate(datasets):\n",
        "  for transformer in transformers:\n",
        "      datasets[i] = transformer.transform(dataset)\n",
        "train_dataset, valid_dataset = datasets"
      ],
      "execution_count": 0,
      "outputs": []
    },
    {
      "cell_type": "code",
      "metadata": {
        "id": "VYaQa2EOaVgO",
        "colab_type": "code",
        "outputId": "572fb012-63fe-454d-ea66-6757bdd9d69b",
        "colab": {
          "base_uri": "https://localhost:8080/",
          "height": 765
        }
      },
      "source": [
        "from sklearn.ensemble import RandomForestRegressor\n",
        "\n",
        "def rf_model_builder(model_params, model_dir):\n",
        "  sklearn_model = RandomForestRegressor(**model_params)\n",
        "  return dc.models.SklearnModel(sklearn_model, model_dir)\n",
        "params_dict = {\n",
        "    \"n_estimators\": [10, 100],\n",
        "    \"max_features\": [\"auto\", \"sqrt\", \"log2\", None],\n",
        "}\n",
        "\n",
        "metric = dc.metrics.Metric(dc.metrics.r2_score)\n",
        "optimizer = dc.hyper.HyperparamOpt(rf_model_builder)\n",
        "best_rf, best_rf_hyperparams, all_rf_results = optimizer.hyperparam_search(\n",
        "    params_dict, train_dataset, valid_dataset, transformers,\n",
        "    metric=metric)"
      ],
      "execution_count": 0,
      "outputs": [
        {
          "output_type": "stream",
          "text": [
            "Fitting model 1/8\n",
            "hyperparameters: {'n_estimators': 10, 'max_features': 'auto'}\n",
            "computed_metrics: [-0.46859212134907]\n",
            "Model 1/8, Metric r2_score, Validation set 0: -0.468592\n",
            "\tbest_validation_score so far: -0.468592\n",
            "Fitting model 2/8\n",
            "hyperparameters: {'n_estimators': 10, 'max_features': 'sqrt'}\n",
            "computed_metrics: [-0.32119309589612577]\n",
            "Model 2/8, Metric r2_score, Validation set 1: -0.321193\n",
            "\tbest_validation_score so far: -0.321193\n",
            "Fitting model 3/8\n",
            "hyperparameters: {'n_estimators': 10, 'max_features': 'log2'}\n",
            "computed_metrics: [-0.27003578746917145]\n",
            "Model 3/8, Metric r2_score, Validation set 2: -0.270036\n",
            "\tbest_validation_score so far: -0.270036\n",
            "Fitting model 4/8\n",
            "hyperparameters: {'n_estimators': 10, 'max_features': None}\n",
            "computed_metrics: [-1.1921418983774932]\n",
            "Model 4/8, Metric r2_score, Validation set 3: -1.192142\n",
            "\tbest_validation_score so far: -0.270036\n",
            "Fitting model 5/8\n",
            "hyperparameters: {'n_estimators': 100, 'max_features': 'auto'}\n",
            "computed_metrics: [-0.6124858590247964]\n",
            "Model 5/8, Metric r2_score, Validation set 4: -0.612486\n",
            "\tbest_validation_score so far: -0.270036\n",
            "Fitting model 6/8\n",
            "hyperparameters: {'n_estimators': 100, 'max_features': 'sqrt'}\n",
            "computed_metrics: [-0.20693935791138673]\n",
            "Model 6/8, Metric r2_score, Validation set 5: -0.206939\n",
            "\tbest_validation_score so far: -0.206939\n",
            "Fitting model 7/8\n",
            "hyperparameters: {'n_estimators': 100, 'max_features': 'log2'}\n",
            "computed_metrics: [-0.2477532433721723]\n",
            "Model 7/8, Metric r2_score, Validation set 6: -0.247753\n",
            "\tbest_validation_score so far: -0.206939\n",
            "Fitting model 8/8\n",
            "hyperparameters: {'n_estimators': 100, 'max_features': None}\n",
            "computed_metrics: [-0.6175366123384689]\n",
            "Model 8/8, Metric r2_score, Validation set 7: -0.617537\n",
            "\tbest_validation_score so far: -0.206939\n",
            "computed_metrics: [0.9123034146341463]\n",
            "Best hyperparameters: (100, 'sqrt')\n",
            "train_score: 0.912303\n",
            "validation_score: -0.206939\n"
          ],
          "name": "stdout"
        }
      ]
    },
    {
      "cell_type": "code",
      "metadata": {
        "id": "aTZdDPykaprV",
        "colab_type": "code",
        "outputId": "85783dc9-cfcf-4094-b068-20c635d4ad63",
        "colab": {
          "base_uri": "https://localhost:8080/",
          "height": 425
        }
      },
      "source": [
        "import numpy.random\n",
        "\n",
        "params_dict = {\"learning_rate\": np.power(10., np.random.uniform(-5, -3, size=2)),\n",
        "               \"weight_decay_penalty\": np.power(10, np.random.uniform(-6, -4, size=2)),\n",
        "               \"nb_epoch\": [20] }\n",
        "n_features = train_dataset.get_data_shape()[0]\n",
        "def model_builder(model_params, model_dir):\n",
        "  model = dc.models.MultitaskRegressor(\n",
        "    1, n_features, layer_sizes=[1000], dropouts=[.25],\n",
        "    batch_size=50, **model_params)\n",
        "  return model\n",
        "\n",
        "optimizer = dc.hyper.HyperparamOpt(model_builder)\n",
        "best_dnn, best_dnn_hyperparams, all_dnn_results = optimizer.hyperparam_search(\n",
        "    params_dict, train_dataset, valid_dataset, transformers,\n",
        "    metric=metric)"
      ],
      "execution_count": 0,
      "outputs": [
        {
          "output_type": "stream",
          "text": [
            "Fitting model 1/4\n",
            "hyperparameters: {'learning_rate': 4.728410615494824e-05, 'weight_decay_penalty': 1.6343150170604258e-06, 'nb_epoch': 20}\n",
            "computed_metrics: [-1.049688501382311]\n",
            "Model 1/4, Metric r2_score, Validation set 0: -1.049689\n",
            "\tbest_validation_score so far: -1.049689\n",
            "Fitting model 2/4\n",
            "hyperparameters: {'learning_rate': 4.728410615494824e-05, 'weight_decay_penalty': 5.608676456022041e-05, 'nb_epoch': 20}\n",
            "computed_metrics: [-1.3016012678879592]\n",
            "Model 2/4, Metric r2_score, Validation set 1: -1.301601\n",
            "\tbest_validation_score so far: -1.049689\n",
            "Fitting model 3/4\n",
            "hyperparameters: {'learning_rate': 2.1334255567759886e-05, 'weight_decay_penalty': 1.6343150170604258e-06, 'nb_epoch': 20}\n",
            "computed_metrics: [-1.6351744887556512]\n",
            "Model 3/4, Metric r2_score, Validation set 2: -1.635174\n",
            "\tbest_validation_score so far: -1.049689\n",
            "Fitting model 4/4\n",
            "hyperparameters: {'learning_rate': 2.1334255567759886e-05, 'weight_decay_penalty': 5.608676456022041e-05, 'nb_epoch': 20}\n",
            "computed_metrics: [-1.353587495302833]\n",
            "Model 4/4, Metric r2_score, Validation set 3: -1.353587\n",
            "\tbest_validation_score so far: -1.049689\n",
            "computed_metrics: [0.22392938311078736]\n",
            "Best hyperparameters: (4.728410615494824e-05, 1.6343150170604258e-06, 20)\n",
            "train_score: 0.223929\n",
            "validation_score: -1.049689\n"
          ],
          "name": "stdout"
        }
      ]
    },
    {
      "cell_type": "code",
      "metadata": {
        "id": "NFsmRqDrbJtK",
        "colab_type": "code",
        "outputId": "8aa62232-9737-4ca7-9b90-f8bd716d2cfc",
        "colab": {
          "base_uri": "https://localhost:8080/",
          "height": 85
        }
      },
      "source": [
        "from deepchem.utils.evaluate import Evaluator\n",
        "\n",
        "rf_train_csv_out = \"rf_train_regressor.csv\"\n",
        "rf_train_stats_out = \"rf_train_stats_regressor.txt\"\n",
        "rf_train_evaluator = Evaluator(best_rf, train_dataset, transformers)\n",
        "rf_train_score = rf_train_evaluator.compute_model_performance(\n",
        "    [metric], rf_train_csv_out, rf_train_stats_out)\n",
        "print(\"RF Train set R^2 %f\" % (rf_train_score[\"r2_score\"]))\n",
        "\n",
        "rf_valid_csv_out = \"rf_valid_regressor.csv\"\n",
        "rf_valid_stats_out = \"rf_valid_stats_regressor.txt\"\n",
        "rf_valid_evaluator = Evaluator(best_rf, valid_dataset, transformers)\n",
        "rf_valid_score = rf_valid_evaluator.compute_model_performance(\n",
        "    [metric], rf_valid_csv_out, rf_valid_stats_out)\n",
        "print(\"RF Valid set R^2 %f\" % (rf_valid_score[\"r2_score\"]))"
      ],
      "execution_count": 0,
      "outputs": [
        {
          "output_type": "stream",
          "text": [
            "computed_metrics: [0.9123034146341463]\n",
            "RF Train set R^2 0.912303\n",
            "computed_metrics: [-0.20693935791138673]\n",
            "RF Valid set R^2 -0.206939\n"
          ],
          "name": "stdout"
        }
      ]
    },
    {
      "cell_type": "code",
      "metadata": {
        "id": "I-xzwOSkbTpa",
        "colab_type": "code",
        "outputId": "e7554405-016f-4ba5-e166-9a74eb08153f",
        "colab": {
          "base_uri": "https://localhost:8080/",
          "height": 85
        }
      },
      "source": [
        "dnn_train_csv_out = \"dnn_train_regressor.csv\"\n",
        "dnn_train_stats_out = \"dnn_train_regressor_stats.txt\"\n",
        "dnn_train_evaluator = Evaluator(best_dnn, train_dataset, transformers)\n",
        "dnn_train_score = dnn_train_evaluator.compute_model_performance(\n",
        "    [metric], dnn_train_csv_out, dnn_train_stats_out)\n",
        "print(\"DNN Train set R^2 %f\" % (dnn_train_score[\"r2_score\"]))\n",
        "\n",
        "dnn_valid_csv_out = \"dnn_valid_regressor.csv\"\n",
        "dnn_valid_stats_out = \"dnn_valid_regressor_stats.txt\"\n",
        "dnn_valid_evaluator = Evaluator(best_dnn, valid_dataset, transformers)\n",
        "dnn_valid_score = dnn_valid_evaluator.compute_model_performance(\n",
        "    [metric], dnn_valid_csv_out, dnn_valid_stats_out)\n",
        "print(\"DNN Valid set R^2 %f\" % (dnn_valid_score[\"r2_score\"]))"
      ],
      "execution_count": 0,
      "outputs": [
        {
          "output_type": "stream",
          "text": [
            "computed_metrics: [0.22392938311078736]\n",
            "DNN Train set R^2 0.223929\n",
            "computed_metrics: [-1.049688501382311]\n",
            "DNN Valid set R^2 -1.049689\n"
          ],
          "name": "stdout"
        }
      ]
    },
    {
      "cell_type": "code",
      "metadata": {
        "id": "jIn_EcNybekR",
        "colab_type": "code",
        "colab": {}
      },
      "source": [
        "#%matplotlib inline\n",
        "#from matplotlib import pyplot as plt\n",
        "\n",
        "#task = \"bindingClass\"\n",
        "#rf_predicted_test = best_rf.predict(valid_dataset)\n",
        "#rf_true_test = valid_dataset.y\n",
        "#plt.scatter(rf_predicted_test, rf_true_test)\n",
        "#plt.xlabel('Predicted bindingClass')\n",
        "#plt.ylabel('Secondary Assay')\n",
        "#plt.title(r'RF predicted bindingClass vs. Secondary Assay')\n",
        "#plt.xlim([2, 11])\n",
        "#plt.ylim([2, 11])\n",
        "#plt.plot([2, 11], [2, 11], color='k')\n",
        "#plt.show()"
      ],
      "execution_count": 0,
      "outputs": []
    },
    {
      "cell_type": "code",
      "metadata": {
        "id": "PCDtfrFpcakP",
        "colab_type": "code",
        "colab": {}
      },
      "source": [
        "#task = \"bindingClass\"\n",
        "#dnn_predicted_test = best_dnn.predict(valid_dataset, transformers)\n",
        "#dnn_true_test = valid_dataset.y\n",
        "#plt.scatter(dnn_predicted_test, dnn_true_test)\n",
        "#plt.xlabel('Predicted bindingClass')\n",
        "#plt.ylabel('Secondary Assay')\n",
        "#plt.title(r'DNN predicted bindingClass vs. Secondary Assay')\n",
        "#plt.xlim([2, 11])\n",
        "#plt.ylim([2, 11])\n",
        "#plt.plot([2, 11], [2, 11], color='k')\n",
        "#plt.show()"
      ],
      "execution_count": 0,
      "outputs": []
    }
  ]
}