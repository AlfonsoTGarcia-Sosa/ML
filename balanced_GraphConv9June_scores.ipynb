{
  "nbformat": 4,
  "nbformat_minor": 0,
  "metadata": {
    "kernelspec": {
      "display_name": "Python 3",
      "language": "python",
      "name": "python3"
    },
    "language_info": {
      "codemirror_mode": {
        "name": "ipython",
        "version": 3
      },
      "file_extension": ".py",
      "mimetype": "text/x-python",
      "name": "python",
      "nbconvert_exporter": "python",
      "pygments_lexer": "ipython3",
      "version": "3.6.10"
    },
    "colab": {
      "name": "balanced_myfeats.ipynb",
      "provenance": [],
      "include_colab_link": true
    }
  },
  "cells": [
    {
      "cell_type": "markdown",
      "metadata": {
        "id": "view-in-github",
        "colab_type": "text"
      },
      "source": [
        "<a href=\"https://colab.research.google.com/github/AlfonsoTGarcia-Sosa/ML/blob/master/balanced_GraphConv9June_scores.ipynb\" target=\"_parent\"><img src=\"https://colab.research.google.com/assets/colab-badge.svg\" alt=\"Open In Colab\"/></a>"
      ]
    },
    {
      "cell_type": "code",
      "metadata": {
        "id": "kShIhlOeFAWL",
        "colab_type": "code",
        "outputId": "2a762f0b-1f7a-4d2b-f700-838e3a998edf",
        "colab": {
          "base_uri": "https://localhost:8080/",
          "height": 1000
        }
      },
      "source": [
        "!wget -c https://repo.anaconda.com/miniconda/Miniconda3-latest-Linux-x86_64.sh\n",
        "!chmod +x Miniconda3-latest-Linux-x86_64.sh\n",
        "!bash ./Miniconda3-latest-Linux-x86_64.sh -b -f -p /usr/local\n",
        "!conda install -y -c deepchem -c rdkit -c conda-forge -c omnia deepchem-gpu=2.3.0\n",
        "import sys\n",
        "sys.path.append('/usr/local/lib/python3.7/site-packages/')"
      ],
      "execution_count": 1,
      "outputs": [
        {
          "output_type": "stream",
          "text": [
            "--2020-06-09 09:17:53--  https://repo.anaconda.com/miniconda/Miniconda3-latest-Linux-x86_64.sh\n",
            "Resolving repo.anaconda.com (repo.anaconda.com)... 104.16.130.3, 104.16.131.3, 2606:4700::6810:8303, ...\n",
            "Connecting to repo.anaconda.com (repo.anaconda.com)|104.16.130.3|:443... connected.\n",
            "HTTP request sent, awaiting response... 200 OK\n",
            "Length: 85055499 (81M) [application/x-sh]\n",
            "Saving to: ‘Miniconda3-latest-Linux-x86_64.sh’\n",
            "\n",
            "\r          Miniconda   0%[                    ]       0  --.-KB/s               \r         Miniconda3  37%[======>             ]  30.77M   154MB/s               \r        Miniconda3-  94%[=================>  ]  76.77M   192MB/s               \rMiniconda3-latest-L 100%[===================>]  81.12M   193MB/s    in 0.4s    \n",
            "\n",
            "2020-06-09 09:17:54 (193 MB/s) - ‘Miniconda3-latest-Linux-x86_64.sh’ saved [85055499/85055499]\n",
            "\n",
            "PREFIX=/usr/local\n",
            "Unpacking payload ...\n",
            "Collecting package metadata (current_repodata.json): - \b\b\\ \b\b| \b\bdone\n",
            "Solving environment: - \b\bdone\n",
            "\n",
            "## Package Plan ##\n",
            "\n",
            "  environment location: /usr/local\n",
            "\n",
            "  added / updated specs:\n",
            "    - _libgcc_mutex==0.1=main\n",
            "    - asn1crypto==1.3.0=py37_0\n",
            "    - ca-certificates==2020.1.1=0\n",
            "    - certifi==2019.11.28=py37_0\n",
            "    - cffi==1.14.0=py37h2e261b9_0\n",
            "    - chardet==3.0.4=py37_1003\n",
            "    - conda-package-handling==1.6.0=py37h7b6447c_0\n",
            "    - conda==4.8.2=py37_0\n",
            "    - cryptography==2.8=py37h1ba5d50_0\n",
            "    - idna==2.8=py37_0\n",
            "    - ld_impl_linux-64==2.33.1=h53a641e_7\n",
            "    - libedit==3.1.20181209=hc058e9b_0\n",
            "    - libffi==3.2.1=hd88cf55_4\n",
            "    - libgcc-ng==9.1.0=hdf63c60_0\n",
            "    - libstdcxx-ng==9.1.0=hdf63c60_0\n",
            "    - ncurses==6.2=he6710b0_0\n",
            "    - openssl==1.1.1d=h7b6447c_4\n",
            "    - pip==20.0.2=py37_1\n",
            "    - pycosat==0.6.3=py37h7b6447c_0\n",
            "    - pycparser==2.19=py37_0\n",
            "    - pyopenssl==19.1.0=py37_0\n",
            "    - pysocks==1.7.1=py37_0\n",
            "    - python==3.7.6=h0371630_2\n",
            "    - readline==7.0=h7b6447c_5\n",
            "    - requests==2.22.0=py37_1\n",
            "    - ruamel_yaml==0.15.87=py37h7b6447c_0\n",
            "    - setuptools==45.2.0=py37_0\n",
            "    - six==1.14.0=py37_0\n",
            "    - sqlite==3.31.1=h7b6447c_0\n",
            "    - tk==8.6.8=hbc83047_0\n",
            "    - tqdm==4.42.1=py_0\n",
            "    - urllib3==1.25.8=py37_0\n",
            "    - wheel==0.34.2=py37_0\n",
            "    - xz==5.2.4=h14c3975_4\n",
            "    - yaml==0.1.7=had09818_2\n",
            "    - zlib==1.2.11=h7b6447c_3\n",
            "\n",
            "\n",
            "The following NEW packages will be INSTALLED:\n",
            "\n",
            "  _libgcc_mutex      pkgs/main/linux-64::_libgcc_mutex-0.1-main\n",
            "  asn1crypto         pkgs/main/linux-64::asn1crypto-1.3.0-py37_0\n",
            "  ca-certificates    pkgs/main/linux-64::ca-certificates-2020.1.1-0\n",
            "  certifi            pkgs/main/linux-64::certifi-2019.11.28-py37_0\n",
            "  cffi               pkgs/main/linux-64::cffi-1.14.0-py37h2e261b9_0\n",
            "  chardet            pkgs/main/linux-64::chardet-3.0.4-py37_1003\n",
            "  conda              pkgs/main/linux-64::conda-4.8.2-py37_0\n",
            "  conda-package-han~ pkgs/main/linux-64::conda-package-handling-1.6.0-py37h7b6447c_0\n",
            "  cryptography       pkgs/main/linux-64::cryptography-2.8-py37h1ba5d50_0\n",
            "  idna               pkgs/main/linux-64::idna-2.8-py37_0\n",
            "  ld_impl_linux-64   pkgs/main/linux-64::ld_impl_linux-64-2.33.1-h53a641e_7\n",
            "  libedit            pkgs/main/linux-64::libedit-3.1.20181209-hc058e9b_0\n",
            "  libffi             pkgs/main/linux-64::libffi-3.2.1-hd88cf55_4\n",
            "  libgcc-ng          pkgs/main/linux-64::libgcc-ng-9.1.0-hdf63c60_0\n",
            "  libstdcxx-ng       pkgs/main/linux-64::libstdcxx-ng-9.1.0-hdf63c60_0\n",
            "  ncurses            pkgs/main/linux-64::ncurses-6.2-he6710b0_0\n",
            "  openssl            pkgs/main/linux-64::openssl-1.1.1d-h7b6447c_4\n",
            "  pip                pkgs/main/linux-64::pip-20.0.2-py37_1\n",
            "  pycosat            pkgs/main/linux-64::pycosat-0.6.3-py37h7b6447c_0\n",
            "  pycparser          pkgs/main/linux-64::pycparser-2.19-py37_0\n",
            "  pyopenssl          pkgs/main/linux-64::pyopenssl-19.1.0-py37_0\n",
            "  pysocks            pkgs/main/linux-64::pysocks-1.7.1-py37_0\n",
            "  python             pkgs/main/linux-64::python-3.7.6-h0371630_2\n",
            "  readline           pkgs/main/linux-64::readline-7.0-h7b6447c_5\n",
            "  requests           pkgs/main/linux-64::requests-2.22.0-py37_1\n",
            "  ruamel_yaml        pkgs/main/linux-64::ruamel_yaml-0.15.87-py37h7b6447c_0\n",
            "  setuptools         pkgs/main/linux-64::setuptools-45.2.0-py37_0\n",
            "  six                pkgs/main/linux-64::six-1.14.0-py37_0\n",
            "  sqlite             pkgs/main/linux-64::sqlite-3.31.1-h7b6447c_0\n",
            "  tk                 pkgs/main/linux-64::tk-8.6.8-hbc83047_0\n",
            "  tqdm               pkgs/main/noarch::tqdm-4.42.1-py_0\n",
            "  urllib3            pkgs/main/linux-64::urllib3-1.25.8-py37_0\n",
            "  wheel              pkgs/main/linux-64::wheel-0.34.2-py37_0\n",
            "  xz                 pkgs/main/linux-64::xz-5.2.4-h14c3975_4\n",
            "  yaml               pkgs/main/linux-64::yaml-0.1.7-had09818_2\n",
            "  zlib               pkgs/main/linux-64::zlib-1.2.11-h7b6447c_3\n",
            "\n",
            "\n",
            "Preparing transaction: | \b\b/ \b\b- \b\b\\ \b\bdone\n",
            "Executing transaction: / \b\b- \b\b\\ \b\b| \b\b/ \b\b- \b\b\\ \b\b| \b\b/ \b\b- \b\b\\ \b\b| \b\b/ \b\b- \b\b\\ \b\b| \b\bdone\n",
            "installation finished.\n",
            "WARNING:\n",
            "    You currently have a PYTHONPATH environment variable set. This may cause\n",
            "    unexpected behavior when running the Python interpreter in Miniconda3.\n",
            "    For best results, please verify that your PYTHONPATH only points to\n",
            "    directories of packages that are compatible with the Python interpreter\n",
            "    in Miniconda3: /usr/local\n",
            "Collecting package metadata (current_repodata.json): - \b\b\\ \b\b| \b\b/ \b\b- \b\b\\ \b\b| \b\b/ \b\b- \b\b\\ \b\b| \b\b/ \b\b- \b\b\\ \b\b| \b\b/ \b\b- \b\b\\ \b\b| \b\b/ \b\b- \b\b\\ \b\b| \b\b/ \b\b- \b\b\\ \b\b| \b\b/ \b\b- \b\b\\ \b\b| \b\b/ \b\b- \b\b\\ \b\b| \b\b/ \b\b- \b\b\\ \b\b| \b\b/ \b\b- \b\b\\ \b\b| \b\b/ \b\b- \b\b\\ \b\b| \b\b/ \b\b- \b\b\\ \b\b| \b\b/ \b\b- \b\b\\ \b\b| \b\b/ \b\b- \b\b\\ \b\b| \b\b/ \b\b- \b\b\\ \b\b| \b\b/ \b\b- \b\b\\ \b\b| \b\b/ \b\b- \b\b\\ \b\b| \b\b/ \b\b- \b\b\\ \b\b| \b\b/ \b\b- \b\b\\ \b\b| \b\b/ \b\b- \b\b\\ \b\b| \b\b/ \b\b- \b\b\\ \b\b| \b\b/ \b\b- \b\b\\ \b\b| \b\b/ \b\b- \b\b\\ \b\b| \b\b/ \b\b- \b\b\\ \b\bdone\n",
            "Solving environment: / \b\b- \b\b\\ \b\b| \b\b/ \b\b- \b\b\\ \b\b| \b\b/ \b\b- \b\b\\ \b\b| \b\b/ \b\b- \b\b\\ \b\b| \b\b/ \b\b- \b\b\\ \b\b| \b\b/ \b\b- \b\b\\ \b\b| \b\b/ \b\b- \b\b\\ \b\b| \b\b/ \b\b- \b\b\\ \b\b| \b\b/ \b\b- \b\b\\ \b\b| \b\b/ \b\b- \b\b\\ \b\b| \b\b/ \b\b- \b\b\\ \b\b| \b\b/ \b\b- \b\b\\ \b\b| \b\b/ \b\b- \b\b\\ \b\b| \b\b/ \b\b- \b\b\\ \b\b| \b\b/ \b\b- \b\b\\ \b\b| \b\b/ \b\b- \b\b\\ \b\b| \b\b/ \b\b- \b\b\\ \b\b| \b\b/ \b\b- \b\b\\ \b\b| \b\b/ \b\bfailed with initial frozen solve. Retrying with flexible solve.\n",
            "Solving environment: \\ \b\b| \b\b/ \b\b- \b\b\\ \b\b| \b\b/ \b\b- \b\b\\ \b\b| \b\b/ \b\b- \b\b\\ \b\b| \b\b/ \b\b- \b\b\\ \b\b| \b\b/ \b\b- \b\b\\ \b\b| \b\b/ \b\b- \b\b\\ \b\b| \b\b/ \b\b- \b\b\\ \b\b| \b\b/ \b\b- \b\b\\ \b\b| \b\b/ \b\b- \b\b\\ \b\b| \b\b/ \b\b- \b\b\\ \b\b| \b\b/ \b\b- \b\b\\ \b\b| \b\b/ \b\b- \b\b\\ \b\b| \b\b/ \b\b- \b\b\\ \b\b| \b\b/ \b\b- \b\b\\ \b\b| \b\b/ \b\b- \b\b\\ \b\b| \b\b/ \b\b- \b\b\\ \b\b| \b\b/ \b\b- \b\b\\ \b\b| \b\b/ \b\b- \b\b\\ \b\b| \b\b/ \b\b- \b\b\\ \b\b| \b\b/ \b\b- \b\b\\ \b\b| \b\b/ \b\b- \b\b\\ \b\b| \b\b/ \b\b- \b\b\\ \b\b| \b\bfailed with repodata from current_repodata.json, will retry with next repodata source.\n",
            "Collecting package metadata (repodata.json): - \b\b\\ \b\b| \b\b/ \b\b- \b\b\\ \b\b| \b\b/ \b\b- \b\b\\ \b\b| \b\b/ \b\b- \b\b\\ \b\b| \b\b/ \b\b- \b\b\\ \b\b| \b\b/ \b\b- \b\b\\ \b\b| \b\b/ \b\b- \b\b\\ \b\b| \b\b/ \b\b- \b\b\\ \b\b| \b\b/ \b\b- \b\b\\ \b\b| \b\b/ \b\b- \b\b\\ \b\b| \b\b/ \b\b- \b\b\\ \b\b| \b\b/ \b\b- \b\b\\ \b\b| \b\b/ \b\b- \b\b\\ \b\b| \b\b/ \b\b- \b\b\\ \b\b| \b\b/ \b\b- \b\b\\ \b\b| \b\b/ \b\b- \b\b\\ \b\b| \b\b/ \b\b- \b\b\\ \b\b| \b\b/ \b\b- \b\b\\ \b\b| \b\b/ \b\b- \b\b\\ \b\b| \b\b/ \b\b- \b\b\\ \b\b| \b\b/ \b\b- \b\b\\ \b\b| \b\b/ \b\b- \b\b\\ \b\b| \b\b/ \b\b- \b\b\\ \b\b| \b\b/ \b\b- \b\b\\ \b\b| \b\b/ \b\b- \b\b\\ \b\b| \b\b/ \b\b- \b\b\\ \b\b| \b\b/ \b\b- \b\b\\ \b\b| \b\b/ \b\b- \b\b\\ \b\b| \b\b/ \b\b- \b\b\\ \b\b| \b\b/ \b\b- \b\b\\ \b\b| \b\b/ \b\b- \b\b\\ \b\b| \b\b/ \b\b- \b\b\\ \b\b| \b\b/ \b\b- \b\b\\ \b\b| \b\b/ \b\b- \b\b\\ \b\b| \b\b/ \b\b- \b\b\\ \b\b| \b\b/ \b\b- \b\b\\ \b\b| \b\b/ \b\b- \b\b\\ \b\b| \b\b/ \b\b- \b\b\\ \b\b| \b\b/ \b\b- \b\b\\ \b\b| \b\b/ \b\b- \b\b\\ \b\b| \b\b/ \b\b- \b\b\\ \b\b| \b\b/ \b\b- \b\b\\ \b\b| \b\b/ \b\b- \b\b\\ \b\b| \b\b/ \b\b- \b\b\\ \b\b| \b\b/ \b\b- \b\b\\ \b\b| \b\b/ \b\b- \b\b\\ \b\b| \b\b/ \b\b- \b\b\\ \b\b| \b\b/ \b\b- \b\b\\ \b\bdone\n",
            "Solving environment: / \b\b- \b\b\\ \b\b| \b\b/ \b\b- \b\b\\ \b\b| \b\b/ \b\b- \b\b\\ \b\b| \b\b/ \b\b- \b\b\\ \b\b| \b\b/ \b\b- \b\b\\ \b\b| \b\b/ \b\b- \b\b\\ \b\b| \b\b/ \b\b- \b\b\\ \b\b| \b\b/ \b\b- \b\b\\ \b\b| \b\b/ \b\b- \b\b\\ \b\b| \b\b/ \b\b- \b\b\\ \b\b| \b\b/ \b\b- \b\b\\ \b\b| \b\b/ \b\b- \b\b\\ \b\b| \b\b/ \b\b- \b\b\\ \b\b| \b\b/ \b\b- \b\b\\ \b\b| \b\b/ \b\b- \b\b\\ \b\b| \b\b/ \b\b- \b\b\\ \b\b| \b\b/ \b\b- \b\b\\ \b\b| \b\b/ \b\b- \b\b\\ \b\b| \b\b/ \b\b- \b\b\\ \b\b| \b\b/ \b\b- \b\b\\ \b\b| \b\b/ \b\b- \b\b\\ \b\b| \b\b/ \b\b- \b\b\\ \b\b| \b\b/ \b\b- \b\b\\ \b\b| \b\b/ \b\b- \b\b\\ \b\b| \b\b/ \b\b- \b\b\\ \b\b| \b\b/ \b\b- \b\b\\ \b\b| \b\b/ \b\b- \b\b\\ \b\b| \b\b/ \b\b- \b\b\\ \b\b| \b\b/ \b\b- \b\b\\ \b\b| \b\b/ \b\b- \b\b\\ \b\b| \b\b/ \b\b- \b\b\\ \b\b| \b\b/ \b\b- \b\b\\ \b\b| \b\b/ \b\b- \b\b\\ \b\b| \b\b/ \b\b- \b\b\\ \b\b| \b\b/ \b\b- \b\b\\ \b\b| \b\b/ \b\b- \b\b\\ \b\b| \b\b/ \b\b- \b\b\\ \b\b| \b\b/ \b\b- \b\b\\ \b\b| \b\b/ \b\b- \b\b\\ \b\b| \b\b/ \b\b- \b\b\\ \b\b| \b\b/ \b\b- \b\b\\ \b\b| \b\b/ \b\b- \b\b\\ \b\b| \b\b/ \b\b- \b\b\\ \b\b| \b\b/ \b\b- \b\b\\ \b\b| \b\b/ \b\b- \b\b\\ \b\b| \b\b/ \b\b- \b\b\\ \b\b| \b\b/ \b\b- \b\b\\ \b\b| \b\b/ \b\b- \b\b\\ \b\b| \b\b/ \b\b- \b\b\\ \b\b| \b\b/ \b\b- \b\b\\ \b\b| \b\b/ \b\b- \b\b\\ \b\b| \b\b/ \b\b- \b\b\\ \b\b| \b\b/ \b\b- \b\b\\ \b\b| \b\b/ \b\b- \b\b\\ \b\b| \b\b/ \b\b- \b\b\\ \b\b| \b\b/ \b\b- \b\b\\ \b\b| \b\b/ \b\b- \b\b\\ \b\b| \b\b/ \b\b- \b\b\\ \b\b| \b\b/ \b\b- \b\b\\ \b\b| \b\b/ \b\b- \b\b\\ \b\b| \b\b/ \b\b- \b\b\\ \b\b| \b\b/ \b\b- \b\b\\ \b\b| \b\b/ \b\b- \b\b\\ \b\b| \b\b/ \b\b- \b\b\\ \b\b| \b\b/ \b\b- \b\b\\ \b\b| \b\b/ \b\b- \b\b\\ \b\b| \b\b/ \b\b- \b\b\\ \b\b| \b\b/ \b\b- \b\b\\ \b\b| \b\b/ \b\b- \b\b\\ \b\b| \b\b/ \b\b- \b\b\\ \b\b| \b\b/ \b\b- \b\b\\ \b\b| \b\b/ \b\b- \b\b\\ \b\b| \b\b/ \b\b- \b\b\\ \b\b| \b\b/ \b\b- \b\b\\ \b\b| \b\b/ \b\b- \b\b\\ \b\b| \b\b/ \b\b- \b\b\\ \b\b| \b\b/ \b\b- \b\b\\ \b\b| \b\b/ \b\b- \b\b\\ \b\b| \b\b/ \b\b- \b\b\\ \b\b| \b\b/ \b\b- \b\b\\ \b\b| \b\b/ \b\b- \b\b\\ \b\b| \b\b/ \b\b- \b\b\\ \b\b| \b\b/ \b\b- \b\b\\ \b\b| \b\b/ \b\b- \b\b\\ \b\b| \b\b/ \b\b- \b\b\\ \b\b| \b\b/ \b\b- \b\b\\ \b\b| \b\b/ \b\b- \b\b\\ \b\b| \b\b/ \b\b- \b\b\\ \b\b| \b\b/ \b\b- \b\b\\ \b\b| \b\b/ \b\b- \b\b\\ \b\b| \b\b/ \b\b- \b\b\\ \b\b| \b\b/ \b\b- \b\b\\ \b\b| \b\b/ \b\b- \b\b\\ \b\b| \b\b/ \b\b- \b\b\\ \b\b| \b\b/ \b\b- \b\b\\ \b\b| \b\b/ \b\b- \b\b\\ \b\b| \b\b/ \b\b- \b\b\\ \b\b| \b\b/ \b\b- \b\b\\ \b\b| \b\b/ \b\b- \b\b\\ \b\b| \b\b/ \b\b- \b\b\\ \b\b| \b\b/ \b\b- \b\b\\ \b\bdone\n",
            "\n",
            "\n",
            "==> WARNING: A newer version of conda exists. <==\n",
            "  current version: 4.8.2\n",
            "  latest version: 4.8.3\n",
            "\n",
            "Please update conda by running\n",
            "\n",
            "    $ conda update -n base -c defaults conda\n",
            "\n",
            "\n",
            "\n",
            "## Package Plan ##\n",
            "\n",
            "  environment location: /usr/local\n",
            "\n",
            "  added / updated specs:\n",
            "    - deepchem-gpu=2.3.0\n",
            "\n",
            "\n",
            "The following packages will be downloaded:\n",
            "\n",
            "    package                    |            build\n",
            "    ---------------------------|-----------------\n",
            "    _py-xgboost-mutex-2.0      |            cpu_0           8 KB  conda-forge\n",
            "    _tflow_select-2.1.0        |              gpu           2 KB\n",
            "    absl-py-0.9.0              |   py37hc8dfbb8_1         162 KB  conda-forge\n",
            "    astor-0.7.1                |             py_0          22 KB  conda-forge\n",
            "    attrs-19.3.0               |             py_0          35 KB  conda-forge\n",
            "    backcall-0.1.0             |             py_0          13 KB  conda-forge\n",
            "    bleach-3.1.5               |     pyh9f0ad1d_0         112 KB  conda-forge\n",
            "    blosc-1.19.0               |       he1b5a44_0         887 KB  conda-forge\n",
            "    bzip2-1.0.8                |       h516909a_2         396 KB  conda-forge\n",
            "    c-ares-1.15.0              |    h516909a_1001         100 KB  conda-forge\n",
            "    ca-certificates-2020.4.5.2 |       hecda079_0         147 KB  conda-forge\n",
            "    cairo-1.16.0               |    h18b612c_1001         1.5 MB  conda-forge\n",
            "    certifi-2020.4.5.2         |   py37hc8dfbb8_0         152 KB  conda-forge\n",
            "    conda-4.8.3                |   py37hc8dfbb8_1         3.0 MB  conda-forge\n",
            "    cudatoolkit-10.1.243       |       h6bb024c_0       347.4 MB\n",
            "    cudnn-7.6.5                |       cuda10.1_0       179.9 MB\n",
            "    cupti-10.1.168             |                0         1.4 MB\n",
            "    cycler-0.10.0              |             py_2           9 KB  conda-forge\n",
            "    cython-0.29.19             |   py37h3340039_0         2.1 MB  conda-forge\n",
            "    dbus-1.13.6                |       he372182_0         602 KB  conda-forge\n",
            "    decorator-4.4.2            |             py_0          11 KB  conda-forge\n",
            "    deepchem-gpu-2.3.0         |           py37_0         2.1 MB  deepchem\n",
            "    defusedxml-0.6.0           |             py_0          22 KB  conda-forge\n",
            "    entrypoints-0.3            |py37hc8dfbb8_1001          12 KB  conda-forge\n",
            "    expat-2.2.9                |       he1b5a44_2         191 KB  conda-forge\n",
            "    fftw3f-3.3.4               |                2         1.2 MB  omnia\n",
            "    fontconfig-2.13.1          |    he4413a7_1000         327 KB  conda-forge\n",
            "    freetype-2.10.2            |       he06d7ca_0         905 KB  conda-forge\n",
            "    gast-0.3.3                 |             py_0          12 KB  conda-forge\n",
            "    gettext-0.19.8.1           |    hc5be6a0_1002         3.6 MB  conda-forge\n",
            "    glib-2.64.3                |       h6f030ca_0         3.4 MB  conda-forge\n",
            "    google-pasta-0.2.0         |     pyh8c360ce_0          42 KB  conda-forge\n",
            "    grpcio-1.23.0              |   py37hb0870dc_1         1.1 MB  conda-forge\n",
            "    gst-plugins-base-1.14.5    |       h0935bb2_2         6.8 MB  conda-forge\n",
            "    gstreamer-1.14.5           |       h36ae1b5_2         4.5 MB  conda-forge\n",
            "    h5py-2.10.0                |nompi_py37h513d04c_102         1.2 MB  conda-forge\n",
            "    hdf5-1.10.5                |nompi_h3c11f04_1104         3.1 MB  conda-forge\n",
            "    icu-58.2                   |    hf484d3e_1000        22.6 MB  conda-forge\n",
            "    importlib-metadata-1.6.1   |   py37hc8dfbb8_0          44 KB  conda-forge\n",
            "    importlib_metadata-1.6.1   |                0           3 KB  conda-forge\n",
            "    ipykernel-5.3.0            |   py37h43977f1_0         164 KB  conda-forge\n",
            "    ipython-7.15.0             |   py37hc8dfbb8_0         1.1 MB  conda-forge\n",
            "    ipython_genutils-0.2.0     |             py_1          21 KB  conda-forge\n",
            "    ipywidgets-7.5.1           |             py_0         101 KB  conda-forge\n",
            "    jedi-0.17.0                |   py37hc8dfbb8_0         807 KB  conda-forge\n",
            "    jinja2-2.11.2              |     pyh9f0ad1d_0          93 KB  conda-forge\n",
            "    joblib-0.15.1              |             py_0         202 KB  conda-forge\n",
            "    jpeg-9d                    |       h516909a_0         266 KB  conda-forge\n",
            "    jsonschema-3.2.0           |   py37hc8dfbb8_1          89 KB  conda-forge\n",
            "    jupyter-1.0.0              |             py_2           4 KB  conda-forge\n",
            "    jupyter_client-6.1.3       |             py_0          74 KB  conda-forge\n",
            "    jupyter_console-6.1.0      |             py_1          21 KB  conda-forge\n",
            "    jupyter_core-4.6.3         |   py37hc8dfbb8_1          71 KB  conda-forge\n",
            "    keras-applications-1.0.8   |             py_1          30 KB  conda-forge\n",
            "    keras-preprocessing-1.1.0  |             py_0          33 KB  conda-forge\n",
            "    kiwisolver-1.2.0           |   py37h99015e2_0          87 KB  conda-forge\n",
            "    libblas-3.8.0              |      14_openblas          10 KB  conda-forge\n",
            "    libboost-1.67.0            |       h46d08c1_4        13.0 MB\n",
            "    libcblas-3.8.0             |      14_openblas          10 KB  conda-forge\n",
            "    libgfortran-ng-7.5.0       |       hdf63c60_6         1.7 MB  conda-forge\n",
            "    libiconv-1.15              |    h516909a_1006         2.0 MB  conda-forge\n",
            "    liblapack-3.8.0            |      14_openblas          10 KB  conda-forge\n",
            "    libopenblas-0.3.7          |       h5ec1e0e_6         7.6 MB  conda-forge\n",
            "    libpng-1.6.37              |       hed695b0_1         308 KB  conda-forge\n",
            "    libprotobuf-3.12.3         |       h8b12597_0         4.9 MB  conda-forge\n",
            "    libsodium-1.0.17           |       h516909a_0         330 KB  conda-forge\n",
            "    libtiff-4.1.0              |       hc7e4089_6         668 KB  conda-forge\n",
            "    libuuid-2.32.1             |    h14c3975_1000          26 KB  conda-forge\n",
            "    libwebp-base-1.1.0         |       h516909a_3         845 KB  conda-forge\n",
            "    libxcb-1.13                |    h14c3975_1002         396 KB  conda-forge\n",
            "    libxgboost-1.0.2           |       he1b5a44_1         2.8 MB  conda-forge\n",
            "    libxml2-2.9.9              |       h13577e0_2         1.3 MB  conda-forge\n",
            "    lz4-c-1.8.3                |    he1b5a44_1001         187 KB  conda-forge\n",
            "    lzo-2.10                   |    h14c3975_1000         319 KB  conda-forge\n",
            "    markdown-3.2.2             |             py_0          61 KB  conda-forge\n",
            "    markupsafe-1.1.1           |   py37h8f50634_1          26 KB  conda-forge\n",
            "    matplotlib-3.1.2           |   py37h4fdacc2_0         5.0 MB\n",
            "    mdtraj-1.9.4               |   py37h4112681_0         1.8 MB  conda-forge\n",
            "    mistune-0.8.4              |py37h8f50634_1001          53 KB  conda-forge\n",
            "    mock-4.0.2                 |   py37hc8dfbb8_0          51 KB  conda-forge\n",
            "    nbconvert-5.6.1            |   py37hc8dfbb8_1         487 KB  conda-forge\n",
            "    nbformat-5.0.6             |             py_0          99 KB  conda-forge\n",
            "    networkx-2.4               |             py_1         1.2 MB  conda-forge\n",
            "    notebook-6.0.3             |   py37hc8dfbb8_0         6.3 MB  conda-forge\n",
            "    numexpr-2.7.1              |   py37h0da4684_1         197 KB  conda-forge\n",
            "    numpy-1.18.5               |   py37h8960a57_0         5.1 MB  conda-forge\n",
            "    olefile-0.46               |             py_0          31 KB  conda-forge\n",
            "    openmm-7.4.2               |py37_cuda101_rc_1        11.9 MB  omnia\n",
            "    openssl-1.1.1g             |       h516909a_0         2.1 MB  conda-forge\n",
            "    packaging-20.4             |     pyh9f0ad1d_0          32 KB  conda-forge\n",
            "    pandas-1.0.4               |   py37h0da4684_0        10.1 MB  conda-forge\n",
            "    pandoc-2.9.2.1             |                0        18.7 MB  conda-forge\n",
            "    pandocfilters-1.4.2        |             py_1           9 KB  conda-forge\n",
            "    parso-0.7.0                |     pyh9f0ad1d_0          67 KB  conda-forge\n",
            "    pcre-8.44                  |       he1b5a44_0         261 KB  conda-forge\n",
            "    pdbfixer-1.6               |           py37_0         190 KB  omnia\n",
            "    pexpect-4.8.0              |   py37hc8dfbb8_1          79 KB  conda-forge\n",
            "    pickleshare-0.7.5          |py37hc8dfbb8_1001          13 KB  conda-forge\n",
            "    pillow-5.3.0               |py37h00a061d_1000         595 KB  conda-forge\n",
            "    pixman-0.38.0              |    h516909a_1003         594 KB  conda-forge\n",
            "    prometheus_client-0.8.0    |     pyh9f0ad1d_0          44 KB  conda-forge\n",
            "    prompt-toolkit-3.0.5       |             py_0         232 KB  conda-forge\n",
            "    prompt_toolkit-3.0.5       |                0           4 KB  conda-forge\n",
            "    protobuf-3.12.3            |   py37h3340039_0         702 KB  conda-forge\n",
            "    pthread-stubs-0.4          |    h14c3975_1001           5 KB  conda-forge\n",
            "    ptyprocess-0.6.0           |          py_1001          15 KB  conda-forge\n",
            "    py-boost-1.67.0            |   py37h04863e7_4         278 KB\n",
            "    py-xgboost-1.0.2           |   py37hc8dfbb8_1         2.2 MB  conda-forge\n",
            "    pygments-2.6.1             |             py_0         683 KB  conda-forge\n",
            "    pyparsing-2.4.7            |     pyh9f0ad1d_0          60 KB  conda-forge\n",
            "    pyqt-5.9.2                 |   py37hcca6a23_4         5.7 MB  conda-forge\n",
            "    pyrsistent-0.16.0          |   py37h8f50634_0          89 KB  conda-forge\n",
            "    pytables-3.6.1             |   py37h9f153d1_1         1.5 MB  conda-forge\n",
            "    python-dateutil-2.8.1      |             py_0         220 KB  conda-forge\n",
            "    python_abi-3.7             |          1_cp37m           4 KB  conda-forge\n",
            "    pytz-2020.1                |     pyh9f0ad1d_0         227 KB  conda-forge\n",
            "    pyzmq-19.0.1               |   py37hac76be4_0         519 KB  conda-forge\n",
            "    qt-5.9.7                   |       h52cfd70_2        85.9 MB  conda-forge\n",
            "    qtconsole-4.7.4            |     pyh9f0ad1d_0          88 KB  conda-forge\n",
            "    qtpy-1.9.0                 |             py_0          34 KB  conda-forge\n",
            "    rdkit-2020.03.2.0          |   py37hc20afe1_1        24.8 MB  rdkit\n",
            "    scikit-learn-0.23.1        |   py37h8a51577_0         6.8 MB  conda-forge\n",
            "    scipy-1.4.1                |   py37ha3d9a3c_3        18.8 MB  conda-forge\n",
            "    send2trash-1.5.0           |             py_0          12 KB  conda-forge\n",
            "    simdna-0.4.2               |             py_0         627 KB  deepchem\n",
            "    sip-4.19.8                 |py37hf484d3e_1000         290 KB  conda-forge\n",
            "    snappy-1.1.8               |       he1b5a44_1          39 KB  conda-forge\n",
            "    tensorboard-1.14.0         |           py37_0         3.2 MB  conda-forge\n",
            "    tensorflow-1.14.0          |gpu_py37h74c33d7_0           4 KB\n",
            "    tensorflow-base-1.14.0     |gpu_py37he45bfe2_0       146.3 MB\n",
            "    tensorflow-estimator-1.14.0|   py37h5ca1d4c_0         645 KB  conda-forge\n",
            "    tensorflow-gpu-1.14.0      |       h0d30ee6_0           3 KB\n",
            "    termcolor-1.1.0            |             py_2           6 KB  conda-forge\n",
            "    terminado-0.8.3            |   py37hc8dfbb8_1          23 KB  conda-forge\n",
            "    testpath-0.4.4             |             py_0          85 KB  conda-forge\n",
            "    threadpoolctl-2.1.0        |     pyh5ca1d4c_0          15 KB  conda-forge\n",
            "    tornado-6.0.4              |   py37h8f50634_1         639 KB  conda-forge\n",
            "    traitlets-4.3.3            |   py37hc8dfbb8_1         133 KB  conda-forge\n",
            "    wcwidth-0.2.4              |     pyh9f0ad1d_0          33 KB  conda-forge\n",
            "    webencodings-0.5.1         |             py_1          12 KB  conda-forge\n",
            "    werkzeug-1.0.1             |     pyh9f0ad1d_0         239 KB  conda-forge\n",
            "    widgetsnbextension-3.5.1   |           py37_0         1.8 MB  conda-forge\n",
            "    wrapt-1.12.1               |   py37h8f50634_1          46 KB  conda-forge\n",
            "    xgboost-1.0.2              |   py37h3340039_1          11 KB  conda-forge\n",
            "    xorg-kbproto-1.0.7         |    h14c3975_1002          26 KB  conda-forge\n",
            "    xorg-libice-1.0.10         |       h516909a_0          57 KB  conda-forge\n",
            "    xorg-libsm-1.2.3           |    h84519dc_1000          25 KB  conda-forge\n",
            "    xorg-libx11-1.6.9          |       h516909a_0         918 KB  conda-forge\n",
            "    xorg-libxau-1.0.9          |       h14c3975_0          13 KB  conda-forge\n",
            "    xorg-libxdmcp-1.1.3        |       h516909a_0          18 KB  conda-forge\n",
            "    xorg-libxext-1.3.4         |       h516909a_0          51 KB  conda-forge\n",
            "    xorg-libxrender-0.9.10     |    h516909a_1002          31 KB  conda-forge\n",
            "    xorg-renderproto-0.11.1    |    h14c3975_1002           8 KB  conda-forge\n",
            "    xorg-xextproto-7.3.0       |    h14c3975_1002          27 KB  conda-forge\n",
            "    xorg-xproto-7.0.31         |    h14c3975_1007          72 KB  conda-forge\n",
            "    zeromq-4.3.2               |       he1b5a44_2         668 KB  conda-forge\n",
            "    zipp-3.1.0                 |             py_0          10 KB  conda-forge\n",
            "    zstd-1.4.4                 |       h3b9ef0a_2         982 KB  conda-forge\n",
            "    ------------------------------------------------------------\n",
            "                                           Total:       999.1 MB\n",
            "\n",
            "The following NEW packages will be INSTALLED:\n",
            "\n",
            "  _py-xgboost-mutex  conda-forge/linux-64::_py-xgboost-mutex-2.0-cpu_0\n",
            "  _tflow_select      pkgs/main/linux-64::_tflow_select-2.1.0-gpu\n",
            "  absl-py            conda-forge/linux-64::absl-py-0.9.0-py37hc8dfbb8_1\n",
            "  astor              conda-forge/noarch::astor-0.7.1-py_0\n",
            "  attrs              conda-forge/noarch::attrs-19.3.0-py_0\n",
            "  backcall           conda-forge/noarch::backcall-0.1.0-py_0\n",
            "  bleach             conda-forge/noarch::bleach-3.1.5-pyh9f0ad1d_0\n",
            "  blosc              conda-forge/linux-64::blosc-1.19.0-he1b5a44_0\n",
            "  bzip2              conda-forge/linux-64::bzip2-1.0.8-h516909a_2\n",
            "  c-ares             conda-forge/linux-64::c-ares-1.15.0-h516909a_1001\n",
            "  cairo              conda-forge/linux-64::cairo-1.16.0-h18b612c_1001\n",
            "  cudatoolkit        pkgs/main/linux-64::cudatoolkit-10.1.243-h6bb024c_0\n",
            "  cudnn              pkgs/main/linux-64::cudnn-7.6.5-cuda10.1_0\n",
            "  cupti              pkgs/main/linux-64::cupti-10.1.168-0\n",
            "  cycler             conda-forge/noarch::cycler-0.10.0-py_2\n",
            "  cython             conda-forge/linux-64::cython-0.29.19-py37h3340039_0\n",
            "  dbus               conda-forge/linux-64::dbus-1.13.6-he372182_0\n",
            "  decorator          conda-forge/noarch::decorator-4.4.2-py_0\n",
            "  deepchem-gpu       deepchem/linux-64::deepchem-gpu-2.3.0-py37_0\n",
            "  defusedxml         conda-forge/noarch::defusedxml-0.6.0-py_0\n",
            "  entrypoints        conda-forge/linux-64::entrypoints-0.3-py37hc8dfbb8_1001\n",
            "  expat              conda-forge/linux-64::expat-2.2.9-he1b5a44_2\n",
            "  fftw3f             omnia/linux-64::fftw3f-3.3.4-2\n",
            "  fontconfig         conda-forge/linux-64::fontconfig-2.13.1-he4413a7_1000\n",
            "  freetype           conda-forge/linux-64::freetype-2.10.2-he06d7ca_0\n",
            "  gast               conda-forge/noarch::gast-0.3.3-py_0\n",
            "  gettext            conda-forge/linux-64::gettext-0.19.8.1-hc5be6a0_1002\n",
            "  glib               conda-forge/linux-64::glib-2.64.3-h6f030ca_0\n",
            "  google-pasta       conda-forge/noarch::google-pasta-0.2.0-pyh8c360ce_0\n",
            "  grpcio             conda-forge/linux-64::grpcio-1.23.0-py37hb0870dc_1\n",
            "  gst-plugins-base   conda-forge/linux-64::gst-plugins-base-1.14.5-h0935bb2_2\n",
            "  gstreamer          conda-forge/linux-64::gstreamer-1.14.5-h36ae1b5_2\n",
            "  h5py               conda-forge/linux-64::h5py-2.10.0-nompi_py37h513d04c_102\n",
            "  hdf5               conda-forge/linux-64::hdf5-1.10.5-nompi_h3c11f04_1104\n",
            "  icu                conda-forge/linux-64::icu-58.2-hf484d3e_1000\n",
            "  importlib-metadata conda-forge/linux-64::importlib-metadata-1.6.1-py37hc8dfbb8_0\n",
            "  importlib_metadata conda-forge/noarch::importlib_metadata-1.6.1-0\n",
            "  ipykernel          conda-forge/linux-64::ipykernel-5.3.0-py37h43977f1_0\n",
            "  ipython            conda-forge/linux-64::ipython-7.15.0-py37hc8dfbb8_0\n",
            "  ipython_genutils   conda-forge/noarch::ipython_genutils-0.2.0-py_1\n",
            "  ipywidgets         conda-forge/noarch::ipywidgets-7.5.1-py_0\n",
            "  jedi               conda-forge/linux-64::jedi-0.17.0-py37hc8dfbb8_0\n",
            "  jinja2             conda-forge/noarch::jinja2-2.11.2-pyh9f0ad1d_0\n",
            "  joblib             conda-forge/noarch::joblib-0.15.1-py_0\n",
            "  jpeg               conda-forge/linux-64::jpeg-9d-h516909a_0\n",
            "  jsonschema         conda-forge/linux-64::jsonschema-3.2.0-py37hc8dfbb8_1\n",
            "  jupyter            conda-forge/noarch::jupyter-1.0.0-py_2\n",
            "  jupyter_client     conda-forge/noarch::jupyter_client-6.1.3-py_0\n",
            "  jupyter_console    conda-forge/noarch::jupyter_console-6.1.0-py_1\n",
            "  jupyter_core       conda-forge/linux-64::jupyter_core-4.6.3-py37hc8dfbb8_1\n",
            "  keras-applications conda-forge/noarch::keras-applications-1.0.8-py_1\n",
            "  keras-preprocessi~ conda-forge/noarch::keras-preprocessing-1.1.0-py_0\n",
            "  kiwisolver         conda-forge/linux-64::kiwisolver-1.2.0-py37h99015e2_0\n",
            "  libblas            conda-forge/linux-64::libblas-3.8.0-14_openblas\n",
            "  libboost           pkgs/main/linux-64::libboost-1.67.0-h46d08c1_4\n",
            "  libcblas           conda-forge/linux-64::libcblas-3.8.0-14_openblas\n",
            "  libgfortran-ng     conda-forge/linux-64::libgfortran-ng-7.5.0-hdf63c60_6\n",
            "  libiconv           conda-forge/linux-64::libiconv-1.15-h516909a_1006\n",
            "  liblapack          conda-forge/linux-64::liblapack-3.8.0-14_openblas\n",
            "  libopenblas        conda-forge/linux-64::libopenblas-0.3.7-h5ec1e0e_6\n",
            "  libpng             conda-forge/linux-64::libpng-1.6.37-hed695b0_1\n",
            "  libprotobuf        conda-forge/linux-64::libprotobuf-3.12.3-h8b12597_0\n",
            "  libsodium          conda-forge/linux-64::libsodium-1.0.17-h516909a_0\n",
            "  libtiff            conda-forge/linux-64::libtiff-4.1.0-hc7e4089_6\n",
            "  libuuid            conda-forge/linux-64::libuuid-2.32.1-h14c3975_1000\n",
            "  libwebp-base       conda-forge/linux-64::libwebp-base-1.1.0-h516909a_3\n",
            "  libxcb             conda-forge/linux-64::libxcb-1.13-h14c3975_1002\n",
            "  libxgboost         conda-forge/linux-64::libxgboost-1.0.2-he1b5a44_1\n",
            "  libxml2            conda-forge/linux-64::libxml2-2.9.9-h13577e0_2\n",
            "  lz4-c              conda-forge/linux-64::lz4-c-1.8.3-he1b5a44_1001\n",
            "  lzo                conda-forge/linux-64::lzo-2.10-h14c3975_1000\n",
            "  markdown           conda-forge/noarch::markdown-3.2.2-py_0\n",
            "  markupsafe         conda-forge/linux-64::markupsafe-1.1.1-py37h8f50634_1\n",
            "  matplotlib         pkgs/main/linux-64::matplotlib-3.1.2-py37h4fdacc2_0\n",
            "  mdtraj             conda-forge/linux-64::mdtraj-1.9.4-py37h4112681_0\n",
            "  mistune            conda-forge/linux-64::mistune-0.8.4-py37h8f50634_1001\n",
            "  mock               conda-forge/linux-64::mock-4.0.2-py37hc8dfbb8_0\n",
            "  nbconvert          conda-forge/linux-64::nbconvert-5.6.1-py37hc8dfbb8_1\n",
            "  nbformat           conda-forge/noarch::nbformat-5.0.6-py_0\n",
            "  networkx           conda-forge/noarch::networkx-2.4-py_1\n",
            "  notebook           conda-forge/linux-64::notebook-6.0.3-py37hc8dfbb8_0\n",
            "  numexpr            conda-forge/linux-64::numexpr-2.7.1-py37h0da4684_1\n",
            "  numpy              conda-forge/linux-64::numpy-1.18.5-py37h8960a57_0\n",
            "  olefile            conda-forge/noarch::olefile-0.46-py_0\n",
            "  openmm             omnia/linux-64::openmm-7.4.2-py37_cuda101_rc_1\n",
            "  packaging          conda-forge/noarch::packaging-20.4-pyh9f0ad1d_0\n",
            "  pandas             conda-forge/linux-64::pandas-1.0.4-py37h0da4684_0\n",
            "  pandoc             conda-forge/linux-64::pandoc-2.9.2.1-0\n",
            "  pandocfilters      conda-forge/noarch::pandocfilters-1.4.2-py_1\n",
            "  parso              conda-forge/noarch::parso-0.7.0-pyh9f0ad1d_0\n",
            "  pcre               conda-forge/linux-64::pcre-8.44-he1b5a44_0\n",
            "  pdbfixer           omnia/linux-64::pdbfixer-1.6-py37_0\n",
            "  pexpect            conda-forge/linux-64::pexpect-4.8.0-py37hc8dfbb8_1\n",
            "  pickleshare        conda-forge/linux-64::pickleshare-0.7.5-py37hc8dfbb8_1001\n",
            "  pillow             conda-forge/linux-64::pillow-5.3.0-py37h00a061d_1000\n",
            "  pixman             conda-forge/linux-64::pixman-0.38.0-h516909a_1003\n",
            "  prometheus_client  conda-forge/noarch::prometheus_client-0.8.0-pyh9f0ad1d_0\n",
            "  prompt-toolkit     conda-forge/noarch::prompt-toolkit-3.0.5-py_0\n",
            "  prompt_toolkit     conda-forge/noarch::prompt_toolkit-3.0.5-0\n",
            "  protobuf           conda-forge/linux-64::protobuf-3.12.3-py37h3340039_0\n",
            "  pthread-stubs      conda-forge/linux-64::pthread-stubs-0.4-h14c3975_1001\n",
            "  ptyprocess         conda-forge/noarch::ptyprocess-0.6.0-py_1001\n",
            "  py-boost           pkgs/main/linux-64::py-boost-1.67.0-py37h04863e7_4\n",
            "  py-xgboost         conda-forge/linux-64::py-xgboost-1.0.2-py37hc8dfbb8_1\n",
            "  pygments           conda-forge/noarch::pygments-2.6.1-py_0\n",
            "  pyparsing          conda-forge/noarch::pyparsing-2.4.7-pyh9f0ad1d_0\n",
            "  pyqt               conda-forge/linux-64::pyqt-5.9.2-py37hcca6a23_4\n",
            "  pyrsistent         conda-forge/linux-64::pyrsistent-0.16.0-py37h8f50634_0\n",
            "  pytables           conda-forge/linux-64::pytables-3.6.1-py37h9f153d1_1\n",
            "  python-dateutil    conda-forge/noarch::python-dateutil-2.8.1-py_0\n",
            "  python_abi         conda-forge/linux-64::python_abi-3.7-1_cp37m\n",
            "  pytz               conda-forge/noarch::pytz-2020.1-pyh9f0ad1d_0\n",
            "  pyzmq              conda-forge/linux-64::pyzmq-19.0.1-py37hac76be4_0\n",
            "  qt                 conda-forge/linux-64::qt-5.9.7-h52cfd70_2\n",
            "  qtconsole          conda-forge/noarch::qtconsole-4.7.4-pyh9f0ad1d_0\n",
            "  qtpy               conda-forge/noarch::qtpy-1.9.0-py_0\n",
            "  rdkit              rdkit/linux-64::rdkit-2020.03.2.0-py37hc20afe1_1\n",
            "  scikit-learn       conda-forge/linux-64::scikit-learn-0.23.1-py37h8a51577_0\n",
            "  scipy              conda-forge/linux-64::scipy-1.4.1-py37ha3d9a3c_3\n",
            "  send2trash         conda-forge/noarch::send2trash-1.5.0-py_0\n",
            "  simdna             deepchem/noarch::simdna-0.4.2-py_0\n",
            "  sip                conda-forge/linux-64::sip-4.19.8-py37hf484d3e_1000\n",
            "  snappy             conda-forge/linux-64::snappy-1.1.8-he1b5a44_1\n",
            "  tensorboard        conda-forge/linux-64::tensorboard-1.14.0-py37_0\n",
            "  tensorflow         pkgs/main/linux-64::tensorflow-1.14.0-gpu_py37h74c33d7_0\n",
            "  tensorflow-base    pkgs/main/linux-64::tensorflow-base-1.14.0-gpu_py37he45bfe2_0\n",
            "  tensorflow-estima~ conda-forge/linux-64::tensorflow-estimator-1.14.0-py37h5ca1d4c_0\n",
            "  tensorflow-gpu     pkgs/main/linux-64::tensorflow-gpu-1.14.0-h0d30ee6_0\n",
            "  termcolor          conda-forge/noarch::termcolor-1.1.0-py_2\n",
            "  terminado          conda-forge/linux-64::terminado-0.8.3-py37hc8dfbb8_1\n",
            "  testpath           conda-forge/noarch::testpath-0.4.4-py_0\n",
            "  threadpoolctl      conda-forge/noarch::threadpoolctl-2.1.0-pyh5ca1d4c_0\n",
            "  tornado            conda-forge/linux-64::tornado-6.0.4-py37h8f50634_1\n",
            "  traitlets          conda-forge/linux-64::traitlets-4.3.3-py37hc8dfbb8_1\n",
            "  wcwidth            conda-forge/noarch::wcwidth-0.2.4-pyh9f0ad1d_0\n",
            "  webencodings       conda-forge/noarch::webencodings-0.5.1-py_1\n",
            "  werkzeug           conda-forge/noarch::werkzeug-1.0.1-pyh9f0ad1d_0\n",
            "  widgetsnbextension conda-forge/linux-64::widgetsnbextension-3.5.1-py37_0\n",
            "  wrapt              conda-forge/linux-64::wrapt-1.12.1-py37h8f50634_1\n",
            "  xgboost            conda-forge/linux-64::xgboost-1.0.2-py37h3340039_1\n",
            "  xorg-kbproto       conda-forge/linux-64::xorg-kbproto-1.0.7-h14c3975_1002\n",
            "  xorg-libice        conda-forge/linux-64::xorg-libice-1.0.10-h516909a_0\n",
            "  xorg-libsm         conda-forge/linux-64::xorg-libsm-1.2.3-h84519dc_1000\n",
            "  xorg-libx11        conda-forge/linux-64::xorg-libx11-1.6.9-h516909a_0\n",
            "  xorg-libxau        conda-forge/linux-64::xorg-libxau-1.0.9-h14c3975_0\n",
            "  xorg-libxdmcp      conda-forge/linux-64::xorg-libxdmcp-1.1.3-h516909a_0\n",
            "  xorg-libxext       conda-forge/linux-64::xorg-libxext-1.3.4-h516909a_0\n",
            "  xorg-libxrender    conda-forge/linux-64::xorg-libxrender-0.9.10-h516909a_1002\n",
            "  xorg-renderproto   conda-forge/linux-64::xorg-renderproto-0.11.1-h14c3975_1002\n",
            "  xorg-xextproto     conda-forge/linux-64::xorg-xextproto-7.3.0-h14c3975_1002\n",
            "  xorg-xproto        conda-forge/linux-64::xorg-xproto-7.0.31-h14c3975_1007\n",
            "  zeromq             conda-forge/linux-64::zeromq-4.3.2-he1b5a44_2\n",
            "  zipp               conda-forge/noarch::zipp-3.1.0-py_0\n",
            "  zstd               conda-forge/linux-64::zstd-1.4.4-h3b9ef0a_2\n",
            "\n",
            "The following packages will be UPDATED:\n",
            "\n",
            "  ca-certificates     pkgs/main::ca-certificates-2020.1.1-0 --> conda-forge::ca-certificates-2020.4.5.2-hecda079_0\n",
            "  certifi              pkgs/main::certifi-2019.11.28-py37_0 --> conda-forge::certifi-2020.4.5.2-py37hc8dfbb8_0\n",
            "  conda                       pkgs/main::conda-4.8.2-py37_0 --> conda-forge::conda-4.8.3-py37hc8dfbb8_1\n",
            "  openssl              pkgs/main::openssl-1.1.1d-h7b6447c_4 --> conda-forge::openssl-1.1.1g-h516909a_0\n",
            "\n",
            "\n",
            "\n",
            "Downloading and Extracting Packages\n",
            "cudatoolkit-10.1.243 | 347.4 MB  | : 100% 1.0/1 [00:09<00:00,  9.11s/it]               \n",
            "py-xgboost-1.0.2     | 2.2 MB    | : 100% 1.0/1 [00:00<00:00,  3.54s/it]                 \n",
            "bleach-3.1.5         | 112 KB    | : 100% 1.0/1 [00:00<00:00, 15.95it/s]\n",
            "cython-0.29.19       | 2.1 MB    | : 100% 1.0/1 [00:00<00:00,  1.85it/s]\n",
            "jedi-0.17.0          | 807 KB    | : 100% 1.0/1 [00:00<00:00,  2.55it/s]\n",
            "libprotobuf-3.12.3   | 4.9 MB    | : 100% 1.0/1 [00:01<00:00,  1.25s/it]\n",
            "glib-2.64.3          | 3.4 MB    | : 100% 1.0/1 [00:00<00:00,  1.15it/s]\n",
            "simdna-0.4.2         | 627 KB    | : 100% 1.0/1 [00:00<00:00,  6.95s/it]                \n",
            "tensorflow-gpu-1.14. | 3 KB      | : 100% 1.0/1 [00:00<00:00, 11.07it/s]\n",
            "pillow-5.3.0         | 595 KB    | : 100% 1.0/1 [00:00<00:00,  5.49it/s]\n",
            "expat-2.2.9          | 191 KB    | : 100% 1.0/1 [00:00<00:00, 10.97it/s]\n",
            "xorg-libx11-1.6.9    | 918 KB    | : 100% 1.0/1 [00:00<00:00,  4.62it/s]\n",
            "xorg-libice-1.0.10   | 57 KB     | : 100% 1.0/1 [00:00<00:00, 21.76it/s]\n",
            "markdown-3.2.2       | 61 KB     | : 100% 1.0/1 [00:00<00:00, 21.39it/s]\n",
            "mistune-0.8.4        | 53 KB     | : 100% 1.0/1 [00:00<00:00, 19.27it/s]\n",
            "qt-5.9.7             | 85.9 MB   | : 100% 1.0/1 [00:17<00:00, 44.33s/it]              \n",
            "libblas-3.8.0        | 10 KB     | : 100% 1.0/1 [00:00<00:00, 26.85it/s]\n",
            "dbus-1.13.6          | 602 KB    | : 100% 1.0/1 [00:00<00:00,  6.29it/s]\n",
            "xorg-xextproto-7.3.0 | 27 KB     | : 100% 1.0/1 [00:00<00:00, 22.15it/s]\n",
            "testpath-0.4.4       | 85 KB     | : 100% 1.0/1 [00:00<00:00, 20.01it/s]\n",
            "freetype-2.10.2      | 905 KB    | : 100% 1.0/1 [00:00<00:00,  5.01it/s]\n",
            "parso-0.7.0          | 67 KB     | : 100% 1.0/1 [00:00<00:00, 15.42it/s]\n",
            "nbformat-5.0.6       | 99 KB     | : 100% 1.0/1 [00:00<00:00, 15.41it/s]\n",
            "ipywidgets-7.5.1     | 101 KB    | : 100% 1.0/1 [00:00<00:00, 17.74it/s]\n",
            "termcolor-1.1.0      | 6 KB      | : 100% 1.0/1 [00:00<00:00, 26.82it/s]\n",
            "kiwisolver-1.2.0     | 87 KB     | : 100% 1.0/1 [00:00<00:00, 20.34it/s]\n",
            "jpeg-9d              | 266 KB    | : 100% 1.0/1 [00:00<00:00, 11.00it/s]\n",
            "xorg-libxau-1.0.9    | 13 KB     | : 100% 1.0/1 [00:00<00:00, 32.53it/s]\n",
            "defusedxml-0.6.0     | 22 KB     | : 100% 1.0/1 [00:00<00:00, 20.22it/s]\n",
            "ptyprocess-0.6.0     | 15 KB     | : 100% 1.0/1 [00:00<00:00, 23.99it/s]\n",
            "gst-plugins-base-1.1 | 6.8 MB    | : 100% 1.0/1 [00:01<00:00,  1.42s/it]\n",
            "xorg-libsm-1.2.3     | 25 KB     | : 100% 1.0/1 [00:00<00:00, 26.10it/s]\n",
            "pthread-stubs-0.4    | 5 KB      | : 100% 1.0/1 [00:00<00:00, 30.02it/s]\n",
            "jinja2-2.11.2        | 93 KB     | : 100% 1.0/1 [00:00<00:00, 16.84it/s]\n",
            "nbconvert-5.6.1      | 487 KB    | : 100% 1.0/1 [00:00<00:00,  6.17it/s]\n",
            "xorg-libxrender-0.9. | 31 KB     | : 100% 1.0/1 [00:00<00:00, 27.13it/s]\n",
            "prompt_toolkit-3.0.5 | 4 KB      | : 100% 1.0/1 [00:00<00:00, 31.92it/s]\n",
            "h5py-2.10.0          | 1.2 MB    | : 100% 1.0/1 [00:00<00:00,  3.16it/s]\n",
            "jupyter-1.0.0        | 4 KB      | : 100% 1.0/1 [00:00<00:00, 25.42it/s]\n",
            "markupsafe-1.1.1     | 26 KB     | : 100% 1.0/1 [00:00<00:00, 26.03it/s]\n",
            "entrypoints-0.3      | 12 KB     | : 100% 1.0/1 [00:00<00:00, 27.00it/s]\n",
            "libxgboost-1.0.2     | 2.8 MB    | : 100% 1.0/1 [00:00<00:00,  1.65it/s]\n",
            "qtpy-1.9.0           | 34 KB     | : 100% 1.0/1 [00:00<00:00, 22.67it/s]\n",
            "pyrsistent-0.16.0    | 89 KB     | : 100% 1.0/1 [00:00<00:00, 15.34it/s]\n",
            "blosc-1.19.0         | 887 KB    | : 100% 1.0/1 [00:00<00:00,  5.32it/s]\n",
            "zeromq-4.3.2         | 668 KB    | : 100% 1.0/1 [00:00<00:00,  4.96it/s]\n",
            "importlib-metadata-1 | 44 KB     | : 100% 1.0/1 [00:00<00:00, 19.87it/s]\n",
            "gettext-0.19.8.1     | 3.6 MB    | : 100% 1.0/1 [00:01<00:00,  1.02s/it]\n",
            "cycler-0.10.0        | 9 KB      | : 100% 1.0/1 [00:00<00:00, 30.94it/s]\n",
            "pytables-3.6.1       | 1.5 MB    | : 100% 1.0/1 [00:00<00:00,  2.52it/s]\n",
            "python_abi-3.7       | 4 KB      | : 100% 1.0/1 [00:00<00:00, 31.35it/s]\n",
            "packaging-20.4       | 32 KB     | : 100% 1.0/1 [00:00<00:00, 26.03it/s]\n",
            "gast-0.3.3           | 12 KB     | : 100% 1.0/1 [00:00<00:00, 24.11it/s]\n",
            "absl-py-0.9.0        | 162 KB    | : 100% 1.0/1 [00:00<00:00, 11.22it/s]\n",
            "google-pasta-0.2.0   | 42 KB     | : 100% 1.0/1 [00:00<00:00, 21.70it/s]\n",
            "backcall-0.1.0       | 13 KB     | : 100% 1.0/1 [00:00<00:00, 29.01it/s]\n",
            "pcre-8.44            | 261 KB    | : 100% 1.0/1 [00:00<00:00, 11.66it/s]\n",
            "libxml2-2.9.9        | 1.3 MB    | : 100% 1.0/1 [00:00<00:00,  2.37it/s]\n",
            "traitlets-4.3.3      | 133 KB    | : 100% 1.0/1 [00:00<00:00, 14.24it/s]\n",
            "jsonschema-3.2.0     | 89 KB     | : 100% 1.0/1 [00:00<00:00, 18.35it/s]\n",
            "tensorflow-1.14.0    | 4 KB      | : 100% 1.0/1 [00:00<00:00, 11.57it/s]\n",
            "pixman-0.38.0        | 594 KB    | : 100% 1.0/1 [00:00<00:00,  6.92it/s]\n",
            "wrapt-1.12.1         | 46 KB     | : 100% 1.0/1 [00:00<00:00, 25.74it/s]\n",
            "xorg-kbproto-1.0.7   | 26 KB     | : 100% 1.0/1 [00:00<00:00, 27.88it/s]\n",
            "mdtraj-1.9.4         | 1.8 MB    | : 100% 1.0/1 [00:00<00:00,  2.35it/s]\n",
            "pickleshare-0.7.5    | 13 KB     | : 100% 1.0/1 [00:00<00:00, 26.27it/s]\n",
            "notebook-6.0.3       | 6.3 MB    | : 100% 1.0/1 [00:01<00:00,  1.83s/it]\n",
            "prompt-toolkit-3.0.5 | 232 KB    | : 100% 1.0/1 [00:00<00:00,  7.90it/s]\n",
            "lz4-c-1.8.3          | 187 KB    | : 100% 1.0/1 [00:00<00:00, 10.28it/s]\n",
            "cupti-10.1.168       | 1.4 MB    | : 100% 1.0/1 [00:00<00:00,  6.80it/s]\n",
            "lzo-2.10             | 319 KB    | : 100% 1.0/1 [00:00<00:00,  8.15it/s]\n",
            "grpcio-1.23.0        | 1.1 MB    | : 100% 1.0/1 [00:00<00:00,  3.35it/s]\n",
            "ipykernel-5.3.0      | 164 KB    | : 100% 1.0/1 [00:00<00:00,  9.35it/s]\n",
            "hdf5-1.10.5          | 3.1 MB    | : 100% 1.0/1 [00:00<00:00,  1.54it/s]\n",
            "libboost-1.67.0      | 13.0 MB   | : 100% 1.0/1 [00:01<00:00,  1.28s/it]               \n",
            "networkx-2.4         | 1.2 MB    | : 100% 1.0/1 [00:00<00:00,  2.36it/s]\n",
            "libopenblas-0.3.7    | 7.6 MB    | : 100% 1.0/1 [00:01<00:00,  1.62s/it]\n",
            "libcblas-3.8.0       | 10 KB     | : 100% 1.0/1 [00:00<00:00, 27.85it/s]\n",
            "openssl-1.1.1g       | 2.1 MB    | : 100% 1.0/1 [00:00<00:00,  2.44it/s]\n",
            "importlib_metadata-1 | 3 KB      | : 100% 1.0/1 [00:00<00:00, 32.64it/s]\n",
            "libpng-1.6.37        | 308 KB    | : 100% 1.0/1 [00:00<00:00, 10.53it/s]\n",
            "tensorboard-1.14.0   | 3.2 MB    | : 100% 1.0/1 [00:00<00:00,  1.68it/s]\n",
            "matplotlib-3.1.2     | 5.0 MB    | : 100% 1.0/1 [00:00<00:00,  2.72it/s]\n",
            "xorg-libxdmcp-1.1.3  | 18 KB     | : 100% 1.0/1 [00:00<00:00, 29.84it/s]\n",
            "numpy-1.18.5         | 5.1 MB    | : 100% 1.0/1 [00:01<00:00,  1.47s/it]\n",
            "openmm-7.4.2         | 11.9 MB   | : 100% 1.0/1 [00:03<00:00,  3.55s/it]               \n",
            "xgboost-1.0.2        | 11 KB     | : 100% 1.0/1 [00:00<00:00, 30.25it/s]\n",
            "pexpect-4.8.0        | 79 KB     | : 100% 1.0/1 [00:00<00:00, 19.62it/s]\n",
            "python-dateutil-2.8. | 220 KB    | : 100% 1.0/1 [00:00<00:00, 16.69it/s]\n",
            "pytz-2020.1          | 227 KB    | : 100% 1.0/1 [00:00<00:00,  7.45it/s]\n",
            "send2trash-1.5.0     | 12 KB     | : 100% 1.0/1 [00:00<00:00, 28.73it/s]\n",
            "pdbfixer-1.6         | 190 KB    | : 100% 1.0/1 [00:00<00:00,  3.42it/s]              \n",
            "libiconv-1.15        | 2.0 MB    | : 100% 1.0/1 [00:00<00:00,  2.98it/s]\n",
            "threadpoolctl-2.1.0  | 15 KB     | : 100% 1.0/1 [00:00<00:00, 24.89it/s]\n",
            "ipython-7.15.0       | 1.1 MB    | : 100% 1.0/1 [00:00<00:00,  2.22it/s]\n",
            "keras-applications-1 | 30 KB     | : 100% 1.0/1 [00:00<00:00, 21.56it/s]\n",
            "astor-0.7.1          | 22 KB     | : 100% 1.0/1 [00:00<00:00, 29.84it/s]\n",
            "rdkit-2020.03.2.0    | 24.8 MB   | : 100% 1.0/1 [00:04<00:00, 148.61s/it]               \n",
            "xorg-renderproto-0.1 | 8 KB      | : 100% 1.0/1 [00:00<00:00, 25.99it/s]\n",
            "pyqt-5.9.2           | 5.7 MB    | : 100% 1.0/1 [00:01<00:00,  1.61s/it]\n",
            "c-ares-1.15.0        | 100 KB    | : 100% 1.0/1 [00:00<00:00, 20.27it/s]\n",
            "xorg-libxext-1.3.4   | 51 KB     | : 100% 1.0/1 [00:00<00:00, 23.26it/s]\n",
            "libxcb-1.13          | 396 KB    | : 100% 1.0/1 [00:00<00:00,  5.77it/s]\n",
            "xorg-xproto-7.0.31   | 72 KB     | : 100% 1.0/1 [00:00<00:00, 19.62it/s]\n",
            "ipython_genutils-0.2 | 21 KB     | : 100% 1.0/1 [00:00<00:00, 20.99it/s]\n",
            "icu-58.2             | 22.6 MB   | : 100% 1.0/1 [00:04<00:00,  4.10s/it]               \n",
            "fftw3f-3.3.4         | 1.2 MB    | : 100% 1.0/1 [00:00<00:00, 13.16s/it]                \n",
            "keras-preprocessing- | 33 KB     | : 100% 1.0/1 [00:00<00:00, 27.77it/s]\n",
            "tensorflow-estimator | 645 KB    | : 100% 1.0/1 [00:00<00:00,  3.99it/s]\n",
            "pandocfilters-1.4.2  | 9 KB      | : 100% 1.0/1 [00:00<00:00, 32.94it/s]\n",
            "pyparsing-2.4.7      | 60 KB     | : 100% 1.0/1 [00:00<00:00, 21.29it/s]\n",
            "wcwidth-0.2.4        | 33 KB     | : 100% 1.0/1 [00:00<00:00, 21.03it/s]\n",
            "deepchem-gpu-2.3.0   | 2.1 MB    | : 100% 1.0/1 [00:00<00:00, 22.33s/it]                \n",
            "prometheus_client-0. | 44 KB     | : 100% 1.0/1 [00:00<00:00, 24.65it/s]\n",
            "libwebp-base-1.1.0   | 845 KB    | : 100% 1.0/1 [00:00<00:00,  5.18it/s]\n",
            "decorator-4.4.2      | 11 KB     | : 100% 1.0/1 [00:00<00:00, 27.06it/s]\n",
            "protobuf-3.12.3      | 702 KB    | : 100% 1.0/1 [00:00<00:00,  3.86it/s]\n",
            "libsodium-1.0.17     | 330 KB    | : 100% 1.0/1 [00:00<00:00, 10.06it/s]\n",
            "cairo-1.16.0         | 1.5 MB    | : 100% 1.0/1 [00:00<00:00,  2.41it/s]\n",
            "attrs-19.3.0         | 35 KB     | : 100% 1.0/1 [00:00<00:00, 25.95it/s]\n",
            "pyzmq-19.0.1         | 519 KB    | : 100% 1.0/1 [00:00<00:00,  5.97it/s]\n",
            "fontconfig-2.13.1    | 327 KB    | : 100% 1.0/1 [00:00<00:00,  9.54it/s]\n",
            "sip-4.19.8           | 290 KB    | : 100% 1.0/1 [00:00<00:00, 10.36it/s]\n",
            "certifi-2020.4.5.2   | 152 KB    | : 100% 1.0/1 [00:00<00:00, 17.40it/s]\n",
            "zipp-3.1.0           | 10 KB     | : 100% 1.0/1 [00:00<00:00, 29.75it/s]\n",
            "webencodings-0.5.1   | 12 KB     | : 100% 1.0/1 [00:00<00:00, 29.01it/s]\n",
            "scipy-1.4.1          | 18.8 MB   | : 100% 1.0/1 [00:03<00:00,  3.92s/it]               \n",
            "tensorflow-base-1.14 | 146.3 MB  | : 100% 1.0/1 [00:10<00:00, 10.02s/it]               \n",
            "libgfortran-ng-7.5.0 | 1.7 MB    | : 100% 1.0/1 [00:00<00:00,  2.80it/s]\n",
            "_py-xgboost-mutex-2. | 8 KB      | : 100% 1.0/1 [00:00<00:00, 29.49it/s]\n",
            "jupyter_console-6.1. | 21 KB     | : 100% 1.0/1 [00:00<00:00, 28.65it/s]\n",
            "pandas-1.0.4         | 10.1 MB   | : 100% 1.0/1 [00:02<00:00,  3.27s/it]             \n",
            "libuuid-2.32.1       | 26 KB     | : 100% 1.0/1 [00:00<00:00, 27.92it/s]\n",
            "_tflow_select-2.1.0  | 2 KB      | : 100% 1.0/1 [00:00<00:00, 13.59it/s]\n",
            "scikit-learn-0.23.1  | 6.8 MB    | : 100% 1.0/1 [00:01<00:00,  1.59s/it]\n",
            "snappy-1.1.8         | 39 KB     | : 100% 1.0/1 [00:00<00:00, 25.44it/s]\n",
            "zstd-1.4.4           | 982 KB    | : 100% 1.0/1 [00:00<00:00,  5.03it/s]\n",
            "gstreamer-1.14.5     | 4.5 MB    | : 100% 1.0/1 [00:00<00:00,  1.09it/s]\n",
            "cudnn-7.6.5          | 179.9 MB  | : 100% 1.0/1 [00:10<00:00, 10.86s/it]               \n",
            "joblib-0.15.1        | 202 KB    | : 100% 1.0/1 [00:00<00:00,  9.31it/s]\n",
            "terminado-0.8.3      | 23 KB     | : 100% 1.0/1 [00:00<00:00, 23.93it/s]\n",
            "liblapack-3.8.0      | 10 KB     | : 100% 1.0/1 [00:00<00:00, 29.38it/s]\n",
            "py-boost-1.67.0      | 278 KB    | : 100% 1.0/1 [00:00<00:00,  8.89it/s]\n",
            "pandoc-2.9.2.1       | 18.7 MB   | : 100% 1.0/1 [00:04<00:00,  2.73s/it]                \n",
            "bzip2-1.0.8          | 396 KB    | : 100% 1.0/1 [00:00<00:00,  8.04it/s]\n",
            "libtiff-4.1.0        | 668 KB    | : 100% 1.0/1 [00:00<00:00,  5.45it/s]\n",
            "olefile-0.46         | 31 KB     | : 100% 1.0/1 [00:00<00:00, 26.67it/s]\n",
            "tornado-6.0.4        | 639 KB    | : 100% 1.0/1 [00:00<00:00,  4.49it/s]\n",
            "mock-4.0.2           | 51 KB     | : 100% 1.0/1 [00:00<00:00, 22.67it/s]\n",
            "jupyter_core-4.6.3   | 71 KB     | : 100% 1.0/1 [00:00<00:00, 17.72it/s]\n",
            "ca-certificates-2020 | 147 KB    | : 100% 1.0/1 [00:00<00:00, 19.47it/s]\n",
            "numexpr-2.7.1        | 197 KB    | : 100% 1.0/1 [00:00<00:00, 13.85it/s]\n",
            "conda-4.8.3          | 3.0 MB    | : 100% 1.0/1 [00:00<00:00,  1.39it/s]\n",
            "widgetsnbextension-3 | 1.8 MB    | : 100% 1.0/1 [00:00<00:00,  2.05it/s]\n",
            "pygments-2.6.1       | 683 KB    | : 100% 1.0/1 [00:00<00:00,  4.75it/s]\n",
            "qtconsole-4.7.4      | 88 KB     | : 100% 1.0/1 [00:00<00:00, 17.86it/s]\n",
            "werkzeug-1.0.1       | 239 KB    | : 100% 1.0/1 [00:00<00:00, 10.81it/s]\n",
            "jupyter_client-6.1.3 | 74 KB     | : 100% 1.0/1 [00:00<00:00, 18.98it/s]\n",
            "Preparing transaction: / \b\b- \b\b\\ \b\b| \b\b/ \b\b- \b\b\\ \b\b| \b\b/ \b\b- \b\b\\ \b\b| \b\b/ \b\b- \b\b\\ \b\b| \b\b/ \b\b- \b\b\\ \b\b| \b\b/ \b\b- \b\b\\ \b\bdone\n",
            "Verifying transaction: / \b\b- \b\b\\ \b\b| \b\b/ \b\b- \b\b\\ \b\b| \b\b/ \b\b- \b\b\\ \b\b| \b\b/ \b\b- \b\b\\ \b\b| \b\b/ \b\b- \b\b\\ \b\b| \b\b/ \b\b- \b\b\\ \b\b| \b\b/ \b\b- \b\b\\ \b\b| \b\b/ \b\b- \b\b\\ \b\b| \b\b/ \b\b- \b\b\\ \b\b| \b\b/ \b\b- \b\b\\ \b\b| \b\b/ \b\b- \b\b\\ \b\b| \b\b/ \b\b- \b\b\\ \b\b| \b\b/ \b\b- \b\b\\ \b\b| \b\b/ \b\b- \b\b\\ \b\b| \b\b/ \b\b- \b\b\\ \b\b| \b\b/ \b\b- \b\b\\ \b\b| \b\b/ \b\bdone\n",
            "Executing transaction: \\ \b\b| \b\b/ \b\b- \b\b\\ \b\b| \b\b/ \b\b- \b\b\\ \b\b| \b\b/ \b\b- \b\b\\ \b\b| \b\b/ \b\b- \b\b\\ \b\b| \b\b/ \b\b- \b\b\\ \b\b| \b\b/ \b\b- \b\b\\ \b\b| \b\b/ \b\b- \b\b\\ \b\b| \b\b/ \b\b- \b\b\\ \b\b| \b\b/ \b\b- \b\b\\ \b\b| \b\b/ \b\b- \b\b\\ \b\b| \b\b/ \b\b- \b\b\\ \b\b| b'Enabling notebook extension jupyter-js-widgets/extension...\\nPaths used for configuration of notebook: \\n    \\t/usr/local/etc/jupyter/nbconfig/notebook.d/plotlywidget.json\\n    \\t/usr/local/etc/jupyter/nbconfig/notebook.d/widgetsnbextension.json\\n    \\t/usr/local/etc/jupyter/nbconfig/notebook.json\\nPaths used for configuration of notebook: \\n    \\t/usr/local/etc/jupyter/nbconfig/notebook.d/plotlywidget.json\\n    \\t/usr/local/etc/jupyter/nbconfig/notebook.d/widgetsnbextension.json\\n      - Validating: \\x1b[32mOK\\x1b[0m\\nPaths used for configuration of notebook: \\n    \\t/usr/local/etc/jupyter/nbconfig/notebook.d/plotlywidget.json\\n    \\t/usr/local/etc/jupyter/nbconfig/notebook.d/widgetsnbextension.json\\n    \\t/usr/local/etc/jupyter/nbconfig/notebook.json\\n'\n",
            "\b\b/ \b\b- \b\b\\ \b\b| \b\b/ \b\b- \b\b\\ \b\b| \b\b/ \b\b- \b\b\\ \b\b| \b\b/ \b\b- \b\b\\ \b\b| \b\b/ \b\b- \b\b\\ \b\b| \b\b/ \b\b- \b\b\\ \b\b| \b\b/ \b\b- \b\b\\ \b\b| \b\b/ \b\b- \b\b\\ \b\b| \b\b/ \b\b- \b\b\\ \b\b| \b\b/ \b\b- \b\b\\ \b\b| \b\b/ \b\b- \b\b\\ \b\b| \b\b/ \b\b- \b\b\\ \b\b| \b\b/ \b\b- \b\b\\ \b\b| \b\b/ \b\b- \b\b\\ \b\bdone\n"
          ],
          "name": "stdout"
        }
      ]
    },
    {
      "cell_type": "code",
      "metadata": {
        "id": "vjmWGAsPIX0k",
        "colab_type": "code",
        "outputId": "6b1a9066-a4cf-43df-ee46-2f4a4db6519d",
        "colab": {
          "base_uri": "https://localhost:8080/",
          "height": 231
        }
      },
      "source": [
        "import tensorflow as tf\n",
        "print(\"tf.__version__: %s\" % str(tf.__version__))\n",
        "device_name = tf.test.gpu_device_name()\n",
        "if not device_name:\n",
        "  raise SystemError('GPU device not found')\n",
        "print('Found GPU at: {}'.format(device_name))"
      ],
      "execution_count": 2,
      "outputs": [
        {
          "output_type": "stream",
          "text": [
            "tf.__version__: 2.2.0\n"
          ],
          "name": "stdout"
        },
        {
          "output_type": "error",
          "ename": "SystemError",
          "evalue": "ignored",
          "traceback": [
            "\u001b[0;31m---------------------------------------------------------------------------\u001b[0m",
            "\u001b[0;31mSystemError\u001b[0m                               Traceback (most recent call last)",
            "\u001b[0;32m<ipython-input-2-7c1227d29e25>\u001b[0m in \u001b[0;36m<module>\u001b[0;34m()\u001b[0m\n\u001b[1;32m      3\u001b[0m \u001b[0mdevice_name\u001b[0m \u001b[0;34m=\u001b[0m \u001b[0mtf\u001b[0m\u001b[0;34m.\u001b[0m\u001b[0mtest\u001b[0m\u001b[0;34m.\u001b[0m\u001b[0mgpu_device_name\u001b[0m\u001b[0;34m(\u001b[0m\u001b[0;34m)\u001b[0m\u001b[0;34m\u001b[0m\u001b[0;34m\u001b[0m\u001b[0m\n\u001b[1;32m      4\u001b[0m \u001b[0;32mif\u001b[0m \u001b[0;32mnot\u001b[0m \u001b[0mdevice_name\u001b[0m\u001b[0;34m:\u001b[0m\u001b[0;34m\u001b[0m\u001b[0;34m\u001b[0m\u001b[0m\n\u001b[0;32m----> 5\u001b[0;31m   \u001b[0;32mraise\u001b[0m \u001b[0mSystemError\u001b[0m\u001b[0;34m(\u001b[0m\u001b[0;34m'GPU device not found'\u001b[0m\u001b[0;34m)\u001b[0m\u001b[0;34m\u001b[0m\u001b[0;34m\u001b[0m\u001b[0m\n\u001b[0m\u001b[1;32m      6\u001b[0m \u001b[0mprint\u001b[0m\u001b[0;34m(\u001b[0m\u001b[0;34m'Found GPU at: {}'\u001b[0m\u001b[0;34m.\u001b[0m\u001b[0mformat\u001b[0m\u001b[0;34m(\u001b[0m\u001b[0mdevice_name\u001b[0m\u001b[0;34m)\u001b[0m\u001b[0;34m)\u001b[0m\u001b[0;34m\u001b[0m\u001b[0;34m\u001b[0m\u001b[0m\n",
            "\u001b[0;31mSystemError\u001b[0m: GPU device not found"
          ]
        }
      ]
    },
    {
      "cell_type": "code",
      "metadata": {
        "id": "S49EDLC9IeR9",
        "colab_type": "code",
        "outputId": "6521464e-da65-4983-c33b-a2ace1f45467",
        "colab": {
          "base_uri": "https://localhost:8080/",
          "height": 136
        }
      },
      "source": [
        "!git clone https://github.com/deepchem/deepchem.git"
      ],
      "execution_count": 3,
      "outputs": [
        {
          "output_type": "stream",
          "text": [
            "Cloning into 'deepchem'...\n",
            "remote: Enumerating objects: 44, done.\u001b[K\n",
            "remote: Counting objects: 100% (44/44), done.\u001b[K\n",
            "remote: Compressing objects: 100% (35/35), done.\u001b[K\n",
            "remote: Total 31864 (delta 11), reused 20 (delta 8), pack-reused 31820\u001b[K\n",
            "Receiving objects: 100% (31864/31864), 439.02 MiB | 35.35 MiB/s, done.\n",
            "Resolving deltas: 100% (23470/23470), done.\n"
          ],
          "name": "stdout"
        }
      ]
    },
    {
      "cell_type": "code",
      "metadata": {
        "id": "eVANNwVGIsCD",
        "colab_type": "code",
        "outputId": "4d399f8a-efcd-4989-9849-e43b3725e965",
        "colab": {
          "base_uri": "https://localhost:8080/",
          "height": 34
        }
      },
      "source": [
        "%cd deepchem/"
      ],
      "execution_count": 4,
      "outputs": [
        {
          "output_type": "stream",
          "text": [
            "/content/deepchem\n"
          ],
          "name": "stdout"
        }
      ]
    },
    {
      "cell_type": "code",
      "metadata": {
        "id": "r1W63OsPIwQQ",
        "colab_type": "code",
        "outputId": "11df40fd-4a42-4df5-8ab9-4c73de343ba0",
        "colab": {
          "base_uri": "https://localhost:8080/",
          "height": 1000
        }
      },
      "source": [
        "!python setup.py install"
      ],
      "execution_count": 5,
      "outputs": [
        {
          "output_type": "stream",
          "text": [
            "\u001b[?25l\r\u001b[K     |███                             | 10 kB 23.1 MB/s eta 0:00:01\r\u001b[K     |██████                          | 20 kB 2.2 MB/s eta 0:00:01\r\u001b[K     |█████████                       | 30 kB 2.9 MB/s eta 0:00:01\r\u001b[K     |████████████                    | 40 kB 3.1 MB/s eta 0:00:01\r\u001b[K     |██████████████▉                 | 51 kB 2.6 MB/s eta 0:00:01\r\u001b[K     |█████████████████▉              | 61 kB 2.8 MB/s eta 0:00:01\r\u001b[K     |████████████████████▉           | 71 kB 3.1 MB/s eta 0:00:01\r\u001b[K     |███████████████████████▉        | 81 kB 3.3 MB/s eta 0:00:01\r\u001b[K     |██████████████████████████▊     | 92 kB 3.6 MB/s eta 0:00:01\r\u001b[K     |█████████████████████████████▊  | 102 kB 3.5 MB/s eta 0:00:01\r\u001b[K     |████████████████████████████████| 110 kB 3.5 MB/s \n",
            "\u001b[?25hrunning install\n",
            "[pbr] Writing ChangeLog\n",
            "[pbr] Generating ChangeLog\n",
            "[pbr] ChangeLog complete (0.1s)\n",
            "[pbr] Generating AUTHORS\n",
            "[pbr] AUTHORS complete (0.2s)\n",
            "running build\n",
            "running build_py\n",
            "creating build\n",
            "creating build/lib\n",
            "creating build/lib/deepchem\n",
            "creating build/lib/deepchem/metrics\n",
            "copying deepchem/metrics/genomic_metrics.py -> build/lib/deepchem/metrics\n",
            "copying deepchem/metrics/__init__.py -> build/lib/deepchem/metrics\n",
            "creating build/lib/deepchem/models\n",
            "copying deepchem/models/chemnet_layers.py -> build/lib/deepchem/models\n",
            "copying deepchem/models/models.py -> build/lib/deepchem/models\n",
            "copying deepchem/models/layers.py -> build/lib/deepchem/models\n",
            "copying deepchem/models/graph_models.py -> build/lib/deepchem/models\n",
            "copying deepchem/models/robust_multitask.py -> build/lib/deepchem/models\n",
            "copying deepchem/models/text_cnn.py -> build/lib/deepchem/models\n",
            "copying deepchem/models/optimizers.py -> build/lib/deepchem/models\n",
            "copying deepchem/models/atomic_conv.py -> build/lib/deepchem/models\n",
            "copying deepchem/models/cnn.py -> build/lib/deepchem/models\n",
            "copying deepchem/models/gan.py -> build/lib/deepchem/models\n",
            "copying deepchem/models/__init__.py -> build/lib/deepchem/models\n",
            "copying deepchem/models/keras_model.py -> build/lib/deepchem/models\n",
            "copying deepchem/models/losses.py -> build/lib/deepchem/models\n",
            "copying deepchem/models/multitask.py -> build/lib/deepchem/models\n",
            "copying deepchem/models/scscore.py -> build/lib/deepchem/models\n",
            "copying deepchem/models/chemnet_models.py -> build/lib/deepchem/models\n",
            "copying deepchem/models/fcnet.py -> build/lib/deepchem/models\n",
            "copying deepchem/models/progressive_multitask.py -> build/lib/deepchem/models\n",
            "copying deepchem/models/IRV.py -> build/lib/deepchem/models\n",
            "copying deepchem/models/callbacks.py -> build/lib/deepchem/models\n",
            "copying deepchem/models/seqtoseq.py -> build/lib/deepchem/models\n",
            "creating build/lib/deepchem/utils\n",
            "copying deepchem/utils/mol_xyz_util.py -> build/lib/deepchem/utils\n",
            "copying deepchem/utils/genomics.py -> build/lib/deepchem/utils\n",
            "copying deepchem/utils/geometry_utils.py -> build/lib/deepchem/utils\n",
            "copying deepchem/utils/voxel_utils.py -> build/lib/deepchem/utils\n",
            "copying deepchem/utils/evaluate.py -> build/lib/deepchem/utils\n",
            "copying deepchem/utils/hash_utils.py -> build/lib/deepchem/utils\n",
            "copying deepchem/utils/coordinate_box_utils.py -> build/lib/deepchem/utils\n",
            "copying deepchem/utils/rdkit_util.py -> build/lib/deepchem/utils\n",
            "copying deepchem/utils/__init__.py -> build/lib/deepchem/utils\n",
            "copying deepchem/utils/conformers.py -> build/lib/deepchem/utils\n",
            "copying deepchem/utils/save.py -> build/lib/deepchem/utils\n",
            "creating build/lib/deepchem/rl\n",
            "creating build/lib/deepchem/rl/envs\n",
            "copying deepchem/rl/envs/test_tictactoe.py -> build/lib/deepchem/rl/envs\n",
            "copying deepchem/rl/envs/__init__.py -> build/lib/deepchem/rl/envs\n",
            "copying deepchem/rl/envs/tictactoe.py -> build/lib/deepchem/rl/envs\n",
            "creating build/lib/deepchem/molnet\n",
            "creating build/lib/deepchem/molnet/load_function\n",
            "copying deepchem/molnet/load_function/muv_datasets.py -> build/lib/deepchem/molnet/load_function\n",
            "copying deepchem/molnet/load_function/clearance_datasets.py -> build/lib/deepchem/molnet/load_function\n",
            "copying deepchem/molnet/load_function/chembl25_datasets.py -> build/lib/deepchem/molnet/load_function\n",
            "copying deepchem/molnet/load_function/factors_datasets.py -> build/lib/deepchem/molnet/load_function\n",
            "copying deepchem/molnet/load_function/bbbc_datasets.py -> build/lib/deepchem/molnet/load_function\n",
            "copying deepchem/molnet/load_function/delaney_datasets.py -> build/lib/deepchem/molnet/load_function\n",
            "copying deepchem/molnet/load_function/sweetlead_datasets.py -> build/lib/deepchem/molnet/load_function\n",
            "copying deepchem/molnet/load_function/hppb_datasets.py -> build/lib/deepchem/molnet/load_function\n",
            "copying deepchem/molnet/load_function/cell_counting_datasets.py -> build/lib/deepchem/molnet/load_function\n",
            "copying deepchem/molnet/load_function/pcba_datasets.py -> build/lib/deepchem/molnet/load_function\n",
            "copying deepchem/molnet/load_function/qm7_datasets.py -> build/lib/deepchem/molnet/load_function\n",
            "copying deepchem/molnet/load_function/pdbbind_datasets.py -> build/lib/deepchem/molnet/load_function\n",
            "copying deepchem/molnet/load_function/chembl_datasets.py -> build/lib/deepchem/molnet/load_function\n",
            "copying deepchem/molnet/load_function/ppb_datasets.py -> build/lib/deepchem/molnet/load_function\n",
            "copying deepchem/molnet/load_function/uspto_datasets.py -> build/lib/deepchem/molnet/load_function\n",
            "copying deepchem/molnet/load_function/kaggle_features.py -> build/lib/deepchem/molnet/load_function\n",
            "copying deepchem/molnet/load_function/bace_datasets.py -> build/lib/deepchem/molnet/load_function\n",
            "copying deepchem/molnet/load_function/hopv_datasets.py -> build/lib/deepchem/molnet/load_function\n",
            "copying deepchem/molnet/load_function/nci_datasets.py -> build/lib/deepchem/molnet/load_function\n",
            "copying deepchem/molnet/load_function/lipo_datasets.py -> build/lib/deepchem/molnet/load_function\n",
            "copying deepchem/molnet/load_function/bbbp_datasets.py -> build/lib/deepchem/molnet/load_function\n",
            "copying deepchem/molnet/load_function/__init__.py -> build/lib/deepchem/molnet/load_function\n",
            "copying deepchem/molnet/load_function/bace_features.py -> build/lib/deepchem/molnet/load_function\n",
            "copying deepchem/molnet/load_function/chembl_tasks.py -> build/lib/deepchem/molnet/load_function\n",
            "copying deepchem/molnet/load_function/qm9_datasets.py -> build/lib/deepchem/molnet/load_function\n",
            "copying deepchem/molnet/load_function/kinase_datasets.py -> build/lib/deepchem/molnet/load_function\n",
            "copying deepchem/molnet/load_function/sampl_datasets.py -> build/lib/deepchem/molnet/load_function\n",
            "copying deepchem/molnet/load_function/qm8_datasets.py -> build/lib/deepchem/molnet/load_function\n",
            "copying deepchem/molnet/load_function/sider_datasets.py -> build/lib/deepchem/molnet/load_function\n",
            "copying deepchem/molnet/load_function/uv_datasets.py -> build/lib/deepchem/molnet/load_function\n",
            "copying deepchem/molnet/load_function/uv_tasks.py -> build/lib/deepchem/molnet/load_function\n",
            "copying deepchem/molnet/load_function/clintox_datasets.py -> build/lib/deepchem/molnet/load_function\n",
            "copying deepchem/molnet/load_function/hiv_datasets.py -> build/lib/deepchem/molnet/load_function\n",
            "copying deepchem/molnet/load_function/toxcast_datasets.py -> build/lib/deepchem/molnet/load_function\n",
            "copying deepchem/molnet/load_function/kaggle_datasets.py -> build/lib/deepchem/molnet/load_function\n",
            "copying deepchem/molnet/load_function/thermosol_datasets.py -> build/lib/deepchem/molnet/load_function\n",
            "copying deepchem/molnet/load_function/tox21_datasets.py -> build/lib/deepchem/molnet/load_function\n",
            "creating build/lib/deepchem/dock\n",
            "creating build/lib/deepchem/dock/tests\n",
            "copying deepchem/dock/tests/test_pose_generation.py -> build/lib/deepchem/dock/tests\n",
            "copying deepchem/dock/tests/test_pose_scoring.py -> build/lib/deepchem/dock/tests\n",
            "copying deepchem/dock/tests/__init__.py -> build/lib/deepchem/dock/tests\n",
            "copying deepchem/dock/tests/test_binding_pocket.py -> build/lib/deepchem/dock/tests\n",
            "copying deepchem/dock/tests/test_docking.py -> build/lib/deepchem/dock/tests\n",
            "copying deepchem/rl/ppo.py -> build/lib/deepchem/rl\n",
            "copying deepchem/rl/__init__.py -> build/lib/deepchem/rl\n",
            "copying deepchem/rl/a2c.py -> build/lib/deepchem/rl\n",
            "creating build/lib/deepchem/molnet/tests\n",
            "copying deepchem/molnet/tests/test_molnet.py -> build/lib/deepchem/molnet/tests\n",
            "copying deepchem/molnet/tests/test_dnasim.py -> build/lib/deepchem/molnet/tests\n",
            "copying deepchem/molnet/tests/__init__.py -> build/lib/deepchem/molnet/tests\n",
            "creating build/lib/deepchem/splits\n",
            "copying deepchem/splits/test_specified_index_splitter.py -> build/lib/deepchem/splits\n",
            "copying deepchem/splits/__init__.py -> build/lib/deepchem/splits\n",
            "copying deepchem/splits/test_scaffold_splitter.py -> build/lib/deepchem/splits\n",
            "copying deepchem/splits/splitters.py -> build/lib/deepchem/splits\n",
            "copying deepchem/splits/task_splitter.py -> build/lib/deepchem/splits\n",
            "creating build/lib/deepchem/feat\n",
            "creating build/lib/deepchem/feat/tests\n",
            "copying deepchem/feat/tests/test_rdkit_grid_features.py -> build/lib/deepchem/feat/tests\n",
            "copying deepchem/feat/tests/test_one_hot.py -> build/lib/deepchem/feat/tests\n",
            "copying deepchem/feat/tests/test_mol_graphs.py -> build/lib/deepchem/feat/tests\n",
            "copying deepchem/feat/tests/test_smiles_featurizers.py -> build/lib/deepchem/feat/tests\n",
            "copying deepchem/feat/tests/test_basic.py -> build/lib/deepchem/feat/tests\n",
            "copying deepchem/feat/tests/__init__.py -> build/lib/deepchem/feat/tests\n",
            "copying deepchem/feat/tests/test_atomic_coordinates.py -> build/lib/deepchem/feat/tests\n",
            "copying deepchem/feat/tests/test_binding_pocket_features.py -> build/lib/deepchem/feat/tests\n",
            "copying deepchem/feat/tests/test_convmol.py -> build/lib/deepchem/feat/tests\n",
            "copying deepchem/feat/tests/test_fingerprints.py -> build/lib/deepchem/feat/tests\n",
            "copying deepchem/feat/tests/test_sdf_reader.py -> build/lib/deepchem/feat/tests\n",
            "copying deepchem/feat/tests/test_features.py -> build/lib/deepchem/feat/tests\n",
            "copying deepchem/feat/tests/test_graph_features.py -> build/lib/deepchem/feat/tests\n",
            "copying deepchem/feat/tests/test_coulomb_matrices.py -> build/lib/deepchem/feat/tests\n",
            "creating build/lib/deepchem/metrics/tests\n",
            "copying deepchem/metrics/tests/test_genomics.py -> build/lib/deepchem/metrics/tests\n",
            "copying deepchem/metrics/tests/__init__.py -> build/lib/deepchem/metrics/tests\n",
            "copying deepchem/metrics/tests/metrics_test.py -> build/lib/deepchem/metrics/tests\n",
            "creating build/lib/deepchem/models/tests\n",
            "copying deepchem/models/tests/test_generalize.py -> build/lib/deepchem/models/tests\n",
            "copying deepchem/models/tests/test_layers.py -> build/lib/deepchem/models/tests\n",
            "copying deepchem/models/tests/test_scscore.py -> build/lib/deepchem/models/tests\n",
            "copying deepchem/models/tests/test_predict.py -> build/lib/deepchem/models/tests\n",
            "copying deepchem/models/tests/test_multitask.py -> build/lib/deepchem/models/tests\n",
            "copying deepchem/models/tests/test_api.py -> build/lib/deepchem/models/tests\n",
            "copying deepchem/models/tests/test_singletask_to_multitask.py -> build/lib/deepchem/models/tests\n",
            "copying deepchem/models/tests/test_chemnet_models.py -> build/lib/deepchem/models/tests\n",
            "copying deepchem/models/tests/test_graph_models.py -> build/lib/deepchem/models/tests\n",
            "copying deepchem/models/tests/test_cnn.py -> build/lib/deepchem/models/tests\n",
            "copying deepchem/models/tests/test_overfit.py -> build/lib/deepchem/models/tests\n",
            "copying deepchem/models/tests/test_reload.py -> build/lib/deepchem/models/tests\n",
            "copying deepchem/models/tests/test_kerasmodel.py -> build/lib/deepchem/models/tests\n",
            "copying deepchem/models/tests/__init__.py -> build/lib/deepchem/models/tests\n",
            "copying deepchem/models/tests/test_callbacks.py -> build/lib/deepchem/models/tests\n",
            "copying deepchem/models/tests/test_pretrained.py -> build/lib/deepchem/models/tests\n",
            "copying deepchem/models/tests/test_textcnnmodel.py -> build/lib/deepchem/models/tests\n",
            "copying deepchem/models/tests/test_atomic_conv.py -> build/lib/deepchem/models/tests\n",
            "copying deepchem/models/tests/test_seqtoseq.py -> build/lib/deepchem/models/tests\n",
            "copying deepchem/models/tests/test_layers_from_config.py -> build/lib/deepchem/models/tests\n",
            "copying deepchem/models/tests/test_optimizers.py -> build/lib/deepchem/models/tests\n",
            "copying deepchem/models/tests/test_gan.py -> build/lib/deepchem/models/tests\n",
            "creating build/lib/deepchem/hyper\n",
            "creating build/lib/deepchem/hyper/tests\n",
            "copying deepchem/hyper/tests/test_hyperparam_opt.py -> build/lib/deepchem/hyper/tests\n",
            "copying deepchem/hyper/tests/__init__.py -> build/lib/deepchem/hyper/tests\n",
            "copying deepchem/feat/smiles_featurizers.py -> build/lib/deepchem/feat\n",
            "copying deepchem/feat/adjacency_fingerprints.py -> build/lib/deepchem/feat\n",
            "copying deepchem/feat/binding_pocket_features.py -> build/lib/deepchem/feat\n",
            "copying deepchem/feat/base_classes.py -> build/lib/deepchem/feat\n",
            "copying deepchem/feat/coulomb_matrices.py -> build/lib/deepchem/feat\n",
            "copying deepchem/feat/mol_graphs.py -> build/lib/deepchem/feat\n",
            "copying deepchem/feat/__init__.py -> build/lib/deepchem/feat\n",
            "copying deepchem/feat/fingerprints.py -> build/lib/deepchem/feat\n",
            "copying deepchem/feat/one_hot.py -> build/lib/deepchem/feat\n",
            "copying deepchem/feat/raw_featurizer.py -> build/lib/deepchem/feat\n",
            "copying deepchem/feat/graph_features.py -> build/lib/deepchem/feat\n",
            "copying deepchem/feat/basic.py -> build/lib/deepchem/feat\n",
            "copying deepchem/feat/atomic_coordinates.py -> build/lib/deepchem/feat\n",
            "copying deepchem/feat/rdkit_grid_featurizer.py -> build/lib/deepchem/feat\n",
            "copying deepchem/dock/pose_scoring.py -> build/lib/deepchem/dock\n",
            "copying deepchem/dock/docking.py -> build/lib/deepchem/dock\n",
            "copying deepchem/dock/pose_generation.py -> build/lib/deepchem/dock\n",
            "copying deepchem/dock/binding_pocket.py -> build/lib/deepchem/dock\n",
            "copying deepchem/dock/__init__.py -> build/lib/deepchem/dock\n",
            "creating build/lib/deepchem/data\n",
            "copying deepchem/data/supports.py -> build/lib/deepchem/data\n",
            "copying deepchem/data/__init__.py -> build/lib/deepchem/data\n",
            "copying deepchem/data/datasets.py -> build/lib/deepchem/data\n",
            "copying deepchem/data/data_loader.py -> build/lib/deepchem/data\n",
            "copying deepchem/molnet/check_availability.py -> build/lib/deepchem/molnet\n",
            "copying deepchem/molnet/run_benchmark.py -> build/lib/deepchem/molnet\n",
            "copying deepchem/molnet/run_benchmark_models.py -> build/lib/deepchem/molnet\n",
            "copying deepchem/molnet/__init__.py -> build/lib/deepchem/molnet\n",
            "copying deepchem/molnet/run_benchmark_low_data.py -> build/lib/deepchem/molnet\n",
            "copying deepchem/molnet/dnasim.py -> build/lib/deepchem/molnet\n",
            "copying deepchem/molnet/preset_hyper_parameters.py -> build/lib/deepchem/molnet\n",
            "creating build/lib/deepchem/data/tests\n",
            "copying deepchem/data/tests/test_image_dataset.py -> build/lib/deepchem/data/tests\n",
            "copying deepchem/data/tests/test_load.py -> build/lib/deepchem/data/tests\n",
            "copying deepchem/data/tests/test_drop.py -> build/lib/deepchem/data/tests\n",
            "copying deepchem/data/tests/test_reload.py -> build/lib/deepchem/data/tests\n",
            "copying deepchem/data/tests/__init__.py -> build/lib/deepchem/data/tests\n",
            "copying deepchem/data/tests/test_merge.py -> build/lib/deepchem/data/tests\n",
            "copying deepchem/data/tests/test_fasta_loader.py -> build/lib/deepchem/data/tests\n",
            "copying deepchem/data/tests/test_csv_loader.py -> build/lib/deepchem/data/tests\n",
            "copying deepchem/data/tests/test_support_generator.py -> build/lib/deepchem/data/tests\n",
            "copying deepchem/data/tests/test_datasets.py -> build/lib/deepchem/data/tests\n",
            "copying deepchem/data/tests/test_shuffle.py -> build/lib/deepchem/data/tests\n",
            "copying deepchem/data/tests/test_data_loader.py -> build/lib/deepchem/data/tests\n",
            "copying deepchem/data/tests/test_image_loader.py -> build/lib/deepchem/data/tests\n",
            "creating build/lib/deepchem/metalearning\n",
            "copying deepchem/metalearning/__init__.py -> build/lib/deepchem/metalearning\n",
            "copying deepchem/metalearning/maml.py -> build/lib/deepchem/metalearning\n",
            "creating build/lib/deepchem/models/sklearn_models\n",
            "copying deepchem/models/sklearn_models/__init__.py -> build/lib/deepchem/models/sklearn_models\n",
            "creating build/lib/deepchem/utils/test\n",
            "copying deepchem/utils/test/test_hash_utils.py -> build/lib/deepchem/utils/test\n",
            "copying deepchem/utils/test/test_generator_evaluator.py -> build/lib/deepchem/utils/test\n",
            "copying deepchem/utils/test/test_rdkit_util.py -> build/lib/deepchem/utils/test\n",
            "copying deepchem/utils/test/test_coordinate_box_utils.py -> build/lib/deepchem/utils/test\n",
            "copying deepchem/utils/test/test_geometry_utils.py -> build/lib/deepchem/utils/test\n",
            "copying deepchem/utils/test/__init__.py -> build/lib/deepchem/utils/test\n",
            "copying deepchem/utils/test/test_seq.py -> build/lib/deepchem/utils/test\n",
            "copying deepchem/utils/test/test_voxel_utils.py -> build/lib/deepchem/utils/test\n",
            "creating build/lib/deepchem/trans\n",
            "creating build/lib/deepchem/trans/tests\n",
            "copying deepchem/trans/tests/__init__.py -> build/lib/deepchem/trans/tests\n",
            "copying deepchem/trans/tests/test_transformers.py -> build/lib/deepchem/trans/tests\n",
            "creating build/lib/deepchem/models/xgboost_models\n",
            "copying deepchem/models/xgboost_models/__init__.py -> build/lib/deepchem/models/xgboost_models\n",
            "copying deepchem/__init__.py -> build/lib/deepchem\n",
            "copying deepchem/trans/__init__.py -> build/lib/deepchem/trans\n",
            "copying deepchem/trans/transformers.py -> build/lib/deepchem/trans\n",
            "copying deepchem/hyper/grid_search.py -> build/lib/deepchem/hyper\n",
            "copying deepchem/hyper/gaussian_process.py -> build/lib/deepchem/hyper\n",
            "copying deepchem/hyper/__init__.py -> build/lib/deepchem/hyper\n",
            "creating build/lib/deepchem/splits/tests\n",
            "copying deepchem/splits/tests/test_splitter.py -> build/lib/deepchem/splits/tests\n",
            "copying deepchem/splits/tests/__init__.py -> build/lib/deepchem/splits/tests\n",
            "copying deepchem/splits/tests/test_task_splitter.py -> build/lib/deepchem/splits/tests\n",
            "running egg_info\n",
            "creating deepchem.egg-info\n",
            "writing pbr to deepchem.egg-info/pbr.json\n",
            "writing deepchem.egg-info/PKG-INFO\n",
            "writing dependency_links to deepchem.egg-info/dependency_links.txt\n",
            "writing top-level names to deepchem.egg-info/top_level.txt\n",
            "[pbr] Processing SOURCES.txt\n",
            "writing manifest file 'deepchem.egg-info/SOURCES.txt'\n",
            "[pbr] In git context, generating filelist from git\n",
            "warning: no previously-included files found matching '.gitreview'\n",
            "warning: no previously-included files matching '*.pyc' found anywhere in distribution\n",
            "reading manifest template 'MANIFEST.in'\n",
            "writing manifest file 'deepchem.egg-info/SOURCES.txt'\n",
            "copying deepchem/dock/tests/1jld_ligand.sdf -> build/lib/deepchem/dock/tests\n",
            "copying deepchem/dock/tests/1jld_protein.pdb -> build/lib/deepchem/dock/tests\n",
            "creating build/lib/deepchem/rl/tests\n",
            "copying deepchem/rl/tests/test_a2c.py -> build/lib/deepchem/rl/tests\n",
            "copying deepchem/rl/tests/test_ppo.py -> build/lib/deepchem/rl/tests\n",
            "copying deepchem/feat/tests/3ws9_ligand.sdf -> build/lib/deepchem/feat/tests\n",
            "copying deepchem/feat/tests/3ws9_protein_fixer_rdkit.pdb -> build/lib/deepchem/feat/tests\n",
            "creating build/lib/deepchem/feat/tests/data\n",
            "copying deepchem/feat/tests/data/3bwf_ligand_hyd.pdb -> build/lib/deepchem/feat/tests/data\n",
            "copying deepchem/feat/tests/data/3bwf_ligand_hyd.pdbqt -> build/lib/deepchem/feat/tests/data\n",
            "copying deepchem/feat/tests/data/3bwf_protein_hyd.pdb -> build/lib/deepchem/feat/tests/data\n",
            "copying deepchem/feat/tests/data/3bwf_protein_hyd.pdbqt -> build/lib/deepchem/feat/tests/data\n",
            "copying deepchem/feat/tests/data/3zp9_ligand_hyd.pdb -> build/lib/deepchem/feat/tests/data\n",
            "copying deepchem/feat/tests/data/3zp9_ligand_hyd.pdbqt -> build/lib/deepchem/feat/tests/data\n",
            "copying deepchem/feat/tests/data/3zp9_protein_hyd.pdb -> build/lib/deepchem/feat/tests/data\n",
            "copying deepchem/feat/tests/data/3zp9_protein_hyd.pdbqt -> build/lib/deepchem/feat/tests/data\n",
            "copying deepchem/feat/tests/data/3zso_ligand_hyd.pdb -> build/lib/deepchem/feat/tests/data\n",
            "copying deepchem/feat/tests/data/3zso_protein.pdb -> build/lib/deepchem/feat/tests/data\n",
            "copying deepchem/feat/tests/data/chembl_25_small.csv -> build/lib/deepchem/feat/tests/data\n",
            "copying deepchem/feat/tests/data/water.sdf -> build/lib/deepchem/feat/tests/data\n",
            "copying deepchem/feat/tests/data/water.sdf.csv -> build/lib/deepchem/feat/tests/data\n",
            "copying deepchem/models/tests/butina_example.csv -> build/lib/deepchem/models/tests\n",
            "copying deepchem/models/tests/chembl_25_small.csv -> build/lib/deepchem/models/tests\n",
            "copying deepchem/models/tests/example.csv -> build/lib/deepchem/models/tests\n",
            "copying deepchem/models/tests/example_DTNN.mat -> build/lib/deepchem/models/tests\n",
            "copying deepchem/models/tests/example_classification.csv -> build/lib/deepchem/models/tests\n",
            "copying deepchem/models/tests/example_regression.csv -> build/lib/deepchem/models/tests\n",
            "copying deepchem/models/tests/feat_multitask_example.csv -> build/lib/deepchem/models/tests\n",
            "copying deepchem/models/tests/gaussian_cdf_example.csv -> build/lib/deepchem/models/tests\n",
            "copying deepchem/models/tests/gbd3k.pkl.gz -> build/lib/deepchem/models/tests\n",
            "copying deepchem/models/tests/multitask_example.csv -> build/lib/deepchem/models/tests\n",
            "copying deepchem/models/tests/nnscore_example.pkl.gz -> build/lib/deepchem/models/tests\n",
            "copying deepchem/models/tests/sparse_multitask_example.csv -> build/lib/deepchem/models/tests\n",
            "copying deepchem/models/tests/user_specified_example.csv -> build/lib/deepchem/models/tests\n",
            "copying deepchem/data/tests/a_image.tif -> build/lib/deepchem/data/tests\n",
            "copying deepchem/data/tests/example.fasta -> build/lib/deepchem/data/tests\n",
            "copying deepchem/data/tests/mini_emols.csv -> build/lib/deepchem/data/tests\n",
            "copying deepchem/data/tests/no_labels.csv -> build/lib/deepchem/data/tests\n",
            "creating build/lib/deepchem/data/tests/images\n",
            "copying deepchem/data/tests/images/000003-num0.png -> build/lib/deepchem/data/tests/images\n",
            "copying deepchem/data/tests/images/000004-num4.png -> build/lib/deepchem/data/tests/images\n",
            "copying deepchem/data/tests/images/000005-num1.png -> build/lib/deepchem/data/tests/images\n",
            "copying deepchem/data/tests/images/000006-num4.png -> build/lib/deepchem/data/tests/images\n",
            "copying deepchem/data/tests/images/000007-num9.png -> build/lib/deepchem/data/tests/images\n",
            "copying deepchem/data/tests/images/000008-num5.png -> build/lib/deepchem/data/tests/images\n",
            "copying deepchem/data/tests/images/000009-num9.png -> build/lib/deepchem/data/tests/images\n",
            "copying deepchem/data/tests/images/000010-num0.png -> build/lib/deepchem/data/tests/images\n",
            "copying deepchem/data/tests/images/000011-num6.png -> build/lib/deepchem/data/tests/images\n",
            "copying deepchem/data/tests/images/000012-num9.png -> build/lib/deepchem/data/tests/images\n",
            "creating build/lib/deepchem/metalearning/tests\n",
            "copying deepchem/metalearning/tests/test_maml.py -> build/lib/deepchem/metalearning/tests\n",
            "creating build/lib/deepchem/utils/test/data\n",
            "copying deepchem/utils/test/data/example.fasta -> build/lib/deepchem/utils/test/data\n",
            "copying deepchem/utils/test/data/example.fastq -> build/lib/deepchem/utils/test/data\n",
            "copying deepchem/.gitignore -> build/lib/deepchem\n",
            "creating build/lib/deepchem/tests\n",
            "copying deepchem/tests/test_init.py -> build/lib/deepchem/tests\n",
            "running install_lib\n",
            "copying build/lib/deepchem/hyper/tests/test_hyperparam_opt.py -> /usr/local/lib/python3.7/site-packages/deepchem/hyper/tests\n",
            "copying build/lib/deepchem/hyper/tests/__init__.py -> /usr/local/lib/python3.7/site-packages/deepchem/hyper/tests\n",
            "copying build/lib/deepchem/hyper/grid_search.py -> /usr/local/lib/python3.7/site-packages/deepchem/hyper\n",
            "copying build/lib/deepchem/hyper/gaussian_process.py -> /usr/local/lib/python3.7/site-packages/deepchem/hyper\n",
            "copying build/lib/deepchem/hyper/__init__.py -> /usr/local/lib/python3.7/site-packages/deepchem/hyper\n",
            "copying build/lib/deepchem/tests/test_init.py -> /usr/local/lib/python3.7/site-packages/deepchem/tests\n",
            "copying build/lib/deepchem/feat/smiles_featurizers.py -> /usr/local/lib/python3.7/site-packages/deepchem/feat\n",
            "copying build/lib/deepchem/feat/adjacency_fingerprints.py -> /usr/local/lib/python3.7/site-packages/deepchem/feat\n",
            "copying build/lib/deepchem/feat/tests/test_rdkit_grid_features.py -> /usr/local/lib/python3.7/site-packages/deepchem/feat/tests\n",
            "copying build/lib/deepchem/feat/tests/test_one_hot.py -> /usr/local/lib/python3.7/site-packages/deepchem/feat/tests\n",
            "copying build/lib/deepchem/feat/tests/test_mol_graphs.py -> /usr/local/lib/python3.7/site-packages/deepchem/feat/tests\n",
            "copying build/lib/deepchem/feat/tests/test_smiles_featurizers.py -> /usr/local/lib/python3.7/site-packages/deepchem/feat/tests\n",
            "copying build/lib/deepchem/feat/tests/test_basic.py -> /usr/local/lib/python3.7/site-packages/deepchem/feat/tests\n",
            "copying build/lib/deepchem/feat/tests/__init__.py -> /usr/local/lib/python3.7/site-packages/deepchem/feat/tests\n",
            "copying build/lib/deepchem/feat/tests/test_atomic_coordinates.py -> /usr/local/lib/python3.7/site-packages/deepchem/feat/tests\n",
            "copying build/lib/deepchem/feat/tests/test_binding_pocket_features.py -> /usr/local/lib/python3.7/site-packages/deepchem/feat/tests\n",
            "copying build/lib/deepchem/feat/tests/3ws9_ligand.sdf -> /usr/local/lib/python3.7/site-packages/deepchem/feat/tests\n",
            "copying build/lib/deepchem/feat/tests/test_convmol.py -> /usr/local/lib/python3.7/site-packages/deepchem/feat/tests\n",
            "copying build/lib/deepchem/feat/tests/data/3zso_ligand_hyd.pdb -> /usr/local/lib/python3.7/site-packages/deepchem/feat/tests/data\n",
            "copying build/lib/deepchem/feat/tests/data/3bwf_ligand_hyd.pdb -> /usr/local/lib/python3.7/site-packages/deepchem/feat/tests/data\n",
            "copying build/lib/deepchem/feat/tests/data/3bwf_protein_hyd.pdb -> /usr/local/lib/python3.7/site-packages/deepchem/feat/tests/data\n",
            "copying build/lib/deepchem/feat/tests/data/3zp9_protein_hyd.pdb -> /usr/local/lib/python3.7/site-packages/deepchem/feat/tests/data\n",
            "copying build/lib/deepchem/feat/tests/data/3bwf_protein_hyd.pdbqt -> /usr/local/lib/python3.7/site-packages/deepchem/feat/tests/data\n",
            "copying build/lib/deepchem/feat/tests/data/3zso_protein.pdb -> /usr/local/lib/python3.7/site-packages/deepchem/feat/tests/data\n",
            "copying build/lib/deepchem/feat/tests/data/3bwf_ligand_hyd.pdbqt -> /usr/local/lib/python3.7/site-packages/deepchem/feat/tests/data\n",
            "copying build/lib/deepchem/feat/tests/data/chembl_25_small.csv -> /usr/local/lib/python3.7/site-packages/deepchem/feat/tests/data\n",
            "copying build/lib/deepchem/feat/tests/data/3zp9_protein_hyd.pdbqt -> /usr/local/lib/python3.7/site-packages/deepchem/feat/tests/data\n",
            "copying build/lib/deepchem/feat/tests/data/3zp9_ligand_hyd.pdb -> /usr/local/lib/python3.7/site-packages/deepchem/feat/tests/data\n",
            "copying build/lib/deepchem/feat/tests/data/3zp9_ligand_hyd.pdbqt -> /usr/local/lib/python3.7/site-packages/deepchem/feat/tests/data\n",
            "copying build/lib/deepchem/feat/tests/data/water.sdf -> /usr/local/lib/python3.7/site-packages/deepchem/feat/tests/data\n",
            "copying build/lib/deepchem/feat/tests/data/water.sdf.csv -> /usr/local/lib/python3.7/site-packages/deepchem/feat/tests/data\n",
            "copying build/lib/deepchem/feat/tests/test_fingerprints.py -> /usr/local/lib/python3.7/site-packages/deepchem/feat/tests\n",
            "copying build/lib/deepchem/feat/tests/3ws9_protein_fixer_rdkit.pdb -> /usr/local/lib/python3.7/site-packages/deepchem/feat/tests\n",
            "copying build/lib/deepchem/feat/tests/test_sdf_reader.py -> /usr/local/lib/python3.7/site-packages/deepchem/feat/tests\n",
            "copying build/lib/deepchem/feat/tests/test_features.py -> /usr/local/lib/python3.7/site-packages/deepchem/feat/tests\n",
            "copying build/lib/deepchem/feat/tests/test_graph_features.py -> /usr/local/lib/python3.7/site-packages/deepchem/feat/tests\n",
            "copying build/lib/deepchem/feat/tests/test_coulomb_matrices.py -> /usr/local/lib/python3.7/site-packages/deepchem/feat/tests\n",
            "copying build/lib/deepchem/feat/binding_pocket_features.py -> /usr/local/lib/python3.7/site-packages/deepchem/feat\n",
            "copying build/lib/deepchem/feat/base_classes.py -> /usr/local/lib/python3.7/site-packages/deepchem/feat\n",
            "copying build/lib/deepchem/feat/coulomb_matrices.py -> /usr/local/lib/python3.7/site-packages/deepchem/feat\n",
            "copying build/lib/deepchem/feat/mol_graphs.py -> /usr/local/lib/python3.7/site-packages/deepchem/feat\n",
            "copying build/lib/deepchem/feat/__init__.py -> /usr/local/lib/python3.7/site-packages/deepchem/feat\n",
            "copying build/lib/deepchem/feat/fingerprints.py -> /usr/local/lib/python3.7/site-packages/deepchem/feat\n",
            "copying build/lib/deepchem/feat/one_hot.py -> /usr/local/lib/python3.7/site-packages/deepchem/feat\n",
            "copying build/lib/deepchem/feat/raw_featurizer.py -> /usr/local/lib/python3.7/site-packages/deepchem/feat\n",
            "copying build/lib/deepchem/feat/graph_features.py -> /usr/local/lib/python3.7/site-packages/deepchem/feat\n",
            "copying build/lib/deepchem/feat/basic.py -> /usr/local/lib/python3.7/site-packages/deepchem/feat\n",
            "copying build/lib/deepchem/feat/atomic_coordinates.py -> /usr/local/lib/python3.7/site-packages/deepchem/feat\n",
            "copying build/lib/deepchem/feat/rdkit_grid_featurizer.py -> /usr/local/lib/python3.7/site-packages/deepchem/feat\n",
            "copying build/lib/deepchem/metrics/tests/test_genomics.py -> /usr/local/lib/python3.7/site-packages/deepchem/metrics/tests\n",
            "copying build/lib/deepchem/metrics/tests/__init__.py -> /usr/local/lib/python3.7/site-packages/deepchem/metrics/tests\n",
            "copying build/lib/deepchem/metrics/tests/metrics_test.py -> /usr/local/lib/python3.7/site-packages/deepchem/metrics/tests\n",
            "copying build/lib/deepchem/metrics/genomic_metrics.py -> /usr/local/lib/python3.7/site-packages/deepchem/metrics\n",
            "copying build/lib/deepchem/metrics/__init__.py -> /usr/local/lib/python3.7/site-packages/deepchem/metrics\n",
            "copying build/lib/deepchem/trans/tests/__init__.py -> /usr/local/lib/python3.7/site-packages/deepchem/trans/tests\n",
            "copying build/lib/deepchem/trans/tests/test_transformers.py -> /usr/local/lib/python3.7/site-packages/deepchem/trans/tests\n",
            "copying build/lib/deepchem/trans/__init__.py -> /usr/local/lib/python3.7/site-packages/deepchem/trans\n",
            "copying build/lib/deepchem/trans/transformers.py -> /usr/local/lib/python3.7/site-packages/deepchem/trans\n",
            "copying build/lib/deepchem/dock/pose_scoring.py -> /usr/local/lib/python3.7/site-packages/deepchem/dock\n",
            "copying build/lib/deepchem/dock/tests/test_pose_generation.py -> /usr/local/lib/python3.7/site-packages/deepchem/dock/tests\n",
            "copying build/lib/deepchem/dock/tests/test_pose_scoring.py -> /usr/local/lib/python3.7/site-packages/deepchem/dock/tests\n",
            "copying build/lib/deepchem/dock/tests/__init__.py -> /usr/local/lib/python3.7/site-packages/deepchem/dock/tests\n",
            "copying build/lib/deepchem/dock/tests/test_binding_pocket.py -> /usr/local/lib/python3.7/site-packages/deepchem/dock/tests\n",
            "copying build/lib/deepchem/dock/tests/1jld_ligand.sdf -> /usr/local/lib/python3.7/site-packages/deepchem/dock/tests\n",
            "copying build/lib/deepchem/dock/tests/test_docking.py -> /usr/local/lib/python3.7/site-packages/deepchem/dock/tests\n",
            "copying build/lib/deepchem/dock/tests/1jld_protein.pdb -> /usr/local/lib/python3.7/site-packages/deepchem/dock/tests\n",
            "copying build/lib/deepchem/dock/docking.py -> /usr/local/lib/python3.7/site-packages/deepchem/dock\n",
            "copying build/lib/deepchem/dock/pose_generation.py -> /usr/local/lib/python3.7/site-packages/deepchem/dock\n",
            "copying build/lib/deepchem/dock/binding_pocket.py -> /usr/local/lib/python3.7/site-packages/deepchem/dock\n",
            "copying build/lib/deepchem/dock/__init__.py -> /usr/local/lib/python3.7/site-packages/deepchem/dock\n",
            "copying build/lib/deepchem/molnet/tests/test_molnet.py -> /usr/local/lib/python3.7/site-packages/deepchem/molnet/tests\n",
            "copying build/lib/deepchem/molnet/tests/test_dnasim.py -> /usr/local/lib/python3.7/site-packages/deepchem/molnet/tests\n",
            "copying build/lib/deepchem/molnet/tests/__init__.py -> /usr/local/lib/python3.7/site-packages/deepchem/molnet/tests\n",
            "copying build/lib/deepchem/molnet/check_availability.py -> /usr/local/lib/python3.7/site-packages/deepchem/molnet\n",
            "copying build/lib/deepchem/molnet/run_benchmark.py -> /usr/local/lib/python3.7/site-packages/deepchem/molnet\n",
            "copying build/lib/deepchem/molnet/run_benchmark_models.py -> /usr/local/lib/python3.7/site-packages/deepchem/molnet\n",
            "copying build/lib/deepchem/molnet/load_function/muv_datasets.py -> /usr/local/lib/python3.7/site-packages/deepchem/molnet/load_function\n",
            "copying build/lib/deepchem/molnet/load_function/clearance_datasets.py -> /usr/local/lib/python3.7/site-packages/deepchem/molnet/load_function\n",
            "copying build/lib/deepchem/molnet/load_function/chembl25_datasets.py -> /usr/local/lib/python3.7/site-packages/deepchem/molnet/load_function\n",
            "copying build/lib/deepchem/molnet/load_function/factors_datasets.py -> /usr/local/lib/python3.7/site-packages/deepchem/molnet/load_function\n",
            "copying build/lib/deepchem/molnet/load_function/bbbc_datasets.py -> /usr/local/lib/python3.7/site-packages/deepchem/molnet/load_function\n",
            "copying build/lib/deepchem/molnet/load_function/delaney_datasets.py -> /usr/local/lib/python3.7/site-packages/deepchem/molnet/load_function\n",
            "copying build/lib/deepchem/molnet/load_function/sweetlead_datasets.py -> /usr/local/lib/python3.7/site-packages/deepchem/molnet/load_function\n",
            "copying build/lib/deepchem/molnet/load_function/hppb_datasets.py -> /usr/local/lib/python3.7/site-packages/deepchem/molnet/load_function\n",
            "copying build/lib/deepchem/molnet/load_function/cell_counting_datasets.py -> /usr/local/lib/python3.7/site-packages/deepchem/molnet/load_function\n",
            "copying build/lib/deepchem/molnet/load_function/pcba_datasets.py -> /usr/local/lib/python3.7/site-packages/deepchem/molnet/load_function\n",
            "copying build/lib/deepchem/molnet/load_function/qm7_datasets.py -> /usr/local/lib/python3.7/site-packages/deepchem/molnet/load_function\n",
            "copying build/lib/deepchem/molnet/load_function/pdbbind_datasets.py -> /usr/local/lib/python3.7/site-packages/deepchem/molnet/load_function\n",
            "copying build/lib/deepchem/molnet/load_function/chembl_datasets.py -> /usr/local/lib/python3.7/site-packages/deepchem/molnet/load_function\n",
            "copying build/lib/deepchem/molnet/load_function/ppb_datasets.py -> /usr/local/lib/python3.7/site-packages/deepchem/molnet/load_function\n",
            "copying build/lib/deepchem/molnet/load_function/uspto_datasets.py -> /usr/local/lib/python3.7/site-packages/deepchem/molnet/load_function\n",
            "copying build/lib/deepchem/molnet/load_function/kaggle_features.py -> /usr/local/lib/python3.7/site-packages/deepchem/molnet/load_function\n",
            "copying build/lib/deepchem/molnet/load_function/bace_datasets.py -> /usr/local/lib/python3.7/site-packages/deepchem/molnet/load_function\n",
            "copying build/lib/deepchem/molnet/load_function/hopv_datasets.py -> /usr/local/lib/python3.7/site-packages/deepchem/molnet/load_function\n",
            "copying build/lib/deepchem/molnet/load_function/nci_datasets.py -> /usr/local/lib/python3.7/site-packages/deepchem/molnet/load_function\n",
            "copying build/lib/deepchem/molnet/load_function/lipo_datasets.py -> /usr/local/lib/python3.7/site-packages/deepchem/molnet/load_function\n",
            "copying build/lib/deepchem/molnet/load_function/bbbp_datasets.py -> /usr/local/lib/python3.7/site-packages/deepchem/molnet/load_function\n",
            "copying build/lib/deepchem/molnet/load_function/__init__.py -> /usr/local/lib/python3.7/site-packages/deepchem/molnet/load_function\n",
            "copying build/lib/deepchem/molnet/load_function/bace_features.py -> /usr/local/lib/python3.7/site-packages/deepchem/molnet/load_function\n",
            "copying build/lib/deepchem/molnet/load_function/chembl_tasks.py -> /usr/local/lib/python3.7/site-packages/deepchem/molnet/load_function\n",
            "copying build/lib/deepchem/molnet/load_function/qm9_datasets.py -> /usr/local/lib/python3.7/site-packages/deepchem/molnet/load_function\n",
            "copying build/lib/deepchem/molnet/load_function/kinase_datasets.py -> /usr/local/lib/python3.7/site-packages/deepchem/molnet/load_function\n",
            "copying build/lib/deepchem/molnet/load_function/sampl_datasets.py -> /usr/local/lib/python3.7/site-packages/deepchem/molnet/load_function\n",
            "copying build/lib/deepchem/molnet/load_function/qm8_datasets.py -> /usr/local/lib/python3.7/site-packages/deepchem/molnet/load_function\n",
            "copying build/lib/deepchem/molnet/load_function/sider_datasets.py -> /usr/local/lib/python3.7/site-packages/deepchem/molnet/load_function\n",
            "copying build/lib/deepchem/molnet/load_function/uv_datasets.py -> /usr/local/lib/python3.7/site-packages/deepchem/molnet/load_function\n",
            "copying build/lib/deepchem/molnet/load_function/uv_tasks.py -> /usr/local/lib/python3.7/site-packages/deepchem/molnet/load_function\n",
            "copying build/lib/deepchem/molnet/load_function/clintox_datasets.py -> /usr/local/lib/python3.7/site-packages/deepchem/molnet/load_function\n",
            "copying build/lib/deepchem/molnet/load_function/hiv_datasets.py -> /usr/local/lib/python3.7/site-packages/deepchem/molnet/load_function\n",
            "copying build/lib/deepchem/molnet/load_function/toxcast_datasets.py -> /usr/local/lib/python3.7/site-packages/deepchem/molnet/load_function\n",
            "copying build/lib/deepchem/molnet/load_function/kaggle_datasets.py -> /usr/local/lib/python3.7/site-packages/deepchem/molnet/load_function\n",
            "copying build/lib/deepchem/molnet/load_function/thermosol_datasets.py -> /usr/local/lib/python3.7/site-packages/deepchem/molnet/load_function\n",
            "copying build/lib/deepchem/molnet/load_function/tox21_datasets.py -> /usr/local/lib/python3.7/site-packages/deepchem/molnet/load_function\n",
            "copying build/lib/deepchem/molnet/__init__.py -> /usr/local/lib/python3.7/site-packages/deepchem/molnet\n",
            "copying build/lib/deepchem/molnet/run_benchmark_low_data.py -> /usr/local/lib/python3.7/site-packages/deepchem/molnet\n",
            "copying build/lib/deepchem/molnet/dnasim.py -> /usr/local/lib/python3.7/site-packages/deepchem/molnet\n",
            "copying build/lib/deepchem/molnet/preset_hyper_parameters.py -> /usr/local/lib/python3.7/site-packages/deepchem/molnet\n",
            "copying build/lib/deepchem/.gitignore -> /usr/local/lib/python3.7/site-packages/deepchem\n",
            "copying build/lib/deepchem/utils/mol_xyz_util.py -> /usr/local/lib/python3.7/site-packages/deepchem/utils\n",
            "copying build/lib/deepchem/utils/test/test_hash_utils.py -> /usr/local/lib/python3.7/site-packages/deepchem/utils/test\n",
            "copying build/lib/deepchem/utils/test/test_generator_evaluator.py -> /usr/local/lib/python3.7/site-packages/deepchem/utils/test\n",
            "copying build/lib/deepchem/utils/test/test_rdkit_util.py -> /usr/local/lib/python3.7/site-packages/deepchem/utils/test\n",
            "copying build/lib/deepchem/utils/test/test_coordinate_box_utils.py -> /usr/local/lib/python3.7/site-packages/deepchem/utils/test\n",
            "copying build/lib/deepchem/utils/test/test_geometry_utils.py -> /usr/local/lib/python3.7/site-packages/deepchem/utils/test\n",
            "copying build/lib/deepchem/utils/test/__init__.py -> /usr/local/lib/python3.7/site-packages/deepchem/utils/test\n",
            "copying build/lib/deepchem/utils/test/test_seq.py -> /usr/local/lib/python3.7/site-packages/deepchem/utils/test\n",
            "copying build/lib/deepchem/utils/test/data/example.fastq -> /usr/local/lib/python3.7/site-packages/deepchem/utils/test/data\n",
            "copying build/lib/deepchem/utils/test/data/example.fasta -> /usr/local/lib/python3.7/site-packages/deepchem/utils/test/data\n",
            "copying build/lib/deepchem/utils/test/test_voxel_utils.py -> /usr/local/lib/python3.7/site-packages/deepchem/utils/test\n",
            "copying build/lib/deepchem/utils/genomics.py -> /usr/local/lib/python3.7/site-packages/deepchem/utils\n",
            "copying build/lib/deepchem/utils/geometry_utils.py -> /usr/local/lib/python3.7/site-packages/deepchem/utils\n",
            "copying build/lib/deepchem/utils/voxel_utils.py -> /usr/local/lib/python3.7/site-packages/deepchem/utils\n",
            "copying build/lib/deepchem/utils/evaluate.py -> /usr/local/lib/python3.7/site-packages/deepchem/utils\n",
            "copying build/lib/deepchem/utils/hash_utils.py -> /usr/local/lib/python3.7/site-packages/deepchem/utils\n",
            "copying build/lib/deepchem/utils/coordinate_box_utils.py -> /usr/local/lib/python3.7/site-packages/deepchem/utils\n",
            "copying build/lib/deepchem/utils/rdkit_util.py -> /usr/local/lib/python3.7/site-packages/deepchem/utils\n",
            "copying build/lib/deepchem/utils/__init__.py -> /usr/local/lib/python3.7/site-packages/deepchem/utils\n",
            "copying build/lib/deepchem/utils/conformers.py -> /usr/local/lib/python3.7/site-packages/deepchem/utils\n",
            "copying build/lib/deepchem/utils/save.py -> /usr/local/lib/python3.7/site-packages/deepchem/utils\n",
            "copying build/lib/deepchem/splits/tests/test_splitter.py -> /usr/local/lib/python3.7/site-packages/deepchem/splits/tests\n",
            "copying build/lib/deepchem/splits/tests/__init__.py -> /usr/local/lib/python3.7/site-packages/deepchem/splits/tests\n",
            "copying build/lib/deepchem/splits/tests/test_task_splitter.py -> /usr/local/lib/python3.7/site-packages/deepchem/splits/tests\n",
            "copying build/lib/deepchem/splits/test_specified_index_splitter.py -> /usr/local/lib/python3.7/site-packages/deepchem/splits\n",
            "copying build/lib/deepchem/splits/__init__.py -> /usr/local/lib/python3.7/site-packages/deepchem/splits\n",
            "copying build/lib/deepchem/splits/test_scaffold_splitter.py -> /usr/local/lib/python3.7/site-packages/deepchem/splits\n",
            "copying build/lib/deepchem/splits/splitters.py -> /usr/local/lib/python3.7/site-packages/deepchem/splits\n",
            "copying build/lib/deepchem/splits/task_splitter.py -> /usr/local/lib/python3.7/site-packages/deepchem/splits\n",
            "copying build/lib/deepchem/__init__.py -> /usr/local/lib/python3.7/site-packages/deepchem\n",
            "copying build/lib/deepchem/models/chemnet_layers.py -> /usr/local/lib/python3.7/site-packages/deepchem/models\n",
            "copying build/lib/deepchem/models/models.py -> /usr/local/lib/python3.7/site-packages/deepchem/models\n",
            "copying build/lib/deepchem/models/layers.py -> /usr/local/lib/python3.7/site-packages/deepchem/models\n",
            "copying build/lib/deepchem/models/tests/test_generalize.py -> /usr/local/lib/python3.7/site-packages/deepchem/models/tests\n",
            "copying build/lib/deepchem/models/tests/example_DTNN.mat -> /usr/local/lib/python3.7/site-packages/deepchem/models/tests\n",
            "copying build/lib/deepchem/models/tests/butina_example.csv -> /usr/local/lib/python3.7/site-packages/deepchem/models/tests\n",
            "copying build/lib/deepchem/models/tests/test_layers.py -> /usr/local/lib/python3.7/site-packages/deepchem/models/tests\n",
            "copying build/lib/deepchem/models/tests/test_scscore.py -> /usr/local/lib/python3.7/site-packages/deepchem/models/tests\n",
            "copying build/lib/deepchem/models/tests/test_predict.py -> /usr/local/lib/python3.7/site-packages/deepchem/models/tests\n",
            "copying build/lib/deepchem/models/tests/test_multitask.py -> /usr/local/lib/python3.7/site-packages/deepchem/models/tests\n",
            "copying build/lib/deepchem/models/tests/test_api.py -> /usr/local/lib/python3.7/site-packages/deepchem/models/tests\n",
            "copying build/lib/deepchem/models/tests/test_singletask_to_multitask.py -> /usr/local/lib/python3.7/site-packages/deepchem/models/tests\n",
            "copying build/lib/deepchem/models/tests/feat_multitask_example.csv -> /usr/local/lib/python3.7/site-packages/deepchem/models/tests\n",
            "copying build/lib/deepchem/models/tests/test_chemnet_models.py -> /usr/local/lib/python3.7/site-packages/deepchem/models/tests\n",
            "copying build/lib/deepchem/models/tests/test_graph_models.py -> /usr/local/lib/python3.7/site-packages/deepchem/models/tests\n",
            "copying build/lib/deepchem/models/tests/gaussian_cdf_example.csv -> /usr/local/lib/python3.7/site-packages/deepchem/models/tests\n",
            "copying build/lib/deepchem/models/tests/gbd3k.pkl.gz -> /usr/local/lib/python3.7/site-packages/deepchem/models/tests\n",
            "copying build/lib/deepchem/models/tests/test_cnn.py -> /usr/local/lib/python3.7/site-packages/deepchem/models/tests\n",
            "copying build/lib/deepchem/models/tests/nnscore_example.pkl.gz -> /usr/local/lib/python3.7/site-packages/deepchem/models/tests\n",
            "copying build/lib/deepchem/models/tests/example_regression.csv -> /usr/local/lib/python3.7/site-packages/deepchem/models/tests\n",
            "copying build/lib/deepchem/models/tests/test_overfit.py -> /usr/local/lib/python3.7/site-packages/deepchem/models/tests\n",
            "copying build/lib/deepchem/models/tests/user_specified_example.csv -> /usr/local/lib/python3.7/site-packages/deepchem/models/tests\n",
            "copying build/lib/deepchem/models/tests/test_reload.py -> /usr/local/lib/python3.7/site-packages/deepchem/models/tests\n",
            "copying build/lib/deepchem/models/tests/test_kerasmodel.py -> /usr/local/lib/python3.7/site-packages/deepchem/models/tests\n",
            "copying build/lib/deepchem/models/tests/__init__.py -> /usr/local/lib/python3.7/site-packages/deepchem/models/tests\n",
            "copying build/lib/deepchem/models/tests/chembl_25_small.csv -> /usr/local/lib/python3.7/site-packages/deepchem/models/tests\n",
            "copying build/lib/deepchem/models/tests/sparse_multitask_example.csv -> /usr/local/lib/python3.7/site-packages/deepchem/models/tests\n",
            "copying build/lib/deepchem/models/tests/test_callbacks.py -> /usr/local/lib/python3.7/site-packages/deepchem/models/tests\n",
            "copying build/lib/deepchem/models/tests/test_pretrained.py -> /usr/local/lib/python3.7/site-packages/deepchem/models/tests\n",
            "copying build/lib/deepchem/models/tests/multitask_example.csv -> /usr/local/lib/python3.7/site-packages/deepchem/models/tests\n",
            "copying build/lib/deepchem/models/tests/test_textcnnmodel.py -> /usr/local/lib/python3.7/site-packages/deepchem/models/tests\n",
            "copying build/lib/deepchem/models/tests/test_atomic_conv.py -> /usr/local/lib/python3.7/site-packages/deepchem/models/tests\n",
            "copying build/lib/deepchem/models/tests/test_seqtoseq.py -> /usr/local/lib/python3.7/site-packages/deepchem/models/tests\n",
            "copying build/lib/deepchem/models/tests/example.csv -> /usr/local/lib/python3.7/site-packages/deepchem/models/tests\n",
            "copying build/lib/deepchem/models/tests/test_layers_from_config.py -> /usr/local/lib/python3.7/site-packages/deepchem/models/tests\n",
            "copying build/lib/deepchem/models/tests/test_optimizers.py -> /usr/local/lib/python3.7/site-packages/deepchem/models/tests\n",
            "copying build/lib/deepchem/models/tests/test_gan.py -> /usr/local/lib/python3.7/site-packages/deepchem/models/tests\n",
            "copying build/lib/deepchem/models/tests/example_classification.csv -> /usr/local/lib/python3.7/site-packages/deepchem/models/tests\n",
            "copying build/lib/deepchem/models/graph_models.py -> /usr/local/lib/python3.7/site-packages/deepchem/models\n",
            "copying build/lib/deepchem/models/robust_multitask.py -> /usr/local/lib/python3.7/site-packages/deepchem/models\n",
            "copying build/lib/deepchem/models/text_cnn.py -> /usr/local/lib/python3.7/site-packages/deepchem/models\n",
            "copying build/lib/deepchem/models/optimizers.py -> /usr/local/lib/python3.7/site-packages/deepchem/models\n",
            "copying build/lib/deepchem/models/sklearn_models/__init__.py -> /usr/local/lib/python3.7/site-packages/deepchem/models/sklearn_models\n",
            "copying build/lib/deepchem/models/xgboost_models/__init__.py -> /usr/local/lib/python3.7/site-packages/deepchem/models/xgboost_models\n",
            "copying build/lib/deepchem/models/atomic_conv.py -> /usr/local/lib/python3.7/site-packages/deepchem/models\n",
            "copying build/lib/deepchem/models/cnn.py -> /usr/local/lib/python3.7/site-packages/deepchem/models\n",
            "copying build/lib/deepchem/models/gan.py -> /usr/local/lib/python3.7/site-packages/deepchem/models\n",
            "copying build/lib/deepchem/models/__init__.py -> /usr/local/lib/python3.7/site-packages/deepchem/models\n",
            "copying build/lib/deepchem/models/keras_model.py -> /usr/local/lib/python3.7/site-packages/deepchem/models\n",
            "copying build/lib/deepchem/models/losses.py -> /usr/local/lib/python3.7/site-packages/deepchem/models\n",
            "copying build/lib/deepchem/models/multitask.py -> /usr/local/lib/python3.7/site-packages/deepchem/models\n",
            "copying build/lib/deepchem/models/scscore.py -> /usr/local/lib/python3.7/site-packages/deepchem/models\n",
            "copying build/lib/deepchem/models/chemnet_models.py -> /usr/local/lib/python3.7/site-packages/deepchem/models\n",
            "copying build/lib/deepchem/models/fcnet.py -> /usr/local/lib/python3.7/site-packages/deepchem/models\n",
            "copying build/lib/deepchem/models/progressive_multitask.py -> /usr/local/lib/python3.7/site-packages/deepchem/models\n",
            "copying build/lib/deepchem/models/IRV.py -> /usr/local/lib/python3.7/site-packages/deepchem/models\n",
            "copying build/lib/deepchem/models/callbacks.py -> /usr/local/lib/python3.7/site-packages/deepchem/models\n",
            "copying build/lib/deepchem/models/seqtoseq.py -> /usr/local/lib/python3.7/site-packages/deepchem/models\n",
            "copying build/lib/deepchem/data/tests/test_image_dataset.py -> /usr/local/lib/python3.7/site-packages/deepchem/data/tests\n",
            "copying build/lib/deepchem/data/tests/test_load.py -> /usr/local/lib/python3.7/site-packages/deepchem/data/tests\n",
            "copying build/lib/deepchem/data/tests/mini_emols.csv -> /usr/local/lib/python3.7/site-packages/deepchem/data/tests\n",
            "copying build/lib/deepchem/data/tests/a_image.tif -> /usr/local/lib/python3.7/site-packages/deepchem/data/tests\n",
            "copying build/lib/deepchem/data/tests/images/000005-num1.png -> /usr/local/lib/python3.7/site-packages/deepchem/data/tests/images\n",
            "copying build/lib/deepchem/data/tests/images/000011-num6.png -> /usr/local/lib/python3.7/site-packages/deepchem/data/tests/images\n",
            "copying build/lib/deepchem/data/tests/images/000010-num0.png -> /usr/local/lib/python3.7/site-packages/deepchem/data/tests/images\n",
            "copying build/lib/deepchem/data/tests/images/000006-num4.png -> /usr/local/lib/python3.7/site-packages/deepchem/data/tests/images\n",
            "copying build/lib/deepchem/data/tests/images/000012-num9.png -> /usr/local/lib/python3.7/site-packages/deepchem/data/tests/images\n",
            "copying build/lib/deepchem/data/tests/images/000008-num5.png -> /usr/local/lib/python3.7/site-packages/deepchem/data/tests/images\n",
            "copying build/lib/deepchem/data/tests/images/000007-num9.png -> /usr/local/lib/python3.7/site-packages/deepchem/data/tests/images\n",
            "copying build/lib/deepchem/data/tests/images/000004-num4.png -> /usr/local/lib/python3.7/site-packages/deepchem/data/tests/images\n",
            "copying build/lib/deepchem/data/tests/images/000009-num9.png -> /usr/local/lib/python3.7/site-packages/deepchem/data/tests/images\n",
            "copying build/lib/deepchem/data/tests/images/000003-num0.png -> /usr/local/lib/python3.7/site-packages/deepchem/data/tests/images\n",
            "copying build/lib/deepchem/data/tests/test_drop.py -> /usr/local/lib/python3.7/site-packages/deepchem/data/tests\n",
            "copying build/lib/deepchem/data/tests/test_reload.py -> /usr/local/lib/python3.7/site-packages/deepchem/data/tests\n",
            "copying build/lib/deepchem/data/tests/__init__.py -> /usr/local/lib/python3.7/site-packages/deepchem/data/tests\n",
            "copying build/lib/deepchem/data/tests/test_merge.py -> /usr/local/lib/python3.7/site-packages/deepchem/data/tests\n",
            "copying build/lib/deepchem/data/tests/test_fasta_loader.py -> /usr/local/lib/python3.7/site-packages/deepchem/data/tests\n",
            "copying build/lib/deepchem/data/tests/example.fasta -> /usr/local/lib/python3.7/site-packages/deepchem/data/tests\n",
            "copying build/lib/deepchem/data/tests/test_csv_loader.py -> /usr/local/lib/python3.7/site-packages/deepchem/data/tests\n",
            "copying build/lib/deepchem/data/tests/test_support_generator.py -> /usr/local/lib/python3.7/site-packages/deepchem/data/tests\n",
            "copying build/lib/deepchem/data/tests/no_labels.csv -> /usr/local/lib/python3.7/site-packages/deepchem/data/tests\n",
            "copying build/lib/deepchem/data/tests/test_datasets.py -> /usr/local/lib/python3.7/site-packages/deepchem/data/tests\n",
            "copying build/lib/deepchem/data/tests/test_shuffle.py -> /usr/local/lib/python3.7/site-packages/deepchem/data/tests\n",
            "copying build/lib/deepchem/data/tests/test_data_loader.py -> /usr/local/lib/python3.7/site-packages/deepchem/data/tests\n",
            "copying build/lib/deepchem/data/tests/test_image_loader.py -> /usr/local/lib/python3.7/site-packages/deepchem/data/tests\n",
            "copying build/lib/deepchem/data/supports.py -> /usr/local/lib/python3.7/site-packages/deepchem/data\n",
            "copying build/lib/deepchem/data/__init__.py -> /usr/local/lib/python3.7/site-packages/deepchem/data\n",
            "copying build/lib/deepchem/data/datasets.py -> /usr/local/lib/python3.7/site-packages/deepchem/data\n",
            "copying build/lib/deepchem/data/data_loader.py -> /usr/local/lib/python3.7/site-packages/deepchem/data\n",
            "copying build/lib/deepchem/metalearning/tests/test_maml.py -> /usr/local/lib/python3.7/site-packages/deepchem/metalearning/tests\n",
            "copying build/lib/deepchem/metalearning/__init__.py -> /usr/local/lib/python3.7/site-packages/deepchem/metalearning\n",
            "copying build/lib/deepchem/metalearning/maml.py -> /usr/local/lib/python3.7/site-packages/deepchem/metalearning\n",
            "copying build/lib/deepchem/rl/tests/test_ppo.py -> /usr/local/lib/python3.7/site-packages/deepchem/rl/tests\n",
            "copying build/lib/deepchem/rl/tests/test_a2c.py -> /usr/local/lib/python3.7/site-packages/deepchem/rl/tests\n",
            "copying build/lib/deepchem/rl/ppo.py -> /usr/local/lib/python3.7/site-packages/deepchem/rl\n",
            "copying build/lib/deepchem/rl/__init__.py -> /usr/local/lib/python3.7/site-packages/deepchem/rl\n",
            "copying build/lib/deepchem/rl/envs/test_tictactoe.py -> /usr/local/lib/python3.7/site-packages/deepchem/rl/envs\n",
            "copying build/lib/deepchem/rl/envs/__init__.py -> /usr/local/lib/python3.7/site-packages/deepchem/rl/envs\n",
            "copying build/lib/deepchem/rl/envs/tictactoe.py -> /usr/local/lib/python3.7/site-packages/deepchem/rl/envs\n",
            "copying build/lib/deepchem/rl/a2c.py -> /usr/local/lib/python3.7/site-packages/deepchem/rl\n",
            "byte-compiling /usr/local/lib/python3.7/site-packages/deepchem/hyper/tests/test_hyperparam_opt.py to test_hyperparam_opt.cpython-37.pyc\n",
            "byte-compiling /usr/local/lib/python3.7/site-packages/deepchem/hyper/tests/__init__.py to __init__.cpython-37.pyc\n",
            "byte-compiling /usr/local/lib/python3.7/site-packages/deepchem/hyper/grid_search.py to grid_search.cpython-37.pyc\n",
            "byte-compiling /usr/local/lib/python3.7/site-packages/deepchem/hyper/gaussian_process.py to gaussian_process.cpython-37.pyc\n",
            "byte-compiling /usr/local/lib/python3.7/site-packages/deepchem/hyper/__init__.py to __init__.cpython-37.pyc\n",
            "byte-compiling /usr/local/lib/python3.7/site-packages/deepchem/tests/test_init.py to test_init.cpython-37.pyc\n",
            "byte-compiling /usr/local/lib/python3.7/site-packages/deepchem/feat/smiles_featurizers.py to smiles_featurizers.cpython-37.pyc\n",
            "byte-compiling /usr/local/lib/python3.7/site-packages/deepchem/feat/adjacency_fingerprints.py to adjacency_fingerprints.cpython-37.pyc\n",
            "byte-compiling /usr/local/lib/python3.7/site-packages/deepchem/feat/tests/test_rdkit_grid_features.py to test_rdkit_grid_features.cpython-37.pyc\n",
            "byte-compiling /usr/local/lib/python3.7/site-packages/deepchem/feat/tests/test_one_hot.py to test_one_hot.cpython-37.pyc\n",
            "byte-compiling /usr/local/lib/python3.7/site-packages/deepchem/feat/tests/test_mol_graphs.py to test_mol_graphs.cpython-37.pyc\n",
            "byte-compiling /usr/local/lib/python3.7/site-packages/deepchem/feat/tests/test_smiles_featurizers.py to test_smiles_featurizers.cpython-37.pyc\n",
            "byte-compiling /usr/local/lib/python3.7/site-packages/deepchem/feat/tests/test_basic.py to test_basic.cpython-37.pyc\n",
            "byte-compiling /usr/local/lib/python3.7/site-packages/deepchem/feat/tests/__init__.py to __init__.cpython-37.pyc\n",
            "byte-compiling /usr/local/lib/python3.7/site-packages/deepchem/feat/tests/test_atomic_coordinates.py to test_atomic_coordinates.cpython-37.pyc\n",
            "byte-compiling /usr/local/lib/python3.7/site-packages/deepchem/feat/tests/test_binding_pocket_features.py to test_binding_pocket_features.cpython-37.pyc\n",
            "byte-compiling /usr/local/lib/python3.7/site-packages/deepchem/feat/tests/test_convmol.py to test_convmol.cpython-37.pyc\n",
            "byte-compiling /usr/local/lib/python3.7/site-packages/deepchem/feat/tests/test_fingerprints.py to test_fingerprints.cpython-37.pyc\n",
            "byte-compiling /usr/local/lib/python3.7/site-packages/deepchem/feat/tests/test_sdf_reader.py to test_sdf_reader.cpython-37.pyc\n",
            "byte-compiling /usr/local/lib/python3.7/site-packages/deepchem/feat/tests/test_features.py to test_features.cpython-37.pyc\n",
            "byte-compiling /usr/local/lib/python3.7/site-packages/deepchem/feat/tests/test_graph_features.py to test_graph_features.cpython-37.pyc\n",
            "byte-compiling /usr/local/lib/python3.7/site-packages/deepchem/feat/tests/test_coulomb_matrices.py to test_coulomb_matrices.cpython-37.pyc\n",
            "byte-compiling /usr/local/lib/python3.7/site-packages/deepchem/feat/binding_pocket_features.py to binding_pocket_features.cpython-37.pyc\n",
            "byte-compiling /usr/local/lib/python3.7/site-packages/deepchem/feat/base_classes.py to base_classes.cpython-37.pyc\n",
            "byte-compiling /usr/local/lib/python3.7/site-packages/deepchem/feat/coulomb_matrices.py to coulomb_matrices.cpython-37.pyc\n",
            "byte-compiling /usr/local/lib/python3.7/site-packages/deepchem/feat/mol_graphs.py to mol_graphs.cpython-37.pyc\n",
            "byte-compiling /usr/local/lib/python3.7/site-packages/deepchem/feat/__init__.py to __init__.cpython-37.pyc\n",
            "byte-compiling /usr/local/lib/python3.7/site-packages/deepchem/feat/fingerprints.py to fingerprints.cpython-37.pyc\n",
            "byte-compiling /usr/local/lib/python3.7/site-packages/deepchem/feat/one_hot.py to one_hot.cpython-37.pyc\n",
            "byte-compiling /usr/local/lib/python3.7/site-packages/deepchem/feat/raw_featurizer.py to raw_featurizer.cpython-37.pyc\n",
            "byte-compiling /usr/local/lib/python3.7/site-packages/deepchem/feat/graph_features.py to graph_features.cpython-37.pyc\n",
            "byte-compiling /usr/local/lib/python3.7/site-packages/deepchem/feat/basic.py to basic.cpython-37.pyc\n",
            "byte-compiling /usr/local/lib/python3.7/site-packages/deepchem/feat/atomic_coordinates.py to atomic_coordinates.cpython-37.pyc\n",
            "byte-compiling /usr/local/lib/python3.7/site-packages/deepchem/feat/rdkit_grid_featurizer.py to rdkit_grid_featurizer.cpython-37.pyc\n",
            "byte-compiling /usr/local/lib/python3.7/site-packages/deepchem/metrics/tests/test_genomics.py to test_genomics.cpython-37.pyc\n",
            "byte-compiling /usr/local/lib/python3.7/site-packages/deepchem/metrics/tests/__init__.py to __init__.cpython-37.pyc\n",
            "byte-compiling /usr/local/lib/python3.7/site-packages/deepchem/metrics/tests/metrics_test.py to metrics_test.cpython-37.pyc\n",
            "byte-compiling /usr/local/lib/python3.7/site-packages/deepchem/metrics/genomic_metrics.py to genomic_metrics.cpython-37.pyc\n",
            "byte-compiling /usr/local/lib/python3.7/site-packages/deepchem/metrics/__init__.py to __init__.cpython-37.pyc\n",
            "byte-compiling /usr/local/lib/python3.7/site-packages/deepchem/trans/tests/__init__.py to __init__.cpython-37.pyc\n",
            "byte-compiling /usr/local/lib/python3.7/site-packages/deepchem/trans/tests/test_transformers.py to test_transformers.cpython-37.pyc\n",
            "byte-compiling /usr/local/lib/python3.7/site-packages/deepchem/trans/__init__.py to __init__.cpython-37.pyc\n",
            "byte-compiling /usr/local/lib/python3.7/site-packages/deepchem/trans/transformers.py to transformers.cpython-37.pyc\n",
            "byte-compiling /usr/local/lib/python3.7/site-packages/deepchem/dock/pose_scoring.py to pose_scoring.cpython-37.pyc\n",
            "byte-compiling /usr/local/lib/python3.7/site-packages/deepchem/dock/tests/test_pose_generation.py to test_pose_generation.cpython-37.pyc\n",
            "byte-compiling /usr/local/lib/python3.7/site-packages/deepchem/dock/tests/test_pose_scoring.py to test_pose_scoring.cpython-37.pyc\n",
            "byte-compiling /usr/local/lib/python3.7/site-packages/deepchem/dock/tests/__init__.py to __init__.cpython-37.pyc\n",
            "byte-compiling /usr/local/lib/python3.7/site-packages/deepchem/dock/tests/test_binding_pocket.py to test_binding_pocket.cpython-37.pyc\n",
            "byte-compiling /usr/local/lib/python3.7/site-packages/deepchem/dock/tests/test_docking.py to test_docking.cpython-37.pyc\n",
            "byte-compiling /usr/local/lib/python3.7/site-packages/deepchem/dock/docking.py to docking.cpython-37.pyc\n",
            "byte-compiling /usr/local/lib/python3.7/site-packages/deepchem/dock/pose_generation.py to pose_generation.cpython-37.pyc\n",
            "byte-compiling /usr/local/lib/python3.7/site-packages/deepchem/dock/binding_pocket.py to binding_pocket.cpython-37.pyc\n",
            "byte-compiling /usr/local/lib/python3.7/site-packages/deepchem/dock/__init__.py to __init__.cpython-37.pyc\n",
            "byte-compiling /usr/local/lib/python3.7/site-packages/deepchem/molnet/tests/test_molnet.py to test_molnet.cpython-37.pyc\n",
            "byte-compiling /usr/local/lib/python3.7/site-packages/deepchem/molnet/tests/test_dnasim.py to test_dnasim.cpython-37.pyc\n",
            "byte-compiling /usr/local/lib/python3.7/site-packages/deepchem/molnet/tests/__init__.py to __init__.cpython-37.pyc\n",
            "byte-compiling /usr/local/lib/python3.7/site-packages/deepchem/molnet/check_availability.py to check_availability.cpython-37.pyc\n",
            "byte-compiling /usr/local/lib/python3.7/site-packages/deepchem/molnet/run_benchmark.py to run_benchmark.cpython-37.pyc\n",
            "byte-compiling /usr/local/lib/python3.7/site-packages/deepchem/molnet/run_benchmark_models.py to run_benchmark_models.cpython-37.pyc\n",
            "byte-compiling /usr/local/lib/python3.7/site-packages/deepchem/molnet/load_function/muv_datasets.py to muv_datasets.cpython-37.pyc\n",
            "byte-compiling /usr/local/lib/python3.7/site-packages/deepchem/molnet/load_function/clearance_datasets.py to clearance_datasets.cpython-37.pyc\n",
            "byte-compiling /usr/local/lib/python3.7/site-packages/deepchem/molnet/load_function/chembl25_datasets.py to chembl25_datasets.cpython-37.pyc\n",
            "byte-compiling /usr/local/lib/python3.7/site-packages/deepchem/molnet/load_function/factors_datasets.py to factors_datasets.cpython-37.pyc\n",
            "byte-compiling /usr/local/lib/python3.7/site-packages/deepchem/molnet/load_function/bbbc_datasets.py to bbbc_datasets.cpython-37.pyc\n",
            "byte-compiling /usr/local/lib/python3.7/site-packages/deepchem/molnet/load_function/delaney_datasets.py to delaney_datasets.cpython-37.pyc\n",
            "byte-compiling /usr/local/lib/python3.7/site-packages/deepchem/molnet/load_function/sweetlead_datasets.py to sweetlead_datasets.cpython-37.pyc\n",
            "byte-compiling /usr/local/lib/python3.7/site-packages/deepchem/molnet/load_function/hppb_datasets.py to hppb_datasets.cpython-37.pyc\n",
            "byte-compiling /usr/local/lib/python3.7/site-packages/deepchem/molnet/load_function/cell_counting_datasets.py to cell_counting_datasets.cpython-37.pyc\n",
            "byte-compiling /usr/local/lib/python3.7/site-packages/deepchem/molnet/load_function/pcba_datasets.py to pcba_datasets.cpython-37.pyc\n",
            "byte-compiling /usr/local/lib/python3.7/site-packages/deepchem/molnet/load_function/qm7_datasets.py to qm7_datasets.cpython-37.pyc\n",
            "byte-compiling /usr/local/lib/python3.7/site-packages/deepchem/molnet/load_function/pdbbind_datasets.py to pdbbind_datasets.cpython-37.pyc\n",
            "byte-compiling /usr/local/lib/python3.7/site-packages/deepchem/molnet/load_function/chembl_datasets.py to chembl_datasets.cpython-37.pyc\n",
            "byte-compiling /usr/local/lib/python3.7/site-packages/deepchem/molnet/load_function/ppb_datasets.py to ppb_datasets.cpython-37.pyc\n",
            "byte-compiling /usr/local/lib/python3.7/site-packages/deepchem/molnet/load_function/uspto_datasets.py to uspto_datasets.cpython-37.pyc\n",
            "byte-compiling /usr/local/lib/python3.7/site-packages/deepchem/molnet/load_function/kaggle_features.py to kaggle_features.cpython-37.pyc\n",
            "byte-compiling /usr/local/lib/python3.7/site-packages/deepchem/molnet/load_function/bace_datasets.py to bace_datasets.cpython-37.pyc\n",
            "byte-compiling /usr/local/lib/python3.7/site-packages/deepchem/molnet/load_function/hopv_datasets.py to hopv_datasets.cpython-37.pyc\n",
            "byte-compiling /usr/local/lib/python3.7/site-packages/deepchem/molnet/load_function/nci_datasets.py to nci_datasets.cpython-37.pyc\n",
            "byte-compiling /usr/local/lib/python3.7/site-packages/deepchem/molnet/load_function/lipo_datasets.py to lipo_datasets.cpython-37.pyc\n",
            "byte-compiling /usr/local/lib/python3.7/site-packages/deepchem/molnet/load_function/bbbp_datasets.py to bbbp_datasets.cpython-37.pyc\n",
            "byte-compiling /usr/local/lib/python3.7/site-packages/deepchem/molnet/load_function/__init__.py to __init__.cpython-37.pyc\n",
            "byte-compiling /usr/local/lib/python3.7/site-packages/deepchem/molnet/load_function/bace_features.py to bace_features.cpython-37.pyc\n",
            "byte-compiling /usr/local/lib/python3.7/site-packages/deepchem/molnet/load_function/chembl_tasks.py to chembl_tasks.cpython-37.pyc\n",
            "byte-compiling /usr/local/lib/python3.7/site-packages/deepchem/molnet/load_function/qm9_datasets.py to qm9_datasets.cpython-37.pyc\n",
            "byte-compiling /usr/local/lib/python3.7/site-packages/deepchem/molnet/load_function/kinase_datasets.py to kinase_datasets.cpython-37.pyc\n",
            "byte-compiling /usr/local/lib/python3.7/site-packages/deepchem/molnet/load_function/sampl_datasets.py to sampl_datasets.cpython-37.pyc\n",
            "byte-compiling /usr/local/lib/python3.7/site-packages/deepchem/molnet/load_function/qm8_datasets.py to qm8_datasets.cpython-37.pyc\n",
            "byte-compiling /usr/local/lib/python3.7/site-packages/deepchem/molnet/load_function/sider_datasets.py to sider_datasets.cpython-37.pyc\n",
            "byte-compiling /usr/local/lib/python3.7/site-packages/deepchem/molnet/load_function/uv_datasets.py to uv_datasets.cpython-37.pyc\n",
            "byte-compiling /usr/local/lib/python3.7/site-packages/deepchem/molnet/load_function/uv_tasks.py to uv_tasks.cpython-37.pyc\n",
            "byte-compiling /usr/local/lib/python3.7/site-packages/deepchem/molnet/load_function/clintox_datasets.py to clintox_datasets.cpython-37.pyc\n",
            "byte-compiling /usr/local/lib/python3.7/site-packages/deepchem/molnet/load_function/hiv_datasets.py to hiv_datasets.cpython-37.pyc\n",
            "byte-compiling /usr/local/lib/python3.7/site-packages/deepchem/molnet/load_function/toxcast_datasets.py to toxcast_datasets.cpython-37.pyc\n",
            "byte-compiling /usr/local/lib/python3.7/site-packages/deepchem/molnet/load_function/kaggle_datasets.py to kaggle_datasets.cpython-37.pyc\n",
            "byte-compiling /usr/local/lib/python3.7/site-packages/deepchem/molnet/load_function/thermosol_datasets.py to thermosol_datasets.cpython-37.pyc\n",
            "byte-compiling /usr/local/lib/python3.7/site-packages/deepchem/molnet/load_function/tox21_datasets.py to tox21_datasets.cpython-37.pyc\n",
            "byte-compiling /usr/local/lib/python3.7/site-packages/deepchem/molnet/__init__.py to __init__.cpython-37.pyc\n",
            "byte-compiling /usr/local/lib/python3.7/site-packages/deepchem/molnet/run_benchmark_low_data.py to run_benchmark_low_data.cpython-37.pyc\n",
            "byte-compiling /usr/local/lib/python3.7/site-packages/deepchem/molnet/dnasim.py to dnasim.cpython-37.pyc\n",
            "byte-compiling /usr/local/lib/python3.7/site-packages/deepchem/molnet/preset_hyper_parameters.py to preset_hyper_parameters.cpython-37.pyc\n",
            "byte-compiling /usr/local/lib/python3.7/site-packages/deepchem/utils/mol_xyz_util.py to mol_xyz_util.cpython-37.pyc\n",
            "byte-compiling /usr/local/lib/python3.7/site-packages/deepchem/utils/test/test_hash_utils.py to test_hash_utils.cpython-37.pyc\n",
            "byte-compiling /usr/local/lib/python3.7/site-packages/deepchem/utils/test/test_generator_evaluator.py to test_generator_evaluator.cpython-37.pyc\n",
            "byte-compiling /usr/local/lib/python3.7/site-packages/deepchem/utils/test/test_rdkit_util.py to test_rdkit_util.cpython-37.pyc\n",
            "byte-compiling /usr/local/lib/python3.7/site-packages/deepchem/utils/test/test_coordinate_box_utils.py to test_coordinate_box_utils.cpython-37.pyc\n",
            "byte-compiling /usr/local/lib/python3.7/site-packages/deepchem/utils/test/test_geometry_utils.py to test_geometry_utils.cpython-37.pyc\n",
            "byte-compiling /usr/local/lib/python3.7/site-packages/deepchem/utils/test/__init__.py to __init__.cpython-37.pyc\n",
            "byte-compiling /usr/local/lib/python3.7/site-packages/deepchem/utils/test/test_seq.py to test_seq.cpython-37.pyc\n",
            "byte-compiling /usr/local/lib/python3.7/site-packages/deepchem/utils/test/test_voxel_utils.py to test_voxel_utils.cpython-37.pyc\n",
            "byte-compiling /usr/local/lib/python3.7/site-packages/deepchem/utils/genomics.py to genomics.cpython-37.pyc\n",
            "byte-compiling /usr/local/lib/python3.7/site-packages/deepchem/utils/geometry_utils.py to geometry_utils.cpython-37.pyc\n",
            "byte-compiling /usr/local/lib/python3.7/site-packages/deepchem/utils/voxel_utils.py to voxel_utils.cpython-37.pyc\n",
            "byte-compiling /usr/local/lib/python3.7/site-packages/deepchem/utils/evaluate.py to evaluate.cpython-37.pyc\n",
            "byte-compiling /usr/local/lib/python3.7/site-packages/deepchem/utils/hash_utils.py to hash_utils.cpython-37.pyc\n",
            "byte-compiling /usr/local/lib/python3.7/site-packages/deepchem/utils/coordinate_box_utils.py to coordinate_box_utils.cpython-37.pyc\n",
            "byte-compiling /usr/local/lib/python3.7/site-packages/deepchem/utils/rdkit_util.py to rdkit_util.cpython-37.pyc\n",
            "byte-compiling /usr/local/lib/python3.7/site-packages/deepchem/utils/__init__.py to __init__.cpython-37.pyc\n",
            "byte-compiling /usr/local/lib/python3.7/site-packages/deepchem/utils/conformers.py to conformers.cpython-37.pyc\n",
            "byte-compiling /usr/local/lib/python3.7/site-packages/deepchem/utils/save.py to save.cpython-37.pyc\n",
            "byte-compiling /usr/local/lib/python3.7/site-packages/deepchem/splits/tests/test_splitter.py to test_splitter.cpython-37.pyc\n",
            "byte-compiling /usr/local/lib/python3.7/site-packages/deepchem/splits/tests/__init__.py to __init__.cpython-37.pyc\n",
            "byte-compiling /usr/local/lib/python3.7/site-packages/deepchem/splits/tests/test_task_splitter.py to test_task_splitter.cpython-37.pyc\n",
            "byte-compiling /usr/local/lib/python3.7/site-packages/deepchem/splits/test_specified_index_splitter.py to test_specified_index_splitter.cpython-37.pyc\n",
            "byte-compiling /usr/local/lib/python3.7/site-packages/deepchem/splits/__init__.py to __init__.cpython-37.pyc\n",
            "byte-compiling /usr/local/lib/python3.7/site-packages/deepchem/splits/test_scaffold_splitter.py to test_scaffold_splitter.cpython-37.pyc\n",
            "byte-compiling /usr/local/lib/python3.7/site-packages/deepchem/splits/splitters.py to splitters.cpython-37.pyc\n",
            "byte-compiling /usr/local/lib/python3.7/site-packages/deepchem/splits/task_splitter.py to task_splitter.cpython-37.pyc\n",
            "byte-compiling /usr/local/lib/python3.7/site-packages/deepchem/__init__.py to __init__.cpython-37.pyc\n",
            "byte-compiling /usr/local/lib/python3.7/site-packages/deepchem/models/chemnet_layers.py to chemnet_layers.cpython-37.pyc\n",
            "byte-compiling /usr/local/lib/python3.7/site-packages/deepchem/models/models.py to models.cpython-37.pyc\n",
            "byte-compiling /usr/local/lib/python3.7/site-packages/deepchem/models/layers.py to layers.cpython-37.pyc\n",
            "byte-compiling /usr/local/lib/python3.7/site-packages/deepchem/models/tests/test_generalize.py to test_generalize.cpython-37.pyc\n",
            "byte-compiling /usr/local/lib/python3.7/site-packages/deepchem/models/tests/test_layers.py to test_layers.cpython-37.pyc\n",
            "byte-compiling /usr/local/lib/python3.7/site-packages/deepchem/models/tests/test_scscore.py to test_scscore.cpython-37.pyc\n",
            "byte-compiling /usr/local/lib/python3.7/site-packages/deepchem/models/tests/test_predict.py to test_predict.cpython-37.pyc\n",
            "byte-compiling /usr/local/lib/python3.7/site-packages/deepchem/models/tests/test_multitask.py to test_multitask.cpython-37.pyc\n",
            "byte-compiling /usr/local/lib/python3.7/site-packages/deepchem/models/tests/test_api.py to test_api.cpython-37.pyc\n",
            "byte-compiling /usr/local/lib/python3.7/site-packages/deepchem/models/tests/test_singletask_to_multitask.py to test_singletask_to_multitask.cpython-37.pyc\n",
            "byte-compiling /usr/local/lib/python3.7/site-packages/deepchem/models/tests/test_chemnet_models.py to test_chemnet_models.cpython-37.pyc\n",
            "byte-compiling /usr/local/lib/python3.7/site-packages/deepchem/models/tests/test_graph_models.py to test_graph_models.cpython-37.pyc\n",
            "byte-compiling /usr/local/lib/python3.7/site-packages/deepchem/models/tests/test_cnn.py to test_cnn.cpython-37.pyc\n",
            "byte-compiling /usr/local/lib/python3.7/site-packages/deepchem/models/tests/test_overfit.py to test_overfit.cpython-37.pyc\n",
            "byte-compiling /usr/local/lib/python3.7/site-packages/deepchem/models/tests/test_reload.py to test_reload.cpython-37.pyc\n",
            "byte-compiling /usr/local/lib/python3.7/site-packages/deepchem/models/tests/test_kerasmodel.py to test_kerasmodel.cpython-37.pyc\n",
            "byte-compiling /usr/local/lib/python3.7/site-packages/deepchem/models/tests/__init__.py to __init__.cpython-37.pyc\n",
            "byte-compiling /usr/local/lib/python3.7/site-packages/deepchem/models/tests/test_callbacks.py to test_callbacks.cpython-37.pyc\n",
            "byte-compiling /usr/local/lib/python3.7/site-packages/deepchem/models/tests/test_pretrained.py to test_pretrained.cpython-37.pyc\n",
            "byte-compiling /usr/local/lib/python3.7/site-packages/deepchem/models/tests/test_textcnnmodel.py to test_textcnnmodel.cpython-37.pyc\n",
            "byte-compiling /usr/local/lib/python3.7/site-packages/deepchem/models/tests/test_atomic_conv.py to test_atomic_conv.cpython-37.pyc\n",
            "byte-compiling /usr/local/lib/python3.7/site-packages/deepchem/models/tests/test_seqtoseq.py to test_seqtoseq.cpython-37.pyc\n",
            "byte-compiling /usr/local/lib/python3.7/site-packages/deepchem/models/tests/test_layers_from_config.py to test_layers_from_config.cpython-37.pyc\n",
            "byte-compiling /usr/local/lib/python3.7/site-packages/deepchem/models/tests/test_optimizers.py to test_optimizers.cpython-37.pyc\n",
            "byte-compiling /usr/local/lib/python3.7/site-packages/deepchem/models/tests/test_gan.py to test_gan.cpython-37.pyc\n",
            "byte-compiling /usr/local/lib/python3.7/site-packages/deepchem/models/graph_models.py to graph_models.cpython-37.pyc\n",
            "byte-compiling /usr/local/lib/python3.7/site-packages/deepchem/models/robust_multitask.py to robust_multitask.cpython-37.pyc\n",
            "byte-compiling /usr/local/lib/python3.7/site-packages/deepchem/models/text_cnn.py to text_cnn.cpython-37.pyc\n",
            "byte-compiling /usr/local/lib/python3.7/site-packages/deepchem/models/optimizers.py to optimizers.cpython-37.pyc\n",
            "byte-compiling /usr/local/lib/python3.7/site-packages/deepchem/models/sklearn_models/__init__.py to __init__.cpython-37.pyc\n",
            "byte-compiling /usr/local/lib/python3.7/site-packages/deepchem/models/xgboost_models/__init__.py to __init__.cpython-37.pyc\n",
            "byte-compiling /usr/local/lib/python3.7/site-packages/deepchem/models/atomic_conv.py to atomic_conv.cpython-37.pyc\n",
            "byte-compiling /usr/local/lib/python3.7/site-packages/deepchem/models/cnn.py to cnn.cpython-37.pyc\n",
            "byte-compiling /usr/local/lib/python3.7/site-packages/deepchem/models/gan.py to gan.cpython-37.pyc\n",
            "byte-compiling /usr/local/lib/python3.7/site-packages/deepchem/models/__init__.py to __init__.cpython-37.pyc\n",
            "byte-compiling /usr/local/lib/python3.7/site-packages/deepchem/models/keras_model.py to keras_model.cpython-37.pyc\n",
            "byte-compiling /usr/local/lib/python3.7/site-packages/deepchem/models/losses.py to losses.cpython-37.pyc\n",
            "byte-compiling /usr/local/lib/python3.7/site-packages/deepchem/models/multitask.py to multitask.cpython-37.pyc\n",
            "byte-compiling /usr/local/lib/python3.7/site-packages/deepchem/models/scscore.py to scscore.cpython-37.pyc\n",
            "byte-compiling /usr/local/lib/python3.7/site-packages/deepchem/models/chemnet_models.py to chemnet_models.cpython-37.pyc\n",
            "byte-compiling /usr/local/lib/python3.7/site-packages/deepchem/models/fcnet.py to fcnet.cpython-37.pyc\n",
            "byte-compiling /usr/local/lib/python3.7/site-packages/deepchem/models/progressive_multitask.py to progressive_multitask.cpython-37.pyc\n",
            "byte-compiling /usr/local/lib/python3.7/site-packages/deepchem/models/IRV.py to IRV.cpython-37.pyc\n",
            "byte-compiling /usr/local/lib/python3.7/site-packages/deepchem/models/callbacks.py to callbacks.cpython-37.pyc\n",
            "byte-compiling /usr/local/lib/python3.7/site-packages/deepchem/models/seqtoseq.py to seqtoseq.cpython-37.pyc\n",
            "byte-compiling /usr/local/lib/python3.7/site-packages/deepchem/data/tests/test_image_dataset.py to test_image_dataset.cpython-37.pyc\n",
            "byte-compiling /usr/local/lib/python3.7/site-packages/deepchem/data/tests/test_load.py to test_load.cpython-37.pyc\n",
            "byte-compiling /usr/local/lib/python3.7/site-packages/deepchem/data/tests/test_drop.py to test_drop.cpython-37.pyc\n",
            "byte-compiling /usr/local/lib/python3.7/site-packages/deepchem/data/tests/test_reload.py to test_reload.cpython-37.pyc\n",
            "byte-compiling /usr/local/lib/python3.7/site-packages/deepchem/data/tests/__init__.py to __init__.cpython-37.pyc\n",
            "byte-compiling /usr/local/lib/python3.7/site-packages/deepchem/data/tests/test_merge.py to test_merge.cpython-37.pyc\n",
            "byte-compiling /usr/local/lib/python3.7/site-packages/deepchem/data/tests/test_fasta_loader.py to test_fasta_loader.cpython-37.pyc\n",
            "byte-compiling /usr/local/lib/python3.7/site-packages/deepchem/data/tests/test_csv_loader.py to test_csv_loader.cpython-37.pyc\n",
            "byte-compiling /usr/local/lib/python3.7/site-packages/deepchem/data/tests/test_support_generator.py to test_support_generator.cpython-37.pyc\n",
            "byte-compiling /usr/local/lib/python3.7/site-packages/deepchem/data/tests/test_datasets.py to test_datasets.cpython-37.pyc\n",
            "byte-compiling /usr/local/lib/python3.7/site-packages/deepchem/data/tests/test_shuffle.py to test_shuffle.cpython-37.pyc\n",
            "byte-compiling /usr/local/lib/python3.7/site-packages/deepchem/data/tests/test_data_loader.py to test_data_loader.cpython-37.pyc\n",
            "byte-compiling /usr/local/lib/python3.7/site-packages/deepchem/data/tests/test_image_loader.py to test_image_loader.cpython-37.pyc\n",
            "byte-compiling /usr/local/lib/python3.7/site-packages/deepchem/data/supports.py to supports.cpython-37.pyc\n",
            "byte-compiling /usr/local/lib/python3.7/site-packages/deepchem/data/__init__.py to __init__.cpython-37.pyc\n",
            "byte-compiling /usr/local/lib/python3.7/site-packages/deepchem/data/datasets.py to datasets.cpython-37.pyc\n",
            "byte-compiling /usr/local/lib/python3.7/site-packages/deepchem/data/data_loader.py to data_loader.cpython-37.pyc\n",
            "byte-compiling /usr/local/lib/python3.7/site-packages/deepchem/metalearning/tests/test_maml.py to test_maml.cpython-37.pyc\n",
            "byte-compiling /usr/local/lib/python3.7/site-packages/deepchem/metalearning/__init__.py to __init__.cpython-37.pyc\n",
            "byte-compiling /usr/local/lib/python3.7/site-packages/deepchem/metalearning/maml.py to maml.cpython-37.pyc\n",
            "byte-compiling /usr/local/lib/python3.7/site-packages/deepchem/rl/tests/test_ppo.py to test_ppo.cpython-37.pyc\n",
            "byte-compiling /usr/local/lib/python3.7/site-packages/deepchem/rl/tests/test_a2c.py to test_a2c.cpython-37.pyc\n",
            "byte-compiling /usr/local/lib/python3.7/site-packages/deepchem/rl/ppo.py to ppo.cpython-37.pyc\n",
            "byte-compiling /usr/local/lib/python3.7/site-packages/deepchem/rl/__init__.py to __init__.cpython-37.pyc\n",
            "byte-compiling /usr/local/lib/python3.7/site-packages/deepchem/rl/envs/test_tictactoe.py to test_tictactoe.cpython-37.pyc\n",
            "byte-compiling /usr/local/lib/python3.7/site-packages/deepchem/rl/envs/__init__.py to __init__.cpython-37.pyc\n",
            "byte-compiling /usr/local/lib/python3.7/site-packages/deepchem/rl/envs/tictactoe.py to tictactoe.cpython-37.pyc\n",
            "byte-compiling /usr/local/lib/python3.7/site-packages/deepchem/rl/a2c.py to a2c.cpython-37.pyc\n",
            "running install_egg_info\n",
            "Copying deepchem.egg-info to /usr/local/lib/python3.7/site-packages/deepchem-2.3.1.dev298-py3.7.egg-info\n",
            "running install_scripts\n",
            "/content/deepchem/.eggs/pbr-5.4.5-py3.7.egg/pbr/packaging.py:436: EasyInstallDeprecationWarning: Use get_header\n",
            "  header = easy_install.get_script_header(\"\", executable, is_wininst)\n"
          ],
          "name": "stdout"
        }
      ]
    },
    {
      "cell_type": "code",
      "metadata": {
        "id": "1mPxN3yLFAWR",
        "colab_type": "code",
        "colab": {}
      },
      "source": [
        "import os\n",
        "import sys\n",
        "import deepchem as dc\n",
        "from deepchem.utils.save import load_from_disk\n",
        "from deepchem.models import GraphConvModel "
      ],
      "execution_count": 0,
      "outputs": []
    },
    {
      "cell_type": "code",
      "metadata": {
        "id": "dz2X8DfvFAWZ",
        "colab_type": "code",
        "colab": {}
      },
      "source": [
        "import pandas as pd"
      ],
      "execution_count": 0,
      "outputs": []
    },
    {
      "cell_type": "code",
      "metadata": {
        "id": "uq407EOaFAWc",
        "colab_type": "code",
        "outputId": "fd9e7680-7f50-4e79-93bd-6a76f6e968f4",
        "colab": {
          "base_uri": "https://localhost:8080/",
          "height": 34
        }
      },
      "source": [
        "print(pd)"
      ],
      "execution_count": 8,
      "outputs": [
        {
          "output_type": "stream",
          "text": [
            "<module 'pandas' from '/usr/local/lib/python3.6/dist-packages/pandas/__init__.py'>\n"
          ],
          "name": "stdout"
        }
      ]
    },
    {
      "cell_type": "code",
      "metadata": {
        "id": "dqn0ewhoFAWg",
        "colab_type": "code",
        "colab": {}
      },
      "source": [
        "from rdkit import Chem"
      ],
      "execution_count": 0,
      "outputs": []
    },
    {
      "cell_type": "code",
      "metadata": {
        "id": "pAXFZITNFAWi",
        "colab_type": "code",
        "colab": {}
      },
      "source": [
        "from rdkit.Chem import Draw"
      ],
      "execution_count": 0,
      "outputs": []
    },
    {
      "cell_type": "code",
      "metadata": {
        "id": "jHQqCl4yFAWl",
        "colab_type": "code",
        "colab": {}
      },
      "source": [
        "from rdkit.Chem import PandasTools"
      ],
      "execution_count": 0,
      "outputs": []
    },
    {
      "cell_type": "code",
      "metadata": {
        "id": "J6R04W28FAWq",
        "colab_type": "code",
        "colab": {}
      },
      "source": [
        "from rdkit.Chem import Descriptors"
      ],
      "execution_count": 0,
      "outputs": []
    },
    {
      "cell_type": "code",
      "metadata": {
        "id": "LZdELNhjFAWs",
        "colab_type": "code",
        "colab": {}
      },
      "source": [
        "from rdkit.Chem import rdmolops"
      ],
      "execution_count": 0,
      "outputs": []
    },
    {
      "cell_type": "code",
      "metadata": {
        "id": "dcfJWUizFAWv",
        "colab_type": "code",
        "outputId": "47e85aa0-1059-478d-9a83-14260bec4673",
        "colab": {
          "base_uri": "https://localhost:8080/",
          "height": 71
        }
      },
      "source": [
        "import seaborn as sns"
      ],
      "execution_count": 14,
      "outputs": [
        {
          "output_type": "stream",
          "text": [
            "/usr/local/lib/python3.6/dist-packages/statsmodels/tools/_testing.py:19: FutureWarning: pandas.util.testing is deprecated. Use the functions in the public API at pandas.testing instead.\n",
            "  import pandas.util.testing as tm\n"
          ],
          "name": "stderr"
        }
      ]
    },
    {
      "cell_type": "code",
      "metadata": {
        "id": "Drx3uzGAFAW0",
        "colab_type": "code",
        "colab": {}
      },
      "source": [
        "data = pd.DataFrame()"
      ],
      "execution_count": 0,
      "outputs": []
    },
    {
      "cell_type": "code",
      "metadata": {
        "id": "w9zsZ_Y1FAW2",
        "colab_type": "code",
        "outputId": "b2cc8a61-6076-4d1a-ae42-ec0ec0604ce4",
        "colab": {
          "base_uri": "https://localhost:8080/",
          "height": 34
        }
      },
      "source": [
        "pd.__version__"
      ],
      "execution_count": 16,
      "outputs": [
        {
          "output_type": "execute_result",
          "data": {
            "text/plain": [
              "'1.0.4'"
            ]
          },
          "metadata": {
            "tags": []
          },
          "execution_count": 16
        }
      ]
    },
    {
      "cell_type": "code",
      "metadata": {
        "id": "tjpaVXBSFAW5",
        "colab_type": "code",
        "colab": {}
      },
      "source": [
        "current_dir = os.path.dirname(os.path.realpath(\"__file__\"))\n",
        "dc.utils.download_url(\"https://hermes.chem.ut.ee/~alfx/ML/train_smi.csv\",\n",
        "                      current_dir)"
      ],
      "execution_count": 0,
      "outputs": []
    },
    {
      "cell_type": "code",
      "metadata": {
        "id": "VyRzKK2oFAW7",
        "colab_type": "code",
        "colab": {}
      },
      "source": [
        "df = pd.read_csv(\"train_smi.csv\",sep=\" \")"
      ],
      "execution_count": 0,
      "outputs": []
    },
    {
      "cell_type": "code",
      "metadata": {
        "id": "mX0cVjrsFAW-",
        "colab_type": "code",
        "colab": {}
      },
      "source": [
        ""
      ],
      "execution_count": 0,
      "outputs": []
    },
    {
      "cell_type": "code",
      "metadata": {
        "id": "uzTyszhLFAXA",
        "colab_type": "code",
        "colab": {}
      },
      "source": [
        "df_rows, df_cols = df.shape"
      ],
      "execution_count": 0,
      "outputs": []
    },
    {
      "cell_type": "code",
      "metadata": {
        "id": "2EpFHu-tFAXC",
        "colab_type": "code",
        "outputId": "892f73da-ec02-403f-d73b-5bcb8bf61359",
        "colab": {
          "base_uri": "https://localhost:8080/",
          "height": 419
        }
      },
      "source": [
        "df"
      ],
      "execution_count": 20,
      "outputs": [
        {
          "output_type": "execute_result",
          "data": {
            "text/html": [
              "<div>\n",
              "<style scoped>\n",
              "    .dataframe tbody tr th:only-of-type {\n",
              "        vertical-align: middle;\n",
              "    }\n",
              "\n",
              "    .dataframe tbody tr th {\n",
              "        vertical-align: top;\n",
              "    }\n",
              "\n",
              "    .dataframe thead th {\n",
              "        text-align: right;\n",
              "    }\n",
              "</style>\n",
              "<table border=\"1\" class=\"dataframe\">\n",
              "  <thead>\n",
              "    <tr style=\"text-align: right;\">\n",
              "      <th></th>\n",
              "      <th>bindingClass</th>\n",
              "      <th>casrn</th>\n",
              "      <th>SMILES</th>\n",
              "      <th>Unnamed: 3</th>\n",
              "    </tr>\n",
              "  </thead>\n",
              "  <tbody>\n",
              "    <tr>\n",
              "      <th>0</th>\n",
              "      <td>0</td>\n",
              "      <td>1918-02-1</td>\n",
              "      <td>Nc1c(Cl)c([n]c(Cl)c1Cl)C(O)=O</td>\n",
              "      <td>NaN</td>\n",
              "    </tr>\n",
              "    <tr>\n",
              "      <th>1</th>\n",
              "      <td>1</td>\n",
              "      <td>50-27-1</td>\n",
              "      <td>C[C@]12CC[C@H]3[C@@H](CCc4cc(O)ccc43)[C@@H]1C[...</td>\n",
              "      <td>NaN</td>\n",
              "    </tr>\n",
              "    <tr>\n",
              "      <th>2</th>\n",
              "      <td>1</td>\n",
              "      <td>500-38-9</td>\n",
              "      <td>CC(Cc1cc(O)c(O)cc1)C(C)Cc1cc(O)c(O)cc1</td>\n",
              "      <td>NaN</td>\n",
              "    </tr>\n",
              "    <tr>\n",
              "      <th>3</th>\n",
              "      <td>1</td>\n",
              "      <td>521-18-6</td>\n",
              "      <td>C[C@]12CC[C@H]3[C@@H](CC[C@H]4CC(=O)CC[C@@]43C...</td>\n",
              "      <td>NaN</td>\n",
              "    </tr>\n",
              "    <tr>\n",
              "      <th>4</th>\n",
              "      <td>1</td>\n",
              "      <td>DB06710</td>\n",
              "      <td>CC12CCC3C(CCC4=CC(=O)CCC43C)C1CCC2(C)O</td>\n",
              "      <td>NaN</td>\n",
              "    </tr>\n",
              "    <tr>\n",
              "      <th>...</th>\n",
              "      <td>...</td>\n",
              "      <td>...</td>\n",
              "      <td>...</td>\n",
              "      <td>...</td>\n",
              "    </tr>\n",
              "    <tr>\n",
              "      <th>1666</th>\n",
              "      <td>0</td>\n",
              "      <td>NOCAS_48509</td>\n",
              "      <td>CCCN(C1CCN(CC1)C(=O)C1CCNCC1)[C@H]1Cc2cc(ccc2C...</td>\n",
              "      <td>NaN</td>\n",
              "    </tr>\n",
              "    <tr>\n",
              "      <th>1667</th>\n",
              "      <td>0</td>\n",
              "      <td>NOCAS_48514</td>\n",
              "      <td>Cc1ccc(c(Cl)c1)C(=O)NS(=O)(=O)/C=C/c1ccc(cc1)OC</td>\n",
              "      <td>NaN</td>\n",
              "    </tr>\n",
              "    <tr>\n",
              "      <th>1668</th>\n",
              "      <td>0</td>\n",
              "      <td>NOCAS_48516</td>\n",
              "      <td>O=C(NS(=O)(=O)/C=C/c1ccccc1)c1ccc(F)cc1Cl</td>\n",
              "      <td>NaN</td>\n",
              "    </tr>\n",
              "    <tr>\n",
              "      <th>1669</th>\n",
              "      <td>0</td>\n",
              "      <td>NOCAS_48518</td>\n",
              "      <td>O=C(NS(=O)(=O)/C=C/c1ccc[s]1)c1ccc(F)cc1Br</td>\n",
              "      <td>NaN</td>\n",
              "    </tr>\n",
              "    <tr>\n",
              "      <th>1670</th>\n",
              "      <td>0</td>\n",
              "      <td>102-71-6</td>\n",
              "      <td>OCCN(CCO)CCO</td>\n",
              "      <td>NaN</td>\n",
              "    </tr>\n",
              "  </tbody>\n",
              "</table>\n",
              "<p>1671 rows × 4 columns</p>\n",
              "</div>"
            ],
            "text/plain": [
              "      bindingClass  ... Unnamed: 3\n",
              "0                0  ...        NaN\n",
              "1                1  ...        NaN\n",
              "2                1  ...        NaN\n",
              "3                1  ...        NaN\n",
              "4                1  ...        NaN\n",
              "...            ...  ...        ...\n",
              "1666             0  ...        NaN\n",
              "1667             0  ...        NaN\n",
              "1668             0  ...        NaN\n",
              "1669             0  ...        NaN\n",
              "1670             0  ...        NaN\n",
              "\n",
              "[1671 rows x 4 columns]"
            ]
          },
          "metadata": {
            "tags": []
          },
          "execution_count": 20
        }
      ]
    },
    {
      "cell_type": "code",
      "metadata": {
        "id": "1aI9KOAlFAXE",
        "colab_type": "code",
        "colab": {}
      },
      "source": [
        "PandasTools.AddMoleculeColumnToFrame(df, \"SMILES\",\"Mol\")"
      ],
      "execution_count": 0,
      "outputs": []
    },
    {
      "cell_type": "code",
      "metadata": {
        "id": "uWO6lvGoJj6a",
        "colab_type": "code",
        "colab": {}
      },
      "source": [
        "current_dir = os.path.dirname(os.path.realpath(\"__file__\"))\n",
        "dc.utils.download_url(\"https://hermes.chem.ut.ee/~alfx/ML/binders_smi.csv\",  current_dir)"
      ],
      "execution_count": 0,
      "outputs": []
    },
    {
      "cell_type": "code",
      "metadata": {
        "id": "Vgs83tUjFAXG",
        "colab_type": "code",
        "colab": {}
      },
      "source": [
        "active_df = pd.read_csv(\"binders_smi.csv\",sep=\" \")"
      ],
      "execution_count": 0,
      "outputs": []
    },
    {
      "cell_type": "code",
      "metadata": {
        "id": "4qxo-E_1FAXI",
        "colab_type": "code",
        "colab": {}
      },
      "source": [
        ""
      ],
      "execution_count": 0,
      "outputs": []
    },
    {
      "cell_type": "code",
      "metadata": {
        "id": "KKivx9KTFAXK",
        "colab_type": "code",
        "colab": {}
      },
      "source": [
        "active_df_rows, active_df_cols = active_df.shape"
      ],
      "execution_count": 0,
      "outputs": []
    },
    {
      "cell_type": "code",
      "metadata": {
        "id": "0l-46hWUFAXO",
        "colab_type": "code",
        "outputId": "ee51a6a8-0259-450e-d27e-ef2ace81317c",
        "colab": {
          "base_uri": "https://localhost:8080/",
          "height": 419
        }
      },
      "source": [
        "active_df"
      ],
      "execution_count": 25,
      "outputs": [
        {
          "output_type": "execute_result",
          "data": {
            "text/html": [
              "<div>\n",
              "<style scoped>\n",
              "    .dataframe tbody tr th:only-of-type {\n",
              "        vertical-align: middle;\n",
              "    }\n",
              "\n",
              "    .dataframe tbody tr th {\n",
              "        vertical-align: top;\n",
              "    }\n",
              "\n",
              "    .dataframe thead th {\n",
              "        text-align: right;\n",
              "    }\n",
              "</style>\n",
              "<table border=\"1\" class=\"dataframe\">\n",
              "  <thead>\n",
              "    <tr style=\"text-align: right;\">\n",
              "      <th></th>\n",
              "      <th>bindingClass</th>\n",
              "      <th>casrn</th>\n",
              "      <th>SMILES</th>\n",
              "    </tr>\n",
              "  </thead>\n",
              "  <tbody>\n",
              "    <tr>\n",
              "      <th>0</th>\n",
              "      <td>1</td>\n",
              "      <td>50-27-1</td>\n",
              "      <td>C[C@]12CC[C@H]3[C@@H](CCc4cc(O)ccc43)[C@@H]1C[...</td>\n",
              "    </tr>\n",
              "    <tr>\n",
              "      <th>1</th>\n",
              "      <td>1</td>\n",
              "      <td>500-38-9</td>\n",
              "      <td>CC(Cc1cc(O)c(O)cc1)C(C)Cc1cc(O)c(O)cc1</td>\n",
              "    </tr>\n",
              "    <tr>\n",
              "      <th>2</th>\n",
              "      <td>1</td>\n",
              "      <td>521-18-6</td>\n",
              "      <td>C[C@]12CC[C@H]3[C@@H](CC[C@H]4CC(=O)CC[C@@]43C...</td>\n",
              "    </tr>\n",
              "    <tr>\n",
              "      <th>3</th>\n",
              "      <td>1</td>\n",
              "      <td>DB06710</td>\n",
              "      <td>CC12CCC3C(CCC4=CC(=O)CCC43C)C1CCC2(C)O</td>\n",
              "    </tr>\n",
              "    <tr>\n",
              "      <th>4</th>\n",
              "      <td>1</td>\n",
              "      <td>50-28-2</td>\n",
              "      <td>C[C@]12CC[C@H]3[C@@H](CCc4cc(O)ccc43)[C@@H]1CC...</td>\n",
              "    </tr>\n",
              "    <tr>\n",
              "      <th>...</th>\n",
              "      <td>...</td>\n",
              "      <td>...</td>\n",
              "      <td>...</td>\n",
              "    </tr>\n",
              "    <tr>\n",
              "      <th>200</th>\n",
              "      <td>1</td>\n",
              "      <td>NOCAS_47353</td>\n",
              "      <td>CN(C)C(=O)C1(CCN(CCC2(CN(CCO2)C(=O)c2ccccc2)c2...</td>\n",
              "    </tr>\n",
              "    <tr>\n",
              "      <th>201</th>\n",
              "      <td>1</td>\n",
              "      <td>NOCAS_47377</td>\n",
              "      <td>CC(C)N1CCC(CC1)NC(=O)c1cc2cc(ccc2[n]1Cc1cc(o[n...</td>\n",
              "    </tr>\n",
              "    <tr>\n",
              "      <th>202</th>\n",
              "      <td>1</td>\n",
              "      <td>NOCAS_47379</td>\n",
              "      <td>CCN(Cc1c[n]ccc1)C(=O)c1cccc(Cl)c1[C@]1(C)C(=O)...</td>\n",
              "    </tr>\n",
              "    <tr>\n",
              "      <th>203</th>\n",
              "      <td>1</td>\n",
              "      <td>NOCAS_47389</td>\n",
              "      <td>CCOC(=O)c1ccc(cc1)[C@@H]1CC[C@H](CC1)NC[C@H](O...</td>\n",
              "    </tr>\n",
              "    <tr>\n",
              "      <th>204</th>\n",
              "      <td>1</td>\n",
              "      <td>NOCAS_48505</td>\n",
              "      <td>Cc1[nH][n]c2Nc3ccc(cc3C(=Nc21)c1ccccc1Cl)[N+](...</td>\n",
              "    </tr>\n",
              "  </tbody>\n",
              "</table>\n",
              "<p>205 rows × 3 columns</p>\n",
              "</div>"
            ],
            "text/plain": [
              "     bindingClass  ...                                             SMILES\n",
              "0               1  ...  C[C@]12CC[C@H]3[C@@H](CCc4cc(O)ccc43)[C@@H]1C[...\n",
              "1               1  ...             CC(Cc1cc(O)c(O)cc1)C(C)Cc1cc(O)c(O)cc1\n",
              "2               1  ...  C[C@]12CC[C@H]3[C@@H](CC[C@H]4CC(=O)CC[C@@]43C...\n",
              "3               1  ...             CC12CCC3C(CCC4=CC(=O)CCC43C)C1CCC2(C)O\n",
              "4               1  ...  C[C@]12CC[C@H]3[C@@H](CCc4cc(O)ccc43)[C@@H]1CC...\n",
              "..            ...  ...                                                ...\n",
              "200             1  ...  CN(C)C(=O)C1(CCN(CCC2(CN(CCO2)C(=O)c2ccccc2)c2...\n",
              "201             1  ...  CC(C)N1CCC(CC1)NC(=O)c1cc2cc(ccc2[n]1Cc1cc(o[n...\n",
              "202             1  ...  CCN(Cc1c[n]ccc1)C(=O)c1cccc(Cl)c1[C@]1(C)C(=O)...\n",
              "203             1  ...  CCOC(=O)c1ccc(cc1)[C@@H]1CC[C@H](CC1)NC[C@H](O...\n",
              "204             1  ...  Cc1[nH][n]c2Nc3ccc(cc3C(=Nc21)c1ccccc1Cl)[N+](...\n",
              "\n",
              "[205 rows x 3 columns]"
            ]
          },
          "metadata": {
            "tags": []
          },
          "execution_count": 25
        }
      ]
    },
    {
      "cell_type": "code",
      "metadata": {
        "id": "9p3toUgfFAXQ",
        "colab_type": "code",
        "colab": {}
      },
      "source": [
        ""
      ],
      "execution_count": 0,
      "outputs": []
    },
    {
      "cell_type": "code",
      "metadata": {
        "id": "3kL8GZzJFAXU",
        "colab_type": "code",
        "colab": {}
      },
      "source": [
        "PandasTools.AddMoleculeColumnToFrame(active_df,\"SMILES\",\"Mol\")"
      ],
      "execution_count": 0,
      "outputs": []
    },
    {
      "cell_type": "code",
      "metadata": {
        "id": "IQHSCbKiFAXW",
        "colab_type": "code",
        "colab": {}
      },
      "source": [
        ""
      ],
      "execution_count": 0,
      "outputs": []
    },
    {
      "cell_type": "code",
      "metadata": {
        "id": "DIageR1qFAXY",
        "colab_type": "code",
        "colab": {}
      },
      "source": [
        "#df.columns = [\"SMILES\",\"s_m_title\",\"bindingClass\",\"Mol\"]"
      ],
      "execution_count": 0,
      "outputs": []
    },
    {
      "cell_type": "code",
      "metadata": {
        "id": "UidV8Q1dFAXa",
        "colab_type": "code",
        "outputId": "e1f55274-d34f-4124-8009-fbfe4602ff86",
        "colab": {
          "base_uri": "https://localhost:8080/",
          "height": 34
        }
      },
      "source": [
        "print([str(x) for x in active_df.columns])"
      ],
      "execution_count": 28,
      "outputs": [
        {
          "output_type": "stream",
          "text": [
            "['bindingClass', 'casrn', 'SMILES', 'Mol']\n"
          ],
          "name": "stdout"
        }
      ]
    },
    {
      "cell_type": "code",
      "metadata": {
        "id": "Rr-H-e6yJ1kZ",
        "colab_type": "code",
        "colab": {}
      },
      "source": [
        "current_dir = os.path.dirname(os.path.realpath(\"__file__\"))\n",
        "dc.utils.download_url(\"https://hermes.chem.ut.ee/~alfx/ML/nonbinders_smi.csv\",  current_dir)"
      ],
      "execution_count": 0,
      "outputs": []
    },
    {
      "cell_type": "code",
      "metadata": {
        "id": "u1gaZY_dFAXc",
        "colab_type": "code",
        "colab": {}
      },
      "source": [
        "inactive_df = pd.read_csv(\"nonbinders_smi.csv\",sep=\" \")"
      ],
      "execution_count": 0,
      "outputs": []
    },
    {
      "cell_type": "code",
      "metadata": {
        "id": "GCvZyUkHJ0rw",
        "colab_type": "code",
        "colab": {}
      },
      "source": [
        ""
      ],
      "execution_count": 0,
      "outputs": []
    },
    {
      "cell_type": "code",
      "metadata": {
        "id": "qjWUNMeTFAXe",
        "colab_type": "code",
        "colab": {}
      },
      "source": [
        "tmp_df = active_df.append(inactive_df)"
      ],
      "execution_count": 0,
      "outputs": []
    },
    {
      "cell_type": "code",
      "metadata": {
        "id": "S8ZB50XdFAXg",
        "colab_type": "code",
        "colab": {}
      },
      "source": [
        "active_df[\"label\"] = [\"Binders\"]*active_df_rows"
      ],
      "execution_count": 0,
      "outputs": []
    },
    {
      "cell_type": "code",
      "metadata": {
        "id": "4LVaI2BVFAXi",
        "colab_type": "code",
        "colab": {}
      },
      "source": [
        "PandasTools.AddMoleculeColumnToFrame(inactive_df,\"SMILES\",\"Mol\")"
      ],
      "execution_count": 0,
      "outputs": []
    },
    {
      "cell_type": "code",
      "metadata": {
        "id": "LG8Zt8DJFAXk",
        "colab_type": "code",
        "colab": {}
      },
      "source": [
        ""
      ],
      "execution_count": 0,
      "outputs": []
    },
    {
      "cell_type": "code",
      "metadata": {
        "id": "HarJ_yE1FAXm",
        "colab_type": "code",
        "colab": {}
      },
      "source": [
        "inactive_df_rows, inactive_df_cols = inactive_df.shape"
      ],
      "execution_count": 0,
      "outputs": []
    },
    {
      "cell_type": "code",
      "metadata": {
        "id": "27h5h-srFAXo",
        "colab_type": "code",
        "colab": {}
      },
      "source": [
        ""
      ],
      "execution_count": 0,
      "outputs": []
    },
    {
      "cell_type": "code",
      "metadata": {
        "id": "MzJX9AW9FAXq",
        "colab_type": "code",
        "colab": {}
      },
      "source": [
        "inactive_df[\"label\"] = [\"Nonbinders\"]*inactive_df_rows"
      ],
      "execution_count": 0,
      "outputs": []
    },
    {
      "cell_type": "code",
      "metadata": {
        "id": "AVyKgJfYFAXu",
        "colab_type": "code",
        "colab": {}
      },
      "source": [
        "tmp_df = active_df.append(inactive_df)"
      ],
      "execution_count": 0,
      "outputs": []
    },
    {
      "cell_type": "code",
      "metadata": {
        "id": "J-MQ45BzFAXw",
        "colab_type": "code",
        "colab": {}
      },
      "source": [
        ""
      ],
      "execution_count": 0,
      "outputs": []
    },
    {
      "cell_type": "code",
      "metadata": {
        "id": "Pf5LJtqAFAXz",
        "colab_type": "code",
        "colab": {}
      },
      "source": [
        "###fig = sns.violinplot(tmp_df[\"label\"], tmp_df[\"ChimpDockScore\"])"
      ],
      "execution_count": 0,
      "outputs": []
    },
    {
      "cell_type": "code",
      "metadata": {
        "id": "3uA4vxz1FAX3",
        "colab_type": "code",
        "colab": {}
      },
      "source": [
        "###fig_chimpdockscore = fig.get_figure()"
      ],
      "execution_count": 0,
      "outputs": []
    },
    {
      "cell_type": "code",
      "metadata": {
        "id": "dVEh4PPLFAX5",
        "colab_type": "code",
        "colab": {}
      },
      "source": [
        "###fig_chimpdockscore.savefig('fig_chimpdockscore.png',dpi=600)"
      ],
      "execution_count": 0,
      "outputs": []
    },
    {
      "cell_type": "code",
      "metadata": {
        "id": "fmMI0CwXFAX8",
        "colab_type": "code",
        "colab": {}
      },
      "source": [
        "###fig2 = sns.violinplot(tmp_df[\"label\"], tmp_df[\"avgD_Act\"])"
      ],
      "execution_count": 0,
      "outputs": []
    },
    {
      "cell_type": "code",
      "metadata": {
        "id": "SehHkG3hFAX_",
        "colab_type": "code",
        "colab": {}
      },
      "source": [
        "###fig_avgD_Act = fig2.get_figure()"
      ],
      "execution_count": 0,
      "outputs": []
    },
    {
      "cell_type": "code",
      "metadata": {
        "id": "Nvw5FTApFAYB",
        "colab_type": "code",
        "colab": {}
      },
      "source": [
        "###fig_avgD_Act.savefig('fig_avgD_Act.png',dpi=600)"
      ],
      "execution_count": 0,
      "outputs": []
    },
    {
      "cell_type": "code",
      "metadata": {
        "id": "Stxw--ZkFAYD",
        "colab_type": "code",
        "colab": {}
      },
      "source": [
        ""
      ],
      "execution_count": 0,
      "outputs": []
    },
    {
      "cell_type": "code",
      "metadata": {
        "id": "BgjfDulAFAYE",
        "colab_type": "code",
        "colab": {}
      },
      "source": [
        "###fig3 = sns.violinplot(tmp_df[\"label\"], tmp_df[\"avgD_Inact\"])"
      ],
      "execution_count": 0,
      "outputs": []
    },
    {
      "cell_type": "code",
      "metadata": {
        "id": "x2et5QcrFAYG",
        "colab_type": "code",
        "colab": {}
      },
      "source": [
        "###fig_avgD_Inact = fig3.get_figure()"
      ],
      "execution_count": 0,
      "outputs": []
    },
    {
      "cell_type": "code",
      "metadata": {
        "id": "i-raJK76FAYI",
        "colab_type": "code",
        "colab": {}
      },
      "source": [
        "###fig_avgD_Inact.savefig('fig_avgD_Inact.png',dpi=600)"
      ],
      "execution_count": 0,
      "outputs": []
    },
    {
      "cell_type": "code",
      "metadata": {
        "id": "W70JGlFgFAYL",
        "colab_type": "code",
        "colab": {}
      },
      "source": [
        ""
      ],
      "execution_count": 0,
      "outputs": []
    },
    {
      "cell_type": "code",
      "metadata": {
        "id": "8oc1WWe8FAYO",
        "colab_type": "code",
        "colab": {}
      },
      "source": [
        "###fig4 = sns.violinplot(tmp_df[\"label\"], tmp_df[\"P_Act_dockChimp\"])"
      ],
      "execution_count": 0,
      "outputs": []
    },
    {
      "cell_type": "code",
      "metadata": {
        "id": "w3FR9EY7FAYT",
        "colab_type": "code",
        "colab": {}
      },
      "source": [
        "###fig_P_Act_dockChimp = fig4.get_figure()"
      ],
      "execution_count": 0,
      "outputs": []
    },
    {
      "cell_type": "code",
      "metadata": {
        "id": "xr643W9pFAYU",
        "colab_type": "code",
        "colab": {}
      },
      "source": [
        "###fig_P_Act_dockChimp.savefig('fig_P_Act_dockChimp.png',dpi=600)"
      ],
      "execution_count": 0,
      "outputs": []
    },
    {
      "cell_type": "code",
      "metadata": {
        "id": "hsQzg3qiFAYX",
        "colab_type": "code",
        "colab": {}
      },
      "source": [
        ""
      ],
      "execution_count": 0,
      "outputs": []
    },
    {
      "cell_type": "code",
      "metadata": {
        "id": "sNtaJmMJFAYZ",
        "colab_type": "code",
        "colab": {}
      },
      "source": [
        "###fig5 = sns.violinplot(tmp_df[\"label\"], tmp_df[\"P_Inact\"])"
      ],
      "execution_count": 0,
      "outputs": []
    },
    {
      "cell_type": "code",
      "metadata": {
        "id": "4gOLAguVFAYb",
        "colab_type": "code",
        "colab": {}
      },
      "source": [
        "###fig_P_Inact = fig5.get_figure()"
      ],
      "execution_count": 0,
      "outputs": []
    },
    {
      "cell_type": "code",
      "metadata": {
        "id": "hEFOp3aVFAYd",
        "colab_type": "code",
        "colab": {}
      },
      "source": [
        "###fig_P_Inact.savefig('fig_P_Inact.png',dpi=600)"
      ],
      "execution_count": 0,
      "outputs": []
    },
    {
      "cell_type": "code",
      "metadata": {
        "id": "OIlpWLMrFAYf",
        "colab_type": "code",
        "colab": {}
      },
      "source": [
        ""
      ],
      "execution_count": 0,
      "outputs": []
    },
    {
      "cell_type": "code",
      "metadata": {
        "id": "es8wYl4uFAYh",
        "colab_type": "code",
        "colab": {}
      },
      "source": [
        "bal_df = tmp_df"
      ],
      "execution_count": 0,
      "outputs": []
    },
    {
      "cell_type": "code",
      "metadata": {
        "id": "HEsUD3UtFAYi",
        "colab_type": "code",
        "colab": {}
      },
      "source": [
        "g = bal_df.groupby('bindingClass')\n",
        "g = pd.DataFrame(g.apply(lambda x: x.sample(g.size().min()).reset_index(drop=True)))"
      ],
      "execution_count": 0,
      "outputs": []
    },
    {
      "cell_type": "code",
      "metadata": {
        "id": "2e4aeKHZFAYk",
        "colab_type": "code",
        "outputId": "f6e786fd-31aa-4600-99a7-acf333099109",
        "colab": {
          "base_uri": "https://localhost:8080/",
          "height": 1000
        }
      },
      "source": [
        "g"
      ],
      "execution_count": 54,
      "outputs": [
        {
          "output_type": "execute_result",
          "data": {
            "text/html": [
              "<div>\n",
              "<style scoped>\n",
              "    .dataframe tbody tr th:only-of-type {\n",
              "        vertical-align: middle;\n",
              "    }\n",
              "\n",
              "    .dataframe tbody tr th {\n",
              "        vertical-align: top;\n",
              "    }\n",
              "\n",
              "    .dataframe thead th {\n",
              "        text-align: right;\n",
              "    }\n",
              "</style>\n",
              "<table border=\"1\" class=\"dataframe\">\n",
              "  <thead>\n",
              "    <tr style=\"text-align: right;\">\n",
              "      <th></th>\n",
              "      <th></th>\n",
              "      <th>bindingClass</th>\n",
              "      <th>casrn</th>\n",
              "      <th>SMILES</th>\n",
              "      <th>Mol</th>\n",
              "      <th>label</th>\n",
              "    </tr>\n",
              "    <tr>\n",
              "      <th>bindingClass</th>\n",
              "      <th></th>\n",
              "      <th></th>\n",
              "      <th></th>\n",
              "      <th></th>\n",
              "      <th></th>\n",
              "      <th></th>\n",
              "    </tr>\n",
              "  </thead>\n",
              "  <tbody>\n",
              "    <tr>\n",
              "      <th rowspan=\"5\" valign=\"top\">0</th>\n",
              "      <th>0</th>\n",
              "      <td>0</td>\n",
              "      <td>10094-34-5</td>\n",
              "      <td>CCCC(=O)OC(C)(C)Cc1ccccc1</td>\n",
              "      <td><img data-content=\"rdkit/molecule\" src=\"data:image/png;base64,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\" alt=\"Mol\"/></td>\n",
              "      <td>Nonbinders</td>\n",
              "    </tr>\n",
              "    <tr>\n",
              "      <th>1</th>\n",
              "      <td>0</td>\n",
              "      <td>103-69-5</td>\n",
              "      <td>CCNc1ccccc1</td>\n",
              "      <td><img data-content=\"rdkit/molecule\" src=\"data:image/png;base64,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\" alt=\"Mol\"/></td>\n",
              "      <td>Nonbinders</td>\n",
              "    </tr>\n",
              "    <tr>\n",
              "      <th>2</th>\n",
              "      <td>0</td>\n",
              "      <td>115-96-8</td>\n",
              "      <td>O=P(OCCCl)(OCCCl)OCCCl</td>\n",
              "      <td><img data-content=\"rdkit/molecule\" src=\"data:image/png;base64,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\" alt=\"Mol\"/></td>\n",
              "      <td>Nonbinders</td>\n",
              "    </tr>\n",
              "    <tr>\n",
              "      <th>3</th>\n",
              "      <td>0</td>\n",
              "      <td>207736-05-8</td>\n",
              "      <td>CC(C)(C)c1cc(CO)c(C)cc1SC1C(=O)O[C@](CC=1O)(CC...</td>\n",
              "      <td><img data-content=\"rdkit/molecule\" src=\"data:image/png;base64,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\" alt=\"Mol\"/></td>\n",
              "      <td>Nonbinders</td>\n",
              "    </tr>\n",
              "    <tr>\n",
              "      <th>4</th>\n",
              "      <td>0</td>\n",
              "      <td>1929-77-7</td>\n",
              "      <td>CCCSC(=O)N(CCC)CCC</td>\n",
              "      <td><img data-content=\"rdkit/molecule\" src=\"data:image/png;base64,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\" alt=\"Mol\"/></td>\n",
              "      <td>Nonbinders</td>\n",
              "    </tr>\n",
              "    <tr>\n",
              "      <th>...</th>\n",
              "      <th>...</th>\n",
              "      <td>...</td>\n",
              "      <td>...</td>\n",
              "      <td>...</td>\n",
              "      <td>...</td>\n",
              "      <td>...</td>\n",
              "    </tr>\n",
              "    <tr>\n",
              "      <th rowspan=\"5\" valign=\"top\">1</th>\n",
              "      <th>200</th>\n",
              "      <td>1</td>\n",
              "      <td>361343-19-3</td>\n",
              "      <td>CN1CCN(CC1)c1ccccc1/C=C1\\SCCN(C\\1=O)c1cc(Cl)c(...</td>\n",
              "      <td><img data-content=\"rdkit/molecule\" src=\"data:image/png;base64,iVBORw0KGgoAAAANSUhEUgAAAMgAAADICAIAAAAiOjnJAAAABmJLR0QA/wD/AP+gvaeTAAAas0lEQVR4nO2deVSTV/rHnyzsi2xhLSAurRsqitStLqdq64B1RrFjEZzWUezRmlZri/OzNjJn1Him1pxuI7WjBodpizq0TF1aRy1FxAVQQQoqsglCQNkEAlne+/vj0tcUQsjy3ljJ/fzhEfLmeV7Il7u+z/fyEEJAoXAN/3HfAGVwQoVFIQIVFoUIVFgUIlBhUYhAhUUhAhUWhQhUWBQiUGFRiECFRSECFRaFCFRYFCJQYVGIQIVFIQIVFoUIVFgUIlBhUYhAhUUhAhUWhQhUWBQiUGFRiECFRSECFRaFCFRYFCJQYVGIQIVFIQIVFoUIVFgUIlBhUYhAhUUhAhUWhQhUWBQiUGFRiECFRSECFRaFCFRYFCJQYVGIQIVFIYLwcd8AxUowDJOamurp6alUKmNjY4VCwh89otgAdXV1L774IgCIRCIAGDp0qEwma29vJ5eRCmvwc/ToUW9vbwDw9fVdv379008/jdsUb2/v999/v6GhgURSKqzBTFtbW2JiIpbRCy+8cO/ePYSQVqvNzMycMWMG/r6Dg0NCQkJJSQm3qamwBi2XLl0aOXIkADg6OspkMoZhel2Ql5eXkJAgEAgAgM/nx8TEXLhwgavsVFiDELVaLZVK7ezsAGDcuHGFhYW6rx49enTHjh1NTU34y9u3b4vFYicnJ9yAzZgxIzMzs68KTYUKyxCdnZ0KhUKtVj/uGzGBysrK5557DgB4PJ5YLO7u7tZ9lWGYsWPHAoCrq6tYLK6qqsLfr6+vl0gknp6eWF4jR46UyWRKpdLs26DC6pf09HR/f/85c+aEhoZKpdKWlpbHfUcDk56e7uHhAQDBwcFnz57Ve012dnZMTAyPx2N7wMuXL+OXHj58KJPJgoODsbz8/f0lEklzc7MZd0KFpYeWlpYVK1awUyf8Hy8vr/fee0+hUDzuu9OP7j0vXbr0wYMHhq+/fv16QkIC7i579YDd3d2HDh0aN24cfmnIkCG7du0y9X6osHqTm5s7fPhwAHBycsJj3szMzHnz5uHfsr29PYk5lIWcPXv2qaeeAgA3N7eUlBTj31hZWZmUlDRkyBD8002YMEEul7NdP27b8IzyzJkzJt0SFdYj1Gq1RCLBs6QpU6bcvHlT99Xz588vXryYz+fjHuT999e1t198XLfKonvPUVFRt2/fNiNIa2urTCYLCgrC8uq1fLpp0yYAeOONN0yKSYXVQ3l5OV7a4fP5fce8LGVlZXgOdeDA5Lw8KC2d0dSUjpDWyneL+fnnnyMiIgBAKBQmJydbOMlQKpUpKSns8unx48fx97/66isAWLZsmUnRqLAQQkgul7u6ugJASEhIVlbWgNfX19fdvbvl6lWPvDzIy4Pi4rH37x9kGP1aJATDMHK5nM/nDx06NDs7m6uwWq32P//5z8qVK9kVhx9//BEAnnvuOZPi2Lqwmpubly9fjv9Gly1bxq7uGINW+1ChkBUWhmB5Xb/uV1sr0WhMiGAJDMM4ODgAAOn5RGlpKV6AMOldNi2s//3vf3hg4e7unpqaal4QhlHdvy8vLg7H8rp5c25V1dqKitcePuSsFemPkJAQAKioqCCapaWlBU8LTHqXjQqrq6srKSkJj8SnTZtWVlZmcUimpeXEzZtzKytXd3RcYZju7u5qDm7UIFFRUQCQm5uLEPrss89WrlxZVFREIhFelzfpaQhbFFZxcfHEiRPxmFcikWg0Gg6DazTNtbXbKipe7ey8xmFYvSxatAgAMjIyEEJLly4FgK+//ppEoqFDhwLAnTt3jH+LbT1BihD6/PPPp0yZcu3atbCwsKysrO3bt+O5OlcolUWBgX8NCfmsoeFjDsPqxd/fHwDq6+vZ/ysUCtKJjMS2niD99NNPN2zYAACJiYkffvihi4sL5yk0msaqqkQeT+DuvpDz4L3Q/bz9/PyACuuxoFQqv/76a1dX13/961+LFy8mlMXDY4mdXeDNm7OUykJPz6WEsmB0xWTGZ29qIios/Tg5OeXn5yuVSnZ/hhBCoTdCarWaSOOhi273R1RYZvSztjXG8vX1BWL9BYtQ6A8AajWRz1iXvmOs306LZVvCIvrbZxEI3Ph8F4bp0GofEk3Ud4xFtMWiwuoX6wgLAOzs/ABAoyGbqFeLxePxFAoFwzCEEtGusF+Izsl1sbOzRm/o4uLi6uqqVCrb2trs7e09PT01Gk1TUxPniWiLNQBWE9Yvwywrjd9JD7PYyAghI99iW8IiOhDRxTotFlhLWE5OTu7u7t3d3Xjf0BhsS1jBwROjov5mZxdDOlFd3dPXrs2+fLmbdCJCwtJoNNu3bz937pzeRMZgQ+tYAODtPe3y5Wk8HvFE1687rV2btXr1yBjCGtZtg7lqj8vLy+Pj43Nzc0NDQ2/dumVvbw8AuIBHoVCMHj3amCC2JSw/PwAA8j2h9fpc3cX3uLi4yZMnT5061ZKAR44cSUxMbGlpCQ4OPnTokL29PUJo//79V69eXbZsGd6NNgbbElZAAABAfT0gBETbLauta+gmioyMjIyMNDtUa2vr+vXr09LSAGDp0qWff/65l5dXfX39qlWrTp48CQAhISHGC8vmHptxd0cAyKxSOROorKwEgODgYLJpEMrMzASAF154wcI4eut8Tp06FRAQAAAeHh5ffvmlSQFtTlhPP40AEOnyra6uLh6PZ29vzz45zjBMr1J3y1EqlStWrPD29sZFaTdu3DAjiN46n87OTrFYjItan3/++ZqaGlPD2pywZs1CAOjcOeKJcEXy/fv38ZfHjx8H7pwREEIFBQV4HC0UCrEseDzeokWLfvrpJ+ODlJSUTJo0CQdJSkpSqVQIocLCwvDwcABwcHCQSqVarTk1SDYnrJdfRgDIxHbdHEaNGgUAxcXF+MuUlBQ3Nzc8/Jg4cWJaWprZ1VoMw8hkMlxJMXr06IKCgvLycrFY7OzsjONPmjRJLpcP+GSsXC7HT6SxdT44Mp4Gjhkz5urVq+bdIbJBYW3YgADQ3r1ks9TU1Pj5+bm4uCxcuJB9Dr2trU0mk+GhDACYZwnBevPxeLzExETd59AbGxslEomPjw+OP2zYMJlM1tHRoTdOfn4+fuT/1VdfbWtrQwhVV1fPmTOHjdzfG43E5oRVU4Nu30YW2KgMzLFjx7Djg6OjI/6cYmJi2HLF7u5uuVw+ZswY/PG7u7uLxeLa2lqTIvv6+mZmZuq9pqurSy6Xs3WnIpFIIpGwPbIuycnJ6enp+P9Hjhzx8vLCkb/77juzfu5fYXPC2rUL7dmD6uqQ6T4XA4PHvPgTnT9/fm5urm4PFRERwToj6LWE+Pnnn/uLrNebzwDYto9d03JxcUlMTLx169aAkevq6iz8JWBsUVirVqF797gX1uXLl3E74ejoqDvmbWxslEqleN7et4fKycnRtYR45513+kYe0JvPAH1Niy5dusS+evHixREjRoCOA4oFv4BfYUPC0mhQczPatQvJ5ejwYZScjF5+mZvpoUajkUqleMw7duzY69ev970G91DPPPOM3h6KtYQ4dOhQ38j9efMZT2FhYS/TooyMjF27duHvREZGlpaWmhe5P2xFWFVVaPZsNH8+2rkTKRQoPh7FxCAABIAiIpBcjsw21KisrJw1axb84qDX1dVl4OJePRQ2lmVtberq6nTNSHp58xmObAxVVVUbN25kJ6cAIBAI/vKXv+BVBm75DQnrwoULOTk5nK8iIoTS0tCQIQgABQaid99FjY1oxw4kkSCZDAUG9sgrLAzJZMjUmVB6ejrenfXz8ztx4oTxb+zbQ128+CtTJGO8+cyjqalp586dLi4uAoGAtZThnN+EsNjxI96KwquInERubUWJiT3S+cMfUGNj7ws6O9Fnn6Hhw3uuEYlQcjK6f39g35jW1tb4+Hj8d79kyRK9064BKSwsTExMxJNH9gdvbm42yZvPPLC5nN7hPCc8fmHl5OSEhYUBgLOz87x589gi0sjIyPT0dEvq33NzexTj5IRkMkNXarUoMxNNm4YAkJtbq0jkq9tD9eXChQvDhg3D9ywzHNoIqqurN23axPZQ7u7u+N9e4y1uwWZgJi3Tm4QhYVV2V66oWJFQkZDbntusaV5dtXp/434Oc+u6RoeHh+NOsKWlRSaTBQYG4t9yWFiYgVW+/lCpVNu2qQUCBICiopDxf5bnzqF1677CPZRQKFy+fHl+fn6ve9bdWePwL55dPl2zZo3Z3nzGg70e2HUszjEkrG33tpV1lakZdUFHAULoaudVDoVVUVExc+ZM6Mc1Gs+h8K4IAPj4+CQlJQ24eIPB3nxz5mzj85FYjPqx5jPErVu3xGJxrx6KYZg7d+5MmzYNj3nZnTVu6erqUqlU5m3PmcS6desA4KOPPiIU35Cw1lStUWofLVFjYWmRNqM5Q8NY5NAil8txyx8cHHzu1zP+06dPf/vtt/g3i+dQ+LNk51CGJ8b79+/Hnenw4cNzcjotucm7d+++/fbbuGPCbSd28wkLC8vJybEk8m+B5ORkANi6dSuh+IaEtf3e9lJlqRZpT7aeRL8I61jzMciHoUVDZQpZu9bk46NaWlri4uLwRxUbG9t3ZIpNNYcPHy6TyTo7e5TRdw6FTaF0scSbzwCtra2vv/66l5eXp6enl5dXaGjo3LlzOVxIfFykpKQAwJ///GdC8Q0Jq1ZVm1CR8KfKP+W05xxvOb66anV0WXRSbdLIGyMhHyAffK77SO5JGtV95lr9cObMGbwF6+7urtc1Wq1W7927NzQ0FOsjICBAKpWyBvb99VCII2++/sBNYHZ2dm1tLXauJjRTsybffvstAERHRxOKb86sUIu0R5uPPlv6LJaX81Xn9dXr7ygMuXKpVCqJRII3Lp599lnDI1PcA06ZMgULqNfhHDU1NZs3b2Z7qPDw8OjoaNyYzZo1q7Ky0oyfyDB4AojH6Xjp3MCm3pNCXl7Z7NlvxseTmnhatNyQ/TB7Wfkyfj4/8Fqgg4uD3h4K/do12iQHPd0e0M7ObtmyZVeuXMEv6T6CEhAQIBAIOPfmY5k+fTpusRBCs2fPBgBuVywfC1VVCAA99RSp+BysY91Q3tiSsQXvlAHA3LlzT5w4gXsohmFSUlLYp8nOnz9vRvxr164lJCSwR83qLp92d3djpytyYwWE0JIlSwDgyJEjCKE//vGPAPDvf/+bXDrr0NWFeDxkZ4cITUA5WyDtdXxUeHj4Bx988Lvf/Q5/mZCQ8PDhQ0vil5eXb9iwgV0+PX36NP7+vn37AGD16tVc/BD6wTPzjz/+GCGEn4r58MMPyaWzGp6eCEDPbgQncLzyjnsofHwUHlF5e3sfO3aMq/j3799PTk6eOXMmu9LzzTffAEBMTAxXKfqCZ+bvvfceQmjHjh0AkJSURC6d1Rg9GgEgMj7LXJvburm5vfnmm2VlZfv27WMYRigUXr9+HXclnICPMc7OzsaqBatU8OlWn1qtYNAK+PsDECvfJeLdYG9vv3btWnd3d41Gwz4/SQgrGMjoiml4UFD86NHThYOh0JeosAj+gvz9/dva2urr6z09PTMyMoqLi1977TX2iCkOs2DDMYQQj0x18/NBQcoRIwQdHQAwWySaXVICv8xUnmiwsAj9SRJ0m9H9Q//000+3bdtWXFzMeRYHB4chQ4aoVCoShmMYV5HIsazMrqwMgPCnYV38/IDHg7Y2IsGJC8tqnr4Exz3+/sDjgUIBCIGvL/D50NgIWi2pdNbirbdApYLkZCLBrdRiPdnCcnCAIUNApYKmJhAKwccHtFpobCSVzlrs3QsffQT19SCVch+coLB0HXascG4CWQNI3R7QamZI5CkuBqPNH02DtljG5gD4RUxEZ1NWobsb8Ihx9mw4cwY0Gpg6FXbvhtZWzlJYVViEGhWizSGbA2CQCKukBKZNgwULoLsbXnwRvv8eiorg0iXYsgWGDYNt26ChgYMsxLvCQdtiPYETQ4Tgk09g8mS4ehWEQmhrAz4fRo+GiRMhMxNmzICmJvjb3yAkBFauhNJSS5ORoqamBgD8/f0RQg0NDQDg7e1NItGJEycAYMGCBSSC95Cejl59FZ06hRBCpaUoKwvV1xNMRwCF4lEpZUIC0rtzm52NXnoJ8fkIAPH5KDYW5eWZWXFPUFhqtZrP5wsEAo1GwzCMnZ0dj8fr73R4SygoKACA8ePHcx65N7dvo7g49MoriHClA+ecOoUCAhAA8vAY2MKprAyJxcjJCbm4tHt5eZvn6UW2/EskEsEvxvO48Ka6mvsDbe/duwcAvr6+nEfuzdtvo9padPcu2ryZeC6O6Ojo2Lixk8dDAGj+fGScqw1CCN27h3bvPo+fmAWAsWPHHjx40Ph2gaywsDHctWvXEELYOe7y5cucZ9FoNAKBgM/nm21lZiwrViCGQQyD4uPJJuKIoqKi8PDwyMhtjo5IKjXn0auHDx/KZDJ8qjkA+Pn5SSQSY+oJyB4gQG5iePDgwdu3b+P/CwQCHx8fhmEaSS9aBgVBbS3U1EBwMNlEFsMwzO7duydPnlxUVNTVlXHlSlNSEvBN/7RdXV3x4ypyuTw8PFyhUCQnJ4eFhf30008DvNOcPwSjSUhIAABc0btq1SoA2L/f0srEBw8e4GLLqKgo9llk3DQWFBRYeseGKStDcXEoLg5VVJBNZBnV1dVz584Fjrz5dMEPizs4OERHRzcbtJ4mK6zNmzcDgFQqRQh9880327dv71VYbCp663xOnjzp5uYWHR1toCjedjh69Cjrzfff//6XRApsqcXaq+qFrLD+/ve/A8DGjRstD6W3zqe9vX3NmjW46X399dctz/JEwzDMa6+9hn8bL730UkNDA6FE2Kr0zJkzBq4hK6zDhw8DwCuvvGJhHL11PleuXMHFWL0c9GyWkpKSBQsWODg4cOvN1xdcGJyWlmbgGoLC0mq1a9eudXNzc3Nzk0gkhrvk/tBb56PrGj127FhLXKMHE1988QUALF26lHSiN998EwD27Nlj4BpSwmLHj+zD6R4eHlu2bDHS2AOjUCgWLVqE387W+VRVVeHiPs5Hpk863333HQAsXLiQdKKdO3cCwLvvvmvgGiLC6jV+xFMJrA9sD2x43IfRPciFreNLT0/Hkf38/Mi50T2h5OXlAUBERATpRAcOHACAlStXGriG+/Kv/lyjCwoK2LpTbH3O1gb2JSsrCz/APm/ePHyQS2trKxv597//fSOhcrgnmbt37wJAQEAA6UTGbM5yKayc9pyZy2cCgLOz8759+/Rec+fOHV3r88mTJ+s9nINhmNjY2D179uBBaG5uLrY2xK7RHN7zYEKlUrGbs0QT4c3ZCRMmGLiGG2GpGbW0XmpXYDc6b3TElIgBDWobGhokEgk+ZAH6mBb9KrKOg15kZCRdqTIMPu8E1yyRA2/O+vn5GbiGA2GVdZVNLZ0K+cDP52+p3aJijPW5a29vT0lJwdb4eEAmkUh0HYKwNx+eAfR1/aP0Zdy4cQCg12ieQzQaDZ/PN7w5a6mw5A/kbtfcIB+Ci4LPtZ0zIwI2LYqKimI3p7BpkVwud3V1BYCQkJAff/zRwvu0EfAZKt9//z3pRL6+vgBgYI5vvrBUjCr2Tiy2yFpevrxZY+mhpT/88MP8+fOxvHDfBwBxcXGmno9ly2Afb7lcTjrR+PHjDW/Omv90gx3Pzonv5C5wTwlJ+TLsSw+Bh9mhMPPnz//hhx+waVF4ePisWbNSU1PT0tLYR4IoA2Lls6gNPKtiVIl9lapq672tfOCvE60b5Tjqndp3nnV+drXP6k+CP/lr4F+H2g/l6nYBYMKECampqSqVyn5QlLFbGWvUlQCAEQo2qsX654N/JgckHwg94MBz8BB4rBetx993F7hzqyoWqirzsHKLZamw6tX1QXZBQp4wwjmCs1ujEMAatbsAYETTaJSwguyCqlRVDDCn2k5xdmsUAlitxdKt7dOLUWOsNT5rttRu4fP4iT6JJ1pPZLRm1KnrPIQesR6xnN0phQt+O10hDxGq3ac8DhiGcXR01Gg0XV1dRMeply5dmjp16qhRo0pKSvReQLaYgmJl+Hy+SCRCCBEdZl28eDEuLs7Z2Xn37t393gm59JTHAtHxu1qt3rp168yZM8vLy8eNG4d3kPRChTXYwMK6ceMG55ErKirmzJmzc+dOhJBYLM7OzsZnduiH9No/xcqkpqZOmjRJKBQmJCQUcee1rbt1m5WVNeD1VFiDkJUrV+LNVh6PFx0dbeEWfmMjWr36bdwMxcfHG7l1S4U1OKmoqBCLxexBHhEREXK53AwLgtOnUVAQGjGiSCTyPXz4sPFvpMIazDQ2Nm7fvh1bswDA88//4R//QPqep9SDUoneegthN5HZs1F1tWmnilJhDX7wOcjPPPPM9OlpAEgkQhIJun/f0FuKi9HEiQgACYVIIkFmPOpMhWUraDSa9HRNZGSP95qLCxKL9XhQMAxKSUHOzggAhYUhs88opsKyObKzUUxMTx/H56OYGHTp0qNXlyzpUV5iImo3+WTmR9AtHRulsBA++AC++grUapg2DV56CeztIS4O3ngDsrLgiy9g8WKL4tMFUhtl/HhITYU7d2DTJvi//wP4xfM9MhJu3rRUVUA3oSkYqRQCA4HPh5oa2LKFg4C0xaL0gD3fuYIKiwIAgBA0NICPD2cBaVdIAQBQKMDfH0Qibo6lACosCoZhwMEBtFro7gY7Ow4C0q6QAgDA54NI1NMhchOQmzCUJx9uT8ujwqL0wO2hZlRYlB6osChEoMKiEAGPsbgqwjCqYJViC4SGFk+fflarFQCsszwabbEoPXh6Nl64IL5x42tOolFhUXrgtjyfCovSw4A+HyZBt3Qoj3Bycurq6uro6GD90s2GtliUR3DYaFFhUR7Boe8DFRblERyO3+k6FuURY8aMqaur48RYiw7eKUSgXSGFCFRYFCJQYVGIQIVFIQIVFoUIVFgUIlBhUYhAhUUhAhUWhQhUWBQiUGFRiECFRSECFRaFCFRYFCJQYVGIQIVFIQIVFoUIVFgUIlBhUYhAhUUhAhUWhQhUWBQiUGFRiECFRSECFRaFCFRYFCJQYVGIQIVFIQIVFoUIVFgUIlBhUYhAhUUhAhUWhQhUWBQiUGFRiECFRSECFRaFCFRYFCJQYVGI8P/+Srto1Ox8bAAAAABJRU5ErkJggg==\" alt=\"Mol\"/></td>\n",
              "      <td>Binders</td>\n",
              "    </tr>\n",
              "    <tr>\n",
              "      <th>201</th>\n",
              "      <td>1</td>\n",
              "      <td>289716-94-5</td>\n",
              "      <td>CNCc1cc(F)ccc1Oc1cc(Cl)c(Cl)cc1</td>\n",
              "      <td><img data-content=\"rdkit/molecule\" src=\"data:image/png;base64,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\" alt=\"Mol\"/></td>\n",
              "      <td>Binders</td>\n",
              "    </tr>\n",
              "    <tr>\n",
              "      <th>202</th>\n",
              "      <td>1</td>\n",
              "      <td>119-47-1</td>\n",
              "      <td>CC(C)(C)c1cc(C)cc(Cc2cc(C)cc(c2O)C(C)(C)C)c1O</td>\n",
              "      <td><img data-content=\"rdkit/molecule\" src=\"data:image/png;base64,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\" alt=\"Mol\"/></td>\n",
              "      <td>Binders</td>\n",
              "    </tr>\n",
              "    <tr>\n",
              "      <th>203</th>\n",
              "      <td>1</td>\n",
              "      <td>156052-68-5</td>\n",
              "      <td>Cc1c(Cl)cc(cc1Cl)C(=O)NC(C)(CC)C(=O)CCl</td>\n",
              "      <td><img data-content=\"rdkit/molecule\" src=\"data:image/png;base64,iVBORw0KGgoAAAANSUhEUgAAAMgAAADICAIAAAAiOjnJAAAABmJLR0QA/wD/AP+gvaeTAAAW9klEQVR4nO3deVhTV94H8F8WEpYAYmsggcji0hb74gzUDVQYpVWmCHQcd0HH3brg0ldqHQds3VqnSlvrUt5ScWmrg9UCVsXREStFC2ipWFBxQUggqKwGw5Kc949j82RQEcg9F2x/n8enTxPJ7xzhy73nnnvPvQJCCCDENWFndwD9NmGwEBMYLMQEBgsxgcFCTGCwEBMYLMQEBgsxgcFCTGCwEBMYLMQEBgsxgcFCTGCwEBMYLMQEBgsxgcFCTGCwEBMYLMQEBgsxgcFCTGCwEBMYLMQEBgsxgcFCTGCwEBMYLMQEBgsxgcFCTGCwEBMYLMQEBgsxgcFCTGCwEBMYLMQEBgsxgcFCTGCwEBMYLMQEBgsxgcFCTGCwEBMYLMQEBgsxgcFCTGCwEBMYLMQEBgsxgcFCTGCwEBMYLMQEBgsxgcFCTGCwEBMYLMQEBgsxgcFCTGCwEBMYLMSEmJMqd5vvRpdGdxN1k4vlq1xWxZXFXW24esDzACfF0bOImy1W4r3EqO5Rn6o+DbYPFgvEa5Vrhbgt/H3j5sevblK7S9wBIEAWwElB9KzjJlgeEo+bjTcBILUmtYk0cVITPdMEhBDLq9QYaqJLo2VCmVws95f5n647/fndzz2kHhl9MyQCieX10TOHm2C1cLXhqs8vPo2k8dte345xHMN5fdT1MRli95X2Xe+6ngCZUTxD06Rh0QTq4phssQCAAAm7HpZWkxYoCzzZ56RIIGLRCuqyWE0KCECQ6J6osFJk3M/YpN3EqBXUZbHaYlHptekhRSFCgfBM3zND7Iawawh1NWynMV9zeG2Z87Jm0jz11tRaQy3TtlCXwnx+fJ1y3Su2r9xouLHm4hrWbfFNo4HJk2H2bEhI6OyudD2Evav6q6/ueBUAdu3axUNz/ImLI5mZhBAyahT/jTc0NNTV1fHfbhvxcUavj7TPFOspALBgwYIrV67w0CJPNBpQqQAAHB3h/n0+W75161ZQUNDf/vY3PhttF55OFU+bNm3q1Kk6nW7KlCmNjY38NMrK4cNQUAAAoFJBcTEAQF0dyGS8tb9nzx4fH5+srKzc3Nw7d+7w1m778LZtrKur69u3LwC89dZbvDXKPZ2OdO9OBAJy+TIpKyMTJ5JZs8gXX/DTeG1tbWRkJP3B/fWvf62srOSn3Q7gL1iEkOzsbIlEIhAIUlNT2/vZ+vr6q1evZmRk7N27d9OmTdHR0f/+97+rqqpY9LM1W7cSAOLv//Dlp5+SXbtIQwMPLWdnZ/fu3RsAbGxs4uPjeWjREmznsR61cePGlStXyuXyvLw8FxeXFn9bVVWl0WjKyspu3LhB/8f03/Ly8hZd9fb2lkqlWVlZUqmUp94TAt7eUFgIyckwdizcvw89e0JVFZw/DwMHsmyWfPzxxytWrGhsbPT19f3qq6/otr9L4znIBoMhODgYAHx9fdeuXbtw4cLw8PCBAwe6urqKRK2d9pFKpZ6enkOHDh0/fvySJUvWr1/v7u4OAEuXLuWv94cPEwDi4UGamwkh5KOPCAAZNoxpm1qtNiQkBAAEAsHixYv1ej3T5rjCd7AIIRqNRiaTubq6PpoeJycnb2/v4ODgyMjImJiY+Pj4AwcO5OTkqNVqg8HQok5OTg7dsaakpPDU9eHDCQChuyGDgfTqRQDIoUPsGkxPT6fb9R49eqSlpbFriHOdEKzCwkKhUCiRSBYtWhQfH/+vf/0rMzOzuLi4of0jlQ8++IB+0zUaDYuu/pecHAJAHBxITQ0hhBw8SACIp+fDrRfX9Hp9TEyMUCgEgJEjR6rVahatsNMJwZo7dy4AzJs3z/JSRqPx9ddfB4CgoKBHN2kcmzyZAJD//d+HLwMCCAD55BMWTRUWFv7xj38EALFYHBsby/yfxgDfwbp3756dnZ1AIPjll186XKSoqCgiIuLevXuEEK1WS3cW77//PnfdfERpKbGyImIxKS4mhJDsbAJAnJwIg7nvpKQkmUwGAB4eHj/88APn9dvrTtOdyTcnv3n7zThNXJOxaZV61bgb4576Kb6D9e677wJAaGioJUVGjx4NAG+88QZ9eezYMYFAIBaLs7KyuOjjY2xavfpIYOD9uXMfvp4wgQCQt9/mtpWamprJkyfT4WZkZCT/Z2zuG+4XPCg4VXtq973dG8s3Li5ZPPb62Ddvv3ms5hgh5GzdWfplE25MeGopXoOl1+sVCgUAnDx5khBSUVERFhZ24sSJ9ta5fft29+7dAWD79u30naVLlwJAr169augAiFO1tbXdunUDgPPnzxNCmouLiVhMrKxIaSmHrZw/f75Xr14AYG9vv2fPHg4rm2tqaiotLT137tyhQ4c+/vjjd955JyoqKjg4ePTF0Q4/OUAuPPpnxNURBQ8KzIt0uWAlJiYCgI+Pj9FoJITExsYCQHh4eAdKJScnA4C1tXVeXh4hpLGxceDAgQAwfvx4jjtNSHx8PAAMHz6cvly+fPni/v2Lly3jsIn3339fLBYDwMCBA4uKijisbKLRaPz9/enRwKMGfT8IcsH6onWv/F7DrgybdGPSspJlW7Rbvq78erVm9Xc13xFCUqpTGo2NpAsGq3///gCwe/duQoher6djo4yMjI5VmzVrFgD069evvr6eEHLt2jV7e3sA4PbXvbm5mW5IDh8+TAipra11dHQEgAsXLnDVhFarjYyMpNNUHTg0bouKigobGxsnJyehUKhQKPz8/MaMGTNv3rw1a9YkJiYePXr0svby3aa7j/1sdXP1tFvTFtxesEaz5kTtiVXqVd6XvVepVzUYW+sqf8E6fvw4ACiVSvq9S0hIAAA/P78OF9TpdC+99BIALFiwgL5Dt4gymezKlSvcdPrXTaOXl1dzczMh5MMPPwSAP/3pT1zVJ4ScOnWKzhhzWLMFunP485//3NjYyK4Vc/wFi464169fTwgxGo3e3t4AsG/fPktqXrp0ycbGBgAO/TpLSQe/fn5+XP3q+/v7A8DWrVsJIc3NzV5eXgDQgXOdrSgsLKQDRA5rmrN859ABPAWrsLBQIBDY2trevXuXEPLdd98BgKurq+W/QHQA5OTkVFxcTAiprq729PQEgBUrVlje7R9//JEWpwdoX3/9NQD07duX24mluro6ALCxseGwpjnLdw4dwFOw6HjItM969dVXuZp5MhqNYWFhdHBN91Y//vijlZWVUChMT0+3sPj48eMBYOXKlfTl4MGDzQ9FOeTg4AAAdGaOW1ztHNqLj2BptVobGxuhUFhYWEgIuXTpkkAgsLOz4+r7WFFRoVQqAeC9996j76xbtw4A5HJ5WVlZh8tWVVXZ2tpaWVmVlpYSQs6ePQsA3bt3v3//PifdNkcHi5cuXeK8Moc7h3bhI1h05BgREUFfTp8+HQCio6M5bOL06dMikUgsFmdmZhJCDAbDyJEjAWD06NF0aqMttFptXl5eWlpaQkJCXFzc7Nmzg4OD3d3dZ86cmZ6e/pe//AUAVq9ezWG3TWhvjx07xnllunP44IMPOK/cOubB0uv1zs7OppGjVqu1trYWiUScz9bExMQAgEqlohvC0tLS559/HgC2bNli3hm1Wp2Tk3PgwIH4+PiYmJjIyMjg4GBvb2/Zk68tdnR0FAgEKpVKKpUyOtsdFRUFAJ9//jm3ZenOwd7env8rIpkH67PPPjMfOf79738HgLFjx3LekGmOdPHixfSdlJQUgUBgZWU1dOjQfv36OTk5PSk6lJOTU79+/UaNGjV9+vTVq1dv27YtJSUlOzub9lkul3fgJEEbrVy50nxXzhUWO4c2Yhss08jxyy+/JITU19fTrQjdYXGuqKho5syZ1dXVpnf8/PxUdCENAABIJBI6PRgaGjpnzpzY2NidO3eeOHEiPz+/lXNBBoOB7lBee+21tu9Y2+WTTz4Bjq74MGG3c2gLtsE6cuSI+chx+/btADBgwACmjZpUVlbKZDKBQLBt27a8vLyKiooOlyovL6dTQf/85z857KHJN998AwBhYWEc1mS3c2gLtsGiVyHTkaPRaKTHPvv372faqAk9NgwJCeGk2tGjR+mO9dy5c5wUNHfu3Dlup5p0Oh3TncNTMQxWi5FjZWVlRESEp6dnU1MTu0ZNGhsb3dzcAMDy2SyT6OhoAOjdu3dtbS1XNamSkhIAcHFx4argtm3b+Nw5PIqDYFVWVubn5584cSIpKWnjxo1z5swJDQ318/NzdHQUCoWRkZHmX6zT6SxvsS2SkpIA4OWXX+ZwVKTX6+mFndOnT+eqJtXU1CQSiYRCISe/dfzvHB7Vpvu86/V6jUbTYj0WXaRVUlLS1PTEu9mKxeLc3Fy9Xm9tbU3fsbW1bUuLlqOnepYvXy4QCLiqKZVK9+/fHxgYeu3aP/btgylTuCoMYrGYTueWl5fTDa0l0tLSCgoK3N3d6dxb52gldKNGjXrppZfotSit6NGjh4+Pz+uvvz5r1qzY2NjPPvssNTX14sWLN27cePHFF8Hs+J83J0+eBAC5XP7gwQPOiycmNtJFFdevc1nWz88PADgZwAUFBQHA5s2bLS/VYa0Fy/SrI5VK6VH6uHHjFi9evHHjxqSkJHqU3vrls7m5uVKpVCAQfPvtt1z3vDV0hQXn00ImkyYRADJgAJdLoOkZz4MHD1pYJy8vDwDs7e3Np13411qwsrKy8vPzLbxBAL2A6fnnn+dtAdOVK1eEQqGNjc2dO3cYNVFVRTw8CAD59fQ0B+bPnw8An1i87Gfq1KkAsHz5ck561WHMZ96NRmNoaCgABAYGNrNZgtcCh8vLWnH+PLGyIkIh4Wo2/r333gOAty1boKFWqyUSiUgkOnr0KDfd6ig+TkJXVFTQNRQbNmxg3RYny8va6N13CQBxdibl5RxUo5e/RkVFtfeDOp2usLDw9OnTe/bsoaMrHx8fkUi0Y8cODrrVUTxdj3X8+HGhUCgWi1kvlKPLy8aMGcO0FcpgICNGEAASEkIsn9M4duwYAIwcOfKxf2ua09m5c2dsbKxpTkehULQ47A0LC9uwYQOYrTTpFPxdmvzWW28BgJeXF7tBpeka3FOnTjFqooWSEvLcc8TKiuTkWFoqKysLAFQq1a5du8xvl6JUKlu/XYq1tbWXl9fQoUP9/f1DQ0Pp9RczZswAs5Um/OPvNkZNTU3Dhg07f/78uHHjDhxg8ijDxMTEmTNn+vj4/PTTTxxOX7Xu2DFwcoJBg57+lY2NoNXqS0ouaDQatVqtVqvLyspKSkrKy8tLSkrq6+uFQqHRaHzsZ52cnBQKhVKpNP+vl5eXQqFwcXERCoUZGRlBQUGOjo4XL1709PTU6XSvvPJKYWHhwoUL6RluvvGZ4qKiInoNLqO73NLlZexWe7awfTuhQ+TwcLJ9O5k1ixBCpkwheXkkLY0kJJC4ODJ7NgkNJX/4A3F2pndAuvqkHwQdGgLAhAkTVqxY8dFHHyUnJ2dmZt6+fbuNF39OnDgRAAYMGEC//ueff7a2thYIBHThGs/4XmJPz7TY2dnRy5Q74MGDB0VFRWfOnMn5791Pi+VlPGgRrJAQotGQkBAC8Pg/YjHp3Vs3aNCgiIiIRYsWrVu3jk4HXr58mV60Qxcwdvg7U1VV5eHhAQDvvPMOfWfz5s1gttKET3zf0Q8AIiMj9+7d6+vrm5WVJZE8/qFzplv7PXqDP61WS/cX4eHhhw8fNn1k9OjRx48f37Bhw9tvv83PP2THDkhNBZUKLlyAGTPA2RkuXoSCAigoADc3cHEBlQoUCnBzA6USlEpwcYEnrEN+KDAw8MyZMydPnhwxYkTHupSZmRkUFGQ0GtPT0+lxQHh4eGpq6vDhw0+dOtX6WI1jPAeZmN3l9tFJvIiICDc3Nysrq1Y6LJFIevbs6e/vbz7lk5+fb768jB8ttljZ2eTNN8mEp68+f6JJkyaBxbvyuLg4AHB1daXzw1qtVqFQzH755fsffmhJ2fbi5mHj7SKTyfbt2xcQELB58+agoCA6fUqVlZWVlpYCgLW1tWlw2mLE6u7u/uhvHr2wfcaMGc899xyv/5j/NnMmTJrU8Y/Tuxyq1WpL+rB69eqMjIz//Oc/06ZNS0tLk8vlZ7/80mvUKIiJgSFDYAhfTzTiM8Xm6FyLXC43X55QUFBw8+bNdt1m8+7duxkZGVKpVCgUXrt2jUFP+UOHRIsWLbKwjuluPP+3bdvDt1asIABEpSJ83cG704LV9gvJTUtrUlJSdu7cab60hh5jAkCfPn1My8ueXfv37weOLiY+ePDg+kGDDAoF+eknQghpaiKDBxMAMu7p90zjRCcM3k20Wm3//v21Wu2mTZumTp362NmdsrKye/futVLEwcHBzc1t/vz5c+bMedKhwLPi7Nmzw4YNGzx4MJ0stdS8ebBzJ3h7Q3Y22NrC9evg6wu1tfDFFzB9Ogf1W9WZwQKAI0eOjBkzxtbWVqfTPelrJBKJi4uLm5ubUql0dXVVKpVKpdLNzU2hUKhUKt6uHOTBzZs3vby8VCrV7du3OSin18OgQfDzzzB3LuzYAQCwZw9ERYGdHeTkwIsvctDEk3VysHQ6HT0JI5VKXV1dVSqVKUOm9ND1rr8HDQ0NNjY2IpGooaHhSXdIa5/Ll2HAAHjwAL76CiZOBACIjIS9e8HXF374AZg+eIGfPe6T0LMNAQEBnduNroMurSnn5HoJij6jpVs3cvMmIYTU1pLevQkA4eJuPK3ozGAZDIYXXngBAJKTkzuxG10KPSuVm5vLZdGICAJAhg59eEv6nBwyZAjh7t50j9WZwTp06BAAeHp68nMB4DOBPt2E42dtVFaSnj0JAImN5bJsq3h6XuFj0WmbJUuW8HqqoWvjZI60JScnSEoCkQgSEnh7YGenBSs3N/f77793cHCYzv7Q9xlCg6XRaDiuGxQESUlw4QLIZPw8yrrTgkUXWcybN880yYkAgN5BjuMtFjVlCtDj64QEWLgQEhLg4EHuW/lV5wSrtLQ0OTnZyspqwYIFndKBLovVFsscL4+y7oST0ACwu3q3zxyfF6pf6NmzZ6d0oMtiMsZqgT7KWqVi+ijrTpggrTPU9czvWW2ozu2b6yvz5bn1Lq6iosLZ2bl79+6tn8iySHk5LF0KMhkEBLA7t9MJwYqviF9aujRQFni672mem+76CCE2NjYNDQ319fX0FvbPKL7HWAZi2HpnKwAsc17Gc9PPBIFAQM9xsR1mscf3GOub6m+uN1zvI+0T6hj69K/+XXJ1da2rq6uqqursjliE72BtqdgCAEvkS4SdN9PRxWVkZNAngT3TeB1jZddnDywc6CRyKvmfEjuhHW/tIv7xutnYpN0EAPN7zMdU/ebxt8W61Xirz+U+AhDcePmGm5WlN61DXRx/+3I3K7e9HnuLGoowVb8HbIN1t/ludGl0N1E3uVi+ymXVpQeXrjY8cY05+i1hO8ZKvJcY1T3qU9WnwfbBYoF4rXItHgz+TrD9Maub1O4SdwAIkAUwbQh1NWyD5SHxuNl4EwBSa1KbyBPv2o1+e9geFdYYaqJLo2VCmVws95f5n647faj60Bvd3viH4h8SwbO9BhC1rpOXf6HfKhxKIyYwWIgJDBZiAoOFmMBgISYwWIgJDBZiAoOFmMBgISYwWIgJDBZiAoOFmMBgISYwWIgJDBZiAoOFmMBgISYwWIgJDBZiAoOFmMBgISYwWIgJDBZiAoOFmMBgISYwWIgJDBZiAoOFmMBgISYwWIgJDBZiAoOFmMBgISYwWIgJDBZiAoOFmMBgISYwWIgJDBZiAoOFmMBgISYwWIgJDBZiAoOFmMBgISYwWIgJDBZiAoOFmMBgISYwWIgJDBZiAoOFmMBgISYwWIgJDBZiAoOFmMBgISYwWIiJ/wddEhE7wWj0WAAAAABJRU5ErkJggg==\" alt=\"Mol\"/></td>\n",
              "      <td>Binders</td>\n",
              "    </tr>\n",
              "    <tr>\n",
              "      <th>204</th>\n",
              "      <td>1</td>\n",
              "      <td>13674-87-8</td>\n",
              "      <td>O=P(OC(CCl)CCl)(OC(CCl)CCl)OC(CCl)CCl</td>\n",
              "      <td><img data-content=\"rdkit/molecule\" src=\"data:image/png;base64,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\" alt=\"Mol\"/></td>\n",
              "      <td>Binders</td>\n",
              "    </tr>\n",
              "  </tbody>\n",
              "</table>\n",
              "<p>410 rows × 5 columns</p>\n",
              "</div>"
            ],
            "text/plain": [
              "                  bindingClass  ...       label\n",
              "bindingClass                    ...            \n",
              "0            0               0  ...  Nonbinders\n",
              "             1               0  ...  Nonbinders\n",
              "             2               0  ...  Nonbinders\n",
              "             3               0  ...  Nonbinders\n",
              "             4               0  ...  Nonbinders\n",
              "...                        ...  ...         ...\n",
              "1            200             1  ...     Binders\n",
              "             201             1  ...     Binders\n",
              "             202             1  ...     Binders\n",
              "             203             1  ...     Binders\n",
              "             204             1  ...     Binders\n",
              "\n",
              "[410 rows x 5 columns]"
            ]
          },
          "metadata": {
            "tags": []
          },
          "execution_count": 54
        }
      ]
    },
    {
      "cell_type": "code",
      "metadata": {
        "id": "88kTaqYGFAYm",
        "colab_type": "code",
        "outputId": "ec62fa8b-a987-4a0a-8402-5f46089bf372",
        "colab": {
          "base_uri": "https://localhost:8080/",
          "height": 1000
        }
      },
      "source": [
        "g.head()"
      ],
      "execution_count": 55,
      "outputs": [
        {
          "output_type": "execute_result",
          "data": {
            "text/html": [
              "<div>\n",
              "<style scoped>\n",
              "    .dataframe tbody tr th:only-of-type {\n",
              "        vertical-align: middle;\n",
              "    }\n",
              "\n",
              "    .dataframe tbody tr th {\n",
              "        vertical-align: top;\n",
              "    }\n",
              "\n",
              "    .dataframe thead th {\n",
              "        text-align: right;\n",
              "    }\n",
              "</style>\n",
              "<table border=\"1\" class=\"dataframe\">\n",
              "  <thead>\n",
              "    <tr style=\"text-align: right;\">\n",
              "      <th></th>\n",
              "      <th></th>\n",
              "      <th>bindingClass</th>\n",
              "      <th>casrn</th>\n",
              "      <th>SMILES</th>\n",
              "      <th>Mol</th>\n",
              "      <th>label</th>\n",
              "    </tr>\n",
              "    <tr>\n",
              "      <th>bindingClass</th>\n",
              "      <th></th>\n",
              "      <th></th>\n",
              "      <th></th>\n",
              "      <th></th>\n",
              "      <th></th>\n",
              "      <th></th>\n",
              "    </tr>\n",
              "  </thead>\n",
              "  <tbody>\n",
              "    <tr>\n",
              "      <th rowspan=\"5\" valign=\"top\">0</th>\n",
              "      <th>0</th>\n",
              "      <td>0</td>\n",
              "      <td>10094-34-5</td>\n",
              "      <td>CCCC(=O)OC(C)(C)Cc1ccccc1</td>\n",
              "      <td><img data-content=\"rdkit/molecule\" src=\"data:image/png;base64,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\" alt=\"Mol\"/></td>\n",
              "      <td>Nonbinders</td>\n",
              "    </tr>\n",
              "    <tr>\n",
              "      <th>1</th>\n",
              "      <td>0</td>\n",
              "      <td>103-69-5</td>\n",
              "      <td>CCNc1ccccc1</td>\n",
              "      <td><img data-content=\"rdkit/molecule\" src=\"data:image/png;base64,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\" alt=\"Mol\"/></td>\n",
              "      <td>Nonbinders</td>\n",
              "    </tr>\n",
              "    <tr>\n",
              "      <th>2</th>\n",
              "      <td>0</td>\n",
              "      <td>115-96-8</td>\n",
              "      <td>O=P(OCCCl)(OCCCl)OCCCl</td>\n",
              "      <td><img data-content=\"rdkit/molecule\" src=\"data:image/png;base64,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\" alt=\"Mol\"/></td>\n",
              "      <td>Nonbinders</td>\n",
              "    </tr>\n",
              "    <tr>\n",
              "      <th>3</th>\n",
              "      <td>0</td>\n",
              "      <td>207736-05-8</td>\n",
              "      <td>CC(C)(C)c1cc(CO)c(C)cc1SC1C(=O)O[C@](CC=1O)(CC...</td>\n",
              "      <td><img data-content=\"rdkit/molecule\" src=\"data:image/png;base64,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\" alt=\"Mol\"/></td>\n",
              "      <td>Nonbinders</td>\n",
              "    </tr>\n",
              "    <tr>\n",
              "      <th>4</th>\n",
              "      <td>0</td>\n",
              "      <td>1929-77-7</td>\n",
              "      <td>CCCSC(=O)N(CCC)CCC</td>\n",
              "      <td><img data-content=\"rdkit/molecule\" src=\"data:image/png;base64,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\" alt=\"Mol\"/></td>\n",
              "      <td>Nonbinders</td>\n",
              "    </tr>\n",
              "  </tbody>\n",
              "</table>\n",
              "</div>"
            ],
            "text/plain": [
              "                bindingClass  ...       label\n",
              "bindingClass                  ...            \n",
              "0            0             0  ...  Nonbinders\n",
              "             1             0  ...  Nonbinders\n",
              "             2             0  ...  Nonbinders\n",
              "             3             0  ...  Nonbinders\n",
              "             4             0  ...  Nonbinders\n",
              "\n",
              "[5 rows x 5 columns]"
            ]
          },
          "metadata": {
            "tags": []
          },
          "execution_count": 55
        }
      ]
    },
    {
      "cell_type": "code",
      "metadata": {
        "id": "4AXTCzO4FAYn",
        "colab_type": "code",
        "outputId": "ddc2f518-3a73-40ae-9e4c-3401907e8bc7",
        "colab": {
          "base_uri": "https://localhost:8080/",
          "height": 34
        }
      },
      "source": [
        "g.shape"
      ],
      "execution_count": 56,
      "outputs": [
        {
          "output_type": "execute_result",
          "data": {
            "text/plain": [
              "(410, 5)"
            ]
          },
          "metadata": {
            "tags": []
          },
          "execution_count": 56
        }
      ]
    },
    {
      "cell_type": "code",
      "metadata": {
        "id": "ACy6ZmhNFAYp",
        "colab_type": "code",
        "colab": {}
      },
      "source": [
        "#user_specified_features = ['HumDockScore','RatDockScore','ChimpDockScore','AVG','P_Act_dockChimp','P_Inact','PredBayes','ratio','avgD_Act','avgD_Inact','PredBindingClass','predMLogR']"
      ],
      "execution_count": 0,
      "outputs": []
    },
    {
      "cell_type": "code",
      "metadata": {
        "id": "3xC-iNWgFAYq",
        "colab_type": "code",
        "colab": {}
      },
      "source": [
        ""
      ],
      "execution_count": 0,
      "outputs": []
    },
    {
      "cell_type": "code",
      "metadata": {
        "id": "6jXbiWibFAYr",
        "colab_type": "code",
        "colab": {}
      },
      "source": [
        "from itertools import islice\n",
        "from IPython.display import Image, display, HTML"
      ],
      "execution_count": 0,
      "outputs": []
    },
    {
      "cell_type": "code",
      "metadata": {
        "id": "vas_XKCaFAYt",
        "colab_type": "code",
        "colab": {}
      },
      "source": [
        "import tempfile, shutil"
      ],
      "execution_count": 0,
      "outputs": []
    },
    {
      "cell_type": "code",
      "metadata": {
        "id": "6j4bod52FAYv",
        "colab_type": "code",
        "colab": {}
      },
      "source": [
        "featurizer = dc.feat.ConvMolFeaturizer()\n",
        "loader = dc.data.CSVLoader(tasks=[\"bindingClass\"],\n",
        "    smiles_field=\"SMILES\",\n",
        "    featurizer=featurizer)"
      ],
      "execution_count": 0,
      "outputs": []
    },
    {
      "cell_type": "code",
      "metadata": {
        "id": "GxgSvQhuFAYy",
        "colab_type": "code",
        "colab": {}
      },
      "source": [
        "###featurizer = dc.feat.UserDefinedFeaturizer(user_specified_features)"
      ],
      "execution_count": 0,
      "outputs": []
    },
    {
      "cell_type": "code",
      "metadata": {
        "id": "W42lDTS8FAY0",
        "colab_type": "code",
        "colab": {}
      },
      "source": [
        "#featurizer = dc.feat.base_classes.UserDefinedFeaturizer(user_specified_features)"
      ],
      "execution_count": 0,
      "outputs": []
    },
    {
      "cell_type": "code",
      "metadata": {
        "id": "YIqkgVK5FAY2",
        "colab_type": "code",
        "colab": {}
      },
      "source": [
        "#loader = dc.data.data_loader.CSVLoader(\n",
        "###oader = dc.data.UserCSVLoader(\n",
        "      ###tasks=[\"bindingClass\"], smiles_field=['SMILES'], id_field=[\"casrn\"],\n",
        "     ### tasks=[\"bindingClass\"], id_field=\"casrn\",\n",
        "    ###  featurizer=featurizer)"
      ],
      "execution_count": 0,
      "outputs": []
    },
    {
      "cell_type": "code",
      "metadata": {
        "id": "KN0fdWC8FAY3",
        "colab_type": "code",
        "colab": {}
      },
      "source": [
        "g.to_csv('balanced.csv',index=False)"
      ],
      "execution_count": 0,
      "outputs": []
    },
    {
      "cell_type": "code",
      "metadata": {
        "id": "RczXfzQNFAY4",
        "colab_type": "code",
        "outputId": "ae9409c0-bff9-4d47-b0bb-7b55bd959014",
        "colab": {
          "base_uri": "https://localhost:8080/",
          "height": 34
        }
      },
      "source": [
        "g.columns"
      ],
      "execution_count": 65,
      "outputs": [
        {
          "output_type": "execute_result",
          "data": {
            "text/plain": [
              "Index(['bindingClass', 'casrn', 'SMILES', 'Mol', 'label'], dtype='object')"
            ]
          },
          "metadata": {
            "tags": []
          },
          "execution_count": 65
        }
      ]
    },
    {
      "cell_type": "code",
      "metadata": {
        "id": "7f1kst87FAY6",
        "colab_type": "code",
        "colab": {}
      },
      "source": [
        "###g.drop(columns=['s_sd_Canonical\\_QSARr','s_m_title','cas','cid', 'gsid',\n",
        "###       'dsstox_substance_id', 'preferred_name','InChI_Code_QSARr',\n",
        "###       'InChI Key_QSARr', 'BindingClass'])"
      ],
      "execution_count": 0,
      "outputs": []
    },
    {
      "cell_type": "code",
      "metadata": {
        "id": "KR4M2exNFAY7",
        "colab_type": "code",
        "colab": {}
      },
      "source": [
        "g.to_csv('balanced_droppedcols.csv',index=False)"
      ],
      "execution_count": 0,
      "outputs": []
    },
    {
      "cell_type": "code",
      "metadata": {
        "id": "JY__2nOBFAY-",
        "colab_type": "code",
        "colab": {}
      },
      "source": [
        "#dataset_file = \"test.csv\""
      ],
      "execution_count": 0,
      "outputs": []
    },
    {
      "cell_type": "code",
      "metadata": {
        "id": "A55-A1h7FAZA",
        "colab_type": "code",
        "colab": {}
      },
      "source": [
        "#dataset = pd.read_csv(\"balanced_droppedcols.csv\")"
      ],
      "execution_count": 0,
      "outputs": []
    },
    {
      "cell_type": "code",
      "metadata": {
        "id": "RUQFA1PFFAZB",
        "colab_type": "code",
        "colab": {}
      },
      "source": [
        "#user_specified_features = ['MW','AlogP','HBA','HBD','RB','HeavyAtomCount','ChiralCenterCount','ChiralCenterCountAllPossible','RingCount','PSA','Estate','MR','Polar','sLi_Key','ssBe_Key','ssssBem_Key','sBH2_Key','ssBH_Key','sssB_Key','ssssBm_Key','sCH3_Key','dCH2_Key','ssCH2_Key','tCH_Key','dsCH_Key','aaCH_Key','sssCH_Key','ddC_Key','tsC_Key','dssC_Key','aasC_Key','aaaC_Key','ssssC_Key','sNH3_Key','sNH2_Key','ssNH2_Key','dNH_Key','ssNH_Key','aaNH_Key','tN_Key','sssNH_Key','dsN_Key','aaN_Key','sssN_Key','ddsN_Key','aasN_Key','ssssN_Key','daaN_Key','sOH_Key','dO_Key','ssO_Key','aaO_Key','aOm_Key','sOm_Key','sF_Key','sSiH3_Key','ssSiH2_Key','sssSiH_Key','ssssSi_Key','sPH2_Key','ssPH_Key','sssP_Key','dsssP_Key','ddsP_Key','sssssP_Key','sSH_Key','dS_Key','ssS_Key','aaS_Key','dssS_Key','ddssS_Key','ssssssS_Key','Sm_Key','sCl_Key','sGeH3_Key','ssGeH2_Key','sssGeH_Key','ssssGe_Key','sAsH2_Key','ssAsH_Key','sssAs_Key','dsssAs_Key','ddsAs_Key','sssssAs_Key','sSeH_Key','dSe_Key','ssSe_Key','aaSe_Key','dssSe_Key','ssssssSe_Key','ddssSe_Key','sBr_Key','sSnH3_Key','ssSnH2_Key','sssSnH_Key','ssssSn_Key','sI_Key','sPbH3_Key','ssPbH2_Key','sssPbH_Key','ssssPb_Key','sLi_Cnt','ssBe_Cnt','ssssBem_Cnt','sBH2_Cnt','ssBH_Cnt','sssB_Cnt','ssssBm_Cnt','sCH3_Cnt','dCH2_Cnt','ssCH2_Cnt','tCH_Cnt','dsCH_Cnt','aaCH_Cnt','sssCH_Cnt','ddC_Cnt','tsC_Cnt','dssC_Cnt','aasC_Cnt','aaaC_Cnt','ssssC_Cnt','sNH3_Cnt','sNH2_Cnt','ssNH2_Cnt','dNH_Cnt','ssNH_Cnt','aaNH_Cnt','tN_Cnt','sssNH_Cnt','dsN_Cnt','aaN_Cnt','sssN_Cnt','ddsN_Cnt','aasN_Cnt','ssssN_Cnt','daaN_Cnt','sOH_Cnt','dO_Cnt','ssO_Cnt','aaO_Cnt','aOm_Cnt','sOm_Cnt','sF_Cnt','sSiH3_Cnt','ssSiH2_Cnt','sssSiH_Cnt','ssssSi_Cnt','sPH2_Cnt','ssPH_Cnt','sssP_Cnt','dsssP_Cnt','ddsP_Cnt','sssssP_Cnt','sSH_Cnt','dS_Cnt','ssS_Cnt','aaS_Cnt','dssS_Cnt','ddssS_Cnt','ssssssS_Cnt','Sm_Cnt','sCl_Cnt','sGeH3_Cnt','ssGeH2_Cnt','sssGeH_Cnt','ssssGe_Cnt','sAsH2_Cnt','ssAsH_Cnt','sssAs_Cnt','dsssAs_Cnt','ddsAs_Cnt','sssssAs_Cnt','sSeH_Cnt','dSe_Cnt','ssSe_Cnt','aaSe_Cnt','dssSe_Cnt','ssssssSe_Cnt','ddssSe_Cnt','sBr_Cnt','sSnH3_Cnt','ssSnH2_Cnt','sssSnH_Cnt','ssssSn_Cnt','sI_Cnt','sPbH3_Cnt','ssPbH2_Cnt','sssPbH_Cnt','ssssPb_Cnt','sLi_Sum','ssBe_Sum','ssssBem_Sum','sBH2_Sum','ssBH_Sum','sssB_Sum','ssssBm_Sum','sCH3_Sum','dCH2_Sum','ssCH2_Sum','tCH_Sum','dsCH_Sum','aaCH_Sum','sssCH_Sum','ddC_Sum','tsC_Sum','dssC_Sum','aasC_Sum','aaaC_Sum','ssssC_Sum','sNH3_Sum','sNH2_Sum','ssNH2_Sum','dNH_Sum','ssNH_Sum','aaNH_Sum','tN_Sum','sssNH_Sum','dsN_Sum','aaN_Sum','sssN_Sum','ddsN_Sum','aasN_Sum','ssssN_Sum','daaN_Sum','sOH_Sum','dO_Sum','ssO_Sum','aaO_Sum','aOm_Sum','sOm_Sum','sF_Sum','sSiH3_Sum','ssSiH2_Sum','sssSiH_Sum','ssssSi_Sum','sPH2_Sum','ssPH_Sum','sssP_Sum','dsssP_Sum','ddsP_Sum','sssssP_Sum','sSH_Sum','dS_Sum','ssS_Sum','aaS_Sum','dssS_Sum','ddssS_Sum','ssssssS_Sum','Sm_Sum','sCl_Sum','sGeH3_Sum','ssGeH2_Sum','sssGeH_Sum','ssssGe_Sum','sAsH2_Sum','ssAsH_Sum','sssAs_Sum','dsssAs_Sum','ddsAs_Sum','sssssAs_Sum','sSeH_Sum','dSe_Sum','ssSe_Sum','aaSe_Sum','dssSe_Sum','ssssssSe_Sum','ddssSe_Sum','sBr_Sum','sSnH3_Sum','ssSnH2_Sum','sssSnH_Sum','ssssSn_Sum','sI_Sum','sPbH3_Sum','ssPbH2_Sum','sssPbH_Sum','ssssPb_Sum','sLi_Avg','ssBe_Avg','ssssBem_Avg','sBH2_Avg','ssBH_Avg','sssB_Avg','ssssBm_Avg','sCH3_Avg','dCH2_Avg','ssCH2_Avg','tCH_Avg','dsCH_Avg','aaCH_Avg','sssCH_Avg','ddC_Avg','tsC_Avg','dssC_Avg','aasC_Avg','aaaC_Avg','ssssC_Avg','sNH3_Avg','sNH2_Avg','ssNH2_Avg','dNH_Avg','ssNH_Avg','aaNH_Avg','tN_Avg','sssNH_Avg','dsN_Avg','aaN_Avg','sssN_Avg','ddsN_Avg','aasN_Avg','ssssN_Avg','daaN_Avg','sOH_Avg','dO_Avg','ssO_Avg','aaO_Avg','aOm_Avg','sOm_Avg','sF_Avg','sSiH3_Avg','ssSiH2_Avg','sssSiH_Avg','ssssSi_Avg','sPH2_Avg','ssPH_Avg','sssP_Avg','dsssP_Avg','ddsP_Avg','sssssP_Avg','sSH_Avg','dS_Avg','ssS_Avg','aaS_Avg','dssS_Avg','ddssS_Avg','ssssssS_Avg','Sm_Avg','sCl_Avg','sGeH3_Avg','ssGeH2_Avg','sssGeH_Avg','ssssGe_Avg','sAsH2_Avg','ssAsH_Avg','sssAs_Avg','dsssAs_Avg','ddsAs_Avg','sssssAs_Avg','sSeH_Avg','dSe_Avg','ssSe_Avg','aaSe_Avg','dssSe_Avg','ssssssSe_Avg','ddssSe_Avg','sBr_Avg','sSnH3_Avg','ssSnH2_Avg','sssSnH_Avg','ssssSn_Avg','sI_Avg','sPbH3_Avg','ssPbH2_Avg','sssPbH_Avg','ssssPb_Avg','First Zagreb (ZM1)','First Zagreb index by valence vertex degrees (ZM1V)','Second Zagreb (ZM2)','Second Zagreb index by valence vertex degrees (ZM2V)','Polarity (Pol)','Narumi Simple Topological (NST)','Narumi Harmonic Topological (NHT)','Narumi Geometric Topological (NGT)','Total structure connectivity (TSC)','Wiener (W)','Mean Wiener (MW)','Xu (Xu)','Quadratic (QIndex)','Radial centric (RC)','Mean Square Distance Balaban (MSDB)','Superpendentic (SP)','Harary (Har)','Log of product of row sums (LPRS)','Pogliani (Pog)','Schultz Molecular Topological (SMT)','Schultz Molecular Topological by valence vertex degrees (SMTV)','Mean Distance Degree Deviation (MDDD)','Ramification (Ram)','Gutman Molecular Topological (GMT)','Gutman MTI by valence vertex degrees (GMTV)','Average vertex distance degree (AVDD)','Unipolarity (UP)','Centralization (CENT)','Variation (VAR)','Molecular electrotopological variation (MEV)','Maximal electrotopological positive variation (MEPV)','Maximal electrotopological negative variation (MENV)','Eccentric connectivity (ECCc)','Eccentricity (ECC)','Average eccentricity (AECC)','Eccentric (DECC)','Valence connectivity index chi-0 (vX0)','Valence connectivity index chi-1 (vX1)','Valence connectivity index chi-2 (vX2)','Valence connectivity index chi-3 (vX3)','Valence connectivity index chi-4 (vX4)','Valence connectivity index chi-5 (vX5)','Average valence connectivity index chi-0 (AvX0)','Average valence connectivity index chi-1 (AvX1)','Average valence connectivity index chi-2 (AvX2)','Average valence connectivity index chi-3 (AvX3)','Average valence connectivity index chi-4 (AvX4)','Average valence connectivity index chi-5 (AvX5)','Quasi Wiener (QW)','First Mohar (FM)','Second Mohar (SM)','Spanning tree number (STN)','Kier benzene-likeliness index (KBLI)','Topological charge index of order 1 (TCI1)','Topological charge index of order 2 (TCI2)','Topological charge index of order 3 (TCI3)','Topological charge index of order 4 (TCI4)','Topological charge index of order 5 (TCI5)','Topological charge index of order 6 (TCI6)','Topological charge index of order 7 (TCI7)','Topological charge index of order 8 (TCI8)','Topological charge index of order 9 (TCI9)','Topological charge index of order 10 (TCI10)','Mean topological charge index of order 1 (MTCI1)','Mean topological charge index of order 2 (MTCI2)','Mean topological charge index of order 3 (MTCI3)','Mean topological charge index of order 4 (MTCI4)','Mean topological charge index of order 5 (MTCI5)','Mean topological charge index of order 6 (MTCI6)','Mean topological charge index of order 7 (MTCI7)','Mean topological charge index of order 8 (MTCI8)','Mean topological charge index of order 9 (MTCI9)','Mean topological charge index of order 10 (MTCI10)','Global topological charge (GTC)','Hyper-distance-path index (HDPI)','Reciprocal hyper-distance-path index (RHDPI)','Square reciprocal distance sum (SRDS)','Modified Randic connectivity (MRC)','Balaban centric (BC)','Lopping centric (LC)','Kier Hall electronegativity (KHE)','Sum of topological distances between N..N (STD(N N))','Sum of topological distances between N..O (STD(N O))','Sum of topological distances between N..S (STD(N S))','Sum of topological distances between N..P (STD(N P))','Sum of topological distances between N..F (STD(N F))','Sum of topological distances between N..Cl (STD(N Cl))','Sum of topological distances between N..Br (STD(N Br))','Sum of topological distances between N..I (STD(N I))','Sum of topological distances between O..O (STD(O O))','Sum of topological distances between O..S (STD(O S))','Sum of topological distances between O..P (STD(O P))','Sum of topological distances between O..F (STD(O F))','Sum of topological distances between O..Cl (STD(O Cl))','Sum of topological distances between O..Br (STD(O Br))','Sum of topological distances between O..I (STD(O I))','Sum of topological distances between S..S (STD(S S))','Sum of topological distances between S..P (STD(S P))','Sum of topological distances between S..F (STD(S F))','Sum of topological distances between S..Cl (STD(S Cl))','Sum of topological distances between S..Br (STD(S Br))','Sum of topological distances between S..I (STD(S I))','Sum of topological distances between P..P (STD(P P))','Sum of topological distances between P..F (STD(P F))','Sum of topological distances between P..Cl (STD(P Cl))','Sum of topological distances between P..Br (STD(P Br))','Sum of topological distances between P..I (STD(P I))','Sum of topological distances between F..F (STD(F F))','Sum of topological distances between F..Cl (STD(F Cl))','Sum of topological distances between F..Br (STD(F Br))','Sum of topological distances between F..I (STD(F I))','Sum of topological distances between Cl..Cl (STD(Cl Cl))','Sum of topological distances between Cl..Br (STD(Cl Br))','Sum of topological distances between Cl..I (STD(Cl I))','Sum of topological distances between Br..Br (STD(Br Br))','Sum of topological distances between Br..I (STD(Br I))','Sum of topological distances between I..I (STD(I I))','Wiener-type index from Z weighted distance matrix - Barysz matrix (WhetZ)','Wiener-type index from electronegativity weighted distance matrix (Whete)','Wiener-type index from mass weighted distance matrix (Whetm)','Wiener-type index from van der waals weighted distance matrix (Whetv)','Wiener-type index from polarizability weighted distance matrix (Whetp)','Balaban-type index from Z weighted distance matrix - Barysz matrix (JhetZ)','Balaban-type index from electronegativity weighted distance matrix (Jhete)','Balaban-type index from mass weighted distance matrix (Jhetm)','Balaban-type index from van der waals weighted distance matrix (Jhetv)','Balaban-type index from polarizability weighted distance matrix (Jhetp)','Topological diameter (TD)','Topological radius (TR)','Petitjean 2D shape (PJ2DS)','Balaban distance connectivity index (J)','Solvation connectivity index chi-0 (SCIX0)','Solvation connectivity index chi-1 (SCIX1)','Solvation connectivity index chi-2 (SCIX2)','Solvation connectivity index chi-3 (SCIX3)','Solvation connectivity index chi-4 (SCIX4)','Solvation connectivity index chi-5 (SCIX5)','Connectivity index chi-0 (CIX0)','Connectivity chi-1 [Randic connectivity] (CIX1)','Connectivity index chi-2 (CIX2)','Connectivity index chi-3 (CIX3)','Connectivity index chi-4 (CIX4)','Connectivity index chi-5 (CIX5)','Average connectivity index chi-0 (ACIX0)','Average connectivity index chi-1 (ACIX1)','Average connectivity index chi-2 (ACIX2)','Average connectivity index chi-3 (ACIX3)','Average connectivity index chi-4 (ACIX4)','Average connectivity index chi-5 (ACIX5)','reciprocal distance Randic-type index (RDR)','reciprocal distance square Randic-type index (RDSR)','1-path Kier alpha-modified shape index (KAMS1)','2-path Kier alpha-modified shape index (KAMS2)','3-path Kier alpha-modified shape index (KAMS3)','Kier flexibility (KF)','path/walk 2 - Randic shape index (RSIpw2)','path/walk 3 - Randic shape index (RSIpw3)','path/walk 4 - Randic shape index (RSIpw4)','path/walk 5 - Randic shape index (RSIpw5)','E-state topological parameter (ETP)','Ring Count 3 (RNGCNT3)','Ring Count 4 (RNGCNT4)','Ring Count 5 (RNGCNT5)','Ring Count 6 (RNGCNT6)','Ring Count 7 (RNGCNT7)','Ring Count 8 (RNGCNT8)','Ring Count 9 (RNGCNT9)','Ring Count 10 (RNGCNT10)','Ring Count 11 (RNGCNT11)','Ring Count 12 (RNGCNT12)','Ring Count 13 (RNGCNT13)','Ring Count 14 (RNGCNT14)','Ring Count 15 (RNGCNT15)','Ring Count 16 (RNGCNT16)','Ring Count 17 (RNGCNT17)','Ring Count 18 (RNGCNT18)','Ring Count 19 (RNGCNT19)','Ring Count 20 (RNGCNT20)','Atom Count (ATMCNT)','Bond Count (BNDCNT)','Atoms in Ring System (ATMRNGCNT)','Bonds in Ring System (BNDRNGCNT)','Cyclomatic number (CYCLONUM)','Number of ring systems (NRS)','Normalized number of ring systems (NNRS)','Ring Fusion degree (RFD)','Ring perimeter (RNGPERM)','Ring bridge count (RNGBDGE)','Molecule cyclized degree (MCD)','Ring Fusion density (RFDELTA)','Ring complexity index (RCI)','Van der Waals surface area (VSA)','MR1 (MR1)','MR2 (MR2)','MR3 (MR3)','MR4 (MR4)','MR5 (MR5)','MR6 (MR6)','MR7 (MR7)','MR8 (MR8)','ALOGP1 (ALOGP1)','ALOGP2 (ALOGP2)','ALOGP3 (ALOGP3)','ALOGP4 (ALOGP4)','ALOGP5 (ALOGP5)','ALOGP6 (ALOGP6)','ALOGP7 (ALOGP7)','ALOGP8 (ALOGP8)','ALOGP9 (ALOGP9)','ALOGP10 (ALOGP10)','PEOE1 (PEOE1)','PEOE2 (PEOE2)','PEOE3 (PEOE3)','PEOE4 (PEOE4)','PEOE5 (PEOE5)','PEOE6 (PEOE6)','PEOE7 (PEOE7)','PEOE8 (PEOE8)','PEOE9 (PEOE9)','PEOE10 (PEOE10)','PEOE11 (PEOE11)','PEOE12 (PEOE12)','PEOE13 (PEOE13)','PEOE14 (PEOE14)']"
      ],
      "execution_count": 0,
      "outputs": []
    },
    {
      "cell_type": "code",
      "metadata": {
        "id": "yKKWkGmHFAZD",
        "colab_type": "code",
        "colab": {}
      },
      "source": [
        "#current_dir = os.path.dirname(os.path.realpath(\"__file__\"))\n",
        "#dc.utils.download_url(\"https://s3-us-west-1.amazonaws.com/deepchem.io/datasets/desc_canvas_aug30.csv\",\n",
        "#                      current_dir)\n",
        "#dataset_file = \"desc_canvas_aug30.csv\""
      ],
      "execution_count": 0,
      "outputs": []
    },
    {
      "cell_type": "code",
      "metadata": {
        "id": "4Jg-f4-xM4_f",
        "colab_type": "code",
        "colab": {}
      },
      "source": [
        "current_dir = os.path.dirname(os.path.realpath(\"__file__\"))\n",
        "dc.utils.download_url(\"https://hermes.chem.ut.ee/~alfx/ML/balanced_droppedcols1.csv\",  current_dir)"
      ],
      "execution_count": 0,
      "outputs": []
    },
    {
      "cell_type": "code",
      "metadata": {
        "id": "fnlIR1raFAZF",
        "colab_type": "code",
        "colab": {}
      },
      "source": [
        "dataset_file = \"balanced_droppedcols.csv\""
      ],
      "execution_count": 0,
      "outputs": []
    },
    {
      "cell_type": "code",
      "metadata": {
        "id": "C9Vz0J0zFAZH",
        "colab_type": "code",
        "outputId": "52f87a46-3f2c-45e5-d097-a3d99b8be593",
        "colab": {
          "base_uri": "https://localhost:8080/",
          "height": 105
        }
      },
      "source": [
        "dataset = loader.featurize(dataset_file)"
      ],
      "execution_count": 74,
      "outputs": [
        {
          "output_type": "stream",
          "text": [
            "/content/deepchem/deepchem/data/data_loader.py:268: FutureWarning: featurize() is deprecated and has been renamed to create_dataset(). featurize() will be removed in DeepChem 3.0\n",
            "  FutureWarning)\n"
          ],
          "name": "stderr"
        },
        {
          "output_type": "stream",
          "text": [
            "About to start loading CSV from balanced_droppedcols.csv\n",
            "Loading shard 1 of size 8192.\n"
          ],
          "name": "stdout"
        }
      ]
    },
    {
      "cell_type": "code",
      "metadata": {
        "id": "EGInx5CTFAZJ",
        "colab_type": "code",
        "colab": {}
      },
      "source": [
        "#dataset = loader.featurize(f)"
      ],
      "execution_count": 0,
      "outputs": []
    },
    {
      "cell_type": "code",
      "metadata": {
        "id": "TfqQP10KFAZL",
        "colab_type": "code",
        "outputId": "e4d6303d-3fab-4c42-ee89-639e0205a3c9",
        "colab": {
          "base_uri": "https://localhost:8080/",
          "height": 105
        }
      },
      "source": [
        "dataset"
      ],
      "execution_count": 76,
      "outputs": [
        {
          "output_type": "execute_result",
          "data": {
            "text/plain": [
              "<DiskDataset X.shape: (410,), y.shape: (410, 1), w.shape: (410, 1), ids: ['CCCC(=O)OC(C)(C)Cc1ccccc1' 'CCNc1ccccc1' 'O=P(OCCCl)(OCCCl)OCCCl' ...\n",
              " 'CC(C)(C)c1cc(C)cc(Cc2cc(C)cc(c2O)C(C)(C)C)c1O'\n",
              " 'Cc1c(Cl)cc(cc1Cl)C(=O)NC(C)(CC)C(=O)CCl'\n",
              " 'O=P(OC(CCl)CCl)(OC(CCl)CCl)OC(CCl)CCl'], task_names: ['bindingClass']>"
            ]
          },
          "metadata": {
            "tags": []
          },
          "execution_count": 76
        }
      ]
    },
    {
      "cell_type": "code",
      "metadata": {
        "id": "Y22vBs8HFAZM",
        "colab_type": "code",
        "colab": {}
      },
      "source": [
        ""
      ],
      "execution_count": 0,
      "outputs": []
    },
    {
      "cell_type": "code",
      "metadata": {
        "id": "HEg67vPZdcVi",
        "colab_type": "code",
        "colab": {}
      },
      "source": [
        "current_dir = os.path.dirname(os.path.realpath(\"__file__\"))\n",
        "dc.utils.download_url(\"https://hermes.chem.ut.ee/~alfx/ML/Eval_set_smi.csv\",  current_dir)"
      ],
      "execution_count": 0,
      "outputs": []
    },
    {
      "cell_type": "code",
      "metadata": {
        "id": "Y1N9LgXtdmFb",
        "colab_type": "code",
        "colab": {}
      },
      "source": [
        "eval_df = pd.read_csv(\"Eval_set_smi.csv\",sep=\" \")"
      ],
      "execution_count": 0,
      "outputs": []
    },
    {
      "cell_type": "code",
      "metadata": {
        "id": "kuh-gyjEec45",
        "colab_type": "code",
        "outputId": "1e4effd4-c0ef-467a-8124-bda039e66a8e",
        "colab": {
          "base_uri": "https://localhost:8080/",
          "height": 419
        }
      },
      "source": [
        "eval_df"
      ],
      "execution_count": 79,
      "outputs": [
        {
          "output_type": "execute_result",
          "data": {
            "text/html": [
              "<div>\n",
              "<style scoped>\n",
              "    .dataframe tbody tr th:only-of-type {\n",
              "        vertical-align: middle;\n",
              "    }\n",
              "\n",
              "    .dataframe tbody tr th {\n",
              "        vertical-align: top;\n",
              "    }\n",
              "\n",
              "    .dataframe thead th {\n",
              "        text-align: right;\n",
              "    }\n",
              "</style>\n",
              "<table border=\"1\" class=\"dataframe\">\n",
              "  <thead>\n",
              "    <tr style=\"text-align: right;\">\n",
              "      <th></th>\n",
              "      <th>bindingClass</th>\n",
              "      <th>casrn</th>\n",
              "      <th>SMILES</th>\n",
              "    </tr>\n",
              "  </thead>\n",
              "  <tbody>\n",
              "    <tr>\n",
              "      <th>0</th>\n",
              "      <td>1</td>\n",
              "      <td>123-30-8</td>\n",
              "      <td>NC1=CC=C(O)C=C1</td>\n",
              "    </tr>\n",
              "    <tr>\n",
              "      <th>1</th>\n",
              "      <td>1</td>\n",
              "      <td>153-78-6</td>\n",
              "      <td>NC1C=C2CC3=CC=CC=C3C2=CC=1</td>\n",
              "    </tr>\n",
              "    <tr>\n",
              "      <th>2</th>\n",
              "      <td>1</td>\n",
              "      <td>80809-81-0</td>\n",
              "      <td>CC1C(=O)C(CCCCC#CCCCC#CCO)=C(C)C(=O)C=1C</td>\n",
              "    </tr>\n",
              "    <tr>\n",
              "      <th>3</th>\n",
              "      <td>1</td>\n",
              "      <td>54965-21-8</td>\n",
              "      <td>CCCSC1C=C2N=C(NC(=O)OC)NC2=CC=1</td>\n",
              "    </tr>\n",
              "    <tr>\n",
              "      <th>4</th>\n",
              "      <td>1</td>\n",
              "      <td>28981-97-7</td>\n",
              "      <td>CC1=NN=C2CN=C(C3=CC(Cl)=CC=C3N21)C1C=CC=CC=1</td>\n",
              "    </tr>\n",
              "    <tr>\n",
              "      <th>...</th>\n",
              "      <td>...</td>\n",
              "      <td>...</td>\n",
              "      <td>...</td>\n",
              "    </tr>\n",
              "    <tr>\n",
              "      <th>3877</th>\n",
              "      <td>0</td>\n",
              "      <td>173159-57-4</td>\n",
              "      <td>CN(C)C(=O)C1C=CC(=CC=1S(=O)(=O)NC(=O)NC1N=C(C=...</td>\n",
              "    </tr>\n",
              "    <tr>\n",
              "      <th>3878</th>\n",
              "      <td>0</td>\n",
              "      <td>144651-06-9</td>\n",
              "      <td>CC1=CC(C)=NC(NC(=O)NS(=O)(=O)C2C=CC=CC=2C(=O)O...</td>\n",
              "    </tr>\n",
              "    <tr>\n",
              "      <th>3879</th>\n",
              "      <td>0</td>\n",
              "      <td>41318-75-6</td>\n",
              "      <td>BrC1=CC(Br)=C(C=C1)OC1C=CC(Br)=CC=1</td>\n",
              "    </tr>\n",
              "    <tr>\n",
              "      <th>3880</th>\n",
              "      <td>0</td>\n",
              "      <td>84852-53-9</td>\n",
              "      <td>BrC1C(CCC2=C(Br)C(Br)=C(Br)C(Br)=C2Br)=C(Br)C(...</td>\n",
              "    </tr>\n",
              "    <tr>\n",
              "      <th>3881</th>\n",
              "      <td>0</td>\n",
              "      <td>207122-16-5</td>\n",
              "      <td>BrC1C=C(Br)C(Br)=C(Br)C=1OC1C=C(Br)C(Br)=CC=1Br</td>\n",
              "    </tr>\n",
              "  </tbody>\n",
              "</table>\n",
              "<p>3882 rows × 3 columns</p>\n",
              "</div>"
            ],
            "text/plain": [
              "      bindingClass  ...                                             SMILES\n",
              "0                1  ...                                    NC1=CC=C(O)C=C1\n",
              "1                1  ...                         NC1C=C2CC3=CC=CC=C3C2=CC=1\n",
              "2                1  ...           CC1C(=O)C(CCCCC#CCCCC#CCO)=C(C)C(=O)C=1C\n",
              "3                1  ...                    CCCSC1C=C2N=C(NC(=O)OC)NC2=CC=1\n",
              "4                1  ...       CC1=NN=C2CN=C(C3=CC(Cl)=CC=C3N21)C1C=CC=CC=1\n",
              "...            ...  ...                                                ...\n",
              "3877             0  ...  CN(C)C(=O)C1C=CC(=CC=1S(=O)(=O)NC(=O)NC1N=C(C=...\n",
              "3878             0  ...  CC1=CC(C)=NC(NC(=O)NS(=O)(=O)C2C=CC=CC=2C(=O)O...\n",
              "3879             0  ...                BrC1=CC(Br)=C(C=C1)OC1C=CC(Br)=CC=1\n",
              "3880             0  ...  BrC1C(CCC2=C(Br)C(Br)=C(Br)C(Br)=C2Br)=C(Br)C(...\n",
              "3881             0  ...    BrC1C=C(Br)C(Br)=C(Br)C=1OC1C=C(Br)C(Br)=CC=1Br\n",
              "\n",
              "[3882 rows x 3 columns]"
            ]
          },
          "metadata": {
            "tags": []
          },
          "execution_count": 79
        }
      ]
    },
    {
      "cell_type": "code",
      "metadata": {
        "id": "TgVIsudAgz9N",
        "colab_type": "code",
        "colab": {}
      },
      "source": [
        "bal_eval = eval_df\n",
        "eval_df.to_csv('Eval_set_smi2.csv',index=False)"
      ],
      "execution_count": 0,
      "outputs": []
    },
    {
      "cell_type": "code",
      "metadata": {
        "id": "4Qkl7mvphXAQ",
        "colab_type": "code",
        "colab": {}
      },
      "source": [
        "eval_dataset_file = \"Eval_set_smi2.csv\""
      ],
      "execution_count": 0,
      "outputs": []
    },
    {
      "cell_type": "code",
      "metadata": {
        "id": "vMb6O98IhApC",
        "colab_type": "code",
        "outputId": "5337c492-81c8-4ab3-dab6-73ae986001e6",
        "colab": {
          "base_uri": "https://localhost:8080/",
          "height": 105
        }
      },
      "source": [
        "eval_dataset = loader.featurize(eval_dataset_file)"
      ],
      "execution_count": 82,
      "outputs": [
        {
          "output_type": "stream",
          "text": [
            "/content/deepchem/deepchem/data/data_loader.py:268: FutureWarning: featurize() is deprecated and has been renamed to create_dataset(). featurize() will be removed in DeepChem 3.0\n",
            "  FutureWarning)\n"
          ],
          "name": "stderr"
        },
        {
          "output_type": "stream",
          "text": [
            "About to start loading CSV from Eval_set_smi2.csv\n",
            "Loading shard 1 of size 8192.\n"
          ],
          "name": "stdout"
        }
      ]
    },
    {
      "cell_type": "code",
      "metadata": {
        "id": "FtdkrfcVd5g6",
        "colab_type": "code",
        "colab": {}
      },
      "source": [
        "#bal_eval = eval_df.groupby('bindingClass')\n",
        "#bal_eval = pd.DataFrame(eval_df.apply(lambda x: x.sample(eval_df.size().min()).reset_index(drop=True)))"
      ],
      "execution_count": 0,
      "outputs": []
    },
    {
      "cell_type": "code",
      "metadata": {
        "id": "QgPogQbX9I0u",
        "colab_type": "code",
        "colab": {}
      },
      "source": [
        "valid_dataset = eval_dataset"
      ],
      "execution_count": 0,
      "outputs": []
    },
    {
      "cell_type": "code",
      "metadata": {
        "id": "aY3oIMwkhDoZ",
        "colab_type": "code",
        "colab": {}
      },
      "source": [
        "current_dir = os.path.dirname(os.path.realpath(\"__file__\"))\n",
        "dc.utils.download_url(\"https://hermes.chem.ut.ee/~alfx/ML/to_score4.csv\",  current_dir)"
      ],
      "execution_count": 0,
      "outputs": []
    },
    {
      "cell_type": "code",
      "metadata": {
        "id": "moihVuLuhD71",
        "colab_type": "code",
        "colab": {}
      },
      "source": [
        "toscore_df = pd.read_csv(\"to_score4.csv\",sep=\" \")"
      ],
      "execution_count": 0,
      "outputs": []
    },
    {
      "cell_type": "code",
      "metadata": {
        "id": "QLkmnbG8dcU1",
        "colab_type": "code",
        "colab": {}
      },
      "source": [
        ""
      ],
      "execution_count": 0,
      "outputs": []
    },
    {
      "cell_type": "code",
      "metadata": {
        "id": "xxGX2rLtdR_b",
        "colab_type": "code",
        "outputId": "b72eed6b-167f-4fa4-d97f-c1cefec3ecd6",
        "colab": {
          "base_uri": "https://localhost:8080/",
          "height": 419
        }
      },
      "source": [
        "toscore_df"
      ],
      "execution_count": 87,
      "outputs": [
        {
          "output_type": "execute_result",
          "data": {
            "text/html": [
              "<div>\n",
              "<style scoped>\n",
              "    .dataframe tbody tr th:only-of-type {\n",
              "        vertical-align: middle;\n",
              "    }\n",
              "\n",
              "    .dataframe tbody tr th {\n",
              "        vertical-align: top;\n",
              "    }\n",
              "\n",
              "    .dataframe thead th {\n",
              "        text-align: right;\n",
              "    }\n",
              "</style>\n",
              "<table border=\"1\" class=\"dataframe\">\n",
              "  <thead>\n",
              "    <tr style=\"text-align: right;\">\n",
              "      <th></th>\n",
              "      <th>ID</th>\n",
              "      <th>casrn</th>\n",
              "      <th>SMILES</th>\n",
              "    </tr>\n",
              "  </thead>\n",
              "  <tbody>\n",
              "    <tr>\n",
              "      <th>0</th>\n",
              "      <td>viira18b</td>\n",
              "      <td>94709-48-5</td>\n",
              "      <td>CC1=CC=C(C=C1)NC1=NC(NC(=N1)NC1=CC=C(C=C1)C)=O</td>\n",
              "    </tr>\n",
              "    <tr>\n",
              "      <th>1</th>\n",
              "      <td>stev4</td>\n",
              "      <td>2084805-91-2</td>\n",
              "      <td>S1C(=NC2=C1C=CC=C2)C=NNC(=O)C=2SC=CC2</td>\n",
              "    </tr>\n",
              "    <tr>\n",
              "      <th>2</th>\n",
              "      <td>stev1</td>\n",
              "      <td>315214-08-5</td>\n",
              "      <td>BrC1=CC=C(S1)C=NNC(=O)C=1OC=CC1</td>\n",
              "    </tr>\n",
              "    <tr>\n",
              "      <th>3</th>\n",
              "      <td>stev2</td>\n",
              "      <td>315206-42-9</td>\n",
              "      <td>BrC1=CC=C(S1)C=NNC(=O)C=1SC=CC1</td>\n",
              "    </tr>\n",
              "    <tr>\n",
              "      <th>4</th>\n",
              "      <td>DeRoy</td>\n",
              "      <td>1-1-1</td>\n",
              "      <td>CC(C)C1=C(O)C(=O)C2=C(CC=C3C(C)(C)CCC[C@]23C)C1=O</td>\n",
              "    </tr>\n",
              "    <tr>\n",
              "      <th>...</th>\n",
              "      <td>...</td>\n",
              "      <td>...</td>\n",
              "      <td>...</td>\n",
              "    </tr>\n",
              "    <tr>\n",
              "      <th>107</th>\n",
              "      <td>parp_x33</td>\n",
              "      <td>853754-69-5</td>\n",
              "      <td>O=C1C=CC(=NN1)C(=O)C1=CC(=NN1)NS(=O)(=O)C1=COC=C1</td>\n",
              "    </tr>\n",
              "    <tr>\n",
              "      <th>108</th>\n",
              "      <td>parp_x34</td>\n",
              "      <td>1198-33-0</td>\n",
              "      <td>CN1C=2NC(NC(C2N=C1)=O)=O</td>\n",
              "    </tr>\n",
              "    <tr>\n",
              "      <th>109</th>\n",
              "      <td>cdk2_4a</td>\n",
              "      <td>5461-03-0</td>\n",
              "      <td>NC=1NC=2NC(NC(C2N1)=O)=O</td>\n",
              "    </tr>\n",
              "    <tr>\n",
              "      <th>110</th>\n",
              "      <td>cdk2_4b</td>\n",
              "      <td>769-97-1</td>\n",
              "      <td>O=C1NC(C=C(N1)C(=O)N)=O</td>\n",
              "    </tr>\n",
              "    <tr>\n",
              "      <th>111</th>\n",
              "      <td>cdk2_4c</td>\n",
              "      <td>914810-46-1</td>\n",
              "      <td>N1C=NC=C1CC(=O)C=1NC2N=C(NC(C2N1)=O)CC(=O)O</td>\n",
              "    </tr>\n",
              "  </tbody>\n",
              "</table>\n",
              "<p>112 rows × 3 columns</p>\n",
              "</div>"
            ],
            "text/plain": [
              "           ID         casrn                                             SMILES\n",
              "0    viira18b    94709-48-5     CC1=CC=C(C=C1)NC1=NC(NC(=N1)NC1=CC=C(C=C1)C)=O\n",
              "1       stev4  2084805-91-2              S1C(=NC2=C1C=CC=C2)C=NNC(=O)C=2SC=CC2\n",
              "2       stev1   315214-08-5                    BrC1=CC=C(S1)C=NNC(=O)C=1OC=CC1\n",
              "3       stev2   315206-42-9                    BrC1=CC=C(S1)C=NNC(=O)C=1SC=CC1\n",
              "4       DeRoy         1-1-1  CC(C)C1=C(O)C(=O)C2=C(CC=C3C(C)(C)CCC[C@]23C)C1=O\n",
              "..        ...           ...                                                ...\n",
              "107  parp_x33   853754-69-5  O=C1C=CC(=NN1)C(=O)C1=CC(=NN1)NS(=O)(=O)C1=COC=C1\n",
              "108  parp_x34     1198-33-0                           CN1C=2NC(NC(C2N=C1)=O)=O\n",
              "109   cdk2_4a     5461-03-0                           NC=1NC=2NC(NC(C2N1)=O)=O\n",
              "110   cdk2_4b      769-97-1                            O=C1NC(C=C(N1)C(=O)N)=O\n",
              "111   cdk2_4c   914810-46-1        N1C=NC=C1CC(=O)C=1NC2N=C(NC(C2N1)=O)CC(=O)O\n",
              "\n",
              "[112 rows x 3 columns]"
            ]
          },
          "metadata": {
            "tags": []
          },
          "execution_count": 87
        }
      ]
    },
    {
      "cell_type": "code",
      "metadata": {
        "id": "C3IUGhcamD0t",
        "colab_type": "code",
        "colab": {}
      },
      "source": [
        "rows,cols=toscore_df.shape"
      ],
      "execution_count": 0,
      "outputs": []
    },
    {
      "cell_type": "code",
      "metadata": {
        "id": "-r27H6k8mTym",
        "colab_type": "code",
        "colab": {}
      },
      "source": [
        "# Just add add a dummy column to keep the featurizer happy\n",
        "toscore_df[\"bindingClass\"] = [0] * rows "
      ],
      "execution_count": 0,
      "outputs": []
    },
    {
      "cell_type": "code",
      "metadata": {
        "id": "_FewDQoAmE7h",
        "colab_type": "code",
        "colab": {}
      },
      "source": [
        ""
      ],
      "execution_count": 0,
      "outputs": []
    },
    {
      "cell_type": "code",
      "metadata": {
        "id": "rETZVewvmFtD",
        "colab_type": "code",
        "colab": {}
      },
      "source": [
        ""
      ],
      "execution_count": 0,
      "outputs": []
    },
    {
      "cell_type": "code",
      "metadata": {
        "id": "IE2jUMmShEQE",
        "colab_type": "code",
        "colab": {}
      },
      "source": [
        "toscore_df.to_csv('to_score4B.csv',index=False)"
      ],
      "execution_count": 0,
      "outputs": []
    },
    {
      "cell_type": "code",
      "metadata": {
        "id": "IZiaD7ubhEhd",
        "colab_type": "code",
        "colab": {}
      },
      "source": [
        "toscore_dataset_file = \"to_score4B.csv\""
      ],
      "execution_count": 0,
      "outputs": []
    },
    {
      "cell_type": "code",
      "metadata": {
        "id": "VUiHDWYnhEzE",
        "colab_type": "code",
        "outputId": "29fd4b9c-73be-480f-d564-63a3ff38afa0",
        "colab": {
          "base_uri": "https://localhost:8080/",
          "height": 105
        }
      },
      "source": [
        "toscore_dataset = loader.featurize(toscore_dataset_file)"
      ],
      "execution_count": 92,
      "outputs": [
        {
          "output_type": "stream",
          "text": [
            "/content/deepchem/deepchem/data/data_loader.py:268: FutureWarning: featurize() is deprecated and has been renamed to create_dataset(). featurize() will be removed in DeepChem 3.0\n",
            "  FutureWarning)\n"
          ],
          "name": "stderr"
        },
        {
          "output_type": "stream",
          "text": [
            "About to start loading CSV from to_score4B.csv\n",
            "Loading shard 1 of size 8192.\n"
          ],
          "name": "stdout"
        }
      ]
    },
    {
      "cell_type": "code",
      "metadata": {
        "id": "PXynmhAQhFEw",
        "colab_type": "code",
        "colab": {}
      },
      "source": [
        ""
      ],
      "execution_count": 0,
      "outputs": []
    },
    {
      "cell_type": "code",
      "metadata": {
        "id": "6-IR8yX1hFaQ",
        "colab_type": "code",
        "colab": {}
      },
      "source": [
        ""
      ],
      "execution_count": 0,
      "outputs": []
    },
    {
      "cell_type": "code",
      "metadata": {
        "id": "5Pj5wLqviVks",
        "colab_type": "code",
        "outputId": "5515d1c6-83aa-49df-9479-b6f6467dd26f",
        "colab": {
          "base_uri": "https://localhost:8080/",
          "height": 1000
        }
      },
      "source": [
        "tmp_df"
      ],
      "execution_count": 93,
      "outputs": [
        {
          "output_type": "execute_result",
          "data": {
            "text/html": [
              "<div>\n",
              "<style scoped>\n",
              "    .dataframe tbody tr th:only-of-type {\n",
              "        vertical-align: middle;\n",
              "    }\n",
              "\n",
              "    .dataframe tbody tr th {\n",
              "        vertical-align: top;\n",
              "    }\n",
              "\n",
              "    .dataframe thead th {\n",
              "        text-align: right;\n",
              "    }\n",
              "</style>\n",
              "<table border=\"1\" class=\"dataframe\">\n",
              "  <thead>\n",
              "    <tr style=\"text-align: right;\">\n",
              "      <th></th>\n",
              "      <th>bindingClass</th>\n",
              "      <th>casrn</th>\n",
              "      <th>SMILES</th>\n",
              "      <th>Mol</th>\n",
              "      <th>label</th>\n",
              "    </tr>\n",
              "  </thead>\n",
              "  <tbody>\n",
              "    <tr>\n",
              "      <th>0</th>\n",
              "      <td>1</td>\n",
              "      <td>50-27-1</td>\n",
              "      <td>C[C@]12CC[C@H]3[C@@H](CCc4cc(O)ccc43)[C@@H]1C[...</td>\n",
              "      <td><img data-content=\"rdkit/molecule\" src=\"data:image/png;base64,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\" alt=\"Mol\"/></td>\n",
              "      <td>Binders</td>\n",
              "    </tr>\n",
              "    <tr>\n",
              "      <th>1</th>\n",
              "      <td>1</td>\n",
              "      <td>500-38-9</td>\n",
              "      <td>CC(Cc1cc(O)c(O)cc1)C(C)Cc1cc(O)c(O)cc1</td>\n",
              "      <td><img data-content=\"rdkit/molecule\" src=\"data:image/png;base64,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\" alt=\"Mol\"/></td>\n",
              "      <td>Binders</td>\n",
              "    </tr>\n",
              "    <tr>\n",
              "      <th>2</th>\n",
              "      <td>1</td>\n",
              "      <td>521-18-6</td>\n",
              "      <td>C[C@]12CC[C@H]3[C@@H](CC[C@H]4CC(=O)CC[C@@]43C...</td>\n",
              "      <td><img data-content=\"rdkit/molecule\" src=\"data:image/png;base64,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\" alt=\"Mol\"/></td>\n",
              "      <td>Binders</td>\n",
              "    </tr>\n",
              "    <tr>\n",
              "      <th>3</th>\n",
              "      <td>1</td>\n",
              "      <td>DB06710</td>\n",
              "      <td>CC12CCC3C(CCC4=CC(=O)CCC43C)C1CCC2(C)O</td>\n",
              "      <td><img data-content=\"rdkit/molecule\" src=\"data:image/png;base64,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\" alt=\"Mol\"/></td>\n",
              "      <td>Binders</td>\n",
              "    </tr>\n",
              "    <tr>\n",
              "      <th>4</th>\n",
              "      <td>1</td>\n",
              "      <td>50-28-2</td>\n",
              "      <td>C[C@]12CC[C@H]3[C@@H](CCc4cc(O)ccc43)[C@@H]1CC...</td>\n",
              "      <td><img data-content=\"rdkit/molecule\" src=\"data:image/png;base64,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\" alt=\"Mol\"/></td>\n",
              "      <td>Binders</td>\n",
              "    </tr>\n",
              "    <tr>\n",
              "      <th>...</th>\n",
              "      <td>...</td>\n",
              "      <td>...</td>\n",
              "      <td>...</td>\n",
              "      <td>...</td>\n",
              "      <td>...</td>\n",
              "    </tr>\n",
              "    <tr>\n",
              "      <th>1461</th>\n",
              "      <td>0</td>\n",
              "      <td>NOCAS_48509</td>\n",
              "      <td>CCCN(C1CCN(CC1)C(=O)C1CCNCC1)[C@H]1Cc2cc(ccc2C...</td>\n",
              "      <td><img data-content=\"rdkit/molecule\" src=\"data:image/png;base64,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\" alt=\"Mol\"/></td>\n",
              "      <td>Nonbinders</td>\n",
              "    </tr>\n",
              "    <tr>\n",
              "      <th>1462</th>\n",
              "      <td>0</td>\n",
              "      <td>NOCAS_48514</td>\n",
              "      <td>Cc1ccc(c(Cl)c1)C(=O)NS(=O)(=O)/C=C/c1ccc(cc1)OC</td>\n",
              "      <td><img data-content=\"rdkit/molecule\" src=\"data:image/png;base64,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\" alt=\"Mol\"/></td>\n",
              "      <td>Nonbinders</td>\n",
              "    </tr>\n",
              "    <tr>\n",
              "      <th>1463</th>\n",
              "      <td>0</td>\n",
              "      <td>NOCAS_48516</td>\n",
              "      <td>O=C(NS(=O)(=O)/C=C/c1ccccc1)c1ccc(F)cc1Cl</td>\n",
              "      <td><img data-content=\"rdkit/molecule\" src=\"data:image/png;base64,iVBORw0KGgoAAAANSUhEUgAAAMgAAADICAIAAAAiOjnJAAAABmJLR0QA/wD/AP+gvaeTAAAU70lEQVR4nO3deVRU5/kH8O+dhU0GGA0EEJUMAtFoNAUlsSnRlNSo0ViXpmqO7TFt1CYu5yQaU02xWZpFm2DcsDWJrQ0Sg3L0Z9SK0URjVByCyyFAWAICwyajDDAzDDP3/f1x4xQXYLaXkeT5HM89nvG+7330fOe99773vSgwxkCIp8m8XQD5caJgES4oWIQLChbhgoJFuKBgES4oWIQLChbhgoJFuKBgES4oWIQLChbhgoJFuKBgES4oWIQLChbhgoJFuKBgES4oWIQLChbhgoJFuKBgES4oWIQLChbhgoJFuKBgES4oWIQLChbhgoJFuKBgES4oWIQLChbhgoJFuKBgES4oWIQLChbhgoJFuKBgES4oWIQLChbhgoJFuKBgES4oWIQLChbhgoJFuKBgES4oWIQLChbhgoJFuKBgES4oWIQLChbhgoJFuKBgES4oWIQLChbhgoJFuKBgES4oWIQLChbhgoJFuKBgES4oWIQLChbhgoJFuKBgES4U3i7gx+L4cXz5Ja5dw7p1UCq9XY330YjlIVlZWLsWSUk4c8bbpdwRKFieJpd7u4I7gsAY83YNfd+hQygoQHMzDAbMm4eoKERGersmL6NgecLgwaiqQmUlvv0Wkybh8cdx6JC3a/IyOhV6gtkMAP7+MJkAwM/Pu+XcCShYnmDPkz1hP3kULE+gEesWFCy3Wa2wWiGXQ6GgEcuOguU2aZSSwkQj1nU08+4um9Jctz3Rh4WEAq1JvpY3kn1HR/TzdlVeR8Fyl01mqhut9fEZFAoYNPW1/iciIx+jYNGp0F2iaAYgk/kDEEUTAJmMToUULLcxZgIgCH64MWQ/cRQsd3UOU+eQ/cRRsNzV+fRHI5Zdb1+85+TkZGdnb926NSgoSC6Xd7VVqVQKhaLz9rHHHvvZz37Wy9U6QhBkPj5RCsVdoGusTnr1IXRlZeV9990niqJJmu9xxrRp08aNG/fSSy95vKpVq7B2LdLTMX06tm/HiBEwmzF+PFQqNDfD3x9+fj9sHcGYBRAE4ae+1q9XR6ylS5e2tbXNmTMnIyOjublZFMXutwaDwWazGQyGqqqq//znP59//vn8+fMjIiL4Vejjg6IiREcDwOuvIy3thj/190dm5uro6B0ymZ8g+Mlk/jKZn0zm7+8/ysdnSHt7WWTkq62tX7a2nhIEX5ksQCbzlckCpN9fvqxqbFT4+voGBARIWx8fn379+vn7+/v9GCdUey9Ye/fu3b9/f1BQ0Pr16wEEBwcDUKvVDjZvbW3Nzs5+7bXXtmzZ4vHaNm3CqVOYPh2iiJQUpKdj/HgEBkKjgdGI9vYftiYTlMqrHR26m5orFGFK5d1hYUvk8iCD4UhDw6ZbD7Ft2yP//OeXt36empo6derUhIQEj/+lvKuXToUtLS3Dhw+vrq7eunXrokWLSktLhw4d6lQPxcXFI0aMAHDp0qV7773Xg7XZT4VTp2LjRqSlYfx47Njxw7jVmdEIQTAqFFdFsV0UTYyZRdEkimY/v6GC4Ftf//f+/edZrVeMxm/sf2Tfbc+e0CNHvjObzSaTyb5taWkxm82xsbEXL16Uc156WlJSsnv37uzsbJlMFhwc3HkrCEJISEhX29jY2CFDhjh9PNYrli5dCmDs2LE2my0rK0uhUKxdu9aRhqIofvLJJ2+99RZj7JlnngHw1FNPcSry739n/v5s2zbnWplMRZWVf9LpUqurVzU355hM34qixcG2FoslJiYGwAcffOB0uc64evVqeHh4WFiYC4l89tlnP/nkE2eP2BsjVl5eXlJSkiAI586di4mJkYau9PT0hQsX9ti2uLj4vvvuk8vlRUVFPj4+cXFxJpPp3LlzHj93VFVh+HC0tuLAAUyZ4kTD2to3dLo1ERGrIyNfv3RpiMVyeeTICh8fR7/iGRkZ8+bNGzhwYElJiT+3ZRGLFy9OT09PSkratGlT54tXadvNZW5FRUVeXl5YWFhZWVlgYKATh+Tw9biBzWZLSkoCsHLlSsbYkiVLcH3ocrCH3/3udwDmzZvHGHvxxRcB/OpXv/J4nU8+yQD229863bCmZo1WC53uNcbY+fNhWi06Ouodadja2nrhwgVRFKVplPXr1zt9bMfk5ubKZDIfH5+CggLpk/Ly8suXL+v1eoPB0GPzn//85wAcPMPYcQ9WWloagMGDB7e0tGi1WrlcrlAo8vPzHe+hoqLC19dXJpN98803er2+f//+AI4ePerBIvfuZQALCmI1NU63rap6QatFXd06xlh+vkqrhdXa3GOr4uLi8PDw6Ohos9l88OBBAGq1Wq/Xu1B89zo6Oh544AEAa9assX+ovPHNR4VCoVarQ0NDNRpNXFxcQkJCUlLSO++8I+188uRJAIGBgXV1dY4fl2+wdDqddPe3f/9+q9Uqnb9eeuklZ/tZvnw5gMmTJzPG3njjDQCJiYmiKHqkSIOBRUUxgG3Z4krzysrntFo0NGxijOXlKbVaOHKNZbPZRo8eDSAtLY0x9uijjwJYvXq1KxV065133gEwdOhQo9FoP7RGo4mKilKr1d2c3RYuXGjvZMqUKQCWLVvm+HH5BmvGjBkAZs2axRh77733pKGrtbXV2X4aGxuDgoIAHDt2zGg0RkVFAfj00089UuTy5QxgY8Ywq9WV5hUVC7RaNDZuF0WrVou8PLmDDffv3w/grrvuam5uPnv2rCAI/v7+1dXVrhTRhcrKSik6n332WTe7WSwWvV5fX19fVlZWVFSk1WpPnz5dVFRk3+HixYvSybSsrMzBQ3MMljTCq1Sq6urqzkOXa729+uqr0sWZKIpbt24FEBcX19HR4WaReXl5Dz+8KSLCev68iz2Ul8/VatHU9LHN1qLV4ptv+jnedvz48QBSU1MZY7/+9a+lq2wX67idadOmAZg7d677XT399NMA5s+f7+D+vILV1tZ2zz33AHj//ffZ9X+12bNnu9xha2treHg4gOzs7I6ODmkq6x//+Ic7RVqt1sTERAArV67pee8udKxebJn6oOWr/xObG03zf9H2wiTH2545c0YQBOnypaioSKFQKJXKkpISl4vpLCsrC0BwcHCNC1eOt/j++++lK10Hr495BUu6fUtISLBardLQFRQU5OY4v3HjRgDx8fEdHR2ZmZkAIiMj29raXO5ww4YN9hsL18uaNIkB7OBBdvkyA1hUlFOtp06dCmDJkiWMsQULFgD4rQu3prcwGAzSBUN6err7vUmkycgnnnjCkZ27C9bH9fVba2o+rq9vsljOGQzftrUVt7VVm8017e3NVquh60uSixcvKpVKuVyu1WrtQ9fGjRud/qvcyD6d+OGHH4qiKN0KvP322671Zj8779u3z62yxo9nADt2jH33HQNYbKxTrS9duiSXy5VKZWlpaXV1dUBAgCAIWq3WrZJunJF2syu7hoYG6Ur3+PHjPe7cQ7Bq2tsZY00dHQla7a2/JuTnC4KgVqv79++v0WhiYmISEhISExPvvvtuAMuXL2eMnT9/PioqasyYMVbXro1vKunjjwEMHDjQaDQeOXIEQEhISFNTkwtdSTcWM2fOdLemBx9kADt9ml24wAA2cqSzHcyfPx/A008/zTw0UefatI4jUlNTASQlJfV4S97dzHtGQ4PBag1SKCaEhKytqDDabDbG2kRRZKzNZhMBX8aO3G6NVGBgoMVi+eKLLx566CEALS0tV65ckcYtN0kDVXBw8M6dOwcNGpSSkvL5558/+OCD06ZNk8lkjqzrCgwMVCqVhw4dmjx5skqlOnny5KhRo9yqafRoXLiA/HxYLEhKwtixOHvWqQ4qKyul87tWq42Ojo6Jibl69erRo0d/+ctfulCOKIrjxo07e/bsypUr3377bRd66EZra+vQoUPr6+v3798vncS71E3o7CNWN2w2m16vv3LlSllZWUlJiVarzc3NnT17NoApU6Y4+4VwROfxacOGDdLpzFkBAQEABg8e7MiXrwfx8QxgRUXsiy8YwJKTXejj1om6MWPGuFaYfVrHrQvHrkkz3iNGjOj+FMTlWeGVK1diYmIMBsPx48elO2oejEbjyJEjy8vLn3jiiREjRjDGrl27xhi77You+7alpcVqtYaGhr711lurV6+uq6vbs2ePdFp0UXIyCgqQn4/CQjz+OCZOxOHDzvbR2NgozWEWFhYOHDgwNja2pqZm8+bN06dPlxZsOfgYsba2dtiwYc3NzT2PKK6yWCzDhg0rLy//17/+JZ3Eb49HqBlja9euhWMnY5etXLkSwP333+/UbNbu3bsFQUhKSmKMbd68GR6aD/sfV8eJrKws+5zkli1bbk2Sr6+vWq0ODw/XaDTDhg1LSEh46KGHUlJSJk+ePHv27Hnz5j377LNxcXG4PiPNz7///W8AQ4YMMZvNXe3DK1gtLS3SJby791xduHTpklKplMlkp0+fdrkwi8UiLQvbvn27W9UcO8ZSU9myZczi6IKZ7lkslvz8fI1GExERoVarHV9iGhgYGBgYeO7cOamf1tZWnU7nkZI6sz+Peu+997rah+PMuzRLdO+993pyPGCMMWaz2caNGwdg6dKlbhaWkZEBt+fD2J/+xBhjGRnsxAnXO+mJyWTS6/U6na6srKygoECr1Z46dSonJ+fAgQO7d+/euXPntm3bpIUkzzzzDGPsxIkTERER06ZN81QBJ0+etD+OS0tLCw4OzszM7GpnjsFqb2+Xpp127Njh2Z7T09MBRERESBdVLhf20Ucf2Vet2B/mu8IerFOnXO/EE8rKynx8fORyeUFBQUNDg0qlAvDVV1+533NNTU1QUNCQIUMaGhqsVuuYMWMA/PnPf+5qf74PoR05GTurrq5OWimflZXlcic7d+7E9fmww4cPA5j9yCPs6lUXuzt2jP31r+zFF5mnx2YXLFq0CMCMGTMYY6+88gqAhx9+2P1uZ82aZe/2/fffR083nnyDZT8Zv/vuu57qc86cOQAmTXLikdxtC5NWKUmFnZk/nwHs5Zc9VKM36XS6fv36Afj6669bWlqk5cgHDhxwp89Dhw4BUKlUVVVVOp0uJCSkx6tn7gv9Dhw4gOuLQ9zv7b///S+AgICA8vJy9wuLjY7el5LCmptZbi4TBObvz6qq3C/S615++WUAycnJjLF3330XwMiRI11+ttPW1qbRaHB96djMmTPtQ1c3euNlCmkq6y9/+Yub/ZjN5vj4eADr1q3zSGEdEyYwgElLK2fMYABbtMgjPXvXtWvXBgwYAODw4cPt7e1SLHbu3Olab9K0zqhRozo6OjoPXd236o1g2ReH1NbW2j88duzYp59+mpOTc/ToUa1Wm5eXV1ZWVl5ertfrr3ZxrbN69Wrpy2fx0F09O3uWCQLr14/V1rLiYqZQMIWCFRZ6pnOvkhaO3n///TabbceOHQCkZdDO9mOf1jlz5sxNQ1f3eun1L2nF2fPPP2//RLox7oYgCOPGjbPvX1RUJK0HOuXZOy/pJYrnnmOMsT/8gQHsN7/xZP9eYjKZBg0aBCAjI8Nms0nPQzds2OBUJzdN66xYsQLXl0L12LaXglVYWCitYistLZU+WbFixYwZM1JSUh599NGEhIQHHnhAo9FER0er1Wr747+EhARpZ1EUJ0yYAE8vsGSMsaIiplAwpZKVlLCaGhYQwASBnTnj4aN4w/bt2wHcc8897e3t+/btAxAaGurUla60Ulea1pGWQklDlyNteylY7Ma3uBwhPd2Tfi/9G4WHh/N4j4X9/vcMYNL63RUrWGIiy831/FF6ndVqHT58OIDNmzcz59/isk/r7Nmzxz50Of4+Re/9tBlpcYjNZhs+fLivr+9Nb3l3tRUEQSaT/fGPf9Tr9ZmZmU899ZTnK7t8GfHxsFiQn4/4ePj4QBA8fxRv2Lt378yZM8PCwkpLS8+fP5+cnKxWq6XlhD22nTt37q5duyZNmnTw4MH09PTFixdHREQUFhY6upzEtW+DazIyMqQVNc4KDQ0dPXo0x8r+9jeWns5ycjz7yO9OIC2Je/311xljb775ZqFjtyY2m23ZsmVBQUEVFRWdhy7Hj9vb/0lTbW2tTqe7aSlL99vvv/8+Pz8/MjKytLSU30voAPDcc9i8Gbt2ISoKv/gFxwP1ohMnTjzyyCMqlaq0tNTZn93Q1NQ0YMCAOXPmZGZmSkOXE41d+x70JveXtzvqjnnk51kTJ04E8MILL7jQ1uUZ6b7x38odOXJk4sSJISEhZWVl0iv2XBw/jpMn0dKCN9+E4sfzE/Dz8/MTExPlcvmTTz7Zv3//zj/87dYfBNd5K4rixIkTy8vL161bJy3Gd4ILKfYKaQH4qlWrvF1In5SamiqNW85SqVTSnLuzR+wbIxYArVY7duxYPz+/7777TnpjjjglNze3uLi48499u+22vb3daDTat6mpqcnJydKTNKf0mWABmDVr1p49exYuXCitxyJ3sr4UrOLi4rnr59oW2naP3B3nG+ftckh3+tJ/IBAfH5/wSsIF2YU1ujXeroX0oC+NWAB0HbrYgliTaDodfzqpXw+PsYkX9aURC0CkMvL50OcZ2CrdKm/XQrrTx0YsANds12IKYvRWfU5sTooqxdvlkNvrYyMWgBB5yIqwFQBW1axi6GPfip+OvjdiATCKxtiCWF2H7sjQI48FPebtcsht9MlgAci+lu0r+E4OnuztQsjt9b1TIYCv277ON+XntOQ0WZsarY0LKhcUmYu8XRS5QZ981LpLv2vDoA1WZlUKSgFCcmCytysiN+uTI5ZMkAGwMZtZNHu7FnJ7ffIa65zx3GfNn7Wz9uWhy0vaSz5s+lDjq1kwYEGkMtLbpZEf9MlgkTtfnzwVkjsfBYtwQcEiXFCwCBcULMIFBYtwQcEiXFCwCBcULMIFBYtwQcEiXFCwCBcULMIFBYtwQcEiXFCwCBcULMIFBYtwQcEiXFCwCBcULMIFBYtwQcEiXFCwCBcULMIFBYtwQcEiXFCwCBcULMIFBYtwQcEiXFCwCBcULMIFBYtwQcEiXFCwCBcULMIFBYtwQcEiXFCwCBcULMIFBYtwQcEiXFCwCBcULMIFBYtwQcEiXFCwCBcULMIFBYtwQcEiXFCwCBcULMIFBYtwQcEiXFCwCBcULMIFBYtwQcEiXFCwCBcULMIFBYtwQcEiXFCwCBcULMLF/wOh2oN6er8IcgAAAABJRU5ErkJggg==\" alt=\"Mol\"/></td>\n",
              "      <td>Nonbinders</td>\n",
              "    </tr>\n",
              "    <tr>\n",
              "      <th>1464</th>\n",
              "      <td>0</td>\n",
              "      <td>NOCAS_48518</td>\n",
              "      <td>O=C(NS(=O)(=O)/C=C/c1ccc[s]1)c1ccc(F)cc1Br</td>\n",
              "      <td><img data-content=\"rdkit/molecule\" src=\"data:image/png;base64,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\" alt=\"Mol\"/></td>\n",
              "      <td>Nonbinders</td>\n",
              "    </tr>\n",
              "    <tr>\n",
              "      <th>1465</th>\n",
              "      <td>0</td>\n",
              "      <td>102-71-6</td>\n",
              "      <td>OCCN(CCO)CCO</td>\n",
              "      <td><img data-content=\"rdkit/molecule\" src=\"data:image/png;base64,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\" alt=\"Mol\"/></td>\n",
              "      <td>Nonbinders</td>\n",
              "    </tr>\n",
              "  </tbody>\n",
              "</table>\n",
              "<p>1671 rows × 5 columns</p>\n",
              "</div>"
            ],
            "text/plain": [
              "      bindingClass  ...       label\n",
              "0                1  ...     Binders\n",
              "1                1  ...     Binders\n",
              "2                1  ...     Binders\n",
              "3                1  ...     Binders\n",
              "4                1  ...     Binders\n",
              "...            ...  ...         ...\n",
              "1461             0  ...  Nonbinders\n",
              "1462             0  ...  Nonbinders\n",
              "1463             0  ...  Nonbinders\n",
              "1464             0  ...  Nonbinders\n",
              "1465             0  ...  Nonbinders\n",
              "\n",
              "[1671 rows x 5 columns]"
            ]
          },
          "metadata": {
            "tags": []
          },
          "execution_count": 93
        }
      ]
    },
    {
      "cell_type": "code",
      "metadata": {
        "id": "S8MVdlIkdxSN",
        "colab_type": "code",
        "colab": {}
      },
      "source": [
        "tmp_df.to_csv('tmp_df.csv', index=False)\n"
      ],
      "execution_count": 0,
      "outputs": []
    },
    {
      "cell_type": "code",
      "metadata": {
        "id": "69uy8VUWeHyK",
        "colab_type": "code",
        "colab": {}
      },
      "source": [
        "tmp_dataset_file = \"tmp_df.csv\""
      ],
      "execution_count": 0,
      "outputs": []
    },
    {
      "cell_type": "code",
      "metadata": {
        "id": "aSHVPm4xeRbs",
        "colab_type": "code",
        "outputId": "cb1d2e2e-0ce0-4b5a-a79a-ff52e6e70e5d",
        "colab": {
          "base_uri": "https://localhost:8080/",
          "height": 105
        }
      },
      "source": [
        "tmp_dataset = loader.featurize(tmp_dataset_file)"
      ],
      "execution_count": 96,
      "outputs": [
        {
          "output_type": "stream",
          "text": [
            "/content/deepchem/deepchem/data/data_loader.py:268: FutureWarning: featurize() is deprecated and has been renamed to create_dataset(). featurize() will be removed in DeepChem 3.0\n",
            "  FutureWarning)\n"
          ],
          "name": "stderr"
        },
        {
          "output_type": "stream",
          "text": [
            "About to start loading CSV from tmp_df.csv\n",
            "Loading shard 1 of size 8192.\n"
          ],
          "name": "stdout"
        }
      ]
    },
    {
      "cell_type": "code",
      "metadata": {
        "id": "eIafkCRTLSsE",
        "colab_type": "code",
        "colab": {}
      },
      "source": [
        "def generate_graph_conv_model():\n",
        " batch_size = 128\n",
        " model = GraphConvModel(1, batch_size=batch_size,\n",
        " mode='classification',\n",
        " model_dir=\"MyGraphConv/model_dir\")\n",
        " return model"
      ],
      "execution_count": 0,
      "outputs": []
    },
    {
      "cell_type": "code",
      "metadata": {
        "id": "hcA-fKaNLTUn",
        "colab_type": "code",
        "colab": {}
      },
      "source": [
        "dataset_file = tmp_dataset\n",
        "tasks = [\"bindingClass\"]\n",
        "featurizer = dc.feat.ConvMolFeaturizer()\n",
        "loader = dc.data.CSVLoader(tasks=tasks,\n",
        "smiles_field=\"SMILES\",\n",
        "featurizer=featurizer)\n"
      ],
      "execution_count": 0,
      "outputs": []
    },
    {
      "cell_type": "code",
      "metadata": {
        "id": "6iBbTWhcNRbJ",
        "colab_type": "code",
        "colab": {}
      },
      "source": [
        "splitter = dc.splits.RandomSplitter()"
      ],
      "execution_count": 0,
      "outputs": []
    },
    {
      "cell_type": "code",
      "metadata": {
        "id": "MVLm_H4YNxrw",
        "colab_type": "code",
        "colab": {}
      },
      "source": [
        "import numpy as np"
      ],
      "execution_count": 0,
      "outputs": []
    },
    {
      "cell_type": "code",
      "metadata": {
        "id": "vRn77DFINR9m",
        "colab_type": "code",
        "colab": {}
      },
      "source": [
        "metrics = [\n",
        "dc.metrics.Metric(dc.metrics.matthews_corrcoef, np.mean,\n",
        "mode=\"classification\")]"
      ],
      "execution_count": 0,
      "outputs": []
    },
    {
      "cell_type": "code",
      "metadata": {
        "id": "Wj1pFBFDNWzp",
        "colab_type": "code",
        "outputId": "0620dd49-55c8-4ddc-87d8-6a9132cc2a8b",
        "colab": {
          "base_uri": "https://localhost:8080/",
          "height": 411
        }
      },
      "source": [
        "training_score_list = []\n",
        "validation_score_list = []\n",
        "transformers = []\n",
        "cv_folds = 10\n",
        "for i in range(0, cv_folds):\n",
        "  model = generate_graph_conv_model()\n",
        "  res = splitter.train_valid_test_split(dataset)\n",
        "  train_dataset, valid_dataset, test_dataset = res\n",
        "  model.fit(train_dataset)\n",
        "  train_scores = model.evaluate(train_dataset, metrics,\n",
        "  transformers)\n",
        "  training_score_list.append(\n",
        "  train_scores[\"mean-matthews_corrcoef\"])\n",
        "  validation_scores = model.evaluate(valid_dataset,\n",
        "  metrics,\n",
        "  transformers)\n",
        "  validation_score_list.append(\n",
        "  validation_scores[\"mean-matthews_corrcoef\"])\n",
        "  print(training_score_list)\n",
        "  print(validation_score_list)"
      ],
      "execution_count": 102,
      "outputs": [
        {
          "output_type": "stream",
          "text": [
            "/usr/local/lib/python3.6/dist-packages/tensorflow/python/framework/indexed_slices.py:434: UserWarning: Converting sparse IndexedSlices to a dense Tensor of unknown shape. This may consume a large amount of memory.\n",
            "  \"Converting sparse IndexedSlices to a dense Tensor of unknown shape. \"\n"
          ],
          "name": "stderr"
        },
        {
          "output_type": "stream",
          "text": [
            "[0.4489241083915241]\n",
            "[0.3972360153788916]\n",
            "[0.4489241083915241, 0.38973148654855844]\n",
            "[0.3972360153788916, 0.12088642012256094]\n",
            "[0.4489241083915241, 0.38973148654855844, 0.33157322682666884]\n",
            "[0.3972360153788916, 0.12088642012256094, 0.25598254926276814]\n",
            "[0.4489241083915241, 0.38973148654855844, 0.33157322682666884, 0.3611468936561827]\n",
            "[0.3972360153788916, 0.12088642012256094, 0.25598254926276814, -0.040398847130309966]\n",
            "[0.4489241083915241, 0.38973148654855844, 0.33157322682666884, 0.3611468936561827, 0.2718425442629576]\n",
            "[0.3972360153788916, 0.12088642012256094, 0.25598254926276814, -0.040398847130309966, 0.36992175559590695]\n",
            "[0.4489241083915241, 0.38973148654855844, 0.33157322682666884, 0.3611468936561827, 0.2718425442629576, 0.37326849825457276]\n",
            "[0.3972360153788916, 0.12088642012256094, 0.25598254926276814, -0.040398847130309966, 0.36992175559590695, -0.030376988808590598]\n",
            "[0.4489241083915241, 0.38973148654855844, 0.33157322682666884, 0.3611468936561827, 0.2718425442629576, 0.37326849825457276, 0.3516410605467727]\n",
            "[0.3972360153788916, 0.12088642012256094, 0.25598254926276814, -0.040398847130309966, 0.36992175559590695, -0.030376988808590598, 0.2817767700647946]\n",
            "[0.4489241083915241, 0.38973148654855844, 0.33157322682666884, 0.3611468936561827, 0.2718425442629576, 0.37326849825457276, 0.3516410605467727, 0.24167486213946787]\n",
            "[0.3972360153788916, 0.12088642012256094, 0.25598254926276814, -0.040398847130309966, 0.36992175559590695, -0.030376988808590598, 0.2817767700647946, 0.08817866715195197]\n",
            "[0.4489241083915241, 0.38973148654855844, 0.33157322682666884, 0.3611468936561827, 0.2718425442629576, 0.37326849825457276, 0.3516410605467727, 0.24167486213946787, 0.4152212108852195]\n",
            "[0.3972360153788916, 0.12088642012256094, 0.25598254926276814, -0.040398847130309966, 0.36992175559590695, -0.030376988808590598, 0.2817767700647946, 0.08817866715195197, 0.0893719806763285]\n",
            "[0.4489241083915241, 0.38973148654855844, 0.33157322682666884, 0.3611468936561827, 0.2718425442629576, 0.37326849825457276, 0.3516410605467727, 0.24167486213946787, 0.4152212108852195, 0.387506555241233]\n",
            "[0.3972360153788916, 0.12088642012256094, 0.25598254926276814, -0.040398847130309966, 0.36992175559590695, -0.030376988808590598, 0.2817767700647946, 0.08817866715195197, 0.0893719806763285, 0.3352684923830361]\n"
          ],
          "name": "stdout"
        }
      ]
    },
    {
      "cell_type": "code",
      "metadata": {
        "id": "zjXBeFG4N2je",
        "colab_type": "code",
        "outputId": "61a08b27-f510-4636-9f21-be5ce297c4d6",
        "colab": {
          "base_uri": "https://localhost:8080/",
          "height": 265
        }
      },
      "source": [
        "fig_scores_GCNN = sns.boxplot(\n",
        "[\"training\"] * cv_folds + [\"validation\"] * cv_folds,\n",
        "training_score_list + validation_score_list)"
      ],
      "execution_count": 103,
      "outputs": [
        {
          "output_type": "display_data",
          "data": {
            "image/png": "[encoded data removed]",
            "text/plain": [
              "<Figure size 432x288 with 1 Axes>"
            ]
          },
          "metadata": {
            "tags": [],
            "needs_background": "light"
          }
        }
      ]
    },
    {
      "cell_type": "code",
      "metadata": {
        "id": "8K2i7y9Vyyzk",
        "colab_type": "code",
        "colab": {}
      },
      "source": [
        "Fig_scores_GCNN = fig_scores_GCNN.get_figure()"
      ],
      "execution_count": 0,
      "outputs": []
    },
    {
      "cell_type": "code",
      "metadata": {
        "id": "g34T8JThyxJg",
        "colab_type": "code",
        "colab": {}
      },
      "source": [
        "Fig_scores_GCNN.savefig('Fig_scores_GCNN.png',dpi=600)"
      ],
      "execution_count": 0,
      "outputs": []
    },
    {
      "cell_type": "code",
      "metadata": {
        "id": "2SwWmV_RNXT0",
        "colab_type": "code",
        "colab": {}
      },
      "source": [
        "pred = [x.flatten() for x in model.predict(valid_dataset)]"
      ],
      "execution_count": 0,
      "outputs": []
    },
    {
      "cell_type": "code",
      "metadata": {
        "id": "sSI-RGUvNXxi",
        "colab_type": "code",
        "colab": {}
      },
      "source": [
        "pred_df = pd.DataFrame(pred,columns=[\"neg\",\"pos\"])"
      ],
      "execution_count": 0,
      "outputs": []
    },
    {
      "cell_type": "code",
      "metadata": {
        "id": "JgWP0wgmQLsB",
        "colab_type": "code",
        "colab": {}
      },
      "source": [
        "pred_df[\"Active\"] = [int(x) for x in valid_dataset.y]\n",
        "pred_df[\"SMILES\"] = valid_dataset.ids"
      ],
      "execution_count": 0,
      "outputs": []
    },
    {
      "cell_type": "code",
      "metadata": {
        "id": "N3PIcmIhQMYr",
        "colab_type": "code",
        "outputId": "a0e03dae-5362-4f54-c8be-7980d3a78fa3",
        "colab": {
          "base_uri": "https://localhost:8080/",
          "height": 204
        }
      },
      "source": [
        "pred_df.head()"
      ],
      "execution_count": 109,
      "outputs": [
        {
          "output_type": "execute_result",
          "data": {
            "text/html": [
              "<div>\n",
              "<style scoped>\n",
              "    .dataframe tbody tr th:only-of-type {\n",
              "        vertical-align: middle;\n",
              "    }\n",
              "\n",
              "    .dataframe tbody tr th {\n",
              "        vertical-align: top;\n",
              "    }\n",
              "\n",
              "    .dataframe thead th {\n",
              "        text-align: right;\n",
              "    }\n",
              "</style>\n",
              "<table border=\"1\" class=\"dataframe\">\n",
              "  <thead>\n",
              "    <tr style=\"text-align: right;\">\n",
              "      <th></th>\n",
              "      <th>neg</th>\n",
              "      <th>pos</th>\n",
              "      <th>Active</th>\n",
              "      <th>SMILES</th>\n",
              "    </tr>\n",
              "  </thead>\n",
              "  <tbody>\n",
              "    <tr>\n",
              "      <th>0</th>\n",
              "      <td>0.597295</td>\n",
              "      <td>0.402705</td>\n",
              "      <td>0</td>\n",
              "      <td>CCNc1ccccc1</td>\n",
              "    </tr>\n",
              "    <tr>\n",
              "      <th>1</th>\n",
              "      <td>0.058188</td>\n",
              "      <td>0.941812</td>\n",
              "      <td>0</td>\n",
              "      <td>CC(C)(C)c1cc(CO)c(C)cc1SC1C(=O)O[C@](CC=1O)(CC...</td>\n",
              "    </tr>\n",
              "    <tr>\n",
              "      <th>2</th>\n",
              "      <td>0.377685</td>\n",
              "      <td>0.622315</td>\n",
              "      <td>0</td>\n",
              "      <td>CC1=NN(c2cc(CC(Cl)C(=O)OCC)c(Cl)cc2F)C(=O)N1C(F)F</td>\n",
              "    </tr>\n",
              "    <tr>\n",
              "      <th>3</th>\n",
              "      <td>0.332144</td>\n",
              "      <td>0.667856</td>\n",
              "      <td>0</td>\n",
              "      <td>COC(=O)c1ccccc1O</td>\n",
              "    </tr>\n",
              "    <tr>\n",
              "      <th>4</th>\n",
              "      <td>0.426127</td>\n",
              "      <td>0.573873</td>\n",
              "      <td>0</td>\n",
              "      <td>[O-][N+](=O)c1ccccc1O</td>\n",
              "    </tr>\n",
              "  </tbody>\n",
              "</table>\n",
              "</div>"
            ],
            "text/plain": [
              "        neg  ...                                             SMILES\n",
              "0  0.597295  ...                                        CCNc1ccccc1\n",
              "1  0.058188  ...  CC(C)(C)c1cc(CO)c(C)cc1SC1C(=O)O[C@](CC=1O)(CC...\n",
              "2  0.377685  ...  CC1=NN(c2cc(CC(Cl)C(=O)OCC)c(Cl)cc2F)C(=O)N1C(F)F\n",
              "3  0.332144  ...                                   COC(=O)c1ccccc1O\n",
              "4  0.426127  ...                              [O-][N+](=O)c1ccccc1O\n",
              "\n",
              "[5 rows x 4 columns]"
            ]
          },
          "metadata": {
            "tags": []
          },
          "execution_count": 109
        }
      ]
    },
    {
      "cell_type": "code",
      "metadata": {
        "id": "oFJYjUo4QXAu",
        "colab_type": "code",
        "outputId": "f35b4f74-8ca8-40ad-d690-1c7544f6631e",
        "colab": {
          "base_uri": "https://localhost:8080/",
          "height": 279
        }
      },
      "source": [
        "fig_preds_GCNN = sns.boxplot(pred_df.Active,pred_df.pos)"
      ],
      "execution_count": 110,
      "outputs": [
        {
          "output_type": "display_data",
          "data": {
            "image/png": "[encoded data removed]",
            "text/plain": [
              "<Figure size 432x288 with 1 Axes>"
            ]
          },
          "metadata": {
            "tags": [],
            "needs_background": "light"
          }
        }
      ]
    },
    {
      "cell_type": "code",
      "metadata": {
        "id": "iwGZtCKszNk-",
        "colab_type": "code",
        "colab": {}
      },
      "source": [
        "Fig_preds_GCNN = fig_preds_GCNN.get_figure()"
      ],
      "execution_count": 0,
      "outputs": []
    },
    {
      "cell_type": "code",
      "metadata": {
        "id": "pTfqmEPyzUCf",
        "colab_type": "code",
        "colab": {}
      },
      "source": [
        "Fig_preds_GCNN.savefig('Fig_preds_GCNN.png',dpi=600)"
      ],
      "execution_count": 0,
      "outputs": []
    },
    {
      "cell_type": "code",
      "metadata": {
        "id": "C4FpEdrbQV4X",
        "colab_type": "code",
        "colab": {}
      },
      "source": [
        "model.fit(dataset)"
      ],
      "execution_count": 0,
      "outputs": []
    },
    {
      "cell_type": "code",
      "metadata": {
        "id": "ebBDbP8oQwYt",
        "colab_type": "code",
        "colab": {}
      },
      "source": [
        "#model.save()"
      ],
      "execution_count": 0,
      "outputs": []
    },
    {
      "cell_type": "code",
      "metadata": {
        "id": "Cl_ulhBlQ-Mb",
        "colab_type": "code",
        "colab": {}
      },
      "source": [
        "pred_scores = model.predict(toscore_dataset)"
      ],
      "execution_count": 0,
      "outputs": []
    },
    {
      "cell_type": "code",
      "metadata": {
        "id": "_cFrs7iVq4Zp",
        "colab_type": "code",
        "colab": {}
      },
      "source": [
        "pred_scores_df = pd.DataFrame([x.flatten() for x in pred_scores], columns=[\"Neg\",\"Pos\"])"
      ],
      "execution_count": 0,
      "outputs": []
    },
    {
      "cell_type": "code",
      "metadata": {
        "id": "6RqTaRmWq5ON",
        "colab_type": "code",
        "colab": {
          "base_uri": "https://localhost:8080/",
          "height": 419
        },
        "outputId": "e77a7b2e-a3f1-4ed5-f34f-62fecabd281f"
      },
      "source": [
        "pred_scores_df"
      ],
      "execution_count": 126,
      "outputs": [
        {
          "output_type": "execute_result",
          "data": {
            "text/html": [
              "<div>\n",
              "<style scoped>\n",
              "    .dataframe tbody tr th:only-of-type {\n",
              "        vertical-align: middle;\n",
              "    }\n",
              "\n",
              "    .dataframe tbody tr th {\n",
              "        vertical-align: top;\n",
              "    }\n",
              "\n",
              "    .dataframe thead th {\n",
              "        text-align: right;\n",
              "    }\n",
              "</style>\n",
              "<table border=\"1\" class=\"dataframe\">\n",
              "  <thead>\n",
              "    <tr style=\"text-align: right;\">\n",
              "      <th></th>\n",
              "      <th>Neg</th>\n",
              "      <th>Pos</th>\n",
              "    </tr>\n",
              "  </thead>\n",
              "  <tbody>\n",
              "    <tr>\n",
              "      <th>0</th>\n",
              "      <td>0.375860</td>\n",
              "      <td>0.624140</td>\n",
              "    </tr>\n",
              "    <tr>\n",
              "      <th>1</th>\n",
              "      <td>0.202899</td>\n",
              "      <td>0.797102</td>\n",
              "    </tr>\n",
              "    <tr>\n",
              "      <th>2</th>\n",
              "      <td>0.120717</td>\n",
              "      <td>0.879283</td>\n",
              "    </tr>\n",
              "    <tr>\n",
              "      <th>3</th>\n",
              "      <td>0.175930</td>\n",
              "      <td>0.824070</td>\n",
              "    </tr>\n",
              "    <tr>\n",
              "      <th>4</th>\n",
              "      <td>0.005247</td>\n",
              "      <td>0.994753</td>\n",
              "    </tr>\n",
              "    <tr>\n",
              "      <th>...</th>\n",
              "      <td>...</td>\n",
              "      <td>...</td>\n",
              "    </tr>\n",
              "    <tr>\n",
              "      <th>104</th>\n",
              "      <td>0.044333</td>\n",
              "      <td>0.955667</td>\n",
              "    </tr>\n",
              "    <tr>\n",
              "      <th>105</th>\n",
              "      <td>0.337151</td>\n",
              "      <td>0.662849</td>\n",
              "    </tr>\n",
              "    <tr>\n",
              "      <th>106</th>\n",
              "      <td>0.692030</td>\n",
              "      <td>0.307969</td>\n",
              "    </tr>\n",
              "    <tr>\n",
              "      <th>107</th>\n",
              "      <td>0.698433</td>\n",
              "      <td>0.301568</td>\n",
              "    </tr>\n",
              "    <tr>\n",
              "      <th>108</th>\n",
              "      <td>0.864650</td>\n",
              "      <td>0.135350</td>\n",
              "    </tr>\n",
              "  </tbody>\n",
              "</table>\n",
              "<p>109 rows × 2 columns</p>\n",
              "</div>"
            ],
            "text/plain": [
              "          Neg       Pos\n",
              "0    0.375860  0.624140\n",
              "1    0.202899  0.797102\n",
              "2    0.120717  0.879283\n",
              "3    0.175930  0.824070\n",
              "4    0.005247  0.994753\n",
              "..        ...       ...\n",
              "104  0.044333  0.955667\n",
              "105  0.337151  0.662849\n",
              "106  0.692030  0.307969\n",
              "107  0.698433  0.301568\n",
              "108  0.864650  0.135350\n",
              "\n",
              "[109 rows x 2 columns]"
            ]
          },
          "metadata": {
            "tags": []
          },
          "execution_count": 126
        }
      ]
    },
    {
      "cell_type": "code",
      "metadata": {
        "id": "fXuN5Uwfq52b",
        "colab_type": "code",
        "colab": {}
      },
      "source": [
        "combo_df = df.join(pred_scores_df, how=\"outer\")\n",
        "combo_df.sort_values(\"Pos\", inplace=True, ascending=False)"
      ],
      "execution_count": 0,
      "outputs": []
    },
    {
      "cell_type": "code",
      "metadata": {
        "id": "yz6rna5uq6eY",
        "colab_type": "code",
        "colab": {
          "base_uri": "https://localhost:8080/",
          "height": 1000
        },
        "outputId": "676d30cf-f817-4564-fde8-f7d5a53b276b"
      },
      "source": [
        "combo_df"
      ],
      "execution_count": 128,
      "outputs": [
        {
          "output_type": "execute_result",
          "data": {
            "text/html": [
              "<div>\n",
              "<style scoped>\n",
              "    .dataframe tbody tr th:only-of-type {\n",
              "        vertical-align: middle;\n",
              "    }\n",
              "\n",
              "    .dataframe tbody tr th {\n",
              "        vertical-align: top;\n",
              "    }\n",
              "\n",
              "    .dataframe thead th {\n",
              "        text-align: right;\n",
              "    }\n",
              "</style>\n",
              "<table border=\"1\" class=\"dataframe\">\n",
              "  <thead>\n",
              "    <tr style=\"text-align: right;\">\n",
              "      <th></th>\n",
              "      <th>bindingClass</th>\n",
              "      <th>casrn</th>\n",
              "      <th>SMILES</th>\n",
              "      <th>Unnamed: 3</th>\n",
              "      <th>Mol</th>\n",
              "      <th>Neg</th>\n",
              "      <th>Pos</th>\n",
              "    </tr>\n",
              "  </thead>\n",
              "  <tbody>\n",
              "    <tr>\n",
              "      <th>61</th>\n",
              "      <td>0</td>\n",
              "      <td>35367-38-5</td>\n",
              "      <td>O=C(Nc1ccc(Cl)cc1)NC(=O)c1c(F)cccc1F</td>\n",
              "      <td>NaN</td>\n",
              "      <td><img data-content=\"rdkit/molecule\" src=\"data:image/png;base64,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\" alt=\"Mol\"/></td>\n",
              "      <td>0.004150</td>\n",
              "      <td>0.995850</td>\n",
              "    </tr>\n",
              "    <tr>\n",
              "      <th>4</th>\n",
              "      <td>1</td>\n",
              "      <td>DB06710</td>\n",
              "      <td>CC12CCC3C(CCC4=CC(=O)CCC43C)C1CCC2(C)O</td>\n",
              "      <td>NaN</td>\n",
              "      <td><img data-content=\"rdkit/molecule\" src=\"data:image/png;base64,iVBORw0KGgoAAAANSUhEUgAAAMgAAADICAIAAAAiOjnJAAAABmJLR0QA/wD/AP+gvaeTAAATuklEQVR4nO3de1RU5foH8GdghoswCpNcVE7KT0xBEIQWnqVmYmqKWJTLsrwczXsmYq0UKcVL0DqaSlkdvBQClql/mJjmBcXExAsXFS+ggIqpXBSdERiGYWb//nhzn4lhxmHPfgaPPZ/VH7tx7+fd6JeZZ9559x4Jx3FAiNjs2vsEyLOJgkVQULAICgoWQUHBIigoWAQFBYugoGARFBQsgoKCRVBQsAgKChZBQcEiKChYBAUFi6CgYBEUFCyCgoJFUFCwCAoKFkFBwSIoKFgEBQWLoKBgERQULIKCgkVQULAICgoWQUHBIigoWAQFBYugoGARFBQsgoKCRVBQsAgKChZBQcEiKChYBAUFi6CgYBEUFCyCgoJFUFCwCAoKFkFBwSIoKFgEBQWLoKBgERQULIKCgkVQULAICgoWQUHBIigoWAQFBYugoGARFBQsgoKCRVBQsAgKChZBQcEiKChYBAUFi6CgYBEUFCyCgoJFUFCwCAoKFkFBwSIopO07/PXr1xMSEhYuXNi/f39hFYqLi1etWlVYWNihQwf2iJOTk7OzM9t2dnZ2cnIy3u7QoYOjoyPbdnFx8fPze+edd4T/GMSIeMGqrISYGJDLoV8/WLAAUlLAxweioiAqCn75xdRB3377bUZGRk1Nza+//ipgzCtXrgQHB8vl8traWitOHQIDA9PS0vbu3SuTyQQXOXbsWJcuXXr37i3s8Pr6+suXL8fHx7u5uUkkEvag4ba7uzvbkEgkbm5uxtt2dnadOnWKiIjo3Lmz4J9CLOIFa8sWmDcPXn4ZRo+G99+38KD4+PjvvvvuwIEDR48eHTZsWFvHXLhwoVarjYyMXLJkiVqtZg+q1erGxkbj7YaGBo1Gw7br6+ubmprY9qNHj1JTUy9evJiSkjJ//vy2ngOTkpIyd+7cyMjIffv2CasQFxeXmZlZUVEh7HDe9OnTJ0yYMHz4cCvrWEnCcZw4lWbPhrg48PWFf/0L/v1v+Pln+PVX8PWF7Gw4f97McYmJiZ9++ml4ePipU6f4305L7NixY8KECQqFoqSkxMrf0T179kRHR3fu3Lm0tLRTp04CKty7d8/Pz0+pVB46dGjEiBFtPbyoqCg0NBQAvvnmG4VCwf+jPHjwgN+H3+Y47uHDh2xbr9crlUq2rdPp8vPzz507FxQUVFhYaG9vL+AHEQ0nllWruKNHOY7jRo/mtFruP//h9u7lOI4bM8b8cXV1dd7e3gCwe/duy0err6/v3r07AGzatEn4ORt45ZVXAGDx4sWCK3z++ecAEBwcrNPp2nSgXq8fMmQIAMTGxgoendFoND179gSAzZs3W1nKSuIFq7KSe/tt7r33uNhYLifH8mBxHPf1118DQO/evbVarYWjffzxxwAQFhbW1n9FUwoKCuzs7JycnG7cuCGsglqtZllPTU1t04GpqakA4OXl9eDBA2FDG9q+fTurplKprK8mmHjBYnbt4gC40aPbdFBTUxP7Pfv+++8t2b+kpMTR0dHOzu7UqVOCzrJ1EydOBICJEycKrpCRkQEA3bp1q6urs/AQpVLZpUsXAMjIyBA8riG9Xj9w4EAASEhIEKWgMGIHq6KCA+AUCk6vb9NxP/zwA/snaWhoeOLOr776KgDMnj1b6Fm27tatWx06dJBIJGfOnBFWQa/Xv/jiiwCwatUqCw/54IMPAGDw4MH6Nv6NmXHy5EmJROLs7Hzr1i2xaraV2MHiOK5rVw6Au3atTQfp9Xo2lbV27Vrze/70008AoFAoampqrDjL1sXFxQHAkCFDBFc4duwYALi6ut69e/eJO1+4cEEqlUql0nPnzgkesVXjxo0DgBkzZohb1nIIwYqO5gC4H35o63HsjXrnzp2VSqWpfUTv2VtQqVReXl4A8PPPPwsu8vrrrwPAnDlzzO8mYs9urKysjHULBQUFohe3BEKwkpI4AC4mRsChERERALBs2TJTO4jesxvbsGEDeyfR1NQkrEJxcbFMJrO3t7948aKZ3cTt2Y0tWLAAAIYNG4ZR/IkQgnXkCAfA/fOfAg49ffq0RCIx9TqC1LO3oNVqAwICAGDDhg2Ci8ybNw8Axph+Ryx6z26strZWoVAAwIEDB5CGMAMhWCoVZ2fHOTpyjY0CjmavI/Pnzzf+I6Se3dju3bvZi/LDhw+FVaiurmYTrYcOHWp1B4ye3djq1asBICgoqLm5GW+UViEEi+O4gAAOgBP03urKlStSqVQmk5WWlho+jtqzG2OfL8XFxQmukJSUZGq+FK9nb4GfL92yZQvqQMZwgjVtGgfAff21sKOnTp0KAJMmTeIfwe7ZjYk4X7p161bDx1F7dmM//vgjAHTt2tXyqTVRoASrKD19YUjIhzNnCjv8xo0brJcqLCxkj9igZzf27rvvtsh3W6Wnp7PJufr6ev5B7J69BX6+dPny5TYYjocSrIKCAvbGSnCF2NhYAIiKiuJs1bMb4+dLz549K6wCP1/62WefsUds0LMbY/Olrq6ud+7csdmgKMHSarUuLi4SiaS2tlZYhZqamo4dOwJAdna2zXp2Y4sXLwaAl19+WXCFFvOltunZjb355psAMFPoa4gAOD0Wxw0aNAgADh48KLjC8uXLAcDPz8+WPXsL/Hzpnj17BBd57bXX2HypzXp2Y2VlZQ4ODvb29hcuXLDNiOKtx/qrjz76aN26dStXrly6dKmAw/V6/blz5yIiIlQqFQBs3Lhx1qxZYp+jRTZs2BATE9O7d++ioiJh60tLSkqCgoLYZ1Z5eXmxsbHr168X/TyfaMGCBV999dWoUaMaGhqKi4tdXV3Z4zKZjN92cHA40KNHx5oa9j/g4vLnwY6OwFZ+f/op/OMflgyHFSy2Ci8qKmrv3r2W7N/c3FxSUpKfn5+fn3/58uWCggK22rhjx4729vaVlZUODg4Y5/lEWq3W39+/rKysZ8+ebm5u7HzYH3Xq1MnO7s+rUcyvJ96zZ09ubi4AeHl5FRcX84uJbenBgwd+fn61tbU9evS4ceOGqd0a/fwcS0tNVikqgsBAS4bDuphiwIABAHD69GlTOzQ2NhYVFRUUFBQUFBQWFl64cIFfN8x07949JCQkNze3uro6NTV19uzZSKdqnkwm8/T0vH//fllZmZWlXF1dp02b1i6pAgB3d/e4uLhFixa5u7ufPn26rq6OPd7U1FRfX89v69Vq0OsBADQaaGj482B+WyaDt97675UNpmE9YwGAt7d3VVVVeXm5r68vANTV1ZWUlFy6dIk9LeXl5bVIUpcuXcIeGzBggKenJwDs2rXrrbfe8vT0vHbtGmvnbezgwYOjRo1ydXXdtWuXh4eHUqnUs793AMNtNkfPtltdQ5ybm3v8+PHQ0NCzZ8/yz3M2dv78+QEDBixcuJAtdhXis8/gpZf+vLIhMxNM9wbmnrEWLVrEr6c29VRvZtvX17eqqmrZsmU6na6wsPDq1av8PwMASKXSwMDA0NDQ/v37h4aGhoSEtJqb8ePHDx48+MSJE1988cXKlSst/flFotFoYmJiAGDVqlWjRo2yplRjY2OfPn0KCgq2bds2ZcoUkU6wbeLi4jQazZkzZzZt2gQADg4OLo+7KEdHR3b93BA7OweZDB5fSwdOTvD4WjpwcoKKCnj+eQAAT0+4fx+8vU0OZqaxZ88Z1uCv9QMAqVQaEBAwefLk5OTknJwcwzlD89hFFs7OzhUVFVa+VWmrhIQEAOjbt6/glQ6GWp0vtZkdO3YAgEKhYBNppjR7eXEAJv9btOgvVzaYZu6lMD09nb92yvCp3sLt0tLS69evh4eHz5o1KzQ0NDAwUPBVe2+//fbOnTunTp3Kpq1to6Kiwt/fX61WHz16dOjQodYX5DguPDw8Ly8vMTExPj7e+oKWa2hoCAgIuHnzZkpKSmlpKXuvrdFoGh53Ufz2PhcXh/v34fG1dNDY+N9ttRqysmDlSujUCUJCYO5cc0Pi/YpMmjQJ2n5lQavKy8vZ5HteXp711Sw0duxYsO4jHWNtWl8qIjbTGxYWZrNlDojBeumllwDgKHvmtNqHH34IABEREaJUe6IDBw4AgFwuv337triVWV7nzp0rblkzrl69yn4tc3NzbTYoYrCef/55ACgvLxelWm1t7XPPPQcA+/btE6WgGY2NjS+88AIArF+/XvTiFq4vFRF72zFr1izbDMdgBUur1UqlUnt7e1HaXmbdunUA4O/vb/nlh8KI27Mbmzt3LgCMHTsWo3gLfM9u48/EsIJ1/fp1APDx8RGxpkaj6dWrFwBs3LhRxLIt3Lx5ky1qyM7ORhqCX196+PBhpCEYfh1bSkoK6kDGsILFutTBgweLW3bnzp0A4OnpaeZKHith9OzGEhMTASAkJAR1hZnte3YeVrDS0tLAuquKTWHrJpYuXSp6ZQ6zZ29BrVazHjQtLQ1piHbp2XlYwVqxYgUAxMfHi14Zb74UtWc3xn738OZLWc9uyzVYhrCC9d577+E1Q+PHjweAadOmiVuWrQDD69lb0Ol0YWFhAJCYmCh6cdYzKBSK6upq0YtbAitY7K5ASFe08fOl+fn5YtW0Qc9uLDs7m73ytpgvvXv3bl5e3vnz58seu3XrVu1jT3yGa8eenYcVLLbys7i4GKm+6POltunZjUVFRQHA+++/b/ig5asPnJyc3N3djxw5Ynh4O/bsPJRg6fV6JycniUSC92krP1+6f/9+66vZrGc31up86ZYtW8LCwoKCgv7vMR8fH/fHDD/aZ7Kysvhj27dn56EE6/bt22xSAKM4b+3ataLMl9q4ZzdmzXypWq2ura01/Bto356dh7LQLzc3d+DAgeHh4WZWkFqvqanJ19e3srLS29ub3WdbLpdLpX+uMDNcQ2x+PfHvv/9+4sSJvn37FhYWWnPXZMFqamr8/PxUKtXhw4etvCktWxepUCiKi4s9PDzEOkMBUJYm37x5EwBY/4jn4sWLSqVSLpffuXPHylJubm5z5sxpl1QBgIeHx+LFiz/55JOJEyf269cPAKRSqVwuZ3/a4mIHfmme8TK9pqYmNu+alJTUvqkCpGCxtfqowbp27VpkZGR9ff348eOTkpLYk9CjR4+am5vZDiqVSqfTsW1Ta4jZdlZWVlZWVkZGxrx589p022YRhYaGSqVSlUqVlZVlTZ3g4ODu3bvPnDlTrBMT7H/yGeuPP/4YMWJEVVXVyJEjt23bZuUFPOzqrjNnzrAri8Q6Scs1NzcvWrSoubl5ypQp7AsytFotf7GD4bbhhQ+Gy/QaGxvZbe6HDx8eHR3dXmvq/wKjcRs9ejQAZGZmYhSvrq7u06cPAAwcOFCsG11s2bIFAHr06KFWq0Up2CZr1qwBAD8/v3YZHQlKsNiNyzAuulUqlexG+8HBwSLeVEOn07E7oK5evVqsmha6e/cuW+lgg3VmtoQSLNZsCr5rmSkNDQ3sBkC9evWqrKwUt/iRI0cAwM3NzcbrltiL7xtvvGHLQW1A/GDdv38fABwcHAxn7azX1NQ0ZswYAPDx8RF8zyrz2N1HFixYgFG8VcePH2cfqIu1zvbpgfKMxe6jDwAhISFpaWnWL/jU6XTsN9vDw+PKlSuinKSxS5cusZsJXr16FWkIQ1qtNigoCNpyU/j/ISjBUqlUycnJ3bp1Y/Hy9fVNTk625JsBTGE3AO7YsSP2VTozZswAgHHjxqGOwjyTPTsP8WIKjUaTlpbGf3+fp6dnQkKCgDtmLVmyBACcnZ1/++03jPM0VFlZyWYmjx8/jjrQs9qz8xCDxeh0uszMTHaPEACQy+UxMTGWfxXHl19+CQAymeyXX35BPU8eu5IiPDwc9d5oz2rPzkMPFi8nJycqKopNbTs4OEyePPny5cvmD9m6datEIrGzs9u+fbttTpLjuIaGBh8fHwDAG/QZ7tl5tgsWU1hYOHnyZPZRsZ2dXVRU1MmTJ1vdc/fu3Wy35ORkG5/k5s2b2Xxpo6Bb1ZvH9+z8jUmfSbYOFlNeXh4TE8N/JfigQYMyMzMNX3qysrLYl4EnJSXZ/vT4+dI1a9aIXvzZ7tl57RMspqqqKiEhgf8O7X79+rG5iVOnTrEp1hhBX8gjCn6+9N69eyKWfeZ7dl57BotRKpWrV6/u2rUri1e3bt1YqqZPn27jWwu3gDFf+sz37Lz2DxbD5ib8/f0BIDAwMDo6Gvs6+icSfb7079Cz856WYDE6nW7//v11dXUajaa9z4XjOG769OlizZf+TXp23tMVrKfN7du32SrNnJwcK0v9TXp2HuLNbZ8Ny5cvX7FihVwuZxdcAIC9vT1/u1TDNcRm1hPr9frk5OT6+vp9+/ZFRkba9idoHxSsJ6irq0tPT2dfbGmNoUOHent7b9++XZSzevpRsCxy7do1dt9OANDpdPx2c3Pzo0eP2LapNcRse+TIkREREe21pt72KFgExVOw6p48iyhYBAUFi6CgYBEUFCyCgoJFUFCwCAoKFkFBwSIoKFgEBQWLoKBgERQULIKCgkVQULAICgoWQUHBIigoWAQFBYugoGARFBQsgoKCRVBQsAgKChZBQcEiKChYBAUFi6CgYBEUFCyCgoJFUFCwCAoKFkFBwSIoKFgEBQWLoKBgERQULIKCgkVQULAICgoWQUHBIigoWAQFBYugoGARFBQsgoKCRVBQsAgKChZBQcEiKChYBAUFi6CgYBEUFCyCgoJFUFCwCAoKFkFBwSIoKFgEBQWLoKBgERQULIKCgkVQULAICgoWQUHBIigoWAQFBYug+H/r4DnuEq22RAAAAABJRU5ErkJggg==\" alt=\"Mol\"/></td>\n",
              "      <td>0.005247</td>\n",
              "      <td>0.994753</td>\n",
              "    </tr>\n",
              "    <tr>\n",
              "      <th>10</th>\n",
              "      <td>0</td>\n",
              "      <td>520-18-3</td>\n",
              "      <td>Oc1cc(O)cc2OC(c3ccc(O)cc3)=C(O)C(=O)c12</td>\n",
              "      <td>NaN</td>\n",
              "      <td><img data-content=\"rdkit/molecule\" src=\"data:image/png;base64,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\" alt=\"Mol\"/></td>\n",
              "      <td>0.008498</td>\n",
              "      <td>0.991502</td>\n",
              "    </tr>\n",
              "    <tr>\n",
              "      <th>9</th>\n",
              "      <td>1</td>\n",
              "      <td>10161-33-8</td>\n",
              "      <td>C[C@]12C=CC3[C@@H](CCC4=CC(=O)CCC4=3)[C@@H]1CC...</td>\n",
              "      <td>NaN</td>\n",
              "      <td><img data-content=\"rdkit/molecule\" src=\"data:image/png;base64,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\" alt=\"Mol\"/></td>\n",
              "      <td>0.017592</td>\n",
              "      <td>0.982408</td>\n",
              "    </tr>\n",
              "    <tr>\n",
              "      <th>23</th>\n",
              "      <td>1</td>\n",
              "      <td>84-16-2</td>\n",
              "      <td>CC[C@H]([C@H](CC)c1ccc(O)cc1)c1ccc(O)cc1</td>\n",
              "      <td>NaN</td>\n",
              "      <td><img data-content=\"rdkit/molecule\" src=\"data:image/png;base64,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\" alt=\"Mol\"/></td>\n",
              "      <td>0.019973</td>\n",
              "      <td>0.980027</td>\n",
              "    </tr>\n",
              "    <tr>\n",
              "      <th>...</th>\n",
              "      <td>...</td>\n",
              "      <td>...</td>\n",
              "      <td>...</td>\n",
              "      <td>...</td>\n",
              "      <td>...</td>\n",
              "      <td>...</td>\n",
              "      <td>...</td>\n",
              "    </tr>\n",
              "    <tr>\n",
              "      <th>1666</th>\n",
              "      <td>0</td>\n",
              "      <td>NOCAS_48509</td>\n",
              "      <td>CCCN(C1CCN(CC1)C(=O)C1CCNCC1)[C@H]1Cc2cc(ccc2C...</td>\n",
              "      <td>NaN</td>\n",
              "      <td><img data-content=\"rdkit/molecule\" src=\"data:image/png;base64,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\" alt=\"Mol\"/></td>\n",
              "      <td>NaN</td>\n",
              "      <td>NaN</td>\n",
              "    </tr>\n",
              "    <tr>\n",
              "      <th>1667</th>\n",
              "      <td>0</td>\n",
              "      <td>NOCAS_48514</td>\n",
              "      <td>Cc1ccc(c(Cl)c1)C(=O)NS(=O)(=O)/C=C/c1ccc(cc1)OC</td>\n",
              "      <td>NaN</td>\n",
              "      <td><img data-content=\"rdkit/molecule\" src=\"data:image/png;base64,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\" alt=\"Mol\"/></td>\n",
              "      <td>NaN</td>\n",
              "      <td>NaN</td>\n",
              "    </tr>\n",
              "    <tr>\n",
              "      <th>1668</th>\n",
              "      <td>0</td>\n",
              "      <td>NOCAS_48516</td>\n",
              "      <td>O=C(NS(=O)(=O)/C=C/c1ccccc1)c1ccc(F)cc1Cl</td>\n",
              "      <td>NaN</td>\n",
              "      <td><img data-content=\"rdkit/molecule\" src=\"data:image/png;base64,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\" alt=\"Mol\"/></td>\n",
              "      <td>NaN</td>\n",
              "      <td>NaN</td>\n",
              "    </tr>\n",
              "    <tr>\n",
              "      <th>1669</th>\n",
              "      <td>0</td>\n",
              "      <td>NOCAS_48518</td>\n",
              "      <td>O=C(NS(=O)(=O)/C=C/c1ccc[s]1)c1ccc(F)cc1Br</td>\n",
              "      <td>NaN</td>\n",
              "      <td><img data-content=\"rdkit/molecule\" src=\"data:image/png;base64,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\" alt=\"Mol\"/></td>\n",
              "      <td>NaN</td>\n",
              "      <td>NaN</td>\n",
              "    </tr>\n",
              "    <tr>\n",
              "      <th>1670</th>\n",
              "      <td>0</td>\n",
              "      <td>102-71-6</td>\n",
              "      <td>OCCN(CCO)CCO</td>\n",
              "      <td>NaN</td>\n",
              "      <td><img data-content=\"rdkit/molecule\" src=\"data:image/png;base64,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\" alt=\"Mol\"/></td>\n",
              "      <td>NaN</td>\n",
              "      <td>NaN</td>\n",
              "    </tr>\n",
              "  </tbody>\n",
              "</table>\n",
              "<p>1671 rows × 7 columns</p>\n",
              "</div>"
            ],
            "text/plain": [
              "      bindingClass        casrn  ...       Neg       Pos\n",
              "61               0   35367-38-5  ...  0.004150  0.995850\n",
              "4                1      DB06710  ...  0.005247  0.994753\n",
              "10               0     520-18-3  ...  0.008498  0.991502\n",
              "9                1   10161-33-8  ...  0.017592  0.982408\n",
              "23               1      84-16-2  ...  0.019973  0.980027\n",
              "...            ...          ...  ...       ...       ...\n",
              "1666             0  NOCAS_48509  ...       NaN       NaN\n",
              "1667             0  NOCAS_48514  ...       NaN       NaN\n",
              "1668             0  NOCAS_48516  ...       NaN       NaN\n",
              "1669             0  NOCAS_48518  ...       NaN       NaN\n",
              "1670             0     102-71-6  ...       NaN       NaN\n",
              "\n",
              "[1671 rows x 7 columns]"
            ]
          },
          "metadata": {
            "tags": []
          },
          "execution_count": 128
        }
      ]
    },
    {
      "cell_type": "code",
      "metadata": {
        "id": "UTOvymwogP6c",
        "colab_type": "code",
        "colab": {}
      },
      "source": [
        "pred_scores_df.to_csv(\"pred_scores_df.csv\")"
      ],
      "execution_count": 0,
      "outputs": []
    },
    {
      "cell_type": "code",
      "metadata": {
        "id": "Rj_D3ILegQSg",
        "colab_type": "code",
        "colab": {}
      },
      "source": [
        ""
      ],
      "execution_count": 0,
      "outputs": []
    },
    {
      "cell_type": "code",
      "metadata": {
        "id": "y7Y1XBlkgQig",
        "colab_type": "code",
        "colab": {}
      },
      "source": [
        ""
      ],
      "execution_count": 0,
      "outputs": []
    },
    {
      "cell_type": "code",
      "metadata": {
        "id": "x84cS7VrFAZO",
        "colab_type": "code",
        "colab": {}
      },
      "source": [
        "###transformers = [\n",
        "###    dc.trans.NormalizationTransformer(transform_X=True, dataset=dataset),\n",
        "###    dc.trans.ClippingTransformer(transform_X=True, dataset=dataset)]\n",
        "#datasets = [dataset]\n",
        "#datasets = [dataset,eval_df]\n",
        "###datasets = [dataset, valid_dataset, tmp_dataset]\n",
        "###for i, dataset in enumerate(datasets):\n",
        "###  for transformer in transformers:\n",
        "###      datasets[i] = transformer.transform(dataset)\n",
        "#train_dataset = datasets\n",
        "#train_dataset, eval_dataset = datasets\n",
        "###train_dataset, valid_dataset, tmp_dataset = datasets"
      ],
      "execution_count": 0,
      "outputs": []
    },
    {
      "cell_type": "code",
      "metadata": {
        "id": "KlK26-VnQw3l",
        "colab_type": "code",
        "colab": {}
      },
      "source": [
        "####END> THE REST IS FROM THE RF AND DNN MODELS IN ANOTHER IPYNB"
      ],
      "execution_count": 0,
      "outputs": []
    },
    {
      "cell_type": "code",
      "metadata": {
        "id": "hQpHLGqdSjOI",
        "colab_type": "code",
        "colab": {}
      },
      "source": [
        ""
      ],
      "execution_count": 0,
      "outputs": []
    },
    {
      "cell_type": "code",
      "metadata": {
        "id": "_B-sGwO281gf",
        "colab_type": "code",
        "colab": {}
      },
      "source": [
        ""
      ],
      "execution_count": 0,
      "outputs": []
    },
    {
      "cell_type": "code",
      "metadata": {
        "id": "d4DDnZMDT28f",
        "colab_type": "code",
        "outputId": "b2f46b13-284f-464c-882a-00e48ccc8895",
        "colab": {
          "base_uri": "https://localhost:8080/",
          "height": 391
        }
      },
      "source": [
        "from sklearn.ensemble import RandomForestClassifier\n",
        "\n",
        "def rf_model_builder(model_params, model_dir):\n",
        "  sklearn_model = RandomForestClassifier(**model_params)\n",
        "  return dc.models.SklearnModel(sklearn_model, model_dir='models')\n",
        "params_dict = {\n",
        "    \"n_estimators\": [10, 50, 100, 250, 500],\n",
        "    \"max_features\": [\"auto\", \"sqrt\", \"log2\", None],\n",
        "}\n",
        "\n",
        "metric = dc.metrics.Metric(dc.metrics.roc_auc_score)\n",
        "optimizer = dc.hyper.HyperparamOpt(rf_model_builder)\n",
        "best_rf, best_rf_hyperparams, all_rf_results = optimizer.hyperparam_search(\n",
        "    params_dict, train_dataset, valid_dataset, transformers,\n",
        "    metric=metric)\n",
        "\n"
      ],
      "execution_count": 119,
      "outputs": [
        {
          "output_type": "stream",
          "text": [
            "Fitting model 1/20\n",
            "hyperparameters: {'n_estimators': 10, 'max_features': 'auto'}\n"
          ],
          "name": "stdout"
        },
        {
          "output_type": "error",
          "ename": "TypeError",
          "evalue": "ignored",
          "traceback": [
            "\u001b[0;31m---------------------------------------------------------------------------\u001b[0m",
            "\u001b[0;31mTypeError\u001b[0m                                 Traceback (most recent call last)",
            "\u001b[0;32m<ipython-input-119-aeef8da4b4f1>\u001b[0m in \u001b[0;36m<module>\u001b[0;34m()\u001b[0m\n\u001b[1;32m     13\u001b[0m best_rf, best_rf_hyperparams, all_rf_results = optimizer.hyperparam_search(\n\u001b[1;32m     14\u001b[0m     \u001b[0mparams_dict\u001b[0m\u001b[0;34m,\u001b[0m \u001b[0mtrain_dataset\u001b[0m\u001b[0;34m,\u001b[0m \u001b[0mvalid_dataset\u001b[0m\u001b[0;34m,\u001b[0m \u001b[0mtransformers\u001b[0m\u001b[0;34m,\u001b[0m\u001b[0;34m\u001b[0m\u001b[0;34m\u001b[0m\u001b[0m\n\u001b[0;32m---> 15\u001b[0;31m     metric=metric)\n\u001b[0m\u001b[1;32m     16\u001b[0m \u001b[0;34m\u001b[0m\u001b[0m\n",
            "\u001b[0;32m/content/deepchem/deepchem/hyper/grid_search.py\u001b[0m in \u001b[0;36mhyperparam_search\u001b[0;34m(self, params_dict, train_dataset, valid_dataset, output_transformers, metric, use_max, logdir)\u001b[0m\n\u001b[1;32m     78\u001b[0m \u001b[0;34m\u001b[0m\u001b[0m\n\u001b[1;32m     79\u001b[0m       \u001b[0mmodel\u001b[0m \u001b[0;34m=\u001b[0m \u001b[0mself\u001b[0m\u001b[0;34m.\u001b[0m\u001b[0mmodel_class\u001b[0m\u001b[0;34m(\u001b[0m\u001b[0mmodel_params\u001b[0m\u001b[0;34m,\u001b[0m \u001b[0mmodel_dir\u001b[0m\u001b[0;34m)\u001b[0m\u001b[0;34m\u001b[0m\u001b[0;34m\u001b[0m\u001b[0m\n\u001b[0;32m---> 80\u001b[0;31m       \u001b[0mmodel\u001b[0m\u001b[0;34m.\u001b[0m\u001b[0mfit\u001b[0m\u001b[0;34m(\u001b[0m\u001b[0mtrain_dataset\u001b[0m\u001b[0;34m)\u001b[0m\u001b[0;34m\u001b[0m\u001b[0;34m\u001b[0m\u001b[0m\n\u001b[0m\u001b[1;32m     81\u001b[0m \u001b[0;34m\u001b[0m\u001b[0m\n\u001b[1;32m     82\u001b[0m       \u001b[0mevaluator\u001b[0m \u001b[0;34m=\u001b[0m \u001b[0mEvaluator\u001b[0m\u001b[0;34m(\u001b[0m\u001b[0mmodel\u001b[0m\u001b[0;34m,\u001b[0m \u001b[0mvalid_dataset\u001b[0m\u001b[0;34m,\u001b[0m \u001b[0moutput_transformers\u001b[0m\u001b[0;34m)\u001b[0m\u001b[0;34m\u001b[0m\u001b[0;34m\u001b[0m\u001b[0m\n",
            "\u001b[0;32m/content/deepchem/deepchem/models/sklearn_models/__init__.py\u001b[0m in \u001b[0;36mfit\u001b[0;34m(self, dataset, **kwargs)\u001b[0m\n\u001b[1;32m     62\u001b[0m     \u001b[0;31m# Logistic regression doesn't support weights\u001b[0m\u001b[0;34m\u001b[0m\u001b[0;34m\u001b[0m\u001b[0;34m\u001b[0m\u001b[0m\n\u001b[1;32m     63\u001b[0m     \u001b[0;32mif\u001b[0m \u001b[0mself\u001b[0m\u001b[0;34m.\u001b[0m\u001b[0muse_weights\u001b[0m\u001b[0;34m:\u001b[0m\u001b[0;34m\u001b[0m\u001b[0;34m\u001b[0m\u001b[0m\n\u001b[0;32m---> 64\u001b[0;31m       \u001b[0mself\u001b[0m\u001b[0;34m.\u001b[0m\u001b[0mmodel_instance\u001b[0m\u001b[0;34m.\u001b[0m\u001b[0mfit\u001b[0m\u001b[0;34m(\u001b[0m\u001b[0mX\u001b[0m\u001b[0;34m,\u001b[0m \u001b[0my\u001b[0m\u001b[0;34m,\u001b[0m \u001b[0mw\u001b[0m\u001b[0;34m)\u001b[0m\u001b[0;34m\u001b[0m\u001b[0;34m\u001b[0m\u001b[0m\n\u001b[0m\u001b[1;32m     65\u001b[0m       \u001b[0;32mreturn\u001b[0m\u001b[0;34m\u001b[0m\u001b[0;34m\u001b[0m\u001b[0m\n\u001b[1;32m     66\u001b[0m     \u001b[0mself\u001b[0m\u001b[0;34m.\u001b[0m\u001b[0mmodel_instance\u001b[0m\u001b[0;34m.\u001b[0m\u001b[0mfit\u001b[0m\u001b[0;34m(\u001b[0m\u001b[0mX\u001b[0m\u001b[0;34m,\u001b[0m \u001b[0my\u001b[0m\u001b[0;34m)\u001b[0m\u001b[0;34m\u001b[0m\u001b[0;34m\u001b[0m\u001b[0m\n",
            "\u001b[0;32m/usr/local/lib/python3.6/dist-packages/sklearn/ensemble/_forest.py\u001b[0m in \u001b[0;36mfit\u001b[0;34m(self, X, y, sample_weight)\u001b[0m\n\u001b[1;32m    293\u001b[0m         \"\"\"\n\u001b[1;32m    294\u001b[0m         \u001b[0;31m# Validate or convert input data\u001b[0m\u001b[0;34m\u001b[0m\u001b[0;34m\u001b[0m\u001b[0;34m\u001b[0m\u001b[0m\n\u001b[0;32m--> 295\u001b[0;31m         \u001b[0mX\u001b[0m \u001b[0;34m=\u001b[0m \u001b[0mcheck_array\u001b[0m\u001b[0;34m(\u001b[0m\u001b[0mX\u001b[0m\u001b[0;34m,\u001b[0m \u001b[0maccept_sparse\u001b[0m\u001b[0;34m=\u001b[0m\u001b[0;34m\"csc\"\u001b[0m\u001b[0;34m,\u001b[0m \u001b[0mdtype\u001b[0m\u001b[0;34m=\u001b[0m\u001b[0mDTYPE\u001b[0m\u001b[0;34m)\u001b[0m\u001b[0;34m\u001b[0m\u001b[0;34m\u001b[0m\u001b[0m\n\u001b[0m\u001b[1;32m    296\u001b[0m         \u001b[0my\u001b[0m \u001b[0;34m=\u001b[0m \u001b[0mcheck_array\u001b[0m\u001b[0;34m(\u001b[0m\u001b[0my\u001b[0m\u001b[0;34m,\u001b[0m \u001b[0maccept_sparse\u001b[0m\u001b[0;34m=\u001b[0m\u001b[0;34m'csc'\u001b[0m\u001b[0;34m,\u001b[0m \u001b[0mensure_2d\u001b[0m\u001b[0;34m=\u001b[0m\u001b[0;32mFalse\u001b[0m\u001b[0;34m,\u001b[0m \u001b[0mdtype\u001b[0m\u001b[0;34m=\u001b[0m\u001b[0;32mNone\u001b[0m\u001b[0;34m)\u001b[0m\u001b[0;34m\u001b[0m\u001b[0;34m\u001b[0m\u001b[0m\n\u001b[1;32m    297\u001b[0m         \u001b[0;32mif\u001b[0m \u001b[0msample_weight\u001b[0m \u001b[0;32mis\u001b[0m \u001b[0;32mnot\u001b[0m \u001b[0;32mNone\u001b[0m\u001b[0;34m:\u001b[0m\u001b[0;34m\u001b[0m\u001b[0;34m\u001b[0m\u001b[0m\n",
            "\u001b[0;32m/usr/local/lib/python3.6/dist-packages/sklearn/utils/validation.py\u001b[0m in \u001b[0;36mcheck_array\u001b[0;34m(array, accept_sparse, accept_large_sparse, dtype, order, copy, force_all_finite, ensure_2d, allow_nd, ensure_min_samples, ensure_min_features, warn_on_dtype, estimator)\u001b[0m\n\u001b[1;32m    529\u001b[0m                     \u001b[0marray\u001b[0m \u001b[0;34m=\u001b[0m \u001b[0marray\u001b[0m\u001b[0;34m.\u001b[0m\u001b[0mastype\u001b[0m\u001b[0;34m(\u001b[0m\u001b[0mdtype\u001b[0m\u001b[0;34m,\u001b[0m \u001b[0mcasting\u001b[0m\u001b[0;34m=\u001b[0m\u001b[0;34m\"unsafe\"\u001b[0m\u001b[0;34m,\u001b[0m \u001b[0mcopy\u001b[0m\u001b[0;34m=\u001b[0m\u001b[0;32mFalse\u001b[0m\u001b[0;34m)\u001b[0m\u001b[0;34m\u001b[0m\u001b[0;34m\u001b[0m\u001b[0m\n\u001b[1;32m    530\u001b[0m                 \u001b[0;32melse\u001b[0m\u001b[0;34m:\u001b[0m\u001b[0;34m\u001b[0m\u001b[0;34m\u001b[0m\u001b[0m\n\u001b[0;32m--> 531\u001b[0;31m                     \u001b[0marray\u001b[0m \u001b[0;34m=\u001b[0m \u001b[0mnp\u001b[0m\u001b[0;34m.\u001b[0m\u001b[0masarray\u001b[0m\u001b[0;34m(\u001b[0m\u001b[0marray\u001b[0m\u001b[0;34m,\u001b[0m \u001b[0morder\u001b[0m\u001b[0;34m=\u001b[0m\u001b[0morder\u001b[0m\u001b[0;34m,\u001b[0m \u001b[0mdtype\u001b[0m\u001b[0;34m=\u001b[0m\u001b[0mdtype\u001b[0m\u001b[0;34m)\u001b[0m\u001b[0;34m\u001b[0m\u001b[0;34m\u001b[0m\u001b[0m\n\u001b[0m\u001b[1;32m    532\u001b[0m             \u001b[0;32mexcept\u001b[0m \u001b[0mComplexWarning\u001b[0m\u001b[0;34m:\u001b[0m\u001b[0;34m\u001b[0m\u001b[0;34m\u001b[0m\u001b[0m\n\u001b[1;32m    533\u001b[0m                 raise ValueError(\"Complex data not supported\\n\"\n",
            "\u001b[0;32m/usr/local/lib/python3.6/dist-packages/numpy/core/_asarray.py\u001b[0m in \u001b[0;36masarray\u001b[0;34m(a, dtype, order)\u001b[0m\n\u001b[1;32m     83\u001b[0m \u001b[0;34m\u001b[0m\u001b[0m\n\u001b[1;32m     84\u001b[0m     \"\"\"\n\u001b[0;32m---> 85\u001b[0;31m     \u001b[0;32mreturn\u001b[0m \u001b[0marray\u001b[0m\u001b[0;34m(\u001b[0m\u001b[0ma\u001b[0m\u001b[0;34m,\u001b[0m \u001b[0mdtype\u001b[0m\u001b[0;34m,\u001b[0m \u001b[0mcopy\u001b[0m\u001b[0;34m=\u001b[0m\u001b[0;32mFalse\u001b[0m\u001b[0;34m,\u001b[0m \u001b[0morder\u001b[0m\u001b[0;34m=\u001b[0m\u001b[0morder\u001b[0m\u001b[0;34m)\u001b[0m\u001b[0;34m\u001b[0m\u001b[0;34m\u001b[0m\u001b[0m\n\u001b[0m\u001b[1;32m     86\u001b[0m \u001b[0;34m\u001b[0m\u001b[0m\n\u001b[1;32m     87\u001b[0m \u001b[0;34m\u001b[0m\u001b[0m\n",
            "\u001b[0;31mTypeError\u001b[0m: float() argument must be a string or a number, not 'ConvMol'"
          ]
        }
      ]
    },
    {
      "cell_type": "code",
      "metadata": {
        "id": "0e0cCr32kdom",
        "colab_type": "code",
        "colab": {}
      },
      "source": [
        "best_rf.save()"
      ],
      "execution_count": 0,
      "outputs": []
    },
    {
      "cell_type": "code",
      "metadata": {
        "id": "RL-39qQWe7zy",
        "colab_type": "code",
        "colab": {}
      },
      "source": [
        "pred = best_rf.predict(tmp_dataset)"
      ],
      "execution_count": 0,
      "outputs": []
    },
    {
      "cell_type": "code",
      "metadata": {
        "id": "9p220aJjgllr",
        "colab_type": "code",
        "colab": {}
      },
      "source": [
        "pred.shape"
      ],
      "execution_count": 0,
      "outputs": []
    },
    {
      "cell_type": "code",
      "metadata": {
        "id": "YhpV_w04g6bl",
        "colab_type": "code",
        "colab": {}
      },
      "source": [
        "pred_df = pd.DataFrame(pred)"
      ],
      "execution_count": 0,
      "outputs": []
    },
    {
      "cell_type": "code",
      "metadata": {
        "id": "EgmQ7JrlgprO",
        "colab_type": "code",
        "colab": {}
      },
      "source": [
        "pred_df.head"
      ],
      "execution_count": 0,
      "outputs": []
    },
    {
      "cell_type": "code",
      "metadata": {
        "id": "9ZWk4mQI9yys",
        "colab_type": "code",
        "colab": {}
      },
      "source": [
        "import numpy as np\n",
        "#import np.random\n",
        "\n",
        "params_dict = {\"learning_rate\": np.power(10., np.random.uniform(-5, -3, size=1)),\n",
        "               \"weight_decay_penalty\": np.power(10, np.random.uniform(-6, -4, size=1)),\n",
        "               \"nb_epoch\": [40] }\n",
        "n_features = train_dataset.get_data_shape()[0]\n",
        "def model_builder(model_params, model_dir):\n",
        "  model = dc.models.MultitaskClassifier(\n",
        "    1, n_features, layer_sizes=[1000], dropouts=.25,\n",
        "    batch_size=50, **model_params)\n",
        "  return model\n",
        "\n",
        "#train_dataset = dc.data.NumpyDataset(train_dataset.X, train_dataset.y, train_dataset.w, train_dataset.ids)\n",
        "\n",
        "optimizer = dc.hyper.HyperparamOpt(model_builder)\n",
        "best_dnn, best_dnn_hyperparams, all_dnn_results = optimizer.hyperparam_search(\n",
        "    params_dict, train_dataset, valid_dataset, transformers,\n",
        "    metric=metric)"
      ],
      "execution_count": 0,
      "outputs": []
    },
    {
      "cell_type": "code",
      "metadata": {
        "id": "Tx9iGLauWKvk",
        "colab_type": "code",
        "colab": {}
      },
      "source": [
        "from deepchem.utils.evaluate import Evaluator\n",
        "\n",
        "rf_train_csv_out = \"rf_train_classifier.csv\"\n",
        "rf_train_stats_out = \"rf_train_stats_classifier.txt\"\n",
        "rf_train_evaluator = Evaluator(best_rf, train_dataset, transformers)\n",
        "rf_train_score = rf_train_evaluator.compute_model_performance(\n",
        "    [metric], rf_train_csv_out, rf_train_stats_out)\n",
        "print(\"RF Train set AUC %f\" % (rf_train_score[\"roc_auc_score\"]))\n",
        "\n",
        "rf_valid_csv_out = \"rf_valid_classifier.csv\"\n",
        "rf_valid_stats_out = \"rf_valid_stats_classifier.txt\"\n",
        "rf_valid_evaluator = Evaluator(best_rf, valid_dataset, transformers)\n",
        "rf_valid_score = rf_valid_evaluator.compute_model_performance(\n",
        "    [metric], rf_valid_csv_out, rf_valid_stats_out)\n",
        "print(\"RF Valid set AUC %f\" % (rf_valid_score[\"roc_auc_score\"]))\n",
        "\n",
        "rf_tmp_csv_out = \"rf_tmp_classifier.csv\"\n",
        "rf_tmp_stats_out = \"rf_tmp_stats_classifier.txt\"\n",
        "rf_tmp_evaluator = Evaluator(best_rf, tmp_dataset, transformers)\n",
        "rf_tmp_score = rf_tmp_evaluator.compute_model_performance(\n",
        "    [metric], rf_tmp_csv_out, rf_tmp_stats_out)\n",
        "print(\"RF Tmp set AUC %f\" % (rf_tmp_score[\"roc_auc_score\"]))\n",
        "\n",
        "#rf_test_csv_out = \"rf_test_regressor.csv\"\n",
        "#rf_test_stats_out = \"rf_test_stats_regressor.txt\"\n",
        "#rf_test_evaluator = Evaluator(best_rf, test_dataset, transformers)\n",
        "\n",
        "#rf_test_score = rf_test_evaluator.compute_model_performance(\n",
        " #   [metric], rf_test_csv_out, rf_test_stats_out)\n",
        "#print(\"RF Test set AUC %f\" % (rf_test_score[\"roc_auc_score\"]))\n",
        "\n",
        "#rf_crystal_csv_out = \"rf_crystal_regressor.csv\"\n",
        "#rf_crystal_stats_out = \"rf_crystal_stats_regressor.txt\"\n",
        "#rf_crystal_evaluator = Evaluator(best_rf, crystal_dataset, transformers)\n",
        "#rf_crystal_score = rf_crystal_evaluator.compute_model_performance(\n",
        "#    [metric], rf_crystal_csv_out, rf_crystal_stats_out)\n",
        "#print(\"RF Crystal set R^2 %f\" % (rf_crystal_score[\"roc_auc_score\"]))"
      ],
      "execution_count": 0,
      "outputs": []
    },
    {
      "cell_type": "code",
      "metadata": {
        "id": "grYdHVPxYRB5",
        "colab_type": "code",
        "colab": {}
      },
      "source": [
        "dnn_train_csv_out = \"dnn_train_classifier.csv\"\n",
        "dnn_train_stats_out = \"dnn_train_classifier_stats.txt\"\n",
        "dnn_train_evaluator = Evaluator(best_dnn, train_dataset, transformers)\n",
        "dnn_train_score = dnn_train_evaluator.compute_model_performance(\n",
        "    [metric], dnn_train_csv_out, dnn_train_stats_out)\n",
        "print(\"DNN Train set AUC %f\" % (dnn_train_score[\"roc_auc_score\"]))\n",
        "\n",
        "dnn_valid_csv_out = \"dnn_valid_classifier.csv\"\n",
        "dnn_valid_stats_out = \"dnn_valid_classifier_stats.txt\"\n",
        "dnn_valid_evaluator = Evaluator(best_dnn, valid_dataset, transformers)\n",
        "dnn_valid_score = dnn_valid_evaluator.compute_model_performance(\n",
        "    [metric], dnn_valid_csv_out, dnn_valid_stats_out)\n",
        "print(\"DNN Valid set AUC %f\" % (dnn_valid_score[\"roc_auc_score\"]))\n",
        "\n",
        "dnn_tmp_csv_out = \"dnn_tmp_classifier.csv\"\n",
        "dnn_tmp_stats_out = \"dnn_tmp_classifier_stats.txt\"\n",
        "dnn_tmp_evaluator = Evaluator(best_dnn, tmp_dataset, transformers)\n",
        "dnn_tmp_score = dnn_tmp_evaluator.compute_model_performance(\n",
        "    [metric], dnn_tmp_csv_out, dnn_tmp_stats_out)\n",
        "print(\"DNN Tmp set AUC %f\" % (dnn_tmp_score[\"roc_auc_score\"]))\n",
        "\n",
        "#dnn_test_csv_out = \"dnn_test_classifier.csv\"\n",
        "#dnn_test_stats_out = \"dnn_test_classifier_stats.txt\"\n",
        "#dnn_test_evaluator = Evaluator(best_dnn, test_dataset, transformers)\n",
        "#dnn_test_score = dnn_test_evaluator.compute_model_performance(\n",
        "#    [metric], dnn_test_csv_out, dnn_test_stats_out)\n",
        "#print(\"DNN Test set AUC %f\" % (dnn_test_score[\"roc_auc_score\"]))\n",
        "\n",
        "#dnn_crystal_csv_out = \"dnn_crystal_classifier.csv\"\n",
        "#dnn_crystal_stats_out = \"dnn_crystal_stats_classifier.txt\"\n",
        "#dnn_crystal_evaluator = Evaluator(best_dnn, crystal_dataset, transformers)\n",
        "#dnn_crystal_score = dnn_crystal_evaluator.compute_model_performance(\n",
        "#    [metric], dnn_crystal_csv_out, dnn_crystal_stats_out)\n",
        "#print(\"DNN Crystal set AUC %f\" % (dnn_crystal_score[\"roc_auc_score\"]))"
      ],
      "execution_count": 0,
      "outputs": []
    },
    {
      "cell_type": "code",
      "metadata": {
        "id": "EMbMcI_vYsbq",
        "colab_type": "code",
        "colab": {}
      },
      "source": [
        "#Now regression models\n",
        "#Make directories to store the raw and featurized datasets.\n",
        "#featurizer = dc.feat.UserDefinedFeaturizer(user_specified_features)\n",
        "featurizer = dc.feat.ConvMolFeaturizer()\n",
        "loader = dc.data.CSVLoader(tasks=[\"bindingClass\"],\n",
        "    smiles_field=\"SMILES\",\n",
        "    featurizer=featurizer)\n",
        "\n",
        "#loader = dc.data.UserCSVLoader(\n",
        "#    tasks=[\"bindingClass\"],  id_field=\"casrn\",\n",
        "#    featurizer=featurizer)\n",
        "train_dataset = loader.featurize(dataset_file)\n",
        "valid_dataset = loader.featurize(eval_dataset_file)\n",
        "#crystal_dataset = loader.featurize(crystal_dataset_file)"
      ],
      "execution_count": 0,
      "outputs": []
    },
    {
      "cell_type": "code",
      "metadata": {
        "id": "R9re5w_cZwWa",
        "colab_type": "code",
        "colab": {}
      },
      "source": [
        "print(\"Number of compounds in train set\")\n",
        "print(len(train_dataset))\n",
        "print(\"Number of compounds in validation set\")\n",
        "print(len(valid_dataset))"
      ],
      "execution_count": 0,
      "outputs": []
    },
    {
      "cell_type": "code",
      "metadata": {
        "id": "-CGHqQlQaJvk",
        "colab_type": "code",
        "colab": {}
      },
      "source": [
        "transformers = [\n",
        "    dc.trans.NormalizationTransformer(transform_X=True, dataset=train_dataset),\n",
        "    dc.trans.ClippingTransformer(transform_X=True, dataset=train_dataset)]\n",
        "\n",
        "datasets = [train_dataset, valid_dataset]\n",
        "for i, dataset in enumerate(datasets):\n",
        "  for transformer in transformers:\n",
        "      datasets[i] = transformer.transform(dataset)\n",
        "train_dataset, valid_dataset = datasets"
      ],
      "execution_count": 0,
      "outputs": []
    },
    {
      "cell_type": "code",
      "metadata": {
        "id": "VYaQa2EOaVgO",
        "colab_type": "code",
        "colab": {}
      },
      "source": [
        "from sklearn.ensemble import RandomForestRegressor\n",
        "\n",
        "def rf_model_builder(model_params, model_dir):\n",
        "  sklearn_model = RandomForestRegressor(**model_params)\n",
        "  return dc.models.SklearnModel(sklearn_model, model_dir)\n",
        "params_dict = {\n",
        "    \"n_estimators\": [10, 100],\n",
        "    \"max_features\": [\"auto\", \"sqrt\", \"log2\", None],\n",
        "}\n",
        "\n",
        "metric = dc.metrics.Metric(dc.metrics.r2_score)\n",
        "optimizer = dc.hyper.HyperparamOpt(rf_model_builder)\n",
        "best_rf, best_rf_hyperparams, all_rf_results = optimizer.hyperparam_search(\n",
        "    params_dict, train_dataset, valid_dataset, transformers,\n",
        "    metric=metric)"
      ],
      "execution_count": 0,
      "outputs": []
    },
    {
      "cell_type": "code",
      "metadata": {
        "id": "aTZdDPykaprV",
        "colab_type": "code",
        "colab": {}
      },
      "source": [
        "import numpy.random\n",
        "\n",
        "params_dict = {\"learning_rate\": np.power(10., np.random.uniform(-5, -3, size=2)),\n",
        "               \"weight_decay_penalty\": np.power(10, np.random.uniform(-6, -4, size=2)),\n",
        "               \"nb_epoch\": [20] }\n",
        "n_features = train_dataset.get_data_shape()[0]\n",
        "def model_builder(model_params, model_dir):\n",
        "  model = dc.models.MultitaskRegressor(\n",
        "    1, n_features, layer_sizes=[1000], dropouts=[.25],\n",
        "    batch_size=50, **model_params)\n",
        "  return model\n",
        "\n",
        "optimizer = dc.hyper.HyperparamOpt(model_builder)\n",
        "best_dnn, best_dnn_hyperparams, all_dnn_results = optimizer.hyperparam_search(\n",
        "    params_dict, train_dataset, valid_dataset, transformers,\n",
        "    metric=metric)"
      ],
      "execution_count": 0,
      "outputs": []
    },
    {
      "cell_type": "code",
      "metadata": {
        "id": "NFsmRqDrbJtK",
        "colab_type": "code",
        "colab": {}
      },
      "source": [
        "from deepchem.utils.evaluate import Evaluator\n",
        "\n",
        "rf_train_csv_out = \"rf_train_regressor.csv\"\n",
        "rf_train_stats_out = \"rf_train_stats_regressor.txt\"\n",
        "rf_train_evaluator = Evaluator(best_rf, train_dataset, transformers)\n",
        "rf_train_score = rf_train_evaluator.compute_model_performance(\n",
        "    [metric], rf_train_csv_out, rf_train_stats_out)\n",
        "print(\"RF Train set R^2 %f\" % (rf_train_score[\"r2_score\"]))\n",
        "\n",
        "rf_valid_csv_out = \"rf_valid_regressor.csv\"\n",
        "rf_valid_stats_out = \"rf_valid_stats_regressor.txt\"\n",
        "rf_valid_evaluator = Evaluator(best_rf, valid_dataset, transformers)\n",
        "rf_valid_score = rf_valid_evaluator.compute_model_performance(\n",
        "    [metric], rf_valid_csv_out, rf_valid_stats_out)\n",
        "print(\"RF Valid set R^2 %f\" % (rf_valid_score[\"r2_score\"]))"
      ],
      "execution_count": 0,
      "outputs": []
    },
    {
      "cell_type": "code",
      "metadata": {
        "id": "I-xzwOSkbTpa",
        "colab_type": "code",
        "colab": {}
      },
      "source": [
        "dnn_train_csv_out = \"dnn_train_regressor.csv\"\n",
        "dnn_train_stats_out = \"dnn_train_regressor_stats.txt\"\n",
        "dnn_train_evaluator = Evaluator(best_dnn, train_dataset, transformers)\n",
        "dnn_train_score = dnn_train_evaluator.compute_model_performance(\n",
        "    [metric], dnn_train_csv_out, dnn_train_stats_out)\n",
        "print(\"DNN Train set R^2 %f\" % (dnn_train_score[\"r2_score\"]))\n",
        "\n",
        "dnn_valid_csv_out = \"dnn_valid_regressor.csv\"\n",
        "dnn_valid_stats_out = \"dnn_valid_regressor_stats.txt\"\n",
        "dnn_valid_evaluator = Evaluator(best_dnn, valid_dataset, transformers)\n",
        "dnn_valid_score = dnn_valid_evaluator.compute_model_performance(\n",
        "    [metric], dnn_valid_csv_out, dnn_valid_stats_out)\n",
        "print(\"DNN Valid set R^2 %f\" % (dnn_valid_score[\"r2_score\"]))"
      ],
      "execution_count": 0,
      "outputs": []
    },
    {
      "cell_type": "code",
      "metadata": {
        "id": "jIn_EcNybekR",
        "colab_type": "code",
        "colab": {}
      },
      "source": [
        "#%matplotlib inline\n",
        "#from matplotlib import pyplot as plt\n",
        "\n",
        "#task = \"bindingClass\"\n",
        "#rf_predicted_test = best_rf.predict(valid_dataset)\n",
        "#rf_true_test = valid_dataset.y\n",
        "#plt.scatter(rf_predicted_test, rf_true_test)\n",
        "#plt.xlabel('Predicted bindingClass')\n",
        "#plt.ylabel('Secondary Assay')\n",
        "#plt.title(r'RF predicted bindingClass vs. Secondary Assay')\n",
        "#plt.xlim([2, 11])\n",
        "#plt.ylim([2, 11])\n",
        "#plt.plot([2, 11], [2, 11], color='k')\n",
        "#plt.show()"
      ],
      "execution_count": 0,
      "outputs": []
    },
    {
      "cell_type": "code",
      "metadata": {
        "id": "PCDtfrFpcakP",
        "colab_type": "code",
        "colab": {}
      },
      "source": [
        "#task = \"bindingClass\"\n",
        "#dnn_predicted_test = best_dnn.predict(valid_dataset, transformers)\n",
        "#dnn_true_test = valid_dataset.y\n",
        "#plt.scatter(dnn_predicted_test, dnn_true_test)\n",
        "#plt.xlabel('Predicted bindingClass')\n",
        "#plt.ylabel('Secondary Assay')\n",
        "#plt.title(r'DNN predicted bindingClass vs. Secondary Assay')\n",
        "#plt.xlim([2, 11])\n",
        "#plt.ylim([2, 11])\n",
        "#plt.plot([2, 11], [2, 11], color='k')\n",
        "#plt.show()"
      ],
      "execution_count": 0,
      "outputs": []
    }
  ]
}